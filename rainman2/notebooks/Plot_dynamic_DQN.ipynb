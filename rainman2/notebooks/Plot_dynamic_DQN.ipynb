{
 "cells": [
  {
   "cell_type": "code",
   "execution_count": 1,
   "metadata": {},
   "outputs": [
    {
     "data": {
      "text/html": [
       "<script>requirejs.config({paths: { 'plotly': ['https://cdn.plot.ly/plotly-latest.min']},});if(!window.Plotly) {{require(['plotly'],function(plotly) {window.Plotly=plotly;});}}</script>"
      ],
      "text/vnd.plotly.v1+html": [
       "<script>requirejs.config({paths: { 'plotly': ['https://cdn.plot.ly/plotly-latest.min']},});if(!window.Plotly) {{require(['plotly'],function(plotly) {window.Plotly=plotly;});}}</script>"
      ]
     },
     "metadata": {},
     "output_type": "display_data"
    },
    {
     "name": "stdout",
     "output_type": "stream",
     "text": [
      "Rainman2's logging has been configured!\n"
     ]
    },
    {
     "name": "stderr",
     "output_type": "stream",
     "text": [
      "Using TensorFlow backend.\n"
     ]
    }
   ],
   "source": [
    "import plotly\n",
    "import plotly.graph_objs as go\n",
    "from IPython.display import display, HTML\n",
    "plotly.offline.init_notebook_mode(connected=True)\n",
    "from loadbalanceRL import RAINMAN3\n",
    "from loadbalanceRL.lib.algorithm.plot_dynamic import *"
   ]
  },
  {
   "cell_type": "code",
   "execution_count": 2,
   "metadata": {},
   "outputs": [],
   "source": [
    "from collections import OrderedDict\n",
    "ALGORITHM_CONFIG = OrderedDict(\n",
    "    EPISODES=3,\n",
    "    ALPHA=0.2,\n",
    "    GAMMA=0.9,\n",
    "    EPSILON=0.3,\n",
    "    EPSILON_DECAY=0.99,\n",
    "    EPSILON_MIN=0.01,\n",
    "    VERBOSE=True,\n",
    "    LEARNING_RATE=0.005,\n",
    "    L1_HIDDEN_UNITS=13,\n",
    "    L2_HIDDEN_UNITS=13,\n",
    "    L1_ACTIVATION='relu',\n",
    "    L2_ACTIVATION='relu',\n",
    "    LOSS_FUNCTION='mean_squared_error',\n",
    "    OPTIMIZER='Adam',\n",
    "    REPLACE_TARGET_ITER=16,\n",
    "    MEMORY_SIZE=32,\n",
    "    BATCH_SIZE=16,\n",
    ")\n",
    "\n",
    "CELLULAR_MODEL_CONFIG = OrderedDict(\n",
    "    NAME='Cellular',\n",
    "    TYPE='Dev',\n",
    "    SERVER='0.0.0.0',\n",
    "    SERVER_PORT='8000',\n",
    "    VERBOSE=True,\n",
    ")"
   ]
  },
  {
   "cell_type": "code",
   "execution_count": 3,
   "metadata": {},
   "outputs": [
    {
     "name": "stderr",
     "output_type": "stream",
     "text": [
      "2018-08-10 14:24:52,038 Mingyangs-MacBook-Pro.local Rainman2[55292] INFO Starting experiment!\n",
      "2018-08-10 14:24:52,039 Mingyangs-MacBook-Pro.local Rainman2[55292] INFO Building Environment instance: Cellular\n",
      "2018-08-10 14:24:52,040 Mingyangs-MacBook-Pro.local loadbalanceRL.lib.environment.cellular.base[55292] INFO Instantiating Cellular client: Dev\n",
      "2018-08-10 14:24:52,072 Mingyangs-MacBook-Pro.local DQNCellularAgent[55292] INFO Deep Q-Network instance for cellular network is created!\n",
      "2018-08-10 14:24:52,073 Mingyangs-MacBook-Pro.local DQNCellularAgent[55292] INFO Configuration used for the Agent in DQN:\n",
      "2018-08-10 14:24:52,074 Mingyangs-MacBook-Pro.local DQNCellularAgent[55292] INFO episodes: 3\n",
      "2018-08-10 14:24:52,074 Mingyangs-MacBook-Pro.local DQNCellularAgent[55292] INFO alpha: 0.2\n",
      "2018-08-10 14:24:52,075 Mingyangs-MacBook-Pro.local DQNCellularAgent[55292] INFO gamma: 0.9\n",
      "2018-08-10 14:24:52,076 Mingyangs-MacBook-Pro.local DQNCellularAgent[55292] INFO epsilon: 0.3\n",
      "2018-08-10 14:24:52,077 Mingyangs-MacBook-Pro.local DQNCellularAgent[55292] INFO epsilon_decay: 0.99\n",
      "2018-08-10 14:24:52,078 Mingyangs-MacBook-Pro.local DQNCellularAgent[55292] INFO epsilon_min: 0.01\n",
      "2018-08-10 14:24:52,079 Mingyangs-MacBook-Pro.local DQNCellularAgent[55292] INFO After 16 steps to replace target net\n",
      "2018-08-10 14:24:52,080 Mingyangs-MacBook-Pro.local DQNCellularAgent[55292] INFO Memory Size: 32\n",
      "2018-08-10 14:24:52,081 Mingyangs-MacBook-Pro.local DQNCellularAgent[55292] INFO Batch Size: 16\n",
      "2018-08-10 14:24:52,187 Mingyangs-MacBook-Pro.local QController[55292] INFO Agent: DQN is successfully instantiated!\n",
      "2018-08-10 14:24:52,188 Mingyangs-MacBook-Pro.local QController[55292] INFO Qlearning instance: QlearningForCellular is successfully instantiated!\n",
      "2018-08-10 14:24:52,189 Mingyangs-MacBook-Pro.local QlearningForCellular[55292] INFO Running Qlearning for Cellular Networks!\n",
      "2018-08-10 14:24:52,202 Mingyangs-MacBook-Pro.local CellularNetworkEnv[55292] INFO Resetting the env for the change position of UE!\n"
     ]
    },
    {
     "name": "stdout",
     "output_type": "stream",
     "text": [
      "_________________________________________________________________\n",
      "Layer (type)                 Output Shape              Param #   \n",
      "=================================================================\n",
      "dense_1 (Dense)              (None, 13)                104       \n",
      "_________________________________________________________________\n",
      "activation_1 (Activation)    (None, 13)                0         \n",
      "_________________________________________________________________\n",
      "dense_2 (Dense)              (None, 13)                182       \n",
      "_________________________________________________________________\n",
      "activation_2 (Activation)    (None, 13)                0         \n",
      "_________________________________________________________________\n",
      "dense_3 (Dense)              (None, 2)                 28        \n",
      "=================================================================\n",
      "Total params: 314\n",
      "Trainable params: 314\n",
      "Non-trainable params: 0\n",
      "_________________________________________________________________\n",
      "_________________________________________________________________\n",
      "Layer (type)                 Output Shape              Param #   \n",
      "=================================================================\n",
      "dense_4 (Dense)              (None, 13)                104       \n",
      "_________________________________________________________________\n",
      "activation_3 (Activation)    (None, 13)                0         \n",
      "_________________________________________________________________\n",
      "dense_5 (Dense)              (None, 13)                182       \n",
      "_________________________________________________________________\n",
      "activation_4 (Activation)    (None, 13)                0         \n",
      "_________________________________________________________________\n",
      "dense_6 (Dense)              (None, 2)                 28        \n",
      "=================================================================\n",
      "Total params: 314\n",
      "Trainable params: 314\n",
      "Non-trainable params: 0\n",
      "_________________________________________________________________\n"
     ]
    },
    {
     "name": "stderr",
     "output_type": "stream",
     "text": [
      "2018-08-10 14:24:52,669 Mingyangs-MacBook-Pro.local CellularNetworkEnv[55292] INFO Requesting network to handoff UE: 2 to new AP: 16\n",
      "2018-08-10 14:24:52,686 Mingyangs-MacBook-Pro.local CellularNetworkEnv[55292] INFO Requesting network to handoff UE: 4 to new AP: 8\n",
      "2018-08-10 14:24:52,743 Mingyangs-MacBook-Pro.local CellularNetworkEnv[55292] INFO Requesting network to handoff UE: 16 to new AP: 11\n",
      "2018-08-10 14:24:52,817 Mingyangs-MacBook-Pro.local CellularNetworkEnv[55292] INFO Requesting network to handoff UE: 32 to new AP: 15\n",
      "2018-08-10 14:24:52,864 Mingyangs-MacBook-Pro.local CellularNetworkEnv[55292] INFO Requesting network to handoff UE: 41 to new AP: 10\n",
      "2018-08-10 14:24:53,011 Mingyangs-MacBook-Pro.local CellularNetworkEnv[55292] INFO Requesting network to handoff UE: 74 to new AP: 10\n",
      "2018-08-10 14:24:53,066 Mingyangs-MacBook-Pro.local CellularNetworkEnv[55292] INFO Requesting network to handoff UE: 85 to new AP: 12\n",
      "2018-08-10 14:24:53,246 Mingyangs-MacBook-Pro.local CellularNetworkEnv[55292] INFO Requesting network to handoff UE: 126 to new AP: 8\n",
      "2018-08-10 14:24:53,298 Mingyangs-MacBook-Pro.local CellularNetworkEnv[55292] INFO Requesting network to handoff UE: 136 to new AP: 2\n",
      "2018-08-10 14:24:53,581 Mingyangs-MacBook-Pro.local CellularNetworkEnv[55292] INFO Resetting the environment after move in the 1 episode\n",
      "2018-08-10 14:24:53,582 Mingyangs-MacBook-Pro.local CellularNetworkEnv[55292] INFO Getting  numbe of 4 BRs right \n",
      "2018-08-10 14:24:54,050 Mingyangs-MacBook-Pro.local CellularNetworkEnv[55292] INFO UE: 96 is handed off from: 7 to : 12\n",
      "2018-08-10 14:24:54,107 Mingyangs-MacBook-Pro.local CellularNetworkEnv[55292] INFO UE: 107 is handed off from: 7 to : 8\n",
      "2018-08-10 14:24:54,255 Mingyangs-MacBook-Pro.local CellularNetworkEnv[55292] INFO UE: 139 is handed off from: 11 to : 7\n",
      "2018-08-10 14:24:54,273 Mingyangs-MacBook-Pro.local CellularNetworkEnv[55292] INFO UE: 141 is handed off from: 11 to : 6\n",
      "2018-08-10 14:24:54,321 Mingyangs-MacBook-Pro.local CellularNetworkEnv[55292] INFO UE: 149 is handed off from: 7 to : 6\n",
      "2018-08-10 14:24:54,509 Mingyangs-MacBook-Pro.local CellularNetworkEnv[55292] INFO UE: 188 is handed off from: 7 to : 11\n",
      "2018-08-10 14:24:54,523 Mingyangs-MacBook-Pro.local CellularNetworkEnv[55292] INFO UE: 189 is handed off from: 7 to : 11\n",
      "2018-08-10 14:24:54,576 Mingyangs-MacBook-Pro.local CellularNetworkEnv[55292] INFO Resetting the environment after move in the 2 episode\n",
      "2018-08-10 14:24:54,577 Mingyangs-MacBook-Pro.local CellularNetworkEnv[55292] INFO Getting  numbe of 4 BRs right \n",
      "2018-08-10 14:24:55,217 Mingyangs-MacBook-Pro.local CellularNetworkEnv[55292] INFO UE: 138 is handed off from: 7 to : 11\n",
      "2018-08-10 14:24:55,268 Mingyangs-MacBook-Pro.local CellularNetworkEnv[55292] INFO UE: 147 is handed off from: 6 to : 2\n",
      "2018-08-10 14:24:55,281 Mingyangs-MacBook-Pro.local CellularNetworkEnv[55292] INFO UE: 148 is handed off from: 11 to : 10\n",
      "2018-08-10 14:24:55,295 Mingyangs-MacBook-Pro.local CellularNetworkEnv[55292] INFO UE: 149 is handed off from: 6 to : 7\n",
      "2018-08-10 14:24:55,309 Mingyangs-MacBook-Pro.local CellularNetworkEnv[55292] INFO UE: 150 is handed off from: 6 to : 10\n",
      "2018-08-10 14:24:55,322 Mingyangs-MacBook-Pro.local CellularNetworkEnv[55292] INFO UE: 151 is handed off from: 7 to : 6\n",
      "2018-08-10 14:24:55,405 Mingyangs-MacBook-Pro.local CellularNetworkEnv[55292] INFO UE: 168 is handed off from: 7 to : 8\n",
      "2018-08-10 14:24:55,503 Mingyangs-MacBook-Pro.local CellularNetworkEnv[55292] INFO UE: 189 is handed off from: 11 to : 7\n",
      "2018-08-10 14:24:55,518 Mingyangs-MacBook-Pro.local CellularNetworkEnv[55292] INFO UE: 190 is handed off from: 7 to : 6\n",
      "2018-08-10 14:24:55,532 Mingyangs-MacBook-Pro.local CellularNetworkEnv[55292] INFO UE: 191 is handed off from: 11 to : 10\n",
      "2018-08-10 14:24:55,566 Mingyangs-MacBook-Pro.local CellularNetworkEnv[55292] INFO UE: 196 is handed off from: 11 to : 7\n",
      "2018-08-10 14:24:55,588 Mingyangs-MacBook-Pro.local QlearningForCellular[55292] INFO Episodes stats\n",
      "2018-08-10 14:24:55,589 Mingyangs-MacBook-Pro.local QlearningForCellular[55292] INFO Rewards: [215.25 205.75 200.75]\n",
      "2018-08-10 14:24:55,590 Mingyangs-MacBook-Pro.local QlearningForCellular[55292] INFO Handoffs: [ 9.  7. 11.]\n",
      "2018-08-10 14:24:55,591 Mingyangs-MacBook-Pro.local QlearningForCellular[55292] INFO UEs SLA Stats: [159. 143. 144.]\n"
     ]
    },
    {
     "name": "stdout",
     "output_type": "stream",
     "text": [
      "Module: run_experiment took: 4.829323s\n",
      "[<BR {'br_id': 1, 'br_type': 'road', 'location': [585, 685, 0, 1600.0], 'direction': 'NS'}>, <BR {'br_id': 2, 'br_type': 'building', 'location': [1293, 1426, 214, 315], 'direction': 'random'}>, <BR {'br_id': 3, 'br_type': 'building', 'location': [1258, 1416, 1425, 1445], 'direction': 'random'}>, <BR {'br_id': 4, 'br_type': 'road', 'location': [1052, 1152, 0, 1600.0], 'direction': 'NS'}>]\n"
     ]
    },
    {
     "name": "stderr",
     "output_type": "stream",
     "text": [
      "[========================================================================] 100%\r\n"
     ]
    }
   ],
   "source": [
    "RAINMAN3.algorithm_config = ALGORITHM_CONFIG\n",
    "RAINMAN3.environment_config = CELLULAR_MODEL_CONFIG\n",
    "result_DQN = RAINMAN3.run_experiment(\"Cellular\", \"Qlearning\", \"DQN\")\n",
    "print(result_DQN.BR_LIST)"
   ]
  },
  {
   "cell_type": "code",
   "execution_count": 4,
   "metadata": {},
   "outputs": [],
   "source": [
    "br_list = result_DQN.BR_LIST \n",
    "BR_locations=[]\n",
    "BR_locations += [x.location for x in br_list]\n",
    "Rec_dict=[]\n",
    "for i in range(len(br_list)):\n",
    "    Rec_dict.append({\n",
    "            'type': 'rect',\n",
    "            'x0': BR_locations[i][0],\n",
    "            'y0': BR_locations[i][2],\n",
    "            'x1': BR_locations[i][1],\n",
    "            'y1': BR_locations[i][3],\n",
    "            'line': {\n",
    "                'color': 'rgba(128, 0, 128, 1)',\n",
    "                'width': 2,\n",
    "            },\n",
    "            'fillcolor': 'rgba(128, 0, 128 0.1)'\n",
    "          })\n",
    "data, Frames_data, last_episode, layout_dict = plot_dynamic_data(result_DQN, Rec_dict, ALGORITHM_CONFIG['EPISODES'])\n",
    "\n"
   ]
  },
  {
   "cell_type": "code",
   "execution_count": 5,
   "metadata": {},
   "outputs": [
    {
     "data": {
      "application/vnd.plotly.v1+json": {
       "data": [
        {
         "line": {
          "color": "green",
          "width": 2
         },
         "mode": "lines",
         "type": "scatter",
         "x": [
          1000,
          945
         ],
         "y": [
          600,
          745
         ]
        },
        {
         "line": {
          "color": "green",
          "width": 2
         },
         "mode": "lines",
         "type": "scatter",
         "x": [
          1000,
          1162
         ],
         "y": [
          1400,
          1465
         ]
        },
        {
         "line": {
          "color": "green",
          "width": 2
         },
         "mode": "lines",
         "type": "scatter",
         "x": [
          600,
          689
         ],
         "y": [
          1000,
          901
         ]
        },
        {
         "line": {
          "color": "green",
          "width": 2
         },
         "mode": "lines",
         "type": "scatter",
         "x": [
          1000,
          952
         ],
         "y": [
          1400,
          1370
         ]
        },
        {
         "line": {
          "color": "green",
          "width": 2
         },
         "mode": "lines",
         "type": "scatter",
         "x": [
          600,
          392
         ],
         "y": [
          1000,
          630
         ]
        },
        {
         "line": {
          "color": "green",
          "width": 2
         },
         "mode": "lines",
         "type": "scatter",
         "x": [
          600,
          653
         ],
         "y": [
          200,
          300
         ]
        },
        {
         "line": {
          "color": "green",
          "width": 2
         },
         "mode": "lines",
         "type": "scatter",
         "x": [
          1000,
          1013
         ],
         "y": [
          600,
          567
         ]
        },
        {
         "line": {
          "color": "red",
          "width": 2
         },
         "mode": "lines",
         "type": "scatter",
         "x": [
          1000,
          889
         ],
         "y": [
          1000,
          762
         ]
        },
        {
         "line": {
          "color": "green",
          "width": 2
         },
         "mode": "lines",
         "type": "scatter",
         "x": [
          200,
          114
         ],
         "y": [
          1000,
          1386
         ]
        },
        {
         "line": {
          "color": "green",
          "width": 2
         },
         "mode": "lines",
         "type": "scatter",
         "x": [
          1000,
          925
         ],
         "y": [
          200,
          324
         ]
        },
        {
         "line": {
          "color": "green",
          "width": 2
         },
         "mode": "lines",
         "type": "scatter",
         "x": [
          200,
          63
         ],
         "y": [
          600,
          354
         ]
        },
        {
         "line": {
          "color": "green",
          "width": 2
         },
         "mode": "lines",
         "type": "scatter",
         "x": [
          200,
          123
         ],
         "y": [
          1000,
          1031
         ]
        },
        {
         "line": {
          "color": "green",
          "width": 2
         },
         "mode": "lines",
         "type": "scatter",
         "x": [
          1400,
          1289
         ],
         "y": [
          600,
          505
         ]
        },
        {
         "line": {
          "color": "green",
          "width": 2
         },
         "mode": "lines",
         "type": "scatter",
         "x": [
          200,
          141
         ],
         "y": [
          200,
          517
         ]
        },
        {
         "line": {
          "color": "green",
          "width": 2
         },
         "mode": "lines",
         "type": "scatter",
         "x": [
          1000,
          900
         ],
         "y": [
          600,
          436
         ]
        },
        {
         "line": {
          "color": "red",
          "width": 2
         },
         "mode": "lines",
         "type": "scatter",
         "x": [
          600,
          842
         ],
         "y": [
          1000,
          794
         ]
        },
        {
         "line": {
          "color": "green",
          "width": 2
         },
         "mode": "lines",
         "type": "scatter",
         "x": [
          600,
          730
         ],
         "y": [
          600,
          666
         ]
        },
        {
         "line": {
          "color": "green",
          "width": 2
         },
         "mode": "lines",
         "type": "scatter",
         "x": [
          600,
          455
         ],
         "y": [
          600,
          834
         ]
        },
        {
         "line": {
          "color": "green",
          "width": 2
         },
         "mode": "lines",
         "type": "scatter",
         "x": [
          600,
          704
         ],
         "y": [
          1000,
          1049
         ]
        },
        {
         "line": {
          "color": "green",
          "width": 2
         },
         "mode": "lines",
         "type": "scatter",
         "x": [
          200,
          235
         ],
         "y": [
          1400,
          1570
         ]
        },
        {
         "line": {
          "color": "green",
          "width": 2
         },
         "mode": "lines",
         "type": "scatter",
         "x": [
          600,
          469
         ],
         "y": [
          600,
          378
         ]
        },
        {
         "line": {
          "color": "green",
          "width": 2
         },
         "mode": "lines",
         "type": "scatter",
         "x": [
          1000,
          1183
         ],
         "y": [
          600,
          779
         ]
        },
        {
         "line": {
          "color": "green",
          "width": 2
         },
         "mode": "lines",
         "type": "scatter",
         "x": [
          1000,
          1185
         ],
         "y": [
          1000,
          1298
         ]
        },
        {
         "line": {
          "color": "green",
          "width": 2
         },
         "mode": "lines",
         "type": "scatter",
         "x": [
          1400,
          1041
         ],
         "y": [
          600,
          555
         ]
        },
        {
         "line": {
          "color": "green",
          "width": 2
         },
         "mode": "lines",
         "type": "scatter",
         "x": [
          1000,
          1245
         ],
         "y": [
          600,
          423
         ]
        },
        {
         "line": {
          "color": "green",
          "width": 2
         },
         "mode": "lines",
         "type": "scatter",
         "x": [
          1400,
          1355
         ],
         "y": [
          600,
          693
         ]
        },
        {
         "line": {
          "color": "green",
          "width": 2
         },
         "mode": "lines",
         "type": "scatter",
         "x": [
          1000,
          978
         ],
         "y": [
          1000,
          1089
         ]
        },
        {
         "line": {
          "color": "green",
          "width": 2
         },
         "mode": "lines",
         "type": "scatter",
         "x": [
          1400,
          1447
         ],
         "y": [
          1400,
          1560
         ]
        },
        {
         "line": {
          "color": "green",
          "width": 2
         },
         "mode": "lines",
         "type": "scatter",
         "x": [
          1000,
          1161
         ],
         "y": [
          600,
          588
         ]
        },
        {
         "line": {
          "color": "green",
          "width": 2
         },
         "mode": "lines",
         "type": "scatter",
         "x": [
          1000,
          849
         ],
         "y": [
          1000,
          807
         ]
        },
        {
         "line": {
          "color": "green",
          "width": 2
         },
         "mode": "lines",
         "type": "scatter",
         "x": [
          200,
          168
         ],
         "y": [
          600,
          523
         ]
        },
        {
         "line": {
          "color": "green",
          "width": 2
         },
         "mode": "lines",
         "type": "scatter",
         "x": [
          1400,
          1453
         ],
         "y": [
          1400,
          1311
         ]
        },
        {
         "line": {
          "color": "green",
          "width": 2
         },
         "mode": "lines",
         "type": "scatter",
         "x": [
          1400,
          1579
         ],
         "y": [
          1000,
          971
         ]
        },
        {
         "line": {
          "color": "green",
          "width": 2
         },
         "mode": "lines",
         "type": "scatter",
         "x": [
          1400,
          1496
         ],
         "y": [
          600,
          328
         ]
        },
        {
         "line": {
          "color": "green",
          "width": 2
         },
         "mode": "lines",
         "type": "scatter",
         "x": [
          600,
          607
         ],
         "y": [
          1000,
          989
         ]
        },
        {
         "line": {
          "color": "green",
          "width": 2
         },
         "mode": "lines",
         "type": "scatter",
         "x": [
          600,
          363
         ],
         "y": [
          1000,
          778
         ]
        },
        {
         "line": {
          "color": "green",
          "width": 2
         },
         "mode": "lines",
         "type": "scatter",
         "x": [
          600,
          891
         ],
         "y": [
          1000,
          1193
         ]
        },
        {
         "line": {
          "color": "green",
          "width": 2
         },
         "mode": "lines",
         "type": "scatter",
         "x": [
          200,
          62
         ],
         "y": [
          1400,
          1401
         ]
        },
        {
         "line": {
          "color": "green",
          "width": 2
         },
         "mode": "lines",
         "type": "scatter",
         "x": [
          200,
          130
         ],
         "y": [
          600,
          642
         ]
        },
        {
         "line": {
          "color": "green",
          "width": 2
         },
         "mode": "lines",
         "type": "scatter",
         "x": [
          200,
          147
         ],
         "y": [
          1400,
          1212
         ]
        },
        {
         "line": {
          "color": "green",
          "width": 2
         },
         "mode": "lines",
         "type": "scatter",
         "x": [
          1000,
          864
         ],
         "y": [
          1000,
          957
         ]
        },
        {
         "line": {
          "color": "green",
          "width": 2
         },
         "mode": "lines",
         "type": "scatter",
         "x": [
          1000,
          935
         ],
         "y": [
          600,
          629
         ]
        },
        {
         "line": {
          "color": "green",
          "width": 2
         },
         "mode": "lines",
         "type": "scatter",
         "x": [
          600,
          566
         ],
         "y": [
          600,
          763
         ]
        },
        {
         "line": {
          "color": "green",
          "width": 2
         },
         "mode": "lines",
         "type": "scatter",
         "x": [
          200,
          35
         ],
         "y": [
          1000,
          922
         ]
        },
        {
         "line": {
          "color": "red",
          "width": 2
         },
         "mode": "lines",
         "type": "scatter",
         "x": [
          1000,
          733
         ],
         "y": [
          600,
          647
         ]
        },
        {
         "line": {
          "color": "green",
          "width": 2
         },
         "mode": "lines",
         "type": "scatter",
         "x": [
          1000,
          1045
         ],
         "y": [
          600,
          505
         ]
        },
        {
         "line": {
          "color": "green",
          "width": 2
         },
         "mode": "lines",
         "type": "scatter",
         "x": [
          1000,
          716
         ],
         "y": [
          1000,
          721
         ]
        },
        {
         "line": {
          "color": "green",
          "width": 2
         },
         "mode": "lines",
         "type": "scatter",
         "x": [
          1000,
          947
         ],
         "y": [
          600,
          513
         ]
        },
        {
         "line": {
          "color": "green",
          "width": 2
         },
         "mode": "lines",
         "type": "scatter",
         "x": [
          1000,
          638
         ],
         "y": [
          600,
          517
         ]
        },
        {
         "line": {
          "color": "green",
          "width": 2
         },
         "mode": "lines",
         "type": "scatter",
         "x": [
          200,
          354
         ],
         "y": [
          200,
          185
         ]
        },
        {
         "line": {
          "color": "green",
          "width": 2
         },
         "mode": "lines",
         "type": "scatter",
         "x": [
          600,
          471
         ],
         "y": [
          200,
          214
         ]
        },
        {
         "line": {
          "color": "green",
          "width": 2
         },
         "mode": "lines",
         "type": "scatter",
         "x": [
          200,
          297
         ],
         "y": [
          200,
          351
         ]
        },
        {
         "line": {
          "color": "green",
          "width": 2
         },
         "mode": "lines",
         "type": "scatter",
         "x": [
          1000,
          1186
         ],
         "y": [
          1400,
          1425
         ]
        },
        {
         "line": {
          "color": "green",
          "width": 2
         },
         "mode": "lines",
         "type": "scatter",
         "x": [
          600,
          509
         ],
         "y": [
          600,
          656
         ]
        },
        {
         "line": {
          "color": "green",
          "width": 2
         },
         "mode": "lines",
         "type": "scatter",
         "x": [
          600,
          641
         ],
         "y": [
          600,
          679
         ]
        },
        {
         "line": {
          "color": "green",
          "width": 2
         },
         "mode": "lines",
         "type": "scatter",
         "x": [
          1000,
          1130
         ],
         "y": [
          1000,
          1005
         ]
        },
        {
         "line": {
          "color": "green",
          "width": 2
         },
         "mode": "lines",
         "type": "scatter",
         "x": [
          1400,
          1560
         ],
         "y": [
          200,
          482
         ]
        },
        {
         "line": {
          "color": "green",
          "width": 2
         },
         "mode": "lines",
         "type": "scatter",
         "x": [
          1000,
          934
         ],
         "y": [
          1000,
          1165
         ]
        },
        {
         "line": {
          "color": "green",
          "width": 2
         },
         "mode": "lines",
         "type": "scatter",
         "x": [
          1000,
          811
         ],
         "y": [
          1000,
          1085
         ]
        },
        {
         "line": {
          "color": "green",
          "width": 2
         },
         "mode": "lines",
         "type": "scatter",
         "x": [
          1400,
          1488
         ],
         "y": [
          600,
          796
         ]
        },
        {
         "line": {
          "color": "green",
          "width": 2
         },
         "mode": "lines",
         "type": "scatter",
         "x": [
          600,
          585
         ],
         "y": [
          600,
          664
         ]
        },
        {
         "line": {
          "color": "green",
          "width": 2
         },
         "mode": "lines",
         "type": "scatter",
         "x": [
          200,
          57
         ],
         "y": [
          200,
          311
         ]
        },
        {
         "line": {
          "color": "green",
          "width": 2
         },
         "mode": "lines",
         "type": "scatter",
         "x": [
          1400,
          1129
         ],
         "y": [
          200,
          181
         ]
        },
        {
         "line": {
          "color": "green",
          "width": 2
         },
         "mode": "lines",
         "type": "scatter",
         "x": [
          1400,
          1409
         ],
         "y": [
          1000,
          1133
         ]
        },
        {
         "line": {
          "color": "green",
          "width": 2
         },
         "mode": "lines",
         "type": "scatter",
         "x": [
          600,
          671
         ],
         "y": [
          600,
          534
         ]
        },
        {
         "line": {
          "color": "green",
          "width": 2
         },
         "mode": "lines",
         "type": "scatter",
         "x": [
          1000,
          1049
         ],
         "y": [
          600,
          448
         ]
        },
        {
         "line": {
          "color": "green",
          "width": 2
         },
         "mode": "lines",
         "type": "scatter",
         "x": [
          200,
          147
         ],
         "y": [
          200,
          90
         ]
        },
        {
         "line": {
          "color": "green",
          "width": 2
         },
         "mode": "lines",
         "type": "scatter",
         "x": [
          600,
          445
         ],
         "y": [
          200,
          278
         ]
        },
        {
         "line": {
          "color": "green",
          "width": 2
         },
         "mode": "lines",
         "type": "scatter",
         "x": [
          200,
          553
         ],
         "y": [
          200,
          531
         ]
        },
        {
         "line": {
          "color": "green",
          "width": 2
         },
         "mode": "lines",
         "type": "scatter",
         "x": [
          1400,
          1588
         ],
         "y": [
          1000,
          864
         ]
        },
        {
         "line": {
          "color": "green",
          "width": 2
         },
         "mode": "lines",
         "type": "scatter",
         "x": [
          1000,
          1074
         ],
         "y": [
          1000,
          943
         ]
        },
        {
         "line": {
          "color": "green",
          "width": 2
         },
         "mode": "lines",
         "type": "scatter",
         "x": [
          200,
          187
         ],
         "y": [
          1400,
          1544
         ]
        },
        {
         "line": {
          "color": "green",
          "width": 2
         },
         "mode": "lines",
         "type": "scatter",
         "x": [
          1400,
          1208
         ],
         "y": [
          600,
          791
         ]
        },
        {
         "line": {
          "color": "green",
          "width": 2
         },
         "mode": "lines",
         "type": "scatter",
         "x": [
          1000,
          1032
         ],
         "y": [
          1000,
          962
         ]
        },
        {
         "line": {
          "color": "green",
          "width": 2
         },
         "mode": "lines",
         "type": "scatter",
         "x": [
          1400,
          1325
         ],
         "y": [
          200,
          283
         ]
        },
        {
         "line": {
          "color": "green",
          "width": 2
         },
         "mode": "lines",
         "type": "scatter",
         "x": [
          200,
          58
         ],
         "y": [
          1400,
          1297
         ]
        },
        {
         "line": {
          "color": "green",
          "width": 2
         },
         "mode": "lines",
         "type": "scatter",
         "x": [
          600,
          563
         ],
         "y": [
          1000,
          967
         ]
        },
        {
         "line": {
          "color": "green",
          "width": 2
         },
         "mode": "lines",
         "type": "scatter",
         "x": [
          1400,
          1461
         ],
         "y": [
          1000,
          1000
         ]
        },
        {
         "line": {
          "color": "green",
          "width": 2
         },
         "mode": "lines",
         "type": "scatter",
         "x": [
          1000,
          893
         ],
         "y": [
          200,
          333
         ]
        },
        {
         "line": {
          "color": "green",
          "width": 2
         },
         "mode": "lines",
         "type": "scatter",
         "x": [
          1400,
          1243
         ],
         "y": [
          1000,
          1179
         ]
        },
        {
         "line": {
          "color": "green",
          "width": 2
         },
         "mode": "lines",
         "type": "scatter",
         "x": [
          600,
          706
         ],
         "y": [
          1400,
          1323
         ]
        },
        {
         "line": {
          "color": "green",
          "width": 2
         },
         "mode": "lines",
         "type": "scatter",
         "x": [
          1400,
          1391
         ],
         "y": [
          1400,
          1536
         ]
        },
        {
         "line": {
          "color": "green",
          "width": 2
         },
         "mode": "lines",
         "type": "scatter",
         "x": [
          600,
          428
         ],
         "y": [
          200,
          247
         ]
        },
        {
         "line": {
          "color": "green",
          "width": 2
         },
         "mode": "lines",
         "type": "scatter",
         "x": [
          600,
          445
         ],
         "y": [
          600,
          684
         ]
        },
        {
         "line": {
          "color": "green",
          "width": 2
         },
         "mode": "lines",
         "type": "scatter",
         "x": [
          600,
          829
         ],
         "y": [
          1400,
          1415
         ]
        },
        {
         "line": {
          "color": "green",
          "width": 2
         },
         "mode": "lines",
         "type": "scatter",
         "x": [
          1000,
          1090
         ],
         "y": [
          1000,
          841
         ]
        },
        {
         "line": {
          "color": "green",
          "width": 2
         },
         "mode": "lines",
         "type": "scatter",
         "x": [
          1000,
          945
         ],
         "y": [
          600,
          573
         ]
        },
        {
         "line": {
          "color": "green",
          "width": 2
         },
         "mode": "lines",
         "type": "scatter",
         "x": [
          200,
          256
         ],
         "y": [
          200,
          226
         ]
        },
        {
         "line": {
          "color": "green",
          "width": 2
         },
         "mode": "lines",
         "type": "scatter",
         "x": [
          1000,
          1311
         ],
         "y": [
          1000,
          793
         ]
        },
        {
         "line": {
          "color": "green",
          "width": 2
         },
         "mode": "lines",
         "type": "scatter",
         "x": [
          1400,
          1467
         ],
         "y": [
          1400,
          1298
         ]
        },
        {
         "line": {
          "color": "green",
          "width": 2
         },
         "mode": "lines",
         "type": "scatter",
         "x": [
          200,
          196
         ],
         "y": [
          1400,
          1323
         ]
        },
        {
         "line": {
          "color": "green",
          "width": 2
         },
         "mode": "lines",
         "type": "scatter",
         "x": [
          200,
          48
         ],
         "y": [
          1000,
          1023
         ]
        },
        {
         "line": {
          "color": "green",
          "width": 2
         },
         "mode": "lines",
         "type": "scatter",
         "x": [
          600,
          792
         ],
         "y": [
          1400,
          1479
         ]
        },
        {
         "line": {
          "color": "green",
          "width": 2
         },
         "mode": "lines",
         "type": "scatter",
         "x": [
          600,
          603
         ],
         "y": [
          1000,
          915
         ]
        },
        {
         "line": {
          "color": "green",
          "width": 2
         },
         "mode": "lines",
         "type": "scatter",
         "x": [
          600,
          607
         ],
         "y": [
          600,
          618
         ]
        },
        {
         "line": {
          "color": "green",
          "width": 2
         },
         "mode": "lines",
         "type": "scatter",
         "x": [
          600,
          758
         ],
         "y": [
          1000,
          1165
         ]
        },
        {
         "line": {
          "color": "green",
          "width": 2
         },
         "mode": "lines",
         "type": "scatter",
         "x": [
          1000,
          971
         ],
         "y": [
          200,
          95
         ]
        },
        {
         "line": {
          "color": "green",
          "width": 2
         },
         "mode": "lines",
         "type": "scatter",
         "x": [
          1000,
          1056
         ],
         "y": [
          600,
          630
         ]
        },
        {
         "line": {
          "color": "green",
          "width": 2
         },
         "mode": "lines",
         "type": "scatter",
         "x": [
          1000,
          1023
         ],
         "y": [
          600,
          671
         ]
        },
        {
         "line": {
          "color": "green",
          "width": 2
         },
         "mode": "lines",
         "type": "scatter",
         "x": [
          600,
          417
         ],
         "y": [
          600,
          705
         ]
        },
        {
         "line": {
          "color": "green",
          "width": 2
         },
         "mode": "lines",
         "type": "scatter",
         "x": [
          600,
          518
         ],
         "y": [
          200,
          187
         ]
        },
        {
         "line": {
          "color": "green",
          "width": 2
         },
         "mode": "lines",
         "type": "scatter",
         "x": [
          1400,
          1254
         ],
         "y": [
          1000,
          1026
         ]
        },
        {
         "line": {
          "color": "red",
          "width": 2
         },
         "mode": "lines",
         "type": "scatter",
         "x": [
          600,
          773
         ],
         "y": [
          600,
          987
         ]
        },
        {
         "line": {
          "color": "green",
          "width": 2
         },
         "mode": "lines",
         "type": "scatter",
         "x": [
          1000,
          950
         ],
         "y": [
          1400,
          1455
         ]
        },
        {
         "line": {
          "color": "green",
          "width": 2
         },
         "mode": "lines",
         "type": "scatter",
         "x": [
          600,
          526
         ],
         "y": [
          1000,
          1014
         ]
        },
        {
         "line": {
          "color": "green",
          "width": 2
         },
         "mode": "lines",
         "type": "scatter",
         "x": [
          200,
          246
         ],
         "y": [
          1400,
          1147
         ]
        },
        {
         "line": {
          "color": "green",
          "width": 2
         },
         "mode": "lines",
         "type": "scatter",
         "x": [
          600,
          796
         ],
         "y": [
          1000,
          1098
         ]
        },
        {
         "line": {
          "color": "red",
          "width": 2
         },
         "mode": "lines",
         "type": "scatter",
         "x": [
          1000,
          1090
         ],
         "y": [
          1000,
          765
         ]
        },
        {
         "line": {
          "color": "green",
          "width": 2
         },
         "mode": "lines",
         "type": "scatter",
         "x": [
          1000,
          1039
         ],
         "y": [
          1000,
          1008
         ]
        },
        {
         "line": {
          "color": "green",
          "width": 2
         },
         "mode": "lines",
         "type": "scatter",
         "x": [
          200,
          204
         ],
         "y": [
          600,
          617
         ]
        },
        {
         "line": {
          "color": "red",
          "width": 2
         },
         "mode": "lines",
         "type": "scatter",
         "x": [
          600,
          804
         ],
         "y": [
          600,
          597
         ]
        },
        {
         "line": {
          "color": "green",
          "width": 2
         },
         "mode": "lines",
         "type": "scatter",
         "x": [
          600,
          819
         ],
         "y": [
          1000,
          1148
         ]
        },
        {
         "line": {
          "color": "green",
          "width": 2
         },
         "mode": "lines",
         "type": "scatter",
         "x": [
          200,
          365
         ],
         "y": [
          1400,
          1417
         ]
        },
        {
         "line": {
          "color": "red",
          "width": 2
         },
         "mode": "lines",
         "type": "scatter",
         "x": [
          1000,
          702
         ],
         "y": [
          1000,
          937
         ]
        },
        {
         "line": {
          "color": "green",
          "width": 2
         },
         "mode": "lines",
         "type": "scatter",
         "x": [
          200,
          93
         ],
         "y": [
          600,
          768
         ]
        },
        {
         "line": {
          "color": "red",
          "width": 2
         },
         "mode": "lines",
         "type": "scatter",
         "x": [
          600,
          809
         ],
         "y": [
          600,
          577
         ]
        },
        {
         "line": {
          "color": "green",
          "width": 2
         },
         "mode": "lines",
         "type": "scatter",
         "x": [
          600,
          646
         ],
         "y": [
          200,
          42
         ]
        },
        {
         "line": {
          "color": "green",
          "width": 2
         },
         "mode": "lines",
         "type": "scatter",
         "x": [
          1000,
          1001
         ],
         "y": [
          1400,
          1449
         ]
        },
        {
         "line": {
          "color": "green",
          "width": 2
         },
         "mode": "lines",
         "type": "scatter",
         "x": [
          1000,
          1096
         ],
         "y": [
          200,
          498
         ]
        },
        {
         "line": {
          "color": "green",
          "width": 2
         },
         "mode": "lines",
         "type": "scatter",
         "x": [
          600,
          515
         ],
         "y": [
          600,
          771
         ]
        },
        {
         "line": {
          "color": "green",
          "width": 2
         },
         "mode": "lines",
         "type": "scatter",
         "x": [
          200,
          305
         ],
         "y": [
          1400,
          1584
         ]
        },
        {
         "line": {
          "color": "green",
          "width": 2
         },
         "mode": "lines",
         "type": "scatter",
         "x": [
          200,
          330
         ],
         "y": [
          200,
          320
         ]
        },
        {
         "line": {
          "color": "green",
          "width": 2
         },
         "mode": "lines",
         "type": "scatter",
         "x": [
          1000,
          1072
         ],
         "y": [
          1000,
          826
         ]
        },
        {
         "line": {
          "color": "red",
          "width": 2
         },
         "mode": "lines",
         "type": "scatter",
         "x": [
          600,
          502
         ],
         "y": [
          600,
          687
         ]
        },
        {
         "line": {
          "color": "red",
          "width": 2
         },
         "mode": "lines",
         "type": "scatter",
         "x": [
          1000,
          964
         ],
         "y": [
          1000,
          888
         ]
        },
        {
         "line": {
          "color": "green",
          "width": 2
         },
         "mode": "lines",
         "type": "scatter",
         "x": [
          600,
          724
         ],
         "y": [
          1000,
          1124
         ]
        },
        {
         "line": {
          "color": "green",
          "width": 2
         },
         "mode": "lines",
         "type": "scatter",
         "x": [
          200,
          390
         ],
         "y": [
          200,
          198
         ]
        },
        {
         "line": {
          "color": "green",
          "width": 2
         },
         "mode": "lines",
         "type": "scatter",
         "x": [
          1400,
          1419
         ],
         "y": [
          1400,
          1574
         ]
        },
        {
         "line": {
          "color": "red",
          "width": 2
         },
         "mode": "lines",
         "type": "scatter",
         "x": [
          1000,
          1044
         ],
         "y": [
          1000,
          989
         ]
        },
        {
         "line": {
          "color": "red",
          "width": 2
         },
         "mode": "lines",
         "type": "scatter",
         "x": [
          1000,
          816
         ],
         "y": [
          1000,
          829
         ]
        },
        {
         "line": {
          "color": "red",
          "width": 2
         },
         "mode": "lines",
         "type": "scatter",
         "x": [
          600,
          741
         ],
         "y": [
          1000,
          860
         ]
        },
        {
         "line": {
          "color": "red",
          "width": 2
         },
         "mode": "lines",
         "type": "scatter",
         "x": [
          1000,
          907
         ],
         "y": [
          600,
          675
         ]
        },
        {
         "line": {
          "color": "green",
          "width": 2
         },
         "mode": "lines",
         "type": "scatter",
         "x": [
          600,
          679
         ],
         "y": [
          200,
          276
         ]
        },
        {
         "line": {
          "color": "green",
          "width": 2
         },
         "mode": "lines",
         "type": "scatter",
         "x": [
          1400,
          1035
         ],
         "y": [
          1000,
          851
         ]
        },
        {
         "line": {
          "color": "green",
          "width": 2
         },
         "mode": "lines",
         "type": "scatter",
         "x": [
          200,
          332
         ],
         "y": [
          1000,
          985
         ]
        },
        {
         "line": {
          "color": "green",
          "width": 2
         },
         "mode": "lines",
         "type": "scatter",
         "x": [
          600,
          523
         ],
         "y": [
          1000,
          888
         ]
        },
        {
         "line": {
          "color": "green",
          "width": 2
         },
         "mode": "lines",
         "type": "scatter",
         "x": [
          1000,
          962
         ],
         "y": [
          600,
          797
         ]
        },
        {
         "line": {
          "color": "red",
          "width": 2
         },
         "mode": "lines",
         "type": "scatter",
         "x": [
          600,
          753
         ],
         "y": [
          1000,
          999
         ]
        },
        {
         "line": {
          "color": "red",
          "width": 2
         },
         "mode": "lines",
         "type": "scatter",
         "x": [
          1000,
          893
         ],
         "y": [
          1000,
          1090
         ]
        },
        {
         "line": {
          "color": "green",
          "width": 2
         },
         "mode": "lines",
         "type": "scatter",
         "x": [
          1000,
          1318
         ],
         "y": [
          1000,
          731
         ]
        },
        {
         "line": {
          "color": "red",
          "width": 2
         },
         "mode": "lines",
         "type": "scatter",
         "x": [
          1000,
          662
         ],
         "y": [
          1000,
          746
         ]
        },
        {
         "line": {
          "color": "red",
          "width": 2
         },
         "mode": "lines",
         "type": "scatter",
         "x": [
          1000,
          877
         ],
         "y": [
          600,
          650
         ]
        },
        {
         "line": {
          "color": "red",
          "width": 2
         },
         "mode": "lines",
         "type": "scatter",
         "x": [
          600,
          540
         ],
         "y": [
          600,
          569
         ]
        },
        {
         "line": {
          "color": "green",
          "width": 2
         },
         "mode": "lines",
         "type": "scatter",
         "x": [
          200,
          8
         ],
         "y": [
          1400,
          1368
         ]
        },
        {
         "line": {
          "color": "green",
          "width": 2
         },
         "mode": "lines",
         "type": "scatter",
         "x": [
          1000,
          938
         ],
         "y": [
          600,
          732
         ]
        },
        {
         "line": {
          "color": "green",
          "width": 2
         },
         "mode": "lines",
         "type": "scatter",
         "x": [
          1400,
          1571
         ],
         "y": [
          1000,
          973
         ]
        },
        {
         "line": {
          "color": "red",
          "width": 2
         },
         "mode": "lines",
         "type": "scatter",
         "x": [
          600,
          535
         ],
         "y": [
          600,
          545
         ]
        },
        {
         "line": {
          "color": "red",
          "width": 2
         },
         "mode": "lines",
         "type": "scatter",
         "x": [
          1000,
          967
         ],
         "y": [
          1000,
          951
         ]
        },
        {
         "line": {
          "color": "red",
          "width": 2
         },
         "mode": "lines",
         "type": "scatter",
         "x": [
          600,
          583
         ],
         "y": [
          1000,
          741
         ]
        },
        {
         "line": {
          "color": "red",
          "width": 2
         },
         "mode": "lines",
         "type": "scatter",
         "x": [
          600,
          624
         ],
         "y": [
          600,
          533
         ]
        },
        {
         "line": {
          "color": "red",
          "width": 2
         },
         "mode": "lines",
         "type": "scatter",
         "x": [
          600,
          573
         ],
         "y": [
          1000,
          756
         ]
        },
        {
         "line": {
          "color": "red",
          "width": 2
         },
         "mode": "lines",
         "type": "scatter",
         "x": [
          200,
          525
         ],
         "y": [
          600,
          750
         ]
        },
        {
         "line": {
          "color": "green",
          "width": 2
         },
         "mode": "lines",
         "type": "scatter",
         "x": [
          200,
          313
         ],
         "y": [
          1000,
          1117
         ]
        },
        {
         "line": {
          "color": "green",
          "width": 2
         },
         "mode": "lines",
         "type": "scatter",
         "x": [
          1000,
          1219
         ],
         "y": [
          1000,
          1104
         ]
        },
        {
         "line": {
          "color": "green",
          "width": 2
         },
         "mode": "lines",
         "type": "scatter",
         "x": [
          200,
          188
         ],
         "y": [
          1400,
          1370
         ]
        },
        {
         "line": {
          "color": "red",
          "width": 2
         },
         "mode": "lines",
         "type": "scatter",
         "x": [
          1000,
          817
         ],
         "y": [
          600,
          767
         ]
        },
        {
         "line": {
          "color": "green",
          "width": 2
         },
         "mode": "lines",
         "type": "scatter",
         "x": [
          600,
          579
         ],
         "y": [
          200,
          116
         ]
        },
        {
         "line": {
          "color": "green",
          "width": 2
         },
         "mode": "lines",
         "type": "scatter",
         "x": [
          1000,
          1062
         ],
         "y": [
          200,
          8
         ]
        },
        {
         "line": {
          "color": "red",
          "width": 2
         },
         "mode": "lines",
         "type": "scatter",
         "x": [
          1000,
          966
         ],
         "y": [
          600,
          771
         ]
        },
        {
         "line": {
          "color": "red",
          "width": 2
         },
         "mode": "lines",
         "type": "scatter",
         "x": [
          600,
          877
         ],
         "y": [
          1000,
          1025
         ]
        },
        {
         "line": {
          "color": "red",
          "width": 2
         },
         "mode": "lines",
         "type": "scatter",
         "x": [
          1000,
          653
         ],
         "y": [
          600,
          762
         ]
        },
        {
         "line": {
          "color": "red",
          "width": 2
         },
         "mode": "lines",
         "type": "scatter",
         "x": [
          600,
          508
         ],
         "y": [
          600,
          716
         ]
        },
        {
         "line": {
          "color": "green",
          "width": 2
         },
         "mode": "lines",
         "type": "scatter",
         "x": [
          200,
          214
         ],
         "y": [
          600,
          421
         ]
        },
        {
         "line": {
          "color": "green",
          "width": 2
         },
         "mode": "lines",
         "type": "scatter",
         "x": [
          1000,
          832
         ],
         "y": [
          1400,
          1310
         ]
        },
        {
         "line": {
          "color": "green",
          "width": 2
         },
         "mode": "lines",
         "type": "scatter",
         "x": [
          200,
          457
         ],
         "y": [
          600,
          817
         ]
        },
        {
         "line": {
          "color": "red",
          "width": 2
         },
         "mode": "lines",
         "type": "scatter",
         "x": [
          600,
          754
         ],
         "y": [
          1000,
          864
         ]
        },
        {
         "line": {
          "color": "green",
          "width": 2
         },
         "mode": "lines",
         "type": "scatter",
         "x": [
          1400,
          1464
         ],
         "y": [
          200,
          354
         ]
        },
        {
         "line": {
          "color": "red",
          "width": 2
         },
         "mode": "lines",
         "type": "scatter",
         "x": [
          600,
          590
         ],
         "y": [
          1000,
          935
         ]
        },
        {
         "line": {
          "color": "green",
          "width": 2
         },
         "mode": "lines",
         "type": "scatter",
         "x": [
          200,
          428
         ],
         "y": [
          600,
          287
         ]
        },
        {
         "line": {
          "color": "green",
          "width": 2
         },
         "mode": "lines",
         "type": "scatter",
         "x": [
          1000,
          1002
         ],
         "y": [
          1400,
          1097
         ]
        },
        {
         "line": {
          "color": "green",
          "width": 2
         },
         "mode": "lines",
         "type": "scatter",
         "x": [
          1000,
          845
         ],
         "y": [
          1000,
          818
         ]
        },
        {
         "line": {
          "color": "green",
          "width": 2
         },
         "mode": "lines",
         "type": "scatter",
         "x": [
          600,
          496
         ],
         "y": [
          1400,
          1420
         ]
        },
        {
         "line": {
          "color": "green",
          "width": 2
         },
         "mode": "lines",
         "type": "scatter",
         "x": [
          1400,
          1397
         ],
         "y": [
          200,
          386
         ]
        },
        {
         "line": {
          "color": "red",
          "width": 2
         },
         "mode": "lines",
         "type": "scatter",
         "x": [
          1000,
          800
         ],
         "y": [
          600,
          800
         ]
        },
        {
         "line": {
          "color": "green",
          "width": 2
         },
         "mode": "lines",
         "type": "scatter",
         "x": [
          200,
          237
         ],
         "y": [
          1400,
          1481
         ]
        },
        {
         "line": {
          "color": "green",
          "width": 2
         },
         "mode": "lines",
         "type": "scatter",
         "x": [
          1400,
          1486
         ],
         "y": [
          1000,
          1131
         ]
        },
        {
         "line": {
          "color": "green",
          "width": 2
         },
         "mode": "lines",
         "type": "scatter",
         "x": [
          200,
          2
         ],
         "y": [
          600,
          554
         ]
        },
        {
         "line": {
          "color": "green",
          "width": 2
         },
         "mode": "lines",
         "type": "scatter",
         "x": [
          1400,
          1453
         ],
         "y": [
          200,
          96
         ]
        },
        {
         "line": {
          "color": "green",
          "width": 2
         },
         "mode": "lines",
         "type": "scatter",
         "x": [
          600,
          469
         ],
         "y": [
          200,
          157
         ]
        },
        {
         "line": {
          "color": "green",
          "width": 2
         },
         "mode": "lines",
         "type": "scatter",
         "x": [
          200,
          170
         ],
         "y": [
          600,
          503
         ]
        },
        {
         "line": {
          "color": "red",
          "width": 2
         },
         "mode": "lines",
         "type": "scatter",
         "x": [
          600,
          929
         ],
         "y": [
          1000,
          1013
         ]
        },
        {
         "line": {
          "color": "red",
          "width": 2
         },
         "mode": "lines",
         "type": "scatter",
         "x": [
          600,
          670
         ],
         "y": [
          600,
          565
         ]
        },
        {
         "line": {
          "color": "green",
          "width": 2
         },
         "mode": "lines",
         "type": "scatter",
         "x": [
          200,
          112
         ],
         "y": [
          600,
          743
         ]
        },
        {
         "line": {
          "color": "green",
          "width": 2
         },
         "mode": "lines",
         "type": "scatter",
         "x": [
          600,
          632
         ],
         "y": [
          200,
          179
         ]
        },
        {
         "line": {
          "color": "green",
          "width": 2
         },
         "mode": "lines",
         "type": "scatter",
         "x": [
          1400,
          1299
         ],
         "y": [
          1400,
          1214
         ]
        },
        {
         "line": {
          "color": "green",
          "width": 2
         },
         "mode": "lines",
         "type": "scatter",
         "x": [
          1400,
          1591
         ],
         "y": [
          1000,
          1013
         ]
        },
        {
         "line": {
          "color": "green",
          "width": 2
         },
         "mode": "lines",
         "type": "scatter",
         "x": [
          1400,
          1468
         ],
         "y": [
          1400,
          1431
         ]
        },
        {
         "line": {
          "color": "red",
          "width": 2
         },
         "mode": "lines",
         "type": "scatter",
         "x": [
          600,
          742
         ],
         "y": [
          1000,
          888
         ]
        },
        {
         "line": {
          "color": "red",
          "width": 2
         },
         "mode": "lines",
         "type": "scatter",
         "x": [
          600,
          803
         ],
         "y": [
          1000,
          1014
         ]
        },
        {
         "line": {
          "color": "red",
          "width": 2
         },
         "mode": "lines",
         "type": "scatter",
         "x": [
          600,
          658
         ],
         "y": [
          1000,
          956
         ]
        },
        {
         "line": {
          "color": "red",
          "width": 2
         },
         "mode": "lines",
         "type": "scatter",
         "x": [
          1000,
          1059
         ],
         "y": [
          1000,
          807
         ]
        },
        {
         "line": {
          "color": "green",
          "width": 2
         },
         "mode": "lines",
         "type": "scatter",
         "x": [
          200,
          40
         ],
         "y": [
          200,
          98
         ]
        },
        {
         "line": {
          "color": "green",
          "width": 2
         },
         "mode": "lines",
         "type": "scatter",
         "x": [
          200,
          162
         ],
         "y": [
          600,
          713
         ]
        },
        {
         "line": {
          "color": "green",
          "width": 2
         },
         "mode": "lines",
         "type": "scatter",
         "x": [
          1000,
          969
         ],
         "y": [
          600,
          501
         ]
        },
        {
         "line": {
          "color": "green",
          "width": 2
         },
         "mode": "lines",
         "type": "scatter",
         "x": [
          200,
          206
         ],
         "y": [
          200,
          145
         ]
        },
        {
         "line": {
          "color": "red",
          "width": 2
         },
         "mode": "lines",
         "type": "scatter",
         "x": [
          1000,
          703
         ],
         "y": [
          1000,
          831
         ]
        },
        {
         "line": {
          "color": "green",
          "width": 2
         },
         "mode": "lines",
         "type": "scatter",
         "x": [
          1000,
          1030
         ],
         "y": [
          600,
          668
         ]
        },
        {
         "line": {
          "color": "green",
          "width": 2
         },
         "mode": "lines",
         "type": "scatter",
         "x": [
          600,
          512
         ],
         "y": [
          600,
          743
         ]
        },
        {
         "line": {
          "color": "green",
          "width": 2
         },
         "mode": "lines",
         "type": "scatter",
         "x": [
          200,
          146
         ],
         "y": [
          200,
          37
         ]
        },
        {
         "line": {
          "color": "green",
          "width": 2
         },
         "mode": "lines",
         "type": "scatter",
         "x": [
          1400,
          1566
         ],
         "y": [
          600,
          459
         ]
        },
        {
         "line": {
          "color": "black",
          "width": 2
         },
         "mode": "lines",
         "type": "scatter",
         "x": [
          585,
          585
         ],
         "y": [
          0,
          1600
         ]
        },
        {
         "line": {
          "color": "black",
          "width": 2
         },
         "mode": "lines",
         "type": "scatter",
         "x": [
          585,
          685
         ],
         "y": [
          1600,
          1600
         ]
        },
        {
         "line": {
          "color": "black",
          "width": 2
         },
         "mode": "lines",
         "type": "scatter",
         "x": [
          685,
          685
         ],
         "y": [
          1600,
          0
         ]
        },
        {
         "line": {
          "color": "black",
          "width": 2
         },
         "mode": "lines",
         "type": "scatter",
         "x": [
          585,
          685
         ],
         "y": [
          0,
          0
         ]
        },
        {
         "line": {
          "color": "black",
          "width": 2
         },
         "mode": "lines",
         "type": "scatter",
         "x": [
          1293,
          1293
         ],
         "y": [
          214,
          315
         ]
        },
        {
         "line": {
          "color": "black",
          "width": 2
         },
         "mode": "lines",
         "type": "scatter",
         "x": [
          1293,
          1426
         ],
         "y": [
          315,
          315
         ]
        },
        {
         "line": {
          "color": "black",
          "width": 2
         },
         "mode": "lines",
         "type": "scatter",
         "x": [
          1426,
          1426
         ],
         "y": [
          315,
          214
         ]
        },
        {
         "line": {
          "color": "black",
          "width": 2
         },
         "mode": "lines",
         "type": "scatter",
         "x": [
          1293,
          1426
         ],
         "y": [
          214,
          214
         ]
        },
        {
         "line": {
          "color": "black",
          "width": 2
         },
         "mode": "lines",
         "type": "scatter",
         "x": [
          1258,
          1258
         ],
         "y": [
          1425,
          1445
         ]
        },
        {
         "line": {
          "color": "black",
          "width": 2
         },
         "mode": "lines",
         "type": "scatter",
         "x": [
          1258,
          1416
         ],
         "y": [
          1445,
          1445
         ]
        },
        {
         "line": {
          "color": "black",
          "width": 2
         },
         "mode": "lines",
         "type": "scatter",
         "x": [
          1416,
          1416
         ],
         "y": [
          1445,
          1425
         ]
        },
        {
         "line": {
          "color": "black",
          "width": 2
         },
         "mode": "lines",
         "type": "scatter",
         "x": [
          1258,
          1416
         ],
         "y": [
          1425,
          1425
         ]
        },
        {
         "line": {
          "color": "black",
          "width": 2
         },
         "mode": "lines",
         "type": "scatter",
         "x": [
          1052,
          1052
         ],
         "y": [
          0,
          1600
         ]
        },
        {
         "line": {
          "color": "black",
          "width": 2
         },
         "mode": "lines",
         "type": "scatter",
         "x": [
          1052,
          1152
         ],
         "y": [
          1600,
          1600
         ]
        },
        {
         "line": {
          "color": "black",
          "width": 2
         },
         "mode": "lines",
         "type": "scatter",
         "x": [
          1152,
          1152
         ],
         "y": [
          1600,
          0
         ]
        },
        {
         "line": {
          "color": "black",
          "width": 2
         },
         "mode": "lines",
         "type": "scatter",
         "x": [
          1052,
          1152
         ],
         "y": [
          0,
          0
         ]
        },
        {
         "marker": {
          "color": [
           "orange",
           "orange",
           "orange",
           "orange",
           "orange",
           "orange",
           "orange",
           "orange",
           "orange",
           "orange",
           "orange",
           "orange",
           "orange",
           "orange",
           "orange",
           "orange",
           "magenta",
           "magenta",
           "blue",
           "magenta",
           "magenta",
           "magenta",
           "magenta",
           "blue",
           "magenta",
           "magenta",
           "magenta",
           "magenta",
           "magenta",
           "magenta",
           "magenta",
           "blue",
           "blue",
           "magenta",
           "blue",
           "magenta",
           "magenta",
           "magenta",
           "magenta",
           "magenta",
           "magenta",
           "magenta",
           "magenta",
           "magenta",
           "magenta",
           "blue",
           "magenta",
           "magenta",
           "magenta",
           "magenta",
           "blue",
           "magenta",
           "magenta",
           "magenta",
           "magenta",
           "magenta",
           "blue",
           "magenta",
           "magenta",
           "magenta",
           "blue",
           "blue",
           "magenta",
           "blue",
           "magenta",
           "magenta",
           "magenta",
           "magenta",
           "magenta",
           "blue",
           "blue",
           "magenta",
           "magenta",
           "magenta",
           "blue",
           "magenta",
           "magenta",
           "magenta",
           "magenta",
           "magenta",
           "magenta",
           "magenta",
           "magenta",
           "magenta",
           "blue",
           "magenta",
           "blue",
           "magenta",
           "magenta",
           "magenta",
           "magenta",
           "magenta",
           "blue",
           "magenta",
           "magenta",
           "magenta",
           "magenta",
           "magenta",
           "magenta",
           "magenta",
           "magenta",
           "blue",
           "magenta",
           "magenta",
           "magenta",
           "magenta",
           "magenta",
           "magenta",
           "magenta",
           "magenta",
           "blue",
           "magenta",
           "magenta",
           "magenta",
           "magenta",
           "magenta",
           "magenta",
           "magenta",
           "blue",
           "magenta",
           "blue",
           "magenta",
           "blue",
           "blue",
           "blue",
           "magenta",
           "blue",
           "magenta",
           "magenta",
           "blue",
           "magenta",
           "blue",
           "magenta",
           "magenta",
           "magenta",
           "magenta",
           "magenta",
           "magenta",
           "magenta",
           "blue",
           "blue",
           "magenta",
           "magenta",
           "magenta",
           "blue",
           "blue",
           "blue",
           "blue",
           "magenta",
           "blue",
           "magenta",
           "magenta",
           "magenta",
           "blue",
           "blue",
           "magenta",
           "blue",
           "blue",
           "blue",
           "magenta",
           "magenta",
           "magenta",
           "blue",
           "blue",
           "blue",
           "blue",
           "blue",
           "blue",
           "magenta",
           "magenta",
           "magenta",
           "blue",
           "magenta",
           "magenta",
           "blue",
           "blue",
           "blue",
           "blue",
           "magenta",
           "magenta",
           "magenta",
           "blue",
           "magenta",
           "blue",
           "magenta",
           "blue",
           "magenta",
           "magenta",
           "magenta",
           "blue",
           "magenta",
           "magenta",
           "magenta",
           "magenta",
           "magenta",
           "magenta",
           "blue",
           "blue",
           "magenta",
           "magenta",
           "magenta",
           "magenta",
           "magenta",
           "blue",
           "blue",
           "blue",
           "blue",
           "magenta",
           "magenta",
           "magenta",
           "magenta",
           "blue",
           "magenta",
           "magenta",
           "magenta",
           "magenta",
           "black",
           "black",
           "black",
           "black",
           "black",
           "black",
           "black",
           "black",
           "black",
           "black",
           "black",
           "black",
           "black",
           "black",
           "black",
           "black"
          ],
          "size": 8
         },
         "mode": "markers",
         "type": "scatter",
         "x": [
          200,
          200,
          200,
          200,
          600,
          600,
          600,
          600,
          1000,
          1000,
          1000,
          1000,
          1400,
          1400,
          1400,
          1400,
          945,
          1162,
          689,
          952,
          392,
          653,
          1013,
          889,
          114,
          925,
          63,
          123,
          1289,
          141,
          900,
          842,
          730,
          455,
          704,
          235,
          469,
          1183,
          1185,
          1041,
          1245,
          1355,
          978,
          1447,
          1161,
          849,
          168,
          1453,
          1579,
          1496,
          607,
          363,
          891,
          62,
          130,
          147,
          864,
          935,
          566,
          35,
          733,
          1045,
          716,
          947,
          638,
          354,
          471,
          297,
          1186,
          509,
          641,
          1130,
          1560,
          934,
          811,
          1488,
          585,
          57,
          1129,
          1409,
          671,
          1049,
          147,
          445,
          553,
          1588,
          1074,
          187,
          1208,
          1032,
          1325,
          58,
          563,
          1461,
          893,
          1243,
          706,
          1391,
          428,
          445,
          829,
          1090,
          945,
          256,
          1311,
          1467,
          196,
          48,
          792,
          603,
          607,
          758,
          971,
          1056,
          1023,
          417,
          518,
          1254,
          773,
          950,
          526,
          246,
          796,
          1090,
          1039,
          204,
          804,
          819,
          365,
          702,
          93,
          809,
          646,
          1001,
          1096,
          515,
          305,
          330,
          1072,
          502,
          964,
          724,
          390,
          1419,
          1044,
          816,
          741,
          907,
          679,
          1035,
          332,
          523,
          962,
          753,
          893,
          1318,
          662,
          877,
          540,
          8,
          938,
          1571,
          535,
          967,
          583,
          624,
          573,
          525,
          313,
          1219,
          188,
          817,
          579,
          1062,
          966,
          877,
          653,
          508,
          214,
          832,
          457,
          754,
          1464,
          590,
          428,
          1002,
          845,
          496,
          1397,
          800,
          237,
          1486,
          2,
          1453,
          469,
          170,
          929,
          670,
          112,
          632,
          1299,
          1591,
          1468,
          742,
          803,
          658,
          1059,
          40,
          162,
          969,
          206,
          703,
          1030,
          512,
          146,
          1566,
          585,
          585,
          685,
          685,
          1293,
          1293,
          1426,
          1426,
          1258,
          1258,
          1416,
          1416,
          1052,
          1052,
          1152,
          1152
         ],
         "y": [
          200,
          600,
          1000,
          1400,
          200,
          600,
          1000,
          1400,
          200,
          600,
          1000,
          1400,
          200,
          600,
          1000,
          1400,
          745,
          1465,
          901,
          1370,
          630,
          300,
          567,
          762,
          1386,
          324,
          354,
          1031,
          505,
          517,
          436,
          794,
          666,
          834,
          1049,
          1570,
          378,
          779,
          1298,
          555,
          423,
          693,
          1089,
          1560,
          588,
          807,
          523,
          1311,
          971,
          328,
          989,
          778,
          1193,
          1401,
          642,
          1212,
          957,
          629,
          763,
          922,
          647,
          505,
          721,
          513,
          517,
          185,
          214,
          351,
          1425,
          656,
          679,
          1005,
          482,
          1165,
          1085,
          796,
          664,
          311,
          181,
          1133,
          534,
          448,
          90,
          278,
          531,
          864,
          943,
          1544,
          791,
          962,
          283,
          1297,
          967,
          1000,
          333,
          1179,
          1323,
          1536,
          247,
          684,
          1415,
          841,
          573,
          226,
          793,
          1298,
          1323,
          1023,
          1479,
          915,
          618,
          1165,
          95,
          630,
          671,
          705,
          187,
          1026,
          987,
          1455,
          1014,
          1147,
          1098,
          765,
          1008,
          617,
          597,
          1148,
          1417,
          937,
          768,
          577,
          42,
          1449,
          498,
          771,
          1584,
          320,
          826,
          687,
          888,
          1124,
          198,
          1574,
          989,
          829,
          860,
          675,
          276,
          851,
          985,
          888,
          797,
          999,
          1090,
          731,
          746,
          650,
          569,
          1368,
          732,
          973,
          545,
          951,
          741,
          533,
          756,
          750,
          1117,
          1104,
          1370,
          767,
          116,
          8,
          771,
          1025,
          762,
          716,
          421,
          1310,
          817,
          864,
          354,
          935,
          287,
          1097,
          818,
          1420,
          386,
          800,
          1481,
          1131,
          554,
          96,
          157,
          503,
          1013,
          565,
          743,
          179,
          1214,
          1013,
          1431,
          888,
          1014,
          956,
          807,
          98,
          713,
          501,
          145,
          831,
          668,
          743,
          37,
          459,
          0,
          1600,
          1600,
          0,
          214,
          315,
          315,
          214,
          1425,
          1445,
          1445,
          1425,
          0,
          1600,
          1600,
          0
         ]
        }
       ],
       "layout": {
        "height": 1000,
        "shapes": [
         {
          "fillcolor": "rgba(128, 0, 128 0.1)",
          "line": {
           "color": "rgba(128, 0, 128, 1)",
           "width": 2
          },
          "type": "rect",
          "x0": 585,
          "x1": 685,
          "y0": 0,
          "y1": 1600
         },
         {
          "fillcolor": "rgba(128, 0, 128 0.1)",
          "line": {
           "color": "rgba(128, 0, 128, 1)",
           "width": 2
          },
          "type": "rect",
          "x0": 1293,
          "x1": 1426,
          "y0": 214,
          "y1": 315
         },
         {
          "fillcolor": "rgba(128, 0, 128 0.1)",
          "line": {
           "color": "rgba(128, 0, 128, 1)",
           "width": 2
          },
          "type": "rect",
          "x0": 1258,
          "x1": 1416,
          "y0": 1425,
          "y1": 1445
         },
         {
          "fillcolor": "rgba(128, 0, 128 0.1)",
          "line": {
           "color": "rgba(128, 0, 128, 1)",
           "width": 2
          },
          "type": "rect",
          "x0": 1052,
          "x1": 1152,
          "y0": 0,
          "y1": 1600
         }
        ],
        "showlegend": false,
        "title": "UE and AP Distribution in the grid",
        "width": 1000,
        "xaxis": {
         "range": [
          0,
          1600
         ],
         "title": "x"
        },
        "yaxis": {
         "range": [
          0,
          1600
         ],
         "title": "y"
        }
       }
      },
      "text/html": [
       "<div id=\"ffff7d5a-871a-4865-9ba8-d93c276274f6\" style=\"height: 1000px; width: 1000px;\" class=\"plotly-graph-div\"></div><script type=\"text/javascript\">require([\"plotly\"], function(Plotly) { window.PLOTLYENV=window.PLOTLYENV || {};window.PLOTLYENV.BASE_URL=\"https://plot.ly\";Plotly.newPlot(\"ffff7d5a-871a-4865-9ba8-d93c276274f6\", [{\"type\": \"scatter\", \"x\": [1000.0, 945], \"y\": [600.0, 745], \"mode\": \"lines\", \"line\": {\"width\": 2, \"color\": \"green\"}}, {\"type\": \"scatter\", \"x\": [1000.0, 1162], \"y\": [1400.0, 1465], \"mode\": \"lines\", \"line\": {\"width\": 2, \"color\": \"green\"}}, {\"type\": \"scatter\", \"x\": [600.0, 689], \"y\": [1000.0, 901], \"mode\": \"lines\", \"line\": {\"width\": 2, \"color\": \"green\"}}, {\"type\": \"scatter\", \"x\": [1000.0, 952], \"y\": [1400.0, 1370], \"mode\": \"lines\", \"line\": {\"width\": 2, \"color\": \"green\"}}, {\"type\": \"scatter\", \"x\": [600.0, 392], \"y\": [1000.0, 630], \"mode\": \"lines\", \"line\": {\"width\": 2, \"color\": \"green\"}}, {\"type\": \"scatter\", \"x\": [600.0, 653], \"y\": [200.0, 300], \"mode\": \"lines\", \"line\": {\"width\": 2, \"color\": \"green\"}}, {\"type\": \"scatter\", \"x\": [1000.0, 1013], \"y\": [600.0, 567], \"mode\": \"lines\", \"line\": {\"width\": 2, \"color\": \"green\"}}, {\"type\": \"scatter\", \"x\": [1000.0, 889], \"y\": [1000.0, 762], \"mode\": \"lines\", \"line\": {\"width\": 2, \"color\": \"red\"}}, {\"type\": \"scatter\", \"x\": [200.0, 114], \"y\": [1000.0, 1386], \"mode\": \"lines\", \"line\": {\"width\": 2, \"color\": \"green\"}}, {\"type\": \"scatter\", \"x\": [1000.0, 925], \"y\": [200.0, 324], \"mode\": \"lines\", \"line\": {\"width\": 2, \"color\": \"green\"}}, {\"type\": \"scatter\", \"x\": [200.0, 63], \"y\": [600.0, 354], \"mode\": \"lines\", \"line\": {\"width\": 2, \"color\": \"green\"}}, {\"type\": \"scatter\", \"x\": [200.0, 123], \"y\": [1000.0, 1031], \"mode\": \"lines\", \"line\": {\"width\": 2, \"color\": \"green\"}}, {\"type\": \"scatter\", \"x\": [1400.0, 1289], \"y\": [600.0, 505], \"mode\": \"lines\", \"line\": {\"width\": 2, \"color\": \"green\"}}, {\"type\": \"scatter\", \"x\": [200.0, 141], \"y\": [200.0, 517], \"mode\": \"lines\", \"line\": {\"width\": 2, \"color\": \"green\"}}, {\"type\": \"scatter\", \"x\": [1000.0, 900], \"y\": [600.0, 436], \"mode\": \"lines\", \"line\": {\"width\": 2, \"color\": \"green\"}}, {\"type\": \"scatter\", \"x\": [600.0, 842], \"y\": [1000.0, 794], \"mode\": \"lines\", \"line\": {\"width\": 2, \"color\": \"red\"}}, {\"type\": \"scatter\", \"x\": [600.0, 730], \"y\": [600.0, 666], \"mode\": \"lines\", \"line\": {\"width\": 2, \"color\": \"green\"}}, {\"type\": \"scatter\", \"x\": [600.0, 455], \"y\": [600.0, 834], \"mode\": \"lines\", \"line\": {\"width\": 2, \"color\": \"green\"}}, {\"type\": \"scatter\", \"x\": [600.0, 704], \"y\": [1000.0, 1049], \"mode\": \"lines\", \"line\": {\"width\": 2, \"color\": \"green\"}}, {\"type\": \"scatter\", \"x\": [200.0, 235], \"y\": [1400.0, 1570], \"mode\": \"lines\", \"line\": {\"width\": 2, \"color\": \"green\"}}, {\"type\": \"scatter\", \"x\": [600.0, 469], \"y\": [600.0, 378], \"mode\": \"lines\", \"line\": {\"width\": 2, \"color\": \"green\"}}, {\"type\": \"scatter\", \"x\": [1000.0, 1183], \"y\": [600.0, 779], \"mode\": \"lines\", \"line\": {\"width\": 2, \"color\": \"green\"}}, {\"type\": \"scatter\", \"x\": [1000.0, 1185], \"y\": [1000.0, 1298], \"mode\": \"lines\", \"line\": {\"width\": 2, \"color\": \"green\"}}, {\"type\": \"scatter\", \"x\": [1400.0, 1041], \"y\": [600.0, 555], \"mode\": \"lines\", \"line\": {\"width\": 2, \"color\": \"green\"}}, {\"type\": \"scatter\", \"x\": [1000.0, 1245], \"y\": [600.0, 423], \"mode\": \"lines\", \"line\": {\"width\": 2, \"color\": \"green\"}}, {\"type\": \"scatter\", \"x\": [1400.0, 1355], \"y\": [600.0, 693], \"mode\": \"lines\", \"line\": {\"width\": 2, \"color\": \"green\"}}, {\"type\": \"scatter\", \"x\": [1000.0, 978], \"y\": [1000.0, 1089], \"mode\": \"lines\", \"line\": {\"width\": 2, \"color\": \"green\"}}, {\"type\": \"scatter\", \"x\": [1400.0, 1447], \"y\": [1400.0, 1560], \"mode\": \"lines\", \"line\": {\"width\": 2, \"color\": \"green\"}}, {\"type\": \"scatter\", \"x\": [1000.0, 1161], \"y\": [600.0, 588], \"mode\": \"lines\", \"line\": {\"width\": 2, \"color\": \"green\"}}, {\"type\": \"scatter\", \"x\": [1000.0, 849], \"y\": [1000.0, 807], \"mode\": \"lines\", \"line\": {\"width\": 2, \"color\": \"green\"}}, {\"type\": \"scatter\", \"x\": [200.0, 168], \"y\": [600.0, 523], \"mode\": \"lines\", \"line\": {\"width\": 2, \"color\": \"green\"}}, {\"type\": \"scatter\", \"x\": [1400.0, 1453], \"y\": [1400.0, 1311], \"mode\": \"lines\", \"line\": {\"width\": 2, \"color\": \"green\"}}, {\"type\": \"scatter\", \"x\": [1400.0, 1579], \"y\": [1000.0, 971], \"mode\": \"lines\", \"line\": {\"width\": 2, \"color\": \"green\"}}, {\"type\": \"scatter\", \"x\": [1400.0, 1496], \"y\": [600.0, 328], \"mode\": \"lines\", \"line\": {\"width\": 2, \"color\": \"green\"}}, {\"type\": \"scatter\", \"x\": [600.0, 607], \"y\": [1000.0, 989], \"mode\": \"lines\", \"line\": {\"width\": 2, \"color\": \"green\"}}, {\"type\": \"scatter\", \"x\": [600.0, 363], \"y\": [1000.0, 778], \"mode\": \"lines\", \"line\": {\"width\": 2, \"color\": \"green\"}}, {\"type\": \"scatter\", \"x\": [600.0, 891], \"y\": [1000.0, 1193], \"mode\": \"lines\", \"line\": {\"width\": 2, \"color\": \"green\"}}, {\"type\": \"scatter\", \"x\": [200.0, 62], \"y\": [1400.0, 1401], \"mode\": \"lines\", \"line\": {\"width\": 2, \"color\": \"green\"}}, {\"type\": \"scatter\", \"x\": [200.0, 130], \"y\": [600.0, 642], \"mode\": \"lines\", \"line\": {\"width\": 2, \"color\": \"green\"}}, {\"type\": \"scatter\", \"x\": [200.0, 147], \"y\": [1400.0, 1212], \"mode\": \"lines\", \"line\": {\"width\": 2, \"color\": \"green\"}}, {\"type\": \"scatter\", \"x\": [1000.0, 864], \"y\": [1000.0, 957], \"mode\": \"lines\", \"line\": {\"width\": 2, \"color\": \"green\"}}, {\"type\": \"scatter\", \"x\": [1000.0, 935], \"y\": [600.0, 629], \"mode\": \"lines\", \"line\": {\"width\": 2, \"color\": \"green\"}}, {\"type\": \"scatter\", \"x\": [600.0, 566], \"y\": [600.0, 763], \"mode\": \"lines\", \"line\": {\"width\": 2, \"color\": \"green\"}}, {\"type\": \"scatter\", \"x\": [200.0, 35], \"y\": [1000.0, 922], \"mode\": \"lines\", \"line\": {\"width\": 2, \"color\": \"green\"}}, {\"type\": \"scatter\", \"x\": [1000.0, 733], \"y\": [600.0, 647], \"mode\": \"lines\", \"line\": {\"width\": 2, \"color\": \"red\"}}, {\"type\": \"scatter\", \"x\": [1000.0, 1045], \"y\": [600.0, 505], \"mode\": \"lines\", \"line\": {\"width\": 2, \"color\": \"green\"}}, {\"type\": \"scatter\", \"x\": [1000.0, 716], \"y\": [1000.0, 721], \"mode\": \"lines\", \"line\": {\"width\": 2, \"color\": \"green\"}}, {\"type\": \"scatter\", \"x\": [1000.0, 947], \"y\": [600.0, 513], \"mode\": \"lines\", \"line\": {\"width\": 2, \"color\": \"green\"}}, {\"type\": \"scatter\", \"x\": [1000.0, 638], \"y\": [600.0, 517], \"mode\": \"lines\", \"line\": {\"width\": 2, \"color\": \"green\"}}, {\"type\": \"scatter\", \"x\": [200.0, 354], \"y\": [200.0, 185], \"mode\": \"lines\", \"line\": {\"width\": 2, \"color\": \"green\"}}, {\"type\": \"scatter\", \"x\": [600.0, 471], \"y\": [200.0, 214], \"mode\": \"lines\", \"line\": {\"width\": 2, \"color\": \"green\"}}, {\"type\": \"scatter\", \"x\": [200.0, 297], \"y\": [200.0, 351], \"mode\": \"lines\", \"line\": {\"width\": 2, \"color\": \"green\"}}, {\"type\": \"scatter\", \"x\": [1000.0, 1186], \"y\": [1400.0, 1425], \"mode\": \"lines\", \"line\": {\"width\": 2, \"color\": \"green\"}}, {\"type\": \"scatter\", \"x\": [600.0, 509], \"y\": [600.0, 656], \"mode\": \"lines\", \"line\": {\"width\": 2, \"color\": \"green\"}}, {\"type\": \"scatter\", \"x\": [600.0, 641], \"y\": [600.0, 679], \"mode\": \"lines\", \"line\": {\"width\": 2, \"color\": \"green\"}}, {\"type\": \"scatter\", \"x\": [1000.0, 1130], \"y\": [1000.0, 1005], \"mode\": \"lines\", \"line\": {\"width\": 2, \"color\": \"green\"}}, {\"type\": \"scatter\", \"x\": [1400.0, 1560], \"y\": [200.0, 482], \"mode\": \"lines\", \"line\": {\"width\": 2, \"color\": \"green\"}}, {\"type\": \"scatter\", \"x\": [1000.0, 934], \"y\": [1000.0, 1165], \"mode\": \"lines\", \"line\": {\"width\": 2, \"color\": \"green\"}}, {\"type\": \"scatter\", \"x\": [1000.0, 811], \"y\": [1000.0, 1085], \"mode\": \"lines\", \"line\": {\"width\": 2, \"color\": \"green\"}}, {\"type\": \"scatter\", \"x\": [1400.0, 1488], \"y\": [600.0, 796], \"mode\": \"lines\", \"line\": {\"width\": 2, \"color\": \"green\"}}, {\"type\": \"scatter\", \"x\": [600.0, 585], \"y\": [600.0, 664], \"mode\": \"lines\", \"line\": {\"width\": 2, \"color\": \"green\"}}, {\"type\": \"scatter\", \"x\": [200.0, 57], \"y\": [200.0, 311], \"mode\": \"lines\", \"line\": {\"width\": 2, \"color\": \"green\"}}, {\"type\": \"scatter\", \"x\": [1400.0, 1129], \"y\": [200.0, 181], \"mode\": \"lines\", \"line\": {\"width\": 2, \"color\": \"green\"}}, {\"type\": \"scatter\", \"x\": [1400.0, 1409], \"y\": [1000.0, 1133], \"mode\": \"lines\", \"line\": {\"width\": 2, \"color\": \"green\"}}, {\"type\": \"scatter\", \"x\": [600.0, 671], \"y\": [600.0, 534], \"mode\": \"lines\", \"line\": {\"width\": 2, \"color\": \"green\"}}, {\"type\": \"scatter\", \"x\": [1000.0, 1049], \"y\": [600.0, 448], \"mode\": \"lines\", \"line\": {\"width\": 2, \"color\": \"green\"}}, {\"type\": \"scatter\", \"x\": [200.0, 147], \"y\": [200.0, 90], \"mode\": \"lines\", \"line\": {\"width\": 2, \"color\": \"green\"}}, {\"type\": \"scatter\", \"x\": [600.0, 445], \"y\": [200.0, 278], \"mode\": \"lines\", \"line\": {\"width\": 2, \"color\": \"green\"}}, {\"type\": \"scatter\", \"x\": [200.0, 553], \"y\": [200.0, 531], \"mode\": \"lines\", \"line\": {\"width\": 2, \"color\": \"green\"}}, {\"type\": \"scatter\", \"x\": [1400.0, 1588], \"y\": [1000.0, 864], \"mode\": \"lines\", \"line\": {\"width\": 2, \"color\": \"green\"}}, {\"type\": \"scatter\", \"x\": [1000.0, 1074], \"y\": [1000.0, 943], \"mode\": \"lines\", \"line\": {\"width\": 2, \"color\": \"green\"}}, {\"type\": \"scatter\", \"x\": [200.0, 187], \"y\": [1400.0, 1544], \"mode\": \"lines\", \"line\": {\"width\": 2, \"color\": \"green\"}}, {\"type\": \"scatter\", \"x\": [1400.0, 1208], \"y\": [600.0, 791], \"mode\": \"lines\", \"line\": {\"width\": 2, \"color\": \"green\"}}, {\"type\": \"scatter\", \"x\": [1000.0, 1032], \"y\": [1000.0, 962], \"mode\": \"lines\", \"line\": {\"width\": 2, \"color\": \"green\"}}, {\"type\": \"scatter\", \"x\": [1400.0, 1325], \"y\": [200.0, 283], \"mode\": \"lines\", \"line\": {\"width\": 2, \"color\": \"green\"}}, {\"type\": \"scatter\", \"x\": [200.0, 58], \"y\": [1400.0, 1297], \"mode\": \"lines\", \"line\": {\"width\": 2, \"color\": \"green\"}}, {\"type\": \"scatter\", \"x\": [600.0, 563], \"y\": [1000.0, 967], \"mode\": \"lines\", \"line\": {\"width\": 2, \"color\": \"green\"}}, {\"type\": \"scatter\", \"x\": [1400.0, 1461], \"y\": [1000.0, 1000], \"mode\": \"lines\", \"line\": {\"width\": 2, \"color\": \"green\"}}, {\"type\": \"scatter\", \"x\": [1000.0, 893], \"y\": [200.0, 333], \"mode\": \"lines\", \"line\": {\"width\": 2, \"color\": \"green\"}}, {\"type\": \"scatter\", \"x\": [1400.0, 1243], \"y\": [1000.0, 1179], \"mode\": \"lines\", \"line\": {\"width\": 2, \"color\": \"green\"}}, {\"type\": \"scatter\", \"x\": [600.0, 706], \"y\": [1400.0, 1323], \"mode\": \"lines\", \"line\": {\"width\": 2, \"color\": \"green\"}}, {\"type\": \"scatter\", \"x\": [1400.0, 1391], \"y\": [1400.0, 1536], \"mode\": \"lines\", \"line\": {\"width\": 2, \"color\": \"green\"}}, {\"type\": \"scatter\", \"x\": [600.0, 428], \"y\": [200.0, 247], \"mode\": \"lines\", \"line\": {\"width\": 2, \"color\": \"green\"}}, {\"type\": \"scatter\", \"x\": [600.0, 445], \"y\": [600.0, 684], \"mode\": \"lines\", \"line\": {\"width\": 2, \"color\": \"green\"}}, {\"type\": \"scatter\", \"x\": [600.0, 829], \"y\": [1400.0, 1415], \"mode\": \"lines\", \"line\": {\"width\": 2, \"color\": \"green\"}}, {\"type\": \"scatter\", \"x\": [1000.0, 1090], \"y\": [1000.0, 841], \"mode\": \"lines\", \"line\": {\"width\": 2, \"color\": \"green\"}}, {\"type\": \"scatter\", \"x\": [1000.0, 945], \"y\": [600.0, 573], \"mode\": \"lines\", \"line\": {\"width\": 2, \"color\": \"green\"}}, {\"type\": \"scatter\", \"x\": [200.0, 256], \"y\": [200.0, 226], \"mode\": \"lines\", \"line\": {\"width\": 2, \"color\": \"green\"}}, {\"type\": \"scatter\", \"x\": [1000.0, 1311], \"y\": [1000.0, 793], \"mode\": \"lines\", \"line\": {\"width\": 2, \"color\": \"green\"}}, {\"type\": \"scatter\", \"x\": [1400.0, 1467], \"y\": [1400.0, 1298], \"mode\": \"lines\", \"line\": {\"width\": 2, \"color\": \"green\"}}, {\"type\": \"scatter\", \"x\": [200.0, 196], \"y\": [1400.0, 1323], \"mode\": \"lines\", \"line\": {\"width\": 2, \"color\": \"green\"}}, {\"type\": \"scatter\", \"x\": [200.0, 48], \"y\": [1000.0, 1023], \"mode\": \"lines\", \"line\": {\"width\": 2, \"color\": \"green\"}}, {\"type\": \"scatter\", \"x\": [600.0, 792], \"y\": [1400.0, 1479], \"mode\": \"lines\", \"line\": {\"width\": 2, \"color\": \"green\"}}, {\"type\": \"scatter\", \"x\": [600.0, 603], \"y\": [1000.0, 915], \"mode\": \"lines\", \"line\": {\"width\": 2, \"color\": \"green\"}}, {\"type\": \"scatter\", \"x\": [600.0, 607], \"y\": [600.0, 618], \"mode\": \"lines\", \"line\": {\"width\": 2, \"color\": \"green\"}}, {\"type\": \"scatter\", \"x\": [600.0, 758], \"y\": [1000.0, 1165], \"mode\": \"lines\", \"line\": {\"width\": 2, \"color\": \"green\"}}, {\"type\": \"scatter\", \"x\": [1000.0, 971], \"y\": [200.0, 95], \"mode\": \"lines\", \"line\": {\"width\": 2, \"color\": \"green\"}}, {\"type\": \"scatter\", \"x\": [1000.0, 1056], \"y\": [600.0, 630], \"mode\": \"lines\", \"line\": {\"width\": 2, \"color\": \"green\"}}, {\"type\": \"scatter\", \"x\": [1000.0, 1023], \"y\": [600.0, 671], \"mode\": \"lines\", \"line\": {\"width\": 2, \"color\": \"green\"}}, {\"type\": \"scatter\", \"x\": [600.0, 417], \"y\": [600.0, 705], \"mode\": \"lines\", \"line\": {\"width\": 2, \"color\": \"green\"}}, {\"type\": \"scatter\", \"x\": [600.0, 518], \"y\": [200.0, 187], \"mode\": \"lines\", \"line\": {\"width\": 2, \"color\": \"green\"}}, {\"type\": \"scatter\", \"x\": [1400.0, 1254], \"y\": [1000.0, 1026], \"mode\": \"lines\", \"line\": {\"width\": 2, \"color\": \"green\"}}, {\"type\": \"scatter\", \"x\": [600.0, 773], \"y\": [600.0, 987], \"mode\": \"lines\", \"line\": {\"width\": 2, \"color\": \"red\"}}, {\"type\": \"scatter\", \"x\": [1000.0, 950], \"y\": [1400.0, 1455], \"mode\": \"lines\", \"line\": {\"width\": 2, \"color\": \"green\"}}, {\"type\": \"scatter\", \"x\": [600.0, 526], \"y\": [1000.0, 1014], \"mode\": \"lines\", \"line\": {\"width\": 2, \"color\": \"green\"}}, {\"type\": \"scatter\", \"x\": [200.0, 246], \"y\": [1400.0, 1147], \"mode\": \"lines\", \"line\": {\"width\": 2, \"color\": \"green\"}}, {\"type\": \"scatter\", \"x\": [600.0, 796], \"y\": [1000.0, 1098], \"mode\": \"lines\", \"line\": {\"width\": 2, \"color\": \"green\"}}, {\"type\": \"scatter\", \"x\": [1000.0, 1090], \"y\": [1000.0, 765], \"mode\": \"lines\", \"line\": {\"width\": 2, \"color\": \"red\"}}, {\"type\": \"scatter\", \"x\": [1000.0, 1039], \"y\": [1000.0, 1008], \"mode\": \"lines\", \"line\": {\"width\": 2, \"color\": \"green\"}}, {\"type\": \"scatter\", \"x\": [200.0, 204], \"y\": [600.0, 617], \"mode\": \"lines\", \"line\": {\"width\": 2, \"color\": \"green\"}}, {\"type\": \"scatter\", \"x\": [600.0, 804], \"y\": [600.0, 597], \"mode\": \"lines\", \"line\": {\"width\": 2, \"color\": \"red\"}}, {\"type\": \"scatter\", \"x\": [600.0, 819], \"y\": [1000.0, 1148], \"mode\": \"lines\", \"line\": {\"width\": 2, \"color\": \"green\"}}, {\"type\": \"scatter\", \"x\": [200.0, 365], \"y\": [1400.0, 1417], \"mode\": \"lines\", \"line\": {\"width\": 2, \"color\": \"green\"}}, {\"type\": \"scatter\", \"x\": [1000.0, 702], \"y\": [1000.0, 937], \"mode\": \"lines\", \"line\": {\"width\": 2, \"color\": \"red\"}}, {\"type\": \"scatter\", \"x\": [200.0, 93], \"y\": [600.0, 768], \"mode\": \"lines\", \"line\": {\"width\": 2, \"color\": \"green\"}}, {\"type\": \"scatter\", \"x\": [600.0, 809], \"y\": [600.0, 577], \"mode\": \"lines\", \"line\": {\"width\": 2, \"color\": \"red\"}}, {\"type\": \"scatter\", \"x\": [600.0, 646], \"y\": [200.0, 42], \"mode\": \"lines\", \"line\": {\"width\": 2, \"color\": \"green\"}}, {\"type\": \"scatter\", \"x\": [1000.0, 1001], \"y\": [1400.0, 1449], \"mode\": \"lines\", \"line\": {\"width\": 2, \"color\": \"green\"}}, {\"type\": \"scatter\", \"x\": [1000.0, 1096], \"y\": [200.0, 498], \"mode\": \"lines\", \"line\": {\"width\": 2, \"color\": \"green\"}}, {\"type\": \"scatter\", \"x\": [600.0, 515], \"y\": [600.0, 771], \"mode\": \"lines\", \"line\": {\"width\": 2, \"color\": \"green\"}}, {\"type\": \"scatter\", \"x\": [200.0, 305], \"y\": [1400.0, 1584], \"mode\": \"lines\", \"line\": {\"width\": 2, \"color\": \"green\"}}, {\"type\": \"scatter\", \"x\": [200.0, 330], \"y\": [200.0, 320], \"mode\": \"lines\", \"line\": {\"width\": 2, \"color\": \"green\"}}, {\"type\": \"scatter\", \"x\": [1000.0, 1072], \"y\": [1000.0, 826], \"mode\": \"lines\", \"line\": {\"width\": 2, \"color\": \"green\"}}, {\"type\": \"scatter\", \"x\": [600.0, 502], \"y\": [600.0, 687], \"mode\": \"lines\", \"line\": {\"width\": 2, \"color\": \"red\"}}, {\"type\": \"scatter\", \"x\": [1000.0, 964], \"y\": [1000.0, 888], \"mode\": \"lines\", \"line\": {\"width\": 2, \"color\": \"red\"}}, {\"type\": \"scatter\", \"x\": [600.0, 724], \"y\": [1000.0, 1124], \"mode\": \"lines\", \"line\": {\"width\": 2, \"color\": \"green\"}}, {\"type\": \"scatter\", \"x\": [200.0, 390], \"y\": [200.0, 198], \"mode\": \"lines\", \"line\": {\"width\": 2, \"color\": \"green\"}}, {\"type\": \"scatter\", \"x\": [1400.0, 1419], \"y\": [1400.0, 1574], \"mode\": \"lines\", \"line\": {\"width\": 2, \"color\": \"green\"}}, {\"type\": \"scatter\", \"x\": [1000.0, 1044], \"y\": [1000.0, 989], \"mode\": \"lines\", \"line\": {\"width\": 2, \"color\": \"red\"}}, {\"type\": \"scatter\", \"x\": [1000.0, 816], \"y\": [1000.0, 829], \"mode\": \"lines\", \"line\": {\"width\": 2, \"color\": \"red\"}}, {\"type\": \"scatter\", \"x\": [600.0, 741], \"y\": [1000.0, 860], \"mode\": \"lines\", \"line\": {\"width\": 2, \"color\": \"red\"}}, {\"type\": \"scatter\", \"x\": [1000.0, 907], \"y\": [600.0, 675], \"mode\": \"lines\", \"line\": {\"width\": 2, \"color\": \"red\"}}, {\"type\": \"scatter\", \"x\": [600.0, 679], \"y\": [200.0, 276], \"mode\": \"lines\", \"line\": {\"width\": 2, \"color\": \"green\"}}, {\"type\": \"scatter\", \"x\": [1400.0, 1035], \"y\": [1000.0, 851], \"mode\": \"lines\", \"line\": {\"width\": 2, \"color\": \"green\"}}, {\"type\": \"scatter\", \"x\": [200.0, 332], \"y\": [1000.0, 985], \"mode\": \"lines\", \"line\": {\"width\": 2, \"color\": \"green\"}}, {\"type\": \"scatter\", \"x\": [600.0, 523], \"y\": [1000.0, 888], \"mode\": \"lines\", \"line\": {\"width\": 2, \"color\": \"green\"}}, {\"type\": \"scatter\", \"x\": [1000.0, 962], \"y\": [600.0, 797], \"mode\": \"lines\", \"line\": {\"width\": 2, \"color\": \"green\"}}, {\"type\": \"scatter\", \"x\": [600.0, 753], \"y\": [1000.0, 999], \"mode\": \"lines\", \"line\": {\"width\": 2, \"color\": \"red\"}}, {\"type\": \"scatter\", \"x\": [1000.0, 893], \"y\": [1000.0, 1090], \"mode\": \"lines\", \"line\": {\"width\": 2, \"color\": \"red\"}}, {\"type\": \"scatter\", \"x\": [1000.0, 1318], \"y\": [1000.0, 731], \"mode\": \"lines\", \"line\": {\"width\": 2, \"color\": \"green\"}}, {\"type\": \"scatter\", \"x\": [1000.0, 662], \"y\": [1000.0, 746], \"mode\": \"lines\", \"line\": {\"width\": 2, \"color\": \"red\"}}, {\"type\": \"scatter\", \"x\": [1000.0, 877], \"y\": [600.0, 650], \"mode\": \"lines\", \"line\": {\"width\": 2, \"color\": \"red\"}}, {\"type\": \"scatter\", \"x\": [600.0, 540], \"y\": [600.0, 569], \"mode\": \"lines\", \"line\": {\"width\": 2, \"color\": \"red\"}}, {\"type\": \"scatter\", \"x\": [200.0, 8], \"y\": [1400.0, 1368], \"mode\": \"lines\", \"line\": {\"width\": 2, \"color\": \"green\"}}, {\"type\": \"scatter\", \"x\": [1000.0, 938], \"y\": [600.0, 732], \"mode\": \"lines\", \"line\": {\"width\": 2, \"color\": \"green\"}}, {\"type\": \"scatter\", \"x\": [1400.0, 1571], \"y\": [1000.0, 973], \"mode\": \"lines\", \"line\": {\"width\": 2, \"color\": \"green\"}}, {\"type\": \"scatter\", \"x\": [600.0, 535], \"y\": [600.0, 545], \"mode\": \"lines\", \"line\": {\"width\": 2, \"color\": \"red\"}}, {\"type\": \"scatter\", \"x\": [1000.0, 967], \"y\": [1000.0, 951], \"mode\": \"lines\", \"line\": {\"width\": 2, \"color\": \"red\"}}, {\"type\": \"scatter\", \"x\": [600.0, 583], \"y\": [1000.0, 741], \"mode\": \"lines\", \"line\": {\"width\": 2, \"color\": \"red\"}}, {\"type\": \"scatter\", \"x\": [600.0, 624], \"y\": [600.0, 533], \"mode\": \"lines\", \"line\": {\"width\": 2, \"color\": \"red\"}}, {\"type\": \"scatter\", \"x\": [600.0, 573], \"y\": [1000.0, 756], \"mode\": \"lines\", \"line\": {\"width\": 2, \"color\": \"red\"}}, {\"type\": \"scatter\", \"x\": [200.0, 525], \"y\": [600.0, 750], \"mode\": \"lines\", \"line\": {\"width\": 2, \"color\": \"red\"}}, {\"type\": \"scatter\", \"x\": [200.0, 313], \"y\": [1000.0, 1117], \"mode\": \"lines\", \"line\": {\"width\": 2, \"color\": \"green\"}}, {\"type\": \"scatter\", \"x\": [1000.0, 1219], \"y\": [1000.0, 1104], \"mode\": \"lines\", \"line\": {\"width\": 2, \"color\": \"green\"}}, {\"type\": \"scatter\", \"x\": [200.0, 188], \"y\": [1400.0, 1370], \"mode\": \"lines\", \"line\": {\"width\": 2, \"color\": \"green\"}}, {\"type\": \"scatter\", \"x\": [1000.0, 817], \"y\": [600.0, 767], \"mode\": \"lines\", \"line\": {\"width\": 2, \"color\": \"red\"}}, {\"type\": \"scatter\", \"x\": [600.0, 579], \"y\": [200.0, 116], \"mode\": \"lines\", \"line\": {\"width\": 2, \"color\": \"green\"}}, {\"type\": \"scatter\", \"x\": [1000.0, 1062], \"y\": [200.0, 8], \"mode\": \"lines\", \"line\": {\"width\": 2, \"color\": \"green\"}}, {\"type\": \"scatter\", \"x\": [1000.0, 966], \"y\": [600.0, 771], \"mode\": \"lines\", \"line\": {\"width\": 2, \"color\": \"red\"}}, {\"type\": \"scatter\", \"x\": [600.0, 877], \"y\": [1000.0, 1025], \"mode\": \"lines\", \"line\": {\"width\": 2, \"color\": \"red\"}}, {\"type\": \"scatter\", \"x\": [1000.0, 653], \"y\": [600.0, 762], \"mode\": \"lines\", \"line\": {\"width\": 2, \"color\": \"red\"}}, {\"type\": \"scatter\", \"x\": [600.0, 508], \"y\": [600.0, 716], \"mode\": \"lines\", \"line\": {\"width\": 2, \"color\": \"red\"}}, {\"type\": \"scatter\", \"x\": [200.0, 214], \"y\": [600.0, 421], \"mode\": \"lines\", \"line\": {\"width\": 2, \"color\": \"green\"}}, {\"type\": \"scatter\", \"x\": [1000.0, 832], \"y\": [1400.0, 1310], \"mode\": \"lines\", \"line\": {\"width\": 2, \"color\": \"green\"}}, {\"type\": \"scatter\", \"x\": [200.0, 457], \"y\": [600.0, 817], \"mode\": \"lines\", \"line\": {\"width\": 2, \"color\": \"green\"}}, {\"type\": \"scatter\", \"x\": [600.0, 754], \"y\": [1000.0, 864], \"mode\": \"lines\", \"line\": {\"width\": 2, \"color\": \"red\"}}, {\"type\": \"scatter\", \"x\": [1400.0, 1464], \"y\": [200.0, 354], \"mode\": \"lines\", \"line\": {\"width\": 2, \"color\": \"green\"}}, {\"type\": \"scatter\", \"x\": [600.0, 590], \"y\": [1000.0, 935], \"mode\": \"lines\", \"line\": {\"width\": 2, \"color\": \"red\"}}, {\"type\": \"scatter\", \"x\": [200.0, 428], \"y\": [600.0, 287], \"mode\": \"lines\", \"line\": {\"width\": 2, \"color\": \"green\"}}, {\"type\": \"scatter\", \"x\": [1000.0, 1002], \"y\": [1400.0, 1097], \"mode\": \"lines\", \"line\": {\"width\": 2, \"color\": \"green\"}}, {\"type\": \"scatter\", \"x\": [1000.0, 845], \"y\": [1000.0, 818], \"mode\": \"lines\", \"line\": {\"width\": 2, \"color\": \"green\"}}, {\"type\": \"scatter\", \"x\": [600.0, 496], \"y\": [1400.0, 1420], \"mode\": \"lines\", \"line\": {\"width\": 2, \"color\": \"green\"}}, {\"type\": \"scatter\", \"x\": [1400.0, 1397], \"y\": [200.0, 386], \"mode\": \"lines\", \"line\": {\"width\": 2, \"color\": \"green\"}}, {\"type\": \"scatter\", \"x\": [1000.0, 800], \"y\": [600.0, 800], \"mode\": \"lines\", \"line\": {\"width\": 2, \"color\": \"red\"}}, {\"type\": \"scatter\", \"x\": [200.0, 237], \"y\": [1400.0, 1481], \"mode\": \"lines\", \"line\": {\"width\": 2, \"color\": \"green\"}}, {\"type\": \"scatter\", \"x\": [1400.0, 1486], \"y\": [1000.0, 1131], \"mode\": \"lines\", \"line\": {\"width\": 2, \"color\": \"green\"}}, {\"type\": \"scatter\", \"x\": [200.0, 2], \"y\": [600.0, 554], \"mode\": \"lines\", \"line\": {\"width\": 2, \"color\": \"green\"}}, {\"type\": \"scatter\", \"x\": [1400.0, 1453], \"y\": [200.0, 96], \"mode\": \"lines\", \"line\": {\"width\": 2, \"color\": \"green\"}}, {\"type\": \"scatter\", \"x\": [600.0, 469], \"y\": [200.0, 157], \"mode\": \"lines\", \"line\": {\"width\": 2, \"color\": \"green\"}}, {\"type\": \"scatter\", \"x\": [200.0, 170], \"y\": [600.0, 503], \"mode\": \"lines\", \"line\": {\"width\": 2, \"color\": \"green\"}}, {\"type\": \"scatter\", \"x\": [600.0, 929], \"y\": [1000.0, 1013], \"mode\": \"lines\", \"line\": {\"width\": 2, \"color\": \"red\"}}, {\"type\": \"scatter\", \"x\": [600.0, 670], \"y\": [600.0, 565], \"mode\": \"lines\", \"line\": {\"width\": 2, \"color\": \"red\"}}, {\"type\": \"scatter\", \"x\": [200.0, 112], \"y\": [600.0, 743], \"mode\": \"lines\", \"line\": {\"width\": 2, \"color\": \"green\"}}, {\"type\": \"scatter\", \"x\": [600.0, 632], \"y\": [200.0, 179], \"mode\": \"lines\", \"line\": {\"width\": 2, \"color\": \"green\"}}, {\"type\": \"scatter\", \"x\": [1400.0, 1299], \"y\": [1400.0, 1214], \"mode\": \"lines\", \"line\": {\"width\": 2, \"color\": \"green\"}}, {\"type\": \"scatter\", \"x\": [1400.0, 1591], \"y\": [1000.0, 1013], \"mode\": \"lines\", \"line\": {\"width\": 2, \"color\": \"green\"}}, {\"type\": \"scatter\", \"x\": [1400.0, 1468], \"y\": [1400.0, 1431], \"mode\": \"lines\", \"line\": {\"width\": 2, \"color\": \"green\"}}, {\"type\": \"scatter\", \"x\": [600.0, 742], \"y\": [1000.0, 888], \"mode\": \"lines\", \"line\": {\"width\": 2, \"color\": \"red\"}}, {\"type\": \"scatter\", \"x\": [600.0, 803], \"y\": [1000.0, 1014], \"mode\": \"lines\", \"line\": {\"width\": 2, \"color\": \"red\"}}, {\"type\": \"scatter\", \"x\": [600.0, 658], \"y\": [1000.0, 956], \"mode\": \"lines\", \"line\": {\"width\": 2, \"color\": \"red\"}}, {\"type\": \"scatter\", \"x\": [1000.0, 1059], \"y\": [1000.0, 807], \"mode\": \"lines\", \"line\": {\"width\": 2, \"color\": \"red\"}}, {\"type\": \"scatter\", \"x\": [200.0, 40], \"y\": [200.0, 98], \"mode\": \"lines\", \"line\": {\"width\": 2, \"color\": \"green\"}}, {\"type\": \"scatter\", \"x\": [200.0, 162], \"y\": [600.0, 713], \"mode\": \"lines\", \"line\": {\"width\": 2, \"color\": \"green\"}}, {\"type\": \"scatter\", \"x\": [1000.0, 969], \"y\": [600.0, 501], \"mode\": \"lines\", \"line\": {\"width\": 2, \"color\": \"green\"}}, {\"type\": \"scatter\", \"x\": [200.0, 206], \"y\": [200.0, 145], \"mode\": \"lines\", \"line\": {\"width\": 2, \"color\": \"green\"}}, {\"type\": \"scatter\", \"x\": [1000.0, 703], \"y\": [1000.0, 831], \"mode\": \"lines\", \"line\": {\"width\": 2, \"color\": \"red\"}}, {\"type\": \"scatter\", \"x\": [1000.0, 1030], \"y\": [600.0, 668], \"mode\": \"lines\", \"line\": {\"width\": 2, \"color\": \"green\"}}, {\"type\": \"scatter\", \"x\": [600.0, 512], \"y\": [600.0, 743], \"mode\": \"lines\", \"line\": {\"width\": 2, \"color\": \"green\"}}, {\"type\": \"scatter\", \"x\": [200.0, 146], \"y\": [200.0, 37], \"mode\": \"lines\", \"line\": {\"width\": 2, \"color\": \"green\"}}, {\"type\": \"scatter\", \"x\": [1400.0, 1566], \"y\": [600.0, 459], \"mode\": \"lines\", \"line\": {\"width\": 2, \"color\": \"green\"}}, {\"type\": \"scatter\", \"x\": [585, 585], \"y\": [0, 1600.0], \"mode\": \"lines\", \"line\": {\"width\": 2, \"color\": \"black\"}}, {\"type\": \"scatter\", \"x\": [585, 685], \"y\": [1600.0, 1600.0], \"mode\": \"lines\", \"line\": {\"width\": 2, \"color\": \"black\"}}, {\"type\": \"scatter\", \"x\": [685, 685], \"y\": [1600.0, 0], \"mode\": \"lines\", \"line\": {\"width\": 2, \"color\": \"black\"}}, {\"type\": \"scatter\", \"x\": [585, 685], \"y\": [0, 0], \"mode\": \"lines\", \"line\": {\"width\": 2, \"color\": \"black\"}}, {\"type\": \"scatter\", \"x\": [1293, 1293], \"y\": [214, 315], \"mode\": \"lines\", \"line\": {\"width\": 2, \"color\": \"black\"}}, {\"type\": \"scatter\", \"x\": [1293, 1426], \"y\": [315, 315], \"mode\": \"lines\", \"line\": {\"width\": 2, \"color\": \"black\"}}, {\"type\": \"scatter\", \"x\": [1426, 1426], \"y\": [315, 214], \"mode\": \"lines\", \"line\": {\"width\": 2, \"color\": \"black\"}}, {\"type\": \"scatter\", \"x\": [1293, 1426], \"y\": [214, 214], \"mode\": \"lines\", \"line\": {\"width\": 2, \"color\": \"black\"}}, {\"type\": \"scatter\", \"x\": [1258, 1258], \"y\": [1425, 1445], \"mode\": \"lines\", \"line\": {\"width\": 2, \"color\": \"black\"}}, {\"type\": \"scatter\", \"x\": [1258, 1416], \"y\": [1445, 1445], \"mode\": \"lines\", \"line\": {\"width\": 2, \"color\": \"black\"}}, {\"type\": \"scatter\", \"x\": [1416, 1416], \"y\": [1445, 1425], \"mode\": \"lines\", \"line\": {\"width\": 2, \"color\": \"black\"}}, {\"type\": \"scatter\", \"x\": [1258, 1416], \"y\": [1425, 1425], \"mode\": \"lines\", \"line\": {\"width\": 2, \"color\": \"black\"}}, {\"type\": \"scatter\", \"x\": [1052, 1052], \"y\": [0, 1600.0], \"mode\": \"lines\", \"line\": {\"width\": 2, \"color\": \"black\"}}, {\"type\": \"scatter\", \"x\": [1052, 1152], \"y\": [1600.0, 1600.0], \"mode\": \"lines\", \"line\": {\"width\": 2, \"color\": \"black\"}}, {\"type\": \"scatter\", \"x\": [1152, 1152], \"y\": [1600.0, 0], \"mode\": \"lines\", \"line\": {\"width\": 2, \"color\": \"black\"}}, {\"type\": \"scatter\", \"x\": [1052, 1152], \"y\": [0, 0], \"mode\": \"lines\", \"line\": {\"width\": 2, \"color\": \"black\"}}, {\"type\": \"scatter\", \"x\": [200.0, 200.0, 200.0, 200.0, 600.0, 600.0, 600.0, 600.0, 1000.0, 1000.0, 1000.0, 1000.0, 1400.0, 1400.0, 1400.0, 1400.0, 945, 1162, 689, 952, 392, 653, 1013, 889, 114, 925, 63, 123, 1289, 141, 900, 842, 730, 455, 704, 235, 469, 1183, 1185, 1041, 1245, 1355, 978, 1447, 1161, 849, 168, 1453, 1579, 1496, 607, 363, 891, 62, 130, 147, 864, 935, 566, 35, 733, 1045, 716, 947, 638, 354, 471, 297, 1186, 509, 641, 1130, 1560, 934, 811, 1488, 585, 57, 1129, 1409, 671, 1049, 147, 445, 553, 1588, 1074, 187, 1208, 1032, 1325, 58, 563, 1461, 893, 1243, 706, 1391, 428, 445, 829, 1090, 945, 256, 1311, 1467, 196, 48, 792, 603, 607, 758, 971, 1056, 1023, 417, 518, 1254, 773, 950, 526, 246, 796, 1090, 1039, 204, 804, 819, 365, 702, 93, 809, 646, 1001, 1096, 515, 305, 330, 1072, 502, 964, 724, 390, 1419, 1044, 816, 741, 907, 679, 1035, 332, 523, 962, 753, 893, 1318, 662, 877, 540, 8, 938, 1571, 535, 967, 583, 624, 573, 525, 313, 1219, 188, 817, 579, 1062, 966, 877, 653, 508, 214, 832, 457, 754, 1464, 590, 428, 1002, 845, 496, 1397, 800, 237, 1486, 2, 1453, 469, 170, 929, 670, 112, 632, 1299, 1591, 1468, 742, 803, 658, 1059, 40, 162, 969, 206, 703, 1030, 512, 146, 1566, 585, 585, 685, 685, 1293, 1293, 1426, 1426, 1258, 1258, 1416, 1416, 1052, 1052, 1152, 1152], \"y\": [200.0, 600.0, 1000.0, 1400.0, 200.0, 600.0, 1000.0, 1400.0, 200.0, 600.0, 1000.0, 1400.0, 200.0, 600.0, 1000.0, 1400.0, 745, 1465, 901, 1370, 630, 300, 567, 762, 1386, 324, 354, 1031, 505, 517, 436, 794, 666, 834, 1049, 1570, 378, 779, 1298, 555, 423, 693, 1089, 1560, 588, 807, 523, 1311, 971, 328, 989, 778, 1193, 1401, 642, 1212, 957, 629, 763, 922, 647, 505, 721, 513, 517, 185, 214, 351, 1425, 656, 679, 1005, 482, 1165, 1085, 796, 664, 311, 181, 1133, 534, 448, 90, 278, 531, 864, 943, 1544, 791, 962, 283, 1297, 967, 1000, 333, 1179, 1323, 1536, 247, 684, 1415, 841, 573, 226, 793, 1298, 1323, 1023, 1479, 915, 618, 1165, 95, 630, 671, 705, 187, 1026, 987, 1455, 1014, 1147, 1098, 765, 1008, 617, 597, 1148, 1417, 937, 768, 577, 42, 1449, 498, 771, 1584, 320, 826, 687, 888, 1124, 198, 1574, 989, 829, 860, 675, 276, 851, 985, 888, 797, 999, 1090, 731, 746, 650, 569, 1368, 732, 973, 545, 951, 741, 533, 756, 750, 1117, 1104, 1370, 767, 116, 8, 771, 1025, 762, 716, 421, 1310, 817, 864, 354, 935, 287, 1097, 818, 1420, 386, 800, 1481, 1131, 554, 96, 157, 503, 1013, 565, 743, 179, 1214, 1013, 1431, 888, 1014, 956, 807, 98, 713, 501, 145, 831, 668, 743, 37, 459, 0, 1600.0, 1600.0, 0, 214, 315, 315, 214, 1425, 1445, 1445, 1425, 0, 1600.0, 1600.0, 0], \"mode\": \"markers\", \"marker\": {\"size\": 8, \"color\": [\"orange\", \"orange\", \"orange\", \"orange\", \"orange\", \"orange\", \"orange\", \"orange\", \"orange\", \"orange\", \"orange\", \"orange\", \"orange\", \"orange\", \"orange\", \"orange\", \"magenta\", \"magenta\", \"blue\", \"magenta\", \"magenta\", \"magenta\", \"magenta\", \"blue\", \"magenta\", \"magenta\", \"magenta\", \"magenta\", \"magenta\", \"magenta\", \"magenta\", \"blue\", \"blue\", \"magenta\", \"blue\", \"magenta\", \"magenta\", \"magenta\", \"magenta\", \"magenta\", \"magenta\", \"magenta\", \"magenta\", \"magenta\", \"magenta\", \"blue\", \"magenta\", \"magenta\", \"magenta\", \"magenta\", \"blue\", \"magenta\", \"magenta\", \"magenta\", \"magenta\", \"magenta\", \"blue\", \"magenta\", \"magenta\", \"magenta\", \"blue\", \"blue\", \"magenta\", \"blue\", \"magenta\", \"magenta\", \"magenta\", \"magenta\", \"magenta\", \"blue\", \"blue\", \"magenta\", \"magenta\", \"magenta\", \"blue\", \"magenta\", \"magenta\", \"magenta\", \"magenta\", \"magenta\", \"magenta\", \"magenta\", \"magenta\", \"magenta\", \"blue\", \"magenta\", \"blue\", \"magenta\", \"magenta\", \"magenta\", \"magenta\", \"magenta\", \"blue\", \"magenta\", \"magenta\", \"magenta\", \"magenta\", \"magenta\", \"magenta\", \"magenta\", \"magenta\", \"blue\", \"magenta\", \"magenta\", \"magenta\", \"magenta\", \"magenta\", \"magenta\", \"magenta\", \"magenta\", \"blue\", \"magenta\", \"magenta\", \"magenta\", \"magenta\", \"magenta\", \"magenta\", \"magenta\", \"blue\", \"magenta\", \"blue\", \"magenta\", \"blue\", \"blue\", \"blue\", \"magenta\", \"blue\", \"magenta\", \"magenta\", \"blue\", \"magenta\", \"blue\", \"magenta\", \"magenta\", \"magenta\", \"magenta\", \"magenta\", \"magenta\", \"magenta\", \"blue\", \"blue\", \"magenta\", \"magenta\", \"magenta\", \"blue\", \"blue\", \"blue\", \"blue\", \"magenta\", \"blue\", \"magenta\", \"magenta\", \"magenta\", \"blue\", \"blue\", \"magenta\", \"blue\", \"blue\", \"blue\", \"magenta\", \"magenta\", \"magenta\", \"blue\", \"blue\", \"blue\", \"blue\", \"blue\", \"blue\", \"magenta\", \"magenta\", \"magenta\", \"blue\", \"magenta\", \"magenta\", \"blue\", \"blue\", \"blue\", \"blue\", \"magenta\", \"magenta\", \"magenta\", \"blue\", \"magenta\", \"blue\", \"magenta\", \"blue\", \"magenta\", \"magenta\", \"magenta\", \"blue\", \"magenta\", \"magenta\", \"magenta\", \"magenta\", \"magenta\", \"magenta\", \"blue\", \"blue\", \"magenta\", \"magenta\", \"magenta\", \"magenta\", \"magenta\", \"blue\", \"blue\", \"blue\", \"blue\", \"magenta\", \"magenta\", \"magenta\", \"magenta\", \"blue\", \"magenta\", \"magenta\", \"magenta\", \"magenta\", \"black\", \"black\", \"black\", \"black\", \"black\", \"black\", \"black\", \"black\", \"black\", \"black\", \"black\", \"black\", \"black\", \"black\", \"black\", \"black\"]}}], {\"xaxis\": {\"range\": [0, 1600], \"title\": \"x\"}, \"yaxis\": {\"range\": [0, 1600], \"title\": \"y\"}, \"title\": \"UE and AP Distribution in the grid\", \"height\": 1000, \"width\": 1000, \"showlegend\": false, \"shapes\": [{\"type\": \"rect\", \"x0\": 585, \"y0\": 0, \"x1\": 685, \"y1\": 1600.0, \"line\": {\"color\": \"rgba(128, 0, 128, 1)\", \"width\": 2}, \"fillcolor\": \"rgba(128, 0, 128 0.1)\"}, {\"type\": \"rect\", \"x0\": 1293, \"y0\": 214, \"x1\": 1426, \"y1\": 315, \"line\": {\"color\": \"rgba(128, 0, 128, 1)\", \"width\": 2}, \"fillcolor\": \"rgba(128, 0, 128 0.1)\"}, {\"type\": \"rect\", \"x0\": 1258, \"y0\": 1425, \"x1\": 1416, \"y1\": 1445, \"line\": {\"color\": \"rgba(128, 0, 128, 1)\", \"width\": 2}, \"fillcolor\": \"rgba(128, 0, 128 0.1)\"}, {\"type\": \"rect\", \"x0\": 1052, \"y0\": 0, \"x1\": 1152, \"y1\": 1600.0, \"line\": {\"color\": \"rgba(128, 0, 128, 1)\", \"width\": 2}, \"fillcolor\": \"rgba(128, 0, 128 0.1)\"}]}, {\"showLink\": true, \"linkText\": \"Export to plot.ly\"})});</script>"
      ],
      "text/vnd.plotly.v1+html": [
       "<div id=\"ffff7d5a-871a-4865-9ba8-d93c276274f6\" style=\"height: 1000px; width: 1000px;\" class=\"plotly-graph-div\"></div><script type=\"text/javascript\">require([\"plotly\"], function(Plotly) { window.PLOTLYENV=window.PLOTLYENV || {};window.PLOTLYENV.BASE_URL=\"https://plot.ly\";Plotly.newPlot(\"ffff7d5a-871a-4865-9ba8-d93c276274f6\", [{\"type\": \"scatter\", \"x\": [1000.0, 945], \"y\": [600.0, 745], \"mode\": \"lines\", \"line\": {\"width\": 2, \"color\": \"green\"}}, {\"type\": \"scatter\", \"x\": [1000.0, 1162], \"y\": [1400.0, 1465], \"mode\": \"lines\", \"line\": {\"width\": 2, \"color\": \"green\"}}, {\"type\": \"scatter\", \"x\": [600.0, 689], \"y\": [1000.0, 901], \"mode\": \"lines\", \"line\": {\"width\": 2, \"color\": \"green\"}}, {\"type\": \"scatter\", \"x\": [1000.0, 952], \"y\": [1400.0, 1370], \"mode\": \"lines\", \"line\": {\"width\": 2, \"color\": \"green\"}}, {\"type\": \"scatter\", \"x\": [600.0, 392], \"y\": [1000.0, 630], \"mode\": \"lines\", \"line\": {\"width\": 2, \"color\": \"green\"}}, {\"type\": \"scatter\", \"x\": [600.0, 653], \"y\": [200.0, 300], \"mode\": \"lines\", \"line\": {\"width\": 2, \"color\": \"green\"}}, {\"type\": \"scatter\", \"x\": [1000.0, 1013], \"y\": [600.0, 567], \"mode\": \"lines\", \"line\": {\"width\": 2, \"color\": \"green\"}}, {\"type\": \"scatter\", \"x\": [1000.0, 889], \"y\": [1000.0, 762], \"mode\": \"lines\", \"line\": {\"width\": 2, \"color\": \"red\"}}, {\"type\": \"scatter\", \"x\": [200.0, 114], \"y\": [1000.0, 1386], \"mode\": \"lines\", \"line\": {\"width\": 2, \"color\": \"green\"}}, {\"type\": \"scatter\", \"x\": [1000.0, 925], \"y\": [200.0, 324], \"mode\": \"lines\", \"line\": {\"width\": 2, \"color\": \"green\"}}, {\"type\": \"scatter\", \"x\": [200.0, 63], \"y\": [600.0, 354], \"mode\": \"lines\", \"line\": {\"width\": 2, \"color\": \"green\"}}, {\"type\": \"scatter\", \"x\": [200.0, 123], \"y\": [1000.0, 1031], \"mode\": \"lines\", \"line\": {\"width\": 2, \"color\": \"green\"}}, {\"type\": \"scatter\", \"x\": [1400.0, 1289], \"y\": [600.0, 505], \"mode\": \"lines\", \"line\": {\"width\": 2, \"color\": \"green\"}}, {\"type\": \"scatter\", \"x\": [200.0, 141], \"y\": [200.0, 517], \"mode\": \"lines\", \"line\": {\"width\": 2, \"color\": \"green\"}}, {\"type\": \"scatter\", \"x\": [1000.0, 900], \"y\": [600.0, 436], \"mode\": \"lines\", \"line\": {\"width\": 2, \"color\": \"green\"}}, {\"type\": \"scatter\", \"x\": [600.0, 842], \"y\": [1000.0, 794], \"mode\": \"lines\", \"line\": {\"width\": 2, \"color\": \"red\"}}, {\"type\": \"scatter\", \"x\": [600.0, 730], \"y\": [600.0, 666], \"mode\": \"lines\", \"line\": {\"width\": 2, \"color\": \"green\"}}, {\"type\": \"scatter\", \"x\": [600.0, 455], \"y\": [600.0, 834], \"mode\": \"lines\", \"line\": {\"width\": 2, \"color\": \"green\"}}, {\"type\": \"scatter\", \"x\": [600.0, 704], \"y\": [1000.0, 1049], \"mode\": \"lines\", \"line\": {\"width\": 2, \"color\": \"green\"}}, {\"type\": \"scatter\", \"x\": [200.0, 235], \"y\": [1400.0, 1570], \"mode\": \"lines\", \"line\": {\"width\": 2, \"color\": \"green\"}}, {\"type\": \"scatter\", \"x\": [600.0, 469], \"y\": [600.0, 378], \"mode\": \"lines\", \"line\": {\"width\": 2, \"color\": \"green\"}}, {\"type\": \"scatter\", \"x\": [1000.0, 1183], \"y\": [600.0, 779], \"mode\": \"lines\", \"line\": {\"width\": 2, \"color\": \"green\"}}, {\"type\": \"scatter\", \"x\": [1000.0, 1185], \"y\": [1000.0, 1298], \"mode\": \"lines\", \"line\": {\"width\": 2, \"color\": \"green\"}}, {\"type\": \"scatter\", \"x\": [1400.0, 1041], \"y\": [600.0, 555], \"mode\": \"lines\", \"line\": {\"width\": 2, \"color\": \"green\"}}, {\"type\": \"scatter\", \"x\": [1000.0, 1245], \"y\": [600.0, 423], \"mode\": \"lines\", \"line\": {\"width\": 2, \"color\": \"green\"}}, {\"type\": \"scatter\", \"x\": [1400.0, 1355], \"y\": [600.0, 693], \"mode\": \"lines\", \"line\": {\"width\": 2, \"color\": \"green\"}}, {\"type\": \"scatter\", \"x\": [1000.0, 978], \"y\": [1000.0, 1089], \"mode\": \"lines\", \"line\": {\"width\": 2, \"color\": \"green\"}}, {\"type\": \"scatter\", \"x\": [1400.0, 1447], \"y\": [1400.0, 1560], \"mode\": \"lines\", \"line\": {\"width\": 2, \"color\": \"green\"}}, {\"type\": \"scatter\", \"x\": [1000.0, 1161], \"y\": [600.0, 588], \"mode\": \"lines\", \"line\": {\"width\": 2, \"color\": \"green\"}}, {\"type\": \"scatter\", \"x\": [1000.0, 849], \"y\": [1000.0, 807], \"mode\": \"lines\", \"line\": {\"width\": 2, \"color\": \"green\"}}, {\"type\": \"scatter\", \"x\": [200.0, 168], \"y\": [600.0, 523], \"mode\": \"lines\", \"line\": {\"width\": 2, \"color\": \"green\"}}, {\"type\": \"scatter\", \"x\": [1400.0, 1453], \"y\": [1400.0, 1311], \"mode\": \"lines\", \"line\": {\"width\": 2, \"color\": \"green\"}}, {\"type\": \"scatter\", \"x\": [1400.0, 1579], \"y\": [1000.0, 971], \"mode\": \"lines\", \"line\": {\"width\": 2, \"color\": \"green\"}}, {\"type\": \"scatter\", \"x\": [1400.0, 1496], \"y\": [600.0, 328], \"mode\": \"lines\", \"line\": {\"width\": 2, \"color\": \"green\"}}, {\"type\": \"scatter\", \"x\": [600.0, 607], \"y\": [1000.0, 989], \"mode\": \"lines\", \"line\": {\"width\": 2, \"color\": \"green\"}}, {\"type\": \"scatter\", \"x\": [600.0, 363], \"y\": [1000.0, 778], \"mode\": \"lines\", \"line\": {\"width\": 2, \"color\": \"green\"}}, {\"type\": \"scatter\", \"x\": [600.0, 891], \"y\": [1000.0, 1193], \"mode\": \"lines\", \"line\": {\"width\": 2, \"color\": \"green\"}}, {\"type\": \"scatter\", \"x\": [200.0, 62], \"y\": [1400.0, 1401], \"mode\": \"lines\", \"line\": {\"width\": 2, \"color\": \"green\"}}, {\"type\": \"scatter\", \"x\": [200.0, 130], \"y\": [600.0, 642], \"mode\": \"lines\", \"line\": {\"width\": 2, \"color\": \"green\"}}, {\"type\": \"scatter\", \"x\": [200.0, 147], \"y\": [1400.0, 1212], \"mode\": \"lines\", \"line\": {\"width\": 2, \"color\": \"green\"}}, {\"type\": \"scatter\", \"x\": [1000.0, 864], \"y\": [1000.0, 957], \"mode\": \"lines\", \"line\": {\"width\": 2, \"color\": \"green\"}}, {\"type\": \"scatter\", \"x\": [1000.0, 935], \"y\": [600.0, 629], \"mode\": \"lines\", \"line\": {\"width\": 2, \"color\": \"green\"}}, {\"type\": \"scatter\", \"x\": [600.0, 566], \"y\": [600.0, 763], \"mode\": \"lines\", \"line\": {\"width\": 2, \"color\": \"green\"}}, {\"type\": \"scatter\", \"x\": [200.0, 35], \"y\": [1000.0, 922], \"mode\": \"lines\", \"line\": {\"width\": 2, \"color\": \"green\"}}, {\"type\": \"scatter\", \"x\": [1000.0, 733], \"y\": [600.0, 647], \"mode\": \"lines\", \"line\": {\"width\": 2, \"color\": \"red\"}}, {\"type\": \"scatter\", \"x\": [1000.0, 1045], \"y\": [600.0, 505], \"mode\": \"lines\", \"line\": {\"width\": 2, \"color\": \"green\"}}, {\"type\": \"scatter\", \"x\": [1000.0, 716], \"y\": [1000.0, 721], \"mode\": \"lines\", \"line\": {\"width\": 2, \"color\": \"green\"}}, {\"type\": \"scatter\", \"x\": [1000.0, 947], \"y\": [600.0, 513], \"mode\": \"lines\", \"line\": {\"width\": 2, \"color\": \"green\"}}, {\"type\": \"scatter\", \"x\": [1000.0, 638], \"y\": [600.0, 517], \"mode\": \"lines\", \"line\": {\"width\": 2, \"color\": \"green\"}}, {\"type\": \"scatter\", \"x\": [200.0, 354], \"y\": [200.0, 185], \"mode\": \"lines\", \"line\": {\"width\": 2, \"color\": \"green\"}}, {\"type\": \"scatter\", \"x\": [600.0, 471], \"y\": [200.0, 214], \"mode\": \"lines\", \"line\": {\"width\": 2, \"color\": \"green\"}}, {\"type\": \"scatter\", \"x\": [200.0, 297], \"y\": [200.0, 351], \"mode\": \"lines\", \"line\": {\"width\": 2, \"color\": \"green\"}}, {\"type\": \"scatter\", \"x\": [1000.0, 1186], \"y\": [1400.0, 1425], \"mode\": \"lines\", \"line\": {\"width\": 2, \"color\": \"green\"}}, {\"type\": \"scatter\", \"x\": [600.0, 509], \"y\": [600.0, 656], \"mode\": \"lines\", \"line\": {\"width\": 2, \"color\": \"green\"}}, {\"type\": \"scatter\", \"x\": [600.0, 641], \"y\": [600.0, 679], \"mode\": \"lines\", \"line\": {\"width\": 2, \"color\": \"green\"}}, {\"type\": \"scatter\", \"x\": [1000.0, 1130], \"y\": [1000.0, 1005], \"mode\": \"lines\", \"line\": {\"width\": 2, \"color\": \"green\"}}, {\"type\": \"scatter\", \"x\": [1400.0, 1560], \"y\": [200.0, 482], \"mode\": \"lines\", \"line\": {\"width\": 2, \"color\": \"green\"}}, {\"type\": \"scatter\", \"x\": [1000.0, 934], \"y\": [1000.0, 1165], \"mode\": \"lines\", \"line\": {\"width\": 2, \"color\": \"green\"}}, {\"type\": \"scatter\", \"x\": [1000.0, 811], \"y\": [1000.0, 1085], \"mode\": \"lines\", \"line\": {\"width\": 2, \"color\": \"green\"}}, {\"type\": \"scatter\", \"x\": [1400.0, 1488], \"y\": [600.0, 796], \"mode\": \"lines\", \"line\": {\"width\": 2, \"color\": \"green\"}}, {\"type\": \"scatter\", \"x\": [600.0, 585], \"y\": [600.0, 664], \"mode\": \"lines\", \"line\": {\"width\": 2, \"color\": \"green\"}}, {\"type\": \"scatter\", \"x\": [200.0, 57], \"y\": [200.0, 311], \"mode\": \"lines\", \"line\": {\"width\": 2, \"color\": \"green\"}}, {\"type\": \"scatter\", \"x\": [1400.0, 1129], \"y\": [200.0, 181], \"mode\": \"lines\", \"line\": {\"width\": 2, \"color\": \"green\"}}, {\"type\": \"scatter\", \"x\": [1400.0, 1409], \"y\": [1000.0, 1133], \"mode\": \"lines\", \"line\": {\"width\": 2, \"color\": \"green\"}}, {\"type\": \"scatter\", \"x\": [600.0, 671], \"y\": [600.0, 534], \"mode\": \"lines\", \"line\": {\"width\": 2, \"color\": \"green\"}}, {\"type\": \"scatter\", \"x\": [1000.0, 1049], \"y\": [600.0, 448], \"mode\": \"lines\", \"line\": {\"width\": 2, \"color\": \"green\"}}, {\"type\": \"scatter\", \"x\": [200.0, 147], \"y\": [200.0, 90], \"mode\": \"lines\", \"line\": {\"width\": 2, \"color\": \"green\"}}, {\"type\": \"scatter\", \"x\": [600.0, 445], \"y\": [200.0, 278], \"mode\": \"lines\", \"line\": {\"width\": 2, \"color\": \"green\"}}, {\"type\": \"scatter\", \"x\": [200.0, 553], \"y\": [200.0, 531], \"mode\": \"lines\", \"line\": {\"width\": 2, \"color\": \"green\"}}, {\"type\": \"scatter\", \"x\": [1400.0, 1588], \"y\": [1000.0, 864], \"mode\": \"lines\", \"line\": {\"width\": 2, \"color\": \"green\"}}, {\"type\": \"scatter\", \"x\": [1000.0, 1074], \"y\": [1000.0, 943], \"mode\": \"lines\", \"line\": {\"width\": 2, \"color\": \"green\"}}, {\"type\": \"scatter\", \"x\": [200.0, 187], \"y\": [1400.0, 1544], \"mode\": \"lines\", \"line\": {\"width\": 2, \"color\": \"green\"}}, {\"type\": \"scatter\", \"x\": [1400.0, 1208], \"y\": [600.0, 791], \"mode\": \"lines\", \"line\": {\"width\": 2, \"color\": \"green\"}}, {\"type\": \"scatter\", \"x\": [1000.0, 1032], \"y\": [1000.0, 962], \"mode\": \"lines\", \"line\": {\"width\": 2, \"color\": \"green\"}}, {\"type\": \"scatter\", \"x\": [1400.0, 1325], \"y\": [200.0, 283], \"mode\": \"lines\", \"line\": {\"width\": 2, \"color\": \"green\"}}, {\"type\": \"scatter\", \"x\": [200.0, 58], \"y\": [1400.0, 1297], \"mode\": \"lines\", \"line\": {\"width\": 2, \"color\": \"green\"}}, {\"type\": \"scatter\", \"x\": [600.0, 563], \"y\": [1000.0, 967], \"mode\": \"lines\", \"line\": {\"width\": 2, \"color\": \"green\"}}, {\"type\": \"scatter\", \"x\": [1400.0, 1461], \"y\": [1000.0, 1000], \"mode\": \"lines\", \"line\": {\"width\": 2, \"color\": \"green\"}}, {\"type\": \"scatter\", \"x\": [1000.0, 893], \"y\": [200.0, 333], \"mode\": \"lines\", \"line\": {\"width\": 2, \"color\": \"green\"}}, {\"type\": \"scatter\", \"x\": [1400.0, 1243], \"y\": [1000.0, 1179], \"mode\": \"lines\", \"line\": {\"width\": 2, \"color\": \"green\"}}, {\"type\": \"scatter\", \"x\": [600.0, 706], \"y\": [1400.0, 1323], \"mode\": \"lines\", \"line\": {\"width\": 2, \"color\": \"green\"}}, {\"type\": \"scatter\", \"x\": [1400.0, 1391], \"y\": [1400.0, 1536], \"mode\": \"lines\", \"line\": {\"width\": 2, \"color\": \"green\"}}, {\"type\": \"scatter\", \"x\": [600.0, 428], \"y\": [200.0, 247], \"mode\": \"lines\", \"line\": {\"width\": 2, \"color\": \"green\"}}, {\"type\": \"scatter\", \"x\": [600.0, 445], \"y\": [600.0, 684], \"mode\": \"lines\", \"line\": {\"width\": 2, \"color\": \"green\"}}, {\"type\": \"scatter\", \"x\": [600.0, 829], \"y\": [1400.0, 1415], \"mode\": \"lines\", \"line\": {\"width\": 2, \"color\": \"green\"}}, {\"type\": \"scatter\", \"x\": [1000.0, 1090], \"y\": [1000.0, 841], \"mode\": \"lines\", \"line\": {\"width\": 2, \"color\": \"green\"}}, {\"type\": \"scatter\", \"x\": [1000.0, 945], \"y\": [600.0, 573], \"mode\": \"lines\", \"line\": {\"width\": 2, \"color\": \"green\"}}, {\"type\": \"scatter\", \"x\": [200.0, 256], \"y\": [200.0, 226], \"mode\": \"lines\", \"line\": {\"width\": 2, \"color\": \"green\"}}, {\"type\": \"scatter\", \"x\": [1000.0, 1311], \"y\": [1000.0, 793], \"mode\": \"lines\", \"line\": {\"width\": 2, \"color\": \"green\"}}, {\"type\": \"scatter\", \"x\": [1400.0, 1467], \"y\": [1400.0, 1298], \"mode\": \"lines\", \"line\": {\"width\": 2, \"color\": \"green\"}}, {\"type\": \"scatter\", \"x\": [200.0, 196], \"y\": [1400.0, 1323], \"mode\": \"lines\", \"line\": {\"width\": 2, \"color\": \"green\"}}, {\"type\": \"scatter\", \"x\": [200.0, 48], \"y\": [1000.0, 1023], \"mode\": \"lines\", \"line\": {\"width\": 2, \"color\": \"green\"}}, {\"type\": \"scatter\", \"x\": [600.0, 792], \"y\": [1400.0, 1479], \"mode\": \"lines\", \"line\": {\"width\": 2, \"color\": \"green\"}}, {\"type\": \"scatter\", \"x\": [600.0, 603], \"y\": [1000.0, 915], \"mode\": \"lines\", \"line\": {\"width\": 2, \"color\": \"green\"}}, {\"type\": \"scatter\", \"x\": [600.0, 607], \"y\": [600.0, 618], \"mode\": \"lines\", \"line\": {\"width\": 2, \"color\": \"green\"}}, {\"type\": \"scatter\", \"x\": [600.0, 758], \"y\": [1000.0, 1165], \"mode\": \"lines\", \"line\": {\"width\": 2, \"color\": \"green\"}}, {\"type\": \"scatter\", \"x\": [1000.0, 971], \"y\": [200.0, 95], \"mode\": \"lines\", \"line\": {\"width\": 2, \"color\": \"green\"}}, {\"type\": \"scatter\", \"x\": [1000.0, 1056], \"y\": [600.0, 630], \"mode\": \"lines\", \"line\": {\"width\": 2, \"color\": \"green\"}}, {\"type\": \"scatter\", \"x\": [1000.0, 1023], \"y\": [600.0, 671], \"mode\": \"lines\", \"line\": {\"width\": 2, \"color\": \"green\"}}, {\"type\": \"scatter\", \"x\": [600.0, 417], \"y\": [600.0, 705], \"mode\": \"lines\", \"line\": {\"width\": 2, \"color\": \"green\"}}, {\"type\": \"scatter\", \"x\": [600.0, 518], \"y\": [200.0, 187], \"mode\": \"lines\", \"line\": {\"width\": 2, \"color\": \"green\"}}, {\"type\": \"scatter\", \"x\": [1400.0, 1254], \"y\": [1000.0, 1026], \"mode\": \"lines\", \"line\": {\"width\": 2, \"color\": \"green\"}}, {\"type\": \"scatter\", \"x\": [600.0, 773], \"y\": [600.0, 987], \"mode\": \"lines\", \"line\": {\"width\": 2, \"color\": \"red\"}}, {\"type\": \"scatter\", \"x\": [1000.0, 950], \"y\": [1400.0, 1455], \"mode\": \"lines\", \"line\": {\"width\": 2, \"color\": \"green\"}}, {\"type\": \"scatter\", \"x\": [600.0, 526], \"y\": [1000.0, 1014], \"mode\": \"lines\", \"line\": {\"width\": 2, \"color\": \"green\"}}, {\"type\": \"scatter\", \"x\": [200.0, 246], \"y\": [1400.0, 1147], \"mode\": \"lines\", \"line\": {\"width\": 2, \"color\": \"green\"}}, {\"type\": \"scatter\", \"x\": [600.0, 796], \"y\": [1000.0, 1098], \"mode\": \"lines\", \"line\": {\"width\": 2, \"color\": \"green\"}}, {\"type\": \"scatter\", \"x\": [1000.0, 1090], \"y\": [1000.0, 765], \"mode\": \"lines\", \"line\": {\"width\": 2, \"color\": \"red\"}}, {\"type\": \"scatter\", \"x\": [1000.0, 1039], \"y\": [1000.0, 1008], \"mode\": \"lines\", \"line\": {\"width\": 2, \"color\": \"green\"}}, {\"type\": \"scatter\", \"x\": [200.0, 204], \"y\": [600.0, 617], \"mode\": \"lines\", \"line\": {\"width\": 2, \"color\": \"green\"}}, {\"type\": \"scatter\", \"x\": [600.0, 804], \"y\": [600.0, 597], \"mode\": \"lines\", \"line\": {\"width\": 2, \"color\": \"red\"}}, {\"type\": \"scatter\", \"x\": [600.0, 819], \"y\": [1000.0, 1148], \"mode\": \"lines\", \"line\": {\"width\": 2, \"color\": \"green\"}}, {\"type\": \"scatter\", \"x\": [200.0, 365], \"y\": [1400.0, 1417], \"mode\": \"lines\", \"line\": {\"width\": 2, \"color\": \"green\"}}, {\"type\": \"scatter\", \"x\": [1000.0, 702], \"y\": [1000.0, 937], \"mode\": \"lines\", \"line\": {\"width\": 2, \"color\": \"red\"}}, {\"type\": \"scatter\", \"x\": [200.0, 93], \"y\": [600.0, 768], \"mode\": \"lines\", \"line\": {\"width\": 2, \"color\": \"green\"}}, {\"type\": \"scatter\", \"x\": [600.0, 809], \"y\": [600.0, 577], \"mode\": \"lines\", \"line\": {\"width\": 2, \"color\": \"red\"}}, {\"type\": \"scatter\", \"x\": [600.0, 646], \"y\": [200.0, 42], \"mode\": \"lines\", \"line\": {\"width\": 2, \"color\": \"green\"}}, {\"type\": \"scatter\", \"x\": [1000.0, 1001], \"y\": [1400.0, 1449], \"mode\": \"lines\", \"line\": {\"width\": 2, \"color\": \"green\"}}, {\"type\": \"scatter\", \"x\": [1000.0, 1096], \"y\": [200.0, 498], \"mode\": \"lines\", \"line\": {\"width\": 2, \"color\": \"green\"}}, {\"type\": \"scatter\", \"x\": [600.0, 515], \"y\": [600.0, 771], \"mode\": \"lines\", \"line\": {\"width\": 2, \"color\": \"green\"}}, {\"type\": \"scatter\", \"x\": [200.0, 305], \"y\": [1400.0, 1584], \"mode\": \"lines\", \"line\": {\"width\": 2, \"color\": \"green\"}}, {\"type\": \"scatter\", \"x\": [200.0, 330], \"y\": [200.0, 320], \"mode\": \"lines\", \"line\": {\"width\": 2, \"color\": \"green\"}}, {\"type\": \"scatter\", \"x\": [1000.0, 1072], \"y\": [1000.0, 826], \"mode\": \"lines\", \"line\": {\"width\": 2, \"color\": \"green\"}}, {\"type\": \"scatter\", \"x\": [600.0, 502], \"y\": [600.0, 687], \"mode\": \"lines\", \"line\": {\"width\": 2, \"color\": \"red\"}}, {\"type\": \"scatter\", \"x\": [1000.0, 964], \"y\": [1000.0, 888], \"mode\": \"lines\", \"line\": {\"width\": 2, \"color\": \"red\"}}, {\"type\": \"scatter\", \"x\": [600.0, 724], \"y\": [1000.0, 1124], \"mode\": \"lines\", \"line\": {\"width\": 2, \"color\": \"green\"}}, {\"type\": \"scatter\", \"x\": [200.0, 390], \"y\": [200.0, 198], \"mode\": \"lines\", \"line\": {\"width\": 2, \"color\": \"green\"}}, {\"type\": \"scatter\", \"x\": [1400.0, 1419], \"y\": [1400.0, 1574], \"mode\": \"lines\", \"line\": {\"width\": 2, \"color\": \"green\"}}, {\"type\": \"scatter\", \"x\": [1000.0, 1044], \"y\": [1000.0, 989], \"mode\": \"lines\", \"line\": {\"width\": 2, \"color\": \"red\"}}, {\"type\": \"scatter\", \"x\": [1000.0, 816], \"y\": [1000.0, 829], \"mode\": \"lines\", \"line\": {\"width\": 2, \"color\": \"red\"}}, {\"type\": \"scatter\", \"x\": [600.0, 741], \"y\": [1000.0, 860], \"mode\": \"lines\", \"line\": {\"width\": 2, \"color\": \"red\"}}, {\"type\": \"scatter\", \"x\": [1000.0, 907], \"y\": [600.0, 675], \"mode\": \"lines\", \"line\": {\"width\": 2, \"color\": \"red\"}}, {\"type\": \"scatter\", \"x\": [600.0, 679], \"y\": [200.0, 276], \"mode\": \"lines\", \"line\": {\"width\": 2, \"color\": \"green\"}}, {\"type\": \"scatter\", \"x\": [1400.0, 1035], \"y\": [1000.0, 851], \"mode\": \"lines\", \"line\": {\"width\": 2, \"color\": \"green\"}}, {\"type\": \"scatter\", \"x\": [200.0, 332], \"y\": [1000.0, 985], \"mode\": \"lines\", \"line\": {\"width\": 2, \"color\": \"green\"}}, {\"type\": \"scatter\", \"x\": [600.0, 523], \"y\": [1000.0, 888], \"mode\": \"lines\", \"line\": {\"width\": 2, \"color\": \"green\"}}, {\"type\": \"scatter\", \"x\": [1000.0, 962], \"y\": [600.0, 797], \"mode\": \"lines\", \"line\": {\"width\": 2, \"color\": \"green\"}}, {\"type\": \"scatter\", \"x\": [600.0, 753], \"y\": [1000.0, 999], \"mode\": \"lines\", \"line\": {\"width\": 2, \"color\": \"red\"}}, {\"type\": \"scatter\", \"x\": [1000.0, 893], \"y\": [1000.0, 1090], \"mode\": \"lines\", \"line\": {\"width\": 2, \"color\": \"red\"}}, {\"type\": \"scatter\", \"x\": [1000.0, 1318], \"y\": [1000.0, 731], \"mode\": \"lines\", \"line\": {\"width\": 2, \"color\": \"green\"}}, {\"type\": \"scatter\", \"x\": [1000.0, 662], \"y\": [1000.0, 746], \"mode\": \"lines\", \"line\": {\"width\": 2, \"color\": \"red\"}}, {\"type\": \"scatter\", \"x\": [1000.0, 877], \"y\": [600.0, 650], \"mode\": \"lines\", \"line\": {\"width\": 2, \"color\": \"red\"}}, {\"type\": \"scatter\", \"x\": [600.0, 540], \"y\": [600.0, 569], \"mode\": \"lines\", \"line\": {\"width\": 2, \"color\": \"red\"}}, {\"type\": \"scatter\", \"x\": [200.0, 8], \"y\": [1400.0, 1368], \"mode\": \"lines\", \"line\": {\"width\": 2, \"color\": \"green\"}}, {\"type\": \"scatter\", \"x\": [1000.0, 938], \"y\": [600.0, 732], \"mode\": \"lines\", \"line\": {\"width\": 2, \"color\": \"green\"}}, {\"type\": \"scatter\", \"x\": [1400.0, 1571], \"y\": [1000.0, 973], \"mode\": \"lines\", \"line\": {\"width\": 2, \"color\": \"green\"}}, {\"type\": \"scatter\", \"x\": [600.0, 535], \"y\": [600.0, 545], \"mode\": \"lines\", \"line\": {\"width\": 2, \"color\": \"red\"}}, {\"type\": \"scatter\", \"x\": [1000.0, 967], \"y\": [1000.0, 951], \"mode\": \"lines\", \"line\": {\"width\": 2, \"color\": \"red\"}}, {\"type\": \"scatter\", \"x\": [600.0, 583], \"y\": [1000.0, 741], \"mode\": \"lines\", \"line\": {\"width\": 2, \"color\": \"red\"}}, {\"type\": \"scatter\", \"x\": [600.0, 624], \"y\": [600.0, 533], \"mode\": \"lines\", \"line\": {\"width\": 2, \"color\": \"red\"}}, {\"type\": \"scatter\", \"x\": [600.0, 573], \"y\": [1000.0, 756], \"mode\": \"lines\", \"line\": {\"width\": 2, \"color\": \"red\"}}, {\"type\": \"scatter\", \"x\": [200.0, 525], \"y\": [600.0, 750], \"mode\": \"lines\", \"line\": {\"width\": 2, \"color\": \"red\"}}, {\"type\": \"scatter\", \"x\": [200.0, 313], \"y\": [1000.0, 1117], \"mode\": \"lines\", \"line\": {\"width\": 2, \"color\": \"green\"}}, {\"type\": \"scatter\", \"x\": [1000.0, 1219], \"y\": [1000.0, 1104], \"mode\": \"lines\", \"line\": {\"width\": 2, \"color\": \"green\"}}, {\"type\": \"scatter\", \"x\": [200.0, 188], \"y\": [1400.0, 1370], \"mode\": \"lines\", \"line\": {\"width\": 2, \"color\": \"green\"}}, {\"type\": \"scatter\", \"x\": [1000.0, 817], \"y\": [600.0, 767], \"mode\": \"lines\", \"line\": {\"width\": 2, \"color\": \"red\"}}, {\"type\": \"scatter\", \"x\": [600.0, 579], \"y\": [200.0, 116], \"mode\": \"lines\", \"line\": {\"width\": 2, \"color\": \"green\"}}, {\"type\": \"scatter\", \"x\": [1000.0, 1062], \"y\": [200.0, 8], \"mode\": \"lines\", \"line\": {\"width\": 2, \"color\": \"green\"}}, {\"type\": \"scatter\", \"x\": [1000.0, 966], \"y\": [600.0, 771], \"mode\": \"lines\", \"line\": {\"width\": 2, \"color\": \"red\"}}, {\"type\": \"scatter\", \"x\": [600.0, 877], \"y\": [1000.0, 1025], \"mode\": \"lines\", \"line\": {\"width\": 2, \"color\": \"red\"}}, {\"type\": \"scatter\", \"x\": [1000.0, 653], \"y\": [600.0, 762], \"mode\": \"lines\", \"line\": {\"width\": 2, \"color\": \"red\"}}, {\"type\": \"scatter\", \"x\": [600.0, 508], \"y\": [600.0, 716], \"mode\": \"lines\", \"line\": {\"width\": 2, \"color\": \"red\"}}, {\"type\": \"scatter\", \"x\": [200.0, 214], \"y\": [600.0, 421], \"mode\": \"lines\", \"line\": {\"width\": 2, \"color\": \"green\"}}, {\"type\": \"scatter\", \"x\": [1000.0, 832], \"y\": [1400.0, 1310], \"mode\": \"lines\", \"line\": {\"width\": 2, \"color\": \"green\"}}, {\"type\": \"scatter\", \"x\": [200.0, 457], \"y\": [600.0, 817], \"mode\": \"lines\", \"line\": {\"width\": 2, \"color\": \"green\"}}, {\"type\": \"scatter\", \"x\": [600.0, 754], \"y\": [1000.0, 864], \"mode\": \"lines\", \"line\": {\"width\": 2, \"color\": \"red\"}}, {\"type\": \"scatter\", \"x\": [1400.0, 1464], \"y\": [200.0, 354], \"mode\": \"lines\", \"line\": {\"width\": 2, \"color\": \"green\"}}, {\"type\": \"scatter\", \"x\": [600.0, 590], \"y\": [1000.0, 935], \"mode\": \"lines\", \"line\": {\"width\": 2, \"color\": \"red\"}}, {\"type\": \"scatter\", \"x\": [200.0, 428], \"y\": [600.0, 287], \"mode\": \"lines\", \"line\": {\"width\": 2, \"color\": \"green\"}}, {\"type\": \"scatter\", \"x\": [1000.0, 1002], \"y\": [1400.0, 1097], \"mode\": \"lines\", \"line\": {\"width\": 2, \"color\": \"green\"}}, {\"type\": \"scatter\", \"x\": [1000.0, 845], \"y\": [1000.0, 818], \"mode\": \"lines\", \"line\": {\"width\": 2, \"color\": \"green\"}}, {\"type\": \"scatter\", \"x\": [600.0, 496], \"y\": [1400.0, 1420], \"mode\": \"lines\", \"line\": {\"width\": 2, \"color\": \"green\"}}, {\"type\": \"scatter\", \"x\": [1400.0, 1397], \"y\": [200.0, 386], \"mode\": \"lines\", \"line\": {\"width\": 2, \"color\": \"green\"}}, {\"type\": \"scatter\", \"x\": [1000.0, 800], \"y\": [600.0, 800], \"mode\": \"lines\", \"line\": {\"width\": 2, \"color\": \"red\"}}, {\"type\": \"scatter\", \"x\": [200.0, 237], \"y\": [1400.0, 1481], \"mode\": \"lines\", \"line\": {\"width\": 2, \"color\": \"green\"}}, {\"type\": \"scatter\", \"x\": [1400.0, 1486], \"y\": [1000.0, 1131], \"mode\": \"lines\", \"line\": {\"width\": 2, \"color\": \"green\"}}, {\"type\": \"scatter\", \"x\": [200.0, 2], \"y\": [600.0, 554], \"mode\": \"lines\", \"line\": {\"width\": 2, \"color\": \"green\"}}, {\"type\": \"scatter\", \"x\": [1400.0, 1453], \"y\": [200.0, 96], \"mode\": \"lines\", \"line\": {\"width\": 2, \"color\": \"green\"}}, {\"type\": \"scatter\", \"x\": [600.0, 469], \"y\": [200.0, 157], \"mode\": \"lines\", \"line\": {\"width\": 2, \"color\": \"green\"}}, {\"type\": \"scatter\", \"x\": [200.0, 170], \"y\": [600.0, 503], \"mode\": \"lines\", \"line\": {\"width\": 2, \"color\": \"green\"}}, {\"type\": \"scatter\", \"x\": [600.0, 929], \"y\": [1000.0, 1013], \"mode\": \"lines\", \"line\": {\"width\": 2, \"color\": \"red\"}}, {\"type\": \"scatter\", \"x\": [600.0, 670], \"y\": [600.0, 565], \"mode\": \"lines\", \"line\": {\"width\": 2, \"color\": \"red\"}}, {\"type\": \"scatter\", \"x\": [200.0, 112], \"y\": [600.0, 743], \"mode\": \"lines\", \"line\": {\"width\": 2, \"color\": \"green\"}}, {\"type\": \"scatter\", \"x\": [600.0, 632], \"y\": [200.0, 179], \"mode\": \"lines\", \"line\": {\"width\": 2, \"color\": \"green\"}}, {\"type\": \"scatter\", \"x\": [1400.0, 1299], \"y\": [1400.0, 1214], \"mode\": \"lines\", \"line\": {\"width\": 2, \"color\": \"green\"}}, {\"type\": \"scatter\", \"x\": [1400.0, 1591], \"y\": [1000.0, 1013], \"mode\": \"lines\", \"line\": {\"width\": 2, \"color\": \"green\"}}, {\"type\": \"scatter\", \"x\": [1400.0, 1468], \"y\": [1400.0, 1431], \"mode\": \"lines\", \"line\": {\"width\": 2, \"color\": \"green\"}}, {\"type\": \"scatter\", \"x\": [600.0, 742], \"y\": [1000.0, 888], \"mode\": \"lines\", \"line\": {\"width\": 2, \"color\": \"red\"}}, {\"type\": \"scatter\", \"x\": [600.0, 803], \"y\": [1000.0, 1014], \"mode\": \"lines\", \"line\": {\"width\": 2, \"color\": \"red\"}}, {\"type\": \"scatter\", \"x\": [600.0, 658], \"y\": [1000.0, 956], \"mode\": \"lines\", \"line\": {\"width\": 2, \"color\": \"red\"}}, {\"type\": \"scatter\", \"x\": [1000.0, 1059], \"y\": [1000.0, 807], \"mode\": \"lines\", \"line\": {\"width\": 2, \"color\": \"red\"}}, {\"type\": \"scatter\", \"x\": [200.0, 40], \"y\": [200.0, 98], \"mode\": \"lines\", \"line\": {\"width\": 2, \"color\": \"green\"}}, {\"type\": \"scatter\", \"x\": [200.0, 162], \"y\": [600.0, 713], \"mode\": \"lines\", \"line\": {\"width\": 2, \"color\": \"green\"}}, {\"type\": \"scatter\", \"x\": [1000.0, 969], \"y\": [600.0, 501], \"mode\": \"lines\", \"line\": {\"width\": 2, \"color\": \"green\"}}, {\"type\": \"scatter\", \"x\": [200.0, 206], \"y\": [200.0, 145], \"mode\": \"lines\", \"line\": {\"width\": 2, \"color\": \"green\"}}, {\"type\": \"scatter\", \"x\": [1000.0, 703], \"y\": [1000.0, 831], \"mode\": \"lines\", \"line\": {\"width\": 2, \"color\": \"red\"}}, {\"type\": \"scatter\", \"x\": [1000.0, 1030], \"y\": [600.0, 668], \"mode\": \"lines\", \"line\": {\"width\": 2, \"color\": \"green\"}}, {\"type\": \"scatter\", \"x\": [600.0, 512], \"y\": [600.0, 743], \"mode\": \"lines\", \"line\": {\"width\": 2, \"color\": \"green\"}}, {\"type\": \"scatter\", \"x\": [200.0, 146], \"y\": [200.0, 37], \"mode\": \"lines\", \"line\": {\"width\": 2, \"color\": \"green\"}}, {\"type\": \"scatter\", \"x\": [1400.0, 1566], \"y\": [600.0, 459], \"mode\": \"lines\", \"line\": {\"width\": 2, \"color\": \"green\"}}, {\"type\": \"scatter\", \"x\": [585, 585], \"y\": [0, 1600.0], \"mode\": \"lines\", \"line\": {\"width\": 2, \"color\": \"black\"}}, {\"type\": \"scatter\", \"x\": [585, 685], \"y\": [1600.0, 1600.0], \"mode\": \"lines\", \"line\": {\"width\": 2, \"color\": \"black\"}}, {\"type\": \"scatter\", \"x\": [685, 685], \"y\": [1600.0, 0], \"mode\": \"lines\", \"line\": {\"width\": 2, \"color\": \"black\"}}, {\"type\": \"scatter\", \"x\": [585, 685], \"y\": [0, 0], \"mode\": \"lines\", \"line\": {\"width\": 2, \"color\": \"black\"}}, {\"type\": \"scatter\", \"x\": [1293, 1293], \"y\": [214, 315], \"mode\": \"lines\", \"line\": {\"width\": 2, \"color\": \"black\"}}, {\"type\": \"scatter\", \"x\": [1293, 1426], \"y\": [315, 315], \"mode\": \"lines\", \"line\": {\"width\": 2, \"color\": \"black\"}}, {\"type\": \"scatter\", \"x\": [1426, 1426], \"y\": [315, 214], \"mode\": \"lines\", \"line\": {\"width\": 2, \"color\": \"black\"}}, {\"type\": \"scatter\", \"x\": [1293, 1426], \"y\": [214, 214], \"mode\": \"lines\", \"line\": {\"width\": 2, \"color\": \"black\"}}, {\"type\": \"scatter\", \"x\": [1258, 1258], \"y\": [1425, 1445], \"mode\": \"lines\", \"line\": {\"width\": 2, \"color\": \"black\"}}, {\"type\": \"scatter\", \"x\": [1258, 1416], \"y\": [1445, 1445], \"mode\": \"lines\", \"line\": {\"width\": 2, \"color\": \"black\"}}, {\"type\": \"scatter\", \"x\": [1416, 1416], \"y\": [1445, 1425], \"mode\": \"lines\", \"line\": {\"width\": 2, \"color\": \"black\"}}, {\"type\": \"scatter\", \"x\": [1258, 1416], \"y\": [1425, 1425], \"mode\": \"lines\", \"line\": {\"width\": 2, \"color\": \"black\"}}, {\"type\": \"scatter\", \"x\": [1052, 1052], \"y\": [0, 1600.0], \"mode\": \"lines\", \"line\": {\"width\": 2, \"color\": \"black\"}}, {\"type\": \"scatter\", \"x\": [1052, 1152], \"y\": [1600.0, 1600.0], \"mode\": \"lines\", \"line\": {\"width\": 2, \"color\": \"black\"}}, {\"type\": \"scatter\", \"x\": [1152, 1152], \"y\": [1600.0, 0], \"mode\": \"lines\", \"line\": {\"width\": 2, \"color\": \"black\"}}, {\"type\": \"scatter\", \"x\": [1052, 1152], \"y\": [0, 0], \"mode\": \"lines\", \"line\": {\"width\": 2, \"color\": \"black\"}}, {\"type\": \"scatter\", \"x\": [200.0, 200.0, 200.0, 200.0, 600.0, 600.0, 600.0, 600.0, 1000.0, 1000.0, 1000.0, 1000.0, 1400.0, 1400.0, 1400.0, 1400.0, 945, 1162, 689, 952, 392, 653, 1013, 889, 114, 925, 63, 123, 1289, 141, 900, 842, 730, 455, 704, 235, 469, 1183, 1185, 1041, 1245, 1355, 978, 1447, 1161, 849, 168, 1453, 1579, 1496, 607, 363, 891, 62, 130, 147, 864, 935, 566, 35, 733, 1045, 716, 947, 638, 354, 471, 297, 1186, 509, 641, 1130, 1560, 934, 811, 1488, 585, 57, 1129, 1409, 671, 1049, 147, 445, 553, 1588, 1074, 187, 1208, 1032, 1325, 58, 563, 1461, 893, 1243, 706, 1391, 428, 445, 829, 1090, 945, 256, 1311, 1467, 196, 48, 792, 603, 607, 758, 971, 1056, 1023, 417, 518, 1254, 773, 950, 526, 246, 796, 1090, 1039, 204, 804, 819, 365, 702, 93, 809, 646, 1001, 1096, 515, 305, 330, 1072, 502, 964, 724, 390, 1419, 1044, 816, 741, 907, 679, 1035, 332, 523, 962, 753, 893, 1318, 662, 877, 540, 8, 938, 1571, 535, 967, 583, 624, 573, 525, 313, 1219, 188, 817, 579, 1062, 966, 877, 653, 508, 214, 832, 457, 754, 1464, 590, 428, 1002, 845, 496, 1397, 800, 237, 1486, 2, 1453, 469, 170, 929, 670, 112, 632, 1299, 1591, 1468, 742, 803, 658, 1059, 40, 162, 969, 206, 703, 1030, 512, 146, 1566, 585, 585, 685, 685, 1293, 1293, 1426, 1426, 1258, 1258, 1416, 1416, 1052, 1052, 1152, 1152], \"y\": [200.0, 600.0, 1000.0, 1400.0, 200.0, 600.0, 1000.0, 1400.0, 200.0, 600.0, 1000.0, 1400.0, 200.0, 600.0, 1000.0, 1400.0, 745, 1465, 901, 1370, 630, 300, 567, 762, 1386, 324, 354, 1031, 505, 517, 436, 794, 666, 834, 1049, 1570, 378, 779, 1298, 555, 423, 693, 1089, 1560, 588, 807, 523, 1311, 971, 328, 989, 778, 1193, 1401, 642, 1212, 957, 629, 763, 922, 647, 505, 721, 513, 517, 185, 214, 351, 1425, 656, 679, 1005, 482, 1165, 1085, 796, 664, 311, 181, 1133, 534, 448, 90, 278, 531, 864, 943, 1544, 791, 962, 283, 1297, 967, 1000, 333, 1179, 1323, 1536, 247, 684, 1415, 841, 573, 226, 793, 1298, 1323, 1023, 1479, 915, 618, 1165, 95, 630, 671, 705, 187, 1026, 987, 1455, 1014, 1147, 1098, 765, 1008, 617, 597, 1148, 1417, 937, 768, 577, 42, 1449, 498, 771, 1584, 320, 826, 687, 888, 1124, 198, 1574, 989, 829, 860, 675, 276, 851, 985, 888, 797, 999, 1090, 731, 746, 650, 569, 1368, 732, 973, 545, 951, 741, 533, 756, 750, 1117, 1104, 1370, 767, 116, 8, 771, 1025, 762, 716, 421, 1310, 817, 864, 354, 935, 287, 1097, 818, 1420, 386, 800, 1481, 1131, 554, 96, 157, 503, 1013, 565, 743, 179, 1214, 1013, 1431, 888, 1014, 956, 807, 98, 713, 501, 145, 831, 668, 743, 37, 459, 0, 1600.0, 1600.0, 0, 214, 315, 315, 214, 1425, 1445, 1445, 1425, 0, 1600.0, 1600.0, 0], \"mode\": \"markers\", \"marker\": {\"size\": 8, \"color\": [\"orange\", \"orange\", \"orange\", \"orange\", \"orange\", \"orange\", \"orange\", \"orange\", \"orange\", \"orange\", \"orange\", \"orange\", \"orange\", \"orange\", \"orange\", \"orange\", \"magenta\", \"magenta\", \"blue\", \"magenta\", \"magenta\", \"magenta\", \"magenta\", \"blue\", \"magenta\", \"magenta\", \"magenta\", \"magenta\", \"magenta\", \"magenta\", \"magenta\", \"blue\", \"blue\", \"magenta\", \"blue\", \"magenta\", \"magenta\", \"magenta\", \"magenta\", \"magenta\", \"magenta\", \"magenta\", \"magenta\", \"magenta\", \"magenta\", \"blue\", \"magenta\", \"magenta\", \"magenta\", \"magenta\", \"blue\", \"magenta\", \"magenta\", \"magenta\", \"magenta\", \"magenta\", \"blue\", \"magenta\", \"magenta\", \"magenta\", \"blue\", \"blue\", \"magenta\", \"blue\", \"magenta\", \"magenta\", \"magenta\", \"magenta\", \"magenta\", \"blue\", \"blue\", \"magenta\", \"magenta\", \"magenta\", \"blue\", \"magenta\", \"magenta\", \"magenta\", \"magenta\", \"magenta\", \"magenta\", \"magenta\", \"magenta\", \"magenta\", \"blue\", \"magenta\", \"blue\", \"magenta\", \"magenta\", \"magenta\", \"magenta\", \"magenta\", \"blue\", \"magenta\", \"magenta\", \"magenta\", \"magenta\", \"magenta\", \"magenta\", \"magenta\", \"magenta\", \"blue\", \"magenta\", \"magenta\", \"magenta\", \"magenta\", \"magenta\", \"magenta\", \"magenta\", \"magenta\", \"blue\", \"magenta\", \"magenta\", \"magenta\", \"magenta\", \"magenta\", \"magenta\", \"magenta\", \"blue\", \"magenta\", \"blue\", \"magenta\", \"blue\", \"blue\", \"blue\", \"magenta\", \"blue\", \"magenta\", \"magenta\", \"blue\", \"magenta\", \"blue\", \"magenta\", \"magenta\", \"magenta\", \"magenta\", \"magenta\", \"magenta\", \"magenta\", \"blue\", \"blue\", \"magenta\", \"magenta\", \"magenta\", \"blue\", \"blue\", \"blue\", \"blue\", \"magenta\", \"blue\", \"magenta\", \"magenta\", \"magenta\", \"blue\", \"blue\", \"magenta\", \"blue\", \"blue\", \"blue\", \"magenta\", \"magenta\", \"magenta\", \"blue\", \"blue\", \"blue\", \"blue\", \"blue\", \"blue\", \"magenta\", \"magenta\", \"magenta\", \"blue\", \"magenta\", \"magenta\", \"blue\", \"blue\", \"blue\", \"blue\", \"magenta\", \"magenta\", \"magenta\", \"blue\", \"magenta\", \"blue\", \"magenta\", \"blue\", \"magenta\", \"magenta\", \"magenta\", \"blue\", \"magenta\", \"magenta\", \"magenta\", \"magenta\", \"magenta\", \"magenta\", \"blue\", \"blue\", \"magenta\", \"magenta\", \"magenta\", \"magenta\", \"magenta\", \"blue\", \"blue\", \"blue\", \"blue\", \"magenta\", \"magenta\", \"magenta\", \"magenta\", \"blue\", \"magenta\", \"magenta\", \"magenta\", \"magenta\", \"black\", \"black\", \"black\", \"black\", \"black\", \"black\", \"black\", \"black\", \"black\", \"black\", \"black\", \"black\", \"black\", \"black\", \"black\", \"black\"]}}], {\"xaxis\": {\"range\": [0, 1600], \"title\": \"x\"}, \"yaxis\": {\"range\": [0, 1600], \"title\": \"y\"}, \"title\": \"UE and AP Distribution in the grid\", \"height\": 1000, \"width\": 1000, \"showlegend\": false, \"shapes\": [{\"type\": \"rect\", \"x0\": 585, \"y0\": 0, \"x1\": 685, \"y1\": 1600.0, \"line\": {\"color\": \"rgba(128, 0, 128, 1)\", \"width\": 2}, \"fillcolor\": \"rgba(128, 0, 128 0.1)\"}, {\"type\": \"rect\", \"x0\": 1293, \"y0\": 214, \"x1\": 1426, \"y1\": 315, \"line\": {\"color\": \"rgba(128, 0, 128, 1)\", \"width\": 2}, \"fillcolor\": \"rgba(128, 0, 128 0.1)\"}, {\"type\": \"rect\", \"x0\": 1258, \"y0\": 1425, \"x1\": 1416, \"y1\": 1445, \"line\": {\"color\": \"rgba(128, 0, 128, 1)\", \"width\": 2}, \"fillcolor\": \"rgba(128, 0, 128 0.1)\"}, {\"type\": \"rect\", \"x0\": 1052, \"y0\": 0, \"x1\": 1152, \"y1\": 1600.0, \"line\": {\"color\": \"rgba(128, 0, 128, 1)\", \"width\": 2}, \"fillcolor\": \"rgba(128, 0, 128 0.1)\"}]}, {\"showLink\": true, \"linkText\": \"Export to plot.ly\"})});</script>"
      ]
     },
     "metadata": {},
     "output_type": "display_data"
    },
    {
     "data": {
      "text/html": [
       "<script>function downloadimage(format, height, width, filename) {var p = document.getElementById('ffff7d5a-871a-4865-9ba8-d93c276274f6');Plotly.downloadImage(p, {format: format, height: height, width: width, filename: filename});};if(document.readyState == 'complete') {{downloadimage('png', 600, 800, 'plot_image');}}</script>"
      ],
      "text/plain": [
       "<IPython.core.display.HTML object>"
      ]
     },
     "metadata": {},
     "output_type": "display_data"
    }
   ],
   "source": [
    "data_0_episode = Info_plot_dynamic_UE(result_DQN, 0)\n",
    "data_values=data_0_episode[\"data\"]  \n",
    "\n",
    "figure={\"data\":data_values,\n",
    "        \"layout\": {'xaxis':{'range': [0, 1600], 'title': 'x'},\n",
    "                   'yaxis':{'range': [0, 1600], 'title': 'y'},\n",
    "                   'title':\"UE and AP Distribution in the grid\",\n",
    "                   'height' : 1000,\n",
    "                   'width' :1000,\n",
    "                   'showlegend': False,\n",
    "                   \"shapes\":Rec_dict, \n",
    "                  }\n",
    "       }\n",
    "plotly.offline.iplot(figure, image='png')"
   ]
  },
  {
   "cell_type": "code",
   "execution_count": 13,
   "metadata": {},
   "outputs": [
    {
     "ename": "SyntaxError",
     "evalue": "invalid syntax (<ipython-input-13-f7be406f9b2f>, line 11)",
     "output_type": "error",
     "traceback": [
      "\u001b[0;36m  File \u001b[0;32m\"<ipython-input-13-f7be406f9b2f>\"\u001b[0;36m, line \u001b[0;32m11\u001b[0m\n\u001b[0;31m    Plot and embed in ipython notebook!\u001b[0m\n\u001b[0m                                     ^\u001b[0m\n\u001b[0;31mSyntaxError\u001b[0m\u001b[0;31m:\u001b[0m invalid syntax\n"
     ]
    }
   ],
   "source": [
    "# Create rewards graph\n",
    "rewards = go.Scatter(\n",
    "    x = len(result_DQN.Rewards),\n",
    "    y = result_DQN.Rewards,\n",
    "    name='Rewards'\n",
    ")\n",
    "\n",
    "data = [rewards]\n",
    "\n",
    "\n",
    "Plot and embed in ipython notebook!\n",
    "plotly.offline.iplot(\n",
    "    {\"data\": data,\n",
    "     \"layout\": go.Layout(\n",
    "         height=500,\n",
    "         width=800,\n",
    "         title=\"Rewards over time using DQN\",\n",
    "         xaxis=dict(\n",
    "             title='Episodes',\n",
    "         ),\n",
    "         yaxis=dict(\n",
    "             title='Rewards',\n",
    "         ), \n",
    "         showlegend=True)},\n",
    "    show_link=False,\n",
    "    link_text=None)\n",
    ")\n",
    "#### Plots used for the presentation\n",
    "# plotly.offline.iplot(\n",
    "#     {\"data\": data,\n",
    "#      \"layout\": {'xaxis':{'range': [0, 301], 'title': 'x'},\n",
    "#                    'yaxis':{'range': [100, 320], 'title': 'Rewards'},\n",
    "#                    'title':\"Rewards over episodes using DQN\",\n",
    "#                    'height' : 1000,\n",
    "#                    'width' :1000,\n",
    "#                    'showlegend': False,\n",
    "#                   }\n",
    "#     })\n",
    "\n"
   ]
  },
  {
   "cell_type": "code",
   "execution_count": 11,
   "metadata": {},
   "outputs": [
    {
     "data": {
      "application/vnd.plotly.v1+json": {
       "data": [
        {
         "name": "Handoffs",
         "type": "scatter",
         "x": 3,
         "y": [
          9,
          7,
          11
         ]
        }
       ],
       "layout": {
        "height": 500,
        "showlegend": true,
        "title": "Handoffs over time using DQN",
        "width": 800,
        "xaxis": {
         "title": "Episodes"
        },
        "yaxis": {
         "title": "Handoffs"
        }
       }
      },
      "text/html": [
       "<div id=\"8baac90e-9570-4162-87dd-9461b356a9e1\" style=\"height: 500px; width: 800px;\" class=\"plotly-graph-div\"></div><script type=\"text/javascript\">require([\"plotly\"], function(Plotly) { window.PLOTLYENV=window.PLOTLYENV || {};window.PLOTLYENV.BASE_URL=\"https://plot.ly\";Plotly.newPlot(\"8baac90e-9570-4162-87dd-9461b356a9e1\", [{\"type\": \"scatter\", \"x\": 3, \"y\": [9.0, 7.0, 11.0], \"name\": \"Handoffs\"}], {\"height\": 500, \"width\": 800, \"title\": \"Handoffs over time using DQN\", \"xaxis\": {\"title\": \"Episodes\"}, \"yaxis\": {\"title\": \"Handoffs\"}, \"showlegend\": true}, {\"showLink\": false, \"linkText\": null})});</script>"
      ],
      "text/vnd.plotly.v1+html": [
       "<div id=\"8baac90e-9570-4162-87dd-9461b356a9e1\" style=\"height: 500px; width: 800px;\" class=\"plotly-graph-div\"></div><script type=\"text/javascript\">require([\"plotly\"], function(Plotly) { window.PLOTLYENV=window.PLOTLYENV || {};window.PLOTLYENV.BASE_URL=\"https://plot.ly\";Plotly.newPlot(\"8baac90e-9570-4162-87dd-9461b356a9e1\", [{\"type\": \"scatter\", \"x\": 3, \"y\": [9.0, 7.0, 11.0], \"name\": \"Handoffs\"}], {\"height\": 500, \"width\": 800, \"title\": \"Handoffs over time using DQN\", \"xaxis\": {\"title\": \"Episodes\"}, \"yaxis\": {\"title\": \"Handoffs\"}, \"showlegend\": true}, {\"showLink\": false, \"linkText\": null})});</script>"
      ]
     },
     "metadata": {},
     "output_type": "display_data"
    }
   ],
   "source": [
    "# Create handoff graph\n",
    "handoffs = go.Scatter(\n",
    "    x = len(result_DQN.Handoffs),\n",
    "    y = result_DQN.Handoffs,\n",
    "    name='Handoffs'\n",
    ")\n",
    "\n",
    "data = [handoffs]\n",
    "\n",
    "# Plot and embed in ipython notebook!\n",
    "plotly.offline.iplot(\n",
    "    {\"data\": data,\n",
    "     \"layout\": go.Layout(\n",
    "         height=500,\n",
    "         width=800,\n",
    "         title='Handoffs over time using DQN',\n",
    "         xaxis=dict(\n",
    "             title='Episodes',\n",
    "         ),\n",
    "         yaxis=dict(\n",
    "             title='Handoffs'\n",
    "         ), \n",
    "         showlegend=True)},\n",
    "    show_link=False,\n",
    "    link_text=None)\n",
    "\n"
   ]
  },
  {
   "cell_type": "code",
   "execution_count": 10,
   "metadata": {},
   "outputs": [
    {
     "data": {
      "application/vnd.plotly.v1+json": {
       "data": [
        {
         "name": "UE SLA",
         "type": "scatter",
         "x": 3,
         "y": [
          159,
          143,
          144
         ]
        }
       ],
       "layout": {
        "height": 500,
        "showlegend": true,
        "title": "UE's SLA over time using DQN",
        "width": 800,
        "xaxis": {
         "title": "Episodes"
        },
        "yaxis": {
         "title": "UE SLA"
        }
       }
      },
      "text/html": [
       "<div id=\"f829e18c-4f3a-4271-a0e1-5a83feaea4c9\" style=\"height: 500px; width: 800px;\" class=\"plotly-graph-div\"></div><script type=\"text/javascript\">require([\"plotly\"], function(Plotly) { window.PLOTLYENV=window.PLOTLYENV || {};window.PLOTLYENV.BASE_URL=\"https://plot.ly\";Plotly.newPlot(\"f829e18c-4f3a-4271-a0e1-5a83feaea4c9\", [{\"type\": \"scatter\", \"x\": 3, \"y\": [159.0, 143.0, 144.0], \"name\": \"UE SLA\"}], {\"height\": 500, \"width\": 800, \"title\": \"UE's SLA over time using DQN\", \"xaxis\": {\"title\": \"Episodes\"}, \"yaxis\": {\"title\": \"UE SLA\"}, \"showlegend\": true}, {\"showLink\": false, \"linkText\": null})});</script>"
      ],
      "text/vnd.plotly.v1+html": [
       "<div id=\"f829e18c-4f3a-4271-a0e1-5a83feaea4c9\" style=\"height: 500px; width: 800px;\" class=\"plotly-graph-div\"></div><script type=\"text/javascript\">require([\"plotly\"], function(Plotly) { window.PLOTLYENV=window.PLOTLYENV || {};window.PLOTLYENV.BASE_URL=\"https://plot.ly\";Plotly.newPlot(\"f829e18c-4f3a-4271-a0e1-5a83feaea4c9\", [{\"type\": \"scatter\", \"x\": 3, \"y\": [159.0, 143.0, 144.0], \"name\": \"UE SLA\"}], {\"height\": 500, \"width\": 800, \"title\": \"UE's SLA over time using DQN\", \"xaxis\": {\"title\": \"Episodes\"}, \"yaxis\": {\"title\": \"UE SLA\"}, \"showlegend\": true}, {\"showLink\": false, \"linkText\": null})});</script>"
      ]
     },
     "metadata": {},
     "output_type": "display_data"
    }
   ],
   "source": [
    "# Create UE graph\n",
    "ue_sla = go.Scatter(\n",
    "    x = len(result_DQN.Meets_SLA),\n",
    "    y = result_DQN.Meets_SLA,\n",
    "    name='UE SLA'\n",
    ")\n",
    "\n",
    "data = [ue_sla]\n",
    "\n",
    "# Plot and embed in ipython notebook!\n",
    "plotly.offline.iplot(\n",
    "     {\"data\": data,\n",
    "      \"layout\": go.Layout(\n",
    "          height=500,\n",
    "          width=800,\n",
    "          title=\"UE's SLA over time using DQN\",\n",
    "          xaxis=dict(\n",
    "              title='Episodes',\n",
    "          ),\n",
    "          yaxis=dict(\n",
    "              title='UE SLA'\n",
    "          ), \n",
    "          showlegend=True)},\n",
    "     show_link=False,\n",
    "     link_text=None)\n",
    "\n",
    "# For plots in the presentation \n",
    "# plotly.offline.iplot(\n",
    "#     {\"data\": data,\n",
    "#      \"layout\": {'xaxis':{'range': [0, 301], 'title': 'x'},\n",
    "#                    'yaxis':{'range': [100, 200], 'title': 'UE SLA'},\n",
    "#                    'title':\"UE's SLA over episodes using DQN\",\n",
    "#                    'height' : 1000,\n",
    "#                    'width' :1000,\n",
    "#                    'showlegend': False,\n",
    "#                   }\n",
    "#     })\n"
   ]
  },
  {
   "cell_type": "code",
   "execution_count": null,
   "metadata": {},
   "outputs": [],
   "source": []
  },
  {
   "cell_type": "code",
   "execution_count": null,
   "metadata": {},
   "outputs": [],
   "source": []
  }
 ],
 "metadata": {
  "kernelspec": {
   "display_name": "Python 3",
   "language": "python",
   "name": "python3"
  },
  "language_info": {
   "codemirror_mode": {
    "name": "ipython",
    "version": 3
   },
   "file_extension": ".py",
   "mimetype": "text/x-python",
   "name": "python",
   "nbconvert_exporter": "python",
   "pygments_lexer": "ipython3",
   "version": "3.6.5"
  }
 },
 "nbformat": 4,
 "nbformat_minor": 2
}
