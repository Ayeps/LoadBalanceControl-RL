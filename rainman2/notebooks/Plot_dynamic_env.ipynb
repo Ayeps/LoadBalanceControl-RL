{
 "cells": [
  {
   "cell_type": "code",
   "execution_count": 3,
   "metadata": {},
   "outputs": [
    {
     "data": {
      "text/html": [
       "<script>requirejs.config({paths: { 'plotly': ['https://cdn.plot.ly/plotly-latest.min']},});if(!window.Plotly) {{require(['plotly'],function(plotly) {window.Plotly=plotly;});}}</script>"
      ],
      "text/vnd.plotly.v1+html": [
       "<script>requirejs.config({paths: { 'plotly': ['https://cdn.plot.ly/plotly-latest.min']},});if(!window.Plotly) {{require(['plotly'],function(plotly) {window.Plotly=plotly;});}}</script>"
      ]
     },
     "metadata": {},
     "output_type": "display_data"
    },
    {
     "name": "stdout",
     "output_type": "stream",
     "text": [
      "Rainman2's logging has been configured!\n"
     ]
    },
    {
     "name": "stderr",
     "output_type": "stream",
     "text": [
      "Using TensorFlow backend.\n"
     ]
    }
   ],
   "source": [
    "import plotly\n",
    "import plotly.graph_objs as go\n",
    "from IPython.display import display, HTML\n",
    "plotly.offline.init_notebook_mode(connected=True)\n",
    "from loadbalanceRL import RAINMAN3\n",
    "from loadbalanceRL.lib.algorithm.plot_dynamic import *"
   ]
  },
  {
   "cell_type": "code",
   "execution_count": 6,
   "metadata": {},
   "outputs": [],
   "source": [
    "# Server profile: num_ues=120, APs=16, Scale=200.0, explore_radius=1\n",
    "# If you want to change the num of ues or aps go to reset that in the server.py\n",
    "# the EPISODES shows here is 100\n",
    "from collections import OrderedDict\n",
    "ALGORITHM_CONFIG = OrderedDict(\n",
    "    EPISODES=3,\n",
    "    ALPHA=0.2,\n",
    "    GAMMA=0.9,\n",
    "    EPSILON=0.3,\n",
    "    EPSILON_DECAY=0.99,\n",
    "    EPSILON_MIN=0.01,\n",
    "    VERBOSE=True,\n",
    "    L1_HIDDEN_UNITS=13,\n",
    "    L2_HIDDEN_UNITS=13,\n",
    "    L1_ACTIVATION='relu',\n",
    "    L2_ACTIVATION='relu',\n",
    "    LOSS_FUNCTION='mean_squared_error',\n",
    "    OPTIMIZER='Adam',\n",
    ")\n",
    "\n",
    "CELLULAR_MODEL_CONFIG = OrderedDict(\n",
    "    NAME='Cellular',\n",
    "    TYPE='Dev',\n",
    "    SERVER='0.0.0.0',\n",
    "    SERVER_PORT='8000',\n",
    "    VERBOSE=True,\n",
    ")"
   ]
  },
  {
   "cell_type": "code",
   "execution_count": 7,
   "metadata": {},
   "outputs": [
    {
     "name": "stderr",
     "output_type": "stream",
     "text": [
      "2018-08-10 14:15:19,174 Mingyangs-MacBook-Pro.local Rainman2[54881] INFO Starting experiment!\n",
      "2018-08-10 14:15:19,175 Mingyangs-MacBook-Pro.local Rainman2[54881] INFO Building Environment instance: Cellular\n",
      "2018-08-10 14:15:19,176 Mingyangs-MacBook-Pro.local loadbalanceRL.lib.environment.cellular.base[54881] INFO Instantiating Cellular client: Dev\n",
      "2018-08-10 14:15:19,178 Mingyangs-MacBook-Pro.local QCellularAgent[54881] INFO Configuration used for the QCellular Agent:\n",
      "2018-08-10 14:15:19,178 Mingyangs-MacBook-Pro.local QCellularAgent[54881] INFO episodes: 3\n",
      "2018-08-10 14:15:19,179 Mingyangs-MacBook-Pro.local QCellularAgent[54881] INFO alpha: 0.2\n",
      "2018-08-10 14:15:19,180 Mingyangs-MacBook-Pro.local QCellularAgent[54881] INFO gamma: 0.9\n",
      "2018-08-10 14:15:19,181 Mingyangs-MacBook-Pro.local QCellularAgent[54881] INFO epsilon: 0.3\n",
      "2018-08-10 14:15:19,181 Mingyangs-MacBook-Pro.local QCellularAgent[54881] INFO epsilon_decay: 0.99\n",
      "2018-08-10 14:15:19,182 Mingyangs-MacBook-Pro.local QCellularAgent[54881] INFO epsilon_min: 0.01\n",
      "2018-08-10 14:15:19,183 Mingyangs-MacBook-Pro.local QController[54881] INFO Agent: Naive is successfully instantiated!\n",
      "2018-08-10 14:15:19,184 Mingyangs-MacBook-Pro.local QController[54881] INFO Qlearning instance: QlearningForCellular is successfully instantiated!\n",
      "2018-08-10 14:15:19,185 Mingyangs-MacBook-Pro.local QlearningForCellular[54881] INFO Running Qlearning for Cellular Networks!\n",
      "2018-08-10 14:15:19,191 Mingyangs-MacBook-Pro.local CellularNetworkEnv[54881] INFO Resetting the env for the change position of UE!\n",
      "2018-08-10 14:15:19,223 Mingyangs-MacBook-Pro.local CellularNetworkEnv[54881] INFO Requesting network to handoff UE: 5 to new AP: 2\n",
      "2018-08-10 14:15:19,242 Mingyangs-MacBook-Pro.local CellularNetworkEnv[54881] INFO Requesting network to handoff UE: 8 to new AP: 11\n",
      "2018-08-10 14:15:19,259 Mingyangs-MacBook-Pro.local CellularNetworkEnv[54881] INFO Requesting network to handoff UE: 11 to new AP: 2\n",
      "2018-08-10 14:15:19,274 Mingyangs-MacBook-Pro.local CellularNetworkEnv[54881] INFO Requesting network to handoff UE: 14 to new AP: 1\n",
      "2018-08-10 14:15:19,287 Mingyangs-MacBook-Pro.local CellularNetworkEnv[54881] INFO Requesting network to handoff UE: 16 to new AP: 7\n",
      "2018-08-10 14:15:19,300 Mingyangs-MacBook-Pro.local CellularNetworkEnv[54881] INFO Requesting network to handoff UE: 18 to new AP: 6\n",
      "2018-08-10 14:15:19,382 Mingyangs-MacBook-Pro.local CellularNetworkEnv[54881] INFO Requesting network to handoff UE: 47 to new AP: 11\n",
      "2018-08-10 14:15:19,431 Mingyangs-MacBook-Pro.local CellularNetworkEnv[54881] INFO Requesting network to handoff UE: 64 to new AP: 15\n",
      "2018-08-10 14:15:19,488 Mingyangs-MacBook-Pro.local CellularNetworkEnv[54881] INFO Requesting network to handoff UE: 85 to new AP: 8\n",
      "2018-08-10 14:15:19,545 Mingyangs-MacBook-Pro.local CellularNetworkEnv[54881] INFO Requesting network to handoff UE: 106 to new AP: 4\n",
      "2018-08-10 14:15:19,565 Mingyangs-MacBook-Pro.local CellularNetworkEnv[54881] INFO Requesting network to handoff UE: 111 to new AP: 6\n",
      "2018-08-10 14:15:19,579 Mingyangs-MacBook-Pro.local CellularNetworkEnv[54881] INFO Requesting network to handoff UE: 114 to new AP: 11\n",
      "2018-08-10 14:15:19,644 Mingyangs-MacBook-Pro.local CellularNetworkEnv[54881] INFO Requesting network to handoff UE: 139 to new AP: 11\n",
      "2018-08-10 14:15:19,660 Mingyangs-MacBook-Pro.local CellularNetworkEnv[54881] INFO Requesting network to handoff UE: 142 to new AP: 10\n",
      "2018-08-10 14:15:19,684 Mingyangs-MacBook-Pro.local CellularNetworkEnv[54881] INFO Requesting network to handoff UE: 149 to new AP: 7\n",
      "2018-08-10 14:15:19,697 Mingyangs-MacBook-Pro.local CellularNetworkEnv[54881] INFO Requesting network to handoff UE: 151 to new AP: 7\n",
      "2018-08-10 14:15:19,718 Mingyangs-MacBook-Pro.local CellularNetworkEnv[54881] INFO Requesting network to handoff UE: 156 to new AP: 10\n",
      "2018-08-10 14:15:19,738 Mingyangs-MacBook-Pro.local CellularNetworkEnv[54881] INFO Requesting network to handoff UE: 161 to new AP: 10\n",
      "2018-08-10 14:15:19,748 Mingyangs-MacBook-Pro.local CellularNetworkEnv[54881] INFO Requesting network to handoff UE: 162 to new AP: 6\n",
      "2018-08-10 14:15:19,773 Mingyangs-MacBook-Pro.local CellularNetworkEnv[54881] INFO Requesting network to handoff UE: 169 to new AP: 2\n",
      "2018-08-10 14:15:19,783 Mingyangs-MacBook-Pro.local CellularNetworkEnv[54881] INFO Requesting network to handoff UE: 170 to new AP: 12\n",
      "2018-08-10 14:15:19,836 Mingyangs-MacBook-Pro.local CellularNetworkEnv[54881] INFO Requesting network to handoff UE: 189 to new AP: 7\n",
      "2018-08-10 14:15:19,850 Mingyangs-MacBook-Pro.local CellularNetworkEnv[54881] INFO Requesting network to handoff UE: 191 to new AP: 11\n",
      "2018-08-10 14:15:19,881 Mingyangs-MacBook-Pro.local CellularNetworkEnv[54881] INFO Resetting the environment after move in the 1 episode\n",
      "2018-08-10 14:15:19,881 Mingyangs-MacBook-Pro.local CellularNetworkEnv[54881] INFO Getting  numbe of 4 BRs right \n",
      "2018-08-10 14:15:19,974 Mingyangs-MacBook-Pro.local CellularNetworkEnv[54881] INFO UE: 13 is handed off from: 14 to : 13\n",
      "2018-08-10 14:15:19,998 Mingyangs-MacBook-Pro.local CellularNetworkEnv[54881] INFO UE: 19 is handed off from: 7 to : 11\n",
      "2018-08-10 14:15:20,067 Mingyangs-MacBook-Pro.local CellularNetworkEnv[54881] INFO UE: 44 is handed off from: 3 to : 2\n",
      "2018-08-10 14:15:20,087 Mingyangs-MacBook-Pro.local CellularNetworkEnv[54881] INFO UE: 48 is handed off from: 10 to : 9\n",
      "2018-08-10 14:15:20,112 Mingyangs-MacBook-Pro.local CellularNetworkEnv[54881] INFO UE: 54 is handed off from: 6 to : 3\n",
      "2018-08-10 14:15:20,133 Mingyangs-MacBook-Pro.local CellularNetworkEnv[54881] INFO UE: 59 is handed off from: 11 to : 7\n",
      "2018-08-10 14:15:20,166 Mingyangs-MacBook-Pro.local CellularNetworkEnv[54881] INFO UE: 69 is handed off from: 6 to : 5\n",
      "2018-08-10 14:15:20,217 Mingyangs-MacBook-Pro.local CellularNetworkEnv[54881] INFO UE: 86 is handed off from: 11 to : 10\n",
      "2018-08-10 14:15:20,279 Mingyangs-MacBook-Pro.local CellularNetworkEnv[54881] INFO UE: 107 is handed off from: 7 to : 11\n",
      "2018-08-10 14:15:20,294 Mingyangs-MacBook-Pro.local CellularNetworkEnv[54881] INFO UE: 108 is handed off from: 11 to : 10\n",
      "2018-08-10 14:15:20,325 Mingyangs-MacBook-Pro.local CellularNetworkEnv[54881] INFO UE: 116 is handed off from: 6 to : 10\n",
      "2018-08-10 14:15:20,370 Mingyangs-MacBook-Pro.local CellularNetworkEnv[54881] INFO UE: 129 is handed off from: 11 to : 15\n",
      "2018-08-10 14:15:20,386 Mingyangs-MacBook-Pro.local CellularNetworkEnv[54881] INFO UE: 131 is handed off from: 7 to : 10\n",
      "2018-08-10 14:15:20,419 Mingyangs-MacBook-Pro.local CellularNetworkEnv[54881] INFO UE: 141 is handed off from: 11 to : 6\n",
      "2018-08-10 14:15:20,432 Mingyangs-MacBook-Pro.local CellularNetworkEnv[54881] INFO UE: 142 is handed off from: 10 to : 6\n",
      "2018-08-10 14:15:20,444 Mingyangs-MacBook-Pro.local CellularNetworkEnv[54881] INFO UE: 143 is handed off from: 6 to : 2\n",
      "2018-08-10 14:15:20,465 Mingyangs-MacBook-Pro.local CellularNetworkEnv[54881] INFO UE: 147 is handed off from: 6 to : 2\n",
      "2018-08-10 14:15:20,487 Mingyangs-MacBook-Pro.local CellularNetworkEnv[54881] INFO UE: 151 is handed off from: 7 to : 2\n",
      "2018-08-10 14:15:20,530 Mingyangs-MacBook-Pro.local CellularNetworkEnv[54881] INFO UE: 161 is handed off from: 10 to : 7\n",
      "2018-08-10 14:15:20,543 Mingyangs-MacBook-Pro.local CellularNetworkEnv[54881] INFO UE: 162 is handed off from: 6 to : 7\n",
      "2018-08-10 14:15:20,625 Mingyangs-MacBook-Pro.local CellularNetworkEnv[54881] INFO UE: 191 is handed off from: 11 to : 10\n",
      "2018-08-10 14:15:20,652 Mingyangs-MacBook-Pro.local CellularNetworkEnv[54881] INFO Resetting the environment after move in the 2 episode\n",
      "2018-08-10 14:15:20,655 Mingyangs-MacBook-Pro.local CellularNetworkEnv[54881] INFO Getting  numbe of 4 BRs right \n",
      "2018-08-10 14:15:20,719 Mingyangs-MacBook-Pro.local CellularNetworkEnv[54881] INFO UE: 3 is handed off from: 7 to : 6\n",
      "2018-08-10 14:15:20,742 Mingyangs-MacBook-Pro.local CellularNetworkEnv[54881] INFO UE: 8 is handed off from: 11 to : 10\n",
      "2018-08-10 14:15:20,772 Mingyangs-MacBook-Pro.local CellularNetworkEnv[54881] INFO UE: 16 is handed off from: 7 to : 10\n",
      "2018-08-10 14:15:20,815 Mingyangs-MacBook-Pro.local CellularNetworkEnv[54881] INFO UE: 30 is handed off from: 11 to : 10\n",
      "2018-08-10 14:15:20,884 Mingyangs-MacBook-Pro.local CellularNetworkEnv[54881] INFO UE: 55 is handed off from: 6 to : 10\n"
     ]
    },
    {
     "name": "stderr",
     "output_type": "stream",
     "text": [
      "2018-08-10 14:15:20,905 Mingyangs-MacBook-Pro.local CellularNetworkEnv[54881] INFO UE: 59 is handed off from: 7 to : 11\n",
      "2018-08-10 14:15:21,002 Mingyangs-MacBook-Pro.local CellularNetworkEnv[54881] INFO UE: 95 is handed off from: 6 to : 7\n",
      "2018-08-10 14:15:21,032 Mingyangs-MacBook-Pro.local CellularNetworkEnv[54881] INFO UE: 103 is handed off from: 7 to : 11\n",
      "2018-08-10 14:15:21,074 Mingyangs-MacBook-Pro.local CellularNetworkEnv[54881] INFO UE: 116 is handed off from: 10 to : 6\n",
      "2018-08-10 14:15:21,121 Mingyangs-MacBook-Pro.local CellularNetworkEnv[54881] INFO UE: 131 is handed off from: 10 to : 7\n",
      "2018-08-10 14:15:21,156 Mingyangs-MacBook-Pro.local CellularNetworkEnv[54881] INFO UE: 139 is handed off from: 11 to : 7\n",
      "2018-08-10 14:15:21,173 Mingyangs-MacBook-Pro.local CellularNetworkEnv[54881] INFO UE: 142 is handed off from: 6 to : 11\n",
      "2018-08-10 14:15:21,185 Mingyangs-MacBook-Pro.local CellularNetworkEnv[54881] INFO UE: 143 is handed off from: 2 to : 5\n",
      "2018-08-10 14:15:21,213 Mingyangs-MacBook-Pro.local CellularNetworkEnv[54881] INFO UE: 151 is handed off from: 2 to : 7\n",
      "2018-08-10 14:15:21,243 Mingyangs-MacBook-Pro.local CellularNetworkEnv[54881] INFO UE: 159 is handed off from: 10 to : 11\n",
      "2018-08-10 14:15:21,272 Mingyangs-MacBook-Pro.local CellularNetworkEnv[54881] INFO UE: 166 is handed off from: 7 to : 11\n",
      "2018-08-10 14:15:21,351 Mingyangs-MacBook-Pro.local CellularNetworkEnv[54881] INFO UE: 190 is handed off from: 7 to : 6\n",
      "2018-08-10 14:15:21,363 Mingyangs-MacBook-Pro.local CellularNetworkEnv[54881] INFO UE: 191 is handed off from: 10 to : 11\n",
      "2018-08-10 14:15:21,389 Mingyangs-MacBook-Pro.local CellularNetworkEnv[54881] INFO UE: 196 is handed off from: 11 to : 6\n",
      "2018-08-10 14:15:21,402 Mingyangs-MacBook-Pro.local QlearningForCellular[54881] INFO Episodes stats\n",
      "2018-08-10 14:15:21,402 Mingyangs-MacBook-Pro.local QlearningForCellular[54881] INFO Rewards: [172.75 190.25 188.75]\n",
      "2018-08-10 14:15:21,403 Mingyangs-MacBook-Pro.local QlearningForCellular[54881] INFO Handoffs: [23. 21. 19.]\n",
      "2018-08-10 14:15:21,404 Mingyangs-MacBook-Pro.local QlearningForCellular[54881] INFO UEs SLA Stats: [161. 145. 146.]\n"
     ]
    },
    {
     "name": "stdout",
     "output_type": "stream",
     "text": [
      "Module: run_experiment took: 2.0808529999999905s\n",
      "[<BR {'br_id': 1, 'br_type': 'road', 'location': [585, 685, 0, 1600.0], 'direction': 'NS'}>, <BR {'br_id': 2, 'br_type': 'building', 'location': [1293, 1426, 214, 315], 'direction': 'random'}>, <BR {'br_id': 3, 'br_type': 'building', 'location': [1258, 1416, 1425, 1445], 'direction': 'random'}>, <BR {'br_id': 4, 'br_type': 'road', 'location': [1052, 1152, 0, 1600.0], 'direction': 'NS'}>]\n"
     ]
    },
    {
     "name": "stderr",
     "output_type": "stream",
     "text": [
      "[========================================================================] 100%\r\n"
     ]
    }
   ],
   "source": [
    "RAINMAN3.algorithm_config = ALGORITHM_CONFIG\n",
    "RAINMAN3.environment_config = CELLULAR_MODEL_CONFIG\n",
    "result = RAINMAN3.run_experiment(\"Cellular\", \"Qlearning\", \"Naive\")\n",
    "print(result.BR_LIST)"
   ]
  },
  {
   "cell_type": "code",
   "execution_count": 11,
   "metadata": {},
   "outputs": [],
   "source": [
    "br_list = result.BR_LIST \n",
    "BR_locations=[]\n",
    "BR_locations += [x.location for x in br_list]\n",
    "Rec_dict=[]\n",
    "for i in range(len(br_list)):\n",
    "    Rec_dict.append({\n",
    "            'type': 'rect',\n",
    "            'x0': BR_locations[i][0],\n",
    "            'y0': BR_locations[i][2],\n",
    "            'x1': BR_locations[i][1],\n",
    "            'y1': BR_locations[i][3],\n",
    "            'line': {\n",
    "                'color': 'rgba(128, 0, 128, 1)',\n",
    "                'width': 2,\n",
    "            },\n",
    "            'fillcolor': 'rgba(128, 0, 128 0.1)'\n",
    "          })\n",
    "data, Frames_data, last_episode, layout_dict = plot_dynamic_data(result, Rec_dict, ALGORITHM_CONFIG['EPISODES'])\n"
   ]
  },
  {
   "cell_type": "code",
   "execution_count": 12,
   "metadata": {},
   "outputs": [
    {
     "data": {
      "application/vnd.plotly.v1+json": {
       "data": [
        {
         "marker": {
          "color": [
           "orange",
           "orange",
           "orange",
           "orange",
           "orange",
           "orange",
           "orange",
           "orange",
           "orange",
           "orange",
           "orange",
           "orange",
           "orange",
           "orange",
           "orange",
           "orange"
          ],
          "size": 8
         },
         "mode": "markers",
         "type": "scatter",
         "x": [
          200,
          200,
          200,
          200,
          600,
          600,
          600,
          600,
          1000,
          1000,
          1000,
          1000,
          1400,
          1400,
          1400,
          1400
         ],
         "y": [
          200,
          600,
          1000,
          1400,
          200,
          600,
          1000,
          1400,
          200,
          600,
          1000,
          1400,
          200,
          600,
          1000,
          1400
         ]
        }
       ],
       "layout": {
        "height": 1000,
        "shapes": [
         {
          "fillcolor": "rgba(128, 0, 128 0.1)",
          "line": {
           "color": "rgba(128, 0, 128, 1)",
           "width": 2
          },
          "type": "rect",
          "x0": 585,
          "x1": 685,
          "y0": 0,
          "y1": 1600
         },
         {
          "fillcolor": "rgba(128, 0, 128 0.1)",
          "line": {
           "color": "rgba(128, 0, 128, 1)",
           "width": 2
          },
          "type": "rect",
          "x0": 1293,
          "x1": 1426,
          "y0": 214,
          "y1": 315
         },
         {
          "fillcolor": "rgba(128, 0, 128 0.1)",
          "line": {
           "color": "rgba(128, 0, 128, 1)",
           "width": 2
          },
          "type": "rect",
          "x0": 1258,
          "x1": 1416,
          "y0": 1425,
          "y1": 1445
         },
         {
          "fillcolor": "rgba(128, 0, 128 0.1)",
          "line": {
           "color": "rgba(128, 0, 128, 1)",
           "width": 2
          },
          "type": "rect",
          "x0": 1052,
          "x1": 1152,
          "y0": 0,
          "y1": 1600
         }
        ],
        "showlegend": false,
        "title": "UE and AP Distribution in the grid",
        "width": 1000,
        "xaxis": {
         "range": [
          0,
          1600
         ],
         "title": "x"
        },
        "yaxis": {
         "range": [
          0,
          1600
         ],
         "title": "y"
        }
       }
      },
      "text/html": [
       "<div id=\"d66a25ef-6912-468c-b764-6608148e43d0\" style=\"height: 1000px; width: 1000px;\" class=\"plotly-graph-div\"></div><script type=\"text/javascript\">require([\"plotly\"], function(Plotly) { window.PLOTLYENV=window.PLOTLYENV || {};window.PLOTLYENV.BASE_URL=\"https://plot.ly\";Plotly.newPlot(\"d66a25ef-6912-468c-b764-6608148e43d0\", [{\"type\": \"scatter\", \"x\": [200.0, 200.0, 200.0, 200.0, 600.0, 600.0, 600.0, 600.0, 1000.0, 1000.0, 1000.0, 1000.0, 1400.0, 1400.0, 1400.0, 1400.0], \"y\": [200.0, 600.0, 1000.0, 1400.0, 200.0, 600.0, 1000.0, 1400.0, 200.0, 600.0, 1000.0, 1400.0, 200.0, 600.0, 1000.0, 1400.0], \"mode\": \"markers\", \"marker\": {\"size\": 8, \"color\": [\"orange\", \"orange\", \"orange\", \"orange\", \"orange\", \"orange\", \"orange\", \"orange\", \"orange\", \"orange\", \"orange\", \"orange\", \"orange\", \"orange\", \"orange\", \"orange\"]}}], {\"xaxis\": {\"range\": [0, 1600], \"title\": \"x\"}, \"yaxis\": {\"range\": [0, 1600], \"title\": \"y\"}, \"title\": \"UE and AP Distribution in the grid\", \"height\": 1000, \"width\": 1000, \"showlegend\": false, \"shapes\": [{\"type\": \"rect\", \"x0\": 585, \"y0\": 0, \"x1\": 685, \"y1\": 1600.0, \"line\": {\"color\": \"rgba(128, 0, 128, 1)\", \"width\": 2}, \"fillcolor\": \"rgba(128, 0, 128 0.1)\"}, {\"type\": \"rect\", \"x0\": 1293, \"y0\": 214, \"x1\": 1426, \"y1\": 315, \"line\": {\"color\": \"rgba(128, 0, 128, 1)\", \"width\": 2}, \"fillcolor\": \"rgba(128, 0, 128 0.1)\"}, {\"type\": \"rect\", \"x0\": 1258, \"y0\": 1425, \"x1\": 1416, \"y1\": 1445, \"line\": {\"color\": \"rgba(128, 0, 128, 1)\", \"width\": 2}, \"fillcolor\": \"rgba(128, 0, 128 0.1)\"}, {\"type\": \"rect\", \"x0\": 1052, \"y0\": 0, \"x1\": 1152, \"y1\": 1600.0, \"line\": {\"color\": \"rgba(128, 0, 128, 1)\", \"width\": 2}, \"fillcolor\": \"rgba(128, 0, 128 0.1)\"}]}, {\"showLink\": true, \"linkText\": \"Export to plot.ly\"})});</script>"
      ],
      "text/vnd.plotly.v1+html": [
       "<div id=\"d66a25ef-6912-468c-b764-6608148e43d0\" style=\"height: 1000px; width: 1000px;\" class=\"plotly-graph-div\"></div><script type=\"text/javascript\">require([\"plotly\"], function(Plotly) { window.PLOTLYENV=window.PLOTLYENV || {};window.PLOTLYENV.BASE_URL=\"https://plot.ly\";Plotly.newPlot(\"d66a25ef-6912-468c-b764-6608148e43d0\", [{\"type\": \"scatter\", \"x\": [200.0, 200.0, 200.0, 200.0, 600.0, 600.0, 600.0, 600.0, 1000.0, 1000.0, 1000.0, 1000.0, 1400.0, 1400.0, 1400.0, 1400.0], \"y\": [200.0, 600.0, 1000.0, 1400.0, 200.0, 600.0, 1000.0, 1400.0, 200.0, 600.0, 1000.0, 1400.0, 200.0, 600.0, 1000.0, 1400.0], \"mode\": \"markers\", \"marker\": {\"size\": 8, \"color\": [\"orange\", \"orange\", \"orange\", \"orange\", \"orange\", \"orange\", \"orange\", \"orange\", \"orange\", \"orange\", \"orange\", \"orange\", \"orange\", \"orange\", \"orange\", \"orange\"]}}], {\"xaxis\": {\"range\": [0, 1600], \"title\": \"x\"}, \"yaxis\": {\"range\": [0, 1600], \"title\": \"y\"}, \"title\": \"UE and AP Distribution in the grid\", \"height\": 1000, \"width\": 1000, \"showlegend\": false, \"shapes\": [{\"type\": \"rect\", \"x0\": 585, \"y0\": 0, \"x1\": 685, \"y1\": 1600.0, \"line\": {\"color\": \"rgba(128, 0, 128, 1)\", \"width\": 2}, \"fillcolor\": \"rgba(128, 0, 128 0.1)\"}, {\"type\": \"rect\", \"x0\": 1293, \"y0\": 214, \"x1\": 1426, \"y1\": 315, \"line\": {\"color\": \"rgba(128, 0, 128, 1)\", \"width\": 2}, \"fillcolor\": \"rgba(128, 0, 128 0.1)\"}, {\"type\": \"rect\", \"x0\": 1258, \"y0\": 1425, \"x1\": 1416, \"y1\": 1445, \"line\": {\"color\": \"rgba(128, 0, 128, 1)\", \"width\": 2}, \"fillcolor\": \"rgba(128, 0, 128 0.1)\"}, {\"type\": \"rect\", \"x0\": 1052, \"y0\": 0, \"x1\": 1152, \"y1\": 1600.0, \"line\": {\"color\": \"rgba(128, 0, 128, 1)\", \"width\": 2}, \"fillcolor\": \"rgba(128, 0, 128 0.1)\"}]}, {\"showLink\": true, \"linkText\": \"Export to plot.ly\"})});</script>"
      ]
     },
     "metadata": {},
     "output_type": "display_data"
    }
   ],
   "source": [
    "## Plot the APs and roads\n",
    "ue_ap_list = result.UE_AP_LIST[0]\n",
    "nodes_AP= [(0, 0)]\n",
    "nodes_AP += [tuple(x.location) for x in ue_ap_list[0:16]]\n",
    "nodes_color = []\n",
    "nodes_color += ['orange'] * 16\n",
    "n_x, n_y = zip(*nodes_AP[1:])\n",
    "nodes_dict = dict(\n",
    "        type='scatter',\n",
    "        x=n_x,\n",
    "        y=n_y,\n",
    "        mode='markers',\n",
    "        marker=dict(size=8, color=nodes_color)\n",
    "    )\n",
    "\n",
    "figure={\"data\":[nodes_dict],\n",
    "        \"layout\": {'xaxis':{'range': [0, 1600], 'title': 'x'},\n",
    "                   'yaxis':{'range': [0, 1600], 'title': 'y'},\n",
    "                   'title':\"UE and AP Distribution in the grid\",\n",
    "                   'height' : 1000,\n",
    "                   'width' :1000,\n",
    "                   'showlegend': False,\n",
    "                   \"shapes\":Rec_dict, \n",
    "                  }\n",
    "       }\n",
    "plotly.offline.iplot(figure)\n",
    "\n"
   ]
  },
  {
   "cell_type": "code",
   "execution_count": 13,
   "metadata": {},
   "outputs": [
    {
     "data": {
      "application/vnd.plotly.v1+json": {
       "data": [
        {
         "marker": {
          "color": [
           "orange",
           "orange",
           "orange",
           "orange",
           "orange",
           "orange",
           "orange",
           "orange",
           "orange",
           "orange",
           "orange",
           "orange",
           "orange",
           "orange",
           "orange",
           "orange"
          ],
          "size": 8
         },
         "mode": "markers",
         "type": "scatter",
         "x": [
          200,
          200,
          200,
          200,
          600,
          600,
          600,
          600,
          1000,
          1000,
          1000,
          1000,
          1400,
          1400,
          1400,
          1400
         ],
         "y": [
          200,
          600,
          1000,
          1400,
          200,
          600,
          1000,
          1400,
          200,
          600,
          1000,
          1400,
          200,
          600,
          1000,
          1400
         ]
        }
       ],
       "layout": {
        "height": 1000,
        "shapes": [
         {
          "fillcolor": "rgba(128, 0, 128 0.1)",
          "line": {
           "color": "rgba(128, 0, 128, 1)",
           "width": 2
          },
          "type": "rect",
          "x0": 585,
          "x1": 685,
          "y0": 0,
          "y1": 1600
         },
         {
          "fillcolor": "rgba(128, 0, 128 0.1)",
          "line": {
           "color": "rgba(128, 0, 128, 1)",
           "width": 2
          },
          "type": "rect",
          "x0": 1293,
          "x1": 1426,
          "y0": 214,
          "y1": 315
         },
         {
          "fillcolor": "rgba(128, 0, 128 0.1)",
          "line": {
           "color": "rgba(128, 0, 128, 1)",
           "width": 2
          },
          "type": "rect",
          "x0": 1258,
          "x1": 1416,
          "y0": 1425,
          "y1": 1445
         },
         {
          "fillcolor": "rgba(128, 0, 128 0.1)",
          "line": {
           "color": "rgba(128, 0, 128, 1)",
           "width": 2
          },
          "type": "rect",
          "x0": 1052,
          "x1": 1152,
          "y0": 0,
          "y1": 1600
         }
        ],
        "showlegend": false,
        "title": "UE and AP Distribution in the grid",
        "width": 1000,
        "xaxis": {
         "range": [
          0,
          1600
         ],
         "title": "x"
        },
        "yaxis": {
         "range": [
          0,
          1600
         ],
         "title": "y"
        }
       }
      },
      "text/html": [
       "<div id=\"d3708cdf-2898-4b14-b4e4-c7f7a595ac89\" style=\"height: 1000px; width: 1000px;\" class=\"plotly-graph-div\"></div><script type=\"text/javascript\">require([\"plotly\"], function(Plotly) { window.PLOTLYENV=window.PLOTLYENV || {};window.PLOTLYENV.BASE_URL=\"https://plot.ly\";Plotly.newPlot(\"d3708cdf-2898-4b14-b4e4-c7f7a595ac89\", [{\"type\": \"scatter\", \"x\": [200.0, 200.0, 200.0, 200.0, 600.0, 600.0, 600.0, 600.0, 1000.0, 1000.0, 1000.0, 1000.0, 1400.0, 1400.0, 1400.0, 1400.0], \"y\": [200.0, 600.0, 1000.0, 1400.0, 200.0, 600.0, 1000.0, 1400.0, 200.0, 600.0, 1000.0, 1400.0, 200.0, 600.0, 1000.0, 1400.0], \"mode\": \"markers\", \"marker\": {\"size\": 8, \"color\": [\"orange\", \"orange\", \"orange\", \"orange\", \"orange\", \"orange\", \"orange\", \"orange\", \"orange\", \"orange\", \"orange\", \"orange\", \"orange\", \"orange\", \"orange\", \"orange\"]}}], {\"xaxis\": {\"range\": [0, 1600], \"title\": \"x\"}, \"yaxis\": {\"range\": [0, 1600], \"title\": \"y\"}, \"title\": \"UE and AP Distribution in the grid\", \"height\": 1000, \"width\": 1000, \"showlegend\": false, \"shapes\": [{\"type\": \"rect\", \"x0\": 585, \"y0\": 0, \"x1\": 685, \"y1\": 1600.0, \"line\": {\"color\": \"rgba(128, 0, 128, 1)\", \"width\": 2}, \"fillcolor\": \"rgba(128, 0, 128 0.1)\"}, {\"type\": \"rect\", \"x0\": 1293, \"y0\": 214, \"x1\": 1426, \"y1\": 315, \"line\": {\"color\": \"rgba(128, 0, 128, 1)\", \"width\": 2}, \"fillcolor\": \"rgba(128, 0, 128 0.1)\"}, {\"type\": \"rect\", \"x0\": 1258, \"y0\": 1425, \"x1\": 1416, \"y1\": 1445, \"line\": {\"color\": \"rgba(128, 0, 128, 1)\", \"width\": 2}, \"fillcolor\": \"rgba(128, 0, 128 0.1)\"}, {\"type\": \"rect\", \"x0\": 1052, \"y0\": 0, \"x1\": 1152, \"y1\": 1600.0, \"line\": {\"color\": \"rgba(128, 0, 128, 1)\", \"width\": 2}, \"fillcolor\": \"rgba(128, 0, 128 0.1)\"}]}, {\"showLink\": true, \"linkText\": \"Export to plot.ly\"})});</script>"
      ],
      "text/vnd.plotly.v1+html": [
       "<div id=\"d3708cdf-2898-4b14-b4e4-c7f7a595ac89\" style=\"height: 1000px; width: 1000px;\" class=\"plotly-graph-div\"></div><script type=\"text/javascript\">require([\"plotly\"], function(Plotly) { window.PLOTLYENV=window.PLOTLYENV || {};window.PLOTLYENV.BASE_URL=\"https://plot.ly\";Plotly.newPlot(\"d3708cdf-2898-4b14-b4e4-c7f7a595ac89\", [{\"type\": \"scatter\", \"x\": [200.0, 200.0, 200.0, 200.0, 600.0, 600.0, 600.0, 600.0, 1000.0, 1000.0, 1000.0, 1000.0, 1400.0, 1400.0, 1400.0, 1400.0], \"y\": [200.0, 600.0, 1000.0, 1400.0, 200.0, 600.0, 1000.0, 1400.0, 200.0, 600.0, 1000.0, 1400.0, 200.0, 600.0, 1000.0, 1400.0], \"mode\": \"markers\", \"marker\": {\"size\": 8, \"color\": [\"orange\", \"orange\", \"orange\", \"orange\", \"orange\", \"orange\", \"orange\", \"orange\", \"orange\", \"orange\", \"orange\", \"orange\", \"orange\", \"orange\", \"orange\", \"orange\"]}}], {\"xaxis\": {\"range\": [0, 1600], \"title\": \"x\"}, \"yaxis\": {\"range\": [0, 1600], \"title\": \"y\"}, \"title\": \"UE and AP Distribution in the grid\", \"height\": 1000, \"width\": 1000, \"showlegend\": false, \"shapes\": [{\"type\": \"rect\", \"x0\": 585, \"y0\": 0, \"x1\": 685, \"y1\": 1600.0, \"line\": {\"color\": \"rgba(128, 0, 128, 1)\", \"width\": 2}, \"fillcolor\": \"rgba(128, 0, 128 0.1)\"}, {\"type\": \"rect\", \"x0\": 1293, \"y0\": 214, \"x1\": 1426, \"y1\": 315, \"line\": {\"color\": \"rgba(128, 0, 128, 1)\", \"width\": 2}, \"fillcolor\": \"rgba(128, 0, 128 0.1)\"}, {\"type\": \"rect\", \"x0\": 1258, \"y0\": 1425, \"x1\": 1416, \"y1\": 1445, \"line\": {\"color\": \"rgba(128, 0, 128, 1)\", \"width\": 2}, \"fillcolor\": \"rgba(128, 0, 128 0.1)\"}, {\"type\": \"rect\", \"x0\": 1052, \"y0\": 0, \"x1\": 1152, \"y1\": 1600.0, \"line\": {\"color\": \"rgba(128, 0, 128, 1)\", \"width\": 2}, \"fillcolor\": \"rgba(128, 0, 128 0.1)\"}]}, {\"showLink\": true, \"linkText\": \"Export to plot.ly\"})});</script>"
      ]
     },
     "metadata": {},
     "output_type": "display_data"
    }
   ],
   "source": [
    "## Plot only the APs\n",
    "ue_ap_list = result.UE_AP_LIST[0]\n",
    "nodes_AP= [(0, 0)]\n",
    "nodes_AP += [tuple(x.location) for x in ue_ap_list[0:16]]\n",
    "nodes_color = []\n",
    "nodes_color += ['orange'] * 16\n",
    "n_x, n_y = zip(*nodes_AP[1:])\n",
    "nodes_dict = dict(\n",
    "        type='scatter',\n",
    "        x=n_x,\n",
    "        y=n_y,\n",
    "        mode='markers',\n",
    "        marker=dict(size=8, color=nodes_color)\n",
    "    )\n",
    "\n",
    "figure={\"data\":[nodes_dict],\n",
    "        \"layout\": {'xaxis':{'range': [0, 1600], 'title': 'x'},\n",
    "                   'yaxis':{'range': [0, 1600], 'title': 'y'},\n",
    "                   'title':\"UE and AP Distribution in the grid\",\n",
    "                   'height' : 1000,\n",
    "                   'width' :1000,\n",
    "                   'showlegend': False,\n",
    "                   \"shapes\":Rec_dict, \n",
    "                  }\n",
    "       }\n",
    "plotly.offline.iplot(figure)\n",
    "\n",
    "\n"
   ]
  },
  {
   "cell_type": "code",
   "execution_count": 14,
   "metadata": {},
   "outputs": [
    {
     "name": "stdout",
     "output_type": "stream",
     "text": [
      "[]\n"
     ]
    },
    {
     "data": {
      "application/vnd.plotly.v1+json": {
       "data": [
        {
         "marker": {
          "color": [
           "orange",
           "orange",
           "orange",
           "orange",
           "orange",
           "orange",
           "orange",
           "orange",
           "orange",
           "orange",
           "orange",
           "orange",
           "orange",
           "orange",
           "orange",
           "orange",
           "magenta",
           "magenta",
           "blue",
           "magenta",
           "magenta",
           "magenta",
           "magenta",
           "blue",
           "magenta",
           "magenta",
           "magenta",
           "magenta",
           "magenta",
           "magenta",
           "magenta",
           "blue",
           "blue",
           "magenta",
           "blue",
           "magenta",
           "magenta",
           "magenta",
           "magenta",
           "magenta",
           "magenta",
           "magenta",
           "magenta",
           "magenta",
           "magenta",
           "blue",
           "magenta",
           "magenta",
           "magenta",
           "magenta",
           "blue",
           "magenta",
           "magenta",
           "magenta",
           "magenta",
           "magenta",
           "blue",
           "magenta",
           "magenta",
           "magenta",
           "blue",
           "blue",
           "magenta",
           "blue",
           "magenta",
           "magenta",
           "magenta",
           "magenta",
           "magenta",
           "blue",
           "blue",
           "magenta",
           "magenta",
           "magenta",
           "blue",
           "magenta",
           "magenta",
           "magenta",
           "magenta",
           "magenta",
           "magenta",
           "magenta",
           "magenta",
           "magenta",
           "blue",
           "magenta",
           "blue",
           "magenta",
           "magenta",
           "magenta",
           "magenta",
           "magenta",
           "blue",
           "magenta",
           "magenta",
           "magenta",
           "magenta",
           "magenta",
           "magenta",
           "magenta",
           "magenta",
           "blue",
           "magenta",
           "magenta",
           "magenta",
           "magenta",
           "magenta",
           "magenta",
           "magenta",
           "magenta",
           "blue",
           "magenta",
           "magenta",
           "magenta",
           "magenta",
           "magenta",
           "magenta",
           "magenta",
           "blue",
           "magenta",
           "blue",
           "magenta",
           "blue",
           "blue",
           "blue",
           "magenta",
           "blue",
           "magenta",
           "magenta",
           "blue",
           "magenta",
           "blue",
           "magenta",
           "magenta",
           "magenta",
           "magenta",
           "magenta",
           "magenta",
           "magenta",
           "blue",
           "blue",
           "magenta",
           "magenta",
           "magenta",
           "blue",
           "blue",
           "blue",
           "blue",
           "magenta",
           "blue",
           "magenta",
           "magenta",
           "magenta",
           "blue",
           "blue",
           "magenta",
           "blue",
           "blue",
           "blue",
           "magenta",
           "magenta",
           "magenta",
           "blue",
           "blue",
           "blue",
           "blue",
           "blue",
           "blue",
           "magenta",
           "magenta",
           "magenta",
           "blue",
           "magenta",
           "magenta",
           "blue",
           "blue",
           "blue",
           "blue",
           "magenta",
           "magenta",
           "magenta",
           "blue",
           "magenta",
           "blue",
           "magenta",
           "blue",
           "magenta",
           "magenta",
           "magenta",
           "blue",
           "magenta",
           "magenta",
           "magenta",
           "magenta",
           "magenta",
           "magenta",
           "blue",
           "blue",
           "magenta",
           "magenta",
           "magenta",
           "magenta",
           "magenta",
           "blue",
           "blue",
           "blue",
           "blue",
           "magenta",
           "magenta",
           "magenta",
           "magenta",
           "blue",
           "magenta",
           "magenta",
           "magenta",
           "magenta"
          ],
          "size": 8
         },
         "mode": "markers",
         "type": "scatter",
         "x": [
          200,
          200,
          200,
          200,
          600,
          600,
          600,
          600,
          1000,
          1000,
          1000,
          1000,
          1400,
          1400,
          1400,
          1400,
          945,
          1162,
          689,
          952,
          392,
          653,
          1013,
          889,
          114,
          925,
          63,
          123,
          1289,
          141,
          900,
          842,
          730,
          455,
          704,
          235,
          469,
          1183,
          1185,
          1041,
          1245,
          1355,
          978,
          1447,
          1161,
          849,
          168,
          1453,
          1579,
          1496,
          607,
          363,
          891,
          62,
          130,
          147,
          864,
          935,
          566,
          35,
          733,
          1045,
          716,
          947,
          638,
          354,
          471,
          297,
          1186,
          509,
          641,
          1130,
          1560,
          934,
          811,
          1488,
          585,
          57,
          1129,
          1409,
          671,
          1049,
          147,
          445,
          553,
          1588,
          1074,
          187,
          1208,
          1032,
          1325,
          58,
          563,
          1461,
          893,
          1243,
          706,
          1391,
          428,
          445,
          829,
          1090,
          945,
          256,
          1311,
          1467,
          196,
          48,
          792,
          603,
          607,
          758,
          971,
          1056,
          1023,
          417,
          518,
          1254,
          773,
          950,
          526,
          246,
          796,
          1090,
          1039,
          204,
          804,
          819,
          365,
          702,
          93,
          809,
          646,
          1001,
          1096,
          515,
          305,
          330,
          1072,
          502,
          964,
          724,
          390,
          1419,
          1044,
          816,
          741,
          907,
          679,
          1035,
          332,
          523,
          962,
          753,
          893,
          1318,
          662,
          877,
          540,
          8,
          938,
          1571,
          535,
          967,
          583,
          624,
          573,
          525,
          313,
          1219,
          188,
          817,
          579,
          1062,
          966,
          877,
          653,
          508,
          214,
          832,
          457,
          754,
          1464,
          590,
          428,
          1002,
          845,
          496,
          1397,
          800,
          237,
          1486,
          2,
          1453,
          469,
          170,
          929,
          670,
          112,
          632,
          1299,
          1591,
          1468,
          742,
          803,
          658,
          1059,
          40,
          162,
          969,
          206,
          703,
          1030,
          512,
          146,
          1566
         ],
         "y": [
          200,
          600,
          1000,
          1400,
          200,
          600,
          1000,
          1400,
          200,
          600,
          1000,
          1400,
          200,
          600,
          1000,
          1400,
          745,
          1465,
          901,
          1370,
          630,
          300,
          567,
          762,
          1386,
          324,
          354,
          1031,
          505,
          517,
          436,
          794,
          666,
          834,
          1049,
          1570,
          378,
          779,
          1298,
          555,
          423,
          693,
          1089,
          1560,
          588,
          807,
          523,
          1311,
          971,
          328,
          989,
          778,
          1193,
          1401,
          642,
          1212,
          957,
          629,
          763,
          922,
          647,
          505,
          721,
          513,
          517,
          185,
          214,
          351,
          1425,
          656,
          679,
          1005,
          482,
          1165,
          1085,
          796,
          664,
          311,
          181,
          1133,
          534,
          448,
          90,
          278,
          531,
          864,
          943,
          1544,
          791,
          962,
          283,
          1297,
          967,
          1000,
          333,
          1179,
          1323,
          1536,
          247,
          684,
          1415,
          841,
          573,
          226,
          793,
          1298,
          1323,
          1023,
          1479,
          915,
          618,
          1165,
          95,
          630,
          671,
          705,
          187,
          1026,
          987,
          1455,
          1014,
          1147,
          1098,
          765,
          1008,
          617,
          597,
          1148,
          1417,
          937,
          768,
          577,
          42,
          1449,
          498,
          771,
          1584,
          320,
          826,
          687,
          888,
          1124,
          198,
          1574,
          989,
          829,
          860,
          675,
          276,
          851,
          985,
          888,
          797,
          999,
          1090,
          731,
          746,
          650,
          569,
          1368,
          732,
          973,
          545,
          951,
          741,
          533,
          756,
          750,
          1117,
          1104,
          1370,
          767,
          116,
          8,
          771,
          1025,
          762,
          716,
          421,
          1310,
          817,
          864,
          354,
          935,
          287,
          1097,
          818,
          1420,
          386,
          800,
          1481,
          1131,
          554,
          96,
          157,
          503,
          1013,
          565,
          743,
          179,
          1214,
          1013,
          1431,
          888,
          1014,
          956,
          807,
          98,
          713,
          501,
          145,
          831,
          668,
          743,
          37,
          459
         ]
        }
       ],
       "layout": {
        "height": 1000,
        "shapes": [
         {
          "fillcolor": "rgba(128, 0, 128 0.1)",
          "line": {
           "color": "rgba(128, 0, 128, 1)",
           "width": 2
          },
          "type": "rect",
          "x0": 585,
          "x1": 685,
          "y0": 0,
          "y1": 1600
         },
         {
          "fillcolor": "rgba(128, 0, 128 0.1)",
          "line": {
           "color": "rgba(128, 0, 128, 1)",
           "width": 2
          },
          "type": "rect",
          "x0": 1293,
          "x1": 1426,
          "y0": 214,
          "y1": 315
         },
         {
          "fillcolor": "rgba(128, 0, 128 0.1)",
          "line": {
           "color": "rgba(128, 0, 128, 1)",
           "width": 2
          },
          "type": "rect",
          "x0": 1258,
          "x1": 1416,
          "y0": 1425,
          "y1": 1445
         },
         {
          "fillcolor": "rgba(128, 0, 128 0.1)",
          "line": {
           "color": "rgba(128, 0, 128, 1)",
           "width": 2
          },
          "type": "rect",
          "x0": 1052,
          "x1": 1152,
          "y0": 0,
          "y1": 1600
         }
        ],
        "showlegend": false,
        "title": "UE and AP Distribution in the grid",
        "width": 1000,
        "xaxis": {
         "range": [
          0,
          1600
         ],
         "title": "x"
        },
        "yaxis": {
         "range": [
          0,
          1600
         ],
         "title": "y"
        }
       }
      },
      "text/html": [
       "<div id=\"ee7d1c74-d581-417f-ab9b-449288641163\" style=\"height: 1000px; width: 1000px;\" class=\"plotly-graph-div\"></div><script type=\"text/javascript\">require([\"plotly\"], function(Plotly) { window.PLOTLYENV=window.PLOTLYENV || {};window.PLOTLYENV.BASE_URL=\"https://plot.ly\";Plotly.newPlot(\"ee7d1c74-d581-417f-ab9b-449288641163\", [{\"type\": \"scatter\", \"x\": [200.0, 200.0, 200.0, 200.0, 600.0, 600.0, 600.0, 600.0, 1000.0, 1000.0, 1000.0, 1000.0, 1400.0, 1400.0, 1400.0, 1400.0, 945, 1162, 689, 952, 392, 653, 1013, 889, 114, 925, 63, 123, 1289, 141, 900, 842, 730, 455, 704, 235, 469, 1183, 1185, 1041, 1245, 1355, 978, 1447, 1161, 849, 168, 1453, 1579, 1496, 607, 363, 891, 62, 130, 147, 864, 935, 566, 35, 733, 1045, 716, 947, 638, 354, 471, 297, 1186, 509, 641, 1130, 1560, 934, 811, 1488, 585, 57, 1129, 1409, 671, 1049, 147, 445, 553, 1588, 1074, 187, 1208, 1032, 1325, 58, 563, 1461, 893, 1243, 706, 1391, 428, 445, 829, 1090, 945, 256, 1311, 1467, 196, 48, 792, 603, 607, 758, 971, 1056, 1023, 417, 518, 1254, 773, 950, 526, 246, 796, 1090, 1039, 204, 804, 819, 365, 702, 93, 809, 646, 1001, 1096, 515, 305, 330, 1072, 502, 964, 724, 390, 1419, 1044, 816, 741, 907, 679, 1035, 332, 523, 962, 753, 893, 1318, 662, 877, 540, 8, 938, 1571, 535, 967, 583, 624, 573, 525, 313, 1219, 188, 817, 579, 1062, 966, 877, 653, 508, 214, 832, 457, 754, 1464, 590, 428, 1002, 845, 496, 1397, 800, 237, 1486, 2, 1453, 469, 170, 929, 670, 112, 632, 1299, 1591, 1468, 742, 803, 658, 1059, 40, 162, 969, 206, 703, 1030, 512, 146, 1566], \"y\": [200.0, 600.0, 1000.0, 1400.0, 200.0, 600.0, 1000.0, 1400.0, 200.0, 600.0, 1000.0, 1400.0, 200.0, 600.0, 1000.0, 1400.0, 745, 1465, 901, 1370, 630, 300, 567, 762, 1386, 324, 354, 1031, 505, 517, 436, 794, 666, 834, 1049, 1570, 378, 779, 1298, 555, 423, 693, 1089, 1560, 588, 807, 523, 1311, 971, 328, 989, 778, 1193, 1401, 642, 1212, 957, 629, 763, 922, 647, 505, 721, 513, 517, 185, 214, 351, 1425, 656, 679, 1005, 482, 1165, 1085, 796, 664, 311, 181, 1133, 534, 448, 90, 278, 531, 864, 943, 1544, 791, 962, 283, 1297, 967, 1000, 333, 1179, 1323, 1536, 247, 684, 1415, 841, 573, 226, 793, 1298, 1323, 1023, 1479, 915, 618, 1165, 95, 630, 671, 705, 187, 1026, 987, 1455, 1014, 1147, 1098, 765, 1008, 617, 597, 1148, 1417, 937, 768, 577, 42, 1449, 498, 771, 1584, 320, 826, 687, 888, 1124, 198, 1574, 989, 829, 860, 675, 276, 851, 985, 888, 797, 999, 1090, 731, 746, 650, 569, 1368, 732, 973, 545, 951, 741, 533, 756, 750, 1117, 1104, 1370, 767, 116, 8, 771, 1025, 762, 716, 421, 1310, 817, 864, 354, 935, 287, 1097, 818, 1420, 386, 800, 1481, 1131, 554, 96, 157, 503, 1013, 565, 743, 179, 1214, 1013, 1431, 888, 1014, 956, 807, 98, 713, 501, 145, 831, 668, 743, 37, 459], \"mode\": \"markers\", \"marker\": {\"size\": 8, \"color\": [\"orange\", \"orange\", \"orange\", \"orange\", \"orange\", \"orange\", \"orange\", \"orange\", \"orange\", \"orange\", \"orange\", \"orange\", \"orange\", \"orange\", \"orange\", \"orange\", \"magenta\", \"magenta\", \"blue\", \"magenta\", \"magenta\", \"magenta\", \"magenta\", \"blue\", \"magenta\", \"magenta\", \"magenta\", \"magenta\", \"magenta\", \"magenta\", \"magenta\", \"blue\", \"blue\", \"magenta\", \"blue\", \"magenta\", \"magenta\", \"magenta\", \"magenta\", \"magenta\", \"magenta\", \"magenta\", \"magenta\", \"magenta\", \"magenta\", \"blue\", \"magenta\", \"magenta\", \"magenta\", \"magenta\", \"blue\", \"magenta\", \"magenta\", \"magenta\", \"magenta\", \"magenta\", \"blue\", \"magenta\", \"magenta\", \"magenta\", \"blue\", \"blue\", \"magenta\", \"blue\", \"magenta\", \"magenta\", \"magenta\", \"magenta\", \"magenta\", \"blue\", \"blue\", \"magenta\", \"magenta\", \"magenta\", \"blue\", \"magenta\", \"magenta\", \"magenta\", \"magenta\", \"magenta\", \"magenta\", \"magenta\", \"magenta\", \"magenta\", \"blue\", \"magenta\", \"blue\", \"magenta\", \"magenta\", \"magenta\", \"magenta\", \"magenta\", \"blue\", \"magenta\", \"magenta\", \"magenta\", \"magenta\", \"magenta\", \"magenta\", \"magenta\", \"magenta\", \"blue\", \"magenta\", \"magenta\", \"magenta\", \"magenta\", \"magenta\", \"magenta\", \"magenta\", \"magenta\", \"blue\", \"magenta\", \"magenta\", \"magenta\", \"magenta\", \"magenta\", \"magenta\", \"magenta\", \"blue\", \"magenta\", \"blue\", \"magenta\", \"blue\", \"blue\", \"blue\", \"magenta\", \"blue\", \"magenta\", \"magenta\", \"blue\", \"magenta\", \"blue\", \"magenta\", \"magenta\", \"magenta\", \"magenta\", \"magenta\", \"magenta\", \"magenta\", \"blue\", \"blue\", \"magenta\", \"magenta\", \"magenta\", \"blue\", \"blue\", \"blue\", \"blue\", \"magenta\", \"blue\", \"magenta\", \"magenta\", \"magenta\", \"blue\", \"blue\", \"magenta\", \"blue\", \"blue\", \"blue\", \"magenta\", \"magenta\", \"magenta\", \"blue\", \"blue\", \"blue\", \"blue\", \"blue\", \"blue\", \"magenta\", \"magenta\", \"magenta\", \"blue\", \"magenta\", \"magenta\", \"blue\", \"blue\", \"blue\", \"blue\", \"magenta\", \"magenta\", \"magenta\", \"blue\", \"magenta\", \"blue\", \"magenta\", \"blue\", \"magenta\", \"magenta\", \"magenta\", \"blue\", \"magenta\", \"magenta\", \"magenta\", \"magenta\", \"magenta\", \"magenta\", \"blue\", \"blue\", \"magenta\", \"magenta\", \"magenta\", \"magenta\", \"magenta\", \"blue\", \"blue\", \"blue\", \"blue\", \"magenta\", \"magenta\", \"magenta\", \"magenta\", \"blue\", \"magenta\", \"magenta\", \"magenta\", \"magenta\"]}}], {\"xaxis\": {\"range\": [0, 1600], \"title\": \"x\"}, \"yaxis\": {\"range\": [0, 1600], \"title\": \"y\"}, \"title\": \"UE and AP Distribution in the grid\", \"height\": 1000, \"width\": 1000, \"showlegend\": false, \"shapes\": [{\"type\": \"rect\", \"x0\": 585, \"y0\": 0, \"x1\": 685, \"y1\": 1600.0, \"line\": {\"color\": \"rgba(128, 0, 128, 1)\", \"width\": 2}, \"fillcolor\": \"rgba(128, 0, 128 0.1)\"}, {\"type\": \"rect\", \"x0\": 1293, \"y0\": 214, \"x1\": 1426, \"y1\": 315, \"line\": {\"color\": \"rgba(128, 0, 128, 1)\", \"width\": 2}, \"fillcolor\": \"rgba(128, 0, 128 0.1)\"}, {\"type\": \"rect\", \"x0\": 1258, \"y0\": 1425, \"x1\": 1416, \"y1\": 1445, \"line\": {\"color\": \"rgba(128, 0, 128, 1)\", \"width\": 2}, \"fillcolor\": \"rgba(128, 0, 128 0.1)\"}, {\"type\": \"rect\", \"x0\": 1052, \"y0\": 0, \"x1\": 1152, \"y1\": 1600.0, \"line\": {\"color\": \"rgba(128, 0, 128, 1)\", \"width\": 2}, \"fillcolor\": \"rgba(128, 0, 128 0.1)\"}]}, {\"showLink\": true, \"linkText\": \"Export to plot.ly\"})});</script>"
      ],
      "text/vnd.plotly.v1+html": [
       "<div id=\"ee7d1c74-d581-417f-ab9b-449288641163\" style=\"height: 1000px; width: 1000px;\" class=\"plotly-graph-div\"></div><script type=\"text/javascript\">require([\"plotly\"], function(Plotly) { window.PLOTLYENV=window.PLOTLYENV || {};window.PLOTLYENV.BASE_URL=\"https://plot.ly\";Plotly.newPlot(\"ee7d1c74-d581-417f-ab9b-449288641163\", [{\"type\": \"scatter\", \"x\": [200.0, 200.0, 200.0, 200.0, 600.0, 600.0, 600.0, 600.0, 1000.0, 1000.0, 1000.0, 1000.0, 1400.0, 1400.0, 1400.0, 1400.0, 945, 1162, 689, 952, 392, 653, 1013, 889, 114, 925, 63, 123, 1289, 141, 900, 842, 730, 455, 704, 235, 469, 1183, 1185, 1041, 1245, 1355, 978, 1447, 1161, 849, 168, 1453, 1579, 1496, 607, 363, 891, 62, 130, 147, 864, 935, 566, 35, 733, 1045, 716, 947, 638, 354, 471, 297, 1186, 509, 641, 1130, 1560, 934, 811, 1488, 585, 57, 1129, 1409, 671, 1049, 147, 445, 553, 1588, 1074, 187, 1208, 1032, 1325, 58, 563, 1461, 893, 1243, 706, 1391, 428, 445, 829, 1090, 945, 256, 1311, 1467, 196, 48, 792, 603, 607, 758, 971, 1056, 1023, 417, 518, 1254, 773, 950, 526, 246, 796, 1090, 1039, 204, 804, 819, 365, 702, 93, 809, 646, 1001, 1096, 515, 305, 330, 1072, 502, 964, 724, 390, 1419, 1044, 816, 741, 907, 679, 1035, 332, 523, 962, 753, 893, 1318, 662, 877, 540, 8, 938, 1571, 535, 967, 583, 624, 573, 525, 313, 1219, 188, 817, 579, 1062, 966, 877, 653, 508, 214, 832, 457, 754, 1464, 590, 428, 1002, 845, 496, 1397, 800, 237, 1486, 2, 1453, 469, 170, 929, 670, 112, 632, 1299, 1591, 1468, 742, 803, 658, 1059, 40, 162, 969, 206, 703, 1030, 512, 146, 1566], \"y\": [200.0, 600.0, 1000.0, 1400.0, 200.0, 600.0, 1000.0, 1400.0, 200.0, 600.0, 1000.0, 1400.0, 200.0, 600.0, 1000.0, 1400.0, 745, 1465, 901, 1370, 630, 300, 567, 762, 1386, 324, 354, 1031, 505, 517, 436, 794, 666, 834, 1049, 1570, 378, 779, 1298, 555, 423, 693, 1089, 1560, 588, 807, 523, 1311, 971, 328, 989, 778, 1193, 1401, 642, 1212, 957, 629, 763, 922, 647, 505, 721, 513, 517, 185, 214, 351, 1425, 656, 679, 1005, 482, 1165, 1085, 796, 664, 311, 181, 1133, 534, 448, 90, 278, 531, 864, 943, 1544, 791, 962, 283, 1297, 967, 1000, 333, 1179, 1323, 1536, 247, 684, 1415, 841, 573, 226, 793, 1298, 1323, 1023, 1479, 915, 618, 1165, 95, 630, 671, 705, 187, 1026, 987, 1455, 1014, 1147, 1098, 765, 1008, 617, 597, 1148, 1417, 937, 768, 577, 42, 1449, 498, 771, 1584, 320, 826, 687, 888, 1124, 198, 1574, 989, 829, 860, 675, 276, 851, 985, 888, 797, 999, 1090, 731, 746, 650, 569, 1368, 732, 973, 545, 951, 741, 533, 756, 750, 1117, 1104, 1370, 767, 116, 8, 771, 1025, 762, 716, 421, 1310, 817, 864, 354, 935, 287, 1097, 818, 1420, 386, 800, 1481, 1131, 554, 96, 157, 503, 1013, 565, 743, 179, 1214, 1013, 1431, 888, 1014, 956, 807, 98, 713, 501, 145, 831, 668, 743, 37, 459], \"mode\": \"markers\", \"marker\": {\"size\": 8, \"color\": [\"orange\", \"orange\", \"orange\", \"orange\", \"orange\", \"orange\", \"orange\", \"orange\", \"orange\", \"orange\", \"orange\", \"orange\", \"orange\", \"orange\", \"orange\", \"orange\", \"magenta\", \"magenta\", \"blue\", \"magenta\", \"magenta\", \"magenta\", \"magenta\", \"blue\", \"magenta\", \"magenta\", \"magenta\", \"magenta\", \"magenta\", \"magenta\", \"magenta\", \"blue\", \"blue\", \"magenta\", \"blue\", \"magenta\", \"magenta\", \"magenta\", \"magenta\", \"magenta\", \"magenta\", \"magenta\", \"magenta\", \"magenta\", \"magenta\", \"blue\", \"magenta\", \"magenta\", \"magenta\", \"magenta\", \"blue\", \"magenta\", \"magenta\", \"magenta\", \"magenta\", \"magenta\", \"blue\", \"magenta\", \"magenta\", \"magenta\", \"blue\", \"blue\", \"magenta\", \"blue\", \"magenta\", \"magenta\", \"magenta\", \"magenta\", \"magenta\", \"blue\", \"blue\", \"magenta\", \"magenta\", \"magenta\", \"blue\", \"magenta\", \"magenta\", \"magenta\", \"magenta\", \"magenta\", \"magenta\", \"magenta\", \"magenta\", \"magenta\", \"blue\", \"magenta\", \"blue\", \"magenta\", \"magenta\", \"magenta\", \"magenta\", \"magenta\", \"blue\", \"magenta\", \"magenta\", \"magenta\", \"magenta\", \"magenta\", \"magenta\", \"magenta\", \"magenta\", \"blue\", \"magenta\", \"magenta\", \"magenta\", \"magenta\", \"magenta\", \"magenta\", \"magenta\", \"magenta\", \"blue\", \"magenta\", \"magenta\", \"magenta\", \"magenta\", \"magenta\", \"magenta\", \"magenta\", \"blue\", \"magenta\", \"blue\", \"magenta\", \"blue\", \"blue\", \"blue\", \"magenta\", \"blue\", \"magenta\", \"magenta\", \"blue\", \"magenta\", \"blue\", \"magenta\", \"magenta\", \"magenta\", \"magenta\", \"magenta\", \"magenta\", \"magenta\", \"blue\", \"blue\", \"magenta\", \"magenta\", \"magenta\", \"blue\", \"blue\", \"blue\", \"blue\", \"magenta\", \"blue\", \"magenta\", \"magenta\", \"magenta\", \"blue\", \"blue\", \"magenta\", \"blue\", \"blue\", \"blue\", \"magenta\", \"magenta\", \"magenta\", \"blue\", \"blue\", \"blue\", \"blue\", \"blue\", \"blue\", \"magenta\", \"magenta\", \"magenta\", \"blue\", \"magenta\", \"magenta\", \"blue\", \"blue\", \"blue\", \"blue\", \"magenta\", \"magenta\", \"magenta\", \"blue\", \"magenta\", \"blue\", \"magenta\", \"blue\", \"magenta\", \"magenta\", \"magenta\", \"blue\", \"magenta\", \"magenta\", \"magenta\", \"magenta\", \"magenta\", \"magenta\", \"blue\", \"blue\", \"magenta\", \"magenta\", \"magenta\", \"magenta\", \"magenta\", \"blue\", \"blue\", \"blue\", \"blue\", \"magenta\", \"magenta\", \"magenta\", \"magenta\", \"blue\", \"magenta\", \"magenta\", \"magenta\", \"magenta\"]}}], {\"xaxis\": {\"range\": [0, 1600], \"title\": \"x\"}, \"yaxis\": {\"range\": [0, 1600], \"title\": \"y\"}, \"title\": \"UE and AP Distribution in the grid\", \"height\": 1000, \"width\": 1000, \"showlegend\": false, \"shapes\": [{\"type\": \"rect\", \"x0\": 585, \"y0\": 0, \"x1\": 685, \"y1\": 1600.0, \"line\": {\"color\": \"rgba(128, 0, 128, 1)\", \"width\": 2}, \"fillcolor\": \"rgba(128, 0, 128 0.1)\"}, {\"type\": \"rect\", \"x0\": 1293, \"y0\": 214, \"x1\": 1426, \"y1\": 315, \"line\": {\"color\": \"rgba(128, 0, 128, 1)\", \"width\": 2}, \"fillcolor\": \"rgba(128, 0, 128 0.1)\"}, {\"type\": \"rect\", \"x0\": 1258, \"y0\": 1425, \"x1\": 1416, \"y1\": 1445, \"line\": {\"color\": \"rgba(128, 0, 128, 1)\", \"width\": 2}, \"fillcolor\": \"rgba(128, 0, 128 0.1)\"}, {\"type\": \"rect\", \"x0\": 1052, \"y0\": 0, \"x1\": 1152, \"y1\": 1600.0, \"line\": {\"color\": \"rgba(128, 0, 128, 1)\", \"width\": 2}, \"fillcolor\": \"rgba(128, 0, 128 0.1)\"}]}, {\"showLink\": true, \"linkText\": \"Export to plot.ly\"})});</script>"
      ]
     },
     "metadata": {},
     "output_type": "display_data"
    }
   ],
   "source": [
    "ue_ap_list = result.UE_AP_LIST[0]\n",
    "nodes = nodes = [(0, 0)]\n",
    "nodes += [tuple(x.location) for x in ue_ap_list]\n",
    "nodes_color = []\n",
    "print(nodes_color)\n",
    "nodes_color += ['orange'] * 16\n",
    "for ue in ue_ap_list[16:]:\n",
    "    if ue.app == 2:\n",
    "            # video UEs\n",
    "        color = 'blue'\n",
    "    else:\n",
    "            # Web UEs\n",
    "        color = 'magenta'\n",
    "    nodes_color.append(color)\n",
    "n_x, n_y = zip(*nodes[1:])\n",
    "nodes_dict = dict(\n",
    "    type='scatter',\n",
    "    x=n_x,\n",
    "    y=n_y,\n",
    "    mode='markers',\n",
    "    marker=dict(size=8, color=nodes_color)\n",
    "    )\n",
    "\n",
    "figure={\"data\":[nodes_dict],\n",
    "        \"layout\": {'xaxis':{'range': [0, 1600], 'title': 'x'},\n",
    "                   'yaxis':{'range': [0, 1600], 'title': 'y'},\n",
    "                   'title':\"UE and AP Distribution in the grid\",\n",
    "                   'height' : 1000,\n",
    "                   'width' :1000,\n",
    "                   'showlegend': False,\n",
    "                   \"shapes\":Rec_dict, \n",
    "                  }\n",
    "       }\n",
    "plotly.offline.iplot(figure)\n",
    "\n"
   ]
  },
  {
   "cell_type": "code",
   "execution_count": 15,
   "metadata": {},
   "outputs": [
    {
     "name": "stdout",
     "output_type": "stream",
     "text": [
      "[]\n"
     ]
    },
    {
     "data": {
      "application/vnd.plotly.v1+json": {
       "data": [
        {
         "line": {
          "color": "green",
          "width": 2
         },
         "mode": "lines",
         "type": "scatter",
         "x": [
          1000,
          945
         ],
         "y": [
          600,
          745
         ]
        },
        {
         "line": {
          "color": "green",
          "width": 2
         },
         "mode": "lines",
         "type": "scatter",
         "x": [
          1000,
          1162
         ],
         "y": [
          1400,
          1465
         ]
        },
        {
         "line": {
          "color": "green",
          "width": 2
         },
         "mode": "lines",
         "type": "scatter",
         "x": [
          600,
          689
         ],
         "y": [
          1000,
          901
         ]
        },
        {
         "line": {
          "color": "green",
          "width": 2
         },
         "mode": "lines",
         "type": "scatter",
         "x": [
          1000,
          952
         ],
         "y": [
          1400,
          1370
         ]
        },
        {
         "line": {
          "color": "green",
          "width": 2
         },
         "mode": "lines",
         "type": "scatter",
         "x": [
          200,
          392
         ],
         "y": [
          1000,
          630
         ]
        },
        {
         "line": {
          "color": "green",
          "width": 2
         },
         "mode": "lines",
         "type": "scatter",
         "x": [
          600,
          653
         ],
         "y": [
          200,
          300
         ]
        },
        {
         "line": {
          "color": "green",
          "width": 2
         },
         "mode": "lines",
         "type": "scatter",
         "x": [
          1000,
          1013
         ],
         "y": [
          600,
          567
         ]
        },
        {
         "line": {
          "color": "green",
          "width": 2
         },
         "mode": "lines",
         "type": "scatter",
         "x": [
          1000,
          889
         ],
         "y": [
          600,
          762
         ]
        },
        {
         "line": {
          "color": "green",
          "width": 2
         },
         "mode": "lines",
         "type": "scatter",
         "x": [
          200,
          114
         ],
         "y": [
          1000,
          1386
         ]
        },
        {
         "line": {
          "color": "green",
          "width": 2
         },
         "mode": "lines",
         "type": "scatter",
         "x": [
          1000,
          925
         ],
         "y": [
          200,
          324
         ]
        },
        {
         "line": {
          "color": "green",
          "width": 2
         },
         "mode": "lines",
         "type": "scatter",
         "x": [
          200,
          63
         ],
         "y": [
          200,
          354
         ]
        },
        {
         "line": {
          "color": "green",
          "width": 2
         },
         "mode": "lines",
         "type": "scatter",
         "x": [
          200,
          123
         ],
         "y": [
          1000,
          1031
         ]
        },
        {
         "line": {
          "color": "green",
          "width": 2
         },
         "mode": "lines",
         "type": "scatter",
         "x": [
          1400,
          1289
         ],
         "y": [
          600,
          505
         ]
        },
        {
         "line": {
          "color": "green",
          "width": 2
         },
         "mode": "lines",
         "type": "scatter",
         "x": [
          200,
          141
         ],
         "y": [
          600,
          517
         ]
        },
        {
         "line": {
          "color": "green",
          "width": 2
         },
         "mode": "lines",
         "type": "scatter",
         "x": [
          1000,
          900
         ],
         "y": [
          600,
          436
         ]
        },
        {
         "line": {
          "color": "green",
          "width": 2
         },
         "mode": "lines",
         "type": "scatter",
         "x": [
          1000,
          842
         ],
         "y": [
          600,
          794
         ]
        },
        {
         "line": {
          "color": "green",
          "width": 2
         },
         "mode": "lines",
         "type": "scatter",
         "x": [
          600,
          730
         ],
         "y": [
          600,
          666
         ]
        },
        {
         "line": {
          "color": "green",
          "width": 2
         },
         "mode": "lines",
         "type": "scatter",
         "x": [
          600,
          455
         ],
         "y": [
          1000,
          834
         ]
        },
        {
         "line": {
          "color": "green",
          "width": 2
         },
         "mode": "lines",
         "type": "scatter",
         "x": [
          600,
          704
         ],
         "y": [
          1000,
          1049
         ]
        },
        {
         "line": {
          "color": "green",
          "width": 2
         },
         "mode": "lines",
         "type": "scatter",
         "x": [
          200,
          235
         ],
         "y": [
          1400,
          1570
         ]
        },
        {
         "line": {
          "color": "green",
          "width": 2
         },
         "mode": "lines",
         "type": "scatter",
         "x": [
          600,
          469
         ],
         "y": [
          600,
          378
         ]
        },
        {
         "line": {
          "color": "green",
          "width": 2
         },
         "mode": "lines",
         "type": "scatter",
         "x": [
          1000,
          1183
         ],
         "y": [
          600,
          779
         ]
        },
        {
         "line": {
          "color": "green",
          "width": 2
         },
         "mode": "lines",
         "type": "scatter",
         "x": [
          1000,
          1185
         ],
         "y": [
          1000,
          1298
         ]
        },
        {
         "line": {
          "color": "green",
          "width": 2
         },
         "mode": "lines",
         "type": "scatter",
         "x": [
          1000,
          1041
         ],
         "y": [
          600,
          555
         ]
        },
        {
         "line": {
          "color": "green",
          "width": 2
         },
         "mode": "lines",
         "type": "scatter",
         "x": [
          1000,
          1245
         ],
         "y": [
          600,
          423
         ]
        },
        {
         "line": {
          "color": "green",
          "width": 2
         },
         "mode": "lines",
         "type": "scatter",
         "x": [
          1400,
          1355
         ],
         "y": [
          600,
          693
         ]
        },
        {
         "line": {
          "color": "green",
          "width": 2
         },
         "mode": "lines",
         "type": "scatter",
         "x": [
          1000,
          978
         ],
         "y": [
          1000,
          1089
         ]
        },
        {
         "line": {
          "color": "green",
          "width": 2
         },
         "mode": "lines",
         "type": "scatter",
         "x": [
          1400,
          1447
         ],
         "y": [
          1400,
          1560
         ]
        },
        {
         "line": {
          "color": "green",
          "width": 2
         },
         "mode": "lines",
         "type": "scatter",
         "x": [
          1000,
          1161
         ],
         "y": [
          600,
          588
         ]
        },
        {
         "line": {
          "color": "green",
          "width": 2
         },
         "mode": "lines",
         "type": "scatter",
         "x": [
          1000,
          849
         ],
         "y": [
          1000,
          807
         ]
        },
        {
         "line": {
          "color": "green",
          "width": 2
         },
         "mode": "lines",
         "type": "scatter",
         "x": [
          200,
          168
         ],
         "y": [
          600,
          523
         ]
        },
        {
         "line": {
          "color": "green",
          "width": 2
         },
         "mode": "lines",
         "type": "scatter",
         "x": [
          1400,
          1453
         ],
         "y": [
          1400,
          1311
         ]
        },
        {
         "line": {
          "color": "green",
          "width": 2
         },
         "mode": "lines",
         "type": "scatter",
         "x": [
          1400,
          1579
         ],
         "y": [
          1000,
          971
         ]
        },
        {
         "line": {
          "color": "green",
          "width": 2
         },
         "mode": "lines",
         "type": "scatter",
         "x": [
          1400,
          1496
         ],
         "y": [
          200,
          328
         ]
        },
        {
         "line": {
          "color": "green",
          "width": 2
         },
         "mode": "lines",
         "type": "scatter",
         "x": [
          600,
          607
         ],
         "y": [
          1000,
          989
         ]
        },
        {
         "line": {
          "color": "green",
          "width": 2
         },
         "mode": "lines",
         "type": "scatter",
         "x": [
          200,
          363
         ],
         "y": [
          600,
          778
         ]
        },
        {
         "line": {
          "color": "green",
          "width": 2
         },
         "mode": "lines",
         "type": "scatter",
         "x": [
          600,
          891
         ],
         "y": [
          1000,
          1193
         ]
        },
        {
         "line": {
          "color": "green",
          "width": 2
         },
         "mode": "lines",
         "type": "scatter",
         "x": [
          200,
          62
         ],
         "y": [
          1400,
          1401
         ]
        },
        {
         "line": {
          "color": "green",
          "width": 2
         },
         "mode": "lines",
         "type": "scatter",
         "x": [
          200,
          130
         ],
         "y": [
          600,
          642
         ]
        },
        {
         "line": {
          "color": "green",
          "width": 2
         },
         "mode": "lines",
         "type": "scatter",
         "x": [
          200,
          147
         ],
         "y": [
          1400,
          1212
         ]
        },
        {
         "line": {
          "color": "green",
          "width": 2
         },
         "mode": "lines",
         "type": "scatter",
         "x": [
          1000,
          864
         ],
         "y": [
          1000,
          957
         ]
        },
        {
         "line": {
          "color": "green",
          "width": 2
         },
         "mode": "lines",
         "type": "scatter",
         "x": [
          1000,
          935
         ],
         "y": [
          600,
          629
         ]
        },
        {
         "line": {
          "color": "green",
          "width": 2
         },
         "mode": "lines",
         "type": "scatter",
         "x": [
          600,
          566
         ],
         "y": [
          600,
          763
         ]
        },
        {
         "line": {
          "color": "green",
          "width": 2
         },
         "mode": "lines",
         "type": "scatter",
         "x": [
          200,
          35
         ],
         "y": [
          1000,
          922
         ]
        },
        {
         "line": {
          "color": "red",
          "width": 2
         },
         "mode": "lines",
         "type": "scatter",
         "x": [
          1000,
          733
         ],
         "y": [
          600,
          647
         ]
        },
        {
         "line": {
          "color": "green",
          "width": 2
         },
         "mode": "lines",
         "type": "scatter",
         "x": [
          1000,
          1045
         ],
         "y": [
          600,
          505
         ]
        },
        {
         "line": {
          "color": "green",
          "width": 2
         },
         "mode": "lines",
         "type": "scatter",
         "x": [
          600,
          716
         ],
         "y": [
          600,
          721
         ]
        },
        {
         "line": {
          "color": "green",
          "width": 2
         },
         "mode": "lines",
         "type": "scatter",
         "x": [
          1000,
          947
         ],
         "y": [
          600,
          513
         ]
        },
        {
         "line": {
          "color": "green",
          "width": 2
         },
         "mode": "lines",
         "type": "scatter",
         "x": [
          1000,
          638
         ],
         "y": [
          600,
          517
         ]
        },
        {
         "line": {
          "color": "green",
          "width": 2
         },
         "mode": "lines",
         "type": "scatter",
         "x": [
          200,
          354
         ],
         "y": [
          200,
          185
         ]
        },
        {
         "line": {
          "color": "green",
          "width": 2
         },
         "mode": "lines",
         "type": "scatter",
         "x": [
          600,
          471
         ],
         "y": [
          200,
          214
         ]
        },
        {
         "line": {
          "color": "green",
          "width": 2
         },
         "mode": "lines",
         "type": "scatter",
         "x": [
          200,
          297
         ],
         "y": [
          200,
          351
         ]
        },
        {
         "line": {
          "color": "green",
          "width": 2
         },
         "mode": "lines",
         "type": "scatter",
         "x": [
          1000,
          1186
         ],
         "y": [
          1400,
          1425
         ]
        },
        {
         "line": {
          "color": "green",
          "width": 2
         },
         "mode": "lines",
         "type": "scatter",
         "x": [
          600,
          509
         ],
         "y": [
          600,
          656
         ]
        },
        {
         "line": {
          "color": "green",
          "width": 2
         },
         "mode": "lines",
         "type": "scatter",
         "x": [
          600,
          641
         ],
         "y": [
          600,
          679
         ]
        },
        {
         "line": {
          "color": "green",
          "width": 2
         },
         "mode": "lines",
         "type": "scatter",
         "x": [
          1000,
          1130
         ],
         "y": [
          1000,
          1005
         ]
        },
        {
         "line": {
          "color": "green",
          "width": 2
         },
         "mode": "lines",
         "type": "scatter",
         "x": [
          1400,
          1560
         ],
         "y": [
          200,
          482
         ]
        },
        {
         "line": {
          "color": "green",
          "width": 2
         },
         "mode": "lines",
         "type": "scatter",
         "x": [
          1000,
          934
         ],
         "y": [
          1000,
          1165
         ]
        },
        {
         "line": {
          "color": "green",
          "width": 2
         },
         "mode": "lines",
         "type": "scatter",
         "x": [
          1000,
          811
         ],
         "y": [
          1000,
          1085
         ]
        },
        {
         "line": {
          "color": "green",
          "width": 2
         },
         "mode": "lines",
         "type": "scatter",
         "x": [
          1400,
          1488
         ],
         "y": [
          1000,
          796
         ]
        },
        {
         "line": {
          "color": "green",
          "width": 2
         },
         "mode": "lines",
         "type": "scatter",
         "x": [
          600,
          585
         ],
         "y": [
          600,
          664
         ]
        },
        {
         "line": {
          "color": "green",
          "width": 2
         },
         "mode": "lines",
         "type": "scatter",
         "x": [
          200,
          57
         ],
         "y": [
          200,
          311
         ]
        },
        {
         "line": {
          "color": "green",
          "width": 2
         },
         "mode": "lines",
         "type": "scatter",
         "x": [
          1000,
          1129
         ],
         "y": [
          200,
          181
         ]
        },
        {
         "line": {
          "color": "green",
          "width": 2
         },
         "mode": "lines",
         "type": "scatter",
         "x": [
          1400,
          1409
         ],
         "y": [
          1400,
          1133
         ]
        },
        {
         "line": {
          "color": "green",
          "width": 2
         },
         "mode": "lines",
         "type": "scatter",
         "x": [
          600,
          671
         ],
         "y": [
          600,
          534
         ]
        },
        {
         "line": {
          "color": "green",
          "width": 2
         },
         "mode": "lines",
         "type": "scatter",
         "x": [
          1000,
          1049
         ],
         "y": [
          600,
          448
         ]
        },
        {
         "line": {
          "color": "green",
          "width": 2
         },
         "mode": "lines",
         "type": "scatter",
         "x": [
          200,
          147
         ],
         "y": [
          200,
          90
         ]
        },
        {
         "line": {
          "color": "green",
          "width": 2
         },
         "mode": "lines",
         "type": "scatter",
         "x": [
          600,
          445
         ],
         "y": [
          200,
          278
         ]
        },
        {
         "line": {
          "color": "green",
          "width": 2
         },
         "mode": "lines",
         "type": "scatter",
         "x": [
          600,
          553
         ],
         "y": [
          600,
          531
         ]
        },
        {
         "line": {
          "color": "green",
          "width": 2
         },
         "mode": "lines",
         "type": "scatter",
         "x": [
          1400,
          1588
         ],
         "y": [
          1000,
          864
         ]
        },
        {
         "line": {
          "color": "green",
          "width": 2
         },
         "mode": "lines",
         "type": "scatter",
         "x": [
          1000,
          1074
         ],
         "y": [
          1000,
          943
         ]
        },
        {
         "line": {
          "color": "green",
          "width": 2
         },
         "mode": "lines",
         "type": "scatter",
         "x": [
          200,
          187
         ],
         "y": [
          1400,
          1544
         ]
        },
        {
         "line": {
          "color": "green",
          "width": 2
         },
         "mode": "lines",
         "type": "scatter",
         "x": [
          1400,
          1208
         ],
         "y": [
          600,
          791
         ]
        },
        {
         "line": {
          "color": "green",
          "width": 2
         },
         "mode": "lines",
         "type": "scatter",
         "x": [
          1000,
          1032
         ],
         "y": [
          1000,
          962
         ]
        },
        {
         "line": {
          "color": "green",
          "width": 2
         },
         "mode": "lines",
         "type": "scatter",
         "x": [
          1400,
          1325
         ],
         "y": [
          200,
          283
         ]
        },
        {
         "line": {
          "color": "green",
          "width": 2
         },
         "mode": "lines",
         "type": "scatter",
         "x": [
          200,
          58
         ],
         "y": [
          1400,
          1297
         ]
        },
        {
         "line": {
          "color": "green",
          "width": 2
         },
         "mode": "lines",
         "type": "scatter",
         "x": [
          600,
          563
         ],
         "y": [
          1000,
          967
         ]
        },
        {
         "line": {
          "color": "green",
          "width": 2
         },
         "mode": "lines",
         "type": "scatter",
         "x": [
          1400,
          1461
         ],
         "y": [
          1000,
          1000
         ]
        },
        {
         "line": {
          "color": "green",
          "width": 2
         },
         "mode": "lines",
         "type": "scatter",
         "x": [
          1000,
          893
         ],
         "y": [
          200,
          333
         ]
        },
        {
         "line": {
          "color": "green",
          "width": 2
         },
         "mode": "lines",
         "type": "scatter",
         "x": [
          1400,
          1243
         ],
         "y": [
          1000,
          1179
         ]
        },
        {
         "line": {
          "color": "green",
          "width": 2
         },
         "mode": "lines",
         "type": "scatter",
         "x": [
          600,
          706
         ],
         "y": [
          1400,
          1323
         ]
        },
        {
         "line": {
          "color": "green",
          "width": 2
         },
         "mode": "lines",
         "type": "scatter",
         "x": [
          1400,
          1391
         ],
         "y": [
          1400,
          1536
         ]
        },
        {
         "line": {
          "color": "green",
          "width": 2
         },
         "mode": "lines",
         "type": "scatter",
         "x": [
          600,
          428
         ],
         "y": [
          200,
          247
         ]
        },
        {
         "line": {
          "color": "green",
          "width": 2
         },
         "mode": "lines",
         "type": "scatter",
         "x": [
          600,
          445
         ],
         "y": [
          600,
          684
         ]
        },
        {
         "line": {
          "color": "green",
          "width": 2
         },
         "mode": "lines",
         "type": "scatter",
         "x": [
          1000,
          829
         ],
         "y": [
          1400,
          1415
         ]
        },
        {
         "line": {
          "color": "green",
          "width": 2
         },
         "mode": "lines",
         "type": "scatter",
         "x": [
          1000,
          1090
         ],
         "y": [
          1000,
          841
         ]
        },
        {
         "line": {
          "color": "green",
          "width": 2
         },
         "mode": "lines",
         "type": "scatter",
         "x": [
          1000,
          945
         ],
         "y": [
          600,
          573
         ]
        },
        {
         "line": {
          "color": "green",
          "width": 2
         },
         "mode": "lines",
         "type": "scatter",
         "x": [
          200,
          256
         ],
         "y": [
          200,
          226
         ]
        },
        {
         "line": {
          "color": "green",
          "width": 2
         },
         "mode": "lines",
         "type": "scatter",
         "x": [
          1000,
          1311
         ],
         "y": [
          1000,
          793
         ]
        },
        {
         "line": {
          "color": "green",
          "width": 2
         },
         "mode": "lines",
         "type": "scatter",
         "x": [
          1400,
          1467
         ],
         "y": [
          1400,
          1298
         ]
        },
        {
         "line": {
          "color": "green",
          "width": 2
         },
         "mode": "lines",
         "type": "scatter",
         "x": [
          200,
          196
         ],
         "y": [
          1400,
          1323
         ]
        },
        {
         "line": {
          "color": "green",
          "width": 2
         },
         "mode": "lines",
         "type": "scatter",
         "x": [
          200,
          48
         ],
         "y": [
          1000,
          1023
         ]
        },
        {
         "line": {
          "color": "green",
          "width": 2
         },
         "mode": "lines",
         "type": "scatter",
         "x": [
          600,
          792
         ],
         "y": [
          1400,
          1479
         ]
        },
        {
         "line": {
          "color": "green",
          "width": 2
         },
         "mode": "lines",
         "type": "scatter",
         "x": [
          600,
          603
         ],
         "y": [
          1000,
          915
         ]
        },
        {
         "line": {
          "color": "green",
          "width": 2
         },
         "mode": "lines",
         "type": "scatter",
         "x": [
          600,
          607
         ],
         "y": [
          600,
          618
         ]
        },
        {
         "line": {
          "color": "green",
          "width": 2
         },
         "mode": "lines",
         "type": "scatter",
         "x": [
          600,
          758
         ],
         "y": [
          1000,
          1165
         ]
        },
        {
         "line": {
          "color": "green",
          "width": 2
         },
         "mode": "lines",
         "type": "scatter",
         "x": [
          1000,
          971
         ],
         "y": [
          200,
          95
         ]
        },
        {
         "line": {
          "color": "green",
          "width": 2
         },
         "mode": "lines",
         "type": "scatter",
         "x": [
          1000,
          1056
         ],
         "y": [
          600,
          630
         ]
        },
        {
         "line": {
          "color": "green",
          "width": 2
         },
         "mode": "lines",
         "type": "scatter",
         "x": [
          1000,
          1023
         ],
         "y": [
          600,
          671
         ]
        },
        {
         "line": {
          "color": "green",
          "width": 2
         },
         "mode": "lines",
         "type": "scatter",
         "x": [
          600,
          417
         ],
         "y": [
          600,
          705
         ]
        },
        {
         "line": {
          "color": "green",
          "width": 2
         },
         "mode": "lines",
         "type": "scatter",
         "x": [
          600,
          518
         ],
         "y": [
          200,
          187
         ]
        },
        {
         "line": {
          "color": "green",
          "width": 2
         },
         "mode": "lines",
         "type": "scatter",
         "x": [
          1400,
          1254
         ],
         "y": [
          1000,
          1026
         ]
        },
        {
         "line": {
          "color": "green",
          "width": 2
         },
         "mode": "lines",
         "type": "scatter",
         "x": [
          600,
          773
         ],
         "y": [
          1000,
          987
         ]
        },
        {
         "line": {
          "color": "green",
          "width": 2
         },
         "mode": "lines",
         "type": "scatter",
         "x": [
          1000,
          950
         ],
         "y": [
          1400,
          1455
         ]
        },
        {
         "line": {
          "color": "green",
          "width": 2
         },
         "mode": "lines",
         "type": "scatter",
         "x": [
          600,
          526
         ],
         "y": [
          1000,
          1014
         ]
        },
        {
         "line": {
          "color": "green",
          "width": 2
         },
         "mode": "lines",
         "type": "scatter",
         "x": [
          200,
          246
         ],
         "y": [
          1000,
          1147
         ]
        },
        {
         "line": {
          "color": "green",
          "width": 2
         },
         "mode": "lines",
         "type": "scatter",
         "x": [
          600,
          796
         ],
         "y": [
          1000,
          1098
         ]
        },
        {
         "line": {
          "color": "red",
          "width": 2
         },
         "mode": "lines",
         "type": "scatter",
         "x": [
          1000,
          1090
         ],
         "y": [
          1000,
          765
         ]
        },
        {
         "line": {
          "color": "green",
          "width": 2
         },
         "mode": "lines",
         "type": "scatter",
         "x": [
          1000,
          1039
         ],
         "y": [
          1000,
          1008
         ]
        },
        {
         "line": {
          "color": "green",
          "width": 2
         },
         "mode": "lines",
         "type": "scatter",
         "x": [
          200,
          204
         ],
         "y": [
          600,
          617
         ]
        },
        {
         "line": {
          "color": "red",
          "width": 2
         },
         "mode": "lines",
         "type": "scatter",
         "x": [
          1000,
          804
         ],
         "y": [
          600,
          597
         ]
        },
        {
         "line": {
          "color": "green",
          "width": 2
         },
         "mode": "lines",
         "type": "scatter",
         "x": [
          600,
          819
         ],
         "y": [
          1000,
          1148
         ]
        },
        {
         "line": {
          "color": "green",
          "width": 2
         },
         "mode": "lines",
         "type": "scatter",
         "x": [
          200,
          365
         ],
         "y": [
          1400,
          1417
         ]
        },
        {
         "line": {
          "color": "green",
          "width": 2
         },
         "mode": "lines",
         "type": "scatter",
         "x": [
          600,
          702
         ],
         "y": [
          1000,
          937
         ]
        },
        {
         "line": {
          "color": "green",
          "width": 2
         },
         "mode": "lines",
         "type": "scatter",
         "x": [
          200,
          93
         ],
         "y": [
          600,
          768
         ]
        },
        {
         "line": {
          "color": "red",
          "width": 2
         },
         "mode": "lines",
         "type": "scatter",
         "x": [
          600,
          809
         ],
         "y": [
          600,
          577
         ]
        },
        {
         "line": {
          "color": "green",
          "width": 2
         },
         "mode": "lines",
         "type": "scatter",
         "x": [
          600,
          646
         ],
         "y": [
          200,
          42
         ]
        },
        {
         "line": {
          "color": "green",
          "width": 2
         },
         "mode": "lines",
         "type": "scatter",
         "x": [
          1000,
          1001
         ],
         "y": [
          1400,
          1449
         ]
        },
        {
         "line": {
          "color": "green",
          "width": 2
         },
         "mode": "lines",
         "type": "scatter",
         "x": [
          1000,
          1096
         ],
         "y": [
          600,
          498
         ]
        },
        {
         "line": {
          "color": "green",
          "width": 2
         },
         "mode": "lines",
         "type": "scatter",
         "x": [
          600,
          515
         ],
         "y": [
          600,
          771
         ]
        },
        {
         "line": {
          "color": "green",
          "width": 2
         },
         "mode": "lines",
         "type": "scatter",
         "x": [
          200,
          305
         ],
         "y": [
          1400,
          1584
         ]
        },
        {
         "line": {
          "color": "green",
          "width": 2
         },
         "mode": "lines",
         "type": "scatter",
         "x": [
          200,
          330
         ],
         "y": [
          200,
          320
         ]
        },
        {
         "line": {
          "color": "green",
          "width": 2
         },
         "mode": "lines",
         "type": "scatter",
         "x": [
          1000,
          1072
         ],
         "y": [
          1000,
          826
         ]
        },
        {
         "line": {
          "color": "red",
          "width": 2
         },
         "mode": "lines",
         "type": "scatter",
         "x": [
          600,
          502
         ],
         "y": [
          600,
          687
         ]
        },
        {
         "line": {
          "color": "red",
          "width": 2
         },
         "mode": "lines",
         "type": "scatter",
         "x": [
          1000,
          964
         ],
         "y": [
          1000,
          888
         ]
        },
        {
         "line": {
          "color": "green",
          "width": 2
         },
         "mode": "lines",
         "type": "scatter",
         "x": [
          600,
          724
         ],
         "y": [
          1000,
          1124
         ]
        },
        {
         "line": {
          "color": "green",
          "width": 2
         },
         "mode": "lines",
         "type": "scatter",
         "x": [
          200,
          390
         ],
         "y": [
          200,
          198
         ]
        },
        {
         "line": {
          "color": "green",
          "width": 2
         },
         "mode": "lines",
         "type": "scatter",
         "x": [
          1400,
          1419
         ],
         "y": [
          1400,
          1574
         ]
        },
        {
         "line": {
          "color": "red",
          "width": 2
         },
         "mode": "lines",
         "type": "scatter",
         "x": [
          1000,
          1044
         ],
         "y": [
          1000,
          989
         ]
        },
        {
         "line": {
          "color": "red",
          "width": 2
         },
         "mode": "lines",
         "type": "scatter",
         "x": [
          1000,
          816
         ],
         "y": [
          1000,
          829
         ]
        },
        {
         "line": {
          "color": "red",
          "width": 2
         },
         "mode": "lines",
         "type": "scatter",
         "x": [
          600,
          741
         ],
         "y": [
          1000,
          860
         ]
        },
        {
         "line": {
          "color": "red",
          "width": 2
         },
         "mode": "lines",
         "type": "scatter",
         "x": [
          1000,
          907
         ],
         "y": [
          600,
          675
         ]
        },
        {
         "line": {
          "color": "green",
          "width": 2
         },
         "mode": "lines",
         "type": "scatter",
         "x": [
          600,
          679
         ],
         "y": [
          200,
          276
         ]
        },
        {
         "line": {
          "color": "green",
          "width": 2
         },
         "mode": "lines",
         "type": "scatter",
         "x": [
          1400,
          1035
         ],
         "y": [
          1000,
          851
         ]
        },
        {
         "line": {
          "color": "green",
          "width": 2
         },
         "mode": "lines",
         "type": "scatter",
         "x": [
          200,
          332
         ],
         "y": [
          1000,
          985
         ]
        },
        {
         "line": {
          "color": "green",
          "width": 2
         },
         "mode": "lines",
         "type": "scatter",
         "x": [
          600,
          523
         ],
         "y": [
          1000,
          888
         ]
        },
        {
         "line": {
          "color": "green",
          "width": 2
         },
         "mode": "lines",
         "type": "scatter",
         "x": [
          1000,
          962
         ],
         "y": [
          600,
          797
         ]
        },
        {
         "line": {
          "color": "red",
          "width": 2
         },
         "mode": "lines",
         "type": "scatter",
         "x": [
          600,
          753
         ],
         "y": [
          1000,
          999
         ]
        },
        {
         "line": {
          "color": "red",
          "width": 2
         },
         "mode": "lines",
         "type": "scatter",
         "x": [
          600,
          893
         ],
         "y": [
          1000,
          1090
         ]
        },
        {
         "line": {
          "color": "green",
          "width": 2
         },
         "mode": "lines",
         "type": "scatter",
         "x": [
          1000,
          1318
         ],
         "y": [
          1000,
          731
         ]
        },
        {
         "line": {
          "color": "red",
          "width": 2
         },
         "mode": "lines",
         "type": "scatter",
         "x": [
          1000,
          662
         ],
         "y": [
          1000,
          746
         ]
        },
        {
         "line": {
          "color": "red",
          "width": 2
         },
         "mode": "lines",
         "type": "scatter",
         "x": [
          600,
          877
         ],
         "y": [
          600,
          650
         ]
        },
        {
         "line": {
          "color": "red",
          "width": 2
         },
         "mode": "lines",
         "type": "scatter",
         "x": [
          600,
          540
         ],
         "y": [
          600,
          569
         ]
        },
        {
         "line": {
          "color": "green",
          "width": 2
         },
         "mode": "lines",
         "type": "scatter",
         "x": [
          200,
          8
         ],
         "y": [
          1400,
          1368
         ]
        },
        {
         "line": {
          "color": "green",
          "width": 2
         },
         "mode": "lines",
         "type": "scatter",
         "x": [
          1000,
          938
         ],
         "y": [
          600,
          732
         ]
        },
        {
         "line": {
          "color": "green",
          "width": 2
         },
         "mode": "lines",
         "type": "scatter",
         "x": [
          1400,
          1571
         ],
         "y": [
          1000,
          973
         ]
        },
        {
         "line": {
          "color": "red",
          "width": 2
         },
         "mode": "lines",
         "type": "scatter",
         "x": [
          600,
          535
         ],
         "y": [
          600,
          545
         ]
        },
        {
         "line": {
          "color": "red",
          "width": 2
         },
         "mode": "lines",
         "type": "scatter",
         "x": [
          1000,
          967
         ],
         "y": [
          1000,
          951
         ]
        },
        {
         "line": {
          "color": "red",
          "width": 2
         },
         "mode": "lines",
         "type": "scatter",
         "x": [
          600,
          583
         ],
         "y": [
          600,
          741
         ]
        },
        {
         "line": {
          "color": "red",
          "width": 2
         },
         "mode": "lines",
         "type": "scatter",
         "x": [
          600,
          624
         ],
         "y": [
          600,
          533
         ]
        },
        {
         "line": {
          "color": "red",
          "width": 2
         },
         "mode": "lines",
         "type": "scatter",
         "x": [
          600,
          573
         ],
         "y": [
          600,
          756
         ]
        },
        {
         "line": {
          "color": "red",
          "width": 2
         },
         "mode": "lines",
         "type": "scatter",
         "x": [
          200,
          525
         ],
         "y": [
          600,
          750
         ]
        },
        {
         "line": {
          "color": "green",
          "width": 2
         },
         "mode": "lines",
         "type": "scatter",
         "x": [
          200,
          313
         ],
         "y": [
          1000,
          1117
         ]
        },
        {
         "line": {
          "color": "green",
          "width": 2
         },
         "mode": "lines",
         "type": "scatter",
         "x": [
          1000,
          1219
         ],
         "y": [
          1000,
          1104
         ]
        },
        {
         "line": {
          "color": "green",
          "width": 2
         },
         "mode": "lines",
         "type": "scatter",
         "x": [
          200,
          188
         ],
         "y": [
          1400,
          1370
         ]
        },
        {
         "line": {
          "color": "red",
          "width": 2
         },
         "mode": "lines",
         "type": "scatter",
         "x": [
          1000,
          817
         ],
         "y": [
          1000,
          767
         ]
        },
        {
         "line": {
          "color": "green",
          "width": 2
         },
         "mode": "lines",
         "type": "scatter",
         "x": [
          600,
          579
         ],
         "y": [
          200,
          116
         ]
        },
        {
         "line": {
          "color": "green",
          "width": 2
         },
         "mode": "lines",
         "type": "scatter",
         "x": [
          1000,
          1062
         ],
         "y": [
          200,
          8
         ]
        },
        {
         "line": {
          "color": "red",
          "width": 2
         },
         "mode": "lines",
         "type": "scatter",
         "x": [
          1000,
          966
         ],
         "y": [
          600,
          771
         ]
        },
        {
         "line": {
          "color": "red",
          "width": 2
         },
         "mode": "lines",
         "type": "scatter",
         "x": [
          600,
          877
         ],
         "y": [
          1000,
          1025
         ]
        },
        {
         "line": {
          "color": "red",
          "width": 2
         },
         "mode": "lines",
         "type": "scatter",
         "x": [
          600,
          653
         ],
         "y": [
          600,
          762
         ]
        },
        {
         "line": {
          "color": "red",
          "width": 2
         },
         "mode": "lines",
         "type": "scatter",
         "x": [
          600,
          508
         ],
         "y": [
          1000,
          716
         ]
        },
        {
         "line": {
          "color": "green",
          "width": 2
         },
         "mode": "lines",
         "type": "scatter",
         "x": [
          200,
          214
         ],
         "y": [
          600,
          421
         ]
        },
        {
         "line": {
          "color": "green",
          "width": 2
         },
         "mode": "lines",
         "type": "scatter",
         "x": [
          1000,
          832
         ],
         "y": [
          1400,
          1310
         ]
        },
        {
         "line": {
          "color": "green",
          "width": 2
         },
         "mode": "lines",
         "type": "scatter",
         "x": [
          200,
          457
         ],
         "y": [
          600,
          817
         ]
        },
        {
         "line": {
          "color": "red",
          "width": 2
         },
         "mode": "lines",
         "type": "scatter",
         "x": [
          600,
          754
         ],
         "y": [
          1000,
          864
         ]
        },
        {
         "line": {
          "color": "green",
          "width": 2
         },
         "mode": "lines",
         "type": "scatter",
         "x": [
          1400,
          1464
         ],
         "y": [
          200,
          354
         ]
        },
        {
         "line": {
          "color": "red",
          "width": 2
         },
         "mode": "lines",
         "type": "scatter",
         "x": [
          600,
          590
         ],
         "y": [
          1000,
          935
         ]
        },
        {
         "line": {
          "color": "green",
          "width": 2
         },
         "mode": "lines",
         "type": "scatter",
         "x": [
          600,
          428
         ],
         "y": [
          200,
          287
         ]
        },
        {
         "line": {
          "color": "red",
          "width": 2
         },
         "mode": "lines",
         "type": "scatter",
         "x": [
          1000,
          1002
         ],
         "y": [
          1000,
          1097
         ]
        },
        {
         "line": {
          "color": "green",
          "width": 2
         },
         "mode": "lines",
         "type": "scatter",
         "x": [
          1000,
          845
         ],
         "y": [
          1000,
          818
         ]
        },
        {
         "line": {
          "color": "green",
          "width": 2
         },
         "mode": "lines",
         "type": "scatter",
         "x": [
          600,
          496
         ],
         "y": [
          1400,
          1420
         ]
        },
        {
         "line": {
          "color": "green",
          "width": 2
         },
         "mode": "lines",
         "type": "scatter",
         "x": [
          1400,
          1397
         ],
         "y": [
          200,
          386
         ]
        },
        {
         "line": {
          "color": "red",
          "width": 2
         },
         "mode": "lines",
         "type": "scatter",
         "x": [
          1000,
          800
         ],
         "y": [
          600,
          800
         ]
        },
        {
         "line": {
          "color": "green",
          "width": 2
         },
         "mode": "lines",
         "type": "scatter",
         "x": [
          200,
          237
         ],
         "y": [
          1400,
          1481
         ]
        },
        {
         "line": {
          "color": "green",
          "width": 2
         },
         "mode": "lines",
         "type": "scatter",
         "x": [
          1400,
          1486
         ],
         "y": [
          1000,
          1131
         ]
        },
        {
         "line": {
          "color": "green",
          "width": 2
         },
         "mode": "lines",
         "type": "scatter",
         "x": [
          200,
          2
         ],
         "y": [
          600,
          554
         ]
        },
        {
         "line": {
          "color": "green",
          "width": 2
         },
         "mode": "lines",
         "type": "scatter",
         "x": [
          1400,
          1453
         ],
         "y": [
          200,
          96
         ]
        },
        {
         "line": {
          "color": "green",
          "width": 2
         },
         "mode": "lines",
         "type": "scatter",
         "x": [
          600,
          469
         ],
         "y": [
          200,
          157
         ]
        },
        {
         "line": {
          "color": "green",
          "width": 2
         },
         "mode": "lines",
         "type": "scatter",
         "x": [
          200,
          170
         ],
         "y": [
          600,
          503
         ]
        },
        {
         "line": {
          "color": "red",
          "width": 2
         },
         "mode": "lines",
         "type": "scatter",
         "x": [
          600,
          929
         ],
         "y": [
          1000,
          1013
         ]
        },
        {
         "line": {
          "color": "red",
          "width": 2
         },
         "mode": "lines",
         "type": "scatter",
         "x": [
          600,
          670
         ],
         "y": [
          600,
          565
         ]
        },
        {
         "line": {
          "color": "green",
          "width": 2
         },
         "mode": "lines",
         "type": "scatter",
         "x": [
          200,
          112
         ],
         "y": [
          600,
          743
         ]
        },
        {
         "line": {
          "color": "green",
          "width": 2
         },
         "mode": "lines",
         "type": "scatter",
         "x": [
          600,
          632
         ],
         "y": [
          200,
          179
         ]
        },
        {
         "line": {
          "color": "green",
          "width": 2
         },
         "mode": "lines",
         "type": "scatter",
         "x": [
          1400,
          1299
         ],
         "y": [
          1400,
          1214
         ]
        },
        {
         "line": {
          "color": "green",
          "width": 2
         },
         "mode": "lines",
         "type": "scatter",
         "x": [
          1400,
          1591
         ],
         "y": [
          1000,
          1013
         ]
        },
        {
         "line": {
          "color": "green",
          "width": 2
         },
         "mode": "lines",
         "type": "scatter",
         "x": [
          1400,
          1468
         ],
         "y": [
          1400,
          1431
         ]
        },
        {
         "line": {
          "color": "red",
          "width": 2
         },
         "mode": "lines",
         "type": "scatter",
         "x": [
          600,
          742
         ],
         "y": [
          1000,
          888
         ]
        },
        {
         "line": {
          "color": "red",
          "width": 2
         },
         "mode": "lines",
         "type": "scatter",
         "x": [
          1000,
          803
         ],
         "y": [
          1000,
          1014
         ]
        },
        {
         "line": {
          "color": "red",
          "width": 2
         },
         "mode": "lines",
         "type": "scatter",
         "x": [
          600,
          658
         ],
         "y": [
          1000,
          956
         ]
        },
        {
         "line": {
          "color": "red",
          "width": 2
         },
         "mode": "lines",
         "type": "scatter",
         "x": [
          1000,
          1059
         ],
         "y": [
          600,
          807
         ]
        },
        {
         "line": {
          "color": "green",
          "width": 2
         },
         "mode": "lines",
         "type": "scatter",
         "x": [
          200,
          40
         ],
         "y": [
          200,
          98
         ]
        },
        {
         "line": {
          "color": "green",
          "width": 2
         },
         "mode": "lines",
         "type": "scatter",
         "x": [
          200,
          162
         ],
         "y": [
          600,
          713
         ]
        },
        {
         "line": {
          "color": "green",
          "width": 2
         },
         "mode": "lines",
         "type": "scatter",
         "x": [
          1000,
          969
         ],
         "y": [
          600,
          501
         ]
        },
        {
         "line": {
          "color": "green",
          "width": 2
         },
         "mode": "lines",
         "type": "scatter",
         "x": [
          200,
          206
         ],
         "y": [
          200,
          145
         ]
        },
        {
         "line": {
          "color": "red",
          "width": 2
         },
         "mode": "lines",
         "type": "scatter",
         "x": [
          1000,
          703
         ],
         "y": [
          1000,
          831
         ]
        },
        {
         "line": {
          "color": "green",
          "width": 2
         },
         "mode": "lines",
         "type": "scatter",
         "x": [
          1000,
          1030
         ],
         "y": [
          600,
          668
         ]
        },
        {
         "line": {
          "color": "green",
          "width": 2
         },
         "mode": "lines",
         "type": "scatter",
         "x": [
          600,
          512
         ],
         "y": [
          600,
          743
         ]
        },
        {
         "line": {
          "color": "green",
          "width": 2
         },
         "mode": "lines",
         "type": "scatter",
         "x": [
          200,
          146
         ],
         "y": [
          200,
          37
         ]
        },
        {
         "line": {
          "color": "green",
          "width": 2
         },
         "mode": "lines",
         "type": "scatter",
         "x": [
          1400,
          1566
         ],
         "y": [
          600,
          459
         ]
        },
        {
         "marker": {
          "color": [
           "orange",
           "orange",
           "orange",
           "orange",
           "orange",
           "orange",
           "orange",
           "orange",
           "orange",
           "orange",
           "orange",
           "orange",
           "orange",
           "orange",
           "orange",
           "orange",
           "magenta",
           "magenta",
           "blue",
           "magenta",
           "magenta",
           "magenta",
           "magenta",
           "blue",
           "magenta",
           "magenta",
           "magenta",
           "magenta",
           "magenta",
           "magenta",
           "magenta",
           "blue",
           "blue",
           "magenta",
           "blue",
           "magenta",
           "magenta",
           "magenta",
           "magenta",
           "magenta",
           "magenta",
           "magenta",
           "magenta",
           "magenta",
           "magenta",
           "blue",
           "magenta",
           "magenta",
           "magenta",
           "magenta",
           "blue",
           "magenta",
           "magenta",
           "magenta",
           "magenta",
           "magenta",
           "blue",
           "magenta",
           "magenta",
           "magenta",
           "blue",
           "blue",
           "magenta",
           "blue",
           "magenta",
           "magenta",
           "magenta",
           "magenta",
           "magenta",
           "blue",
           "blue",
           "magenta",
           "magenta",
           "magenta",
           "blue",
           "magenta",
           "magenta",
           "magenta",
           "magenta",
           "magenta",
           "magenta",
           "magenta",
           "magenta",
           "magenta",
           "blue",
           "magenta",
           "blue",
           "magenta",
           "magenta",
           "magenta",
           "magenta",
           "magenta",
           "blue",
           "magenta",
           "magenta",
           "magenta",
           "magenta",
           "magenta",
           "magenta",
           "magenta",
           "magenta",
           "blue",
           "magenta",
           "magenta",
           "magenta",
           "magenta",
           "magenta",
           "magenta",
           "magenta",
           "magenta",
           "blue",
           "magenta",
           "magenta",
           "magenta",
           "magenta",
           "magenta",
           "magenta",
           "magenta",
           "blue",
           "magenta",
           "blue",
           "magenta",
           "blue",
           "blue",
           "blue",
           "magenta",
           "blue",
           "magenta",
           "magenta",
           "blue",
           "magenta",
           "blue",
           "magenta",
           "magenta",
           "magenta",
           "magenta",
           "magenta",
           "magenta",
           "magenta",
           "blue",
           "blue",
           "magenta",
           "magenta",
           "magenta",
           "blue",
           "blue",
           "blue",
           "blue",
           "magenta",
           "blue",
           "magenta",
           "magenta",
           "magenta",
           "blue",
           "blue",
           "magenta",
           "blue",
           "blue",
           "blue",
           "magenta",
           "magenta",
           "magenta",
           "blue",
           "blue",
           "blue",
           "blue",
           "blue",
           "blue",
           "magenta",
           "magenta",
           "magenta",
           "blue",
           "magenta",
           "magenta",
           "blue",
           "blue",
           "blue",
           "blue",
           "magenta",
           "magenta",
           "magenta",
           "blue",
           "magenta",
           "blue",
           "magenta",
           "blue",
           "magenta",
           "magenta",
           "magenta",
           "blue",
           "magenta",
           "magenta",
           "magenta",
           "magenta",
           "magenta",
           "magenta",
           "blue",
           "blue",
           "magenta",
           "magenta",
           "magenta",
           "magenta",
           "magenta",
           "blue",
           "blue",
           "blue",
           "blue",
           "magenta",
           "magenta",
           "magenta",
           "magenta",
           "blue",
           "magenta",
           "magenta",
           "magenta",
           "magenta"
          ],
          "size": 8
         },
         "mode": "markers",
         "type": "scatter",
         "x": [
          200,
          200,
          200,
          200,
          600,
          600,
          600,
          600,
          1000,
          1000,
          1000,
          1000,
          1400,
          1400,
          1400,
          1400,
          945,
          1162,
          689,
          952,
          392,
          653,
          1013,
          889,
          114,
          925,
          63,
          123,
          1289,
          141,
          900,
          842,
          730,
          455,
          704,
          235,
          469,
          1183,
          1185,
          1041,
          1245,
          1355,
          978,
          1447,
          1161,
          849,
          168,
          1453,
          1579,
          1496,
          607,
          363,
          891,
          62,
          130,
          147,
          864,
          935,
          566,
          35,
          733,
          1045,
          716,
          947,
          638,
          354,
          471,
          297,
          1186,
          509,
          641,
          1130,
          1560,
          934,
          811,
          1488,
          585,
          57,
          1129,
          1409,
          671,
          1049,
          147,
          445,
          553,
          1588,
          1074,
          187,
          1208,
          1032,
          1325,
          58,
          563,
          1461,
          893,
          1243,
          706,
          1391,
          428,
          445,
          829,
          1090,
          945,
          256,
          1311,
          1467,
          196,
          48,
          792,
          603,
          607,
          758,
          971,
          1056,
          1023,
          417,
          518,
          1254,
          773,
          950,
          526,
          246,
          796,
          1090,
          1039,
          204,
          804,
          819,
          365,
          702,
          93,
          809,
          646,
          1001,
          1096,
          515,
          305,
          330,
          1072,
          502,
          964,
          724,
          390,
          1419,
          1044,
          816,
          741,
          907,
          679,
          1035,
          332,
          523,
          962,
          753,
          893,
          1318,
          662,
          877,
          540,
          8,
          938,
          1571,
          535,
          967,
          583,
          624,
          573,
          525,
          313,
          1219,
          188,
          817,
          579,
          1062,
          966,
          877,
          653,
          508,
          214,
          832,
          457,
          754,
          1464,
          590,
          428,
          1002,
          845,
          496,
          1397,
          800,
          237,
          1486,
          2,
          1453,
          469,
          170,
          929,
          670,
          112,
          632,
          1299,
          1591,
          1468,
          742,
          803,
          658,
          1059,
          40,
          162,
          969,
          206,
          703,
          1030,
          512,
          146,
          1566
         ],
         "y": [
          200,
          600,
          1000,
          1400,
          200,
          600,
          1000,
          1400,
          200,
          600,
          1000,
          1400,
          200,
          600,
          1000,
          1400,
          745,
          1465,
          901,
          1370,
          630,
          300,
          567,
          762,
          1386,
          324,
          354,
          1031,
          505,
          517,
          436,
          794,
          666,
          834,
          1049,
          1570,
          378,
          779,
          1298,
          555,
          423,
          693,
          1089,
          1560,
          588,
          807,
          523,
          1311,
          971,
          328,
          989,
          778,
          1193,
          1401,
          642,
          1212,
          957,
          629,
          763,
          922,
          647,
          505,
          721,
          513,
          517,
          185,
          214,
          351,
          1425,
          656,
          679,
          1005,
          482,
          1165,
          1085,
          796,
          664,
          311,
          181,
          1133,
          534,
          448,
          90,
          278,
          531,
          864,
          943,
          1544,
          791,
          962,
          283,
          1297,
          967,
          1000,
          333,
          1179,
          1323,
          1536,
          247,
          684,
          1415,
          841,
          573,
          226,
          793,
          1298,
          1323,
          1023,
          1479,
          915,
          618,
          1165,
          95,
          630,
          671,
          705,
          187,
          1026,
          987,
          1455,
          1014,
          1147,
          1098,
          765,
          1008,
          617,
          597,
          1148,
          1417,
          937,
          768,
          577,
          42,
          1449,
          498,
          771,
          1584,
          320,
          826,
          687,
          888,
          1124,
          198,
          1574,
          989,
          829,
          860,
          675,
          276,
          851,
          985,
          888,
          797,
          999,
          1090,
          731,
          746,
          650,
          569,
          1368,
          732,
          973,
          545,
          951,
          741,
          533,
          756,
          750,
          1117,
          1104,
          1370,
          767,
          116,
          8,
          771,
          1025,
          762,
          716,
          421,
          1310,
          817,
          864,
          354,
          935,
          287,
          1097,
          818,
          1420,
          386,
          800,
          1481,
          1131,
          554,
          96,
          157,
          503,
          1013,
          565,
          743,
          179,
          1214,
          1013,
          1431,
          888,
          1014,
          956,
          807,
          98,
          713,
          501,
          145,
          831,
          668,
          743,
          37,
          459
         ]
        }
       ],
       "layout": {
        "height": 1000,
        "shapes": [
         {
          "fillcolor": "rgba(128, 0, 128 0.1)",
          "line": {
           "color": "rgba(128, 0, 128, 1)",
           "width": 2
          },
          "type": "rect",
          "x0": 585,
          "x1": 685,
          "y0": 0,
          "y1": 1600
         },
         {
          "fillcolor": "rgba(128, 0, 128 0.1)",
          "line": {
           "color": "rgba(128, 0, 128, 1)",
           "width": 2
          },
          "type": "rect",
          "x0": 1293,
          "x1": 1426,
          "y0": 214,
          "y1": 315
         },
         {
          "fillcolor": "rgba(128, 0, 128 0.1)",
          "line": {
           "color": "rgba(128, 0, 128, 1)",
           "width": 2
          },
          "type": "rect",
          "x0": 1258,
          "x1": 1416,
          "y0": 1425,
          "y1": 1445
         },
         {
          "fillcolor": "rgba(128, 0, 128 0.1)",
          "line": {
           "color": "rgba(128, 0, 128, 1)",
           "width": 2
          },
          "type": "rect",
          "x0": 1052,
          "x1": 1152,
          "y0": 0,
          "y1": 1600
         }
        ],
        "showlegend": false,
        "title": "UE and AP Distribution in the grid",
        "width": 1000,
        "xaxis": {
         "range": [
          0,
          1600
         ],
         "title": "x"
        },
        "yaxis": {
         "range": [
          0,
          1600
         ],
         "title": "y"
        }
       }
      },
      "text/html": [
       "<div id=\"9e1d56d2-2e38-4226-9073-5f5577e662bc\" style=\"height: 1000px; width: 1000px;\" class=\"plotly-graph-div\"></div><script type=\"text/javascript\">require([\"plotly\"], function(Plotly) { window.PLOTLYENV=window.PLOTLYENV || {};window.PLOTLYENV.BASE_URL=\"https://plot.ly\";Plotly.newPlot(\"9e1d56d2-2e38-4226-9073-5f5577e662bc\", [{\"type\": \"scatter\", \"x\": [1000.0, 945], \"y\": [600.0, 745], \"mode\": \"lines\", \"line\": {\"width\": 2, \"color\": \"green\"}}, {\"type\": \"scatter\", \"x\": [1000.0, 1162], \"y\": [1400.0, 1465], \"mode\": \"lines\", \"line\": {\"width\": 2, \"color\": \"green\"}}, {\"type\": \"scatter\", \"x\": [600.0, 689], \"y\": [1000.0, 901], \"mode\": \"lines\", \"line\": {\"width\": 2, \"color\": \"green\"}}, {\"type\": \"scatter\", \"x\": [1000.0, 952], \"y\": [1400.0, 1370], \"mode\": \"lines\", \"line\": {\"width\": 2, \"color\": \"green\"}}, {\"type\": \"scatter\", \"x\": [200.0, 392], \"y\": [1000.0, 630], \"mode\": \"lines\", \"line\": {\"width\": 2, \"color\": \"green\"}}, {\"type\": \"scatter\", \"x\": [600.0, 653], \"y\": [200.0, 300], \"mode\": \"lines\", \"line\": {\"width\": 2, \"color\": \"green\"}}, {\"type\": \"scatter\", \"x\": [1000.0, 1013], \"y\": [600.0, 567], \"mode\": \"lines\", \"line\": {\"width\": 2, \"color\": \"green\"}}, {\"type\": \"scatter\", \"x\": [1000.0, 889], \"y\": [600.0, 762], \"mode\": \"lines\", \"line\": {\"width\": 2, \"color\": \"green\"}}, {\"type\": \"scatter\", \"x\": [200.0, 114], \"y\": [1000.0, 1386], \"mode\": \"lines\", \"line\": {\"width\": 2, \"color\": \"green\"}}, {\"type\": \"scatter\", \"x\": [1000.0, 925], \"y\": [200.0, 324], \"mode\": \"lines\", \"line\": {\"width\": 2, \"color\": \"green\"}}, {\"type\": \"scatter\", \"x\": [200.0, 63], \"y\": [200.0, 354], \"mode\": \"lines\", \"line\": {\"width\": 2, \"color\": \"green\"}}, {\"type\": \"scatter\", \"x\": [200.0, 123], \"y\": [1000.0, 1031], \"mode\": \"lines\", \"line\": {\"width\": 2, \"color\": \"green\"}}, {\"type\": \"scatter\", \"x\": [1400.0, 1289], \"y\": [600.0, 505], \"mode\": \"lines\", \"line\": {\"width\": 2, \"color\": \"green\"}}, {\"type\": \"scatter\", \"x\": [200.0, 141], \"y\": [600.0, 517], \"mode\": \"lines\", \"line\": {\"width\": 2, \"color\": \"green\"}}, {\"type\": \"scatter\", \"x\": [1000.0, 900], \"y\": [600.0, 436], \"mode\": \"lines\", \"line\": {\"width\": 2, \"color\": \"green\"}}, {\"type\": \"scatter\", \"x\": [1000.0, 842], \"y\": [600.0, 794], \"mode\": \"lines\", \"line\": {\"width\": 2, \"color\": \"green\"}}, {\"type\": \"scatter\", \"x\": [600.0, 730], \"y\": [600.0, 666], \"mode\": \"lines\", \"line\": {\"width\": 2, \"color\": \"green\"}}, {\"type\": \"scatter\", \"x\": [600.0, 455], \"y\": [1000.0, 834], \"mode\": \"lines\", \"line\": {\"width\": 2, \"color\": \"green\"}}, {\"type\": \"scatter\", \"x\": [600.0, 704], \"y\": [1000.0, 1049], \"mode\": \"lines\", \"line\": {\"width\": 2, \"color\": \"green\"}}, {\"type\": \"scatter\", \"x\": [200.0, 235], \"y\": [1400.0, 1570], \"mode\": \"lines\", \"line\": {\"width\": 2, \"color\": \"green\"}}, {\"type\": \"scatter\", \"x\": [600.0, 469], \"y\": [600.0, 378], \"mode\": \"lines\", \"line\": {\"width\": 2, \"color\": \"green\"}}, {\"type\": \"scatter\", \"x\": [1000.0, 1183], \"y\": [600.0, 779], \"mode\": \"lines\", \"line\": {\"width\": 2, \"color\": \"green\"}}, {\"type\": \"scatter\", \"x\": [1000.0, 1185], \"y\": [1000.0, 1298], \"mode\": \"lines\", \"line\": {\"width\": 2, \"color\": \"green\"}}, {\"type\": \"scatter\", \"x\": [1000.0, 1041], \"y\": [600.0, 555], \"mode\": \"lines\", \"line\": {\"width\": 2, \"color\": \"green\"}}, {\"type\": \"scatter\", \"x\": [1000.0, 1245], \"y\": [600.0, 423], \"mode\": \"lines\", \"line\": {\"width\": 2, \"color\": \"green\"}}, {\"type\": \"scatter\", \"x\": [1400.0, 1355], \"y\": [600.0, 693], \"mode\": \"lines\", \"line\": {\"width\": 2, \"color\": \"green\"}}, {\"type\": \"scatter\", \"x\": [1000.0, 978], \"y\": [1000.0, 1089], \"mode\": \"lines\", \"line\": {\"width\": 2, \"color\": \"green\"}}, {\"type\": \"scatter\", \"x\": [1400.0, 1447], \"y\": [1400.0, 1560], \"mode\": \"lines\", \"line\": {\"width\": 2, \"color\": \"green\"}}, {\"type\": \"scatter\", \"x\": [1000.0, 1161], \"y\": [600.0, 588], \"mode\": \"lines\", \"line\": {\"width\": 2, \"color\": \"green\"}}, {\"type\": \"scatter\", \"x\": [1000.0, 849], \"y\": [1000.0, 807], \"mode\": \"lines\", \"line\": {\"width\": 2, \"color\": \"green\"}}, {\"type\": \"scatter\", \"x\": [200.0, 168], \"y\": [600.0, 523], \"mode\": \"lines\", \"line\": {\"width\": 2, \"color\": \"green\"}}, {\"type\": \"scatter\", \"x\": [1400.0, 1453], \"y\": [1400.0, 1311], \"mode\": \"lines\", \"line\": {\"width\": 2, \"color\": \"green\"}}, {\"type\": \"scatter\", \"x\": [1400.0, 1579], \"y\": [1000.0, 971], \"mode\": \"lines\", \"line\": {\"width\": 2, \"color\": \"green\"}}, {\"type\": \"scatter\", \"x\": [1400.0, 1496], \"y\": [200.0, 328], \"mode\": \"lines\", \"line\": {\"width\": 2, \"color\": \"green\"}}, {\"type\": \"scatter\", \"x\": [600.0, 607], \"y\": [1000.0, 989], \"mode\": \"lines\", \"line\": {\"width\": 2, \"color\": \"green\"}}, {\"type\": \"scatter\", \"x\": [200.0, 363], \"y\": [600.0, 778], \"mode\": \"lines\", \"line\": {\"width\": 2, \"color\": \"green\"}}, {\"type\": \"scatter\", \"x\": [600.0, 891], \"y\": [1000.0, 1193], \"mode\": \"lines\", \"line\": {\"width\": 2, \"color\": \"green\"}}, {\"type\": \"scatter\", \"x\": [200.0, 62], \"y\": [1400.0, 1401], \"mode\": \"lines\", \"line\": {\"width\": 2, \"color\": \"green\"}}, {\"type\": \"scatter\", \"x\": [200.0, 130], \"y\": [600.0, 642], \"mode\": \"lines\", \"line\": {\"width\": 2, \"color\": \"green\"}}, {\"type\": \"scatter\", \"x\": [200.0, 147], \"y\": [1400.0, 1212], \"mode\": \"lines\", \"line\": {\"width\": 2, \"color\": \"green\"}}, {\"type\": \"scatter\", \"x\": [1000.0, 864], \"y\": [1000.0, 957], \"mode\": \"lines\", \"line\": {\"width\": 2, \"color\": \"green\"}}, {\"type\": \"scatter\", \"x\": [1000.0, 935], \"y\": [600.0, 629], \"mode\": \"lines\", \"line\": {\"width\": 2, \"color\": \"green\"}}, {\"type\": \"scatter\", \"x\": [600.0, 566], \"y\": [600.0, 763], \"mode\": \"lines\", \"line\": {\"width\": 2, \"color\": \"green\"}}, {\"type\": \"scatter\", \"x\": [200.0, 35], \"y\": [1000.0, 922], \"mode\": \"lines\", \"line\": {\"width\": 2, \"color\": \"green\"}}, {\"type\": \"scatter\", \"x\": [1000.0, 733], \"y\": [600.0, 647], \"mode\": \"lines\", \"line\": {\"width\": 2, \"color\": \"red\"}}, {\"type\": \"scatter\", \"x\": [1000.0, 1045], \"y\": [600.0, 505], \"mode\": \"lines\", \"line\": {\"width\": 2, \"color\": \"green\"}}, {\"type\": \"scatter\", \"x\": [600.0, 716], \"y\": [600.0, 721], \"mode\": \"lines\", \"line\": {\"width\": 2, \"color\": \"green\"}}, {\"type\": \"scatter\", \"x\": [1000.0, 947], \"y\": [600.0, 513], \"mode\": \"lines\", \"line\": {\"width\": 2, \"color\": \"green\"}}, {\"type\": \"scatter\", \"x\": [1000.0, 638], \"y\": [600.0, 517], \"mode\": \"lines\", \"line\": {\"width\": 2, \"color\": \"green\"}}, {\"type\": \"scatter\", \"x\": [200.0, 354], \"y\": [200.0, 185], \"mode\": \"lines\", \"line\": {\"width\": 2, \"color\": \"green\"}}, {\"type\": \"scatter\", \"x\": [600.0, 471], \"y\": [200.0, 214], \"mode\": \"lines\", \"line\": {\"width\": 2, \"color\": \"green\"}}, {\"type\": \"scatter\", \"x\": [200.0, 297], \"y\": [200.0, 351], \"mode\": \"lines\", \"line\": {\"width\": 2, \"color\": \"green\"}}, {\"type\": \"scatter\", \"x\": [1000.0, 1186], \"y\": [1400.0, 1425], \"mode\": \"lines\", \"line\": {\"width\": 2, \"color\": \"green\"}}, {\"type\": \"scatter\", \"x\": [600.0, 509], \"y\": [600.0, 656], \"mode\": \"lines\", \"line\": {\"width\": 2, \"color\": \"green\"}}, {\"type\": \"scatter\", \"x\": [600.0, 641], \"y\": [600.0, 679], \"mode\": \"lines\", \"line\": {\"width\": 2, \"color\": \"green\"}}, {\"type\": \"scatter\", \"x\": [1000.0, 1130], \"y\": [1000.0, 1005], \"mode\": \"lines\", \"line\": {\"width\": 2, \"color\": \"green\"}}, {\"type\": \"scatter\", \"x\": [1400.0, 1560], \"y\": [200.0, 482], \"mode\": \"lines\", \"line\": {\"width\": 2, \"color\": \"green\"}}, {\"type\": \"scatter\", \"x\": [1000.0, 934], \"y\": [1000.0, 1165], \"mode\": \"lines\", \"line\": {\"width\": 2, \"color\": \"green\"}}, {\"type\": \"scatter\", \"x\": [1000.0, 811], \"y\": [1000.0, 1085], \"mode\": \"lines\", \"line\": {\"width\": 2, \"color\": \"green\"}}, {\"type\": \"scatter\", \"x\": [1400.0, 1488], \"y\": [1000.0, 796], \"mode\": \"lines\", \"line\": {\"width\": 2, \"color\": \"green\"}}, {\"type\": \"scatter\", \"x\": [600.0, 585], \"y\": [600.0, 664], \"mode\": \"lines\", \"line\": {\"width\": 2, \"color\": \"green\"}}, {\"type\": \"scatter\", \"x\": [200.0, 57], \"y\": [200.0, 311], \"mode\": \"lines\", \"line\": {\"width\": 2, \"color\": \"green\"}}, {\"type\": \"scatter\", \"x\": [1000.0, 1129], \"y\": [200.0, 181], \"mode\": \"lines\", \"line\": {\"width\": 2, \"color\": \"green\"}}, {\"type\": \"scatter\", \"x\": [1400.0, 1409], \"y\": [1400.0, 1133], \"mode\": \"lines\", \"line\": {\"width\": 2, \"color\": \"green\"}}, {\"type\": \"scatter\", \"x\": [600.0, 671], \"y\": [600.0, 534], \"mode\": \"lines\", \"line\": {\"width\": 2, \"color\": \"green\"}}, {\"type\": \"scatter\", \"x\": [1000.0, 1049], \"y\": [600.0, 448], \"mode\": \"lines\", \"line\": {\"width\": 2, \"color\": \"green\"}}, {\"type\": \"scatter\", \"x\": [200.0, 147], \"y\": [200.0, 90], \"mode\": \"lines\", \"line\": {\"width\": 2, \"color\": \"green\"}}, {\"type\": \"scatter\", \"x\": [600.0, 445], \"y\": [200.0, 278], \"mode\": \"lines\", \"line\": {\"width\": 2, \"color\": \"green\"}}, {\"type\": \"scatter\", \"x\": [600.0, 553], \"y\": [600.0, 531], \"mode\": \"lines\", \"line\": {\"width\": 2, \"color\": \"green\"}}, {\"type\": \"scatter\", \"x\": [1400.0, 1588], \"y\": [1000.0, 864], \"mode\": \"lines\", \"line\": {\"width\": 2, \"color\": \"green\"}}, {\"type\": \"scatter\", \"x\": [1000.0, 1074], \"y\": [1000.0, 943], \"mode\": \"lines\", \"line\": {\"width\": 2, \"color\": \"green\"}}, {\"type\": \"scatter\", \"x\": [200.0, 187], \"y\": [1400.0, 1544], \"mode\": \"lines\", \"line\": {\"width\": 2, \"color\": \"green\"}}, {\"type\": \"scatter\", \"x\": [1400.0, 1208], \"y\": [600.0, 791], \"mode\": \"lines\", \"line\": {\"width\": 2, \"color\": \"green\"}}, {\"type\": \"scatter\", \"x\": [1000.0, 1032], \"y\": [1000.0, 962], \"mode\": \"lines\", \"line\": {\"width\": 2, \"color\": \"green\"}}, {\"type\": \"scatter\", \"x\": [1400.0, 1325], \"y\": [200.0, 283], \"mode\": \"lines\", \"line\": {\"width\": 2, \"color\": \"green\"}}, {\"type\": \"scatter\", \"x\": [200.0, 58], \"y\": [1400.0, 1297], \"mode\": \"lines\", \"line\": {\"width\": 2, \"color\": \"green\"}}, {\"type\": \"scatter\", \"x\": [600.0, 563], \"y\": [1000.0, 967], \"mode\": \"lines\", \"line\": {\"width\": 2, \"color\": \"green\"}}, {\"type\": \"scatter\", \"x\": [1400.0, 1461], \"y\": [1000.0, 1000], \"mode\": \"lines\", \"line\": {\"width\": 2, \"color\": \"green\"}}, {\"type\": \"scatter\", \"x\": [1000.0, 893], \"y\": [200.0, 333], \"mode\": \"lines\", \"line\": {\"width\": 2, \"color\": \"green\"}}, {\"type\": \"scatter\", \"x\": [1400.0, 1243], \"y\": [1000.0, 1179], \"mode\": \"lines\", \"line\": {\"width\": 2, \"color\": \"green\"}}, {\"type\": \"scatter\", \"x\": [600.0, 706], \"y\": [1400.0, 1323], \"mode\": \"lines\", \"line\": {\"width\": 2, \"color\": \"green\"}}, {\"type\": \"scatter\", \"x\": [1400.0, 1391], \"y\": [1400.0, 1536], \"mode\": \"lines\", \"line\": {\"width\": 2, \"color\": \"green\"}}, {\"type\": \"scatter\", \"x\": [600.0, 428], \"y\": [200.0, 247], \"mode\": \"lines\", \"line\": {\"width\": 2, \"color\": \"green\"}}, {\"type\": \"scatter\", \"x\": [600.0, 445], \"y\": [600.0, 684], \"mode\": \"lines\", \"line\": {\"width\": 2, \"color\": \"green\"}}, {\"type\": \"scatter\", \"x\": [1000.0, 829], \"y\": [1400.0, 1415], \"mode\": \"lines\", \"line\": {\"width\": 2, \"color\": \"green\"}}, {\"type\": \"scatter\", \"x\": [1000.0, 1090], \"y\": [1000.0, 841], \"mode\": \"lines\", \"line\": {\"width\": 2, \"color\": \"green\"}}, {\"type\": \"scatter\", \"x\": [1000.0, 945], \"y\": [600.0, 573], \"mode\": \"lines\", \"line\": {\"width\": 2, \"color\": \"green\"}}, {\"type\": \"scatter\", \"x\": [200.0, 256], \"y\": [200.0, 226], \"mode\": \"lines\", \"line\": {\"width\": 2, \"color\": \"green\"}}, {\"type\": \"scatter\", \"x\": [1000.0, 1311], \"y\": [1000.0, 793], \"mode\": \"lines\", \"line\": {\"width\": 2, \"color\": \"green\"}}, {\"type\": \"scatter\", \"x\": [1400.0, 1467], \"y\": [1400.0, 1298], \"mode\": \"lines\", \"line\": {\"width\": 2, \"color\": \"green\"}}, {\"type\": \"scatter\", \"x\": [200.0, 196], \"y\": [1400.0, 1323], \"mode\": \"lines\", \"line\": {\"width\": 2, \"color\": \"green\"}}, {\"type\": \"scatter\", \"x\": [200.0, 48], \"y\": [1000.0, 1023], \"mode\": \"lines\", \"line\": {\"width\": 2, \"color\": \"green\"}}, {\"type\": \"scatter\", \"x\": [600.0, 792], \"y\": [1400.0, 1479], \"mode\": \"lines\", \"line\": {\"width\": 2, \"color\": \"green\"}}, {\"type\": \"scatter\", \"x\": [600.0, 603], \"y\": [1000.0, 915], \"mode\": \"lines\", \"line\": {\"width\": 2, \"color\": \"green\"}}, {\"type\": \"scatter\", \"x\": [600.0, 607], \"y\": [600.0, 618], \"mode\": \"lines\", \"line\": {\"width\": 2, \"color\": \"green\"}}, {\"type\": \"scatter\", \"x\": [600.0, 758], \"y\": [1000.0, 1165], \"mode\": \"lines\", \"line\": {\"width\": 2, \"color\": \"green\"}}, {\"type\": \"scatter\", \"x\": [1000.0, 971], \"y\": [200.0, 95], \"mode\": \"lines\", \"line\": {\"width\": 2, \"color\": \"green\"}}, {\"type\": \"scatter\", \"x\": [1000.0, 1056], \"y\": [600.0, 630], \"mode\": \"lines\", \"line\": {\"width\": 2, \"color\": \"green\"}}, {\"type\": \"scatter\", \"x\": [1000.0, 1023], \"y\": [600.0, 671], \"mode\": \"lines\", \"line\": {\"width\": 2, \"color\": \"green\"}}, {\"type\": \"scatter\", \"x\": [600.0, 417], \"y\": [600.0, 705], \"mode\": \"lines\", \"line\": {\"width\": 2, \"color\": \"green\"}}, {\"type\": \"scatter\", \"x\": [600.0, 518], \"y\": [200.0, 187], \"mode\": \"lines\", \"line\": {\"width\": 2, \"color\": \"green\"}}, {\"type\": \"scatter\", \"x\": [1400.0, 1254], \"y\": [1000.0, 1026], \"mode\": \"lines\", \"line\": {\"width\": 2, \"color\": \"green\"}}, {\"type\": \"scatter\", \"x\": [600.0, 773], \"y\": [1000.0, 987], \"mode\": \"lines\", \"line\": {\"width\": 2, \"color\": \"green\"}}, {\"type\": \"scatter\", \"x\": [1000.0, 950], \"y\": [1400.0, 1455], \"mode\": \"lines\", \"line\": {\"width\": 2, \"color\": \"green\"}}, {\"type\": \"scatter\", \"x\": [600.0, 526], \"y\": [1000.0, 1014], \"mode\": \"lines\", \"line\": {\"width\": 2, \"color\": \"green\"}}, {\"type\": \"scatter\", \"x\": [200.0, 246], \"y\": [1000.0, 1147], \"mode\": \"lines\", \"line\": {\"width\": 2, \"color\": \"green\"}}, {\"type\": \"scatter\", \"x\": [600.0, 796], \"y\": [1000.0, 1098], \"mode\": \"lines\", \"line\": {\"width\": 2, \"color\": \"green\"}}, {\"type\": \"scatter\", \"x\": [1000.0, 1090], \"y\": [1000.0, 765], \"mode\": \"lines\", \"line\": {\"width\": 2, \"color\": \"red\"}}, {\"type\": \"scatter\", \"x\": [1000.0, 1039], \"y\": [1000.0, 1008], \"mode\": \"lines\", \"line\": {\"width\": 2, \"color\": \"green\"}}, {\"type\": \"scatter\", \"x\": [200.0, 204], \"y\": [600.0, 617], \"mode\": \"lines\", \"line\": {\"width\": 2, \"color\": \"green\"}}, {\"type\": \"scatter\", \"x\": [1000.0, 804], \"y\": [600.0, 597], \"mode\": \"lines\", \"line\": {\"width\": 2, \"color\": \"red\"}}, {\"type\": \"scatter\", \"x\": [600.0, 819], \"y\": [1000.0, 1148], \"mode\": \"lines\", \"line\": {\"width\": 2, \"color\": \"green\"}}, {\"type\": \"scatter\", \"x\": [200.0, 365], \"y\": [1400.0, 1417], \"mode\": \"lines\", \"line\": {\"width\": 2, \"color\": \"green\"}}, {\"type\": \"scatter\", \"x\": [600.0, 702], \"y\": [1000.0, 937], \"mode\": \"lines\", \"line\": {\"width\": 2, \"color\": \"green\"}}, {\"type\": \"scatter\", \"x\": [200.0, 93], \"y\": [600.0, 768], \"mode\": \"lines\", \"line\": {\"width\": 2, \"color\": \"green\"}}, {\"type\": \"scatter\", \"x\": [600.0, 809], \"y\": [600.0, 577], \"mode\": \"lines\", \"line\": {\"width\": 2, \"color\": \"red\"}}, {\"type\": \"scatter\", \"x\": [600.0, 646], \"y\": [200.0, 42], \"mode\": \"lines\", \"line\": {\"width\": 2, \"color\": \"green\"}}, {\"type\": \"scatter\", \"x\": [1000.0, 1001], \"y\": [1400.0, 1449], \"mode\": \"lines\", \"line\": {\"width\": 2, \"color\": \"green\"}}, {\"type\": \"scatter\", \"x\": [1000.0, 1096], \"y\": [600.0, 498], \"mode\": \"lines\", \"line\": {\"width\": 2, \"color\": \"green\"}}, {\"type\": \"scatter\", \"x\": [600.0, 515], \"y\": [600.0, 771], \"mode\": \"lines\", \"line\": {\"width\": 2, \"color\": \"green\"}}, {\"type\": \"scatter\", \"x\": [200.0, 305], \"y\": [1400.0, 1584], \"mode\": \"lines\", \"line\": {\"width\": 2, \"color\": \"green\"}}, {\"type\": \"scatter\", \"x\": [200.0, 330], \"y\": [200.0, 320], \"mode\": \"lines\", \"line\": {\"width\": 2, \"color\": \"green\"}}, {\"type\": \"scatter\", \"x\": [1000.0, 1072], \"y\": [1000.0, 826], \"mode\": \"lines\", \"line\": {\"width\": 2, \"color\": \"green\"}}, {\"type\": \"scatter\", \"x\": [600.0, 502], \"y\": [600.0, 687], \"mode\": \"lines\", \"line\": {\"width\": 2, \"color\": \"red\"}}, {\"type\": \"scatter\", \"x\": [1000.0, 964], \"y\": [1000.0, 888], \"mode\": \"lines\", \"line\": {\"width\": 2, \"color\": \"red\"}}, {\"type\": \"scatter\", \"x\": [600.0, 724], \"y\": [1000.0, 1124], \"mode\": \"lines\", \"line\": {\"width\": 2, \"color\": \"green\"}}, {\"type\": \"scatter\", \"x\": [200.0, 390], \"y\": [200.0, 198], \"mode\": \"lines\", \"line\": {\"width\": 2, \"color\": \"green\"}}, {\"type\": \"scatter\", \"x\": [1400.0, 1419], \"y\": [1400.0, 1574], \"mode\": \"lines\", \"line\": {\"width\": 2, \"color\": \"green\"}}, {\"type\": \"scatter\", \"x\": [1000.0, 1044], \"y\": [1000.0, 989], \"mode\": \"lines\", \"line\": {\"width\": 2, \"color\": \"red\"}}, {\"type\": \"scatter\", \"x\": [1000.0, 816], \"y\": [1000.0, 829], \"mode\": \"lines\", \"line\": {\"width\": 2, \"color\": \"red\"}}, {\"type\": \"scatter\", \"x\": [600.0, 741], \"y\": [1000.0, 860], \"mode\": \"lines\", \"line\": {\"width\": 2, \"color\": \"red\"}}, {\"type\": \"scatter\", \"x\": [1000.0, 907], \"y\": [600.0, 675], \"mode\": \"lines\", \"line\": {\"width\": 2, \"color\": \"red\"}}, {\"type\": \"scatter\", \"x\": [600.0, 679], \"y\": [200.0, 276], \"mode\": \"lines\", \"line\": {\"width\": 2, \"color\": \"green\"}}, {\"type\": \"scatter\", \"x\": [1400.0, 1035], \"y\": [1000.0, 851], \"mode\": \"lines\", \"line\": {\"width\": 2, \"color\": \"green\"}}, {\"type\": \"scatter\", \"x\": [200.0, 332], \"y\": [1000.0, 985], \"mode\": \"lines\", \"line\": {\"width\": 2, \"color\": \"green\"}}, {\"type\": \"scatter\", \"x\": [600.0, 523], \"y\": [1000.0, 888], \"mode\": \"lines\", \"line\": {\"width\": 2, \"color\": \"green\"}}, {\"type\": \"scatter\", \"x\": [1000.0, 962], \"y\": [600.0, 797], \"mode\": \"lines\", \"line\": {\"width\": 2, \"color\": \"green\"}}, {\"type\": \"scatter\", \"x\": [600.0, 753], \"y\": [1000.0, 999], \"mode\": \"lines\", \"line\": {\"width\": 2, \"color\": \"red\"}}, {\"type\": \"scatter\", \"x\": [600.0, 893], \"y\": [1000.0, 1090], \"mode\": \"lines\", \"line\": {\"width\": 2, \"color\": \"red\"}}, {\"type\": \"scatter\", \"x\": [1000.0, 1318], \"y\": [1000.0, 731], \"mode\": \"lines\", \"line\": {\"width\": 2, \"color\": \"green\"}}, {\"type\": \"scatter\", \"x\": [1000.0, 662], \"y\": [1000.0, 746], \"mode\": \"lines\", \"line\": {\"width\": 2, \"color\": \"red\"}}, {\"type\": \"scatter\", \"x\": [600.0, 877], \"y\": [600.0, 650], \"mode\": \"lines\", \"line\": {\"width\": 2, \"color\": \"red\"}}, {\"type\": \"scatter\", \"x\": [600.0, 540], \"y\": [600.0, 569], \"mode\": \"lines\", \"line\": {\"width\": 2, \"color\": \"red\"}}, {\"type\": \"scatter\", \"x\": [200.0, 8], \"y\": [1400.0, 1368], \"mode\": \"lines\", \"line\": {\"width\": 2, \"color\": \"green\"}}, {\"type\": \"scatter\", \"x\": [1000.0, 938], \"y\": [600.0, 732], \"mode\": \"lines\", \"line\": {\"width\": 2, \"color\": \"green\"}}, {\"type\": \"scatter\", \"x\": [1400.0, 1571], \"y\": [1000.0, 973], \"mode\": \"lines\", \"line\": {\"width\": 2, \"color\": \"green\"}}, {\"type\": \"scatter\", \"x\": [600.0, 535], \"y\": [600.0, 545], \"mode\": \"lines\", \"line\": {\"width\": 2, \"color\": \"red\"}}, {\"type\": \"scatter\", \"x\": [1000.0, 967], \"y\": [1000.0, 951], \"mode\": \"lines\", \"line\": {\"width\": 2, \"color\": \"red\"}}, {\"type\": \"scatter\", \"x\": [600.0, 583], \"y\": [600.0, 741], \"mode\": \"lines\", \"line\": {\"width\": 2, \"color\": \"red\"}}, {\"type\": \"scatter\", \"x\": [600.0, 624], \"y\": [600.0, 533], \"mode\": \"lines\", \"line\": {\"width\": 2, \"color\": \"red\"}}, {\"type\": \"scatter\", \"x\": [600.0, 573], \"y\": [600.0, 756], \"mode\": \"lines\", \"line\": {\"width\": 2, \"color\": \"red\"}}, {\"type\": \"scatter\", \"x\": [200.0, 525], \"y\": [600.0, 750], \"mode\": \"lines\", \"line\": {\"width\": 2, \"color\": \"red\"}}, {\"type\": \"scatter\", \"x\": [200.0, 313], \"y\": [1000.0, 1117], \"mode\": \"lines\", \"line\": {\"width\": 2, \"color\": \"green\"}}, {\"type\": \"scatter\", \"x\": [1000.0, 1219], \"y\": [1000.0, 1104], \"mode\": \"lines\", \"line\": {\"width\": 2, \"color\": \"green\"}}, {\"type\": \"scatter\", \"x\": [200.0, 188], \"y\": [1400.0, 1370], \"mode\": \"lines\", \"line\": {\"width\": 2, \"color\": \"green\"}}, {\"type\": \"scatter\", \"x\": [1000.0, 817], \"y\": [1000.0, 767], \"mode\": \"lines\", \"line\": {\"width\": 2, \"color\": \"red\"}}, {\"type\": \"scatter\", \"x\": [600.0, 579], \"y\": [200.0, 116], \"mode\": \"lines\", \"line\": {\"width\": 2, \"color\": \"green\"}}, {\"type\": \"scatter\", \"x\": [1000.0, 1062], \"y\": [200.0, 8], \"mode\": \"lines\", \"line\": {\"width\": 2, \"color\": \"green\"}}, {\"type\": \"scatter\", \"x\": [1000.0, 966], \"y\": [600.0, 771], \"mode\": \"lines\", \"line\": {\"width\": 2, \"color\": \"red\"}}, {\"type\": \"scatter\", \"x\": [600.0, 877], \"y\": [1000.0, 1025], \"mode\": \"lines\", \"line\": {\"width\": 2, \"color\": \"red\"}}, {\"type\": \"scatter\", \"x\": [600.0, 653], \"y\": [600.0, 762], \"mode\": \"lines\", \"line\": {\"width\": 2, \"color\": \"red\"}}, {\"type\": \"scatter\", \"x\": [600.0, 508], \"y\": [1000.0, 716], \"mode\": \"lines\", \"line\": {\"width\": 2, \"color\": \"red\"}}, {\"type\": \"scatter\", \"x\": [200.0, 214], \"y\": [600.0, 421], \"mode\": \"lines\", \"line\": {\"width\": 2, \"color\": \"green\"}}, {\"type\": \"scatter\", \"x\": [1000.0, 832], \"y\": [1400.0, 1310], \"mode\": \"lines\", \"line\": {\"width\": 2, \"color\": \"green\"}}, {\"type\": \"scatter\", \"x\": [200.0, 457], \"y\": [600.0, 817], \"mode\": \"lines\", \"line\": {\"width\": 2, \"color\": \"green\"}}, {\"type\": \"scatter\", \"x\": [600.0, 754], \"y\": [1000.0, 864], \"mode\": \"lines\", \"line\": {\"width\": 2, \"color\": \"red\"}}, {\"type\": \"scatter\", \"x\": [1400.0, 1464], \"y\": [200.0, 354], \"mode\": \"lines\", \"line\": {\"width\": 2, \"color\": \"green\"}}, {\"type\": \"scatter\", \"x\": [600.0, 590], \"y\": [1000.0, 935], \"mode\": \"lines\", \"line\": {\"width\": 2, \"color\": \"red\"}}, {\"type\": \"scatter\", \"x\": [600.0, 428], \"y\": [200.0, 287], \"mode\": \"lines\", \"line\": {\"width\": 2, \"color\": \"green\"}}, {\"type\": \"scatter\", \"x\": [1000.0, 1002], \"y\": [1000.0, 1097], \"mode\": \"lines\", \"line\": {\"width\": 2, \"color\": \"red\"}}, {\"type\": \"scatter\", \"x\": [1000.0, 845], \"y\": [1000.0, 818], \"mode\": \"lines\", \"line\": {\"width\": 2, \"color\": \"green\"}}, {\"type\": \"scatter\", \"x\": [600.0, 496], \"y\": [1400.0, 1420], \"mode\": \"lines\", \"line\": {\"width\": 2, \"color\": \"green\"}}, {\"type\": \"scatter\", \"x\": [1400.0, 1397], \"y\": [200.0, 386], \"mode\": \"lines\", \"line\": {\"width\": 2, \"color\": \"green\"}}, {\"type\": \"scatter\", \"x\": [1000.0, 800], \"y\": [600.0, 800], \"mode\": \"lines\", \"line\": {\"width\": 2, \"color\": \"red\"}}, {\"type\": \"scatter\", \"x\": [200.0, 237], \"y\": [1400.0, 1481], \"mode\": \"lines\", \"line\": {\"width\": 2, \"color\": \"green\"}}, {\"type\": \"scatter\", \"x\": [1400.0, 1486], \"y\": [1000.0, 1131], \"mode\": \"lines\", \"line\": {\"width\": 2, \"color\": \"green\"}}, {\"type\": \"scatter\", \"x\": [200.0, 2], \"y\": [600.0, 554], \"mode\": \"lines\", \"line\": {\"width\": 2, \"color\": \"green\"}}, {\"type\": \"scatter\", \"x\": [1400.0, 1453], \"y\": [200.0, 96], \"mode\": \"lines\", \"line\": {\"width\": 2, \"color\": \"green\"}}, {\"type\": \"scatter\", \"x\": [600.0, 469], \"y\": [200.0, 157], \"mode\": \"lines\", \"line\": {\"width\": 2, \"color\": \"green\"}}, {\"type\": \"scatter\", \"x\": [200.0, 170], \"y\": [600.0, 503], \"mode\": \"lines\", \"line\": {\"width\": 2, \"color\": \"green\"}}, {\"type\": \"scatter\", \"x\": [600.0, 929], \"y\": [1000.0, 1013], \"mode\": \"lines\", \"line\": {\"width\": 2, \"color\": \"red\"}}, {\"type\": \"scatter\", \"x\": [600.0, 670], \"y\": [600.0, 565], \"mode\": \"lines\", \"line\": {\"width\": 2, \"color\": \"red\"}}, {\"type\": \"scatter\", \"x\": [200.0, 112], \"y\": [600.0, 743], \"mode\": \"lines\", \"line\": {\"width\": 2, \"color\": \"green\"}}, {\"type\": \"scatter\", \"x\": [600.0, 632], \"y\": [200.0, 179], \"mode\": \"lines\", \"line\": {\"width\": 2, \"color\": \"green\"}}, {\"type\": \"scatter\", \"x\": [1400.0, 1299], \"y\": [1400.0, 1214], \"mode\": \"lines\", \"line\": {\"width\": 2, \"color\": \"green\"}}, {\"type\": \"scatter\", \"x\": [1400.0, 1591], \"y\": [1000.0, 1013], \"mode\": \"lines\", \"line\": {\"width\": 2, \"color\": \"green\"}}, {\"type\": \"scatter\", \"x\": [1400.0, 1468], \"y\": [1400.0, 1431], \"mode\": \"lines\", \"line\": {\"width\": 2, \"color\": \"green\"}}, {\"type\": \"scatter\", \"x\": [600.0, 742], \"y\": [1000.0, 888], \"mode\": \"lines\", \"line\": {\"width\": 2, \"color\": \"red\"}}, {\"type\": \"scatter\", \"x\": [1000.0, 803], \"y\": [1000.0, 1014], \"mode\": \"lines\", \"line\": {\"width\": 2, \"color\": \"red\"}}, {\"type\": \"scatter\", \"x\": [600.0, 658], \"y\": [1000.0, 956], \"mode\": \"lines\", \"line\": {\"width\": 2, \"color\": \"red\"}}, {\"type\": \"scatter\", \"x\": [1000.0, 1059], \"y\": [600.0, 807], \"mode\": \"lines\", \"line\": {\"width\": 2, \"color\": \"red\"}}, {\"type\": \"scatter\", \"x\": [200.0, 40], \"y\": [200.0, 98], \"mode\": \"lines\", \"line\": {\"width\": 2, \"color\": \"green\"}}, {\"type\": \"scatter\", \"x\": [200.0, 162], \"y\": [600.0, 713], \"mode\": \"lines\", \"line\": {\"width\": 2, \"color\": \"green\"}}, {\"type\": \"scatter\", \"x\": [1000.0, 969], \"y\": [600.0, 501], \"mode\": \"lines\", \"line\": {\"width\": 2, \"color\": \"green\"}}, {\"type\": \"scatter\", \"x\": [200.0, 206], \"y\": [200.0, 145], \"mode\": \"lines\", \"line\": {\"width\": 2, \"color\": \"green\"}}, {\"type\": \"scatter\", \"x\": [1000.0, 703], \"y\": [1000.0, 831], \"mode\": \"lines\", \"line\": {\"width\": 2, \"color\": \"red\"}}, {\"type\": \"scatter\", \"x\": [1000.0, 1030], \"y\": [600.0, 668], \"mode\": \"lines\", \"line\": {\"width\": 2, \"color\": \"green\"}}, {\"type\": \"scatter\", \"x\": [600.0, 512], \"y\": [600.0, 743], \"mode\": \"lines\", \"line\": {\"width\": 2, \"color\": \"green\"}}, {\"type\": \"scatter\", \"x\": [200.0, 146], \"y\": [200.0, 37], \"mode\": \"lines\", \"line\": {\"width\": 2, \"color\": \"green\"}}, {\"type\": \"scatter\", \"x\": [1400.0, 1566], \"y\": [600.0, 459], \"mode\": \"lines\", \"line\": {\"width\": 2, \"color\": \"green\"}}, {\"type\": \"scatter\", \"x\": [200.0, 200.0, 200.0, 200.0, 600.0, 600.0, 600.0, 600.0, 1000.0, 1000.0, 1000.0, 1000.0, 1400.0, 1400.0, 1400.0, 1400.0, 945, 1162, 689, 952, 392, 653, 1013, 889, 114, 925, 63, 123, 1289, 141, 900, 842, 730, 455, 704, 235, 469, 1183, 1185, 1041, 1245, 1355, 978, 1447, 1161, 849, 168, 1453, 1579, 1496, 607, 363, 891, 62, 130, 147, 864, 935, 566, 35, 733, 1045, 716, 947, 638, 354, 471, 297, 1186, 509, 641, 1130, 1560, 934, 811, 1488, 585, 57, 1129, 1409, 671, 1049, 147, 445, 553, 1588, 1074, 187, 1208, 1032, 1325, 58, 563, 1461, 893, 1243, 706, 1391, 428, 445, 829, 1090, 945, 256, 1311, 1467, 196, 48, 792, 603, 607, 758, 971, 1056, 1023, 417, 518, 1254, 773, 950, 526, 246, 796, 1090, 1039, 204, 804, 819, 365, 702, 93, 809, 646, 1001, 1096, 515, 305, 330, 1072, 502, 964, 724, 390, 1419, 1044, 816, 741, 907, 679, 1035, 332, 523, 962, 753, 893, 1318, 662, 877, 540, 8, 938, 1571, 535, 967, 583, 624, 573, 525, 313, 1219, 188, 817, 579, 1062, 966, 877, 653, 508, 214, 832, 457, 754, 1464, 590, 428, 1002, 845, 496, 1397, 800, 237, 1486, 2, 1453, 469, 170, 929, 670, 112, 632, 1299, 1591, 1468, 742, 803, 658, 1059, 40, 162, 969, 206, 703, 1030, 512, 146, 1566], \"y\": [200.0, 600.0, 1000.0, 1400.0, 200.0, 600.0, 1000.0, 1400.0, 200.0, 600.0, 1000.0, 1400.0, 200.0, 600.0, 1000.0, 1400.0, 745, 1465, 901, 1370, 630, 300, 567, 762, 1386, 324, 354, 1031, 505, 517, 436, 794, 666, 834, 1049, 1570, 378, 779, 1298, 555, 423, 693, 1089, 1560, 588, 807, 523, 1311, 971, 328, 989, 778, 1193, 1401, 642, 1212, 957, 629, 763, 922, 647, 505, 721, 513, 517, 185, 214, 351, 1425, 656, 679, 1005, 482, 1165, 1085, 796, 664, 311, 181, 1133, 534, 448, 90, 278, 531, 864, 943, 1544, 791, 962, 283, 1297, 967, 1000, 333, 1179, 1323, 1536, 247, 684, 1415, 841, 573, 226, 793, 1298, 1323, 1023, 1479, 915, 618, 1165, 95, 630, 671, 705, 187, 1026, 987, 1455, 1014, 1147, 1098, 765, 1008, 617, 597, 1148, 1417, 937, 768, 577, 42, 1449, 498, 771, 1584, 320, 826, 687, 888, 1124, 198, 1574, 989, 829, 860, 675, 276, 851, 985, 888, 797, 999, 1090, 731, 746, 650, 569, 1368, 732, 973, 545, 951, 741, 533, 756, 750, 1117, 1104, 1370, 767, 116, 8, 771, 1025, 762, 716, 421, 1310, 817, 864, 354, 935, 287, 1097, 818, 1420, 386, 800, 1481, 1131, 554, 96, 157, 503, 1013, 565, 743, 179, 1214, 1013, 1431, 888, 1014, 956, 807, 98, 713, 501, 145, 831, 668, 743, 37, 459], \"mode\": \"markers\", \"marker\": {\"size\": 8, \"color\": [\"orange\", \"orange\", \"orange\", \"orange\", \"orange\", \"orange\", \"orange\", \"orange\", \"orange\", \"orange\", \"orange\", \"orange\", \"orange\", \"orange\", \"orange\", \"orange\", \"magenta\", \"magenta\", \"blue\", \"magenta\", \"magenta\", \"magenta\", \"magenta\", \"blue\", \"magenta\", \"magenta\", \"magenta\", \"magenta\", \"magenta\", \"magenta\", \"magenta\", \"blue\", \"blue\", \"magenta\", \"blue\", \"magenta\", \"magenta\", \"magenta\", \"magenta\", \"magenta\", \"magenta\", \"magenta\", \"magenta\", \"magenta\", \"magenta\", \"blue\", \"magenta\", \"magenta\", \"magenta\", \"magenta\", \"blue\", \"magenta\", \"magenta\", \"magenta\", \"magenta\", \"magenta\", \"blue\", \"magenta\", \"magenta\", \"magenta\", \"blue\", \"blue\", \"magenta\", \"blue\", \"magenta\", \"magenta\", \"magenta\", \"magenta\", \"magenta\", \"blue\", \"blue\", \"magenta\", \"magenta\", \"magenta\", \"blue\", \"magenta\", \"magenta\", \"magenta\", \"magenta\", \"magenta\", \"magenta\", \"magenta\", \"magenta\", \"magenta\", \"blue\", \"magenta\", \"blue\", \"magenta\", \"magenta\", \"magenta\", \"magenta\", \"magenta\", \"blue\", \"magenta\", \"magenta\", \"magenta\", \"magenta\", \"magenta\", \"magenta\", \"magenta\", \"magenta\", \"blue\", \"magenta\", \"magenta\", \"magenta\", \"magenta\", \"magenta\", \"magenta\", \"magenta\", \"magenta\", \"blue\", \"magenta\", \"magenta\", \"magenta\", \"magenta\", \"magenta\", \"magenta\", \"magenta\", \"blue\", \"magenta\", \"blue\", \"magenta\", \"blue\", \"blue\", \"blue\", \"magenta\", \"blue\", \"magenta\", \"magenta\", \"blue\", \"magenta\", \"blue\", \"magenta\", \"magenta\", \"magenta\", \"magenta\", \"magenta\", \"magenta\", \"magenta\", \"blue\", \"blue\", \"magenta\", \"magenta\", \"magenta\", \"blue\", \"blue\", \"blue\", \"blue\", \"magenta\", \"blue\", \"magenta\", \"magenta\", \"magenta\", \"blue\", \"blue\", \"magenta\", \"blue\", \"blue\", \"blue\", \"magenta\", \"magenta\", \"magenta\", \"blue\", \"blue\", \"blue\", \"blue\", \"blue\", \"blue\", \"magenta\", \"magenta\", \"magenta\", \"blue\", \"magenta\", \"magenta\", \"blue\", \"blue\", \"blue\", \"blue\", \"magenta\", \"magenta\", \"magenta\", \"blue\", \"magenta\", \"blue\", \"magenta\", \"blue\", \"magenta\", \"magenta\", \"magenta\", \"blue\", \"magenta\", \"magenta\", \"magenta\", \"magenta\", \"magenta\", \"magenta\", \"blue\", \"blue\", \"magenta\", \"magenta\", \"magenta\", \"magenta\", \"magenta\", \"blue\", \"blue\", \"blue\", \"blue\", \"magenta\", \"magenta\", \"magenta\", \"magenta\", \"blue\", \"magenta\", \"magenta\", \"magenta\", \"magenta\"]}}], {\"xaxis\": {\"range\": [0, 1600], \"title\": \"x\"}, \"yaxis\": {\"range\": [0, 1600], \"title\": \"y\"}, \"title\": \"UE and AP Distribution in the grid\", \"height\": 1000, \"width\": 1000, \"showlegend\": false, \"shapes\": [{\"type\": \"rect\", \"x0\": 585, \"y0\": 0, \"x1\": 685, \"y1\": 1600.0, \"line\": {\"color\": \"rgba(128, 0, 128, 1)\", \"width\": 2}, \"fillcolor\": \"rgba(128, 0, 128 0.1)\"}, {\"type\": \"rect\", \"x0\": 1293, \"y0\": 214, \"x1\": 1426, \"y1\": 315, \"line\": {\"color\": \"rgba(128, 0, 128, 1)\", \"width\": 2}, \"fillcolor\": \"rgba(128, 0, 128 0.1)\"}, {\"type\": \"rect\", \"x0\": 1258, \"y0\": 1425, \"x1\": 1416, \"y1\": 1445, \"line\": {\"color\": \"rgba(128, 0, 128, 1)\", \"width\": 2}, \"fillcolor\": \"rgba(128, 0, 128 0.1)\"}, {\"type\": \"rect\", \"x0\": 1052, \"y0\": 0, \"x1\": 1152, \"y1\": 1600.0, \"line\": {\"color\": \"rgba(128, 0, 128, 1)\", \"width\": 2}, \"fillcolor\": \"rgba(128, 0, 128 0.1)\"}]}, {\"showLink\": true, \"linkText\": \"Export to plot.ly\"})});</script>"
      ],
      "text/vnd.plotly.v1+html": [
       "<div id=\"9e1d56d2-2e38-4226-9073-5f5577e662bc\" style=\"height: 1000px; width: 1000px;\" class=\"plotly-graph-div\"></div><script type=\"text/javascript\">require([\"plotly\"], function(Plotly) { window.PLOTLYENV=window.PLOTLYENV || {};window.PLOTLYENV.BASE_URL=\"https://plot.ly\";Plotly.newPlot(\"9e1d56d2-2e38-4226-9073-5f5577e662bc\", [{\"type\": \"scatter\", \"x\": [1000.0, 945], \"y\": [600.0, 745], \"mode\": \"lines\", \"line\": {\"width\": 2, \"color\": \"green\"}}, {\"type\": \"scatter\", \"x\": [1000.0, 1162], \"y\": [1400.0, 1465], \"mode\": \"lines\", \"line\": {\"width\": 2, \"color\": \"green\"}}, {\"type\": \"scatter\", \"x\": [600.0, 689], \"y\": [1000.0, 901], \"mode\": \"lines\", \"line\": {\"width\": 2, \"color\": \"green\"}}, {\"type\": \"scatter\", \"x\": [1000.0, 952], \"y\": [1400.0, 1370], \"mode\": \"lines\", \"line\": {\"width\": 2, \"color\": \"green\"}}, {\"type\": \"scatter\", \"x\": [200.0, 392], \"y\": [1000.0, 630], \"mode\": \"lines\", \"line\": {\"width\": 2, \"color\": \"green\"}}, {\"type\": \"scatter\", \"x\": [600.0, 653], \"y\": [200.0, 300], \"mode\": \"lines\", \"line\": {\"width\": 2, \"color\": \"green\"}}, {\"type\": \"scatter\", \"x\": [1000.0, 1013], \"y\": [600.0, 567], \"mode\": \"lines\", \"line\": {\"width\": 2, \"color\": \"green\"}}, {\"type\": \"scatter\", \"x\": [1000.0, 889], \"y\": [600.0, 762], \"mode\": \"lines\", \"line\": {\"width\": 2, \"color\": \"green\"}}, {\"type\": \"scatter\", \"x\": [200.0, 114], \"y\": [1000.0, 1386], \"mode\": \"lines\", \"line\": {\"width\": 2, \"color\": \"green\"}}, {\"type\": \"scatter\", \"x\": [1000.0, 925], \"y\": [200.0, 324], \"mode\": \"lines\", \"line\": {\"width\": 2, \"color\": \"green\"}}, {\"type\": \"scatter\", \"x\": [200.0, 63], \"y\": [200.0, 354], \"mode\": \"lines\", \"line\": {\"width\": 2, \"color\": \"green\"}}, {\"type\": \"scatter\", \"x\": [200.0, 123], \"y\": [1000.0, 1031], \"mode\": \"lines\", \"line\": {\"width\": 2, \"color\": \"green\"}}, {\"type\": \"scatter\", \"x\": [1400.0, 1289], \"y\": [600.0, 505], \"mode\": \"lines\", \"line\": {\"width\": 2, \"color\": \"green\"}}, {\"type\": \"scatter\", \"x\": [200.0, 141], \"y\": [600.0, 517], \"mode\": \"lines\", \"line\": {\"width\": 2, \"color\": \"green\"}}, {\"type\": \"scatter\", \"x\": [1000.0, 900], \"y\": [600.0, 436], \"mode\": \"lines\", \"line\": {\"width\": 2, \"color\": \"green\"}}, {\"type\": \"scatter\", \"x\": [1000.0, 842], \"y\": [600.0, 794], \"mode\": \"lines\", \"line\": {\"width\": 2, \"color\": \"green\"}}, {\"type\": \"scatter\", \"x\": [600.0, 730], \"y\": [600.0, 666], \"mode\": \"lines\", \"line\": {\"width\": 2, \"color\": \"green\"}}, {\"type\": \"scatter\", \"x\": [600.0, 455], \"y\": [1000.0, 834], \"mode\": \"lines\", \"line\": {\"width\": 2, \"color\": \"green\"}}, {\"type\": \"scatter\", \"x\": [600.0, 704], \"y\": [1000.0, 1049], \"mode\": \"lines\", \"line\": {\"width\": 2, \"color\": \"green\"}}, {\"type\": \"scatter\", \"x\": [200.0, 235], \"y\": [1400.0, 1570], \"mode\": \"lines\", \"line\": {\"width\": 2, \"color\": \"green\"}}, {\"type\": \"scatter\", \"x\": [600.0, 469], \"y\": [600.0, 378], \"mode\": \"lines\", \"line\": {\"width\": 2, \"color\": \"green\"}}, {\"type\": \"scatter\", \"x\": [1000.0, 1183], \"y\": [600.0, 779], \"mode\": \"lines\", \"line\": {\"width\": 2, \"color\": \"green\"}}, {\"type\": \"scatter\", \"x\": [1000.0, 1185], \"y\": [1000.0, 1298], \"mode\": \"lines\", \"line\": {\"width\": 2, \"color\": \"green\"}}, {\"type\": \"scatter\", \"x\": [1000.0, 1041], \"y\": [600.0, 555], \"mode\": \"lines\", \"line\": {\"width\": 2, \"color\": \"green\"}}, {\"type\": \"scatter\", \"x\": [1000.0, 1245], \"y\": [600.0, 423], \"mode\": \"lines\", \"line\": {\"width\": 2, \"color\": \"green\"}}, {\"type\": \"scatter\", \"x\": [1400.0, 1355], \"y\": [600.0, 693], \"mode\": \"lines\", \"line\": {\"width\": 2, \"color\": \"green\"}}, {\"type\": \"scatter\", \"x\": [1000.0, 978], \"y\": [1000.0, 1089], \"mode\": \"lines\", \"line\": {\"width\": 2, \"color\": \"green\"}}, {\"type\": \"scatter\", \"x\": [1400.0, 1447], \"y\": [1400.0, 1560], \"mode\": \"lines\", \"line\": {\"width\": 2, \"color\": \"green\"}}, {\"type\": \"scatter\", \"x\": [1000.0, 1161], \"y\": [600.0, 588], \"mode\": \"lines\", \"line\": {\"width\": 2, \"color\": \"green\"}}, {\"type\": \"scatter\", \"x\": [1000.0, 849], \"y\": [1000.0, 807], \"mode\": \"lines\", \"line\": {\"width\": 2, \"color\": \"green\"}}, {\"type\": \"scatter\", \"x\": [200.0, 168], \"y\": [600.0, 523], \"mode\": \"lines\", \"line\": {\"width\": 2, \"color\": \"green\"}}, {\"type\": \"scatter\", \"x\": [1400.0, 1453], \"y\": [1400.0, 1311], \"mode\": \"lines\", \"line\": {\"width\": 2, \"color\": \"green\"}}, {\"type\": \"scatter\", \"x\": [1400.0, 1579], \"y\": [1000.0, 971], \"mode\": \"lines\", \"line\": {\"width\": 2, \"color\": \"green\"}}, {\"type\": \"scatter\", \"x\": [1400.0, 1496], \"y\": [200.0, 328], \"mode\": \"lines\", \"line\": {\"width\": 2, \"color\": \"green\"}}, {\"type\": \"scatter\", \"x\": [600.0, 607], \"y\": [1000.0, 989], \"mode\": \"lines\", \"line\": {\"width\": 2, \"color\": \"green\"}}, {\"type\": \"scatter\", \"x\": [200.0, 363], \"y\": [600.0, 778], \"mode\": \"lines\", \"line\": {\"width\": 2, \"color\": \"green\"}}, {\"type\": \"scatter\", \"x\": [600.0, 891], \"y\": [1000.0, 1193], \"mode\": \"lines\", \"line\": {\"width\": 2, \"color\": \"green\"}}, {\"type\": \"scatter\", \"x\": [200.0, 62], \"y\": [1400.0, 1401], \"mode\": \"lines\", \"line\": {\"width\": 2, \"color\": \"green\"}}, {\"type\": \"scatter\", \"x\": [200.0, 130], \"y\": [600.0, 642], \"mode\": \"lines\", \"line\": {\"width\": 2, \"color\": \"green\"}}, {\"type\": \"scatter\", \"x\": [200.0, 147], \"y\": [1400.0, 1212], \"mode\": \"lines\", \"line\": {\"width\": 2, \"color\": \"green\"}}, {\"type\": \"scatter\", \"x\": [1000.0, 864], \"y\": [1000.0, 957], \"mode\": \"lines\", \"line\": {\"width\": 2, \"color\": \"green\"}}, {\"type\": \"scatter\", \"x\": [1000.0, 935], \"y\": [600.0, 629], \"mode\": \"lines\", \"line\": {\"width\": 2, \"color\": \"green\"}}, {\"type\": \"scatter\", \"x\": [600.0, 566], \"y\": [600.0, 763], \"mode\": \"lines\", \"line\": {\"width\": 2, \"color\": \"green\"}}, {\"type\": \"scatter\", \"x\": [200.0, 35], \"y\": [1000.0, 922], \"mode\": \"lines\", \"line\": {\"width\": 2, \"color\": \"green\"}}, {\"type\": \"scatter\", \"x\": [1000.0, 733], \"y\": [600.0, 647], \"mode\": \"lines\", \"line\": {\"width\": 2, \"color\": \"red\"}}, {\"type\": \"scatter\", \"x\": [1000.0, 1045], \"y\": [600.0, 505], \"mode\": \"lines\", \"line\": {\"width\": 2, \"color\": \"green\"}}, {\"type\": \"scatter\", \"x\": [600.0, 716], \"y\": [600.0, 721], \"mode\": \"lines\", \"line\": {\"width\": 2, \"color\": \"green\"}}, {\"type\": \"scatter\", \"x\": [1000.0, 947], \"y\": [600.0, 513], \"mode\": \"lines\", \"line\": {\"width\": 2, \"color\": \"green\"}}, {\"type\": \"scatter\", \"x\": [1000.0, 638], \"y\": [600.0, 517], \"mode\": \"lines\", \"line\": {\"width\": 2, \"color\": \"green\"}}, {\"type\": \"scatter\", \"x\": [200.0, 354], \"y\": [200.0, 185], \"mode\": \"lines\", \"line\": {\"width\": 2, \"color\": \"green\"}}, {\"type\": \"scatter\", \"x\": [600.0, 471], \"y\": [200.0, 214], \"mode\": \"lines\", \"line\": {\"width\": 2, \"color\": \"green\"}}, {\"type\": \"scatter\", \"x\": [200.0, 297], \"y\": [200.0, 351], \"mode\": \"lines\", \"line\": {\"width\": 2, \"color\": \"green\"}}, {\"type\": \"scatter\", \"x\": [1000.0, 1186], \"y\": [1400.0, 1425], \"mode\": \"lines\", \"line\": {\"width\": 2, \"color\": \"green\"}}, {\"type\": \"scatter\", \"x\": [600.0, 509], \"y\": [600.0, 656], \"mode\": \"lines\", \"line\": {\"width\": 2, \"color\": \"green\"}}, {\"type\": \"scatter\", \"x\": [600.0, 641], \"y\": [600.0, 679], \"mode\": \"lines\", \"line\": {\"width\": 2, \"color\": \"green\"}}, {\"type\": \"scatter\", \"x\": [1000.0, 1130], \"y\": [1000.0, 1005], \"mode\": \"lines\", \"line\": {\"width\": 2, \"color\": \"green\"}}, {\"type\": \"scatter\", \"x\": [1400.0, 1560], \"y\": [200.0, 482], \"mode\": \"lines\", \"line\": {\"width\": 2, \"color\": \"green\"}}, {\"type\": \"scatter\", \"x\": [1000.0, 934], \"y\": [1000.0, 1165], \"mode\": \"lines\", \"line\": {\"width\": 2, \"color\": \"green\"}}, {\"type\": \"scatter\", \"x\": [1000.0, 811], \"y\": [1000.0, 1085], \"mode\": \"lines\", \"line\": {\"width\": 2, \"color\": \"green\"}}, {\"type\": \"scatter\", \"x\": [1400.0, 1488], \"y\": [1000.0, 796], \"mode\": \"lines\", \"line\": {\"width\": 2, \"color\": \"green\"}}, {\"type\": \"scatter\", \"x\": [600.0, 585], \"y\": [600.0, 664], \"mode\": \"lines\", \"line\": {\"width\": 2, \"color\": \"green\"}}, {\"type\": \"scatter\", \"x\": [200.0, 57], \"y\": [200.0, 311], \"mode\": \"lines\", \"line\": {\"width\": 2, \"color\": \"green\"}}, {\"type\": \"scatter\", \"x\": [1000.0, 1129], \"y\": [200.0, 181], \"mode\": \"lines\", \"line\": {\"width\": 2, \"color\": \"green\"}}, {\"type\": \"scatter\", \"x\": [1400.0, 1409], \"y\": [1400.0, 1133], \"mode\": \"lines\", \"line\": {\"width\": 2, \"color\": \"green\"}}, {\"type\": \"scatter\", \"x\": [600.0, 671], \"y\": [600.0, 534], \"mode\": \"lines\", \"line\": {\"width\": 2, \"color\": \"green\"}}, {\"type\": \"scatter\", \"x\": [1000.0, 1049], \"y\": [600.0, 448], \"mode\": \"lines\", \"line\": {\"width\": 2, \"color\": \"green\"}}, {\"type\": \"scatter\", \"x\": [200.0, 147], \"y\": [200.0, 90], \"mode\": \"lines\", \"line\": {\"width\": 2, \"color\": \"green\"}}, {\"type\": \"scatter\", \"x\": [600.0, 445], \"y\": [200.0, 278], \"mode\": \"lines\", \"line\": {\"width\": 2, \"color\": \"green\"}}, {\"type\": \"scatter\", \"x\": [600.0, 553], \"y\": [600.0, 531], \"mode\": \"lines\", \"line\": {\"width\": 2, \"color\": \"green\"}}, {\"type\": \"scatter\", \"x\": [1400.0, 1588], \"y\": [1000.0, 864], \"mode\": \"lines\", \"line\": {\"width\": 2, \"color\": \"green\"}}, {\"type\": \"scatter\", \"x\": [1000.0, 1074], \"y\": [1000.0, 943], \"mode\": \"lines\", \"line\": {\"width\": 2, \"color\": \"green\"}}, {\"type\": \"scatter\", \"x\": [200.0, 187], \"y\": [1400.0, 1544], \"mode\": \"lines\", \"line\": {\"width\": 2, \"color\": \"green\"}}, {\"type\": \"scatter\", \"x\": [1400.0, 1208], \"y\": [600.0, 791], \"mode\": \"lines\", \"line\": {\"width\": 2, \"color\": \"green\"}}, {\"type\": \"scatter\", \"x\": [1000.0, 1032], \"y\": [1000.0, 962], \"mode\": \"lines\", \"line\": {\"width\": 2, \"color\": \"green\"}}, {\"type\": \"scatter\", \"x\": [1400.0, 1325], \"y\": [200.0, 283], \"mode\": \"lines\", \"line\": {\"width\": 2, \"color\": \"green\"}}, {\"type\": \"scatter\", \"x\": [200.0, 58], \"y\": [1400.0, 1297], \"mode\": \"lines\", \"line\": {\"width\": 2, \"color\": \"green\"}}, {\"type\": \"scatter\", \"x\": [600.0, 563], \"y\": [1000.0, 967], \"mode\": \"lines\", \"line\": {\"width\": 2, \"color\": \"green\"}}, {\"type\": \"scatter\", \"x\": [1400.0, 1461], \"y\": [1000.0, 1000], \"mode\": \"lines\", \"line\": {\"width\": 2, \"color\": \"green\"}}, {\"type\": \"scatter\", \"x\": [1000.0, 893], \"y\": [200.0, 333], \"mode\": \"lines\", \"line\": {\"width\": 2, \"color\": \"green\"}}, {\"type\": \"scatter\", \"x\": [1400.0, 1243], \"y\": [1000.0, 1179], \"mode\": \"lines\", \"line\": {\"width\": 2, \"color\": \"green\"}}, {\"type\": \"scatter\", \"x\": [600.0, 706], \"y\": [1400.0, 1323], \"mode\": \"lines\", \"line\": {\"width\": 2, \"color\": \"green\"}}, {\"type\": \"scatter\", \"x\": [1400.0, 1391], \"y\": [1400.0, 1536], \"mode\": \"lines\", \"line\": {\"width\": 2, \"color\": \"green\"}}, {\"type\": \"scatter\", \"x\": [600.0, 428], \"y\": [200.0, 247], \"mode\": \"lines\", \"line\": {\"width\": 2, \"color\": \"green\"}}, {\"type\": \"scatter\", \"x\": [600.0, 445], \"y\": [600.0, 684], \"mode\": \"lines\", \"line\": {\"width\": 2, \"color\": \"green\"}}, {\"type\": \"scatter\", \"x\": [1000.0, 829], \"y\": [1400.0, 1415], \"mode\": \"lines\", \"line\": {\"width\": 2, \"color\": \"green\"}}, {\"type\": \"scatter\", \"x\": [1000.0, 1090], \"y\": [1000.0, 841], \"mode\": \"lines\", \"line\": {\"width\": 2, \"color\": \"green\"}}, {\"type\": \"scatter\", \"x\": [1000.0, 945], \"y\": [600.0, 573], \"mode\": \"lines\", \"line\": {\"width\": 2, \"color\": \"green\"}}, {\"type\": \"scatter\", \"x\": [200.0, 256], \"y\": [200.0, 226], \"mode\": \"lines\", \"line\": {\"width\": 2, \"color\": \"green\"}}, {\"type\": \"scatter\", \"x\": [1000.0, 1311], \"y\": [1000.0, 793], \"mode\": \"lines\", \"line\": {\"width\": 2, \"color\": \"green\"}}, {\"type\": \"scatter\", \"x\": [1400.0, 1467], \"y\": [1400.0, 1298], \"mode\": \"lines\", \"line\": {\"width\": 2, \"color\": \"green\"}}, {\"type\": \"scatter\", \"x\": [200.0, 196], \"y\": [1400.0, 1323], \"mode\": \"lines\", \"line\": {\"width\": 2, \"color\": \"green\"}}, {\"type\": \"scatter\", \"x\": [200.0, 48], \"y\": [1000.0, 1023], \"mode\": \"lines\", \"line\": {\"width\": 2, \"color\": \"green\"}}, {\"type\": \"scatter\", \"x\": [600.0, 792], \"y\": [1400.0, 1479], \"mode\": \"lines\", \"line\": {\"width\": 2, \"color\": \"green\"}}, {\"type\": \"scatter\", \"x\": [600.0, 603], \"y\": [1000.0, 915], \"mode\": \"lines\", \"line\": {\"width\": 2, \"color\": \"green\"}}, {\"type\": \"scatter\", \"x\": [600.0, 607], \"y\": [600.0, 618], \"mode\": \"lines\", \"line\": {\"width\": 2, \"color\": \"green\"}}, {\"type\": \"scatter\", \"x\": [600.0, 758], \"y\": [1000.0, 1165], \"mode\": \"lines\", \"line\": {\"width\": 2, \"color\": \"green\"}}, {\"type\": \"scatter\", \"x\": [1000.0, 971], \"y\": [200.0, 95], \"mode\": \"lines\", \"line\": {\"width\": 2, \"color\": \"green\"}}, {\"type\": \"scatter\", \"x\": [1000.0, 1056], \"y\": [600.0, 630], \"mode\": \"lines\", \"line\": {\"width\": 2, \"color\": \"green\"}}, {\"type\": \"scatter\", \"x\": [1000.0, 1023], \"y\": [600.0, 671], \"mode\": \"lines\", \"line\": {\"width\": 2, \"color\": \"green\"}}, {\"type\": \"scatter\", \"x\": [600.0, 417], \"y\": [600.0, 705], \"mode\": \"lines\", \"line\": {\"width\": 2, \"color\": \"green\"}}, {\"type\": \"scatter\", \"x\": [600.0, 518], \"y\": [200.0, 187], \"mode\": \"lines\", \"line\": {\"width\": 2, \"color\": \"green\"}}, {\"type\": \"scatter\", \"x\": [1400.0, 1254], \"y\": [1000.0, 1026], \"mode\": \"lines\", \"line\": {\"width\": 2, \"color\": \"green\"}}, {\"type\": \"scatter\", \"x\": [600.0, 773], \"y\": [1000.0, 987], \"mode\": \"lines\", \"line\": {\"width\": 2, \"color\": \"green\"}}, {\"type\": \"scatter\", \"x\": [1000.0, 950], \"y\": [1400.0, 1455], \"mode\": \"lines\", \"line\": {\"width\": 2, \"color\": \"green\"}}, {\"type\": \"scatter\", \"x\": [600.0, 526], \"y\": [1000.0, 1014], \"mode\": \"lines\", \"line\": {\"width\": 2, \"color\": \"green\"}}, {\"type\": \"scatter\", \"x\": [200.0, 246], \"y\": [1000.0, 1147], \"mode\": \"lines\", \"line\": {\"width\": 2, \"color\": \"green\"}}, {\"type\": \"scatter\", \"x\": [600.0, 796], \"y\": [1000.0, 1098], \"mode\": \"lines\", \"line\": {\"width\": 2, \"color\": \"green\"}}, {\"type\": \"scatter\", \"x\": [1000.0, 1090], \"y\": [1000.0, 765], \"mode\": \"lines\", \"line\": {\"width\": 2, \"color\": \"red\"}}, {\"type\": \"scatter\", \"x\": [1000.0, 1039], \"y\": [1000.0, 1008], \"mode\": \"lines\", \"line\": {\"width\": 2, \"color\": \"green\"}}, {\"type\": \"scatter\", \"x\": [200.0, 204], \"y\": [600.0, 617], \"mode\": \"lines\", \"line\": {\"width\": 2, \"color\": \"green\"}}, {\"type\": \"scatter\", \"x\": [1000.0, 804], \"y\": [600.0, 597], \"mode\": \"lines\", \"line\": {\"width\": 2, \"color\": \"red\"}}, {\"type\": \"scatter\", \"x\": [600.0, 819], \"y\": [1000.0, 1148], \"mode\": \"lines\", \"line\": {\"width\": 2, \"color\": \"green\"}}, {\"type\": \"scatter\", \"x\": [200.0, 365], \"y\": [1400.0, 1417], \"mode\": \"lines\", \"line\": {\"width\": 2, \"color\": \"green\"}}, {\"type\": \"scatter\", \"x\": [600.0, 702], \"y\": [1000.0, 937], \"mode\": \"lines\", \"line\": {\"width\": 2, \"color\": \"green\"}}, {\"type\": \"scatter\", \"x\": [200.0, 93], \"y\": [600.0, 768], \"mode\": \"lines\", \"line\": {\"width\": 2, \"color\": \"green\"}}, {\"type\": \"scatter\", \"x\": [600.0, 809], \"y\": [600.0, 577], \"mode\": \"lines\", \"line\": {\"width\": 2, \"color\": \"red\"}}, {\"type\": \"scatter\", \"x\": [600.0, 646], \"y\": [200.0, 42], \"mode\": \"lines\", \"line\": {\"width\": 2, \"color\": \"green\"}}, {\"type\": \"scatter\", \"x\": [1000.0, 1001], \"y\": [1400.0, 1449], \"mode\": \"lines\", \"line\": {\"width\": 2, \"color\": \"green\"}}, {\"type\": \"scatter\", \"x\": [1000.0, 1096], \"y\": [600.0, 498], \"mode\": \"lines\", \"line\": {\"width\": 2, \"color\": \"green\"}}, {\"type\": \"scatter\", \"x\": [600.0, 515], \"y\": [600.0, 771], \"mode\": \"lines\", \"line\": {\"width\": 2, \"color\": \"green\"}}, {\"type\": \"scatter\", \"x\": [200.0, 305], \"y\": [1400.0, 1584], \"mode\": \"lines\", \"line\": {\"width\": 2, \"color\": \"green\"}}, {\"type\": \"scatter\", \"x\": [200.0, 330], \"y\": [200.0, 320], \"mode\": \"lines\", \"line\": {\"width\": 2, \"color\": \"green\"}}, {\"type\": \"scatter\", \"x\": [1000.0, 1072], \"y\": [1000.0, 826], \"mode\": \"lines\", \"line\": {\"width\": 2, \"color\": \"green\"}}, {\"type\": \"scatter\", \"x\": [600.0, 502], \"y\": [600.0, 687], \"mode\": \"lines\", \"line\": {\"width\": 2, \"color\": \"red\"}}, {\"type\": \"scatter\", \"x\": [1000.0, 964], \"y\": [1000.0, 888], \"mode\": \"lines\", \"line\": {\"width\": 2, \"color\": \"red\"}}, {\"type\": \"scatter\", \"x\": [600.0, 724], \"y\": [1000.0, 1124], \"mode\": \"lines\", \"line\": {\"width\": 2, \"color\": \"green\"}}, {\"type\": \"scatter\", \"x\": [200.0, 390], \"y\": [200.0, 198], \"mode\": \"lines\", \"line\": {\"width\": 2, \"color\": \"green\"}}, {\"type\": \"scatter\", \"x\": [1400.0, 1419], \"y\": [1400.0, 1574], \"mode\": \"lines\", \"line\": {\"width\": 2, \"color\": \"green\"}}, {\"type\": \"scatter\", \"x\": [1000.0, 1044], \"y\": [1000.0, 989], \"mode\": \"lines\", \"line\": {\"width\": 2, \"color\": \"red\"}}, {\"type\": \"scatter\", \"x\": [1000.0, 816], \"y\": [1000.0, 829], \"mode\": \"lines\", \"line\": {\"width\": 2, \"color\": \"red\"}}, {\"type\": \"scatter\", \"x\": [600.0, 741], \"y\": [1000.0, 860], \"mode\": \"lines\", \"line\": {\"width\": 2, \"color\": \"red\"}}, {\"type\": \"scatter\", \"x\": [1000.0, 907], \"y\": [600.0, 675], \"mode\": \"lines\", \"line\": {\"width\": 2, \"color\": \"red\"}}, {\"type\": \"scatter\", \"x\": [600.0, 679], \"y\": [200.0, 276], \"mode\": \"lines\", \"line\": {\"width\": 2, \"color\": \"green\"}}, {\"type\": \"scatter\", \"x\": [1400.0, 1035], \"y\": [1000.0, 851], \"mode\": \"lines\", \"line\": {\"width\": 2, \"color\": \"green\"}}, {\"type\": \"scatter\", \"x\": [200.0, 332], \"y\": [1000.0, 985], \"mode\": \"lines\", \"line\": {\"width\": 2, \"color\": \"green\"}}, {\"type\": \"scatter\", \"x\": [600.0, 523], \"y\": [1000.0, 888], \"mode\": \"lines\", \"line\": {\"width\": 2, \"color\": \"green\"}}, {\"type\": \"scatter\", \"x\": [1000.0, 962], \"y\": [600.0, 797], \"mode\": \"lines\", \"line\": {\"width\": 2, \"color\": \"green\"}}, {\"type\": \"scatter\", \"x\": [600.0, 753], \"y\": [1000.0, 999], \"mode\": \"lines\", \"line\": {\"width\": 2, \"color\": \"red\"}}, {\"type\": \"scatter\", \"x\": [600.0, 893], \"y\": [1000.0, 1090], \"mode\": \"lines\", \"line\": {\"width\": 2, \"color\": \"red\"}}, {\"type\": \"scatter\", \"x\": [1000.0, 1318], \"y\": [1000.0, 731], \"mode\": \"lines\", \"line\": {\"width\": 2, \"color\": \"green\"}}, {\"type\": \"scatter\", \"x\": [1000.0, 662], \"y\": [1000.0, 746], \"mode\": \"lines\", \"line\": {\"width\": 2, \"color\": \"red\"}}, {\"type\": \"scatter\", \"x\": [600.0, 877], \"y\": [600.0, 650], \"mode\": \"lines\", \"line\": {\"width\": 2, \"color\": \"red\"}}, {\"type\": \"scatter\", \"x\": [600.0, 540], \"y\": [600.0, 569], \"mode\": \"lines\", \"line\": {\"width\": 2, \"color\": \"red\"}}, {\"type\": \"scatter\", \"x\": [200.0, 8], \"y\": [1400.0, 1368], \"mode\": \"lines\", \"line\": {\"width\": 2, \"color\": \"green\"}}, {\"type\": \"scatter\", \"x\": [1000.0, 938], \"y\": [600.0, 732], \"mode\": \"lines\", \"line\": {\"width\": 2, \"color\": \"green\"}}, {\"type\": \"scatter\", \"x\": [1400.0, 1571], \"y\": [1000.0, 973], \"mode\": \"lines\", \"line\": {\"width\": 2, \"color\": \"green\"}}, {\"type\": \"scatter\", \"x\": [600.0, 535], \"y\": [600.0, 545], \"mode\": \"lines\", \"line\": {\"width\": 2, \"color\": \"red\"}}, {\"type\": \"scatter\", \"x\": [1000.0, 967], \"y\": [1000.0, 951], \"mode\": \"lines\", \"line\": {\"width\": 2, \"color\": \"red\"}}, {\"type\": \"scatter\", \"x\": [600.0, 583], \"y\": [600.0, 741], \"mode\": \"lines\", \"line\": {\"width\": 2, \"color\": \"red\"}}, {\"type\": \"scatter\", \"x\": [600.0, 624], \"y\": [600.0, 533], \"mode\": \"lines\", \"line\": {\"width\": 2, \"color\": \"red\"}}, {\"type\": \"scatter\", \"x\": [600.0, 573], \"y\": [600.0, 756], \"mode\": \"lines\", \"line\": {\"width\": 2, \"color\": \"red\"}}, {\"type\": \"scatter\", \"x\": [200.0, 525], \"y\": [600.0, 750], \"mode\": \"lines\", \"line\": {\"width\": 2, \"color\": \"red\"}}, {\"type\": \"scatter\", \"x\": [200.0, 313], \"y\": [1000.0, 1117], \"mode\": \"lines\", \"line\": {\"width\": 2, \"color\": \"green\"}}, {\"type\": \"scatter\", \"x\": [1000.0, 1219], \"y\": [1000.0, 1104], \"mode\": \"lines\", \"line\": {\"width\": 2, \"color\": \"green\"}}, {\"type\": \"scatter\", \"x\": [200.0, 188], \"y\": [1400.0, 1370], \"mode\": \"lines\", \"line\": {\"width\": 2, \"color\": \"green\"}}, {\"type\": \"scatter\", \"x\": [1000.0, 817], \"y\": [1000.0, 767], \"mode\": \"lines\", \"line\": {\"width\": 2, \"color\": \"red\"}}, {\"type\": \"scatter\", \"x\": [600.0, 579], \"y\": [200.0, 116], \"mode\": \"lines\", \"line\": {\"width\": 2, \"color\": \"green\"}}, {\"type\": \"scatter\", \"x\": [1000.0, 1062], \"y\": [200.0, 8], \"mode\": \"lines\", \"line\": {\"width\": 2, \"color\": \"green\"}}, {\"type\": \"scatter\", \"x\": [1000.0, 966], \"y\": [600.0, 771], \"mode\": \"lines\", \"line\": {\"width\": 2, \"color\": \"red\"}}, {\"type\": \"scatter\", \"x\": [600.0, 877], \"y\": [1000.0, 1025], \"mode\": \"lines\", \"line\": {\"width\": 2, \"color\": \"red\"}}, {\"type\": \"scatter\", \"x\": [600.0, 653], \"y\": [600.0, 762], \"mode\": \"lines\", \"line\": {\"width\": 2, \"color\": \"red\"}}, {\"type\": \"scatter\", \"x\": [600.0, 508], \"y\": [1000.0, 716], \"mode\": \"lines\", \"line\": {\"width\": 2, \"color\": \"red\"}}, {\"type\": \"scatter\", \"x\": [200.0, 214], \"y\": [600.0, 421], \"mode\": \"lines\", \"line\": {\"width\": 2, \"color\": \"green\"}}, {\"type\": \"scatter\", \"x\": [1000.0, 832], \"y\": [1400.0, 1310], \"mode\": \"lines\", \"line\": {\"width\": 2, \"color\": \"green\"}}, {\"type\": \"scatter\", \"x\": [200.0, 457], \"y\": [600.0, 817], \"mode\": \"lines\", \"line\": {\"width\": 2, \"color\": \"green\"}}, {\"type\": \"scatter\", \"x\": [600.0, 754], \"y\": [1000.0, 864], \"mode\": \"lines\", \"line\": {\"width\": 2, \"color\": \"red\"}}, {\"type\": \"scatter\", \"x\": [1400.0, 1464], \"y\": [200.0, 354], \"mode\": \"lines\", \"line\": {\"width\": 2, \"color\": \"green\"}}, {\"type\": \"scatter\", \"x\": [600.0, 590], \"y\": [1000.0, 935], \"mode\": \"lines\", \"line\": {\"width\": 2, \"color\": \"red\"}}, {\"type\": \"scatter\", \"x\": [600.0, 428], \"y\": [200.0, 287], \"mode\": \"lines\", \"line\": {\"width\": 2, \"color\": \"green\"}}, {\"type\": \"scatter\", \"x\": [1000.0, 1002], \"y\": [1000.0, 1097], \"mode\": \"lines\", \"line\": {\"width\": 2, \"color\": \"red\"}}, {\"type\": \"scatter\", \"x\": [1000.0, 845], \"y\": [1000.0, 818], \"mode\": \"lines\", \"line\": {\"width\": 2, \"color\": \"green\"}}, {\"type\": \"scatter\", \"x\": [600.0, 496], \"y\": [1400.0, 1420], \"mode\": \"lines\", \"line\": {\"width\": 2, \"color\": \"green\"}}, {\"type\": \"scatter\", \"x\": [1400.0, 1397], \"y\": [200.0, 386], \"mode\": \"lines\", \"line\": {\"width\": 2, \"color\": \"green\"}}, {\"type\": \"scatter\", \"x\": [1000.0, 800], \"y\": [600.0, 800], \"mode\": \"lines\", \"line\": {\"width\": 2, \"color\": \"red\"}}, {\"type\": \"scatter\", \"x\": [200.0, 237], \"y\": [1400.0, 1481], \"mode\": \"lines\", \"line\": {\"width\": 2, \"color\": \"green\"}}, {\"type\": \"scatter\", \"x\": [1400.0, 1486], \"y\": [1000.0, 1131], \"mode\": \"lines\", \"line\": {\"width\": 2, \"color\": \"green\"}}, {\"type\": \"scatter\", \"x\": [200.0, 2], \"y\": [600.0, 554], \"mode\": \"lines\", \"line\": {\"width\": 2, \"color\": \"green\"}}, {\"type\": \"scatter\", \"x\": [1400.0, 1453], \"y\": [200.0, 96], \"mode\": \"lines\", \"line\": {\"width\": 2, \"color\": \"green\"}}, {\"type\": \"scatter\", \"x\": [600.0, 469], \"y\": [200.0, 157], \"mode\": \"lines\", \"line\": {\"width\": 2, \"color\": \"green\"}}, {\"type\": \"scatter\", \"x\": [200.0, 170], \"y\": [600.0, 503], \"mode\": \"lines\", \"line\": {\"width\": 2, \"color\": \"green\"}}, {\"type\": \"scatter\", \"x\": [600.0, 929], \"y\": [1000.0, 1013], \"mode\": \"lines\", \"line\": {\"width\": 2, \"color\": \"red\"}}, {\"type\": \"scatter\", \"x\": [600.0, 670], \"y\": [600.0, 565], \"mode\": \"lines\", \"line\": {\"width\": 2, \"color\": \"red\"}}, {\"type\": \"scatter\", \"x\": [200.0, 112], \"y\": [600.0, 743], \"mode\": \"lines\", \"line\": {\"width\": 2, \"color\": \"green\"}}, {\"type\": \"scatter\", \"x\": [600.0, 632], \"y\": [200.0, 179], \"mode\": \"lines\", \"line\": {\"width\": 2, \"color\": \"green\"}}, {\"type\": \"scatter\", \"x\": [1400.0, 1299], \"y\": [1400.0, 1214], \"mode\": \"lines\", \"line\": {\"width\": 2, \"color\": \"green\"}}, {\"type\": \"scatter\", \"x\": [1400.0, 1591], \"y\": [1000.0, 1013], \"mode\": \"lines\", \"line\": {\"width\": 2, \"color\": \"green\"}}, {\"type\": \"scatter\", \"x\": [1400.0, 1468], \"y\": [1400.0, 1431], \"mode\": \"lines\", \"line\": {\"width\": 2, \"color\": \"green\"}}, {\"type\": \"scatter\", \"x\": [600.0, 742], \"y\": [1000.0, 888], \"mode\": \"lines\", \"line\": {\"width\": 2, \"color\": \"red\"}}, {\"type\": \"scatter\", \"x\": [1000.0, 803], \"y\": [1000.0, 1014], \"mode\": \"lines\", \"line\": {\"width\": 2, \"color\": \"red\"}}, {\"type\": \"scatter\", \"x\": [600.0, 658], \"y\": [1000.0, 956], \"mode\": \"lines\", \"line\": {\"width\": 2, \"color\": \"red\"}}, {\"type\": \"scatter\", \"x\": [1000.0, 1059], \"y\": [600.0, 807], \"mode\": \"lines\", \"line\": {\"width\": 2, \"color\": \"red\"}}, {\"type\": \"scatter\", \"x\": [200.0, 40], \"y\": [200.0, 98], \"mode\": \"lines\", \"line\": {\"width\": 2, \"color\": \"green\"}}, {\"type\": \"scatter\", \"x\": [200.0, 162], \"y\": [600.0, 713], \"mode\": \"lines\", \"line\": {\"width\": 2, \"color\": \"green\"}}, {\"type\": \"scatter\", \"x\": [1000.0, 969], \"y\": [600.0, 501], \"mode\": \"lines\", \"line\": {\"width\": 2, \"color\": \"green\"}}, {\"type\": \"scatter\", \"x\": [200.0, 206], \"y\": [200.0, 145], \"mode\": \"lines\", \"line\": {\"width\": 2, \"color\": \"green\"}}, {\"type\": \"scatter\", \"x\": [1000.0, 703], \"y\": [1000.0, 831], \"mode\": \"lines\", \"line\": {\"width\": 2, \"color\": \"red\"}}, {\"type\": \"scatter\", \"x\": [1000.0, 1030], \"y\": [600.0, 668], \"mode\": \"lines\", \"line\": {\"width\": 2, \"color\": \"green\"}}, {\"type\": \"scatter\", \"x\": [600.0, 512], \"y\": [600.0, 743], \"mode\": \"lines\", \"line\": {\"width\": 2, \"color\": \"green\"}}, {\"type\": \"scatter\", \"x\": [200.0, 146], \"y\": [200.0, 37], \"mode\": \"lines\", \"line\": {\"width\": 2, \"color\": \"green\"}}, {\"type\": \"scatter\", \"x\": [1400.0, 1566], \"y\": [600.0, 459], \"mode\": \"lines\", \"line\": {\"width\": 2, \"color\": \"green\"}}, {\"type\": \"scatter\", \"x\": [200.0, 200.0, 200.0, 200.0, 600.0, 600.0, 600.0, 600.0, 1000.0, 1000.0, 1000.0, 1000.0, 1400.0, 1400.0, 1400.0, 1400.0, 945, 1162, 689, 952, 392, 653, 1013, 889, 114, 925, 63, 123, 1289, 141, 900, 842, 730, 455, 704, 235, 469, 1183, 1185, 1041, 1245, 1355, 978, 1447, 1161, 849, 168, 1453, 1579, 1496, 607, 363, 891, 62, 130, 147, 864, 935, 566, 35, 733, 1045, 716, 947, 638, 354, 471, 297, 1186, 509, 641, 1130, 1560, 934, 811, 1488, 585, 57, 1129, 1409, 671, 1049, 147, 445, 553, 1588, 1074, 187, 1208, 1032, 1325, 58, 563, 1461, 893, 1243, 706, 1391, 428, 445, 829, 1090, 945, 256, 1311, 1467, 196, 48, 792, 603, 607, 758, 971, 1056, 1023, 417, 518, 1254, 773, 950, 526, 246, 796, 1090, 1039, 204, 804, 819, 365, 702, 93, 809, 646, 1001, 1096, 515, 305, 330, 1072, 502, 964, 724, 390, 1419, 1044, 816, 741, 907, 679, 1035, 332, 523, 962, 753, 893, 1318, 662, 877, 540, 8, 938, 1571, 535, 967, 583, 624, 573, 525, 313, 1219, 188, 817, 579, 1062, 966, 877, 653, 508, 214, 832, 457, 754, 1464, 590, 428, 1002, 845, 496, 1397, 800, 237, 1486, 2, 1453, 469, 170, 929, 670, 112, 632, 1299, 1591, 1468, 742, 803, 658, 1059, 40, 162, 969, 206, 703, 1030, 512, 146, 1566], \"y\": [200.0, 600.0, 1000.0, 1400.0, 200.0, 600.0, 1000.0, 1400.0, 200.0, 600.0, 1000.0, 1400.0, 200.0, 600.0, 1000.0, 1400.0, 745, 1465, 901, 1370, 630, 300, 567, 762, 1386, 324, 354, 1031, 505, 517, 436, 794, 666, 834, 1049, 1570, 378, 779, 1298, 555, 423, 693, 1089, 1560, 588, 807, 523, 1311, 971, 328, 989, 778, 1193, 1401, 642, 1212, 957, 629, 763, 922, 647, 505, 721, 513, 517, 185, 214, 351, 1425, 656, 679, 1005, 482, 1165, 1085, 796, 664, 311, 181, 1133, 534, 448, 90, 278, 531, 864, 943, 1544, 791, 962, 283, 1297, 967, 1000, 333, 1179, 1323, 1536, 247, 684, 1415, 841, 573, 226, 793, 1298, 1323, 1023, 1479, 915, 618, 1165, 95, 630, 671, 705, 187, 1026, 987, 1455, 1014, 1147, 1098, 765, 1008, 617, 597, 1148, 1417, 937, 768, 577, 42, 1449, 498, 771, 1584, 320, 826, 687, 888, 1124, 198, 1574, 989, 829, 860, 675, 276, 851, 985, 888, 797, 999, 1090, 731, 746, 650, 569, 1368, 732, 973, 545, 951, 741, 533, 756, 750, 1117, 1104, 1370, 767, 116, 8, 771, 1025, 762, 716, 421, 1310, 817, 864, 354, 935, 287, 1097, 818, 1420, 386, 800, 1481, 1131, 554, 96, 157, 503, 1013, 565, 743, 179, 1214, 1013, 1431, 888, 1014, 956, 807, 98, 713, 501, 145, 831, 668, 743, 37, 459], \"mode\": \"markers\", \"marker\": {\"size\": 8, \"color\": [\"orange\", \"orange\", \"orange\", \"orange\", \"orange\", \"orange\", \"orange\", \"orange\", \"orange\", \"orange\", \"orange\", \"orange\", \"orange\", \"orange\", \"orange\", \"orange\", \"magenta\", \"magenta\", \"blue\", \"magenta\", \"magenta\", \"magenta\", \"magenta\", \"blue\", \"magenta\", \"magenta\", \"magenta\", \"magenta\", \"magenta\", \"magenta\", \"magenta\", \"blue\", \"blue\", \"magenta\", \"blue\", \"magenta\", \"magenta\", \"magenta\", \"magenta\", \"magenta\", \"magenta\", \"magenta\", \"magenta\", \"magenta\", \"magenta\", \"blue\", \"magenta\", \"magenta\", \"magenta\", \"magenta\", \"blue\", \"magenta\", \"magenta\", \"magenta\", \"magenta\", \"magenta\", \"blue\", \"magenta\", \"magenta\", \"magenta\", \"blue\", \"blue\", \"magenta\", \"blue\", \"magenta\", \"magenta\", \"magenta\", \"magenta\", \"magenta\", \"blue\", \"blue\", \"magenta\", \"magenta\", \"magenta\", \"blue\", \"magenta\", \"magenta\", \"magenta\", \"magenta\", \"magenta\", \"magenta\", \"magenta\", \"magenta\", \"magenta\", \"blue\", \"magenta\", \"blue\", \"magenta\", \"magenta\", \"magenta\", \"magenta\", \"magenta\", \"blue\", \"magenta\", \"magenta\", \"magenta\", \"magenta\", \"magenta\", \"magenta\", \"magenta\", \"magenta\", \"blue\", \"magenta\", \"magenta\", \"magenta\", \"magenta\", \"magenta\", \"magenta\", \"magenta\", \"magenta\", \"blue\", \"magenta\", \"magenta\", \"magenta\", \"magenta\", \"magenta\", \"magenta\", \"magenta\", \"blue\", \"magenta\", \"blue\", \"magenta\", \"blue\", \"blue\", \"blue\", \"magenta\", \"blue\", \"magenta\", \"magenta\", \"blue\", \"magenta\", \"blue\", \"magenta\", \"magenta\", \"magenta\", \"magenta\", \"magenta\", \"magenta\", \"magenta\", \"blue\", \"blue\", \"magenta\", \"magenta\", \"magenta\", \"blue\", \"blue\", \"blue\", \"blue\", \"magenta\", \"blue\", \"magenta\", \"magenta\", \"magenta\", \"blue\", \"blue\", \"magenta\", \"blue\", \"blue\", \"blue\", \"magenta\", \"magenta\", \"magenta\", \"blue\", \"blue\", \"blue\", \"blue\", \"blue\", \"blue\", \"magenta\", \"magenta\", \"magenta\", \"blue\", \"magenta\", \"magenta\", \"blue\", \"blue\", \"blue\", \"blue\", \"magenta\", \"magenta\", \"magenta\", \"blue\", \"magenta\", \"blue\", \"magenta\", \"blue\", \"magenta\", \"magenta\", \"magenta\", \"blue\", \"magenta\", \"magenta\", \"magenta\", \"magenta\", \"magenta\", \"magenta\", \"blue\", \"blue\", \"magenta\", \"magenta\", \"magenta\", \"magenta\", \"magenta\", \"blue\", \"blue\", \"blue\", \"blue\", \"magenta\", \"magenta\", \"magenta\", \"magenta\", \"blue\", \"magenta\", \"magenta\", \"magenta\", \"magenta\"]}}], {\"xaxis\": {\"range\": [0, 1600], \"title\": \"x\"}, \"yaxis\": {\"range\": [0, 1600], \"title\": \"y\"}, \"title\": \"UE and AP Distribution in the grid\", \"height\": 1000, \"width\": 1000, \"showlegend\": false, \"shapes\": [{\"type\": \"rect\", \"x0\": 585, \"y0\": 0, \"x1\": 685, \"y1\": 1600.0, \"line\": {\"color\": \"rgba(128, 0, 128, 1)\", \"width\": 2}, \"fillcolor\": \"rgba(128, 0, 128 0.1)\"}, {\"type\": \"rect\", \"x0\": 1293, \"y0\": 214, \"x1\": 1426, \"y1\": 315, \"line\": {\"color\": \"rgba(128, 0, 128, 1)\", \"width\": 2}, \"fillcolor\": \"rgba(128, 0, 128 0.1)\"}, {\"type\": \"rect\", \"x0\": 1258, \"y0\": 1425, \"x1\": 1416, \"y1\": 1445, \"line\": {\"color\": \"rgba(128, 0, 128, 1)\", \"width\": 2}, \"fillcolor\": \"rgba(128, 0, 128 0.1)\"}, {\"type\": \"rect\", \"x0\": 1052, \"y0\": 0, \"x1\": 1152, \"y1\": 1600.0, \"line\": {\"color\": \"rgba(128, 0, 128, 1)\", \"width\": 2}, \"fillcolor\": \"rgba(128, 0, 128 0.1)\"}]}, {\"showLink\": true, \"linkText\": \"Export to plot.ly\"})});</script>"
      ]
     },
     "metadata": {},
     "output_type": "display_data"
    }
   ],
   "source": [
    "#plot of ue and ap connection\n",
    "ue_ap_list = result.UE_AP_LIST[0]\n",
    "nodes = nodes = [(0, 0)]\n",
    "nodes += [tuple(x.location) for x in ue_ap_list]\n",
    "nodes_color = []\n",
    "print(nodes_color)\n",
    "nodes_color += ['orange'] * 16\n",
    "for ue in ue_ap_list[16:]:\n",
    "    if ue.app == 2:\n",
    "            # video UEs\n",
    "        color = 'blue'\n",
    "    else:\n",
    "            # Web UEs\n",
    "        color = 'magenta'\n",
    "    nodes_color.append(color)\n",
    "n_x, n_y = zip(*nodes[1:])\n",
    "nodes_dict = dict(\n",
    "    type='scatter',\n",
    "    x=n_x,\n",
    "    y=n_y,\n",
    "    mode='markers',\n",
    "    marker=dict(size=8, color=nodes_color)\n",
    "    )\n",
    "edges = []\n",
    "edge_color = []\n",
    "for i, ue in enumerate(ue_ap_list[16:]):\n",
    "    if ue.sla == 1:\n",
    "        color = \"green\"\n",
    "    else:\n",
    "        color = \"red\"\n",
    "    edges.append((ue.ap, i+17))\n",
    "    edge_color.append(color)\n",
    "edges_list = []\n",
    "for k, e in enumerate(edges):\n",
    "    info = dict(\n",
    "        type='scatter',\n",
    "        x=[nodes[e[0]][0], nodes[e[1]][0]],\n",
    "        y=[nodes[e[0]][1], nodes[e[1]][1]],\n",
    "        mode='lines',\n",
    "        line=dict(width=2, color=edge_color[k])\n",
    "    )\n",
    "    edges_list.append(info)\n",
    "data = edges_list + [nodes_dict]\n",
    "\n",
    "figure={\"data\":data,\n",
    "        \"layout\": {'xaxis':{'range': [0, 1600], 'title': 'x'},\n",
    "                   'yaxis':{'range': [0, 1600], 'title': 'y'},\n",
    "                   'title':\"UE and AP Distribution in the grid\",\n",
    "                   'height' : 1000,\n",
    "                   'width' :1000,\n",
    "                   'showlegend': False,\n",
    "                   \"shapes\":Rec_dict, \n",
    "                  }\n",
    "       }\n",
    "plotly.offline.iplot(figure)\n"
   ]
  },
  {
   "cell_type": "code",
   "execution_count": 16,
   "metadata": {},
   "outputs": [],
   "source": [
    "\n",
    "# print(data_0_episode[\"data\"])\n",
    "# layout_dict = dict(\n",
    "#             xaxis={'range': [0, 1600], 'title': 'x'},\n",
    "#             yaxis={'range': [0, 1600], 'title': 'y'},\n",
    "#             title=\"UE and AP Distribution in the grid\",\n",
    "#             height=600,\n",
    "#             width=800,\n",
    "#             showlegend=False,\n",
    "#             shapes=Rec_dict,\n",
    "#             )\n",
    "#layout = go.Layout(layout_dict\n",
    "data_0_episode = Info_plot_dynamic_UE(result, 0)\n",
    "data_values=data_0_episode[\"data\"]  \n",
    "\n",
    "figure={\"data\":data_values,\n",
    "        \"layout\": {'xaxis':{'range': [0, 1600], 'title': 'x'},\n",
    "                   'yaxis':{'range': [0, 1600], 'title': 'y'},\n",
    "                   'title':\"UE and AP Distribution in the grid\",\n",
    "                   'height' : 1000,\n",
    "                   'width' :1000,\n",
    "                   'showlegend': False,\n",
    "                   \"shapes\":Rec_dict, \n",
    "                  }\n",
    "       }\n",
    "#plotly.offline.iplot(figure, image='png')\n"
   ]
  },
  {
   "cell_type": "code",
   "execution_count": 17,
   "metadata": {},
   "outputs": [
    {
     "data": {
      "application/vnd.plotly.v1+json": {
       "data": [
        {
         "name": "Rewards",
         "type": "scatter",
         "x": 3,
         "y": [
          172.75,
          190.25,
          188.75
         ]
        }
       ],
       "layout": {
        "height": 1000,
        "showlegend": false,
        "title": "Rewards over time using Q-tabular",
        "width": 1000,
        "xaxis": {
         "range": [
          0,
          301
         ],
         "title": "x"
        },
        "yaxis": {
         "range": [
          100,
          320
         ],
         "title": "y"
        }
       }
      },
      "text/html": [
       "<div id=\"b587390e-7d37-48c3-a75f-0995441c5585\" style=\"height: 1000px; width: 1000px;\" class=\"plotly-graph-div\"></div><script type=\"text/javascript\">require([\"plotly\"], function(Plotly) { window.PLOTLYENV=window.PLOTLYENV || {};window.PLOTLYENV.BASE_URL=\"https://plot.ly\";Plotly.newPlot(\"b587390e-7d37-48c3-a75f-0995441c5585\", [{\"type\": \"scatter\", \"x\": 3, \"y\": [172.75, 190.25, 188.75], \"name\": \"Rewards\"}], {\"xaxis\": {\"range\": [0, 301], \"title\": \"x\"}, \"yaxis\": {\"range\": [100, 320], \"title\": \"y\"}, \"title\": \"Rewards over time using Q-tabular\", \"height\": 1000, \"width\": 1000, \"showlegend\": false}, {\"showLink\": true, \"linkText\": \"Export to plot.ly\"})});</script>"
      ],
      "text/vnd.plotly.v1+html": [
       "<div id=\"b587390e-7d37-48c3-a75f-0995441c5585\" style=\"height: 1000px; width: 1000px;\" class=\"plotly-graph-div\"></div><script type=\"text/javascript\">require([\"plotly\"], function(Plotly) { window.PLOTLYENV=window.PLOTLYENV || {};window.PLOTLYENV.BASE_URL=\"https://plot.ly\";Plotly.newPlot(\"b587390e-7d37-48c3-a75f-0995441c5585\", [{\"type\": \"scatter\", \"x\": 3, \"y\": [172.75, 190.25, 188.75], \"name\": \"Rewards\"}], {\"xaxis\": {\"range\": [0, 301], \"title\": \"x\"}, \"yaxis\": {\"range\": [100, 320], \"title\": \"y\"}, \"title\": \"Rewards over time using Q-tabular\", \"height\": 1000, \"width\": 1000, \"showlegend\": false}, {\"showLink\": true, \"linkText\": \"Export to plot.ly\"})});</script>"
      ]
     },
     "metadata": {},
     "output_type": "display_data"
    }
   ],
   "source": [
    "# Create rewards graph\n",
    "rewards = go.Scatter(\n",
    "    x = len(result.Rewards),\n",
    "    y = result.Rewards,\n",
    "    name='Rewards'\n",
    ")\n",
    "\n",
    "data = [rewards]\n",
    "\n",
    "plotly.offline.iplot(\n",
    "    {\"data\": data,\n",
    "     \"layout\": {'xaxis':{'range': [0, 301], 'title': 'x'},\n",
    "                   'yaxis':{'range': [100, 320], 'title': 'y'},\n",
    "                   'title':\"Rewards over time using Q-tabular\",\n",
    "                   'height' : 1000,\n",
    "                   'width' :1000,\n",
    "                   'showlegend': False,\n",
    "                  }\n",
    "    })\n",
    "\n",
    "# Plot and embed in ipython notebook!\n",
    "# plotly.offline.iplot(\n",
    "#     {\"data\": data,\n",
    "#      \"layout\": go.Layout(\n",
    "#          height=500,\n",
    "#          width=800,\n",
    "#          title=\"Rewards over time\",\n",
    "#          xaxis=dict(\n",
    "#              range=[0, 300]\n",
    "#              title='Episodes',\n",
    "#          ),\n",
    "#          yaxis=dict(\n",
    "#              title='Rewards',\n",
    "#          ), \n",
    "#          showlegend=True)},\n",
    "#     show_link=False,\n",
    "#     link_text=None)\n",
    "\n",
    "\n"
   ]
  },
  {
   "cell_type": "code",
   "execution_count": 18,
   "metadata": {},
   "outputs": [
    {
     "data": {
      "application/vnd.plotly.v1+json": {
       "data": [
        {
         "name": "Handoffs",
         "type": "scatter",
         "x": 3,
         "y": [
          23,
          21,
          19
         ]
        }
       ],
       "layout": {
        "height": 500,
        "showlegend": true,
        "title": "Handoffs over time",
        "width": 800,
        "xaxis": {
         "title": "Episodes"
        },
        "yaxis": {
         "title": "Handoffs"
        }
       }
      },
      "text/html": [
       "<div id=\"b3984c69-a436-4fc1-a317-68b23a68de17\" style=\"height: 500px; width: 800px;\" class=\"plotly-graph-div\"></div><script type=\"text/javascript\">require([\"plotly\"], function(Plotly) { window.PLOTLYENV=window.PLOTLYENV || {};window.PLOTLYENV.BASE_URL=\"https://plot.ly\";Plotly.newPlot(\"b3984c69-a436-4fc1-a317-68b23a68de17\", [{\"type\": \"scatter\", \"x\": 3, \"y\": [23.0, 21.0, 19.0], \"name\": \"Handoffs\"}], {\"height\": 500, \"width\": 800, \"title\": \"Handoffs over time\", \"xaxis\": {\"title\": \"Episodes\"}, \"yaxis\": {\"title\": \"Handoffs\"}, \"showlegend\": true}, {\"showLink\": false, \"linkText\": null})});</script>"
      ],
      "text/vnd.plotly.v1+html": [
       "<div id=\"b3984c69-a436-4fc1-a317-68b23a68de17\" style=\"height: 500px; width: 800px;\" class=\"plotly-graph-div\"></div><script type=\"text/javascript\">require([\"plotly\"], function(Plotly) { window.PLOTLYENV=window.PLOTLYENV || {};window.PLOTLYENV.BASE_URL=\"https://plot.ly\";Plotly.newPlot(\"b3984c69-a436-4fc1-a317-68b23a68de17\", [{\"type\": \"scatter\", \"x\": 3, \"y\": [23.0, 21.0, 19.0], \"name\": \"Handoffs\"}], {\"height\": 500, \"width\": 800, \"title\": \"Handoffs over time\", \"xaxis\": {\"title\": \"Episodes\"}, \"yaxis\": {\"title\": \"Handoffs\"}, \"showlegend\": true}, {\"showLink\": false, \"linkText\": null})});</script>"
      ]
     },
     "metadata": {},
     "output_type": "display_data"
    }
   ],
   "source": [
    "# Create handoff graph\n",
    "handoffs = go.Scatter(\n",
    "    x = len(result.Handoffs),\n",
    "    y = result.Handoffs,\n",
    "    name='Handoffs'\n",
    ")\n",
    "\n",
    "data = [handoffs]\n",
    "\n",
    "# Plot and embed in ipython notebook!\n",
    "plotly.offline.iplot(\n",
    "    {\"data\": data,\n",
    "     \"layout\": go.Layout(\n",
    "         height=500,\n",
    "         width=800,\n",
    "         title='Handoffs over time',\n",
    "         xaxis=dict(\n",
    "             title='Episodes',\n",
    "         ),\n",
    "         yaxis=dict(\n",
    "             title='Handoffs'\n",
    "         ), \n",
    "         showlegend=True)},\n",
    "    show_link=False,\n",
    "    link_text=None)\n",
    "\n"
   ]
  },
  {
   "cell_type": "code",
   "execution_count": 19,
   "metadata": {},
   "outputs": [
    {
     "data": {
      "application/vnd.plotly.v1+json": {
       "data": [
        {
         "name": "UE SLA",
         "type": "scatter",
         "x": 3,
         "y": [
          161,
          145,
          146
         ]
        }
       ],
       "layout": {
        "height": 1000,
        "showlegend": false,
        "title": "UE's SLA over episodes using Q-tabular",
        "width": 1000,
        "xaxis": {
         "range": [
          0,
          301
         ],
         "title": "x"
        },
        "yaxis": {
         "range": [
          80,
          140
         ],
         "title": "UE SLA"
        }
       }
      },
      "text/html": [
       "<div id=\"2b079c83-1f61-449d-a41b-82ee40c0525c\" style=\"height: 1000px; width: 1000px;\" class=\"plotly-graph-div\"></div><script type=\"text/javascript\">require([\"plotly\"], function(Plotly) { window.PLOTLYENV=window.PLOTLYENV || {};window.PLOTLYENV.BASE_URL=\"https://plot.ly\";Plotly.newPlot(\"2b079c83-1f61-449d-a41b-82ee40c0525c\", [{\"type\": \"scatter\", \"x\": 3, \"y\": [161.0, 145.0, 146.0], \"name\": \"UE SLA\"}], {\"xaxis\": {\"range\": [0, 301], \"title\": \"x\"}, \"yaxis\": {\"range\": [80, 140], \"title\": \"UE SLA\"}, \"title\": \"UE's SLA over episodes using Q-tabular\", \"height\": 1000, \"width\": 1000, \"showlegend\": false}, {\"showLink\": true, \"linkText\": \"Export to plot.ly\"})});</script>"
      ],
      "text/vnd.plotly.v1+html": [
       "<div id=\"2b079c83-1f61-449d-a41b-82ee40c0525c\" style=\"height: 1000px; width: 1000px;\" class=\"plotly-graph-div\"></div><script type=\"text/javascript\">require([\"plotly\"], function(Plotly) { window.PLOTLYENV=window.PLOTLYENV || {};window.PLOTLYENV.BASE_URL=\"https://plot.ly\";Plotly.newPlot(\"2b079c83-1f61-449d-a41b-82ee40c0525c\", [{\"type\": \"scatter\", \"x\": 3, \"y\": [161.0, 145.0, 146.0], \"name\": \"UE SLA\"}], {\"xaxis\": {\"range\": [0, 301], \"title\": \"x\"}, \"yaxis\": {\"range\": [80, 140], \"title\": \"UE SLA\"}, \"title\": \"UE's SLA over episodes using Q-tabular\", \"height\": 1000, \"width\": 1000, \"showlegend\": false}, {\"showLink\": true, \"linkText\": \"Export to plot.ly\"})});</script>"
      ]
     },
     "metadata": {},
     "output_type": "display_data"
    }
   ],
   "source": [
    "# Create UE SLA graph\n",
    "ue_sla = go.Scatter(\n",
    "    x = len(result.Meets_SLA),\n",
    "    y = result.Meets_SLA,\n",
    "    name='UE SLA'\n",
    ")\n",
    "\n",
    "data = [ue_sla]\n",
    "\n",
    "# Plot and embed in ipython notebook!\n",
    "plotly.offline.iplot(\n",
    "    {\"data\": data,\n",
    "     \"layout\": {'xaxis':{'range': [0, 301], 'title': 'x'},\n",
    "                   'yaxis':{'range': [80, 140], 'title': 'UE SLA'},\n",
    "                   'title':\"UE's SLA over episodes using Q-tabular\",\n",
    "                   'height' : 1000,\n",
    "                   'width' :1000,\n",
    "                   'showlegend': False,\n",
    "                  }\n",
    "    })"
   ]
  },
  {
   "cell_type": "code",
   "execution_count": null,
   "metadata": {},
   "outputs": [],
   "source": []
  },
  {
   "cell_type": "code",
   "execution_count": null,
   "metadata": {},
   "outputs": [],
   "source": []
  }
 ],
 "metadata": {
  "kernelspec": {
   "display_name": "Python 3",
   "language": "python",
   "name": "python3"
  },
  "language_info": {
   "codemirror_mode": {
    "name": "ipython",
    "version": 3
   },
   "file_extension": ".py",
   "mimetype": "text/x-python",
   "name": "python",
   "nbconvert_exporter": "python",
   "pygments_lexer": "ipython3",
   "version": "3.6.5"
  }
 },
 "nbformat": 4,
 "nbformat_minor": 2
}
