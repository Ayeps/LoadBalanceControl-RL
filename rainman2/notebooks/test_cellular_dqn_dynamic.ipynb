{
 "cells": [
  {
   "cell_type": "code",
   "execution_count": 1,
   "metadata": {},
   "outputs": [
    {
     "data": {
      "text/html": [
       "<script>requirejs.config({paths: { 'plotly': ['https://cdn.plot.ly/plotly-latest.min']},});if(!window.Plotly) {{require(['plotly'],function(plotly) {window.Plotly=plotly;});}}</script>"
      ],
      "text/vnd.plotly.v1+html": [
       "<script>requirejs.config({paths: { 'plotly': ['https://cdn.plot.ly/plotly-latest.min']},});if(!window.Plotly) {{require(['plotly'],function(plotly) {window.Plotly=plotly;});}}</script>"
      ]
     },
     "metadata": {},
     "output_type": "display_data"
    }
   ],
   "source": [
    "import plotly\n",
    "import plotly.graph_objs as go\n",
    "from IPython.display import display, HTML\n",
    "plotly.offline.init_notebook_mode(connected=True)\n"
   ]
  },
  {
   "cell_type": "code",
   "execution_count": 2,
   "metadata": {},
   "outputs": [
    {
     "name": "stdout",
     "output_type": "stream",
     "text": [
      "Rainman2's logging has been configured!\n"
     ]
    },
    {
     "name": "stderr",
     "output_type": "stream",
     "text": [
      "Using TensorFlow backend.\n"
     ]
    }
   ],
   "source": [
    "from loadbalanceRL import RAINMAN3\n",
    "from loadbalanceRL.lib.algorithm.plot_dynamic import *\n",
    "# Server profile: num_ues=120, APs=16, Scale=200.0, explore_radius=1\n",
    "# If you want to change the num of ues or aps go to reset that in the server.py\n",
    "# the EPISODES shows here is 100\n",
    "from collections import OrderedDict\n",
    "ALGORITHM_CONFIG = OrderedDict(\n",
    "    EPISODES=500,\n",
    "    ALPHA=0.2,\n",
    "    GAMMA=0.9,\n",
    "    EPSILON=0.3,\n",
    "    EPSILON_DECAY=0.99,\n",
    "    EPSILON_MIN=0.01,\n",
    "    VERBOSE=True,\n",
    "    LEARNING_RATE=0.005,\n",
    "    L1_HIDDEN_UNITS=13,\n",
    "    L2_HIDDEN_UNITS=13,\n",
    "    L1_ACTIVATION='relu',\n",
    "    L2_ACTIVATION='relu',\n",
    "    LOSS_FUNCTION='mean_squared_error',\n",
    "    OPTIMIZER='Adam',\n",
    "    REPLACE_TARGET_ITER=10,\n",
    "    MEMORY_SIZE=400,\n",
    "    BATCH_SIZE=8,\n",
    ")\n",
    "\n",
    "CELLULAR_MODEL_CONFIG = OrderedDict(\n",
    "    NAME='Cellular',\n",
    "    TYPE='Dev',\n",
    "    SERVER='0.0.0.0',\n",
    "    SERVER_PORT='8000',\n",
    "    VERBOSE=True,\n",
    ")\n",
    "\n"
   ]
  },
  {
   "cell_type": "code",
   "execution_count": 3,
   "metadata": {},
   "outputs": [
    {
     "name": "stderr",
     "output_type": "stream",
     "text": [
      "2018-08-10 13:56:07,992 Mingyangs-MacBook-Pro.local Rainman2[54848] INFO Starting experiment!\n",
      "2018-08-10 13:56:07,995 Mingyangs-MacBook-Pro.local Rainman2[54848] INFO Building Environment instance: Cellular\n",
      "2018-08-10 13:56:07,995 Mingyangs-MacBook-Pro.local loadbalanceRL.lib.environment.cellular.base[54848] INFO Instantiating Cellular client: Dev\n",
      "2018-08-10 13:56:08,025 Mingyangs-MacBook-Pro.local DQNCellularAgent[54848] INFO Deep Q-Network instance for cellular network is created!\n",
      "2018-08-10 13:56:08,026 Mingyangs-MacBook-Pro.local DQNCellularAgent[54848] INFO Configuration used for the Agent in DQN:\n",
      "2018-08-10 13:56:08,027 Mingyangs-MacBook-Pro.local DQNCellularAgent[54848] INFO episodes: 2\n",
      "2018-08-10 13:56:08,028 Mingyangs-MacBook-Pro.local DQNCellularAgent[54848] INFO alpha: 0.2\n",
      "2018-08-10 13:56:08,029 Mingyangs-MacBook-Pro.local DQNCellularAgent[54848] INFO gamma: 0.9\n",
      "2018-08-10 13:56:08,030 Mingyangs-MacBook-Pro.local DQNCellularAgent[54848] INFO epsilon: 0.3\n",
      "2018-08-10 13:56:08,032 Mingyangs-MacBook-Pro.local DQNCellularAgent[54848] INFO epsilon_decay: 0.99\n",
      "2018-08-10 13:56:08,033 Mingyangs-MacBook-Pro.local DQNCellularAgent[54848] INFO epsilon_min: 0.01\n",
      "2018-08-10 13:56:08,034 Mingyangs-MacBook-Pro.local DQNCellularAgent[54848] INFO After 10 steps to replace target net\n",
      "2018-08-10 13:56:08,035 Mingyangs-MacBook-Pro.local DQNCellularAgent[54848] INFO Memory Size: 400\n",
      "2018-08-10 13:56:08,036 Mingyangs-MacBook-Pro.local DQNCellularAgent[54848] INFO Batch Size: 8\n",
      "2018-08-10 13:56:08,140 Mingyangs-MacBook-Pro.local QController[54848] INFO Agent: DQN is successfully instantiated!\n",
      "2018-08-10 13:56:08,141 Mingyangs-MacBook-Pro.local QController[54848] INFO Qlearning instance: QlearningForCellular is successfully instantiated!\n",
      "2018-08-10 13:56:08,142 Mingyangs-MacBook-Pro.local QlearningForCellular[54848] INFO Running Qlearning for Cellular Networks!\n",
      "2018-08-10 13:56:08,156 Mingyangs-MacBook-Pro.local CellularNetworkEnv[54848] INFO Resetting the env for the change position of UE!\n"
     ]
    },
    {
     "name": "stdout",
     "output_type": "stream",
     "text": [
      "_________________________________________________________________\n",
      "Layer (type)                 Output Shape              Param #   \n",
      "=================================================================\n",
      "dense_1 (Dense)              (None, 13)                104       \n",
      "_________________________________________________________________\n",
      "activation_1 (Activation)    (None, 13)                0         \n",
      "_________________________________________________________________\n",
      "dense_2 (Dense)              (None, 13)                182       \n",
      "_________________________________________________________________\n",
      "activation_2 (Activation)    (None, 13)                0         \n",
      "_________________________________________________________________\n",
      "dense_3 (Dense)              (None, 2)                 28        \n",
      "=================================================================\n",
      "Total params: 314\n",
      "Trainable params: 314\n",
      "Non-trainable params: 0\n",
      "_________________________________________________________________\n",
      "_________________________________________________________________\n",
      "Layer (type)                 Output Shape              Param #   \n",
      "=================================================================\n",
      "dense_4 (Dense)              (None, 13)                104       \n",
      "_________________________________________________________________\n",
      "activation_3 (Activation)    (None, 13)                0         \n",
      "_________________________________________________________________\n",
      "dense_5 (Dense)              (None, 13)                182       \n",
      "_________________________________________________________________\n",
      "activation_4 (Activation)    (None, 13)                0         \n",
      "_________________________________________________________________\n",
      "dense_6 (Dense)              (None, 2)                 28        \n",
      "=================================================================\n",
      "Total params: 314\n",
      "Trainable params: 314\n",
      "Non-trainable params: 0\n",
      "_________________________________________________________________\n"
     ]
    },
    {
     "name": "stderr",
     "output_type": "stream",
     "text": [
      "2018-08-10 13:56:08,671 Mingyangs-MacBook-Pro.local CellularNetworkEnv[54848] INFO Requesting network to handoff UE: 12 to new AP: 9\n",
      "2018-08-10 13:56:08,724 Mingyangs-MacBook-Pro.local CellularNetworkEnv[54848] INFO Requesting network to handoff UE: 22 to new AP: 2\n",
      "2018-08-10 13:56:08,752 Mingyangs-MacBook-Pro.local CellularNetworkEnv[54848] INFO Requesting network to handoff UE: 27 to new AP: 6\n",
      "2018-08-10 13:56:08,764 Mingyangs-MacBook-Pro.local CellularNetworkEnv[54848] INFO Requesting network to handoff UE: 28 to new AP: 16\n",
      "2018-08-10 13:56:08,785 Mingyangs-MacBook-Pro.local CellularNetworkEnv[54848] INFO Requesting network to handoff UE: 31 to new AP: 12\n",
      "2018-08-10 13:56:08,924 Mingyangs-MacBook-Pro.local CellularNetworkEnv[54848] INFO Requesting network to handoff UE: 61 to new AP: 15\n",
      "2018-08-10 13:56:08,937 Mingyangs-MacBook-Pro.local CellularNetworkEnv[54848] INFO Requesting network to handoff UE: 62 to new AP: 12\n",
      "2018-08-10 13:56:08,981 Mingyangs-MacBook-Pro.local CellularNetworkEnv[54848] INFO Requesting network to handoff UE: 71 to new AP: 11\n",
      "2018-08-10 13:56:09,003 Mingyangs-MacBook-Pro.local CellularNetworkEnv[54848] INFO Requesting network to handoff UE: 74 to new AP: 15\n",
      "2018-08-10 13:56:09,019 Mingyangs-MacBook-Pro.local CellularNetworkEnv[54848] INFO Requesting network to handoff UE: 76 to new AP: 3\n",
      "2018-08-10 13:56:09,153 Mingyangs-MacBook-Pro.local CellularNetworkEnv[54848] INFO Requesting network to handoff UE: 105 to new AP: 5\n",
      "2018-08-10 13:56:09,184 Mingyangs-MacBook-Pro.local CellularNetworkEnv[54848] INFO Requesting network to handoff UE: 110 to new AP: 6\n",
      "2018-08-10 13:56:09,215 Mingyangs-MacBook-Pro.local CellularNetworkEnv[54848] INFO Requesting network to handoff UE: 115 to new AP: 1\n",
      "2018-08-10 13:56:09,400 Mingyangs-MacBook-Pro.local CellularNetworkEnv[54848] INFO Requesting network to handoff UE: 157 to new AP: 3\n",
      "2018-08-10 13:56:09,425 Mingyangs-MacBook-Pro.local CellularNetworkEnv[54848] INFO Requesting network to handoff UE: 161 to new AP: 7\n",
      "2018-08-10 13:56:09,566 Mingyangs-MacBook-Pro.local CellularNetworkEnv[54848] INFO Requesting network to handoff UE: 192 to new AP: 16\n",
      "2018-08-10 13:56:09,611 Mingyangs-MacBook-Pro.local CellularNetworkEnv[54848] INFO Resetting the environment after move in the 1 episode\n",
      "2018-08-10 13:56:09,612 Mingyangs-MacBook-Pro.local CellularNetworkEnv[54848] INFO Getting  numbe of 4 BRs right \n",
      "2018-08-10 13:56:09,777 Mingyangs-MacBook-Pro.local CellularNetworkEnv[54848] INFO UE: 25 is handed off from: 11 to : 7\n",
      "2018-08-10 13:56:09,906 Mingyangs-MacBook-Pro.local CellularNetworkEnv[54848] INFO UE: 51 is handed off from: 6 to : 7\n",
      "2018-08-10 13:56:10,138 Mingyangs-MacBook-Pro.local CellularNetworkEnv[54848] INFO UE: 100 is handed off from: 6 to : 7\n",
      "2018-08-10 13:56:10,225 Mingyangs-MacBook-Pro.local CellularNetworkEnv[54848] INFO UE: 115 is handed off from: 1 to : 5\n",
      "2018-08-10 13:56:10,250 Mingyangs-MacBook-Pro.local CellularNetworkEnv[54848] INFO UE: 118 is handed off from: 6 to : 7\n",
      "2018-08-10 13:56:10,639 Mingyangs-MacBook-Pro.local QlearningForCellular[54848] INFO Episodes stats\n",
      "2018-08-10 13:56:10,640 Mingyangs-MacBook-Pro.local QlearningForCellular[54848] INFO Rewards: [213.   218.25]\n",
      "2018-08-10 13:56:10,641 Mingyangs-MacBook-Pro.local QlearningForCellular[54848] INFO Handoffs: [16.  5.]\n",
      "2018-08-10 13:56:10,642 Mingyangs-MacBook-Pro.local QlearningForCellular[54848] INFO UEs SLA Stats: [173. 156.]\n"
     ]
    },
    {
     "name": "stdout",
     "output_type": "stream",
     "text": [
      "Module: run_experiment took: 3.519502s\n"
     ]
    },
    {
     "name": "stderr",
     "output_type": "stream",
     "text": [
      "[========================================================================] 100%\r\n"
     ]
    }
   ],
   "source": [
    "RAINMAN3.algorithm_config = ALGORITHM_CONFIG\n",
    "RAINMAN3.environment_config = CELLULAR_MODEL_CONFIG\n",
    "result_DQN=RAINMAN3.run_experiment('Cellular', 'Qlearning', 'DQN')"
   ]
  },
  {
   "cell_type": "code",
   "execution_count": 4,
   "metadata": {},
   "outputs": [
    {
     "name": "stdout",
     "output_type": "stream",
     "text": [
      "[<BR {'br_id': 1, 'br_type': 'road', 'location': [0, 1600.0, 555, 655], 'direction': 'WE'}>, <BR {'br_id': 2, 'br_type': 'road', 'location': [0, 1600.0, 149, 249], 'direction': 'WE'}>, <BR {'br_id': 3, 'br_type': 'road', 'location': [460, 560, 0, 1600.0], 'direction': 'NS'}>, <BR {'br_id': 4, 'br_type': 'road', 'location': [906, 1006, 0, 1600.0], 'direction': 'NS'}>]\n"
     ]
    }
   ],
   "source": [
    "print(result_DQN.BR_LIST)"
   ]
  },
  {
   "cell_type": "code",
   "execution_count": 7,
   "metadata": {},
   "outputs": [],
   "source": [
    "\n",
    "# Including the BR dict\n",
    "br_list = result_DQN.BR_LIST\n",
    "\n",
    "\n",
    "  \n",
    "BR_locations=[]\n",
    "BR_locations += [x.location for x in br_list]\n",
    "\n",
    "Rec_dict=[{\n",
    "            'type': 'rect',\n",
    "            'x0': BR_locations[0][0],\n",
    "            'y0': BR_locations[0][2],\n",
    "            'x1': BR_locations[0][1],\n",
    "            'y1': BR_locations[0][3],\n",
    "            'line': {\n",
    "                'color': 'rgba(128, 0, 128, 1)',\n",
    "                'width': 2,\n",
    "            },\n",
    "            'fillcolor': 'rgba(128, 0, 128 0.1)'\n",
    "          }]\n",
    "Rec_dict.append({\n",
    "            'type': 'rect',\n",
    "            'x0': BR_locations[1][0],\n",
    "            'y0': BR_locations[1][2],\n",
    "            'x1': BR_locations[1][1],\n",
    "            'y1': BR_locations[1][3],\n",
    "            'line': {\n",
    "                'color': 'rgba(128, 0, 128, 1)',\n",
    "                'width': 2,\n",
    "            },\n",
    "            'fillcolor': 'rgba(128, 0, 128 0.1)'\n",
    "            })\n",
    "Rec_dict.append({\n",
    "            'type': 'rect',\n",
    "            'x0': BR_locations[2][0],\n",
    "            'y0': BR_locations[2][2],\n",
    "            'x1': BR_locations[2][1],\n",
    "            'y1': BR_locations[2][3],\n",
    "            'line': {\n",
    "                'color': 'rgba(128, 0, 128, 1)',\n",
    "                'width': 2,\n",
    "            },\n",
    "            'fillcolor': 'rgba(128, 0, 128 0.1)'\n",
    "          })\n",
    "\n",
    "Rec_dict.append({\n",
    "            'type': 'rect',\n",
    "            'x0': BR_locations[3][0],\n",
    "            'y0': BR_locations[3][2],\n",
    "            'x1': BR_locations[3][1],\n",
    "            'y1': BR_locations[3][3],\n",
    "            'line': {\n",
    "                'color': 'rgba(128, 0, 128, 1)',\n",
    "                'width': 2,\n",
    "            },\n",
    "            'fillcolor': 'rgba(128, 0, 128 0.1)'\n",
    "          })\n",
    "\n",
    "\n"
   ]
  },
  {
   "cell_type": "code",
   "execution_count": 9,
   "metadata": {},
   "outputs": [],
   "source": [
    "# data represents as the fist frame data for plot\n",
    "data, Frames_data, last_episode,layout_dict = plot_dynamic_data(result_DQN, Rec_dict, ALGORITHM_CONFIG['EPISODES'])\n",
    "\n"
   ]
  },
  {
   "cell_type": "code",
   "execution_count": 10,
   "metadata": {},
   "outputs": [],
   "source": [
    "\n",
    "data_values=data[\"data\"]  \n",
    "\n",
    "# Including the BR dict\n",
    "BR_locations=[]\n",
    "BR_locations += [x.location for x in br_list]\n",
    "\n",
    "Rec_dict=[{\n",
    "            'type': 'rect',\n",
    "            'x0': BR_locations[0][0],\n",
    "            'y0': BR_locations[0][2],\n",
    "            'x1': BR_locations[0][1],\n",
    "            'y1': BR_locations[0][3],\n",
    "            'line': {\n",
    "                'color': 'rgba(128, 0, 128, 1)',\n",
    "                'width': 2,\n",
    "            },\n",
    "            'fillcolor': 'rgba(128, 0, 128 0.1)'\n",
    "          }]\n",
    "Rec_dict.append({\n",
    "            'type': 'rect',\n",
    "            'x0': BR_locations[1][0],\n",
    "            'y0': BR_locations[1][2],\n",
    "            'x1': BR_locations[1][1],\n",
    "            'y1': BR_locations[1][3],\n",
    "            'line': {\n",
    "                'color': 'rgba(128, 0, 128, 1)',\n",
    "                'width': 2,\n",
    "            },\n",
    "            'fillcolor': 'rgba(128, 0, 128 0.1)'\n",
    "            })\n",
    "Rec_dict.append({\n",
    "            'type': 'rect',\n",
    "            'x0': BR_locations[2][0],\n",
    "            'y0': BR_locations[2][2],\n",
    "            'x1': BR_locations[2][1],\n",
    "            'y1': BR_locations[2][3],\n",
    "            'line': {\n",
    "                'color': 'rgba(128, 0, 128, 1)',\n",
    "                'width': 2,\n",
    "            },\n",
    "            'fillcolor': 'rgba(128, 0, 128 0.1)'\n",
    "          })\n",
    "\n",
    "Rec_dict.append({\n",
    "            'type': 'rect',\n",
    "            'x0': BR_locations[3][0],\n",
    "            'y0': BR_locations[3][2],\n",
    "            'x1': BR_locations[3][1],\n",
    "            'y1': BR_locations[3][3],\n",
    "            'line': {\n",
    "                'color': 'rgba(128, 0, 128, 1)',\n",
    "                'width': 2,\n",
    "            },\n",
    "            'fillcolor': 'rgba(128, 0, 128 0.1)'\n",
    "          })\n"
   ]
  },
  {
   "cell_type": "code",
   "execution_count": 11,
   "metadata": {},
   "outputs": [
    {
     "data": {
      "application/vnd.plotly.v1+json": {
       "data": [
        {
         "line": {
          "color": "green",
          "width": 2
         },
         "mode": "lines",
         "type": "scatter",
         "x": [
          600,
          953
         ],
         "y": [
          600,
          528
         ]
        },
        {
         "line": {
          "color": "green",
          "width": 2
         },
         "mode": "lines",
         "type": "scatter",
         "x": [
          1000,
          1166
         ],
         "y": [
          600,
          582
         ]
        },
        {
         "line": {
          "color": "green",
          "width": 2
         },
         "mode": "lines",
         "type": "scatter",
         "x": [
          1000,
          1178
         ],
         "y": [
          1400,
          1287
         ]
        },
        {
         "line": {
          "color": "green",
          "width": 2
         },
         "mode": "lines",
         "type": "scatter",
         "x": [
          1000,
          1041
         ],
         "y": [
          1000,
          1009
         ]
        },
        {
         "line": {
          "color": "green",
          "width": 2
         },
         "mode": "lines",
         "type": "scatter",
         "x": [
          1400,
          1381
         ],
         "y": [
          600,
          796
         ]
        },
        {
         "line": {
          "color": "green",
          "width": 2
         },
         "mode": "lines",
         "type": "scatter",
         "x": [
          600,
          499
         ],
         "y": [
          200,
          293
         ]
        },
        {
         "line": {
          "color": "green",
          "width": 2
         },
         "mode": "lines",
         "type": "scatter",
         "x": [
          200,
          12
         ],
         "y": [
          1000,
          758
         ]
        },
        {
         "line": {
          "color": "red",
          "width": 2
         },
         "mode": "lines",
         "type": "scatter",
         "x": [
          1000,
          602
         ],
         "y": [
          600,
          794
         ]
        },
        {
         "line": {
          "color": "green",
          "width": 2
         },
         "mode": "lines",
         "type": "scatter",
         "x": [
          600,
          706
         ],
         "y": [
          1000,
          968
         ]
        },
        {
         "line": {
          "color": "green",
          "width": 2
         },
         "mode": "lines",
         "type": "scatter",
         "x": [
          1400,
          1411
         ],
         "y": [
          200,
          298
         ]
        },
        {
         "line": {
          "color": "green",
          "width": 2
         },
         "mode": "lines",
         "type": "scatter",
         "x": [
          600,
          596
         ],
         "y": [
          1400,
          1204
         ]
        },
        {
         "line": {
          "color": "green",
          "width": 2
         },
         "mode": "lines",
         "type": "scatter",
         "x": [
          1400,
          1292
         ],
         "y": [
          600,
          423
         ]
        },
        {
         "line": {
          "color": "green",
          "width": 2
         },
         "mode": "lines",
         "type": "scatter",
         "x": [
          600,
          529
         ],
         "y": [
          600,
          562
         ]
        },
        {
         "line": {
          "color": "green",
          "width": 2
         },
         "mode": "lines",
         "type": "scatter",
         "x": [
          1400,
          1447
         ],
         "y": [
          1000,
          655
         ]
        },
        {
         "line": {
          "color": "green",
          "width": 2
         },
         "mode": "lines",
         "type": "scatter",
         "x": [
          600,
          603
         ],
         "y": [
          200,
          500
         ]
        },
        {
         "line": {
          "color": "green",
          "width": 2
         },
         "mode": "lines",
         "type": "scatter",
         "x": [
          1400,
          1464
         ],
         "y": [
          200,
          148
         ]
        },
        {
         "line": {
          "color": "green",
          "width": 2
         },
         "mode": "lines",
         "type": "scatter",
         "x": [
          600,
          959
         ],
         "y": [
          600,
          915
         ]
        },
        {
         "line": {
          "color": "green",
          "width": 2
         },
         "mode": "lines",
         "type": "scatter",
         "x": [
          600,
          748
         ],
         "y": [
          600,
          664
         ]
        },
        {
         "line": {
          "color": "green",
          "width": 2
         },
         "mode": "lines",
         "type": "scatter",
         "x": [
          600,
          691
         ],
         "y": [
          1000,
          1038
         ]
        },
        {
         "line": {
          "color": "green",
          "width": 2
         },
         "mode": "lines",
         "type": "scatter",
         "x": [
          600,
          742
         ],
         "y": [
          200,
          276
         ]
        },
        {
         "line": {
          "color": "red",
          "width": 2
         },
         "mode": "lines",
         "type": "scatter",
         "x": [
          1000,
          702
         ],
         "y": [
          1000,
          957
         ]
        },
        {
         "line": {
          "color": "green",
          "width": 2
         },
         "mode": "lines",
         "type": "scatter",
         "x": [
          200,
          372
         ],
         "y": [
          200,
          235
         ]
        },
        {
         "line": {
          "color": "green",
          "width": 2
         },
         "mode": "lines",
         "type": "scatter",
         "x": [
          1000,
          921
         ],
         "y": [
          1000,
          1158
         ]
        },
        {
         "line": {
          "color": "green",
          "width": 2
         },
         "mode": "lines",
         "type": "scatter",
         "x": [
          200,
          37
         ],
         "y": [
          600,
          504
         ]
        },
        {
         "line": {
          "color": "green",
          "width": 2
         },
         "mode": "lines",
         "type": "scatter",
         "x": [
          1000,
          861
         ],
         "y": [
          1000,
          876
         ]
        },
        {
         "line": {
          "color": "green",
          "width": 2
         },
         "mode": "lines",
         "type": "scatter",
         "x": [
          1400,
          1026
         ],
         "y": [
          600,
          377
         ]
        },
        {
         "line": {
          "color": "green",
          "width": 2
         },
         "mode": "lines",
         "type": "scatter",
         "x": [
          1000,
          938
         ],
         "y": [
          600,
          629
         ]
        },
        {
         "line": {
          "color": "green",
          "width": 2
         },
         "mode": "lines",
         "type": "scatter",
         "x": [
          1400,
          1599
         ],
         "y": [
          1000,
          1173
         ]
        },
        {
         "line": {
          "color": "green",
          "width": 2
         },
         "mode": "lines",
         "type": "scatter",
         "x": [
          600,
          667
         ],
         "y": [
          1000,
          831
         ]
        },
        {
         "line": {
          "color": "green",
          "width": 2
         },
         "mode": "lines",
         "type": "scatter",
         "x": [
          200,
          269
         ],
         "y": [
          1000,
          868
         ]
        },
        {
         "line": {
          "color": "green",
          "width": 2
         },
         "mode": "lines",
         "type": "scatter",
         "x": [
          1400,
          1024
         ],
         "y": [
          1400,
          1578
         ]
        },
        {
         "line": {
          "color": "green",
          "width": 2
         },
         "mode": "lines",
         "type": "scatter",
         "x": [
          1000,
          896
         ],
         "y": [
          1400,
          1347
         ]
        },
        {
         "line": {
          "color": "green",
          "width": 2
         },
         "mode": "lines",
         "type": "scatter",
         "x": [
          1400,
          1527
         ],
         "y": [
          1000,
          1130
         ]
        },
        {
         "line": {
          "color": "green",
          "width": 2
         },
         "mode": "lines",
         "type": "scatter",
         "x": [
          1000,
          1068
         ],
         "y": [
          1000,
          853
         ]
        },
        {
         "line": {
          "color": "green",
          "width": 2
         },
         "mode": "lines",
         "type": "scatter",
         "x": [
          200,
          584
         ],
         "y": [
          1400,
          1097
         ]
        },
        {
         "line": {
          "color": "green",
          "width": 2
         },
         "mode": "lines",
         "type": "scatter",
         "x": [
          200,
          84
         ],
         "y": [
          200,
          128
         ]
        },
        {
         "line": {
          "color": "green",
          "width": 2
         },
         "mode": "lines",
         "type": "scatter",
         "x": [
          1400,
          1492
         ],
         "y": [
          1400,
          1293
         ]
        },
        {
         "line": {
          "color": "green",
          "width": 2
         },
         "mode": "lines",
         "type": "scatter",
         "x": [
          1000,
          1125
         ],
         "y": [
          600,
          517
         ]
        },
        {
         "line": {
          "color": "green",
          "width": 2
         },
         "mode": "lines",
         "type": "scatter",
         "x": [
          600,
          765
         ],
         "y": [
          200,
          121
         ]
        },
        {
         "line": {
          "color": "green",
          "width": 2
         },
         "mode": "lines",
         "type": "scatter",
         "x": [
          1400,
          1099
         ],
         "y": [
          1400,
          1056
         ]
        },
        {
         "line": {
          "color": "red",
          "width": 2
         },
         "mode": "lines",
         "type": "scatter",
         "x": [
          600,
          701
         ],
         "y": [
          200,
          541
         ]
        },
        {
         "line": {
          "color": "green",
          "width": 2
         },
         "mode": "lines",
         "type": "scatter",
         "x": [
          1400,
          1498
         ],
         "y": [
          1000,
          811
         ]
        },
        {
         "line": {
          "color": "green",
          "width": 2
         },
         "mode": "lines",
         "type": "scatter",
         "x": [
          1000,
          971
         ],
         "y": [
          1000,
          902
         ]
        },
        {
         "line": {
          "color": "green",
          "width": 2
         },
         "mode": "lines",
         "type": "scatter",
         "x": [
          1000,
          920
         ],
         "y": [
          600,
          636
         ]
        },
        {
         "line": {
          "color": "red",
          "width": 2
         },
         "mode": "lines",
         "type": "scatter",
         "x": [
          200,
          588
         ],
         "y": [
          600,
          510
         ]
        },
        {
         "line": {
          "color": "green",
          "width": 2
         },
         "mode": "lines",
         "type": "scatter",
         "x": [
          200,
          167
         ],
         "y": [
          200,
          169
         ]
        },
        {
         "line": {
          "color": "green",
          "width": 2
         },
         "mode": "lines",
         "type": "scatter",
         "x": [
          1400,
          1395
         ],
         "y": [
          200,
          291
         ]
        },
        {
         "line": {
          "color": "green",
          "width": 2
         },
         "mode": "lines",
         "type": "scatter",
         "x": [
          200,
          52
         ],
         "y": [
          1000,
          919
         ]
        },
        {
         "line": {
          "color": "green",
          "width": 2
         },
         "mode": "lines",
         "type": "scatter",
         "x": [
          200,
          46
         ],
         "y": [
          1000,
          714
         ]
        },
        {
         "line": {
          "color": "green",
          "width": 2
         },
         "mode": "lines",
         "type": "scatter",
         "x": [
          1000,
          1053
         ],
         "y": [
          600,
          657
         ]
        },
        {
         "line": {
          "color": "red",
          "width": 2
         },
         "mode": "lines",
         "type": "scatter",
         "x": [
          600,
          650
         ],
         "y": [
          600,
          942
         ]
        },
        {
         "line": {
          "color": "green",
          "width": 2
         },
         "mode": "lines",
         "type": "scatter",
         "x": [
          600,
          683
         ],
         "y": [
          1000,
          939
         ]
        },
        {
         "line": {
          "color": "green",
          "width": 2
         },
         "mode": "lines",
         "type": "scatter",
         "x": [
          200,
          203
         ],
         "y": [
          600,
          561
         ]
        },
        {
         "line": {
          "color": "green",
          "width": 2
         },
         "mode": "lines",
         "type": "scatter",
         "x": [
          600,
          247
         ],
         "y": [
          200,
          154
         ]
        },
        {
         "line": {
          "color": "green",
          "width": 2
         },
         "mode": "lines",
         "type": "scatter",
         "x": [
          600,
          659
         ],
         "y": [
          1400,
          1203
         ]
        },
        {
         "line": {
          "color": "green",
          "width": 2
         },
         "mode": "lines",
         "type": "scatter",
         "x": [
          1000,
          1027
         ],
         "y": [
          1400,
          1587
         ]
        },
        {
         "line": {
          "color": "green",
          "width": 2
         },
         "mode": "lines",
         "type": "scatter",
         "x": [
          1000,
          1155
         ],
         "y": [
          1400,
          1463
         ]
        },
        {
         "line": {
          "color": "green",
          "width": 2
         },
         "mode": "lines",
         "type": "scatter",
         "x": [
          1000,
          925
         ],
         "y": [
          600,
          753
         ]
        },
        {
         "line": {
          "color": "green",
          "width": 2
         },
         "mode": "lines",
         "type": "scatter",
         "x": [
          600,
          747
         ],
         "y": [
          200,
          79
         ]
        },
        {
         "line": {
          "color": "green",
          "width": 2
         },
         "mode": "lines",
         "type": "scatter",
         "x": [
          1000,
          1193
         ],
         "y": [
          1400,
          1439
         ]
        },
        {
         "line": {
          "color": "green",
          "width": 2
         },
         "mode": "lines",
         "type": "scatter",
         "x": [
          1000,
          1103
         ],
         "y": [
          1000,
          1067
         ]
        },
        {
         "line": {
          "color": "green",
          "width": 2
         },
         "mode": "lines",
         "type": "scatter",
         "x": [
          600,
          944
         ],
         "y": [
          1400,
          1502
         ]
        },
        {
         "line": {
          "color": "green",
          "width": 2
         },
         "mode": "lines",
         "type": "scatter",
         "x": [
          600,
          618
         ],
         "y": [
          1000,
          1198
         ]
        },
        {
         "line": {
          "color": "green",
          "width": 2
         },
         "mode": "lines",
         "type": "scatter",
         "x": [
          600,
          922
         ],
         "y": [
          200,
          154
         ]
        },
        {
         "line": {
          "color": "green",
          "width": 2
         },
         "mode": "lines",
         "type": "scatter",
         "x": [
          600,
          672
         ],
         "y": [
          1400,
          1072
         ]
        },
        {
         "line": {
          "color": "green",
          "width": 2
         },
         "mode": "lines",
         "type": "scatter",
         "x": [
          200,
          126
         ],
         "y": [
          600,
          332
         ]
        },
        {
         "line": {
          "color": "red",
          "width": 2
         },
         "mode": "lines",
         "type": "scatter",
         "x": [
          600,
          546
         ],
         "y": [
          600,
          858
         ]
        },
        {
         "line": {
          "color": "green",
          "width": 2
         },
         "mode": "lines",
         "type": "scatter",
         "x": [
          200,
          119
         ],
         "y": [
          600,
          444
         ]
        },
        {
         "line": {
          "color": "red",
          "width": 2
         },
         "mode": "lines",
         "type": "scatter",
         "x": [
          600,
          897
         ],
         "y": [
          1000,
          852
         ]
        },
        {
         "line": {
          "color": "green",
          "width": 2
         },
         "mode": "lines",
         "type": "scatter",
         "x": [
          1400,
          1491
         ],
         "y": [
          200,
          12
         ]
        },
        {
         "line": {
          "color": "green",
          "width": 2
         },
         "mode": "lines",
         "type": "scatter",
         "x": [
          600,
          800
         ],
         "y": [
          1000,
          1120
         ]
        },
        {
         "line": {
          "color": "green",
          "width": 2
         },
         "mode": "lines",
         "type": "scatter",
         "x": [
          1000,
          1185
         ],
         "y": [
          1000,
          1064
         ]
        },
        {
         "line": {
          "color": "green",
          "width": 2
         },
         "mode": "lines",
         "type": "scatter",
         "x": [
          600,
          615
         ],
         "y": [
          1000,
          941
         ]
        },
        {
         "line": {
          "color": "green",
          "width": 2
         },
         "mode": "lines",
         "type": "scatter",
         "x": [
          1000,
          1167
         ],
         "y": [
          600,
          938
         ]
        },
        {
         "line": {
          "color": "green",
          "width": 2
         },
         "mode": "lines",
         "type": "scatter",
         "x": [
          200,
          270
         ],
         "y": [
          1000,
          1064
         ]
        },
        {
         "line": {
          "color": "green",
          "width": 2
         },
         "mode": "lines",
         "type": "scatter",
         "x": [
          600,
          537
         ],
         "y": [
          1000,
          814
         ]
        },
        {
         "line": {
          "color": "green",
          "width": 2
         },
         "mode": "lines",
         "type": "scatter",
         "x": [
          1000,
          816
         ],
         "y": [
          1000,
          1008
         ]
        },
        {
         "line": {
          "color": "green",
          "width": 2
         },
         "mode": "lines",
         "type": "scatter",
         "x": [
          1400,
          1379
         ],
         "y": [
          1400,
          1306
         ]
        },
        {
         "line": {
          "color": "green",
          "width": 2
         },
         "mode": "lines",
         "type": "scatter",
         "x": [
          600,
          626
         ],
         "y": [
          600,
          781
         ]
        },
        {
         "line": {
          "color": "red",
          "width": 2
         },
         "mode": "lines",
         "type": "scatter",
         "x": [
          1000,
          836
         ],
         "y": [
          1000,
          675
         ]
        },
        {
         "line": {
          "color": "red",
          "width": 2
         },
         "mode": "lines",
         "type": "scatter",
         "x": [
          1000,
          851
         ],
         "y": [
          1000,
          852
         ]
        },
        {
         "line": {
          "color": "red",
          "width": 2
         },
         "mode": "lines",
         "type": "scatter",
         "x": [
          600,
          609
         ],
         "y": [
          1000,
          686
         ]
        },
        {
         "line": {
          "color": "green",
          "width": 2
         },
         "mode": "lines",
         "type": "scatter",
         "x": [
          1000,
          840
         ],
         "y": [
          600,
          749
         ]
        },
        {
         "line": {
          "color": "green",
          "width": 2
         },
         "mode": "lines",
         "type": "scatter",
         "x": [
          1000,
          1092
         ],
         "y": [
          200,
          360
         ]
        },
        {
         "line": {
          "color": "green",
          "width": 2
         },
         "mode": "lines",
         "type": "scatter",
         "x": [
          200,
          281
         ],
         "y": [
          200,
          138
         ]
        },
        {
         "line": {
          "color": "green",
          "width": 2
         },
         "mode": "lines",
         "type": "scatter",
         "x": [
          200,
          86
         ],
         "y": [
          600,
          688
         ]
        },
        {
         "line": {
          "color": "green",
          "width": 2
         },
         "mode": "lines",
         "type": "scatter",
         "x": [
          600,
          491
         ],
         "y": [
          200,
          277
         ]
        },
        {
         "line": {
          "color": "green",
          "width": 2
         },
         "mode": "lines",
         "type": "scatter",
         "x": [
          200,
          356
         ],
         "y": [
          600,
          607
         ]
        },
        {
         "line": {
          "color": "green",
          "width": 2
         },
         "mode": "lines",
         "type": "scatter",
         "x": [
          200,
          351
         ],
         "y": [
          1400,
          1595
         ]
        },
        {
         "line": {
          "color": "green",
          "width": 2
         },
         "mode": "lines",
         "type": "scatter",
         "x": [
          1000,
          1084
         ],
         "y": [
          200,
          117
         ]
        },
        {
         "line": {
          "color": "green",
          "width": 2
         },
         "mode": "lines",
         "type": "scatter",
         "x": [
          200,
          168
         ],
         "y": [
          600,
          945
         ]
        },
        {
         "line": {
          "color": "red",
          "width": 2
         },
         "mode": "lines",
         "type": "scatter",
         "x": [
          600,
          768
         ],
         "y": [
          1000,
          1028
         ]
        },
        {
         "line": {
          "color": "green",
          "width": 2
         },
         "mode": "lines",
         "type": "scatter",
         "x": [
          1400,
          1406
         ],
         "y": [
          1000,
          620
         ]
        },
        {
         "line": {
          "color": "green",
          "width": 2
         },
         "mode": "lines",
         "type": "scatter",
         "x": [
          1400,
          1491
         ],
         "y": [
          200,
          133
         ]
        },
        {
         "line": {
          "color": "green",
          "width": 2
         },
         "mode": "lines",
         "type": "scatter",
         "x": [
          1000,
          826
         ],
         "y": [
          1400,
          1532
         ]
        },
        {
         "line": {
          "color": "green",
          "width": 2
         },
         "mode": "lines",
         "type": "scatter",
         "x": [
          1400,
          1584
         ],
         "y": [
          1400,
          1048
         ]
        },
        {
         "line": {
          "color": "green",
          "width": 2
         },
         "mode": "lines",
         "type": "scatter",
         "x": [
          1000,
          1069
         ],
         "y": [
          1000,
          803
         ]
        },
        {
         "line": {
          "color": "green",
          "width": 2
         },
         "mode": "lines",
         "type": "scatter",
         "x": [
          600,
          539
         ],
         "y": [
          1400,
          1096
         ]
        },
        {
         "line": {
          "color": "green",
          "width": 2
         },
         "mode": "lines",
         "type": "scatter",
         "x": [
          200,
          514
         ],
         "y": [
          600,
          827
         ]
        },
        {
         "line": {
          "color": "red",
          "width": 2
         },
         "mode": "lines",
         "type": "scatter",
         "x": [
          600,
          590
         ],
         "y": [
          600,
          965
         ]
        },
        {
         "line": {
          "color": "green",
          "width": 2
         },
         "mode": "lines",
         "type": "scatter",
         "x": [
          1000,
          819
         ],
         "y": [
          600,
          478
         ]
        },
        {
         "line": {
          "color": "green",
          "width": 2
         },
         "mode": "lines",
         "type": "scatter",
         "x": [
          200,
          347
         ],
         "y": [
          1000,
          972
         ]
        },
        {
         "line": {
          "color": "red",
          "width": 2
         },
         "mode": "lines",
         "type": "scatter",
         "x": [
          1000,
          796
         ],
         "y": [
          600,
          546
         ]
        },
        {
         "line": {
          "color": "green",
          "width": 2
         },
         "mode": "lines",
         "type": "scatter",
         "x": [
          200,
          339
         ],
         "y": [
          600,
          568
         ]
        },
        {
         "line": {
          "color": "green",
          "width": 2
         },
         "mode": "lines",
         "type": "scatter",
         "x": [
          1000,
          933
         ],
         "y": [
          200,
          179
         ]
        },
        {
         "line": {
          "color": "green",
          "width": 2
         },
         "mode": "lines",
         "type": "scatter",
         "x": [
          200,
          81
         ],
         "y": [
          600,
          906
         ]
        },
        {
         "line": {
          "color": "green",
          "width": 2
         },
         "mode": "lines",
         "type": "scatter",
         "x": [
          200,
          138
         ],
         "y": [
          1000,
          1080
         ]
        },
        {
         "line": {
          "color": "green",
          "width": 2
         },
         "mode": "lines",
         "type": "scatter",
         "x": [
          200,
          42
         ],
         "y": [
          600,
          510
         ]
        },
        {
         "line": {
          "color": "green",
          "width": 2
         },
         "mode": "lines",
         "type": "scatter",
         "x": [
          200,
          208
         ],
         "y": [
          1400,
          1568
         ]
        },
        {
         "line": {
          "color": "green",
          "width": 2
         },
         "mode": "lines",
         "type": "scatter",
         "x": [
          200,
          259
         ],
         "y": [
          600,
          472
         ]
        },
        {
         "line": {
          "color": "green",
          "width": 2
         },
         "mode": "lines",
         "type": "scatter",
         "x": [
          1400,
          1555
         ],
         "y": [
          600,
          700
         ]
        },
        {
         "line": {
          "color": "green",
          "width": 2
         },
         "mode": "lines",
         "type": "scatter",
         "x": [
          1000,
          995
         ],
         "y": [
          1400,
          1547
         ]
        },
        {
         "line": {
          "color": "green",
          "width": 2
         },
         "mode": "lines",
         "type": "scatter",
         "x": [
          1400,
          1472
         ],
         "y": [
          200,
          287
         ]
        },
        {
         "line": {
          "color": "green",
          "width": 2
         },
         "mode": "lines",
         "type": "scatter",
         "x": [
          600,
          728
         ],
         "y": [
          200,
          334
         ]
        },
        {
         "line": {
          "color": "green",
          "width": 2
         },
         "mode": "lines",
         "type": "scatter",
         "x": [
          600,
          414
         ],
         "y": [
          200,
          32
         ]
        },
        {
         "line": {
          "color": "green",
          "width": 2
         },
         "mode": "lines",
         "type": "scatter",
         "x": [
          200,
          199
         ],
         "y": [
          200,
          214
         ]
        },
        {
         "line": {
          "color": "green",
          "width": 2
         },
         "mode": "lines",
         "type": "scatter",
         "x": [
          1000,
          1138
         ],
         "y": [
          600,
          575
         ]
        },
        {
         "line": {
          "color": "green",
          "width": 2
         },
         "mode": "lines",
         "type": "scatter",
         "x": [
          600,
          521
         ],
         "y": [
          600,
          949
         ]
        },
        {
         "line": {
          "color": "green",
          "width": 2
         },
         "mode": "lines",
         "type": "scatter",
         "x": [
          600,
          696
         ],
         "y": [
          1400,
          1241
         ]
        },
        {
         "line": {
          "color": "green",
          "width": 2
         },
         "mode": "lines",
         "type": "scatter",
         "x": [
          1400,
          1382
         ],
         "y": [
          600,
          596
         ]
        },
        {
         "line": {
          "color": "green",
          "width": 2
         },
         "mode": "lines",
         "type": "scatter",
         "x": [
          1000,
          1240
         ],
         "y": [
          1000,
          1188
         ]
        },
        {
         "line": {
          "color": "red",
          "width": 2
         },
         "mode": "lines",
         "type": "scatter",
         "x": [
          1000,
          1057
         ],
         "y": [
          1000,
          989
         ]
        },
        {
         "line": {
          "color": "green",
          "width": 2
         },
         "mode": "lines",
         "type": "scatter",
         "x": [
          200,
          302
         ],
         "y": [
          1400,
          1508
         ]
        },
        {
         "line": {
          "color": "green",
          "width": 2
         },
         "mode": "lines",
         "type": "scatter",
         "x": [
          1000,
          698
         ],
         "y": [
          600,
          536
         ]
        },
        {
         "line": {
          "color": "green",
          "width": 2
         },
         "mode": "lines",
         "type": "scatter",
         "x": [
          600,
          575
         ],
         "y": [
          1400,
          1452
         ]
        },
        {
         "line": {
          "color": "green",
          "width": 2
         },
         "mode": "lines",
         "type": "scatter",
         "x": [
          1400,
          1499
         ],
         "y": [
          600,
          416
         ]
        },
        {
         "line": {
          "color": "green",
          "width": 2
         },
         "mode": "lines",
         "type": "scatter",
         "x": [
          200,
          242
         ],
         "y": [
          600,
          596
         ]
        },
        {
         "line": {
          "color": "green",
          "width": 2
         },
         "mode": "lines",
         "type": "scatter",
         "x": [
          1400,
          1451
         ],
         "y": [
          600,
          528
         ]
        },
        {
         "line": {
          "color": "green",
          "width": 2
         },
         "mode": "lines",
         "type": "scatter",
         "x": [
          200,
          171
         ],
         "y": [
          1400,
          1237
         ]
        },
        {
         "line": {
          "color": "green",
          "width": 2
         },
         "mode": "lines",
         "type": "scatter",
         "x": [
          1400,
          1538
         ],
         "y": [
          1000,
          959
         ]
        },
        {
         "line": {
          "color": "green",
          "width": 2
         },
         "mode": "lines",
         "type": "scatter",
         "x": [
          600,
          569
         ],
         "y": [
          600,
          633
         ]
        },
        {
         "line": {
          "color": "green",
          "width": 2
         },
         "mode": "lines",
         "type": "scatter",
         "x": [
          600,
          677
         ],
         "y": [
          1400,
          1091
         ]
        },
        {
         "line": {
          "color": "green",
          "width": 2
         },
         "mode": "lines",
         "type": "scatter",
         "x": [
          1000,
          972
         ],
         "y": [
          600,
          855
         ]
        },
        {
         "line": {
          "color": "green",
          "width": 2
         },
         "mode": "lines",
         "type": "scatter",
         "x": [
          1000,
          951
         ],
         "y": [
          1000,
          914
         ]
        },
        {
         "line": {
          "color": "green",
          "width": 2
         },
         "mode": "lines",
         "type": "scatter",
         "x": [
          200,
          294
         ],
         "y": [
          1400,
          1443
         ]
        },
        {
         "line": {
          "color": "red",
          "width": 2
         },
         "mode": "lines",
         "type": "scatter",
         "x": [
          600,
          651
         ],
         "y": [
          600,
          728
         ]
        },
        {
         "line": {
          "color": "green",
          "width": 2
         },
         "mode": "lines",
         "type": "scatter",
         "x": [
          600,
          773
         ],
         "y": [
          1000,
          807
         ]
        },
        {
         "line": {
          "color": "green",
          "width": 2
         },
         "mode": "lines",
         "type": "scatter",
         "x": [
          200,
          134
         ],
         "y": [
          1000,
          1000
         ]
        },
        {
         "line": {
          "color": "green",
          "width": 2
         },
         "mode": "lines",
         "type": "scatter",
         "x": [
          200,
          158
         ],
         "y": [
          600,
          746
         ]
        },
        {
         "line": {
          "color": "green",
          "width": 2
         },
         "mode": "lines",
         "type": "scatter",
         "x": [
          600,
          629
         ],
         "y": [
          200,
          150
         ]
        },
        {
         "line": {
          "color": "green",
          "width": 2
         },
         "mode": "lines",
         "type": "scatter",
         "x": [
          1000,
          847
         ],
         "y": [
          200,
          114
         ]
        },
        {
         "line": {
          "color": "green",
          "width": 2
         },
         "mode": "lines",
         "type": "scatter",
         "x": [
          1400,
          1392
         ],
         "y": [
          1000,
          847
         ]
        },
        {
         "line": {
          "color": "green",
          "width": 2
         },
         "mode": "lines",
         "type": "scatter",
         "x": [
          600,
          524
         ],
         "y": [
          200,
          222
         ]
        },
        {
         "line": {
          "color": "green",
          "width": 2
         },
         "mode": "lines",
         "type": "scatter",
         "x": [
          200,
          222
         ],
         "y": [
          600,
          630
         ]
        },
        {
         "line": {
          "color": "green",
          "width": 2
         },
         "mode": "lines",
         "type": "scatter",
         "x": [
          1000,
          1178
         ],
         "y": [
          200,
          385
         ]
        },
        {
         "line": {
          "color": "green",
          "width": 2
         },
         "mode": "lines",
         "type": "scatter",
         "x": [
          1400,
          1361
         ],
         "y": [
          1000,
          851
         ]
        },
        {
         "line": {
          "color": "green",
          "width": 2
         },
         "mode": "lines",
         "type": "scatter",
         "x": [
          600,
          752
         ],
         "y": [
          1400,
          1246
         ]
        },
        {
         "line": {
          "color": "green",
          "width": 2
         },
         "mode": "lines",
         "type": "scatter",
         "x": [
          1000,
          829
         ],
         "y": [
          1000,
          1386
         ]
        },
        {
         "line": {
          "color": "green",
          "width": 2
         },
         "mode": "lines",
         "type": "scatter",
         "x": [
          200,
          171
         ],
         "y": [
          1400,
          1468
         ]
        },
        {
         "line": {
          "color": "red",
          "width": 2
         },
         "mode": "lines",
         "type": "scatter",
         "x": [
          600,
          516
         ],
         "y": [
          600,
          896
         ]
        },
        {
         "line": {
          "color": "green",
          "width": 2
         },
         "mode": "lines",
         "type": "scatter",
         "x": [
          1000,
          1021
         ],
         "y": [
          600,
          660
         ]
        },
        {
         "line": {
          "color": "green",
          "width": 2
         },
         "mode": "lines",
         "type": "scatter",
         "x": [
          600,
          594
         ],
         "y": [
          1000,
          672
         ]
        },
        {
         "line": {
          "color": "green",
          "width": 2
         },
         "mode": "lines",
         "type": "scatter",
         "x": [
          200,
          186
         ],
         "y": [
          1400,
          1415
         ]
        },
        {
         "line": {
          "color": "green",
          "width": 2
         },
         "mode": "lines",
         "type": "scatter",
         "x": [
          200,
          162
         ],
         "y": [
          200,
          172
         ]
        },
        {
         "line": {
          "color": "green",
          "width": 2
         },
         "mode": "lines",
         "type": "scatter",
         "x": [
          1400,
          1594
         ],
         "y": [
          1400,
          1461
         ]
        },
        {
         "line": {
          "color": "green",
          "width": 2
         },
         "mode": "lines",
         "type": "scatter",
         "x": [
          1000,
          921
         ],
         "y": [
          600,
          543
         ]
        },
        {
         "line": {
          "color": "green",
          "width": 2
         },
         "mode": "lines",
         "type": "scatter",
         "x": [
          600,
          591
         ],
         "y": [
          1400,
          1070
         ]
        },
        {
         "line": {
          "color": "green",
          "width": 2
         },
         "mode": "lines",
         "type": "scatter",
         "x": [
          600,
          609
         ],
         "y": [
          1400,
          1341
         ]
        },
        {
         "line": {
          "color": "green",
          "width": 2
         },
         "mode": "lines",
         "type": "scatter",
         "x": [
          1400,
          1450
         ],
         "y": [
          200,
          69
         ]
        },
        {
         "line": {
          "color": "red",
          "width": 2
         },
         "mode": "lines",
         "type": "scatter",
         "x": [
          1000,
          796
         ],
         "y": [
          600,
          546
         ]
        },
        {
         "line": {
          "color": "green",
          "width": 2
         },
         "mode": "lines",
         "type": "scatter",
         "x": [
          200,
          338
         ],
         "y": [
          600,
          687
         ]
        },
        {
         "line": {
          "color": "green",
          "width": 2
         },
         "mode": "lines",
         "type": "scatter",
         "x": [
          600,
          426
         ],
         "y": [
          1400,
          1332
         ]
        },
        {
         "line": {
          "color": "green",
          "width": 2
         },
         "mode": "lines",
         "type": "scatter",
         "x": [
          1400,
          1294
         ],
         "y": [
          600,
          579
         ]
        },
        {
         "line": {
          "color": "green",
          "width": 2
         },
         "mode": "lines",
         "type": "scatter",
         "x": [
          1400,
          1252
         ],
         "y": [
          1000,
          1148
         ]
        },
        {
         "line": {
          "color": "red",
          "width": 2
         },
         "mode": "lines",
         "type": "scatter",
         "x": [
          600,
          906
         ],
         "y": [
          600,
          555
         ]
        },
        {
         "line": {
          "color": "red",
          "width": 2
         },
         "mode": "lines",
         "type": "scatter",
         "x": [
          600,
          632
         ],
         "y": [
          200,
          538
         ]
        },
        {
         "line": {
          "color": "green",
          "width": 2
         },
         "mode": "lines",
         "type": "scatter",
         "x": [
          1400,
          1238
         ],
         "y": [
          200,
          210
         ]
        },
        {
         "line": {
          "color": "green",
          "width": 2
         },
         "mode": "lines",
         "type": "scatter",
         "x": [
          200,
          249
         ],
         "y": [
          200,
          101
         ]
        },
        {
         "line": {
          "color": "green",
          "width": 2
         },
         "mode": "lines",
         "type": "scatter",
         "x": [
          1000,
          648
         ],
         "y": [
          1400,
          1449
         ]
        },
        {
         "line": {
          "color": "green",
          "width": 2
         },
         "mode": "lines",
         "type": "scatter",
         "x": [
          200,
          307
         ],
         "y": [
          1400,
          1262
         ]
        },
        {
         "line": {
          "color": "green",
          "width": 2
         },
         "mode": "lines",
         "type": "scatter",
         "x": [
          1000,
          1039
         ],
         "y": [
          1000,
          1084
         ]
        },
        {
         "line": {
          "color": "red",
          "width": 2
         },
         "mode": "lines",
         "type": "scatter",
         "x": [
          1000,
          1062
         ],
         "y": [
          1000,
          999
         ]
        },
        {
         "line": {
          "color": "red",
          "width": 2
         },
         "mode": "lines",
         "type": "scatter",
         "x": [
          600,
          818
         ],
         "y": [
          1000,
          887
         ]
        },
        {
         "line": {
          "color": "red",
          "width": 2
         },
         "mode": "lines",
         "type": "scatter",
         "x": [
          1000,
          956
         ],
         "y": [
          1000,
          674
         ]
        },
        {
         "line": {
          "color": "green",
          "width": 2
         },
         "mode": "lines",
         "type": "scatter",
         "x": [
          1000,
          985
         ],
         "y": [
          1400,
          1464
         ]
        },
        {
         "line": {
          "color": "green",
          "width": 2
         },
         "mode": "lines",
         "type": "scatter",
         "x": [
          1000,
          1084
         ],
         "y": [
          1400,
          1162
         ]
        },
        {
         "line": {
          "color": "green",
          "width": 2
         },
         "mode": "lines",
         "type": "scatter",
         "x": [
          1000,
          990
         ],
         "y": [
          1000,
          802
         ]
        },
        {
         "line": {
          "color": "green",
          "width": 2
         },
         "mode": "lines",
         "type": "scatter",
         "x": [
          1000,
          1139
         ],
         "y": [
          200,
          437
         ]
        },
        {
         "line": {
          "color": "red",
          "width": 2
         },
         "mode": "lines",
         "type": "scatter",
         "x": [
          1000,
          1091
         ],
         "y": [
          1000,
          817
         ]
        },
        {
         "line": {
          "color": "red",
          "width": 2
         },
         "mode": "lines",
         "type": "scatter",
         "x": [
          1000,
          968
         ],
         "y": [
          1000,
          635
         ]
        },
        {
         "line": {
          "color": "green",
          "width": 2
         },
         "mode": "lines",
         "type": "scatter",
         "x": [
          1000,
          1153
         ],
         "y": [
          200,
          436
         ]
        },
        {
         "line": {
          "color": "green",
          "width": 2
         },
         "mode": "lines",
         "type": "scatter",
         "x": [
          1000,
          1180
         ],
         "y": [
          1000,
          756
         ]
        },
        {
         "line": {
          "color": "green",
          "width": 2
         },
         "mode": "lines",
         "type": "scatter",
         "x": [
          600,
          545
         ],
         "y": [
          200,
          268
         ]
        },
        {
         "line": {
          "color": "green",
          "width": 2
         },
         "mode": "lines",
         "type": "scatter",
         "x": [
          1400,
          1317
         ],
         "y": [
          1000,
          862
         ]
        },
        {
         "line": {
          "color": "green",
          "width": 2
         },
         "mode": "lines",
         "type": "scatter",
         "x": [
          600,
          629
         ],
         "y": [
          1400,
          1379
         ]
        },
        {
         "line": {
          "color": "green",
          "width": 2
         },
         "mode": "lines",
         "type": "scatter",
         "x": [
          1000,
          1134
         ],
         "y": [
          1400,
          1461
         ]
        },
        {
         "line": {
          "color": "green",
          "width": 2
         },
         "mode": "lines",
         "type": "scatter",
         "x": [
          600,
          733
         ],
         "y": [
          1000,
          778
         ]
        },
        {
         "line": {
          "color": "green",
          "width": 2
         },
         "mode": "lines",
         "type": "scatter",
         "x": [
          200,
          201
         ],
         "y": [
          600,
          746
         ]
        },
        {
         "line": {
          "color": "green",
          "width": 2
         },
         "mode": "lines",
         "type": "scatter",
         "x": [
          600,
          536
         ],
         "y": [
          200,
          139
         ]
        },
        {
         "line": {
          "color": "red",
          "width": 2
         },
         "mode": "lines",
         "type": "scatter",
         "x": [
          600,
          675
         ],
         "y": [
          1000,
          883
         ]
        },
        {
         "line": {
          "color": "green",
          "width": 2
         },
         "mode": "lines",
         "type": "scatter",
         "x": [
          200,
          249
         ],
         "y": [
          1000,
          942
         ]
        },
        {
         "line": {
          "color": "green",
          "width": 2
         },
         "mode": "lines",
         "type": "scatter",
         "x": [
          1400,
          1530
         ],
         "y": [
          1000,
          1118
         ]
        },
        {
         "line": {
          "color": "green",
          "width": 2
         },
         "mode": "lines",
         "type": "scatter",
         "x": [
          200,
          191
         ],
         "y": [
          1000,
          913
         ]
        },
        {
         "line": {
          "color": "green",
          "width": 2
         },
         "mode": "lines",
         "type": "scatter",
         "x": [
          1000,
          1067
         ],
         "y": [
          600,
          529
         ]
        },
        {
         "line": {
          "color": "green",
          "width": 2
         },
         "mode": "lines",
         "type": "scatter",
         "x": [
          1000,
          1105
         ],
         "y": [
          200,
          145
         ]
        },
        {
         "line": {
          "color": "green",
          "width": 2
         },
         "mode": "lines",
         "type": "scatter",
         "x": [
          200,
          209
         ],
         "y": [
          1400,
          1255
         ]
        },
        {
         "line": {
          "color": "green",
          "width": 2
         },
         "mode": "lines",
         "type": "scatter",
         "x": [
          200,
          232
         ],
         "y": [
          1400,
          1591
         ]
        },
        {
         "line": {
          "color": "green",
          "width": 2
         },
         "mode": "lines",
         "type": "scatter",
         "x": [
          1000,
          845
         ],
         "y": [
          1000,
          1116
         ]
        },
        {
         "line": {
          "color": "red",
          "width": 2
         },
         "mode": "lines",
         "type": "scatter",
         "x": [
          1000,
          634
         ],
         "y": [
          600,
          627
         ]
        },
        {
         "line": {
          "color": "green",
          "width": 2
         },
         "mode": "lines",
         "type": "scatter",
         "x": [
          1000,
          1120
         ],
         "y": [
          1000,
          910
         ]
        },
        {
         "line": {
          "color": "black",
          "width": 2
         },
         "mode": "lines",
         "type": "scatter",
         "x": [
          812,
          812
         ],
         "y": [
          0,
          1600
         ]
        },
        {
         "line": {
          "color": "black",
          "width": 2
         },
         "mode": "lines",
         "type": "scatter",
         "x": [
          812,
          912
         ],
         "y": [
          1600,
          1600
         ]
        },
        {
         "line": {
          "color": "black",
          "width": 2
         },
         "mode": "lines",
         "type": "scatter",
         "x": [
          912,
          912
         ],
         "y": [
          1600,
          0
         ]
        },
        {
         "line": {
          "color": "black",
          "width": 2
         },
         "mode": "lines",
         "type": "scatter",
         "x": [
          812,
          912
         ],
         "y": [
          0,
          0
         ]
        },
        {
         "line": {
          "color": "black",
          "width": 2
         },
         "mode": "lines",
         "type": "scatter",
         "x": [
          0,
          0
         ],
         "y": [
          257,
          357
         ]
        },
        {
         "line": {
          "color": "black",
          "width": 2
         },
         "mode": "lines",
         "type": "scatter",
         "x": [
          0,
          1600
         ],
         "y": [
          357,
          357
         ]
        },
        {
         "line": {
          "color": "black",
          "width": 2
         },
         "mode": "lines",
         "type": "scatter",
         "x": [
          1600,
          1600
         ],
         "y": [
          357,
          257
         ]
        },
        {
         "line": {
          "color": "black",
          "width": 2
         },
         "mode": "lines",
         "type": "scatter",
         "x": [
          0,
          1600
         ],
         "y": [
          257,
          257
         ]
        },
        {
         "line": {
          "color": "black",
          "width": 2
         },
         "mode": "lines",
         "type": "scatter",
         "x": [
          0,
          0
         ],
         "y": [
          85,
          185
         ]
        },
        {
         "line": {
          "color": "black",
          "width": 2
         },
         "mode": "lines",
         "type": "scatter",
         "x": [
          0,
          1600
         ],
         "y": [
          185,
          185
         ]
        },
        {
         "line": {
          "color": "black",
          "width": 2
         },
         "mode": "lines",
         "type": "scatter",
         "x": [
          1600,
          1600
         ],
         "y": [
          185,
          85
         ]
        },
        {
         "line": {
          "color": "black",
          "width": 2
         },
         "mode": "lines",
         "type": "scatter",
         "x": [
          0,
          1600
         ],
         "y": [
          85,
          85
         ]
        },
        {
         "line": {
          "color": "black",
          "width": 2
         },
         "mode": "lines",
         "type": "scatter",
         "x": [
          465,
          465
         ],
         "y": [
          80,
          260
         ]
        },
        {
         "line": {
          "color": "black",
          "width": 2
         },
         "mode": "lines",
         "type": "scatter",
         "x": [
          465,
          556
         ],
         "y": [
          260,
          260
         ]
        },
        {
         "line": {
          "color": "black",
          "width": 2
         },
         "mode": "lines",
         "type": "scatter",
         "x": [
          556,
          556
         ],
         "y": [
          260,
          80
         ]
        },
        {
         "line": {
          "color": "black",
          "width": 2
         },
         "mode": "lines",
         "type": "scatter",
         "x": [
          465,
          556
         ],
         "y": [
          80,
          80
         ]
        },
        {
         "marker": {
          "color": [
           "orange",
           "orange",
           "orange",
           "orange",
           "orange",
           "orange",
           "orange",
           "orange",
           "orange",
           "orange",
           "orange",
           "orange",
           "orange",
           "orange",
           "orange",
           "orange",
           "blue",
           "magenta",
           "magenta",
           "blue",
           "magenta",
           "magenta",
           "magenta",
           "blue",
           "magenta",
           "magenta",
           "magenta",
           "magenta",
           "blue",
           "magenta",
           "blue",
           "magenta",
           "blue",
           "blue",
           "blue",
           "magenta",
           "blue",
           "magenta",
           "magenta",
           "magenta",
           "magenta",
           "magenta",
           "blue",
           "magenta",
           "blue",
           "magenta",
           "magenta",
           "magenta",
           "magenta",
           "blue",
           "blue",
           "magenta",
           "magenta",
           "magenta",
           "magenta",
           "magenta",
           "blue",
           "magenta",
           "magenta",
           "blue",
           "blue",
           "magenta",
           "magenta",
           "magenta",
           "magenta",
           "magenta",
           "blue",
           "blue",
           "magenta",
           "magenta",
           "magenta",
           "magenta",
           "magenta",
           "magenta",
           "magenta",
           "magenta",
           "magenta",
           "magenta",
           "magenta",
           "magenta",
           "magenta",
           "magenta",
           "blue",
           "magenta",
           "blue",
           "magenta",
           "magenta",
           "magenta",
           "blue",
           "magenta",
           "magenta",
           "magenta",
           "blue",
           "magenta",
           "magenta",
           "blue",
           "blue",
           "blue",
           "blue",
           "magenta",
           "magenta",
           "magenta",
           "magenta",
           "magenta",
           "magenta",
           "magenta",
           "magenta",
           "blue",
           "magenta",
           "magenta",
           "magenta",
           "magenta",
           "magenta",
           "blue",
           "magenta",
           "blue",
           "magenta",
           "magenta",
           "blue",
           "magenta",
           "magenta",
           "magenta",
           "magenta",
           "magenta",
           "magenta",
           "magenta",
           "magenta",
           "magenta",
           "magenta",
           "magenta",
           "magenta",
           "magenta",
           "magenta",
           "blue",
           "magenta",
           "magenta",
           "magenta",
           "blue",
           "magenta",
           "magenta",
           "magenta",
           "magenta",
           "magenta",
           "magenta",
           "magenta",
           "magenta",
           "blue",
           "blue",
           "magenta",
           "magenta",
           "magenta",
           "blue",
           "magenta",
           "magenta",
           "magenta",
           "magenta",
           "magenta",
           "magenta",
           "magenta",
           "magenta",
           "magenta",
           "magenta",
           "magenta",
           "magenta",
           "magenta",
           "blue",
           "blue",
           "magenta",
           "magenta",
           "magenta",
           "magenta",
           "magenta",
           "magenta",
           "magenta",
           "magenta",
           "blue",
           "magenta",
           "magenta",
           "magenta",
           "magenta",
           "blue",
           "blue",
           "magenta",
           "magenta",
           "magenta",
           "magenta",
           "magenta",
           "blue",
           "blue",
           "blue",
           "magenta",
           "magenta",
           "magenta",
           "magenta",
           "blue",
           "blue",
           "magenta",
           "magenta",
           "magenta",
           "magenta",
           "magenta",
           "magenta",
           "magenta",
           "magenta",
           "magenta",
           "blue",
           "magenta",
           "magenta",
           "magenta",
           "magenta",
           "magenta",
           "magenta",
           "magenta",
           "magenta",
           "blue",
           "magenta",
           "black",
           "black",
           "black",
           "black",
           "black",
           "black",
           "black",
           "black",
           "black",
           "black",
           "black",
           "black",
           "black",
           "black",
           "black",
           "black"
          ],
          "size": 8
         },
         "mode": "markers",
         "type": "scatter",
         "x": [
          200,
          200,
          200,
          200,
          600,
          600,
          600,
          600,
          1000,
          1000,
          1000,
          1000,
          1400,
          1400,
          1400,
          1400,
          953,
          1166,
          1178,
          1041,
          1381,
          499,
          12,
          602,
          706,
          1411,
          596,
          1292,
          529,
          1447,
          603,
          1464,
          959,
          748,
          691,
          742,
          702,
          372,
          921,
          37,
          861,
          1026,
          938,
          1599,
          667,
          269,
          1024,
          896,
          1527,
          1068,
          584,
          84,
          1492,
          1125,
          765,
          1099,
          701,
          1498,
          971,
          920,
          588,
          167,
          1395,
          52,
          46,
          1053,
          650,
          683,
          203,
          247,
          659,
          1027,
          1155,
          925,
          747,
          1193,
          1103,
          944,
          618,
          922,
          672,
          126,
          546,
          119,
          897,
          1491,
          800,
          1185,
          615,
          1167,
          270,
          537,
          816,
          1379,
          626,
          836,
          851,
          609,
          840,
          1092,
          281,
          86,
          491,
          356,
          351,
          1084,
          168,
          768,
          1406,
          1491,
          826,
          1584,
          1069,
          539,
          514,
          590,
          819,
          347,
          796,
          339,
          933,
          81,
          138,
          42,
          208,
          259,
          1555,
          995,
          1472,
          728,
          414,
          199,
          1138,
          521,
          696,
          1382,
          1240,
          1057,
          302,
          698,
          575,
          1499,
          242,
          1451,
          171,
          1538,
          569,
          677,
          972,
          951,
          294,
          651,
          773,
          134,
          158,
          629,
          847,
          1392,
          524,
          222,
          1178,
          1361,
          752,
          829,
          171,
          516,
          1021,
          594,
          186,
          162,
          1594,
          921,
          591,
          609,
          1450,
          796,
          338,
          426,
          1294,
          1252,
          906,
          632,
          1238,
          249,
          648,
          307,
          1039,
          1062,
          818,
          956,
          985,
          1084,
          990,
          1139,
          1091,
          968,
          1153,
          1180,
          545,
          1317,
          629,
          1134,
          733,
          201,
          536,
          675,
          249,
          1530,
          191,
          1067,
          1105,
          209,
          232,
          845,
          634,
          1120,
          812,
          812,
          912,
          912,
          0,
          0,
          1600,
          1600,
          0,
          0,
          1600,
          1600,
          465,
          465,
          556,
          556
         ],
         "y": [
          200,
          600,
          1000,
          1400,
          200,
          600,
          1000,
          1400,
          200,
          600,
          1000,
          1400,
          200,
          600,
          1000,
          1400,
          528,
          582,
          1287,
          1009,
          796,
          293,
          758,
          794,
          968,
          298,
          1204,
          423,
          562,
          655,
          500,
          148,
          915,
          664,
          1038,
          276,
          957,
          235,
          1158,
          504,
          876,
          377,
          629,
          1173,
          831,
          868,
          1578,
          1347,
          1130,
          853,
          1097,
          128,
          1293,
          517,
          121,
          1056,
          541,
          811,
          902,
          636,
          510,
          169,
          291,
          919,
          714,
          657,
          942,
          939,
          561,
          154,
          1203,
          1587,
          1463,
          753,
          79,
          1439,
          1067,
          1502,
          1198,
          154,
          1072,
          332,
          858,
          444,
          852,
          12,
          1120,
          1064,
          941,
          938,
          1064,
          814,
          1008,
          1306,
          781,
          675,
          852,
          686,
          749,
          360,
          138,
          688,
          277,
          607,
          1595,
          117,
          945,
          1028,
          620,
          133,
          1532,
          1048,
          803,
          1096,
          827,
          965,
          478,
          972,
          546,
          568,
          179,
          906,
          1080,
          510,
          1568,
          472,
          700,
          1547,
          287,
          334,
          32,
          214,
          575,
          949,
          1241,
          596,
          1188,
          989,
          1508,
          536,
          1452,
          416,
          596,
          528,
          1237,
          959,
          633,
          1091,
          855,
          914,
          1443,
          728,
          807,
          1000,
          746,
          150,
          114,
          847,
          222,
          630,
          385,
          851,
          1246,
          1386,
          1468,
          896,
          660,
          672,
          1415,
          172,
          1461,
          543,
          1070,
          1341,
          69,
          546,
          687,
          1332,
          579,
          1148,
          555,
          538,
          210,
          101,
          1449,
          1262,
          1084,
          999,
          887,
          674,
          1464,
          1162,
          802,
          437,
          817,
          635,
          436,
          756,
          268,
          862,
          1379,
          1461,
          778,
          746,
          139,
          883,
          942,
          1118,
          913,
          529,
          145,
          1255,
          1591,
          1116,
          627,
          910,
          0,
          1600,
          1600,
          0,
          257,
          357,
          357,
          257,
          85,
          185,
          185,
          85,
          80,
          260,
          260,
          80
         ]
        }
       ],
       "frames": [
        {
         "data": [
          {
           "line": {
            "color": "red",
            "width": 2
           },
           "mode": "lines",
           "type": "scatter",
           "x": [
            600,
            951
           ],
           "y": [
            600,
            527
           ]
          },
          {
           "line": {
            "color": "green",
            "width": 2
           },
           "mode": "lines",
           "type": "scatter",
           "x": [
            1000,
            1164
           ],
           "y": [
            600,
            582
           ]
          },
          {
           "line": {
            "color": "green",
            "width": 2
           },
           "mode": "lines",
           "type": "scatter",
           "x": [
            1000,
            1179
           ],
           "y": [
            1400,
            1285
           ]
          },
          {
           "line": {
            "color": "red",
            "width": 2
           },
           "mode": "lines",
           "type": "scatter",
           "x": [
            1000,
            1043
           ],
           "y": [
            1000,
            1009
           ]
          },
          {
           "line": {
            "color": "green",
            "width": 2
           },
           "mode": "lines",
           "type": "scatter",
           "x": [
            1400,
            1382
           ],
           "y": [
            600,
            798
           ]
          },
          {
           "line": {
            "color": "green",
            "width": 2
           },
           "mode": "lines",
           "type": "scatter",
           "x": [
            600,
            446
           ],
           "y": [
            200,
            293
           ]
          },
          {
           "line": {
            "color": "green",
            "width": 2
           },
           "mode": "lines",
           "type": "scatter",
           "x": [
            200,
            14
           ],
           "y": [
            1000,
            757
           ]
          },
          {
           "line": {
            "color": "red",
            "width": 2
           },
           "mode": "lines",
           "type": "scatter",
           "x": [
            1000,
            600
           ],
           "y": [
            600,
            793
           ]
          },
          {
           "line": {
            "color": "green",
            "width": 2
           },
           "mode": "lines",
           "type": "scatter",
           "x": [
            600,
            705
           ],
           "y": [
            1000,
            970
           ]
          },
          {
           "line": {
            "color": "green",
            "width": 2
           },
           "mode": "lines",
           "type": "scatter",
           "x": [
            1400,
            1437
           ],
           "y": [
            200,
            298
           ]
          },
          {
           "line": {
            "color": "green",
            "width": 2
           },
           "mode": "lines",
           "type": "scatter",
           "x": [
            600,
            594
           ],
           "y": [
            1400,
            1204
           ]
          },
          {
           "line": {
            "color": "green",
            "width": 2
           },
           "mode": "lines",
           "type": "scatter",
           "x": [
            1000,
            1290
           ],
           "y": [
            200,
            423
           ]
          },
          {
           "line": {
            "color": "red",
            "width": 2
           },
           "mode": "lines",
           "type": "scatter",
           "x": [
            600,
            529
           ],
           "y": [
            600,
            564
           ]
          },
          {
           "line": {
            "color": "green",
            "width": 2
           },
           "mode": "lines",
           "type": "scatter",
           "x": [
            1400,
            1445
           ],
           "y": [
            1000,
            655
           ]
          },
          {
           "line": {
            "color": "red",
            "width": 2
           },
           "mode": "lines",
           "type": "scatter",
           "x": [
            600,
            605
           ],
           "y": [
            200,
            500
           ]
          },
          {
           "line": {
            "color": "green",
            "width": 2
           },
           "mode": "lines",
           "type": "scatter",
           "x": [
            1400,
            1497
           ],
           "y": [
            200,
            148
           ]
          },
          {
           "line": {
            "color": "red",
            "width": 2
           },
           "mode": "lines",
           "type": "scatter",
           "x": [
            600,
            961
           ],
           "y": [
            600,
            916
           ]
          },
          {
           "line": {
            "color": "red",
            "width": 2
           },
           "mode": "lines",
           "type": "scatter",
           "x": [
            600,
            750
           ],
           "y": [
            600,
            665
           ]
          },
          {
           "line": {
            "color": "red",
            "width": 2
           },
           "mode": "lines",
           "type": "scatter",
           "x": [
            600,
            689
           ],
           "y": [
            1000,
            1039
           ]
          },
          {
           "line": {
            "color": "green",
            "width": 2
           },
           "mode": "lines",
           "type": "scatter",
           "x": [
            600,
            703
           ],
           "y": [
            200,
            276
           ]
          },
          {
           "line": {
            "color": "red",
            "width": 2
           },
           "mode": "lines",
           "type": "scatter",
           "x": [
            1000,
            700
           ],
           "y": [
            1000,
            957
           ]
          },
          {
           "line": {
            "color": "green",
            "width": 2
           },
           "mode": "lines",
           "type": "scatter",
           "x": [
            200,
            372
           ],
           "y": [
            600,
            237
           ]
          },
          {
           "line": {
            "color": "green",
            "width": 2
           },
           "mode": "lines",
           "type": "scatter",
           "x": [
            1000,
            921
           ],
           "y": [
            1000,
            1160
           ]
          },
          {
           "line": {
            "color": "green",
            "width": 2
           },
           "mode": "lines",
           "type": "scatter",
           "x": [
            200,
            39
           ],
           "y": [
            600,
            504
           ]
          },
          {
           "line": {
            "color": "green",
            "width": 2
           },
           "mode": "lines",
           "type": "scatter",
           "x": [
            1000,
            861
           ],
           "y": [
            1000,
            828
           ]
          },
          {
           "line": {
            "color": "green",
            "width": 2
           },
           "mode": "lines",
           "type": "scatter",
           "x": [
            1400,
            1025
           ],
           "y": [
            600,
            376
           ]
          },
          {
           "line": {
            "color": "red",
            "width": 2
           },
           "mode": "lines",
           "type": "scatter",
           "x": [
            600,
            936
           ],
           "y": [
            600,
            629
           ]
          },
          {
           "line": {
            "color": "green",
            "width": 2
           },
           "mode": "lines",
           "type": "scatter",
           "x": [
            1400,
            1599
           ],
           "y": [
            1400,
            1173
           ]
          },
          {
           "line": {
            "color": "red",
            "width": 2
           },
           "mode": "lines",
           "type": "scatter",
           "x": [
            600,
            665
           ],
           "y": [
            1000,
            830
           ]
          },
          {
           "line": {
            "color": "green",
            "width": 2
           },
           "mode": "lines",
           "type": "scatter",
           "x": [
            200,
            268
           ],
           "y": [
            1000,
            867
           ]
          },
          {
           "line": {
            "color": "green",
            "width": 2
           },
           "mode": "lines",
           "type": "scatter",
           "x": [
            1000,
            1024
           ],
           "y": [
            1400,
            1580
           ]
          },
          {
           "line": {
            "color": "green",
            "width": 2
           },
           "mode": "lines",
           "type": "scatter",
           "x": [
            1000,
            896
           ],
           "y": [
            1400,
            1302
           ]
          },
          {
           "line": {
            "color": "green",
            "width": 2
           },
           "mode": "lines",
           "type": "scatter",
           "x": [
            1400,
            1529
           ],
           "y": [
            1000,
            1129
           ]
          },
          {
           "line": {
            "color": "red",
            "width": 2
           },
           "mode": "lines",
           "type": "scatter",
           "x": [
            1000,
            1068
           ],
           "y": [
            1000,
            851
           ]
          },
          {
           "line": {
            "color": "green",
            "width": 2
           },
           "mode": "lines",
           "type": "scatter",
           "x": [
            200,
            582
           ],
           "y": [
            1400,
            1098
           ]
          },
          {
           "line": {
            "color": "green",
            "width": 2
           },
           "mode": "lines",
           "type": "scatter",
           "x": [
            200,
            142
           ],
           "y": [
            200,
            128
           ]
          },
          {
           "line": {
            "color": "green",
            "width": 2
           },
           "mode": "lines",
           "type": "scatter",
           "x": [
            1400,
            1492
           ],
           "y": [
            1400,
            1291
           ]
          },
          {
           "line": {
            "color": "green",
            "width": 2
           },
           "mode": "lines",
           "type": "scatter",
           "x": [
            1000,
            1123
           ],
           "y": [
            600,
            516
           ]
          },
          {
           "line": {
            "color": "green",
            "width": 2
           },
           "mode": "lines",
           "type": "scatter",
           "x": [
            600,
            718
           ],
           "y": [
            200,
            121
           ]
          },
          {
           "line": {
            "color": "green",
            "width": 2
           },
           "mode": "lines",
           "type": "scatter",
           "x": [
            1400,
            1098
           ],
           "y": [
            1400,
            1058
           ]
          },
          {
           "line": {
            "color": "red",
            "width": 2
           },
           "mode": "lines",
           "type": "scatter",
           "x": [
            600,
            703
           ],
           "y": [
            200,
            541
           ]
          },
          {
           "line": {
            "color": "green",
            "width": 2
           },
           "mode": "lines",
           "type": "scatter",
           "x": [
            1400,
            1497
           ],
           "y": [
            1000,
            809
           ]
          },
          {
           "line": {
            "color": "green",
            "width": 2
           },
           "mode": "lines",
           "type": "scatter",
           "x": [
            1000,
            971
           ],
           "y": [
            1000,
            904
           ]
          },
          {
           "line": {
            "color": "red",
            "width": 2
           },
           "mode": "lines",
           "type": "scatter",
           "x": [
            1000,
            921
           ],
           "y": [
            600,
            638
           ]
          },
          {
           "line": {
            "color": "red",
            "width": 2
           },
           "mode": "lines",
           "type": "scatter",
           "x": [
            200,
            586
           ],
           "y": [
            600,
            509
           ]
          },
          {
           "line": {
            "color": "green",
            "width": 2
           },
           "mode": "lines",
           "type": "scatter",
           "x": [
            200,
            202
           ],
           "y": [
            200,
            169
           ]
          },
          {
           "line": {
            "color": "green",
            "width": 2
           },
           "mode": "lines",
           "type": "scatter",
           "x": [
            1400,
            1336
           ],
           "y": [
            200,
            291
           ]
          },
          {
           "line": {
            "color": "green",
            "width": 2
           },
           "mode": "lines",
           "type": "scatter",
           "x": [
            200,
            50
           ],
           "y": [
            1000,
            920
           ]
          },
          {
           "line": {
            "color": "green",
            "width": 2
           },
           "mode": "lines",
           "type": "scatter",
           "x": [
            200,
            48
           ],
           "y": [
            1000,
            713
           ]
          },
          {
           "line": {
            "color": "green",
            "width": 2
           },
           "mode": "lines",
           "type": "scatter",
           "x": [
            1000,
            1053
           ],
           "y": [
            600,
            655
           ]
          },
          {
           "line": {
            "color": "red",
            "width": 2
           },
           "mode": "lines",
           "type": "scatter",
           "x": [
            600,
            650
           ],
           "y": [
            600,
            944
           ]
          },
          {
           "line": {
            "color": "red",
            "width": 2
           },
           "mode": "lines",
           "type": "scatter",
           "x": [
            600,
            682
           ],
           "y": [
            1000,
            941
           ]
          },
          {
           "line": {
            "color": "green",
            "width": 2
           },
           "mode": "lines",
           "type": "scatter",
           "x": [
            200,
            202
           ],
           "y": [
            600,
            559
           ]
          },
          {
           "line": {
            "color": "green",
            "width": 2
           },
           "mode": "lines",
           "type": "scatter",
           "x": [
            600,
            208
           ],
           "y": [
            200,
            154
           ]
          },
          {
           "line": {
            "color": "green",
            "width": 2
           },
           "mode": "lines",
           "type": "scatter",
           "x": [
            600,
            658
           ],
           "y": [
            1400,
            1201
           ]
          },
          {
           "line": {
            "color": "green",
            "width": 2
           },
           "mode": "lines",
           "type": "scatter",
           "x": [
            1000,
            1025
           ],
           "y": [
            1400,
            1588
           ]
          },
          {
           "line": {
            "color": "green",
            "width": 2
           },
           "mode": "lines",
           "type": "scatter",
           "x": [
            1000,
            1155
           ],
           "y": [
            1400,
            1461
           ]
          },
          {
           "line": {
            "color": "green",
            "width": 2
           },
           "mode": "lines",
           "type": "scatter",
           "x": [
            1000,
            925
           ],
           "y": [
            600,
            751
           ]
          },
          {
           "line": {
            "color": "green",
            "width": 2
           },
           "mode": "lines",
           "type": "scatter",
           "x": [
            600,
            745
           ],
           "y": [
            200,
            78
           ]
          },
          {
           "line": {
            "color": "green",
            "width": 2
           },
           "mode": "lines",
           "type": "scatter",
           "x": [
            1000,
            1191
           ],
           "y": [
            1400,
            1438
           ]
          },
          {
           "line": {
            "color": "green",
            "width": 2
           },
           "mode": "lines",
           "type": "scatter",
           "x": [
            1400,
            1103
           ],
           "y": [
            1000,
            1069
           ]
          },
          {
           "line": {
            "color": "green",
            "width": 2
           },
           "mode": "lines",
           "type": "scatter",
           "x": [
            1000,
            946
           ],
           "y": [
            1400,
            1502
           ]
          },
          {
           "line": {
            "color": "green",
            "width": 2
           },
           "mode": "lines",
           "type": "scatter",
           "x": [
            600,
            618
           ],
           "y": [
            1000,
            1196
           ]
          },
          {
           "line": {
            "color": "green",
            "width": 2
           },
           "mode": "lines",
           "type": "scatter",
           "x": [
            600,
            899
           ],
           "y": [
            200,
            154
           ]
          },
          {
           "line": {
            "color": "green",
            "width": 2
           },
           "mode": "lines",
           "type": "scatter",
           "x": [
            600,
            671
           ],
           "y": [
            1400,
            1070
           ]
          },
          {
           "line": {
            "color": "green",
            "width": 2
           },
           "mode": "lines",
           "type": "scatter",
           "x": [
            200,
            147
           ],
           "y": [
            600,
            332
           ]
          },
          {
           "line": {
            "color": "red",
            "width": 2
           },
           "mode": "lines",
           "type": "scatter",
           "x": [
            600,
            545
           ],
           "y": [
            600,
            860
           ]
          },
          {
           "line": {
            "color": "green",
            "width": 2
           },
           "mode": "lines",
           "type": "scatter",
           "x": [
            200,
            117
           ],
           "y": [
            600,
            445
           ]
          },
          {
           "line": {
            "color": "red",
            "width": 2
           },
           "mode": "lines",
           "type": "scatter",
           "x": [
            600,
            897
           ],
           "y": [
            1000,
            909
           ]
          },
          {
           "line": {
            "color": "green",
            "width": 2
           },
           "mode": "lines",
           "type": "scatter",
           "x": [
            1400,
            1493
           ],
           "y": [
            200,
            13
           ]
          },
          {
           "line": {
            "color": "green",
            "width": 2
           },
           "mode": "lines",
           "type": "scatter",
           "x": [
            1000,
            799
           ],
           "y": [
            1000,
            1118
           ]
          },
          {
           "line": {
            "color": "green",
            "width": 2
           },
           "mode": "lines",
           "type": "scatter",
           "x": [
            1000,
            1187
           ],
           "y": [
            1000,
            1063
           ]
          },
          {
           "line": {
            "color": "red",
            "width": 2
           },
           "mode": "lines",
           "type": "scatter",
           "x": [
            600,
            617
           ],
           "y": [
            1000,
            942
           ]
          },
          {
           "line": {
            "color": "green",
            "width": 2
           },
           "mode": "lines",
           "type": "scatter",
           "x": [
            1400,
            1169
           ],
           "y": [
            1000,
            939
           ]
          },
          {
           "line": {
            "color": "green",
            "width": 2
           },
           "mode": "lines",
           "type": "scatter",
           "x": [
            200,
            268
           ],
           "y": [
            1000,
            1064
           ]
          },
          {
           "line": {
            "color": "green",
            "width": 2
           },
           "mode": "lines",
           "type": "scatter",
           "x": [
            200,
            538
           ],
           "y": [
            1000,
            813
           ]
          },
          {
           "line": {
            "color": "red",
            "width": 2
           },
           "mode": "lines",
           "type": "scatter",
           "x": [
            1000,
            816
           ],
           "y": [
            1000,
            967
           ]
          },
          {
           "line": {
            "color": "green",
            "width": 2
           },
           "mode": "lines",
           "type": "scatter",
           "x": [
            1400,
            1379
           ],
           "y": [
            1400,
            1304
           ]
          },
          {
           "line": {
            "color": "green",
            "width": 2
           },
           "mode": "lines",
           "type": "scatter",
           "x": [
            600,
            628
           ],
           "y": [
            600,
            780
           ]
          },
          {
           "line": {
            "color": "red",
            "width": 2
           },
           "mode": "lines",
           "type": "scatter",
           "x": [
            1000,
            836
           ],
           "y": [
            1000,
            703
           ]
          },
          {
           "line": {
            "color": "red",
            "width": 2
           },
           "mode": "lines",
           "type": "scatter",
           "x": [
            1000,
            851
           ],
           "y": [
            1000,
            796
           ]
          },
          {
           "line": {
            "color": "red",
            "width": 2
           },
           "mode": "lines",
           "type": "scatter",
           "x": [
            600,
            607
           ],
           "y": [
            1000,
            686
           ]
          },
          {
           "line": {
            "color": "red",
            "width": 2
           },
           "mode": "lines",
           "type": "scatter",
           "x": [
            1000,
            840
           ],
           "y": [
            600,
            703
           ]
          },
          {
           "line": {
            "color": "green",
            "width": 2
           },
           "mode": "lines",
           "type": "scatter",
           "x": [
            1000,
            1094
           ],
           "y": [
            200,
            361
           ]
          },
          {
           "line": {
            "color": "green",
            "width": 2
           },
           "mode": "lines",
           "type": "scatter",
           "x": [
            200,
            338
           ],
           "y": [
            200,
            138
           ]
          },
          {
           "line": {
            "color": "green",
            "width": 2
           },
           "mode": "lines",
           "type": "scatter",
           "x": [
            200,
            84
           ],
           "y": [
            600,
            687
           ]
          },
          {
           "line": {
            "color": "green",
            "width": 2
           },
           "mode": "lines",
           "type": "scatter",
           "x": [
            600,
            517
           ],
           "y": [
            200,
            277
           ]
          },
          {
           "line": {
            "color": "green",
            "width": 2
           },
           "mode": "lines",
           "type": "scatter",
           "x": [
            200,
            358
           ],
           "y": [
            600,
            608
           ]
          },
          {
           "line": {
            "color": "green",
            "width": 2
           },
           "mode": "lines",
           "type": "scatter",
           "x": [
            200,
            351
           ],
           "y": [
            1400,
            1597
           ]
          },
          {
           "line": {
            "color": "green",
            "width": 2
           },
           "mode": "lines",
           "type": "scatter",
           "x": [
            1000,
            1143
           ],
           "y": [
            200,
            117
           ]
          },
          {
           "line": {
            "color": "green",
            "width": 2
           },
           "mode": "lines",
           "type": "scatter",
           "x": [
            200,
            169
           ],
           "y": [
            600,
            943
           ]
          },
          {
           "line": {
            "color": "red",
            "width": 2
           },
           "mode": "lines",
           "type": "scatter",
           "x": [
            600,
            766
           ],
           "y": [
            1000,
            1028
           ]
          },
          {
           "line": {
            "color": "green",
            "width": 2
           },
           "mode": "lines",
           "type": "scatter",
           "x": [
            1400,
            1408
           ],
           "y": [
            1000,
            620
           ]
          },
          {
           "line": {
            "color": "green",
            "width": 2
           },
           "mode": "lines",
           "type": "scatter",
           "x": [
            1400,
            1446
           ],
           "y": [
            200,
            133
           ]
          },
          {
           "line": {
            "color": "green",
            "width": 2
           },
           "mode": "lines",
           "type": "scatter",
           "x": [
            1000,
            826
           ],
           "y": [
            1400,
            1569
           ]
          },
          {
           "line": {
            "color": "green",
            "width": 2
           },
           "mode": "lines",
           "type": "scatter",
           "x": [
            1400,
            1583
           ],
           "y": [
            1400,
            1050
           ]
          },
          {
           "line": {
            "color": "green",
            "width": 2
           },
           "mode": "lines",
           "type": "scatter",
           "x": [
            1000,
            1070
           ],
           "y": [
            1000,
            802
           ]
          },
          {
           "line": {
            "color": "green",
            "width": 2
           },
           "mode": "lines",
           "type": "scatter",
           "x": [
            600,
            537
           ],
           "y": [
            1400,
            1095
           ]
          },
          {
           "line": {
            "color": "green",
            "width": 2
           },
           "mode": "lines",
           "type": "scatter",
           "x": [
            200,
            516
           ],
           "y": [
            600,
            827
           ]
          },
          {
           "line": {
            "color": "red",
            "width": 2
           },
           "mode": "lines",
           "type": "scatter",
           "x": [
            600,
            589
           ],
           "y": [
            600,
            963
           ]
          },
          {
           "line": {
            "color": "green",
            "width": 2
           },
           "mode": "lines",
           "type": "scatter",
           "x": [
            1000,
            819
           ],
           "y": [
            600,
            522
           ]
          },
          {
           "line": {
            "color": "green",
            "width": 2
           },
           "mode": "lines",
           "type": "scatter",
           "x": [
            200,
            349
           ],
           "y": [
            1000,
            973
           ]
          },
          {
           "line": {
            "color": "red",
            "width": 2
           },
           "mode": "lines",
           "type": "scatter",
           "x": [
            1000,
            795
           ],
           "y": [
            600,
            544
           ]
          },
          {
           "line": {
            "color": "green",
            "width": 2
           },
           "mode": "lines",
           "type": "scatter",
           "x": [
            200,
            340
           ],
           "y": [
            600,
            567
           ]
          },
          {
           "line": {
            "color": "green",
            "width": 2
           },
           "mode": "lines",
           "type": "scatter",
           "x": [
            600,
            892
           ],
           "y": [
            200,
            179
           ]
          },
          {
           "line": {
            "color": "green",
            "width": 2
           },
           "mode": "lines",
           "type": "scatter",
           "x": [
            200,
            81
           ],
           "y": [
            600,
            904
           ]
          },
          {
           "line": {
            "color": "green",
            "width": 2
           },
           "mode": "lines",
           "type": "scatter",
           "x": [
            200,
            138
           ],
           "y": [
            1000,
            1078
           ]
          },
          {
           "line": {
            "color": "green",
            "width": 2
           },
           "mode": "lines",
           "type": "scatter",
           "x": [
            200,
            41
           ],
           "y": [
            600,
            508
           ]
          },
          {
           "line": {
            "color": "green",
            "width": 2
           },
           "mode": "lines",
           "type": "scatter",
           "x": [
            200,
            208
           ],
           "y": [
            1400,
            1566
           ]
          },
          {
           "line": {
            "color": "green",
            "width": 2
           },
           "mode": "lines",
           "type": "scatter",
           "x": [
            600,
            258
           ],
           "y": [
            600,
            474
           ]
          },
          {
           "line": {
            "color": "green",
            "width": 2
           },
           "mode": "lines",
           "type": "scatter",
           "x": [
            1400,
            1557
           ],
           "y": [
            600,
            699
           ]
          },
          {
           "line": {
            "color": "green",
            "width": 2
           },
           "mode": "lines",
           "type": "scatter",
           "x": [
            1000,
            997
           ],
           "y": [
            1400,
            1548
           ]
          },
          {
           "line": {
            "color": "green",
            "width": 2
           },
           "mode": "lines",
           "type": "scatter",
           "x": [
            1400,
            1525
           ],
           "y": [
            200,
            287
           ]
          },
          {
           "line": {
            "color": "green",
            "width": 2
           },
           "mode": "lines",
           "type": "scatter",
           "x": [
            600,
            786
           ],
           "y": [
            200,
            334
           ]
          },
          {
           "line": {
            "color": "green",
            "width": 2
           },
           "mode": "lines",
           "type": "scatter",
           "x": [
            200,
            413
           ],
           "y": [
            200,
            30
           ]
          },
          {
           "line": {
            "color": "green",
            "width": 2
           },
           "mode": "lines",
           "type": "scatter",
           "x": [
            200,
            198
           ],
           "y": [
            200,
            212
           ]
          },
          {
           "line": {
            "color": "green",
            "width": 2
           },
           "mode": "lines",
           "type": "scatter",
           "x": [
            1000,
            1139
           ],
           "y": [
            600,
            577
           ]
          },
          {
           "line": {
            "color": "red",
            "width": 2
           },
           "mode": "lines",
           "type": "scatter",
           "x": [
            600,
            522
           ],
           "y": [
            600,
            951
           ]
          },
          {
           "line": {
            "color": "green",
            "width": 2
           },
           "mode": "lines",
           "type": "scatter",
           "x": [
            600,
            695
           ],
           "y": [
            1400,
            1239
           ]
          },
          {
           "line": {
            "color": "green",
            "width": 2
           },
           "mode": "lines",
           "type": "scatter",
           "x": [
            1400,
            1382
           ],
           "y": [
            600,
            598
           ]
          },
          {
           "line": {
            "color": "green",
            "width": 2
           },
           "mode": "lines",
           "type": "scatter",
           "x": [
            1000,
            1238
           ],
           "y": [
            1000,
            1189
           ]
          },
          {
           "line": {
            "color": "red",
            "width": 2
           },
           "mode": "lines",
           "type": "scatter",
           "x": [
            1000,
            1057
           ],
           "y": [
            1000,
            991
           ]
          },
          {
           "line": {
            "color": "green",
            "width": 2
           },
           "mode": "lines",
           "type": "scatter",
           "x": [
            200,
            303
           ],
           "y": [
            1400,
            1510
           ]
          },
          {
           "line": {
            "color": "green",
            "width": 2
           },
           "mode": "lines",
           "type": "scatter",
           "x": [
            1000,
            697
           ],
           "y": [
            600,
            535
           ]
          },
          {
           "line": {
            "color": "green",
            "width": 2
           },
           "mode": "lines",
           "type": "scatter",
           "x": [
            600,
            573
           ],
           "y": [
            1400,
            1452
           ]
          },
          {
           "line": {
            "color": "green",
            "width": 2
           },
           "mode": "lines",
           "type": "scatter",
           "x": [
            1400,
            1499
           ],
           "y": [
            600,
            418
           ]
          },
          {
           "line": {
            "color": "green",
            "width": 2
           },
           "mode": "lines",
           "type": "scatter",
           "x": [
            200,
            244
           ],
           "y": [
            600,
            596
           ]
          },
          {
           "line": {
            "color": "green",
            "width": 2
           },
           "mode": "lines",
           "type": "scatter",
           "x": [
            1400,
            1453
           ],
           "y": [
            600,
            527
           ]
          },
          {
           "line": {
            "color": "green",
            "width": 2
           },
           "mode": "lines",
           "type": "scatter",
           "x": [
            200,
            169
           ],
           "y": [
            1400,
            1237
           ]
          },
          {
           "line": {
            "color": "green",
            "width": 2
           },
           "mode": "lines",
           "type": "scatter",
           "x": [
            1400,
            1539
           ],
           "y": [
            1000,
            957
           ]
          },
          {
           "line": {
            "color": "red",
            "width": 2
           },
           "mode": "lines",
           "type": "scatter",
           "x": [
            600,
            568
           ],
           "y": [
            600,
            632
           ]
          },
          {
           "line": {
            "color": "green",
            "width": 2
           },
           "mode": "lines",
           "type": "scatter",
           "x": [
            600,
            679
           ],
           "y": [
            1400,
            1090
           ]
          },
          {
           "line": {
            "color": "green",
            "width": 2
           },
           "mode": "lines",
           "type": "scatter",
           "x": [
            1000,
            970
           ],
           "y": [
            600,
            854
           ]
          },
          {
           "line": {
            "color": "green",
            "width": 2
           },
           "mode": "lines",
           "type": "scatter",
           "x": [
            1000,
            951
           ],
           "y": [
            1000,
            916
           ]
          },
          {
           "line": {
            "color": "green",
            "width": 2
           },
           "mode": "lines",
           "type": "scatter",
           "x": [
            200,
            295
           ],
           "y": [
            1400,
            1442
           ]
          },
          {
           "line": {
            "color": "red",
            "width": 2
           },
           "mode": "lines",
           "type": "scatter",
           "x": [
            600,
            651
           ],
           "y": [
            600,
            726
           ]
          },
          {
           "line": {
            "color": "green",
            "width": 2
           },
           "mode": "lines",
           "type": "scatter",
           "x": [
            600,
            773
           ],
           "y": [
            1000,
            805
           ]
          },
          {
           "line": {
            "color": "green",
            "width": 2
           },
           "mode": "lines",
           "type": "scatter",
           "x": [
            200,
            132
           ],
           "y": [
            1000,
            999
           ]
          },
          {
           "line": {
            "color": "green",
            "width": 2
           },
           "mode": "lines",
           "type": "scatter",
           "x": [
            200,
            156
           ],
           "y": [
            600,
            745
           ]
          },
          {
           "line": {
            "color": "green",
            "width": 2
           },
           "mode": "lines",
           "type": "scatter",
           "x": [
            600,
            593
           ],
           "y": [
            200,
            150
           ]
          },
          {
           "line": {
            "color": "green",
            "width": 2
           },
           "mode": "lines",
           "type": "scatter",
           "x": [
            1000,
            847
           ],
           "y": [
            200,
            77
           ]
          },
          {
           "line": {
            "color": "green",
            "width": 2
           },
           "mode": "lines",
           "type": "scatter",
           "x": [
            1400,
            1393
           ],
           "y": [
            1000,
            845
           ]
          },
          {
           "line": {
            "color": "green",
            "width": 2
           },
           "mode": "lines",
           "type": "scatter",
           "x": [
            600,
            524.4100476606274
           ],
           "y": [
            200,
            222.91206409643954
           ]
          },
          {
           "line": {
            "color": "green",
            "width": 2
           },
           "mode": "lines",
           "type": "scatter",
           "x": [
            200,
            222
           ],
           "y": [
            600,
            628
           ]
          },
          {
           "line": {
            "color": "green",
            "width": 2
           },
           "mode": "lines",
           "type": "scatter",
           "x": [
            1000,
            1177
           ],
           "y": [
            200,
            387
           ]
          },
          {
           "line": {
            "color": "green",
            "width": 2
           },
           "mode": "lines",
           "type": "scatter",
           "x": [
            1400,
            1363
           ],
           "y": [
            1000,
            851
           ]
          },
          {
           "line": {
            "color": "green",
            "width": 2
           },
           "mode": "lines",
           "type": "scatter",
           "x": [
            600,
            751
           ],
           "y": [
            1400,
            1245
           ]
          },
          {
           "line": {
            "color": "green",
            "width": 2
           },
           "mode": "lines",
           "type": "scatter",
           "x": [
            1000,
            829
           ],
           "y": [
            1000,
            1364
           ]
          },
          {
           "line": {
            "color": "green",
            "width": 2
           },
           "mode": "lines",
           "type": "scatter",
           "x": [
            200,
            173
           ],
           "y": [
            1400,
            1468
           ]
          },
          {
           "line": {
            "color": "red",
            "width": 2
           },
           "mode": "lines",
           "type": "scatter",
           "x": [
            600,
            517
           ],
           "y": [
            600,
            898
           ]
          },
          {
           "line": {
            "color": "red",
            "width": 2
           },
           "mode": "lines",
           "type": "scatter",
           "x": [
            1000,
            1021
           ],
           "y": [
            600,
            662
           ]
          },
          {
           "line": {
            "color": "green",
            "width": 2
           },
           "mode": "lines",
           "type": "scatter",
           "x": [
            600,
            593
           ],
           "y": [
            1000,
            674
           ]
          },
          {
           "line": {
            "color": "green",
            "width": 2
           },
           "mode": "lines",
           "type": "scatter",
           "x": [
            200,
            188
           ],
           "y": [
            1400,
            1414
           ]
          },
          {
           "line": {
            "color": "green",
            "width": 2
           },
           "mode": "lines",
           "type": "scatter",
           "x": [
            200,
            196
           ],
           "y": [
            200,
            172
           ]
          },
          {
           "line": {
            "color": "green",
            "width": 2
           },
           "mode": "lines",
           "type": "scatter",
           "x": [
            1400,
            1592
           ],
           "y": [
            1400,
            1461
           ]
          },
          {
           "line": {
            "color": "green",
            "width": 2
           },
           "mode": "lines",
           "type": "scatter",
           "x": [
            1000,
            922
           ],
           "y": [
            600,
            545
           ]
          },
          {
           "line": {
            "color": "green",
            "width": 2
           },
           "mode": "lines",
           "type": "scatter",
           "x": [
            200,
            590
           ],
           "y": [
            1000,
            1068
           ]
          },
          {
           "line": {
            "color": "green",
            "width": 2
           },
           "mode": "lines",
           "type": "scatter",
           "x": [
            600,
            611
           ],
           "y": [
            1400,
            1342
           ]
          },
          {
           "line": {
            "color": "green",
            "width": 2
           },
           "mode": "lines",
           "type": "scatter",
           "x": [
            1400,
            1448
           ],
           "y": [
            200,
            69
           ]
          },
          {
           "line": {
            "color": "red",
            "width": 2
           },
           "mode": "lines",
           "type": "scatter",
           "x": [
            1000,
            798
           ],
           "y": [
            600,
            546
           ]
          },
          {
           "line": {
            "color": "green",
            "width": 2
           },
           "mode": "lines",
           "type": "scatter",
           "x": [
            600,
            337
           ],
           "y": [
            1000,
            688
           ]
          },
          {
           "line": {
            "color": "green",
            "width": 2
           },
           "mode": "lines",
           "type": "scatter",
           "x": [
            600,
            426
           ],
           "y": [
            1400,
            1330
           ]
          },
          {
           "line": {
            "color": "green",
            "width": 2
           },
           "mode": "lines",
           "type": "scatter",
           "x": [
            1400,
            1292
           ],
           "y": [
            600,
            579
           ]
          },
          {
           "line": {
            "color": "green",
            "width": 2
           },
           "mode": "lines",
           "type": "scatter",
           "x": [
            1400,
            1251
           ],
           "y": [
            1000,
            1146
           ]
          },
          {
           "line": {
            "color": "red",
            "width": 2
           },
           "mode": "lines",
           "type": "scatter",
           "x": [
            600,
            906
           ],
           "y": [
            600,
            601
           ]
          },
          {
           "line": {
            "color": "red",
            "width": 2
           },
           "mode": "lines",
           "type": "scatter",
           "x": [
            600,
            633
           ],
           "y": [
            200,
            536
           ]
          },
          {
           "line": {
            "color": "green",
            "width": 2
           },
           "mode": "lines",
           "type": "scatter",
           "x": [
            1400,
            1239
           ],
           "y": [
            200,
            211
           ]
          },
          {
           "line": {
            "color": "green",
            "width": 2
           },
           "mode": "lines",
           "type": "scatter",
           "x": [
            200,
            211
           ],
           "y": [
            200,
            101
           ]
          },
          {
           "line": {
            "color": "green",
            "width": 2
           },
           "mode": "lines",
           "type": "scatter",
           "x": [
            1000,
            650
           ],
           "y": [
            1400,
            1449
           ]
          },
          {
           "line": {
            "color": "green",
            "width": 2
           },
           "mode": "lines",
           "type": "scatter",
           "x": [
            200,
            305
           ],
           "y": [
            1400,
            1261
           ]
          },
          {
           "line": {
            "color": "green",
            "width": 2
           },
           "mode": "lines",
           "type": "scatter",
           "x": [
            1000,
            1039
           ],
           "y": [
            1000,
            1082
           ]
          },
          {
           "line": {
            "color": "red",
            "width": 2
           },
           "mode": "lines",
           "type": "scatter",
           "x": [
            1000,
            1062
           ],
           "y": [
            1000,
            1001
           ]
          },
          {
           "line": {
            "color": "red",
            "width": 2
           },
           "mode": "lines",
           "type": "scatter",
           "x": [
            600,
            818
           ],
           "y": [
            1000,
            859
           ]
          },
          {
           "line": {
            "color": "red",
            "width": 2
           },
           "mode": "lines",
           "type": "scatter",
           "x": [
            1000,
            956
           ],
           "y": [
            1000,
            676
           ]
          },
          {
           "line": {
            "color": "green",
            "width": 2
           },
           "mode": "lines",
           "type": "scatter",
           "x": [
            1000,
            987
           ],
           "y": [
            1400,
            1465
           ]
          },
          {
           "line": {
            "color": "green",
            "width": 2
           },
           "mode": "lines",
           "type": "scatter",
           "x": [
            1000,
            1083
           ],
           "y": [
            1400,
            1160
           ]
          },
          {
           "line": {
            "color": "green",
            "width": 2
           },
           "mode": "lines",
           "type": "scatter",
           "x": [
            1000,
            989
           ],
           "y": [
            1000,
            804
           ]
          },
          {
           "line": {
            "color": "green",
            "width": 2
           },
           "mode": "lines",
           "type": "scatter",
           "x": [
            1000,
            1138
           ],
           "y": [
            200,
            439
           ]
          },
          {
           "line": {
            "color": "red",
            "width": 2
           },
           "mode": "lines",
           "type": "scatter",
           "x": [
            1000,
            1092
           ],
           "y": [
            1000,
            816
           ]
          },
          {
           "line": {
            "color": "red",
            "width": 2
           },
           "mode": "lines",
           "type": "scatter",
           "x": [
            1000,
            968
           ],
           "y": [
            1000,
            637
           ]
          },
          {
           "line": {
            "color": "green",
            "width": 2
           },
           "mode": "lines",
           "type": "scatter",
           "x": [
            1000,
            1154
           ],
           "y": [
            200,
            434
           ]
          },
          {
           "line": {
            "color": "green",
            "width": 2
           },
           "mode": "lines",
           "type": "scatter",
           "x": [
            1000,
            1179
           ],
           "y": [
            1000,
            755
           ]
          },
          {
           "line": {
            "color": "green",
            "width": 2
           },
           "mode": "lines",
           "type": "scatter",
           "x": [
            600,
            522
           ],
           "y": [
            200,
            268
           ]
          },
          {
           "line": {
            "color": "green",
            "width": 2
           },
           "mode": "lines",
           "type": "scatter",
           "x": [
            1400,
            1315
           ],
           "y": [
            1000,
            862
           ]
          },
          {
           "line": {
            "color": "green",
            "width": 2
           },
           "mode": "lines",
           "type": "scatter",
           "x": [
            600,
            630
           ],
           "y": [
            1400,
            1381
           ]
          },
          {
           "line": {
            "color": "green",
            "width": 2
           },
           "mode": "lines",
           "type": "scatter",
           "x": [
            1000,
            1136
           ],
           "y": [
            1400,
            1461
           ]
          },
          {
           "line": {
            "color": "green",
            "width": 2
           },
           "mode": "lines",
           "type": "scatter",
           "x": [
            600,
            734
           ],
           "y": [
            1000,
            776
           ]
          },
          {
           "line": {
            "color": "green",
            "width": 2
           },
           "mode": "lines",
           "type": "scatter",
           "x": [
            200,
            201
           ],
           "y": [
            600,
            748
           ]
          },
          {
           "line": {
            "color": "green",
            "width": 2
           },
           "mode": "lines",
           "type": "scatter",
           "x": [
            600,
            514
           ],
           "y": [
            200,
            139
           ]
          },
          {
           "line": {
            "color": "red",
            "width": 2
           },
           "mode": "lines",
           "type": "scatter",
           "x": [
            600,
            677
           ],
           "y": [
            1000,
            884
           ]
          },
          {
           "line": {
            "color": "green",
            "width": 2
           },
           "mode": "lines",
           "type": "scatter",
           "x": [
            200,
            248
           ],
           "y": [
            1000,
            944
           ]
          },
          {
           "line": {
            "color": "green",
            "width": 2
           },
           "mode": "lines",
           "type": "scatter",
           "x": [
            1400,
            1531
           ],
           "y": [
            1400,
            1120
           ]
          },
          {
           "line": {
            "color": "green",
            "width": 2
           },
           "mode": "lines",
           "type": "scatter",
           "x": [
            200,
            190
           ],
           "y": [
            1000,
            911
           ]
          },
          {
           "line": {
            "color": "green",
            "width": 2
           },
           "mode": "lines",
           "type": "scatter",
           "x": [
            1000,
            1069
           ],
           "y": [
            600,
            529
           ]
          },
          {
           "line": {
            "color": "green",
            "width": 2
           },
           "mode": "lines",
           "type": "scatter",
           "x": [
            1000,
            1083
           ],
           "y": [
            200,
            145
           ]
          },
          {
           "line": {
            "color": "green",
            "width": 2
           },
           "mode": "lines",
           "type": "scatter",
           "x": [
            200,
            208
           ],
           "y": [
            1400,
            1257
           ]
          },
          {
           "line": {
            "color": "green",
            "width": 2
           },
           "mode": "lines",
           "type": "scatter",
           "x": [
            200,
            234
           ],
           "y": [
            1400,
            1592
           ]
          },
          {
           "line": {
            "color": "green",
            "width": 2
           },
           "mode": "lines",
           "type": "scatter",
           "x": [
            1000,
            845
           ],
           "y": [
            1000,
            1148
           ]
          },
          {
           "line": {
            "color": "red",
            "width": 2
           },
           "mode": "lines",
           "type": "scatter",
           "x": [
            1000,
            635
           ],
           "y": [
            600,
            626
           ]
          },
          {
           "line": {
            "color": "green",
            "width": 2
           },
           "mode": "lines",
           "type": "scatter",
           "x": [
            1000,
            1121
           ],
           "y": [
            1000,
            912
           ]
          },
          {
           "line": {
            "color": "black",
            "width": 2
           },
           "mode": "lines",
           "type": "scatter",
           "x": [
            812,
            812
           ],
           "y": [
            0,
            1600
           ]
          },
          {
           "line": {
            "color": "black",
            "width": 2
           },
           "mode": "lines",
           "type": "scatter",
           "x": [
            812,
            912
           ],
           "y": [
            1600,
            1600
           ]
          },
          {
           "line": {
            "color": "black",
            "width": 2
           },
           "mode": "lines",
           "type": "scatter",
           "x": [
            912,
            912
           ],
           "y": [
            1600,
            0
           ]
          },
          {
           "line": {
            "color": "black",
            "width": 2
           },
           "mode": "lines",
           "type": "scatter",
           "x": [
            812,
            912
           ],
           "y": [
            0,
            0
           ]
          },
          {
           "line": {
            "color": "black",
            "width": 2
           },
           "mode": "lines",
           "type": "scatter",
           "x": [
            0,
            0
           ],
           "y": [
            257,
            357
           ]
          },
          {
           "line": {
            "color": "black",
            "width": 2
           },
           "mode": "lines",
           "type": "scatter",
           "x": [
            0,
            1600
           ],
           "y": [
            357,
            357
           ]
          },
          {
           "line": {
            "color": "black",
            "width": 2
           },
           "mode": "lines",
           "type": "scatter",
           "x": [
            1600,
            1600
           ],
           "y": [
            357,
            257
           ]
          },
          {
           "line": {
            "color": "black",
            "width": 2
           },
           "mode": "lines",
           "type": "scatter",
           "x": [
            0,
            1600
           ],
           "y": [
            257,
            257
           ]
          },
          {
           "line": {
            "color": "black",
            "width": 2
           },
           "mode": "lines",
           "type": "scatter",
           "x": [
            0,
            0
           ],
           "y": [
            85,
            185
           ]
          },
          {
           "line": {
            "color": "black",
            "width": 2
           },
           "mode": "lines",
           "type": "scatter",
           "x": [
            0,
            1600
           ],
           "y": [
            185,
            185
           ]
          },
          {
           "line": {
            "color": "black",
            "width": 2
           },
           "mode": "lines",
           "type": "scatter",
           "x": [
            1600,
            1600
           ],
           "y": [
            185,
            85
           ]
          },
          {
           "line": {
            "color": "black",
            "width": 2
           },
           "mode": "lines",
           "type": "scatter",
           "x": [
            0,
            1600
           ],
           "y": [
            85,
            85
           ]
          },
          {
           "line": {
            "color": "black",
            "width": 2
           },
           "mode": "lines",
           "type": "scatter",
           "x": [
            465,
            465
           ],
           "y": [
            80,
            260
           ]
          },
          {
           "line": {
            "color": "black",
            "width": 2
           },
           "mode": "lines",
           "type": "scatter",
           "x": [
            465,
            556
           ],
           "y": [
            260,
            260
           ]
          },
          {
           "line": {
            "color": "black",
            "width": 2
           },
           "mode": "lines",
           "type": "scatter",
           "x": [
            556,
            556
           ],
           "y": [
            260,
            80
           ]
          },
          {
           "line": {
            "color": "black",
            "width": 2
           },
           "mode": "lines",
           "type": "scatter",
           "x": [
            465,
            556
           ],
           "y": [
            80,
            80
           ]
          },
          {
           "marker": {
            "color": [
             "orange",
             "orange",
             "orange",
             "orange",
             "orange",
             "orange",
             "orange",
             "orange",
             "orange",
             "orange",
             "orange",
             "orange",
             "orange",
             "orange",
             "orange",
             "orange",
             "blue",
             "magenta",
             "magenta",
             "blue",
             "magenta",
             "magenta",
             "magenta",
             "blue",
             "magenta",
             "magenta",
             "magenta",
             "magenta",
             "blue",
             "magenta",
             "blue",
             "magenta",
             "blue",
             "blue",
             "blue",
             "magenta",
             "blue",
             "magenta",
             "magenta",
             "magenta",
             "magenta",
             "magenta",
             "blue",
             "magenta",
             "blue",
             "magenta",
             "magenta",
             "magenta",
             "magenta",
             "blue",
             "blue",
             "magenta",
             "magenta",
             "magenta",
             "magenta",
             "magenta",
             "blue",
             "magenta",
             "magenta",
             "blue",
             "blue",
             "magenta",
             "magenta",
             "magenta",
             "magenta",
             "magenta",
             "blue",
             "blue",
             "magenta",
             "magenta",
             "magenta",
             "magenta",
             "magenta",
             "magenta",
             "magenta",
             "magenta",
             "magenta",
             "magenta",
             "magenta",
             "magenta",
             "magenta",
             "magenta",
             "blue",
             "magenta",
             "blue",
             "magenta",
             "magenta",
             "magenta",
             "blue",
             "magenta",
             "magenta",
             "magenta",
             "blue",
             "magenta",
             "magenta",
             "blue",
             "blue",
             "blue",
             "blue",
             "magenta",
             "magenta",
             "magenta",
             "magenta",
             "magenta",
             "magenta",
             "magenta",
             "magenta",
             "blue",
             "magenta",
             "magenta",
             "magenta",
             "magenta",
             "magenta",
             "blue",
             "magenta",
             "blue",
             "magenta",
             "magenta",
             "blue",
             "magenta",
             "magenta",
             "magenta",
             "magenta",
             "magenta",
             "magenta",
             "magenta",
             "magenta",
             "magenta",
             "magenta",
             "magenta",
             "magenta",
             "magenta",
             "magenta",
             "blue",
             "magenta",
             "magenta",
             "magenta",
             "blue",
             "magenta",
             "magenta",
             "magenta",
             "magenta",
             "magenta",
             "magenta",
             "magenta",
             "magenta",
             "blue",
             "blue",
             "magenta",
             "magenta",
             "magenta",
             "blue",
             "magenta",
             "magenta",
             "magenta",
             "magenta",
             "magenta",
             "magenta",
             "magenta",
             "magenta",
             "magenta",
             "magenta",
             "magenta",
             "magenta",
             "magenta",
             "blue",
             "blue",
             "magenta",
             "magenta",
             "magenta",
             "magenta",
             "magenta",
             "magenta",
             "magenta",
             "magenta",
             "blue",
             "magenta",
             "magenta",
             "magenta",
             "magenta",
             "blue",
             "blue",
             "magenta",
             "magenta",
             "magenta",
             "magenta",
             "magenta",
             "blue",
             "blue",
             "blue",
             "magenta",
             "magenta",
             "magenta",
             "magenta",
             "blue",
             "blue",
             "magenta",
             "magenta",
             "magenta",
             "magenta",
             "magenta",
             "magenta",
             "magenta",
             "magenta",
             "magenta",
             "blue",
             "magenta",
             "magenta",
             "magenta",
             "magenta",
             "magenta",
             "magenta",
             "magenta",
             "magenta",
             "blue",
             "magenta",
             "black",
             "black",
             "black",
             "black",
             "black",
             "black",
             "black",
             "black",
             "black",
             "black",
             "black",
             "black",
             "black",
             "black",
             "black",
             "black"
            ],
            "size": 8
           },
           "mode": "markers",
           "type": "scatter",
           "x": [
            200,
            200,
            200,
            200,
            600,
            600,
            600,
            600,
            1000,
            1000,
            1000,
            1000,
            1400,
            1400,
            1400,
            1400,
            951,
            1164,
            1179,
            1043,
            1382,
            446,
            14,
            600,
            705,
            1437,
            594,
            1290,
            529,
            1445,
            605,
            1497,
            961,
            750,
            689,
            703,
            700,
            372,
            921,
            39,
            861,
            1025,
            936,
            1599,
            665,
            268,
            1024,
            896,
            1529,
            1068,
            582,
            142,
            1492,
            1123,
            718,
            1098,
            703,
            1497,
            971,
            921,
            586,
            202,
            1336,
            50,
            48,
            1053,
            650,
            682,
            202,
            208,
            658,
            1025,
            1155,
            925,
            745,
            1191,
            1103,
            946,
            618,
            899,
            671,
            147,
            545,
            117,
            897,
            1493,
            799,
            1187,
            617,
            1169,
            268,
            538,
            816,
            1379,
            628,
            836,
            851,
            607,
            840,
            1094,
            338,
            84,
            517,
            358,
            351,
            1143,
            169,
            766,
            1408,
            1446,
            826,
            1583,
            1070,
            537,
            516,
            589,
            819,
            349,
            795,
            340,
            892,
            81,
            138,
            41,
            208,
            258,
            1557,
            997,
            1525,
            786,
            413,
            198,
            1139,
            522,
            695,
            1382,
            1238,
            1057,
            303,
            697,
            573,
            1499,
            244,
            1453,
            169,
            1539,
            568,
            679,
            970,
            951,
            295,
            651,
            773,
            132,
            156,
            593,
            847,
            1393,
            524.4100476606274,
            222,
            1177,
            1363,
            751,
            829,
            173,
            517,
            1021,
            593,
            188,
            196,
            1592,
            922,
            590,
            611,
            1448,
            798,
            337,
            426,
            1292,
            1251,
            906,
            633,
            1239,
            211,
            650,
            305,
            1039,
            1062,
            818,
            956,
            987,
            1083,
            989,
            1138,
            1092,
            968,
            1154,
            1179,
            522,
            1315,
            630,
            1136,
            734,
            201,
            514,
            677,
            248,
            1531,
            190,
            1069,
            1083,
            208,
            234,
            845,
            635,
            1121,
            812,
            812,
            912,
            912,
            0,
            0,
            1600,
            1600,
            0,
            0,
            1600,
            1600,
            465,
            465,
            556,
            556
           ],
           "y": [
            200,
            600,
            1000,
            1400,
            200,
            600,
            1000,
            1400,
            200,
            600,
            1000,
            1400,
            200,
            600,
            1000,
            1400,
            527,
            582,
            1285,
            1009,
            798,
            293,
            757,
            793,
            970,
            298,
            1204,
            423,
            564,
            655,
            500,
            148,
            916,
            665,
            1039,
            276,
            957,
            237,
            1160,
            504,
            828,
            376,
            629,
            1173,
            830,
            867,
            1580,
            1302,
            1129,
            851,
            1098,
            128,
            1291,
            516,
            121,
            1058,
            541,
            809,
            904,
            638,
            509,
            169,
            291,
            920,
            713,
            655,
            944,
            941,
            559,
            154,
            1201,
            1588,
            1461,
            751,
            78,
            1438,
            1069,
            1502,
            1196,
            154,
            1070,
            332,
            860,
            445,
            909,
            13,
            1118,
            1063,
            942,
            939,
            1064,
            813,
            967,
            1304,
            780,
            703,
            796,
            686,
            703,
            361,
            138,
            687,
            277,
            608,
            1597,
            117,
            943,
            1028,
            620,
            133,
            1569,
            1050,
            802,
            1095,
            827,
            963,
            522,
            973,
            544,
            567,
            179,
            904,
            1078,
            508,
            1566,
            474,
            699,
            1548,
            287,
            334,
            30,
            212,
            577,
            951,
            1239,
            598,
            1189,
            991,
            1510,
            535,
            1452,
            418,
            596,
            527,
            1237,
            957,
            632,
            1090,
            854,
            916,
            1442,
            726,
            805,
            999,
            745,
            150,
            77,
            845,
            222.91206409643954,
            628,
            387,
            851,
            1245,
            1364,
            1468,
            898,
            662,
            674,
            1414,
            172,
            1461,
            545,
            1068,
            1342,
            69,
            546,
            688,
            1330,
            579,
            1146,
            601,
            536,
            211,
            101,
            1449,
            1261,
            1082,
            1001,
            859,
            676,
            1465,
            1160,
            804,
            439,
            816,
            637,
            434,
            755,
            268,
            862,
            1381,
            1461,
            776,
            748,
            139,
            884,
            944,
            1120,
            911,
            529,
            145,
            1257,
            1592,
            1148,
            626,
            912,
            0,
            1600,
            1600,
            0,
            257,
            357,
            357,
            257,
            85,
            185,
            185,
            85,
            80,
            260,
            260,
            80
           ]
          }
         ],
         "layout": {
          "title": "UE and AP Distribution in the grid"
         }
        }
       ],
       "layout": {
        "height": 1000,
        "shapes": [
         {
          "fillcolor": "rgba(128, 0, 128 0.1)",
          "line": {
           "color": "rgba(128, 0, 128, 1)",
           "width": 2
          },
          "type": "rect",
          "x0": 812,
          "x1": 912,
          "y0": 0,
          "y1": 1600
         },
         {
          "fillcolor": "rgba(128, 0, 128 0.1)",
          "line": {
           "color": "rgba(128, 0, 128, 1)",
           "width": 2
          },
          "type": "rect",
          "x0": 0,
          "x1": 1600,
          "y0": 257,
          "y1": 357
         },
         {
          "fillcolor": "rgba(128, 0, 128 0.1)",
          "line": {
           "color": "rgba(128, 0, 128, 1)",
           "width": 2
          },
          "type": "rect",
          "x0": 0,
          "x1": 1600,
          "y0": 85,
          "y1": 185
         },
         {
          "fillcolor": "rgba(128, 0, 128 0.1)",
          "line": {
           "color": "rgba(128, 0, 128, 1)",
           "width": 2
          },
          "type": "rect",
          "x0": 465,
          "x1": 556,
          "y0": 80,
          "y1": 260
         }
        ],
        "showlegend": false,
        "title": "UE and AP Distribution in the grid",
        "updatemenus": [
         {
          "buttons": [
           {
            "args": [
             null
            ],
            "label": "Play",
            "method": "animate"
           }
          ],
          "type": "buttons"
         }
        ],
        "width": 1000,
        "xaxis": {
         "range": [
          0,
          1600
         ],
         "title": "x"
        },
        "yaxis": {
         "range": [
          0,
          1600
         ],
         "title": "y"
        }
       }
      },
      "text/html": [
       "<div id=\"e0b0fd07-a5c0-4c22-a1da-50ae98237b66\" style=\"height: 1000px; width: 1000px;\" class=\"plotly-graph-div\"></div><script type=\"text/javascript\">require([\"plotly\"], function(Plotly) { window.PLOTLYENV=window.PLOTLYENV || {};window.PLOTLYENV.BASE_URL=\"https://plot.ly\";\n",
       "        Plotly.plot(\n",
       "            'e0b0fd07-a5c0-4c22-a1da-50ae98237b66',\n",
       "            [{\"type\": \"scatter\", \"x\": [600.0, 953], \"y\": [600.0, 528], \"mode\": \"lines\", \"line\": {\"width\": 2, \"color\": \"green\"}}, {\"type\": \"scatter\", \"x\": [1000.0, 1166], \"y\": [600.0, 582], \"mode\": \"lines\", \"line\": {\"width\": 2, \"color\": \"green\"}}, {\"type\": \"scatter\", \"x\": [1000.0, 1178], \"y\": [1400.0, 1287], \"mode\": \"lines\", \"line\": {\"width\": 2, \"color\": \"green\"}}, {\"type\": \"scatter\", \"x\": [1000.0, 1041], \"y\": [1000.0, 1009], \"mode\": \"lines\", \"line\": {\"width\": 2, \"color\": \"green\"}}, {\"type\": \"scatter\", \"x\": [1400.0, 1381], \"y\": [600.0, 796], \"mode\": \"lines\", \"line\": {\"width\": 2, \"color\": \"green\"}}, {\"type\": \"scatter\", \"x\": [600.0, 499], \"y\": [200.0, 293], \"mode\": \"lines\", \"line\": {\"width\": 2, \"color\": \"green\"}}, {\"type\": \"scatter\", \"x\": [200.0, 12], \"y\": [1000.0, 758], \"mode\": \"lines\", \"line\": {\"width\": 2, \"color\": \"green\"}}, {\"type\": \"scatter\", \"x\": [1000.0, 602], \"y\": [600.0, 794], \"mode\": \"lines\", \"line\": {\"width\": 2, \"color\": \"red\"}}, {\"type\": \"scatter\", \"x\": [600.0, 706], \"y\": [1000.0, 968], \"mode\": \"lines\", \"line\": {\"width\": 2, \"color\": \"green\"}}, {\"type\": \"scatter\", \"x\": [1400.0, 1411], \"y\": [200.0, 298], \"mode\": \"lines\", \"line\": {\"width\": 2, \"color\": \"green\"}}, {\"type\": \"scatter\", \"x\": [600.0, 596], \"y\": [1400.0, 1204], \"mode\": \"lines\", \"line\": {\"width\": 2, \"color\": \"green\"}}, {\"type\": \"scatter\", \"x\": [1400.0, 1292], \"y\": [600.0, 423], \"mode\": \"lines\", \"line\": {\"width\": 2, \"color\": \"green\"}}, {\"type\": \"scatter\", \"x\": [600.0, 529], \"y\": [600.0, 562], \"mode\": \"lines\", \"line\": {\"width\": 2, \"color\": \"green\"}}, {\"type\": \"scatter\", \"x\": [1400.0, 1447], \"y\": [1000.0, 655], \"mode\": \"lines\", \"line\": {\"width\": 2, \"color\": \"green\"}}, {\"type\": \"scatter\", \"x\": [600.0, 603], \"y\": [200.0, 500], \"mode\": \"lines\", \"line\": {\"width\": 2, \"color\": \"green\"}}, {\"type\": \"scatter\", \"x\": [1400.0, 1464], \"y\": [200.0, 148], \"mode\": \"lines\", \"line\": {\"width\": 2, \"color\": \"green\"}}, {\"type\": \"scatter\", \"x\": [600.0, 959], \"y\": [600.0, 915], \"mode\": \"lines\", \"line\": {\"width\": 2, \"color\": \"green\"}}, {\"type\": \"scatter\", \"x\": [600.0, 748], \"y\": [600.0, 664], \"mode\": \"lines\", \"line\": {\"width\": 2, \"color\": \"green\"}}, {\"type\": \"scatter\", \"x\": [600.0, 691], \"y\": [1000.0, 1038], \"mode\": \"lines\", \"line\": {\"width\": 2, \"color\": \"green\"}}, {\"type\": \"scatter\", \"x\": [600.0, 742], \"y\": [200.0, 276], \"mode\": \"lines\", \"line\": {\"width\": 2, \"color\": \"green\"}}, {\"type\": \"scatter\", \"x\": [1000.0, 702], \"y\": [1000.0, 957], \"mode\": \"lines\", \"line\": {\"width\": 2, \"color\": \"red\"}}, {\"type\": \"scatter\", \"x\": [200.0, 372], \"y\": [200.0, 235], \"mode\": \"lines\", \"line\": {\"width\": 2, \"color\": \"green\"}}, {\"type\": \"scatter\", \"x\": [1000.0, 921], \"y\": [1000.0, 1158], \"mode\": \"lines\", \"line\": {\"width\": 2, \"color\": \"green\"}}, {\"type\": \"scatter\", \"x\": [200.0, 37], \"y\": [600.0, 504], \"mode\": \"lines\", \"line\": {\"width\": 2, \"color\": \"green\"}}, {\"type\": \"scatter\", \"x\": [1000.0, 861], \"y\": [1000.0, 876], \"mode\": \"lines\", \"line\": {\"width\": 2, \"color\": \"green\"}}, {\"type\": \"scatter\", \"x\": [1400.0, 1026], \"y\": [600.0, 377], \"mode\": \"lines\", \"line\": {\"width\": 2, \"color\": \"green\"}}, {\"type\": \"scatter\", \"x\": [1000.0, 938], \"y\": [600.0, 629], \"mode\": \"lines\", \"line\": {\"width\": 2, \"color\": \"green\"}}, {\"type\": \"scatter\", \"x\": [1400.0, 1599], \"y\": [1000.0, 1173], \"mode\": \"lines\", \"line\": {\"width\": 2, \"color\": \"green\"}}, {\"type\": \"scatter\", \"x\": [600.0, 667], \"y\": [1000.0, 831], \"mode\": \"lines\", \"line\": {\"width\": 2, \"color\": \"green\"}}, {\"type\": \"scatter\", \"x\": [200.0, 269], \"y\": [1000.0, 868], \"mode\": \"lines\", \"line\": {\"width\": 2, \"color\": \"green\"}}, {\"type\": \"scatter\", \"x\": [1400.0, 1024], \"y\": [1400.0, 1578], \"mode\": \"lines\", \"line\": {\"width\": 2, \"color\": \"green\"}}, {\"type\": \"scatter\", \"x\": [1000.0, 896], \"y\": [1400.0, 1347], \"mode\": \"lines\", \"line\": {\"width\": 2, \"color\": \"green\"}}, {\"type\": \"scatter\", \"x\": [1400.0, 1527], \"y\": [1000.0, 1130], \"mode\": \"lines\", \"line\": {\"width\": 2, \"color\": \"green\"}}, {\"type\": \"scatter\", \"x\": [1000.0, 1068], \"y\": [1000.0, 853], \"mode\": \"lines\", \"line\": {\"width\": 2, \"color\": \"green\"}}, {\"type\": \"scatter\", \"x\": [200.0, 584], \"y\": [1400.0, 1097], \"mode\": \"lines\", \"line\": {\"width\": 2, \"color\": \"green\"}}, {\"type\": \"scatter\", \"x\": [200.0, 84], \"y\": [200.0, 128], \"mode\": \"lines\", \"line\": {\"width\": 2, \"color\": \"green\"}}, {\"type\": \"scatter\", \"x\": [1400.0, 1492], \"y\": [1400.0, 1293], \"mode\": \"lines\", \"line\": {\"width\": 2, \"color\": \"green\"}}, {\"type\": \"scatter\", \"x\": [1000.0, 1125], \"y\": [600.0, 517], \"mode\": \"lines\", \"line\": {\"width\": 2, \"color\": \"green\"}}, {\"type\": \"scatter\", \"x\": [600.0, 765], \"y\": [200.0, 121], \"mode\": \"lines\", \"line\": {\"width\": 2, \"color\": \"green\"}}, {\"type\": \"scatter\", \"x\": [1400.0, 1099], \"y\": [1400.0, 1056], \"mode\": \"lines\", \"line\": {\"width\": 2, \"color\": \"green\"}}, {\"type\": \"scatter\", \"x\": [600.0, 701], \"y\": [200.0, 541], \"mode\": \"lines\", \"line\": {\"width\": 2, \"color\": \"red\"}}, {\"type\": \"scatter\", \"x\": [1400.0, 1498], \"y\": [1000.0, 811], \"mode\": \"lines\", \"line\": {\"width\": 2, \"color\": \"green\"}}, {\"type\": \"scatter\", \"x\": [1000.0, 971], \"y\": [1000.0, 902], \"mode\": \"lines\", \"line\": {\"width\": 2, \"color\": \"green\"}}, {\"type\": \"scatter\", \"x\": [1000.0, 920], \"y\": [600.0, 636], \"mode\": \"lines\", \"line\": {\"width\": 2, \"color\": \"green\"}}, {\"type\": \"scatter\", \"x\": [200.0, 588], \"y\": [600.0, 510], \"mode\": \"lines\", \"line\": {\"width\": 2, \"color\": \"red\"}}, {\"type\": \"scatter\", \"x\": [200.0, 167], \"y\": [200.0, 169], \"mode\": \"lines\", \"line\": {\"width\": 2, \"color\": \"green\"}}, {\"type\": \"scatter\", \"x\": [1400.0, 1395], \"y\": [200.0, 291], \"mode\": \"lines\", \"line\": {\"width\": 2, \"color\": \"green\"}}, {\"type\": \"scatter\", \"x\": [200.0, 52], \"y\": [1000.0, 919], \"mode\": \"lines\", \"line\": {\"width\": 2, \"color\": \"green\"}}, {\"type\": \"scatter\", \"x\": [200.0, 46], \"y\": [1000.0, 714], \"mode\": \"lines\", \"line\": {\"width\": 2, \"color\": \"green\"}}, {\"type\": \"scatter\", \"x\": [1000.0, 1053], \"y\": [600.0, 657], \"mode\": \"lines\", \"line\": {\"width\": 2, \"color\": \"green\"}}, {\"type\": \"scatter\", \"x\": [600.0, 650], \"y\": [600.0, 942], \"mode\": \"lines\", \"line\": {\"width\": 2, \"color\": \"red\"}}, {\"type\": \"scatter\", \"x\": [600.0, 683], \"y\": [1000.0, 939], \"mode\": \"lines\", \"line\": {\"width\": 2, \"color\": \"green\"}}, {\"type\": \"scatter\", \"x\": [200.0, 203], \"y\": [600.0, 561], \"mode\": \"lines\", \"line\": {\"width\": 2, \"color\": \"green\"}}, {\"type\": \"scatter\", \"x\": [600.0, 247], \"y\": [200.0, 154], \"mode\": \"lines\", \"line\": {\"width\": 2, \"color\": \"green\"}}, {\"type\": \"scatter\", \"x\": [600.0, 659], \"y\": [1400.0, 1203], \"mode\": \"lines\", \"line\": {\"width\": 2, \"color\": \"green\"}}, {\"type\": \"scatter\", \"x\": [1000.0, 1027], \"y\": [1400.0, 1587], \"mode\": \"lines\", \"line\": {\"width\": 2, \"color\": \"green\"}}, {\"type\": \"scatter\", \"x\": [1000.0, 1155], \"y\": [1400.0, 1463], \"mode\": \"lines\", \"line\": {\"width\": 2, \"color\": \"green\"}}, {\"type\": \"scatter\", \"x\": [1000.0, 925], \"y\": [600.0, 753], \"mode\": \"lines\", \"line\": {\"width\": 2, \"color\": \"green\"}}, {\"type\": \"scatter\", \"x\": [600.0, 747], \"y\": [200.0, 79], \"mode\": \"lines\", \"line\": {\"width\": 2, \"color\": \"green\"}}, {\"type\": \"scatter\", \"x\": [1000.0, 1193], \"y\": [1400.0, 1439], \"mode\": \"lines\", \"line\": {\"width\": 2, \"color\": \"green\"}}, {\"type\": \"scatter\", \"x\": [1000.0, 1103], \"y\": [1000.0, 1067], \"mode\": \"lines\", \"line\": {\"width\": 2, \"color\": \"green\"}}, {\"type\": \"scatter\", \"x\": [600.0, 944], \"y\": [1400.0, 1502], \"mode\": \"lines\", \"line\": {\"width\": 2, \"color\": \"green\"}}, {\"type\": \"scatter\", \"x\": [600.0, 618], \"y\": [1000.0, 1198], \"mode\": \"lines\", \"line\": {\"width\": 2, \"color\": \"green\"}}, {\"type\": \"scatter\", \"x\": [600.0, 922], \"y\": [200.0, 154], \"mode\": \"lines\", \"line\": {\"width\": 2, \"color\": \"green\"}}, {\"type\": \"scatter\", \"x\": [600.0, 672], \"y\": [1400.0, 1072], \"mode\": \"lines\", \"line\": {\"width\": 2, \"color\": \"green\"}}, {\"type\": \"scatter\", \"x\": [200.0, 126], \"y\": [600.0, 332], \"mode\": \"lines\", \"line\": {\"width\": 2, \"color\": \"green\"}}, {\"type\": \"scatter\", \"x\": [600.0, 546], \"y\": [600.0, 858], \"mode\": \"lines\", \"line\": {\"width\": 2, \"color\": \"red\"}}, {\"type\": \"scatter\", \"x\": [200.0, 119], \"y\": [600.0, 444], \"mode\": \"lines\", \"line\": {\"width\": 2, \"color\": \"green\"}}, {\"type\": \"scatter\", \"x\": [600.0, 897], \"y\": [1000.0, 852], \"mode\": \"lines\", \"line\": {\"width\": 2, \"color\": \"red\"}}, {\"type\": \"scatter\", \"x\": [1400.0, 1491], \"y\": [200.0, 12], \"mode\": \"lines\", \"line\": {\"width\": 2, \"color\": \"green\"}}, {\"type\": \"scatter\", \"x\": [600.0, 800], \"y\": [1000.0, 1120], \"mode\": \"lines\", \"line\": {\"width\": 2, \"color\": \"green\"}}, {\"type\": \"scatter\", \"x\": [1000.0, 1185], \"y\": [1000.0, 1064], \"mode\": \"lines\", \"line\": {\"width\": 2, \"color\": \"green\"}}, {\"type\": \"scatter\", \"x\": [600.0, 615], \"y\": [1000.0, 941], \"mode\": \"lines\", \"line\": {\"width\": 2, \"color\": \"green\"}}, {\"type\": \"scatter\", \"x\": [1000.0, 1167], \"y\": [600.0, 938], \"mode\": \"lines\", \"line\": {\"width\": 2, \"color\": \"green\"}}, {\"type\": \"scatter\", \"x\": [200.0, 270], \"y\": [1000.0, 1064], \"mode\": \"lines\", \"line\": {\"width\": 2, \"color\": \"green\"}}, {\"type\": \"scatter\", \"x\": [600.0, 537], \"y\": [1000.0, 814], \"mode\": \"lines\", \"line\": {\"width\": 2, \"color\": \"green\"}}, {\"type\": \"scatter\", \"x\": [1000.0, 816], \"y\": [1000.0, 1008], \"mode\": \"lines\", \"line\": {\"width\": 2, \"color\": \"green\"}}, {\"type\": \"scatter\", \"x\": [1400.0, 1379], \"y\": [1400.0, 1306], \"mode\": \"lines\", \"line\": {\"width\": 2, \"color\": \"green\"}}, {\"type\": \"scatter\", \"x\": [600.0, 626], \"y\": [600.0, 781], \"mode\": \"lines\", \"line\": {\"width\": 2, \"color\": \"green\"}}, {\"type\": \"scatter\", \"x\": [1000.0, 836], \"y\": [1000.0, 675], \"mode\": \"lines\", \"line\": {\"width\": 2, \"color\": \"red\"}}, {\"type\": \"scatter\", \"x\": [1000.0, 851], \"y\": [1000.0, 852], \"mode\": \"lines\", \"line\": {\"width\": 2, \"color\": \"red\"}}, {\"type\": \"scatter\", \"x\": [600.0, 609], \"y\": [1000.0, 686], \"mode\": \"lines\", \"line\": {\"width\": 2, \"color\": \"red\"}}, {\"type\": \"scatter\", \"x\": [1000.0, 840], \"y\": [600.0, 749], \"mode\": \"lines\", \"line\": {\"width\": 2, \"color\": \"green\"}}, {\"type\": \"scatter\", \"x\": [1000.0, 1092], \"y\": [200.0, 360], \"mode\": \"lines\", \"line\": {\"width\": 2, \"color\": \"green\"}}, {\"type\": \"scatter\", \"x\": [200.0, 281], \"y\": [200.0, 138], \"mode\": \"lines\", \"line\": {\"width\": 2, \"color\": \"green\"}}, {\"type\": \"scatter\", \"x\": [200.0, 86], \"y\": [600.0, 688], \"mode\": \"lines\", \"line\": {\"width\": 2, \"color\": \"green\"}}, {\"type\": \"scatter\", \"x\": [600.0, 491], \"y\": [200.0, 277], \"mode\": \"lines\", \"line\": {\"width\": 2, \"color\": \"green\"}}, {\"type\": \"scatter\", \"x\": [200.0, 356], \"y\": [600.0, 607], \"mode\": \"lines\", \"line\": {\"width\": 2, \"color\": \"green\"}}, {\"type\": \"scatter\", \"x\": [200.0, 351], \"y\": [1400.0, 1595], \"mode\": \"lines\", \"line\": {\"width\": 2, \"color\": \"green\"}}, {\"type\": \"scatter\", \"x\": [1000.0, 1084], \"y\": [200.0, 117], \"mode\": \"lines\", \"line\": {\"width\": 2, \"color\": \"green\"}}, {\"type\": \"scatter\", \"x\": [200.0, 168], \"y\": [600.0, 945], \"mode\": \"lines\", \"line\": {\"width\": 2, \"color\": \"green\"}}, {\"type\": \"scatter\", \"x\": [600.0, 768], \"y\": [1000.0, 1028], \"mode\": \"lines\", \"line\": {\"width\": 2, \"color\": \"red\"}}, {\"type\": \"scatter\", \"x\": [1400.0, 1406], \"y\": [1000.0, 620], \"mode\": \"lines\", \"line\": {\"width\": 2, \"color\": \"green\"}}, {\"type\": \"scatter\", \"x\": [1400.0, 1491], \"y\": [200.0, 133], \"mode\": \"lines\", \"line\": {\"width\": 2, \"color\": \"green\"}}, {\"type\": \"scatter\", \"x\": [1000.0, 826], \"y\": [1400.0, 1532], \"mode\": \"lines\", \"line\": {\"width\": 2, \"color\": \"green\"}}, {\"type\": \"scatter\", \"x\": [1400.0, 1584], \"y\": [1400.0, 1048], \"mode\": \"lines\", \"line\": {\"width\": 2, \"color\": \"green\"}}, {\"type\": \"scatter\", \"x\": [1000.0, 1069], \"y\": [1000.0, 803], \"mode\": \"lines\", \"line\": {\"width\": 2, \"color\": \"green\"}}, {\"type\": \"scatter\", \"x\": [600.0, 539], \"y\": [1400.0, 1096], \"mode\": \"lines\", \"line\": {\"width\": 2, \"color\": \"green\"}}, {\"type\": \"scatter\", \"x\": [200.0, 514], \"y\": [600.0, 827], \"mode\": \"lines\", \"line\": {\"width\": 2, \"color\": \"green\"}}, {\"type\": \"scatter\", \"x\": [600.0, 590], \"y\": [600.0, 965], \"mode\": \"lines\", \"line\": {\"width\": 2, \"color\": \"red\"}}, {\"type\": \"scatter\", \"x\": [1000.0, 819], \"y\": [600.0, 478], \"mode\": \"lines\", \"line\": {\"width\": 2, \"color\": \"green\"}}, {\"type\": \"scatter\", \"x\": [200.0, 347], \"y\": [1000.0, 972], \"mode\": \"lines\", \"line\": {\"width\": 2, \"color\": \"green\"}}, {\"type\": \"scatter\", \"x\": [1000.0, 796], \"y\": [600.0, 546], \"mode\": \"lines\", \"line\": {\"width\": 2, \"color\": \"red\"}}, {\"type\": \"scatter\", \"x\": [200.0, 339], \"y\": [600.0, 568], \"mode\": \"lines\", \"line\": {\"width\": 2, \"color\": \"green\"}}, {\"type\": \"scatter\", \"x\": [1000.0, 933], \"y\": [200.0, 179], \"mode\": \"lines\", \"line\": {\"width\": 2, \"color\": \"green\"}}, {\"type\": \"scatter\", \"x\": [200.0, 81], \"y\": [600.0, 906], \"mode\": \"lines\", \"line\": {\"width\": 2, \"color\": \"green\"}}, {\"type\": \"scatter\", \"x\": [200.0, 138], \"y\": [1000.0, 1080], \"mode\": \"lines\", \"line\": {\"width\": 2, \"color\": \"green\"}}, {\"type\": \"scatter\", \"x\": [200.0, 42], \"y\": [600.0, 510], \"mode\": \"lines\", \"line\": {\"width\": 2, \"color\": \"green\"}}, {\"type\": \"scatter\", \"x\": [200.0, 208], \"y\": [1400.0, 1568], \"mode\": \"lines\", \"line\": {\"width\": 2, \"color\": \"green\"}}, {\"type\": \"scatter\", \"x\": [200.0, 259], \"y\": [600.0, 472], \"mode\": \"lines\", \"line\": {\"width\": 2, \"color\": \"green\"}}, {\"type\": \"scatter\", \"x\": [1400.0, 1555], \"y\": [600.0, 700], \"mode\": \"lines\", \"line\": {\"width\": 2, \"color\": \"green\"}}, {\"type\": \"scatter\", \"x\": [1000.0, 995], \"y\": [1400.0, 1547], \"mode\": \"lines\", \"line\": {\"width\": 2, \"color\": \"green\"}}, {\"type\": \"scatter\", \"x\": [1400.0, 1472], \"y\": [200.0, 287], \"mode\": \"lines\", \"line\": {\"width\": 2, \"color\": \"green\"}}, {\"type\": \"scatter\", \"x\": [600.0, 728], \"y\": [200.0, 334], \"mode\": \"lines\", \"line\": {\"width\": 2, \"color\": \"green\"}}, {\"type\": \"scatter\", \"x\": [600.0, 414], \"y\": [200.0, 32], \"mode\": \"lines\", \"line\": {\"width\": 2, \"color\": \"green\"}}, {\"type\": \"scatter\", \"x\": [200.0, 199], \"y\": [200.0, 214], \"mode\": \"lines\", \"line\": {\"width\": 2, \"color\": \"green\"}}, {\"type\": \"scatter\", \"x\": [1000.0, 1138], \"y\": [600.0, 575], \"mode\": \"lines\", \"line\": {\"width\": 2, \"color\": \"green\"}}, {\"type\": \"scatter\", \"x\": [600.0, 521], \"y\": [600.0, 949], \"mode\": \"lines\", \"line\": {\"width\": 2, \"color\": \"green\"}}, {\"type\": \"scatter\", \"x\": [600.0, 696], \"y\": [1400.0, 1241], \"mode\": \"lines\", \"line\": {\"width\": 2, \"color\": \"green\"}}, {\"type\": \"scatter\", \"x\": [1400.0, 1382], \"y\": [600.0, 596], \"mode\": \"lines\", \"line\": {\"width\": 2, \"color\": \"green\"}}, {\"type\": \"scatter\", \"x\": [1000.0, 1240], \"y\": [1000.0, 1188], \"mode\": \"lines\", \"line\": {\"width\": 2, \"color\": \"green\"}}, {\"type\": \"scatter\", \"x\": [1000.0, 1057], \"y\": [1000.0, 989], \"mode\": \"lines\", \"line\": {\"width\": 2, \"color\": \"red\"}}, {\"type\": \"scatter\", \"x\": [200.0, 302], \"y\": [1400.0, 1508], \"mode\": \"lines\", \"line\": {\"width\": 2, \"color\": \"green\"}}, {\"type\": \"scatter\", \"x\": [1000.0, 698], \"y\": [600.0, 536], \"mode\": \"lines\", \"line\": {\"width\": 2, \"color\": \"green\"}}, {\"type\": \"scatter\", \"x\": [600.0, 575], \"y\": [1400.0, 1452], \"mode\": \"lines\", \"line\": {\"width\": 2, \"color\": \"green\"}}, {\"type\": \"scatter\", \"x\": [1400.0, 1499], \"y\": [600.0, 416], \"mode\": \"lines\", \"line\": {\"width\": 2, \"color\": \"green\"}}, {\"type\": \"scatter\", \"x\": [200.0, 242], \"y\": [600.0, 596], \"mode\": \"lines\", \"line\": {\"width\": 2, \"color\": \"green\"}}, {\"type\": \"scatter\", \"x\": [1400.0, 1451], \"y\": [600.0, 528], \"mode\": \"lines\", \"line\": {\"width\": 2, \"color\": \"green\"}}, {\"type\": \"scatter\", \"x\": [200.0, 171], \"y\": [1400.0, 1237], \"mode\": \"lines\", \"line\": {\"width\": 2, \"color\": \"green\"}}, {\"type\": \"scatter\", \"x\": [1400.0, 1538], \"y\": [1000.0, 959], \"mode\": \"lines\", \"line\": {\"width\": 2, \"color\": \"green\"}}, {\"type\": \"scatter\", \"x\": [600.0, 569], \"y\": [600.0, 633], \"mode\": \"lines\", \"line\": {\"width\": 2, \"color\": \"green\"}}, {\"type\": \"scatter\", \"x\": [600.0, 677], \"y\": [1400.0, 1091], \"mode\": \"lines\", \"line\": {\"width\": 2, \"color\": \"green\"}}, {\"type\": \"scatter\", \"x\": [1000.0, 972], \"y\": [600.0, 855], \"mode\": \"lines\", \"line\": {\"width\": 2, \"color\": \"green\"}}, {\"type\": \"scatter\", \"x\": [1000.0, 951], \"y\": [1000.0, 914], \"mode\": \"lines\", \"line\": {\"width\": 2, \"color\": \"green\"}}, {\"type\": \"scatter\", \"x\": [200.0, 294], \"y\": [1400.0, 1443], \"mode\": \"lines\", \"line\": {\"width\": 2, \"color\": \"green\"}}, {\"type\": \"scatter\", \"x\": [600.0, 651], \"y\": [600.0, 728], \"mode\": \"lines\", \"line\": {\"width\": 2, \"color\": \"red\"}}, {\"type\": \"scatter\", \"x\": [600.0, 773], \"y\": [1000.0, 807], \"mode\": \"lines\", \"line\": {\"width\": 2, \"color\": \"green\"}}, {\"type\": \"scatter\", \"x\": [200.0, 134], \"y\": [1000.0, 1000], \"mode\": \"lines\", \"line\": {\"width\": 2, \"color\": \"green\"}}, {\"type\": \"scatter\", \"x\": [200.0, 158], \"y\": [600.0, 746], \"mode\": \"lines\", \"line\": {\"width\": 2, \"color\": \"green\"}}, {\"type\": \"scatter\", \"x\": [600.0, 629], \"y\": [200.0, 150], \"mode\": \"lines\", \"line\": {\"width\": 2, \"color\": \"green\"}}, {\"type\": \"scatter\", \"x\": [1000.0, 847], \"y\": [200.0, 114], \"mode\": \"lines\", \"line\": {\"width\": 2, \"color\": \"green\"}}, {\"type\": \"scatter\", \"x\": [1400.0, 1392], \"y\": [1000.0, 847], \"mode\": \"lines\", \"line\": {\"width\": 2, \"color\": \"green\"}}, {\"type\": \"scatter\", \"x\": [600.0, 524], \"y\": [200.0, 222], \"mode\": \"lines\", \"line\": {\"width\": 2, \"color\": \"green\"}}, {\"type\": \"scatter\", \"x\": [200.0, 222], \"y\": [600.0, 630], \"mode\": \"lines\", \"line\": {\"width\": 2, \"color\": \"green\"}}, {\"type\": \"scatter\", \"x\": [1000.0, 1178], \"y\": [200.0, 385], \"mode\": \"lines\", \"line\": {\"width\": 2, \"color\": \"green\"}}, {\"type\": \"scatter\", \"x\": [1400.0, 1361], \"y\": [1000.0, 851], \"mode\": \"lines\", \"line\": {\"width\": 2, \"color\": \"green\"}}, {\"type\": \"scatter\", \"x\": [600.0, 752], \"y\": [1400.0, 1246], \"mode\": \"lines\", \"line\": {\"width\": 2, \"color\": \"green\"}}, {\"type\": \"scatter\", \"x\": [1000.0, 829], \"y\": [1000.0, 1386], \"mode\": \"lines\", \"line\": {\"width\": 2, \"color\": \"green\"}}, {\"type\": \"scatter\", \"x\": [200.0, 171], \"y\": [1400.0, 1468], \"mode\": \"lines\", \"line\": {\"width\": 2, \"color\": \"green\"}}, {\"type\": \"scatter\", \"x\": [600.0, 516], \"y\": [600.0, 896], \"mode\": \"lines\", \"line\": {\"width\": 2, \"color\": \"red\"}}, {\"type\": \"scatter\", \"x\": [1000.0, 1021], \"y\": [600.0, 660], \"mode\": \"lines\", \"line\": {\"width\": 2, \"color\": \"green\"}}, {\"type\": \"scatter\", \"x\": [600.0, 594], \"y\": [1000.0, 672], \"mode\": \"lines\", \"line\": {\"width\": 2, \"color\": \"green\"}}, {\"type\": \"scatter\", \"x\": [200.0, 186], \"y\": [1400.0, 1415], \"mode\": \"lines\", \"line\": {\"width\": 2, \"color\": \"green\"}}, {\"type\": \"scatter\", \"x\": [200.0, 162], \"y\": [200.0, 172], \"mode\": \"lines\", \"line\": {\"width\": 2, \"color\": \"green\"}}, {\"type\": \"scatter\", \"x\": [1400.0, 1594], \"y\": [1400.0, 1461], \"mode\": \"lines\", \"line\": {\"width\": 2, \"color\": \"green\"}}, {\"type\": \"scatter\", \"x\": [1000.0, 921], \"y\": [600.0, 543], \"mode\": \"lines\", \"line\": {\"width\": 2, \"color\": \"green\"}}, {\"type\": \"scatter\", \"x\": [600.0, 591], \"y\": [1400.0, 1070], \"mode\": \"lines\", \"line\": {\"width\": 2, \"color\": \"green\"}}, {\"type\": \"scatter\", \"x\": [600.0, 609], \"y\": [1400.0, 1341], \"mode\": \"lines\", \"line\": {\"width\": 2, \"color\": \"green\"}}, {\"type\": \"scatter\", \"x\": [1400.0, 1450], \"y\": [200.0, 69], \"mode\": \"lines\", \"line\": {\"width\": 2, \"color\": \"green\"}}, {\"type\": \"scatter\", \"x\": [1000.0, 796], \"y\": [600.0, 546], \"mode\": \"lines\", \"line\": {\"width\": 2, \"color\": \"red\"}}, {\"type\": \"scatter\", \"x\": [200.0, 338], \"y\": [600.0, 687], \"mode\": \"lines\", \"line\": {\"width\": 2, \"color\": \"green\"}}, {\"type\": \"scatter\", \"x\": [600.0, 426], \"y\": [1400.0, 1332], \"mode\": \"lines\", \"line\": {\"width\": 2, \"color\": \"green\"}}, {\"type\": \"scatter\", \"x\": [1400.0, 1294], \"y\": [600.0, 579], \"mode\": \"lines\", \"line\": {\"width\": 2, \"color\": \"green\"}}, {\"type\": \"scatter\", \"x\": [1400.0, 1252], \"y\": [1000.0, 1148], \"mode\": \"lines\", \"line\": {\"width\": 2, \"color\": \"green\"}}, {\"type\": \"scatter\", \"x\": [600.0, 906], \"y\": [600.0, 555], \"mode\": \"lines\", \"line\": {\"width\": 2, \"color\": \"red\"}}, {\"type\": \"scatter\", \"x\": [600.0, 632], \"y\": [200.0, 538], \"mode\": \"lines\", \"line\": {\"width\": 2, \"color\": \"red\"}}, {\"type\": \"scatter\", \"x\": [1400.0, 1238], \"y\": [200.0, 210], \"mode\": \"lines\", \"line\": {\"width\": 2, \"color\": \"green\"}}, {\"type\": \"scatter\", \"x\": [200.0, 249], \"y\": [200.0, 101], \"mode\": \"lines\", \"line\": {\"width\": 2, \"color\": \"green\"}}, {\"type\": \"scatter\", \"x\": [1000.0, 648], \"y\": [1400.0, 1449], \"mode\": \"lines\", \"line\": {\"width\": 2, \"color\": \"green\"}}, {\"type\": \"scatter\", \"x\": [200.0, 307], \"y\": [1400.0, 1262], \"mode\": \"lines\", \"line\": {\"width\": 2, \"color\": \"green\"}}, {\"type\": \"scatter\", \"x\": [1000.0, 1039], \"y\": [1000.0, 1084], \"mode\": \"lines\", \"line\": {\"width\": 2, \"color\": \"green\"}}, {\"type\": \"scatter\", \"x\": [1000.0, 1062], \"y\": [1000.0, 999], \"mode\": \"lines\", \"line\": {\"width\": 2, \"color\": \"red\"}}, {\"type\": \"scatter\", \"x\": [600.0, 818], \"y\": [1000.0, 887], \"mode\": \"lines\", \"line\": {\"width\": 2, \"color\": \"red\"}}, {\"type\": \"scatter\", \"x\": [1000.0, 956], \"y\": [1000.0, 674], \"mode\": \"lines\", \"line\": {\"width\": 2, \"color\": \"red\"}}, {\"type\": \"scatter\", \"x\": [1000.0, 985], \"y\": [1400.0, 1464], \"mode\": \"lines\", \"line\": {\"width\": 2, \"color\": \"green\"}}, {\"type\": \"scatter\", \"x\": [1000.0, 1084], \"y\": [1400.0, 1162], \"mode\": \"lines\", \"line\": {\"width\": 2, \"color\": \"green\"}}, {\"type\": \"scatter\", \"x\": [1000.0, 990], \"y\": [1000.0, 802], \"mode\": \"lines\", \"line\": {\"width\": 2, \"color\": \"green\"}}, {\"type\": \"scatter\", \"x\": [1000.0, 1139], \"y\": [200.0, 437], \"mode\": \"lines\", \"line\": {\"width\": 2, \"color\": \"green\"}}, {\"type\": \"scatter\", \"x\": [1000.0, 1091], \"y\": [1000.0, 817], \"mode\": \"lines\", \"line\": {\"width\": 2, \"color\": \"red\"}}, {\"type\": \"scatter\", \"x\": [1000.0, 968], \"y\": [1000.0, 635], \"mode\": \"lines\", \"line\": {\"width\": 2, \"color\": \"red\"}}, {\"type\": \"scatter\", \"x\": [1000.0, 1153], \"y\": [200.0, 436], \"mode\": \"lines\", \"line\": {\"width\": 2, \"color\": \"green\"}}, {\"type\": \"scatter\", \"x\": [1000.0, 1180], \"y\": [1000.0, 756], \"mode\": \"lines\", \"line\": {\"width\": 2, \"color\": \"green\"}}, {\"type\": \"scatter\", \"x\": [600.0, 545], \"y\": [200.0, 268], \"mode\": \"lines\", \"line\": {\"width\": 2, \"color\": \"green\"}}, {\"type\": \"scatter\", \"x\": [1400.0, 1317], \"y\": [1000.0, 862], \"mode\": \"lines\", \"line\": {\"width\": 2, \"color\": \"green\"}}, {\"type\": \"scatter\", \"x\": [600.0, 629], \"y\": [1400.0, 1379], \"mode\": \"lines\", \"line\": {\"width\": 2, \"color\": \"green\"}}, {\"type\": \"scatter\", \"x\": [1000.0, 1134], \"y\": [1400.0, 1461], \"mode\": \"lines\", \"line\": {\"width\": 2, \"color\": \"green\"}}, {\"type\": \"scatter\", \"x\": [600.0, 733], \"y\": [1000.0, 778], \"mode\": \"lines\", \"line\": {\"width\": 2, \"color\": \"green\"}}, {\"type\": \"scatter\", \"x\": [200.0, 201], \"y\": [600.0, 746], \"mode\": \"lines\", \"line\": {\"width\": 2, \"color\": \"green\"}}, {\"type\": \"scatter\", \"x\": [600.0, 536], \"y\": [200.0, 139], \"mode\": \"lines\", \"line\": {\"width\": 2, \"color\": \"green\"}}, {\"type\": \"scatter\", \"x\": [600.0, 675], \"y\": [1000.0, 883], \"mode\": \"lines\", \"line\": {\"width\": 2, \"color\": \"red\"}}, {\"type\": \"scatter\", \"x\": [200.0, 249], \"y\": [1000.0, 942], \"mode\": \"lines\", \"line\": {\"width\": 2, \"color\": \"green\"}}, {\"type\": \"scatter\", \"x\": [1400.0, 1530], \"y\": [1000.0, 1118], \"mode\": \"lines\", \"line\": {\"width\": 2, \"color\": \"green\"}}, {\"type\": \"scatter\", \"x\": [200.0, 191], \"y\": [1000.0, 913], \"mode\": \"lines\", \"line\": {\"width\": 2, \"color\": \"green\"}}, {\"type\": \"scatter\", \"x\": [1000.0, 1067], \"y\": [600.0, 529], \"mode\": \"lines\", \"line\": {\"width\": 2, \"color\": \"green\"}}, {\"type\": \"scatter\", \"x\": [1000.0, 1105], \"y\": [200.0, 145], \"mode\": \"lines\", \"line\": {\"width\": 2, \"color\": \"green\"}}, {\"type\": \"scatter\", \"x\": [200.0, 209], \"y\": [1400.0, 1255], \"mode\": \"lines\", \"line\": {\"width\": 2, \"color\": \"green\"}}, {\"type\": \"scatter\", \"x\": [200.0, 232], \"y\": [1400.0, 1591], \"mode\": \"lines\", \"line\": {\"width\": 2, \"color\": \"green\"}}, {\"type\": \"scatter\", \"x\": [1000.0, 845], \"y\": [1000.0, 1116], \"mode\": \"lines\", \"line\": {\"width\": 2, \"color\": \"green\"}}, {\"type\": \"scatter\", \"x\": [1000.0, 634], \"y\": [600.0, 627], \"mode\": \"lines\", \"line\": {\"width\": 2, \"color\": \"red\"}}, {\"type\": \"scatter\", \"x\": [1000.0, 1120], \"y\": [1000.0, 910], \"mode\": \"lines\", \"line\": {\"width\": 2, \"color\": \"green\"}}, {\"type\": \"scatter\", \"x\": [812, 812], \"y\": [0, 1600.0], \"mode\": \"lines\", \"line\": {\"width\": 2, \"color\": \"black\"}}, {\"type\": \"scatter\", \"x\": [812, 912], \"y\": [1600.0, 1600.0], \"mode\": \"lines\", \"line\": {\"width\": 2, \"color\": \"black\"}}, {\"type\": \"scatter\", \"x\": [912, 912], \"y\": [1600.0, 0], \"mode\": \"lines\", \"line\": {\"width\": 2, \"color\": \"black\"}}, {\"type\": \"scatter\", \"x\": [812, 912], \"y\": [0, 0], \"mode\": \"lines\", \"line\": {\"width\": 2, \"color\": \"black\"}}, {\"type\": \"scatter\", \"x\": [0, 0], \"y\": [257, 357], \"mode\": \"lines\", \"line\": {\"width\": 2, \"color\": \"black\"}}, {\"type\": \"scatter\", \"x\": [0, 1600.0], \"y\": [357, 357], \"mode\": \"lines\", \"line\": {\"width\": 2, \"color\": \"black\"}}, {\"type\": \"scatter\", \"x\": [1600.0, 1600.0], \"y\": [357, 257], \"mode\": \"lines\", \"line\": {\"width\": 2, \"color\": \"black\"}}, {\"type\": \"scatter\", \"x\": [0, 1600.0], \"y\": [257, 257], \"mode\": \"lines\", \"line\": {\"width\": 2, \"color\": \"black\"}}, {\"type\": \"scatter\", \"x\": [0, 0], \"y\": [85, 185], \"mode\": \"lines\", \"line\": {\"width\": 2, \"color\": \"black\"}}, {\"type\": \"scatter\", \"x\": [0, 1600.0], \"y\": [185, 185], \"mode\": \"lines\", \"line\": {\"width\": 2, \"color\": \"black\"}}, {\"type\": \"scatter\", \"x\": [1600.0, 1600.0], \"y\": [185, 85], \"mode\": \"lines\", \"line\": {\"width\": 2, \"color\": \"black\"}}, {\"type\": \"scatter\", \"x\": [0, 1600.0], \"y\": [85, 85], \"mode\": \"lines\", \"line\": {\"width\": 2, \"color\": \"black\"}}, {\"type\": \"scatter\", \"x\": [465, 465], \"y\": [80, 260], \"mode\": \"lines\", \"line\": {\"width\": 2, \"color\": \"black\"}}, {\"type\": \"scatter\", \"x\": [465, 556], \"y\": [260, 260], \"mode\": \"lines\", \"line\": {\"width\": 2, \"color\": \"black\"}}, {\"type\": \"scatter\", \"x\": [556, 556], \"y\": [260, 80], \"mode\": \"lines\", \"line\": {\"width\": 2, \"color\": \"black\"}}, {\"type\": \"scatter\", \"x\": [465, 556], \"y\": [80, 80], \"mode\": \"lines\", \"line\": {\"width\": 2, \"color\": \"black\"}}, {\"type\": \"scatter\", \"x\": [200.0, 200.0, 200.0, 200.0, 600.0, 600.0, 600.0, 600.0, 1000.0, 1000.0, 1000.0, 1000.0, 1400.0, 1400.0, 1400.0, 1400.0, 953, 1166, 1178, 1041, 1381, 499, 12, 602, 706, 1411, 596, 1292, 529, 1447, 603, 1464, 959, 748, 691, 742, 702, 372, 921, 37, 861, 1026, 938, 1599, 667, 269, 1024, 896, 1527, 1068, 584, 84, 1492, 1125, 765, 1099, 701, 1498, 971, 920, 588, 167, 1395, 52, 46, 1053, 650, 683, 203, 247, 659, 1027, 1155, 925, 747, 1193, 1103, 944, 618, 922, 672, 126, 546, 119, 897, 1491, 800, 1185, 615, 1167, 270, 537, 816, 1379, 626, 836, 851, 609, 840, 1092, 281, 86, 491, 356, 351, 1084, 168, 768, 1406, 1491, 826, 1584, 1069, 539, 514, 590, 819, 347, 796, 339, 933, 81, 138, 42, 208, 259, 1555, 995, 1472, 728, 414, 199, 1138, 521, 696, 1382, 1240, 1057, 302, 698, 575, 1499, 242, 1451, 171, 1538, 569, 677, 972, 951, 294, 651, 773, 134, 158, 629, 847, 1392, 524, 222, 1178, 1361, 752, 829, 171, 516, 1021, 594, 186, 162, 1594, 921, 591, 609, 1450, 796, 338, 426, 1294, 1252, 906, 632, 1238, 249, 648, 307, 1039, 1062, 818, 956, 985, 1084, 990, 1139, 1091, 968, 1153, 1180, 545, 1317, 629, 1134, 733, 201, 536, 675, 249, 1530, 191, 1067, 1105, 209, 232, 845, 634, 1120, 812, 812, 912, 912, 0, 0, 1600.0, 1600.0, 0, 0, 1600.0, 1600.0, 465, 465, 556, 556], \"y\": [200.0, 600.0, 1000.0, 1400.0, 200.0, 600.0, 1000.0, 1400.0, 200.0, 600.0, 1000.0, 1400.0, 200.0, 600.0, 1000.0, 1400.0, 528, 582, 1287, 1009, 796, 293, 758, 794, 968, 298, 1204, 423, 562, 655, 500, 148, 915, 664, 1038, 276, 957, 235, 1158, 504, 876, 377, 629, 1173, 831, 868, 1578, 1347, 1130, 853, 1097, 128, 1293, 517, 121, 1056, 541, 811, 902, 636, 510, 169, 291, 919, 714, 657, 942, 939, 561, 154, 1203, 1587, 1463, 753, 79, 1439, 1067, 1502, 1198, 154, 1072, 332, 858, 444, 852, 12, 1120, 1064, 941, 938, 1064, 814, 1008, 1306, 781, 675, 852, 686, 749, 360, 138, 688, 277, 607, 1595, 117, 945, 1028, 620, 133, 1532, 1048, 803, 1096, 827, 965, 478, 972, 546, 568, 179, 906, 1080, 510, 1568, 472, 700, 1547, 287, 334, 32, 214, 575, 949, 1241, 596, 1188, 989, 1508, 536, 1452, 416, 596, 528, 1237, 959, 633, 1091, 855, 914, 1443, 728, 807, 1000, 746, 150, 114, 847, 222, 630, 385, 851, 1246, 1386, 1468, 896, 660, 672, 1415, 172, 1461, 543, 1070, 1341, 69, 546, 687, 1332, 579, 1148, 555, 538, 210, 101, 1449, 1262, 1084, 999, 887, 674, 1464, 1162, 802, 437, 817, 635, 436, 756, 268, 862, 1379, 1461, 778, 746, 139, 883, 942, 1118, 913, 529, 145, 1255, 1591, 1116, 627, 910, 0, 1600.0, 1600.0, 0, 257, 357, 357, 257, 85, 185, 185, 85, 80, 260, 260, 80], \"mode\": \"markers\", \"marker\": {\"size\": 8, \"color\": [\"orange\", \"orange\", \"orange\", \"orange\", \"orange\", \"orange\", \"orange\", \"orange\", \"orange\", \"orange\", \"orange\", \"orange\", \"orange\", \"orange\", \"orange\", \"orange\", \"blue\", \"magenta\", \"magenta\", \"blue\", \"magenta\", \"magenta\", \"magenta\", \"blue\", \"magenta\", \"magenta\", \"magenta\", \"magenta\", \"blue\", \"magenta\", \"blue\", \"magenta\", \"blue\", \"blue\", \"blue\", \"magenta\", \"blue\", \"magenta\", \"magenta\", \"magenta\", \"magenta\", \"magenta\", \"blue\", \"magenta\", \"blue\", \"magenta\", \"magenta\", \"magenta\", \"magenta\", \"blue\", \"blue\", \"magenta\", \"magenta\", \"magenta\", \"magenta\", \"magenta\", \"blue\", \"magenta\", \"magenta\", \"blue\", \"blue\", \"magenta\", \"magenta\", \"magenta\", \"magenta\", \"magenta\", \"blue\", \"blue\", \"magenta\", \"magenta\", \"magenta\", \"magenta\", \"magenta\", \"magenta\", \"magenta\", \"magenta\", \"magenta\", \"magenta\", \"magenta\", \"magenta\", \"magenta\", \"magenta\", \"blue\", \"magenta\", \"blue\", \"magenta\", \"magenta\", \"magenta\", \"blue\", \"magenta\", \"magenta\", \"magenta\", \"blue\", \"magenta\", \"magenta\", \"blue\", \"blue\", \"blue\", \"blue\", \"magenta\", \"magenta\", \"magenta\", \"magenta\", \"magenta\", \"magenta\", \"magenta\", \"magenta\", \"blue\", \"magenta\", \"magenta\", \"magenta\", \"magenta\", \"magenta\", \"blue\", \"magenta\", \"blue\", \"magenta\", \"magenta\", \"blue\", \"magenta\", \"magenta\", \"magenta\", \"magenta\", \"magenta\", \"magenta\", \"magenta\", \"magenta\", \"magenta\", \"magenta\", \"magenta\", \"magenta\", \"magenta\", \"magenta\", \"blue\", \"magenta\", \"magenta\", \"magenta\", \"blue\", \"magenta\", \"magenta\", \"magenta\", \"magenta\", \"magenta\", \"magenta\", \"magenta\", \"magenta\", \"blue\", \"blue\", \"magenta\", \"magenta\", \"magenta\", \"blue\", \"magenta\", \"magenta\", \"magenta\", \"magenta\", \"magenta\", \"magenta\", \"magenta\", \"magenta\", \"magenta\", \"magenta\", \"magenta\", \"magenta\", \"magenta\", \"blue\", \"blue\", \"magenta\", \"magenta\", \"magenta\", \"magenta\", \"magenta\", \"magenta\", \"magenta\", \"magenta\", \"blue\", \"magenta\", \"magenta\", \"magenta\", \"magenta\", \"blue\", \"blue\", \"magenta\", \"magenta\", \"magenta\", \"magenta\", \"magenta\", \"blue\", \"blue\", \"blue\", \"magenta\", \"magenta\", \"magenta\", \"magenta\", \"blue\", \"blue\", \"magenta\", \"magenta\", \"magenta\", \"magenta\", \"magenta\", \"magenta\", \"magenta\", \"magenta\", \"magenta\", \"blue\", \"magenta\", \"magenta\", \"magenta\", \"magenta\", \"magenta\", \"magenta\", \"magenta\", \"magenta\", \"blue\", \"magenta\", \"black\", \"black\", \"black\", \"black\", \"black\", \"black\", \"black\", \"black\", \"black\", \"black\", \"black\", \"black\", \"black\", \"black\", \"black\", \"black\"]}}],\n",
       "            {\"xaxis\": {\"range\": [0, 1600], \"title\": \"x\"}, \"yaxis\": {\"range\": [0, 1600], \"title\": \"y\"}, \"title\": \"UE and AP Distribution in the grid\", \"height\": 1000, \"width\": 1000, \"showlegend\": false, \"shapes\": [{\"type\": \"rect\", \"x0\": 812, \"y0\": 0, \"x1\": 912, \"y1\": 1600.0, \"line\": {\"color\": \"rgba(128, 0, 128, 1)\", \"width\": 2}, \"fillcolor\": \"rgba(128, 0, 128 0.1)\"}, {\"type\": \"rect\", \"x0\": 0, \"y0\": 257, \"x1\": 1600.0, \"y1\": 357, \"line\": {\"color\": \"rgba(128, 0, 128, 1)\", \"width\": 2}, \"fillcolor\": \"rgba(128, 0, 128 0.1)\"}, {\"type\": \"rect\", \"x0\": 0, \"y0\": 85, \"x1\": 1600.0, \"y1\": 185, \"line\": {\"color\": \"rgba(128, 0, 128, 1)\", \"width\": 2}, \"fillcolor\": \"rgba(128, 0, 128 0.1)\"}, {\"type\": \"rect\", \"x0\": 465, \"y0\": 80, \"x1\": 556, \"y1\": 260, \"line\": {\"color\": \"rgba(128, 0, 128, 1)\", \"width\": 2}, \"fillcolor\": \"rgba(128, 0, 128 0.1)\"}], \"updatemenus\": [{\"type\": \"buttons\", \"buttons\": [{\"label\": \"Play\", \"method\": \"animate\", \"args\": [null]}]}]},\n",
       "            {\"showLink\": true, \"linkText\": \"Export to plot.ly\"}\n",
       "        ).then(function () {return Plotly.addFrames('e0b0fd07-a5c0-4c22-a1da-50ae98237b66',[{\"data\": [{\"type\": \"scatter\", \"x\": [600.0, 951.0], \"y\": [600.0, 527.0], \"mode\": \"lines\", \"line\": {\"width\": 2, \"color\": \"red\"}}, {\"type\": \"scatter\", \"x\": [1000.0, 1164.0], \"y\": [600.0, 582.0], \"mode\": \"lines\", \"line\": {\"width\": 2, \"color\": \"green\"}}, {\"type\": \"scatter\", \"x\": [1000.0, 1179.0], \"y\": [1400.0, 1285.0], \"mode\": \"lines\", \"line\": {\"width\": 2, \"color\": \"green\"}}, {\"type\": \"scatter\", \"x\": [1000.0, 1043.0], \"y\": [1000.0, 1009.0], \"mode\": \"lines\", \"line\": {\"width\": 2, \"color\": \"red\"}}, {\"type\": \"scatter\", \"x\": [1400.0, 1382.0], \"y\": [600.0, 798.0], \"mode\": \"lines\", \"line\": {\"width\": 2, \"color\": \"green\"}}, {\"type\": \"scatter\", \"x\": [600.0, 446], \"y\": [200.0, 293], \"mode\": \"lines\", \"line\": {\"width\": 2, \"color\": \"green\"}}, {\"type\": \"scatter\", \"x\": [200.0, 14.0], \"y\": [1000.0, 757.0], \"mode\": \"lines\", \"line\": {\"width\": 2, \"color\": \"green\"}}, {\"type\": \"scatter\", \"x\": [1000.0, 600.0], \"y\": [600.0, 793.0], \"mode\": \"lines\", \"line\": {\"width\": 2, \"color\": \"red\"}}, {\"type\": \"scatter\", \"x\": [600.0, 705.0], \"y\": [1000.0, 970.0], \"mode\": \"lines\", \"line\": {\"width\": 2, \"color\": \"green\"}}, {\"type\": \"scatter\", \"x\": [1400.0, 1437], \"y\": [200.0, 298], \"mode\": \"lines\", \"line\": {\"width\": 2, \"color\": \"green\"}}, {\"type\": \"scatter\", \"x\": [600.0, 594.0], \"y\": [1400.0, 1204.0], \"mode\": \"lines\", \"line\": {\"width\": 2, \"color\": \"green\"}}, {\"type\": \"scatter\", \"x\": [1000.0, 1290.0], \"y\": [200.0, 423.0], \"mode\": \"lines\", \"line\": {\"width\": 2, \"color\": \"green\"}}, {\"type\": \"scatter\", \"x\": [600.0, 529.0], \"y\": [600.0, 564.0], \"mode\": \"lines\", \"line\": {\"width\": 2, \"color\": \"red\"}}, {\"type\": \"scatter\", \"x\": [1400.0, 1445.0], \"y\": [1000.0, 655.0], \"mode\": \"lines\", \"line\": {\"width\": 2, \"color\": \"green\"}}, {\"type\": \"scatter\", \"x\": [600.0, 605.0], \"y\": [200.0, 500.0], \"mode\": \"lines\", \"line\": {\"width\": 2, \"color\": \"red\"}}, {\"type\": \"scatter\", \"x\": [1400.0, 1497], \"y\": [200.0, 148], \"mode\": \"lines\", \"line\": {\"width\": 2, \"color\": \"green\"}}, {\"type\": \"scatter\", \"x\": [600.0, 961.0], \"y\": [600.0, 916.0], \"mode\": \"lines\", \"line\": {\"width\": 2, \"color\": \"red\"}}, {\"type\": \"scatter\", \"x\": [600.0, 750.0], \"y\": [600.0, 665.0], \"mode\": \"lines\", \"line\": {\"width\": 2, \"color\": \"red\"}}, {\"type\": \"scatter\", \"x\": [600.0, 689.0], \"y\": [1000.0, 1039.0], \"mode\": \"lines\", \"line\": {\"width\": 2, \"color\": \"red\"}}, {\"type\": \"scatter\", \"x\": [600.0, 703], \"y\": [200.0, 276], \"mode\": \"lines\", \"line\": {\"width\": 2, \"color\": \"green\"}}, {\"type\": \"scatter\", \"x\": [1000.0, 700.0], \"y\": [1000.0, 957.0], \"mode\": \"lines\", \"line\": {\"width\": 2, \"color\": \"red\"}}, {\"type\": \"scatter\", \"x\": [200.0, 372.0], \"y\": [600.0, 237.0], \"mode\": \"lines\", \"line\": {\"width\": 2, \"color\": \"green\"}}, {\"type\": \"scatter\", \"x\": [1000.0, 921.0], \"y\": [1000.0, 1160.0], \"mode\": \"lines\", \"line\": {\"width\": 2, \"color\": \"green\"}}, {\"type\": \"scatter\", \"x\": [200.0, 39.0], \"y\": [600.0, 504.0], \"mode\": \"lines\", \"line\": {\"width\": 2, \"color\": \"green\"}}, {\"type\": \"scatter\", \"x\": [1000.0, 861], \"y\": [1000.0, 828], \"mode\": \"lines\", \"line\": {\"width\": 2, \"color\": \"green\"}}, {\"type\": \"scatter\", \"x\": [1400.0, 1025.0], \"y\": [600.0, 376.0], \"mode\": \"lines\", \"line\": {\"width\": 2, \"color\": \"green\"}}, {\"type\": \"scatter\", \"x\": [600.0, 936.0], \"y\": [600.0, 629.0], \"mode\": \"lines\", \"line\": {\"width\": 2, \"color\": \"red\"}}, {\"type\": \"scatter\", \"x\": [1400.0, 1599.0], \"y\": [1400.0, 1173.0], \"mode\": \"lines\", \"line\": {\"width\": 2, \"color\": \"green\"}}, {\"type\": \"scatter\", \"x\": [600.0, 665.0], \"y\": [1000.0, 830.0], \"mode\": \"lines\", \"line\": {\"width\": 2, \"color\": \"red\"}}, {\"type\": \"scatter\", \"x\": [200.0, 268.0], \"y\": [1000.0, 867.0], \"mode\": \"lines\", \"line\": {\"width\": 2, \"color\": \"green\"}}, {\"type\": \"scatter\", \"x\": [1000.0, 1024.0], \"y\": [1400.0, 1580.0], \"mode\": \"lines\", \"line\": {\"width\": 2, \"color\": \"green\"}}, {\"type\": \"scatter\", \"x\": [1000.0, 896], \"y\": [1400.0, 1302], \"mode\": \"lines\", \"line\": {\"width\": 2, \"color\": \"green\"}}, {\"type\": \"scatter\", \"x\": [1400.0, 1529.0], \"y\": [1000.0, 1129.0], \"mode\": \"lines\", \"line\": {\"width\": 2, \"color\": \"green\"}}, {\"type\": \"scatter\", \"x\": [1000.0, 1068.0], \"y\": [1000.0, 851.0], \"mode\": \"lines\", \"line\": {\"width\": 2, \"color\": \"red\"}}, {\"type\": \"scatter\", \"x\": [200.0, 582.0], \"y\": [1400.0, 1098.0], \"mode\": \"lines\", \"line\": {\"width\": 2, \"color\": \"green\"}}, {\"type\": \"scatter\", \"x\": [200.0, 142], \"y\": [200.0, 128], \"mode\": \"lines\", \"line\": {\"width\": 2, \"color\": \"green\"}}, {\"type\": \"scatter\", \"x\": [1400.0, 1492.0], \"y\": [1400.0, 1291.0], \"mode\": \"lines\", \"line\": {\"width\": 2, \"color\": \"green\"}}, {\"type\": \"scatter\", \"x\": [1000.0, 1123.0], \"y\": [600.0, 516.0], \"mode\": \"lines\", \"line\": {\"width\": 2, \"color\": \"green\"}}, {\"type\": \"scatter\", \"x\": [600.0, 718], \"y\": [200.0, 121], \"mode\": \"lines\", \"line\": {\"width\": 2, \"color\": \"green\"}}, {\"type\": \"scatter\", \"x\": [1400.0, 1098.0], \"y\": [1400.0, 1058.0], \"mode\": \"lines\", \"line\": {\"width\": 2, \"color\": \"green\"}}, {\"type\": \"scatter\", \"x\": [600.0, 703.0], \"y\": [200.0, 541.0], \"mode\": \"lines\", \"line\": {\"width\": 2, \"color\": \"red\"}}, {\"type\": \"scatter\", \"x\": [1400.0, 1497.0], \"y\": [1000.0, 809.0], \"mode\": \"lines\", \"line\": {\"width\": 2, \"color\": \"green\"}}, {\"type\": \"scatter\", \"x\": [1000.0, 971.0], \"y\": [1000.0, 904.0], \"mode\": \"lines\", \"line\": {\"width\": 2, \"color\": \"green\"}}, {\"type\": \"scatter\", \"x\": [1000.0, 921.0], \"y\": [600.0, 638.0], \"mode\": \"lines\", \"line\": {\"width\": 2, \"color\": \"red\"}}, {\"type\": \"scatter\", \"x\": [200.0, 586.0], \"y\": [600.0, 509.0], \"mode\": \"lines\", \"line\": {\"width\": 2, \"color\": \"red\"}}, {\"type\": \"scatter\", \"x\": [200.0, 202], \"y\": [200.0, 169], \"mode\": \"lines\", \"line\": {\"width\": 2, \"color\": \"green\"}}, {\"type\": \"scatter\", \"x\": [1400.0, 1336], \"y\": [200.0, 291], \"mode\": \"lines\", \"line\": {\"width\": 2, \"color\": \"green\"}}, {\"type\": \"scatter\", \"x\": [200.0, 50.0], \"y\": [1000.0, 920.0], \"mode\": \"lines\", \"line\": {\"width\": 2, \"color\": \"green\"}}, {\"type\": \"scatter\", \"x\": [200.0, 48.0], \"y\": [1000.0, 713.0], \"mode\": \"lines\", \"line\": {\"width\": 2, \"color\": \"green\"}}, {\"type\": \"scatter\", \"x\": [1000.0, 1053.0], \"y\": [600.0, 655.0], \"mode\": \"lines\", \"line\": {\"width\": 2, \"color\": \"green\"}}, {\"type\": \"scatter\", \"x\": [600.0, 650.0], \"y\": [600.0, 944.0], \"mode\": \"lines\", \"line\": {\"width\": 2, \"color\": \"red\"}}, {\"type\": \"scatter\", \"x\": [600.0, 682.0], \"y\": [1000.0, 941.0], \"mode\": \"lines\", \"line\": {\"width\": 2, \"color\": \"red\"}}, {\"type\": \"scatter\", \"x\": [200.0, 202.0], \"y\": [600.0, 559.0], \"mode\": \"lines\", \"line\": {\"width\": 2, \"color\": \"green\"}}, {\"type\": \"scatter\", \"x\": [600.0, 208], \"y\": [200.0, 154], \"mode\": \"lines\", \"line\": {\"width\": 2, \"color\": \"green\"}}, {\"type\": \"scatter\", \"x\": [600.0, 658.0], \"y\": [1400.0, 1201.0], \"mode\": \"lines\", \"line\": {\"width\": 2, \"color\": \"green\"}}, {\"type\": \"scatter\", \"x\": [1000.0, 1025.0], \"y\": [1400.0, 1588.0], \"mode\": \"lines\", \"line\": {\"width\": 2, \"color\": \"green\"}}, {\"type\": \"scatter\", \"x\": [1000.0, 1155.0], \"y\": [1400.0, 1461.0], \"mode\": \"lines\", \"line\": {\"width\": 2, \"color\": \"green\"}}, {\"type\": \"scatter\", \"x\": [1000.0, 925.0], \"y\": [600.0, 751.0], \"mode\": \"lines\", \"line\": {\"width\": 2, \"color\": \"green\"}}, {\"type\": \"scatter\", \"x\": [600.0, 745.0], \"y\": [200.0, 78.0], \"mode\": \"lines\", \"line\": {\"width\": 2, \"color\": \"green\"}}, {\"type\": \"scatter\", \"x\": [1000.0, 1191.0], \"y\": [1400.0, 1438.0], \"mode\": \"lines\", \"line\": {\"width\": 2, \"color\": \"green\"}}, {\"type\": \"scatter\", \"x\": [1400.0, 1103.0], \"y\": [1000.0, 1069.0], \"mode\": \"lines\", \"line\": {\"width\": 2, \"color\": \"green\"}}, {\"type\": \"scatter\", \"x\": [1000.0, 946.0], \"y\": [1400.0, 1502.0], \"mode\": \"lines\", \"line\": {\"width\": 2, \"color\": \"green\"}}, {\"type\": \"scatter\", \"x\": [600.0, 618.0], \"y\": [1000.0, 1196.0], \"mode\": \"lines\", \"line\": {\"width\": 2, \"color\": \"green\"}}, {\"type\": \"scatter\", \"x\": [600.0, 899], \"y\": [200.0, 154], \"mode\": \"lines\", \"line\": {\"width\": 2, \"color\": \"green\"}}, {\"type\": \"scatter\", \"x\": [600.0, 671.0], \"y\": [1400.0, 1070.0], \"mode\": \"lines\", \"line\": {\"width\": 2, \"color\": \"green\"}}, {\"type\": \"scatter\", \"x\": [200.0, 147], \"y\": [600.0, 332], \"mode\": \"lines\", \"line\": {\"width\": 2, \"color\": \"green\"}}, {\"type\": \"scatter\", \"x\": [600.0, 545.0], \"y\": [600.0, 860.0], \"mode\": \"lines\", \"line\": {\"width\": 2, \"color\": \"red\"}}, {\"type\": \"scatter\", \"x\": [200.0, 117.0], \"y\": [600.0, 445.0], \"mode\": \"lines\", \"line\": {\"width\": 2, \"color\": \"green\"}}, {\"type\": \"scatter\", \"x\": [600.0, 897], \"y\": [1000.0, 909], \"mode\": \"lines\", \"line\": {\"width\": 2, \"color\": \"red\"}}, {\"type\": \"scatter\", \"x\": [1400.0, 1493.0], \"y\": [200.0, 13.0], \"mode\": \"lines\", \"line\": {\"width\": 2, \"color\": \"green\"}}, {\"type\": \"scatter\", \"x\": [1000.0, 799.0], \"y\": [1000.0, 1118.0], \"mode\": \"lines\", \"line\": {\"width\": 2, \"color\": \"green\"}}, {\"type\": \"scatter\", \"x\": [1000.0, 1187.0], \"y\": [1000.0, 1063.0], \"mode\": \"lines\", \"line\": {\"width\": 2, \"color\": \"green\"}}, {\"type\": \"scatter\", \"x\": [600.0, 617.0], \"y\": [1000.0, 942.0], \"mode\": \"lines\", \"line\": {\"width\": 2, \"color\": \"red\"}}, {\"type\": \"scatter\", \"x\": [1400.0, 1169.0], \"y\": [1000.0, 939.0], \"mode\": \"lines\", \"line\": {\"width\": 2, \"color\": \"green\"}}, {\"type\": \"scatter\", \"x\": [200.0, 268.0], \"y\": [1000.0, 1064.0], \"mode\": \"lines\", \"line\": {\"width\": 2, \"color\": \"green\"}}, {\"type\": \"scatter\", \"x\": [200.0, 538.0], \"y\": [1000.0, 813.0], \"mode\": \"lines\", \"line\": {\"width\": 2, \"color\": \"green\"}}, {\"type\": \"scatter\", \"x\": [1000.0, 816], \"y\": [1000.0, 967], \"mode\": \"lines\", \"line\": {\"width\": 2, \"color\": \"red\"}}, {\"type\": \"scatter\", \"x\": [1400.0, 1379.0], \"y\": [1400.0, 1304.0], \"mode\": \"lines\", \"line\": {\"width\": 2, \"color\": \"green\"}}, {\"type\": \"scatter\", \"x\": [600.0, 628.0], \"y\": [600.0, 780.0], \"mode\": \"lines\", \"line\": {\"width\": 2, \"color\": \"green\"}}, {\"type\": \"scatter\", \"x\": [1000.0, 836], \"y\": [1000.0, 703], \"mode\": \"lines\", \"line\": {\"width\": 2, \"color\": \"red\"}}, {\"type\": \"scatter\", \"x\": [1000.0, 851], \"y\": [1000.0, 796], \"mode\": \"lines\", \"line\": {\"width\": 2, \"color\": \"red\"}}, {\"type\": \"scatter\", \"x\": [600.0, 607.0], \"y\": [1000.0, 686.0], \"mode\": \"lines\", \"line\": {\"width\": 2, \"color\": \"red\"}}, {\"type\": \"scatter\", \"x\": [1000.0, 840], \"y\": [600.0, 703], \"mode\": \"lines\", \"line\": {\"width\": 2, \"color\": \"red\"}}, {\"type\": \"scatter\", \"x\": [1000.0, 1094.0], \"y\": [200.0, 361.0], \"mode\": \"lines\", \"line\": {\"width\": 2, \"color\": \"green\"}}, {\"type\": \"scatter\", \"x\": [200.0, 338], \"y\": [200.0, 138], \"mode\": \"lines\", \"line\": {\"width\": 2, \"color\": \"green\"}}, {\"type\": \"scatter\", \"x\": [200.0, 84.0], \"y\": [600.0, 687.0], \"mode\": \"lines\", \"line\": {\"width\": 2, \"color\": \"green\"}}, {\"type\": \"scatter\", \"x\": [600.0, 517], \"y\": [200.0, 277], \"mode\": \"lines\", \"line\": {\"width\": 2, \"color\": \"green\"}}, {\"type\": \"scatter\", \"x\": [200.0, 358.0], \"y\": [600.0, 608.0], \"mode\": \"lines\", \"line\": {\"width\": 2, \"color\": \"green\"}}, {\"type\": \"scatter\", \"x\": [200.0, 351.0], \"y\": [1400.0, 1597.0], \"mode\": \"lines\", \"line\": {\"width\": 2, \"color\": \"green\"}}, {\"type\": \"scatter\", \"x\": [1000.0, 1143], \"y\": [200.0, 117], \"mode\": \"lines\", \"line\": {\"width\": 2, \"color\": \"green\"}}, {\"type\": \"scatter\", \"x\": [200.0, 169.0], \"y\": [600.0, 943.0], \"mode\": \"lines\", \"line\": {\"width\": 2, \"color\": \"green\"}}, {\"type\": \"scatter\", \"x\": [600.0, 766.0], \"y\": [1000.0, 1028.0], \"mode\": \"lines\", \"line\": {\"width\": 2, \"color\": \"red\"}}, {\"type\": \"scatter\", \"x\": [1400.0, 1408.0], \"y\": [1000.0, 620.0], \"mode\": \"lines\", \"line\": {\"width\": 2, \"color\": \"green\"}}, {\"type\": \"scatter\", \"x\": [1400.0, 1446], \"y\": [200.0, 133], \"mode\": \"lines\", \"line\": {\"width\": 2, \"color\": \"green\"}}, {\"type\": \"scatter\", \"x\": [1000.0, 826], \"y\": [1400.0, 1569], \"mode\": \"lines\", \"line\": {\"width\": 2, \"color\": \"green\"}}, {\"type\": \"scatter\", \"x\": [1400.0, 1583.0], \"y\": [1400.0, 1050.0], \"mode\": \"lines\", \"line\": {\"width\": 2, \"color\": \"green\"}}, {\"type\": \"scatter\", \"x\": [1000.0, 1070.0], \"y\": [1000.0, 802.0], \"mode\": \"lines\", \"line\": {\"width\": 2, \"color\": \"green\"}}, {\"type\": \"scatter\", \"x\": [600.0, 537.0], \"y\": [1400.0, 1095.0], \"mode\": \"lines\", \"line\": {\"width\": 2, \"color\": \"green\"}}, {\"type\": \"scatter\", \"x\": [200.0, 516.0], \"y\": [600.0, 827.0], \"mode\": \"lines\", \"line\": {\"width\": 2, \"color\": \"green\"}}, {\"type\": \"scatter\", \"x\": [600.0, 589.0], \"y\": [600.0, 963.0], \"mode\": \"lines\", \"line\": {\"width\": 2, \"color\": \"red\"}}, {\"type\": \"scatter\", \"x\": [1000.0, 819], \"y\": [600.0, 522], \"mode\": \"lines\", \"line\": {\"width\": 2, \"color\": \"green\"}}, {\"type\": \"scatter\", \"x\": [200.0, 349.0], \"y\": [1000.0, 973.0], \"mode\": \"lines\", \"line\": {\"width\": 2, \"color\": \"green\"}}, {\"type\": \"scatter\", \"x\": [1000.0, 795.0], \"y\": [600.0, 544.0], \"mode\": \"lines\", \"line\": {\"width\": 2, \"color\": \"red\"}}, {\"type\": \"scatter\", \"x\": [200.0, 340.0], \"y\": [600.0, 567.0], \"mode\": \"lines\", \"line\": {\"width\": 2, \"color\": \"green\"}}, {\"type\": \"scatter\", \"x\": [600.0, 892], \"y\": [200.0, 179], \"mode\": \"lines\", \"line\": {\"width\": 2, \"color\": \"green\"}}, {\"type\": \"scatter\", \"x\": [200.0, 81.0], \"y\": [600.0, 904.0], \"mode\": \"lines\", \"line\": {\"width\": 2, \"color\": \"green\"}}, {\"type\": \"scatter\", \"x\": [200.0, 138.0], \"y\": [1000.0, 1078.0], \"mode\": \"lines\", \"line\": {\"width\": 2, \"color\": \"green\"}}, {\"type\": \"scatter\", \"x\": [200.0, 41.0], \"y\": [600.0, 508.0], \"mode\": \"lines\", \"line\": {\"width\": 2, \"color\": \"green\"}}, {\"type\": \"scatter\", \"x\": [200.0, 208.0], \"y\": [1400.0, 1566.0], \"mode\": \"lines\", \"line\": {\"width\": 2, \"color\": \"green\"}}, {\"type\": \"scatter\", \"x\": [600.0, 258.0], \"y\": [600.0, 474.0], \"mode\": \"lines\", \"line\": {\"width\": 2, \"color\": \"green\"}}, {\"type\": \"scatter\", \"x\": [1400.0, 1557.0], \"y\": [600.0, 699.0], \"mode\": \"lines\", \"line\": {\"width\": 2, \"color\": \"green\"}}, {\"type\": \"scatter\", \"x\": [1000.0, 997.0], \"y\": [1400.0, 1548.0], \"mode\": \"lines\", \"line\": {\"width\": 2, \"color\": \"green\"}}, {\"type\": \"scatter\", \"x\": [1400.0, 1525], \"y\": [200.0, 287], \"mode\": \"lines\", \"line\": {\"width\": 2, \"color\": \"green\"}}, {\"type\": \"scatter\", \"x\": [600.0, 786], \"y\": [200.0, 334], \"mode\": \"lines\", \"line\": {\"width\": 2, \"color\": \"green\"}}, {\"type\": \"scatter\", \"x\": [200.0, 413.0], \"y\": [200.0, 30.0], \"mode\": \"lines\", \"line\": {\"width\": 2, \"color\": \"green\"}}, {\"type\": \"scatter\", \"x\": [200.0, 198.0], \"y\": [200.0, 212.0], \"mode\": \"lines\", \"line\": {\"width\": 2, \"color\": \"green\"}}, {\"type\": \"scatter\", \"x\": [1000.0, 1139.0], \"y\": [600.0, 577.0], \"mode\": \"lines\", \"line\": {\"width\": 2, \"color\": \"green\"}}, {\"type\": \"scatter\", \"x\": [600.0, 522.0], \"y\": [600.0, 951.0], \"mode\": \"lines\", \"line\": {\"width\": 2, \"color\": \"red\"}}, {\"type\": \"scatter\", \"x\": [600.0, 695.0], \"y\": [1400.0, 1239.0], \"mode\": \"lines\", \"line\": {\"width\": 2, \"color\": \"green\"}}, {\"type\": \"scatter\", \"x\": [1400.0, 1382.0], \"y\": [600.0, 598.0], \"mode\": \"lines\", \"line\": {\"width\": 2, \"color\": \"green\"}}, {\"type\": \"scatter\", \"x\": [1000.0, 1238.0], \"y\": [1000.0, 1189.0], \"mode\": \"lines\", \"line\": {\"width\": 2, \"color\": \"green\"}}, {\"type\": \"scatter\", \"x\": [1000.0, 1057.0], \"y\": [1000.0, 991.0], \"mode\": \"lines\", \"line\": {\"width\": 2, \"color\": \"red\"}}, {\"type\": \"scatter\", \"x\": [200.0, 303.0], \"y\": [1400.0, 1510.0], \"mode\": \"lines\", \"line\": {\"width\": 2, \"color\": \"green\"}}, {\"type\": \"scatter\", \"x\": [1000.0, 697.0], \"y\": [600.0, 535.0], \"mode\": \"lines\", \"line\": {\"width\": 2, \"color\": \"green\"}}, {\"type\": \"scatter\", \"x\": [600.0, 573.0], \"y\": [1400.0, 1452.0], \"mode\": \"lines\", \"line\": {\"width\": 2, \"color\": \"green\"}}, {\"type\": \"scatter\", \"x\": [1400.0, 1499.0], \"y\": [600.0, 418.0], \"mode\": \"lines\", \"line\": {\"width\": 2, \"color\": \"green\"}}, {\"type\": \"scatter\", \"x\": [200.0, 244.0], \"y\": [600.0, 596.0], \"mode\": \"lines\", \"line\": {\"width\": 2, \"color\": \"green\"}}, {\"type\": \"scatter\", \"x\": [1400.0, 1453.0], \"y\": [600.0, 527.0], \"mode\": \"lines\", \"line\": {\"width\": 2, \"color\": \"green\"}}, {\"type\": \"scatter\", \"x\": [200.0, 169.0], \"y\": [1400.0, 1237.0], \"mode\": \"lines\", \"line\": {\"width\": 2, \"color\": \"green\"}}, {\"type\": \"scatter\", \"x\": [1400.0, 1539.0], \"y\": [1000.0, 957.0], \"mode\": \"lines\", \"line\": {\"width\": 2, \"color\": \"green\"}}, {\"type\": \"scatter\", \"x\": [600.0, 568.0], \"y\": [600.0, 632.0], \"mode\": \"lines\", \"line\": {\"width\": 2, \"color\": \"red\"}}, {\"type\": \"scatter\", \"x\": [600.0, 679.0], \"y\": [1400.0, 1090.0], \"mode\": \"lines\", \"line\": {\"width\": 2, \"color\": \"green\"}}, {\"type\": \"scatter\", \"x\": [1000.0, 970.0], \"y\": [600.0, 854.0], \"mode\": \"lines\", \"line\": {\"width\": 2, \"color\": \"green\"}}, {\"type\": \"scatter\", \"x\": [1000.0, 951.0], \"y\": [1000.0, 916.0], \"mode\": \"lines\", \"line\": {\"width\": 2, \"color\": \"green\"}}, {\"type\": \"scatter\", \"x\": [200.0, 295.0], \"y\": [1400.0, 1442.0], \"mode\": \"lines\", \"line\": {\"width\": 2, \"color\": \"green\"}}, {\"type\": \"scatter\", \"x\": [600.0, 651.0], \"y\": [600.0, 726.0], \"mode\": \"lines\", \"line\": {\"width\": 2, \"color\": \"red\"}}, {\"type\": \"scatter\", \"x\": [600.0, 773.0], \"y\": [1000.0, 805.0], \"mode\": \"lines\", \"line\": {\"width\": 2, \"color\": \"green\"}}, {\"type\": \"scatter\", \"x\": [200.0, 132.0], \"y\": [1000.0, 999.0], \"mode\": \"lines\", \"line\": {\"width\": 2, \"color\": \"green\"}}, {\"type\": \"scatter\", \"x\": [200.0, 156.0], \"y\": [600.0, 745.0], \"mode\": \"lines\", \"line\": {\"width\": 2, \"color\": \"green\"}}, {\"type\": \"scatter\", \"x\": [600.0, 593], \"y\": [200.0, 150], \"mode\": \"lines\", \"line\": {\"width\": 2, \"color\": \"green\"}}, {\"type\": \"scatter\", \"x\": [1000.0, 847], \"y\": [200.0, 77], \"mode\": \"lines\", \"line\": {\"width\": 2, \"color\": \"green\"}}, {\"type\": \"scatter\", \"x\": [1400.0, 1393.0], \"y\": [1000.0, 845.0], \"mode\": \"lines\", \"line\": {\"width\": 2, \"color\": \"green\"}}, {\"type\": \"scatter\", \"x\": [600.0, 524.4100476606274], \"y\": [200.0, 222.91206409643954], \"mode\": \"lines\", \"line\": {\"width\": 2, \"color\": \"green\"}}, {\"type\": \"scatter\", \"x\": [200.0, 222.0], \"y\": [600.0, 628.0], \"mode\": \"lines\", \"line\": {\"width\": 2, \"color\": \"green\"}}, {\"type\": \"scatter\", \"x\": [1000.0, 1177.0], \"y\": [200.0, 387.0], \"mode\": \"lines\", \"line\": {\"width\": 2, \"color\": \"green\"}}, {\"type\": \"scatter\", \"x\": [1400.0, 1363.0], \"y\": [1000.0, 851.0], \"mode\": \"lines\", \"line\": {\"width\": 2, \"color\": \"green\"}}, {\"type\": \"scatter\", \"x\": [600.0, 751.0], \"y\": [1400.0, 1245.0], \"mode\": \"lines\", \"line\": {\"width\": 2, \"color\": \"green\"}}, {\"type\": \"scatter\", \"x\": [1000.0, 829], \"y\": [1000.0, 1364], \"mode\": \"lines\", \"line\": {\"width\": 2, \"color\": \"green\"}}, {\"type\": \"scatter\", \"x\": [200.0, 173.0], \"y\": [1400.0, 1468.0], \"mode\": \"lines\", \"line\": {\"width\": 2, \"color\": \"green\"}}, {\"type\": \"scatter\", \"x\": [600.0, 517.0], \"y\": [600.0, 898.0], \"mode\": \"lines\", \"line\": {\"width\": 2, \"color\": \"red\"}}, {\"type\": \"scatter\", \"x\": [1000.0, 1021.0], \"y\": [600.0, 662.0], \"mode\": \"lines\", \"line\": {\"width\": 2, \"color\": \"red\"}}, {\"type\": \"scatter\", \"x\": [600.0, 593.0], \"y\": [1000.0, 674.0], \"mode\": \"lines\", \"line\": {\"width\": 2, \"color\": \"green\"}}, {\"type\": \"scatter\", \"x\": [200.0, 188.0], \"y\": [1400.0, 1414.0], \"mode\": \"lines\", \"line\": {\"width\": 2, \"color\": \"green\"}}, {\"type\": \"scatter\", \"x\": [200.0, 196], \"y\": [200.0, 172], \"mode\": \"lines\", \"line\": {\"width\": 2, \"color\": \"green\"}}, {\"type\": \"scatter\", \"x\": [1400.0, 1592.0], \"y\": [1400.0, 1461.0], \"mode\": \"lines\", \"line\": {\"width\": 2, \"color\": \"green\"}}, {\"type\": \"scatter\", \"x\": [1000.0, 922.0], \"y\": [600.0, 545.0], \"mode\": \"lines\", \"line\": {\"width\": 2, \"color\": \"green\"}}, {\"type\": \"scatter\", \"x\": [200.0, 590.0], \"y\": [1000.0, 1068.0], \"mode\": \"lines\", \"line\": {\"width\": 2, \"color\": \"green\"}}, {\"type\": \"scatter\", \"x\": [600.0, 611.0], \"y\": [1400.0, 1342.0], \"mode\": \"lines\", \"line\": {\"width\": 2, \"color\": \"green\"}}, {\"type\": \"scatter\", \"x\": [1400.0, 1448.0], \"y\": [200.0, 69.0], \"mode\": \"lines\", \"line\": {\"width\": 2, \"color\": \"green\"}}, {\"type\": \"scatter\", \"x\": [1000.0, 798.0], \"y\": [600.0, 546.0], \"mode\": \"lines\", \"line\": {\"width\": 2, \"color\": \"red\"}}, {\"type\": \"scatter\", \"x\": [600.0, 337.0], \"y\": [1000.0, 688.0], \"mode\": \"lines\", \"line\": {\"width\": 2, \"color\": \"green\"}}, {\"type\": \"scatter\", \"x\": [600.0, 426.0], \"y\": [1400.0, 1330.0], \"mode\": \"lines\", \"line\": {\"width\": 2, \"color\": \"green\"}}, {\"type\": \"scatter\", \"x\": [1400.0, 1292.0], \"y\": [600.0, 579.0], \"mode\": \"lines\", \"line\": {\"width\": 2, \"color\": \"green\"}}, {\"type\": \"scatter\", \"x\": [1400.0, 1251.0], \"y\": [1000.0, 1146.0], \"mode\": \"lines\", \"line\": {\"width\": 2, \"color\": \"green\"}}, {\"type\": \"scatter\", \"x\": [600.0, 906], \"y\": [600.0, 601], \"mode\": \"lines\", \"line\": {\"width\": 2, \"color\": \"red\"}}, {\"type\": \"scatter\", \"x\": [600.0, 633.0], \"y\": [200.0, 536.0], \"mode\": \"lines\", \"line\": {\"width\": 2, \"color\": \"red\"}}, {\"type\": \"scatter\", \"x\": [1400.0, 1239.0], \"y\": [200.0, 211.0], \"mode\": \"lines\", \"line\": {\"width\": 2, \"color\": \"green\"}}, {\"type\": \"scatter\", \"x\": [200.0, 211], \"y\": [200.0, 101], \"mode\": \"lines\", \"line\": {\"width\": 2, \"color\": \"green\"}}, {\"type\": \"scatter\", \"x\": [1000.0, 650.0], \"y\": [1400.0, 1449.0], \"mode\": \"lines\", \"line\": {\"width\": 2, \"color\": \"green\"}}, {\"type\": \"scatter\", \"x\": [200.0, 305.0], \"y\": [1400.0, 1261.0], \"mode\": \"lines\", \"line\": {\"width\": 2, \"color\": \"green\"}}, {\"type\": \"scatter\", \"x\": [1000.0, 1039.0], \"y\": [1000.0, 1082.0], \"mode\": \"lines\", \"line\": {\"width\": 2, \"color\": \"green\"}}, {\"type\": \"scatter\", \"x\": [1000.0, 1062.0], \"y\": [1000.0, 1001.0], \"mode\": \"lines\", \"line\": {\"width\": 2, \"color\": \"red\"}}, {\"type\": \"scatter\", \"x\": [600.0, 818], \"y\": [1000.0, 859], \"mode\": \"lines\", \"line\": {\"width\": 2, \"color\": \"red\"}}, {\"type\": \"scatter\", \"x\": [1000.0, 956.0], \"y\": [1000.0, 676.0], \"mode\": \"lines\", \"line\": {\"width\": 2, \"color\": \"red\"}}, {\"type\": \"scatter\", \"x\": [1000.0, 987.0], \"y\": [1400.0, 1465.0], \"mode\": \"lines\", \"line\": {\"width\": 2, \"color\": \"green\"}}, {\"type\": \"scatter\", \"x\": [1000.0, 1083.0], \"y\": [1400.0, 1160.0], \"mode\": \"lines\", \"line\": {\"width\": 2, \"color\": \"green\"}}, {\"type\": \"scatter\", \"x\": [1000.0, 989.0], \"y\": [1000.0, 804.0], \"mode\": \"lines\", \"line\": {\"width\": 2, \"color\": \"green\"}}, {\"type\": \"scatter\", \"x\": [1000.0, 1138.0], \"y\": [200.0, 439.0], \"mode\": \"lines\", \"line\": {\"width\": 2, \"color\": \"green\"}}, {\"type\": \"scatter\", \"x\": [1000.0, 1092.0], \"y\": [1000.0, 816.0], \"mode\": \"lines\", \"line\": {\"width\": 2, \"color\": \"red\"}}, {\"type\": \"scatter\", \"x\": [1000.0, 968.0], \"y\": [1000.0, 637.0], \"mode\": \"lines\", \"line\": {\"width\": 2, \"color\": \"red\"}}, {\"type\": \"scatter\", \"x\": [1000.0, 1154.0], \"y\": [200.0, 434.0], \"mode\": \"lines\", \"line\": {\"width\": 2, \"color\": \"green\"}}, {\"type\": \"scatter\", \"x\": [1000.0, 1179.0], \"y\": [1000.0, 755.0], \"mode\": \"lines\", \"line\": {\"width\": 2, \"color\": \"green\"}}, {\"type\": \"scatter\", \"x\": [600.0, 522], \"y\": [200.0, 268], \"mode\": \"lines\", \"line\": {\"width\": 2, \"color\": \"green\"}}, {\"type\": \"scatter\", \"x\": [1400.0, 1315.0], \"y\": [1000.0, 862.0], \"mode\": \"lines\", \"line\": {\"width\": 2, \"color\": \"green\"}}, {\"type\": \"scatter\", \"x\": [600.0, 630.0], \"y\": [1400.0, 1381.0], \"mode\": \"lines\", \"line\": {\"width\": 2, \"color\": \"green\"}}, {\"type\": \"scatter\", \"x\": [1000.0, 1136.0], \"y\": [1400.0, 1461.0], \"mode\": \"lines\", \"line\": {\"width\": 2, \"color\": \"green\"}}, {\"type\": \"scatter\", \"x\": [600.0, 734.0], \"y\": [1000.0, 776.0], \"mode\": \"lines\", \"line\": {\"width\": 2, \"color\": \"green\"}}, {\"type\": \"scatter\", \"x\": [200.0, 201.0], \"y\": [600.0, 748.0], \"mode\": \"lines\", \"line\": {\"width\": 2, \"color\": \"green\"}}, {\"type\": \"scatter\", \"x\": [600.0, 514], \"y\": [200.0, 139], \"mode\": \"lines\", \"line\": {\"width\": 2, \"color\": \"green\"}}, {\"type\": \"scatter\", \"x\": [600.0, 677.0], \"y\": [1000.0, 884.0], \"mode\": \"lines\", \"line\": {\"width\": 2, \"color\": \"red\"}}, {\"type\": \"scatter\", \"x\": [200.0, 248.0], \"y\": [1000.0, 944.0], \"mode\": \"lines\", \"line\": {\"width\": 2, \"color\": \"green\"}}, {\"type\": \"scatter\", \"x\": [1400.0, 1531.0], \"y\": [1400.0, 1120.0], \"mode\": \"lines\", \"line\": {\"width\": 2, \"color\": \"green\"}}, {\"type\": \"scatter\", \"x\": [200.0, 190.0], \"y\": [1000.0, 911.0], \"mode\": \"lines\", \"line\": {\"width\": 2, \"color\": \"green\"}}, {\"type\": \"scatter\", \"x\": [1000.0, 1069.0], \"y\": [600.0, 529.0], \"mode\": \"lines\", \"line\": {\"width\": 2, \"color\": \"green\"}}, {\"type\": \"scatter\", \"x\": [1000.0, 1083], \"y\": [200.0, 145], \"mode\": \"lines\", \"line\": {\"width\": 2, \"color\": \"green\"}}, {\"type\": \"scatter\", \"x\": [200.0, 208.0], \"y\": [1400.0, 1257.0], \"mode\": \"lines\", \"line\": {\"width\": 2, \"color\": \"green\"}}, {\"type\": \"scatter\", \"x\": [200.0, 234.0], \"y\": [1400.0, 1592.0], \"mode\": \"lines\", \"line\": {\"width\": 2, \"color\": \"green\"}}, {\"type\": \"scatter\", \"x\": [1000.0, 845], \"y\": [1000.0, 1148], \"mode\": \"lines\", \"line\": {\"width\": 2, \"color\": \"green\"}}, {\"type\": \"scatter\", \"x\": [1000.0, 635.0], \"y\": [600.0, 626.0], \"mode\": \"lines\", \"line\": {\"width\": 2, \"color\": \"red\"}}, {\"type\": \"scatter\", \"x\": [1000.0, 1121.0], \"y\": [1000.0, 912.0], \"mode\": \"lines\", \"line\": {\"width\": 2, \"color\": \"green\"}}, {\"type\": \"scatter\", \"x\": [812, 812], \"y\": [0, 1600.0], \"mode\": \"lines\", \"line\": {\"width\": 2, \"color\": \"black\"}}, {\"type\": \"scatter\", \"x\": [812, 912], \"y\": [1600.0, 1600.0], \"mode\": \"lines\", \"line\": {\"width\": 2, \"color\": \"black\"}}, {\"type\": \"scatter\", \"x\": [912, 912], \"y\": [1600.0, 0], \"mode\": \"lines\", \"line\": {\"width\": 2, \"color\": \"black\"}}, {\"type\": \"scatter\", \"x\": [812, 912], \"y\": [0, 0], \"mode\": \"lines\", \"line\": {\"width\": 2, \"color\": \"black\"}}, {\"type\": \"scatter\", \"x\": [0, 0], \"y\": [257, 357], \"mode\": \"lines\", \"line\": {\"width\": 2, \"color\": \"black\"}}, {\"type\": \"scatter\", \"x\": [0, 1600.0], \"y\": [357, 357], \"mode\": \"lines\", \"line\": {\"width\": 2, \"color\": \"black\"}}, {\"type\": \"scatter\", \"x\": [1600.0, 1600.0], \"y\": [357, 257], \"mode\": \"lines\", \"line\": {\"width\": 2, \"color\": \"black\"}}, {\"type\": \"scatter\", \"x\": [0, 1600.0], \"y\": [257, 257], \"mode\": \"lines\", \"line\": {\"width\": 2, \"color\": \"black\"}}, {\"type\": \"scatter\", \"x\": [0, 0], \"y\": [85, 185], \"mode\": \"lines\", \"line\": {\"width\": 2, \"color\": \"black\"}}, {\"type\": \"scatter\", \"x\": [0, 1600.0], \"y\": [185, 185], \"mode\": \"lines\", \"line\": {\"width\": 2, \"color\": \"black\"}}, {\"type\": \"scatter\", \"x\": [1600.0, 1600.0], \"y\": [185, 85], \"mode\": \"lines\", \"line\": {\"width\": 2, \"color\": \"black\"}}, {\"type\": \"scatter\", \"x\": [0, 1600.0], \"y\": [85, 85], \"mode\": \"lines\", \"line\": {\"width\": 2, \"color\": \"black\"}}, {\"type\": \"scatter\", \"x\": [465, 465], \"y\": [80, 260], \"mode\": \"lines\", \"line\": {\"width\": 2, \"color\": \"black\"}}, {\"type\": \"scatter\", \"x\": [465, 556], \"y\": [260, 260], \"mode\": \"lines\", \"line\": {\"width\": 2, \"color\": \"black\"}}, {\"type\": \"scatter\", \"x\": [556, 556], \"y\": [260, 80], \"mode\": \"lines\", \"line\": {\"width\": 2, \"color\": \"black\"}}, {\"type\": \"scatter\", \"x\": [465, 556], \"y\": [80, 80], \"mode\": \"lines\", \"line\": {\"width\": 2, \"color\": \"black\"}}, {\"type\": \"scatter\", \"x\": [200.0, 200.0, 200.0, 200.0, 600.0, 600.0, 600.0, 600.0, 1000.0, 1000.0, 1000.0, 1000.0, 1400.0, 1400.0, 1400.0, 1400.0, 951.0, 1164.0, 1179.0, 1043.0, 1382.0, 446, 14.0, 600.0, 705.0, 1437, 594.0, 1290.0, 529.0, 1445.0, 605.0, 1497, 961.0, 750.0, 689.0, 703, 700.0, 372.0, 921.0, 39.0, 861, 1025.0, 936.0, 1599.0, 665.0, 268.0, 1024.0, 896, 1529.0, 1068.0, 582.0, 142, 1492.0, 1123.0, 718, 1098.0, 703.0, 1497.0, 971.0, 921.0, 586.0, 202, 1336, 50.0, 48.0, 1053.0, 650.0, 682.0, 202.0, 208, 658.0, 1025.0, 1155.0, 925.0, 745.0, 1191.0, 1103.0, 946.0, 618.0, 899, 671.0, 147, 545.0, 117.0, 897, 1493.0, 799.0, 1187.0, 617.0, 1169.0, 268.0, 538.0, 816, 1379.0, 628.0, 836, 851, 607.0, 840, 1094.0, 338, 84.0, 517, 358.0, 351.0, 1143, 169.0, 766.0, 1408.0, 1446, 826, 1583.0, 1070.0, 537.0, 516.0, 589.0, 819, 349.0, 795.0, 340.0, 892, 81.0, 138.0, 41.0, 208.0, 258.0, 1557.0, 997.0, 1525, 786, 413.0, 198.0, 1139.0, 522.0, 695.0, 1382.0, 1238.0, 1057.0, 303.0, 697.0, 573.0, 1499.0, 244.0, 1453.0, 169.0, 1539.0, 568.0, 679.0, 970.0, 951.0, 295.0, 651.0, 773.0, 132.0, 156.0, 593, 847, 1393.0, 524.4100476606274, 222.0, 1177.0, 1363.0, 751.0, 829, 173.0, 517.0, 1021.0, 593.0, 188.0, 196, 1592.0, 922.0, 590.0, 611.0, 1448.0, 798.0, 337.0, 426.0, 1292.0, 1251.0, 906, 633.0, 1239.0, 211, 650.0, 305.0, 1039.0, 1062.0, 818, 956.0, 987.0, 1083.0, 989.0, 1138.0, 1092.0, 968.0, 1154.0, 1179.0, 522, 1315.0, 630.0, 1136.0, 734.0, 201.0, 514, 677.0, 248.0, 1531.0, 190.0, 1069.0, 1083, 208.0, 234.0, 845, 635.0, 1121.0, 812, 812, 912, 912, 0, 0, 1600.0, 1600.0, 0, 0, 1600.0, 1600.0, 465, 465, 556, 556], \"y\": [200.0, 600.0, 1000.0, 1400.0, 200.0, 600.0, 1000.0, 1400.0, 200.0, 600.0, 1000.0, 1400.0, 200.0, 600.0, 1000.0, 1400.0, 527.0, 582.0, 1285.0, 1009.0, 798.0, 293, 757.0, 793.0, 970.0, 298, 1204.0, 423.0, 564.0, 655.0, 500.0, 148, 916.0, 665.0, 1039.0, 276, 957.0, 237.0, 1160.0, 504.0, 828, 376.0, 629.0, 1173.0, 830.0, 867.0, 1580.0, 1302, 1129.0, 851.0, 1098.0, 128, 1291.0, 516.0, 121, 1058.0, 541.0, 809.0, 904.0, 638.0, 509.0, 169, 291, 920.0, 713.0, 655.0, 944.0, 941.0, 559.0, 154, 1201.0, 1588.0, 1461.0, 751.0, 78.0, 1438.0, 1069.0, 1502.0, 1196.0, 154, 1070.0, 332, 860.0, 445.0, 909, 13.0, 1118.0, 1063.0, 942.0, 939.0, 1064.0, 813.0, 967, 1304.0, 780.0, 703, 796, 686.0, 703, 361.0, 138, 687.0, 277, 608.0, 1597.0, 117, 943.0, 1028.0, 620.0, 133, 1569, 1050.0, 802.0, 1095.0, 827.0, 963.0, 522, 973.0, 544.0, 567.0, 179, 904.0, 1078.0, 508.0, 1566.0, 474.0, 699.0, 1548.0, 287, 334, 30.0, 212.0, 577.0, 951.0, 1239.0, 598.0, 1189.0, 991.0, 1510.0, 535.0, 1452.0, 418.0, 596.0, 527.0, 1237.0, 957.0, 632.0, 1090.0, 854.0, 916.0, 1442.0, 726.0, 805.0, 999.0, 745.0, 150, 77, 845.0, 222.91206409643954, 628.0, 387.0, 851.0, 1245.0, 1364, 1468.0, 898.0, 662.0, 674.0, 1414.0, 172, 1461.0, 545.0, 1068.0, 1342.0, 69.0, 546.0, 688.0, 1330.0, 579.0, 1146.0, 601, 536.0, 211.0, 101, 1449.0, 1261.0, 1082.0, 1001.0, 859, 676.0, 1465.0, 1160.0, 804.0, 439.0, 816.0, 637.0, 434.0, 755.0, 268, 862.0, 1381.0, 1461.0, 776.0, 748.0, 139, 884.0, 944.0, 1120.0, 911.0, 529.0, 145, 1257.0, 1592.0, 1148, 626.0, 912.0, 0, 1600.0, 1600.0, 0, 257, 357, 357, 257, 85, 185, 185, 85, 80, 260, 260, 80], \"mode\": \"markers\", \"marker\": {\"size\": 8, \"color\": [\"orange\", \"orange\", \"orange\", \"orange\", \"orange\", \"orange\", \"orange\", \"orange\", \"orange\", \"orange\", \"orange\", \"orange\", \"orange\", \"orange\", \"orange\", \"orange\", \"blue\", \"magenta\", \"magenta\", \"blue\", \"magenta\", \"magenta\", \"magenta\", \"blue\", \"magenta\", \"magenta\", \"magenta\", \"magenta\", \"blue\", \"magenta\", \"blue\", \"magenta\", \"blue\", \"blue\", \"blue\", \"magenta\", \"blue\", \"magenta\", \"magenta\", \"magenta\", \"magenta\", \"magenta\", \"blue\", \"magenta\", \"blue\", \"magenta\", \"magenta\", \"magenta\", \"magenta\", \"blue\", \"blue\", \"magenta\", \"magenta\", \"magenta\", \"magenta\", \"magenta\", \"blue\", \"magenta\", \"magenta\", \"blue\", \"blue\", \"magenta\", \"magenta\", \"magenta\", \"magenta\", \"magenta\", \"blue\", \"blue\", \"magenta\", \"magenta\", \"magenta\", \"magenta\", \"magenta\", \"magenta\", \"magenta\", \"magenta\", \"magenta\", \"magenta\", \"magenta\", \"magenta\", \"magenta\", \"magenta\", \"blue\", \"magenta\", \"blue\", \"magenta\", \"magenta\", \"magenta\", \"blue\", \"magenta\", \"magenta\", \"magenta\", \"blue\", \"magenta\", \"magenta\", \"blue\", \"blue\", \"blue\", \"blue\", \"magenta\", \"magenta\", \"magenta\", \"magenta\", \"magenta\", \"magenta\", \"magenta\", \"magenta\", \"blue\", \"magenta\", \"magenta\", \"magenta\", \"magenta\", \"magenta\", \"blue\", \"magenta\", \"blue\", \"magenta\", \"magenta\", \"blue\", \"magenta\", \"magenta\", \"magenta\", \"magenta\", \"magenta\", \"magenta\", \"magenta\", \"magenta\", \"magenta\", \"magenta\", \"magenta\", \"magenta\", \"magenta\", \"magenta\", \"blue\", \"magenta\", \"magenta\", \"magenta\", \"blue\", \"magenta\", \"magenta\", \"magenta\", \"magenta\", \"magenta\", \"magenta\", \"magenta\", \"magenta\", \"blue\", \"blue\", \"magenta\", \"magenta\", \"magenta\", \"blue\", \"magenta\", \"magenta\", \"magenta\", \"magenta\", \"magenta\", \"magenta\", \"magenta\", \"magenta\", \"magenta\", \"magenta\", \"magenta\", \"magenta\", \"magenta\", \"blue\", \"blue\", \"magenta\", \"magenta\", \"magenta\", \"magenta\", \"magenta\", \"magenta\", \"magenta\", \"magenta\", \"blue\", \"magenta\", \"magenta\", \"magenta\", \"magenta\", \"blue\", \"blue\", \"magenta\", \"magenta\", \"magenta\", \"magenta\", \"magenta\", \"blue\", \"blue\", \"blue\", \"magenta\", \"magenta\", \"magenta\", \"magenta\", \"blue\", \"blue\", \"magenta\", \"magenta\", \"magenta\", \"magenta\", \"magenta\", \"magenta\", \"magenta\", \"magenta\", \"magenta\", \"blue\", \"magenta\", \"magenta\", \"magenta\", \"magenta\", \"magenta\", \"magenta\", \"magenta\", \"magenta\", \"blue\", \"magenta\", \"black\", \"black\", \"black\", \"black\", \"black\", \"black\", \"black\", \"black\", \"black\", \"black\", \"black\", \"black\", \"black\", \"black\", \"black\", \"black\"]}}], \"layout\": {\"title\": \"UE and AP Distribution in the grid\"}}]);}).then(function(){Plotly.animate('e0b0fd07-a5c0-4c22-a1da-50ae98237b66');})\n",
       "        });</script>"
      ],
      "text/vnd.plotly.v1+html": [
       "<div id=\"e0b0fd07-a5c0-4c22-a1da-50ae98237b66\" style=\"height: 1000px; width: 1000px;\" class=\"plotly-graph-div\"></div><script type=\"text/javascript\">require([\"plotly\"], function(Plotly) { window.PLOTLYENV=window.PLOTLYENV || {};window.PLOTLYENV.BASE_URL=\"https://plot.ly\";\n",
       "        Plotly.plot(\n",
       "            'e0b0fd07-a5c0-4c22-a1da-50ae98237b66',\n",
       "            [{\"type\": \"scatter\", \"x\": [600.0, 953], \"y\": [600.0, 528], \"mode\": \"lines\", \"line\": {\"width\": 2, \"color\": \"green\"}}, {\"type\": \"scatter\", \"x\": [1000.0, 1166], \"y\": [600.0, 582], \"mode\": \"lines\", \"line\": {\"width\": 2, \"color\": \"green\"}}, {\"type\": \"scatter\", \"x\": [1000.0, 1178], \"y\": [1400.0, 1287], \"mode\": \"lines\", \"line\": {\"width\": 2, \"color\": \"green\"}}, {\"type\": \"scatter\", \"x\": [1000.0, 1041], \"y\": [1000.0, 1009], \"mode\": \"lines\", \"line\": {\"width\": 2, \"color\": \"green\"}}, {\"type\": \"scatter\", \"x\": [1400.0, 1381], \"y\": [600.0, 796], \"mode\": \"lines\", \"line\": {\"width\": 2, \"color\": \"green\"}}, {\"type\": \"scatter\", \"x\": [600.0, 499], \"y\": [200.0, 293], \"mode\": \"lines\", \"line\": {\"width\": 2, \"color\": \"green\"}}, {\"type\": \"scatter\", \"x\": [200.0, 12], \"y\": [1000.0, 758], \"mode\": \"lines\", \"line\": {\"width\": 2, \"color\": \"green\"}}, {\"type\": \"scatter\", \"x\": [1000.0, 602], \"y\": [600.0, 794], \"mode\": \"lines\", \"line\": {\"width\": 2, \"color\": \"red\"}}, {\"type\": \"scatter\", \"x\": [600.0, 706], \"y\": [1000.0, 968], \"mode\": \"lines\", \"line\": {\"width\": 2, \"color\": \"green\"}}, {\"type\": \"scatter\", \"x\": [1400.0, 1411], \"y\": [200.0, 298], \"mode\": \"lines\", \"line\": {\"width\": 2, \"color\": \"green\"}}, {\"type\": \"scatter\", \"x\": [600.0, 596], \"y\": [1400.0, 1204], \"mode\": \"lines\", \"line\": {\"width\": 2, \"color\": \"green\"}}, {\"type\": \"scatter\", \"x\": [1400.0, 1292], \"y\": [600.0, 423], \"mode\": \"lines\", \"line\": {\"width\": 2, \"color\": \"green\"}}, {\"type\": \"scatter\", \"x\": [600.0, 529], \"y\": [600.0, 562], \"mode\": \"lines\", \"line\": {\"width\": 2, \"color\": \"green\"}}, {\"type\": \"scatter\", \"x\": [1400.0, 1447], \"y\": [1000.0, 655], \"mode\": \"lines\", \"line\": {\"width\": 2, \"color\": \"green\"}}, {\"type\": \"scatter\", \"x\": [600.0, 603], \"y\": [200.0, 500], \"mode\": \"lines\", \"line\": {\"width\": 2, \"color\": \"green\"}}, {\"type\": \"scatter\", \"x\": [1400.0, 1464], \"y\": [200.0, 148], \"mode\": \"lines\", \"line\": {\"width\": 2, \"color\": \"green\"}}, {\"type\": \"scatter\", \"x\": [600.0, 959], \"y\": [600.0, 915], \"mode\": \"lines\", \"line\": {\"width\": 2, \"color\": \"green\"}}, {\"type\": \"scatter\", \"x\": [600.0, 748], \"y\": [600.0, 664], \"mode\": \"lines\", \"line\": {\"width\": 2, \"color\": \"green\"}}, {\"type\": \"scatter\", \"x\": [600.0, 691], \"y\": [1000.0, 1038], \"mode\": \"lines\", \"line\": {\"width\": 2, \"color\": \"green\"}}, {\"type\": \"scatter\", \"x\": [600.0, 742], \"y\": [200.0, 276], \"mode\": \"lines\", \"line\": {\"width\": 2, \"color\": \"green\"}}, {\"type\": \"scatter\", \"x\": [1000.0, 702], \"y\": [1000.0, 957], \"mode\": \"lines\", \"line\": {\"width\": 2, \"color\": \"red\"}}, {\"type\": \"scatter\", \"x\": [200.0, 372], \"y\": [200.0, 235], \"mode\": \"lines\", \"line\": {\"width\": 2, \"color\": \"green\"}}, {\"type\": \"scatter\", \"x\": [1000.0, 921], \"y\": [1000.0, 1158], \"mode\": \"lines\", \"line\": {\"width\": 2, \"color\": \"green\"}}, {\"type\": \"scatter\", \"x\": [200.0, 37], \"y\": [600.0, 504], \"mode\": \"lines\", \"line\": {\"width\": 2, \"color\": \"green\"}}, {\"type\": \"scatter\", \"x\": [1000.0, 861], \"y\": [1000.0, 876], \"mode\": \"lines\", \"line\": {\"width\": 2, \"color\": \"green\"}}, {\"type\": \"scatter\", \"x\": [1400.0, 1026], \"y\": [600.0, 377], \"mode\": \"lines\", \"line\": {\"width\": 2, \"color\": \"green\"}}, {\"type\": \"scatter\", \"x\": [1000.0, 938], \"y\": [600.0, 629], \"mode\": \"lines\", \"line\": {\"width\": 2, \"color\": \"green\"}}, {\"type\": \"scatter\", \"x\": [1400.0, 1599], \"y\": [1000.0, 1173], \"mode\": \"lines\", \"line\": {\"width\": 2, \"color\": \"green\"}}, {\"type\": \"scatter\", \"x\": [600.0, 667], \"y\": [1000.0, 831], \"mode\": \"lines\", \"line\": {\"width\": 2, \"color\": \"green\"}}, {\"type\": \"scatter\", \"x\": [200.0, 269], \"y\": [1000.0, 868], \"mode\": \"lines\", \"line\": {\"width\": 2, \"color\": \"green\"}}, {\"type\": \"scatter\", \"x\": [1400.0, 1024], \"y\": [1400.0, 1578], \"mode\": \"lines\", \"line\": {\"width\": 2, \"color\": \"green\"}}, {\"type\": \"scatter\", \"x\": [1000.0, 896], \"y\": [1400.0, 1347], \"mode\": \"lines\", \"line\": {\"width\": 2, \"color\": \"green\"}}, {\"type\": \"scatter\", \"x\": [1400.0, 1527], \"y\": [1000.0, 1130], \"mode\": \"lines\", \"line\": {\"width\": 2, \"color\": \"green\"}}, {\"type\": \"scatter\", \"x\": [1000.0, 1068], \"y\": [1000.0, 853], \"mode\": \"lines\", \"line\": {\"width\": 2, \"color\": \"green\"}}, {\"type\": \"scatter\", \"x\": [200.0, 584], \"y\": [1400.0, 1097], \"mode\": \"lines\", \"line\": {\"width\": 2, \"color\": \"green\"}}, {\"type\": \"scatter\", \"x\": [200.0, 84], \"y\": [200.0, 128], \"mode\": \"lines\", \"line\": {\"width\": 2, \"color\": \"green\"}}, {\"type\": \"scatter\", \"x\": [1400.0, 1492], \"y\": [1400.0, 1293], \"mode\": \"lines\", \"line\": {\"width\": 2, \"color\": \"green\"}}, {\"type\": \"scatter\", \"x\": [1000.0, 1125], \"y\": [600.0, 517], \"mode\": \"lines\", \"line\": {\"width\": 2, \"color\": \"green\"}}, {\"type\": \"scatter\", \"x\": [600.0, 765], \"y\": [200.0, 121], \"mode\": \"lines\", \"line\": {\"width\": 2, \"color\": \"green\"}}, {\"type\": \"scatter\", \"x\": [1400.0, 1099], \"y\": [1400.0, 1056], \"mode\": \"lines\", \"line\": {\"width\": 2, \"color\": \"green\"}}, {\"type\": \"scatter\", \"x\": [600.0, 701], \"y\": [200.0, 541], \"mode\": \"lines\", \"line\": {\"width\": 2, \"color\": \"red\"}}, {\"type\": \"scatter\", \"x\": [1400.0, 1498], \"y\": [1000.0, 811], \"mode\": \"lines\", \"line\": {\"width\": 2, \"color\": \"green\"}}, {\"type\": \"scatter\", \"x\": [1000.0, 971], \"y\": [1000.0, 902], \"mode\": \"lines\", \"line\": {\"width\": 2, \"color\": \"green\"}}, {\"type\": \"scatter\", \"x\": [1000.0, 920], \"y\": [600.0, 636], \"mode\": \"lines\", \"line\": {\"width\": 2, \"color\": \"green\"}}, {\"type\": \"scatter\", \"x\": [200.0, 588], \"y\": [600.0, 510], \"mode\": \"lines\", \"line\": {\"width\": 2, \"color\": \"red\"}}, {\"type\": \"scatter\", \"x\": [200.0, 167], \"y\": [200.0, 169], \"mode\": \"lines\", \"line\": {\"width\": 2, \"color\": \"green\"}}, {\"type\": \"scatter\", \"x\": [1400.0, 1395], \"y\": [200.0, 291], \"mode\": \"lines\", \"line\": {\"width\": 2, \"color\": \"green\"}}, {\"type\": \"scatter\", \"x\": [200.0, 52], \"y\": [1000.0, 919], \"mode\": \"lines\", \"line\": {\"width\": 2, \"color\": \"green\"}}, {\"type\": \"scatter\", \"x\": [200.0, 46], \"y\": [1000.0, 714], \"mode\": \"lines\", \"line\": {\"width\": 2, \"color\": \"green\"}}, {\"type\": \"scatter\", \"x\": [1000.0, 1053], \"y\": [600.0, 657], \"mode\": \"lines\", \"line\": {\"width\": 2, \"color\": \"green\"}}, {\"type\": \"scatter\", \"x\": [600.0, 650], \"y\": [600.0, 942], \"mode\": \"lines\", \"line\": {\"width\": 2, \"color\": \"red\"}}, {\"type\": \"scatter\", \"x\": [600.0, 683], \"y\": [1000.0, 939], \"mode\": \"lines\", \"line\": {\"width\": 2, \"color\": \"green\"}}, {\"type\": \"scatter\", \"x\": [200.0, 203], \"y\": [600.0, 561], \"mode\": \"lines\", \"line\": {\"width\": 2, \"color\": \"green\"}}, {\"type\": \"scatter\", \"x\": [600.0, 247], \"y\": [200.0, 154], \"mode\": \"lines\", \"line\": {\"width\": 2, \"color\": \"green\"}}, {\"type\": \"scatter\", \"x\": [600.0, 659], \"y\": [1400.0, 1203], \"mode\": \"lines\", \"line\": {\"width\": 2, \"color\": \"green\"}}, {\"type\": \"scatter\", \"x\": [1000.0, 1027], \"y\": [1400.0, 1587], \"mode\": \"lines\", \"line\": {\"width\": 2, \"color\": \"green\"}}, {\"type\": \"scatter\", \"x\": [1000.0, 1155], \"y\": [1400.0, 1463], \"mode\": \"lines\", \"line\": {\"width\": 2, \"color\": \"green\"}}, {\"type\": \"scatter\", \"x\": [1000.0, 925], \"y\": [600.0, 753], \"mode\": \"lines\", \"line\": {\"width\": 2, \"color\": \"green\"}}, {\"type\": \"scatter\", \"x\": [600.0, 747], \"y\": [200.0, 79], \"mode\": \"lines\", \"line\": {\"width\": 2, \"color\": \"green\"}}, {\"type\": \"scatter\", \"x\": [1000.0, 1193], \"y\": [1400.0, 1439], \"mode\": \"lines\", \"line\": {\"width\": 2, \"color\": \"green\"}}, {\"type\": \"scatter\", \"x\": [1000.0, 1103], \"y\": [1000.0, 1067], \"mode\": \"lines\", \"line\": {\"width\": 2, \"color\": \"green\"}}, {\"type\": \"scatter\", \"x\": [600.0, 944], \"y\": [1400.0, 1502], \"mode\": \"lines\", \"line\": {\"width\": 2, \"color\": \"green\"}}, {\"type\": \"scatter\", \"x\": [600.0, 618], \"y\": [1000.0, 1198], \"mode\": \"lines\", \"line\": {\"width\": 2, \"color\": \"green\"}}, {\"type\": \"scatter\", \"x\": [600.0, 922], \"y\": [200.0, 154], \"mode\": \"lines\", \"line\": {\"width\": 2, \"color\": \"green\"}}, {\"type\": \"scatter\", \"x\": [600.0, 672], \"y\": [1400.0, 1072], \"mode\": \"lines\", \"line\": {\"width\": 2, \"color\": \"green\"}}, {\"type\": \"scatter\", \"x\": [200.0, 126], \"y\": [600.0, 332], \"mode\": \"lines\", \"line\": {\"width\": 2, \"color\": \"green\"}}, {\"type\": \"scatter\", \"x\": [600.0, 546], \"y\": [600.0, 858], \"mode\": \"lines\", \"line\": {\"width\": 2, \"color\": \"red\"}}, {\"type\": \"scatter\", \"x\": [200.0, 119], \"y\": [600.0, 444], \"mode\": \"lines\", \"line\": {\"width\": 2, \"color\": \"green\"}}, {\"type\": \"scatter\", \"x\": [600.0, 897], \"y\": [1000.0, 852], \"mode\": \"lines\", \"line\": {\"width\": 2, \"color\": \"red\"}}, {\"type\": \"scatter\", \"x\": [1400.0, 1491], \"y\": [200.0, 12], \"mode\": \"lines\", \"line\": {\"width\": 2, \"color\": \"green\"}}, {\"type\": \"scatter\", \"x\": [600.0, 800], \"y\": [1000.0, 1120], \"mode\": \"lines\", \"line\": {\"width\": 2, \"color\": \"green\"}}, {\"type\": \"scatter\", \"x\": [1000.0, 1185], \"y\": [1000.0, 1064], \"mode\": \"lines\", \"line\": {\"width\": 2, \"color\": \"green\"}}, {\"type\": \"scatter\", \"x\": [600.0, 615], \"y\": [1000.0, 941], \"mode\": \"lines\", \"line\": {\"width\": 2, \"color\": \"green\"}}, {\"type\": \"scatter\", \"x\": [1000.0, 1167], \"y\": [600.0, 938], \"mode\": \"lines\", \"line\": {\"width\": 2, \"color\": \"green\"}}, {\"type\": \"scatter\", \"x\": [200.0, 270], \"y\": [1000.0, 1064], \"mode\": \"lines\", \"line\": {\"width\": 2, \"color\": \"green\"}}, {\"type\": \"scatter\", \"x\": [600.0, 537], \"y\": [1000.0, 814], \"mode\": \"lines\", \"line\": {\"width\": 2, \"color\": \"green\"}}, {\"type\": \"scatter\", \"x\": [1000.0, 816], \"y\": [1000.0, 1008], \"mode\": \"lines\", \"line\": {\"width\": 2, \"color\": \"green\"}}, {\"type\": \"scatter\", \"x\": [1400.0, 1379], \"y\": [1400.0, 1306], \"mode\": \"lines\", \"line\": {\"width\": 2, \"color\": \"green\"}}, {\"type\": \"scatter\", \"x\": [600.0, 626], \"y\": [600.0, 781], \"mode\": \"lines\", \"line\": {\"width\": 2, \"color\": \"green\"}}, {\"type\": \"scatter\", \"x\": [1000.0, 836], \"y\": [1000.0, 675], \"mode\": \"lines\", \"line\": {\"width\": 2, \"color\": \"red\"}}, {\"type\": \"scatter\", \"x\": [1000.0, 851], \"y\": [1000.0, 852], \"mode\": \"lines\", \"line\": {\"width\": 2, \"color\": \"red\"}}, {\"type\": \"scatter\", \"x\": [600.0, 609], \"y\": [1000.0, 686], \"mode\": \"lines\", \"line\": {\"width\": 2, \"color\": \"red\"}}, {\"type\": \"scatter\", \"x\": [1000.0, 840], \"y\": [600.0, 749], \"mode\": \"lines\", \"line\": {\"width\": 2, \"color\": \"green\"}}, {\"type\": \"scatter\", \"x\": [1000.0, 1092], \"y\": [200.0, 360], \"mode\": \"lines\", \"line\": {\"width\": 2, \"color\": \"green\"}}, {\"type\": \"scatter\", \"x\": [200.0, 281], \"y\": [200.0, 138], \"mode\": \"lines\", \"line\": {\"width\": 2, \"color\": \"green\"}}, {\"type\": \"scatter\", \"x\": [200.0, 86], \"y\": [600.0, 688], \"mode\": \"lines\", \"line\": {\"width\": 2, \"color\": \"green\"}}, {\"type\": \"scatter\", \"x\": [600.0, 491], \"y\": [200.0, 277], \"mode\": \"lines\", \"line\": {\"width\": 2, \"color\": \"green\"}}, {\"type\": \"scatter\", \"x\": [200.0, 356], \"y\": [600.0, 607], \"mode\": \"lines\", \"line\": {\"width\": 2, \"color\": \"green\"}}, {\"type\": \"scatter\", \"x\": [200.0, 351], \"y\": [1400.0, 1595], \"mode\": \"lines\", \"line\": {\"width\": 2, \"color\": \"green\"}}, {\"type\": \"scatter\", \"x\": [1000.0, 1084], \"y\": [200.0, 117], \"mode\": \"lines\", \"line\": {\"width\": 2, \"color\": \"green\"}}, {\"type\": \"scatter\", \"x\": [200.0, 168], \"y\": [600.0, 945], \"mode\": \"lines\", \"line\": {\"width\": 2, \"color\": \"green\"}}, {\"type\": \"scatter\", \"x\": [600.0, 768], \"y\": [1000.0, 1028], \"mode\": \"lines\", \"line\": {\"width\": 2, \"color\": \"red\"}}, {\"type\": \"scatter\", \"x\": [1400.0, 1406], \"y\": [1000.0, 620], \"mode\": \"lines\", \"line\": {\"width\": 2, \"color\": \"green\"}}, {\"type\": \"scatter\", \"x\": [1400.0, 1491], \"y\": [200.0, 133], \"mode\": \"lines\", \"line\": {\"width\": 2, \"color\": \"green\"}}, {\"type\": \"scatter\", \"x\": [1000.0, 826], \"y\": [1400.0, 1532], \"mode\": \"lines\", \"line\": {\"width\": 2, \"color\": \"green\"}}, {\"type\": \"scatter\", \"x\": [1400.0, 1584], \"y\": [1400.0, 1048], \"mode\": \"lines\", \"line\": {\"width\": 2, \"color\": \"green\"}}, {\"type\": \"scatter\", \"x\": [1000.0, 1069], \"y\": [1000.0, 803], \"mode\": \"lines\", \"line\": {\"width\": 2, \"color\": \"green\"}}, {\"type\": \"scatter\", \"x\": [600.0, 539], \"y\": [1400.0, 1096], \"mode\": \"lines\", \"line\": {\"width\": 2, \"color\": \"green\"}}, {\"type\": \"scatter\", \"x\": [200.0, 514], \"y\": [600.0, 827], \"mode\": \"lines\", \"line\": {\"width\": 2, \"color\": \"green\"}}, {\"type\": \"scatter\", \"x\": [600.0, 590], \"y\": [600.0, 965], \"mode\": \"lines\", \"line\": {\"width\": 2, \"color\": \"red\"}}, {\"type\": \"scatter\", \"x\": [1000.0, 819], \"y\": [600.0, 478], \"mode\": \"lines\", \"line\": {\"width\": 2, \"color\": \"green\"}}, {\"type\": \"scatter\", \"x\": [200.0, 347], \"y\": [1000.0, 972], \"mode\": \"lines\", \"line\": {\"width\": 2, \"color\": \"green\"}}, {\"type\": \"scatter\", \"x\": [1000.0, 796], \"y\": [600.0, 546], \"mode\": \"lines\", \"line\": {\"width\": 2, \"color\": \"red\"}}, {\"type\": \"scatter\", \"x\": [200.0, 339], \"y\": [600.0, 568], \"mode\": \"lines\", \"line\": {\"width\": 2, \"color\": \"green\"}}, {\"type\": \"scatter\", \"x\": [1000.0, 933], \"y\": [200.0, 179], \"mode\": \"lines\", \"line\": {\"width\": 2, \"color\": \"green\"}}, {\"type\": \"scatter\", \"x\": [200.0, 81], \"y\": [600.0, 906], \"mode\": \"lines\", \"line\": {\"width\": 2, \"color\": \"green\"}}, {\"type\": \"scatter\", \"x\": [200.0, 138], \"y\": [1000.0, 1080], \"mode\": \"lines\", \"line\": {\"width\": 2, \"color\": \"green\"}}, {\"type\": \"scatter\", \"x\": [200.0, 42], \"y\": [600.0, 510], \"mode\": \"lines\", \"line\": {\"width\": 2, \"color\": \"green\"}}, {\"type\": \"scatter\", \"x\": [200.0, 208], \"y\": [1400.0, 1568], \"mode\": \"lines\", \"line\": {\"width\": 2, \"color\": \"green\"}}, {\"type\": \"scatter\", \"x\": [200.0, 259], \"y\": [600.0, 472], \"mode\": \"lines\", \"line\": {\"width\": 2, \"color\": \"green\"}}, {\"type\": \"scatter\", \"x\": [1400.0, 1555], \"y\": [600.0, 700], \"mode\": \"lines\", \"line\": {\"width\": 2, \"color\": \"green\"}}, {\"type\": \"scatter\", \"x\": [1000.0, 995], \"y\": [1400.0, 1547], \"mode\": \"lines\", \"line\": {\"width\": 2, \"color\": \"green\"}}, {\"type\": \"scatter\", \"x\": [1400.0, 1472], \"y\": [200.0, 287], \"mode\": \"lines\", \"line\": {\"width\": 2, \"color\": \"green\"}}, {\"type\": \"scatter\", \"x\": [600.0, 728], \"y\": [200.0, 334], \"mode\": \"lines\", \"line\": {\"width\": 2, \"color\": \"green\"}}, {\"type\": \"scatter\", \"x\": [600.0, 414], \"y\": [200.0, 32], \"mode\": \"lines\", \"line\": {\"width\": 2, \"color\": \"green\"}}, {\"type\": \"scatter\", \"x\": [200.0, 199], \"y\": [200.0, 214], \"mode\": \"lines\", \"line\": {\"width\": 2, \"color\": \"green\"}}, {\"type\": \"scatter\", \"x\": [1000.0, 1138], \"y\": [600.0, 575], \"mode\": \"lines\", \"line\": {\"width\": 2, \"color\": \"green\"}}, {\"type\": \"scatter\", \"x\": [600.0, 521], \"y\": [600.0, 949], \"mode\": \"lines\", \"line\": {\"width\": 2, \"color\": \"green\"}}, {\"type\": \"scatter\", \"x\": [600.0, 696], \"y\": [1400.0, 1241], \"mode\": \"lines\", \"line\": {\"width\": 2, \"color\": \"green\"}}, {\"type\": \"scatter\", \"x\": [1400.0, 1382], \"y\": [600.0, 596], \"mode\": \"lines\", \"line\": {\"width\": 2, \"color\": \"green\"}}, {\"type\": \"scatter\", \"x\": [1000.0, 1240], \"y\": [1000.0, 1188], \"mode\": \"lines\", \"line\": {\"width\": 2, \"color\": \"green\"}}, {\"type\": \"scatter\", \"x\": [1000.0, 1057], \"y\": [1000.0, 989], \"mode\": \"lines\", \"line\": {\"width\": 2, \"color\": \"red\"}}, {\"type\": \"scatter\", \"x\": [200.0, 302], \"y\": [1400.0, 1508], \"mode\": \"lines\", \"line\": {\"width\": 2, \"color\": \"green\"}}, {\"type\": \"scatter\", \"x\": [1000.0, 698], \"y\": [600.0, 536], \"mode\": \"lines\", \"line\": {\"width\": 2, \"color\": \"green\"}}, {\"type\": \"scatter\", \"x\": [600.0, 575], \"y\": [1400.0, 1452], \"mode\": \"lines\", \"line\": {\"width\": 2, \"color\": \"green\"}}, {\"type\": \"scatter\", \"x\": [1400.0, 1499], \"y\": [600.0, 416], \"mode\": \"lines\", \"line\": {\"width\": 2, \"color\": \"green\"}}, {\"type\": \"scatter\", \"x\": [200.0, 242], \"y\": [600.0, 596], \"mode\": \"lines\", \"line\": {\"width\": 2, \"color\": \"green\"}}, {\"type\": \"scatter\", \"x\": [1400.0, 1451], \"y\": [600.0, 528], \"mode\": \"lines\", \"line\": {\"width\": 2, \"color\": \"green\"}}, {\"type\": \"scatter\", \"x\": [200.0, 171], \"y\": [1400.0, 1237], \"mode\": \"lines\", \"line\": {\"width\": 2, \"color\": \"green\"}}, {\"type\": \"scatter\", \"x\": [1400.0, 1538], \"y\": [1000.0, 959], \"mode\": \"lines\", \"line\": {\"width\": 2, \"color\": \"green\"}}, {\"type\": \"scatter\", \"x\": [600.0, 569], \"y\": [600.0, 633], \"mode\": \"lines\", \"line\": {\"width\": 2, \"color\": \"green\"}}, {\"type\": \"scatter\", \"x\": [600.0, 677], \"y\": [1400.0, 1091], \"mode\": \"lines\", \"line\": {\"width\": 2, \"color\": \"green\"}}, {\"type\": \"scatter\", \"x\": [1000.0, 972], \"y\": [600.0, 855], \"mode\": \"lines\", \"line\": {\"width\": 2, \"color\": \"green\"}}, {\"type\": \"scatter\", \"x\": [1000.0, 951], \"y\": [1000.0, 914], \"mode\": \"lines\", \"line\": {\"width\": 2, \"color\": \"green\"}}, {\"type\": \"scatter\", \"x\": [200.0, 294], \"y\": [1400.0, 1443], \"mode\": \"lines\", \"line\": {\"width\": 2, \"color\": \"green\"}}, {\"type\": \"scatter\", \"x\": [600.0, 651], \"y\": [600.0, 728], \"mode\": \"lines\", \"line\": {\"width\": 2, \"color\": \"red\"}}, {\"type\": \"scatter\", \"x\": [600.0, 773], \"y\": [1000.0, 807], \"mode\": \"lines\", \"line\": {\"width\": 2, \"color\": \"green\"}}, {\"type\": \"scatter\", \"x\": [200.0, 134], \"y\": [1000.0, 1000], \"mode\": \"lines\", \"line\": {\"width\": 2, \"color\": \"green\"}}, {\"type\": \"scatter\", \"x\": [200.0, 158], \"y\": [600.0, 746], \"mode\": \"lines\", \"line\": {\"width\": 2, \"color\": \"green\"}}, {\"type\": \"scatter\", \"x\": [600.0, 629], \"y\": [200.0, 150], \"mode\": \"lines\", \"line\": {\"width\": 2, \"color\": \"green\"}}, {\"type\": \"scatter\", \"x\": [1000.0, 847], \"y\": [200.0, 114], \"mode\": \"lines\", \"line\": {\"width\": 2, \"color\": \"green\"}}, {\"type\": \"scatter\", \"x\": [1400.0, 1392], \"y\": [1000.0, 847], \"mode\": \"lines\", \"line\": {\"width\": 2, \"color\": \"green\"}}, {\"type\": \"scatter\", \"x\": [600.0, 524], \"y\": [200.0, 222], \"mode\": \"lines\", \"line\": {\"width\": 2, \"color\": \"green\"}}, {\"type\": \"scatter\", \"x\": [200.0, 222], \"y\": [600.0, 630], \"mode\": \"lines\", \"line\": {\"width\": 2, \"color\": \"green\"}}, {\"type\": \"scatter\", \"x\": [1000.0, 1178], \"y\": [200.0, 385], \"mode\": \"lines\", \"line\": {\"width\": 2, \"color\": \"green\"}}, {\"type\": \"scatter\", \"x\": [1400.0, 1361], \"y\": [1000.0, 851], \"mode\": \"lines\", \"line\": {\"width\": 2, \"color\": \"green\"}}, {\"type\": \"scatter\", \"x\": [600.0, 752], \"y\": [1400.0, 1246], \"mode\": \"lines\", \"line\": {\"width\": 2, \"color\": \"green\"}}, {\"type\": \"scatter\", \"x\": [1000.0, 829], \"y\": [1000.0, 1386], \"mode\": \"lines\", \"line\": {\"width\": 2, \"color\": \"green\"}}, {\"type\": \"scatter\", \"x\": [200.0, 171], \"y\": [1400.0, 1468], \"mode\": \"lines\", \"line\": {\"width\": 2, \"color\": \"green\"}}, {\"type\": \"scatter\", \"x\": [600.0, 516], \"y\": [600.0, 896], \"mode\": \"lines\", \"line\": {\"width\": 2, \"color\": \"red\"}}, {\"type\": \"scatter\", \"x\": [1000.0, 1021], \"y\": [600.0, 660], \"mode\": \"lines\", \"line\": {\"width\": 2, \"color\": \"green\"}}, {\"type\": \"scatter\", \"x\": [600.0, 594], \"y\": [1000.0, 672], \"mode\": \"lines\", \"line\": {\"width\": 2, \"color\": \"green\"}}, {\"type\": \"scatter\", \"x\": [200.0, 186], \"y\": [1400.0, 1415], \"mode\": \"lines\", \"line\": {\"width\": 2, \"color\": \"green\"}}, {\"type\": \"scatter\", \"x\": [200.0, 162], \"y\": [200.0, 172], \"mode\": \"lines\", \"line\": {\"width\": 2, \"color\": \"green\"}}, {\"type\": \"scatter\", \"x\": [1400.0, 1594], \"y\": [1400.0, 1461], \"mode\": \"lines\", \"line\": {\"width\": 2, \"color\": \"green\"}}, {\"type\": \"scatter\", \"x\": [1000.0, 921], \"y\": [600.0, 543], \"mode\": \"lines\", \"line\": {\"width\": 2, \"color\": \"green\"}}, {\"type\": \"scatter\", \"x\": [600.0, 591], \"y\": [1400.0, 1070], \"mode\": \"lines\", \"line\": {\"width\": 2, \"color\": \"green\"}}, {\"type\": \"scatter\", \"x\": [600.0, 609], \"y\": [1400.0, 1341], \"mode\": \"lines\", \"line\": {\"width\": 2, \"color\": \"green\"}}, {\"type\": \"scatter\", \"x\": [1400.0, 1450], \"y\": [200.0, 69], \"mode\": \"lines\", \"line\": {\"width\": 2, \"color\": \"green\"}}, {\"type\": \"scatter\", \"x\": [1000.0, 796], \"y\": [600.0, 546], \"mode\": \"lines\", \"line\": {\"width\": 2, \"color\": \"red\"}}, {\"type\": \"scatter\", \"x\": [200.0, 338], \"y\": [600.0, 687], \"mode\": \"lines\", \"line\": {\"width\": 2, \"color\": \"green\"}}, {\"type\": \"scatter\", \"x\": [600.0, 426], \"y\": [1400.0, 1332], \"mode\": \"lines\", \"line\": {\"width\": 2, \"color\": \"green\"}}, {\"type\": \"scatter\", \"x\": [1400.0, 1294], \"y\": [600.0, 579], \"mode\": \"lines\", \"line\": {\"width\": 2, \"color\": \"green\"}}, {\"type\": \"scatter\", \"x\": [1400.0, 1252], \"y\": [1000.0, 1148], \"mode\": \"lines\", \"line\": {\"width\": 2, \"color\": \"green\"}}, {\"type\": \"scatter\", \"x\": [600.0, 906], \"y\": [600.0, 555], \"mode\": \"lines\", \"line\": {\"width\": 2, \"color\": \"red\"}}, {\"type\": \"scatter\", \"x\": [600.0, 632], \"y\": [200.0, 538], \"mode\": \"lines\", \"line\": {\"width\": 2, \"color\": \"red\"}}, {\"type\": \"scatter\", \"x\": [1400.0, 1238], \"y\": [200.0, 210], \"mode\": \"lines\", \"line\": {\"width\": 2, \"color\": \"green\"}}, {\"type\": \"scatter\", \"x\": [200.0, 249], \"y\": [200.0, 101], \"mode\": \"lines\", \"line\": {\"width\": 2, \"color\": \"green\"}}, {\"type\": \"scatter\", \"x\": [1000.0, 648], \"y\": [1400.0, 1449], \"mode\": \"lines\", \"line\": {\"width\": 2, \"color\": \"green\"}}, {\"type\": \"scatter\", \"x\": [200.0, 307], \"y\": [1400.0, 1262], \"mode\": \"lines\", \"line\": {\"width\": 2, \"color\": \"green\"}}, {\"type\": \"scatter\", \"x\": [1000.0, 1039], \"y\": [1000.0, 1084], \"mode\": \"lines\", \"line\": {\"width\": 2, \"color\": \"green\"}}, {\"type\": \"scatter\", \"x\": [1000.0, 1062], \"y\": [1000.0, 999], \"mode\": \"lines\", \"line\": {\"width\": 2, \"color\": \"red\"}}, {\"type\": \"scatter\", \"x\": [600.0, 818], \"y\": [1000.0, 887], \"mode\": \"lines\", \"line\": {\"width\": 2, \"color\": \"red\"}}, {\"type\": \"scatter\", \"x\": [1000.0, 956], \"y\": [1000.0, 674], \"mode\": \"lines\", \"line\": {\"width\": 2, \"color\": \"red\"}}, {\"type\": \"scatter\", \"x\": [1000.0, 985], \"y\": [1400.0, 1464], \"mode\": \"lines\", \"line\": {\"width\": 2, \"color\": \"green\"}}, {\"type\": \"scatter\", \"x\": [1000.0, 1084], \"y\": [1400.0, 1162], \"mode\": \"lines\", \"line\": {\"width\": 2, \"color\": \"green\"}}, {\"type\": \"scatter\", \"x\": [1000.0, 990], \"y\": [1000.0, 802], \"mode\": \"lines\", \"line\": {\"width\": 2, \"color\": \"green\"}}, {\"type\": \"scatter\", \"x\": [1000.0, 1139], \"y\": [200.0, 437], \"mode\": \"lines\", \"line\": {\"width\": 2, \"color\": \"green\"}}, {\"type\": \"scatter\", \"x\": [1000.0, 1091], \"y\": [1000.0, 817], \"mode\": \"lines\", \"line\": {\"width\": 2, \"color\": \"red\"}}, {\"type\": \"scatter\", \"x\": [1000.0, 968], \"y\": [1000.0, 635], \"mode\": \"lines\", \"line\": {\"width\": 2, \"color\": \"red\"}}, {\"type\": \"scatter\", \"x\": [1000.0, 1153], \"y\": [200.0, 436], \"mode\": \"lines\", \"line\": {\"width\": 2, \"color\": \"green\"}}, {\"type\": \"scatter\", \"x\": [1000.0, 1180], \"y\": [1000.0, 756], \"mode\": \"lines\", \"line\": {\"width\": 2, \"color\": \"green\"}}, {\"type\": \"scatter\", \"x\": [600.0, 545], \"y\": [200.0, 268], \"mode\": \"lines\", \"line\": {\"width\": 2, \"color\": \"green\"}}, {\"type\": \"scatter\", \"x\": [1400.0, 1317], \"y\": [1000.0, 862], \"mode\": \"lines\", \"line\": {\"width\": 2, \"color\": \"green\"}}, {\"type\": \"scatter\", \"x\": [600.0, 629], \"y\": [1400.0, 1379], \"mode\": \"lines\", \"line\": {\"width\": 2, \"color\": \"green\"}}, {\"type\": \"scatter\", \"x\": [1000.0, 1134], \"y\": [1400.0, 1461], \"mode\": \"lines\", \"line\": {\"width\": 2, \"color\": \"green\"}}, {\"type\": \"scatter\", \"x\": [600.0, 733], \"y\": [1000.0, 778], \"mode\": \"lines\", \"line\": {\"width\": 2, \"color\": \"green\"}}, {\"type\": \"scatter\", \"x\": [200.0, 201], \"y\": [600.0, 746], \"mode\": \"lines\", \"line\": {\"width\": 2, \"color\": \"green\"}}, {\"type\": \"scatter\", \"x\": [600.0, 536], \"y\": [200.0, 139], \"mode\": \"lines\", \"line\": {\"width\": 2, \"color\": \"green\"}}, {\"type\": \"scatter\", \"x\": [600.0, 675], \"y\": [1000.0, 883], \"mode\": \"lines\", \"line\": {\"width\": 2, \"color\": \"red\"}}, {\"type\": \"scatter\", \"x\": [200.0, 249], \"y\": [1000.0, 942], \"mode\": \"lines\", \"line\": {\"width\": 2, \"color\": \"green\"}}, {\"type\": \"scatter\", \"x\": [1400.0, 1530], \"y\": [1000.0, 1118], \"mode\": \"lines\", \"line\": {\"width\": 2, \"color\": \"green\"}}, {\"type\": \"scatter\", \"x\": [200.0, 191], \"y\": [1000.0, 913], \"mode\": \"lines\", \"line\": {\"width\": 2, \"color\": \"green\"}}, {\"type\": \"scatter\", \"x\": [1000.0, 1067], \"y\": [600.0, 529], \"mode\": \"lines\", \"line\": {\"width\": 2, \"color\": \"green\"}}, {\"type\": \"scatter\", \"x\": [1000.0, 1105], \"y\": [200.0, 145], \"mode\": \"lines\", \"line\": {\"width\": 2, \"color\": \"green\"}}, {\"type\": \"scatter\", \"x\": [200.0, 209], \"y\": [1400.0, 1255], \"mode\": \"lines\", \"line\": {\"width\": 2, \"color\": \"green\"}}, {\"type\": \"scatter\", \"x\": [200.0, 232], \"y\": [1400.0, 1591], \"mode\": \"lines\", \"line\": {\"width\": 2, \"color\": \"green\"}}, {\"type\": \"scatter\", \"x\": [1000.0, 845], \"y\": [1000.0, 1116], \"mode\": \"lines\", \"line\": {\"width\": 2, \"color\": \"green\"}}, {\"type\": \"scatter\", \"x\": [1000.0, 634], \"y\": [600.0, 627], \"mode\": \"lines\", \"line\": {\"width\": 2, \"color\": \"red\"}}, {\"type\": \"scatter\", \"x\": [1000.0, 1120], \"y\": [1000.0, 910], \"mode\": \"lines\", \"line\": {\"width\": 2, \"color\": \"green\"}}, {\"type\": \"scatter\", \"x\": [812, 812], \"y\": [0, 1600.0], \"mode\": \"lines\", \"line\": {\"width\": 2, \"color\": \"black\"}}, {\"type\": \"scatter\", \"x\": [812, 912], \"y\": [1600.0, 1600.0], \"mode\": \"lines\", \"line\": {\"width\": 2, \"color\": \"black\"}}, {\"type\": \"scatter\", \"x\": [912, 912], \"y\": [1600.0, 0], \"mode\": \"lines\", \"line\": {\"width\": 2, \"color\": \"black\"}}, {\"type\": \"scatter\", \"x\": [812, 912], \"y\": [0, 0], \"mode\": \"lines\", \"line\": {\"width\": 2, \"color\": \"black\"}}, {\"type\": \"scatter\", \"x\": [0, 0], \"y\": [257, 357], \"mode\": \"lines\", \"line\": {\"width\": 2, \"color\": \"black\"}}, {\"type\": \"scatter\", \"x\": [0, 1600.0], \"y\": [357, 357], \"mode\": \"lines\", \"line\": {\"width\": 2, \"color\": \"black\"}}, {\"type\": \"scatter\", \"x\": [1600.0, 1600.0], \"y\": [357, 257], \"mode\": \"lines\", \"line\": {\"width\": 2, \"color\": \"black\"}}, {\"type\": \"scatter\", \"x\": [0, 1600.0], \"y\": [257, 257], \"mode\": \"lines\", \"line\": {\"width\": 2, \"color\": \"black\"}}, {\"type\": \"scatter\", \"x\": [0, 0], \"y\": [85, 185], \"mode\": \"lines\", \"line\": {\"width\": 2, \"color\": \"black\"}}, {\"type\": \"scatter\", \"x\": [0, 1600.0], \"y\": [185, 185], \"mode\": \"lines\", \"line\": {\"width\": 2, \"color\": \"black\"}}, {\"type\": \"scatter\", \"x\": [1600.0, 1600.0], \"y\": [185, 85], \"mode\": \"lines\", \"line\": {\"width\": 2, \"color\": \"black\"}}, {\"type\": \"scatter\", \"x\": [0, 1600.0], \"y\": [85, 85], \"mode\": \"lines\", \"line\": {\"width\": 2, \"color\": \"black\"}}, {\"type\": \"scatter\", \"x\": [465, 465], \"y\": [80, 260], \"mode\": \"lines\", \"line\": {\"width\": 2, \"color\": \"black\"}}, {\"type\": \"scatter\", \"x\": [465, 556], \"y\": [260, 260], \"mode\": \"lines\", \"line\": {\"width\": 2, \"color\": \"black\"}}, {\"type\": \"scatter\", \"x\": [556, 556], \"y\": [260, 80], \"mode\": \"lines\", \"line\": {\"width\": 2, \"color\": \"black\"}}, {\"type\": \"scatter\", \"x\": [465, 556], \"y\": [80, 80], \"mode\": \"lines\", \"line\": {\"width\": 2, \"color\": \"black\"}}, {\"type\": \"scatter\", \"x\": [200.0, 200.0, 200.0, 200.0, 600.0, 600.0, 600.0, 600.0, 1000.0, 1000.0, 1000.0, 1000.0, 1400.0, 1400.0, 1400.0, 1400.0, 953, 1166, 1178, 1041, 1381, 499, 12, 602, 706, 1411, 596, 1292, 529, 1447, 603, 1464, 959, 748, 691, 742, 702, 372, 921, 37, 861, 1026, 938, 1599, 667, 269, 1024, 896, 1527, 1068, 584, 84, 1492, 1125, 765, 1099, 701, 1498, 971, 920, 588, 167, 1395, 52, 46, 1053, 650, 683, 203, 247, 659, 1027, 1155, 925, 747, 1193, 1103, 944, 618, 922, 672, 126, 546, 119, 897, 1491, 800, 1185, 615, 1167, 270, 537, 816, 1379, 626, 836, 851, 609, 840, 1092, 281, 86, 491, 356, 351, 1084, 168, 768, 1406, 1491, 826, 1584, 1069, 539, 514, 590, 819, 347, 796, 339, 933, 81, 138, 42, 208, 259, 1555, 995, 1472, 728, 414, 199, 1138, 521, 696, 1382, 1240, 1057, 302, 698, 575, 1499, 242, 1451, 171, 1538, 569, 677, 972, 951, 294, 651, 773, 134, 158, 629, 847, 1392, 524, 222, 1178, 1361, 752, 829, 171, 516, 1021, 594, 186, 162, 1594, 921, 591, 609, 1450, 796, 338, 426, 1294, 1252, 906, 632, 1238, 249, 648, 307, 1039, 1062, 818, 956, 985, 1084, 990, 1139, 1091, 968, 1153, 1180, 545, 1317, 629, 1134, 733, 201, 536, 675, 249, 1530, 191, 1067, 1105, 209, 232, 845, 634, 1120, 812, 812, 912, 912, 0, 0, 1600.0, 1600.0, 0, 0, 1600.0, 1600.0, 465, 465, 556, 556], \"y\": [200.0, 600.0, 1000.0, 1400.0, 200.0, 600.0, 1000.0, 1400.0, 200.0, 600.0, 1000.0, 1400.0, 200.0, 600.0, 1000.0, 1400.0, 528, 582, 1287, 1009, 796, 293, 758, 794, 968, 298, 1204, 423, 562, 655, 500, 148, 915, 664, 1038, 276, 957, 235, 1158, 504, 876, 377, 629, 1173, 831, 868, 1578, 1347, 1130, 853, 1097, 128, 1293, 517, 121, 1056, 541, 811, 902, 636, 510, 169, 291, 919, 714, 657, 942, 939, 561, 154, 1203, 1587, 1463, 753, 79, 1439, 1067, 1502, 1198, 154, 1072, 332, 858, 444, 852, 12, 1120, 1064, 941, 938, 1064, 814, 1008, 1306, 781, 675, 852, 686, 749, 360, 138, 688, 277, 607, 1595, 117, 945, 1028, 620, 133, 1532, 1048, 803, 1096, 827, 965, 478, 972, 546, 568, 179, 906, 1080, 510, 1568, 472, 700, 1547, 287, 334, 32, 214, 575, 949, 1241, 596, 1188, 989, 1508, 536, 1452, 416, 596, 528, 1237, 959, 633, 1091, 855, 914, 1443, 728, 807, 1000, 746, 150, 114, 847, 222, 630, 385, 851, 1246, 1386, 1468, 896, 660, 672, 1415, 172, 1461, 543, 1070, 1341, 69, 546, 687, 1332, 579, 1148, 555, 538, 210, 101, 1449, 1262, 1084, 999, 887, 674, 1464, 1162, 802, 437, 817, 635, 436, 756, 268, 862, 1379, 1461, 778, 746, 139, 883, 942, 1118, 913, 529, 145, 1255, 1591, 1116, 627, 910, 0, 1600.0, 1600.0, 0, 257, 357, 357, 257, 85, 185, 185, 85, 80, 260, 260, 80], \"mode\": \"markers\", \"marker\": {\"size\": 8, \"color\": [\"orange\", \"orange\", \"orange\", \"orange\", \"orange\", \"orange\", \"orange\", \"orange\", \"orange\", \"orange\", \"orange\", \"orange\", \"orange\", \"orange\", \"orange\", \"orange\", \"blue\", \"magenta\", \"magenta\", \"blue\", \"magenta\", \"magenta\", \"magenta\", \"blue\", \"magenta\", \"magenta\", \"magenta\", \"magenta\", \"blue\", \"magenta\", \"blue\", \"magenta\", \"blue\", \"blue\", \"blue\", \"magenta\", \"blue\", \"magenta\", \"magenta\", \"magenta\", \"magenta\", \"magenta\", \"blue\", \"magenta\", \"blue\", \"magenta\", \"magenta\", \"magenta\", \"magenta\", \"blue\", \"blue\", \"magenta\", \"magenta\", \"magenta\", \"magenta\", \"magenta\", \"blue\", \"magenta\", \"magenta\", \"blue\", \"blue\", \"magenta\", \"magenta\", \"magenta\", \"magenta\", \"magenta\", \"blue\", \"blue\", \"magenta\", \"magenta\", \"magenta\", \"magenta\", \"magenta\", \"magenta\", \"magenta\", \"magenta\", \"magenta\", \"magenta\", \"magenta\", \"magenta\", \"magenta\", \"magenta\", \"blue\", \"magenta\", \"blue\", \"magenta\", \"magenta\", \"magenta\", \"blue\", \"magenta\", \"magenta\", \"magenta\", \"blue\", \"magenta\", \"magenta\", \"blue\", \"blue\", \"blue\", \"blue\", \"magenta\", \"magenta\", \"magenta\", \"magenta\", \"magenta\", \"magenta\", \"magenta\", \"magenta\", \"blue\", \"magenta\", \"magenta\", \"magenta\", \"magenta\", \"magenta\", \"blue\", \"magenta\", \"blue\", \"magenta\", \"magenta\", \"blue\", \"magenta\", \"magenta\", \"magenta\", \"magenta\", \"magenta\", \"magenta\", \"magenta\", \"magenta\", \"magenta\", \"magenta\", \"magenta\", \"magenta\", \"magenta\", \"magenta\", \"blue\", \"magenta\", \"magenta\", \"magenta\", \"blue\", \"magenta\", \"magenta\", \"magenta\", \"magenta\", \"magenta\", \"magenta\", \"magenta\", \"magenta\", \"blue\", \"blue\", \"magenta\", \"magenta\", \"magenta\", \"blue\", \"magenta\", \"magenta\", \"magenta\", \"magenta\", \"magenta\", \"magenta\", \"magenta\", \"magenta\", \"magenta\", \"magenta\", \"magenta\", \"magenta\", \"magenta\", \"blue\", \"blue\", \"magenta\", \"magenta\", \"magenta\", \"magenta\", \"magenta\", \"magenta\", \"magenta\", \"magenta\", \"blue\", \"magenta\", \"magenta\", \"magenta\", \"magenta\", \"blue\", \"blue\", \"magenta\", \"magenta\", \"magenta\", \"magenta\", \"magenta\", \"blue\", \"blue\", \"blue\", \"magenta\", \"magenta\", \"magenta\", \"magenta\", \"blue\", \"blue\", \"magenta\", \"magenta\", \"magenta\", \"magenta\", \"magenta\", \"magenta\", \"magenta\", \"magenta\", \"magenta\", \"blue\", \"magenta\", \"magenta\", \"magenta\", \"magenta\", \"magenta\", \"magenta\", \"magenta\", \"magenta\", \"blue\", \"magenta\", \"black\", \"black\", \"black\", \"black\", \"black\", \"black\", \"black\", \"black\", \"black\", \"black\", \"black\", \"black\", \"black\", \"black\", \"black\", \"black\"]}}],\n",
       "            {\"xaxis\": {\"range\": [0, 1600], \"title\": \"x\"}, \"yaxis\": {\"range\": [0, 1600], \"title\": \"y\"}, \"title\": \"UE and AP Distribution in the grid\", \"height\": 1000, \"width\": 1000, \"showlegend\": false, \"shapes\": [{\"type\": \"rect\", \"x0\": 812, \"y0\": 0, \"x1\": 912, \"y1\": 1600.0, \"line\": {\"color\": \"rgba(128, 0, 128, 1)\", \"width\": 2}, \"fillcolor\": \"rgba(128, 0, 128 0.1)\"}, {\"type\": \"rect\", \"x0\": 0, \"y0\": 257, \"x1\": 1600.0, \"y1\": 357, \"line\": {\"color\": \"rgba(128, 0, 128, 1)\", \"width\": 2}, \"fillcolor\": \"rgba(128, 0, 128 0.1)\"}, {\"type\": \"rect\", \"x0\": 0, \"y0\": 85, \"x1\": 1600.0, \"y1\": 185, \"line\": {\"color\": \"rgba(128, 0, 128, 1)\", \"width\": 2}, \"fillcolor\": \"rgba(128, 0, 128 0.1)\"}, {\"type\": \"rect\", \"x0\": 465, \"y0\": 80, \"x1\": 556, \"y1\": 260, \"line\": {\"color\": \"rgba(128, 0, 128, 1)\", \"width\": 2}, \"fillcolor\": \"rgba(128, 0, 128 0.1)\"}], \"updatemenus\": [{\"type\": \"buttons\", \"buttons\": [{\"label\": \"Play\", \"method\": \"animate\", \"args\": [null]}]}]},\n",
       "            {\"showLink\": true, \"linkText\": \"Export to plot.ly\"}\n",
       "        ).then(function () {return Plotly.addFrames('e0b0fd07-a5c0-4c22-a1da-50ae98237b66',[{\"data\": [{\"type\": \"scatter\", \"x\": [600.0, 951.0], \"y\": [600.0, 527.0], \"mode\": \"lines\", \"line\": {\"width\": 2, \"color\": \"red\"}}, {\"type\": \"scatter\", \"x\": [1000.0, 1164.0], \"y\": [600.0, 582.0], \"mode\": \"lines\", \"line\": {\"width\": 2, \"color\": \"green\"}}, {\"type\": \"scatter\", \"x\": [1000.0, 1179.0], \"y\": [1400.0, 1285.0], \"mode\": \"lines\", \"line\": {\"width\": 2, \"color\": \"green\"}}, {\"type\": \"scatter\", \"x\": [1000.0, 1043.0], \"y\": [1000.0, 1009.0], \"mode\": \"lines\", \"line\": {\"width\": 2, \"color\": \"red\"}}, {\"type\": \"scatter\", \"x\": [1400.0, 1382.0], \"y\": [600.0, 798.0], \"mode\": \"lines\", \"line\": {\"width\": 2, \"color\": \"green\"}}, {\"type\": \"scatter\", \"x\": [600.0, 446], \"y\": [200.0, 293], \"mode\": \"lines\", \"line\": {\"width\": 2, \"color\": \"green\"}}, {\"type\": \"scatter\", \"x\": [200.0, 14.0], \"y\": [1000.0, 757.0], \"mode\": \"lines\", \"line\": {\"width\": 2, \"color\": \"green\"}}, {\"type\": \"scatter\", \"x\": [1000.0, 600.0], \"y\": [600.0, 793.0], \"mode\": \"lines\", \"line\": {\"width\": 2, \"color\": \"red\"}}, {\"type\": \"scatter\", \"x\": [600.0, 705.0], \"y\": [1000.0, 970.0], \"mode\": \"lines\", \"line\": {\"width\": 2, \"color\": \"green\"}}, {\"type\": \"scatter\", \"x\": [1400.0, 1437], \"y\": [200.0, 298], \"mode\": \"lines\", \"line\": {\"width\": 2, \"color\": \"green\"}}, {\"type\": \"scatter\", \"x\": [600.0, 594.0], \"y\": [1400.0, 1204.0], \"mode\": \"lines\", \"line\": {\"width\": 2, \"color\": \"green\"}}, {\"type\": \"scatter\", \"x\": [1000.0, 1290.0], \"y\": [200.0, 423.0], \"mode\": \"lines\", \"line\": {\"width\": 2, \"color\": \"green\"}}, {\"type\": \"scatter\", \"x\": [600.0, 529.0], \"y\": [600.0, 564.0], \"mode\": \"lines\", \"line\": {\"width\": 2, \"color\": \"red\"}}, {\"type\": \"scatter\", \"x\": [1400.0, 1445.0], \"y\": [1000.0, 655.0], \"mode\": \"lines\", \"line\": {\"width\": 2, \"color\": \"green\"}}, {\"type\": \"scatter\", \"x\": [600.0, 605.0], \"y\": [200.0, 500.0], \"mode\": \"lines\", \"line\": {\"width\": 2, \"color\": \"red\"}}, {\"type\": \"scatter\", \"x\": [1400.0, 1497], \"y\": [200.0, 148], \"mode\": \"lines\", \"line\": {\"width\": 2, \"color\": \"green\"}}, {\"type\": \"scatter\", \"x\": [600.0, 961.0], \"y\": [600.0, 916.0], \"mode\": \"lines\", \"line\": {\"width\": 2, \"color\": \"red\"}}, {\"type\": \"scatter\", \"x\": [600.0, 750.0], \"y\": [600.0, 665.0], \"mode\": \"lines\", \"line\": {\"width\": 2, \"color\": \"red\"}}, {\"type\": \"scatter\", \"x\": [600.0, 689.0], \"y\": [1000.0, 1039.0], \"mode\": \"lines\", \"line\": {\"width\": 2, \"color\": \"red\"}}, {\"type\": \"scatter\", \"x\": [600.0, 703], \"y\": [200.0, 276], \"mode\": \"lines\", \"line\": {\"width\": 2, \"color\": \"green\"}}, {\"type\": \"scatter\", \"x\": [1000.0, 700.0], \"y\": [1000.0, 957.0], \"mode\": \"lines\", \"line\": {\"width\": 2, \"color\": \"red\"}}, {\"type\": \"scatter\", \"x\": [200.0, 372.0], \"y\": [600.0, 237.0], \"mode\": \"lines\", \"line\": {\"width\": 2, \"color\": \"green\"}}, {\"type\": \"scatter\", \"x\": [1000.0, 921.0], \"y\": [1000.0, 1160.0], \"mode\": \"lines\", \"line\": {\"width\": 2, \"color\": \"green\"}}, {\"type\": \"scatter\", \"x\": [200.0, 39.0], \"y\": [600.0, 504.0], \"mode\": \"lines\", \"line\": {\"width\": 2, \"color\": \"green\"}}, {\"type\": \"scatter\", \"x\": [1000.0, 861], \"y\": [1000.0, 828], \"mode\": \"lines\", \"line\": {\"width\": 2, \"color\": \"green\"}}, {\"type\": \"scatter\", \"x\": [1400.0, 1025.0], \"y\": [600.0, 376.0], \"mode\": \"lines\", \"line\": {\"width\": 2, \"color\": \"green\"}}, {\"type\": \"scatter\", \"x\": [600.0, 936.0], \"y\": [600.0, 629.0], \"mode\": \"lines\", \"line\": {\"width\": 2, \"color\": \"red\"}}, {\"type\": \"scatter\", \"x\": [1400.0, 1599.0], \"y\": [1400.0, 1173.0], \"mode\": \"lines\", \"line\": {\"width\": 2, \"color\": \"green\"}}, {\"type\": \"scatter\", \"x\": [600.0, 665.0], \"y\": [1000.0, 830.0], \"mode\": \"lines\", \"line\": {\"width\": 2, \"color\": \"red\"}}, {\"type\": \"scatter\", \"x\": [200.0, 268.0], \"y\": [1000.0, 867.0], \"mode\": \"lines\", \"line\": {\"width\": 2, \"color\": \"green\"}}, {\"type\": \"scatter\", \"x\": [1000.0, 1024.0], \"y\": [1400.0, 1580.0], \"mode\": \"lines\", \"line\": {\"width\": 2, \"color\": \"green\"}}, {\"type\": \"scatter\", \"x\": [1000.0, 896], \"y\": [1400.0, 1302], \"mode\": \"lines\", \"line\": {\"width\": 2, \"color\": \"green\"}}, {\"type\": \"scatter\", \"x\": [1400.0, 1529.0], \"y\": [1000.0, 1129.0], \"mode\": \"lines\", \"line\": {\"width\": 2, \"color\": \"green\"}}, {\"type\": \"scatter\", \"x\": [1000.0, 1068.0], \"y\": [1000.0, 851.0], \"mode\": \"lines\", \"line\": {\"width\": 2, \"color\": \"red\"}}, {\"type\": \"scatter\", \"x\": [200.0, 582.0], \"y\": [1400.0, 1098.0], \"mode\": \"lines\", \"line\": {\"width\": 2, \"color\": \"green\"}}, {\"type\": \"scatter\", \"x\": [200.0, 142], \"y\": [200.0, 128], \"mode\": \"lines\", \"line\": {\"width\": 2, \"color\": \"green\"}}, {\"type\": \"scatter\", \"x\": [1400.0, 1492.0], \"y\": [1400.0, 1291.0], \"mode\": \"lines\", \"line\": {\"width\": 2, \"color\": \"green\"}}, {\"type\": \"scatter\", \"x\": [1000.0, 1123.0], \"y\": [600.0, 516.0], \"mode\": \"lines\", \"line\": {\"width\": 2, \"color\": \"green\"}}, {\"type\": \"scatter\", \"x\": [600.0, 718], \"y\": [200.0, 121], \"mode\": \"lines\", \"line\": {\"width\": 2, \"color\": \"green\"}}, {\"type\": \"scatter\", \"x\": [1400.0, 1098.0], \"y\": [1400.0, 1058.0], \"mode\": \"lines\", \"line\": {\"width\": 2, \"color\": \"green\"}}, {\"type\": \"scatter\", \"x\": [600.0, 703.0], \"y\": [200.0, 541.0], \"mode\": \"lines\", \"line\": {\"width\": 2, \"color\": \"red\"}}, {\"type\": \"scatter\", \"x\": [1400.0, 1497.0], \"y\": [1000.0, 809.0], \"mode\": \"lines\", \"line\": {\"width\": 2, \"color\": \"green\"}}, {\"type\": \"scatter\", \"x\": [1000.0, 971.0], \"y\": [1000.0, 904.0], \"mode\": \"lines\", \"line\": {\"width\": 2, \"color\": \"green\"}}, {\"type\": \"scatter\", \"x\": [1000.0, 921.0], \"y\": [600.0, 638.0], \"mode\": \"lines\", \"line\": {\"width\": 2, \"color\": \"red\"}}, {\"type\": \"scatter\", \"x\": [200.0, 586.0], \"y\": [600.0, 509.0], \"mode\": \"lines\", \"line\": {\"width\": 2, \"color\": \"red\"}}, {\"type\": \"scatter\", \"x\": [200.0, 202], \"y\": [200.0, 169], \"mode\": \"lines\", \"line\": {\"width\": 2, \"color\": \"green\"}}, {\"type\": \"scatter\", \"x\": [1400.0, 1336], \"y\": [200.0, 291], \"mode\": \"lines\", \"line\": {\"width\": 2, \"color\": \"green\"}}, {\"type\": \"scatter\", \"x\": [200.0, 50.0], \"y\": [1000.0, 920.0], \"mode\": \"lines\", \"line\": {\"width\": 2, \"color\": \"green\"}}, {\"type\": \"scatter\", \"x\": [200.0, 48.0], \"y\": [1000.0, 713.0], \"mode\": \"lines\", \"line\": {\"width\": 2, \"color\": \"green\"}}, {\"type\": \"scatter\", \"x\": [1000.0, 1053.0], \"y\": [600.0, 655.0], \"mode\": \"lines\", \"line\": {\"width\": 2, \"color\": \"green\"}}, {\"type\": \"scatter\", \"x\": [600.0, 650.0], \"y\": [600.0, 944.0], \"mode\": \"lines\", \"line\": {\"width\": 2, \"color\": \"red\"}}, {\"type\": \"scatter\", \"x\": [600.0, 682.0], \"y\": [1000.0, 941.0], \"mode\": \"lines\", \"line\": {\"width\": 2, \"color\": \"red\"}}, {\"type\": \"scatter\", \"x\": [200.0, 202.0], \"y\": [600.0, 559.0], \"mode\": \"lines\", \"line\": {\"width\": 2, \"color\": \"green\"}}, {\"type\": \"scatter\", \"x\": [600.0, 208], \"y\": [200.0, 154], \"mode\": \"lines\", \"line\": {\"width\": 2, \"color\": \"green\"}}, {\"type\": \"scatter\", \"x\": [600.0, 658.0], \"y\": [1400.0, 1201.0], \"mode\": \"lines\", \"line\": {\"width\": 2, \"color\": \"green\"}}, {\"type\": \"scatter\", \"x\": [1000.0, 1025.0], \"y\": [1400.0, 1588.0], \"mode\": \"lines\", \"line\": {\"width\": 2, \"color\": \"green\"}}, {\"type\": \"scatter\", \"x\": [1000.0, 1155.0], \"y\": [1400.0, 1461.0], \"mode\": \"lines\", \"line\": {\"width\": 2, \"color\": \"green\"}}, {\"type\": \"scatter\", \"x\": [1000.0, 925.0], \"y\": [600.0, 751.0], \"mode\": \"lines\", \"line\": {\"width\": 2, \"color\": \"green\"}}, {\"type\": \"scatter\", \"x\": [600.0, 745.0], \"y\": [200.0, 78.0], \"mode\": \"lines\", \"line\": {\"width\": 2, \"color\": \"green\"}}, {\"type\": \"scatter\", \"x\": [1000.0, 1191.0], \"y\": [1400.0, 1438.0], \"mode\": \"lines\", \"line\": {\"width\": 2, \"color\": \"green\"}}, {\"type\": \"scatter\", \"x\": [1400.0, 1103.0], \"y\": [1000.0, 1069.0], \"mode\": \"lines\", \"line\": {\"width\": 2, \"color\": \"green\"}}, {\"type\": \"scatter\", \"x\": [1000.0, 946.0], \"y\": [1400.0, 1502.0], \"mode\": \"lines\", \"line\": {\"width\": 2, \"color\": \"green\"}}, {\"type\": \"scatter\", \"x\": [600.0, 618.0], \"y\": [1000.0, 1196.0], \"mode\": \"lines\", \"line\": {\"width\": 2, \"color\": \"green\"}}, {\"type\": \"scatter\", \"x\": [600.0, 899], \"y\": [200.0, 154], \"mode\": \"lines\", \"line\": {\"width\": 2, \"color\": \"green\"}}, {\"type\": \"scatter\", \"x\": [600.0, 671.0], \"y\": [1400.0, 1070.0], \"mode\": \"lines\", \"line\": {\"width\": 2, \"color\": \"green\"}}, {\"type\": \"scatter\", \"x\": [200.0, 147], \"y\": [600.0, 332], \"mode\": \"lines\", \"line\": {\"width\": 2, \"color\": \"green\"}}, {\"type\": \"scatter\", \"x\": [600.0, 545.0], \"y\": [600.0, 860.0], \"mode\": \"lines\", \"line\": {\"width\": 2, \"color\": \"red\"}}, {\"type\": \"scatter\", \"x\": [200.0, 117.0], \"y\": [600.0, 445.0], \"mode\": \"lines\", \"line\": {\"width\": 2, \"color\": \"green\"}}, {\"type\": \"scatter\", \"x\": [600.0, 897], \"y\": [1000.0, 909], \"mode\": \"lines\", \"line\": {\"width\": 2, \"color\": \"red\"}}, {\"type\": \"scatter\", \"x\": [1400.0, 1493.0], \"y\": [200.0, 13.0], \"mode\": \"lines\", \"line\": {\"width\": 2, \"color\": \"green\"}}, {\"type\": \"scatter\", \"x\": [1000.0, 799.0], \"y\": [1000.0, 1118.0], \"mode\": \"lines\", \"line\": {\"width\": 2, \"color\": \"green\"}}, {\"type\": \"scatter\", \"x\": [1000.0, 1187.0], \"y\": [1000.0, 1063.0], \"mode\": \"lines\", \"line\": {\"width\": 2, \"color\": \"green\"}}, {\"type\": \"scatter\", \"x\": [600.0, 617.0], \"y\": [1000.0, 942.0], \"mode\": \"lines\", \"line\": {\"width\": 2, \"color\": \"red\"}}, {\"type\": \"scatter\", \"x\": [1400.0, 1169.0], \"y\": [1000.0, 939.0], \"mode\": \"lines\", \"line\": {\"width\": 2, \"color\": \"green\"}}, {\"type\": \"scatter\", \"x\": [200.0, 268.0], \"y\": [1000.0, 1064.0], \"mode\": \"lines\", \"line\": {\"width\": 2, \"color\": \"green\"}}, {\"type\": \"scatter\", \"x\": [200.0, 538.0], \"y\": [1000.0, 813.0], \"mode\": \"lines\", \"line\": {\"width\": 2, \"color\": \"green\"}}, {\"type\": \"scatter\", \"x\": [1000.0, 816], \"y\": [1000.0, 967], \"mode\": \"lines\", \"line\": {\"width\": 2, \"color\": \"red\"}}, {\"type\": \"scatter\", \"x\": [1400.0, 1379.0], \"y\": [1400.0, 1304.0], \"mode\": \"lines\", \"line\": {\"width\": 2, \"color\": \"green\"}}, {\"type\": \"scatter\", \"x\": [600.0, 628.0], \"y\": [600.0, 780.0], \"mode\": \"lines\", \"line\": {\"width\": 2, \"color\": \"green\"}}, {\"type\": \"scatter\", \"x\": [1000.0, 836], \"y\": [1000.0, 703], \"mode\": \"lines\", \"line\": {\"width\": 2, \"color\": \"red\"}}, {\"type\": \"scatter\", \"x\": [1000.0, 851], \"y\": [1000.0, 796], \"mode\": \"lines\", \"line\": {\"width\": 2, \"color\": \"red\"}}, {\"type\": \"scatter\", \"x\": [600.0, 607.0], \"y\": [1000.0, 686.0], \"mode\": \"lines\", \"line\": {\"width\": 2, \"color\": \"red\"}}, {\"type\": \"scatter\", \"x\": [1000.0, 840], \"y\": [600.0, 703], \"mode\": \"lines\", \"line\": {\"width\": 2, \"color\": \"red\"}}, {\"type\": \"scatter\", \"x\": [1000.0, 1094.0], \"y\": [200.0, 361.0], \"mode\": \"lines\", \"line\": {\"width\": 2, \"color\": \"green\"}}, {\"type\": \"scatter\", \"x\": [200.0, 338], \"y\": [200.0, 138], \"mode\": \"lines\", \"line\": {\"width\": 2, \"color\": \"green\"}}, {\"type\": \"scatter\", \"x\": [200.0, 84.0], \"y\": [600.0, 687.0], \"mode\": \"lines\", \"line\": {\"width\": 2, \"color\": \"green\"}}, {\"type\": \"scatter\", \"x\": [600.0, 517], \"y\": [200.0, 277], \"mode\": \"lines\", \"line\": {\"width\": 2, \"color\": \"green\"}}, {\"type\": \"scatter\", \"x\": [200.0, 358.0], \"y\": [600.0, 608.0], \"mode\": \"lines\", \"line\": {\"width\": 2, \"color\": \"green\"}}, {\"type\": \"scatter\", \"x\": [200.0, 351.0], \"y\": [1400.0, 1597.0], \"mode\": \"lines\", \"line\": {\"width\": 2, \"color\": \"green\"}}, {\"type\": \"scatter\", \"x\": [1000.0, 1143], \"y\": [200.0, 117], \"mode\": \"lines\", \"line\": {\"width\": 2, \"color\": \"green\"}}, {\"type\": \"scatter\", \"x\": [200.0, 169.0], \"y\": [600.0, 943.0], \"mode\": \"lines\", \"line\": {\"width\": 2, \"color\": \"green\"}}, {\"type\": \"scatter\", \"x\": [600.0, 766.0], \"y\": [1000.0, 1028.0], \"mode\": \"lines\", \"line\": {\"width\": 2, \"color\": \"red\"}}, {\"type\": \"scatter\", \"x\": [1400.0, 1408.0], \"y\": [1000.0, 620.0], \"mode\": \"lines\", \"line\": {\"width\": 2, \"color\": \"green\"}}, {\"type\": \"scatter\", \"x\": [1400.0, 1446], \"y\": [200.0, 133], \"mode\": \"lines\", \"line\": {\"width\": 2, \"color\": \"green\"}}, {\"type\": \"scatter\", \"x\": [1000.0, 826], \"y\": [1400.0, 1569], \"mode\": \"lines\", \"line\": {\"width\": 2, \"color\": \"green\"}}, {\"type\": \"scatter\", \"x\": [1400.0, 1583.0], \"y\": [1400.0, 1050.0], \"mode\": \"lines\", \"line\": {\"width\": 2, \"color\": \"green\"}}, {\"type\": \"scatter\", \"x\": [1000.0, 1070.0], \"y\": [1000.0, 802.0], \"mode\": \"lines\", \"line\": {\"width\": 2, \"color\": \"green\"}}, {\"type\": \"scatter\", \"x\": [600.0, 537.0], \"y\": [1400.0, 1095.0], \"mode\": \"lines\", \"line\": {\"width\": 2, \"color\": \"green\"}}, {\"type\": \"scatter\", \"x\": [200.0, 516.0], \"y\": [600.0, 827.0], \"mode\": \"lines\", \"line\": {\"width\": 2, \"color\": \"green\"}}, {\"type\": \"scatter\", \"x\": [600.0, 589.0], \"y\": [600.0, 963.0], \"mode\": \"lines\", \"line\": {\"width\": 2, \"color\": \"red\"}}, {\"type\": \"scatter\", \"x\": [1000.0, 819], \"y\": [600.0, 522], \"mode\": \"lines\", \"line\": {\"width\": 2, \"color\": \"green\"}}, {\"type\": \"scatter\", \"x\": [200.0, 349.0], \"y\": [1000.0, 973.0], \"mode\": \"lines\", \"line\": {\"width\": 2, \"color\": \"green\"}}, {\"type\": \"scatter\", \"x\": [1000.0, 795.0], \"y\": [600.0, 544.0], \"mode\": \"lines\", \"line\": {\"width\": 2, \"color\": \"red\"}}, {\"type\": \"scatter\", \"x\": [200.0, 340.0], \"y\": [600.0, 567.0], \"mode\": \"lines\", \"line\": {\"width\": 2, \"color\": \"green\"}}, {\"type\": \"scatter\", \"x\": [600.0, 892], \"y\": [200.0, 179], \"mode\": \"lines\", \"line\": {\"width\": 2, \"color\": \"green\"}}, {\"type\": \"scatter\", \"x\": [200.0, 81.0], \"y\": [600.0, 904.0], \"mode\": \"lines\", \"line\": {\"width\": 2, \"color\": \"green\"}}, {\"type\": \"scatter\", \"x\": [200.0, 138.0], \"y\": [1000.0, 1078.0], \"mode\": \"lines\", \"line\": {\"width\": 2, \"color\": \"green\"}}, {\"type\": \"scatter\", \"x\": [200.0, 41.0], \"y\": [600.0, 508.0], \"mode\": \"lines\", \"line\": {\"width\": 2, \"color\": \"green\"}}, {\"type\": \"scatter\", \"x\": [200.0, 208.0], \"y\": [1400.0, 1566.0], \"mode\": \"lines\", \"line\": {\"width\": 2, \"color\": \"green\"}}, {\"type\": \"scatter\", \"x\": [600.0, 258.0], \"y\": [600.0, 474.0], \"mode\": \"lines\", \"line\": {\"width\": 2, \"color\": \"green\"}}, {\"type\": \"scatter\", \"x\": [1400.0, 1557.0], \"y\": [600.0, 699.0], \"mode\": \"lines\", \"line\": {\"width\": 2, \"color\": \"green\"}}, {\"type\": \"scatter\", \"x\": [1000.0, 997.0], \"y\": [1400.0, 1548.0], \"mode\": \"lines\", \"line\": {\"width\": 2, \"color\": \"green\"}}, {\"type\": \"scatter\", \"x\": [1400.0, 1525], \"y\": [200.0, 287], \"mode\": \"lines\", \"line\": {\"width\": 2, \"color\": \"green\"}}, {\"type\": \"scatter\", \"x\": [600.0, 786], \"y\": [200.0, 334], \"mode\": \"lines\", \"line\": {\"width\": 2, \"color\": \"green\"}}, {\"type\": \"scatter\", \"x\": [200.0, 413.0], \"y\": [200.0, 30.0], \"mode\": \"lines\", \"line\": {\"width\": 2, \"color\": \"green\"}}, {\"type\": \"scatter\", \"x\": [200.0, 198.0], \"y\": [200.0, 212.0], \"mode\": \"lines\", \"line\": {\"width\": 2, \"color\": \"green\"}}, {\"type\": \"scatter\", \"x\": [1000.0, 1139.0], \"y\": [600.0, 577.0], \"mode\": \"lines\", \"line\": {\"width\": 2, \"color\": \"green\"}}, {\"type\": \"scatter\", \"x\": [600.0, 522.0], \"y\": [600.0, 951.0], \"mode\": \"lines\", \"line\": {\"width\": 2, \"color\": \"red\"}}, {\"type\": \"scatter\", \"x\": [600.0, 695.0], \"y\": [1400.0, 1239.0], \"mode\": \"lines\", \"line\": {\"width\": 2, \"color\": \"green\"}}, {\"type\": \"scatter\", \"x\": [1400.0, 1382.0], \"y\": [600.0, 598.0], \"mode\": \"lines\", \"line\": {\"width\": 2, \"color\": \"green\"}}, {\"type\": \"scatter\", \"x\": [1000.0, 1238.0], \"y\": [1000.0, 1189.0], \"mode\": \"lines\", \"line\": {\"width\": 2, \"color\": \"green\"}}, {\"type\": \"scatter\", \"x\": [1000.0, 1057.0], \"y\": [1000.0, 991.0], \"mode\": \"lines\", \"line\": {\"width\": 2, \"color\": \"red\"}}, {\"type\": \"scatter\", \"x\": [200.0, 303.0], \"y\": [1400.0, 1510.0], \"mode\": \"lines\", \"line\": {\"width\": 2, \"color\": \"green\"}}, {\"type\": \"scatter\", \"x\": [1000.0, 697.0], \"y\": [600.0, 535.0], \"mode\": \"lines\", \"line\": {\"width\": 2, \"color\": \"green\"}}, {\"type\": \"scatter\", \"x\": [600.0, 573.0], \"y\": [1400.0, 1452.0], \"mode\": \"lines\", \"line\": {\"width\": 2, \"color\": \"green\"}}, {\"type\": \"scatter\", \"x\": [1400.0, 1499.0], \"y\": [600.0, 418.0], \"mode\": \"lines\", \"line\": {\"width\": 2, \"color\": \"green\"}}, {\"type\": \"scatter\", \"x\": [200.0, 244.0], \"y\": [600.0, 596.0], \"mode\": \"lines\", \"line\": {\"width\": 2, \"color\": \"green\"}}, {\"type\": \"scatter\", \"x\": [1400.0, 1453.0], \"y\": [600.0, 527.0], \"mode\": \"lines\", \"line\": {\"width\": 2, \"color\": \"green\"}}, {\"type\": \"scatter\", \"x\": [200.0, 169.0], \"y\": [1400.0, 1237.0], \"mode\": \"lines\", \"line\": {\"width\": 2, \"color\": \"green\"}}, {\"type\": \"scatter\", \"x\": [1400.0, 1539.0], \"y\": [1000.0, 957.0], \"mode\": \"lines\", \"line\": {\"width\": 2, \"color\": \"green\"}}, {\"type\": \"scatter\", \"x\": [600.0, 568.0], \"y\": [600.0, 632.0], \"mode\": \"lines\", \"line\": {\"width\": 2, \"color\": \"red\"}}, {\"type\": \"scatter\", \"x\": [600.0, 679.0], \"y\": [1400.0, 1090.0], \"mode\": \"lines\", \"line\": {\"width\": 2, \"color\": \"green\"}}, {\"type\": \"scatter\", \"x\": [1000.0, 970.0], \"y\": [600.0, 854.0], \"mode\": \"lines\", \"line\": {\"width\": 2, \"color\": \"green\"}}, {\"type\": \"scatter\", \"x\": [1000.0, 951.0], \"y\": [1000.0, 916.0], \"mode\": \"lines\", \"line\": {\"width\": 2, \"color\": \"green\"}}, {\"type\": \"scatter\", \"x\": [200.0, 295.0], \"y\": [1400.0, 1442.0], \"mode\": \"lines\", \"line\": {\"width\": 2, \"color\": \"green\"}}, {\"type\": \"scatter\", \"x\": [600.0, 651.0], \"y\": [600.0, 726.0], \"mode\": \"lines\", \"line\": {\"width\": 2, \"color\": \"red\"}}, {\"type\": \"scatter\", \"x\": [600.0, 773.0], \"y\": [1000.0, 805.0], \"mode\": \"lines\", \"line\": {\"width\": 2, \"color\": \"green\"}}, {\"type\": \"scatter\", \"x\": [200.0, 132.0], \"y\": [1000.0, 999.0], \"mode\": \"lines\", \"line\": {\"width\": 2, \"color\": \"green\"}}, {\"type\": \"scatter\", \"x\": [200.0, 156.0], \"y\": [600.0, 745.0], \"mode\": \"lines\", \"line\": {\"width\": 2, \"color\": \"green\"}}, {\"type\": \"scatter\", \"x\": [600.0, 593], \"y\": [200.0, 150], \"mode\": \"lines\", \"line\": {\"width\": 2, \"color\": \"green\"}}, {\"type\": \"scatter\", \"x\": [1000.0, 847], \"y\": [200.0, 77], \"mode\": \"lines\", \"line\": {\"width\": 2, \"color\": \"green\"}}, {\"type\": \"scatter\", \"x\": [1400.0, 1393.0], \"y\": [1000.0, 845.0], \"mode\": \"lines\", \"line\": {\"width\": 2, \"color\": \"green\"}}, {\"type\": \"scatter\", \"x\": [600.0, 524.4100476606274], \"y\": [200.0, 222.91206409643954], \"mode\": \"lines\", \"line\": {\"width\": 2, \"color\": \"green\"}}, {\"type\": \"scatter\", \"x\": [200.0, 222.0], \"y\": [600.0, 628.0], \"mode\": \"lines\", \"line\": {\"width\": 2, \"color\": \"green\"}}, {\"type\": \"scatter\", \"x\": [1000.0, 1177.0], \"y\": [200.0, 387.0], \"mode\": \"lines\", \"line\": {\"width\": 2, \"color\": \"green\"}}, {\"type\": \"scatter\", \"x\": [1400.0, 1363.0], \"y\": [1000.0, 851.0], \"mode\": \"lines\", \"line\": {\"width\": 2, \"color\": \"green\"}}, {\"type\": \"scatter\", \"x\": [600.0, 751.0], \"y\": [1400.0, 1245.0], \"mode\": \"lines\", \"line\": {\"width\": 2, \"color\": \"green\"}}, {\"type\": \"scatter\", \"x\": [1000.0, 829], \"y\": [1000.0, 1364], \"mode\": \"lines\", \"line\": {\"width\": 2, \"color\": \"green\"}}, {\"type\": \"scatter\", \"x\": [200.0, 173.0], \"y\": [1400.0, 1468.0], \"mode\": \"lines\", \"line\": {\"width\": 2, \"color\": \"green\"}}, {\"type\": \"scatter\", \"x\": [600.0, 517.0], \"y\": [600.0, 898.0], \"mode\": \"lines\", \"line\": {\"width\": 2, \"color\": \"red\"}}, {\"type\": \"scatter\", \"x\": [1000.0, 1021.0], \"y\": [600.0, 662.0], \"mode\": \"lines\", \"line\": {\"width\": 2, \"color\": \"red\"}}, {\"type\": \"scatter\", \"x\": [600.0, 593.0], \"y\": [1000.0, 674.0], \"mode\": \"lines\", \"line\": {\"width\": 2, \"color\": \"green\"}}, {\"type\": \"scatter\", \"x\": [200.0, 188.0], \"y\": [1400.0, 1414.0], \"mode\": \"lines\", \"line\": {\"width\": 2, \"color\": \"green\"}}, {\"type\": \"scatter\", \"x\": [200.0, 196], \"y\": [200.0, 172], \"mode\": \"lines\", \"line\": {\"width\": 2, \"color\": \"green\"}}, {\"type\": \"scatter\", \"x\": [1400.0, 1592.0], \"y\": [1400.0, 1461.0], \"mode\": \"lines\", \"line\": {\"width\": 2, \"color\": \"green\"}}, {\"type\": \"scatter\", \"x\": [1000.0, 922.0], \"y\": [600.0, 545.0], \"mode\": \"lines\", \"line\": {\"width\": 2, \"color\": \"green\"}}, {\"type\": \"scatter\", \"x\": [200.0, 590.0], \"y\": [1000.0, 1068.0], \"mode\": \"lines\", \"line\": {\"width\": 2, \"color\": \"green\"}}, {\"type\": \"scatter\", \"x\": [600.0, 611.0], \"y\": [1400.0, 1342.0], \"mode\": \"lines\", \"line\": {\"width\": 2, \"color\": \"green\"}}, {\"type\": \"scatter\", \"x\": [1400.0, 1448.0], \"y\": [200.0, 69.0], \"mode\": \"lines\", \"line\": {\"width\": 2, \"color\": \"green\"}}, {\"type\": \"scatter\", \"x\": [1000.0, 798.0], \"y\": [600.0, 546.0], \"mode\": \"lines\", \"line\": {\"width\": 2, \"color\": \"red\"}}, {\"type\": \"scatter\", \"x\": [600.0, 337.0], \"y\": [1000.0, 688.0], \"mode\": \"lines\", \"line\": {\"width\": 2, \"color\": \"green\"}}, {\"type\": \"scatter\", \"x\": [600.0, 426.0], \"y\": [1400.0, 1330.0], \"mode\": \"lines\", \"line\": {\"width\": 2, \"color\": \"green\"}}, {\"type\": \"scatter\", \"x\": [1400.0, 1292.0], \"y\": [600.0, 579.0], \"mode\": \"lines\", \"line\": {\"width\": 2, \"color\": \"green\"}}, {\"type\": \"scatter\", \"x\": [1400.0, 1251.0], \"y\": [1000.0, 1146.0], \"mode\": \"lines\", \"line\": {\"width\": 2, \"color\": \"green\"}}, {\"type\": \"scatter\", \"x\": [600.0, 906], \"y\": [600.0, 601], \"mode\": \"lines\", \"line\": {\"width\": 2, \"color\": \"red\"}}, {\"type\": \"scatter\", \"x\": [600.0, 633.0], \"y\": [200.0, 536.0], \"mode\": \"lines\", \"line\": {\"width\": 2, \"color\": \"red\"}}, {\"type\": \"scatter\", \"x\": [1400.0, 1239.0], \"y\": [200.0, 211.0], \"mode\": \"lines\", \"line\": {\"width\": 2, \"color\": \"green\"}}, {\"type\": \"scatter\", \"x\": [200.0, 211], \"y\": [200.0, 101], \"mode\": \"lines\", \"line\": {\"width\": 2, \"color\": \"green\"}}, {\"type\": \"scatter\", \"x\": [1000.0, 650.0], \"y\": [1400.0, 1449.0], \"mode\": \"lines\", \"line\": {\"width\": 2, \"color\": \"green\"}}, {\"type\": \"scatter\", \"x\": [200.0, 305.0], \"y\": [1400.0, 1261.0], \"mode\": \"lines\", \"line\": {\"width\": 2, \"color\": \"green\"}}, {\"type\": \"scatter\", \"x\": [1000.0, 1039.0], \"y\": [1000.0, 1082.0], \"mode\": \"lines\", \"line\": {\"width\": 2, \"color\": \"green\"}}, {\"type\": \"scatter\", \"x\": [1000.0, 1062.0], \"y\": [1000.0, 1001.0], \"mode\": \"lines\", \"line\": {\"width\": 2, \"color\": \"red\"}}, {\"type\": \"scatter\", \"x\": [600.0, 818], \"y\": [1000.0, 859], \"mode\": \"lines\", \"line\": {\"width\": 2, \"color\": \"red\"}}, {\"type\": \"scatter\", \"x\": [1000.0, 956.0], \"y\": [1000.0, 676.0], \"mode\": \"lines\", \"line\": {\"width\": 2, \"color\": \"red\"}}, {\"type\": \"scatter\", \"x\": [1000.0, 987.0], \"y\": [1400.0, 1465.0], \"mode\": \"lines\", \"line\": {\"width\": 2, \"color\": \"green\"}}, {\"type\": \"scatter\", \"x\": [1000.0, 1083.0], \"y\": [1400.0, 1160.0], \"mode\": \"lines\", \"line\": {\"width\": 2, \"color\": \"green\"}}, {\"type\": \"scatter\", \"x\": [1000.0, 989.0], \"y\": [1000.0, 804.0], \"mode\": \"lines\", \"line\": {\"width\": 2, \"color\": \"green\"}}, {\"type\": \"scatter\", \"x\": [1000.0, 1138.0], \"y\": [200.0, 439.0], \"mode\": \"lines\", \"line\": {\"width\": 2, \"color\": \"green\"}}, {\"type\": \"scatter\", \"x\": [1000.0, 1092.0], \"y\": [1000.0, 816.0], \"mode\": \"lines\", \"line\": {\"width\": 2, \"color\": \"red\"}}, {\"type\": \"scatter\", \"x\": [1000.0, 968.0], \"y\": [1000.0, 637.0], \"mode\": \"lines\", \"line\": {\"width\": 2, \"color\": \"red\"}}, {\"type\": \"scatter\", \"x\": [1000.0, 1154.0], \"y\": [200.0, 434.0], \"mode\": \"lines\", \"line\": {\"width\": 2, \"color\": \"green\"}}, {\"type\": \"scatter\", \"x\": [1000.0, 1179.0], \"y\": [1000.0, 755.0], \"mode\": \"lines\", \"line\": {\"width\": 2, \"color\": \"green\"}}, {\"type\": \"scatter\", \"x\": [600.0, 522], \"y\": [200.0, 268], \"mode\": \"lines\", \"line\": {\"width\": 2, \"color\": \"green\"}}, {\"type\": \"scatter\", \"x\": [1400.0, 1315.0], \"y\": [1000.0, 862.0], \"mode\": \"lines\", \"line\": {\"width\": 2, \"color\": \"green\"}}, {\"type\": \"scatter\", \"x\": [600.0, 630.0], \"y\": [1400.0, 1381.0], \"mode\": \"lines\", \"line\": {\"width\": 2, \"color\": \"green\"}}, {\"type\": \"scatter\", \"x\": [1000.0, 1136.0], \"y\": [1400.0, 1461.0], \"mode\": \"lines\", \"line\": {\"width\": 2, \"color\": \"green\"}}, {\"type\": \"scatter\", \"x\": [600.0, 734.0], \"y\": [1000.0, 776.0], \"mode\": \"lines\", \"line\": {\"width\": 2, \"color\": \"green\"}}, {\"type\": \"scatter\", \"x\": [200.0, 201.0], \"y\": [600.0, 748.0], \"mode\": \"lines\", \"line\": {\"width\": 2, \"color\": \"green\"}}, {\"type\": \"scatter\", \"x\": [600.0, 514], \"y\": [200.0, 139], \"mode\": \"lines\", \"line\": {\"width\": 2, \"color\": \"green\"}}, {\"type\": \"scatter\", \"x\": [600.0, 677.0], \"y\": [1000.0, 884.0], \"mode\": \"lines\", \"line\": {\"width\": 2, \"color\": \"red\"}}, {\"type\": \"scatter\", \"x\": [200.0, 248.0], \"y\": [1000.0, 944.0], \"mode\": \"lines\", \"line\": {\"width\": 2, \"color\": \"green\"}}, {\"type\": \"scatter\", \"x\": [1400.0, 1531.0], \"y\": [1400.0, 1120.0], \"mode\": \"lines\", \"line\": {\"width\": 2, \"color\": \"green\"}}, {\"type\": \"scatter\", \"x\": [200.0, 190.0], \"y\": [1000.0, 911.0], \"mode\": \"lines\", \"line\": {\"width\": 2, \"color\": \"green\"}}, {\"type\": \"scatter\", \"x\": [1000.0, 1069.0], \"y\": [600.0, 529.0], \"mode\": \"lines\", \"line\": {\"width\": 2, \"color\": \"green\"}}, {\"type\": \"scatter\", \"x\": [1000.0, 1083], \"y\": [200.0, 145], \"mode\": \"lines\", \"line\": {\"width\": 2, \"color\": \"green\"}}, {\"type\": \"scatter\", \"x\": [200.0, 208.0], \"y\": [1400.0, 1257.0], \"mode\": \"lines\", \"line\": {\"width\": 2, \"color\": \"green\"}}, {\"type\": \"scatter\", \"x\": [200.0, 234.0], \"y\": [1400.0, 1592.0], \"mode\": \"lines\", \"line\": {\"width\": 2, \"color\": \"green\"}}, {\"type\": \"scatter\", \"x\": [1000.0, 845], \"y\": [1000.0, 1148], \"mode\": \"lines\", \"line\": {\"width\": 2, \"color\": \"green\"}}, {\"type\": \"scatter\", \"x\": [1000.0, 635.0], \"y\": [600.0, 626.0], \"mode\": \"lines\", \"line\": {\"width\": 2, \"color\": \"red\"}}, {\"type\": \"scatter\", \"x\": [1000.0, 1121.0], \"y\": [1000.0, 912.0], \"mode\": \"lines\", \"line\": {\"width\": 2, \"color\": \"green\"}}, {\"type\": \"scatter\", \"x\": [812, 812], \"y\": [0, 1600.0], \"mode\": \"lines\", \"line\": {\"width\": 2, \"color\": \"black\"}}, {\"type\": \"scatter\", \"x\": [812, 912], \"y\": [1600.0, 1600.0], \"mode\": \"lines\", \"line\": {\"width\": 2, \"color\": \"black\"}}, {\"type\": \"scatter\", \"x\": [912, 912], \"y\": [1600.0, 0], \"mode\": \"lines\", \"line\": {\"width\": 2, \"color\": \"black\"}}, {\"type\": \"scatter\", \"x\": [812, 912], \"y\": [0, 0], \"mode\": \"lines\", \"line\": {\"width\": 2, \"color\": \"black\"}}, {\"type\": \"scatter\", \"x\": [0, 0], \"y\": [257, 357], \"mode\": \"lines\", \"line\": {\"width\": 2, \"color\": \"black\"}}, {\"type\": \"scatter\", \"x\": [0, 1600.0], \"y\": [357, 357], \"mode\": \"lines\", \"line\": {\"width\": 2, \"color\": \"black\"}}, {\"type\": \"scatter\", \"x\": [1600.0, 1600.0], \"y\": [357, 257], \"mode\": \"lines\", \"line\": {\"width\": 2, \"color\": \"black\"}}, {\"type\": \"scatter\", \"x\": [0, 1600.0], \"y\": [257, 257], \"mode\": \"lines\", \"line\": {\"width\": 2, \"color\": \"black\"}}, {\"type\": \"scatter\", \"x\": [0, 0], \"y\": [85, 185], \"mode\": \"lines\", \"line\": {\"width\": 2, \"color\": \"black\"}}, {\"type\": \"scatter\", \"x\": [0, 1600.0], \"y\": [185, 185], \"mode\": \"lines\", \"line\": {\"width\": 2, \"color\": \"black\"}}, {\"type\": \"scatter\", \"x\": [1600.0, 1600.0], \"y\": [185, 85], \"mode\": \"lines\", \"line\": {\"width\": 2, \"color\": \"black\"}}, {\"type\": \"scatter\", \"x\": [0, 1600.0], \"y\": [85, 85], \"mode\": \"lines\", \"line\": {\"width\": 2, \"color\": \"black\"}}, {\"type\": \"scatter\", \"x\": [465, 465], \"y\": [80, 260], \"mode\": \"lines\", \"line\": {\"width\": 2, \"color\": \"black\"}}, {\"type\": \"scatter\", \"x\": [465, 556], \"y\": [260, 260], \"mode\": \"lines\", \"line\": {\"width\": 2, \"color\": \"black\"}}, {\"type\": \"scatter\", \"x\": [556, 556], \"y\": [260, 80], \"mode\": \"lines\", \"line\": {\"width\": 2, \"color\": \"black\"}}, {\"type\": \"scatter\", \"x\": [465, 556], \"y\": [80, 80], \"mode\": \"lines\", \"line\": {\"width\": 2, \"color\": \"black\"}}, {\"type\": \"scatter\", \"x\": [200.0, 200.0, 200.0, 200.0, 600.0, 600.0, 600.0, 600.0, 1000.0, 1000.0, 1000.0, 1000.0, 1400.0, 1400.0, 1400.0, 1400.0, 951.0, 1164.0, 1179.0, 1043.0, 1382.0, 446, 14.0, 600.0, 705.0, 1437, 594.0, 1290.0, 529.0, 1445.0, 605.0, 1497, 961.0, 750.0, 689.0, 703, 700.0, 372.0, 921.0, 39.0, 861, 1025.0, 936.0, 1599.0, 665.0, 268.0, 1024.0, 896, 1529.0, 1068.0, 582.0, 142, 1492.0, 1123.0, 718, 1098.0, 703.0, 1497.0, 971.0, 921.0, 586.0, 202, 1336, 50.0, 48.0, 1053.0, 650.0, 682.0, 202.0, 208, 658.0, 1025.0, 1155.0, 925.0, 745.0, 1191.0, 1103.0, 946.0, 618.0, 899, 671.0, 147, 545.0, 117.0, 897, 1493.0, 799.0, 1187.0, 617.0, 1169.0, 268.0, 538.0, 816, 1379.0, 628.0, 836, 851, 607.0, 840, 1094.0, 338, 84.0, 517, 358.0, 351.0, 1143, 169.0, 766.0, 1408.0, 1446, 826, 1583.0, 1070.0, 537.0, 516.0, 589.0, 819, 349.0, 795.0, 340.0, 892, 81.0, 138.0, 41.0, 208.0, 258.0, 1557.0, 997.0, 1525, 786, 413.0, 198.0, 1139.0, 522.0, 695.0, 1382.0, 1238.0, 1057.0, 303.0, 697.0, 573.0, 1499.0, 244.0, 1453.0, 169.0, 1539.0, 568.0, 679.0, 970.0, 951.0, 295.0, 651.0, 773.0, 132.0, 156.0, 593, 847, 1393.0, 524.4100476606274, 222.0, 1177.0, 1363.0, 751.0, 829, 173.0, 517.0, 1021.0, 593.0, 188.0, 196, 1592.0, 922.0, 590.0, 611.0, 1448.0, 798.0, 337.0, 426.0, 1292.0, 1251.0, 906, 633.0, 1239.0, 211, 650.0, 305.0, 1039.0, 1062.0, 818, 956.0, 987.0, 1083.0, 989.0, 1138.0, 1092.0, 968.0, 1154.0, 1179.0, 522, 1315.0, 630.0, 1136.0, 734.0, 201.0, 514, 677.0, 248.0, 1531.0, 190.0, 1069.0, 1083, 208.0, 234.0, 845, 635.0, 1121.0, 812, 812, 912, 912, 0, 0, 1600.0, 1600.0, 0, 0, 1600.0, 1600.0, 465, 465, 556, 556], \"y\": [200.0, 600.0, 1000.0, 1400.0, 200.0, 600.0, 1000.0, 1400.0, 200.0, 600.0, 1000.0, 1400.0, 200.0, 600.0, 1000.0, 1400.0, 527.0, 582.0, 1285.0, 1009.0, 798.0, 293, 757.0, 793.0, 970.0, 298, 1204.0, 423.0, 564.0, 655.0, 500.0, 148, 916.0, 665.0, 1039.0, 276, 957.0, 237.0, 1160.0, 504.0, 828, 376.0, 629.0, 1173.0, 830.0, 867.0, 1580.0, 1302, 1129.0, 851.0, 1098.0, 128, 1291.0, 516.0, 121, 1058.0, 541.0, 809.0, 904.0, 638.0, 509.0, 169, 291, 920.0, 713.0, 655.0, 944.0, 941.0, 559.0, 154, 1201.0, 1588.0, 1461.0, 751.0, 78.0, 1438.0, 1069.0, 1502.0, 1196.0, 154, 1070.0, 332, 860.0, 445.0, 909, 13.0, 1118.0, 1063.0, 942.0, 939.0, 1064.0, 813.0, 967, 1304.0, 780.0, 703, 796, 686.0, 703, 361.0, 138, 687.0, 277, 608.0, 1597.0, 117, 943.0, 1028.0, 620.0, 133, 1569, 1050.0, 802.0, 1095.0, 827.0, 963.0, 522, 973.0, 544.0, 567.0, 179, 904.0, 1078.0, 508.0, 1566.0, 474.0, 699.0, 1548.0, 287, 334, 30.0, 212.0, 577.0, 951.0, 1239.0, 598.0, 1189.0, 991.0, 1510.0, 535.0, 1452.0, 418.0, 596.0, 527.0, 1237.0, 957.0, 632.0, 1090.0, 854.0, 916.0, 1442.0, 726.0, 805.0, 999.0, 745.0, 150, 77, 845.0, 222.91206409643954, 628.0, 387.0, 851.0, 1245.0, 1364, 1468.0, 898.0, 662.0, 674.0, 1414.0, 172, 1461.0, 545.0, 1068.0, 1342.0, 69.0, 546.0, 688.0, 1330.0, 579.0, 1146.0, 601, 536.0, 211.0, 101, 1449.0, 1261.0, 1082.0, 1001.0, 859, 676.0, 1465.0, 1160.0, 804.0, 439.0, 816.0, 637.0, 434.0, 755.0, 268, 862.0, 1381.0, 1461.0, 776.0, 748.0, 139, 884.0, 944.0, 1120.0, 911.0, 529.0, 145, 1257.0, 1592.0, 1148, 626.0, 912.0, 0, 1600.0, 1600.0, 0, 257, 357, 357, 257, 85, 185, 185, 85, 80, 260, 260, 80], \"mode\": \"markers\", \"marker\": {\"size\": 8, \"color\": [\"orange\", \"orange\", \"orange\", \"orange\", \"orange\", \"orange\", \"orange\", \"orange\", \"orange\", \"orange\", \"orange\", \"orange\", \"orange\", \"orange\", \"orange\", \"orange\", \"blue\", \"magenta\", \"magenta\", \"blue\", \"magenta\", \"magenta\", \"magenta\", \"blue\", \"magenta\", \"magenta\", \"magenta\", \"magenta\", \"blue\", \"magenta\", \"blue\", \"magenta\", \"blue\", \"blue\", \"blue\", \"magenta\", \"blue\", \"magenta\", \"magenta\", \"magenta\", \"magenta\", \"magenta\", \"blue\", \"magenta\", \"blue\", \"magenta\", \"magenta\", \"magenta\", \"magenta\", \"blue\", \"blue\", \"magenta\", \"magenta\", \"magenta\", \"magenta\", \"magenta\", \"blue\", \"magenta\", \"magenta\", \"blue\", \"blue\", \"magenta\", \"magenta\", \"magenta\", \"magenta\", \"magenta\", \"blue\", \"blue\", \"magenta\", \"magenta\", \"magenta\", \"magenta\", \"magenta\", \"magenta\", \"magenta\", \"magenta\", \"magenta\", \"magenta\", \"magenta\", \"magenta\", \"magenta\", \"magenta\", \"blue\", \"magenta\", \"blue\", \"magenta\", \"magenta\", \"magenta\", \"blue\", \"magenta\", \"magenta\", \"magenta\", \"blue\", \"magenta\", \"magenta\", \"blue\", \"blue\", \"blue\", \"blue\", \"magenta\", \"magenta\", \"magenta\", \"magenta\", \"magenta\", \"magenta\", \"magenta\", \"magenta\", \"blue\", \"magenta\", \"magenta\", \"magenta\", \"magenta\", \"magenta\", \"blue\", \"magenta\", \"blue\", \"magenta\", \"magenta\", \"blue\", \"magenta\", \"magenta\", \"magenta\", \"magenta\", \"magenta\", \"magenta\", \"magenta\", \"magenta\", \"magenta\", \"magenta\", \"magenta\", \"magenta\", \"magenta\", \"magenta\", \"blue\", \"magenta\", \"magenta\", \"magenta\", \"blue\", \"magenta\", \"magenta\", \"magenta\", \"magenta\", \"magenta\", \"magenta\", \"magenta\", \"magenta\", \"blue\", \"blue\", \"magenta\", \"magenta\", \"magenta\", \"blue\", \"magenta\", \"magenta\", \"magenta\", \"magenta\", \"magenta\", \"magenta\", \"magenta\", \"magenta\", \"magenta\", \"magenta\", \"magenta\", \"magenta\", \"magenta\", \"blue\", \"blue\", \"magenta\", \"magenta\", \"magenta\", \"magenta\", \"magenta\", \"magenta\", \"magenta\", \"magenta\", \"blue\", \"magenta\", \"magenta\", \"magenta\", \"magenta\", \"blue\", \"blue\", \"magenta\", \"magenta\", \"magenta\", \"magenta\", \"magenta\", \"blue\", \"blue\", \"blue\", \"magenta\", \"magenta\", \"magenta\", \"magenta\", \"blue\", \"blue\", \"magenta\", \"magenta\", \"magenta\", \"magenta\", \"magenta\", \"magenta\", \"magenta\", \"magenta\", \"magenta\", \"blue\", \"magenta\", \"magenta\", \"magenta\", \"magenta\", \"magenta\", \"magenta\", \"magenta\", \"magenta\", \"blue\", \"magenta\", \"black\", \"black\", \"black\", \"black\", \"black\", \"black\", \"black\", \"black\", \"black\", \"black\", \"black\", \"black\", \"black\", \"black\", \"black\", \"black\"]}}], \"layout\": {\"title\": \"UE and AP Distribution in the grid\"}}]);}).then(function(){Plotly.animate('e0b0fd07-a5c0-4c22-a1da-50ae98237b66');})\n",
       "        });</script>"
      ]
     },
     "metadata": {},
     "output_type": "display_data"
    }
   ],
   "source": [
    "figure={\"data\":data_values,\n",
    "        \"layout\": {'xaxis':{'range': [0, 1600], 'title': 'x'},\n",
    "                   'yaxis':{'range': [0, 1600], 'title': 'y'},\n",
    "                   'title':\"UE and AP Distribution in the grid\",\n",
    "                   'height' : 1000,\n",
    "                   'width' :1000,\n",
    "                   'showlegend': False,\n",
    "                   \"shapes\":Rec_dict, \n",
    "                    'updatemenus': [{'type': 'buttons',\n",
    "                                      'buttons': [{'label': 'Play',\n",
    "                                                   'method': 'animate',\n",
    "                                                   'args': [None]}]}]\n",
    "                  },\n",
    "        'frames':Frames_data}\n",
    "  \n",
    "# print(figure)\n",
    "\n",
    "plotly.offline.iplot(figure)"
   ]
  },
  {
   "cell_type": "code",
   "execution_count": 18,
   "metadata": {},
   "outputs": [
    {
     "data": {
      "application/vnd.plotly.v1+json": {
       "data": [
        {
         "name": "Rewards",
         "type": "scatter",
         "x": 10,
         "y": [
          179.75,
          91.25,
          159.25,
          190.5,
          189.75,
          193,
          172.25,
          168.75,
          163.5,
          137.25
         ]
        }
       ],
       "layout": {
        "height": 500,
        "showlegend": true,
        "title": "Rewards over time using linear approximation",
        "width": 800,
        "xaxis": {
         "title": "Episodes"
        },
        "yaxis": {
         "title": "Rewards"
        }
       }
      },
      "text/html": [
       "<div id=\"f2982e4f-c3c2-4354-b206-519e04ca1264\" style=\"height: 500px; width: 800px;\" class=\"plotly-graph-div\"></div><script type=\"text/javascript\">require([\"plotly\"], function(Plotly) { window.PLOTLYENV=window.PLOTLYENV || {};window.PLOTLYENV.BASE_URL=\"https://plot.ly\";Plotly.newPlot(\"f2982e4f-c3c2-4354-b206-519e04ca1264\", [{\"type\": \"scatter\", \"x\": 10, \"y\": [179.75, 91.25, 159.25, 190.5, 189.75, 193.0, 172.25, 168.75, 163.5, 137.25], \"name\": \"Rewards\"}], {\"height\": 500, \"width\": 800, \"title\": \"Rewards over time using linear approximation\", \"xaxis\": {\"title\": \"Episodes\"}, \"yaxis\": {\"title\": \"Rewards\"}, \"showlegend\": true}, {\"showLink\": false, \"linkText\": null})});</script>"
      ],
      "text/vnd.plotly.v1+html": [
       "<div id=\"f2982e4f-c3c2-4354-b206-519e04ca1264\" style=\"height: 500px; width: 800px;\" class=\"plotly-graph-div\"></div><script type=\"text/javascript\">require([\"plotly\"], function(Plotly) { window.PLOTLYENV=window.PLOTLYENV || {};window.PLOTLYENV.BASE_URL=\"https://plot.ly\";Plotly.newPlot(\"f2982e4f-c3c2-4354-b206-519e04ca1264\", [{\"type\": \"scatter\", \"x\": 10, \"y\": [179.75, 91.25, 159.25, 190.5, 189.75, 193.0, 172.25, 168.75, 163.5, 137.25], \"name\": \"Rewards\"}], {\"height\": 500, \"width\": 800, \"title\": \"Rewards over time using linear approximation\", \"xaxis\": {\"title\": \"Episodes\"}, \"yaxis\": {\"title\": \"Rewards\"}, \"showlegend\": true}, {\"showLink\": false, \"linkText\": null})});</script>"
      ]
     },
     "metadata": {},
     "output_type": "display_data"
    }
   ],
   "source": [
    "# Create rewards graph\n",
    "rewards = go.Scatter(\n",
    "    x = len(result_DQN.Rewards),\n",
    "    y = result_DQN.Rewards,\n",
    "    name='Rewards'\n",
    ")\n",
    "\n",
    "data = [rewards]\n",
    "\n",
    "\n",
    "# Plot and embed in ipython notebook!\n",
    "plotly.offline.iplot(\n",
    "    {\"data\": data,\n",
    "     \"layout\": go.Layout(\n",
    "         height=500,\n",
    "         width=800,\n",
    "         title=\"Rewards over time using linear approximation\",\n",
    "         xaxis=dict(\n",
    "             title='Episodes',\n",
    "         ),\n",
    "         yaxis=dict(\n",
    "             title='Rewards',\n",
    "         ), \n",
    "         showlegend=True)},\n",
    "    show_link=False,\n",
    "    link_text=None)"
   ]
  },
  {
   "cell_type": "code",
   "execution_count": 19,
   "metadata": {},
   "outputs": [
    {
     "data": {
      "application/vnd.plotly.v1+json": {
       "data": [
        {
         "name": "Handoffs",
         "type": "scatter",
         "x": 10,
         "y": [
          23,
          37,
          13,
          2,
          3,
          0,
          9,
          11,
          22,
          33
         ]
        }
       ],
       "layout": {
        "height": 500,
        "showlegend": true,
        "title": "Handoffs over time using linear approximation",
        "width": 800,
        "xaxis": {
         "title": "Episodes"
        },
        "yaxis": {
         "title": "Handoffs"
        }
       }
      },
      "text/html": [
       "<div id=\"97b56a28-e099-41af-8f90-284ae88ed47e\" style=\"height: 500px; width: 800px;\" class=\"plotly-graph-div\"></div><script type=\"text/javascript\">require([\"plotly\"], function(Plotly) { window.PLOTLYENV=window.PLOTLYENV || {};window.PLOTLYENV.BASE_URL=\"https://plot.ly\";Plotly.newPlot(\"97b56a28-e099-41af-8f90-284ae88ed47e\", [{\"type\": \"scatter\", \"x\": 10, \"y\": [23.0, 37.0, 13.0, 2.0, 3.0, 0.0, 9.0, 11.0, 22.0, 33.0], \"name\": \"Handoffs\"}], {\"height\": 500, \"width\": 800, \"title\": \"Handoffs over time using linear approximation\", \"xaxis\": {\"title\": \"Episodes\"}, \"yaxis\": {\"title\": \"Handoffs\"}, \"showlegend\": true}, {\"showLink\": false, \"linkText\": null})});</script>"
      ],
      "text/vnd.plotly.v1+html": [
       "<div id=\"97b56a28-e099-41af-8f90-284ae88ed47e\" style=\"height: 500px; width: 800px;\" class=\"plotly-graph-div\"></div><script type=\"text/javascript\">require([\"plotly\"], function(Plotly) { window.PLOTLYENV=window.PLOTLYENV || {};window.PLOTLYENV.BASE_URL=\"https://plot.ly\";Plotly.newPlot(\"97b56a28-e099-41af-8f90-284ae88ed47e\", [{\"type\": \"scatter\", \"x\": 10, \"y\": [23.0, 37.0, 13.0, 2.0, 3.0, 0.0, 9.0, 11.0, 22.0, 33.0], \"name\": \"Handoffs\"}], {\"height\": 500, \"width\": 800, \"title\": \"Handoffs over time using linear approximation\", \"xaxis\": {\"title\": \"Episodes\"}, \"yaxis\": {\"title\": \"Handoffs\"}, \"showlegend\": true}, {\"showLink\": false, \"linkText\": null})});</script>"
      ]
     },
     "metadata": {},
     "output_type": "display_data"
    }
   ],
   "source": [
    "# Create handoff graph\n",
    "handoffs = go.Scatter(\n",
    "    x = len(result_DQN.Handoffs),\n",
    "    y = result_DQN.Handoffs,\n",
    "    name='Handoffs'\n",
    ")\n",
    "\n",
    "data = [handoffs]\n",
    "\n",
    "# Plot and embed in ipython notebook!\n",
    "plotly.offline.iplot(\n",
    "    {\"data\": data,\n",
    "     \"layout\": go.Layout(\n",
    "         height=500,\n",
    "         width=800,\n",
    "         title='Handoffs over time using linear approximation',\n",
    "         xaxis=dict(\n",
    "             title='Episodes',\n",
    "         ),\n",
    "         yaxis=dict(\n",
    "             title='Handoffs'\n",
    "         ), \n",
    "         showlegend=True)},\n",
    "    show_link=False,\n",
    "    link_text=None)"
   ]
  },
  {
   "cell_type": "code",
   "execution_count": 20,
   "metadata": {},
   "outputs": [
    {
     "data": {
      "application/vnd.plotly.v1+json": {
       "data": [
        {
         "name": "UE SLA",
         "type": "scatter",
         "x": 10,
         "y": [
          167,
          145,
          145,
          145,
          145,
          143,
          144,
          145,
          146,
          147
         ]
        }
       ],
       "layout": {
        "height": 500,
        "showlegend": true,
        "title": "UE's SLA over time using linear approximation",
        "width": 800,
        "xaxis": {
         "title": "Episodes"
        },
        "yaxis": {
         "title": "UE SLA"
        }
       }
      },
      "text/html": [
       "<div id=\"57c23f19-cd55-4412-8ec4-4bcdbaa57f46\" style=\"height: 500px; width: 800px;\" class=\"plotly-graph-div\"></div><script type=\"text/javascript\">require([\"plotly\"], function(Plotly) { window.PLOTLYENV=window.PLOTLYENV || {};window.PLOTLYENV.BASE_URL=\"https://plot.ly\";Plotly.newPlot(\"57c23f19-cd55-4412-8ec4-4bcdbaa57f46\", [{\"type\": \"scatter\", \"x\": 10, \"y\": [167.0, 145.0, 145.0, 145.0, 145.0, 143.0, 144.0, 145.0, 146.0, 147.0], \"name\": \"UE SLA\"}], {\"height\": 500, \"width\": 800, \"title\": \"UE's SLA over time using linear approximation\", \"xaxis\": {\"title\": \"Episodes\"}, \"yaxis\": {\"title\": \"UE SLA\"}, \"showlegend\": true}, {\"showLink\": false, \"linkText\": null})});</script>"
      ],
      "text/vnd.plotly.v1+html": [
       "<div id=\"57c23f19-cd55-4412-8ec4-4bcdbaa57f46\" style=\"height: 500px; width: 800px;\" class=\"plotly-graph-div\"></div><script type=\"text/javascript\">require([\"plotly\"], function(Plotly) { window.PLOTLYENV=window.PLOTLYENV || {};window.PLOTLYENV.BASE_URL=\"https://plot.ly\";Plotly.newPlot(\"57c23f19-cd55-4412-8ec4-4bcdbaa57f46\", [{\"type\": \"scatter\", \"x\": 10, \"y\": [167.0, 145.0, 145.0, 145.0, 145.0, 143.0, 144.0, 145.0, 146.0, 147.0], \"name\": \"UE SLA\"}], {\"height\": 500, \"width\": 800, \"title\": \"UE's SLA over time using linear approximation\", \"xaxis\": {\"title\": \"Episodes\"}, \"yaxis\": {\"title\": \"UE SLA\"}, \"showlegend\": true}, {\"showLink\": false, \"linkText\": null})});</script>"
      ]
     },
     "metadata": {},
     "output_type": "display_data"
    }
   ],
   "source": [
    "# Create UE graph\n",
    "ue_sla = go.Scatter(\n",
    "    x = len(result_DQN.Meets_SLA),\n",
    "    y = result_DQN.Meets_SLA,\n",
    "    name='UE SLA'\n",
    ")\n",
    "\n",
    "data = [ue_sla]\n",
    "\n",
    "# Plot and embed in ipython notebook!\n",
    "plotly.offline.iplot(\n",
    "    {\"data\": data,\n",
    "     \"layout\": go.Layout(\n",
    "         height=500,\n",
    "         width=800,\n",
    "         title=\"UE's SLA over time using linear approximation\",\n",
    "         xaxis=dict(\n",
    "             title='Episodes',\n",
    "         ),\n",
    "         yaxis=dict(\n",
    "             title='UE SLA'\n",
    "         ), \n",
    "         showlegend=True)},\n",
    "    show_link=False,\n",
    "    link_text=None)"
   ]
  },
  {
   "cell_type": "code",
   "execution_count": null,
   "metadata": {},
   "outputs": [],
   "source": []
  },
  {
   "cell_type": "code",
   "execution_count": null,
   "metadata": {},
   "outputs": [],
   "source": []
  }
 ],
 "metadata": {
  "kernelspec": {
   "display_name": "Python 3",
   "language": "python",
   "name": "python3"
  },
  "language_info": {
   "codemirror_mode": {
    "name": "ipython",
    "version": 3
   },
   "file_extension": ".py",
   "mimetype": "text/x-python",
   "name": "python",
   "nbconvert_exporter": "python",
   "pygments_lexer": "ipython3",
   "version": "3.6.5"
  }
 },
 "nbformat": 4,
 "nbformat_minor": 2
}
