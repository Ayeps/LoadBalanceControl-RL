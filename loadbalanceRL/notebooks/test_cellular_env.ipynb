{
 "cells": [
  {
   "cell_type": "code",
   "execution_count": 1,
   "metadata": {},
   "outputs": [
    {
     "data": {
      "text/html": [
       "<script>requirejs.config({paths: { 'plotly': ['https://cdn.plot.ly/plotly-latest.min']},});if(!window.Plotly) {{require(['plotly'],function(plotly) {window.Plotly=plotly;});}}</script>"
      ],
      "text/vnd.plotly.v1+html": [
       "<script>requirejs.config({paths: { 'plotly': ['https://cdn.plot.ly/plotly-latest.min']},});if(!window.Plotly) {{require(['plotly'],function(plotly) {window.Plotly=plotly;});}}</script>"
      ]
     },
     "metadata": {},
     "output_type": "display_data"
    }
   ],
   "source": [
    "import plotly\n",
    "import plotly.graph_objs as go\n",
    "from IPython.display import display, HTML\n",
    "plotly.offline.init_notebook_mode(connected=True)"
   ]
  },
  {
   "cell_type": "code",
   "execution_count": 2,
   "metadata": {},
   "outputs": [
    {
     "name": "stdout",
     "output_type": "stream",
     "text": [
      "Rainman2's logging has been configured!\n"
     ]
    },
    {
     "name": "stderr",
     "output_type": "stream",
     "text": [
      "Using TensorFlow backend.\n"
     ]
    }
   ],
   "source": [
    "from loadbalanceRL import RAINMAN3\n",
    "from loadbalanceRL.lib.algorithm.plot_dynamic import *"
   ]
  },
  {
   "cell_type": "markdown",
   "metadata": {},
   "source": [
    "\n",
    "#### Normal case: Start with 30% Random actions (explore) and rest 70% fetch max actions (exploit)\n"
   ]
  },
  {
   "cell_type": "code",
   "execution_count": 6,
   "metadata": {},
   "outputs": [],
   "source": [
    "# Server profile: num_ues=120, APs=16, Scale=200.0, explore_radius=1\n",
    "# If you want to change the num of ues or aps go to reset that in the server.py\n",
    "# the EPISODES shows here is 100\n",
    "from collections import OrderedDict\n",
    "ALGORITHM_CONFIG = OrderedDict(\n",
    "    EPISODES=3,\n",
    "    ALPHA=0.2,\n",
    "    GAMMA=0.9,\n",
    "    EPSILON=0.3,\n",
    "    LAERNING_RATE=0.005,\n",
    "    EPSILON_DECAY=0.99,\n",
    "    EPSILON_MIN=0.01,\n",
    "    VERBOSE=True,\n",
    "    L1_HIDDEN_UNITS=13,\n",
    "    L2_HIDDEN_UNITS=13,\n",
    "    L1_ACTIVATION='relu',\n",
    "    L2_ACTIVATION='relu',\n",
    "    LOSS_FUNCTION='mean_squared_error',\n",
    "    OPTIMIZER='Adam',\n",
    ")\n",
    "\n",
    "CELLULAR_MODEL_CONFIG = OrderedDict(\n",
    "    NAME='Cellular',\n",
    "    TYPE='Dev',\n",
    "    SERVER='0.0.0.0',\n",
    "    SERVER_PORT='8000',\n",
    "    VERBOSE=True,\n",
    ")\n"
   ]
  },
  {
   "cell_type": "code",
   "execution_count": 7,
   "metadata": {},
   "outputs": [],
   "source": [
    "RAINMAN3.algorithm_config = ALGORITHM_CONFIG\n",
    "RAINMAN3.environment_config = CELLULAR_MODEL_CONFIG"
   ]
  },
  {
   "cell_type": "code",
   "execution_count": 8,
   "metadata": {
    "scrolled": true
   },
   "outputs": [
    {
     "name": "stderr",
     "output_type": "stream",
     "text": [
      "2018-08-10 14:04:06,906 Mingyangs-MacBook-Pro.local Rainman2[54968] INFO Starting experiment!\n",
      "2018-08-10 14:04:06,908 Mingyangs-MacBook-Pro.local Rainman2[54968] INFO Building Environment instance: Cellular\n",
      "2018-08-10 14:04:06,909 Mingyangs-MacBook-Pro.local loadbalanceRL.lib.environment.cellular.base[54968] INFO Instantiating Cellular client: Dev\n",
      "2018-08-10 14:04:06,910 Mingyangs-MacBook-Pro.local QCellularAgent[54968] INFO Configuration used for the QCellular Agent:\n",
      "2018-08-10 14:04:06,911 Mingyangs-MacBook-Pro.local QCellularAgent[54968] INFO episodes: 3\n",
      "2018-08-10 14:04:06,911 Mingyangs-MacBook-Pro.local QCellularAgent[54968] INFO alpha: 0.2\n",
      "2018-08-10 14:04:06,912 Mingyangs-MacBook-Pro.local QCellularAgent[54968] INFO gamma: 0.9\n",
      "2018-08-10 14:04:06,913 Mingyangs-MacBook-Pro.local QCellularAgent[54968] INFO epsilon: 0.3\n",
      "2018-08-10 14:04:06,914 Mingyangs-MacBook-Pro.local QCellularAgent[54968] INFO epsilon_decay: 0.99\n",
      "2018-08-10 14:04:06,915 Mingyangs-MacBook-Pro.local QCellularAgent[54968] INFO epsilon_min: 0.01\n",
      "2018-08-10 14:04:06,916 Mingyangs-MacBook-Pro.local QController[54968] INFO Agent: Naive is successfully instantiated!\n",
      "2018-08-10 14:04:06,917 Mingyangs-MacBook-Pro.local QController[54968] INFO Qlearning instance: QlearningForCellular is successfully instantiated!\n",
      "2018-08-10 14:04:06,917 Mingyangs-MacBook-Pro.local QlearningForCellular[54968] INFO Running Qlearning for Cellular Networks!\n",
      "2018-08-10 14:04:06,924 Mingyangs-MacBook-Pro.local CellularNetworkEnv[54968] INFO Resetting the env for the change position of UE!\n",
      "2018-08-10 14:04:06,946 Mingyangs-MacBook-Pro.local CellularNetworkEnv[54968] INFO Requesting network to handoff UE: 1 to new AP: 9\n",
      "2018-08-10 14:04:06,974 Mingyangs-MacBook-Pro.local CellularNetworkEnv[54968] INFO Requesting network to handoff UE: 10 to new AP: 14\n",
      "2018-08-10 14:04:06,990 Mingyangs-MacBook-Pro.local CellularNetworkEnv[54968] INFO Requesting network to handoff UE: 13 to new AP: 6\n",
      "2018-08-10 14:04:07,032 Mingyangs-MacBook-Pro.local CellularNetworkEnv[54968] INFO Requesting network to handoff UE: 27 to new AP: 11\n",
      "2018-08-10 14:04:07,045 Mingyangs-MacBook-Pro.local CellularNetworkEnv[54968] INFO Requesting network to handoff UE: 29 to new AP: 7\n",
      "2018-08-10 14:04:07,057 Mingyangs-MacBook-Pro.local CellularNetworkEnv[54968] INFO Requesting network to handoff UE: 30 to new AP: 2\n",
      "2018-08-10 14:04:07,102 Mingyangs-MacBook-Pro.local CellularNetworkEnv[54968] INFO Requesting network to handoff UE: 45 to new AP: 1\n",
      "2018-08-10 14:04:07,185 Mingyangs-MacBook-Pro.local CellularNetworkEnv[54968] INFO Requesting network to handoff UE: 75 to new AP: 8\n",
      "2018-08-10 14:04:07,203 Mingyangs-MacBook-Pro.local CellularNetworkEnv[54968] INFO Requesting network to handoff UE: 79 to new AP: 10\n",
      "2018-08-10 14:04:07,217 Mingyangs-MacBook-Pro.local CellularNetworkEnv[54968] INFO Requesting network to handoff UE: 82 to new AP: 6\n",
      "2018-08-10 14:04:07,248 Mingyangs-MacBook-Pro.local CellularNetworkEnv[54968] INFO Requesting network to handoff UE: 92 to new AP: 11\n",
      "2018-08-10 14:04:07,418 Mingyangs-MacBook-Pro.local CellularNetworkEnv[54968] INFO Requesting network to handoff UE: 152 to new AP: 2\n",
      "2018-08-10 14:04:07,445 Mingyangs-MacBook-Pro.local CellularNetworkEnv[54968] INFO Requesting network to handoff UE: 160 to new AP: 6\n",
      "2018-08-10 14:04:07,486 Mingyangs-MacBook-Pro.local CellularNetworkEnv[54968] INFO Requesting network to handoff UE: 170 to new AP: 3\n",
      "2018-08-10 14:04:07,499 Mingyangs-MacBook-Pro.local CellularNetworkEnv[54968] INFO Requesting network to handoff UE: 172 to new AP: 15\n",
      "2018-08-10 14:04:07,511 Mingyangs-MacBook-Pro.local CellularNetworkEnv[54968] INFO Requesting network to handoff UE: 174 to new AP: 10\n",
      "2018-08-10 14:04:07,527 Mingyangs-MacBook-Pro.local CellularNetworkEnv[54968] INFO Requesting network to handoff UE: 178 to new AP: 14\n",
      "2018-08-10 14:04:07,537 Mingyangs-MacBook-Pro.local CellularNetworkEnv[54968] INFO Requesting network to handoff UE: 179 to new AP: 11\n",
      "2018-08-10 14:04:07,596 Mingyangs-MacBook-Pro.local CellularNetworkEnv[54968] INFO Resetting the environment after move in the 1 episode\n",
      "2018-08-10 14:04:07,597 Mingyangs-MacBook-Pro.local CellularNetworkEnv[54968] INFO Getting  numbe of 4 BRs right \n",
      "2018-08-10 14:04:07,702 Mingyangs-MacBook-Pro.local CellularNetworkEnv[54968] INFO UE: 21 is handed off from: 7 to : 11\n",
      "2018-08-10 14:04:07,748 Mingyangs-MacBook-Pro.local CellularNetworkEnv[54968] INFO UE: 37 is handed off from: 15 to : 16\n",
      "2018-08-10 14:04:07,768 Mingyangs-MacBook-Pro.local CellularNetworkEnv[54968] INFO UE: 41 is handed off from: 5 to : 6\n",
      "2018-08-10 14:04:07,805 Mingyangs-MacBook-Pro.local CellularNetworkEnv[54968] INFO UE: 52 is handed off from: 7 to : 11\n",
      "2018-08-10 14:04:07,833 Mingyangs-MacBook-Pro.local CellularNetworkEnv[54968] INFO UE: 59 is handed off from: 5 to : 9\n",
      "2018-08-10 14:04:07,892 Mingyangs-MacBook-Pro.local CellularNetworkEnv[54968] INFO UE: 80 is handed off from: 11 to : 10\n",
      "2018-08-10 14:04:07,905 Mingyangs-MacBook-Pro.local CellularNetworkEnv[54968] INFO UE: 81 is handed off from: 7 to : 10\n",
      "2018-08-10 14:04:07,928 Mingyangs-MacBook-Pro.local CellularNetworkEnv[54968] INFO UE: 86 is handed off from: 2 to : 3\n",
      "2018-08-10 14:04:07,955 Mingyangs-MacBook-Pro.local CellularNetworkEnv[54968] INFO UE: 92 is handed off from: 11 to : 7\n",
      "2018-08-10 14:04:07,979 Mingyangs-MacBook-Pro.local CellularNetworkEnv[54968] INFO UE: 98 is handed off from: 8 to : 7\n",
      "2018-08-10 14:04:08,001 Mingyangs-MacBook-Pro.local CellularNetworkEnv[54968] INFO UE: 103 is handed off from: 10 to : 6\n",
      "2018-08-10 14:04:08,050 Mingyangs-MacBook-Pro.local CellularNetworkEnv[54968] INFO UE: 118 is handed off from: 2 to : 7\n",
      "2018-08-10 14:04:08,168 Mingyangs-MacBook-Pro.local CellularNetworkEnv[54968] INFO UE: 165 is handed off from: 10 to : 6\n",
      "2018-08-10 14:04:08,200 Mingyangs-MacBook-Pro.local CellularNetworkEnv[54968] INFO UE: 174 is handed off from: 10 to : 6\n",
      "2018-08-10 14:04:08,223 Mingyangs-MacBook-Pro.local CellularNetworkEnv[54968] INFO UE: 180 is handed off from: 11 to : 10\n",
      "2018-08-10 14:04:08,268 Mingyangs-MacBook-Pro.local CellularNetworkEnv[54968] INFO UE: 195 is handed off from: 9 to : 13\n",
      "2018-08-10 14:04:08,289 Mingyangs-MacBook-Pro.local CellularNetworkEnv[54968] INFO UE: 199 is handed off from: 10 to : 6\n",
      "2018-08-10 14:04:08,295 Mingyangs-MacBook-Pro.local CellularNetworkEnv[54968] INFO Resetting the environment after move in the 2 episode\n",
      "2018-08-10 14:04:08,296 Mingyangs-MacBook-Pro.local CellularNetworkEnv[54968] INFO Getting  numbe of 4 BRs right \n",
      "2018-08-10 14:04:08,396 Mingyangs-MacBook-Pro.local CellularNetworkEnv[54968] INFO UE: 18 is handed off from: 6 to : 10\n",
      "2018-08-10 14:04:08,428 Mingyangs-MacBook-Pro.local CellularNetworkEnv[54968] INFO UE: 27 is handed off from: 11 to : 6\n",
      "2018-08-10 14:04:08,444 Mingyangs-MacBook-Pro.local CellularNetworkEnv[54968] INFO UE: 29 is handed off from: 7 to : 6\n",
      "2018-08-10 14:04:08,547 Mingyangs-MacBook-Pro.local CellularNetworkEnv[54968] INFO UE: 69 is handed off from: 7 to : 11\n",
      "2018-08-10 14:04:08,567 Mingyangs-MacBook-Pro.local CellularNetworkEnv[54968] INFO UE: 73 is handed off from: 7 to : 6\n",
      "2018-08-10 14:04:08,601 Mingyangs-MacBook-Pro.local CellularNetworkEnv[54968] INFO UE: 83 is handed off from: 10 to : 6\n",
      "2018-08-10 14:04:08,648 Mingyangs-MacBook-Pro.local CellularNetworkEnv[54968] INFO UE: 98 is handed off from: 7 to : 8\n",
      "2018-08-10 14:04:08,793 Mingyangs-MacBook-Pro.local CellularNetworkEnv[54968] INFO UE: 150 is handed off from: 6 to : 7\n",
      "2018-08-10 14:04:08,847 Mingyangs-MacBook-Pro.local CellularNetworkEnv[54968] INFO UE: 165 is handed off from: 6 to : 11\n",
      "2018-08-10 14:04:08,860 Mingyangs-MacBook-Pro.local CellularNetworkEnv[54968] INFO UE: 166 is handed off from: 6 to : 5\n",
      "2018-08-10 14:04:08,890 Mingyangs-MacBook-Pro.local CellularNetworkEnv[54968] INFO UE: 174 is handed off from: 6 to : 11\n",
      "2018-08-10 14:04:08,955 Mingyangs-MacBook-Pro.local QlearningForCellular[54968] INFO Episodes stats\n",
      "2018-08-10 14:04:08,956 Mingyangs-MacBook-Pro.local QlearningForCellular[54968] INFO Rewards: [249.5  211.25 209.75]\n",
      "2018-08-10 14:04:08,957 Mingyangs-MacBook-Pro.local QlearningForCellular[54968] INFO Handoffs: [18. 17. 11.]\n",
      "2018-08-10 14:04:08,959 Mingyangs-MacBook-Pro.local QlearningForCellular[54968] INFO UEs SLA Stats: [175. 166. 158.]\n"
     ]
    },
    {
     "name": "stdout",
     "output_type": "stream",
     "text": [
      "Module: run_experiment took: 1.9095220000000008s\n"
     ]
    },
    {
     "name": "stderr",
     "output_type": "stream",
     "text": [
      "[========================================================================] 100%\r\n"
     ]
    }
   ],
   "source": [
    "result = RAINMAN3.run_experiment(\"Cellular\", \"Qlearning\", \"Naive\")"
   ]
  },
  {
   "cell_type": "code",
   "execution_count": 9,
   "metadata": {},
   "outputs": [
    {
     "name": "stdout",
     "output_type": "stream",
     "text": [
      "Number of states encountered: 197\n"
     ]
    }
   ],
   "source": [
    "print(\"Number of states encountered: {}\".format(len(result.Q)))"
   ]
  },
  {
   "cell_type": "code",
   "execution_count": 10,
   "metadata": {},
   "outputs": [
    {
     "name": "stdout",
     "output_type": "stream",
     "text": [
      "Number of q_ap_states encountered: 58\n"
     ]
    }
   ],
   "source": [
    "print(\"Number of q_ap_states encountered: {}\".format(len(result.Q_ap)))"
   ]
  },
  {
   "cell_type": "code",
   "execution_count": 11,
   "metadata": {},
   "outputs": [
    {
     "name": "stdout",
     "output_type": "stream",
     "text": [
      "[<BR {'br_id': 1, 'br_type': 'road', 'location': [812, 912, 0, 1600.0], 'direction': 'NS'}>, <BR {'br_id': 2, 'br_type': 'road', 'location': [0, 1600.0, 257, 357], 'direction': 'WE'}>, <BR {'br_id': 3, 'br_type': 'road', 'location': [0, 1600.0, 85, 185], 'direction': 'WE'}>, <BR {'br_id': 4, 'br_type': 'building', 'location': [465, 556, 80, 260], 'direction': 'random'}>]\n"
     ]
    }
   ],
   "source": [
    "print(result.BR_LIST)"
   ]
  },
  {
   "cell_type": "code",
   "execution_count": 13,
   "metadata": {},
   "outputs": [],
   "source": [
    "# data_values=data[\"data\"]  \n",
    "# print(data_values)\n",
    "\n",
    "# Including the BR dict\n",
    "br_list = result.BR_LIST\n",
    "\n",
    "\n",
    "  \n",
    "BR_locations=[]\n",
    "BR_locations += [x.location for x in br_list]\n",
    "\n",
    "Rec_dict=[{\n",
    "            'type': 'rect',\n",
    "            'x0': BR_locations[0][0],\n",
    "            'y0': BR_locations[0][2],\n",
    "            'x1': BR_locations[0][1],\n",
    "            'y1': BR_locations[0][3],\n",
    "            'line': {\n",
    "                'color': 'rgba(128, 0, 128, 1)',\n",
    "                'width': 2,\n",
    "            },\n",
    "            'fillcolor': 'rgba(128, 0, 128 0.1)'\n",
    "          }]\n",
    "Rec_dict.append({\n",
    "            'type': 'rect',\n",
    "            'x0': BR_locations[1][0],\n",
    "            'y0': BR_locations[1][2],\n",
    "            'x1': BR_locations[1][1],\n",
    "            'y1': BR_locations[1][3],\n",
    "            'line': {\n",
    "                'color': 'rgba(128, 0, 128, 1)',\n",
    "                'width': 2,\n",
    "            },\n",
    "            'fillcolor': 'rgba(128, 0, 128 0.1)'\n",
    "            })\n",
    "Rec_dict.append({\n",
    "            'type': 'rect',\n",
    "            'x0': BR_locations[2][0],\n",
    "            'y0': BR_locations[2][2],\n",
    "            'x1': BR_locations[2][1],\n",
    "            'y1': BR_locations[2][3],\n",
    "            'line': {\n",
    "                'color': 'rgba(128, 0, 128, 1)',\n",
    "                'width': 2,\n",
    "            },\n",
    "            'fillcolor': 'rgba(128, 0, 128 0.1)'\n",
    "          })\n",
    "\n",
    "Rec_dict.append({\n",
    "            'type': 'rect',\n",
    "            'x0': BR_locations[3][0],\n",
    "            'y0': BR_locations[3][2],\n",
    "            'x1': BR_locations[3][1],\n",
    "            'y1': BR_locations[3][3],\n",
    "            'line': {\n",
    "                'color': 'rgba(128, 0, 128, 1)',\n",
    "                'width': 2,\n",
    "            },\n",
    "            'fillcolor': 'rgba(128, 0, 128 0.1)'\n",
    "          })\n",
    "\n",
    "\n",
    "\n",
    "\n"
   ]
  },
  {
   "cell_type": "code",
   "execution_count": 14,
   "metadata": {},
   "outputs": [],
   "source": [
    "# data represents as the fist frame data for plot\n",
    "data, Frames_data, last_episode, layout_dict = plot_dynamic_data(result, Rec_dict, ALGORITHM_CONFIG['EPISODES'])\n"
   ]
  },
  {
   "cell_type": "code",
   "execution_count": 16,
   "metadata": {
    "scrolled": false
   },
   "outputs": [
    {
     "data": {
      "application/vnd.plotly.v1+json": {
       "data": [
        {
         "line": {
          "color": "green",
          "width": 2
         },
         "mode": "lines",
         "type": "scatter",
         "x": [
          600,
          953
         ],
         "y": [
          600,
          528
         ]
        },
        {
         "line": {
          "color": "green",
          "width": 2
         },
         "mode": "lines",
         "type": "scatter",
         "x": [
          1000,
          1166
         ],
         "y": [
          600,
          582
         ]
        },
        {
         "line": {
          "color": "green",
          "width": 2
         },
         "mode": "lines",
         "type": "scatter",
         "x": [
          1000,
          1178
         ],
         "y": [
          1400,
          1287
         ]
        },
        {
         "line": {
          "color": "green",
          "width": 2
         },
         "mode": "lines",
         "type": "scatter",
         "x": [
          1000,
          1041
         ],
         "y": [
          1000,
          1009
         ]
        },
        {
         "line": {
          "color": "green",
          "width": 2
         },
         "mode": "lines",
         "type": "scatter",
         "x": [
          1400,
          1381
         ],
         "y": [
          600,
          796
         ]
        },
        {
         "line": {
          "color": "green",
          "width": 2
         },
         "mode": "lines",
         "type": "scatter",
         "x": [
          600,
          499
         ],
         "y": [
          200,
          293
         ]
        },
        {
         "line": {
          "color": "green",
          "width": 2
         },
         "mode": "lines",
         "type": "scatter",
         "x": [
          200,
          12
         ],
         "y": [
          1000,
          758
         ]
        },
        {
         "line": {
          "color": "red",
          "width": 2
         },
         "mode": "lines",
         "type": "scatter",
         "x": [
          1000,
          602
         ],
         "y": [
          600,
          794
         ]
        },
        {
         "line": {
          "color": "green",
          "width": 2
         },
         "mode": "lines",
         "type": "scatter",
         "x": [
          600,
          706
         ],
         "y": [
          1000,
          968
         ]
        },
        {
         "line": {
          "color": "green",
          "width": 2
         },
         "mode": "lines",
         "type": "scatter",
         "x": [
          1400,
          1411
         ],
         "y": [
          200,
          298
         ]
        },
        {
         "line": {
          "color": "green",
          "width": 2
         },
         "mode": "lines",
         "type": "scatter",
         "x": [
          600,
          596
         ],
         "y": [
          1400,
          1204
         ]
        },
        {
         "line": {
          "color": "green",
          "width": 2
         },
         "mode": "lines",
         "type": "scatter",
         "x": [
          1400,
          1292
         ],
         "y": [
          600,
          423
         ]
        },
        {
         "line": {
          "color": "red",
          "width": 2
         },
         "mode": "lines",
         "type": "scatter",
         "x": [
          200,
          529
         ],
         "y": [
          600,
          562
         ]
        },
        {
         "line": {
          "color": "green",
          "width": 2
         },
         "mode": "lines",
         "type": "scatter",
         "x": [
          1400,
          1447
         ],
         "y": [
          1000,
          655
         ]
        },
        {
         "line": {
          "color": "green",
          "width": 2
         },
         "mode": "lines",
         "type": "scatter",
         "x": [
          600,
          603
         ],
         "y": [
          200,
          500
         ]
        },
        {
         "line": {
          "color": "green",
          "width": 2
         },
         "mode": "lines",
         "type": "scatter",
         "x": [
          1400,
          1464
         ],
         "y": [
          200,
          148
         ]
        },
        {
         "line": {
          "color": "green",
          "width": 2
         },
         "mode": "lines",
         "type": "scatter",
         "x": [
          600,
          959
         ],
         "y": [
          600,
          915
         ]
        },
        {
         "line": {
          "color": "green",
          "width": 2
         },
         "mode": "lines",
         "type": "scatter",
         "x": [
          600,
          748
         ],
         "y": [
          600,
          664
         ]
        },
        {
         "line": {
          "color": "green",
          "width": 2
         },
         "mode": "lines",
         "type": "scatter",
         "x": [
          600,
          691
         ],
         "y": [
          1000,
          1038
         ]
        },
        {
         "line": {
          "color": "green",
          "width": 2
         },
         "mode": "lines",
         "type": "scatter",
         "x": [
          600,
          742
         ],
         "y": [
          200,
          276
         ]
        },
        {
         "line": {
          "color": "red",
          "width": 2
         },
         "mode": "lines",
         "type": "scatter",
         "x": [
          600,
          702
         ],
         "y": [
          1000,
          957
         ]
        },
        {
         "line": {
          "color": "green",
          "width": 2
         },
         "mode": "lines",
         "type": "scatter",
         "x": [
          200,
          372
         ],
         "y": [
          600,
          235
         ]
        },
        {
         "line": {
          "color": "green",
          "width": 2
         },
         "mode": "lines",
         "type": "scatter",
         "x": [
          1000,
          921
         ],
         "y": [
          1000,
          1158
         ]
        },
        {
         "line": {
          "color": "green",
          "width": 2
         },
         "mode": "lines",
         "type": "scatter",
         "x": [
          200,
          37
         ],
         "y": [
          600,
          504
         ]
        },
        {
         "line": {
          "color": "green",
          "width": 2
         },
         "mode": "lines",
         "type": "scatter",
         "x": [
          1000,
          861
         ],
         "y": [
          1000,
          876
         ]
        },
        {
         "line": {
          "color": "green",
          "width": 2
         },
         "mode": "lines",
         "type": "scatter",
         "x": [
          1400,
          1026
         ],
         "y": [
          600,
          377
         ]
        },
        {
         "line": {
          "color": "red",
          "width": 2
         },
         "mode": "lines",
         "type": "scatter",
         "x": [
          600,
          938
         ],
         "y": [
          600,
          629
         ]
        },
        {
         "line": {
          "color": "green",
          "width": 2
         },
         "mode": "lines",
         "type": "scatter",
         "x": [
          1400,
          1599
         ],
         "y": [
          1000,
          1173
         ]
        },
        {
         "line": {
          "color": "red",
          "width": 2
         },
         "mode": "lines",
         "type": "scatter",
         "x": [
          1000,
          667
         ],
         "y": [
          600,
          831
         ]
        },
        {
         "line": {
          "color": "green",
          "width": 2
         },
         "mode": "lines",
         "type": "scatter",
         "x": [
          200,
          269
         ],
         "y": [
          1000,
          868
         ]
        },
        {
         "line": {
          "color": "green",
          "width": 2
         },
         "mode": "lines",
         "type": "scatter",
         "x": [
          1000,
          1024
         ],
         "y": [
          1400,
          1578
         ]
        },
        {
         "line": {
          "color": "green",
          "width": 2
         },
         "mode": "lines",
         "type": "scatter",
         "x": [
          1000,
          896
         ],
         "y": [
          1400,
          1347
         ]
        },
        {
         "line": {
          "color": "green",
          "width": 2
         },
         "mode": "lines",
         "type": "scatter",
         "x": [
          1400,
          1527
         ],
         "y": [
          1400,
          1130
         ]
        },
        {
         "line": {
          "color": "green",
          "width": 2
         },
         "mode": "lines",
         "type": "scatter",
         "x": [
          1000,
          1068
         ],
         "y": [
          1000,
          853
         ]
        },
        {
         "line": {
          "color": "green",
          "width": 2
         },
         "mode": "lines",
         "type": "scatter",
         "x": [
          600,
          584
         ],
         "y": [
          1400,
          1097
         ]
        },
        {
         "line": {
          "color": "green",
          "width": 2
         },
         "mode": "lines",
         "type": "scatter",
         "x": [
          200,
          84
         ],
         "y": [
          200,
          128
         ]
        },
        {
         "line": {
          "color": "green",
          "width": 2
         },
         "mode": "lines",
         "type": "scatter",
         "x": [
          1400,
          1492
         ],
         "y": [
          1000,
          1293
         ]
        },
        {
         "line": {
          "color": "green",
          "width": 2
         },
         "mode": "lines",
         "type": "scatter",
         "x": [
          1000,
          1125
         ],
         "y": [
          600,
          517
         ]
        },
        {
         "line": {
          "color": "green",
          "width": 2
         },
         "mode": "lines",
         "type": "scatter",
         "x": [
          600,
          765
         ],
         "y": [
          200,
          121
         ]
        },
        {
         "line": {
          "color": "green",
          "width": 2
         },
         "mode": "lines",
         "type": "scatter",
         "x": [
          1400,
          1099
         ],
         "y": [
          1400,
          1056
         ]
        },
        {
         "line": {
          "color": "red",
          "width": 2
         },
         "mode": "lines",
         "type": "scatter",
         "x": [
          600,
          701
         ],
         "y": [
          200,
          541
         ]
        },
        {
         "line": {
          "color": "green",
          "width": 2
         },
         "mode": "lines",
         "type": "scatter",
         "x": [
          1400,
          1498
         ],
         "y": [
          1000,
          811
         ]
        },
        {
         "line": {
          "color": "green",
          "width": 2
         },
         "mode": "lines",
         "type": "scatter",
         "x": [
          1000,
          971
         ],
         "y": [
          1000,
          902
         ]
        },
        {
         "line": {
          "color": "green",
          "width": 2
         },
         "mode": "lines",
         "type": "scatter",
         "x": [
          1000,
          920
         ],
         "y": [
          600,
          636
         ]
        },
        {
         "line": {
          "color": "red",
          "width": 2
         },
         "mode": "lines",
         "type": "scatter",
         "x": [
          600,
          588
         ],
         "y": [
          200,
          510
         ]
        },
        {
         "line": {
          "color": "green",
          "width": 2
         },
         "mode": "lines",
         "type": "scatter",
         "x": [
          200,
          167
         ],
         "y": [
          200,
          169
         ]
        },
        {
         "line": {
          "color": "green",
          "width": 2
         },
         "mode": "lines",
         "type": "scatter",
         "x": [
          1400,
          1395
         ],
         "y": [
          200,
          291
         ]
        },
        {
         "line": {
          "color": "green",
          "width": 2
         },
         "mode": "lines",
         "type": "scatter",
         "x": [
          200,
          52
         ],
         "y": [
          600,
          919
         ]
        },
        {
         "line": {
          "color": "green",
          "width": 2
         },
         "mode": "lines",
         "type": "scatter",
         "x": [
          200,
          46
         ],
         "y": [
          1000,
          714
         ]
        },
        {
         "line": {
          "color": "green",
          "width": 2
         },
         "mode": "lines",
         "type": "scatter",
         "x": [
          1000,
          1053
         ],
         "y": [
          600,
          657
         ]
        },
        {
         "line": {
          "color": "red",
          "width": 2
         },
         "mode": "lines",
         "type": "scatter",
         "x": [
          600,
          650
         ],
         "y": [
          1000,
          942
         ]
        },
        {
         "line": {
          "color": "green",
          "width": 2
         },
         "mode": "lines",
         "type": "scatter",
         "x": [
          600,
          683
         ],
         "y": [
          1000,
          939
         ]
        },
        {
         "line": {
          "color": "green",
          "width": 2
         },
         "mode": "lines",
         "type": "scatter",
         "x": [
          200,
          203
         ],
         "y": [
          600,
          561
         ]
        },
        {
         "line": {
          "color": "green",
          "width": 2
         },
         "mode": "lines",
         "type": "scatter",
         "x": [
          600,
          247
         ],
         "y": [
          200,
          154
         ]
        },
        {
         "line": {
          "color": "green",
          "width": 2
         },
         "mode": "lines",
         "type": "scatter",
         "x": [
          600,
          659
         ],
         "y": [
          1400,
          1203
         ]
        },
        {
         "line": {
          "color": "green",
          "width": 2
         },
         "mode": "lines",
         "type": "scatter",
         "x": [
          1000,
          1027
         ],
         "y": [
          1400,
          1587
         ]
        },
        {
         "line": {
          "color": "green",
          "width": 2
         },
         "mode": "lines",
         "type": "scatter",
         "x": [
          1000,
          1155
         ],
         "y": [
          1400,
          1463
         ]
        },
        {
         "line": {
          "color": "green",
          "width": 2
         },
         "mode": "lines",
         "type": "scatter",
         "x": [
          1000,
          925
         ],
         "y": [
          1000,
          753
         ]
        },
        {
         "line": {
          "color": "green",
          "width": 2
         },
         "mode": "lines",
         "type": "scatter",
         "x": [
          600,
          747
         ],
         "y": [
          200,
          79
         ]
        },
        {
         "line": {
          "color": "green",
          "width": 2
         },
         "mode": "lines",
         "type": "scatter",
         "x": [
          1400,
          1193
         ],
         "y": [
          1400,
          1439
         ]
        },
        {
         "line": {
          "color": "green",
          "width": 2
         },
         "mode": "lines",
         "type": "scatter",
         "x": [
          1400,
          1103
         ],
         "y": [
          1000,
          1067
         ]
        },
        {
         "line": {
          "color": "green",
          "width": 2
         },
         "mode": "lines",
         "type": "scatter",
         "x": [
          1000,
          944
         ],
         "y": [
          1400,
          1502
         ]
        },
        {
         "line": {
          "color": "green",
          "width": 2
         },
         "mode": "lines",
         "type": "scatter",
         "x": [
          600,
          618
         ],
         "y": [
          1000,
          1198
         ]
        },
        {
         "line": {
          "color": "green",
          "width": 2
         },
         "mode": "lines",
         "type": "scatter",
         "x": [
          600,
          922
         ],
         "y": [
          200,
          154
         ]
        },
        {
         "line": {
          "color": "green",
          "width": 2
         },
         "mode": "lines",
         "type": "scatter",
         "x": [
          600,
          672
         ],
         "y": [
          1400,
          1072
         ]
        },
        {
         "line": {
          "color": "green",
          "width": 2
         },
         "mode": "lines",
         "type": "scatter",
         "x": [
          200,
          126
         ],
         "y": [
          600,
          332
         ]
        },
        {
         "line": {
          "color": "red",
          "width": 2
         },
         "mode": "lines",
         "type": "scatter",
         "x": [
          600,
          546
         ],
         "y": [
          600,
          858
         ]
        },
        {
         "line": {
          "color": "green",
          "width": 2
         },
         "mode": "lines",
         "type": "scatter",
         "x": [
          200,
          119
         ],
         "y": [
          600,
          444
         ]
        },
        {
         "line": {
          "color": "red",
          "width": 2
         },
         "mode": "lines",
         "type": "scatter",
         "x": [
          600,
          897
         ],
         "y": [
          1000,
          852
         ]
        },
        {
         "line": {
          "color": "green",
          "width": 2
         },
         "mode": "lines",
         "type": "scatter",
         "x": [
          1400,
          1491
         ],
         "y": [
          200,
          12
         ]
        },
        {
         "line": {
          "color": "green",
          "width": 2
         },
         "mode": "lines",
         "type": "scatter",
         "x": [
          1000,
          800
         ],
         "y": [
          1000,
          1120
         ]
        },
        {
         "line": {
          "color": "green",
          "width": 2
         },
         "mode": "lines",
         "type": "scatter",
         "x": [
          1000,
          1185
         ],
         "y": [
          1000,
          1064
         ]
        },
        {
         "line": {
          "color": "green",
          "width": 2
         },
         "mode": "lines",
         "type": "scatter",
         "x": [
          600,
          615
         ],
         "y": [
          1000,
          941
         ]
        },
        {
         "line": {
          "color": "green",
          "width": 2
         },
         "mode": "lines",
         "type": "scatter",
         "x": [
          1400,
          1167
         ],
         "y": [
          1000,
          938
         ]
        },
        {
         "line": {
          "color": "green",
          "width": 2
         },
         "mode": "lines",
         "type": "scatter",
         "x": [
          200,
          270
         ],
         "y": [
          1000,
          1064
         ]
        },
        {
         "line": {
          "color": "green",
          "width": 2
         },
         "mode": "lines",
         "type": "scatter",
         "x": [
          200,
          537
         ],
         "y": [
          1000,
          814
         ]
        },
        {
         "line": {
          "color": "green",
          "width": 2
         },
         "mode": "lines",
         "type": "scatter",
         "x": [
          1000,
          816
         ],
         "y": [
          1000,
          1008
         ]
        },
        {
         "line": {
          "color": "green",
          "width": 2
         },
         "mode": "lines",
         "type": "scatter",
         "x": [
          1400,
          1379
         ],
         "y": [
          1400,
          1306
         ]
        },
        {
         "line": {
          "color": "green",
          "width": 2
         },
         "mode": "lines",
         "type": "scatter",
         "x": [
          600,
          626
         ],
         "y": [
          600,
          781
         ]
        },
        {
         "line": {
          "color": "red",
          "width": 2
         },
         "mode": "lines",
         "type": "scatter",
         "x": [
          1000,
          836
         ],
         "y": [
          1000,
          675
         ]
        },
        {
         "line": {
          "color": "red",
          "width": 2
         },
         "mode": "lines",
         "type": "scatter",
         "x": [
          600,
          851
         ],
         "y": [
          1000,
          852
         ]
        },
        {
         "line": {
          "color": "red",
          "width": 2
         },
         "mode": "lines",
         "type": "scatter",
         "x": [
          600,
          609
         ],
         "y": [
          1000,
          686
         ]
        },
        {
         "line": {
          "color": "green",
          "width": 2
         },
         "mode": "lines",
         "type": "scatter",
         "x": [
          1000,
          840
         ],
         "y": [
          600,
          749
         ]
        },
        {
         "line": {
          "color": "green",
          "width": 2
         },
         "mode": "lines",
         "type": "scatter",
         "x": [
          1000,
          1092
         ],
         "y": [
          600,
          360
         ]
        },
        {
         "line": {
          "color": "green",
          "width": 2
         },
         "mode": "lines",
         "type": "scatter",
         "x": [
          200,
          281
         ],
         "y": [
          200,
          138
         ]
        },
        {
         "line": {
          "color": "green",
          "width": 2
         },
         "mode": "lines",
         "type": "scatter",
         "x": [
          200,
          86
         ],
         "y": [
          600,
          688
         ]
        },
        {
         "line": {
          "color": "green",
          "width": 2
         },
         "mode": "lines",
         "type": "scatter",
         "x": [
          600,
          491
         ],
         "y": [
          200,
          277
         ]
        },
        {
         "line": {
          "color": "green",
          "width": 2
         },
         "mode": "lines",
         "type": "scatter",
         "x": [
          200,
          356
         ],
         "y": [
          600,
          607
         ]
        },
        {
         "line": {
          "color": "green",
          "width": 2
         },
         "mode": "lines",
         "type": "scatter",
         "x": [
          600,
          351
         ],
         "y": [
          1400,
          1595
         ]
        },
        {
         "line": {
          "color": "green",
          "width": 2
         },
         "mode": "lines",
         "type": "scatter",
         "x": [
          1000,
          1084
         ],
         "y": [
          200,
          117
         ]
        },
        {
         "line": {
          "color": "green",
          "width": 2
         },
         "mode": "lines",
         "type": "scatter",
         "x": [
          200,
          168
         ],
         "y": [
          600,
          945
         ]
        },
        {
         "line": {
          "color": "red",
          "width": 2
         },
         "mode": "lines",
         "type": "scatter",
         "x": [
          600,
          768
         ],
         "y": [
          1000,
          1028
         ]
        },
        {
         "line": {
          "color": "green",
          "width": 2
         },
         "mode": "lines",
         "type": "scatter",
         "x": [
          1400,
          1406
         ],
         "y": [
          1000,
          620
         ]
        },
        {
         "line": {
          "color": "green",
          "width": 2
         },
         "mode": "lines",
         "type": "scatter",
         "x": [
          1400,
          1491
         ],
         "y": [
          200,
          133
         ]
        },
        {
         "line": {
          "color": "green",
          "width": 2
         },
         "mode": "lines",
         "type": "scatter",
         "x": [
          1000,
          826
         ],
         "y": [
          1400,
          1532
         ]
        },
        {
         "line": {
          "color": "green",
          "width": 2
         },
         "mode": "lines",
         "type": "scatter",
         "x": [
          1400,
          1584
         ],
         "y": [
          1400,
          1048
         ]
        },
        {
         "line": {
          "color": "green",
          "width": 2
         },
         "mode": "lines",
         "type": "scatter",
         "x": [
          1000,
          1069
         ],
         "y": [
          1000,
          803
         ]
        },
        {
         "line": {
          "color": "green",
          "width": 2
         },
         "mode": "lines",
         "type": "scatter",
         "x": [
          600,
          539
         ],
         "y": [
          1400,
          1096
         ]
        },
        {
         "line": {
          "color": "green",
          "width": 2
         },
         "mode": "lines",
         "type": "scatter",
         "x": [
          200,
          514
         ],
         "y": [
          600,
          827
         ]
        },
        {
         "line": {
          "color": "red",
          "width": 2
         },
         "mode": "lines",
         "type": "scatter",
         "x": [
          600,
          590
         ],
         "y": [
          1000,
          965
         ]
        },
        {
         "line": {
          "color": "green",
          "width": 2
         },
         "mode": "lines",
         "type": "scatter",
         "x": [
          1000,
          819
         ],
         "y": [
          600,
          478
         ]
        },
        {
         "line": {
          "color": "green",
          "width": 2
         },
         "mode": "lines",
         "type": "scatter",
         "x": [
          200,
          347
         ],
         "y": [
          1000,
          972
         ]
        },
        {
         "line": {
          "color": "red",
          "width": 2
         },
         "mode": "lines",
         "type": "scatter",
         "x": [
          1000,
          796
         ],
         "y": [
          600,
          546
         ]
        },
        {
         "line": {
          "color": "green",
          "width": 2
         },
         "mode": "lines",
         "type": "scatter",
         "x": [
          200,
          339
         ],
         "y": [
          600,
          568
         ]
        },
        {
         "line": {
          "color": "green",
          "width": 2
         },
         "mode": "lines",
         "type": "scatter",
         "x": [
          600,
          933
         ],
         "y": [
          200,
          179
         ]
        },
        {
         "line": {
          "color": "green",
          "width": 2
         },
         "mode": "lines",
         "type": "scatter",
         "x": [
          200,
          81
         ],
         "y": [
          600,
          906
         ]
        },
        {
         "line": {
          "color": "green",
          "width": 2
         },
         "mode": "lines",
         "type": "scatter",
         "x": [
          200,
          138
         ],
         "y": [
          1000,
          1080
         ]
        },
        {
         "line": {
          "color": "green",
          "width": 2
         },
         "mode": "lines",
         "type": "scatter",
         "x": [
          200,
          42
         ],
         "y": [
          600,
          510
         ]
        },
        {
         "line": {
          "color": "green",
          "width": 2
         },
         "mode": "lines",
         "type": "scatter",
         "x": [
          200,
          208
         ],
         "y": [
          1400,
          1568
         ]
        },
        {
         "line": {
          "color": "green",
          "width": 2
         },
         "mode": "lines",
         "type": "scatter",
         "x": [
          600,
          259
         ],
         "y": [
          600,
          472
         ]
        },
        {
         "line": {
          "color": "green",
          "width": 2
         },
         "mode": "lines",
         "type": "scatter",
         "x": [
          1400,
          1555
         ],
         "y": [
          600,
          700
         ]
        },
        {
         "line": {
          "color": "green",
          "width": 2
         },
         "mode": "lines",
         "type": "scatter",
         "x": [
          1000,
          995
         ],
         "y": [
          1400,
          1547
         ]
        },
        {
         "line": {
          "color": "green",
          "width": 2
         },
         "mode": "lines",
         "type": "scatter",
         "x": [
          1400,
          1472
         ],
         "y": [
          200,
          287
         ]
        },
        {
         "line": {
          "color": "green",
          "width": 2
         },
         "mode": "lines",
         "type": "scatter",
         "x": [
          600,
          728
         ],
         "y": [
          200,
          334
         ]
        },
        {
         "line": {
          "color": "green",
          "width": 2
         },
         "mode": "lines",
         "type": "scatter",
         "x": [
          200,
          414
         ],
         "y": [
          200,
          32
         ]
        },
        {
         "line": {
          "color": "green",
          "width": 2
         },
         "mode": "lines",
         "type": "scatter",
         "x": [
          200,
          199
         ],
         "y": [
          200,
          214
         ]
        },
        {
         "line": {
          "color": "green",
          "width": 2
         },
         "mode": "lines",
         "type": "scatter",
         "x": [
          1000,
          1138
         ],
         "y": [
          600,
          575
         ]
        },
        {
         "line": {
          "color": "red",
          "width": 2
         },
         "mode": "lines",
         "type": "scatter",
         "x": [
          200,
          521
         ],
         "y": [
          600,
          949
         ]
        },
        {
         "line": {
          "color": "green",
          "width": 2
         },
         "mode": "lines",
         "type": "scatter",
         "x": [
          1000,
          696
         ],
         "y": [
          1000,
          1241
         ]
        },
        {
         "line": {
          "color": "green",
          "width": 2
         },
         "mode": "lines",
         "type": "scatter",
         "x": [
          1400,
          1382
         ],
         "y": [
          600,
          596
         ]
        },
        {
         "line": {
          "color": "green",
          "width": 2
         },
         "mode": "lines",
         "type": "scatter",
         "x": [
          1000,
          1240
         ],
         "y": [
          1000,
          1188
         ]
        },
        {
         "line": {
          "color": "red",
          "width": 2
         },
         "mode": "lines",
         "type": "scatter",
         "x": [
          1000,
          1057
         ],
         "y": [
          1000,
          989
         ]
        },
        {
         "line": {
          "color": "green",
          "width": 2
         },
         "mode": "lines",
         "type": "scatter",
         "x": [
          200,
          302
         ],
         "y": [
          1400,
          1508
         ]
        },
        {
         "line": {
          "color": "green",
          "width": 2
         },
         "mode": "lines",
         "type": "scatter",
         "x": [
          1000,
          698
         ],
         "y": [
          600,
          536
         ]
        },
        {
         "line": {
          "color": "green",
          "width": 2
         },
         "mode": "lines",
         "type": "scatter",
         "x": [
          600,
          575
         ],
         "y": [
          1400,
          1452
         ]
        },
        {
         "line": {
          "color": "green",
          "width": 2
         },
         "mode": "lines",
         "type": "scatter",
         "x": [
          1400,
          1499
         ],
         "y": [
          600,
          416
         ]
        },
        {
         "line": {
          "color": "green",
          "width": 2
         },
         "mode": "lines",
         "type": "scatter",
         "x": [
          200,
          242
         ],
         "y": [
          600,
          596
         ]
        },
        {
         "line": {
          "color": "green",
          "width": 2
         },
         "mode": "lines",
         "type": "scatter",
         "x": [
          1400,
          1451
         ],
         "y": [
          600,
          528
         ]
        },
        {
         "line": {
          "color": "green",
          "width": 2
         },
         "mode": "lines",
         "type": "scatter",
         "x": [
          200,
          171
         ],
         "y": [
          1400,
          1237
         ]
        },
        {
         "line": {
          "color": "green",
          "width": 2
         },
         "mode": "lines",
         "type": "scatter",
         "x": [
          1400,
          1538
         ],
         "y": [
          1000,
          959
         ]
        },
        {
         "line": {
          "color": "green",
          "width": 2
         },
         "mode": "lines",
         "type": "scatter",
         "x": [
          600,
          569
         ],
         "y": [
          600,
          633
         ]
        },
        {
         "line": {
          "color": "green",
          "width": 2
         },
         "mode": "lines",
         "type": "scatter",
         "x": [
          600,
          677
         ],
         "y": [
          1400,
          1091
         ]
        },
        {
         "line": {
          "color": "green",
          "width": 2
         },
         "mode": "lines",
         "type": "scatter",
         "x": [
          1000,
          972
         ],
         "y": [
          1000,
          855
         ]
        },
        {
         "line": {
          "color": "green",
          "width": 2
         },
         "mode": "lines",
         "type": "scatter",
         "x": [
          1000,
          951
         ],
         "y": [
          1000,
          914
         ]
        },
        {
         "line": {
          "color": "green",
          "width": 2
         },
         "mode": "lines",
         "type": "scatter",
         "x": [
          200,
          294
         ],
         "y": [
          1400,
          1443
         ]
        },
        {
         "line": {
          "color": "red",
          "width": 2
         },
         "mode": "lines",
         "type": "scatter",
         "x": [
          600,
          651
         ],
         "y": [
          600,
          728
         ]
        },
        {
         "line": {
          "color": "green",
          "width": 2
         },
         "mode": "lines",
         "type": "scatter",
         "x": [
          600,
          773
         ],
         "y": [
          1000,
          807
         ]
        },
        {
         "line": {
          "color": "green",
          "width": 2
         },
         "mode": "lines",
         "type": "scatter",
         "x": [
          200,
          134
         ],
         "y": [
          1000,
          1000
         ]
        },
        {
         "line": {
          "color": "green",
          "width": 2
         },
         "mode": "lines",
         "type": "scatter",
         "x": [
          200,
          158
         ],
         "y": [
          600,
          746
         ]
        },
        {
         "line": {
          "color": "green",
          "width": 2
         },
         "mode": "lines",
         "type": "scatter",
         "x": [
          600,
          629
         ],
         "y": [
          200,
          150
         ]
        },
        {
         "line": {
          "color": "green",
          "width": 2
         },
         "mode": "lines",
         "type": "scatter",
         "x": [
          1000,
          847
         ],
         "y": [
          200,
          114
         ]
        },
        {
         "line": {
          "color": "green",
          "width": 2
         },
         "mode": "lines",
         "type": "scatter",
         "x": [
          1400,
          1392
         ],
         "y": [
          1000,
          847
         ]
        },
        {
         "line": {
          "color": "green",
          "width": 2
         },
         "mode": "lines",
         "type": "scatter",
         "x": [
          600,
          524
         ],
         "y": [
          200,
          222
         ]
        },
        {
         "line": {
          "color": "green",
          "width": 2
         },
         "mode": "lines",
         "type": "scatter",
         "x": [
          200,
          222
         ],
         "y": [
          600,
          630
         ]
        },
        {
         "line": {
          "color": "green",
          "width": 2
         },
         "mode": "lines",
         "type": "scatter",
         "x": [
          1000,
          1178
         ],
         "y": [
          200,
          385
         ]
        },
        {
         "line": {
          "color": "green",
          "width": 2
         },
         "mode": "lines",
         "type": "scatter",
         "x": [
          1400,
          1361
         ],
         "y": [
          1000,
          851
         ]
        },
        {
         "line": {
          "color": "green",
          "width": 2
         },
         "mode": "lines",
         "type": "scatter",
         "x": [
          600,
          752
         ],
         "y": [
          1400,
          1246
         ]
        },
        {
         "line": {
          "color": "green",
          "width": 2
         },
         "mode": "lines",
         "type": "scatter",
         "x": [
          1000,
          829
         ],
         "y": [
          1000,
          1386
         ]
        },
        {
         "line": {
          "color": "green",
          "width": 2
         },
         "mode": "lines",
         "type": "scatter",
         "x": [
          200,
          171
         ],
         "y": [
          1400,
          1468
         ]
        },
        {
         "line": {
          "color": "red",
          "width": 2
         },
         "mode": "lines",
         "type": "scatter",
         "x": [
          600,
          516
         ],
         "y": [
          600,
          896
         ]
        },
        {
         "line": {
          "color": "green",
          "width": 2
         },
         "mode": "lines",
         "type": "scatter",
         "x": [
          1000,
          1021
         ],
         "y": [
          600,
          660
         ]
        },
        {
         "line": {
          "color": "green",
          "width": 2
         },
         "mode": "lines",
         "type": "scatter",
         "x": [
          600,
          594
         ],
         "y": [
          1000,
          672
         ]
        },
        {
         "line": {
          "color": "green",
          "width": 2
         },
         "mode": "lines",
         "type": "scatter",
         "x": [
          200,
          186
         ],
         "y": [
          1400,
          1415
         ]
        },
        {
         "line": {
          "color": "green",
          "width": 2
         },
         "mode": "lines",
         "type": "scatter",
         "x": [
          200,
          162
         ],
         "y": [
          200,
          172
         ]
        },
        {
         "line": {
          "color": "green",
          "width": 2
         },
         "mode": "lines",
         "type": "scatter",
         "x": [
          1400,
          1594
         ],
         "y": [
          1400,
          1461
         ]
        },
        {
         "line": {
          "color": "green",
          "width": 2
         },
         "mode": "lines",
         "type": "scatter",
         "x": [
          1000,
          921
         ],
         "y": [
          600,
          543
         ]
        },
        {
         "line": {
          "color": "green",
          "width": 2
         },
         "mode": "lines",
         "type": "scatter",
         "x": [
          200,
          591
         ],
         "y": [
          1000,
          1070
         ]
        },
        {
         "line": {
          "color": "green",
          "width": 2
         },
         "mode": "lines",
         "type": "scatter",
         "x": [
          600,
          609
         ],
         "y": [
          1400,
          1341
         ]
        },
        {
         "line": {
          "color": "green",
          "width": 2
         },
         "mode": "lines",
         "type": "scatter",
         "x": [
          1400,
          1450
         ],
         "y": [
          200,
          69
         ]
        },
        {
         "line": {
          "color": "red",
          "width": 2
         },
         "mode": "lines",
         "type": "scatter",
         "x": [
          1000,
          796
         ],
         "y": [
          600,
          546
         ]
        },
        {
         "line": {
          "color": "green",
          "width": 2
         },
         "mode": "lines",
         "type": "scatter",
         "x": [
          600,
          338
         ],
         "y": [
          1000,
          687
         ]
        },
        {
         "line": {
          "color": "green",
          "width": 2
         },
         "mode": "lines",
         "type": "scatter",
         "x": [
          600,
          426
         ],
         "y": [
          1400,
          1332
         ]
        },
        {
         "line": {
          "color": "green",
          "width": 2
         },
         "mode": "lines",
         "type": "scatter",
         "x": [
          1400,
          1294
         ],
         "y": [
          600,
          579
         ]
        },
        {
         "line": {
          "color": "green",
          "width": 2
         },
         "mode": "lines",
         "type": "scatter",
         "x": [
          1400,
          1252
         ],
         "y": [
          1000,
          1148
         ]
        },
        {
         "line": {
          "color": "red",
          "width": 2
         },
         "mode": "lines",
         "type": "scatter",
         "x": [
          1000,
          906
         ],
         "y": [
          600,
          555
         ]
        },
        {
         "line": {
          "color": "green",
          "width": 2
         },
         "mode": "lines",
         "type": "scatter",
         "x": [
          600,
          632
         ],
         "y": [
          600,
          538
         ]
        },
        {
         "line": {
          "color": "green",
          "width": 2
         },
         "mode": "lines",
         "type": "scatter",
         "x": [
          1400,
          1238
         ],
         "y": [
          200,
          210
         ]
        },
        {
         "line": {
          "color": "green",
          "width": 2
         },
         "mode": "lines",
         "type": "scatter",
         "x": [
          200,
          249
         ],
         "y": [
          200,
          101
         ]
        },
        {
         "line": {
          "color": "green",
          "width": 2
         },
         "mode": "lines",
         "type": "scatter",
         "x": [
          1000,
          648
         ],
         "y": [
          1400,
          1449
         ]
        },
        {
         "line": {
          "color": "green",
          "width": 2
         },
         "mode": "lines",
         "type": "scatter",
         "x": [
          200,
          307
         ],
         "y": [
          1400,
          1262
         ]
        },
        {
         "line": {
          "color": "green",
          "width": 2
         },
         "mode": "lines",
         "type": "scatter",
         "x": [
          1000,
          1039
         ],
         "y": [
          1000,
          1084
         ]
        },
        {
         "line": {
          "color": "red",
          "width": 2
         },
         "mode": "lines",
         "type": "scatter",
         "x": [
          1000,
          1062
         ],
         "y": [
          1000,
          999
         ]
        },
        {
         "line": {
          "color": "red",
          "width": 2
         },
         "mode": "lines",
         "type": "scatter",
         "x": [
          600,
          818
         ],
         "y": [
          1000,
          887
         ]
        },
        {
         "line": {
          "color": "red",
          "width": 2
         },
         "mode": "lines",
         "type": "scatter",
         "x": [
          1000,
          956
         ],
         "y": [
          1000,
          674
         ]
        },
        {
         "line": {
          "color": "green",
          "width": 2
         },
         "mode": "lines",
         "type": "scatter",
         "x": [
          1000,
          985
         ],
         "y": [
          1400,
          1464
         ]
        },
        {
         "line": {
          "color": "green",
          "width": 2
         },
         "mode": "lines",
         "type": "scatter",
         "x": [
          1000,
          1084
         ],
         "y": [
          1400,
          1162
         ]
        },
        {
         "line": {
          "color": "green",
          "width": 2
         },
         "mode": "lines",
         "type": "scatter",
         "x": [
          1000,
          990
         ],
         "y": [
          1000,
          802
         ]
        },
        {
         "line": {
          "color": "green",
          "width": 2
         },
         "mode": "lines",
         "type": "scatter",
         "x": [
          1000,
          1139
         ],
         "y": [
          200,
          437
         ]
        },
        {
         "line": {
          "color": "red",
          "width": 2
         },
         "mode": "lines",
         "type": "scatter",
         "x": [
          1000,
          1091
         ],
         "y": [
          600,
          817
         ]
        },
        {
         "line": {
          "color": "red",
          "width": 2
         },
         "mode": "lines",
         "type": "scatter",
         "x": [
          1000,
          968
         ],
         "y": [
          1000,
          635
         ]
        },
        {
         "line": {
          "color": "green",
          "width": 2
         },
         "mode": "lines",
         "type": "scatter",
         "x": [
          1000,
          1153
         ],
         "y": [
          200,
          436
         ]
        },
        {
         "line": {
          "color": "green",
          "width": 2
         },
         "mode": "lines",
         "type": "scatter",
         "x": [
          1000,
          1180
         ],
         "y": [
          1000,
          756
         ]
        },
        {
         "line": {
          "color": "green",
          "width": 2
         },
         "mode": "lines",
         "type": "scatter",
         "x": [
          600,
          545
         ],
         "y": [
          200,
          268
         ]
        },
        {
         "line": {
          "color": "green",
          "width": 2
         },
         "mode": "lines",
         "type": "scatter",
         "x": [
          1400,
          1317
         ],
         "y": [
          1000,
          862
         ]
        },
        {
         "line": {
          "color": "green",
          "width": 2
         },
         "mode": "lines",
         "type": "scatter",
         "x": [
          600,
          629
         ],
         "y": [
          1400,
          1379
         ]
        },
        {
         "line": {
          "color": "green",
          "width": 2
         },
         "mode": "lines",
         "type": "scatter",
         "x": [
          1000,
          1134
         ],
         "y": [
          1400,
          1461
         ]
        },
        {
         "line": {
          "color": "green",
          "width": 2
         },
         "mode": "lines",
         "type": "scatter",
         "x": [
          600,
          733
         ],
         "y": [
          1000,
          778
         ]
        },
        {
         "line": {
          "color": "green",
          "width": 2
         },
         "mode": "lines",
         "type": "scatter",
         "x": [
          200,
          201
         ],
         "y": [
          600,
          746
         ]
        },
        {
         "line": {
          "color": "green",
          "width": 2
         },
         "mode": "lines",
         "type": "scatter",
         "x": [
          600,
          536
         ],
         "y": [
          200,
          139
         ]
        },
        {
         "line": {
          "color": "red",
          "width": 2
         },
         "mode": "lines",
         "type": "scatter",
         "x": [
          600,
          675
         ],
         "y": [
          1000,
          883
         ]
        },
        {
         "line": {
          "color": "green",
          "width": 2
         },
         "mode": "lines",
         "type": "scatter",
         "x": [
          200,
          249
         ],
         "y": [
          1000,
          942
         ]
        },
        {
         "line": {
          "color": "green",
          "width": 2
         },
         "mode": "lines",
         "type": "scatter",
         "x": [
          1400,
          1530
         ],
         "y": [
          1400,
          1118
         ]
        },
        {
         "line": {
          "color": "green",
          "width": 2
         },
         "mode": "lines",
         "type": "scatter",
         "x": [
          200,
          191
         ],
         "y": [
          1000,
          913
         ]
        },
        {
         "line": {
          "color": "green",
          "width": 2
         },
         "mode": "lines",
         "type": "scatter",
         "x": [
          1400,
          1067
         ],
         "y": [
          200,
          529
         ]
        },
        {
         "line": {
          "color": "green",
          "width": 2
         },
         "mode": "lines",
         "type": "scatter",
         "x": [
          1000,
          1105
         ],
         "y": [
          200,
          145
         ]
        },
        {
         "line": {
          "color": "green",
          "width": 2
         },
         "mode": "lines",
         "type": "scatter",
         "x": [
          200,
          209
         ],
         "y": [
          1400,
          1255
         ]
        },
        {
         "line": {
          "color": "green",
          "width": 2
         },
         "mode": "lines",
         "type": "scatter",
         "x": [
          200,
          232
         ],
         "y": [
          1400,
          1591
         ]
        },
        {
         "line": {
          "color": "green",
          "width": 2
         },
         "mode": "lines",
         "type": "scatter",
         "x": [
          1000,
          845
         ],
         "y": [
          1000,
          1116
         ]
        },
        {
         "line": {
          "color": "red",
          "width": 2
         },
         "mode": "lines",
         "type": "scatter",
         "x": [
          1000,
          634
         ],
         "y": [
          600,
          627
         ]
        },
        {
         "line": {
          "color": "green",
          "width": 2
         },
         "mode": "lines",
         "type": "scatter",
         "x": [
          1000,
          1120
         ],
         "y": [
          1000,
          910
         ]
        },
        {
         "line": {
          "color": "black",
          "width": 2
         },
         "mode": "lines",
         "type": "scatter",
         "x": [
          812,
          812
         ],
         "y": [
          0,
          1600
         ]
        },
        {
         "line": {
          "color": "black",
          "width": 2
         },
         "mode": "lines",
         "type": "scatter",
         "x": [
          812,
          912
         ],
         "y": [
          1600,
          1600
         ]
        },
        {
         "line": {
          "color": "black",
          "width": 2
         },
         "mode": "lines",
         "type": "scatter",
         "x": [
          912,
          912
         ],
         "y": [
          1600,
          0
         ]
        },
        {
         "line": {
          "color": "black",
          "width": 2
         },
         "mode": "lines",
         "type": "scatter",
         "x": [
          812,
          912
         ],
         "y": [
          0,
          0
         ]
        },
        {
         "line": {
          "color": "black",
          "width": 2
         },
         "mode": "lines",
         "type": "scatter",
         "x": [
          0,
          0
         ],
         "y": [
          257,
          357
         ]
        },
        {
         "line": {
          "color": "black",
          "width": 2
         },
         "mode": "lines",
         "type": "scatter",
         "x": [
          0,
          1600
         ],
         "y": [
          357,
          357
         ]
        },
        {
         "line": {
          "color": "black",
          "width": 2
         },
         "mode": "lines",
         "type": "scatter",
         "x": [
          1600,
          1600
         ],
         "y": [
          357,
          257
         ]
        },
        {
         "line": {
          "color": "black",
          "width": 2
         },
         "mode": "lines",
         "type": "scatter",
         "x": [
          0,
          1600
         ],
         "y": [
          257,
          257
         ]
        },
        {
         "line": {
          "color": "black",
          "width": 2
         },
         "mode": "lines",
         "type": "scatter",
         "x": [
          0,
          0
         ],
         "y": [
          85,
          185
         ]
        },
        {
         "line": {
          "color": "black",
          "width": 2
         },
         "mode": "lines",
         "type": "scatter",
         "x": [
          0,
          1600
         ],
         "y": [
          185,
          185
         ]
        },
        {
         "line": {
          "color": "black",
          "width": 2
         },
         "mode": "lines",
         "type": "scatter",
         "x": [
          1600,
          1600
         ],
         "y": [
          185,
          85
         ]
        },
        {
         "line": {
          "color": "black",
          "width": 2
         },
         "mode": "lines",
         "type": "scatter",
         "x": [
          0,
          1600
         ],
         "y": [
          85,
          85
         ]
        },
        {
         "line": {
          "color": "black",
          "width": 2
         },
         "mode": "lines",
         "type": "scatter",
         "x": [
          465,
          465
         ],
         "y": [
          80,
          260
         ]
        },
        {
         "line": {
          "color": "black",
          "width": 2
         },
         "mode": "lines",
         "type": "scatter",
         "x": [
          465,
          556
         ],
         "y": [
          260,
          260
         ]
        },
        {
         "line": {
          "color": "black",
          "width": 2
         },
         "mode": "lines",
         "type": "scatter",
         "x": [
          556,
          556
         ],
         "y": [
          260,
          80
         ]
        },
        {
         "line": {
          "color": "black",
          "width": 2
         },
         "mode": "lines",
         "type": "scatter",
         "x": [
          465,
          556
         ],
         "y": [
          80,
          80
         ]
        },
        {
         "marker": {
          "color": [
           "orange",
           "orange",
           "orange",
           "orange",
           "orange",
           "orange",
           "orange",
           "orange",
           "orange",
           "orange",
           "orange",
           "orange",
           "orange",
           "orange",
           "orange",
           "orange",
           "blue",
           "magenta",
           "magenta",
           "blue",
           "magenta",
           "magenta",
           "magenta",
           "blue",
           "magenta",
           "magenta",
           "magenta",
           "magenta",
           "blue",
           "magenta",
           "blue",
           "magenta",
           "blue",
           "blue",
           "blue",
           "magenta",
           "blue",
           "magenta",
           "magenta",
           "magenta",
           "magenta",
           "magenta",
           "blue",
           "magenta",
           "blue",
           "magenta",
           "magenta",
           "magenta",
           "magenta",
           "blue",
           "blue",
           "magenta",
           "magenta",
           "magenta",
           "magenta",
           "magenta",
           "blue",
           "magenta",
           "magenta",
           "blue",
           "blue",
           "magenta",
           "magenta",
           "magenta",
           "magenta",
           "magenta",
           "blue",
           "blue",
           "magenta",
           "magenta",
           "magenta",
           "magenta",
           "magenta",
           "magenta",
           "magenta",
           "magenta",
           "magenta",
           "magenta",
           "magenta",
           "magenta",
           "magenta",
           "magenta",
           "blue",
           "magenta",
           "blue",
           "magenta",
           "magenta",
           "magenta",
           "blue",
           "magenta",
           "magenta",
           "magenta",
           "blue",
           "magenta",
           "magenta",
           "blue",
           "blue",
           "blue",
           "blue",
           "magenta",
           "magenta",
           "magenta",
           "magenta",
           "magenta",
           "magenta",
           "magenta",
           "magenta",
           "blue",
           "magenta",
           "magenta",
           "magenta",
           "magenta",
           "magenta",
           "blue",
           "magenta",
           "blue",
           "magenta",
           "magenta",
           "blue",
           "magenta",
           "magenta",
           "magenta",
           "magenta",
           "magenta",
           "magenta",
           "magenta",
           "magenta",
           "magenta",
           "magenta",
           "magenta",
           "magenta",
           "magenta",
           "magenta",
           "blue",
           "magenta",
           "magenta",
           "magenta",
           "blue",
           "magenta",
           "magenta",
           "magenta",
           "magenta",
           "magenta",
           "magenta",
           "magenta",
           "magenta",
           "blue",
           "blue",
           "magenta",
           "magenta",
           "magenta",
           "blue",
           "magenta",
           "magenta",
           "magenta",
           "magenta",
           "magenta",
           "magenta",
           "magenta",
           "magenta",
           "magenta",
           "magenta",
           "magenta",
           "magenta",
           "magenta",
           "blue",
           "blue",
           "magenta",
           "magenta",
           "magenta",
           "magenta",
           "magenta",
           "magenta",
           "magenta",
           "magenta",
           "blue",
           "magenta",
           "magenta",
           "magenta",
           "magenta",
           "blue",
           "blue",
           "magenta",
           "magenta",
           "magenta",
           "magenta",
           "magenta",
           "blue",
           "blue",
           "blue",
           "magenta",
           "magenta",
           "magenta",
           "magenta",
           "blue",
           "blue",
           "magenta",
           "magenta",
           "magenta",
           "magenta",
           "magenta",
           "magenta",
           "magenta",
           "magenta",
           "magenta",
           "blue",
           "magenta",
           "magenta",
           "magenta",
           "magenta",
           "magenta",
           "magenta",
           "magenta",
           "magenta",
           "blue",
           "magenta",
           "black",
           "black",
           "black",
           "black",
           "black",
           "black",
           "black",
           "black",
           "black",
           "black",
           "black",
           "black",
           "black",
           "black",
           "black",
           "black"
          ],
          "size": 8
         },
         "mode": "markers",
         "type": "scatter",
         "x": [
          200,
          200,
          200,
          200,
          600,
          600,
          600,
          600,
          1000,
          1000,
          1000,
          1000,
          1400,
          1400,
          1400,
          1400,
          953,
          1166,
          1178,
          1041,
          1381,
          499,
          12,
          602,
          706,
          1411,
          596,
          1292,
          529,
          1447,
          603,
          1464,
          959,
          748,
          691,
          742,
          702,
          372,
          921,
          37,
          861,
          1026,
          938,
          1599,
          667,
          269,
          1024,
          896,
          1527,
          1068,
          584,
          84,
          1492,
          1125,
          765,
          1099,
          701,
          1498,
          971,
          920,
          588,
          167,
          1395,
          52,
          46,
          1053,
          650,
          683,
          203,
          247,
          659,
          1027,
          1155,
          925,
          747,
          1193,
          1103,
          944,
          618,
          922,
          672,
          126,
          546,
          119,
          897,
          1491,
          800,
          1185,
          615,
          1167,
          270,
          537,
          816,
          1379,
          626,
          836,
          851,
          609,
          840,
          1092,
          281,
          86,
          491,
          356,
          351,
          1084,
          168,
          768,
          1406,
          1491,
          826,
          1584,
          1069,
          539,
          514,
          590,
          819,
          347,
          796,
          339,
          933,
          81,
          138,
          42,
          208,
          259,
          1555,
          995,
          1472,
          728,
          414,
          199,
          1138,
          521,
          696,
          1382,
          1240,
          1057,
          302,
          698,
          575,
          1499,
          242,
          1451,
          171,
          1538,
          569,
          677,
          972,
          951,
          294,
          651,
          773,
          134,
          158,
          629,
          847,
          1392,
          524,
          222,
          1178,
          1361,
          752,
          829,
          171,
          516,
          1021,
          594,
          186,
          162,
          1594,
          921,
          591,
          609,
          1450,
          796,
          338,
          426,
          1294,
          1252,
          906,
          632,
          1238,
          249,
          648,
          307,
          1039,
          1062,
          818,
          956,
          985,
          1084,
          990,
          1139,
          1091,
          968,
          1153,
          1180,
          545,
          1317,
          629,
          1134,
          733,
          201,
          536,
          675,
          249,
          1530,
          191,
          1067,
          1105,
          209,
          232,
          845,
          634,
          1120,
          812,
          812,
          912,
          912,
          0,
          0,
          1600,
          1600,
          0,
          0,
          1600,
          1600,
          465,
          465,
          556,
          556
         ],
         "y": [
          200,
          600,
          1000,
          1400,
          200,
          600,
          1000,
          1400,
          200,
          600,
          1000,
          1400,
          200,
          600,
          1000,
          1400,
          528,
          582,
          1287,
          1009,
          796,
          293,
          758,
          794,
          968,
          298,
          1204,
          423,
          562,
          655,
          500,
          148,
          915,
          664,
          1038,
          276,
          957,
          235,
          1158,
          504,
          876,
          377,
          629,
          1173,
          831,
          868,
          1578,
          1347,
          1130,
          853,
          1097,
          128,
          1293,
          517,
          121,
          1056,
          541,
          811,
          902,
          636,
          510,
          169,
          291,
          919,
          714,
          657,
          942,
          939,
          561,
          154,
          1203,
          1587,
          1463,
          753,
          79,
          1439,
          1067,
          1502,
          1198,
          154,
          1072,
          332,
          858,
          444,
          852,
          12,
          1120,
          1064,
          941,
          938,
          1064,
          814,
          1008,
          1306,
          781,
          675,
          852,
          686,
          749,
          360,
          138,
          688,
          277,
          607,
          1595,
          117,
          945,
          1028,
          620,
          133,
          1532,
          1048,
          803,
          1096,
          827,
          965,
          478,
          972,
          546,
          568,
          179,
          906,
          1080,
          510,
          1568,
          472,
          700,
          1547,
          287,
          334,
          32,
          214,
          575,
          949,
          1241,
          596,
          1188,
          989,
          1508,
          536,
          1452,
          416,
          596,
          528,
          1237,
          959,
          633,
          1091,
          855,
          914,
          1443,
          728,
          807,
          1000,
          746,
          150,
          114,
          847,
          222,
          630,
          385,
          851,
          1246,
          1386,
          1468,
          896,
          660,
          672,
          1415,
          172,
          1461,
          543,
          1070,
          1341,
          69,
          546,
          687,
          1332,
          579,
          1148,
          555,
          538,
          210,
          101,
          1449,
          1262,
          1084,
          999,
          887,
          674,
          1464,
          1162,
          802,
          437,
          817,
          635,
          436,
          756,
          268,
          862,
          1379,
          1461,
          778,
          746,
          139,
          883,
          942,
          1118,
          913,
          529,
          145,
          1255,
          1591,
          1116,
          627,
          910,
          0,
          1600,
          1600,
          0,
          257,
          357,
          357,
          257,
          85,
          185,
          185,
          85,
          80,
          260,
          260,
          80
         ]
        }
       ],
       "frames": [
        {
         "data": [
          {
           "line": {
            "color": "green",
            "width": 2
           },
           "mode": "lines",
           "type": "scatter",
           "x": [
            1000,
            953
           ],
           "y": [
            200,
            526
           ]
          },
          {
           "line": {
            "color": "green",
            "width": 2
           },
           "mode": "lines",
           "type": "scatter",
           "x": [
            1000,
            1167
           ],
           "y": [
            600,
            584
           ]
          },
          {
           "line": {
            "color": "green",
            "width": 2
           },
           "mode": "lines",
           "type": "scatter",
           "x": [
            1000,
            1177
           ],
           "y": [
            1400,
            1286
           ]
          },
          {
           "line": {
            "color": "red",
            "width": 2
           },
           "mode": "lines",
           "type": "scatter",
           "x": [
            1000,
            1043
           ],
           "y": [
            1000,
            1010
           ]
          },
          {
           "line": {
            "color": "green",
            "width": 2
           },
           "mode": "lines",
           "type": "scatter",
           "x": [
            1400,
            1382
           ],
           "y": [
            600,
            794
           ]
          },
          {
           "line": {
            "color": "green",
            "width": 2
           },
           "mode": "lines",
           "type": "scatter",
           "x": [
            600,
            446
           ],
           "y": [
            200,
            293
           ]
          },
          {
           "line": {
            "color": "green",
            "width": 2
           },
           "mode": "lines",
           "type": "scatter",
           "x": [
            200,
            12
           ],
           "y": [
            1000,
            756
           ]
          },
          {
           "line": {
            "color": "red",
            "width": 2
           },
           "mode": "lines",
           "type": "scatter",
           "x": [
            1000,
            602
           ],
           "y": [
            600,
            792
           ]
          },
          {
           "line": {
            "color": "green",
            "width": 2
           },
           "mode": "lines",
           "type": "scatter",
           "x": [
            600,
            707
           ],
           "y": [
            1000,
            969
           ]
          },
          {
           "line": {
            "color": "green",
            "width": 2
           },
           "mode": "lines",
           "type": "scatter",
           "x": [
            1400,
            1437
           ],
           "y": [
            600,
            298
           ]
          },
          {
           "line": {
            "color": "green",
            "width": 2
           },
           "mode": "lines",
           "type": "scatter",
           "x": [
            600,
            598
           ],
           "y": [
            1400,
            1204
           ]
          },
          {
           "line": {
            "color": "green",
            "width": 2
           },
           "mode": "lines",
           "type": "scatter",
           "x": [
            1400,
            1294
           ],
           "y": [
            600,
            424
           ]
          },
          {
           "line": {
            "color": "green",
            "width": 2
           },
           "mode": "lines",
           "type": "scatter",
           "x": [
            600,
            531
           ],
           "y": [
            600,
            563
           ]
          },
          {
           "line": {
            "color": "green",
            "width": 2
           },
           "mode": "lines",
           "type": "scatter",
           "x": [
            1400,
            1447
           ],
           "y": [
            1000,
            653
           ]
          },
          {
           "line": {
            "color": "red",
            "width": 2
           },
           "mode": "lines",
           "type": "scatter",
           "x": [
            600,
            602
           ],
           "y": [
            200,
            498
           ]
          },
          {
           "line": {
            "color": "green",
            "width": 2
           },
           "mode": "lines",
           "type": "scatter",
           "x": [
            1400,
            1497
           ],
           "y": [
            200,
            148
           ]
          },
          {
           "line": {
            "color": "green",
            "width": 2
           },
           "mode": "lines",
           "type": "scatter",
           "x": [
            600,
            957
           ],
           "y": [
            600,
            916
           ]
          },
          {
           "line": {
            "color": "green",
            "width": 2
           },
           "mode": "lines",
           "type": "scatter",
           "x": [
            600,
            746
           ],
           "y": [
            600,
            663
           ]
          },
          {
           "line": {
            "color": "red",
            "width": 2
           },
           "mode": "lines",
           "type": "scatter",
           "x": [
            600,
            691
           ],
           "y": [
            1000,
            1036
           ]
          },
          {
           "line": {
            "color": "green",
            "width": 2
           },
           "mode": "lines",
           "type": "scatter",
           "x": [
            600,
            703
           ],
           "y": [
            200,
            276
           ]
          },
          {
           "line": {
            "color": "red",
            "width": 2
           },
           "mode": "lines",
           "type": "scatter",
           "x": [
            600,
            702
           ],
           "y": [
            1000,
            955
           ]
          },
          {
           "line": {
            "color": "green",
            "width": 2
           },
           "mode": "lines",
           "type": "scatter",
           "x": [
            200,
            374
           ],
           "y": [
            600,
            235
           ]
          },
          {
           "line": {
            "color": "green",
            "width": 2
           },
           "mode": "lines",
           "type": "scatter",
           "x": [
            1000,
            923
           ],
           "y": [
            1000,
            1157
           ]
          },
          {
           "line": {
            "color": "green",
            "width": 2
           },
           "mode": "lines",
           "type": "scatter",
           "x": [
            200,
            37
           ],
           "y": [
            600,
            502
           ]
          },
          {
           "line": {
            "color": "green",
            "width": 2
           },
           "mode": "lines",
           "type": "scatter",
           "x": [
            1000,
            861
           ],
           "y": [
            1000,
            828
           ]
          },
          {
           "line": {
            "color": "green",
            "width": 2
           },
           "mode": "lines",
           "type": "scatter",
           "x": [
            1400,
            1027
           ],
           "y": [
            600,
            375
           ]
          },
          {
           "line": {
            "color": "red",
            "width": 2
           },
           "mode": "lines",
           "type": "scatter",
           "x": [
            1000,
            936
           ],
           "y": [
            1000,
            628
           ]
          },
          {
           "line": {
            "color": "green",
            "width": 2
           },
           "mode": "lines",
           "type": "scatter",
           "x": [
            1400,
            1599
           ],
           "y": [
            1000,
            1175
           ]
          },
          {
           "line": {
            "color": "red",
            "width": 2
           },
           "mode": "lines",
           "type": "scatter",
           "x": [
            600,
            667
           ],
           "y": [
            1000,
            829
           ]
          },
          {
           "line": {
            "color": "green",
            "width": 2
           },
           "mode": "lines",
           "type": "scatter",
           "x": [
            200,
            267
           ],
           "y": [
            600,
            868
           ]
          },
          {
           "line": {
            "color": "green",
            "width": 2
           },
           "mode": "lines",
           "type": "scatter",
           "x": [
            1000,
            1025
           ],
           "y": [
            1400,
            1577
           ]
          },
          {
           "line": {
            "color": "green",
            "width": 2
           },
           "mode": "lines",
           "type": "scatter",
           "x": [
            1000,
            896
           ],
           "y": [
            1400,
            1302
           ]
          },
          {
           "line": {
            "color": "green",
            "width": 2
           },
           "mode": "lines",
           "type": "scatter",
           "x": [
            1400,
            1529
           ],
           "y": [
            1400,
            1130
           ]
          },
          {
           "line": {
            "color": "red",
            "width": 2
           },
           "mode": "lines",
           "type": "scatter",
           "x": [
            1000,
            1069
           ],
           "y": [
            1000,
            855
           ]
          },
          {
           "line": {
            "color": "red",
            "width": 2
           },
           "mode": "lines",
           "type": "scatter",
           "x": [
            600,
            586
           ],
           "y": [
            1400,
            1098
           ]
          },
          {
           "line": {
            "color": "green",
            "width": 2
           },
           "mode": "lines",
           "type": "scatter",
           "x": [
            200,
            142
           ],
           "y": [
            200,
            128
           ]
          },
          {
           "line": {
            "color": "green",
            "width": 2
           },
           "mode": "lines",
           "type": "scatter",
           "x": [
            1400,
            1494
           ],
           "y": [
            1000,
            1294
           ]
          },
          {
           "line": {
            "color": "green",
            "width": 2
           },
           "mode": "lines",
           "type": "scatter",
           "x": [
            1000,
            1126
           ],
           "y": [
            600,
            516
           ]
          },
          {
           "line": {
            "color": "green",
            "width": 2
           },
           "mode": "lines",
           "type": "scatter",
           "x": [
            600,
            718
           ],
           "y": [
            200,
            121
           ]
          },
          {
           "line": {
            "color": "green",
            "width": 2
           },
           "mode": "lines",
           "type": "scatter",
           "x": [
            1400,
            1097
           ],
           "y": [
            1400,
            1057
           ]
          },
          {
           "line": {
            "color": "red",
            "width": 2
           },
           "mode": "lines",
           "type": "scatter",
           "x": [
            600,
            700
           ],
           "y": [
            200,
            540
           ]
          },
          {
           "line": {
            "color": "green",
            "width": 2
           },
           "mode": "lines",
           "type": "scatter",
           "x": [
            1400,
            1499
           ],
           "y": [
            1000,
            810
           ]
          },
          {
           "line": {
            "color": "green",
            "width": 2
           },
           "mode": "lines",
           "type": "scatter",
           "x": [
            1000,
            973
           ],
           "y": [
            1000,
            902
           ]
          },
          {
           "line": {
            "color": "red",
            "width": 2
           },
           "mode": "lines",
           "type": "scatter",
           "x": [
            1000,
            921
           ],
           "y": [
            600,
            634
           ]
          },
          {
           "line": {
            "color": "green",
            "width": 2
           },
           "mode": "lines",
           "type": "scatter",
           "x": [
            200,
            589
           ],
           "y": [
            200,
            512
           ]
          },
          {
           "line": {
            "color": "green",
            "width": 2
           },
           "mode": "lines",
           "type": "scatter",
           "x": [
            200,
            202
           ],
           "y": [
            200,
            169
           ]
          },
          {
           "line": {
            "color": "green",
            "width": 2
           },
           "mode": "lines",
           "type": "scatter",
           "x": [
            1400,
            1336
           ],
           "y": [
            200,
            291
           ]
          },
          {
           "line": {
            "color": "green",
            "width": 2
           },
           "mode": "lines",
           "type": "scatter",
           "x": [
            200,
            50
           ],
           "y": [
            600,
            918
           ]
          },
          {
           "line": {
            "color": "green",
            "width": 2
           },
           "mode": "lines",
           "type": "scatter",
           "x": [
            200,
            46
           ],
           "y": [
            1000,
            716
           ]
          },
          {
           "line": {
            "color": "green",
            "width": 2
           },
           "mode": "lines",
           "type": "scatter",
           "x": [
            1000,
            1054
           ],
           "y": [
            600,
            656
           ]
          },
          {
           "line": {
            "color": "red",
            "width": 2
           },
           "mode": "lines",
           "type": "scatter",
           "x": [
            600,
            650
           ],
           "y": [
            1000,
            940
           ]
          },
          {
           "line": {
            "color": "red",
            "width": 2
           },
           "mode": "lines",
           "type": "scatter",
           "x": [
            600,
            683
           ],
           "y": [
            1000,
            941
           ]
          },
          {
           "line": {
            "color": "green",
            "width": 2
           },
           "mode": "lines",
           "type": "scatter",
           "x": [
            200,
            203
           ],
           "y": [
            600,
            563
           ]
          },
          {
           "line": {
            "color": "green",
            "width": 2
           },
           "mode": "lines",
           "type": "scatter",
           "x": [
            600,
            208
           ],
           "y": [
            200,
            154
           ]
          },
          {
           "line": {
            "color": "green",
            "width": 2
           },
           "mode": "lines",
           "type": "scatter",
           "x": [
            600,
            658
           ],
           "y": [
            1400,
            1201
           ]
          },
          {
           "line": {
            "color": "green",
            "width": 2
           },
           "mode": "lines",
           "type": "scatter",
           "x": [
            1000,
            1029
           ],
           "y": [
            1400,
            1588
           ]
          },
          {
           "line": {
            "color": "green",
            "width": 2
           },
           "mode": "lines",
           "type": "scatter",
           "x": [
            1000,
            1156
           ],
           "y": [
            1400,
            1464
           ]
          },
          {
           "line": {
            "color": "green",
            "width": 2
           },
           "mode": "lines",
           "type": "scatter",
           "x": [
            1000,
            924
           ],
           "y": [
            1000,
            755
           ]
          },
          {
           "line": {
            "color": "green",
            "width": 2
           },
           "mode": "lines",
           "type": "scatter",
           "x": [
            600,
            748
           ],
           "y": [
            200,
            81
           ]
          },
          {
           "line": {
            "color": "green",
            "width": 2
           },
           "mode": "lines",
           "type": "scatter",
           "x": [
            1400,
            1195
           ],
           "y": [
            1400,
            1439
           ]
          },
          {
           "line": {
            "color": "green",
            "width": 2
           },
           "mode": "lines",
           "type": "scatter",
           "x": [
            1400,
            1101
           ],
           "y": [
            1000,
            1066
           ]
          },
          {
           "line": {
            "color": "green",
            "width": 2
           },
           "mode": "lines",
           "type": "scatter",
           "x": [
            1000,
            946
           ],
           "y": [
            1400,
            1502
           ]
          },
          {
           "line": {
            "color": "green",
            "width": 2
           },
           "mode": "lines",
           "type": "scatter",
           "x": [
            600,
            620
           ],
           "y": [
            1000,
            1199
           ]
          },
          {
           "line": {
            "color": "green",
            "width": 2
           },
           "mode": "lines",
           "type": "scatter",
           "x": [
            600,
            899
           ],
           "y": [
            200,
            154
           ]
          },
          {
           "line": {
            "color": "green",
            "width": 2
           },
           "mode": "lines",
           "type": "scatter",
           "x": [
            600,
            671
           ],
           "y": [
            1400,
            1070
           ]
          },
          {
           "line": {
            "color": "green",
            "width": 2
           },
           "mode": "lines",
           "type": "scatter",
           "x": [
            200,
            147
           ],
           "y": [
            600,
            332
           ]
          },
          {
           "line": {
            "color": "green",
            "width": 2
           },
           "mode": "lines",
           "type": "scatter",
           "x": [
            600,
            547
           ],
           "y": [
            600,
            860
           ]
          },
          {
           "line": {
            "color": "green",
            "width": 2
           },
           "mode": "lines",
           "type": "scatter",
           "x": [
            200,
            121
           ],
           "y": [
            600,
            444
           ]
          },
          {
           "line": {
            "color": "red",
            "width": 2
           },
           "mode": "lines",
           "type": "scatter",
           "x": [
            600,
            897
           ],
           "y": [
            1000,
            909
           ]
          },
          {
           "line": {
            "color": "green",
            "width": 2
           },
           "mode": "lines",
           "type": "scatter",
           "x": [
            1400,
            1492
           ],
           "y": [
            200,
            14
           ]
          },
          {
           "line": {
            "color": "green",
            "width": 2
           },
           "mode": "lines",
           "type": "scatter",
           "x": [
            1000,
            802
           ],
           "y": [
            1000,
            1121
           ]
          },
          {
           "line": {
            "color": "green",
            "width": 2
           },
           "mode": "lines",
           "type": "scatter",
           "x": [
            1000,
            1183
           ],
           "y": [
            1000,
            1063
           ]
          },
          {
           "line": {
            "color": "red",
            "width": 2
           },
           "mode": "lines",
           "type": "scatter",
           "x": [
            600,
            616
           ],
           "y": [
            1000,
            943
           ]
          },
          {
           "line": {
            "color": "green",
            "width": 2
           },
           "mode": "lines",
           "type": "scatter",
           "x": [
            1400,
            1166
           ],
           "y": [
            1000,
            940
           ]
          },
          {
           "line": {
            "color": "green",
            "width": 2
           },
           "mode": "lines",
           "type": "scatter",
           "x": [
            600,
            271
           ],
           "y": [
            1400,
            1066
           ]
          },
          {
           "line": {
            "color": "green",
            "width": 2
           },
           "mode": "lines",
           "type": "scatter",
           "x": [
            200,
            536
           ],
           "y": [
            1000,
            812
           ]
          },
          {
           "line": {
            "color": "red",
            "width": 2
           },
           "mode": "lines",
           "type": "scatter",
           "x": [
            1000,
            816
           ],
           "y": [
            1000,
            967
           ]
          },
          {
           "line": {
            "color": "green",
            "width": 2
           },
           "mode": "lines",
           "type": "scatter",
           "x": [
            1400,
            1377
           ],
           "y": [
            1400,
            1305
           ]
          },
          {
           "line": {
            "color": "green",
            "width": 2
           },
           "mode": "lines",
           "type": "scatter",
           "x": [
            1000,
            625
           ],
           "y": [
            600,
            783
           ]
          },
          {
           "line": {
            "color": "red",
            "width": 2
           },
           "mode": "lines",
           "type": "scatter",
           "x": [
            1000,
            836
           ],
           "y": [
            1000,
            703
           ]
          },
          {
           "line": {
            "color": "red",
            "width": 2
           },
           "mode": "lines",
           "type": "scatter",
           "x": [
            600,
            851
           ],
           "y": [
            1000,
            796
           ]
          },
          {
           "line": {
            "color": "green",
            "width": 2
           },
           "mode": "lines",
           "type": "scatter",
           "x": [
            600,
            608
           ],
           "y": [
            600,
            684
           ]
          },
          {
           "line": {
            "color": "red",
            "width": 2
           },
           "mode": "lines",
           "type": "scatter",
           "x": [
            1000,
            840
           ],
           "y": [
            600,
            703
           ]
          },
          {
           "line": {
            "color": "green",
            "width": 2
           },
           "mode": "lines",
           "type": "scatter",
           "x": [
            1000,
            1093
           ],
           "y": [
            600,
            358
           ]
          },
          {
           "line": {
            "color": "green",
            "width": 2
           },
           "mode": "lines",
           "type": "scatter",
           "x": [
            200,
            338
           ],
           "y": [
            200,
            138
           ]
          },
          {
           "line": {
            "color": "green",
            "width": 2
           },
           "mode": "lines",
           "type": "scatter",
           "x": [
            200,
            84
           ],
           "y": [
            600,
            688
           ]
          },
          {
           "line": {
            "color": "green",
            "width": 2
           },
           "mode": "lines",
           "type": "scatter",
           "x": [
            600,
            517
           ],
           "y": [
            200,
            277
           ]
          },
          {
           "line": {
            "color": "green",
            "width": 2
           },
           "mode": "lines",
           "type": "scatter",
           "x": [
            200,
            357
           ],
           "y": [
            600,
            605
           ]
          },
          {
           "line": {
            "color": "green",
            "width": 2
           },
           "mode": "lines",
           "type": "scatter",
           "x": [
            600,
            350
           ],
           "y": [
            1400,
            1597
           ]
          },
          {
           "line": {
            "color": "green",
            "width": 2
           },
           "mode": "lines",
           "type": "scatter",
           "x": [
            1000,
            1143
           ],
           "y": [
            200,
            117
           ]
          },
          {
           "line": {
            "color": "green",
            "width": 2
           },
           "mode": "lines",
           "type": "scatter",
           "x": [
            200,
            166
           ],
           "y": [
            600,
            944
           ]
          },
          {
           "line": {
            "color": "red",
            "width": 2
           },
           "mode": "lines",
           "type": "scatter",
           "x": [
            1000,
            767
           ],
           "y": [
            1000,
            1030
           ]
          },
          {
           "line": {
            "color": "green",
            "width": 2
           },
           "mode": "lines",
           "type": "scatter",
           "x": [
            1400,
            1405
           ],
           "y": [
            1000,
            618
           ]
          },
          {
           "line": {
            "color": "green",
            "width": 2
           },
           "mode": "lines",
           "type": "scatter",
           "x": [
            1400,
            1446
           ],
           "y": [
            200,
            133
           ]
          },
          {
           "line": {
            "color": "green",
            "width": 2
           },
           "mode": "lines",
           "type": "scatter",
           "x": [
            1000,
            826
           ],
           "y": [
            1400,
            1569
           ]
          },
          {
           "line": {
            "color": "green",
            "width": 2
           },
           "mode": "lines",
           "type": "scatter",
           "x": [
            1400,
            1586
           ],
           "y": [
            1400,
            1047
           ]
          },
          {
           "line": {
            "color": "green",
            "width": 2
           },
           "mode": "lines",
           "type": "scatter",
           "x": [
            1000,
            1070
           ],
           "y": [
            1000,
            805
           ]
          },
          {
           "line": {
            "color": "red",
            "width": 2
           },
           "mode": "lines",
           "type": "scatter",
           "x": [
            600,
            537
           ],
           "y": [
            1400,
            1097
           ]
          },
          {
           "line": {
            "color": "green",
            "width": 2
           },
           "mode": "lines",
           "type": "scatter",
           "x": [
            200,
            513
           ],
           "y": [
            600,
            829
           ]
          },
          {
           "line": {
            "color": "red",
            "width": 2
           },
           "mode": "lines",
           "type": "scatter",
           "x": [
            600,
            588
           ],
           "y": [
            1000,
            965
           ]
          },
          {
           "line": {
            "color": "green",
            "width": 2
           },
           "mode": "lines",
           "type": "scatter",
           "x": [
            1000,
            819
           ],
           "y": [
            600,
            522
           ]
          },
          {
           "line": {
            "color": "green",
            "width": 2
           },
           "mode": "lines",
           "type": "scatter",
           "x": [
            200,
            348
           ],
           "y": [
            1000,
            971
           ]
          },
          {
           "line": {
            "color": "red",
            "width": 2
           },
           "mode": "lines",
           "type": "scatter",
           "x": [
            1000,
            798
           ],
           "y": [
            600,
            546
           ]
          },
          {
           "line": {
            "color": "green",
            "width": 2
           },
           "mode": "lines",
           "type": "scatter",
           "x": [
            200,
            339
           ],
           "y": [
            600,
            566
           ]
          },
          {
           "line": {
            "color": "green",
            "width": 2
           },
           "mode": "lines",
           "type": "scatter",
           "x": [
            600,
            892
           ],
           "y": [
            200,
            179
           ]
          },
          {
           "line": {
            "color": "green",
            "width": 2
           },
           "mode": "lines",
           "type": "scatter",
           "x": [
            200,
            82
           ],
           "y": [
            600,
            904
           ]
          },
          {
           "line": {
            "color": "green",
            "width": 2
           },
           "mode": "lines",
           "type": "scatter",
           "x": [
            200,
            138
           ],
           "y": [
            1000,
            1078
           ]
          },
          {
           "line": {
            "color": "green",
            "width": 2
           },
           "mode": "lines",
           "type": "scatter",
           "x": [
            200,
            44
           ],
           "y": [
            600,
            509
           ]
          },
          {
           "line": {
            "color": "green",
            "width": 2
           },
           "mode": "lines",
           "type": "scatter",
           "x": [
            200,
            210
           ],
           "y": [
            1400,
            1567
           ]
          },
          {
           "line": {
            "color": "green",
            "width": 2
           },
           "mode": "lines",
           "type": "scatter",
           "x": [
            600,
            257
           ],
           "y": [
            600,
            471
           ]
          },
          {
           "line": {
            "color": "green",
            "width": 2
           },
           "mode": "lines",
           "type": "scatter",
           "x": [
            1400,
            1553
           ],
           "y": [
            600,
            700
           ]
          },
          {
           "line": {
            "color": "green",
            "width": 2
           },
           "mode": "lines",
           "type": "scatter",
           "x": [
            1000,
            997
           ],
           "y": [
            1400,
            1546
           ]
          },
          {
           "line": {
            "color": "green",
            "width": 2
           },
           "mode": "lines",
           "type": "scatter",
           "x": [
            1400,
            1525
           ],
           "y": [
            200,
            287
           ]
          },
          {
           "line": {
            "color": "green",
            "width": 2
           },
           "mode": "lines",
           "type": "scatter",
           "x": [
            600,
            786
           ],
           "y": [
            200,
            334
           ]
          },
          {
           "line": {
            "color": "green",
            "width": 2
           },
           "mode": "lines",
           "type": "scatter",
           "x": [
            200,
            416
           ],
           "y": [
            200,
            33
           ]
          },
          {
           "line": {
            "color": "green",
            "width": 2
           },
           "mode": "lines",
           "type": "scatter",
           "x": [
            200,
            199
           ],
           "y": [
            200,
            212
           ]
          },
          {
           "line": {
            "color": "green",
            "width": 2
           },
           "mode": "lines",
           "type": "scatter",
           "x": [
            1000,
            1140
           ],
           "y": [
            600,
            574
           ]
          },
          {
           "line": {
            "color": "red",
            "width": 2
           },
           "mode": "lines",
           "type": "scatter",
           "x": [
            200,
            519
           ],
           "y": [
            600,
            949
           ]
          },
          {
           "line": {
            "color": "green",
            "width": 2
           },
           "mode": "lines",
           "type": "scatter",
           "x": [
            1000,
            694
           ],
           "y": [
            1000,
            1242
           ]
          },
          {
           "line": {
            "color": "green",
            "width": 2
           },
           "mode": "lines",
           "type": "scatter",
           "x": [
            1400,
            1381
           ],
           "y": [
            600,
            594
           ]
          },
          {
           "line": {
            "color": "green",
            "width": 2
           },
           "mode": "lines",
           "type": "scatter",
           "x": [
            1000,
            1239
           ],
           "y": [
            1000,
            1190
           ]
          },
          {
           "line": {
            "color": "red",
            "width": 2
           },
           "mode": "lines",
           "type": "scatter",
           "x": [
            1000,
            1056
           ],
           "y": [
            1000,
            987
           ]
          },
          {
           "line": {
            "color": "green",
            "width": 2
           },
           "mode": "lines",
           "type": "scatter",
           "x": [
            200,
            303
           ],
           "y": [
            1400,
            1506
           ]
          },
          {
           "line": {
            "color": "green",
            "width": 2
           },
           "mode": "lines",
           "type": "scatter",
           "x": [
            1000,
            699
           ],
           "y": [
            600,
            537
           ]
          },
          {
           "line": {
            "color": "green",
            "width": 2
           },
           "mode": "lines",
           "type": "scatter",
           "x": [
            600,
            574
           ],
           "y": [
            1400,
            1450
           ]
          },
          {
           "line": {
            "color": "green",
            "width": 2
           },
           "mode": "lines",
           "type": "scatter",
           "x": [
            1400,
            1500
           ],
           "y": [
            600,
            418
           ]
          },
          {
           "line": {
            "color": "green",
            "width": 2
           },
           "mode": "lines",
           "type": "scatter",
           "x": [
            200,
            241
           ],
           "y": [
            600,
            594
           ]
          },
          {
           "line": {
            "color": "green",
            "width": 2
           },
           "mode": "lines",
           "type": "scatter",
           "x": [
            1400,
            1452
           ],
           "y": [
            600,
            526
           ]
          },
          {
           "line": {
            "color": "green",
            "width": 2
           },
           "mode": "lines",
           "type": "scatter",
           "x": [
            200,
            171
           ],
           "y": [
            1400,
            1235
           ]
          },
          {
           "line": {
            "color": "green",
            "width": 2
           },
           "mode": "lines",
           "type": "scatter",
           "x": [
            1400,
            1540
           ],
           "y": [
            1000,
            959
           ]
          },
          {
           "line": {
            "color": "green",
            "width": 2
           },
           "mode": "lines",
           "type": "scatter",
           "x": [
            600,
            570
           ],
           "y": [
            600,
            635
           ]
          },
          {
           "line": {
            "color": "red",
            "width": 2
           },
           "mode": "lines",
           "type": "scatter",
           "x": [
            600,
            675
           ],
           "y": [
            1400,
            1092
           ]
          },
          {
           "line": {
            "color": "green",
            "width": 2
           },
           "mode": "lines",
           "type": "scatter",
           "x": [
            1000,
            974
           ],
           "y": [
            1000,
            856
           ]
          },
          {
           "line": {
            "color": "green",
            "width": 2
           },
           "mode": "lines",
           "type": "scatter",
           "x": [
            1000,
            953
           ],
           "y": [
            1000,
            915
           ]
          },
          {
           "line": {
            "color": "green",
            "width": 2
           },
           "mode": "lines",
           "type": "scatter",
           "x": [
            200,
            295
           ],
           "y": [
            1400,
            1441
           ]
          },
          {
           "line": {
            "color": "green",
            "width": 2
           },
           "mode": "lines",
           "type": "scatter",
           "x": [
            600,
            653
           ],
           "y": [
            600,
            729
           ]
          },
          {
           "line": {
            "color": "green",
            "width": 2
           },
           "mode": "lines",
           "type": "scatter",
           "x": [
            600,
            775
           ],
           "y": [
            1000,
            806
           ]
          },
          {
           "line": {
            "color": "green",
            "width": 2
           },
           "mode": "lines",
           "type": "scatter",
           "x": [
            200,
            132
           ],
           "y": [
            1000,
            1001
           ]
          },
          {
           "line": {
            "color": "green",
            "width": 2
           },
           "mode": "lines",
           "type": "scatter",
           "x": [
            200,
            156
           ],
           "y": [
            600,
            746
           ]
          },
          {
           "line": {
            "color": "green",
            "width": 2
           },
           "mode": "lines",
           "type": "scatter",
           "x": [
            600,
            593
           ],
           "y": [
            200,
            150
           ]
          },
          {
           "line": {
            "color": "green",
            "width": 2
           },
           "mode": "lines",
           "type": "scatter",
           "x": [
            1000,
            847
           ],
           "y": [
            200,
            77
           ]
          },
          {
           "line": {
            "color": "green",
            "width": 2
           },
           "mode": "lines",
           "type": "scatter",
           "x": [
            1400,
            1394
           ],
           "y": [
            1000,
            847
           ]
          },
          {
           "line": {
            "color": "green",
            "width": 2
           },
           "mode": "lines",
           "type": "scatter",
           "x": [
            600,
            524.9784847587282
           ],
           "y": [
            200,
            222.206319114327
           ]
          },
          {
           "line": {
            "color": "green",
            "width": 2
           },
           "mode": "lines",
           "type": "scatter",
           "x": [
            200,
            224
           ],
           "y": [
            600,
            631
           ]
          },
          {
           "line": {
            "color": "green",
            "width": 2
           },
           "mode": "lines",
           "type": "scatter",
           "x": [
            1000,
            1180
           ],
           "y": [
            200,
            386
           ]
          },
          {
           "line": {
            "color": "green",
            "width": 2
           },
           "mode": "lines",
           "type": "scatter",
           "x": [
            1400,
            1360
           ],
           "y": [
            1000,
            852
           ]
          },
          {
           "line": {
            "color": "green",
            "width": 2
           },
           "mode": "lines",
           "type": "scatter",
           "x": [
            600,
            754
           ],
           "y": [
            1400,
            1246
           ]
          },
          {
           "line": {
            "color": "green",
            "width": 2
           },
           "mode": "lines",
           "type": "scatter",
           "x": [
            1000,
            829
           ],
           "y": [
            1000,
            1364
           ]
          },
          {
           "line": {
            "color": "green",
            "width": 2
           },
           "mode": "lines",
           "type": "scatter",
           "x": [
            200,
            172
           ],
           "y": [
            1400,
            1470
           ]
          },
          {
           "line": {
            "color": "green",
            "width": 2
           },
           "mode": "lines",
           "type": "scatter",
           "x": [
            600,
            516
           ],
           "y": [
            600,
            894
           ]
          },
          {
           "line": {
            "color": "red",
            "width": 2
           },
           "mode": "lines",
           "type": "scatter",
           "x": [
            1000,
            1023
           ],
           "y": [
            600,
            661
           ]
          },
          {
           "line": {
            "color": "green",
            "width": 2
           },
           "mode": "lines",
           "type": "scatter",
           "x": [
            200,
            592
           ],
           "y": [
            600,
            671
           ]
          },
          {
           "line": {
            "color": "green",
            "width": 2
           },
           "mode": "lines",
           "type": "scatter",
           "x": [
            200,
            185
           ],
           "y": [
            1400,
            1417
           ]
          },
          {
           "line": {
            "color": "green",
            "width": 2
           },
           "mode": "lines",
           "type": "scatter",
           "x": [
            200,
            196
           ],
           "y": [
            200,
            172
           ]
          },
          {
           "line": {
            "color": "green",
            "width": 2
           },
           "mode": "lines",
           "type": "scatter",
           "x": [
            1400,
            1593
           ],
           "y": [
            1400,
            1463
           ]
          },
          {
           "line": {
            "color": "green",
            "width": 2
           },
           "mode": "lines",
           "type": "scatter",
           "x": [
            1000,
            923
           ],
           "y": [
            600,
            543
           ]
          },
          {
           "line": {
            "color": "green",
            "width": 2
           },
           "mode": "lines",
           "type": "scatter",
           "x": [
            200,
            589
           ],
           "y": [
            1000,
            1071
           ]
          },
          {
           "line": {
            "color": "green",
            "width": 2
           },
           "mode": "lines",
           "type": "scatter",
           "x": [
            600,
            609
           ],
           "y": [
            1400,
            1339
           ]
          },
          {
           "line": {
            "color": "green",
            "width": 2
           },
           "mode": "lines",
           "type": "scatter",
           "x": [
            1400,
            1451
           ],
           "y": [
            200,
            71
           ]
          },
          {
           "line": {
            "color": "green",
            "width": 2
           },
           "mode": "lines",
           "type": "scatter",
           "x": [
            600,
            797
           ],
           "y": [
            600,
            544
           ]
          },
          {
           "line": {
            "color": "green",
            "width": 2
           },
           "mode": "lines",
           "type": "scatter",
           "x": [
            600,
            338
           ],
           "y": [
            1000,
            689
           ]
          },
          {
           "line": {
            "color": "green",
            "width": 2
           },
           "mode": "lines",
           "type": "scatter",
           "x": [
            600,
            428
           ],
           "y": [
            1400,
            1333
           ]
          },
          {
           "line": {
            "color": "green",
            "width": 2
           },
           "mode": "lines",
           "type": "scatter",
           "x": [
            1400,
            1295
           ],
           "y": [
            600,
            577
           ]
          },
          {
           "line": {
            "color": "green",
            "width": 2
           },
           "mode": "lines",
           "type": "scatter",
           "x": [
            1400,
            1250
           ],
           "y": [
            1000,
            1148
           ]
          },
          {
           "line": {
            "color": "red",
            "width": 2
           },
           "mode": "lines",
           "type": "scatter",
           "x": [
            1000,
            906
           ],
           "y": [
            600,
            601
           ]
          },
          {
           "line": {
            "color": "green",
            "width": 2
           },
           "mode": "lines",
           "type": "scatter",
           "x": [
            600,
            634
           ],
           "y": [
            600,
            537
           ]
          },
          {
           "line": {
            "color": "green",
            "width": 2
           },
           "mode": "lines",
           "type": "scatter",
           "x": [
            1400,
            1239
           ],
           "y": [
            200,
            208
           ]
          },
          {
           "line": {
            "color": "green",
            "width": 2
           },
           "mode": "lines",
           "type": "scatter",
           "x": [
            200,
            211
           ],
           "y": [
            200,
            101
           ]
          },
          {
           "line": {
            "color": "green",
            "width": 2
           },
           "mode": "lines",
           "type": "scatter",
           "x": [
            1000,
            647
           ],
           "y": [
            1400,
            1447
           ]
          },
          {
           "line": {
            "color": "green",
            "width": 2
           },
           "mode": "lines",
           "type": "scatter",
           "x": [
            200,
            308
           ],
           "y": [
            1000,
            1260
           ]
          },
          {
           "line": {
            "color": "green",
            "width": 2
           },
           "mode": "lines",
           "type": "scatter",
           "x": [
            1000,
            1041
           ],
           "y": [
            1000,
            1085
           ]
          },
          {
           "line": {
            "color": "red",
            "width": 2
           },
           "mode": "lines",
           "type": "scatter",
           "x": [
            1400,
            1064
           ],
           "y": [
            1000,
            999
           ]
          },
          {
           "line": {
            "color": "red",
            "width": 2
           },
           "mode": "lines",
           "type": "scatter",
           "x": [
            600,
            818
           ],
           "y": [
            1000,
            859
           ]
          },
          {
           "line": {
            "color": "red",
            "width": 2
           },
           "mode": "lines",
           "type": "scatter",
           "x": [
            1000,
            956
           ],
           "y": [
            600,
            672
           ]
          },
          {
           "line": {
            "color": "green",
            "width": 2
           },
           "mode": "lines",
           "type": "scatter",
           "x": [
            1000,
            983
           ],
           "y": [
            1400,
            1464
           ]
          },
          {
           "line": {
            "color": "green",
            "width": 2
           },
           "mode": "lines",
           "type": "scatter",
           "x": [
            1000,
            1086
           ],
           "y": [
            1400,
            1162
           ]
          },
          {
           "line": {
            "color": "green",
            "width": 2
           },
           "mode": "lines",
           "type": "scatter",
           "x": [
            1000,
            989
           ],
           "y": [
            1000,
            800
           ]
          },
          {
           "line": {
            "color": "green",
            "width": 2
           },
           "mode": "lines",
           "type": "scatter",
           "x": [
            1400,
            1141
           ],
           "y": [
            600,
            437
           ]
          },
          {
           "line": {
            "color": "red",
            "width": 2
           },
           "mode": "lines",
           "type": "scatter",
           "x": [
            1000,
            1092
           ],
           "y": [
            1000,
            819
           ]
          },
          {
           "line": {
            "color": "red",
            "width": 2
           },
           "mode": "lines",
           "type": "scatter",
           "x": [
            1000,
            967
           ],
           "y": [
            1000,
            637
           ]
          },
          {
           "line": {
            "color": "green",
            "width": 2
           },
           "mode": "lines",
           "type": "scatter",
           "x": [
            1000,
            1151
           ],
           "y": [
            200,
            435
           ]
          },
          {
           "line": {
            "color": "green",
            "width": 2
           },
           "mode": "lines",
           "type": "scatter",
           "x": [
            1000,
            1181
           ],
           "y": [
            1000,
            754
           ]
          },
          {
           "line": {
            "color": "green",
            "width": 2
           },
           "mode": "lines",
           "type": "scatter",
           "x": [
            600,
            522
           ],
           "y": [
            200,
            268
           ]
          },
          {
           "line": {
            "color": "green",
            "width": 2
           },
           "mode": "lines",
           "type": "scatter",
           "x": [
            1400,
            1318
           ],
           "y": [
            1000,
            864
           ]
          },
          {
           "line": {
            "color": "green",
            "width": 2
           },
           "mode": "lines",
           "type": "scatter",
           "x": [
            600,
            630
           ],
           "y": [
            1400,
            1381
           ]
          },
          {
           "line": {
            "color": "green",
            "width": 2
           },
           "mode": "lines",
           "type": "scatter",
           "x": [
            1000,
            1132
           ],
           "y": [
            1400,
            1460
           ]
          },
          {
           "line": {
            "color": "green",
            "width": 2
           },
           "mode": "lines",
           "type": "scatter",
           "x": [
            600,
            734
           ],
           "y": [
            1000,
            777
           ]
          },
          {
           "line": {
            "color": "green",
            "width": 2
           },
           "mode": "lines",
           "type": "scatter",
           "x": [
            200,
            200
           ],
           "y": [
            600,
            748
           ]
          },
          {
           "line": {
            "color": "green",
            "width": 2
           },
           "mode": "lines",
           "type": "scatter",
           "x": [
            600,
            514
           ],
           "y": [
            200,
            139
           ]
          },
          {
           "line": {
            "color": "red",
            "width": 2
           },
           "mode": "lines",
           "type": "scatter",
           "x": [
            600,
            677
           ],
           "y": [
            1000,
            882
           ]
          },
          {
           "line": {
            "color": "green",
            "width": 2
           },
           "mode": "lines",
           "type": "scatter",
           "x": [
            200,
            250
           ],
           "y": [
            1000,
            940
           ]
          },
          {
           "line": {
            "color": "green",
            "width": 2
           },
           "mode": "lines",
           "type": "scatter",
           "x": [
            1400,
            1529
           ],
           "y": [
            1400,
            1120
           ]
          },
          {
           "line": {
            "color": "green",
            "width": 2
           },
           "mode": "lines",
           "type": "scatter",
           "x": [
            200,
            192
           ],
           "y": [
            1000,
            914
           ]
          },
          {
           "line": {
            "color": "green",
            "width": 2
           },
           "mode": "lines",
           "type": "scatter",
           "x": [
            1400,
            1066
           ],
           "y": [
            200,
            527
           ]
          },
          {
           "line": {
            "color": "green",
            "width": 2
           },
           "mode": "lines",
           "type": "scatter",
           "x": [
            1000,
            1083
           ],
           "y": [
            200,
            145
           ]
          },
          {
           "line": {
            "color": "green",
            "width": 2
           },
           "mode": "lines",
           "type": "scatter",
           "x": [
            200,
            207
           ],
           "y": [
            1400,
            1254
           ]
          },
          {
           "line": {
            "color": "green",
            "width": 2
           },
           "mode": "lines",
           "type": "scatter",
           "x": [
            200,
            230
           ],
           "y": [
            1400,
            1590
           ]
          },
          {
           "line": {
            "color": "green",
            "width": 2
           },
           "mode": "lines",
           "type": "scatter",
           "x": [
            1000,
            845
           ],
           "y": [
            1000,
            1148
           ]
          },
          {
           "line": {
            "color": "red",
            "width": 2
           },
           "mode": "lines",
           "type": "scatter",
           "x": [
            1000,
            632
           ],
           "y": [
            600,
            627
           ]
          },
          {
           "line": {
            "color": "green",
            "width": 2
           },
           "mode": "lines",
           "type": "scatter",
           "x": [
            1000,
            1118
           ],
           "y": [
            1000,
            910
           ]
          },
          {
           "line": {
            "color": "black",
            "width": 2
           },
           "mode": "lines",
           "type": "scatter",
           "x": [
            812,
            812
           ],
           "y": [
            0,
            1600
           ]
          },
          {
           "line": {
            "color": "black",
            "width": 2
           },
           "mode": "lines",
           "type": "scatter",
           "x": [
            812,
            912
           ],
           "y": [
            1600,
            1600
           ]
          },
          {
           "line": {
            "color": "black",
            "width": 2
           },
           "mode": "lines",
           "type": "scatter",
           "x": [
            912,
            912
           ],
           "y": [
            1600,
            0
           ]
          },
          {
           "line": {
            "color": "black",
            "width": 2
           },
           "mode": "lines",
           "type": "scatter",
           "x": [
            812,
            912
           ],
           "y": [
            0,
            0
           ]
          },
          {
           "line": {
            "color": "black",
            "width": 2
           },
           "mode": "lines",
           "type": "scatter",
           "x": [
            0,
            0
           ],
           "y": [
            257,
            357
           ]
          },
          {
           "line": {
            "color": "black",
            "width": 2
           },
           "mode": "lines",
           "type": "scatter",
           "x": [
            0,
            1600
           ],
           "y": [
            357,
            357
           ]
          },
          {
           "line": {
            "color": "black",
            "width": 2
           },
           "mode": "lines",
           "type": "scatter",
           "x": [
            1600,
            1600
           ],
           "y": [
            357,
            257
           ]
          },
          {
           "line": {
            "color": "black",
            "width": 2
           },
           "mode": "lines",
           "type": "scatter",
           "x": [
            0,
            1600
           ],
           "y": [
            257,
            257
           ]
          },
          {
           "line": {
            "color": "black",
            "width": 2
           },
           "mode": "lines",
           "type": "scatter",
           "x": [
            0,
            0
           ],
           "y": [
            85,
            185
           ]
          },
          {
           "line": {
            "color": "black",
            "width": 2
           },
           "mode": "lines",
           "type": "scatter",
           "x": [
            0,
            1600
           ],
           "y": [
            185,
            185
           ]
          },
          {
           "line": {
            "color": "black",
            "width": 2
           },
           "mode": "lines",
           "type": "scatter",
           "x": [
            1600,
            1600
           ],
           "y": [
            185,
            85
           ]
          },
          {
           "line": {
            "color": "black",
            "width": 2
           },
           "mode": "lines",
           "type": "scatter",
           "x": [
            0,
            1600
           ],
           "y": [
            85,
            85
           ]
          },
          {
           "line": {
            "color": "black",
            "width": 2
           },
           "mode": "lines",
           "type": "scatter",
           "x": [
            465,
            465
           ],
           "y": [
            80,
            260
           ]
          },
          {
           "line": {
            "color": "black",
            "width": 2
           },
           "mode": "lines",
           "type": "scatter",
           "x": [
            465,
            556
           ],
           "y": [
            260,
            260
           ]
          },
          {
           "line": {
            "color": "black",
            "width": 2
           },
           "mode": "lines",
           "type": "scatter",
           "x": [
            556,
            556
           ],
           "y": [
            260,
            80
           ]
          },
          {
           "line": {
            "color": "black",
            "width": 2
           },
           "mode": "lines",
           "type": "scatter",
           "x": [
            465,
            556
           ],
           "y": [
            80,
            80
           ]
          },
          {
           "marker": {
            "color": [
             "orange",
             "orange",
             "orange",
             "orange",
             "orange",
             "orange",
             "orange",
             "orange",
             "orange",
             "orange",
             "orange",
             "orange",
             "orange",
             "orange",
             "orange",
             "orange",
             "blue",
             "magenta",
             "magenta",
             "blue",
             "magenta",
             "magenta",
             "magenta",
             "blue",
             "magenta",
             "magenta",
             "magenta",
             "magenta",
             "blue",
             "magenta",
             "blue",
             "magenta",
             "blue",
             "blue",
             "blue",
             "magenta",
             "blue",
             "magenta",
             "magenta",
             "magenta",
             "magenta",
             "magenta",
             "blue",
             "magenta",
             "blue",
             "magenta",
             "magenta",
             "magenta",
             "magenta",
             "blue",
             "blue",
             "magenta",
             "magenta",
             "magenta",
             "magenta",
             "magenta",
             "blue",
             "magenta",
             "magenta",
             "blue",
             "blue",
             "magenta",
             "magenta",
             "magenta",
             "magenta",
             "magenta",
             "blue",
             "blue",
             "magenta",
             "magenta",
             "magenta",
             "magenta",
             "magenta",
             "magenta",
             "magenta",
             "magenta",
             "magenta",
             "magenta",
             "magenta",
             "magenta",
             "magenta",
             "magenta",
             "blue",
             "magenta",
             "blue",
             "magenta",
             "magenta",
             "magenta",
             "blue",
             "magenta",
             "magenta",
             "magenta",
             "blue",
             "magenta",
             "magenta",
             "blue",
             "blue",
             "blue",
             "blue",
             "magenta",
             "magenta",
             "magenta",
             "magenta",
             "magenta",
             "magenta",
             "magenta",
             "magenta",
             "blue",
             "magenta",
             "magenta",
             "magenta",
             "magenta",
             "magenta",
             "blue",
             "magenta",
             "blue",
             "magenta",
             "magenta",
             "blue",
             "magenta",
             "magenta",
             "magenta",
             "magenta",
             "magenta",
             "magenta",
             "magenta",
             "magenta",
             "magenta",
             "magenta",
             "magenta",
             "magenta",
             "magenta",
             "magenta",
             "blue",
             "magenta",
             "magenta",
             "magenta",
             "blue",
             "magenta",
             "magenta",
             "magenta",
             "magenta",
             "magenta",
             "magenta",
             "magenta",
             "magenta",
             "blue",
             "blue",
             "magenta",
             "magenta",
             "magenta",
             "blue",
             "magenta",
             "magenta",
             "magenta",
             "magenta",
             "magenta",
             "magenta",
             "magenta",
             "magenta",
             "magenta",
             "magenta",
             "magenta",
             "magenta",
             "magenta",
             "blue",
             "blue",
             "magenta",
             "magenta",
             "magenta",
             "magenta",
             "magenta",
             "magenta",
             "magenta",
             "magenta",
             "blue",
             "magenta",
             "magenta",
             "magenta",
             "magenta",
             "blue",
             "blue",
             "magenta",
             "magenta",
             "magenta",
             "magenta",
             "magenta",
             "blue",
             "blue",
             "blue",
             "magenta",
             "magenta",
             "magenta",
             "magenta",
             "blue",
             "blue",
             "magenta",
             "magenta",
             "magenta",
             "magenta",
             "magenta",
             "magenta",
             "magenta",
             "magenta",
             "magenta",
             "blue",
             "magenta",
             "magenta",
             "magenta",
             "magenta",
             "magenta",
             "magenta",
             "magenta",
             "magenta",
             "blue",
             "magenta",
             "black",
             "black",
             "black",
             "black",
             "black",
             "black",
             "black",
             "black",
             "black",
             "black",
             "black",
             "black",
             "black",
             "black",
             "black",
             "black"
            ],
            "size": 8
           },
           "mode": "markers",
           "type": "scatter",
           "x": [
            200,
            200,
            200,
            200,
            600,
            600,
            600,
            600,
            1000,
            1000,
            1000,
            1000,
            1400,
            1400,
            1400,
            1400,
            953,
            1167,
            1177,
            1043,
            1382,
            446,
            12,
            602,
            707,
            1437,
            598,
            1294,
            531,
            1447,
            602,
            1497,
            957,
            746,
            691,
            703,
            702,
            374,
            923,
            37,
            861,
            1027,
            936,
            1599,
            667,
            267,
            1025,
            896,
            1529,
            1069,
            586,
            142,
            1494,
            1126,
            718,
            1097,
            700,
            1499,
            973,
            921,
            589,
            202,
            1336,
            50,
            46,
            1054,
            650,
            683,
            203,
            208,
            658,
            1029,
            1156,
            924,
            748,
            1195,
            1101,
            946,
            620,
            899,
            671,
            147,
            547,
            121,
            897,
            1492,
            802,
            1183,
            616,
            1166,
            271,
            536,
            816,
            1377,
            625,
            836,
            851,
            608,
            840,
            1093,
            338,
            84,
            517,
            357,
            350,
            1143,
            166,
            767,
            1405,
            1446,
            826,
            1586,
            1070,
            537,
            513,
            588,
            819,
            348,
            798,
            339,
            892,
            82,
            138,
            44,
            210,
            257,
            1553,
            997,
            1525,
            786,
            416,
            199,
            1140,
            519,
            694,
            1381,
            1239,
            1056,
            303,
            699,
            574,
            1500,
            241,
            1452,
            171,
            1540,
            570,
            675,
            974,
            953,
            295,
            653,
            775,
            132,
            156,
            593,
            847,
            1394,
            524.9784847587282,
            224,
            1180,
            1360,
            754,
            829,
            172,
            516,
            1023,
            592,
            185,
            196,
            1593,
            923,
            589,
            609,
            1451,
            797,
            338,
            428,
            1295,
            1250,
            906,
            634,
            1239,
            211,
            647,
            308,
            1041,
            1064,
            818,
            956,
            983,
            1086,
            989,
            1141,
            1092,
            967,
            1151,
            1181,
            522,
            1318,
            630,
            1132,
            734,
            200,
            514,
            677,
            250,
            1529,
            192,
            1066,
            1083,
            207,
            230,
            845,
            632,
            1118,
            812,
            812,
            912,
            912,
            0,
            0,
            1600,
            1600,
            0,
            0,
            1600,
            1600,
            465,
            465,
            556,
            556
           ],
           "y": [
            200,
            600,
            1000,
            1400,
            200,
            600,
            1000,
            1400,
            200,
            600,
            1000,
            1400,
            200,
            600,
            1000,
            1400,
            526,
            584,
            1286,
            1010,
            794,
            293,
            756,
            792,
            969,
            298,
            1204,
            424,
            563,
            653,
            498,
            148,
            916,
            663,
            1036,
            276,
            955,
            235,
            1157,
            502,
            828,
            375,
            628,
            1175,
            829,
            868,
            1577,
            1302,
            1130,
            855,
            1098,
            128,
            1294,
            516,
            121,
            1057,
            540,
            810,
            902,
            634,
            512,
            169,
            291,
            918,
            716,
            656,
            940,
            941,
            563,
            154,
            1201,
            1588,
            1464,
            755,
            81,
            1439,
            1066,
            1502,
            1199,
            154,
            1070,
            332,
            860,
            444,
            909,
            14,
            1121,
            1063,
            943,
            940,
            1066,
            812,
            967,
            1305,
            783,
            703,
            796,
            684,
            703,
            358,
            138,
            688,
            277,
            605,
            1597,
            117,
            944,
            1030,
            618,
            133,
            1569,
            1047,
            805,
            1097,
            829,
            965,
            522,
            971,
            546,
            566,
            179,
            904,
            1078,
            509,
            1567,
            471,
            700,
            1546,
            287,
            334,
            33,
            212,
            574,
            949,
            1242,
            594,
            1190,
            987,
            1506,
            537,
            1450,
            418,
            594,
            526,
            1235,
            959,
            635,
            1092,
            856,
            915,
            1441,
            729,
            806,
            1001,
            746,
            150,
            77,
            847,
            222.206319114327,
            631,
            386,
            852,
            1246,
            1364,
            1470,
            894,
            661,
            671,
            1417,
            172,
            1463,
            543,
            1071,
            1339,
            71,
            544,
            689,
            1333,
            577,
            1148,
            601,
            537,
            208,
            101,
            1447,
            1260,
            1085,
            999,
            859,
            672,
            1464,
            1162,
            800,
            437,
            819,
            637,
            435,
            754,
            268,
            864,
            1381,
            1460,
            777,
            748,
            139,
            882,
            940,
            1120,
            914,
            527,
            145,
            1254,
            1590,
            1148,
            627,
            910,
            0,
            1600,
            1600,
            0,
            257,
            357,
            357,
            257,
            85,
            185,
            185,
            85,
            80,
            260,
            260,
            80
           ]
          }
         ]
        },
        {
         "data": [
          {
           "line": {
            "color": "green",
            "width": 2
           },
           "mode": "lines",
           "type": "scatter",
           "x": [
            1000,
            953
           ],
           "y": [
            200,
            528
           ]
          },
          {
           "line": {
            "color": "green",
            "width": 2
           },
           "mode": "lines",
           "type": "scatter",
           "x": [
            1000,
            1167
           ],
           "y": [
            600,
            582
           ]
          },
          {
           "line": {
            "color": "green",
            "width": 2
           },
           "mode": "lines",
           "type": "scatter",
           "x": [
            1000,
            1177
           ],
           "y": [
            1400,
            1284
           ]
          },
          {
           "line": {
            "color": "red",
            "width": 2
           },
           "mode": "lines",
           "type": "scatter",
           "x": [
            1000,
            1043
           ],
           "y": [
            1000,
            1008
           ]
          },
          {
           "line": {
            "color": "green",
            "width": 2
           },
           "mode": "lines",
           "type": "scatter",
           "x": [
            1400,
            1382
           ],
           "y": [
            600,
            796
           ]
          },
          {
           "line": {
            "color": "green",
            "width": 2
           },
           "mode": "lines",
           "type": "scatter",
           "x": [
            600,
            409
           ],
           "y": [
            200,
            293
           ]
          },
          {
           "line": {
            "color": "green",
            "width": 2
           },
           "mode": "lines",
           "type": "scatter",
           "x": [
            200,
            11
           ],
           "y": [
            1000,
            758
           ]
          },
          {
           "line": {
            "color": "red",
            "width": 2
           },
           "mode": "lines",
           "type": "scatter",
           "x": [
            1000,
            600
           ],
           "y": [
            600,
            791
           ]
          },
          {
           "line": {
            "color": "green",
            "width": 2
           },
           "mode": "lines",
           "type": "scatter",
           "x": [
            600,
            706
           ],
           "y": [
            1000,
            967
           ]
          },
          {
           "line": {
            "color": "green",
            "width": 2
           },
           "mode": "lines",
           "type": "scatter",
           "x": [
            1400,
            1462
           ],
           "y": [
            600,
            298
           ]
          },
          {
           "line": {
            "color": "green",
            "width": 2
           },
           "mode": "lines",
           "type": "scatter",
           "x": [
            600,
            597
           ],
           "y": [
            1400,
            1206
           ]
          },
          {
           "line": {
            "color": "green",
            "width": 2
           },
           "mode": "lines",
           "type": "scatter",
           "x": [
            1400,
            1296
           ],
           "y": [
            600,
            424
           ]
          },
          {
           "line": {
            "color": "red",
            "width": 2
           },
           "mode": "lines",
           "type": "scatter",
           "x": [
            600,
            530
           ],
           "y": [
            600,
            565
           ]
          },
          {
           "line": {
            "color": "green",
            "width": 2
           },
           "mode": "lines",
           "type": "scatter",
           "x": [
            1400,
            1448
           ],
           "y": [
            1000,
            655
           ]
          },
          {
           "line": {
            "color": "red",
            "width": 2
           },
           "mode": "lines",
           "type": "scatter",
           "x": [
            600,
            601
           ],
           "y": [
            200,
            499
           ]
          },
          {
           "line": {
            "color": "green",
            "width": 2
           },
           "mode": "lines",
           "type": "scatter",
           "x": [
            1400,
            1522
           ],
           "y": [
            200,
            148
           ]
          },
          {
           "line": {
            "color": "red",
            "width": 2
           },
           "mode": "lines",
           "type": "scatter",
           "x": [
            600,
            955
           ],
           "y": [
            600,
            916
           ]
          },
          {
           "line": {
            "color": "red",
            "width": 2
           },
           "mode": "lines",
           "type": "scatter",
           "x": [
            600,
            744
           ],
           "y": [
            600,
            663
           ]
          },
          {
           "line": {
            "color": "red",
            "width": 2
           },
           "mode": "lines",
           "type": "scatter",
           "x": [
            600,
            693
           ],
           "y": [
            1000,
            1037
           ]
          },
          {
           "line": {
            "color": "green",
            "width": 2
           },
           "mode": "lines",
           "type": "scatter",
           "x": [
            600,
            644
           ],
           "y": [
            200,
            276
           ]
          },
          {
           "line": {
            "color": "red",
            "width": 2
           },
           "mode": "lines",
           "type": "scatter",
           "x": [
            1000,
            700
           ],
           "y": [
            1000,
            954
           ]
          },
          {
           "line": {
            "color": "green",
            "width": 2
           },
           "mode": "lines",
           "type": "scatter",
           "x": [
            200,
            372
           ],
           "y": [
            600,
            236
           ]
          },
          {
           "line": {
            "color": "green",
            "width": 2
           },
           "mode": "lines",
           "type": "scatter",
           "x": [
            1000,
            925
           ],
           "y": [
            1000,
            1157
           ]
          },
          {
           "line": {
            "color": "green",
            "width": 2
           },
           "mode": "lines",
           "type": "scatter",
           "x": [
            200,
            35
           ],
           "y": [
            600,
            502
           ]
          },
          {
           "line": {
            "color": "green",
            "width": 2
           },
           "mode": "lines",
           "type": "scatter",
           "x": [
            1000,
            861
           ],
           "y": [
            1000,
            798
           ]
          },
          {
           "line": {
            "color": "green",
            "width": 2
           },
           "mode": "lines",
           "type": "scatter",
           "x": [
            1400,
            1027
           ],
           "y": [
            600,
            377
           ]
          },
          {
           "line": {
            "color": "red",
            "width": 2
           },
           "mode": "lines",
           "type": "scatter",
           "x": [
            1000,
            937
           ],
           "y": [
            1000,
            629
           ]
          },
          {
           "line": {
            "color": "green",
            "width": 2
           },
           "mode": "lines",
           "type": "scatter",
           "x": [
            1400,
            1599
           ],
           "y": [
            1000,
            1173
           ]
          },
          {
           "line": {
            "color": "red",
            "width": 2
           },
           "mode": "lines",
           "type": "scatter",
           "x": [
            600,
            668
           ],
           "y": [
            1000,
            831
           ]
          },
          {
           "line": {
            "color": "green",
            "width": 2
           },
           "mode": "lines",
           "type": "scatter",
           "x": [
            200,
            266
           ],
           "y": [
            600,
            866
           ]
          },
          {
           "line": {
            "color": "green",
            "width": 2
           },
           "mode": "lines",
           "type": "scatter",
           "x": [
            1000,
            1026
           ],
           "y": [
            1400,
            1575
           ]
          },
          {
           "line": {
            "color": "green",
            "width": 2
           },
           "mode": "lines",
           "type": "scatter",
           "x": [
            1000,
            896
           ],
           "y": [
            1400,
            1255
           ]
          },
          {
           "line": {
            "color": "green",
            "width": 2
           },
           "mode": "lines",
           "type": "scatter",
           "x": [
            1400,
            1529
           ],
           "y": [
            1400,
            1132
           ]
          },
          {
           "line": {
            "color": "red",
            "width": 2
           },
           "mode": "lines",
           "type": "scatter",
           "x": [
            1000,
            1069
           ],
           "y": [
            1000,
            853
           ]
          },
          {
           "line": {
            "color": "green",
            "width": 2
           },
           "mode": "lines",
           "type": "scatter",
           "x": [
            600,
            588
           ],
           "y": [
            1400,
            1097
           ]
          },
          {
           "line": {
            "color": "green",
            "width": 2
           },
           "mode": "lines",
           "type": "scatter",
           "x": [
            200,
            176
           ],
           "y": [
            200,
            128
           ]
          },
          {
           "line": {
            "color": "green",
            "width": 2
           },
           "mode": "lines",
           "type": "scatter",
           "x": [
            1400,
            1492
           ],
           "y": [
            1400,
            1293
           ]
          },
          {
           "line": {
            "color": "green",
            "width": 2
           },
           "mode": "lines",
           "type": "scatter",
           "x": [
            1000,
            1127
           ],
           "y": [
            600,
            518
           ]
          },
          {
           "line": {
            "color": "green",
            "width": 2
           },
           "mode": "lines",
           "type": "scatter",
           "x": [
            600,
            666
           ],
           "y": [
            200,
            121
           ]
          },
          {
           "line": {
            "color": "green",
            "width": 2
           },
           "mode": "lines",
           "type": "scatter",
           "x": [
            1400,
            1099
           ],
           "y": [
            1400,
            1057
           ]
          },
          {
           "line": {
            "color": "red",
            "width": 2
           },
           "mode": "lines",
           "type": "scatter",
           "x": [
            600,
            699
           ],
           "y": [
            600,
            542
           ]
          },
          {
           "line": {
            "color": "green",
            "width": 2
           },
           "mode": "lines",
           "type": "scatter",
           "x": [
            1400,
            1501
           ],
           "y": [
            1000,
            811
           ]
          },
          {
           "line": {
            "color": "green",
            "width": 2
           },
           "mode": "lines",
           "type": "scatter",
           "x": [
            1000,
            972
           ],
           "y": [
            1000,
            901
           ]
          },
          {
           "line": {
            "color": "red",
            "width": 2
           },
           "mode": "lines",
           "type": "scatter",
           "x": [
            1000,
            922
           ],
           "y": [
            600,
            636
           ]
          },
          {
           "line": {
            "color": "green",
            "width": 2
           },
           "mode": "lines",
           "type": "scatter",
           "x": [
            200,
            590
           ],
           "y": [
            200,
            514
           ]
          },
          {
           "line": {
            "color": "green",
            "width": 2
           },
           "mode": "lines",
           "type": "scatter",
           "x": [
            200,
            256
           ],
           "y": [
            200,
            169
           ]
          },
          {
           "line": {
            "color": "green",
            "width": 2
           },
           "mode": "lines",
           "type": "scatter",
           "x": [
            1400,
            1277
           ],
           "y": [
            200,
            291
           ]
          },
          {
           "line": {
            "color": "green",
            "width": 2
           },
           "mode": "lines",
           "type": "scatter",
           "x": [
            200,
            48
           ],
           "y": [
            600,
            917
           ]
          },
          {
           "line": {
            "color": "green",
            "width": 2
           },
           "mode": "lines",
           "type": "scatter",
           "x": [
            200,
            46
           ],
           "y": [
            1000,
            714
           ]
          },
          {
           "line": {
            "color": "green",
            "width": 2
           },
           "mode": "lines",
           "type": "scatter",
           "x": [
            1000,
            1052
           ],
           "y": [
            600,
            655
           ]
          },
          {
           "line": {
            "color": "red",
            "width": 2
           },
           "mode": "lines",
           "type": "scatter",
           "x": [
            600,
            651
           ],
           "y": [
            1000,
            938
           ]
          },
          {
           "line": {
            "color": "red",
            "width": 2
           },
           "mode": "lines",
           "type": "scatter",
           "x": [
            1000,
            682
           ],
           "y": [
            1000,
            940
           ]
          },
          {
           "line": {
            "color": "green",
            "width": 2
           },
           "mode": "lines",
           "type": "scatter",
           "x": [
            200,
            205
           ],
           "y": [
            600,
            564
           ]
          },
          {
           "line": {
            "color": "green",
            "width": 2
           },
           "mode": "lines",
           "type": "scatter",
           "x": [
            600,
            161
           ],
           "y": [
            200,
            154
           ]
          },
          {
           "line": {
            "color": "green",
            "width": 2
           },
           "mode": "lines",
           "type": "scatter",
           "x": [
            600,
            659
           ],
           "y": [
            1400,
            1203
           ]
          },
          {
           "line": {
            "color": "green",
            "width": 2
           },
           "mode": "lines",
           "type": "scatter",
           "x": [
            1000,
            1029
           ],
           "y": [
            1400,
            1586
           ]
          },
          {
           "line": {
            "color": "green",
            "width": 2
           },
           "mode": "lines",
           "type": "scatter",
           "x": [
            1000,
            1157
           ],
           "y": [
            1400,
            1466
           ]
          },
          {
           "line": {
            "color": "green",
            "width": 2
           },
           "mode": "lines",
           "type": "scatter",
           "x": [
            1000,
            923
           ],
           "y": [
            1000,
            757
           ]
          },
          {
           "line": {
            "color": "green",
            "width": 2
           },
           "mode": "lines",
           "type": "scatter",
           "x": [
            1000,
            746
           ],
           "y": [
            200,
            82
           ]
          },
          {
           "line": {
            "color": "green",
            "width": 2
           },
           "mode": "lines",
           "type": "scatter",
           "x": [
            1400,
            1195
           ],
           "y": [
            1400,
            1437
           ]
          },
          {
           "line": {
            "color": "green",
            "width": 2
           },
           "mode": "lines",
           "type": "scatter",
           "x": [
            1400,
            1100
           ],
           "y": [
            1000,
            1064
           ]
          },
          {
           "line": {
            "color": "green",
            "width": 2
           },
           "mode": "lines",
           "type": "scatter",
           "x": [
            1000,
            947
           ],
           "y": [
            1400,
            1500
           ]
          },
          {
           "line": {
            "color": "green",
            "width": 2
           },
           "mode": "lines",
           "type": "scatter",
           "x": [
            600,
            618
           ],
           "y": [
            1000,
            1199
           ]
          },
          {
           "line": {
            "color": "green",
            "width": 2
           },
           "mode": "lines",
           "type": "scatter",
           "x": [
            600,
            840
           ],
           "y": [
            200,
            154
           ]
          },
          {
           "line": {
            "color": "green",
            "width": 2
           },
           "mode": "lines",
           "type": "scatter",
           "x": [
            600,
            673
           ],
           "y": [
            1400,
            1069
           ]
          },
          {
           "line": {
            "color": "green",
            "width": 2
           },
           "mode": "lines",
           "type": "scatter",
           "x": [
            200,
            196
           ],
           "y": [
            600,
            332
           ]
          },
          {
           "line": {
            "color": "red",
            "width": 2
           },
           "mode": "lines",
           "type": "scatter",
           "x": [
            600,
            546
           ],
           "y": [
            600,
            862
           ]
          },
          {
           "line": {
            "color": "green",
            "width": 2
           },
           "mode": "lines",
           "type": "scatter",
           "x": [
            200,
            123
           ],
           "y": [
            600,
            443
           ]
          },
          {
           "line": {
            "color": "red",
            "width": 2
           },
           "mode": "lines",
           "type": "scatter",
           "x": [
            600,
            897
           ],
           "y": [
            1000,
            961
           ]
          },
          {
           "line": {
            "color": "green",
            "width": 2
           },
           "mode": "lines",
           "type": "scatter",
           "x": [
            1400,
            1492
           ],
           "y": [
            200,
            16
           ]
          },
          {
           "line": {
            "color": "green",
            "width": 2
           },
           "mode": "lines",
           "type": "scatter",
           "x": [
            1000,
            803
           ],
           "y": [
            1000,
            1119
           ]
          },
          {
           "line": {
            "color": "green",
            "width": 2
           },
           "mode": "lines",
           "type": "scatter",
           "x": [
            1000,
            1181
           ],
           "y": [
            1000,
            1062
           ]
          },
          {
           "line": {
            "color": "red",
            "width": 2
           },
           "mode": "lines",
           "type": "scatter",
           "x": [
            600,
            617
           ],
           "y": [
            1000,
            941
           ]
          },
          {
           "line": {
            "color": "green",
            "width": 2
           },
           "mode": "lines",
           "type": "scatter",
           "x": [
            1400,
            1168
           ],
           "y": [
            1000,
            940
           ]
          },
          {
           "line": {
            "color": "green",
            "width": 2
           },
           "mode": "lines",
           "type": "scatter",
           "x": [
            600,
            269
           ],
           "y": [
            1400,
            1065
           ]
          },
          {
           "line": {
            "color": "green",
            "width": 2
           },
           "mode": "lines",
           "type": "scatter",
           "x": [
            200,
            538
           ],
           "y": [
            1000,
            812
           ]
          },
          {
           "line": {
            "color": "red",
            "width": 2
           },
           "mode": "lines",
           "type": "scatter",
           "x": [
            1000,
            816
           ],
           "y": [
            1000,
            930
           ]
          },
          {
           "line": {
            "color": "green",
            "width": 2
           },
           "mode": "lines",
           "type": "scatter",
           "x": [
            1400,
            1379
           ],
           "y": [
            1400,
            1305
           ]
          },
          {
           "line": {
            "color": "green",
            "width": 2
           },
           "mode": "lines",
           "type": "scatter",
           "x": [
            1000,
            625
           ],
           "y": [
            600,
            785
           ]
          },
          {
           "line": {
            "color": "red",
            "width": 2
           },
           "mode": "lines",
           "type": "scatter",
           "x": [
            1000,
            836
           ],
           "y": [
            600,
            726
           ]
          },
          {
           "line": {
            "color": "red",
            "width": 2
           },
           "mode": "lines",
           "type": "scatter",
           "x": [
            1000,
            851
           ],
           "y": [
            600,
            759
           ]
          },
          {
           "line": {
            "color": "red",
            "width": 2
           },
           "mode": "lines",
           "type": "scatter",
           "x": [
            600,
            610
           ],
           "y": [
            600,
            685
           ]
          },
          {
           "line": {
            "color": "red",
            "width": 2
           },
           "mode": "lines",
           "type": "scatter",
           "x": [
            1000,
            840
           ],
           "y": [
            600,
            679
           ]
          },
          {
           "line": {
            "color": "green",
            "width": 2
           },
           "mode": "lines",
           "type": "scatter",
           "x": [
            1000,
            1091
           ],
           "y": [
            600,
            359
           ]
          },
          {
           "line": {
            "color": "green",
            "width": 2
           },
           "mode": "lines",
           "type": "scatter",
           "x": [
            200,
            367
           ],
           "y": [
            200,
            138
           ]
          },
          {
           "line": {
            "color": "green",
            "width": 2
           },
           "mode": "lines",
           "type": "scatter",
           "x": [
            200,
            86
           ],
           "y": [
            1000,
            688
           ]
          },
          {
           "line": {
            "color": "green",
            "width": 2
           },
           "mode": "lines",
           "type": "scatter",
           "x": [
            600,
            541
           ],
           "y": [
            200,
            277
           ]
          },
          {
           "line": {
            "color": "green",
            "width": 2
           },
           "mode": "lines",
           "type": "scatter",
           "x": [
            200,
            357
           ],
           "y": [
            600,
            603
           ]
          },
          {
           "line": {
            "color": "green",
            "width": 2
           },
           "mode": "lines",
           "type": "scatter",
           "x": [
            600,
            349
           ],
           "y": [
            1400,
            1599
           ]
          },
          {
           "line": {
            "color": "green",
            "width": 2
           },
           "mode": "lines",
           "type": "scatter",
           "x": [
            1000,
            1176
           ],
           "y": [
            200,
            117
           ]
          },
          {
           "line": {
            "color": "green",
            "width": 2
           },
           "mode": "lines",
           "type": "scatter",
           "x": [
            200,
            168
           ],
           "y": [
            600,
            945
           ]
          },
          {
           "line": {
            "color": "red",
            "width": 2
           },
           "mode": "lines",
           "type": "scatter",
           "x": [
            600,
            765
           ],
           "y": [
            1000,
            1029
           ]
          },
          {
           "line": {
            "color": "green",
            "width": 2
           },
           "mode": "lines",
           "type": "scatter",
           "x": [
            1400,
            1403
           ],
           "y": [
            1000,
            617
           ]
          },
          {
           "line": {
            "color": "green",
            "width": 2
           },
           "mode": "lines",
           "type": "scatter",
           "x": [
            1400,
            1426
           ],
           "y": [
            200,
            133
           ]
          },
          {
           "line": {
            "color": "green",
            "width": 2
           },
           "mode": "lines",
           "type": "scatter",
           "x": [
            1000,
            826
           ],
           "y": [
            1400,
            1599
           ]
          },
          {
           "line": {
            "color": "green",
            "width": 2
           },
           "mode": "lines",
           "type": "scatter",
           "x": [
            1400,
            1587
           ],
           "y": [
            1400,
            1049
           ]
          },
          {
           "line": {
            "color": "green",
            "width": 2
           },
           "mode": "lines",
           "type": "scatter",
           "x": [
            1000,
            1070
           ],
           "y": [
            1000,
            807
           ]
          },
          {
           "line": {
            "color": "red",
            "width": 2
           },
           "mode": "lines",
           "type": "scatter",
           "x": [
            600,
            538
           ],
           "y": [
            1000,
            1098
           ]
          },
          {
           "line": {
            "color": "green",
            "width": 2
           },
           "mode": "lines",
           "type": "scatter",
           "x": [
            200,
            511
           ],
           "y": [
            600,
            829
           ]
          },
          {
           "line": {
            "color": "red",
            "width": 2
           },
           "mode": "lines",
           "type": "scatter",
           "x": [
            600,
            590
           ],
           "y": [
            1000,
            964
           ]
          },
          {
           "line": {
            "color": "green",
            "width": 2
           },
           "mode": "lines",
           "type": "scatter",
           "x": [
            1000,
            819
           ],
           "y": [
            600,
            545
           ]
          },
          {
           "line": {
            "color": "green",
            "width": 2
           },
           "mode": "lines",
           "type": "scatter",
           "x": [
            200,
            347
           ],
           "y": [
            1000,
            969
           ]
          },
          {
           "line": {
            "color": "red",
            "width": 2
           },
           "mode": "lines",
           "type": "scatter",
           "x": [
            600,
            798
           ],
           "y": [
            600,
            544
           ]
          },
          {
           "line": {
            "color": "green",
            "width": 2
           },
           "mode": "lines",
           "type": "scatter",
           "x": [
            200,
            338
           ],
           "y": [
            600,
            564
           ]
          },
          {
           "line": {
            "color": "green",
            "width": 2
           },
           "mode": "lines",
           "type": "scatter",
           "x": [
            600,
            858
           ],
           "y": [
            200,
            179
           ]
          },
          {
           "line": {
            "color": "green",
            "width": 2
           },
           "mode": "lines",
           "type": "scatter",
           "x": [
            200,
            80
           ],
           "y": [
            600,
            904
           ]
          },
          {
           "line": {
            "color": "green",
            "width": 2
           },
           "mode": "lines",
           "type": "scatter",
           "x": [
            200,
            140
           ],
           "y": [
            1000,
            1079
           ]
          },
          {
           "line": {
            "color": "green",
            "width": 2
           },
           "mode": "lines",
           "type": "scatter",
           "x": [
            200,
            46
           ],
           "y": [
            600,
            508
           ]
          },
          {
           "line": {
            "color": "green",
            "width": 2
           },
           "mode": "lines",
           "type": "scatter",
           "x": [
            200,
            208
           ],
           "y": [
            1400,
            1566
           ]
          },
          {
           "line": {
            "color": "green",
            "width": 2
           },
           "mode": "lines",
           "type": "scatter",
           "x": [
            600,
            255
           ],
           "y": [
            600,
            472
           ]
          },
          {
           "line": {
            "color": "green",
            "width": 2
           },
           "mode": "lines",
           "type": "scatter",
           "x": [
            1400,
            1552
           ],
           "y": [
            600,
            698
           ]
          },
          {
           "line": {
            "color": "green",
            "width": 2
           },
           "mode": "lines",
           "type": "scatter",
           "x": [
            1000,
            995
           ],
           "y": [
            1400,
            1547
           ]
          },
          {
           "line": {
            "color": "green",
            "width": 2
           },
           "mode": "lines",
           "type": "scatter",
           "x": [
            1400,
            1553
           ],
           "y": [
            200,
            287
           ]
          },
          {
           "line": {
            "color": "green",
            "width": 2
           },
           "mode": "lines",
           "type": "scatter",
           "x": [
            600,
            826
           ],
           "y": [
            200,
            334
           ]
          },
          {
           "line": {
            "color": "green",
            "width": 2
           },
           "mode": "lines",
           "type": "scatter",
           "x": [
            200,
            415
           ],
           "y": [
            200,
            35
           ]
          },
          {
           "line": {
            "color": "green",
            "width": 2
           },
           "mode": "lines",
           "type": "scatter",
           "x": [
            200,
            197
           ],
           "y": [
            200,
            212
           ]
          },
          {
           "line": {
            "color": "green",
            "width": 2
           },
           "mode": "lines",
           "type": "scatter",
           "x": [
            1000,
            1141
           ],
           "y": [
            600,
            572
           ]
          },
          {
           "line": {
            "color": "red",
            "width": 2
           },
           "mode": "lines",
           "type": "scatter",
           "x": [
            600,
            519
           ],
           "y": [
            1000,
            947
           ]
          },
          {
           "line": {
            "color": "green",
            "width": 2
           },
           "mode": "lines",
           "type": "scatter",
           "x": [
            1000,
            692
           ],
           "y": [
            1000,
            1242
           ]
          },
          {
           "line": {
            "color": "green",
            "width": 2
           },
           "mode": "lines",
           "type": "scatter",
           "x": [
            1400,
            1383
           ],
           "y": [
            600,
            595
           ]
          },
          {
           "line": {
            "color": "green",
            "width": 2
           },
           "mode": "lines",
           "type": "scatter",
           "x": [
            1000,
            1239
           ],
           "y": [
            1000,
            1188
           ]
          },
          {
           "line": {
            "color": "red",
            "width": 2
           },
           "mode": "lines",
           "type": "scatter",
           "x": [
            1000,
            1058
           ],
           "y": [
            1000,
            988
           ]
          },
          {
           "line": {
            "color": "green",
            "width": 2
           },
           "mode": "lines",
           "type": "scatter",
           "x": [
            200,
            302
           ],
           "y": [
            1400,
            1504
           ]
          },
          {
           "line": {
            "color": "green",
            "width": 2
           },
           "mode": "lines",
           "type": "scatter",
           "x": [
            1000,
            698
           ],
           "y": [
            600,
            535
           ]
          },
          {
           "line": {
            "color": "green",
            "width": 2
           },
           "mode": "lines",
           "type": "scatter",
           "x": [
            600,
            574
           ],
           "y": [
            1400,
            1452
           ]
          },
          {
           "line": {
            "color": "green",
            "width": 2
           },
           "mode": "lines",
           "type": "scatter",
           "x": [
            1400,
            1498
           ],
           "y": [
            600,
            419
           ]
          },
          {
           "line": {
            "color": "green",
            "width": 2
           },
           "mode": "lines",
           "type": "scatter",
           "x": [
            200,
            243
           ],
           "y": [
            600,
            594
           ]
          },
          {
           "line": {
            "color": "green",
            "width": 2
           },
           "mode": "lines",
           "type": "scatter",
           "x": [
            1400,
            1454
           ],
           "y": [
            600,
            526
           ]
          },
          {
           "line": {
            "color": "green",
            "width": 2
           },
           "mode": "lines",
           "type": "scatter",
           "x": [
            200,
            171
           ],
           "y": [
            1400,
            1237
           ]
          },
          {
           "line": {
            "color": "green",
            "width": 2
           },
           "mode": "lines",
           "type": "scatter",
           "x": [
            1400,
            1539
           ],
           "y": [
            1000,
            957
           ]
          },
          {
           "line": {
            "color": "red",
            "width": 2
           },
           "mode": "lines",
           "type": "scatter",
           "x": [
            600,
            569
           ],
           "y": [
            600,
            633
           ]
          },
          {
           "line": {
            "color": "green",
            "width": 2
           },
           "mode": "lines",
           "type": "scatter",
           "x": [
            600,
            676
           ],
           "y": [
            1400,
            1090
           ]
          },
          {
           "line": {
            "color": "green",
            "width": 2
           },
           "mode": "lines",
           "type": "scatter",
           "x": [
            1000,
            975
           ],
           "y": [
            1000,
            858
           ]
          },
          {
           "line": {
            "color": "green",
            "width": 2
           },
           "mode": "lines",
           "type": "scatter",
           "x": [
            1000,
            955
           ],
           "y": [
            1000,
            916
           ]
          },
          {
           "line": {
            "color": "green",
            "width": 2
           },
           "mode": "lines",
           "type": "scatter",
           "x": [
            200,
            293
           ],
           "y": [
            1400,
            1441
           ]
          },
          {
           "line": {
            "color": "red",
            "width": 2
           },
           "mode": "lines",
           "type": "scatter",
           "x": [
            600,
            653
           ],
           "y": [
            600,
            731
           ]
          },
          {
           "line": {
            "color": "green",
            "width": 2
           },
           "mode": "lines",
           "type": "scatter",
           "x": [
            600,
            776
           ],
           "y": [
            1000,
            807
           ]
          },
          {
           "line": {
            "color": "green",
            "width": 2
           },
           "mode": "lines",
           "type": "scatter",
           "x": [
            200,
            131
           ],
           "y": [
            1000,
            999
           ]
          },
          {
           "line": {
            "color": "green",
            "width": 2
           },
           "mode": "lines",
           "type": "scatter",
           "x": [
            200,
            154
           ],
           "y": [
            600,
            745
           ]
          },
          {
           "line": {
            "color": "green",
            "width": 2
           },
           "mode": "lines",
           "type": "scatter",
           "x": [
            600,
            566
           ],
           "y": [
            200,
            150
           ]
          },
          {
           "line": {
            "color": "green",
            "width": 2
           },
           "mode": "lines",
           "type": "scatter",
           "x": [
            1000,
            847
           ],
           "y": [
            200,
            43
           ]
          },
          {
           "line": {
            "color": "green",
            "width": 2
           },
           "mode": "lines",
           "type": "scatter",
           "x": [
            1400,
            1392
           ],
           "y": [
            1000,
            846
           ]
          },
          {
           "line": {
            "color": "green",
            "width": 2
           },
           "mode": "lines",
           "type": "scatter",
           "x": [
            600,
            525.1053611718219
           ],
           "y": [
            200,
            221.21440058148244
           ]
          },
          {
           "line": {
            "color": "green",
            "width": 2
           },
           "mode": "lines",
           "type": "scatter",
           "x": [
            200,
            223
           ],
           "y": [
            600,
            632
           ]
          },
          {
           "line": {
            "color": "green",
            "width": 2
           },
           "mode": "lines",
           "type": "scatter",
           "x": [
            1000,
            1179
           ],
           "y": [
            200,
            384
           ]
          },
          {
           "line": {
            "color": "green",
            "width": 2
           },
           "mode": "lines",
           "type": "scatter",
           "x": [
            1400,
            1358
           ],
           "y": [
            1000,
            851
           ]
          },
          {
           "line": {
            "color": "green",
            "width": 2
           },
           "mode": "lines",
           "type": "scatter",
           "x": [
            600,
            755
           ],
           "y": [
            1400,
            1244
           ]
          },
          {
           "line": {
            "color": "green",
            "width": 2
           },
           "mode": "lines",
           "type": "scatter",
           "x": [
            1000,
            829
           ],
           "y": [
            1000,
            1342
           ]
          },
          {
           "line": {
            "color": "green",
            "width": 2
           },
           "mode": "lines",
           "type": "scatter",
           "x": [
            200,
            171
           ],
           "y": [
            1400,
            1468
           ]
          },
          {
           "line": {
            "color": "red",
            "width": 2
           },
           "mode": "lines",
           "type": "scatter",
           "x": [
            600,
            514
           ],
           "y": [
            600,
            894
           ]
          },
          {
           "line": {
            "color": "red",
            "width": 2
           },
           "mode": "lines",
           "type": "scatter",
           "x": [
            1000,
            1023
           ],
           "y": [
            600,
            659
           ]
          },
          {
           "line": {
            "color": "green",
            "width": 2
           },
           "mode": "lines",
           "type": "scatter",
           "x": [
            200,
            594
           ],
           "y": [
            600,
            672
           ]
          },
          {
           "line": {
            "color": "green",
            "width": 2
           },
           "mode": "lines",
           "type": "scatter",
           "x": [
            200,
            187
           ],
           "y": [
            1400,
            1417
           ]
          },
          {
           "line": {
            "color": "green",
            "width": 2
           },
           "mode": "lines",
           "type": "scatter",
           "x": [
            200,
            236
           ],
           "y": [
            200,
            172
           ]
          },
          {
           "line": {
            "color": "green",
            "width": 2
           },
           "mode": "lines",
           "type": "scatter",
           "x": [
            1400,
            1591
           ],
           "y": [
            1400,
            1464
           ]
          },
          {
           "line": {
            "color": "green",
            "width": 2
           },
           "mode": "lines",
           "type": "scatter",
           "x": [
            1000,
            925
           ],
           "y": [
            600,
            543
           ]
          },
          {
           "line": {
            "color": "green",
            "width": 2
           },
           "mode": "lines",
           "type": "scatter",
           "x": [
            200,
            590
           ],
           "y": [
            1000,
            1073
           ]
          },
          {
           "line": {
            "color": "green",
            "width": 2
           },
           "mode": "lines",
           "type": "scatter",
           "x": [
            600,
            611
           ],
           "y": [
            1400,
            1340
           ]
          },
          {
           "line": {
            "color": "green",
            "width": 2
           },
           "mode": "lines",
           "type": "scatter",
           "x": [
            1400,
            1453
           ],
           "y": [
            200,
            70
           ]
          },
          {
           "line": {
            "color": "red",
            "width": 2
           },
           "mode": "lines",
           "type": "scatter",
           "x": [
            600,
            795
           ],
           "y": [
            600,
            545
           ]
          },
          {
           "line": {
            "color": "green",
            "width": 2
           },
           "mode": "lines",
           "type": "scatter",
           "x": [
            600,
            340
           ],
           "y": [
            1000,
            689
           ]
          },
          {
           "line": {
            "color": "green",
            "width": 2
           },
           "mode": "lines",
           "type": "scatter",
           "x": [
            600,
            428
           ],
           "y": [
            1400,
            1335
           ]
          },
          {
           "line": {
            "color": "green",
            "width": 2
           },
           "mode": "lines",
           "type": "scatter",
           "x": [
            1400,
            1297
           ],
           "y": [
            600,
            578
           ]
          },
          {
           "line": {
            "color": "green",
            "width": 2
           },
           "mode": "lines",
           "type": "scatter",
           "x": [
            1400,
            1249
           ],
           "y": [
            1000,
            1150
           ]
          },
          {
           "line": {
            "color": "red",
            "width": 2
           },
           "mode": "lines",
           "type": "scatter",
           "x": [
            600,
            906
           ],
           "y": [
            600,
            634
           ]
          },
          {
           "line": {
            "color": "red",
            "width": 2
           },
           "mode": "lines",
           "type": "scatter",
           "x": [
            600,
            633
           ],
           "y": [
            600,
            535
           ]
          },
          {
           "line": {
            "color": "green",
            "width": 2
           },
           "mode": "lines",
           "type": "scatter",
           "x": [
            1400,
            1240
           ],
           "y": [
            200,
            206
           ]
          },
          {
           "line": {
            "color": "green",
            "width": 2
           },
           "mode": "lines",
           "type": "scatter",
           "x": [
            200,
            152
           ],
           "y": [
            200,
            101
           ]
          },
          {
           "line": {
            "color": "green",
            "width": 2
           },
           "mode": "lines",
           "type": "scatter",
           "x": [
            1000,
            649
           ],
           "y": [
            1400,
            1447
           ]
          },
          {
           "line": {
            "color": "green",
            "width": 2
           },
           "mode": "lines",
           "type": "scatter",
           "x": [
            200,
            307
           ],
           "y": [
            1000,
            1262
           ]
          },
          {
           "line": {
            "color": "green",
            "width": 2
           },
           "mode": "lines",
           "type": "scatter",
           "x": [
            1000,
            1043
           ],
           "y": [
            1000,
            1084
           ]
          },
          {
           "line": {
            "color": "green",
            "width": 2
           },
           "mode": "lines",
           "type": "scatter",
           "x": [
            1400,
            1062
           ],
           "y": [
            1000,
            998
           ]
          },
          {
           "line": {
            "color": "red",
            "width": 2
           },
           "mode": "lines",
           "type": "scatter",
           "x": [
            600,
            818
           ],
           "y": [
            1000,
            832
           ]
          },
          {
           "line": {
            "color": "red",
            "width": 2
           },
           "mode": "lines",
           "type": "scatter",
           "x": [
            600,
            954
           ],
           "y": [
            600,
            673
           ]
          },
          {
           "line": {
            "color": "green",
            "width": 2
           },
           "mode": "lines",
           "type": "scatter",
           "x": [
            1000,
            981
           ],
           "y": [
            1400,
            1465
           ]
          },
          {
           "line": {
            "color": "green",
            "width": 2
           },
           "mode": "lines",
           "type": "scatter",
           "x": [
            1000,
            1084
           ],
           "y": [
            1400,
            1162
           ]
          },
          {
           "line": {
            "color": "green",
            "width": 2
           },
           "mode": "lines",
           "type": "scatter",
           "x": [
            1000,
            987
           ],
           "y": [
            1000,
            800
           ]
          },
          {
           "line": {
            "color": "green",
            "width": 2
           },
           "mode": "lines",
           "type": "scatter",
           "x": [
            1400,
            1139
           ],
           "y": [
            600,
            438
           ]
          },
          {
           "line": {
            "color": "red",
            "width": 2
           },
           "mode": "lines",
           "type": "scatter",
           "x": [
            1000,
            1091
           ],
           "y": [
            1000,
            817
           ]
          },
          {
           "line": {
            "color": "red",
            "width": 2
           },
           "mode": "lines",
           "type": "scatter",
           "x": [
            1000,
            966
           ],
           "y": [
            600,
            639
           ]
          },
          {
           "line": {
            "color": "green",
            "width": 2
           },
           "mode": "lines",
           "type": "scatter",
           "x": [
            1000,
            1149
           ],
           "y": [
            200,
            436
           ]
          },
          {
           "line": {
            "color": "green",
            "width": 2
           },
           "mode": "lines",
           "type": "scatter",
           "x": [
            1000,
            1183
           ],
           "y": [
            1000,
            755
           ]
          },
          {
           "line": {
            "color": "green",
            "width": 2
           },
           "mode": "lines",
           "type": "scatter",
           "x": [
            600,
            484
           ],
           "y": [
            200,
            268
           ]
          },
          {
           "line": {
            "color": "green",
            "width": 2
           },
           "mode": "lines",
           "type": "scatter",
           "x": [
            1400,
            1320
           ],
           "y": [
            1000,
            864
           ]
          },
          {
           "line": {
            "color": "green",
            "width": 2
           },
           "mode": "lines",
           "type": "scatter",
           "x": [
            600,
            628
           ],
           "y": [
            1400,
            1382
           ]
          },
          {
           "line": {
            "color": "green",
            "width": 2
           },
           "mode": "lines",
           "type": "scatter",
           "x": [
            1000,
            1133
           ],
           "y": [
            1400,
            1458
           ]
          },
          {
           "line": {
            "color": "green",
            "width": 2
           },
           "mode": "lines",
           "type": "scatter",
           "x": [
            600,
            735
           ],
           "y": [
            1000,
            779
           ]
          },
          {
           "line": {
            "color": "green",
            "width": 2
           },
           "mode": "lines",
           "type": "scatter",
           "x": [
            200,
            200
           ],
           "y": [
            600,
            746
           ]
          },
          {
           "line": {
            "color": "green",
            "width": 2
           },
           "mode": "lines",
           "type": "scatter",
           "x": [
            600,
            457
           ],
           "y": [
            200,
            139
           ]
          },
          {
           "line": {
            "color": "red",
            "width": 2
           },
           "mode": "lines",
           "type": "scatter",
           "x": [
            600,
            676
           ],
           "y": [
            1000,
            884
           ]
          },
          {
           "line": {
            "color": "green",
            "width": 2
           },
           "mode": "lines",
           "type": "scatter",
           "x": [
            200,
            249
           ],
           "y": [
            1000,
            942
           ]
          },
          {
           "line": {
            "color": "green",
            "width": 2
           },
           "mode": "lines",
           "type": "scatter",
           "x": [
            1400,
            1531
           ],
           "y": [
            1400,
            1119
           ]
          },
          {
           "line": {
            "color": "green",
            "width": 2
           },
           "mode": "lines",
           "type": "scatter",
           "x": [
            200,
            192
           ],
           "y": [
            1000,
            916
           ]
          },
          {
           "line": {
            "color": "green",
            "width": 2
           },
           "mode": "lines",
           "type": "scatter",
           "x": [
            1400,
            1064
           ],
           "y": [
            200,
            527
           ]
          },
          {
           "line": {
            "color": "green",
            "width": 2
           },
           "mode": "lines",
           "type": "scatter",
           "x": [
            1400,
            1045
           ],
           "y": [
            200,
            145
           ]
          },
          {
           "line": {
            "color": "green",
            "width": 2
           },
           "mode": "lines",
           "type": "scatter",
           "x": [
            200,
            207
           ],
           "y": [
            1400,
            1252
           ]
          },
          {
           "line": {
            "color": "green",
            "width": 2
           },
           "mode": "lines",
           "type": "scatter",
           "x": [
            200,
            231
           ],
           "y": [
            1400,
            1592
           ]
          },
          {
           "line": {
            "color": "green",
            "width": 2
           },
           "mode": "lines",
           "type": "scatter",
           "x": [
            1000,
            845
           ],
           "y": [
            1000,
            1192
           ]
          },
          {
           "line": {
            "color": "red",
            "width": 2
           },
           "mode": "lines",
           "type": "scatter",
           "x": [
            600,
            633
           ],
           "y": [
            600,
            628
           ]
          },
          {
           "line": {
            "color": "green",
            "width": 2
           },
           "mode": "lines",
           "type": "scatter",
           "x": [
            1000,
            1118
           ],
           "y": [
            1000,
            908
           ]
          },
          {
           "line": {
            "color": "black",
            "width": 2
           },
           "mode": "lines",
           "type": "scatter",
           "x": [
            812,
            812
           ],
           "y": [
            0,
            1600
           ]
          },
          {
           "line": {
            "color": "black",
            "width": 2
           },
           "mode": "lines",
           "type": "scatter",
           "x": [
            812,
            912
           ],
           "y": [
            1600,
            1600
           ]
          },
          {
           "line": {
            "color": "black",
            "width": 2
           },
           "mode": "lines",
           "type": "scatter",
           "x": [
            912,
            912
           ],
           "y": [
            1600,
            0
           ]
          },
          {
           "line": {
            "color": "black",
            "width": 2
           },
           "mode": "lines",
           "type": "scatter",
           "x": [
            812,
            912
           ],
           "y": [
            0,
            0
           ]
          },
          {
           "line": {
            "color": "black",
            "width": 2
           },
           "mode": "lines",
           "type": "scatter",
           "x": [
            0,
            0
           ],
           "y": [
            257,
            357
           ]
          },
          {
           "line": {
            "color": "black",
            "width": 2
           },
           "mode": "lines",
           "type": "scatter",
           "x": [
            0,
            1600
           ],
           "y": [
            357,
            357
           ]
          },
          {
           "line": {
            "color": "black",
            "width": 2
           },
           "mode": "lines",
           "type": "scatter",
           "x": [
            1600,
            1600
           ],
           "y": [
            357,
            257
           ]
          },
          {
           "line": {
            "color": "black",
            "width": 2
           },
           "mode": "lines",
           "type": "scatter",
           "x": [
            0,
            1600
           ],
           "y": [
            257,
            257
           ]
          },
          {
           "line": {
            "color": "black",
            "width": 2
           },
           "mode": "lines",
           "type": "scatter",
           "x": [
            0,
            0
           ],
           "y": [
            85,
            185
           ]
          },
          {
           "line": {
            "color": "black",
            "width": 2
           },
           "mode": "lines",
           "type": "scatter",
           "x": [
            0,
            1600
           ],
           "y": [
            185,
            185
           ]
          },
          {
           "line": {
            "color": "black",
            "width": 2
           },
           "mode": "lines",
           "type": "scatter",
           "x": [
            1600,
            1600
           ],
           "y": [
            185,
            85
           ]
          },
          {
           "line": {
            "color": "black",
            "width": 2
           },
           "mode": "lines",
           "type": "scatter",
           "x": [
            0,
            1600
           ],
           "y": [
            85,
            85
           ]
          },
          {
           "line": {
            "color": "black",
            "width": 2
           },
           "mode": "lines",
           "type": "scatter",
           "x": [
            465,
            465
           ],
           "y": [
            80,
            260
           ]
          },
          {
           "line": {
            "color": "black",
            "width": 2
           },
           "mode": "lines",
           "type": "scatter",
           "x": [
            465,
            556
           ],
           "y": [
            260,
            260
           ]
          },
          {
           "line": {
            "color": "black",
            "width": 2
           },
           "mode": "lines",
           "type": "scatter",
           "x": [
            556,
            556
           ],
           "y": [
            260,
            80
           ]
          },
          {
           "line": {
            "color": "black",
            "width": 2
           },
           "mode": "lines",
           "type": "scatter",
           "x": [
            465,
            556
           ],
           "y": [
            80,
            80
           ]
          },
          {
           "marker": {
            "color": [
             "orange",
             "orange",
             "orange",
             "orange",
             "orange",
             "orange",
             "orange",
             "orange",
             "orange",
             "orange",
             "orange",
             "orange",
             "orange",
             "orange",
             "orange",
             "orange",
             "blue",
             "magenta",
             "magenta",
             "blue",
             "magenta",
             "magenta",
             "magenta",
             "blue",
             "magenta",
             "magenta",
             "magenta",
             "magenta",
             "blue",
             "magenta",
             "blue",
             "magenta",
             "blue",
             "blue",
             "blue",
             "magenta",
             "blue",
             "magenta",
             "magenta",
             "magenta",
             "magenta",
             "magenta",
             "blue",
             "magenta",
             "blue",
             "magenta",
             "magenta",
             "magenta",
             "magenta",
             "blue",
             "blue",
             "magenta",
             "magenta",
             "magenta",
             "magenta",
             "magenta",
             "blue",
             "magenta",
             "magenta",
             "blue",
             "blue",
             "magenta",
             "magenta",
             "magenta",
             "magenta",
             "magenta",
             "blue",
             "blue",
             "magenta",
             "magenta",
             "magenta",
             "magenta",
             "magenta",
             "magenta",
             "magenta",
             "magenta",
             "magenta",
             "magenta",
             "magenta",
             "magenta",
             "magenta",
             "magenta",
             "blue",
             "magenta",
             "blue",
             "magenta",
             "magenta",
             "magenta",
             "blue",
             "magenta",
             "magenta",
             "magenta",
             "blue",
             "magenta",
             "magenta",
             "blue",
             "blue",
             "blue",
             "blue",
             "magenta",
             "magenta",
             "magenta",
             "magenta",
             "magenta",
             "magenta",
             "magenta",
             "magenta",
             "blue",
             "magenta",
             "magenta",
             "magenta",
             "magenta",
             "magenta",
             "blue",
             "magenta",
             "blue",
             "magenta",
             "magenta",
             "blue",
             "magenta",
             "magenta",
             "magenta",
             "magenta",
             "magenta",
             "magenta",
             "magenta",
             "magenta",
             "magenta",
             "magenta",
             "magenta",
             "magenta",
             "magenta",
             "magenta",
             "blue",
             "magenta",
             "magenta",
             "magenta",
             "blue",
             "magenta",
             "magenta",
             "magenta",
             "magenta",
             "magenta",
             "magenta",
             "magenta",
             "magenta",
             "blue",
             "blue",
             "magenta",
             "magenta",
             "magenta",
             "blue",
             "magenta",
             "magenta",
             "magenta",
             "magenta",
             "magenta",
             "magenta",
             "magenta",
             "magenta",
             "magenta",
             "magenta",
             "magenta",
             "magenta",
             "magenta",
             "blue",
             "blue",
             "magenta",
             "magenta",
             "magenta",
             "magenta",
             "magenta",
             "magenta",
             "magenta",
             "magenta",
             "blue",
             "magenta",
             "magenta",
             "magenta",
             "magenta",
             "blue",
             "blue",
             "magenta",
             "magenta",
             "magenta",
             "magenta",
             "magenta",
             "blue",
             "blue",
             "blue",
             "magenta",
             "magenta",
             "magenta",
             "magenta",
             "blue",
             "blue",
             "magenta",
             "magenta",
             "magenta",
             "magenta",
             "magenta",
             "magenta",
             "magenta",
             "magenta",
             "magenta",
             "blue",
             "magenta",
             "magenta",
             "magenta",
             "magenta",
             "magenta",
             "magenta",
             "magenta",
             "magenta",
             "blue",
             "magenta",
             "black",
             "black",
             "black",
             "black",
             "black",
             "black",
             "black",
             "black",
             "black",
             "black",
             "black",
             "black",
             "black",
             "black",
             "black",
             "black"
            ],
            "size": 8
           },
           "mode": "markers",
           "type": "scatter",
           "x": [
            200,
            200,
            200,
            200,
            600,
            600,
            600,
            600,
            1000,
            1000,
            1000,
            1000,
            1400,
            1400,
            1400,
            1400,
            953,
            1167,
            1177,
            1043,
            1382,
            409,
            11,
            600,
            706,
            1462,
            597,
            1296,
            530,
            1448,
            601,
            1522,
            955,
            744,
            693,
            644,
            700,
            372,
            925,
            35,
            861,
            1027,
            937,
            1599,
            668,
            266,
            1026,
            896,
            1529,
            1069,
            588,
            176,
            1492,
            1127,
            666,
            1099,
            699,
            1501,
            972,
            922,
            590,
            256,
            1277,
            48,
            46,
            1052,
            651,
            682,
            205,
            161,
            659,
            1029,
            1157,
            923,
            746,
            1195,
            1100,
            947,
            618,
            840,
            673,
            196,
            546,
            123,
            897,
            1492,
            803,
            1181,
            617,
            1168,
            269,
            538,
            816,
            1379,
            625,
            836,
            851,
            610,
            840,
            1091,
            367,
            86,
            541,
            357,
            349,
            1176,
            168,
            765,
            1403,
            1426,
            826,
            1587,
            1070,
            538,
            511,
            590,
            819,
            347,
            798,
            338,
            858,
            80,
            140,
            46,
            208,
            255,
            1552,
            995,
            1553,
            826,
            415,
            197,
            1141,
            519,
            692,
            1383,
            1239,
            1058,
            302,
            698,
            574,
            1498,
            243,
            1454,
            171,
            1539,
            569,
            676,
            975,
            955,
            293,
            653,
            776,
            131,
            154,
            566,
            847,
            1392,
            525.1053611718219,
            223,
            1179,
            1358,
            755,
            829,
            171,
            514,
            1023,
            594,
            187,
            236,
            1591,
            925,
            590,
            611,
            1453,
            795,
            340,
            428,
            1297,
            1249,
            906,
            633,
            1240,
            152,
            649,
            307,
            1043,
            1062,
            818,
            954,
            981,
            1084,
            987,
            1139,
            1091,
            966,
            1149,
            1183,
            484,
            1320,
            628,
            1133,
            735,
            200,
            457,
            676,
            249,
            1531,
            192,
            1064,
            1045,
            207,
            231,
            845,
            633,
            1118,
            812,
            812,
            912,
            912,
            0,
            0,
            1600,
            1600,
            0,
            0,
            1600,
            1600,
            465,
            465,
            556,
            556
           ],
           "y": [
            200,
            600,
            1000,
            1400,
            200,
            600,
            1000,
            1400,
            200,
            600,
            1000,
            1400,
            200,
            600,
            1000,
            1400,
            528,
            582,
            1284,
            1008,
            796,
            293,
            758,
            791,
            967,
            298,
            1206,
            424,
            565,
            655,
            499,
            148,
            916,
            663,
            1037,
            276,
            954,
            236,
            1157,
            502,
            798,
            377,
            629,
            1173,
            831,
            866,
            1575,
            1255,
            1132,
            853,
            1097,
            128,
            1293,
            518,
            121,
            1057,
            542,
            811,
            901,
            636,
            514,
            169,
            291,
            917,
            714,
            655,
            938,
            940,
            564,
            154,
            1203,
            1586,
            1466,
            757,
            82,
            1437,
            1064,
            1500,
            1199,
            154,
            1069,
            332,
            862,
            443,
            961,
            16,
            1119,
            1062,
            941,
            940,
            1065,
            812,
            930,
            1305,
            785,
            726,
            759,
            685,
            679,
            359,
            138,
            688,
            277,
            603,
            1599,
            117,
            945,
            1029,
            617,
            133,
            1599,
            1049,
            807,
            1098,
            829,
            964,
            545,
            969,
            544,
            564,
            179,
            904,
            1079,
            508,
            1566,
            472,
            698,
            1547,
            287,
            334,
            35,
            212,
            572,
            947,
            1242,
            595,
            1188,
            988,
            1504,
            535,
            1452,
            419,
            594,
            526,
            1237,
            957,
            633,
            1090,
            858,
            916,
            1441,
            731,
            807,
            999,
            745,
            150,
            43,
            846,
            221.21440058148244,
            632,
            384,
            851,
            1244,
            1342,
            1468,
            894,
            659,
            672,
            1417,
            172,
            1464,
            543,
            1073,
            1340,
            70,
            545,
            689,
            1335,
            578,
            1150,
            634,
            535,
            206,
            101,
            1447,
            1262,
            1084,
            998,
            832,
            673,
            1465,
            1162,
            800,
            438,
            817,
            639,
            436,
            755,
            268,
            864,
            1382,
            1458,
            779,
            746,
            139,
            884,
            942,
            1119,
            916,
            527,
            145,
            1252,
            1592,
            1192,
            628,
            908,
            0,
            1600,
            1600,
            0,
            257,
            357,
            357,
            257,
            85,
            185,
            185,
            85,
            80,
            260,
            260,
            80
           ]
          }
         ],
         "layout": {
          "title": "UE and AP Distribution in the grid"
         }
        }
       ],
       "layout": {
        "height": 1000,
        "shapes": [
         {
          "fillcolor": "rgba(128, 0, 128 0.1)",
          "line": {
           "color": "rgba(128, 0, 128, 1)",
           "width": 2
          },
          "type": "rect",
          "x0": 812,
          "x1": 912,
          "y0": 0,
          "y1": 1600
         },
         {
          "fillcolor": "rgba(128, 0, 128 0.1)",
          "line": {
           "color": "rgba(128, 0, 128, 1)",
           "width": 2
          },
          "type": "rect",
          "x0": 0,
          "x1": 1600,
          "y0": 257,
          "y1": 357
         },
         {
          "fillcolor": "rgba(128, 0, 128 0.1)",
          "line": {
           "color": "rgba(128, 0, 128, 1)",
           "width": 2
          },
          "type": "rect",
          "x0": 0,
          "x1": 1600,
          "y0": 85,
          "y1": 185
         },
         {
          "fillcolor": "rgba(128, 0, 128 0.1)",
          "line": {
           "color": "rgba(128, 0, 128, 1)",
           "width": 2
          },
          "type": "rect",
          "x0": 465,
          "x1": 556,
          "y0": 80,
          "y1": 260
         }
        ],
        "showlegend": false,
        "title": "UE and AP Distribution in the grid",
        "updatemenus": [
         {
          "buttons": [
           {
            "args": [
             null
            ],
            "label": "Play",
            "method": "animate"
           }
          ],
          "type": "buttons"
         }
        ],
        "width": 1000,
        "xaxis": {
         "range": [
          0,
          1600
         ],
         "title": "x"
        },
        "yaxis": {
         "range": [
          0,
          1600
         ],
         "title": "y"
        }
       }
      },
      "text/html": [
       "<div id=\"5132b70a-a52b-4fd4-8ca9-3816b5c4c5db\" style=\"height: 1000px; width: 1000px;\" class=\"plotly-graph-div\"></div><script type=\"text/javascript\">require([\"plotly\"], function(Plotly) { window.PLOTLYENV=window.PLOTLYENV || {};window.PLOTLYENV.BASE_URL=\"https://plot.ly\";\n",
       "        Plotly.plot(\n",
       "            '5132b70a-a52b-4fd4-8ca9-3816b5c4c5db',\n",
       "            [{\"type\": \"scatter\", \"x\": [600.0, 953], \"y\": [600.0, 528], \"mode\": \"lines\", \"line\": {\"width\": 2, \"color\": \"green\"}}, {\"type\": \"scatter\", \"x\": [1000.0, 1166], \"y\": [600.0, 582], \"mode\": \"lines\", \"line\": {\"width\": 2, \"color\": \"green\"}}, {\"type\": \"scatter\", \"x\": [1000.0, 1178], \"y\": [1400.0, 1287], \"mode\": \"lines\", \"line\": {\"width\": 2, \"color\": \"green\"}}, {\"type\": \"scatter\", \"x\": [1000.0, 1041], \"y\": [1000.0, 1009], \"mode\": \"lines\", \"line\": {\"width\": 2, \"color\": \"green\"}}, {\"type\": \"scatter\", \"x\": [1400.0, 1381], \"y\": [600.0, 796], \"mode\": \"lines\", \"line\": {\"width\": 2, \"color\": \"green\"}}, {\"type\": \"scatter\", \"x\": [600.0, 499], \"y\": [200.0, 293], \"mode\": \"lines\", \"line\": {\"width\": 2, \"color\": \"green\"}}, {\"type\": \"scatter\", \"x\": [200.0, 12], \"y\": [1000.0, 758], \"mode\": \"lines\", \"line\": {\"width\": 2, \"color\": \"green\"}}, {\"type\": \"scatter\", \"x\": [1000.0, 602], \"y\": [600.0, 794], \"mode\": \"lines\", \"line\": {\"width\": 2, \"color\": \"red\"}}, {\"type\": \"scatter\", \"x\": [600.0, 706], \"y\": [1000.0, 968], \"mode\": \"lines\", \"line\": {\"width\": 2, \"color\": \"green\"}}, {\"type\": \"scatter\", \"x\": [1400.0, 1411], \"y\": [200.0, 298], \"mode\": \"lines\", \"line\": {\"width\": 2, \"color\": \"green\"}}, {\"type\": \"scatter\", \"x\": [600.0, 596], \"y\": [1400.0, 1204], \"mode\": \"lines\", \"line\": {\"width\": 2, \"color\": \"green\"}}, {\"type\": \"scatter\", \"x\": [1400.0, 1292], \"y\": [600.0, 423], \"mode\": \"lines\", \"line\": {\"width\": 2, \"color\": \"green\"}}, {\"type\": \"scatter\", \"x\": [200.0, 529], \"y\": [600.0, 562], \"mode\": \"lines\", \"line\": {\"width\": 2, \"color\": \"red\"}}, {\"type\": \"scatter\", \"x\": [1400.0, 1447], \"y\": [1000.0, 655], \"mode\": \"lines\", \"line\": {\"width\": 2, \"color\": \"green\"}}, {\"type\": \"scatter\", \"x\": [600.0, 603], \"y\": [200.0, 500], \"mode\": \"lines\", \"line\": {\"width\": 2, \"color\": \"green\"}}, {\"type\": \"scatter\", \"x\": [1400.0, 1464], \"y\": [200.0, 148], \"mode\": \"lines\", \"line\": {\"width\": 2, \"color\": \"green\"}}, {\"type\": \"scatter\", \"x\": [600.0, 959], \"y\": [600.0, 915], \"mode\": \"lines\", \"line\": {\"width\": 2, \"color\": \"green\"}}, {\"type\": \"scatter\", \"x\": [600.0, 748], \"y\": [600.0, 664], \"mode\": \"lines\", \"line\": {\"width\": 2, \"color\": \"green\"}}, {\"type\": \"scatter\", \"x\": [600.0, 691], \"y\": [1000.0, 1038], \"mode\": \"lines\", \"line\": {\"width\": 2, \"color\": \"green\"}}, {\"type\": \"scatter\", \"x\": [600.0, 742], \"y\": [200.0, 276], \"mode\": \"lines\", \"line\": {\"width\": 2, \"color\": \"green\"}}, {\"type\": \"scatter\", \"x\": [600.0, 702], \"y\": [1000.0, 957], \"mode\": \"lines\", \"line\": {\"width\": 2, \"color\": \"red\"}}, {\"type\": \"scatter\", \"x\": [200.0, 372], \"y\": [600.0, 235], \"mode\": \"lines\", \"line\": {\"width\": 2, \"color\": \"green\"}}, {\"type\": \"scatter\", \"x\": [1000.0, 921], \"y\": [1000.0, 1158], \"mode\": \"lines\", \"line\": {\"width\": 2, \"color\": \"green\"}}, {\"type\": \"scatter\", \"x\": [200.0, 37], \"y\": [600.0, 504], \"mode\": \"lines\", \"line\": {\"width\": 2, \"color\": \"green\"}}, {\"type\": \"scatter\", \"x\": [1000.0, 861], \"y\": [1000.0, 876], \"mode\": \"lines\", \"line\": {\"width\": 2, \"color\": \"green\"}}, {\"type\": \"scatter\", \"x\": [1400.0, 1026], \"y\": [600.0, 377], \"mode\": \"lines\", \"line\": {\"width\": 2, \"color\": \"green\"}}, {\"type\": \"scatter\", \"x\": [600.0, 938], \"y\": [600.0, 629], \"mode\": \"lines\", \"line\": {\"width\": 2, \"color\": \"red\"}}, {\"type\": \"scatter\", \"x\": [1400.0, 1599], \"y\": [1000.0, 1173], \"mode\": \"lines\", \"line\": {\"width\": 2, \"color\": \"green\"}}, {\"type\": \"scatter\", \"x\": [1000.0, 667], \"y\": [600.0, 831], \"mode\": \"lines\", \"line\": {\"width\": 2, \"color\": \"red\"}}, {\"type\": \"scatter\", \"x\": [200.0, 269], \"y\": [1000.0, 868], \"mode\": \"lines\", \"line\": {\"width\": 2, \"color\": \"green\"}}, {\"type\": \"scatter\", \"x\": [1000.0, 1024], \"y\": [1400.0, 1578], \"mode\": \"lines\", \"line\": {\"width\": 2, \"color\": \"green\"}}, {\"type\": \"scatter\", \"x\": [1000.0, 896], \"y\": [1400.0, 1347], \"mode\": \"lines\", \"line\": {\"width\": 2, \"color\": \"green\"}}, {\"type\": \"scatter\", \"x\": [1400.0, 1527], \"y\": [1400.0, 1130], \"mode\": \"lines\", \"line\": {\"width\": 2, \"color\": \"green\"}}, {\"type\": \"scatter\", \"x\": [1000.0, 1068], \"y\": [1000.0, 853], \"mode\": \"lines\", \"line\": {\"width\": 2, \"color\": \"green\"}}, {\"type\": \"scatter\", \"x\": [600.0, 584], \"y\": [1400.0, 1097], \"mode\": \"lines\", \"line\": {\"width\": 2, \"color\": \"green\"}}, {\"type\": \"scatter\", \"x\": [200.0, 84], \"y\": [200.0, 128], \"mode\": \"lines\", \"line\": {\"width\": 2, \"color\": \"green\"}}, {\"type\": \"scatter\", \"x\": [1400.0, 1492], \"y\": [1000.0, 1293], \"mode\": \"lines\", \"line\": {\"width\": 2, \"color\": \"green\"}}, {\"type\": \"scatter\", \"x\": [1000.0, 1125], \"y\": [600.0, 517], \"mode\": \"lines\", \"line\": {\"width\": 2, \"color\": \"green\"}}, {\"type\": \"scatter\", \"x\": [600.0, 765], \"y\": [200.0, 121], \"mode\": \"lines\", \"line\": {\"width\": 2, \"color\": \"green\"}}, {\"type\": \"scatter\", \"x\": [1400.0, 1099], \"y\": [1400.0, 1056], \"mode\": \"lines\", \"line\": {\"width\": 2, \"color\": \"green\"}}, {\"type\": \"scatter\", \"x\": [600.0, 701], \"y\": [200.0, 541], \"mode\": \"lines\", \"line\": {\"width\": 2, \"color\": \"red\"}}, {\"type\": \"scatter\", \"x\": [1400.0, 1498], \"y\": [1000.0, 811], \"mode\": \"lines\", \"line\": {\"width\": 2, \"color\": \"green\"}}, {\"type\": \"scatter\", \"x\": [1000.0, 971], \"y\": [1000.0, 902], \"mode\": \"lines\", \"line\": {\"width\": 2, \"color\": \"green\"}}, {\"type\": \"scatter\", \"x\": [1000.0, 920], \"y\": [600.0, 636], \"mode\": \"lines\", \"line\": {\"width\": 2, \"color\": \"green\"}}, {\"type\": \"scatter\", \"x\": [600.0, 588], \"y\": [200.0, 510], \"mode\": \"lines\", \"line\": {\"width\": 2, \"color\": \"red\"}}, {\"type\": \"scatter\", \"x\": [200.0, 167], \"y\": [200.0, 169], \"mode\": \"lines\", \"line\": {\"width\": 2, \"color\": \"green\"}}, {\"type\": \"scatter\", \"x\": [1400.0, 1395], \"y\": [200.0, 291], \"mode\": \"lines\", \"line\": {\"width\": 2, \"color\": \"green\"}}, {\"type\": \"scatter\", \"x\": [200.0, 52], \"y\": [600.0, 919], \"mode\": \"lines\", \"line\": {\"width\": 2, \"color\": \"green\"}}, {\"type\": \"scatter\", \"x\": [200.0, 46], \"y\": [1000.0, 714], \"mode\": \"lines\", \"line\": {\"width\": 2, \"color\": \"green\"}}, {\"type\": \"scatter\", \"x\": [1000.0, 1053], \"y\": [600.0, 657], \"mode\": \"lines\", \"line\": {\"width\": 2, \"color\": \"green\"}}, {\"type\": \"scatter\", \"x\": [600.0, 650], \"y\": [1000.0, 942], \"mode\": \"lines\", \"line\": {\"width\": 2, \"color\": \"red\"}}, {\"type\": \"scatter\", \"x\": [600.0, 683], \"y\": [1000.0, 939], \"mode\": \"lines\", \"line\": {\"width\": 2, \"color\": \"green\"}}, {\"type\": \"scatter\", \"x\": [200.0, 203], \"y\": [600.0, 561], \"mode\": \"lines\", \"line\": {\"width\": 2, \"color\": \"green\"}}, {\"type\": \"scatter\", \"x\": [600.0, 247], \"y\": [200.0, 154], \"mode\": \"lines\", \"line\": {\"width\": 2, \"color\": \"green\"}}, {\"type\": \"scatter\", \"x\": [600.0, 659], \"y\": [1400.0, 1203], \"mode\": \"lines\", \"line\": {\"width\": 2, \"color\": \"green\"}}, {\"type\": \"scatter\", \"x\": [1000.0, 1027], \"y\": [1400.0, 1587], \"mode\": \"lines\", \"line\": {\"width\": 2, \"color\": \"green\"}}, {\"type\": \"scatter\", \"x\": [1000.0, 1155], \"y\": [1400.0, 1463], \"mode\": \"lines\", \"line\": {\"width\": 2, \"color\": \"green\"}}, {\"type\": \"scatter\", \"x\": [1000.0, 925], \"y\": [1000.0, 753], \"mode\": \"lines\", \"line\": {\"width\": 2, \"color\": \"green\"}}, {\"type\": \"scatter\", \"x\": [600.0, 747], \"y\": [200.0, 79], \"mode\": \"lines\", \"line\": {\"width\": 2, \"color\": \"green\"}}, {\"type\": \"scatter\", \"x\": [1400.0, 1193], \"y\": [1400.0, 1439], \"mode\": \"lines\", \"line\": {\"width\": 2, \"color\": \"green\"}}, {\"type\": \"scatter\", \"x\": [1400.0, 1103], \"y\": [1000.0, 1067], \"mode\": \"lines\", \"line\": {\"width\": 2, \"color\": \"green\"}}, {\"type\": \"scatter\", \"x\": [1000.0, 944], \"y\": [1400.0, 1502], \"mode\": \"lines\", \"line\": {\"width\": 2, \"color\": \"green\"}}, {\"type\": \"scatter\", \"x\": [600.0, 618], \"y\": [1000.0, 1198], \"mode\": \"lines\", \"line\": {\"width\": 2, \"color\": \"green\"}}, {\"type\": \"scatter\", \"x\": [600.0, 922], \"y\": [200.0, 154], \"mode\": \"lines\", \"line\": {\"width\": 2, \"color\": \"green\"}}, {\"type\": \"scatter\", \"x\": [600.0, 672], \"y\": [1400.0, 1072], \"mode\": \"lines\", \"line\": {\"width\": 2, \"color\": \"green\"}}, {\"type\": \"scatter\", \"x\": [200.0, 126], \"y\": [600.0, 332], \"mode\": \"lines\", \"line\": {\"width\": 2, \"color\": \"green\"}}, {\"type\": \"scatter\", \"x\": [600.0, 546], \"y\": [600.0, 858], \"mode\": \"lines\", \"line\": {\"width\": 2, \"color\": \"red\"}}, {\"type\": \"scatter\", \"x\": [200.0, 119], \"y\": [600.0, 444], \"mode\": \"lines\", \"line\": {\"width\": 2, \"color\": \"green\"}}, {\"type\": \"scatter\", \"x\": [600.0, 897], \"y\": [1000.0, 852], \"mode\": \"lines\", \"line\": {\"width\": 2, \"color\": \"red\"}}, {\"type\": \"scatter\", \"x\": [1400.0, 1491], \"y\": [200.0, 12], \"mode\": \"lines\", \"line\": {\"width\": 2, \"color\": \"green\"}}, {\"type\": \"scatter\", \"x\": [1000.0, 800], \"y\": [1000.0, 1120], \"mode\": \"lines\", \"line\": {\"width\": 2, \"color\": \"green\"}}, {\"type\": \"scatter\", \"x\": [1000.0, 1185], \"y\": [1000.0, 1064], \"mode\": \"lines\", \"line\": {\"width\": 2, \"color\": \"green\"}}, {\"type\": \"scatter\", \"x\": [600.0, 615], \"y\": [1000.0, 941], \"mode\": \"lines\", \"line\": {\"width\": 2, \"color\": \"green\"}}, {\"type\": \"scatter\", \"x\": [1400.0, 1167], \"y\": [1000.0, 938], \"mode\": \"lines\", \"line\": {\"width\": 2, \"color\": \"green\"}}, {\"type\": \"scatter\", \"x\": [200.0, 270], \"y\": [1000.0, 1064], \"mode\": \"lines\", \"line\": {\"width\": 2, \"color\": \"green\"}}, {\"type\": \"scatter\", \"x\": [200.0, 537], \"y\": [1000.0, 814], \"mode\": \"lines\", \"line\": {\"width\": 2, \"color\": \"green\"}}, {\"type\": \"scatter\", \"x\": [1000.0, 816], \"y\": [1000.0, 1008], \"mode\": \"lines\", \"line\": {\"width\": 2, \"color\": \"green\"}}, {\"type\": \"scatter\", \"x\": [1400.0, 1379], \"y\": [1400.0, 1306], \"mode\": \"lines\", \"line\": {\"width\": 2, \"color\": \"green\"}}, {\"type\": \"scatter\", \"x\": [600.0, 626], \"y\": [600.0, 781], \"mode\": \"lines\", \"line\": {\"width\": 2, \"color\": \"green\"}}, {\"type\": \"scatter\", \"x\": [1000.0, 836], \"y\": [1000.0, 675], \"mode\": \"lines\", \"line\": {\"width\": 2, \"color\": \"red\"}}, {\"type\": \"scatter\", \"x\": [600.0, 851], \"y\": [1000.0, 852], \"mode\": \"lines\", \"line\": {\"width\": 2, \"color\": \"red\"}}, {\"type\": \"scatter\", \"x\": [600.0, 609], \"y\": [1000.0, 686], \"mode\": \"lines\", \"line\": {\"width\": 2, \"color\": \"red\"}}, {\"type\": \"scatter\", \"x\": [1000.0, 840], \"y\": [600.0, 749], \"mode\": \"lines\", \"line\": {\"width\": 2, \"color\": \"green\"}}, {\"type\": \"scatter\", \"x\": [1000.0, 1092], \"y\": [600.0, 360], \"mode\": \"lines\", \"line\": {\"width\": 2, \"color\": \"green\"}}, {\"type\": \"scatter\", \"x\": [200.0, 281], \"y\": [200.0, 138], \"mode\": \"lines\", \"line\": {\"width\": 2, \"color\": \"green\"}}, {\"type\": \"scatter\", \"x\": [200.0, 86], \"y\": [600.0, 688], \"mode\": \"lines\", \"line\": {\"width\": 2, \"color\": \"green\"}}, {\"type\": \"scatter\", \"x\": [600.0, 491], \"y\": [200.0, 277], \"mode\": \"lines\", \"line\": {\"width\": 2, \"color\": \"green\"}}, {\"type\": \"scatter\", \"x\": [200.0, 356], \"y\": [600.0, 607], \"mode\": \"lines\", \"line\": {\"width\": 2, \"color\": \"green\"}}, {\"type\": \"scatter\", \"x\": [600.0, 351], \"y\": [1400.0, 1595], \"mode\": \"lines\", \"line\": {\"width\": 2, \"color\": \"green\"}}, {\"type\": \"scatter\", \"x\": [1000.0, 1084], \"y\": [200.0, 117], \"mode\": \"lines\", \"line\": {\"width\": 2, \"color\": \"green\"}}, {\"type\": \"scatter\", \"x\": [200.0, 168], \"y\": [600.0, 945], \"mode\": \"lines\", \"line\": {\"width\": 2, \"color\": \"green\"}}, {\"type\": \"scatter\", \"x\": [600.0, 768], \"y\": [1000.0, 1028], \"mode\": \"lines\", \"line\": {\"width\": 2, \"color\": \"red\"}}, {\"type\": \"scatter\", \"x\": [1400.0, 1406], \"y\": [1000.0, 620], \"mode\": \"lines\", \"line\": {\"width\": 2, \"color\": \"green\"}}, {\"type\": \"scatter\", \"x\": [1400.0, 1491], \"y\": [200.0, 133], \"mode\": \"lines\", \"line\": {\"width\": 2, \"color\": \"green\"}}, {\"type\": \"scatter\", \"x\": [1000.0, 826], \"y\": [1400.0, 1532], \"mode\": \"lines\", \"line\": {\"width\": 2, \"color\": \"green\"}}, {\"type\": \"scatter\", \"x\": [1400.0, 1584], \"y\": [1400.0, 1048], \"mode\": \"lines\", \"line\": {\"width\": 2, \"color\": \"green\"}}, {\"type\": \"scatter\", \"x\": [1000.0, 1069], \"y\": [1000.0, 803], \"mode\": \"lines\", \"line\": {\"width\": 2, \"color\": \"green\"}}, {\"type\": \"scatter\", \"x\": [600.0, 539], \"y\": [1400.0, 1096], \"mode\": \"lines\", \"line\": {\"width\": 2, \"color\": \"green\"}}, {\"type\": \"scatter\", \"x\": [200.0, 514], \"y\": [600.0, 827], \"mode\": \"lines\", \"line\": {\"width\": 2, \"color\": \"green\"}}, {\"type\": \"scatter\", \"x\": [600.0, 590], \"y\": [1000.0, 965], \"mode\": \"lines\", \"line\": {\"width\": 2, \"color\": \"red\"}}, {\"type\": \"scatter\", \"x\": [1000.0, 819], \"y\": [600.0, 478], \"mode\": \"lines\", \"line\": {\"width\": 2, \"color\": \"green\"}}, {\"type\": \"scatter\", \"x\": [200.0, 347], \"y\": [1000.0, 972], \"mode\": \"lines\", \"line\": {\"width\": 2, \"color\": \"green\"}}, {\"type\": \"scatter\", \"x\": [1000.0, 796], \"y\": [600.0, 546], \"mode\": \"lines\", \"line\": {\"width\": 2, \"color\": \"red\"}}, {\"type\": \"scatter\", \"x\": [200.0, 339], \"y\": [600.0, 568], \"mode\": \"lines\", \"line\": {\"width\": 2, \"color\": \"green\"}}, {\"type\": \"scatter\", \"x\": [600.0, 933], \"y\": [200.0, 179], \"mode\": \"lines\", \"line\": {\"width\": 2, \"color\": \"green\"}}, {\"type\": \"scatter\", \"x\": [200.0, 81], \"y\": [600.0, 906], \"mode\": \"lines\", \"line\": {\"width\": 2, \"color\": \"green\"}}, {\"type\": \"scatter\", \"x\": [200.0, 138], \"y\": [1000.0, 1080], \"mode\": \"lines\", \"line\": {\"width\": 2, \"color\": \"green\"}}, {\"type\": \"scatter\", \"x\": [200.0, 42], \"y\": [600.0, 510], \"mode\": \"lines\", \"line\": {\"width\": 2, \"color\": \"green\"}}, {\"type\": \"scatter\", \"x\": [200.0, 208], \"y\": [1400.0, 1568], \"mode\": \"lines\", \"line\": {\"width\": 2, \"color\": \"green\"}}, {\"type\": \"scatter\", \"x\": [600.0, 259], \"y\": [600.0, 472], \"mode\": \"lines\", \"line\": {\"width\": 2, \"color\": \"green\"}}, {\"type\": \"scatter\", \"x\": [1400.0, 1555], \"y\": [600.0, 700], \"mode\": \"lines\", \"line\": {\"width\": 2, \"color\": \"green\"}}, {\"type\": \"scatter\", \"x\": [1000.0, 995], \"y\": [1400.0, 1547], \"mode\": \"lines\", \"line\": {\"width\": 2, \"color\": \"green\"}}, {\"type\": \"scatter\", \"x\": [1400.0, 1472], \"y\": [200.0, 287], \"mode\": \"lines\", \"line\": {\"width\": 2, \"color\": \"green\"}}, {\"type\": \"scatter\", \"x\": [600.0, 728], \"y\": [200.0, 334], \"mode\": \"lines\", \"line\": {\"width\": 2, \"color\": \"green\"}}, {\"type\": \"scatter\", \"x\": [200.0, 414], \"y\": [200.0, 32], \"mode\": \"lines\", \"line\": {\"width\": 2, \"color\": \"green\"}}, {\"type\": \"scatter\", \"x\": [200.0, 199], \"y\": [200.0, 214], \"mode\": \"lines\", \"line\": {\"width\": 2, \"color\": \"green\"}}, {\"type\": \"scatter\", \"x\": [1000.0, 1138], \"y\": [600.0, 575], \"mode\": \"lines\", \"line\": {\"width\": 2, \"color\": \"green\"}}, {\"type\": \"scatter\", \"x\": [200.0, 521], \"y\": [600.0, 949], \"mode\": \"lines\", \"line\": {\"width\": 2, \"color\": \"red\"}}, {\"type\": \"scatter\", \"x\": [1000.0, 696], \"y\": [1000.0, 1241], \"mode\": \"lines\", \"line\": {\"width\": 2, \"color\": \"green\"}}, {\"type\": \"scatter\", \"x\": [1400.0, 1382], \"y\": [600.0, 596], \"mode\": \"lines\", \"line\": {\"width\": 2, \"color\": \"green\"}}, {\"type\": \"scatter\", \"x\": [1000.0, 1240], \"y\": [1000.0, 1188], \"mode\": \"lines\", \"line\": {\"width\": 2, \"color\": \"green\"}}, {\"type\": \"scatter\", \"x\": [1000.0, 1057], \"y\": [1000.0, 989], \"mode\": \"lines\", \"line\": {\"width\": 2, \"color\": \"red\"}}, {\"type\": \"scatter\", \"x\": [200.0, 302], \"y\": [1400.0, 1508], \"mode\": \"lines\", \"line\": {\"width\": 2, \"color\": \"green\"}}, {\"type\": \"scatter\", \"x\": [1000.0, 698], \"y\": [600.0, 536], \"mode\": \"lines\", \"line\": {\"width\": 2, \"color\": \"green\"}}, {\"type\": \"scatter\", \"x\": [600.0, 575], \"y\": [1400.0, 1452], \"mode\": \"lines\", \"line\": {\"width\": 2, \"color\": \"green\"}}, {\"type\": \"scatter\", \"x\": [1400.0, 1499], \"y\": [600.0, 416], \"mode\": \"lines\", \"line\": {\"width\": 2, \"color\": \"green\"}}, {\"type\": \"scatter\", \"x\": [200.0, 242], \"y\": [600.0, 596], \"mode\": \"lines\", \"line\": {\"width\": 2, \"color\": \"green\"}}, {\"type\": \"scatter\", \"x\": [1400.0, 1451], \"y\": [600.0, 528], \"mode\": \"lines\", \"line\": {\"width\": 2, \"color\": \"green\"}}, {\"type\": \"scatter\", \"x\": [200.0, 171], \"y\": [1400.0, 1237], \"mode\": \"lines\", \"line\": {\"width\": 2, \"color\": \"green\"}}, {\"type\": \"scatter\", \"x\": [1400.0, 1538], \"y\": [1000.0, 959], \"mode\": \"lines\", \"line\": {\"width\": 2, \"color\": \"green\"}}, {\"type\": \"scatter\", \"x\": [600.0, 569], \"y\": [600.0, 633], \"mode\": \"lines\", \"line\": {\"width\": 2, \"color\": \"green\"}}, {\"type\": \"scatter\", \"x\": [600.0, 677], \"y\": [1400.0, 1091], \"mode\": \"lines\", \"line\": {\"width\": 2, \"color\": \"green\"}}, {\"type\": \"scatter\", \"x\": [1000.0, 972], \"y\": [1000.0, 855], \"mode\": \"lines\", \"line\": {\"width\": 2, \"color\": \"green\"}}, {\"type\": \"scatter\", \"x\": [1000.0, 951], \"y\": [1000.0, 914], \"mode\": \"lines\", \"line\": {\"width\": 2, \"color\": \"green\"}}, {\"type\": \"scatter\", \"x\": [200.0, 294], \"y\": [1400.0, 1443], \"mode\": \"lines\", \"line\": {\"width\": 2, \"color\": \"green\"}}, {\"type\": \"scatter\", \"x\": [600.0, 651], \"y\": [600.0, 728], \"mode\": \"lines\", \"line\": {\"width\": 2, \"color\": \"red\"}}, {\"type\": \"scatter\", \"x\": [600.0, 773], \"y\": [1000.0, 807], \"mode\": \"lines\", \"line\": {\"width\": 2, \"color\": \"green\"}}, {\"type\": \"scatter\", \"x\": [200.0, 134], \"y\": [1000.0, 1000], \"mode\": \"lines\", \"line\": {\"width\": 2, \"color\": \"green\"}}, {\"type\": \"scatter\", \"x\": [200.0, 158], \"y\": [600.0, 746], \"mode\": \"lines\", \"line\": {\"width\": 2, \"color\": \"green\"}}, {\"type\": \"scatter\", \"x\": [600.0, 629], \"y\": [200.0, 150], \"mode\": \"lines\", \"line\": {\"width\": 2, \"color\": \"green\"}}, {\"type\": \"scatter\", \"x\": [1000.0, 847], \"y\": [200.0, 114], \"mode\": \"lines\", \"line\": {\"width\": 2, \"color\": \"green\"}}, {\"type\": \"scatter\", \"x\": [1400.0, 1392], \"y\": [1000.0, 847], \"mode\": \"lines\", \"line\": {\"width\": 2, \"color\": \"green\"}}, {\"type\": \"scatter\", \"x\": [600.0, 524], \"y\": [200.0, 222], \"mode\": \"lines\", \"line\": {\"width\": 2, \"color\": \"green\"}}, {\"type\": \"scatter\", \"x\": [200.0, 222], \"y\": [600.0, 630], \"mode\": \"lines\", \"line\": {\"width\": 2, \"color\": \"green\"}}, {\"type\": \"scatter\", \"x\": [1000.0, 1178], \"y\": [200.0, 385], \"mode\": \"lines\", \"line\": {\"width\": 2, \"color\": \"green\"}}, {\"type\": \"scatter\", \"x\": [1400.0, 1361], \"y\": [1000.0, 851], \"mode\": \"lines\", \"line\": {\"width\": 2, \"color\": \"green\"}}, {\"type\": \"scatter\", \"x\": [600.0, 752], \"y\": [1400.0, 1246], \"mode\": \"lines\", \"line\": {\"width\": 2, \"color\": \"green\"}}, {\"type\": \"scatter\", \"x\": [1000.0, 829], \"y\": [1000.0, 1386], \"mode\": \"lines\", \"line\": {\"width\": 2, \"color\": \"green\"}}, {\"type\": \"scatter\", \"x\": [200.0, 171], \"y\": [1400.0, 1468], \"mode\": \"lines\", \"line\": {\"width\": 2, \"color\": \"green\"}}, {\"type\": \"scatter\", \"x\": [600.0, 516], \"y\": [600.0, 896], \"mode\": \"lines\", \"line\": {\"width\": 2, \"color\": \"red\"}}, {\"type\": \"scatter\", \"x\": [1000.0, 1021], \"y\": [600.0, 660], \"mode\": \"lines\", \"line\": {\"width\": 2, \"color\": \"green\"}}, {\"type\": \"scatter\", \"x\": [600.0, 594], \"y\": [1000.0, 672], \"mode\": \"lines\", \"line\": {\"width\": 2, \"color\": \"green\"}}, {\"type\": \"scatter\", \"x\": [200.0, 186], \"y\": [1400.0, 1415], \"mode\": \"lines\", \"line\": {\"width\": 2, \"color\": \"green\"}}, {\"type\": \"scatter\", \"x\": [200.0, 162], \"y\": [200.0, 172], \"mode\": \"lines\", \"line\": {\"width\": 2, \"color\": \"green\"}}, {\"type\": \"scatter\", \"x\": [1400.0, 1594], \"y\": [1400.0, 1461], \"mode\": \"lines\", \"line\": {\"width\": 2, \"color\": \"green\"}}, {\"type\": \"scatter\", \"x\": [1000.0, 921], \"y\": [600.0, 543], \"mode\": \"lines\", \"line\": {\"width\": 2, \"color\": \"green\"}}, {\"type\": \"scatter\", \"x\": [200.0, 591], \"y\": [1000.0, 1070], \"mode\": \"lines\", \"line\": {\"width\": 2, \"color\": \"green\"}}, {\"type\": \"scatter\", \"x\": [600.0, 609], \"y\": [1400.0, 1341], \"mode\": \"lines\", \"line\": {\"width\": 2, \"color\": \"green\"}}, {\"type\": \"scatter\", \"x\": [1400.0, 1450], \"y\": [200.0, 69], \"mode\": \"lines\", \"line\": {\"width\": 2, \"color\": \"green\"}}, {\"type\": \"scatter\", \"x\": [1000.0, 796], \"y\": [600.0, 546], \"mode\": \"lines\", \"line\": {\"width\": 2, \"color\": \"red\"}}, {\"type\": \"scatter\", \"x\": [600.0, 338], \"y\": [1000.0, 687], \"mode\": \"lines\", \"line\": {\"width\": 2, \"color\": \"green\"}}, {\"type\": \"scatter\", \"x\": [600.0, 426], \"y\": [1400.0, 1332], \"mode\": \"lines\", \"line\": {\"width\": 2, \"color\": \"green\"}}, {\"type\": \"scatter\", \"x\": [1400.0, 1294], \"y\": [600.0, 579], \"mode\": \"lines\", \"line\": {\"width\": 2, \"color\": \"green\"}}, {\"type\": \"scatter\", \"x\": [1400.0, 1252], \"y\": [1000.0, 1148], \"mode\": \"lines\", \"line\": {\"width\": 2, \"color\": \"green\"}}, {\"type\": \"scatter\", \"x\": [1000.0, 906], \"y\": [600.0, 555], \"mode\": \"lines\", \"line\": {\"width\": 2, \"color\": \"red\"}}, {\"type\": \"scatter\", \"x\": [600.0, 632], \"y\": [600.0, 538], \"mode\": \"lines\", \"line\": {\"width\": 2, \"color\": \"green\"}}, {\"type\": \"scatter\", \"x\": [1400.0, 1238], \"y\": [200.0, 210], \"mode\": \"lines\", \"line\": {\"width\": 2, \"color\": \"green\"}}, {\"type\": \"scatter\", \"x\": [200.0, 249], \"y\": [200.0, 101], \"mode\": \"lines\", \"line\": {\"width\": 2, \"color\": \"green\"}}, {\"type\": \"scatter\", \"x\": [1000.0, 648], \"y\": [1400.0, 1449], \"mode\": \"lines\", \"line\": {\"width\": 2, \"color\": \"green\"}}, {\"type\": \"scatter\", \"x\": [200.0, 307], \"y\": [1400.0, 1262], \"mode\": \"lines\", \"line\": {\"width\": 2, \"color\": \"green\"}}, {\"type\": \"scatter\", \"x\": [1000.0, 1039], \"y\": [1000.0, 1084], \"mode\": \"lines\", \"line\": {\"width\": 2, \"color\": \"green\"}}, {\"type\": \"scatter\", \"x\": [1000.0, 1062], \"y\": [1000.0, 999], \"mode\": \"lines\", \"line\": {\"width\": 2, \"color\": \"red\"}}, {\"type\": \"scatter\", \"x\": [600.0, 818], \"y\": [1000.0, 887], \"mode\": \"lines\", \"line\": {\"width\": 2, \"color\": \"red\"}}, {\"type\": \"scatter\", \"x\": [1000.0, 956], \"y\": [1000.0, 674], \"mode\": \"lines\", \"line\": {\"width\": 2, \"color\": \"red\"}}, {\"type\": \"scatter\", \"x\": [1000.0, 985], \"y\": [1400.0, 1464], \"mode\": \"lines\", \"line\": {\"width\": 2, \"color\": \"green\"}}, {\"type\": \"scatter\", \"x\": [1000.0, 1084], \"y\": [1400.0, 1162], \"mode\": \"lines\", \"line\": {\"width\": 2, \"color\": \"green\"}}, {\"type\": \"scatter\", \"x\": [1000.0, 990], \"y\": [1000.0, 802], \"mode\": \"lines\", \"line\": {\"width\": 2, \"color\": \"green\"}}, {\"type\": \"scatter\", \"x\": [1000.0, 1139], \"y\": [200.0, 437], \"mode\": \"lines\", \"line\": {\"width\": 2, \"color\": \"green\"}}, {\"type\": \"scatter\", \"x\": [1000.0, 1091], \"y\": [600.0, 817], \"mode\": \"lines\", \"line\": {\"width\": 2, \"color\": \"red\"}}, {\"type\": \"scatter\", \"x\": [1000.0, 968], \"y\": [1000.0, 635], \"mode\": \"lines\", \"line\": {\"width\": 2, \"color\": \"red\"}}, {\"type\": \"scatter\", \"x\": [1000.0, 1153], \"y\": [200.0, 436], \"mode\": \"lines\", \"line\": {\"width\": 2, \"color\": \"green\"}}, {\"type\": \"scatter\", \"x\": [1000.0, 1180], \"y\": [1000.0, 756], \"mode\": \"lines\", \"line\": {\"width\": 2, \"color\": \"green\"}}, {\"type\": \"scatter\", \"x\": [600.0, 545], \"y\": [200.0, 268], \"mode\": \"lines\", \"line\": {\"width\": 2, \"color\": \"green\"}}, {\"type\": \"scatter\", \"x\": [1400.0, 1317], \"y\": [1000.0, 862], \"mode\": \"lines\", \"line\": {\"width\": 2, \"color\": \"green\"}}, {\"type\": \"scatter\", \"x\": [600.0, 629], \"y\": [1400.0, 1379], \"mode\": \"lines\", \"line\": {\"width\": 2, \"color\": \"green\"}}, {\"type\": \"scatter\", \"x\": [1000.0, 1134], \"y\": [1400.0, 1461], \"mode\": \"lines\", \"line\": {\"width\": 2, \"color\": \"green\"}}, {\"type\": \"scatter\", \"x\": [600.0, 733], \"y\": [1000.0, 778], \"mode\": \"lines\", \"line\": {\"width\": 2, \"color\": \"green\"}}, {\"type\": \"scatter\", \"x\": [200.0, 201], \"y\": [600.0, 746], \"mode\": \"lines\", \"line\": {\"width\": 2, \"color\": \"green\"}}, {\"type\": \"scatter\", \"x\": [600.0, 536], \"y\": [200.0, 139], \"mode\": \"lines\", \"line\": {\"width\": 2, \"color\": \"green\"}}, {\"type\": \"scatter\", \"x\": [600.0, 675], \"y\": [1000.0, 883], \"mode\": \"lines\", \"line\": {\"width\": 2, \"color\": \"red\"}}, {\"type\": \"scatter\", \"x\": [200.0, 249], \"y\": [1000.0, 942], \"mode\": \"lines\", \"line\": {\"width\": 2, \"color\": \"green\"}}, {\"type\": \"scatter\", \"x\": [1400.0, 1530], \"y\": [1400.0, 1118], \"mode\": \"lines\", \"line\": {\"width\": 2, \"color\": \"green\"}}, {\"type\": \"scatter\", \"x\": [200.0, 191], \"y\": [1000.0, 913], \"mode\": \"lines\", \"line\": {\"width\": 2, \"color\": \"green\"}}, {\"type\": \"scatter\", \"x\": [1400.0, 1067], \"y\": [200.0, 529], \"mode\": \"lines\", \"line\": {\"width\": 2, \"color\": \"green\"}}, {\"type\": \"scatter\", \"x\": [1000.0, 1105], \"y\": [200.0, 145], \"mode\": \"lines\", \"line\": {\"width\": 2, \"color\": \"green\"}}, {\"type\": \"scatter\", \"x\": [200.0, 209], \"y\": [1400.0, 1255], \"mode\": \"lines\", \"line\": {\"width\": 2, \"color\": \"green\"}}, {\"type\": \"scatter\", \"x\": [200.0, 232], \"y\": [1400.0, 1591], \"mode\": \"lines\", \"line\": {\"width\": 2, \"color\": \"green\"}}, {\"type\": \"scatter\", \"x\": [1000.0, 845], \"y\": [1000.0, 1116], \"mode\": \"lines\", \"line\": {\"width\": 2, \"color\": \"green\"}}, {\"type\": \"scatter\", \"x\": [1000.0, 634], \"y\": [600.0, 627], \"mode\": \"lines\", \"line\": {\"width\": 2, \"color\": \"red\"}}, {\"type\": \"scatter\", \"x\": [1000.0, 1120], \"y\": [1000.0, 910], \"mode\": \"lines\", \"line\": {\"width\": 2, \"color\": \"green\"}}, {\"type\": \"scatter\", \"x\": [812, 812], \"y\": [0, 1600.0], \"mode\": \"lines\", \"line\": {\"width\": 2, \"color\": \"black\"}}, {\"type\": \"scatter\", \"x\": [812, 912], \"y\": [1600.0, 1600.0], \"mode\": \"lines\", \"line\": {\"width\": 2, \"color\": \"black\"}}, {\"type\": \"scatter\", \"x\": [912, 912], \"y\": [1600.0, 0], \"mode\": \"lines\", \"line\": {\"width\": 2, \"color\": \"black\"}}, {\"type\": \"scatter\", \"x\": [812, 912], \"y\": [0, 0], \"mode\": \"lines\", \"line\": {\"width\": 2, \"color\": \"black\"}}, {\"type\": \"scatter\", \"x\": [0, 0], \"y\": [257, 357], \"mode\": \"lines\", \"line\": {\"width\": 2, \"color\": \"black\"}}, {\"type\": \"scatter\", \"x\": [0, 1600.0], \"y\": [357, 357], \"mode\": \"lines\", \"line\": {\"width\": 2, \"color\": \"black\"}}, {\"type\": \"scatter\", \"x\": [1600.0, 1600.0], \"y\": [357, 257], \"mode\": \"lines\", \"line\": {\"width\": 2, \"color\": \"black\"}}, {\"type\": \"scatter\", \"x\": [0, 1600.0], \"y\": [257, 257], \"mode\": \"lines\", \"line\": {\"width\": 2, \"color\": \"black\"}}, {\"type\": \"scatter\", \"x\": [0, 0], \"y\": [85, 185], \"mode\": \"lines\", \"line\": {\"width\": 2, \"color\": \"black\"}}, {\"type\": \"scatter\", \"x\": [0, 1600.0], \"y\": [185, 185], \"mode\": \"lines\", \"line\": {\"width\": 2, \"color\": \"black\"}}, {\"type\": \"scatter\", \"x\": [1600.0, 1600.0], \"y\": [185, 85], \"mode\": \"lines\", \"line\": {\"width\": 2, \"color\": \"black\"}}, {\"type\": \"scatter\", \"x\": [0, 1600.0], \"y\": [85, 85], \"mode\": \"lines\", \"line\": {\"width\": 2, \"color\": \"black\"}}, {\"type\": \"scatter\", \"x\": [465, 465], \"y\": [80, 260], \"mode\": \"lines\", \"line\": {\"width\": 2, \"color\": \"black\"}}, {\"type\": \"scatter\", \"x\": [465, 556], \"y\": [260, 260], \"mode\": \"lines\", \"line\": {\"width\": 2, \"color\": \"black\"}}, {\"type\": \"scatter\", \"x\": [556, 556], \"y\": [260, 80], \"mode\": \"lines\", \"line\": {\"width\": 2, \"color\": \"black\"}}, {\"type\": \"scatter\", \"x\": [465, 556], \"y\": [80, 80], \"mode\": \"lines\", \"line\": {\"width\": 2, \"color\": \"black\"}}, {\"type\": \"scatter\", \"x\": [200.0, 200.0, 200.0, 200.0, 600.0, 600.0, 600.0, 600.0, 1000.0, 1000.0, 1000.0, 1000.0, 1400.0, 1400.0, 1400.0, 1400.0, 953, 1166, 1178, 1041, 1381, 499, 12, 602, 706, 1411, 596, 1292, 529, 1447, 603, 1464, 959, 748, 691, 742, 702, 372, 921, 37, 861, 1026, 938, 1599, 667, 269, 1024, 896, 1527, 1068, 584, 84, 1492, 1125, 765, 1099, 701, 1498, 971, 920, 588, 167, 1395, 52, 46, 1053, 650, 683, 203, 247, 659, 1027, 1155, 925, 747, 1193, 1103, 944, 618, 922, 672, 126, 546, 119, 897, 1491, 800, 1185, 615, 1167, 270, 537, 816, 1379, 626, 836, 851, 609, 840, 1092, 281, 86, 491, 356, 351, 1084, 168, 768, 1406, 1491, 826, 1584, 1069, 539, 514, 590, 819, 347, 796, 339, 933, 81, 138, 42, 208, 259, 1555, 995, 1472, 728, 414, 199, 1138, 521, 696, 1382, 1240, 1057, 302, 698, 575, 1499, 242, 1451, 171, 1538, 569, 677, 972, 951, 294, 651, 773, 134, 158, 629, 847, 1392, 524, 222, 1178, 1361, 752, 829, 171, 516, 1021, 594, 186, 162, 1594, 921, 591, 609, 1450, 796, 338, 426, 1294, 1252, 906, 632, 1238, 249, 648, 307, 1039, 1062, 818, 956, 985, 1084, 990, 1139, 1091, 968, 1153, 1180, 545, 1317, 629, 1134, 733, 201, 536, 675, 249, 1530, 191, 1067, 1105, 209, 232, 845, 634, 1120, 812, 812, 912, 912, 0, 0, 1600.0, 1600.0, 0, 0, 1600.0, 1600.0, 465, 465, 556, 556], \"y\": [200.0, 600.0, 1000.0, 1400.0, 200.0, 600.0, 1000.0, 1400.0, 200.0, 600.0, 1000.0, 1400.0, 200.0, 600.0, 1000.0, 1400.0, 528, 582, 1287, 1009, 796, 293, 758, 794, 968, 298, 1204, 423, 562, 655, 500, 148, 915, 664, 1038, 276, 957, 235, 1158, 504, 876, 377, 629, 1173, 831, 868, 1578, 1347, 1130, 853, 1097, 128, 1293, 517, 121, 1056, 541, 811, 902, 636, 510, 169, 291, 919, 714, 657, 942, 939, 561, 154, 1203, 1587, 1463, 753, 79, 1439, 1067, 1502, 1198, 154, 1072, 332, 858, 444, 852, 12, 1120, 1064, 941, 938, 1064, 814, 1008, 1306, 781, 675, 852, 686, 749, 360, 138, 688, 277, 607, 1595, 117, 945, 1028, 620, 133, 1532, 1048, 803, 1096, 827, 965, 478, 972, 546, 568, 179, 906, 1080, 510, 1568, 472, 700, 1547, 287, 334, 32, 214, 575, 949, 1241, 596, 1188, 989, 1508, 536, 1452, 416, 596, 528, 1237, 959, 633, 1091, 855, 914, 1443, 728, 807, 1000, 746, 150, 114, 847, 222, 630, 385, 851, 1246, 1386, 1468, 896, 660, 672, 1415, 172, 1461, 543, 1070, 1341, 69, 546, 687, 1332, 579, 1148, 555, 538, 210, 101, 1449, 1262, 1084, 999, 887, 674, 1464, 1162, 802, 437, 817, 635, 436, 756, 268, 862, 1379, 1461, 778, 746, 139, 883, 942, 1118, 913, 529, 145, 1255, 1591, 1116, 627, 910, 0, 1600.0, 1600.0, 0, 257, 357, 357, 257, 85, 185, 185, 85, 80, 260, 260, 80], \"mode\": \"markers\", \"marker\": {\"size\": 8, \"color\": [\"orange\", \"orange\", \"orange\", \"orange\", \"orange\", \"orange\", \"orange\", \"orange\", \"orange\", \"orange\", \"orange\", \"orange\", \"orange\", \"orange\", \"orange\", \"orange\", \"blue\", \"magenta\", \"magenta\", \"blue\", \"magenta\", \"magenta\", \"magenta\", \"blue\", \"magenta\", \"magenta\", \"magenta\", \"magenta\", \"blue\", \"magenta\", \"blue\", \"magenta\", \"blue\", \"blue\", \"blue\", \"magenta\", \"blue\", \"magenta\", \"magenta\", \"magenta\", \"magenta\", \"magenta\", \"blue\", \"magenta\", \"blue\", \"magenta\", \"magenta\", \"magenta\", \"magenta\", \"blue\", \"blue\", \"magenta\", \"magenta\", \"magenta\", \"magenta\", \"magenta\", \"blue\", \"magenta\", \"magenta\", \"blue\", \"blue\", \"magenta\", \"magenta\", \"magenta\", \"magenta\", \"magenta\", \"blue\", \"blue\", \"magenta\", \"magenta\", \"magenta\", \"magenta\", \"magenta\", \"magenta\", \"magenta\", \"magenta\", \"magenta\", \"magenta\", \"magenta\", \"magenta\", \"magenta\", \"magenta\", \"blue\", \"magenta\", \"blue\", \"magenta\", \"magenta\", \"magenta\", \"blue\", \"magenta\", \"magenta\", \"magenta\", \"blue\", \"magenta\", \"magenta\", \"blue\", \"blue\", \"blue\", \"blue\", \"magenta\", \"magenta\", \"magenta\", \"magenta\", \"magenta\", \"magenta\", \"magenta\", \"magenta\", \"blue\", \"magenta\", \"magenta\", \"magenta\", \"magenta\", \"magenta\", \"blue\", \"magenta\", \"blue\", \"magenta\", \"magenta\", \"blue\", \"magenta\", \"magenta\", \"magenta\", \"magenta\", \"magenta\", \"magenta\", \"magenta\", \"magenta\", \"magenta\", \"magenta\", \"magenta\", \"magenta\", \"magenta\", \"magenta\", \"blue\", \"magenta\", \"magenta\", \"magenta\", \"blue\", \"magenta\", \"magenta\", \"magenta\", \"magenta\", \"magenta\", \"magenta\", \"magenta\", \"magenta\", \"blue\", \"blue\", \"magenta\", \"magenta\", \"magenta\", \"blue\", \"magenta\", \"magenta\", \"magenta\", \"magenta\", \"magenta\", \"magenta\", \"magenta\", \"magenta\", \"magenta\", \"magenta\", \"magenta\", \"magenta\", \"magenta\", \"blue\", \"blue\", \"magenta\", \"magenta\", \"magenta\", \"magenta\", \"magenta\", \"magenta\", \"magenta\", \"magenta\", \"blue\", \"magenta\", \"magenta\", \"magenta\", \"magenta\", \"blue\", \"blue\", \"magenta\", \"magenta\", \"magenta\", \"magenta\", \"magenta\", \"blue\", \"blue\", \"blue\", \"magenta\", \"magenta\", \"magenta\", \"magenta\", \"blue\", \"blue\", \"magenta\", \"magenta\", \"magenta\", \"magenta\", \"magenta\", \"magenta\", \"magenta\", \"magenta\", \"magenta\", \"blue\", \"magenta\", \"magenta\", \"magenta\", \"magenta\", \"magenta\", \"magenta\", \"magenta\", \"magenta\", \"blue\", \"magenta\", \"black\", \"black\", \"black\", \"black\", \"black\", \"black\", \"black\", \"black\", \"black\", \"black\", \"black\", \"black\", \"black\", \"black\", \"black\", \"black\"]}}],\n",
       "            {\"xaxis\": {\"range\": [0, 1600], \"title\": \"x\"}, \"yaxis\": {\"range\": [0, 1600], \"title\": \"y\"}, \"title\": \"UE and AP Distribution in the grid\", \"height\": 1000, \"width\": 1000, \"showlegend\": false, \"shapes\": [{\"type\": \"rect\", \"x0\": 812, \"y0\": 0, \"x1\": 912, \"y1\": 1600.0, \"line\": {\"color\": \"rgba(128, 0, 128, 1)\", \"width\": 2}, \"fillcolor\": \"rgba(128, 0, 128 0.1)\"}, {\"type\": \"rect\", \"x0\": 0, \"y0\": 257, \"x1\": 1600.0, \"y1\": 357, \"line\": {\"color\": \"rgba(128, 0, 128, 1)\", \"width\": 2}, \"fillcolor\": \"rgba(128, 0, 128 0.1)\"}, {\"type\": \"rect\", \"x0\": 0, \"y0\": 85, \"x1\": 1600.0, \"y1\": 185, \"line\": {\"color\": \"rgba(128, 0, 128, 1)\", \"width\": 2}, \"fillcolor\": \"rgba(128, 0, 128 0.1)\"}, {\"type\": \"rect\", \"x0\": 465, \"y0\": 80, \"x1\": 556, \"y1\": 260, \"line\": {\"color\": \"rgba(128, 0, 128, 1)\", \"width\": 2}, \"fillcolor\": \"rgba(128, 0, 128 0.1)\"}], \"updatemenus\": [{\"type\": \"buttons\", \"buttons\": [{\"label\": \"Play\", \"method\": \"animate\", \"args\": [null]}]}]},\n",
       "            {\"showLink\": true, \"linkText\": \"Export to plot.ly\"}\n",
       "        ).then(function () {return Plotly.addFrames('5132b70a-a52b-4fd4-8ca9-3816b5c4c5db',[{\"data\": [{\"type\": \"scatter\", \"x\": [1000.0, 953.0], \"y\": [200.0, 526.0], \"mode\": \"lines\", \"line\": {\"width\": 2, \"color\": \"green\"}}, {\"type\": \"scatter\", \"x\": [1000.0, 1167.0], \"y\": [600.0, 584.0], \"mode\": \"lines\", \"line\": {\"width\": 2, \"color\": \"green\"}}, {\"type\": \"scatter\", \"x\": [1000.0, 1177.0], \"y\": [1400.0, 1286.0], \"mode\": \"lines\", \"line\": {\"width\": 2, \"color\": \"green\"}}, {\"type\": \"scatter\", \"x\": [1000.0, 1043.0], \"y\": [1000.0, 1010.0], \"mode\": \"lines\", \"line\": {\"width\": 2, \"color\": \"red\"}}, {\"type\": \"scatter\", \"x\": [1400.0, 1382.0], \"y\": [600.0, 794.0], \"mode\": \"lines\", \"line\": {\"width\": 2, \"color\": \"green\"}}, {\"type\": \"scatter\", \"x\": [600.0, 446], \"y\": [200.0, 293], \"mode\": \"lines\", \"line\": {\"width\": 2, \"color\": \"green\"}}, {\"type\": \"scatter\", \"x\": [200.0, 12.0], \"y\": [1000.0, 756.0], \"mode\": \"lines\", \"line\": {\"width\": 2, \"color\": \"green\"}}, {\"type\": \"scatter\", \"x\": [1000.0, 602.0], \"y\": [600.0, 792.0], \"mode\": \"lines\", \"line\": {\"width\": 2, \"color\": \"red\"}}, {\"type\": \"scatter\", \"x\": [600.0, 707.0], \"y\": [1000.0, 969.0], \"mode\": \"lines\", \"line\": {\"width\": 2, \"color\": \"green\"}}, {\"type\": \"scatter\", \"x\": [1400.0, 1437], \"y\": [600.0, 298], \"mode\": \"lines\", \"line\": {\"width\": 2, \"color\": \"green\"}}, {\"type\": \"scatter\", \"x\": [600.0, 598.0], \"y\": [1400.0, 1204.0], \"mode\": \"lines\", \"line\": {\"width\": 2, \"color\": \"green\"}}, {\"type\": \"scatter\", \"x\": [1400.0, 1294.0], \"y\": [600.0, 424.0], \"mode\": \"lines\", \"line\": {\"width\": 2, \"color\": \"green\"}}, {\"type\": \"scatter\", \"x\": [600.0, 531.0], \"y\": [600.0, 563.0], \"mode\": \"lines\", \"line\": {\"width\": 2, \"color\": \"green\"}}, {\"type\": \"scatter\", \"x\": [1400.0, 1447.0], \"y\": [1000.0, 653.0], \"mode\": \"lines\", \"line\": {\"width\": 2, \"color\": \"green\"}}, {\"type\": \"scatter\", \"x\": [600.0, 602.0], \"y\": [200.0, 498.0], \"mode\": \"lines\", \"line\": {\"width\": 2, \"color\": \"red\"}}, {\"type\": \"scatter\", \"x\": [1400.0, 1497], \"y\": [200.0, 148], \"mode\": \"lines\", \"line\": {\"width\": 2, \"color\": \"green\"}}, {\"type\": \"scatter\", \"x\": [600.0, 957.0], \"y\": [600.0, 916.0], \"mode\": \"lines\", \"line\": {\"width\": 2, \"color\": \"green\"}}, {\"type\": \"scatter\", \"x\": [600.0, 746.0], \"y\": [600.0, 663.0], \"mode\": \"lines\", \"line\": {\"width\": 2, \"color\": \"green\"}}, {\"type\": \"scatter\", \"x\": [600.0, 691.0], \"y\": [1000.0, 1036.0], \"mode\": \"lines\", \"line\": {\"width\": 2, \"color\": \"red\"}}, {\"type\": \"scatter\", \"x\": [600.0, 703], \"y\": [200.0, 276], \"mode\": \"lines\", \"line\": {\"width\": 2, \"color\": \"green\"}}, {\"type\": \"scatter\", \"x\": [600.0, 702.0], \"y\": [1000.0, 955.0], \"mode\": \"lines\", \"line\": {\"width\": 2, \"color\": \"red\"}}, {\"type\": \"scatter\", \"x\": [200.0, 374.0], \"y\": [600.0, 235.0], \"mode\": \"lines\", \"line\": {\"width\": 2, \"color\": \"green\"}}, {\"type\": \"scatter\", \"x\": [1000.0, 923.0], \"y\": [1000.0, 1157.0], \"mode\": \"lines\", \"line\": {\"width\": 2, \"color\": \"green\"}}, {\"type\": \"scatter\", \"x\": [200.0, 37.0], \"y\": [600.0, 502.0], \"mode\": \"lines\", \"line\": {\"width\": 2, \"color\": \"green\"}}, {\"type\": \"scatter\", \"x\": [1000.0, 861], \"y\": [1000.0, 828], \"mode\": \"lines\", \"line\": {\"width\": 2, \"color\": \"green\"}}, {\"type\": \"scatter\", \"x\": [1400.0, 1027.0], \"y\": [600.0, 375.0], \"mode\": \"lines\", \"line\": {\"width\": 2, \"color\": \"green\"}}, {\"type\": \"scatter\", \"x\": [1000.0, 936.0], \"y\": [1000.0, 628.0], \"mode\": \"lines\", \"line\": {\"width\": 2, \"color\": \"red\"}}, {\"type\": \"scatter\", \"x\": [1400.0, 1599.0], \"y\": [1000.0, 1175.0], \"mode\": \"lines\", \"line\": {\"width\": 2, \"color\": \"green\"}}, {\"type\": \"scatter\", \"x\": [600.0, 667.0], \"y\": [1000.0, 829.0], \"mode\": \"lines\", \"line\": {\"width\": 2, \"color\": \"red\"}}, {\"type\": \"scatter\", \"x\": [200.0, 267.0], \"y\": [600.0, 868.0], \"mode\": \"lines\", \"line\": {\"width\": 2, \"color\": \"green\"}}, {\"type\": \"scatter\", \"x\": [1000.0, 1025.0], \"y\": [1400.0, 1577.0], \"mode\": \"lines\", \"line\": {\"width\": 2, \"color\": \"green\"}}, {\"type\": \"scatter\", \"x\": [1000.0, 896], \"y\": [1400.0, 1302], \"mode\": \"lines\", \"line\": {\"width\": 2, \"color\": \"green\"}}, {\"type\": \"scatter\", \"x\": [1400.0, 1529.0], \"y\": [1400.0, 1130.0], \"mode\": \"lines\", \"line\": {\"width\": 2, \"color\": \"green\"}}, {\"type\": \"scatter\", \"x\": [1000.0, 1069.0], \"y\": [1000.0, 855.0], \"mode\": \"lines\", \"line\": {\"width\": 2, \"color\": \"red\"}}, {\"type\": \"scatter\", \"x\": [600.0, 586.0], \"y\": [1400.0, 1098.0], \"mode\": \"lines\", \"line\": {\"width\": 2, \"color\": \"red\"}}, {\"type\": \"scatter\", \"x\": [200.0, 142], \"y\": [200.0, 128], \"mode\": \"lines\", \"line\": {\"width\": 2, \"color\": \"green\"}}, {\"type\": \"scatter\", \"x\": [1400.0, 1494.0], \"y\": [1000.0, 1294.0], \"mode\": \"lines\", \"line\": {\"width\": 2, \"color\": \"green\"}}, {\"type\": \"scatter\", \"x\": [1000.0, 1126.0], \"y\": [600.0, 516.0], \"mode\": \"lines\", \"line\": {\"width\": 2, \"color\": \"green\"}}, {\"type\": \"scatter\", \"x\": [600.0, 718], \"y\": [200.0, 121], \"mode\": \"lines\", \"line\": {\"width\": 2, \"color\": \"green\"}}, {\"type\": \"scatter\", \"x\": [1400.0, 1097.0], \"y\": [1400.0, 1057.0], \"mode\": \"lines\", \"line\": {\"width\": 2, \"color\": \"green\"}}, {\"type\": \"scatter\", \"x\": [600.0, 700.0], \"y\": [200.0, 540.0], \"mode\": \"lines\", \"line\": {\"width\": 2, \"color\": \"red\"}}, {\"type\": \"scatter\", \"x\": [1400.0, 1499.0], \"y\": [1000.0, 810.0], \"mode\": \"lines\", \"line\": {\"width\": 2, \"color\": \"green\"}}, {\"type\": \"scatter\", \"x\": [1000.0, 973.0], \"y\": [1000.0, 902.0], \"mode\": \"lines\", \"line\": {\"width\": 2, \"color\": \"green\"}}, {\"type\": \"scatter\", \"x\": [1000.0, 921.0], \"y\": [600.0, 634.0], \"mode\": \"lines\", \"line\": {\"width\": 2, \"color\": \"red\"}}, {\"type\": \"scatter\", \"x\": [200.0, 589.0], \"y\": [200.0, 512.0], \"mode\": \"lines\", \"line\": {\"width\": 2, \"color\": \"green\"}}, {\"type\": \"scatter\", \"x\": [200.0, 202], \"y\": [200.0, 169], \"mode\": \"lines\", \"line\": {\"width\": 2, \"color\": \"green\"}}, {\"type\": \"scatter\", \"x\": [1400.0, 1336], \"y\": [200.0, 291], \"mode\": \"lines\", \"line\": {\"width\": 2, \"color\": \"green\"}}, {\"type\": \"scatter\", \"x\": [200.0, 50.0], \"y\": [600.0, 918.0], \"mode\": \"lines\", \"line\": {\"width\": 2, \"color\": \"green\"}}, {\"type\": \"scatter\", \"x\": [200.0, 46.0], \"y\": [1000.0, 716.0], \"mode\": \"lines\", \"line\": {\"width\": 2, \"color\": \"green\"}}, {\"type\": \"scatter\", \"x\": [1000.0, 1054.0], \"y\": [600.0, 656.0], \"mode\": \"lines\", \"line\": {\"width\": 2, \"color\": \"green\"}}, {\"type\": \"scatter\", \"x\": [600.0, 650.0], \"y\": [1000.0, 940.0], \"mode\": \"lines\", \"line\": {\"width\": 2, \"color\": \"red\"}}, {\"type\": \"scatter\", \"x\": [600.0, 683.0], \"y\": [1000.0, 941.0], \"mode\": \"lines\", \"line\": {\"width\": 2, \"color\": \"red\"}}, {\"type\": \"scatter\", \"x\": [200.0, 203.0], \"y\": [600.0, 563.0], \"mode\": \"lines\", \"line\": {\"width\": 2, \"color\": \"green\"}}, {\"type\": \"scatter\", \"x\": [600.0, 208], \"y\": [200.0, 154], \"mode\": \"lines\", \"line\": {\"width\": 2, \"color\": \"green\"}}, {\"type\": \"scatter\", \"x\": [600.0, 658.0], \"y\": [1400.0, 1201.0], \"mode\": \"lines\", \"line\": {\"width\": 2, \"color\": \"green\"}}, {\"type\": \"scatter\", \"x\": [1000.0, 1029.0], \"y\": [1400.0, 1588.0], \"mode\": \"lines\", \"line\": {\"width\": 2, \"color\": \"green\"}}, {\"type\": \"scatter\", \"x\": [1000.0, 1156.0], \"y\": [1400.0, 1464.0], \"mode\": \"lines\", \"line\": {\"width\": 2, \"color\": \"green\"}}, {\"type\": \"scatter\", \"x\": [1000.0, 924.0], \"y\": [1000.0, 755.0], \"mode\": \"lines\", \"line\": {\"width\": 2, \"color\": \"green\"}}, {\"type\": \"scatter\", \"x\": [600.0, 748.0], \"y\": [200.0, 81.0], \"mode\": \"lines\", \"line\": {\"width\": 2, \"color\": \"green\"}}, {\"type\": \"scatter\", \"x\": [1400.0, 1195.0], \"y\": [1400.0, 1439.0], \"mode\": \"lines\", \"line\": {\"width\": 2, \"color\": \"green\"}}, {\"type\": \"scatter\", \"x\": [1400.0, 1101.0], \"y\": [1000.0, 1066.0], \"mode\": \"lines\", \"line\": {\"width\": 2, \"color\": \"green\"}}, {\"type\": \"scatter\", \"x\": [1000.0, 946.0], \"y\": [1400.0, 1502.0], \"mode\": \"lines\", \"line\": {\"width\": 2, \"color\": \"green\"}}, {\"type\": \"scatter\", \"x\": [600.0, 620.0], \"y\": [1000.0, 1199.0], \"mode\": \"lines\", \"line\": {\"width\": 2, \"color\": \"green\"}}, {\"type\": \"scatter\", \"x\": [600.0, 899], \"y\": [200.0, 154], \"mode\": \"lines\", \"line\": {\"width\": 2, \"color\": \"green\"}}, {\"type\": \"scatter\", \"x\": [600.0, 671.0], \"y\": [1400.0, 1070.0], \"mode\": \"lines\", \"line\": {\"width\": 2, \"color\": \"green\"}}, {\"type\": \"scatter\", \"x\": [200.0, 147], \"y\": [600.0, 332], \"mode\": \"lines\", \"line\": {\"width\": 2, \"color\": \"green\"}}, {\"type\": \"scatter\", \"x\": [600.0, 547.0], \"y\": [600.0, 860.0], \"mode\": \"lines\", \"line\": {\"width\": 2, \"color\": \"green\"}}, {\"type\": \"scatter\", \"x\": [200.0, 121.0], \"y\": [600.0, 444.0], \"mode\": \"lines\", \"line\": {\"width\": 2, \"color\": \"green\"}}, {\"type\": \"scatter\", \"x\": [600.0, 897], \"y\": [1000.0, 909], \"mode\": \"lines\", \"line\": {\"width\": 2, \"color\": \"red\"}}, {\"type\": \"scatter\", \"x\": [1400.0, 1492.0], \"y\": [200.0, 14.0], \"mode\": \"lines\", \"line\": {\"width\": 2, \"color\": \"green\"}}, {\"type\": \"scatter\", \"x\": [1000.0, 802.0], \"y\": [1000.0, 1121.0], \"mode\": \"lines\", \"line\": {\"width\": 2, \"color\": \"green\"}}, {\"type\": \"scatter\", \"x\": [1000.0, 1183.0], \"y\": [1000.0, 1063.0], \"mode\": \"lines\", \"line\": {\"width\": 2, \"color\": \"green\"}}, {\"type\": \"scatter\", \"x\": [600.0, 616.0], \"y\": [1000.0, 943.0], \"mode\": \"lines\", \"line\": {\"width\": 2, \"color\": \"red\"}}, {\"type\": \"scatter\", \"x\": [1400.0, 1166.0], \"y\": [1000.0, 940.0], \"mode\": \"lines\", \"line\": {\"width\": 2, \"color\": \"green\"}}, {\"type\": \"scatter\", \"x\": [600.0, 271.0], \"y\": [1400.0, 1066.0], \"mode\": \"lines\", \"line\": {\"width\": 2, \"color\": \"green\"}}, {\"type\": \"scatter\", \"x\": [200.0, 536.0], \"y\": [1000.0, 812.0], \"mode\": \"lines\", \"line\": {\"width\": 2, \"color\": \"green\"}}, {\"type\": \"scatter\", \"x\": [1000.0, 816], \"y\": [1000.0, 967], \"mode\": \"lines\", \"line\": {\"width\": 2, \"color\": \"red\"}}, {\"type\": \"scatter\", \"x\": [1400.0, 1377.0], \"y\": [1400.0, 1305.0], \"mode\": \"lines\", \"line\": {\"width\": 2, \"color\": \"green\"}}, {\"type\": \"scatter\", \"x\": [1000.0, 625.0], \"y\": [600.0, 783.0], \"mode\": \"lines\", \"line\": {\"width\": 2, \"color\": \"green\"}}, {\"type\": \"scatter\", \"x\": [1000.0, 836], \"y\": [1000.0, 703], \"mode\": \"lines\", \"line\": {\"width\": 2, \"color\": \"red\"}}, {\"type\": \"scatter\", \"x\": [600.0, 851], \"y\": [1000.0, 796], \"mode\": \"lines\", \"line\": {\"width\": 2, \"color\": \"red\"}}, {\"type\": \"scatter\", \"x\": [600.0, 608.0], \"y\": [600.0, 684.0], \"mode\": \"lines\", \"line\": {\"width\": 2, \"color\": \"green\"}}, {\"type\": \"scatter\", \"x\": [1000.0, 840], \"y\": [600.0, 703], \"mode\": \"lines\", \"line\": {\"width\": 2, \"color\": \"red\"}}, {\"type\": \"scatter\", \"x\": [1000.0, 1093.0], \"y\": [600.0, 358.0], \"mode\": \"lines\", \"line\": {\"width\": 2, \"color\": \"green\"}}, {\"type\": \"scatter\", \"x\": [200.0, 338], \"y\": [200.0, 138], \"mode\": \"lines\", \"line\": {\"width\": 2, \"color\": \"green\"}}, {\"type\": \"scatter\", \"x\": [200.0, 84.0], \"y\": [600.0, 688.0], \"mode\": \"lines\", \"line\": {\"width\": 2, \"color\": \"green\"}}, {\"type\": \"scatter\", \"x\": [600.0, 517], \"y\": [200.0, 277], \"mode\": \"lines\", \"line\": {\"width\": 2, \"color\": \"green\"}}, {\"type\": \"scatter\", \"x\": [200.0, 357.0], \"y\": [600.0, 605.0], \"mode\": \"lines\", \"line\": {\"width\": 2, \"color\": \"green\"}}, {\"type\": \"scatter\", \"x\": [600.0, 350.0], \"y\": [1400.0, 1597.0], \"mode\": \"lines\", \"line\": {\"width\": 2, \"color\": \"green\"}}, {\"type\": \"scatter\", \"x\": [1000.0, 1143], \"y\": [200.0, 117], \"mode\": \"lines\", \"line\": {\"width\": 2, \"color\": \"green\"}}, {\"type\": \"scatter\", \"x\": [200.0, 166.0], \"y\": [600.0, 944.0], \"mode\": \"lines\", \"line\": {\"width\": 2, \"color\": \"green\"}}, {\"type\": \"scatter\", \"x\": [1000.0, 767.0], \"y\": [1000.0, 1030.0], \"mode\": \"lines\", \"line\": {\"width\": 2, \"color\": \"red\"}}, {\"type\": \"scatter\", \"x\": [1400.0, 1405.0], \"y\": [1000.0, 618.0], \"mode\": \"lines\", \"line\": {\"width\": 2, \"color\": \"green\"}}, {\"type\": \"scatter\", \"x\": [1400.0, 1446], \"y\": [200.0, 133], \"mode\": \"lines\", \"line\": {\"width\": 2, \"color\": \"green\"}}, {\"type\": \"scatter\", \"x\": [1000.0, 826], \"y\": [1400.0, 1569], \"mode\": \"lines\", \"line\": {\"width\": 2, \"color\": \"green\"}}, {\"type\": \"scatter\", \"x\": [1400.0, 1586.0], \"y\": [1400.0, 1047.0], \"mode\": \"lines\", \"line\": {\"width\": 2, \"color\": \"green\"}}, {\"type\": \"scatter\", \"x\": [1000.0, 1070.0], \"y\": [1000.0, 805.0], \"mode\": \"lines\", \"line\": {\"width\": 2, \"color\": \"green\"}}, {\"type\": \"scatter\", \"x\": [600.0, 537.0], \"y\": [1400.0, 1097.0], \"mode\": \"lines\", \"line\": {\"width\": 2, \"color\": \"red\"}}, {\"type\": \"scatter\", \"x\": [200.0, 513.0], \"y\": [600.0, 829.0], \"mode\": \"lines\", \"line\": {\"width\": 2, \"color\": \"green\"}}, {\"type\": \"scatter\", \"x\": [600.0, 588.0], \"y\": [1000.0, 965.0], \"mode\": \"lines\", \"line\": {\"width\": 2, \"color\": \"red\"}}, {\"type\": \"scatter\", \"x\": [1000.0, 819], \"y\": [600.0, 522], \"mode\": \"lines\", \"line\": {\"width\": 2, \"color\": \"green\"}}, {\"type\": \"scatter\", \"x\": [200.0, 348.0], \"y\": [1000.0, 971.0], \"mode\": \"lines\", \"line\": {\"width\": 2, \"color\": \"green\"}}, {\"type\": \"scatter\", \"x\": [1000.0, 798.0], \"y\": [600.0, 546.0], \"mode\": \"lines\", \"line\": {\"width\": 2, \"color\": \"red\"}}, {\"type\": \"scatter\", \"x\": [200.0, 339.0], \"y\": [600.0, 566.0], \"mode\": \"lines\", \"line\": {\"width\": 2, \"color\": \"green\"}}, {\"type\": \"scatter\", \"x\": [600.0, 892], \"y\": [200.0, 179], \"mode\": \"lines\", \"line\": {\"width\": 2, \"color\": \"green\"}}, {\"type\": \"scatter\", \"x\": [200.0, 82.0], \"y\": [600.0, 904.0], \"mode\": \"lines\", \"line\": {\"width\": 2, \"color\": \"green\"}}, {\"type\": \"scatter\", \"x\": [200.0, 138.0], \"y\": [1000.0, 1078.0], \"mode\": \"lines\", \"line\": {\"width\": 2, \"color\": \"green\"}}, {\"type\": \"scatter\", \"x\": [200.0, 44.0], \"y\": [600.0, 509.0], \"mode\": \"lines\", \"line\": {\"width\": 2, \"color\": \"green\"}}, {\"type\": \"scatter\", \"x\": [200.0, 210.0], \"y\": [1400.0, 1567.0], \"mode\": \"lines\", \"line\": {\"width\": 2, \"color\": \"green\"}}, {\"type\": \"scatter\", \"x\": [600.0, 257.0], \"y\": [600.0, 471.0], \"mode\": \"lines\", \"line\": {\"width\": 2, \"color\": \"green\"}}, {\"type\": \"scatter\", \"x\": [1400.0, 1553.0], \"y\": [600.0, 700.0], \"mode\": \"lines\", \"line\": {\"width\": 2, \"color\": \"green\"}}, {\"type\": \"scatter\", \"x\": [1000.0, 997.0], \"y\": [1400.0, 1546.0], \"mode\": \"lines\", \"line\": {\"width\": 2, \"color\": \"green\"}}, {\"type\": \"scatter\", \"x\": [1400.0, 1525], \"y\": [200.0, 287], \"mode\": \"lines\", \"line\": {\"width\": 2, \"color\": \"green\"}}, {\"type\": \"scatter\", \"x\": [600.0, 786], \"y\": [200.0, 334], \"mode\": \"lines\", \"line\": {\"width\": 2, \"color\": \"green\"}}, {\"type\": \"scatter\", \"x\": [200.0, 416.0], \"y\": [200.0, 33.0], \"mode\": \"lines\", \"line\": {\"width\": 2, \"color\": \"green\"}}, {\"type\": \"scatter\", \"x\": [200.0, 199.0], \"y\": [200.0, 212.0], \"mode\": \"lines\", \"line\": {\"width\": 2, \"color\": \"green\"}}, {\"type\": \"scatter\", \"x\": [1000.0, 1140.0], \"y\": [600.0, 574.0], \"mode\": \"lines\", \"line\": {\"width\": 2, \"color\": \"green\"}}, {\"type\": \"scatter\", \"x\": [200.0, 519.0], \"y\": [600.0, 949.0], \"mode\": \"lines\", \"line\": {\"width\": 2, \"color\": \"red\"}}, {\"type\": \"scatter\", \"x\": [1000.0, 694.0], \"y\": [1000.0, 1242.0], \"mode\": \"lines\", \"line\": {\"width\": 2, \"color\": \"green\"}}, {\"type\": \"scatter\", \"x\": [1400.0, 1381.0], \"y\": [600.0, 594.0], \"mode\": \"lines\", \"line\": {\"width\": 2, \"color\": \"green\"}}, {\"type\": \"scatter\", \"x\": [1000.0, 1239.0], \"y\": [1000.0, 1190.0], \"mode\": \"lines\", \"line\": {\"width\": 2, \"color\": \"green\"}}, {\"type\": \"scatter\", \"x\": [1000.0, 1056.0], \"y\": [1000.0, 987.0], \"mode\": \"lines\", \"line\": {\"width\": 2, \"color\": \"red\"}}, {\"type\": \"scatter\", \"x\": [200.0, 303.0], \"y\": [1400.0, 1506.0], \"mode\": \"lines\", \"line\": {\"width\": 2, \"color\": \"green\"}}, {\"type\": \"scatter\", \"x\": [1000.0, 699.0], \"y\": [600.0, 537.0], \"mode\": \"lines\", \"line\": {\"width\": 2, \"color\": \"green\"}}, {\"type\": \"scatter\", \"x\": [600.0, 574.0], \"y\": [1400.0, 1450.0], \"mode\": \"lines\", \"line\": {\"width\": 2, \"color\": \"green\"}}, {\"type\": \"scatter\", \"x\": [1400.0, 1500.0], \"y\": [600.0, 418.0], \"mode\": \"lines\", \"line\": {\"width\": 2, \"color\": \"green\"}}, {\"type\": \"scatter\", \"x\": [200.0, 241.0], \"y\": [600.0, 594.0], \"mode\": \"lines\", \"line\": {\"width\": 2, \"color\": \"green\"}}, {\"type\": \"scatter\", \"x\": [1400.0, 1452.0], \"y\": [600.0, 526.0], \"mode\": \"lines\", \"line\": {\"width\": 2, \"color\": \"green\"}}, {\"type\": \"scatter\", \"x\": [200.0, 171.0], \"y\": [1400.0, 1235.0], \"mode\": \"lines\", \"line\": {\"width\": 2, \"color\": \"green\"}}, {\"type\": \"scatter\", \"x\": [1400.0, 1540.0], \"y\": [1000.0, 959.0], \"mode\": \"lines\", \"line\": {\"width\": 2, \"color\": \"green\"}}, {\"type\": \"scatter\", \"x\": [600.0, 570.0], \"y\": [600.0, 635.0], \"mode\": \"lines\", \"line\": {\"width\": 2, \"color\": \"green\"}}, {\"type\": \"scatter\", \"x\": [600.0, 675.0], \"y\": [1400.0, 1092.0], \"mode\": \"lines\", \"line\": {\"width\": 2, \"color\": \"red\"}}, {\"type\": \"scatter\", \"x\": [1000.0, 974.0], \"y\": [1000.0, 856.0], \"mode\": \"lines\", \"line\": {\"width\": 2, \"color\": \"green\"}}, {\"type\": \"scatter\", \"x\": [1000.0, 953.0], \"y\": [1000.0, 915.0], \"mode\": \"lines\", \"line\": {\"width\": 2, \"color\": \"green\"}}, {\"type\": \"scatter\", \"x\": [200.0, 295.0], \"y\": [1400.0, 1441.0], \"mode\": \"lines\", \"line\": {\"width\": 2, \"color\": \"green\"}}, {\"type\": \"scatter\", \"x\": [600.0, 653.0], \"y\": [600.0, 729.0], \"mode\": \"lines\", \"line\": {\"width\": 2, \"color\": \"green\"}}, {\"type\": \"scatter\", \"x\": [600.0, 775.0], \"y\": [1000.0, 806.0], \"mode\": \"lines\", \"line\": {\"width\": 2, \"color\": \"green\"}}, {\"type\": \"scatter\", \"x\": [200.0, 132.0], \"y\": [1000.0, 1001.0], \"mode\": \"lines\", \"line\": {\"width\": 2, \"color\": \"green\"}}, {\"type\": \"scatter\", \"x\": [200.0, 156.0], \"y\": [600.0, 746.0], \"mode\": \"lines\", \"line\": {\"width\": 2, \"color\": \"green\"}}, {\"type\": \"scatter\", \"x\": [600.0, 593], \"y\": [200.0, 150], \"mode\": \"lines\", \"line\": {\"width\": 2, \"color\": \"green\"}}, {\"type\": \"scatter\", \"x\": [1000.0, 847], \"y\": [200.0, 77], \"mode\": \"lines\", \"line\": {\"width\": 2, \"color\": \"green\"}}, {\"type\": \"scatter\", \"x\": [1400.0, 1394.0], \"y\": [1000.0, 847.0], \"mode\": \"lines\", \"line\": {\"width\": 2, \"color\": \"green\"}}, {\"type\": \"scatter\", \"x\": [600.0, 524.9784847587282], \"y\": [200.0, 222.206319114327], \"mode\": \"lines\", \"line\": {\"width\": 2, \"color\": \"green\"}}, {\"type\": \"scatter\", \"x\": [200.0, 224.0], \"y\": [600.0, 631.0], \"mode\": \"lines\", \"line\": {\"width\": 2, \"color\": \"green\"}}, {\"type\": \"scatter\", \"x\": [1000.0, 1180.0], \"y\": [200.0, 386.0], \"mode\": \"lines\", \"line\": {\"width\": 2, \"color\": \"green\"}}, {\"type\": \"scatter\", \"x\": [1400.0, 1360.0], \"y\": [1000.0, 852.0], \"mode\": \"lines\", \"line\": {\"width\": 2, \"color\": \"green\"}}, {\"type\": \"scatter\", \"x\": [600.0, 754.0], \"y\": [1400.0, 1246.0], \"mode\": \"lines\", \"line\": {\"width\": 2, \"color\": \"green\"}}, {\"type\": \"scatter\", \"x\": [1000.0, 829], \"y\": [1000.0, 1364], \"mode\": \"lines\", \"line\": {\"width\": 2, \"color\": \"green\"}}, {\"type\": \"scatter\", \"x\": [200.0, 172.0], \"y\": [1400.0, 1470.0], \"mode\": \"lines\", \"line\": {\"width\": 2, \"color\": \"green\"}}, {\"type\": \"scatter\", \"x\": [600.0, 516.0], \"y\": [600.0, 894.0], \"mode\": \"lines\", \"line\": {\"width\": 2, \"color\": \"green\"}}, {\"type\": \"scatter\", \"x\": [1000.0, 1023.0], \"y\": [600.0, 661.0], \"mode\": \"lines\", \"line\": {\"width\": 2, \"color\": \"red\"}}, {\"type\": \"scatter\", \"x\": [200.0, 592.0], \"y\": [600.0, 671.0], \"mode\": \"lines\", \"line\": {\"width\": 2, \"color\": \"green\"}}, {\"type\": \"scatter\", \"x\": [200.0, 185.0], \"y\": [1400.0, 1417.0], \"mode\": \"lines\", \"line\": {\"width\": 2, \"color\": \"green\"}}, {\"type\": \"scatter\", \"x\": [200.0, 196], \"y\": [200.0, 172], \"mode\": \"lines\", \"line\": {\"width\": 2, \"color\": \"green\"}}, {\"type\": \"scatter\", \"x\": [1400.0, 1593.0], \"y\": [1400.0, 1463.0], \"mode\": \"lines\", \"line\": {\"width\": 2, \"color\": \"green\"}}, {\"type\": \"scatter\", \"x\": [1000.0, 923.0], \"y\": [600.0, 543.0], \"mode\": \"lines\", \"line\": {\"width\": 2, \"color\": \"green\"}}, {\"type\": \"scatter\", \"x\": [200.0, 589.0], \"y\": [1000.0, 1071.0], \"mode\": \"lines\", \"line\": {\"width\": 2, \"color\": \"green\"}}, {\"type\": \"scatter\", \"x\": [600.0, 609.0], \"y\": [1400.0, 1339.0], \"mode\": \"lines\", \"line\": {\"width\": 2, \"color\": \"green\"}}, {\"type\": \"scatter\", \"x\": [1400.0, 1451.0], \"y\": [200.0, 71.0], \"mode\": \"lines\", \"line\": {\"width\": 2, \"color\": \"green\"}}, {\"type\": \"scatter\", \"x\": [600.0, 797.0], \"y\": [600.0, 544.0], \"mode\": \"lines\", \"line\": {\"width\": 2, \"color\": \"green\"}}, {\"type\": \"scatter\", \"x\": [600.0, 338.0], \"y\": [1000.0, 689.0], \"mode\": \"lines\", \"line\": {\"width\": 2, \"color\": \"green\"}}, {\"type\": \"scatter\", \"x\": [600.0, 428.0], \"y\": [1400.0, 1333.0], \"mode\": \"lines\", \"line\": {\"width\": 2, \"color\": \"green\"}}, {\"type\": \"scatter\", \"x\": [1400.0, 1295.0], \"y\": [600.0, 577.0], \"mode\": \"lines\", \"line\": {\"width\": 2, \"color\": \"green\"}}, {\"type\": \"scatter\", \"x\": [1400.0, 1250.0], \"y\": [1000.0, 1148.0], \"mode\": \"lines\", \"line\": {\"width\": 2, \"color\": \"green\"}}, {\"type\": \"scatter\", \"x\": [1000.0, 906], \"y\": [600.0, 601], \"mode\": \"lines\", \"line\": {\"width\": 2, \"color\": \"red\"}}, {\"type\": \"scatter\", \"x\": [600.0, 634.0], \"y\": [600.0, 537.0], \"mode\": \"lines\", \"line\": {\"width\": 2, \"color\": \"green\"}}, {\"type\": \"scatter\", \"x\": [1400.0, 1239.0], \"y\": [200.0, 208.0], \"mode\": \"lines\", \"line\": {\"width\": 2, \"color\": \"green\"}}, {\"type\": \"scatter\", \"x\": [200.0, 211], \"y\": [200.0, 101], \"mode\": \"lines\", \"line\": {\"width\": 2, \"color\": \"green\"}}, {\"type\": \"scatter\", \"x\": [1000.0, 647.0], \"y\": [1400.0, 1447.0], \"mode\": \"lines\", \"line\": {\"width\": 2, \"color\": \"green\"}}, {\"type\": \"scatter\", \"x\": [200.0, 308.0], \"y\": [1000.0, 1260.0], \"mode\": \"lines\", \"line\": {\"width\": 2, \"color\": \"green\"}}, {\"type\": \"scatter\", \"x\": [1000.0, 1041.0], \"y\": [1000.0, 1085.0], \"mode\": \"lines\", \"line\": {\"width\": 2, \"color\": \"green\"}}, {\"type\": \"scatter\", \"x\": [1400.0, 1064.0], \"y\": [1000.0, 999.0], \"mode\": \"lines\", \"line\": {\"width\": 2, \"color\": \"red\"}}, {\"type\": \"scatter\", \"x\": [600.0, 818], \"y\": [1000.0, 859], \"mode\": \"lines\", \"line\": {\"width\": 2, \"color\": \"red\"}}, {\"type\": \"scatter\", \"x\": [1000.0, 956.0], \"y\": [600.0, 672.0], \"mode\": \"lines\", \"line\": {\"width\": 2, \"color\": \"red\"}}, {\"type\": \"scatter\", \"x\": [1000.0, 983.0], \"y\": [1400.0, 1464.0], \"mode\": \"lines\", \"line\": {\"width\": 2, \"color\": \"green\"}}, {\"type\": \"scatter\", \"x\": [1000.0, 1086.0], \"y\": [1400.0, 1162.0], \"mode\": \"lines\", \"line\": {\"width\": 2, \"color\": \"green\"}}, {\"type\": \"scatter\", \"x\": [1000.0, 989.0], \"y\": [1000.0, 800.0], \"mode\": \"lines\", \"line\": {\"width\": 2, \"color\": \"green\"}}, {\"type\": \"scatter\", \"x\": [1400.0, 1141.0], \"y\": [600.0, 437.0], \"mode\": \"lines\", \"line\": {\"width\": 2, \"color\": \"green\"}}, {\"type\": \"scatter\", \"x\": [1000.0, 1092.0], \"y\": [1000.0, 819.0], \"mode\": \"lines\", \"line\": {\"width\": 2, \"color\": \"red\"}}, {\"type\": \"scatter\", \"x\": [1000.0, 967.0], \"y\": [1000.0, 637.0], \"mode\": \"lines\", \"line\": {\"width\": 2, \"color\": \"red\"}}, {\"type\": \"scatter\", \"x\": [1000.0, 1151.0], \"y\": [200.0, 435.0], \"mode\": \"lines\", \"line\": {\"width\": 2, \"color\": \"green\"}}, {\"type\": \"scatter\", \"x\": [1000.0, 1181.0], \"y\": [1000.0, 754.0], \"mode\": \"lines\", \"line\": {\"width\": 2, \"color\": \"green\"}}, {\"type\": \"scatter\", \"x\": [600.0, 522], \"y\": [200.0, 268], \"mode\": \"lines\", \"line\": {\"width\": 2, \"color\": \"green\"}}, {\"type\": \"scatter\", \"x\": [1400.0, 1318.0], \"y\": [1000.0, 864.0], \"mode\": \"lines\", \"line\": {\"width\": 2, \"color\": \"green\"}}, {\"type\": \"scatter\", \"x\": [600.0, 630.0], \"y\": [1400.0, 1381.0], \"mode\": \"lines\", \"line\": {\"width\": 2, \"color\": \"green\"}}, {\"type\": \"scatter\", \"x\": [1000.0, 1132.0], \"y\": [1400.0, 1460.0], \"mode\": \"lines\", \"line\": {\"width\": 2, \"color\": \"green\"}}, {\"type\": \"scatter\", \"x\": [600.0, 734.0], \"y\": [1000.0, 777.0], \"mode\": \"lines\", \"line\": {\"width\": 2, \"color\": \"green\"}}, {\"type\": \"scatter\", \"x\": [200.0, 200.0], \"y\": [600.0, 748.0], \"mode\": \"lines\", \"line\": {\"width\": 2, \"color\": \"green\"}}, {\"type\": \"scatter\", \"x\": [600.0, 514], \"y\": [200.0, 139], \"mode\": \"lines\", \"line\": {\"width\": 2, \"color\": \"green\"}}, {\"type\": \"scatter\", \"x\": [600.0, 677.0], \"y\": [1000.0, 882.0], \"mode\": \"lines\", \"line\": {\"width\": 2, \"color\": \"red\"}}, {\"type\": \"scatter\", \"x\": [200.0, 250.0], \"y\": [1000.0, 940.0], \"mode\": \"lines\", \"line\": {\"width\": 2, \"color\": \"green\"}}, {\"type\": \"scatter\", \"x\": [1400.0, 1529.0], \"y\": [1400.0, 1120.0], \"mode\": \"lines\", \"line\": {\"width\": 2, \"color\": \"green\"}}, {\"type\": \"scatter\", \"x\": [200.0, 192.0], \"y\": [1000.0, 914.0], \"mode\": \"lines\", \"line\": {\"width\": 2, \"color\": \"green\"}}, {\"type\": \"scatter\", \"x\": [1400.0, 1066.0], \"y\": [200.0, 527.0], \"mode\": \"lines\", \"line\": {\"width\": 2, \"color\": \"green\"}}, {\"type\": \"scatter\", \"x\": [1000.0, 1083], \"y\": [200.0, 145], \"mode\": \"lines\", \"line\": {\"width\": 2, \"color\": \"green\"}}, {\"type\": \"scatter\", \"x\": [200.0, 207.0], \"y\": [1400.0, 1254.0], \"mode\": \"lines\", \"line\": {\"width\": 2, \"color\": \"green\"}}, {\"type\": \"scatter\", \"x\": [200.0, 230.0], \"y\": [1400.0, 1590.0], \"mode\": \"lines\", \"line\": {\"width\": 2, \"color\": \"green\"}}, {\"type\": \"scatter\", \"x\": [1000.0, 845], \"y\": [1000.0, 1148], \"mode\": \"lines\", \"line\": {\"width\": 2, \"color\": \"green\"}}, {\"type\": \"scatter\", \"x\": [1000.0, 632.0], \"y\": [600.0, 627.0], \"mode\": \"lines\", \"line\": {\"width\": 2, \"color\": \"red\"}}, {\"type\": \"scatter\", \"x\": [1000.0, 1118.0], \"y\": [1000.0, 910.0], \"mode\": \"lines\", \"line\": {\"width\": 2, \"color\": \"green\"}}, {\"type\": \"scatter\", \"x\": [812, 812], \"y\": [0, 1600.0], \"mode\": \"lines\", \"line\": {\"width\": 2, \"color\": \"black\"}}, {\"type\": \"scatter\", \"x\": [812, 912], \"y\": [1600.0, 1600.0], \"mode\": \"lines\", \"line\": {\"width\": 2, \"color\": \"black\"}}, {\"type\": \"scatter\", \"x\": [912, 912], \"y\": [1600.0, 0], \"mode\": \"lines\", \"line\": {\"width\": 2, \"color\": \"black\"}}, {\"type\": \"scatter\", \"x\": [812, 912], \"y\": [0, 0], \"mode\": \"lines\", \"line\": {\"width\": 2, \"color\": \"black\"}}, {\"type\": \"scatter\", \"x\": [0, 0], \"y\": [257, 357], \"mode\": \"lines\", \"line\": {\"width\": 2, \"color\": \"black\"}}, {\"type\": \"scatter\", \"x\": [0, 1600.0], \"y\": [357, 357], \"mode\": \"lines\", \"line\": {\"width\": 2, \"color\": \"black\"}}, {\"type\": \"scatter\", \"x\": [1600.0, 1600.0], \"y\": [357, 257], \"mode\": \"lines\", \"line\": {\"width\": 2, \"color\": \"black\"}}, {\"type\": \"scatter\", \"x\": [0, 1600.0], \"y\": [257, 257], \"mode\": \"lines\", \"line\": {\"width\": 2, \"color\": \"black\"}}, {\"type\": \"scatter\", \"x\": [0, 0], \"y\": [85, 185], \"mode\": \"lines\", \"line\": {\"width\": 2, \"color\": \"black\"}}, {\"type\": \"scatter\", \"x\": [0, 1600.0], \"y\": [185, 185], \"mode\": \"lines\", \"line\": {\"width\": 2, \"color\": \"black\"}}, {\"type\": \"scatter\", \"x\": [1600.0, 1600.0], \"y\": [185, 85], \"mode\": \"lines\", \"line\": {\"width\": 2, \"color\": \"black\"}}, {\"type\": \"scatter\", \"x\": [0, 1600.0], \"y\": [85, 85], \"mode\": \"lines\", \"line\": {\"width\": 2, \"color\": \"black\"}}, {\"type\": \"scatter\", \"x\": [465, 465], \"y\": [80, 260], \"mode\": \"lines\", \"line\": {\"width\": 2, \"color\": \"black\"}}, {\"type\": \"scatter\", \"x\": [465, 556], \"y\": [260, 260], \"mode\": \"lines\", \"line\": {\"width\": 2, \"color\": \"black\"}}, {\"type\": \"scatter\", \"x\": [556, 556], \"y\": [260, 80], \"mode\": \"lines\", \"line\": {\"width\": 2, \"color\": \"black\"}}, {\"type\": \"scatter\", \"x\": [465, 556], \"y\": [80, 80], \"mode\": \"lines\", \"line\": {\"width\": 2, \"color\": \"black\"}}, {\"type\": \"scatter\", \"x\": [200.0, 200.0, 200.0, 200.0, 600.0, 600.0, 600.0, 600.0, 1000.0, 1000.0, 1000.0, 1000.0, 1400.0, 1400.0, 1400.0, 1400.0, 953.0, 1167.0, 1177.0, 1043.0, 1382.0, 446, 12.0, 602.0, 707.0, 1437, 598.0, 1294.0, 531.0, 1447.0, 602.0, 1497, 957.0, 746.0, 691.0, 703, 702.0, 374.0, 923.0, 37.0, 861, 1027.0, 936.0, 1599.0, 667.0, 267.0, 1025.0, 896, 1529.0, 1069.0, 586.0, 142, 1494.0, 1126.0, 718, 1097.0, 700.0, 1499.0, 973.0, 921.0, 589.0, 202, 1336, 50.0, 46.0, 1054.0, 650.0, 683.0, 203.0, 208, 658.0, 1029.0, 1156.0, 924.0, 748.0, 1195.0, 1101.0, 946.0, 620.0, 899, 671.0, 147, 547.0, 121.0, 897, 1492.0, 802.0, 1183.0, 616.0, 1166.0, 271.0, 536.0, 816, 1377.0, 625.0, 836, 851, 608.0, 840, 1093.0, 338, 84.0, 517, 357.0, 350.0, 1143, 166.0, 767.0, 1405.0, 1446, 826, 1586.0, 1070.0, 537.0, 513.0, 588.0, 819, 348.0, 798.0, 339.0, 892, 82.0, 138.0, 44.0, 210.0, 257.0, 1553.0, 997.0, 1525, 786, 416.0, 199.0, 1140.0, 519.0, 694.0, 1381.0, 1239.0, 1056.0, 303.0, 699.0, 574.0, 1500.0, 241.0, 1452.0, 171.0, 1540.0, 570.0, 675.0, 974.0, 953.0, 295.0, 653.0, 775.0, 132.0, 156.0, 593, 847, 1394.0, 524.9784847587282, 224.0, 1180.0, 1360.0, 754.0, 829, 172.0, 516.0, 1023.0, 592.0, 185.0, 196, 1593.0, 923.0, 589.0, 609.0, 1451.0, 797.0, 338.0, 428.0, 1295.0, 1250.0, 906, 634.0, 1239.0, 211, 647.0, 308.0, 1041.0, 1064.0, 818, 956.0, 983.0, 1086.0, 989.0, 1141.0, 1092.0, 967.0, 1151.0, 1181.0, 522, 1318.0, 630.0, 1132.0, 734.0, 200.0, 514, 677.0, 250.0, 1529.0, 192.0, 1066.0, 1083, 207.0, 230.0, 845, 632.0, 1118.0, 812, 812, 912, 912, 0, 0, 1600.0, 1600.0, 0, 0, 1600.0, 1600.0, 465, 465, 556, 556], \"y\": [200.0, 600.0, 1000.0, 1400.0, 200.0, 600.0, 1000.0, 1400.0, 200.0, 600.0, 1000.0, 1400.0, 200.0, 600.0, 1000.0, 1400.0, 526.0, 584.0, 1286.0, 1010.0, 794.0, 293, 756.0, 792.0, 969.0, 298, 1204.0, 424.0, 563.0, 653.0, 498.0, 148, 916.0, 663.0, 1036.0, 276, 955.0, 235.0, 1157.0, 502.0, 828, 375.0, 628.0, 1175.0, 829.0, 868.0, 1577.0, 1302, 1130.0, 855.0, 1098.0, 128, 1294.0, 516.0, 121, 1057.0, 540.0, 810.0, 902.0, 634.0, 512.0, 169, 291, 918.0, 716.0, 656.0, 940.0, 941.0, 563.0, 154, 1201.0, 1588.0, 1464.0, 755.0, 81.0, 1439.0, 1066.0, 1502.0, 1199.0, 154, 1070.0, 332, 860.0, 444.0, 909, 14.0, 1121.0, 1063.0, 943.0, 940.0, 1066.0, 812.0, 967, 1305.0, 783.0, 703, 796, 684.0, 703, 358.0, 138, 688.0, 277, 605.0, 1597.0, 117, 944.0, 1030.0, 618.0, 133, 1569, 1047.0, 805.0, 1097.0, 829.0, 965.0, 522, 971.0, 546.0, 566.0, 179, 904.0, 1078.0, 509.0, 1567.0, 471.0, 700.0, 1546.0, 287, 334, 33.0, 212.0, 574.0, 949.0, 1242.0, 594.0, 1190.0, 987.0, 1506.0, 537.0, 1450.0, 418.0, 594.0, 526.0, 1235.0, 959.0, 635.0, 1092.0, 856.0, 915.0, 1441.0, 729.0, 806.0, 1001.0, 746.0, 150, 77, 847.0, 222.206319114327, 631.0, 386.0, 852.0, 1246.0, 1364, 1470.0, 894.0, 661.0, 671.0, 1417.0, 172, 1463.0, 543.0, 1071.0, 1339.0, 71.0, 544.0, 689.0, 1333.0, 577.0, 1148.0, 601, 537.0, 208.0, 101, 1447.0, 1260.0, 1085.0, 999.0, 859, 672.0, 1464.0, 1162.0, 800.0, 437.0, 819.0, 637.0, 435.0, 754.0, 268, 864.0, 1381.0, 1460.0, 777.0, 748.0, 139, 882.0, 940.0, 1120.0, 914.0, 527.0, 145, 1254.0, 1590.0, 1148, 627.0, 910.0, 0, 1600.0, 1600.0, 0, 257, 357, 357, 257, 85, 185, 185, 85, 80, 260, 260, 80], \"mode\": \"markers\", \"marker\": {\"size\": 8, \"color\": [\"orange\", \"orange\", \"orange\", \"orange\", \"orange\", \"orange\", \"orange\", \"orange\", \"orange\", \"orange\", \"orange\", \"orange\", \"orange\", \"orange\", \"orange\", \"orange\", \"blue\", \"magenta\", \"magenta\", \"blue\", \"magenta\", \"magenta\", \"magenta\", \"blue\", \"magenta\", \"magenta\", \"magenta\", \"magenta\", \"blue\", \"magenta\", \"blue\", \"magenta\", \"blue\", \"blue\", \"blue\", \"magenta\", \"blue\", \"magenta\", \"magenta\", \"magenta\", \"magenta\", \"magenta\", \"blue\", \"magenta\", \"blue\", \"magenta\", \"magenta\", \"magenta\", \"magenta\", \"blue\", \"blue\", \"magenta\", \"magenta\", \"magenta\", \"magenta\", \"magenta\", \"blue\", \"magenta\", \"magenta\", \"blue\", \"blue\", \"magenta\", \"magenta\", \"magenta\", \"magenta\", \"magenta\", \"blue\", \"blue\", \"magenta\", \"magenta\", \"magenta\", \"magenta\", \"magenta\", \"magenta\", \"magenta\", \"magenta\", \"magenta\", \"magenta\", \"magenta\", \"magenta\", \"magenta\", \"magenta\", \"blue\", \"magenta\", \"blue\", \"magenta\", \"magenta\", \"magenta\", \"blue\", \"magenta\", \"magenta\", \"magenta\", \"blue\", \"magenta\", \"magenta\", \"blue\", \"blue\", \"blue\", \"blue\", \"magenta\", \"magenta\", \"magenta\", \"magenta\", \"magenta\", \"magenta\", \"magenta\", \"magenta\", \"blue\", \"magenta\", \"magenta\", \"magenta\", \"magenta\", \"magenta\", \"blue\", \"magenta\", \"blue\", \"magenta\", \"magenta\", \"blue\", \"magenta\", \"magenta\", \"magenta\", \"magenta\", \"magenta\", \"magenta\", \"magenta\", \"magenta\", \"magenta\", \"magenta\", \"magenta\", \"magenta\", \"magenta\", \"magenta\", \"blue\", \"magenta\", \"magenta\", \"magenta\", \"blue\", \"magenta\", \"magenta\", \"magenta\", \"magenta\", \"magenta\", \"magenta\", \"magenta\", \"magenta\", \"blue\", \"blue\", \"magenta\", \"magenta\", \"magenta\", \"blue\", \"magenta\", \"magenta\", \"magenta\", \"magenta\", \"magenta\", \"magenta\", \"magenta\", \"magenta\", \"magenta\", \"magenta\", \"magenta\", \"magenta\", \"magenta\", \"blue\", \"blue\", \"magenta\", \"magenta\", \"magenta\", \"magenta\", \"magenta\", \"magenta\", \"magenta\", \"magenta\", \"blue\", \"magenta\", \"magenta\", \"magenta\", \"magenta\", \"blue\", \"blue\", \"magenta\", \"magenta\", \"magenta\", \"magenta\", \"magenta\", \"blue\", \"blue\", \"blue\", \"magenta\", \"magenta\", \"magenta\", \"magenta\", \"blue\", \"blue\", \"magenta\", \"magenta\", \"magenta\", \"magenta\", \"magenta\", \"magenta\", \"magenta\", \"magenta\", \"magenta\", \"blue\", \"magenta\", \"magenta\", \"magenta\", \"magenta\", \"magenta\", \"magenta\", \"magenta\", \"magenta\", \"blue\", \"magenta\", \"black\", \"black\", \"black\", \"black\", \"black\", \"black\", \"black\", \"black\", \"black\", \"black\", \"black\", \"black\", \"black\", \"black\", \"black\", \"black\"]}}]}, {\"data\": [{\"type\": \"scatter\", \"x\": [1000.0, 953.0], \"y\": [200.0, 528.0], \"mode\": \"lines\", \"line\": {\"width\": 2, \"color\": \"green\"}}, {\"type\": \"scatter\", \"x\": [1000.0, 1167.0], \"y\": [600.0, 582.0], \"mode\": \"lines\", \"line\": {\"width\": 2, \"color\": \"green\"}}, {\"type\": \"scatter\", \"x\": [1000.0, 1177.0], \"y\": [1400.0, 1284.0], \"mode\": \"lines\", \"line\": {\"width\": 2, \"color\": \"green\"}}, {\"type\": \"scatter\", \"x\": [1000.0, 1043.0], \"y\": [1000.0, 1008.0], \"mode\": \"lines\", \"line\": {\"width\": 2, \"color\": \"red\"}}, {\"type\": \"scatter\", \"x\": [1400.0, 1382.0], \"y\": [600.0, 796.0], \"mode\": \"lines\", \"line\": {\"width\": 2, \"color\": \"green\"}}, {\"type\": \"scatter\", \"x\": [600.0, 409], \"y\": [200.0, 293], \"mode\": \"lines\", \"line\": {\"width\": 2, \"color\": \"green\"}}, {\"type\": \"scatter\", \"x\": [200.0, 11.0], \"y\": [1000.0, 758.0], \"mode\": \"lines\", \"line\": {\"width\": 2, \"color\": \"green\"}}, {\"type\": \"scatter\", \"x\": [1000.0, 600.0], \"y\": [600.0, 791.0], \"mode\": \"lines\", \"line\": {\"width\": 2, \"color\": \"red\"}}, {\"type\": \"scatter\", \"x\": [600.0, 706.0], \"y\": [1000.0, 967.0], \"mode\": \"lines\", \"line\": {\"width\": 2, \"color\": \"green\"}}, {\"type\": \"scatter\", \"x\": [1400.0, 1462], \"y\": [600.0, 298], \"mode\": \"lines\", \"line\": {\"width\": 2, \"color\": \"green\"}}, {\"type\": \"scatter\", \"x\": [600.0, 597.0], \"y\": [1400.0, 1206.0], \"mode\": \"lines\", \"line\": {\"width\": 2, \"color\": \"green\"}}, {\"type\": \"scatter\", \"x\": [1400.0, 1296.0], \"y\": [600.0, 424.0], \"mode\": \"lines\", \"line\": {\"width\": 2, \"color\": \"green\"}}, {\"type\": \"scatter\", \"x\": [600.0, 530.0], \"y\": [600.0, 565.0], \"mode\": \"lines\", \"line\": {\"width\": 2, \"color\": \"red\"}}, {\"type\": \"scatter\", \"x\": [1400.0, 1448.0], \"y\": [1000.0, 655.0], \"mode\": \"lines\", \"line\": {\"width\": 2, \"color\": \"green\"}}, {\"type\": \"scatter\", \"x\": [600.0, 601.0], \"y\": [200.0, 499.0], \"mode\": \"lines\", \"line\": {\"width\": 2, \"color\": \"red\"}}, {\"type\": \"scatter\", \"x\": [1400.0, 1522], \"y\": [200.0, 148], \"mode\": \"lines\", \"line\": {\"width\": 2, \"color\": \"green\"}}, {\"type\": \"scatter\", \"x\": [600.0, 955.0], \"y\": [600.0, 916.0], \"mode\": \"lines\", \"line\": {\"width\": 2, \"color\": \"red\"}}, {\"type\": \"scatter\", \"x\": [600.0, 744.0], \"y\": [600.0, 663.0], \"mode\": \"lines\", \"line\": {\"width\": 2, \"color\": \"red\"}}, {\"type\": \"scatter\", \"x\": [600.0, 693.0], \"y\": [1000.0, 1037.0], \"mode\": \"lines\", \"line\": {\"width\": 2, \"color\": \"red\"}}, {\"type\": \"scatter\", \"x\": [600.0, 644], \"y\": [200.0, 276], \"mode\": \"lines\", \"line\": {\"width\": 2, \"color\": \"green\"}}, {\"type\": \"scatter\", \"x\": [1000.0, 700.0], \"y\": [1000.0, 954.0], \"mode\": \"lines\", \"line\": {\"width\": 2, \"color\": \"red\"}}, {\"type\": \"scatter\", \"x\": [200.0, 372.0], \"y\": [600.0, 236.0], \"mode\": \"lines\", \"line\": {\"width\": 2, \"color\": \"green\"}}, {\"type\": \"scatter\", \"x\": [1000.0, 925.0], \"y\": [1000.0, 1157.0], \"mode\": \"lines\", \"line\": {\"width\": 2, \"color\": \"green\"}}, {\"type\": \"scatter\", \"x\": [200.0, 35.0], \"y\": [600.0, 502.0], \"mode\": \"lines\", \"line\": {\"width\": 2, \"color\": \"green\"}}, {\"type\": \"scatter\", \"x\": [1000.0, 861], \"y\": [1000.0, 798], \"mode\": \"lines\", \"line\": {\"width\": 2, \"color\": \"green\"}}, {\"type\": \"scatter\", \"x\": [1400.0, 1027.0], \"y\": [600.0, 377.0], \"mode\": \"lines\", \"line\": {\"width\": 2, \"color\": \"green\"}}, {\"type\": \"scatter\", \"x\": [1000.0, 937.0], \"y\": [1000.0, 629.0], \"mode\": \"lines\", \"line\": {\"width\": 2, \"color\": \"red\"}}, {\"type\": \"scatter\", \"x\": [1400.0, 1599.0], \"y\": [1000.0, 1173.0], \"mode\": \"lines\", \"line\": {\"width\": 2, \"color\": \"green\"}}, {\"type\": \"scatter\", \"x\": [600.0, 668.0], \"y\": [1000.0, 831.0], \"mode\": \"lines\", \"line\": {\"width\": 2, \"color\": \"red\"}}, {\"type\": \"scatter\", \"x\": [200.0, 266.0], \"y\": [600.0, 866.0], \"mode\": \"lines\", \"line\": {\"width\": 2, \"color\": \"green\"}}, {\"type\": \"scatter\", \"x\": [1000.0, 1026.0], \"y\": [1400.0, 1575.0], \"mode\": \"lines\", \"line\": {\"width\": 2, \"color\": \"green\"}}, {\"type\": \"scatter\", \"x\": [1000.0, 896], \"y\": [1400.0, 1255], \"mode\": \"lines\", \"line\": {\"width\": 2, \"color\": \"green\"}}, {\"type\": \"scatter\", \"x\": [1400.0, 1529.0], \"y\": [1400.0, 1132.0], \"mode\": \"lines\", \"line\": {\"width\": 2, \"color\": \"green\"}}, {\"type\": \"scatter\", \"x\": [1000.0, 1069.0], \"y\": [1000.0, 853.0], \"mode\": \"lines\", \"line\": {\"width\": 2, \"color\": \"red\"}}, {\"type\": \"scatter\", \"x\": [600.0, 588.0], \"y\": [1400.0, 1097.0], \"mode\": \"lines\", \"line\": {\"width\": 2, \"color\": \"green\"}}, {\"type\": \"scatter\", \"x\": [200.0, 176], \"y\": [200.0, 128], \"mode\": \"lines\", \"line\": {\"width\": 2, \"color\": \"green\"}}, {\"type\": \"scatter\", \"x\": [1400.0, 1492.0], \"y\": [1400.0, 1293.0], \"mode\": \"lines\", \"line\": {\"width\": 2, \"color\": \"green\"}}, {\"type\": \"scatter\", \"x\": [1000.0, 1127.0], \"y\": [600.0, 518.0], \"mode\": \"lines\", \"line\": {\"width\": 2, \"color\": \"green\"}}, {\"type\": \"scatter\", \"x\": [600.0, 666], \"y\": [200.0, 121], \"mode\": \"lines\", \"line\": {\"width\": 2, \"color\": \"green\"}}, {\"type\": \"scatter\", \"x\": [1400.0, 1099.0], \"y\": [1400.0, 1057.0], \"mode\": \"lines\", \"line\": {\"width\": 2, \"color\": \"green\"}}, {\"type\": \"scatter\", \"x\": [600.0, 699.0], \"y\": [600.0, 542.0], \"mode\": \"lines\", \"line\": {\"width\": 2, \"color\": \"red\"}}, {\"type\": \"scatter\", \"x\": [1400.0, 1501.0], \"y\": [1000.0, 811.0], \"mode\": \"lines\", \"line\": {\"width\": 2, \"color\": \"green\"}}, {\"type\": \"scatter\", \"x\": [1000.0, 972.0], \"y\": [1000.0, 901.0], \"mode\": \"lines\", \"line\": {\"width\": 2, \"color\": \"green\"}}, {\"type\": \"scatter\", \"x\": [1000.0, 922.0], \"y\": [600.0, 636.0], \"mode\": \"lines\", \"line\": {\"width\": 2, \"color\": \"red\"}}, {\"type\": \"scatter\", \"x\": [200.0, 590.0], \"y\": [200.0, 514.0], \"mode\": \"lines\", \"line\": {\"width\": 2, \"color\": \"green\"}}, {\"type\": \"scatter\", \"x\": [200.0, 256], \"y\": [200.0, 169], \"mode\": \"lines\", \"line\": {\"width\": 2, \"color\": \"green\"}}, {\"type\": \"scatter\", \"x\": [1400.0, 1277], \"y\": [200.0, 291], \"mode\": \"lines\", \"line\": {\"width\": 2, \"color\": \"green\"}}, {\"type\": \"scatter\", \"x\": [200.0, 48.0], \"y\": [600.0, 917.0], \"mode\": \"lines\", \"line\": {\"width\": 2, \"color\": \"green\"}}, {\"type\": \"scatter\", \"x\": [200.0, 46.0], \"y\": [1000.0, 714.0], \"mode\": \"lines\", \"line\": {\"width\": 2, \"color\": \"green\"}}, {\"type\": \"scatter\", \"x\": [1000.0, 1052.0], \"y\": [600.0, 655.0], \"mode\": \"lines\", \"line\": {\"width\": 2, \"color\": \"green\"}}, {\"type\": \"scatter\", \"x\": [600.0, 651.0], \"y\": [1000.0, 938.0], \"mode\": \"lines\", \"line\": {\"width\": 2, \"color\": \"red\"}}, {\"type\": \"scatter\", \"x\": [1000.0, 682.0], \"y\": [1000.0, 940.0], \"mode\": \"lines\", \"line\": {\"width\": 2, \"color\": \"red\"}}, {\"type\": \"scatter\", \"x\": [200.0, 205.0], \"y\": [600.0, 564.0], \"mode\": \"lines\", \"line\": {\"width\": 2, \"color\": \"green\"}}, {\"type\": \"scatter\", \"x\": [600.0, 161], \"y\": [200.0, 154], \"mode\": \"lines\", \"line\": {\"width\": 2, \"color\": \"green\"}}, {\"type\": \"scatter\", \"x\": [600.0, 659.0], \"y\": [1400.0, 1203.0], \"mode\": \"lines\", \"line\": {\"width\": 2, \"color\": \"green\"}}, {\"type\": \"scatter\", \"x\": [1000.0, 1029.0], \"y\": [1400.0, 1586.0], \"mode\": \"lines\", \"line\": {\"width\": 2, \"color\": \"green\"}}, {\"type\": \"scatter\", \"x\": [1000.0, 1157.0], \"y\": [1400.0, 1466.0], \"mode\": \"lines\", \"line\": {\"width\": 2, \"color\": \"green\"}}, {\"type\": \"scatter\", \"x\": [1000.0, 923.0], \"y\": [1000.0, 757.0], \"mode\": \"lines\", \"line\": {\"width\": 2, \"color\": \"green\"}}, {\"type\": \"scatter\", \"x\": [1000.0, 746.0], \"y\": [200.0, 82.0], \"mode\": \"lines\", \"line\": {\"width\": 2, \"color\": \"green\"}}, {\"type\": \"scatter\", \"x\": [1400.0, 1195.0], \"y\": [1400.0, 1437.0], \"mode\": \"lines\", \"line\": {\"width\": 2, \"color\": \"green\"}}, {\"type\": \"scatter\", \"x\": [1400.0, 1100.0], \"y\": [1000.0, 1064.0], \"mode\": \"lines\", \"line\": {\"width\": 2, \"color\": \"green\"}}, {\"type\": \"scatter\", \"x\": [1000.0, 947.0], \"y\": [1400.0, 1500.0], \"mode\": \"lines\", \"line\": {\"width\": 2, \"color\": \"green\"}}, {\"type\": \"scatter\", \"x\": [600.0, 618.0], \"y\": [1000.0, 1199.0], \"mode\": \"lines\", \"line\": {\"width\": 2, \"color\": \"green\"}}, {\"type\": \"scatter\", \"x\": [600.0, 840], \"y\": [200.0, 154], \"mode\": \"lines\", \"line\": {\"width\": 2, \"color\": \"green\"}}, {\"type\": \"scatter\", \"x\": [600.0, 673.0], \"y\": [1400.0, 1069.0], \"mode\": \"lines\", \"line\": {\"width\": 2, \"color\": \"green\"}}, {\"type\": \"scatter\", \"x\": [200.0, 196], \"y\": [600.0, 332], \"mode\": \"lines\", \"line\": {\"width\": 2, \"color\": \"green\"}}, {\"type\": \"scatter\", \"x\": [600.0, 546.0], \"y\": [600.0, 862.0], \"mode\": \"lines\", \"line\": {\"width\": 2, \"color\": \"red\"}}, {\"type\": \"scatter\", \"x\": [200.0, 123.0], \"y\": [600.0, 443.0], \"mode\": \"lines\", \"line\": {\"width\": 2, \"color\": \"green\"}}, {\"type\": \"scatter\", \"x\": [600.0, 897], \"y\": [1000.0, 961], \"mode\": \"lines\", \"line\": {\"width\": 2, \"color\": \"red\"}}, {\"type\": \"scatter\", \"x\": [1400.0, 1492.0], \"y\": [200.0, 16.0], \"mode\": \"lines\", \"line\": {\"width\": 2, \"color\": \"green\"}}, {\"type\": \"scatter\", \"x\": [1000.0, 803.0], \"y\": [1000.0, 1119.0], \"mode\": \"lines\", \"line\": {\"width\": 2, \"color\": \"green\"}}, {\"type\": \"scatter\", \"x\": [1000.0, 1181.0], \"y\": [1000.0, 1062.0], \"mode\": \"lines\", \"line\": {\"width\": 2, \"color\": \"green\"}}, {\"type\": \"scatter\", \"x\": [600.0, 617.0], \"y\": [1000.0, 941.0], \"mode\": \"lines\", \"line\": {\"width\": 2, \"color\": \"red\"}}, {\"type\": \"scatter\", \"x\": [1400.0, 1168.0], \"y\": [1000.0, 940.0], \"mode\": \"lines\", \"line\": {\"width\": 2, \"color\": \"green\"}}, {\"type\": \"scatter\", \"x\": [600.0, 269.0], \"y\": [1400.0, 1065.0], \"mode\": \"lines\", \"line\": {\"width\": 2, \"color\": \"green\"}}, {\"type\": \"scatter\", \"x\": [200.0, 538.0], \"y\": [1000.0, 812.0], \"mode\": \"lines\", \"line\": {\"width\": 2, \"color\": \"green\"}}, {\"type\": \"scatter\", \"x\": [1000.0, 816], \"y\": [1000.0, 930], \"mode\": \"lines\", \"line\": {\"width\": 2, \"color\": \"red\"}}, {\"type\": \"scatter\", \"x\": [1400.0, 1379.0], \"y\": [1400.0, 1305.0], \"mode\": \"lines\", \"line\": {\"width\": 2, \"color\": \"green\"}}, {\"type\": \"scatter\", \"x\": [1000.0, 625.0], \"y\": [600.0, 785.0], \"mode\": \"lines\", \"line\": {\"width\": 2, \"color\": \"green\"}}, {\"type\": \"scatter\", \"x\": [1000.0, 836], \"y\": [600.0, 726], \"mode\": \"lines\", \"line\": {\"width\": 2, \"color\": \"red\"}}, {\"type\": \"scatter\", \"x\": [1000.0, 851], \"y\": [600.0, 759], \"mode\": \"lines\", \"line\": {\"width\": 2, \"color\": \"red\"}}, {\"type\": \"scatter\", \"x\": [600.0, 610.0], \"y\": [600.0, 685.0], \"mode\": \"lines\", \"line\": {\"width\": 2, \"color\": \"red\"}}, {\"type\": \"scatter\", \"x\": [1000.0, 840], \"y\": [600.0, 679], \"mode\": \"lines\", \"line\": {\"width\": 2, \"color\": \"red\"}}, {\"type\": \"scatter\", \"x\": [1000.0, 1091.0], \"y\": [600.0, 359.0], \"mode\": \"lines\", \"line\": {\"width\": 2, \"color\": \"green\"}}, {\"type\": \"scatter\", \"x\": [200.0, 367], \"y\": [200.0, 138], \"mode\": \"lines\", \"line\": {\"width\": 2, \"color\": \"green\"}}, {\"type\": \"scatter\", \"x\": [200.0, 86.0], \"y\": [1000.0, 688.0], \"mode\": \"lines\", \"line\": {\"width\": 2, \"color\": \"green\"}}, {\"type\": \"scatter\", \"x\": [600.0, 541], \"y\": [200.0, 277], \"mode\": \"lines\", \"line\": {\"width\": 2, \"color\": \"green\"}}, {\"type\": \"scatter\", \"x\": [200.0, 357.0], \"y\": [600.0, 603.0], \"mode\": \"lines\", \"line\": {\"width\": 2, \"color\": \"green\"}}, {\"type\": \"scatter\", \"x\": [600.0, 349.0], \"y\": [1400.0, 1599.0], \"mode\": \"lines\", \"line\": {\"width\": 2, \"color\": \"green\"}}, {\"type\": \"scatter\", \"x\": [1000.0, 1176], \"y\": [200.0, 117], \"mode\": \"lines\", \"line\": {\"width\": 2, \"color\": \"green\"}}, {\"type\": \"scatter\", \"x\": [200.0, 168.0], \"y\": [600.0, 945.0], \"mode\": \"lines\", \"line\": {\"width\": 2, \"color\": \"green\"}}, {\"type\": \"scatter\", \"x\": [600.0, 765.0], \"y\": [1000.0, 1029.0], \"mode\": \"lines\", \"line\": {\"width\": 2, \"color\": \"red\"}}, {\"type\": \"scatter\", \"x\": [1400.0, 1403.0], \"y\": [1000.0, 617.0], \"mode\": \"lines\", \"line\": {\"width\": 2, \"color\": \"green\"}}, {\"type\": \"scatter\", \"x\": [1400.0, 1426], \"y\": [200.0, 133], \"mode\": \"lines\", \"line\": {\"width\": 2, \"color\": \"green\"}}, {\"type\": \"scatter\", \"x\": [1000.0, 826], \"y\": [1400.0, 1599.0], \"mode\": \"lines\", \"line\": {\"width\": 2, \"color\": \"green\"}}, {\"type\": \"scatter\", \"x\": [1400.0, 1587.0], \"y\": [1400.0, 1049.0], \"mode\": \"lines\", \"line\": {\"width\": 2, \"color\": \"green\"}}, {\"type\": \"scatter\", \"x\": [1000.0, 1070.0], \"y\": [1000.0, 807.0], \"mode\": \"lines\", \"line\": {\"width\": 2, \"color\": \"green\"}}, {\"type\": \"scatter\", \"x\": [600.0, 538.0], \"y\": [1000.0, 1098.0], \"mode\": \"lines\", \"line\": {\"width\": 2, \"color\": \"red\"}}, {\"type\": \"scatter\", \"x\": [200.0, 511.0], \"y\": [600.0, 829.0], \"mode\": \"lines\", \"line\": {\"width\": 2, \"color\": \"green\"}}, {\"type\": \"scatter\", \"x\": [600.0, 590.0], \"y\": [1000.0, 964.0], \"mode\": \"lines\", \"line\": {\"width\": 2, \"color\": \"red\"}}, {\"type\": \"scatter\", \"x\": [1000.0, 819], \"y\": [600.0, 545], \"mode\": \"lines\", \"line\": {\"width\": 2, \"color\": \"green\"}}, {\"type\": \"scatter\", \"x\": [200.0, 347.0], \"y\": [1000.0, 969.0], \"mode\": \"lines\", \"line\": {\"width\": 2, \"color\": \"green\"}}, {\"type\": \"scatter\", \"x\": [600.0, 798.0], \"y\": [600.0, 544.0], \"mode\": \"lines\", \"line\": {\"width\": 2, \"color\": \"red\"}}, {\"type\": \"scatter\", \"x\": [200.0, 338.0], \"y\": [600.0, 564.0], \"mode\": \"lines\", \"line\": {\"width\": 2, \"color\": \"green\"}}, {\"type\": \"scatter\", \"x\": [600.0, 858], \"y\": [200.0, 179], \"mode\": \"lines\", \"line\": {\"width\": 2, \"color\": \"green\"}}, {\"type\": \"scatter\", \"x\": [200.0, 80.0], \"y\": [600.0, 904.0], \"mode\": \"lines\", \"line\": {\"width\": 2, \"color\": \"green\"}}, {\"type\": \"scatter\", \"x\": [200.0, 140.0], \"y\": [1000.0, 1079.0], \"mode\": \"lines\", \"line\": {\"width\": 2, \"color\": \"green\"}}, {\"type\": \"scatter\", \"x\": [200.0, 46.0], \"y\": [600.0, 508.0], \"mode\": \"lines\", \"line\": {\"width\": 2, \"color\": \"green\"}}, {\"type\": \"scatter\", \"x\": [200.0, 208.0], \"y\": [1400.0, 1566.0], \"mode\": \"lines\", \"line\": {\"width\": 2, \"color\": \"green\"}}, {\"type\": \"scatter\", \"x\": [600.0, 255.0], \"y\": [600.0, 472.0], \"mode\": \"lines\", \"line\": {\"width\": 2, \"color\": \"green\"}}, {\"type\": \"scatter\", \"x\": [1400.0, 1552.0], \"y\": [600.0, 698.0], \"mode\": \"lines\", \"line\": {\"width\": 2, \"color\": \"green\"}}, {\"type\": \"scatter\", \"x\": [1000.0, 995.0], \"y\": [1400.0, 1547.0], \"mode\": \"lines\", \"line\": {\"width\": 2, \"color\": \"green\"}}, {\"type\": \"scatter\", \"x\": [1400.0, 1553], \"y\": [200.0, 287], \"mode\": \"lines\", \"line\": {\"width\": 2, \"color\": \"green\"}}, {\"type\": \"scatter\", \"x\": [600.0, 826], \"y\": [200.0, 334], \"mode\": \"lines\", \"line\": {\"width\": 2, \"color\": \"green\"}}, {\"type\": \"scatter\", \"x\": [200.0, 415.0], \"y\": [200.0, 35.0], \"mode\": \"lines\", \"line\": {\"width\": 2, \"color\": \"green\"}}, {\"type\": \"scatter\", \"x\": [200.0, 197.0], \"y\": [200.0, 212.0], \"mode\": \"lines\", \"line\": {\"width\": 2, \"color\": \"green\"}}, {\"type\": \"scatter\", \"x\": [1000.0, 1141.0], \"y\": [600.0, 572.0], \"mode\": \"lines\", \"line\": {\"width\": 2, \"color\": \"green\"}}, {\"type\": \"scatter\", \"x\": [600.0, 519.0], \"y\": [1000.0, 947.0], \"mode\": \"lines\", \"line\": {\"width\": 2, \"color\": \"red\"}}, {\"type\": \"scatter\", \"x\": [1000.0, 692.0], \"y\": [1000.0, 1242.0], \"mode\": \"lines\", \"line\": {\"width\": 2, \"color\": \"green\"}}, {\"type\": \"scatter\", \"x\": [1400.0, 1383.0], \"y\": [600.0, 595.0], \"mode\": \"lines\", \"line\": {\"width\": 2, \"color\": \"green\"}}, {\"type\": \"scatter\", \"x\": [1000.0, 1239.0], \"y\": [1000.0, 1188.0], \"mode\": \"lines\", \"line\": {\"width\": 2, \"color\": \"green\"}}, {\"type\": \"scatter\", \"x\": [1000.0, 1058.0], \"y\": [1000.0, 988.0], \"mode\": \"lines\", \"line\": {\"width\": 2, \"color\": \"red\"}}, {\"type\": \"scatter\", \"x\": [200.0, 302.0], \"y\": [1400.0, 1504.0], \"mode\": \"lines\", \"line\": {\"width\": 2, \"color\": \"green\"}}, {\"type\": \"scatter\", \"x\": [1000.0, 698.0], \"y\": [600.0, 535.0], \"mode\": \"lines\", \"line\": {\"width\": 2, \"color\": \"green\"}}, {\"type\": \"scatter\", \"x\": [600.0, 574.0], \"y\": [1400.0, 1452.0], \"mode\": \"lines\", \"line\": {\"width\": 2, \"color\": \"green\"}}, {\"type\": \"scatter\", \"x\": [1400.0, 1498.0], \"y\": [600.0, 419.0], \"mode\": \"lines\", \"line\": {\"width\": 2, \"color\": \"green\"}}, {\"type\": \"scatter\", \"x\": [200.0, 243.0], \"y\": [600.0, 594.0], \"mode\": \"lines\", \"line\": {\"width\": 2, \"color\": \"green\"}}, {\"type\": \"scatter\", \"x\": [1400.0, 1454.0], \"y\": [600.0, 526.0], \"mode\": \"lines\", \"line\": {\"width\": 2, \"color\": \"green\"}}, {\"type\": \"scatter\", \"x\": [200.0, 171.0], \"y\": [1400.0, 1237.0], \"mode\": \"lines\", \"line\": {\"width\": 2, \"color\": \"green\"}}, {\"type\": \"scatter\", \"x\": [1400.0, 1539.0], \"y\": [1000.0, 957.0], \"mode\": \"lines\", \"line\": {\"width\": 2, \"color\": \"green\"}}, {\"type\": \"scatter\", \"x\": [600.0, 569.0], \"y\": [600.0, 633.0], \"mode\": \"lines\", \"line\": {\"width\": 2, \"color\": \"red\"}}, {\"type\": \"scatter\", \"x\": [600.0, 676.0], \"y\": [1400.0, 1090.0], \"mode\": \"lines\", \"line\": {\"width\": 2, \"color\": \"green\"}}, {\"type\": \"scatter\", \"x\": [1000.0, 975.0], \"y\": [1000.0, 858.0], \"mode\": \"lines\", \"line\": {\"width\": 2, \"color\": \"green\"}}, {\"type\": \"scatter\", \"x\": [1000.0, 955.0], \"y\": [1000.0, 916.0], \"mode\": \"lines\", \"line\": {\"width\": 2, \"color\": \"green\"}}, {\"type\": \"scatter\", \"x\": [200.0, 293.0], \"y\": [1400.0, 1441.0], \"mode\": \"lines\", \"line\": {\"width\": 2, \"color\": \"green\"}}, {\"type\": \"scatter\", \"x\": [600.0, 653.0], \"y\": [600.0, 731.0], \"mode\": \"lines\", \"line\": {\"width\": 2, \"color\": \"red\"}}, {\"type\": \"scatter\", \"x\": [600.0, 776.0], \"y\": [1000.0, 807.0], \"mode\": \"lines\", \"line\": {\"width\": 2, \"color\": \"green\"}}, {\"type\": \"scatter\", \"x\": [200.0, 131.0], \"y\": [1000.0, 999.0], \"mode\": \"lines\", \"line\": {\"width\": 2, \"color\": \"green\"}}, {\"type\": \"scatter\", \"x\": [200.0, 154.0], \"y\": [600.0, 745.0], \"mode\": \"lines\", \"line\": {\"width\": 2, \"color\": \"green\"}}, {\"type\": \"scatter\", \"x\": [600.0, 566], \"y\": [200.0, 150], \"mode\": \"lines\", \"line\": {\"width\": 2, \"color\": \"green\"}}, {\"type\": \"scatter\", \"x\": [1000.0, 847], \"y\": [200.0, 43], \"mode\": \"lines\", \"line\": {\"width\": 2, \"color\": \"green\"}}, {\"type\": \"scatter\", \"x\": [1400.0, 1392.0], \"y\": [1000.0, 846.0], \"mode\": \"lines\", \"line\": {\"width\": 2, \"color\": \"green\"}}, {\"type\": \"scatter\", \"x\": [600.0, 525.1053611718219], \"y\": [200.0, 221.21440058148244], \"mode\": \"lines\", \"line\": {\"width\": 2, \"color\": \"green\"}}, {\"type\": \"scatter\", \"x\": [200.0, 223.0], \"y\": [600.0, 632.0], \"mode\": \"lines\", \"line\": {\"width\": 2, \"color\": \"green\"}}, {\"type\": \"scatter\", \"x\": [1000.0, 1179.0], \"y\": [200.0, 384.0], \"mode\": \"lines\", \"line\": {\"width\": 2, \"color\": \"green\"}}, {\"type\": \"scatter\", \"x\": [1400.0, 1358.0], \"y\": [1000.0, 851.0], \"mode\": \"lines\", \"line\": {\"width\": 2, \"color\": \"green\"}}, {\"type\": \"scatter\", \"x\": [600.0, 755.0], \"y\": [1400.0, 1244.0], \"mode\": \"lines\", \"line\": {\"width\": 2, \"color\": \"green\"}}, {\"type\": \"scatter\", \"x\": [1000.0, 829], \"y\": [1000.0, 1342], \"mode\": \"lines\", \"line\": {\"width\": 2, \"color\": \"green\"}}, {\"type\": \"scatter\", \"x\": [200.0, 171.0], \"y\": [1400.0, 1468.0], \"mode\": \"lines\", \"line\": {\"width\": 2, \"color\": \"green\"}}, {\"type\": \"scatter\", \"x\": [600.0, 514.0], \"y\": [600.0, 894.0], \"mode\": \"lines\", \"line\": {\"width\": 2, \"color\": \"red\"}}, {\"type\": \"scatter\", \"x\": [1000.0, 1023.0], \"y\": [600.0, 659.0], \"mode\": \"lines\", \"line\": {\"width\": 2, \"color\": \"red\"}}, {\"type\": \"scatter\", \"x\": [200.0, 594.0], \"y\": [600.0, 672.0], \"mode\": \"lines\", \"line\": {\"width\": 2, \"color\": \"green\"}}, {\"type\": \"scatter\", \"x\": [200.0, 187.0], \"y\": [1400.0, 1417.0], \"mode\": \"lines\", \"line\": {\"width\": 2, \"color\": \"green\"}}, {\"type\": \"scatter\", \"x\": [200.0, 236], \"y\": [200.0, 172], \"mode\": \"lines\", \"line\": {\"width\": 2, \"color\": \"green\"}}, {\"type\": \"scatter\", \"x\": [1400.0, 1591.0], \"y\": [1400.0, 1464.0], \"mode\": \"lines\", \"line\": {\"width\": 2, \"color\": \"green\"}}, {\"type\": \"scatter\", \"x\": [1000.0, 925.0], \"y\": [600.0, 543.0], \"mode\": \"lines\", \"line\": {\"width\": 2, \"color\": \"green\"}}, {\"type\": \"scatter\", \"x\": [200.0, 590.0], \"y\": [1000.0, 1073.0], \"mode\": \"lines\", \"line\": {\"width\": 2, \"color\": \"green\"}}, {\"type\": \"scatter\", \"x\": [600.0, 611.0], \"y\": [1400.0, 1340.0], \"mode\": \"lines\", \"line\": {\"width\": 2, \"color\": \"green\"}}, {\"type\": \"scatter\", \"x\": [1400.0, 1453.0], \"y\": [200.0, 70.0], \"mode\": \"lines\", \"line\": {\"width\": 2, \"color\": \"green\"}}, {\"type\": \"scatter\", \"x\": [600.0, 795.0], \"y\": [600.0, 545.0], \"mode\": \"lines\", \"line\": {\"width\": 2, \"color\": \"red\"}}, {\"type\": \"scatter\", \"x\": [600.0, 340.0], \"y\": [1000.0, 689.0], \"mode\": \"lines\", \"line\": {\"width\": 2, \"color\": \"green\"}}, {\"type\": \"scatter\", \"x\": [600.0, 428.0], \"y\": [1400.0, 1335.0], \"mode\": \"lines\", \"line\": {\"width\": 2, \"color\": \"green\"}}, {\"type\": \"scatter\", \"x\": [1400.0, 1297.0], \"y\": [600.0, 578.0], \"mode\": \"lines\", \"line\": {\"width\": 2, \"color\": \"green\"}}, {\"type\": \"scatter\", \"x\": [1400.0, 1249.0], \"y\": [1000.0, 1150.0], \"mode\": \"lines\", \"line\": {\"width\": 2, \"color\": \"green\"}}, {\"type\": \"scatter\", \"x\": [600.0, 906], \"y\": [600.0, 634], \"mode\": \"lines\", \"line\": {\"width\": 2, \"color\": \"red\"}}, {\"type\": \"scatter\", \"x\": [600.0, 633.0], \"y\": [600.0, 535.0], \"mode\": \"lines\", \"line\": {\"width\": 2, \"color\": \"red\"}}, {\"type\": \"scatter\", \"x\": [1400.0, 1240.0], \"y\": [200.0, 206.0], \"mode\": \"lines\", \"line\": {\"width\": 2, \"color\": \"green\"}}, {\"type\": \"scatter\", \"x\": [200.0, 152], \"y\": [200.0, 101], \"mode\": \"lines\", \"line\": {\"width\": 2, \"color\": \"green\"}}, {\"type\": \"scatter\", \"x\": [1000.0, 649.0], \"y\": [1400.0, 1447.0], \"mode\": \"lines\", \"line\": {\"width\": 2, \"color\": \"green\"}}, {\"type\": \"scatter\", \"x\": [200.0, 307.0], \"y\": [1000.0, 1262.0], \"mode\": \"lines\", \"line\": {\"width\": 2, \"color\": \"green\"}}, {\"type\": \"scatter\", \"x\": [1000.0, 1043.0], \"y\": [1000.0, 1084.0], \"mode\": \"lines\", \"line\": {\"width\": 2, \"color\": \"green\"}}, {\"type\": \"scatter\", \"x\": [1400.0, 1062.0], \"y\": [1000.0, 998.0], \"mode\": \"lines\", \"line\": {\"width\": 2, \"color\": \"green\"}}, {\"type\": \"scatter\", \"x\": [600.0, 818], \"y\": [1000.0, 832], \"mode\": \"lines\", \"line\": {\"width\": 2, \"color\": \"red\"}}, {\"type\": \"scatter\", \"x\": [600.0, 954.0], \"y\": [600.0, 673.0], \"mode\": \"lines\", \"line\": {\"width\": 2, \"color\": \"red\"}}, {\"type\": \"scatter\", \"x\": [1000.0, 981.0], \"y\": [1400.0, 1465.0], \"mode\": \"lines\", \"line\": {\"width\": 2, \"color\": \"green\"}}, {\"type\": \"scatter\", \"x\": [1000.0, 1084.0], \"y\": [1400.0, 1162.0], \"mode\": \"lines\", \"line\": {\"width\": 2, \"color\": \"green\"}}, {\"type\": \"scatter\", \"x\": [1000.0, 987.0], \"y\": [1000.0, 800.0], \"mode\": \"lines\", \"line\": {\"width\": 2, \"color\": \"green\"}}, {\"type\": \"scatter\", \"x\": [1400.0, 1139.0], \"y\": [600.0, 438.0], \"mode\": \"lines\", \"line\": {\"width\": 2, \"color\": \"green\"}}, {\"type\": \"scatter\", \"x\": [1000.0, 1091.0], \"y\": [1000.0, 817.0], \"mode\": \"lines\", \"line\": {\"width\": 2, \"color\": \"red\"}}, {\"type\": \"scatter\", \"x\": [1000.0, 966.0], \"y\": [600.0, 639.0], \"mode\": \"lines\", \"line\": {\"width\": 2, \"color\": \"red\"}}, {\"type\": \"scatter\", \"x\": [1000.0, 1149.0], \"y\": [200.0, 436.0], \"mode\": \"lines\", \"line\": {\"width\": 2, \"color\": \"green\"}}, {\"type\": \"scatter\", \"x\": [1000.0, 1183.0], \"y\": [1000.0, 755.0], \"mode\": \"lines\", \"line\": {\"width\": 2, \"color\": \"green\"}}, {\"type\": \"scatter\", \"x\": [600.0, 484], \"y\": [200.0, 268], \"mode\": \"lines\", \"line\": {\"width\": 2, \"color\": \"green\"}}, {\"type\": \"scatter\", \"x\": [1400.0, 1320.0], \"y\": [1000.0, 864.0], \"mode\": \"lines\", \"line\": {\"width\": 2, \"color\": \"green\"}}, {\"type\": \"scatter\", \"x\": [600.0, 628.0], \"y\": [1400.0, 1382.0], \"mode\": \"lines\", \"line\": {\"width\": 2, \"color\": \"green\"}}, {\"type\": \"scatter\", \"x\": [1000.0, 1133.0], \"y\": [1400.0, 1458.0], \"mode\": \"lines\", \"line\": {\"width\": 2, \"color\": \"green\"}}, {\"type\": \"scatter\", \"x\": [600.0, 735.0], \"y\": [1000.0, 779.0], \"mode\": \"lines\", \"line\": {\"width\": 2, \"color\": \"green\"}}, {\"type\": \"scatter\", \"x\": [200.0, 200.0], \"y\": [600.0, 746.0], \"mode\": \"lines\", \"line\": {\"width\": 2, \"color\": \"green\"}}, {\"type\": \"scatter\", \"x\": [600.0, 457], \"y\": [200.0, 139], \"mode\": \"lines\", \"line\": {\"width\": 2, \"color\": \"green\"}}, {\"type\": \"scatter\", \"x\": [600.0, 676.0], \"y\": [1000.0, 884.0], \"mode\": \"lines\", \"line\": {\"width\": 2, \"color\": \"red\"}}, {\"type\": \"scatter\", \"x\": [200.0, 249.0], \"y\": [1000.0, 942.0], \"mode\": \"lines\", \"line\": {\"width\": 2, \"color\": \"green\"}}, {\"type\": \"scatter\", \"x\": [1400.0, 1531.0], \"y\": [1400.0, 1119.0], \"mode\": \"lines\", \"line\": {\"width\": 2, \"color\": \"green\"}}, {\"type\": \"scatter\", \"x\": [200.0, 192.0], \"y\": [1000.0, 916.0], \"mode\": \"lines\", \"line\": {\"width\": 2, \"color\": \"green\"}}, {\"type\": \"scatter\", \"x\": [1400.0, 1064.0], \"y\": [200.0, 527.0], \"mode\": \"lines\", \"line\": {\"width\": 2, \"color\": \"green\"}}, {\"type\": \"scatter\", \"x\": [1400.0, 1045], \"y\": [200.0, 145], \"mode\": \"lines\", \"line\": {\"width\": 2, \"color\": \"green\"}}, {\"type\": \"scatter\", \"x\": [200.0, 207.0], \"y\": [1400.0, 1252.0], \"mode\": \"lines\", \"line\": {\"width\": 2, \"color\": \"green\"}}, {\"type\": \"scatter\", \"x\": [200.0, 231.0], \"y\": [1400.0, 1592.0], \"mode\": \"lines\", \"line\": {\"width\": 2, \"color\": \"green\"}}, {\"type\": \"scatter\", \"x\": [1000.0, 845], \"y\": [1000.0, 1192], \"mode\": \"lines\", \"line\": {\"width\": 2, \"color\": \"green\"}}, {\"type\": \"scatter\", \"x\": [600.0, 633.0], \"y\": [600.0, 628.0], \"mode\": \"lines\", \"line\": {\"width\": 2, \"color\": \"red\"}}, {\"type\": \"scatter\", \"x\": [1000.0, 1118.0], \"y\": [1000.0, 908.0], \"mode\": \"lines\", \"line\": {\"width\": 2, \"color\": \"green\"}}, {\"type\": \"scatter\", \"x\": [812, 812], \"y\": [0, 1600.0], \"mode\": \"lines\", \"line\": {\"width\": 2, \"color\": \"black\"}}, {\"type\": \"scatter\", \"x\": [812, 912], \"y\": [1600.0, 1600.0], \"mode\": \"lines\", \"line\": {\"width\": 2, \"color\": \"black\"}}, {\"type\": \"scatter\", \"x\": [912, 912], \"y\": [1600.0, 0], \"mode\": \"lines\", \"line\": {\"width\": 2, \"color\": \"black\"}}, {\"type\": \"scatter\", \"x\": [812, 912], \"y\": [0, 0], \"mode\": \"lines\", \"line\": {\"width\": 2, \"color\": \"black\"}}, {\"type\": \"scatter\", \"x\": [0, 0], \"y\": [257, 357], \"mode\": \"lines\", \"line\": {\"width\": 2, \"color\": \"black\"}}, {\"type\": \"scatter\", \"x\": [0, 1600.0], \"y\": [357, 357], \"mode\": \"lines\", \"line\": {\"width\": 2, \"color\": \"black\"}}, {\"type\": \"scatter\", \"x\": [1600.0, 1600.0], \"y\": [357, 257], \"mode\": \"lines\", \"line\": {\"width\": 2, \"color\": \"black\"}}, {\"type\": \"scatter\", \"x\": [0, 1600.0], \"y\": [257, 257], \"mode\": \"lines\", \"line\": {\"width\": 2, \"color\": \"black\"}}, {\"type\": \"scatter\", \"x\": [0, 0], \"y\": [85, 185], \"mode\": \"lines\", \"line\": {\"width\": 2, \"color\": \"black\"}}, {\"type\": \"scatter\", \"x\": [0, 1600.0], \"y\": [185, 185], \"mode\": \"lines\", \"line\": {\"width\": 2, \"color\": \"black\"}}, {\"type\": \"scatter\", \"x\": [1600.0, 1600.0], \"y\": [185, 85], \"mode\": \"lines\", \"line\": {\"width\": 2, \"color\": \"black\"}}, {\"type\": \"scatter\", \"x\": [0, 1600.0], \"y\": [85, 85], \"mode\": \"lines\", \"line\": {\"width\": 2, \"color\": \"black\"}}, {\"type\": \"scatter\", \"x\": [465, 465], \"y\": [80, 260], \"mode\": \"lines\", \"line\": {\"width\": 2, \"color\": \"black\"}}, {\"type\": \"scatter\", \"x\": [465, 556], \"y\": [260, 260], \"mode\": \"lines\", \"line\": {\"width\": 2, \"color\": \"black\"}}, {\"type\": \"scatter\", \"x\": [556, 556], \"y\": [260, 80], \"mode\": \"lines\", \"line\": {\"width\": 2, \"color\": \"black\"}}, {\"type\": \"scatter\", \"x\": [465, 556], \"y\": [80, 80], \"mode\": \"lines\", \"line\": {\"width\": 2, \"color\": \"black\"}}, {\"type\": \"scatter\", \"x\": [200.0, 200.0, 200.0, 200.0, 600.0, 600.0, 600.0, 600.0, 1000.0, 1000.0, 1000.0, 1000.0, 1400.0, 1400.0, 1400.0, 1400.0, 953.0, 1167.0, 1177.0, 1043.0, 1382.0, 409, 11.0, 600.0, 706.0, 1462, 597.0, 1296.0, 530.0, 1448.0, 601.0, 1522, 955.0, 744.0, 693.0, 644, 700.0, 372.0, 925.0, 35.0, 861, 1027.0, 937.0, 1599.0, 668.0, 266.0, 1026.0, 896, 1529.0, 1069.0, 588.0, 176, 1492.0, 1127.0, 666, 1099.0, 699.0, 1501.0, 972.0, 922.0, 590.0, 256, 1277, 48.0, 46.0, 1052.0, 651.0, 682.0, 205.0, 161, 659.0, 1029.0, 1157.0, 923.0, 746.0, 1195.0, 1100.0, 947.0, 618.0, 840, 673.0, 196, 546.0, 123.0, 897, 1492.0, 803.0, 1181.0, 617.0, 1168.0, 269.0, 538.0, 816, 1379.0, 625.0, 836, 851, 610.0, 840, 1091.0, 367, 86.0, 541, 357.0, 349.0, 1176, 168.0, 765.0, 1403.0, 1426, 826, 1587.0, 1070.0, 538.0, 511.0, 590.0, 819, 347.0, 798.0, 338.0, 858, 80.0, 140.0, 46.0, 208.0, 255.0, 1552.0, 995.0, 1553, 826, 415.0, 197.0, 1141.0, 519.0, 692.0, 1383.0, 1239.0, 1058.0, 302.0, 698.0, 574.0, 1498.0, 243.0, 1454.0, 171.0, 1539.0, 569.0, 676.0, 975.0, 955.0, 293.0, 653.0, 776.0, 131.0, 154.0, 566, 847, 1392.0, 525.1053611718219, 223.0, 1179.0, 1358.0, 755.0, 829, 171.0, 514.0, 1023.0, 594.0, 187.0, 236, 1591.0, 925.0, 590.0, 611.0, 1453.0, 795.0, 340.0, 428.0, 1297.0, 1249.0, 906, 633.0, 1240.0, 152, 649.0, 307.0, 1043.0, 1062.0, 818, 954.0, 981.0, 1084.0, 987.0, 1139.0, 1091.0, 966.0, 1149.0, 1183.0, 484, 1320.0, 628.0, 1133.0, 735.0, 200.0, 457, 676.0, 249.0, 1531.0, 192.0, 1064.0, 1045, 207.0, 231.0, 845, 633.0, 1118.0, 812, 812, 912, 912, 0, 0, 1600.0, 1600.0, 0, 0, 1600.0, 1600.0, 465, 465, 556, 556], \"y\": [200.0, 600.0, 1000.0, 1400.0, 200.0, 600.0, 1000.0, 1400.0, 200.0, 600.0, 1000.0, 1400.0, 200.0, 600.0, 1000.0, 1400.0, 528.0, 582.0, 1284.0, 1008.0, 796.0, 293, 758.0, 791.0, 967.0, 298, 1206.0, 424.0, 565.0, 655.0, 499.0, 148, 916.0, 663.0, 1037.0, 276, 954.0, 236.0, 1157.0, 502.0, 798, 377.0, 629.0, 1173.0, 831.0, 866.0, 1575.0, 1255, 1132.0, 853.0, 1097.0, 128, 1293.0, 518.0, 121, 1057.0, 542.0, 811.0, 901.0, 636.0, 514.0, 169, 291, 917.0, 714.0, 655.0, 938.0, 940.0, 564.0, 154, 1203.0, 1586.0, 1466.0, 757.0, 82.0, 1437.0, 1064.0, 1500.0, 1199.0, 154, 1069.0, 332, 862.0, 443.0, 961, 16.0, 1119.0, 1062.0, 941.0, 940.0, 1065.0, 812.0, 930, 1305.0, 785.0, 726, 759, 685.0, 679, 359.0, 138, 688.0, 277, 603.0, 1599.0, 117, 945.0, 1029.0, 617.0, 133, 1599.0, 1049.0, 807.0, 1098.0, 829.0, 964.0, 545, 969.0, 544.0, 564.0, 179, 904.0, 1079.0, 508.0, 1566.0, 472.0, 698.0, 1547.0, 287, 334, 35.0, 212.0, 572.0, 947.0, 1242.0, 595.0, 1188.0, 988.0, 1504.0, 535.0, 1452.0, 419.0, 594.0, 526.0, 1237.0, 957.0, 633.0, 1090.0, 858.0, 916.0, 1441.0, 731.0, 807.0, 999.0, 745.0, 150, 43, 846.0, 221.21440058148244, 632.0, 384.0, 851.0, 1244.0, 1342, 1468.0, 894.0, 659.0, 672.0, 1417.0, 172, 1464.0, 543.0, 1073.0, 1340.0, 70.0, 545.0, 689.0, 1335.0, 578.0, 1150.0, 634, 535.0, 206.0, 101, 1447.0, 1262.0, 1084.0, 998.0, 832, 673.0, 1465.0, 1162.0, 800.0, 438.0, 817.0, 639.0, 436.0, 755.0, 268, 864.0, 1382.0, 1458.0, 779.0, 746.0, 139, 884.0, 942.0, 1119.0, 916.0, 527.0, 145, 1252.0, 1592.0, 1192, 628.0, 908.0, 0, 1600.0, 1600.0, 0, 257, 357, 357, 257, 85, 185, 185, 85, 80, 260, 260, 80], \"mode\": \"markers\", \"marker\": {\"size\": 8, \"color\": [\"orange\", \"orange\", \"orange\", \"orange\", \"orange\", \"orange\", \"orange\", \"orange\", \"orange\", \"orange\", \"orange\", \"orange\", \"orange\", \"orange\", \"orange\", \"orange\", \"blue\", \"magenta\", \"magenta\", \"blue\", \"magenta\", \"magenta\", \"magenta\", \"blue\", \"magenta\", \"magenta\", \"magenta\", \"magenta\", \"blue\", \"magenta\", \"blue\", \"magenta\", \"blue\", \"blue\", \"blue\", \"magenta\", \"blue\", \"magenta\", \"magenta\", \"magenta\", \"magenta\", \"magenta\", \"blue\", \"magenta\", \"blue\", \"magenta\", \"magenta\", \"magenta\", \"magenta\", \"blue\", \"blue\", \"magenta\", \"magenta\", \"magenta\", \"magenta\", \"magenta\", \"blue\", \"magenta\", \"magenta\", \"blue\", \"blue\", \"magenta\", \"magenta\", \"magenta\", \"magenta\", \"magenta\", \"blue\", \"blue\", \"magenta\", \"magenta\", \"magenta\", \"magenta\", \"magenta\", \"magenta\", \"magenta\", \"magenta\", \"magenta\", \"magenta\", \"magenta\", \"magenta\", \"magenta\", \"magenta\", \"blue\", \"magenta\", \"blue\", \"magenta\", \"magenta\", \"magenta\", \"blue\", \"magenta\", \"magenta\", \"magenta\", \"blue\", \"magenta\", \"magenta\", \"blue\", \"blue\", \"blue\", \"blue\", \"magenta\", \"magenta\", \"magenta\", \"magenta\", \"magenta\", \"magenta\", \"magenta\", \"magenta\", \"blue\", \"magenta\", \"magenta\", \"magenta\", \"magenta\", \"magenta\", \"blue\", \"magenta\", \"blue\", \"magenta\", \"magenta\", \"blue\", \"magenta\", \"magenta\", \"magenta\", \"magenta\", \"magenta\", \"magenta\", \"magenta\", \"magenta\", \"magenta\", \"magenta\", \"magenta\", \"magenta\", \"magenta\", \"magenta\", \"blue\", \"magenta\", \"magenta\", \"magenta\", \"blue\", \"magenta\", \"magenta\", \"magenta\", \"magenta\", \"magenta\", \"magenta\", \"magenta\", \"magenta\", \"blue\", \"blue\", \"magenta\", \"magenta\", \"magenta\", \"blue\", \"magenta\", \"magenta\", \"magenta\", \"magenta\", \"magenta\", \"magenta\", \"magenta\", \"magenta\", \"magenta\", \"magenta\", \"magenta\", \"magenta\", \"magenta\", \"blue\", \"blue\", \"magenta\", \"magenta\", \"magenta\", \"magenta\", \"magenta\", \"magenta\", \"magenta\", \"magenta\", \"blue\", \"magenta\", \"magenta\", \"magenta\", \"magenta\", \"blue\", \"blue\", \"magenta\", \"magenta\", \"magenta\", \"magenta\", \"magenta\", \"blue\", \"blue\", \"blue\", \"magenta\", \"magenta\", \"magenta\", \"magenta\", \"blue\", \"blue\", \"magenta\", \"magenta\", \"magenta\", \"magenta\", \"magenta\", \"magenta\", \"magenta\", \"magenta\", \"magenta\", \"blue\", \"magenta\", \"magenta\", \"magenta\", \"magenta\", \"magenta\", \"magenta\", \"magenta\", \"magenta\", \"blue\", \"magenta\", \"black\", \"black\", \"black\", \"black\", \"black\", \"black\", \"black\", \"black\", \"black\", \"black\", \"black\", \"black\", \"black\", \"black\", \"black\", \"black\"]}}], \"layout\": {\"title\": \"UE and AP Distribution in the grid\"}}]);}).then(function(){Plotly.animate('5132b70a-a52b-4fd4-8ca9-3816b5c4c5db');})\n",
       "        });</script>"
      ],
      "text/vnd.plotly.v1+html": [
       "<div id=\"5132b70a-a52b-4fd4-8ca9-3816b5c4c5db\" style=\"height: 1000px; width: 1000px;\" class=\"plotly-graph-div\"></div><script type=\"text/javascript\">require([\"plotly\"], function(Plotly) { window.PLOTLYENV=window.PLOTLYENV || {};window.PLOTLYENV.BASE_URL=\"https://plot.ly\";\n",
       "        Plotly.plot(\n",
       "            '5132b70a-a52b-4fd4-8ca9-3816b5c4c5db',\n",
       "            [{\"type\": \"scatter\", \"x\": [600.0, 953], \"y\": [600.0, 528], \"mode\": \"lines\", \"line\": {\"width\": 2, \"color\": \"green\"}}, {\"type\": \"scatter\", \"x\": [1000.0, 1166], \"y\": [600.0, 582], \"mode\": \"lines\", \"line\": {\"width\": 2, \"color\": \"green\"}}, {\"type\": \"scatter\", \"x\": [1000.0, 1178], \"y\": [1400.0, 1287], \"mode\": \"lines\", \"line\": {\"width\": 2, \"color\": \"green\"}}, {\"type\": \"scatter\", \"x\": [1000.0, 1041], \"y\": [1000.0, 1009], \"mode\": \"lines\", \"line\": {\"width\": 2, \"color\": \"green\"}}, {\"type\": \"scatter\", \"x\": [1400.0, 1381], \"y\": [600.0, 796], \"mode\": \"lines\", \"line\": {\"width\": 2, \"color\": \"green\"}}, {\"type\": \"scatter\", \"x\": [600.0, 499], \"y\": [200.0, 293], \"mode\": \"lines\", \"line\": {\"width\": 2, \"color\": \"green\"}}, {\"type\": \"scatter\", \"x\": [200.0, 12], \"y\": [1000.0, 758], \"mode\": \"lines\", \"line\": {\"width\": 2, \"color\": \"green\"}}, {\"type\": \"scatter\", \"x\": [1000.0, 602], \"y\": [600.0, 794], \"mode\": \"lines\", \"line\": {\"width\": 2, \"color\": \"red\"}}, {\"type\": \"scatter\", \"x\": [600.0, 706], \"y\": [1000.0, 968], \"mode\": \"lines\", \"line\": {\"width\": 2, \"color\": \"green\"}}, {\"type\": \"scatter\", \"x\": [1400.0, 1411], \"y\": [200.0, 298], \"mode\": \"lines\", \"line\": {\"width\": 2, \"color\": \"green\"}}, {\"type\": \"scatter\", \"x\": [600.0, 596], \"y\": [1400.0, 1204], \"mode\": \"lines\", \"line\": {\"width\": 2, \"color\": \"green\"}}, {\"type\": \"scatter\", \"x\": [1400.0, 1292], \"y\": [600.0, 423], \"mode\": \"lines\", \"line\": {\"width\": 2, \"color\": \"green\"}}, {\"type\": \"scatter\", \"x\": [200.0, 529], \"y\": [600.0, 562], \"mode\": \"lines\", \"line\": {\"width\": 2, \"color\": \"red\"}}, {\"type\": \"scatter\", \"x\": [1400.0, 1447], \"y\": [1000.0, 655], \"mode\": \"lines\", \"line\": {\"width\": 2, \"color\": \"green\"}}, {\"type\": \"scatter\", \"x\": [600.0, 603], \"y\": [200.0, 500], \"mode\": \"lines\", \"line\": {\"width\": 2, \"color\": \"green\"}}, {\"type\": \"scatter\", \"x\": [1400.0, 1464], \"y\": [200.0, 148], \"mode\": \"lines\", \"line\": {\"width\": 2, \"color\": \"green\"}}, {\"type\": \"scatter\", \"x\": [600.0, 959], \"y\": [600.0, 915], \"mode\": \"lines\", \"line\": {\"width\": 2, \"color\": \"green\"}}, {\"type\": \"scatter\", \"x\": [600.0, 748], \"y\": [600.0, 664], \"mode\": \"lines\", \"line\": {\"width\": 2, \"color\": \"green\"}}, {\"type\": \"scatter\", \"x\": [600.0, 691], \"y\": [1000.0, 1038], \"mode\": \"lines\", \"line\": {\"width\": 2, \"color\": \"green\"}}, {\"type\": \"scatter\", \"x\": [600.0, 742], \"y\": [200.0, 276], \"mode\": \"lines\", \"line\": {\"width\": 2, \"color\": \"green\"}}, {\"type\": \"scatter\", \"x\": [600.0, 702], \"y\": [1000.0, 957], \"mode\": \"lines\", \"line\": {\"width\": 2, \"color\": \"red\"}}, {\"type\": \"scatter\", \"x\": [200.0, 372], \"y\": [600.0, 235], \"mode\": \"lines\", \"line\": {\"width\": 2, \"color\": \"green\"}}, {\"type\": \"scatter\", \"x\": [1000.0, 921], \"y\": [1000.0, 1158], \"mode\": \"lines\", \"line\": {\"width\": 2, \"color\": \"green\"}}, {\"type\": \"scatter\", \"x\": [200.0, 37], \"y\": [600.0, 504], \"mode\": \"lines\", \"line\": {\"width\": 2, \"color\": \"green\"}}, {\"type\": \"scatter\", \"x\": [1000.0, 861], \"y\": [1000.0, 876], \"mode\": \"lines\", \"line\": {\"width\": 2, \"color\": \"green\"}}, {\"type\": \"scatter\", \"x\": [1400.0, 1026], \"y\": [600.0, 377], \"mode\": \"lines\", \"line\": {\"width\": 2, \"color\": \"green\"}}, {\"type\": \"scatter\", \"x\": [600.0, 938], \"y\": [600.0, 629], \"mode\": \"lines\", \"line\": {\"width\": 2, \"color\": \"red\"}}, {\"type\": \"scatter\", \"x\": [1400.0, 1599], \"y\": [1000.0, 1173], \"mode\": \"lines\", \"line\": {\"width\": 2, \"color\": \"green\"}}, {\"type\": \"scatter\", \"x\": [1000.0, 667], \"y\": [600.0, 831], \"mode\": \"lines\", \"line\": {\"width\": 2, \"color\": \"red\"}}, {\"type\": \"scatter\", \"x\": [200.0, 269], \"y\": [1000.0, 868], \"mode\": \"lines\", \"line\": {\"width\": 2, \"color\": \"green\"}}, {\"type\": \"scatter\", \"x\": [1000.0, 1024], \"y\": [1400.0, 1578], \"mode\": \"lines\", \"line\": {\"width\": 2, \"color\": \"green\"}}, {\"type\": \"scatter\", \"x\": [1000.0, 896], \"y\": [1400.0, 1347], \"mode\": \"lines\", \"line\": {\"width\": 2, \"color\": \"green\"}}, {\"type\": \"scatter\", \"x\": [1400.0, 1527], \"y\": [1400.0, 1130], \"mode\": \"lines\", \"line\": {\"width\": 2, \"color\": \"green\"}}, {\"type\": \"scatter\", \"x\": [1000.0, 1068], \"y\": [1000.0, 853], \"mode\": \"lines\", \"line\": {\"width\": 2, \"color\": \"green\"}}, {\"type\": \"scatter\", \"x\": [600.0, 584], \"y\": [1400.0, 1097], \"mode\": \"lines\", \"line\": {\"width\": 2, \"color\": \"green\"}}, {\"type\": \"scatter\", \"x\": [200.0, 84], \"y\": [200.0, 128], \"mode\": \"lines\", \"line\": {\"width\": 2, \"color\": \"green\"}}, {\"type\": \"scatter\", \"x\": [1400.0, 1492], \"y\": [1000.0, 1293], \"mode\": \"lines\", \"line\": {\"width\": 2, \"color\": \"green\"}}, {\"type\": \"scatter\", \"x\": [1000.0, 1125], \"y\": [600.0, 517], \"mode\": \"lines\", \"line\": {\"width\": 2, \"color\": \"green\"}}, {\"type\": \"scatter\", \"x\": [600.0, 765], \"y\": [200.0, 121], \"mode\": \"lines\", \"line\": {\"width\": 2, \"color\": \"green\"}}, {\"type\": \"scatter\", \"x\": [1400.0, 1099], \"y\": [1400.0, 1056], \"mode\": \"lines\", \"line\": {\"width\": 2, \"color\": \"green\"}}, {\"type\": \"scatter\", \"x\": [600.0, 701], \"y\": [200.0, 541], \"mode\": \"lines\", \"line\": {\"width\": 2, \"color\": \"red\"}}, {\"type\": \"scatter\", \"x\": [1400.0, 1498], \"y\": [1000.0, 811], \"mode\": \"lines\", \"line\": {\"width\": 2, \"color\": \"green\"}}, {\"type\": \"scatter\", \"x\": [1000.0, 971], \"y\": [1000.0, 902], \"mode\": \"lines\", \"line\": {\"width\": 2, \"color\": \"green\"}}, {\"type\": \"scatter\", \"x\": [1000.0, 920], \"y\": [600.0, 636], \"mode\": \"lines\", \"line\": {\"width\": 2, \"color\": \"green\"}}, {\"type\": \"scatter\", \"x\": [600.0, 588], \"y\": [200.0, 510], \"mode\": \"lines\", \"line\": {\"width\": 2, \"color\": \"red\"}}, {\"type\": \"scatter\", \"x\": [200.0, 167], \"y\": [200.0, 169], \"mode\": \"lines\", \"line\": {\"width\": 2, \"color\": \"green\"}}, {\"type\": \"scatter\", \"x\": [1400.0, 1395], \"y\": [200.0, 291], \"mode\": \"lines\", \"line\": {\"width\": 2, \"color\": \"green\"}}, {\"type\": \"scatter\", \"x\": [200.0, 52], \"y\": [600.0, 919], \"mode\": \"lines\", \"line\": {\"width\": 2, \"color\": \"green\"}}, {\"type\": \"scatter\", \"x\": [200.0, 46], \"y\": [1000.0, 714], \"mode\": \"lines\", \"line\": {\"width\": 2, \"color\": \"green\"}}, {\"type\": \"scatter\", \"x\": [1000.0, 1053], \"y\": [600.0, 657], \"mode\": \"lines\", \"line\": {\"width\": 2, \"color\": \"green\"}}, {\"type\": \"scatter\", \"x\": [600.0, 650], \"y\": [1000.0, 942], \"mode\": \"lines\", \"line\": {\"width\": 2, \"color\": \"red\"}}, {\"type\": \"scatter\", \"x\": [600.0, 683], \"y\": [1000.0, 939], \"mode\": \"lines\", \"line\": {\"width\": 2, \"color\": \"green\"}}, {\"type\": \"scatter\", \"x\": [200.0, 203], \"y\": [600.0, 561], \"mode\": \"lines\", \"line\": {\"width\": 2, \"color\": \"green\"}}, {\"type\": \"scatter\", \"x\": [600.0, 247], \"y\": [200.0, 154], \"mode\": \"lines\", \"line\": {\"width\": 2, \"color\": \"green\"}}, {\"type\": \"scatter\", \"x\": [600.0, 659], \"y\": [1400.0, 1203], \"mode\": \"lines\", \"line\": {\"width\": 2, \"color\": \"green\"}}, {\"type\": \"scatter\", \"x\": [1000.0, 1027], \"y\": [1400.0, 1587], \"mode\": \"lines\", \"line\": {\"width\": 2, \"color\": \"green\"}}, {\"type\": \"scatter\", \"x\": [1000.0, 1155], \"y\": [1400.0, 1463], \"mode\": \"lines\", \"line\": {\"width\": 2, \"color\": \"green\"}}, {\"type\": \"scatter\", \"x\": [1000.0, 925], \"y\": [1000.0, 753], \"mode\": \"lines\", \"line\": {\"width\": 2, \"color\": \"green\"}}, {\"type\": \"scatter\", \"x\": [600.0, 747], \"y\": [200.0, 79], \"mode\": \"lines\", \"line\": {\"width\": 2, \"color\": \"green\"}}, {\"type\": \"scatter\", \"x\": [1400.0, 1193], \"y\": [1400.0, 1439], \"mode\": \"lines\", \"line\": {\"width\": 2, \"color\": \"green\"}}, {\"type\": \"scatter\", \"x\": [1400.0, 1103], \"y\": [1000.0, 1067], \"mode\": \"lines\", \"line\": {\"width\": 2, \"color\": \"green\"}}, {\"type\": \"scatter\", \"x\": [1000.0, 944], \"y\": [1400.0, 1502], \"mode\": \"lines\", \"line\": {\"width\": 2, \"color\": \"green\"}}, {\"type\": \"scatter\", \"x\": [600.0, 618], \"y\": [1000.0, 1198], \"mode\": \"lines\", \"line\": {\"width\": 2, \"color\": \"green\"}}, {\"type\": \"scatter\", \"x\": [600.0, 922], \"y\": [200.0, 154], \"mode\": \"lines\", \"line\": {\"width\": 2, \"color\": \"green\"}}, {\"type\": \"scatter\", \"x\": [600.0, 672], \"y\": [1400.0, 1072], \"mode\": \"lines\", \"line\": {\"width\": 2, \"color\": \"green\"}}, {\"type\": \"scatter\", \"x\": [200.0, 126], \"y\": [600.0, 332], \"mode\": \"lines\", \"line\": {\"width\": 2, \"color\": \"green\"}}, {\"type\": \"scatter\", \"x\": [600.0, 546], \"y\": [600.0, 858], \"mode\": \"lines\", \"line\": {\"width\": 2, \"color\": \"red\"}}, {\"type\": \"scatter\", \"x\": [200.0, 119], \"y\": [600.0, 444], \"mode\": \"lines\", \"line\": {\"width\": 2, \"color\": \"green\"}}, {\"type\": \"scatter\", \"x\": [600.0, 897], \"y\": [1000.0, 852], \"mode\": \"lines\", \"line\": {\"width\": 2, \"color\": \"red\"}}, {\"type\": \"scatter\", \"x\": [1400.0, 1491], \"y\": [200.0, 12], \"mode\": \"lines\", \"line\": {\"width\": 2, \"color\": \"green\"}}, {\"type\": \"scatter\", \"x\": [1000.0, 800], \"y\": [1000.0, 1120], \"mode\": \"lines\", \"line\": {\"width\": 2, \"color\": \"green\"}}, {\"type\": \"scatter\", \"x\": [1000.0, 1185], \"y\": [1000.0, 1064], \"mode\": \"lines\", \"line\": {\"width\": 2, \"color\": \"green\"}}, {\"type\": \"scatter\", \"x\": [600.0, 615], \"y\": [1000.0, 941], \"mode\": \"lines\", \"line\": {\"width\": 2, \"color\": \"green\"}}, {\"type\": \"scatter\", \"x\": [1400.0, 1167], \"y\": [1000.0, 938], \"mode\": \"lines\", \"line\": {\"width\": 2, \"color\": \"green\"}}, {\"type\": \"scatter\", \"x\": [200.0, 270], \"y\": [1000.0, 1064], \"mode\": \"lines\", \"line\": {\"width\": 2, \"color\": \"green\"}}, {\"type\": \"scatter\", \"x\": [200.0, 537], \"y\": [1000.0, 814], \"mode\": \"lines\", \"line\": {\"width\": 2, \"color\": \"green\"}}, {\"type\": \"scatter\", \"x\": [1000.0, 816], \"y\": [1000.0, 1008], \"mode\": \"lines\", \"line\": {\"width\": 2, \"color\": \"green\"}}, {\"type\": \"scatter\", \"x\": [1400.0, 1379], \"y\": [1400.0, 1306], \"mode\": \"lines\", \"line\": {\"width\": 2, \"color\": \"green\"}}, {\"type\": \"scatter\", \"x\": [600.0, 626], \"y\": [600.0, 781], \"mode\": \"lines\", \"line\": {\"width\": 2, \"color\": \"green\"}}, {\"type\": \"scatter\", \"x\": [1000.0, 836], \"y\": [1000.0, 675], \"mode\": \"lines\", \"line\": {\"width\": 2, \"color\": \"red\"}}, {\"type\": \"scatter\", \"x\": [600.0, 851], \"y\": [1000.0, 852], \"mode\": \"lines\", \"line\": {\"width\": 2, \"color\": \"red\"}}, {\"type\": \"scatter\", \"x\": [600.0, 609], \"y\": [1000.0, 686], \"mode\": \"lines\", \"line\": {\"width\": 2, \"color\": \"red\"}}, {\"type\": \"scatter\", \"x\": [1000.0, 840], \"y\": [600.0, 749], \"mode\": \"lines\", \"line\": {\"width\": 2, \"color\": \"green\"}}, {\"type\": \"scatter\", \"x\": [1000.0, 1092], \"y\": [600.0, 360], \"mode\": \"lines\", \"line\": {\"width\": 2, \"color\": \"green\"}}, {\"type\": \"scatter\", \"x\": [200.0, 281], \"y\": [200.0, 138], \"mode\": \"lines\", \"line\": {\"width\": 2, \"color\": \"green\"}}, {\"type\": \"scatter\", \"x\": [200.0, 86], \"y\": [600.0, 688], \"mode\": \"lines\", \"line\": {\"width\": 2, \"color\": \"green\"}}, {\"type\": \"scatter\", \"x\": [600.0, 491], \"y\": [200.0, 277], \"mode\": \"lines\", \"line\": {\"width\": 2, \"color\": \"green\"}}, {\"type\": \"scatter\", \"x\": [200.0, 356], \"y\": [600.0, 607], \"mode\": \"lines\", \"line\": {\"width\": 2, \"color\": \"green\"}}, {\"type\": \"scatter\", \"x\": [600.0, 351], \"y\": [1400.0, 1595], \"mode\": \"lines\", \"line\": {\"width\": 2, \"color\": \"green\"}}, {\"type\": \"scatter\", \"x\": [1000.0, 1084], \"y\": [200.0, 117], \"mode\": \"lines\", \"line\": {\"width\": 2, \"color\": \"green\"}}, {\"type\": \"scatter\", \"x\": [200.0, 168], \"y\": [600.0, 945], \"mode\": \"lines\", \"line\": {\"width\": 2, \"color\": \"green\"}}, {\"type\": \"scatter\", \"x\": [600.0, 768], \"y\": [1000.0, 1028], \"mode\": \"lines\", \"line\": {\"width\": 2, \"color\": \"red\"}}, {\"type\": \"scatter\", \"x\": [1400.0, 1406], \"y\": [1000.0, 620], \"mode\": \"lines\", \"line\": {\"width\": 2, \"color\": \"green\"}}, {\"type\": \"scatter\", \"x\": [1400.0, 1491], \"y\": [200.0, 133], \"mode\": \"lines\", \"line\": {\"width\": 2, \"color\": \"green\"}}, {\"type\": \"scatter\", \"x\": [1000.0, 826], \"y\": [1400.0, 1532], \"mode\": \"lines\", \"line\": {\"width\": 2, \"color\": \"green\"}}, {\"type\": \"scatter\", \"x\": [1400.0, 1584], \"y\": [1400.0, 1048], \"mode\": \"lines\", \"line\": {\"width\": 2, \"color\": \"green\"}}, {\"type\": \"scatter\", \"x\": [1000.0, 1069], \"y\": [1000.0, 803], \"mode\": \"lines\", \"line\": {\"width\": 2, \"color\": \"green\"}}, {\"type\": \"scatter\", \"x\": [600.0, 539], \"y\": [1400.0, 1096], \"mode\": \"lines\", \"line\": {\"width\": 2, \"color\": \"green\"}}, {\"type\": \"scatter\", \"x\": [200.0, 514], \"y\": [600.0, 827], \"mode\": \"lines\", \"line\": {\"width\": 2, \"color\": \"green\"}}, {\"type\": \"scatter\", \"x\": [600.0, 590], \"y\": [1000.0, 965], \"mode\": \"lines\", \"line\": {\"width\": 2, \"color\": \"red\"}}, {\"type\": \"scatter\", \"x\": [1000.0, 819], \"y\": [600.0, 478], \"mode\": \"lines\", \"line\": {\"width\": 2, \"color\": \"green\"}}, {\"type\": \"scatter\", \"x\": [200.0, 347], \"y\": [1000.0, 972], \"mode\": \"lines\", \"line\": {\"width\": 2, \"color\": \"green\"}}, {\"type\": \"scatter\", \"x\": [1000.0, 796], \"y\": [600.0, 546], \"mode\": \"lines\", \"line\": {\"width\": 2, \"color\": \"red\"}}, {\"type\": \"scatter\", \"x\": [200.0, 339], \"y\": [600.0, 568], \"mode\": \"lines\", \"line\": {\"width\": 2, \"color\": \"green\"}}, {\"type\": \"scatter\", \"x\": [600.0, 933], \"y\": [200.0, 179], \"mode\": \"lines\", \"line\": {\"width\": 2, \"color\": \"green\"}}, {\"type\": \"scatter\", \"x\": [200.0, 81], \"y\": [600.0, 906], \"mode\": \"lines\", \"line\": {\"width\": 2, \"color\": \"green\"}}, {\"type\": \"scatter\", \"x\": [200.0, 138], \"y\": [1000.0, 1080], \"mode\": \"lines\", \"line\": {\"width\": 2, \"color\": \"green\"}}, {\"type\": \"scatter\", \"x\": [200.0, 42], \"y\": [600.0, 510], \"mode\": \"lines\", \"line\": {\"width\": 2, \"color\": \"green\"}}, {\"type\": \"scatter\", \"x\": [200.0, 208], \"y\": [1400.0, 1568], \"mode\": \"lines\", \"line\": {\"width\": 2, \"color\": \"green\"}}, {\"type\": \"scatter\", \"x\": [600.0, 259], \"y\": [600.0, 472], \"mode\": \"lines\", \"line\": {\"width\": 2, \"color\": \"green\"}}, {\"type\": \"scatter\", \"x\": [1400.0, 1555], \"y\": [600.0, 700], \"mode\": \"lines\", \"line\": {\"width\": 2, \"color\": \"green\"}}, {\"type\": \"scatter\", \"x\": [1000.0, 995], \"y\": [1400.0, 1547], \"mode\": \"lines\", \"line\": {\"width\": 2, \"color\": \"green\"}}, {\"type\": \"scatter\", \"x\": [1400.0, 1472], \"y\": [200.0, 287], \"mode\": \"lines\", \"line\": {\"width\": 2, \"color\": \"green\"}}, {\"type\": \"scatter\", \"x\": [600.0, 728], \"y\": [200.0, 334], \"mode\": \"lines\", \"line\": {\"width\": 2, \"color\": \"green\"}}, {\"type\": \"scatter\", \"x\": [200.0, 414], \"y\": [200.0, 32], \"mode\": \"lines\", \"line\": {\"width\": 2, \"color\": \"green\"}}, {\"type\": \"scatter\", \"x\": [200.0, 199], \"y\": [200.0, 214], \"mode\": \"lines\", \"line\": {\"width\": 2, \"color\": \"green\"}}, {\"type\": \"scatter\", \"x\": [1000.0, 1138], \"y\": [600.0, 575], \"mode\": \"lines\", \"line\": {\"width\": 2, \"color\": \"green\"}}, {\"type\": \"scatter\", \"x\": [200.0, 521], \"y\": [600.0, 949], \"mode\": \"lines\", \"line\": {\"width\": 2, \"color\": \"red\"}}, {\"type\": \"scatter\", \"x\": [1000.0, 696], \"y\": [1000.0, 1241], \"mode\": \"lines\", \"line\": {\"width\": 2, \"color\": \"green\"}}, {\"type\": \"scatter\", \"x\": [1400.0, 1382], \"y\": [600.0, 596], \"mode\": \"lines\", \"line\": {\"width\": 2, \"color\": \"green\"}}, {\"type\": \"scatter\", \"x\": [1000.0, 1240], \"y\": [1000.0, 1188], \"mode\": \"lines\", \"line\": {\"width\": 2, \"color\": \"green\"}}, {\"type\": \"scatter\", \"x\": [1000.0, 1057], \"y\": [1000.0, 989], \"mode\": \"lines\", \"line\": {\"width\": 2, \"color\": \"red\"}}, {\"type\": \"scatter\", \"x\": [200.0, 302], \"y\": [1400.0, 1508], \"mode\": \"lines\", \"line\": {\"width\": 2, \"color\": \"green\"}}, {\"type\": \"scatter\", \"x\": [1000.0, 698], \"y\": [600.0, 536], \"mode\": \"lines\", \"line\": {\"width\": 2, \"color\": \"green\"}}, {\"type\": \"scatter\", \"x\": [600.0, 575], \"y\": [1400.0, 1452], \"mode\": \"lines\", \"line\": {\"width\": 2, \"color\": \"green\"}}, {\"type\": \"scatter\", \"x\": [1400.0, 1499], \"y\": [600.0, 416], \"mode\": \"lines\", \"line\": {\"width\": 2, \"color\": \"green\"}}, {\"type\": \"scatter\", \"x\": [200.0, 242], \"y\": [600.0, 596], \"mode\": \"lines\", \"line\": {\"width\": 2, \"color\": \"green\"}}, {\"type\": \"scatter\", \"x\": [1400.0, 1451], \"y\": [600.0, 528], \"mode\": \"lines\", \"line\": {\"width\": 2, \"color\": \"green\"}}, {\"type\": \"scatter\", \"x\": [200.0, 171], \"y\": [1400.0, 1237], \"mode\": \"lines\", \"line\": {\"width\": 2, \"color\": \"green\"}}, {\"type\": \"scatter\", \"x\": [1400.0, 1538], \"y\": [1000.0, 959], \"mode\": \"lines\", \"line\": {\"width\": 2, \"color\": \"green\"}}, {\"type\": \"scatter\", \"x\": [600.0, 569], \"y\": [600.0, 633], \"mode\": \"lines\", \"line\": {\"width\": 2, \"color\": \"green\"}}, {\"type\": \"scatter\", \"x\": [600.0, 677], \"y\": [1400.0, 1091], \"mode\": \"lines\", \"line\": {\"width\": 2, \"color\": \"green\"}}, {\"type\": \"scatter\", \"x\": [1000.0, 972], \"y\": [1000.0, 855], \"mode\": \"lines\", \"line\": {\"width\": 2, \"color\": \"green\"}}, {\"type\": \"scatter\", \"x\": [1000.0, 951], \"y\": [1000.0, 914], \"mode\": \"lines\", \"line\": {\"width\": 2, \"color\": \"green\"}}, {\"type\": \"scatter\", \"x\": [200.0, 294], \"y\": [1400.0, 1443], \"mode\": \"lines\", \"line\": {\"width\": 2, \"color\": \"green\"}}, {\"type\": \"scatter\", \"x\": [600.0, 651], \"y\": [600.0, 728], \"mode\": \"lines\", \"line\": {\"width\": 2, \"color\": \"red\"}}, {\"type\": \"scatter\", \"x\": [600.0, 773], \"y\": [1000.0, 807], \"mode\": \"lines\", \"line\": {\"width\": 2, \"color\": \"green\"}}, {\"type\": \"scatter\", \"x\": [200.0, 134], \"y\": [1000.0, 1000], \"mode\": \"lines\", \"line\": {\"width\": 2, \"color\": \"green\"}}, {\"type\": \"scatter\", \"x\": [200.0, 158], \"y\": [600.0, 746], \"mode\": \"lines\", \"line\": {\"width\": 2, \"color\": \"green\"}}, {\"type\": \"scatter\", \"x\": [600.0, 629], \"y\": [200.0, 150], \"mode\": \"lines\", \"line\": {\"width\": 2, \"color\": \"green\"}}, {\"type\": \"scatter\", \"x\": [1000.0, 847], \"y\": [200.0, 114], \"mode\": \"lines\", \"line\": {\"width\": 2, \"color\": \"green\"}}, {\"type\": \"scatter\", \"x\": [1400.0, 1392], \"y\": [1000.0, 847], \"mode\": \"lines\", \"line\": {\"width\": 2, \"color\": \"green\"}}, {\"type\": \"scatter\", \"x\": [600.0, 524], \"y\": [200.0, 222], \"mode\": \"lines\", \"line\": {\"width\": 2, \"color\": \"green\"}}, {\"type\": \"scatter\", \"x\": [200.0, 222], \"y\": [600.0, 630], \"mode\": \"lines\", \"line\": {\"width\": 2, \"color\": \"green\"}}, {\"type\": \"scatter\", \"x\": [1000.0, 1178], \"y\": [200.0, 385], \"mode\": \"lines\", \"line\": {\"width\": 2, \"color\": \"green\"}}, {\"type\": \"scatter\", \"x\": [1400.0, 1361], \"y\": [1000.0, 851], \"mode\": \"lines\", \"line\": {\"width\": 2, \"color\": \"green\"}}, {\"type\": \"scatter\", \"x\": [600.0, 752], \"y\": [1400.0, 1246], \"mode\": \"lines\", \"line\": {\"width\": 2, \"color\": \"green\"}}, {\"type\": \"scatter\", \"x\": [1000.0, 829], \"y\": [1000.0, 1386], \"mode\": \"lines\", \"line\": {\"width\": 2, \"color\": \"green\"}}, {\"type\": \"scatter\", \"x\": [200.0, 171], \"y\": [1400.0, 1468], \"mode\": \"lines\", \"line\": {\"width\": 2, \"color\": \"green\"}}, {\"type\": \"scatter\", \"x\": [600.0, 516], \"y\": [600.0, 896], \"mode\": \"lines\", \"line\": {\"width\": 2, \"color\": \"red\"}}, {\"type\": \"scatter\", \"x\": [1000.0, 1021], \"y\": [600.0, 660], \"mode\": \"lines\", \"line\": {\"width\": 2, \"color\": \"green\"}}, {\"type\": \"scatter\", \"x\": [600.0, 594], \"y\": [1000.0, 672], \"mode\": \"lines\", \"line\": {\"width\": 2, \"color\": \"green\"}}, {\"type\": \"scatter\", \"x\": [200.0, 186], \"y\": [1400.0, 1415], \"mode\": \"lines\", \"line\": {\"width\": 2, \"color\": \"green\"}}, {\"type\": \"scatter\", \"x\": [200.0, 162], \"y\": [200.0, 172], \"mode\": \"lines\", \"line\": {\"width\": 2, \"color\": \"green\"}}, {\"type\": \"scatter\", \"x\": [1400.0, 1594], \"y\": [1400.0, 1461], \"mode\": \"lines\", \"line\": {\"width\": 2, \"color\": \"green\"}}, {\"type\": \"scatter\", \"x\": [1000.0, 921], \"y\": [600.0, 543], \"mode\": \"lines\", \"line\": {\"width\": 2, \"color\": \"green\"}}, {\"type\": \"scatter\", \"x\": [200.0, 591], \"y\": [1000.0, 1070], \"mode\": \"lines\", \"line\": {\"width\": 2, \"color\": \"green\"}}, {\"type\": \"scatter\", \"x\": [600.0, 609], \"y\": [1400.0, 1341], \"mode\": \"lines\", \"line\": {\"width\": 2, \"color\": \"green\"}}, {\"type\": \"scatter\", \"x\": [1400.0, 1450], \"y\": [200.0, 69], \"mode\": \"lines\", \"line\": {\"width\": 2, \"color\": \"green\"}}, {\"type\": \"scatter\", \"x\": [1000.0, 796], \"y\": [600.0, 546], \"mode\": \"lines\", \"line\": {\"width\": 2, \"color\": \"red\"}}, {\"type\": \"scatter\", \"x\": [600.0, 338], \"y\": [1000.0, 687], \"mode\": \"lines\", \"line\": {\"width\": 2, \"color\": \"green\"}}, {\"type\": \"scatter\", \"x\": [600.0, 426], \"y\": [1400.0, 1332], \"mode\": \"lines\", \"line\": {\"width\": 2, \"color\": \"green\"}}, {\"type\": \"scatter\", \"x\": [1400.0, 1294], \"y\": [600.0, 579], \"mode\": \"lines\", \"line\": {\"width\": 2, \"color\": \"green\"}}, {\"type\": \"scatter\", \"x\": [1400.0, 1252], \"y\": [1000.0, 1148], \"mode\": \"lines\", \"line\": {\"width\": 2, \"color\": \"green\"}}, {\"type\": \"scatter\", \"x\": [1000.0, 906], \"y\": [600.0, 555], \"mode\": \"lines\", \"line\": {\"width\": 2, \"color\": \"red\"}}, {\"type\": \"scatter\", \"x\": [600.0, 632], \"y\": [600.0, 538], \"mode\": \"lines\", \"line\": {\"width\": 2, \"color\": \"green\"}}, {\"type\": \"scatter\", \"x\": [1400.0, 1238], \"y\": [200.0, 210], \"mode\": \"lines\", \"line\": {\"width\": 2, \"color\": \"green\"}}, {\"type\": \"scatter\", \"x\": [200.0, 249], \"y\": [200.0, 101], \"mode\": \"lines\", \"line\": {\"width\": 2, \"color\": \"green\"}}, {\"type\": \"scatter\", \"x\": [1000.0, 648], \"y\": [1400.0, 1449], \"mode\": \"lines\", \"line\": {\"width\": 2, \"color\": \"green\"}}, {\"type\": \"scatter\", \"x\": [200.0, 307], \"y\": [1400.0, 1262], \"mode\": \"lines\", \"line\": {\"width\": 2, \"color\": \"green\"}}, {\"type\": \"scatter\", \"x\": [1000.0, 1039], \"y\": [1000.0, 1084], \"mode\": \"lines\", \"line\": {\"width\": 2, \"color\": \"green\"}}, {\"type\": \"scatter\", \"x\": [1000.0, 1062], \"y\": [1000.0, 999], \"mode\": \"lines\", \"line\": {\"width\": 2, \"color\": \"red\"}}, {\"type\": \"scatter\", \"x\": [600.0, 818], \"y\": [1000.0, 887], \"mode\": \"lines\", \"line\": {\"width\": 2, \"color\": \"red\"}}, {\"type\": \"scatter\", \"x\": [1000.0, 956], \"y\": [1000.0, 674], \"mode\": \"lines\", \"line\": {\"width\": 2, \"color\": \"red\"}}, {\"type\": \"scatter\", \"x\": [1000.0, 985], \"y\": [1400.0, 1464], \"mode\": \"lines\", \"line\": {\"width\": 2, \"color\": \"green\"}}, {\"type\": \"scatter\", \"x\": [1000.0, 1084], \"y\": [1400.0, 1162], \"mode\": \"lines\", \"line\": {\"width\": 2, \"color\": \"green\"}}, {\"type\": \"scatter\", \"x\": [1000.0, 990], \"y\": [1000.0, 802], \"mode\": \"lines\", \"line\": {\"width\": 2, \"color\": \"green\"}}, {\"type\": \"scatter\", \"x\": [1000.0, 1139], \"y\": [200.0, 437], \"mode\": \"lines\", \"line\": {\"width\": 2, \"color\": \"green\"}}, {\"type\": \"scatter\", \"x\": [1000.0, 1091], \"y\": [600.0, 817], \"mode\": \"lines\", \"line\": {\"width\": 2, \"color\": \"red\"}}, {\"type\": \"scatter\", \"x\": [1000.0, 968], \"y\": [1000.0, 635], \"mode\": \"lines\", \"line\": {\"width\": 2, \"color\": \"red\"}}, {\"type\": \"scatter\", \"x\": [1000.0, 1153], \"y\": [200.0, 436], \"mode\": \"lines\", \"line\": {\"width\": 2, \"color\": \"green\"}}, {\"type\": \"scatter\", \"x\": [1000.0, 1180], \"y\": [1000.0, 756], \"mode\": \"lines\", \"line\": {\"width\": 2, \"color\": \"green\"}}, {\"type\": \"scatter\", \"x\": [600.0, 545], \"y\": [200.0, 268], \"mode\": \"lines\", \"line\": {\"width\": 2, \"color\": \"green\"}}, {\"type\": \"scatter\", \"x\": [1400.0, 1317], \"y\": [1000.0, 862], \"mode\": \"lines\", \"line\": {\"width\": 2, \"color\": \"green\"}}, {\"type\": \"scatter\", \"x\": [600.0, 629], \"y\": [1400.0, 1379], \"mode\": \"lines\", \"line\": {\"width\": 2, \"color\": \"green\"}}, {\"type\": \"scatter\", \"x\": [1000.0, 1134], \"y\": [1400.0, 1461], \"mode\": \"lines\", \"line\": {\"width\": 2, \"color\": \"green\"}}, {\"type\": \"scatter\", \"x\": [600.0, 733], \"y\": [1000.0, 778], \"mode\": \"lines\", \"line\": {\"width\": 2, \"color\": \"green\"}}, {\"type\": \"scatter\", \"x\": [200.0, 201], \"y\": [600.0, 746], \"mode\": \"lines\", \"line\": {\"width\": 2, \"color\": \"green\"}}, {\"type\": \"scatter\", \"x\": [600.0, 536], \"y\": [200.0, 139], \"mode\": \"lines\", \"line\": {\"width\": 2, \"color\": \"green\"}}, {\"type\": \"scatter\", \"x\": [600.0, 675], \"y\": [1000.0, 883], \"mode\": \"lines\", \"line\": {\"width\": 2, \"color\": \"red\"}}, {\"type\": \"scatter\", \"x\": [200.0, 249], \"y\": [1000.0, 942], \"mode\": \"lines\", \"line\": {\"width\": 2, \"color\": \"green\"}}, {\"type\": \"scatter\", \"x\": [1400.0, 1530], \"y\": [1400.0, 1118], \"mode\": \"lines\", \"line\": {\"width\": 2, \"color\": \"green\"}}, {\"type\": \"scatter\", \"x\": [200.0, 191], \"y\": [1000.0, 913], \"mode\": \"lines\", \"line\": {\"width\": 2, \"color\": \"green\"}}, {\"type\": \"scatter\", \"x\": [1400.0, 1067], \"y\": [200.0, 529], \"mode\": \"lines\", \"line\": {\"width\": 2, \"color\": \"green\"}}, {\"type\": \"scatter\", \"x\": [1000.0, 1105], \"y\": [200.0, 145], \"mode\": \"lines\", \"line\": {\"width\": 2, \"color\": \"green\"}}, {\"type\": \"scatter\", \"x\": [200.0, 209], \"y\": [1400.0, 1255], \"mode\": \"lines\", \"line\": {\"width\": 2, \"color\": \"green\"}}, {\"type\": \"scatter\", \"x\": [200.0, 232], \"y\": [1400.0, 1591], \"mode\": \"lines\", \"line\": {\"width\": 2, \"color\": \"green\"}}, {\"type\": \"scatter\", \"x\": [1000.0, 845], \"y\": [1000.0, 1116], \"mode\": \"lines\", \"line\": {\"width\": 2, \"color\": \"green\"}}, {\"type\": \"scatter\", \"x\": [1000.0, 634], \"y\": [600.0, 627], \"mode\": \"lines\", \"line\": {\"width\": 2, \"color\": \"red\"}}, {\"type\": \"scatter\", \"x\": [1000.0, 1120], \"y\": [1000.0, 910], \"mode\": \"lines\", \"line\": {\"width\": 2, \"color\": \"green\"}}, {\"type\": \"scatter\", \"x\": [812, 812], \"y\": [0, 1600.0], \"mode\": \"lines\", \"line\": {\"width\": 2, \"color\": \"black\"}}, {\"type\": \"scatter\", \"x\": [812, 912], \"y\": [1600.0, 1600.0], \"mode\": \"lines\", \"line\": {\"width\": 2, \"color\": \"black\"}}, {\"type\": \"scatter\", \"x\": [912, 912], \"y\": [1600.0, 0], \"mode\": \"lines\", \"line\": {\"width\": 2, \"color\": \"black\"}}, {\"type\": \"scatter\", \"x\": [812, 912], \"y\": [0, 0], \"mode\": \"lines\", \"line\": {\"width\": 2, \"color\": \"black\"}}, {\"type\": \"scatter\", \"x\": [0, 0], \"y\": [257, 357], \"mode\": \"lines\", \"line\": {\"width\": 2, \"color\": \"black\"}}, {\"type\": \"scatter\", \"x\": [0, 1600.0], \"y\": [357, 357], \"mode\": \"lines\", \"line\": {\"width\": 2, \"color\": \"black\"}}, {\"type\": \"scatter\", \"x\": [1600.0, 1600.0], \"y\": [357, 257], \"mode\": \"lines\", \"line\": {\"width\": 2, \"color\": \"black\"}}, {\"type\": \"scatter\", \"x\": [0, 1600.0], \"y\": [257, 257], \"mode\": \"lines\", \"line\": {\"width\": 2, \"color\": \"black\"}}, {\"type\": \"scatter\", \"x\": [0, 0], \"y\": [85, 185], \"mode\": \"lines\", \"line\": {\"width\": 2, \"color\": \"black\"}}, {\"type\": \"scatter\", \"x\": [0, 1600.0], \"y\": [185, 185], \"mode\": \"lines\", \"line\": {\"width\": 2, \"color\": \"black\"}}, {\"type\": \"scatter\", \"x\": [1600.0, 1600.0], \"y\": [185, 85], \"mode\": \"lines\", \"line\": {\"width\": 2, \"color\": \"black\"}}, {\"type\": \"scatter\", \"x\": [0, 1600.0], \"y\": [85, 85], \"mode\": \"lines\", \"line\": {\"width\": 2, \"color\": \"black\"}}, {\"type\": \"scatter\", \"x\": [465, 465], \"y\": [80, 260], \"mode\": \"lines\", \"line\": {\"width\": 2, \"color\": \"black\"}}, {\"type\": \"scatter\", \"x\": [465, 556], \"y\": [260, 260], \"mode\": \"lines\", \"line\": {\"width\": 2, \"color\": \"black\"}}, {\"type\": \"scatter\", \"x\": [556, 556], \"y\": [260, 80], \"mode\": \"lines\", \"line\": {\"width\": 2, \"color\": \"black\"}}, {\"type\": \"scatter\", \"x\": [465, 556], \"y\": [80, 80], \"mode\": \"lines\", \"line\": {\"width\": 2, \"color\": \"black\"}}, {\"type\": \"scatter\", \"x\": [200.0, 200.0, 200.0, 200.0, 600.0, 600.0, 600.0, 600.0, 1000.0, 1000.0, 1000.0, 1000.0, 1400.0, 1400.0, 1400.0, 1400.0, 953, 1166, 1178, 1041, 1381, 499, 12, 602, 706, 1411, 596, 1292, 529, 1447, 603, 1464, 959, 748, 691, 742, 702, 372, 921, 37, 861, 1026, 938, 1599, 667, 269, 1024, 896, 1527, 1068, 584, 84, 1492, 1125, 765, 1099, 701, 1498, 971, 920, 588, 167, 1395, 52, 46, 1053, 650, 683, 203, 247, 659, 1027, 1155, 925, 747, 1193, 1103, 944, 618, 922, 672, 126, 546, 119, 897, 1491, 800, 1185, 615, 1167, 270, 537, 816, 1379, 626, 836, 851, 609, 840, 1092, 281, 86, 491, 356, 351, 1084, 168, 768, 1406, 1491, 826, 1584, 1069, 539, 514, 590, 819, 347, 796, 339, 933, 81, 138, 42, 208, 259, 1555, 995, 1472, 728, 414, 199, 1138, 521, 696, 1382, 1240, 1057, 302, 698, 575, 1499, 242, 1451, 171, 1538, 569, 677, 972, 951, 294, 651, 773, 134, 158, 629, 847, 1392, 524, 222, 1178, 1361, 752, 829, 171, 516, 1021, 594, 186, 162, 1594, 921, 591, 609, 1450, 796, 338, 426, 1294, 1252, 906, 632, 1238, 249, 648, 307, 1039, 1062, 818, 956, 985, 1084, 990, 1139, 1091, 968, 1153, 1180, 545, 1317, 629, 1134, 733, 201, 536, 675, 249, 1530, 191, 1067, 1105, 209, 232, 845, 634, 1120, 812, 812, 912, 912, 0, 0, 1600.0, 1600.0, 0, 0, 1600.0, 1600.0, 465, 465, 556, 556], \"y\": [200.0, 600.0, 1000.0, 1400.0, 200.0, 600.0, 1000.0, 1400.0, 200.0, 600.0, 1000.0, 1400.0, 200.0, 600.0, 1000.0, 1400.0, 528, 582, 1287, 1009, 796, 293, 758, 794, 968, 298, 1204, 423, 562, 655, 500, 148, 915, 664, 1038, 276, 957, 235, 1158, 504, 876, 377, 629, 1173, 831, 868, 1578, 1347, 1130, 853, 1097, 128, 1293, 517, 121, 1056, 541, 811, 902, 636, 510, 169, 291, 919, 714, 657, 942, 939, 561, 154, 1203, 1587, 1463, 753, 79, 1439, 1067, 1502, 1198, 154, 1072, 332, 858, 444, 852, 12, 1120, 1064, 941, 938, 1064, 814, 1008, 1306, 781, 675, 852, 686, 749, 360, 138, 688, 277, 607, 1595, 117, 945, 1028, 620, 133, 1532, 1048, 803, 1096, 827, 965, 478, 972, 546, 568, 179, 906, 1080, 510, 1568, 472, 700, 1547, 287, 334, 32, 214, 575, 949, 1241, 596, 1188, 989, 1508, 536, 1452, 416, 596, 528, 1237, 959, 633, 1091, 855, 914, 1443, 728, 807, 1000, 746, 150, 114, 847, 222, 630, 385, 851, 1246, 1386, 1468, 896, 660, 672, 1415, 172, 1461, 543, 1070, 1341, 69, 546, 687, 1332, 579, 1148, 555, 538, 210, 101, 1449, 1262, 1084, 999, 887, 674, 1464, 1162, 802, 437, 817, 635, 436, 756, 268, 862, 1379, 1461, 778, 746, 139, 883, 942, 1118, 913, 529, 145, 1255, 1591, 1116, 627, 910, 0, 1600.0, 1600.0, 0, 257, 357, 357, 257, 85, 185, 185, 85, 80, 260, 260, 80], \"mode\": \"markers\", \"marker\": {\"size\": 8, \"color\": [\"orange\", \"orange\", \"orange\", \"orange\", \"orange\", \"orange\", \"orange\", \"orange\", \"orange\", \"orange\", \"orange\", \"orange\", \"orange\", \"orange\", \"orange\", \"orange\", \"blue\", \"magenta\", \"magenta\", \"blue\", \"magenta\", \"magenta\", \"magenta\", \"blue\", \"magenta\", \"magenta\", \"magenta\", \"magenta\", \"blue\", \"magenta\", \"blue\", \"magenta\", \"blue\", \"blue\", \"blue\", \"magenta\", \"blue\", \"magenta\", \"magenta\", \"magenta\", \"magenta\", \"magenta\", \"blue\", \"magenta\", \"blue\", \"magenta\", \"magenta\", \"magenta\", \"magenta\", \"blue\", \"blue\", \"magenta\", \"magenta\", \"magenta\", \"magenta\", \"magenta\", \"blue\", \"magenta\", \"magenta\", \"blue\", \"blue\", \"magenta\", \"magenta\", \"magenta\", \"magenta\", \"magenta\", \"blue\", \"blue\", \"magenta\", \"magenta\", \"magenta\", \"magenta\", \"magenta\", \"magenta\", \"magenta\", \"magenta\", \"magenta\", \"magenta\", \"magenta\", \"magenta\", \"magenta\", \"magenta\", \"blue\", \"magenta\", \"blue\", \"magenta\", \"magenta\", \"magenta\", \"blue\", \"magenta\", \"magenta\", \"magenta\", \"blue\", \"magenta\", \"magenta\", \"blue\", \"blue\", \"blue\", \"blue\", \"magenta\", \"magenta\", \"magenta\", \"magenta\", \"magenta\", \"magenta\", \"magenta\", \"magenta\", \"blue\", \"magenta\", \"magenta\", \"magenta\", \"magenta\", \"magenta\", \"blue\", \"magenta\", \"blue\", \"magenta\", \"magenta\", \"blue\", \"magenta\", \"magenta\", \"magenta\", \"magenta\", \"magenta\", \"magenta\", \"magenta\", \"magenta\", \"magenta\", \"magenta\", \"magenta\", \"magenta\", \"magenta\", \"magenta\", \"blue\", \"magenta\", \"magenta\", \"magenta\", \"blue\", \"magenta\", \"magenta\", \"magenta\", \"magenta\", \"magenta\", \"magenta\", \"magenta\", \"magenta\", \"blue\", \"blue\", \"magenta\", \"magenta\", \"magenta\", \"blue\", \"magenta\", \"magenta\", \"magenta\", \"magenta\", \"magenta\", \"magenta\", \"magenta\", \"magenta\", \"magenta\", \"magenta\", \"magenta\", \"magenta\", \"magenta\", \"blue\", \"blue\", \"magenta\", \"magenta\", \"magenta\", \"magenta\", \"magenta\", \"magenta\", \"magenta\", \"magenta\", \"blue\", \"magenta\", \"magenta\", \"magenta\", \"magenta\", \"blue\", \"blue\", \"magenta\", \"magenta\", \"magenta\", \"magenta\", \"magenta\", \"blue\", \"blue\", \"blue\", \"magenta\", \"magenta\", \"magenta\", \"magenta\", \"blue\", \"blue\", \"magenta\", \"magenta\", \"magenta\", \"magenta\", \"magenta\", \"magenta\", \"magenta\", \"magenta\", \"magenta\", \"blue\", \"magenta\", \"magenta\", \"magenta\", \"magenta\", \"magenta\", \"magenta\", \"magenta\", \"magenta\", \"blue\", \"magenta\", \"black\", \"black\", \"black\", \"black\", \"black\", \"black\", \"black\", \"black\", \"black\", \"black\", \"black\", \"black\", \"black\", \"black\", \"black\", \"black\"]}}],\n",
       "            {\"xaxis\": {\"range\": [0, 1600], \"title\": \"x\"}, \"yaxis\": {\"range\": [0, 1600], \"title\": \"y\"}, \"title\": \"UE and AP Distribution in the grid\", \"height\": 1000, \"width\": 1000, \"showlegend\": false, \"shapes\": [{\"type\": \"rect\", \"x0\": 812, \"y0\": 0, \"x1\": 912, \"y1\": 1600.0, \"line\": {\"color\": \"rgba(128, 0, 128, 1)\", \"width\": 2}, \"fillcolor\": \"rgba(128, 0, 128 0.1)\"}, {\"type\": \"rect\", \"x0\": 0, \"y0\": 257, \"x1\": 1600.0, \"y1\": 357, \"line\": {\"color\": \"rgba(128, 0, 128, 1)\", \"width\": 2}, \"fillcolor\": \"rgba(128, 0, 128 0.1)\"}, {\"type\": \"rect\", \"x0\": 0, \"y0\": 85, \"x1\": 1600.0, \"y1\": 185, \"line\": {\"color\": \"rgba(128, 0, 128, 1)\", \"width\": 2}, \"fillcolor\": \"rgba(128, 0, 128 0.1)\"}, {\"type\": \"rect\", \"x0\": 465, \"y0\": 80, \"x1\": 556, \"y1\": 260, \"line\": {\"color\": \"rgba(128, 0, 128, 1)\", \"width\": 2}, \"fillcolor\": \"rgba(128, 0, 128 0.1)\"}], \"updatemenus\": [{\"type\": \"buttons\", \"buttons\": [{\"label\": \"Play\", \"method\": \"animate\", \"args\": [null]}]}]},\n",
       "            {\"showLink\": true, \"linkText\": \"Export to plot.ly\"}\n",
       "        ).then(function () {return Plotly.addFrames('5132b70a-a52b-4fd4-8ca9-3816b5c4c5db',[{\"data\": [{\"type\": \"scatter\", \"x\": [1000.0, 953.0], \"y\": [200.0, 526.0], \"mode\": \"lines\", \"line\": {\"width\": 2, \"color\": \"green\"}}, {\"type\": \"scatter\", \"x\": [1000.0, 1167.0], \"y\": [600.0, 584.0], \"mode\": \"lines\", \"line\": {\"width\": 2, \"color\": \"green\"}}, {\"type\": \"scatter\", \"x\": [1000.0, 1177.0], \"y\": [1400.0, 1286.0], \"mode\": \"lines\", \"line\": {\"width\": 2, \"color\": \"green\"}}, {\"type\": \"scatter\", \"x\": [1000.0, 1043.0], \"y\": [1000.0, 1010.0], \"mode\": \"lines\", \"line\": {\"width\": 2, \"color\": \"red\"}}, {\"type\": \"scatter\", \"x\": [1400.0, 1382.0], \"y\": [600.0, 794.0], \"mode\": \"lines\", \"line\": {\"width\": 2, \"color\": \"green\"}}, {\"type\": \"scatter\", \"x\": [600.0, 446], \"y\": [200.0, 293], \"mode\": \"lines\", \"line\": {\"width\": 2, \"color\": \"green\"}}, {\"type\": \"scatter\", \"x\": [200.0, 12.0], \"y\": [1000.0, 756.0], \"mode\": \"lines\", \"line\": {\"width\": 2, \"color\": \"green\"}}, {\"type\": \"scatter\", \"x\": [1000.0, 602.0], \"y\": [600.0, 792.0], \"mode\": \"lines\", \"line\": {\"width\": 2, \"color\": \"red\"}}, {\"type\": \"scatter\", \"x\": [600.0, 707.0], \"y\": [1000.0, 969.0], \"mode\": \"lines\", \"line\": {\"width\": 2, \"color\": \"green\"}}, {\"type\": \"scatter\", \"x\": [1400.0, 1437], \"y\": [600.0, 298], \"mode\": \"lines\", \"line\": {\"width\": 2, \"color\": \"green\"}}, {\"type\": \"scatter\", \"x\": [600.0, 598.0], \"y\": [1400.0, 1204.0], \"mode\": \"lines\", \"line\": {\"width\": 2, \"color\": \"green\"}}, {\"type\": \"scatter\", \"x\": [1400.0, 1294.0], \"y\": [600.0, 424.0], \"mode\": \"lines\", \"line\": {\"width\": 2, \"color\": \"green\"}}, {\"type\": \"scatter\", \"x\": [600.0, 531.0], \"y\": [600.0, 563.0], \"mode\": \"lines\", \"line\": {\"width\": 2, \"color\": \"green\"}}, {\"type\": \"scatter\", \"x\": [1400.0, 1447.0], \"y\": [1000.0, 653.0], \"mode\": \"lines\", \"line\": {\"width\": 2, \"color\": \"green\"}}, {\"type\": \"scatter\", \"x\": [600.0, 602.0], \"y\": [200.0, 498.0], \"mode\": \"lines\", \"line\": {\"width\": 2, \"color\": \"red\"}}, {\"type\": \"scatter\", \"x\": [1400.0, 1497], \"y\": [200.0, 148], \"mode\": \"lines\", \"line\": {\"width\": 2, \"color\": \"green\"}}, {\"type\": \"scatter\", \"x\": [600.0, 957.0], \"y\": [600.0, 916.0], \"mode\": \"lines\", \"line\": {\"width\": 2, \"color\": \"green\"}}, {\"type\": \"scatter\", \"x\": [600.0, 746.0], \"y\": [600.0, 663.0], \"mode\": \"lines\", \"line\": {\"width\": 2, \"color\": \"green\"}}, {\"type\": \"scatter\", \"x\": [600.0, 691.0], \"y\": [1000.0, 1036.0], \"mode\": \"lines\", \"line\": {\"width\": 2, \"color\": \"red\"}}, {\"type\": \"scatter\", \"x\": [600.0, 703], \"y\": [200.0, 276], \"mode\": \"lines\", \"line\": {\"width\": 2, \"color\": \"green\"}}, {\"type\": \"scatter\", \"x\": [600.0, 702.0], \"y\": [1000.0, 955.0], \"mode\": \"lines\", \"line\": {\"width\": 2, \"color\": \"red\"}}, {\"type\": \"scatter\", \"x\": [200.0, 374.0], \"y\": [600.0, 235.0], \"mode\": \"lines\", \"line\": {\"width\": 2, \"color\": \"green\"}}, {\"type\": \"scatter\", \"x\": [1000.0, 923.0], \"y\": [1000.0, 1157.0], \"mode\": \"lines\", \"line\": {\"width\": 2, \"color\": \"green\"}}, {\"type\": \"scatter\", \"x\": [200.0, 37.0], \"y\": [600.0, 502.0], \"mode\": \"lines\", \"line\": {\"width\": 2, \"color\": \"green\"}}, {\"type\": \"scatter\", \"x\": [1000.0, 861], \"y\": [1000.0, 828], \"mode\": \"lines\", \"line\": {\"width\": 2, \"color\": \"green\"}}, {\"type\": \"scatter\", \"x\": [1400.0, 1027.0], \"y\": [600.0, 375.0], \"mode\": \"lines\", \"line\": {\"width\": 2, \"color\": \"green\"}}, {\"type\": \"scatter\", \"x\": [1000.0, 936.0], \"y\": [1000.0, 628.0], \"mode\": \"lines\", \"line\": {\"width\": 2, \"color\": \"red\"}}, {\"type\": \"scatter\", \"x\": [1400.0, 1599.0], \"y\": [1000.0, 1175.0], \"mode\": \"lines\", \"line\": {\"width\": 2, \"color\": \"green\"}}, {\"type\": \"scatter\", \"x\": [600.0, 667.0], \"y\": [1000.0, 829.0], \"mode\": \"lines\", \"line\": {\"width\": 2, \"color\": \"red\"}}, {\"type\": \"scatter\", \"x\": [200.0, 267.0], \"y\": [600.0, 868.0], \"mode\": \"lines\", \"line\": {\"width\": 2, \"color\": \"green\"}}, {\"type\": \"scatter\", \"x\": [1000.0, 1025.0], \"y\": [1400.0, 1577.0], \"mode\": \"lines\", \"line\": {\"width\": 2, \"color\": \"green\"}}, {\"type\": \"scatter\", \"x\": [1000.0, 896], \"y\": [1400.0, 1302], \"mode\": \"lines\", \"line\": {\"width\": 2, \"color\": \"green\"}}, {\"type\": \"scatter\", \"x\": [1400.0, 1529.0], \"y\": [1400.0, 1130.0], \"mode\": \"lines\", \"line\": {\"width\": 2, \"color\": \"green\"}}, {\"type\": \"scatter\", \"x\": [1000.0, 1069.0], \"y\": [1000.0, 855.0], \"mode\": \"lines\", \"line\": {\"width\": 2, \"color\": \"red\"}}, {\"type\": \"scatter\", \"x\": [600.0, 586.0], \"y\": [1400.0, 1098.0], \"mode\": \"lines\", \"line\": {\"width\": 2, \"color\": \"red\"}}, {\"type\": \"scatter\", \"x\": [200.0, 142], \"y\": [200.0, 128], \"mode\": \"lines\", \"line\": {\"width\": 2, \"color\": \"green\"}}, {\"type\": \"scatter\", \"x\": [1400.0, 1494.0], \"y\": [1000.0, 1294.0], \"mode\": \"lines\", \"line\": {\"width\": 2, \"color\": \"green\"}}, {\"type\": \"scatter\", \"x\": [1000.0, 1126.0], \"y\": [600.0, 516.0], \"mode\": \"lines\", \"line\": {\"width\": 2, \"color\": \"green\"}}, {\"type\": \"scatter\", \"x\": [600.0, 718], \"y\": [200.0, 121], \"mode\": \"lines\", \"line\": {\"width\": 2, \"color\": \"green\"}}, {\"type\": \"scatter\", \"x\": [1400.0, 1097.0], \"y\": [1400.0, 1057.0], \"mode\": \"lines\", \"line\": {\"width\": 2, \"color\": \"green\"}}, {\"type\": \"scatter\", \"x\": [600.0, 700.0], \"y\": [200.0, 540.0], \"mode\": \"lines\", \"line\": {\"width\": 2, \"color\": \"red\"}}, {\"type\": \"scatter\", \"x\": [1400.0, 1499.0], \"y\": [1000.0, 810.0], \"mode\": \"lines\", \"line\": {\"width\": 2, \"color\": \"green\"}}, {\"type\": \"scatter\", \"x\": [1000.0, 973.0], \"y\": [1000.0, 902.0], \"mode\": \"lines\", \"line\": {\"width\": 2, \"color\": \"green\"}}, {\"type\": \"scatter\", \"x\": [1000.0, 921.0], \"y\": [600.0, 634.0], \"mode\": \"lines\", \"line\": {\"width\": 2, \"color\": \"red\"}}, {\"type\": \"scatter\", \"x\": [200.0, 589.0], \"y\": [200.0, 512.0], \"mode\": \"lines\", \"line\": {\"width\": 2, \"color\": \"green\"}}, {\"type\": \"scatter\", \"x\": [200.0, 202], \"y\": [200.0, 169], \"mode\": \"lines\", \"line\": {\"width\": 2, \"color\": \"green\"}}, {\"type\": \"scatter\", \"x\": [1400.0, 1336], \"y\": [200.0, 291], \"mode\": \"lines\", \"line\": {\"width\": 2, \"color\": \"green\"}}, {\"type\": \"scatter\", \"x\": [200.0, 50.0], \"y\": [600.0, 918.0], \"mode\": \"lines\", \"line\": {\"width\": 2, \"color\": \"green\"}}, {\"type\": \"scatter\", \"x\": [200.0, 46.0], \"y\": [1000.0, 716.0], \"mode\": \"lines\", \"line\": {\"width\": 2, \"color\": \"green\"}}, {\"type\": \"scatter\", \"x\": [1000.0, 1054.0], \"y\": [600.0, 656.0], \"mode\": \"lines\", \"line\": {\"width\": 2, \"color\": \"green\"}}, {\"type\": \"scatter\", \"x\": [600.0, 650.0], \"y\": [1000.0, 940.0], \"mode\": \"lines\", \"line\": {\"width\": 2, \"color\": \"red\"}}, {\"type\": \"scatter\", \"x\": [600.0, 683.0], \"y\": [1000.0, 941.0], \"mode\": \"lines\", \"line\": {\"width\": 2, \"color\": \"red\"}}, {\"type\": \"scatter\", \"x\": [200.0, 203.0], \"y\": [600.0, 563.0], \"mode\": \"lines\", \"line\": {\"width\": 2, \"color\": \"green\"}}, {\"type\": \"scatter\", \"x\": [600.0, 208], \"y\": [200.0, 154], \"mode\": \"lines\", \"line\": {\"width\": 2, \"color\": \"green\"}}, {\"type\": \"scatter\", \"x\": [600.0, 658.0], \"y\": [1400.0, 1201.0], \"mode\": \"lines\", \"line\": {\"width\": 2, \"color\": \"green\"}}, {\"type\": \"scatter\", \"x\": [1000.0, 1029.0], \"y\": [1400.0, 1588.0], \"mode\": \"lines\", \"line\": {\"width\": 2, \"color\": \"green\"}}, {\"type\": \"scatter\", \"x\": [1000.0, 1156.0], \"y\": [1400.0, 1464.0], \"mode\": \"lines\", \"line\": {\"width\": 2, \"color\": \"green\"}}, {\"type\": \"scatter\", \"x\": [1000.0, 924.0], \"y\": [1000.0, 755.0], \"mode\": \"lines\", \"line\": {\"width\": 2, \"color\": \"green\"}}, {\"type\": \"scatter\", \"x\": [600.0, 748.0], \"y\": [200.0, 81.0], \"mode\": \"lines\", \"line\": {\"width\": 2, \"color\": \"green\"}}, {\"type\": \"scatter\", \"x\": [1400.0, 1195.0], \"y\": [1400.0, 1439.0], \"mode\": \"lines\", \"line\": {\"width\": 2, \"color\": \"green\"}}, {\"type\": \"scatter\", \"x\": [1400.0, 1101.0], \"y\": [1000.0, 1066.0], \"mode\": \"lines\", \"line\": {\"width\": 2, \"color\": \"green\"}}, {\"type\": \"scatter\", \"x\": [1000.0, 946.0], \"y\": [1400.0, 1502.0], \"mode\": \"lines\", \"line\": {\"width\": 2, \"color\": \"green\"}}, {\"type\": \"scatter\", \"x\": [600.0, 620.0], \"y\": [1000.0, 1199.0], \"mode\": \"lines\", \"line\": {\"width\": 2, \"color\": \"green\"}}, {\"type\": \"scatter\", \"x\": [600.0, 899], \"y\": [200.0, 154], \"mode\": \"lines\", \"line\": {\"width\": 2, \"color\": \"green\"}}, {\"type\": \"scatter\", \"x\": [600.0, 671.0], \"y\": [1400.0, 1070.0], \"mode\": \"lines\", \"line\": {\"width\": 2, \"color\": \"green\"}}, {\"type\": \"scatter\", \"x\": [200.0, 147], \"y\": [600.0, 332], \"mode\": \"lines\", \"line\": {\"width\": 2, \"color\": \"green\"}}, {\"type\": \"scatter\", \"x\": [600.0, 547.0], \"y\": [600.0, 860.0], \"mode\": \"lines\", \"line\": {\"width\": 2, \"color\": \"green\"}}, {\"type\": \"scatter\", \"x\": [200.0, 121.0], \"y\": [600.0, 444.0], \"mode\": \"lines\", \"line\": {\"width\": 2, \"color\": \"green\"}}, {\"type\": \"scatter\", \"x\": [600.0, 897], \"y\": [1000.0, 909], \"mode\": \"lines\", \"line\": {\"width\": 2, \"color\": \"red\"}}, {\"type\": \"scatter\", \"x\": [1400.0, 1492.0], \"y\": [200.0, 14.0], \"mode\": \"lines\", \"line\": {\"width\": 2, \"color\": \"green\"}}, {\"type\": \"scatter\", \"x\": [1000.0, 802.0], \"y\": [1000.0, 1121.0], \"mode\": \"lines\", \"line\": {\"width\": 2, \"color\": \"green\"}}, {\"type\": \"scatter\", \"x\": [1000.0, 1183.0], \"y\": [1000.0, 1063.0], \"mode\": \"lines\", \"line\": {\"width\": 2, \"color\": \"green\"}}, {\"type\": \"scatter\", \"x\": [600.0, 616.0], \"y\": [1000.0, 943.0], \"mode\": \"lines\", \"line\": {\"width\": 2, \"color\": \"red\"}}, {\"type\": \"scatter\", \"x\": [1400.0, 1166.0], \"y\": [1000.0, 940.0], \"mode\": \"lines\", \"line\": {\"width\": 2, \"color\": \"green\"}}, {\"type\": \"scatter\", \"x\": [600.0, 271.0], \"y\": [1400.0, 1066.0], \"mode\": \"lines\", \"line\": {\"width\": 2, \"color\": \"green\"}}, {\"type\": \"scatter\", \"x\": [200.0, 536.0], \"y\": [1000.0, 812.0], \"mode\": \"lines\", \"line\": {\"width\": 2, \"color\": \"green\"}}, {\"type\": \"scatter\", \"x\": [1000.0, 816], \"y\": [1000.0, 967], \"mode\": \"lines\", \"line\": {\"width\": 2, \"color\": \"red\"}}, {\"type\": \"scatter\", \"x\": [1400.0, 1377.0], \"y\": [1400.0, 1305.0], \"mode\": \"lines\", \"line\": {\"width\": 2, \"color\": \"green\"}}, {\"type\": \"scatter\", \"x\": [1000.0, 625.0], \"y\": [600.0, 783.0], \"mode\": \"lines\", \"line\": {\"width\": 2, \"color\": \"green\"}}, {\"type\": \"scatter\", \"x\": [1000.0, 836], \"y\": [1000.0, 703], \"mode\": \"lines\", \"line\": {\"width\": 2, \"color\": \"red\"}}, {\"type\": \"scatter\", \"x\": [600.0, 851], \"y\": [1000.0, 796], \"mode\": \"lines\", \"line\": {\"width\": 2, \"color\": \"red\"}}, {\"type\": \"scatter\", \"x\": [600.0, 608.0], \"y\": [600.0, 684.0], \"mode\": \"lines\", \"line\": {\"width\": 2, \"color\": \"green\"}}, {\"type\": \"scatter\", \"x\": [1000.0, 840], \"y\": [600.0, 703], \"mode\": \"lines\", \"line\": {\"width\": 2, \"color\": \"red\"}}, {\"type\": \"scatter\", \"x\": [1000.0, 1093.0], \"y\": [600.0, 358.0], \"mode\": \"lines\", \"line\": {\"width\": 2, \"color\": \"green\"}}, {\"type\": \"scatter\", \"x\": [200.0, 338], \"y\": [200.0, 138], \"mode\": \"lines\", \"line\": {\"width\": 2, \"color\": \"green\"}}, {\"type\": \"scatter\", \"x\": [200.0, 84.0], \"y\": [600.0, 688.0], \"mode\": \"lines\", \"line\": {\"width\": 2, \"color\": \"green\"}}, {\"type\": \"scatter\", \"x\": [600.0, 517], \"y\": [200.0, 277], \"mode\": \"lines\", \"line\": {\"width\": 2, \"color\": \"green\"}}, {\"type\": \"scatter\", \"x\": [200.0, 357.0], \"y\": [600.0, 605.0], \"mode\": \"lines\", \"line\": {\"width\": 2, \"color\": \"green\"}}, {\"type\": \"scatter\", \"x\": [600.0, 350.0], \"y\": [1400.0, 1597.0], \"mode\": \"lines\", \"line\": {\"width\": 2, \"color\": \"green\"}}, {\"type\": \"scatter\", \"x\": [1000.0, 1143], \"y\": [200.0, 117], \"mode\": \"lines\", \"line\": {\"width\": 2, \"color\": \"green\"}}, {\"type\": \"scatter\", \"x\": [200.0, 166.0], \"y\": [600.0, 944.0], \"mode\": \"lines\", \"line\": {\"width\": 2, \"color\": \"green\"}}, {\"type\": \"scatter\", \"x\": [1000.0, 767.0], \"y\": [1000.0, 1030.0], \"mode\": \"lines\", \"line\": {\"width\": 2, \"color\": \"red\"}}, {\"type\": \"scatter\", \"x\": [1400.0, 1405.0], \"y\": [1000.0, 618.0], \"mode\": \"lines\", \"line\": {\"width\": 2, \"color\": \"green\"}}, {\"type\": \"scatter\", \"x\": [1400.0, 1446], \"y\": [200.0, 133], \"mode\": \"lines\", \"line\": {\"width\": 2, \"color\": \"green\"}}, {\"type\": \"scatter\", \"x\": [1000.0, 826], \"y\": [1400.0, 1569], \"mode\": \"lines\", \"line\": {\"width\": 2, \"color\": \"green\"}}, {\"type\": \"scatter\", \"x\": [1400.0, 1586.0], \"y\": [1400.0, 1047.0], \"mode\": \"lines\", \"line\": {\"width\": 2, \"color\": \"green\"}}, {\"type\": \"scatter\", \"x\": [1000.0, 1070.0], \"y\": [1000.0, 805.0], \"mode\": \"lines\", \"line\": {\"width\": 2, \"color\": \"green\"}}, {\"type\": \"scatter\", \"x\": [600.0, 537.0], \"y\": [1400.0, 1097.0], \"mode\": \"lines\", \"line\": {\"width\": 2, \"color\": \"red\"}}, {\"type\": \"scatter\", \"x\": [200.0, 513.0], \"y\": [600.0, 829.0], \"mode\": \"lines\", \"line\": {\"width\": 2, \"color\": \"green\"}}, {\"type\": \"scatter\", \"x\": [600.0, 588.0], \"y\": [1000.0, 965.0], \"mode\": \"lines\", \"line\": {\"width\": 2, \"color\": \"red\"}}, {\"type\": \"scatter\", \"x\": [1000.0, 819], \"y\": [600.0, 522], \"mode\": \"lines\", \"line\": {\"width\": 2, \"color\": \"green\"}}, {\"type\": \"scatter\", \"x\": [200.0, 348.0], \"y\": [1000.0, 971.0], \"mode\": \"lines\", \"line\": {\"width\": 2, \"color\": \"green\"}}, {\"type\": \"scatter\", \"x\": [1000.0, 798.0], \"y\": [600.0, 546.0], \"mode\": \"lines\", \"line\": {\"width\": 2, \"color\": \"red\"}}, {\"type\": \"scatter\", \"x\": [200.0, 339.0], \"y\": [600.0, 566.0], \"mode\": \"lines\", \"line\": {\"width\": 2, \"color\": \"green\"}}, {\"type\": \"scatter\", \"x\": [600.0, 892], \"y\": [200.0, 179], \"mode\": \"lines\", \"line\": {\"width\": 2, \"color\": \"green\"}}, {\"type\": \"scatter\", \"x\": [200.0, 82.0], \"y\": [600.0, 904.0], \"mode\": \"lines\", \"line\": {\"width\": 2, \"color\": \"green\"}}, {\"type\": \"scatter\", \"x\": [200.0, 138.0], \"y\": [1000.0, 1078.0], \"mode\": \"lines\", \"line\": {\"width\": 2, \"color\": \"green\"}}, {\"type\": \"scatter\", \"x\": [200.0, 44.0], \"y\": [600.0, 509.0], \"mode\": \"lines\", \"line\": {\"width\": 2, \"color\": \"green\"}}, {\"type\": \"scatter\", \"x\": [200.0, 210.0], \"y\": [1400.0, 1567.0], \"mode\": \"lines\", \"line\": {\"width\": 2, \"color\": \"green\"}}, {\"type\": \"scatter\", \"x\": [600.0, 257.0], \"y\": [600.0, 471.0], \"mode\": \"lines\", \"line\": {\"width\": 2, \"color\": \"green\"}}, {\"type\": \"scatter\", \"x\": [1400.0, 1553.0], \"y\": [600.0, 700.0], \"mode\": \"lines\", \"line\": {\"width\": 2, \"color\": \"green\"}}, {\"type\": \"scatter\", \"x\": [1000.0, 997.0], \"y\": [1400.0, 1546.0], \"mode\": \"lines\", \"line\": {\"width\": 2, \"color\": \"green\"}}, {\"type\": \"scatter\", \"x\": [1400.0, 1525], \"y\": [200.0, 287], \"mode\": \"lines\", \"line\": {\"width\": 2, \"color\": \"green\"}}, {\"type\": \"scatter\", \"x\": [600.0, 786], \"y\": [200.0, 334], \"mode\": \"lines\", \"line\": {\"width\": 2, \"color\": \"green\"}}, {\"type\": \"scatter\", \"x\": [200.0, 416.0], \"y\": [200.0, 33.0], \"mode\": \"lines\", \"line\": {\"width\": 2, \"color\": \"green\"}}, {\"type\": \"scatter\", \"x\": [200.0, 199.0], \"y\": [200.0, 212.0], \"mode\": \"lines\", \"line\": {\"width\": 2, \"color\": \"green\"}}, {\"type\": \"scatter\", \"x\": [1000.0, 1140.0], \"y\": [600.0, 574.0], \"mode\": \"lines\", \"line\": {\"width\": 2, \"color\": \"green\"}}, {\"type\": \"scatter\", \"x\": [200.0, 519.0], \"y\": [600.0, 949.0], \"mode\": \"lines\", \"line\": {\"width\": 2, \"color\": \"red\"}}, {\"type\": \"scatter\", \"x\": [1000.0, 694.0], \"y\": [1000.0, 1242.0], \"mode\": \"lines\", \"line\": {\"width\": 2, \"color\": \"green\"}}, {\"type\": \"scatter\", \"x\": [1400.0, 1381.0], \"y\": [600.0, 594.0], \"mode\": \"lines\", \"line\": {\"width\": 2, \"color\": \"green\"}}, {\"type\": \"scatter\", \"x\": [1000.0, 1239.0], \"y\": [1000.0, 1190.0], \"mode\": \"lines\", \"line\": {\"width\": 2, \"color\": \"green\"}}, {\"type\": \"scatter\", \"x\": [1000.0, 1056.0], \"y\": [1000.0, 987.0], \"mode\": \"lines\", \"line\": {\"width\": 2, \"color\": \"red\"}}, {\"type\": \"scatter\", \"x\": [200.0, 303.0], \"y\": [1400.0, 1506.0], \"mode\": \"lines\", \"line\": {\"width\": 2, \"color\": \"green\"}}, {\"type\": \"scatter\", \"x\": [1000.0, 699.0], \"y\": [600.0, 537.0], \"mode\": \"lines\", \"line\": {\"width\": 2, \"color\": \"green\"}}, {\"type\": \"scatter\", \"x\": [600.0, 574.0], \"y\": [1400.0, 1450.0], \"mode\": \"lines\", \"line\": {\"width\": 2, \"color\": \"green\"}}, {\"type\": \"scatter\", \"x\": [1400.0, 1500.0], \"y\": [600.0, 418.0], \"mode\": \"lines\", \"line\": {\"width\": 2, \"color\": \"green\"}}, {\"type\": \"scatter\", \"x\": [200.0, 241.0], \"y\": [600.0, 594.0], \"mode\": \"lines\", \"line\": {\"width\": 2, \"color\": \"green\"}}, {\"type\": \"scatter\", \"x\": [1400.0, 1452.0], \"y\": [600.0, 526.0], \"mode\": \"lines\", \"line\": {\"width\": 2, \"color\": \"green\"}}, {\"type\": \"scatter\", \"x\": [200.0, 171.0], \"y\": [1400.0, 1235.0], \"mode\": \"lines\", \"line\": {\"width\": 2, \"color\": \"green\"}}, {\"type\": \"scatter\", \"x\": [1400.0, 1540.0], \"y\": [1000.0, 959.0], \"mode\": \"lines\", \"line\": {\"width\": 2, \"color\": \"green\"}}, {\"type\": \"scatter\", \"x\": [600.0, 570.0], \"y\": [600.0, 635.0], \"mode\": \"lines\", \"line\": {\"width\": 2, \"color\": \"green\"}}, {\"type\": \"scatter\", \"x\": [600.0, 675.0], \"y\": [1400.0, 1092.0], \"mode\": \"lines\", \"line\": {\"width\": 2, \"color\": \"red\"}}, {\"type\": \"scatter\", \"x\": [1000.0, 974.0], \"y\": [1000.0, 856.0], \"mode\": \"lines\", \"line\": {\"width\": 2, \"color\": \"green\"}}, {\"type\": \"scatter\", \"x\": [1000.0, 953.0], \"y\": [1000.0, 915.0], \"mode\": \"lines\", \"line\": {\"width\": 2, \"color\": \"green\"}}, {\"type\": \"scatter\", \"x\": [200.0, 295.0], \"y\": [1400.0, 1441.0], \"mode\": \"lines\", \"line\": {\"width\": 2, \"color\": \"green\"}}, {\"type\": \"scatter\", \"x\": [600.0, 653.0], \"y\": [600.0, 729.0], \"mode\": \"lines\", \"line\": {\"width\": 2, \"color\": \"green\"}}, {\"type\": \"scatter\", \"x\": [600.0, 775.0], \"y\": [1000.0, 806.0], \"mode\": \"lines\", \"line\": {\"width\": 2, \"color\": \"green\"}}, {\"type\": \"scatter\", \"x\": [200.0, 132.0], \"y\": [1000.0, 1001.0], \"mode\": \"lines\", \"line\": {\"width\": 2, \"color\": \"green\"}}, {\"type\": \"scatter\", \"x\": [200.0, 156.0], \"y\": [600.0, 746.0], \"mode\": \"lines\", \"line\": {\"width\": 2, \"color\": \"green\"}}, {\"type\": \"scatter\", \"x\": [600.0, 593], \"y\": [200.0, 150], \"mode\": \"lines\", \"line\": {\"width\": 2, \"color\": \"green\"}}, {\"type\": \"scatter\", \"x\": [1000.0, 847], \"y\": [200.0, 77], \"mode\": \"lines\", \"line\": {\"width\": 2, \"color\": \"green\"}}, {\"type\": \"scatter\", \"x\": [1400.0, 1394.0], \"y\": [1000.0, 847.0], \"mode\": \"lines\", \"line\": {\"width\": 2, \"color\": \"green\"}}, {\"type\": \"scatter\", \"x\": [600.0, 524.9784847587282], \"y\": [200.0, 222.206319114327], \"mode\": \"lines\", \"line\": {\"width\": 2, \"color\": \"green\"}}, {\"type\": \"scatter\", \"x\": [200.0, 224.0], \"y\": [600.0, 631.0], \"mode\": \"lines\", \"line\": {\"width\": 2, \"color\": \"green\"}}, {\"type\": \"scatter\", \"x\": [1000.0, 1180.0], \"y\": [200.0, 386.0], \"mode\": \"lines\", \"line\": {\"width\": 2, \"color\": \"green\"}}, {\"type\": \"scatter\", \"x\": [1400.0, 1360.0], \"y\": [1000.0, 852.0], \"mode\": \"lines\", \"line\": {\"width\": 2, \"color\": \"green\"}}, {\"type\": \"scatter\", \"x\": [600.0, 754.0], \"y\": [1400.0, 1246.0], \"mode\": \"lines\", \"line\": {\"width\": 2, \"color\": \"green\"}}, {\"type\": \"scatter\", \"x\": [1000.0, 829], \"y\": [1000.0, 1364], \"mode\": \"lines\", \"line\": {\"width\": 2, \"color\": \"green\"}}, {\"type\": \"scatter\", \"x\": [200.0, 172.0], \"y\": [1400.0, 1470.0], \"mode\": \"lines\", \"line\": {\"width\": 2, \"color\": \"green\"}}, {\"type\": \"scatter\", \"x\": [600.0, 516.0], \"y\": [600.0, 894.0], \"mode\": \"lines\", \"line\": {\"width\": 2, \"color\": \"green\"}}, {\"type\": \"scatter\", \"x\": [1000.0, 1023.0], \"y\": [600.0, 661.0], \"mode\": \"lines\", \"line\": {\"width\": 2, \"color\": \"red\"}}, {\"type\": \"scatter\", \"x\": [200.0, 592.0], \"y\": [600.0, 671.0], \"mode\": \"lines\", \"line\": {\"width\": 2, \"color\": \"green\"}}, {\"type\": \"scatter\", \"x\": [200.0, 185.0], \"y\": [1400.0, 1417.0], \"mode\": \"lines\", \"line\": {\"width\": 2, \"color\": \"green\"}}, {\"type\": \"scatter\", \"x\": [200.0, 196], \"y\": [200.0, 172], \"mode\": \"lines\", \"line\": {\"width\": 2, \"color\": \"green\"}}, {\"type\": \"scatter\", \"x\": [1400.0, 1593.0], \"y\": [1400.0, 1463.0], \"mode\": \"lines\", \"line\": {\"width\": 2, \"color\": \"green\"}}, {\"type\": \"scatter\", \"x\": [1000.0, 923.0], \"y\": [600.0, 543.0], \"mode\": \"lines\", \"line\": {\"width\": 2, \"color\": \"green\"}}, {\"type\": \"scatter\", \"x\": [200.0, 589.0], \"y\": [1000.0, 1071.0], \"mode\": \"lines\", \"line\": {\"width\": 2, \"color\": \"green\"}}, {\"type\": \"scatter\", \"x\": [600.0, 609.0], \"y\": [1400.0, 1339.0], \"mode\": \"lines\", \"line\": {\"width\": 2, \"color\": \"green\"}}, {\"type\": \"scatter\", \"x\": [1400.0, 1451.0], \"y\": [200.0, 71.0], \"mode\": \"lines\", \"line\": {\"width\": 2, \"color\": \"green\"}}, {\"type\": \"scatter\", \"x\": [600.0, 797.0], \"y\": [600.0, 544.0], \"mode\": \"lines\", \"line\": {\"width\": 2, \"color\": \"green\"}}, {\"type\": \"scatter\", \"x\": [600.0, 338.0], \"y\": [1000.0, 689.0], \"mode\": \"lines\", \"line\": {\"width\": 2, \"color\": \"green\"}}, {\"type\": \"scatter\", \"x\": [600.0, 428.0], \"y\": [1400.0, 1333.0], \"mode\": \"lines\", \"line\": {\"width\": 2, \"color\": \"green\"}}, {\"type\": \"scatter\", \"x\": [1400.0, 1295.0], \"y\": [600.0, 577.0], \"mode\": \"lines\", \"line\": {\"width\": 2, \"color\": \"green\"}}, {\"type\": \"scatter\", \"x\": [1400.0, 1250.0], \"y\": [1000.0, 1148.0], \"mode\": \"lines\", \"line\": {\"width\": 2, \"color\": \"green\"}}, {\"type\": \"scatter\", \"x\": [1000.0, 906], \"y\": [600.0, 601], \"mode\": \"lines\", \"line\": {\"width\": 2, \"color\": \"red\"}}, {\"type\": \"scatter\", \"x\": [600.0, 634.0], \"y\": [600.0, 537.0], \"mode\": \"lines\", \"line\": {\"width\": 2, \"color\": \"green\"}}, {\"type\": \"scatter\", \"x\": [1400.0, 1239.0], \"y\": [200.0, 208.0], \"mode\": \"lines\", \"line\": {\"width\": 2, \"color\": \"green\"}}, {\"type\": \"scatter\", \"x\": [200.0, 211], \"y\": [200.0, 101], \"mode\": \"lines\", \"line\": {\"width\": 2, \"color\": \"green\"}}, {\"type\": \"scatter\", \"x\": [1000.0, 647.0], \"y\": [1400.0, 1447.0], \"mode\": \"lines\", \"line\": {\"width\": 2, \"color\": \"green\"}}, {\"type\": \"scatter\", \"x\": [200.0, 308.0], \"y\": [1000.0, 1260.0], \"mode\": \"lines\", \"line\": {\"width\": 2, \"color\": \"green\"}}, {\"type\": \"scatter\", \"x\": [1000.0, 1041.0], \"y\": [1000.0, 1085.0], \"mode\": \"lines\", \"line\": {\"width\": 2, \"color\": \"green\"}}, {\"type\": \"scatter\", \"x\": [1400.0, 1064.0], \"y\": [1000.0, 999.0], \"mode\": \"lines\", \"line\": {\"width\": 2, \"color\": \"red\"}}, {\"type\": \"scatter\", \"x\": [600.0, 818], \"y\": [1000.0, 859], \"mode\": \"lines\", \"line\": {\"width\": 2, \"color\": \"red\"}}, {\"type\": \"scatter\", \"x\": [1000.0, 956.0], \"y\": [600.0, 672.0], \"mode\": \"lines\", \"line\": {\"width\": 2, \"color\": \"red\"}}, {\"type\": \"scatter\", \"x\": [1000.0, 983.0], \"y\": [1400.0, 1464.0], \"mode\": \"lines\", \"line\": {\"width\": 2, \"color\": \"green\"}}, {\"type\": \"scatter\", \"x\": [1000.0, 1086.0], \"y\": [1400.0, 1162.0], \"mode\": \"lines\", \"line\": {\"width\": 2, \"color\": \"green\"}}, {\"type\": \"scatter\", \"x\": [1000.0, 989.0], \"y\": [1000.0, 800.0], \"mode\": \"lines\", \"line\": {\"width\": 2, \"color\": \"green\"}}, {\"type\": \"scatter\", \"x\": [1400.0, 1141.0], \"y\": [600.0, 437.0], \"mode\": \"lines\", \"line\": {\"width\": 2, \"color\": \"green\"}}, {\"type\": \"scatter\", \"x\": [1000.0, 1092.0], \"y\": [1000.0, 819.0], \"mode\": \"lines\", \"line\": {\"width\": 2, \"color\": \"red\"}}, {\"type\": \"scatter\", \"x\": [1000.0, 967.0], \"y\": [1000.0, 637.0], \"mode\": \"lines\", \"line\": {\"width\": 2, \"color\": \"red\"}}, {\"type\": \"scatter\", \"x\": [1000.0, 1151.0], \"y\": [200.0, 435.0], \"mode\": \"lines\", \"line\": {\"width\": 2, \"color\": \"green\"}}, {\"type\": \"scatter\", \"x\": [1000.0, 1181.0], \"y\": [1000.0, 754.0], \"mode\": \"lines\", \"line\": {\"width\": 2, \"color\": \"green\"}}, {\"type\": \"scatter\", \"x\": [600.0, 522], \"y\": [200.0, 268], \"mode\": \"lines\", \"line\": {\"width\": 2, \"color\": \"green\"}}, {\"type\": \"scatter\", \"x\": [1400.0, 1318.0], \"y\": [1000.0, 864.0], \"mode\": \"lines\", \"line\": {\"width\": 2, \"color\": \"green\"}}, {\"type\": \"scatter\", \"x\": [600.0, 630.0], \"y\": [1400.0, 1381.0], \"mode\": \"lines\", \"line\": {\"width\": 2, \"color\": \"green\"}}, {\"type\": \"scatter\", \"x\": [1000.0, 1132.0], \"y\": [1400.0, 1460.0], \"mode\": \"lines\", \"line\": {\"width\": 2, \"color\": \"green\"}}, {\"type\": \"scatter\", \"x\": [600.0, 734.0], \"y\": [1000.0, 777.0], \"mode\": \"lines\", \"line\": {\"width\": 2, \"color\": \"green\"}}, {\"type\": \"scatter\", \"x\": [200.0, 200.0], \"y\": [600.0, 748.0], \"mode\": \"lines\", \"line\": {\"width\": 2, \"color\": \"green\"}}, {\"type\": \"scatter\", \"x\": [600.0, 514], \"y\": [200.0, 139], \"mode\": \"lines\", \"line\": {\"width\": 2, \"color\": \"green\"}}, {\"type\": \"scatter\", \"x\": [600.0, 677.0], \"y\": [1000.0, 882.0], \"mode\": \"lines\", \"line\": {\"width\": 2, \"color\": \"red\"}}, {\"type\": \"scatter\", \"x\": [200.0, 250.0], \"y\": [1000.0, 940.0], \"mode\": \"lines\", \"line\": {\"width\": 2, \"color\": \"green\"}}, {\"type\": \"scatter\", \"x\": [1400.0, 1529.0], \"y\": [1400.0, 1120.0], \"mode\": \"lines\", \"line\": {\"width\": 2, \"color\": \"green\"}}, {\"type\": \"scatter\", \"x\": [200.0, 192.0], \"y\": [1000.0, 914.0], \"mode\": \"lines\", \"line\": {\"width\": 2, \"color\": \"green\"}}, {\"type\": \"scatter\", \"x\": [1400.0, 1066.0], \"y\": [200.0, 527.0], \"mode\": \"lines\", \"line\": {\"width\": 2, \"color\": \"green\"}}, {\"type\": \"scatter\", \"x\": [1000.0, 1083], \"y\": [200.0, 145], \"mode\": \"lines\", \"line\": {\"width\": 2, \"color\": \"green\"}}, {\"type\": \"scatter\", \"x\": [200.0, 207.0], \"y\": [1400.0, 1254.0], \"mode\": \"lines\", \"line\": {\"width\": 2, \"color\": \"green\"}}, {\"type\": \"scatter\", \"x\": [200.0, 230.0], \"y\": [1400.0, 1590.0], \"mode\": \"lines\", \"line\": {\"width\": 2, \"color\": \"green\"}}, {\"type\": \"scatter\", \"x\": [1000.0, 845], \"y\": [1000.0, 1148], \"mode\": \"lines\", \"line\": {\"width\": 2, \"color\": \"green\"}}, {\"type\": \"scatter\", \"x\": [1000.0, 632.0], \"y\": [600.0, 627.0], \"mode\": \"lines\", \"line\": {\"width\": 2, \"color\": \"red\"}}, {\"type\": \"scatter\", \"x\": [1000.0, 1118.0], \"y\": [1000.0, 910.0], \"mode\": \"lines\", \"line\": {\"width\": 2, \"color\": \"green\"}}, {\"type\": \"scatter\", \"x\": [812, 812], \"y\": [0, 1600.0], \"mode\": \"lines\", \"line\": {\"width\": 2, \"color\": \"black\"}}, {\"type\": \"scatter\", \"x\": [812, 912], \"y\": [1600.0, 1600.0], \"mode\": \"lines\", \"line\": {\"width\": 2, \"color\": \"black\"}}, {\"type\": \"scatter\", \"x\": [912, 912], \"y\": [1600.0, 0], \"mode\": \"lines\", \"line\": {\"width\": 2, \"color\": \"black\"}}, {\"type\": \"scatter\", \"x\": [812, 912], \"y\": [0, 0], \"mode\": \"lines\", \"line\": {\"width\": 2, \"color\": \"black\"}}, {\"type\": \"scatter\", \"x\": [0, 0], \"y\": [257, 357], \"mode\": \"lines\", \"line\": {\"width\": 2, \"color\": \"black\"}}, {\"type\": \"scatter\", \"x\": [0, 1600.0], \"y\": [357, 357], \"mode\": \"lines\", \"line\": {\"width\": 2, \"color\": \"black\"}}, {\"type\": \"scatter\", \"x\": [1600.0, 1600.0], \"y\": [357, 257], \"mode\": \"lines\", \"line\": {\"width\": 2, \"color\": \"black\"}}, {\"type\": \"scatter\", \"x\": [0, 1600.0], \"y\": [257, 257], \"mode\": \"lines\", \"line\": {\"width\": 2, \"color\": \"black\"}}, {\"type\": \"scatter\", \"x\": [0, 0], \"y\": [85, 185], \"mode\": \"lines\", \"line\": {\"width\": 2, \"color\": \"black\"}}, {\"type\": \"scatter\", \"x\": [0, 1600.0], \"y\": [185, 185], \"mode\": \"lines\", \"line\": {\"width\": 2, \"color\": \"black\"}}, {\"type\": \"scatter\", \"x\": [1600.0, 1600.0], \"y\": [185, 85], \"mode\": \"lines\", \"line\": {\"width\": 2, \"color\": \"black\"}}, {\"type\": \"scatter\", \"x\": [0, 1600.0], \"y\": [85, 85], \"mode\": \"lines\", \"line\": {\"width\": 2, \"color\": \"black\"}}, {\"type\": \"scatter\", \"x\": [465, 465], \"y\": [80, 260], \"mode\": \"lines\", \"line\": {\"width\": 2, \"color\": \"black\"}}, {\"type\": \"scatter\", \"x\": [465, 556], \"y\": [260, 260], \"mode\": \"lines\", \"line\": {\"width\": 2, \"color\": \"black\"}}, {\"type\": \"scatter\", \"x\": [556, 556], \"y\": [260, 80], \"mode\": \"lines\", \"line\": {\"width\": 2, \"color\": \"black\"}}, {\"type\": \"scatter\", \"x\": [465, 556], \"y\": [80, 80], \"mode\": \"lines\", \"line\": {\"width\": 2, \"color\": \"black\"}}, {\"type\": \"scatter\", \"x\": [200.0, 200.0, 200.0, 200.0, 600.0, 600.0, 600.0, 600.0, 1000.0, 1000.0, 1000.0, 1000.0, 1400.0, 1400.0, 1400.0, 1400.0, 953.0, 1167.0, 1177.0, 1043.0, 1382.0, 446, 12.0, 602.0, 707.0, 1437, 598.0, 1294.0, 531.0, 1447.0, 602.0, 1497, 957.0, 746.0, 691.0, 703, 702.0, 374.0, 923.0, 37.0, 861, 1027.0, 936.0, 1599.0, 667.0, 267.0, 1025.0, 896, 1529.0, 1069.0, 586.0, 142, 1494.0, 1126.0, 718, 1097.0, 700.0, 1499.0, 973.0, 921.0, 589.0, 202, 1336, 50.0, 46.0, 1054.0, 650.0, 683.0, 203.0, 208, 658.0, 1029.0, 1156.0, 924.0, 748.0, 1195.0, 1101.0, 946.0, 620.0, 899, 671.0, 147, 547.0, 121.0, 897, 1492.0, 802.0, 1183.0, 616.0, 1166.0, 271.0, 536.0, 816, 1377.0, 625.0, 836, 851, 608.0, 840, 1093.0, 338, 84.0, 517, 357.0, 350.0, 1143, 166.0, 767.0, 1405.0, 1446, 826, 1586.0, 1070.0, 537.0, 513.0, 588.0, 819, 348.0, 798.0, 339.0, 892, 82.0, 138.0, 44.0, 210.0, 257.0, 1553.0, 997.0, 1525, 786, 416.0, 199.0, 1140.0, 519.0, 694.0, 1381.0, 1239.0, 1056.0, 303.0, 699.0, 574.0, 1500.0, 241.0, 1452.0, 171.0, 1540.0, 570.0, 675.0, 974.0, 953.0, 295.0, 653.0, 775.0, 132.0, 156.0, 593, 847, 1394.0, 524.9784847587282, 224.0, 1180.0, 1360.0, 754.0, 829, 172.0, 516.0, 1023.0, 592.0, 185.0, 196, 1593.0, 923.0, 589.0, 609.0, 1451.0, 797.0, 338.0, 428.0, 1295.0, 1250.0, 906, 634.0, 1239.0, 211, 647.0, 308.0, 1041.0, 1064.0, 818, 956.0, 983.0, 1086.0, 989.0, 1141.0, 1092.0, 967.0, 1151.0, 1181.0, 522, 1318.0, 630.0, 1132.0, 734.0, 200.0, 514, 677.0, 250.0, 1529.0, 192.0, 1066.0, 1083, 207.0, 230.0, 845, 632.0, 1118.0, 812, 812, 912, 912, 0, 0, 1600.0, 1600.0, 0, 0, 1600.0, 1600.0, 465, 465, 556, 556], \"y\": [200.0, 600.0, 1000.0, 1400.0, 200.0, 600.0, 1000.0, 1400.0, 200.0, 600.0, 1000.0, 1400.0, 200.0, 600.0, 1000.0, 1400.0, 526.0, 584.0, 1286.0, 1010.0, 794.0, 293, 756.0, 792.0, 969.0, 298, 1204.0, 424.0, 563.0, 653.0, 498.0, 148, 916.0, 663.0, 1036.0, 276, 955.0, 235.0, 1157.0, 502.0, 828, 375.0, 628.0, 1175.0, 829.0, 868.0, 1577.0, 1302, 1130.0, 855.0, 1098.0, 128, 1294.0, 516.0, 121, 1057.0, 540.0, 810.0, 902.0, 634.0, 512.0, 169, 291, 918.0, 716.0, 656.0, 940.0, 941.0, 563.0, 154, 1201.0, 1588.0, 1464.0, 755.0, 81.0, 1439.0, 1066.0, 1502.0, 1199.0, 154, 1070.0, 332, 860.0, 444.0, 909, 14.0, 1121.0, 1063.0, 943.0, 940.0, 1066.0, 812.0, 967, 1305.0, 783.0, 703, 796, 684.0, 703, 358.0, 138, 688.0, 277, 605.0, 1597.0, 117, 944.0, 1030.0, 618.0, 133, 1569, 1047.0, 805.0, 1097.0, 829.0, 965.0, 522, 971.0, 546.0, 566.0, 179, 904.0, 1078.0, 509.0, 1567.0, 471.0, 700.0, 1546.0, 287, 334, 33.0, 212.0, 574.0, 949.0, 1242.0, 594.0, 1190.0, 987.0, 1506.0, 537.0, 1450.0, 418.0, 594.0, 526.0, 1235.0, 959.0, 635.0, 1092.0, 856.0, 915.0, 1441.0, 729.0, 806.0, 1001.0, 746.0, 150, 77, 847.0, 222.206319114327, 631.0, 386.0, 852.0, 1246.0, 1364, 1470.0, 894.0, 661.0, 671.0, 1417.0, 172, 1463.0, 543.0, 1071.0, 1339.0, 71.0, 544.0, 689.0, 1333.0, 577.0, 1148.0, 601, 537.0, 208.0, 101, 1447.0, 1260.0, 1085.0, 999.0, 859, 672.0, 1464.0, 1162.0, 800.0, 437.0, 819.0, 637.0, 435.0, 754.0, 268, 864.0, 1381.0, 1460.0, 777.0, 748.0, 139, 882.0, 940.0, 1120.0, 914.0, 527.0, 145, 1254.0, 1590.0, 1148, 627.0, 910.0, 0, 1600.0, 1600.0, 0, 257, 357, 357, 257, 85, 185, 185, 85, 80, 260, 260, 80], \"mode\": \"markers\", \"marker\": {\"size\": 8, \"color\": [\"orange\", \"orange\", \"orange\", \"orange\", \"orange\", \"orange\", \"orange\", \"orange\", \"orange\", \"orange\", \"orange\", \"orange\", \"orange\", \"orange\", \"orange\", \"orange\", \"blue\", \"magenta\", \"magenta\", \"blue\", \"magenta\", \"magenta\", \"magenta\", \"blue\", \"magenta\", \"magenta\", \"magenta\", \"magenta\", \"blue\", \"magenta\", \"blue\", \"magenta\", \"blue\", \"blue\", \"blue\", \"magenta\", \"blue\", \"magenta\", \"magenta\", \"magenta\", \"magenta\", \"magenta\", \"blue\", \"magenta\", \"blue\", \"magenta\", \"magenta\", \"magenta\", \"magenta\", \"blue\", \"blue\", \"magenta\", \"magenta\", \"magenta\", \"magenta\", \"magenta\", \"blue\", \"magenta\", \"magenta\", \"blue\", \"blue\", \"magenta\", \"magenta\", \"magenta\", \"magenta\", \"magenta\", \"blue\", \"blue\", \"magenta\", \"magenta\", \"magenta\", \"magenta\", \"magenta\", \"magenta\", \"magenta\", \"magenta\", \"magenta\", \"magenta\", \"magenta\", \"magenta\", \"magenta\", \"magenta\", \"blue\", \"magenta\", \"blue\", \"magenta\", \"magenta\", \"magenta\", \"blue\", \"magenta\", \"magenta\", \"magenta\", \"blue\", \"magenta\", \"magenta\", \"blue\", \"blue\", \"blue\", \"blue\", \"magenta\", \"magenta\", \"magenta\", \"magenta\", \"magenta\", \"magenta\", \"magenta\", \"magenta\", \"blue\", \"magenta\", \"magenta\", \"magenta\", \"magenta\", \"magenta\", \"blue\", \"magenta\", \"blue\", \"magenta\", \"magenta\", \"blue\", \"magenta\", \"magenta\", \"magenta\", \"magenta\", \"magenta\", \"magenta\", \"magenta\", \"magenta\", \"magenta\", \"magenta\", \"magenta\", \"magenta\", \"magenta\", \"magenta\", \"blue\", \"magenta\", \"magenta\", \"magenta\", \"blue\", \"magenta\", \"magenta\", \"magenta\", \"magenta\", \"magenta\", \"magenta\", \"magenta\", \"magenta\", \"blue\", \"blue\", \"magenta\", \"magenta\", \"magenta\", \"blue\", \"magenta\", \"magenta\", \"magenta\", \"magenta\", \"magenta\", \"magenta\", \"magenta\", \"magenta\", \"magenta\", \"magenta\", \"magenta\", \"magenta\", \"magenta\", \"blue\", \"blue\", \"magenta\", \"magenta\", \"magenta\", \"magenta\", \"magenta\", \"magenta\", \"magenta\", \"magenta\", \"blue\", \"magenta\", \"magenta\", \"magenta\", \"magenta\", \"blue\", \"blue\", \"magenta\", \"magenta\", \"magenta\", \"magenta\", \"magenta\", \"blue\", \"blue\", \"blue\", \"magenta\", \"magenta\", \"magenta\", \"magenta\", \"blue\", \"blue\", \"magenta\", \"magenta\", \"magenta\", \"magenta\", \"magenta\", \"magenta\", \"magenta\", \"magenta\", \"magenta\", \"blue\", \"magenta\", \"magenta\", \"magenta\", \"magenta\", \"magenta\", \"magenta\", \"magenta\", \"magenta\", \"blue\", \"magenta\", \"black\", \"black\", \"black\", \"black\", \"black\", \"black\", \"black\", \"black\", \"black\", \"black\", \"black\", \"black\", \"black\", \"black\", \"black\", \"black\"]}}]}, {\"data\": [{\"type\": \"scatter\", \"x\": [1000.0, 953.0], \"y\": [200.0, 528.0], \"mode\": \"lines\", \"line\": {\"width\": 2, \"color\": \"green\"}}, {\"type\": \"scatter\", \"x\": [1000.0, 1167.0], \"y\": [600.0, 582.0], \"mode\": \"lines\", \"line\": {\"width\": 2, \"color\": \"green\"}}, {\"type\": \"scatter\", \"x\": [1000.0, 1177.0], \"y\": [1400.0, 1284.0], \"mode\": \"lines\", \"line\": {\"width\": 2, \"color\": \"green\"}}, {\"type\": \"scatter\", \"x\": [1000.0, 1043.0], \"y\": [1000.0, 1008.0], \"mode\": \"lines\", \"line\": {\"width\": 2, \"color\": \"red\"}}, {\"type\": \"scatter\", \"x\": [1400.0, 1382.0], \"y\": [600.0, 796.0], \"mode\": \"lines\", \"line\": {\"width\": 2, \"color\": \"green\"}}, {\"type\": \"scatter\", \"x\": [600.0, 409], \"y\": [200.0, 293], \"mode\": \"lines\", \"line\": {\"width\": 2, \"color\": \"green\"}}, {\"type\": \"scatter\", \"x\": [200.0, 11.0], \"y\": [1000.0, 758.0], \"mode\": \"lines\", \"line\": {\"width\": 2, \"color\": \"green\"}}, {\"type\": \"scatter\", \"x\": [1000.0, 600.0], \"y\": [600.0, 791.0], \"mode\": \"lines\", \"line\": {\"width\": 2, \"color\": \"red\"}}, {\"type\": \"scatter\", \"x\": [600.0, 706.0], \"y\": [1000.0, 967.0], \"mode\": \"lines\", \"line\": {\"width\": 2, \"color\": \"green\"}}, {\"type\": \"scatter\", \"x\": [1400.0, 1462], \"y\": [600.0, 298], \"mode\": \"lines\", \"line\": {\"width\": 2, \"color\": \"green\"}}, {\"type\": \"scatter\", \"x\": [600.0, 597.0], \"y\": [1400.0, 1206.0], \"mode\": \"lines\", \"line\": {\"width\": 2, \"color\": \"green\"}}, {\"type\": \"scatter\", \"x\": [1400.0, 1296.0], \"y\": [600.0, 424.0], \"mode\": \"lines\", \"line\": {\"width\": 2, \"color\": \"green\"}}, {\"type\": \"scatter\", \"x\": [600.0, 530.0], \"y\": [600.0, 565.0], \"mode\": \"lines\", \"line\": {\"width\": 2, \"color\": \"red\"}}, {\"type\": \"scatter\", \"x\": [1400.0, 1448.0], \"y\": [1000.0, 655.0], \"mode\": \"lines\", \"line\": {\"width\": 2, \"color\": \"green\"}}, {\"type\": \"scatter\", \"x\": [600.0, 601.0], \"y\": [200.0, 499.0], \"mode\": \"lines\", \"line\": {\"width\": 2, \"color\": \"red\"}}, {\"type\": \"scatter\", \"x\": [1400.0, 1522], \"y\": [200.0, 148], \"mode\": \"lines\", \"line\": {\"width\": 2, \"color\": \"green\"}}, {\"type\": \"scatter\", \"x\": [600.0, 955.0], \"y\": [600.0, 916.0], \"mode\": \"lines\", \"line\": {\"width\": 2, \"color\": \"red\"}}, {\"type\": \"scatter\", \"x\": [600.0, 744.0], \"y\": [600.0, 663.0], \"mode\": \"lines\", \"line\": {\"width\": 2, \"color\": \"red\"}}, {\"type\": \"scatter\", \"x\": [600.0, 693.0], \"y\": [1000.0, 1037.0], \"mode\": \"lines\", \"line\": {\"width\": 2, \"color\": \"red\"}}, {\"type\": \"scatter\", \"x\": [600.0, 644], \"y\": [200.0, 276], \"mode\": \"lines\", \"line\": {\"width\": 2, \"color\": \"green\"}}, {\"type\": \"scatter\", \"x\": [1000.0, 700.0], \"y\": [1000.0, 954.0], \"mode\": \"lines\", \"line\": {\"width\": 2, \"color\": \"red\"}}, {\"type\": \"scatter\", \"x\": [200.0, 372.0], \"y\": [600.0, 236.0], \"mode\": \"lines\", \"line\": {\"width\": 2, \"color\": \"green\"}}, {\"type\": \"scatter\", \"x\": [1000.0, 925.0], \"y\": [1000.0, 1157.0], \"mode\": \"lines\", \"line\": {\"width\": 2, \"color\": \"green\"}}, {\"type\": \"scatter\", \"x\": [200.0, 35.0], \"y\": [600.0, 502.0], \"mode\": \"lines\", \"line\": {\"width\": 2, \"color\": \"green\"}}, {\"type\": \"scatter\", \"x\": [1000.0, 861], \"y\": [1000.0, 798], \"mode\": \"lines\", \"line\": {\"width\": 2, \"color\": \"green\"}}, {\"type\": \"scatter\", \"x\": [1400.0, 1027.0], \"y\": [600.0, 377.0], \"mode\": \"lines\", \"line\": {\"width\": 2, \"color\": \"green\"}}, {\"type\": \"scatter\", \"x\": [1000.0, 937.0], \"y\": [1000.0, 629.0], \"mode\": \"lines\", \"line\": {\"width\": 2, \"color\": \"red\"}}, {\"type\": \"scatter\", \"x\": [1400.0, 1599.0], \"y\": [1000.0, 1173.0], \"mode\": \"lines\", \"line\": {\"width\": 2, \"color\": \"green\"}}, {\"type\": \"scatter\", \"x\": [600.0, 668.0], \"y\": [1000.0, 831.0], \"mode\": \"lines\", \"line\": {\"width\": 2, \"color\": \"red\"}}, {\"type\": \"scatter\", \"x\": [200.0, 266.0], \"y\": [600.0, 866.0], \"mode\": \"lines\", \"line\": {\"width\": 2, \"color\": \"green\"}}, {\"type\": \"scatter\", \"x\": [1000.0, 1026.0], \"y\": [1400.0, 1575.0], \"mode\": \"lines\", \"line\": {\"width\": 2, \"color\": \"green\"}}, {\"type\": \"scatter\", \"x\": [1000.0, 896], \"y\": [1400.0, 1255], \"mode\": \"lines\", \"line\": {\"width\": 2, \"color\": \"green\"}}, {\"type\": \"scatter\", \"x\": [1400.0, 1529.0], \"y\": [1400.0, 1132.0], \"mode\": \"lines\", \"line\": {\"width\": 2, \"color\": \"green\"}}, {\"type\": \"scatter\", \"x\": [1000.0, 1069.0], \"y\": [1000.0, 853.0], \"mode\": \"lines\", \"line\": {\"width\": 2, \"color\": \"red\"}}, {\"type\": \"scatter\", \"x\": [600.0, 588.0], \"y\": [1400.0, 1097.0], \"mode\": \"lines\", \"line\": {\"width\": 2, \"color\": \"green\"}}, {\"type\": \"scatter\", \"x\": [200.0, 176], \"y\": [200.0, 128], \"mode\": \"lines\", \"line\": {\"width\": 2, \"color\": \"green\"}}, {\"type\": \"scatter\", \"x\": [1400.0, 1492.0], \"y\": [1400.0, 1293.0], \"mode\": \"lines\", \"line\": {\"width\": 2, \"color\": \"green\"}}, {\"type\": \"scatter\", \"x\": [1000.0, 1127.0], \"y\": [600.0, 518.0], \"mode\": \"lines\", \"line\": {\"width\": 2, \"color\": \"green\"}}, {\"type\": \"scatter\", \"x\": [600.0, 666], \"y\": [200.0, 121], \"mode\": \"lines\", \"line\": {\"width\": 2, \"color\": \"green\"}}, {\"type\": \"scatter\", \"x\": [1400.0, 1099.0], \"y\": [1400.0, 1057.0], \"mode\": \"lines\", \"line\": {\"width\": 2, \"color\": \"green\"}}, {\"type\": \"scatter\", \"x\": [600.0, 699.0], \"y\": [600.0, 542.0], \"mode\": \"lines\", \"line\": {\"width\": 2, \"color\": \"red\"}}, {\"type\": \"scatter\", \"x\": [1400.0, 1501.0], \"y\": [1000.0, 811.0], \"mode\": \"lines\", \"line\": {\"width\": 2, \"color\": \"green\"}}, {\"type\": \"scatter\", \"x\": [1000.0, 972.0], \"y\": [1000.0, 901.0], \"mode\": \"lines\", \"line\": {\"width\": 2, \"color\": \"green\"}}, {\"type\": \"scatter\", \"x\": [1000.0, 922.0], \"y\": [600.0, 636.0], \"mode\": \"lines\", \"line\": {\"width\": 2, \"color\": \"red\"}}, {\"type\": \"scatter\", \"x\": [200.0, 590.0], \"y\": [200.0, 514.0], \"mode\": \"lines\", \"line\": {\"width\": 2, \"color\": \"green\"}}, {\"type\": \"scatter\", \"x\": [200.0, 256], \"y\": [200.0, 169], \"mode\": \"lines\", \"line\": {\"width\": 2, \"color\": \"green\"}}, {\"type\": \"scatter\", \"x\": [1400.0, 1277], \"y\": [200.0, 291], \"mode\": \"lines\", \"line\": {\"width\": 2, \"color\": \"green\"}}, {\"type\": \"scatter\", \"x\": [200.0, 48.0], \"y\": [600.0, 917.0], \"mode\": \"lines\", \"line\": {\"width\": 2, \"color\": \"green\"}}, {\"type\": \"scatter\", \"x\": [200.0, 46.0], \"y\": [1000.0, 714.0], \"mode\": \"lines\", \"line\": {\"width\": 2, \"color\": \"green\"}}, {\"type\": \"scatter\", \"x\": [1000.0, 1052.0], \"y\": [600.0, 655.0], \"mode\": \"lines\", \"line\": {\"width\": 2, \"color\": \"green\"}}, {\"type\": \"scatter\", \"x\": [600.0, 651.0], \"y\": [1000.0, 938.0], \"mode\": \"lines\", \"line\": {\"width\": 2, \"color\": \"red\"}}, {\"type\": \"scatter\", \"x\": [1000.0, 682.0], \"y\": [1000.0, 940.0], \"mode\": \"lines\", \"line\": {\"width\": 2, \"color\": \"red\"}}, {\"type\": \"scatter\", \"x\": [200.0, 205.0], \"y\": [600.0, 564.0], \"mode\": \"lines\", \"line\": {\"width\": 2, \"color\": \"green\"}}, {\"type\": \"scatter\", \"x\": [600.0, 161], \"y\": [200.0, 154], \"mode\": \"lines\", \"line\": {\"width\": 2, \"color\": \"green\"}}, {\"type\": \"scatter\", \"x\": [600.0, 659.0], \"y\": [1400.0, 1203.0], \"mode\": \"lines\", \"line\": {\"width\": 2, \"color\": \"green\"}}, {\"type\": \"scatter\", \"x\": [1000.0, 1029.0], \"y\": [1400.0, 1586.0], \"mode\": \"lines\", \"line\": {\"width\": 2, \"color\": \"green\"}}, {\"type\": \"scatter\", \"x\": [1000.0, 1157.0], \"y\": [1400.0, 1466.0], \"mode\": \"lines\", \"line\": {\"width\": 2, \"color\": \"green\"}}, {\"type\": \"scatter\", \"x\": [1000.0, 923.0], \"y\": [1000.0, 757.0], \"mode\": \"lines\", \"line\": {\"width\": 2, \"color\": \"green\"}}, {\"type\": \"scatter\", \"x\": [1000.0, 746.0], \"y\": [200.0, 82.0], \"mode\": \"lines\", \"line\": {\"width\": 2, \"color\": \"green\"}}, {\"type\": \"scatter\", \"x\": [1400.0, 1195.0], \"y\": [1400.0, 1437.0], \"mode\": \"lines\", \"line\": {\"width\": 2, \"color\": \"green\"}}, {\"type\": \"scatter\", \"x\": [1400.0, 1100.0], \"y\": [1000.0, 1064.0], \"mode\": \"lines\", \"line\": {\"width\": 2, \"color\": \"green\"}}, {\"type\": \"scatter\", \"x\": [1000.0, 947.0], \"y\": [1400.0, 1500.0], \"mode\": \"lines\", \"line\": {\"width\": 2, \"color\": \"green\"}}, {\"type\": \"scatter\", \"x\": [600.0, 618.0], \"y\": [1000.0, 1199.0], \"mode\": \"lines\", \"line\": {\"width\": 2, \"color\": \"green\"}}, {\"type\": \"scatter\", \"x\": [600.0, 840], \"y\": [200.0, 154], \"mode\": \"lines\", \"line\": {\"width\": 2, \"color\": \"green\"}}, {\"type\": \"scatter\", \"x\": [600.0, 673.0], \"y\": [1400.0, 1069.0], \"mode\": \"lines\", \"line\": {\"width\": 2, \"color\": \"green\"}}, {\"type\": \"scatter\", \"x\": [200.0, 196], \"y\": [600.0, 332], \"mode\": \"lines\", \"line\": {\"width\": 2, \"color\": \"green\"}}, {\"type\": \"scatter\", \"x\": [600.0, 546.0], \"y\": [600.0, 862.0], \"mode\": \"lines\", \"line\": {\"width\": 2, \"color\": \"red\"}}, {\"type\": \"scatter\", \"x\": [200.0, 123.0], \"y\": [600.0, 443.0], \"mode\": \"lines\", \"line\": {\"width\": 2, \"color\": \"green\"}}, {\"type\": \"scatter\", \"x\": [600.0, 897], \"y\": [1000.0, 961], \"mode\": \"lines\", \"line\": {\"width\": 2, \"color\": \"red\"}}, {\"type\": \"scatter\", \"x\": [1400.0, 1492.0], \"y\": [200.0, 16.0], \"mode\": \"lines\", \"line\": {\"width\": 2, \"color\": \"green\"}}, {\"type\": \"scatter\", \"x\": [1000.0, 803.0], \"y\": [1000.0, 1119.0], \"mode\": \"lines\", \"line\": {\"width\": 2, \"color\": \"green\"}}, {\"type\": \"scatter\", \"x\": [1000.0, 1181.0], \"y\": [1000.0, 1062.0], \"mode\": \"lines\", \"line\": {\"width\": 2, \"color\": \"green\"}}, {\"type\": \"scatter\", \"x\": [600.0, 617.0], \"y\": [1000.0, 941.0], \"mode\": \"lines\", \"line\": {\"width\": 2, \"color\": \"red\"}}, {\"type\": \"scatter\", \"x\": [1400.0, 1168.0], \"y\": [1000.0, 940.0], \"mode\": \"lines\", \"line\": {\"width\": 2, \"color\": \"green\"}}, {\"type\": \"scatter\", \"x\": [600.0, 269.0], \"y\": [1400.0, 1065.0], \"mode\": \"lines\", \"line\": {\"width\": 2, \"color\": \"green\"}}, {\"type\": \"scatter\", \"x\": [200.0, 538.0], \"y\": [1000.0, 812.0], \"mode\": \"lines\", \"line\": {\"width\": 2, \"color\": \"green\"}}, {\"type\": \"scatter\", \"x\": [1000.0, 816], \"y\": [1000.0, 930], \"mode\": \"lines\", \"line\": {\"width\": 2, \"color\": \"red\"}}, {\"type\": \"scatter\", \"x\": [1400.0, 1379.0], \"y\": [1400.0, 1305.0], \"mode\": \"lines\", \"line\": {\"width\": 2, \"color\": \"green\"}}, {\"type\": \"scatter\", \"x\": [1000.0, 625.0], \"y\": [600.0, 785.0], \"mode\": \"lines\", \"line\": {\"width\": 2, \"color\": \"green\"}}, {\"type\": \"scatter\", \"x\": [1000.0, 836], \"y\": [600.0, 726], \"mode\": \"lines\", \"line\": {\"width\": 2, \"color\": \"red\"}}, {\"type\": \"scatter\", \"x\": [1000.0, 851], \"y\": [600.0, 759], \"mode\": \"lines\", \"line\": {\"width\": 2, \"color\": \"red\"}}, {\"type\": \"scatter\", \"x\": [600.0, 610.0], \"y\": [600.0, 685.0], \"mode\": \"lines\", \"line\": {\"width\": 2, \"color\": \"red\"}}, {\"type\": \"scatter\", \"x\": [1000.0, 840], \"y\": [600.0, 679], \"mode\": \"lines\", \"line\": {\"width\": 2, \"color\": \"red\"}}, {\"type\": \"scatter\", \"x\": [1000.0, 1091.0], \"y\": [600.0, 359.0], \"mode\": \"lines\", \"line\": {\"width\": 2, \"color\": \"green\"}}, {\"type\": \"scatter\", \"x\": [200.0, 367], \"y\": [200.0, 138], \"mode\": \"lines\", \"line\": {\"width\": 2, \"color\": \"green\"}}, {\"type\": \"scatter\", \"x\": [200.0, 86.0], \"y\": [1000.0, 688.0], \"mode\": \"lines\", \"line\": {\"width\": 2, \"color\": \"green\"}}, {\"type\": \"scatter\", \"x\": [600.0, 541], \"y\": [200.0, 277], \"mode\": \"lines\", \"line\": {\"width\": 2, \"color\": \"green\"}}, {\"type\": \"scatter\", \"x\": [200.0, 357.0], \"y\": [600.0, 603.0], \"mode\": \"lines\", \"line\": {\"width\": 2, \"color\": \"green\"}}, {\"type\": \"scatter\", \"x\": [600.0, 349.0], \"y\": [1400.0, 1599.0], \"mode\": \"lines\", \"line\": {\"width\": 2, \"color\": \"green\"}}, {\"type\": \"scatter\", \"x\": [1000.0, 1176], \"y\": [200.0, 117], \"mode\": \"lines\", \"line\": {\"width\": 2, \"color\": \"green\"}}, {\"type\": \"scatter\", \"x\": [200.0, 168.0], \"y\": [600.0, 945.0], \"mode\": \"lines\", \"line\": {\"width\": 2, \"color\": \"green\"}}, {\"type\": \"scatter\", \"x\": [600.0, 765.0], \"y\": [1000.0, 1029.0], \"mode\": \"lines\", \"line\": {\"width\": 2, \"color\": \"red\"}}, {\"type\": \"scatter\", \"x\": [1400.0, 1403.0], \"y\": [1000.0, 617.0], \"mode\": \"lines\", \"line\": {\"width\": 2, \"color\": \"green\"}}, {\"type\": \"scatter\", \"x\": [1400.0, 1426], \"y\": [200.0, 133], \"mode\": \"lines\", \"line\": {\"width\": 2, \"color\": \"green\"}}, {\"type\": \"scatter\", \"x\": [1000.0, 826], \"y\": [1400.0, 1599.0], \"mode\": \"lines\", \"line\": {\"width\": 2, \"color\": \"green\"}}, {\"type\": \"scatter\", \"x\": [1400.0, 1587.0], \"y\": [1400.0, 1049.0], \"mode\": \"lines\", \"line\": {\"width\": 2, \"color\": \"green\"}}, {\"type\": \"scatter\", \"x\": [1000.0, 1070.0], \"y\": [1000.0, 807.0], \"mode\": \"lines\", \"line\": {\"width\": 2, \"color\": \"green\"}}, {\"type\": \"scatter\", \"x\": [600.0, 538.0], \"y\": [1000.0, 1098.0], \"mode\": \"lines\", \"line\": {\"width\": 2, \"color\": \"red\"}}, {\"type\": \"scatter\", \"x\": [200.0, 511.0], \"y\": [600.0, 829.0], \"mode\": \"lines\", \"line\": {\"width\": 2, \"color\": \"green\"}}, {\"type\": \"scatter\", \"x\": [600.0, 590.0], \"y\": [1000.0, 964.0], \"mode\": \"lines\", \"line\": {\"width\": 2, \"color\": \"red\"}}, {\"type\": \"scatter\", \"x\": [1000.0, 819], \"y\": [600.0, 545], \"mode\": \"lines\", \"line\": {\"width\": 2, \"color\": \"green\"}}, {\"type\": \"scatter\", \"x\": [200.0, 347.0], \"y\": [1000.0, 969.0], \"mode\": \"lines\", \"line\": {\"width\": 2, \"color\": \"green\"}}, {\"type\": \"scatter\", \"x\": [600.0, 798.0], \"y\": [600.0, 544.0], \"mode\": \"lines\", \"line\": {\"width\": 2, \"color\": \"red\"}}, {\"type\": \"scatter\", \"x\": [200.0, 338.0], \"y\": [600.0, 564.0], \"mode\": \"lines\", \"line\": {\"width\": 2, \"color\": \"green\"}}, {\"type\": \"scatter\", \"x\": [600.0, 858], \"y\": [200.0, 179], \"mode\": \"lines\", \"line\": {\"width\": 2, \"color\": \"green\"}}, {\"type\": \"scatter\", \"x\": [200.0, 80.0], \"y\": [600.0, 904.0], \"mode\": \"lines\", \"line\": {\"width\": 2, \"color\": \"green\"}}, {\"type\": \"scatter\", \"x\": [200.0, 140.0], \"y\": [1000.0, 1079.0], \"mode\": \"lines\", \"line\": {\"width\": 2, \"color\": \"green\"}}, {\"type\": \"scatter\", \"x\": [200.0, 46.0], \"y\": [600.0, 508.0], \"mode\": \"lines\", \"line\": {\"width\": 2, \"color\": \"green\"}}, {\"type\": \"scatter\", \"x\": [200.0, 208.0], \"y\": [1400.0, 1566.0], \"mode\": \"lines\", \"line\": {\"width\": 2, \"color\": \"green\"}}, {\"type\": \"scatter\", \"x\": [600.0, 255.0], \"y\": [600.0, 472.0], \"mode\": \"lines\", \"line\": {\"width\": 2, \"color\": \"green\"}}, {\"type\": \"scatter\", \"x\": [1400.0, 1552.0], \"y\": [600.0, 698.0], \"mode\": \"lines\", \"line\": {\"width\": 2, \"color\": \"green\"}}, {\"type\": \"scatter\", \"x\": [1000.0, 995.0], \"y\": [1400.0, 1547.0], \"mode\": \"lines\", \"line\": {\"width\": 2, \"color\": \"green\"}}, {\"type\": \"scatter\", \"x\": [1400.0, 1553], \"y\": [200.0, 287], \"mode\": \"lines\", \"line\": {\"width\": 2, \"color\": \"green\"}}, {\"type\": \"scatter\", \"x\": [600.0, 826], \"y\": [200.0, 334], \"mode\": \"lines\", \"line\": {\"width\": 2, \"color\": \"green\"}}, {\"type\": \"scatter\", \"x\": [200.0, 415.0], \"y\": [200.0, 35.0], \"mode\": \"lines\", \"line\": {\"width\": 2, \"color\": \"green\"}}, {\"type\": \"scatter\", \"x\": [200.0, 197.0], \"y\": [200.0, 212.0], \"mode\": \"lines\", \"line\": {\"width\": 2, \"color\": \"green\"}}, {\"type\": \"scatter\", \"x\": [1000.0, 1141.0], \"y\": [600.0, 572.0], \"mode\": \"lines\", \"line\": {\"width\": 2, \"color\": \"green\"}}, {\"type\": \"scatter\", \"x\": [600.0, 519.0], \"y\": [1000.0, 947.0], \"mode\": \"lines\", \"line\": {\"width\": 2, \"color\": \"red\"}}, {\"type\": \"scatter\", \"x\": [1000.0, 692.0], \"y\": [1000.0, 1242.0], \"mode\": \"lines\", \"line\": {\"width\": 2, \"color\": \"green\"}}, {\"type\": \"scatter\", \"x\": [1400.0, 1383.0], \"y\": [600.0, 595.0], \"mode\": \"lines\", \"line\": {\"width\": 2, \"color\": \"green\"}}, {\"type\": \"scatter\", \"x\": [1000.0, 1239.0], \"y\": [1000.0, 1188.0], \"mode\": \"lines\", \"line\": {\"width\": 2, \"color\": \"green\"}}, {\"type\": \"scatter\", \"x\": [1000.0, 1058.0], \"y\": [1000.0, 988.0], \"mode\": \"lines\", \"line\": {\"width\": 2, \"color\": \"red\"}}, {\"type\": \"scatter\", \"x\": [200.0, 302.0], \"y\": [1400.0, 1504.0], \"mode\": \"lines\", \"line\": {\"width\": 2, \"color\": \"green\"}}, {\"type\": \"scatter\", \"x\": [1000.0, 698.0], \"y\": [600.0, 535.0], \"mode\": \"lines\", \"line\": {\"width\": 2, \"color\": \"green\"}}, {\"type\": \"scatter\", \"x\": [600.0, 574.0], \"y\": [1400.0, 1452.0], \"mode\": \"lines\", \"line\": {\"width\": 2, \"color\": \"green\"}}, {\"type\": \"scatter\", \"x\": [1400.0, 1498.0], \"y\": [600.0, 419.0], \"mode\": \"lines\", \"line\": {\"width\": 2, \"color\": \"green\"}}, {\"type\": \"scatter\", \"x\": [200.0, 243.0], \"y\": [600.0, 594.0], \"mode\": \"lines\", \"line\": {\"width\": 2, \"color\": \"green\"}}, {\"type\": \"scatter\", \"x\": [1400.0, 1454.0], \"y\": [600.0, 526.0], \"mode\": \"lines\", \"line\": {\"width\": 2, \"color\": \"green\"}}, {\"type\": \"scatter\", \"x\": [200.0, 171.0], \"y\": [1400.0, 1237.0], \"mode\": \"lines\", \"line\": {\"width\": 2, \"color\": \"green\"}}, {\"type\": \"scatter\", \"x\": [1400.0, 1539.0], \"y\": [1000.0, 957.0], \"mode\": \"lines\", \"line\": {\"width\": 2, \"color\": \"green\"}}, {\"type\": \"scatter\", \"x\": [600.0, 569.0], \"y\": [600.0, 633.0], \"mode\": \"lines\", \"line\": {\"width\": 2, \"color\": \"red\"}}, {\"type\": \"scatter\", \"x\": [600.0, 676.0], \"y\": [1400.0, 1090.0], \"mode\": \"lines\", \"line\": {\"width\": 2, \"color\": \"green\"}}, {\"type\": \"scatter\", \"x\": [1000.0, 975.0], \"y\": [1000.0, 858.0], \"mode\": \"lines\", \"line\": {\"width\": 2, \"color\": \"green\"}}, {\"type\": \"scatter\", \"x\": [1000.0, 955.0], \"y\": [1000.0, 916.0], \"mode\": \"lines\", \"line\": {\"width\": 2, \"color\": \"green\"}}, {\"type\": \"scatter\", \"x\": [200.0, 293.0], \"y\": [1400.0, 1441.0], \"mode\": \"lines\", \"line\": {\"width\": 2, \"color\": \"green\"}}, {\"type\": \"scatter\", \"x\": [600.0, 653.0], \"y\": [600.0, 731.0], \"mode\": \"lines\", \"line\": {\"width\": 2, \"color\": \"red\"}}, {\"type\": \"scatter\", \"x\": [600.0, 776.0], \"y\": [1000.0, 807.0], \"mode\": \"lines\", \"line\": {\"width\": 2, \"color\": \"green\"}}, {\"type\": \"scatter\", \"x\": [200.0, 131.0], \"y\": [1000.0, 999.0], \"mode\": \"lines\", \"line\": {\"width\": 2, \"color\": \"green\"}}, {\"type\": \"scatter\", \"x\": [200.0, 154.0], \"y\": [600.0, 745.0], \"mode\": \"lines\", \"line\": {\"width\": 2, \"color\": \"green\"}}, {\"type\": \"scatter\", \"x\": [600.0, 566], \"y\": [200.0, 150], \"mode\": \"lines\", \"line\": {\"width\": 2, \"color\": \"green\"}}, {\"type\": \"scatter\", \"x\": [1000.0, 847], \"y\": [200.0, 43], \"mode\": \"lines\", \"line\": {\"width\": 2, \"color\": \"green\"}}, {\"type\": \"scatter\", \"x\": [1400.0, 1392.0], \"y\": [1000.0, 846.0], \"mode\": \"lines\", \"line\": {\"width\": 2, \"color\": \"green\"}}, {\"type\": \"scatter\", \"x\": [600.0, 525.1053611718219], \"y\": [200.0, 221.21440058148244], \"mode\": \"lines\", \"line\": {\"width\": 2, \"color\": \"green\"}}, {\"type\": \"scatter\", \"x\": [200.0, 223.0], \"y\": [600.0, 632.0], \"mode\": \"lines\", \"line\": {\"width\": 2, \"color\": \"green\"}}, {\"type\": \"scatter\", \"x\": [1000.0, 1179.0], \"y\": [200.0, 384.0], \"mode\": \"lines\", \"line\": {\"width\": 2, \"color\": \"green\"}}, {\"type\": \"scatter\", \"x\": [1400.0, 1358.0], \"y\": [1000.0, 851.0], \"mode\": \"lines\", \"line\": {\"width\": 2, \"color\": \"green\"}}, {\"type\": \"scatter\", \"x\": [600.0, 755.0], \"y\": [1400.0, 1244.0], \"mode\": \"lines\", \"line\": {\"width\": 2, \"color\": \"green\"}}, {\"type\": \"scatter\", \"x\": [1000.0, 829], \"y\": [1000.0, 1342], \"mode\": \"lines\", \"line\": {\"width\": 2, \"color\": \"green\"}}, {\"type\": \"scatter\", \"x\": [200.0, 171.0], \"y\": [1400.0, 1468.0], \"mode\": \"lines\", \"line\": {\"width\": 2, \"color\": \"green\"}}, {\"type\": \"scatter\", \"x\": [600.0, 514.0], \"y\": [600.0, 894.0], \"mode\": \"lines\", \"line\": {\"width\": 2, \"color\": \"red\"}}, {\"type\": \"scatter\", \"x\": [1000.0, 1023.0], \"y\": [600.0, 659.0], \"mode\": \"lines\", \"line\": {\"width\": 2, \"color\": \"red\"}}, {\"type\": \"scatter\", \"x\": [200.0, 594.0], \"y\": [600.0, 672.0], \"mode\": \"lines\", \"line\": {\"width\": 2, \"color\": \"green\"}}, {\"type\": \"scatter\", \"x\": [200.0, 187.0], \"y\": [1400.0, 1417.0], \"mode\": \"lines\", \"line\": {\"width\": 2, \"color\": \"green\"}}, {\"type\": \"scatter\", \"x\": [200.0, 236], \"y\": [200.0, 172], \"mode\": \"lines\", \"line\": {\"width\": 2, \"color\": \"green\"}}, {\"type\": \"scatter\", \"x\": [1400.0, 1591.0], \"y\": [1400.0, 1464.0], \"mode\": \"lines\", \"line\": {\"width\": 2, \"color\": \"green\"}}, {\"type\": \"scatter\", \"x\": [1000.0, 925.0], \"y\": [600.0, 543.0], \"mode\": \"lines\", \"line\": {\"width\": 2, \"color\": \"green\"}}, {\"type\": \"scatter\", \"x\": [200.0, 590.0], \"y\": [1000.0, 1073.0], \"mode\": \"lines\", \"line\": {\"width\": 2, \"color\": \"green\"}}, {\"type\": \"scatter\", \"x\": [600.0, 611.0], \"y\": [1400.0, 1340.0], \"mode\": \"lines\", \"line\": {\"width\": 2, \"color\": \"green\"}}, {\"type\": \"scatter\", \"x\": [1400.0, 1453.0], \"y\": [200.0, 70.0], \"mode\": \"lines\", \"line\": {\"width\": 2, \"color\": \"green\"}}, {\"type\": \"scatter\", \"x\": [600.0, 795.0], \"y\": [600.0, 545.0], \"mode\": \"lines\", \"line\": {\"width\": 2, \"color\": \"red\"}}, {\"type\": \"scatter\", \"x\": [600.0, 340.0], \"y\": [1000.0, 689.0], \"mode\": \"lines\", \"line\": {\"width\": 2, \"color\": \"green\"}}, {\"type\": \"scatter\", \"x\": [600.0, 428.0], \"y\": [1400.0, 1335.0], \"mode\": \"lines\", \"line\": {\"width\": 2, \"color\": \"green\"}}, {\"type\": \"scatter\", \"x\": [1400.0, 1297.0], \"y\": [600.0, 578.0], \"mode\": \"lines\", \"line\": {\"width\": 2, \"color\": \"green\"}}, {\"type\": \"scatter\", \"x\": [1400.0, 1249.0], \"y\": [1000.0, 1150.0], \"mode\": \"lines\", \"line\": {\"width\": 2, \"color\": \"green\"}}, {\"type\": \"scatter\", \"x\": [600.0, 906], \"y\": [600.0, 634], \"mode\": \"lines\", \"line\": {\"width\": 2, \"color\": \"red\"}}, {\"type\": \"scatter\", \"x\": [600.0, 633.0], \"y\": [600.0, 535.0], \"mode\": \"lines\", \"line\": {\"width\": 2, \"color\": \"red\"}}, {\"type\": \"scatter\", \"x\": [1400.0, 1240.0], \"y\": [200.0, 206.0], \"mode\": \"lines\", \"line\": {\"width\": 2, \"color\": \"green\"}}, {\"type\": \"scatter\", \"x\": [200.0, 152], \"y\": [200.0, 101], \"mode\": \"lines\", \"line\": {\"width\": 2, \"color\": \"green\"}}, {\"type\": \"scatter\", \"x\": [1000.0, 649.0], \"y\": [1400.0, 1447.0], \"mode\": \"lines\", \"line\": {\"width\": 2, \"color\": \"green\"}}, {\"type\": \"scatter\", \"x\": [200.0, 307.0], \"y\": [1000.0, 1262.0], \"mode\": \"lines\", \"line\": {\"width\": 2, \"color\": \"green\"}}, {\"type\": \"scatter\", \"x\": [1000.0, 1043.0], \"y\": [1000.0, 1084.0], \"mode\": \"lines\", \"line\": {\"width\": 2, \"color\": \"green\"}}, {\"type\": \"scatter\", \"x\": [1400.0, 1062.0], \"y\": [1000.0, 998.0], \"mode\": \"lines\", \"line\": {\"width\": 2, \"color\": \"green\"}}, {\"type\": \"scatter\", \"x\": [600.0, 818], \"y\": [1000.0, 832], \"mode\": \"lines\", \"line\": {\"width\": 2, \"color\": \"red\"}}, {\"type\": \"scatter\", \"x\": [600.0, 954.0], \"y\": [600.0, 673.0], \"mode\": \"lines\", \"line\": {\"width\": 2, \"color\": \"red\"}}, {\"type\": \"scatter\", \"x\": [1000.0, 981.0], \"y\": [1400.0, 1465.0], \"mode\": \"lines\", \"line\": {\"width\": 2, \"color\": \"green\"}}, {\"type\": \"scatter\", \"x\": [1000.0, 1084.0], \"y\": [1400.0, 1162.0], \"mode\": \"lines\", \"line\": {\"width\": 2, \"color\": \"green\"}}, {\"type\": \"scatter\", \"x\": [1000.0, 987.0], \"y\": [1000.0, 800.0], \"mode\": \"lines\", \"line\": {\"width\": 2, \"color\": \"green\"}}, {\"type\": \"scatter\", \"x\": [1400.0, 1139.0], \"y\": [600.0, 438.0], \"mode\": \"lines\", \"line\": {\"width\": 2, \"color\": \"green\"}}, {\"type\": \"scatter\", \"x\": [1000.0, 1091.0], \"y\": [1000.0, 817.0], \"mode\": \"lines\", \"line\": {\"width\": 2, \"color\": \"red\"}}, {\"type\": \"scatter\", \"x\": [1000.0, 966.0], \"y\": [600.0, 639.0], \"mode\": \"lines\", \"line\": {\"width\": 2, \"color\": \"red\"}}, {\"type\": \"scatter\", \"x\": [1000.0, 1149.0], \"y\": [200.0, 436.0], \"mode\": \"lines\", \"line\": {\"width\": 2, \"color\": \"green\"}}, {\"type\": \"scatter\", \"x\": [1000.0, 1183.0], \"y\": [1000.0, 755.0], \"mode\": \"lines\", \"line\": {\"width\": 2, \"color\": \"green\"}}, {\"type\": \"scatter\", \"x\": [600.0, 484], \"y\": [200.0, 268], \"mode\": \"lines\", \"line\": {\"width\": 2, \"color\": \"green\"}}, {\"type\": \"scatter\", \"x\": [1400.0, 1320.0], \"y\": [1000.0, 864.0], \"mode\": \"lines\", \"line\": {\"width\": 2, \"color\": \"green\"}}, {\"type\": \"scatter\", \"x\": [600.0, 628.0], \"y\": [1400.0, 1382.0], \"mode\": \"lines\", \"line\": {\"width\": 2, \"color\": \"green\"}}, {\"type\": \"scatter\", \"x\": [1000.0, 1133.0], \"y\": [1400.0, 1458.0], \"mode\": \"lines\", \"line\": {\"width\": 2, \"color\": \"green\"}}, {\"type\": \"scatter\", \"x\": [600.0, 735.0], \"y\": [1000.0, 779.0], \"mode\": \"lines\", \"line\": {\"width\": 2, \"color\": \"green\"}}, {\"type\": \"scatter\", \"x\": [200.0, 200.0], \"y\": [600.0, 746.0], \"mode\": \"lines\", \"line\": {\"width\": 2, \"color\": \"green\"}}, {\"type\": \"scatter\", \"x\": [600.0, 457], \"y\": [200.0, 139], \"mode\": \"lines\", \"line\": {\"width\": 2, \"color\": \"green\"}}, {\"type\": \"scatter\", \"x\": [600.0, 676.0], \"y\": [1000.0, 884.0], \"mode\": \"lines\", \"line\": {\"width\": 2, \"color\": \"red\"}}, {\"type\": \"scatter\", \"x\": [200.0, 249.0], \"y\": [1000.0, 942.0], \"mode\": \"lines\", \"line\": {\"width\": 2, \"color\": \"green\"}}, {\"type\": \"scatter\", \"x\": [1400.0, 1531.0], \"y\": [1400.0, 1119.0], \"mode\": \"lines\", \"line\": {\"width\": 2, \"color\": \"green\"}}, {\"type\": \"scatter\", \"x\": [200.0, 192.0], \"y\": [1000.0, 916.0], \"mode\": \"lines\", \"line\": {\"width\": 2, \"color\": \"green\"}}, {\"type\": \"scatter\", \"x\": [1400.0, 1064.0], \"y\": [200.0, 527.0], \"mode\": \"lines\", \"line\": {\"width\": 2, \"color\": \"green\"}}, {\"type\": \"scatter\", \"x\": [1400.0, 1045], \"y\": [200.0, 145], \"mode\": \"lines\", \"line\": {\"width\": 2, \"color\": \"green\"}}, {\"type\": \"scatter\", \"x\": [200.0, 207.0], \"y\": [1400.0, 1252.0], \"mode\": \"lines\", \"line\": {\"width\": 2, \"color\": \"green\"}}, {\"type\": \"scatter\", \"x\": [200.0, 231.0], \"y\": [1400.0, 1592.0], \"mode\": \"lines\", \"line\": {\"width\": 2, \"color\": \"green\"}}, {\"type\": \"scatter\", \"x\": [1000.0, 845], \"y\": [1000.0, 1192], \"mode\": \"lines\", \"line\": {\"width\": 2, \"color\": \"green\"}}, {\"type\": \"scatter\", \"x\": [600.0, 633.0], \"y\": [600.0, 628.0], \"mode\": \"lines\", \"line\": {\"width\": 2, \"color\": \"red\"}}, {\"type\": \"scatter\", \"x\": [1000.0, 1118.0], \"y\": [1000.0, 908.0], \"mode\": \"lines\", \"line\": {\"width\": 2, \"color\": \"green\"}}, {\"type\": \"scatter\", \"x\": [812, 812], \"y\": [0, 1600.0], \"mode\": \"lines\", \"line\": {\"width\": 2, \"color\": \"black\"}}, {\"type\": \"scatter\", \"x\": [812, 912], \"y\": [1600.0, 1600.0], \"mode\": \"lines\", \"line\": {\"width\": 2, \"color\": \"black\"}}, {\"type\": \"scatter\", \"x\": [912, 912], \"y\": [1600.0, 0], \"mode\": \"lines\", \"line\": {\"width\": 2, \"color\": \"black\"}}, {\"type\": \"scatter\", \"x\": [812, 912], \"y\": [0, 0], \"mode\": \"lines\", \"line\": {\"width\": 2, \"color\": \"black\"}}, {\"type\": \"scatter\", \"x\": [0, 0], \"y\": [257, 357], \"mode\": \"lines\", \"line\": {\"width\": 2, \"color\": \"black\"}}, {\"type\": \"scatter\", \"x\": [0, 1600.0], \"y\": [357, 357], \"mode\": \"lines\", \"line\": {\"width\": 2, \"color\": \"black\"}}, {\"type\": \"scatter\", \"x\": [1600.0, 1600.0], \"y\": [357, 257], \"mode\": \"lines\", \"line\": {\"width\": 2, \"color\": \"black\"}}, {\"type\": \"scatter\", \"x\": [0, 1600.0], \"y\": [257, 257], \"mode\": \"lines\", \"line\": {\"width\": 2, \"color\": \"black\"}}, {\"type\": \"scatter\", \"x\": [0, 0], \"y\": [85, 185], \"mode\": \"lines\", \"line\": {\"width\": 2, \"color\": \"black\"}}, {\"type\": \"scatter\", \"x\": [0, 1600.0], \"y\": [185, 185], \"mode\": \"lines\", \"line\": {\"width\": 2, \"color\": \"black\"}}, {\"type\": \"scatter\", \"x\": [1600.0, 1600.0], \"y\": [185, 85], \"mode\": \"lines\", \"line\": {\"width\": 2, \"color\": \"black\"}}, {\"type\": \"scatter\", \"x\": [0, 1600.0], \"y\": [85, 85], \"mode\": \"lines\", \"line\": {\"width\": 2, \"color\": \"black\"}}, {\"type\": \"scatter\", \"x\": [465, 465], \"y\": [80, 260], \"mode\": \"lines\", \"line\": {\"width\": 2, \"color\": \"black\"}}, {\"type\": \"scatter\", \"x\": [465, 556], \"y\": [260, 260], \"mode\": \"lines\", \"line\": {\"width\": 2, \"color\": \"black\"}}, {\"type\": \"scatter\", \"x\": [556, 556], \"y\": [260, 80], \"mode\": \"lines\", \"line\": {\"width\": 2, \"color\": \"black\"}}, {\"type\": \"scatter\", \"x\": [465, 556], \"y\": [80, 80], \"mode\": \"lines\", \"line\": {\"width\": 2, \"color\": \"black\"}}, {\"type\": \"scatter\", \"x\": [200.0, 200.0, 200.0, 200.0, 600.0, 600.0, 600.0, 600.0, 1000.0, 1000.0, 1000.0, 1000.0, 1400.0, 1400.0, 1400.0, 1400.0, 953.0, 1167.0, 1177.0, 1043.0, 1382.0, 409, 11.0, 600.0, 706.0, 1462, 597.0, 1296.0, 530.0, 1448.0, 601.0, 1522, 955.0, 744.0, 693.0, 644, 700.0, 372.0, 925.0, 35.0, 861, 1027.0, 937.0, 1599.0, 668.0, 266.0, 1026.0, 896, 1529.0, 1069.0, 588.0, 176, 1492.0, 1127.0, 666, 1099.0, 699.0, 1501.0, 972.0, 922.0, 590.0, 256, 1277, 48.0, 46.0, 1052.0, 651.0, 682.0, 205.0, 161, 659.0, 1029.0, 1157.0, 923.0, 746.0, 1195.0, 1100.0, 947.0, 618.0, 840, 673.0, 196, 546.0, 123.0, 897, 1492.0, 803.0, 1181.0, 617.0, 1168.0, 269.0, 538.0, 816, 1379.0, 625.0, 836, 851, 610.0, 840, 1091.0, 367, 86.0, 541, 357.0, 349.0, 1176, 168.0, 765.0, 1403.0, 1426, 826, 1587.0, 1070.0, 538.0, 511.0, 590.0, 819, 347.0, 798.0, 338.0, 858, 80.0, 140.0, 46.0, 208.0, 255.0, 1552.0, 995.0, 1553, 826, 415.0, 197.0, 1141.0, 519.0, 692.0, 1383.0, 1239.0, 1058.0, 302.0, 698.0, 574.0, 1498.0, 243.0, 1454.0, 171.0, 1539.0, 569.0, 676.0, 975.0, 955.0, 293.0, 653.0, 776.0, 131.0, 154.0, 566, 847, 1392.0, 525.1053611718219, 223.0, 1179.0, 1358.0, 755.0, 829, 171.0, 514.0, 1023.0, 594.0, 187.0, 236, 1591.0, 925.0, 590.0, 611.0, 1453.0, 795.0, 340.0, 428.0, 1297.0, 1249.0, 906, 633.0, 1240.0, 152, 649.0, 307.0, 1043.0, 1062.0, 818, 954.0, 981.0, 1084.0, 987.0, 1139.0, 1091.0, 966.0, 1149.0, 1183.0, 484, 1320.0, 628.0, 1133.0, 735.0, 200.0, 457, 676.0, 249.0, 1531.0, 192.0, 1064.0, 1045, 207.0, 231.0, 845, 633.0, 1118.0, 812, 812, 912, 912, 0, 0, 1600.0, 1600.0, 0, 0, 1600.0, 1600.0, 465, 465, 556, 556], \"y\": [200.0, 600.0, 1000.0, 1400.0, 200.0, 600.0, 1000.0, 1400.0, 200.0, 600.0, 1000.0, 1400.0, 200.0, 600.0, 1000.0, 1400.0, 528.0, 582.0, 1284.0, 1008.0, 796.0, 293, 758.0, 791.0, 967.0, 298, 1206.0, 424.0, 565.0, 655.0, 499.0, 148, 916.0, 663.0, 1037.0, 276, 954.0, 236.0, 1157.0, 502.0, 798, 377.0, 629.0, 1173.0, 831.0, 866.0, 1575.0, 1255, 1132.0, 853.0, 1097.0, 128, 1293.0, 518.0, 121, 1057.0, 542.0, 811.0, 901.0, 636.0, 514.0, 169, 291, 917.0, 714.0, 655.0, 938.0, 940.0, 564.0, 154, 1203.0, 1586.0, 1466.0, 757.0, 82.0, 1437.0, 1064.0, 1500.0, 1199.0, 154, 1069.0, 332, 862.0, 443.0, 961, 16.0, 1119.0, 1062.0, 941.0, 940.0, 1065.0, 812.0, 930, 1305.0, 785.0, 726, 759, 685.0, 679, 359.0, 138, 688.0, 277, 603.0, 1599.0, 117, 945.0, 1029.0, 617.0, 133, 1599.0, 1049.0, 807.0, 1098.0, 829.0, 964.0, 545, 969.0, 544.0, 564.0, 179, 904.0, 1079.0, 508.0, 1566.0, 472.0, 698.0, 1547.0, 287, 334, 35.0, 212.0, 572.0, 947.0, 1242.0, 595.0, 1188.0, 988.0, 1504.0, 535.0, 1452.0, 419.0, 594.0, 526.0, 1237.0, 957.0, 633.0, 1090.0, 858.0, 916.0, 1441.0, 731.0, 807.0, 999.0, 745.0, 150, 43, 846.0, 221.21440058148244, 632.0, 384.0, 851.0, 1244.0, 1342, 1468.0, 894.0, 659.0, 672.0, 1417.0, 172, 1464.0, 543.0, 1073.0, 1340.0, 70.0, 545.0, 689.0, 1335.0, 578.0, 1150.0, 634, 535.0, 206.0, 101, 1447.0, 1262.0, 1084.0, 998.0, 832, 673.0, 1465.0, 1162.0, 800.0, 438.0, 817.0, 639.0, 436.0, 755.0, 268, 864.0, 1382.0, 1458.0, 779.0, 746.0, 139, 884.0, 942.0, 1119.0, 916.0, 527.0, 145, 1252.0, 1592.0, 1192, 628.0, 908.0, 0, 1600.0, 1600.0, 0, 257, 357, 357, 257, 85, 185, 185, 85, 80, 260, 260, 80], \"mode\": \"markers\", \"marker\": {\"size\": 8, \"color\": [\"orange\", \"orange\", \"orange\", \"orange\", \"orange\", \"orange\", \"orange\", \"orange\", \"orange\", \"orange\", \"orange\", \"orange\", \"orange\", \"orange\", \"orange\", \"orange\", \"blue\", \"magenta\", \"magenta\", \"blue\", \"magenta\", \"magenta\", \"magenta\", \"blue\", \"magenta\", \"magenta\", \"magenta\", \"magenta\", \"blue\", \"magenta\", \"blue\", \"magenta\", \"blue\", \"blue\", \"blue\", \"magenta\", \"blue\", \"magenta\", \"magenta\", \"magenta\", \"magenta\", \"magenta\", \"blue\", \"magenta\", \"blue\", \"magenta\", \"magenta\", \"magenta\", \"magenta\", \"blue\", \"blue\", \"magenta\", \"magenta\", \"magenta\", \"magenta\", \"magenta\", \"blue\", \"magenta\", \"magenta\", \"blue\", \"blue\", \"magenta\", \"magenta\", \"magenta\", \"magenta\", \"magenta\", \"blue\", \"blue\", \"magenta\", \"magenta\", \"magenta\", \"magenta\", \"magenta\", \"magenta\", \"magenta\", \"magenta\", \"magenta\", \"magenta\", \"magenta\", \"magenta\", \"magenta\", \"magenta\", \"blue\", \"magenta\", \"blue\", \"magenta\", \"magenta\", \"magenta\", \"blue\", \"magenta\", \"magenta\", \"magenta\", \"blue\", \"magenta\", \"magenta\", \"blue\", \"blue\", \"blue\", \"blue\", \"magenta\", \"magenta\", \"magenta\", \"magenta\", \"magenta\", \"magenta\", \"magenta\", \"magenta\", \"blue\", \"magenta\", \"magenta\", \"magenta\", \"magenta\", \"magenta\", \"blue\", \"magenta\", \"blue\", \"magenta\", \"magenta\", \"blue\", \"magenta\", \"magenta\", \"magenta\", \"magenta\", \"magenta\", \"magenta\", \"magenta\", \"magenta\", \"magenta\", \"magenta\", \"magenta\", \"magenta\", \"magenta\", \"magenta\", \"blue\", \"magenta\", \"magenta\", \"magenta\", \"blue\", \"magenta\", \"magenta\", \"magenta\", \"magenta\", \"magenta\", \"magenta\", \"magenta\", \"magenta\", \"blue\", \"blue\", \"magenta\", \"magenta\", \"magenta\", \"blue\", \"magenta\", \"magenta\", \"magenta\", \"magenta\", \"magenta\", \"magenta\", \"magenta\", \"magenta\", \"magenta\", \"magenta\", \"magenta\", \"magenta\", \"magenta\", \"blue\", \"blue\", \"magenta\", \"magenta\", \"magenta\", \"magenta\", \"magenta\", \"magenta\", \"magenta\", \"magenta\", \"blue\", \"magenta\", \"magenta\", \"magenta\", \"magenta\", \"blue\", \"blue\", \"magenta\", \"magenta\", \"magenta\", \"magenta\", \"magenta\", \"blue\", \"blue\", \"blue\", \"magenta\", \"magenta\", \"magenta\", \"magenta\", \"blue\", \"blue\", \"magenta\", \"magenta\", \"magenta\", \"magenta\", \"magenta\", \"magenta\", \"magenta\", \"magenta\", \"magenta\", \"blue\", \"magenta\", \"magenta\", \"magenta\", \"magenta\", \"magenta\", \"magenta\", \"magenta\", \"magenta\", \"blue\", \"magenta\", \"black\", \"black\", \"black\", \"black\", \"black\", \"black\", \"black\", \"black\", \"black\", \"black\", \"black\", \"black\", \"black\", \"black\", \"black\", \"black\"]}}], \"layout\": {\"title\": \"UE and AP Distribution in the grid\"}}]);}).then(function(){Plotly.animate('5132b70a-a52b-4fd4-8ca9-3816b5c4c5db');})\n",
       "        });</script>"
      ]
     },
     "metadata": {},
     "output_type": "display_data"
    }
   ],
   "source": [
    "data_values=data[\"data\"]  \n",
    "\n",
    "figure={\"data\":data_values,\n",
    "        \"layout\": {'xaxis':{'range': [0, 1600], 'title': 'x'},\n",
    "                   'yaxis':{'range': [0, 1600], 'title': 'y'},\n",
    "                   'title':\"UE and AP Distribution in the grid\",\n",
    "                   'height' : 1000,\n",
    "                   'width' :1000,\n",
    "                   'showlegend': False,\n",
    "                   \"shapes\":Rec_dict, \n",
    "                    'updatemenus': [{'type': 'buttons',\n",
    "                                      'buttons': [{'label': 'Play',\n",
    "                                                   'method': 'animate',\n",
    "                                                   'args': [None]}]}]\n",
    "                  },\n",
    "        'frames':Frames_data}\n",
    "  \n",
    "# print(figure)\n",
    "\n",
    "plotly.offline.iplot(figure)"
   ]
  },
  {
   "cell_type": "code",
   "execution_count": 17,
   "metadata": {},
   "outputs": [
    {
     "data": {
      "application/vnd.plotly.v1+json": {
       "data": [
        {
         "name": "Rewards",
         "type": "scatter",
         "x": 3,
         "y": [
          249.5,
          211.25,
          209.75
         ]
        }
       ],
       "layout": {
        "height": 500,
        "showlegend": true,
        "title": "Rewards over time with UE number of 200",
        "width": 800,
        "xaxis": {
         "title": "Episodes"
        },
        "yaxis": {
         "title": "Rewards"
        }
       }
      },
      "text/html": [
       "<div id=\"ab8e6cdc-79f4-4337-be23-9595c51a836e\" style=\"height: 500px; width: 800px;\" class=\"plotly-graph-div\"></div><script type=\"text/javascript\">require([\"plotly\"], function(Plotly) { window.PLOTLYENV=window.PLOTLYENV || {};window.PLOTLYENV.BASE_URL=\"https://plot.ly\";Plotly.newPlot(\"ab8e6cdc-79f4-4337-be23-9595c51a836e\", [{\"type\": \"scatter\", \"x\": 3, \"y\": [249.5, 211.25, 209.75], \"name\": \"Rewards\"}], {\"height\": 500, \"width\": 800, \"title\": \"Rewards over time with UE number of 200\", \"xaxis\": {\"title\": \"Episodes\"}, \"yaxis\": {\"title\": \"Rewards\"}, \"showlegend\": true}, {\"showLink\": false, \"linkText\": null})});</script>"
      ],
      "text/vnd.plotly.v1+html": [
       "<div id=\"ab8e6cdc-79f4-4337-be23-9595c51a836e\" style=\"height: 500px; width: 800px;\" class=\"plotly-graph-div\"></div><script type=\"text/javascript\">require([\"plotly\"], function(Plotly) { window.PLOTLYENV=window.PLOTLYENV || {};window.PLOTLYENV.BASE_URL=\"https://plot.ly\";Plotly.newPlot(\"ab8e6cdc-79f4-4337-be23-9595c51a836e\", [{\"type\": \"scatter\", \"x\": 3, \"y\": [249.5, 211.25, 209.75], \"name\": \"Rewards\"}], {\"height\": 500, \"width\": 800, \"title\": \"Rewards over time with UE number of 200\", \"xaxis\": {\"title\": \"Episodes\"}, \"yaxis\": {\"title\": \"Rewards\"}, \"showlegend\": true}, {\"showLink\": false, \"linkText\": null})});</script>"
      ]
     },
     "metadata": {},
     "output_type": "display_data"
    }
   ],
   "source": [
    "# Create rewards graph\n",
    "rewards = go.Scatter(\n",
    "    x = len(result.Rewards),\n",
    "    y = result.Rewards,\n",
    "    name='Rewards'\n",
    ")\n",
    "\n",
    "data = [rewards]\n",
    "\n",
    "\n",
    "# Plot and embed in ipython notebook!\n",
    "plotly.offline.iplot(\n",
    "    {\"data\": data,\n",
    "     \"layout\": go.Layout(\n",
    "         height=500,\n",
    "         width=800,\n",
    "         title=\"Rewards over time with UE number of 200\",\n",
    "         xaxis=dict(\n",
    "             title='Episodes',\n",
    "         ),\n",
    "         yaxis=dict(\n",
    "             title='Rewards',\n",
    "         ), \n",
    "         showlegend=True)},\n",
    "    show_link=False,\n",
    "    link_text=None)\n",
    "\n"
   ]
  },
  {
   "cell_type": "code",
   "execution_count": 18,
   "metadata": {},
   "outputs": [
    {
     "data": {
      "application/vnd.plotly.v1+json": {
       "data": [
        {
         "name": "Handoffs",
         "type": "scatter",
         "x": 3,
         "y": [
          18,
          17,
          11
         ]
        }
       ],
       "layout": {
        "height": 500,
        "showlegend": true,
        "title": "Handoffs over time with UE number of 200",
        "width": 800,
        "xaxis": {
         "title": "Episodes"
        },
        "yaxis": {
         "title": "Handoffs"
        }
       }
      },
      "text/html": [
       "<div id=\"912503fc-aa67-4758-b077-d1396431b53a\" style=\"height: 500px; width: 800px;\" class=\"plotly-graph-div\"></div><script type=\"text/javascript\">require([\"plotly\"], function(Plotly) { window.PLOTLYENV=window.PLOTLYENV || {};window.PLOTLYENV.BASE_URL=\"https://plot.ly\";Plotly.newPlot(\"912503fc-aa67-4758-b077-d1396431b53a\", [{\"type\": \"scatter\", \"x\": 3, \"y\": [18.0, 17.0, 11.0], \"name\": \"Handoffs\"}], {\"height\": 500, \"width\": 800, \"title\": \"Handoffs over time with UE number of 200\", \"xaxis\": {\"title\": \"Episodes\"}, \"yaxis\": {\"title\": \"Handoffs\"}, \"showlegend\": true}, {\"showLink\": false, \"linkText\": null})});</script>"
      ],
      "text/vnd.plotly.v1+html": [
       "<div id=\"912503fc-aa67-4758-b077-d1396431b53a\" style=\"height: 500px; width: 800px;\" class=\"plotly-graph-div\"></div><script type=\"text/javascript\">require([\"plotly\"], function(Plotly) { window.PLOTLYENV=window.PLOTLYENV || {};window.PLOTLYENV.BASE_URL=\"https://plot.ly\";Plotly.newPlot(\"912503fc-aa67-4758-b077-d1396431b53a\", [{\"type\": \"scatter\", \"x\": 3, \"y\": [18.0, 17.0, 11.0], \"name\": \"Handoffs\"}], {\"height\": 500, \"width\": 800, \"title\": \"Handoffs over time with UE number of 200\", \"xaxis\": {\"title\": \"Episodes\"}, \"yaxis\": {\"title\": \"Handoffs\"}, \"showlegend\": true}, {\"showLink\": false, \"linkText\": null})});</script>"
      ]
     },
     "metadata": {},
     "output_type": "display_data"
    }
   ],
   "source": [
    "# Create handoff graph\n",
    "handoffs = go.Scatter(\n",
    "    x = len(result.Handoffs),\n",
    "    y = result.Handoffs,\n",
    "    name='Handoffs'\n",
    ")\n",
    "\n",
    "data = [handoffs]\n",
    "\n",
    "# Plot and embed in ipython notebook!\n",
    "plotly.offline.iplot(\n",
    "    {\"data\": data,\n",
    "     \"layout\": go.Layout(\n",
    "         height=500,\n",
    "         width=800,\n",
    "         title='Handoffs over time with UE number of 200',\n",
    "         xaxis=dict(\n",
    "             title='Episodes',\n",
    "         ),\n",
    "         yaxis=dict(\n",
    "             title='Handoffs'\n",
    "         ), \n",
    "         showlegend=True)},\n",
    "    show_link=False,\n",
    "    link_text=None)\n"
   ]
  },
  {
   "cell_type": "code",
   "execution_count": 19,
   "metadata": {},
   "outputs": [
    {
     "data": {
      "application/vnd.plotly.v1+json": {
       "data": [
        {
         "name": "UE SLA",
         "type": "scatter",
         "x": 3,
         "y": [
          175,
          166,
          158
         ]
        }
       ],
       "layout": {
        "height": 500,
        "showlegend": true,
        "title": "UE's SLA over time with UE number of 200",
        "width": 800,
        "xaxis": {
         "title": "Episodes"
        },
        "yaxis": {
         "title": "UE SLA"
        }
       }
      },
      "text/html": [
       "<div id=\"fa978998-16d7-4163-9b73-c38f1d20f3c0\" style=\"height: 500px; width: 800px;\" class=\"plotly-graph-div\"></div><script type=\"text/javascript\">require([\"plotly\"], function(Plotly) { window.PLOTLYENV=window.PLOTLYENV || {};window.PLOTLYENV.BASE_URL=\"https://plot.ly\";Plotly.newPlot(\"fa978998-16d7-4163-9b73-c38f1d20f3c0\", [{\"type\": \"scatter\", \"x\": 3, \"y\": [175.0, 166.0, 158.0], \"name\": \"UE SLA\"}], {\"height\": 500, \"width\": 800, \"title\": \"UE's SLA over time with UE number of 200\", \"xaxis\": {\"title\": \"Episodes\"}, \"yaxis\": {\"title\": \"UE SLA\"}, \"showlegend\": true}, {\"showLink\": false, \"linkText\": null})});</script>"
      ],
      "text/vnd.plotly.v1+html": [
       "<div id=\"fa978998-16d7-4163-9b73-c38f1d20f3c0\" style=\"height: 500px; width: 800px;\" class=\"plotly-graph-div\"></div><script type=\"text/javascript\">require([\"plotly\"], function(Plotly) { window.PLOTLYENV=window.PLOTLYENV || {};window.PLOTLYENV.BASE_URL=\"https://plot.ly\";Plotly.newPlot(\"fa978998-16d7-4163-9b73-c38f1d20f3c0\", [{\"type\": \"scatter\", \"x\": 3, \"y\": [175.0, 166.0, 158.0], \"name\": \"UE SLA\"}], {\"height\": 500, \"width\": 800, \"title\": \"UE's SLA over time with UE number of 200\", \"xaxis\": {\"title\": \"Episodes\"}, \"yaxis\": {\"title\": \"UE SLA\"}, \"showlegend\": true}, {\"showLink\": false, \"linkText\": null})});</script>"
      ]
     },
     "metadata": {},
     "output_type": "display_data"
    }
   ],
   "source": [
    "# Create UE graph\n",
    "ue_sla = go.Scatter(\n",
    "    x = len(result.Meets_SLA),\n",
    "    y = result.Meets_SLA,\n",
    "    name='UE SLA'\n",
    ")\n",
    "\n",
    "data = [ue_sla]\n",
    "\n",
    "# Plot and embed in ipython notebook!\n",
    "plotly.offline.iplot(\n",
    "    {\"data\": data,\n",
    "     \"layout\": go.Layout(\n",
    "         height=500,\n",
    "         width=800,\n",
    "         title=\"UE's SLA over time with UE number of 200\",\n",
    "         xaxis=dict(\n",
    "             title='Episodes',\n",
    "         ),\n",
    "         yaxis=dict(\n",
    "             title='UE SLA'\n",
    "         ), \n",
    "         showlegend=True)},\n",
    "    show_link=False,\n",
    "    link_text=None)"
   ]
  },
  {
   "cell_type": "code",
   "execution_count": null,
   "metadata": {},
   "outputs": [],
   "source": []
  },
  {
   "cell_type": "code",
   "execution_count": null,
   "metadata": {},
   "outputs": [],
   "source": []
  },
  {
   "cell_type": "code",
   "execution_count": null,
   "metadata": {},
   "outputs": [],
   "source": []
  }
 ],
 "metadata": {
  "kernelspec": {
   "display_name": "Python 3",
   "language": "python",
   "name": "python3"
  },
  "language_info": {
   "codemirror_mode": {
    "name": "ipython",
    "version": 3
   },
   "file_extension": ".py",
   "mimetype": "text/x-python",
   "name": "python",
   "nbconvert_exporter": "python",
   "pygments_lexer": "ipython3",
   "version": "3.6.5"
  },
  "widgets": {
   "application/vnd.jupyter.widget-state+json": {
    "state": {},
    "version_major": 2,
    "version_minor": 0
   }
  }
 },
 "nbformat": 4,
 "nbformat_minor": 2
}
