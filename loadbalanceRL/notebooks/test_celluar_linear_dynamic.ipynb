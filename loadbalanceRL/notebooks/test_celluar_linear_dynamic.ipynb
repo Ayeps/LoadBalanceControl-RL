{
 "cells": [
  {
   "cell_type": "code",
   "execution_count": 4,
   "metadata": {},
   "outputs": [
    {
     "data": {
      "text/html": [
       "<script>requirejs.config({paths: { 'plotly': ['https://cdn.plot.ly/plotly-latest.min']},});if(!window.Plotly) {{require(['plotly'],function(plotly) {window.Plotly=plotly;});}}</script>"
      ],
      "text/vnd.plotly.v1+html": [
       "<script>requirejs.config({paths: { 'plotly': ['https://cdn.plot.ly/plotly-latest.min']},});if(!window.Plotly) {{require(['plotly'],function(plotly) {window.Plotly=plotly;});}}</script>"
      ]
     },
     "metadata": {},
     "output_type": "display_data"
    }
   ],
   "source": [
    "import plotly\n",
    "import plotly.graph_objs as go\n",
    "from IPython.display import display, HTML\n",
    "plotly.offline.init_notebook_mode(connected=True)"
   ]
  },
  {
   "cell_type": "code",
   "execution_count": 5,
   "metadata": {},
   "outputs": [
    {
     "name": "stdout",
     "output_type": "stream",
     "text": [
      "Rainman2's logging has been configured!\n"
     ]
    },
    {
     "name": "stderr",
     "output_type": "stream",
     "text": [
      "Using TensorFlow backend.\n"
     ]
    }
   ],
   "source": [
    "from loadbalanceRL import RAINMAN3\n",
    "from loadbalanceRL.lib.algorithm.plot_dynamic import *"
   ]
  },
  {
   "cell_type": "code",
   "execution_count": 6,
   "metadata": {},
   "outputs": [],
   "source": [
    "# Server profile: num_ues=120, APs=16, Scale=200.0, explore_radius=1\n",
    "# If you want to change the num of ues or aps go to reset that in the server.py\n",
    "# the EPISODES shows here is 100\n",
    "from collections import OrderedDict\n",
    "ALGORITHM_CONFIG = OrderedDict(\n",
    "    EPISODES=5,\n",
    "    ALPHA=0.2,\n",
    "    GAMMA=0.9,\n",
    "    EPSILON=0.3,\n",
    "    EPSILON_DECAY=0.99,\n",
    "    EPSILON_MIN=0.01,\n",
    "    VERBOSE=True,\n",
    "    LEARNING_RATE=0.005,\n",
    "    L1_HIDDEN_UNITS=13,\n",
    "    L2_HIDDEN_UNITS=13,\n",
    "    L1_ACTIVATION='relu',\n",
    "    L2_ACTIVATION='relu',\n",
    "    LOSS_FUNCTION='mean_squared_error',\n",
    "    OPTIMIZER='Adam',\n",
    ")\n",
    "\n",
    "CELLULAR_MODEL_CONFIG = OrderedDict(\n",
    "    NAME='Cellular',\n",
    "    TYPE='Dev',\n",
    "    SERVER='0.0.0.0',\n",
    "    SERVER_PORT='8000',\n",
    "    VERBOSE=True,\n",
    ")"
   ]
  },
  {
   "cell_type": "code",
   "execution_count": 7,
   "metadata": {},
   "outputs": [],
   "source": [
    "RAINMAN3.algorithm_config = ALGORITHM_CONFIG\n",
    "RAINMAN3.environment_config = CELLULAR_MODEL_CONFIG"
   ]
  },
  {
   "cell_type": "code",
   "execution_count": 8,
   "metadata": {},
   "outputs": [
    {
     "name": "stderr",
     "output_type": "stream",
     "text": [
      "2018-08-10 13:52:04,070 Mingyangs-MacBook-Pro.local Rainman2[54769] INFO Starting experiment!\n",
      "2018-08-10 13:52:04,072 Mingyangs-MacBook-Pro.local Rainman2[54769] INFO Building Environment instance: Cellular\n",
      "2018-08-10 13:52:04,073 Mingyangs-MacBook-Pro.local loadbalanceRL.lib.environment.cellular.base[54769] INFO Instantiating Cellular client: Dev\n",
      "2018-08-10 13:52:04,074 Mingyangs-MacBook-Pro.local QCellularLinearRegressionAgent[54769] INFO Linear regression instance for cellular network is created!\n",
      "2018-08-10 13:52:04,075 Mingyangs-MacBook-Pro.local QCellularLinearRegressionAgent[54769] INFO Configuration used for the Agent:\n",
      "2018-08-10 13:52:04,076 Mingyangs-MacBook-Pro.local QCellularLinearRegressionAgent[54769] INFO episodes: 5\n",
      "2018-08-10 13:52:04,077 Mingyangs-MacBook-Pro.local QCellularLinearRegressionAgent[54769] INFO alpha: 0.2\n",
      "2018-08-10 13:52:04,078 Mingyangs-MacBook-Pro.local QCellularLinearRegressionAgent[54769] INFO gamma: 0.9\n",
      "2018-08-10 13:52:04,079 Mingyangs-MacBook-Pro.local QCellularLinearRegressionAgent[54769] INFO epsilon: 0.3\n",
      "2018-08-10 13:52:04,080 Mingyangs-MacBook-Pro.local QCellularLinearRegressionAgent[54769] INFO epsilon_decay: 0.99\n",
      "2018-08-10 13:52:04,080 Mingyangs-MacBook-Pro.local QCellularLinearRegressionAgent[54769] INFO epsilon_min: 0.01\n",
      "2018-08-10 13:52:04,082 Mingyangs-MacBook-Pro.local QCellularLinearRegressionAgent[54769] INFO learning_rate: 0.005\n",
      "2018-08-10 13:52:04,229 Mingyangs-MacBook-Pro.local QController[54769] INFO Agent: LinearRegression is successfully instantiated!\n",
      "2018-08-10 13:52:04,230 Mingyangs-MacBook-Pro.local QController[54769] INFO Qlearning instance: QlearningForCellular is successfully instantiated!\n",
      "2018-08-10 13:52:04,231 Mingyangs-MacBook-Pro.local QlearningForCellular[54769] INFO Running Qlearning for Cellular Networks!\n",
      "2018-08-10 13:52:04,244 Mingyangs-MacBook-Pro.local CellularNetworkEnv[54769] INFO Resetting the env for the change position of UE!\n",
      "2018-08-10 13:52:04,266 Mingyangs-MacBook-Pro.local CellularNetworkEnv[54769] INFO Requesting network to handoff UE: 1 to new AP: 6\n",
      "2018-08-10 13:52:04,358 Mingyangs-MacBook-Pro.local CellularNetworkEnv[54769] INFO Requesting network to handoff UE: 7 to new AP: 3\n",
      "2018-08-10 13:52:04,374 Mingyangs-MacBook-Pro.local CellularNetworkEnv[54769] INFO Requesting network to handoff UE: 8 to new AP: 10\n",
      "2018-08-10 13:52:04,430 Mingyangs-MacBook-Pro.local CellularNetworkEnv[54769] INFO Requesting network to handoff UE: 14 to new AP: 15\n",
      "2018-08-10 13:52:04,461 Mingyangs-MacBook-Pro.local CellularNetworkEnv[54769] INFO Requesting network to handoff UE: 17 to new AP: 6\n",
      "2018-08-10 13:52:04,501 Mingyangs-MacBook-Pro.local CellularNetworkEnv[54769] INFO Requesting network to handoff UE: 21 to new AP: 11\n",
      "2018-08-10 13:52:04,549 Mingyangs-MacBook-Pro.local CellularNetworkEnv[54769] INFO Requesting network to handoff UE: 26 to new AP: 14\n",
      "2018-08-10 13:52:04,673 Mingyangs-MacBook-Pro.local CellularNetworkEnv[54769] INFO Requesting network to handoff UE: 40 to new AP: 16\n",
      "2018-08-10 13:52:04,859 Mingyangs-MacBook-Pro.local CellularNetworkEnv[54769] INFO Requesting network to handoff UE: 62 to new AP: 8\n",
      "2018-08-10 13:52:04,900 Mingyangs-MacBook-Pro.local CellularNetworkEnv[54769] INFO Requesting network to handoff UE: 66 to new AP: 2\n",
      "2018-08-10 13:52:04,971 Mingyangs-MacBook-Pro.local CellularNetworkEnv[54769] INFO Requesting network to handoff UE: 74 to new AP: 10\n",
      "2018-08-10 13:52:05,114 Mingyangs-MacBook-Pro.local CellularNetworkEnv[54769] INFO Requesting network to handoff UE: 91 to new AP: 2\n",
      "2018-08-10 13:52:05,185 Mingyangs-MacBook-Pro.local CellularNetworkEnv[54769] INFO Requesting network to handoff UE: 99 to new AP: 2\n",
      "2018-08-10 13:52:05,342 Mingyangs-MacBook-Pro.local CellularNetworkEnv[54769] INFO Requesting network to handoff UE: 118 to new AP: 6\n",
      "2018-08-10 13:52:05,374 Mingyangs-MacBook-Pro.local CellularNetworkEnv[54769] INFO Requesting network to handoff UE: 121 to new AP: 11\n",
      "2018-08-10 13:52:05,406 Mingyangs-MacBook-Pro.local CellularNetworkEnv[54769] INFO Requesting network to handoff UE: 124 to new AP: 10\n",
      "2018-08-10 13:52:05,471 Mingyangs-MacBook-Pro.local CellularNetworkEnv[54769] INFO Requesting network to handoff UE: 131 to new AP: 6\n",
      "2018-08-10 13:52:05,496 Mingyangs-MacBook-Pro.local CellularNetworkEnv[54769] INFO Requesting network to handoff UE: 133 to new AP: 10\n",
      "2018-08-10 13:52:05,529 Mingyangs-MacBook-Pro.local CellularNetworkEnv[54769] INFO Requesting network to handoff UE: 136 to new AP: 6\n",
      "2018-08-10 13:52:05,646 Mingyangs-MacBook-Pro.local CellularNetworkEnv[54769] INFO Requesting network to handoff UE: 150 to new AP: 6\n",
      "2018-08-10 13:52:05,859 Mingyangs-MacBook-Pro.local CellularNetworkEnv[54769] INFO Requesting network to handoff UE: 176 to new AP: 12\n",
      "2018-08-10 13:52:05,900 Mingyangs-MacBook-Pro.local CellularNetworkEnv[54769] INFO Requesting network to handoff UE: 180 to new AP: 11\n",
      "2018-08-10 13:52:05,991 Mingyangs-MacBook-Pro.local CellularNetworkEnv[54769] INFO Requesting network to handoff UE: 190 to new AP: 7\n",
      "2018-08-10 13:52:06,090 Mingyangs-MacBook-Pro.local CellularNetworkEnv[54769] INFO Resetting the environment after move in the 1 episode\n",
      "2018-08-10 13:52:06,091 Mingyangs-MacBook-Pro.local CellularNetworkEnv[54769] INFO Getting  numbe of 4 BRs right \n",
      "2018-08-10 13:52:06,254 Mingyangs-MacBook-Pro.local CellularNetworkEnv[54769] INFO UE: 13 is handed off from: 6 to : 2\n",
      "2018-08-10 13:52:06,295 Mingyangs-MacBook-Pro.local CellularNetworkEnv[54769] INFO UE: 17 is handed off from: 6 to : 11\n",
      "2018-08-10 13:52:06,314 Mingyangs-MacBook-Pro.local CellularNetworkEnv[54769] INFO UE: 18 is handed off from: 6 to : 10\n",
      "2018-08-10 13:52:06,348 Mingyangs-MacBook-Pro.local CellularNetworkEnv[54769] INFO UE: 21 is handed off from: 11 to : 7\n",
      "2018-08-10 13:52:06,422 Mingyangs-MacBook-Pro.local CellularNetworkEnv[54769] INFO UE: 29 is handed off from: 7 to : 6\n",
      "2018-08-10 13:52:06,477 Mingyangs-MacBook-Pro.local CellularNetworkEnv[54769] INFO UE: 34 is handed off from: 11 to : 10\n",
      "2018-08-10 13:52:06,621 Mingyangs-MacBook-Pro.local CellularNetworkEnv[54769] INFO UE: 50 is handed off from: 10 to : 11\n",
      "2018-08-10 13:52:06,640 Mingyangs-MacBook-Pro.local CellularNetworkEnv[54769] INFO UE: 51 is handed off from: 6 to : 11\n",
      "2018-08-10 13:52:06,659 Mingyangs-MacBook-Pro.local CellularNetworkEnv[54769] INFO UE: 52 is handed off from: 7 to : 11\n",
      "2018-08-10 13:52:06,721 Mingyangs-MacBook-Pro.local CellularNetworkEnv[54769] INFO UE: 58 is handed off from: 10 to : 11\n",
      "2018-08-10 13:52:06,773 Mingyangs-MacBook-Pro.local CellularNetworkEnv[54769] INFO UE: 63 is handed off from: 7 to : 8\n",
      "2018-08-10 13:52:06,815 Mingyangs-MacBook-Pro.local CellularNetworkEnv[54769] INFO UE: 67 is handed off from: 6 to : 7\n",
      "2018-08-10 13:52:06,842 Mingyangs-MacBook-Pro.local CellularNetworkEnv[54769] INFO UE: 69 is handed off from: 7 to : 11\n",
      "2018-08-10 13:52:06,867 Mingyangs-MacBook-Pro.local CellularNetworkEnv[54769] INFO UE: 71 is handed off from: 7 to : 11\n",
      "2018-08-10 13:52:06,886 Mingyangs-MacBook-Pro.local CellularNetworkEnv[54769] INFO UE: 72 is handed off from: 11 to : 15\n",
      "2018-08-10 13:52:06,913 Mingyangs-MacBook-Pro.local CellularNetworkEnv[54769] INFO UE: 74 is handed off from: 10 to : 15\n",
      "2018-08-10 13:52:06,940 Mingyangs-MacBook-Pro.local CellularNetworkEnv[54769] INFO UE: 76 is handed off from: 7 to : 6\n",
      "2018-08-10 13:52:06,975 Mingyangs-MacBook-Pro.local CellularNetworkEnv[54769] INFO UE: 79 is handed off from: 6 to : 7\n",
      "2018-08-10 13:52:07,010 Mingyangs-MacBook-Pro.local CellularNetworkEnv[54769] INFO UE: 82 is handed off from: 7 to : 6\n",
      "2018-08-10 13:52:07,029 Mingyangs-MacBook-Pro.local CellularNetworkEnv[54769] INFO UE: 83 is handed off from: 10 to : 6\n",
      "2018-08-10 13:52:07,111 Mingyangs-MacBook-Pro.local CellularNetworkEnv[54769] INFO UE: 92 is handed off from: 7 to : 11\n",
      "2018-08-10 13:52:07,161 Mingyangs-MacBook-Pro.local CellularNetworkEnv[54769] INFO UE: 97 is handed off from: 11 to : 10\n",
      "2018-08-10 13:52:07,195 Mingyangs-MacBook-Pro.local CellularNetworkEnv[54769] INFO UE: 100 is handed off from: 6 to : 7\n",
      "2018-08-10 13:52:07,214 Mingyangs-MacBook-Pro.local CellularNetworkEnv[54769] INFO UE: 101 is handed off from: 10 to : 6\n",
      "2018-08-10 13:52:07,240 Mingyangs-MacBook-Pro.local CellularNetworkEnv[54769] INFO UE: 103 is handed off from: 10 to : 6\n"
     ]
    },
    {
     "name": "stderr",
     "output_type": "stream",
     "text": [
      "2018-08-10 13:52:07,380 Mingyangs-MacBook-Pro.local CellularNetworkEnv[54769] INFO UE: 117 is handed off from: 10 to : 14\n",
      "2018-08-10 13:52:07,398 Mingyangs-MacBook-Pro.local CellularNetworkEnv[54769] INFO UE: 118 is handed off from: 6 to : 7\n",
      "2018-08-10 13:52:07,433 Mingyangs-MacBook-Pro.local CellularNetworkEnv[54769] INFO UE: 121 is handed off from: 11 to : 15\n",
      "2018-08-10 13:52:07,451 Mingyangs-MacBook-Pro.local CellularNetworkEnv[54769] INFO UE: 122 is handed off from: 11 to : 15\n",
      "2018-08-10 13:52:07,478 Mingyangs-MacBook-Pro.local CellularNetworkEnv[54769] INFO UE: 124 is handed off from: 10 to : 6\n",
      "2018-08-10 13:52:07,561 Mingyangs-MacBook-Pro.local CellularNetworkEnv[54769] INFO UE: 131 is handed off from: 6 to : 7\n",
      "2018-08-10 13:52:07,611 Mingyangs-MacBook-Pro.local CellularNetworkEnv[54769] INFO UE: 136 is handed off from: 6 to : 7\n",
      "2018-08-10 13:52:07,754 Mingyangs-MacBook-Pro.local CellularNetworkEnv[54769] INFO UE: 152 is handed off from: 7 to : 6\n",
      "2018-08-10 13:52:07,932 Mingyangs-MacBook-Pro.local CellularNetworkEnv[54769] INFO UE: 173 is handed off from: 7 to : 11\n",
      "2018-08-10 13:52:08,015 Mingyangs-MacBook-Pro.local CellularNetworkEnv[54769] INFO UE: 182 is handed off from: 11 to : 10\n",
      "2018-08-10 13:52:08,064 Mingyangs-MacBook-Pro.local CellularNetworkEnv[54769] INFO UE: 187 is handed off from: 7 to : 6\n",
      "2018-08-10 13:52:08,099 Mingyangs-MacBook-Pro.local CellularNetworkEnv[54769] INFO UE: 190 is handed off from: 7 to : 6\n",
      "2018-08-10 13:52:08,187 Mingyangs-MacBook-Pro.local CellularNetworkEnv[54769] INFO Resetting the environment after move in the 2 episode\n",
      "2018-08-10 13:52:08,188 Mingyangs-MacBook-Pro.local CellularNetworkEnv[54769] INFO Getting  numbe of 4 BRs right \n",
      "2018-08-10 13:52:08,312 Mingyangs-MacBook-Pro.local CellularNetworkEnv[54769] INFO UE: 9 is handed off from: 7 to : 11\n",
      "2018-08-10 13:52:08,385 Mingyangs-MacBook-Pro.local CellularNetworkEnv[54769] INFO UE: 17 is handed off from: 11 to : 10\n",
      "2018-08-10 13:52:08,404 Mingyangs-MacBook-Pro.local CellularNetworkEnv[54769] INFO UE: 18 is handed off from: 10 to : 6\n",
      "2018-08-10 13:52:08,422 Mingyangs-MacBook-Pro.local CellularNetworkEnv[54769] INFO UE: 19 is handed off from: 7 to : 11\n",
      "2018-08-10 13:52:08,613 Mingyangs-MacBook-Pro.local CellularNetworkEnv[54769] INFO UE: 42 is handed off from: 15 to : 14\n",
      "2018-08-10 13:52:09,627 Mingyangs-MacBook-Pro.local CellularNetworkEnv[54769] INFO UE: 171 is handed off from: 11 to : 15\n",
      "2018-08-10 13:52:09,864 Mingyangs-MacBook-Pro.local CellularNetworkEnv[54769] INFO Resetting the environment after move in the 3 episode\n",
      "2018-08-10 13:52:09,865 Mingyangs-MacBook-Pro.local CellularNetworkEnv[54769] INFO Getting  numbe of 4 BRs right \n",
      "2018-08-10 13:52:10,081 Mingyangs-MacBook-Pro.local CellularNetworkEnv[54769] INFO UE: 21 is handed off from: 7 to : 11\n",
      "2018-08-10 13:52:11,305 Mingyangs-MacBook-Pro.local CellularNetworkEnv[54769] INFO UE: 176 is handed off from: 12 to : 15\n",
      "2018-08-10 13:52:11,504 Mingyangs-MacBook-Pro.local CellularNetworkEnv[54769] INFO Resetting the environment after move in the 4 episode\n",
      "2018-08-10 13:52:11,505 Mingyangs-MacBook-Pro.local CellularNetworkEnv[54769] INFO Getting  numbe of 4 BRs right \n",
      "2018-08-10 13:52:12,083 Mingyangs-MacBook-Pro.local CellularNetworkEnv[54769] INFO UE: 64 is handed off from: 5 to : 9\n",
      "2018-08-10 13:52:12,210 Mingyangs-MacBook-Pro.local CellularNetworkEnv[54769] INFO UE: 79 is handed off from: 7 to : 10\n",
      "2018-08-10 13:52:12,252 Mingyangs-MacBook-Pro.local CellularNetworkEnv[54769] INFO UE: 83 is handed off from: 6 to : 10\n",
      "2018-08-10 13:52:13,312 Mingyangs-MacBook-Pro.local QlearningForCellular[54769] INFO Episodes stats\n",
      "2018-08-10 13:52:13,313 Mingyangs-MacBook-Pro.local QlearningForCellular[54769] INFO Rewards: [211.75 156.25 211.5  222.5  222.75]\n",
      "2018-08-10 13:52:13,314 Mingyangs-MacBook-Pro.local QlearningForCellular[54769] INFO Handoffs: [23. 37.  6.  2.  3.]\n",
      "2018-08-10 13:52:13,315 Mingyangs-MacBook-Pro.local QlearningForCellular[54769] INFO UEs SLA Stats: [174. 159. 161. 160. 160.]\n"
     ]
    },
    {
     "name": "stdout",
     "output_type": "stream",
     "text": [
      "Module: run_experiment took: 15.683293000000003s\n"
     ]
    },
    {
     "name": "stderr",
     "output_type": "stream",
     "text": [
      "[========================================================================] 100%\r\n"
     ]
    }
   ],
   "source": [
    "result_linear=RAINMAN3.run_experiment('Cellular', 'Qlearning', 'LinearRegression')"
   ]
  },
  {
   "cell_type": "code",
   "execution_count": 9,
   "metadata": {},
   "outputs": [
    {
     "name": "stdout",
     "output_type": "stream",
     "text": [
      "[<BR {'br_id': 1, 'br_type': 'road', 'location': [812, 912, 0, 1600.0], 'direction': 'NS'}>, <BR {'br_id': 2, 'br_type': 'road', 'location': [0, 1600.0, 257, 357], 'direction': 'WE'}>, <BR {'br_id': 3, 'br_type': 'road', 'location': [0, 1600.0, 85, 185], 'direction': 'WE'}>, <BR {'br_id': 4, 'br_type': 'building', 'location': [465, 556, 80, 260], 'direction': 'random'}>]\n"
     ]
    }
   ],
   "source": [
    "print(result_linear.BR_LIST)"
   ]
  },
  {
   "cell_type": "code",
   "execution_count": 10,
   "metadata": {},
   "outputs": [],
   "source": [
    "# data_values=data[\"data\"]  \n",
    "# print(data_values)\n",
    "\n",
    "# Including the BR dict\n",
    "br_list = result_linear.BR_LIST\n",
    "  \n",
    "BR_locations=[]\n",
    "BR_locations += [x.location for x in br_list]\n",
    "\n",
    "Rec_dict=[{\n",
    "            'type': 'rect',\n",
    "            'x0': BR_locations[0][0],\n",
    "            'y0': BR_locations[0][2],\n",
    "            'x1': BR_locations[0][1],\n",
    "            'y1': BR_locations[0][3],\n",
    "            'line': {\n",
    "                'color': 'rgba(128, 0, 128, 1)',\n",
    "                'width': 2,\n",
    "            },\n",
    "            'fillcolor': 'rgba(128, 0, 128 0.1)'\n",
    "          }]\n",
    "Rec_dict.append({\n",
    "            'type': 'rect',\n",
    "            'x0': BR_locations[1][0],\n",
    "            'y0': BR_locations[1][2],\n",
    "            'x1': BR_locations[1][1],\n",
    "            'y1': BR_locations[1][3],\n",
    "            'line': {\n",
    "                'color': 'rgba(128, 0, 128, 1)',\n",
    "                'width': 2,\n",
    "            },\n",
    "            'fillcolor': 'rgba(128, 0, 128 0.1)'\n",
    "            })\n",
    "Rec_dict.append({\n",
    "            'type': 'rect',\n",
    "            'x0': BR_locations[2][0],\n",
    "            'y0': BR_locations[2][2],\n",
    "            'x1': BR_locations[2][1],\n",
    "            'y1': BR_locations[2][3],\n",
    "            'line': {\n",
    "                'color': 'rgba(128, 0, 128, 1)',\n",
    "                'width': 2,\n",
    "            },\n",
    "            'fillcolor': 'rgba(128, 0, 128 0.1)'\n",
    "          })\n",
    "\n",
    "Rec_dict.append({\n",
    "            'type': 'rect',\n",
    "            'x0': BR_locations[3][0],\n",
    "            'y0': BR_locations[3][2],\n",
    "            'x1': BR_locations[3][1],\n",
    "            'y1': BR_locations[3][3],\n",
    "            'line': {\n",
    "                'color': 'rgba(128, 0, 128, 1)',\n",
    "                'width': 2,\n",
    "            },\n",
    "            'fillcolor': 'rgba(128, 0, 128 0.1)'\n",
    "          })\n"
   ]
  },
  {
   "cell_type": "code",
   "execution_count": 11,
   "metadata": {},
   "outputs": [],
   "source": [
    "def plot_dynamic(result, EPISODES):\n",
    "    \"\"\"\n",
    "    Plot the animation\n",
    "    \"\"\"\n",
    "    Frames_data=[]\n",
    "    data=Info_plot_dynamic_UE(result, 0)\n",
    "    for episode in  range(1, EPISODES-1):\n",
    "        episode_data=Info_plot_dynamic_UE(result, episode)\n",
    "        #print(episode_data)\n",
    "        Frames_data.append(episode_data)\n",
    "        \n",
    "    layout_dict = dict(xaxis={'range': [0, 1600], 'title': 'x'},\n",
    "              yaxis={'range': [0, 1600], 'title': 'y'},\n",
    "              title=\"UE and AP Distribution in the grid\",\n",
    "              height=600,\n",
    "              width=800,\n",
    "              showlegend=False,\n",
    "              shapes=Rec_dict \n",
    "              )\n",
    "    layout = go.Layout(layout_dict)  \n",
    "    \n",
    "    last_episode=Info_plot_dynamic_UE(result, EPISODES-1)\n",
    "    layout={'title': \"UE and AP Distribution in the grid\"}\n",
    "    last_episode[\"layout\"]=layout\n",
    "    \n",
    "    Frames_data.append(last_episode)\n",
    "    return data, Frames_data, last_episode"
   ]
  },
  {
   "cell_type": "code",
   "execution_count": 12,
   "metadata": {},
   "outputs": [],
   "source": [
    "# data represents as the fist frame data for plot\n",
    "data, Frames_data, last_episode = plot_dynamic(result_linear, ALGORITHM_CONFIG['EPISODES'])\n",
    "\n"
   ]
  },
  {
   "cell_type": "code",
   "execution_count": 13,
   "metadata": {},
   "outputs": [],
   "source": [
    "\n",
    "data_values=data[\"data\"]  "
   ]
  },
  {
   "cell_type": "code",
   "execution_count": 14,
   "metadata": {},
   "outputs": [
    {
     "data": {
      "application/vnd.plotly.v1+json": {
       "data": [
        {
         "line": {
          "color": "green",
          "width": 2
         },
         "mode": "lines",
         "type": "scatter",
         "x": [
          1000,
          953
         ],
         "y": [
          600,
          528
         ]
        },
        {
         "line": {
          "color": "green",
          "width": 2
         },
         "mode": "lines",
         "type": "scatter",
         "x": [
          1000,
          1166
         ],
         "y": [
          600,
          582
         ]
        },
        {
         "line": {
          "color": "green",
          "width": 2
         },
         "mode": "lines",
         "type": "scatter",
         "x": [
          1000,
          1178
         ],
         "y": [
          1400,
          1287
         ]
        },
        {
         "line": {
          "color": "green",
          "width": 2
         },
         "mode": "lines",
         "type": "scatter",
         "x": [
          1000,
          1041
         ],
         "y": [
          1000,
          1009
         ]
        },
        {
         "line": {
          "color": "green",
          "width": 2
         },
         "mode": "lines",
         "type": "scatter",
         "x": [
          1400,
          1381
         ],
         "y": [
          600,
          796
         ]
        },
        {
         "line": {
          "color": "green",
          "width": 2
         },
         "mode": "lines",
         "type": "scatter",
         "x": [
          600,
          499
         ],
         "y": [
          200,
          293
         ]
        },
        {
         "line": {
          "color": "green",
          "width": 2
         },
         "mode": "lines",
         "type": "scatter",
         "x": [
          200,
          12
         ],
         "y": [
          600,
          758
         ]
        },
        {
         "line": {
          "color": "green",
          "width": 2
         },
         "mode": "lines",
         "type": "scatter",
         "x": [
          600,
          602
         ],
         "y": [
          600,
          794
         ]
        },
        {
         "line": {
          "color": "green",
          "width": 2
         },
         "mode": "lines",
         "type": "scatter",
         "x": [
          600,
          706
         ],
         "y": [
          1000,
          968
         ]
        },
        {
         "line": {
          "color": "green",
          "width": 2
         },
         "mode": "lines",
         "type": "scatter",
         "x": [
          1400,
          1411
         ],
         "y": [
          200,
          298
         ]
        },
        {
         "line": {
          "color": "green",
          "width": 2
         },
         "mode": "lines",
         "type": "scatter",
         "x": [
          600,
          596
         ],
         "y": [
          1400,
          1204
         ]
        },
        {
         "line": {
          "color": "green",
          "width": 2
         },
         "mode": "lines",
         "type": "scatter",
         "x": [
          1400,
          1292
         ],
         "y": [
          600,
          423
         ]
        },
        {
         "line": {
          "color": "green",
          "width": 2
         },
         "mode": "lines",
         "type": "scatter",
         "x": [
          600,
          529
         ],
         "y": [
          600,
          562
         ]
        },
        {
         "line": {
          "color": "green",
          "width": 2
         },
         "mode": "lines",
         "type": "scatter",
         "x": [
          1400,
          1447
         ],
         "y": [
          600,
          655
         ]
        },
        {
         "line": {
          "color": "green",
          "width": 2
         },
         "mode": "lines",
         "type": "scatter",
         "x": [
          600,
          603
         ],
         "y": [
          200,
          500
         ]
        },
        {
         "line": {
          "color": "green",
          "width": 2
         },
         "mode": "lines",
         "type": "scatter",
         "x": [
          1400,
          1464
         ],
         "y": [
          200,
          148
         ]
        },
        {
         "line": {
          "color": "green",
          "width": 2
         },
         "mode": "lines",
         "type": "scatter",
         "x": [
          1000,
          959
         ],
         "y": [
          1000,
          915
         ]
        },
        {
         "line": {
          "color": "green",
          "width": 2
         },
         "mode": "lines",
         "type": "scatter",
         "x": [
          600,
          748
         ],
         "y": [
          600,
          664
         ]
        },
        {
         "line": {
          "color": "green",
          "width": 2
         },
         "mode": "lines",
         "type": "scatter",
         "x": [
          600,
          691
         ],
         "y": [
          1000,
          1038
         ]
        },
        {
         "line": {
          "color": "green",
          "width": 2
         },
         "mode": "lines",
         "type": "scatter",
         "x": [
          600,
          742
         ],
         "y": [
          200,
          276
         ]
        },
        {
         "line": {
          "color": "green",
          "width": 2
         },
         "mode": "lines",
         "type": "scatter",
         "x": [
          600,
          702
         ],
         "y": [
          1000,
          957
         ]
        },
        {
         "line": {
          "color": "green",
          "width": 2
         },
         "mode": "lines",
         "type": "scatter",
         "x": [
          200,
          372
         ],
         "y": [
          200,
          235
         ]
        },
        {
         "line": {
          "color": "green",
          "width": 2
         },
         "mode": "lines",
         "type": "scatter",
         "x": [
          1000,
          921
         ],
         "y": [
          1000,
          1158
         ]
        },
        {
         "line": {
          "color": "green",
          "width": 2
         },
         "mode": "lines",
         "type": "scatter",
         "x": [
          200,
          37
         ],
         "y": [
          600,
          504
         ]
        },
        {
         "line": {
          "color": "green",
          "width": 2
         },
         "mode": "lines",
         "type": "scatter",
         "x": [
          1000,
          861
         ],
         "y": [
          1000,
          876
         ]
        },
        {
         "line": {
          "color": "green",
          "width": 2
         },
         "mode": "lines",
         "type": "scatter",
         "x": [
          1000,
          1026
         ],
         "y": [
          200,
          377
         ]
        },
        {
         "line": {
          "color": "green",
          "width": 2
         },
         "mode": "lines",
         "type": "scatter",
         "x": [
          1000,
          938
         ],
         "y": [
          600,
          629
         ]
        },
        {
         "line": {
          "color": "green",
          "width": 2
         },
         "mode": "lines",
         "type": "scatter",
         "x": [
          1400,
          1599
         ],
         "y": [
          1000,
          1173
         ]
        },
        {
         "line": {
          "color": "green",
          "width": 2
         },
         "mode": "lines",
         "type": "scatter",
         "x": [
          600,
          667
         ],
         "y": [
          1000,
          831
         ]
        },
        {
         "line": {
          "color": "green",
          "width": 2
         },
         "mode": "lines",
         "type": "scatter",
         "x": [
          200,
          269
         ],
         "y": [
          1000,
          868
         ]
        },
        {
         "line": {
          "color": "green",
          "width": 2
         },
         "mode": "lines",
         "type": "scatter",
         "x": [
          1400,
          1024
         ],
         "y": [
          1400,
          1578
         ]
        },
        {
         "line": {
          "color": "green",
          "width": 2
         },
         "mode": "lines",
         "type": "scatter",
         "x": [
          1000,
          896
         ],
         "y": [
          1400,
          1347
         ]
        },
        {
         "line": {
          "color": "green",
          "width": 2
         },
         "mode": "lines",
         "type": "scatter",
         "x": [
          1400,
          1527
         ],
         "y": [
          1000,
          1130
         ]
        },
        {
         "line": {
          "color": "green",
          "width": 2
         },
         "mode": "lines",
         "type": "scatter",
         "x": [
          1000,
          1068
         ],
         "y": [
          1000,
          853
         ]
        },
        {
         "line": {
          "color": "green",
          "width": 2
         },
         "mode": "lines",
         "type": "scatter",
         "x": [
          200,
          584
         ],
         "y": [
          1400,
          1097
         ]
        },
        {
         "line": {
          "color": "green",
          "width": 2
         },
         "mode": "lines",
         "type": "scatter",
         "x": [
          200,
          84
         ],
         "y": [
          200,
          128
         ]
        },
        {
         "line": {
          "color": "green",
          "width": 2
         },
         "mode": "lines",
         "type": "scatter",
         "x": [
          1400,
          1492
         ],
         "y": [
          1400,
          1293
         ]
        },
        {
         "line": {
          "color": "green",
          "width": 2
         },
         "mode": "lines",
         "type": "scatter",
         "x": [
          1000,
          1125
         ],
         "y": [
          600,
          517
         ]
        },
        {
         "line": {
          "color": "green",
          "width": 2
         },
         "mode": "lines",
         "type": "scatter",
         "x": [
          600,
          765
         ],
         "y": [
          200,
          121
         ]
        },
        {
         "line": {
          "color": "green",
          "width": 2
         },
         "mode": "lines",
         "type": "scatter",
         "x": [
          1000,
          1099
         ],
         "y": [
          1000,
          1056
         ]
        },
        {
         "line": {
          "color": "red",
          "width": 2
         },
         "mode": "lines",
         "type": "scatter",
         "x": [
          600,
          701
         ],
         "y": [
          200,
          541
         ]
        },
        {
         "line": {
          "color": "green",
          "width": 2
         },
         "mode": "lines",
         "type": "scatter",
         "x": [
          1400,
          1498
         ],
         "y": [
          1000,
          811
         ]
        },
        {
         "line": {
          "color": "green",
          "width": 2
         },
         "mode": "lines",
         "type": "scatter",
         "x": [
          1000,
          971
         ],
         "y": [
          1000,
          902
         ]
        },
        {
         "line": {
          "color": "green",
          "width": 2
         },
         "mode": "lines",
         "type": "scatter",
         "x": [
          1000,
          920
         ],
         "y": [
          600,
          636
         ]
        },
        {
         "line": {
          "color": "red",
          "width": 2
         },
         "mode": "lines",
         "type": "scatter",
         "x": [
          200,
          588
         ],
         "y": [
          600,
          510
         ]
        },
        {
         "line": {
          "color": "green",
          "width": 2
         },
         "mode": "lines",
         "type": "scatter",
         "x": [
          200,
          167
         ],
         "y": [
          200,
          169
         ]
        },
        {
         "line": {
          "color": "green",
          "width": 2
         },
         "mode": "lines",
         "type": "scatter",
         "x": [
          1400,
          1395
         ],
         "y": [
          200,
          291
         ]
        },
        {
         "line": {
          "color": "green",
          "width": 2
         },
         "mode": "lines",
         "type": "scatter",
         "x": [
          200,
          52
         ],
         "y": [
          1000,
          919
         ]
        },
        {
         "line": {
          "color": "green",
          "width": 2
         },
         "mode": "lines",
         "type": "scatter",
         "x": [
          200,
          46
         ],
         "y": [
          1000,
          714
         ]
        },
        {
         "line": {
          "color": "green",
          "width": 2
         },
         "mode": "lines",
         "type": "scatter",
         "x": [
          1000,
          1053
         ],
         "y": [
          600,
          657
         ]
        },
        {
         "line": {
          "color": "red",
          "width": 2
         },
         "mode": "lines",
         "type": "scatter",
         "x": [
          600,
          650
         ],
         "y": [
          600,
          942
         ]
        },
        {
         "line": {
          "color": "green",
          "width": 2
         },
         "mode": "lines",
         "type": "scatter",
         "x": [
          600,
          683
         ],
         "y": [
          1000,
          939
         ]
        },
        {
         "line": {
          "color": "green",
          "width": 2
         },
         "mode": "lines",
         "type": "scatter",
         "x": [
          200,
          203
         ],
         "y": [
          600,
          561
         ]
        },
        {
         "line": {
          "color": "green",
          "width": 2
         },
         "mode": "lines",
         "type": "scatter",
         "x": [
          600,
          247
         ],
         "y": [
          200,
          154
         ]
        },
        {
         "line": {
          "color": "green",
          "width": 2
         },
         "mode": "lines",
         "type": "scatter",
         "x": [
          600,
          659
         ],
         "y": [
          1400,
          1203
         ]
        },
        {
         "line": {
          "color": "green",
          "width": 2
         },
         "mode": "lines",
         "type": "scatter",
         "x": [
          1000,
          1027
         ],
         "y": [
          1400,
          1587
         ]
        },
        {
         "line": {
          "color": "green",
          "width": 2
         },
         "mode": "lines",
         "type": "scatter",
         "x": [
          1000,
          1155
         ],
         "y": [
          1400,
          1463
         ]
        },
        {
         "line": {
          "color": "green",
          "width": 2
         },
         "mode": "lines",
         "type": "scatter",
         "x": [
          1000,
          925
         ],
         "y": [
          600,
          753
         ]
        },
        {
         "line": {
          "color": "green",
          "width": 2
         },
         "mode": "lines",
         "type": "scatter",
         "x": [
          600,
          747
         ],
         "y": [
          200,
          79
         ]
        },
        {
         "line": {
          "color": "green",
          "width": 2
         },
         "mode": "lines",
         "type": "scatter",
         "x": [
          1000,
          1193
         ],
         "y": [
          1400,
          1439
         ]
        },
        {
         "line": {
          "color": "green",
          "width": 2
         },
         "mode": "lines",
         "type": "scatter",
         "x": [
          1000,
          1103
         ],
         "y": [
          1000,
          1067
         ]
        },
        {
         "line": {
          "color": "green",
          "width": 2
         },
         "mode": "lines",
         "type": "scatter",
         "x": [
          1000,
          944
         ],
         "y": [
          1400,
          1502
         ]
        },
        {
         "line": {
          "color": "green",
          "width": 2
         },
         "mode": "lines",
         "type": "scatter",
         "x": [
          600,
          618
         ],
         "y": [
          1000,
          1198
         ]
        },
        {
         "line": {
          "color": "green",
          "width": 2
         },
         "mode": "lines",
         "type": "scatter",
         "x": [
          600,
          922
         ],
         "y": [
          200,
          154
         ]
        },
        {
         "line": {
          "color": "green",
          "width": 2
         },
         "mode": "lines",
         "type": "scatter",
         "x": [
          600,
          672
         ],
         "y": [
          1400,
          1072
         ]
        },
        {
         "line": {
          "color": "green",
          "width": 2
         },
         "mode": "lines",
         "type": "scatter",
         "x": [
          200,
          126
         ],
         "y": [
          200,
          332
         ]
        },
        {
         "line": {
          "color": "red",
          "width": 2
         },
         "mode": "lines",
         "type": "scatter",
         "x": [
          600,
          546
         ],
         "y": [
          600,
          858
         ]
        },
        {
         "line": {
          "color": "green",
          "width": 2
         },
         "mode": "lines",
         "type": "scatter",
         "x": [
          200,
          119
         ],
         "y": [
          600,
          444
         ]
        },
        {
         "line": {
          "color": "red",
          "width": 2
         },
         "mode": "lines",
         "type": "scatter",
         "x": [
          600,
          897
         ],
         "y": [
          1000,
          852
         ]
        },
        {
         "line": {
          "color": "green",
          "width": 2
         },
         "mode": "lines",
         "type": "scatter",
         "x": [
          1400,
          1491
         ],
         "y": [
          200,
          12
         ]
        },
        {
         "line": {
          "color": "green",
          "width": 2
         },
         "mode": "lines",
         "type": "scatter",
         "x": [
          600,
          800
         ],
         "y": [
          1000,
          1120
         ]
        },
        {
         "line": {
          "color": "green",
          "width": 2
         },
         "mode": "lines",
         "type": "scatter",
         "x": [
          1000,
          1185
         ],
         "y": [
          1000,
          1064
         ]
        },
        {
         "line": {
          "color": "green",
          "width": 2
         },
         "mode": "lines",
         "type": "scatter",
         "x": [
          600,
          615
         ],
         "y": [
          1000,
          941
         ]
        },
        {
         "line": {
          "color": "green",
          "width": 2
         },
         "mode": "lines",
         "type": "scatter",
         "x": [
          1000,
          1167
         ],
         "y": [
          1000,
          938
         ]
        },
        {
         "line": {
          "color": "green",
          "width": 2
         },
         "mode": "lines",
         "type": "scatter",
         "x": [
          200,
          270
         ],
         "y": [
          1000,
          1064
         ]
        },
        {
         "line": {
          "color": "green",
          "width": 2
         },
         "mode": "lines",
         "type": "scatter",
         "x": [
          600,
          537
         ],
         "y": [
          1000,
          814
         ]
        },
        {
         "line": {
          "color": "green",
          "width": 2
         },
         "mode": "lines",
         "type": "scatter",
         "x": [
          1000,
          816
         ],
         "y": [
          1000,
          1008
         ]
        },
        {
         "line": {
          "color": "green",
          "width": 2
         },
         "mode": "lines",
         "type": "scatter",
         "x": [
          1400,
          1379
         ],
         "y": [
          1400,
          1306
         ]
        },
        {
         "line": {
          "color": "green",
          "width": 2
         },
         "mode": "lines",
         "type": "scatter",
         "x": [
          600,
          626
         ],
         "y": [
          600,
          781
         ]
        },
        {
         "line": {
          "color": "red",
          "width": 2
         },
         "mode": "lines",
         "type": "scatter",
         "x": [
          1000,
          836
         ],
         "y": [
          1000,
          675
         ]
        },
        {
         "line": {
          "color": "red",
          "width": 2
         },
         "mode": "lines",
         "type": "scatter",
         "x": [
          1000,
          851
         ],
         "y": [
          1000,
          852
         ]
        },
        {
         "line": {
          "color": "red",
          "width": 2
         },
         "mode": "lines",
         "type": "scatter",
         "x": [
          600,
          609
         ],
         "y": [
          1000,
          686
         ]
        },
        {
         "line": {
          "color": "green",
          "width": 2
         },
         "mode": "lines",
         "type": "scatter",
         "x": [
          1000,
          840
         ],
         "y": [
          600,
          749
         ]
        },
        {
         "line": {
          "color": "green",
          "width": 2
         },
         "mode": "lines",
         "type": "scatter",
         "x": [
          1000,
          1092
         ],
         "y": [
          200,
          360
         ]
        },
        {
         "line": {
          "color": "green",
          "width": 2
         },
         "mode": "lines",
         "type": "scatter",
         "x": [
          200,
          281
         ],
         "y": [
          200,
          138
         ]
        },
        {
         "line": {
          "color": "green",
          "width": 2
         },
         "mode": "lines",
         "type": "scatter",
         "x": [
          200,
          86
         ],
         "y": [
          600,
          688
         ]
        },
        {
         "line": {
          "color": "green",
          "width": 2
         },
         "mode": "lines",
         "type": "scatter",
         "x": [
          600,
          491
         ],
         "y": [
          200,
          277
         ]
        },
        {
         "line": {
          "color": "green",
          "width": 2
         },
         "mode": "lines",
         "type": "scatter",
         "x": [
          200,
          356
         ],
         "y": [
          600,
          607
         ]
        },
        {
         "line": {
          "color": "green",
          "width": 2
         },
         "mode": "lines",
         "type": "scatter",
         "x": [
          200,
          351
         ],
         "y": [
          1400,
          1595
         ]
        },
        {
         "line": {
          "color": "green",
          "width": 2
         },
         "mode": "lines",
         "type": "scatter",
         "x": [
          1000,
          1084
         ],
         "y": [
          200,
          117
         ]
        },
        {
         "line": {
          "color": "green",
          "width": 2
         },
         "mode": "lines",
         "type": "scatter",
         "x": [
          200,
          168
         ],
         "y": [
          1000,
          945
         ]
        },
        {
         "line": {
          "color": "red",
          "width": 2
         },
         "mode": "lines",
         "type": "scatter",
         "x": [
          600,
          768
         ],
         "y": [
          1000,
          1028
         ]
        },
        {
         "line": {
          "color": "green",
          "width": 2
         },
         "mode": "lines",
         "type": "scatter",
         "x": [
          1400,
          1406
         ],
         "y": [
          1000,
          620
         ]
        },
        {
         "line": {
          "color": "green",
          "width": 2
         },
         "mode": "lines",
         "type": "scatter",
         "x": [
          1400,
          1491
         ],
         "y": [
          200,
          133
         ]
        },
        {
         "line": {
          "color": "green",
          "width": 2
         },
         "mode": "lines",
         "type": "scatter",
         "x": [
          1000,
          826
         ],
         "y": [
          1400,
          1532
         ]
        },
        {
         "line": {
          "color": "green",
          "width": 2
         },
         "mode": "lines",
         "type": "scatter",
         "x": [
          1400,
          1584
         ],
         "y": [
          1400,
          1048
         ]
        },
        {
         "line": {
          "color": "green",
          "width": 2
         },
         "mode": "lines",
         "type": "scatter",
         "x": [
          1000,
          1069
         ],
         "y": [
          1000,
          803
         ]
        },
        {
         "line": {
          "color": "green",
          "width": 2
         },
         "mode": "lines",
         "type": "scatter",
         "x": [
          600,
          539
         ],
         "y": [
          1400,
          1096
         ]
        },
        {
         "line": {
          "color": "green",
          "width": 2
         },
         "mode": "lines",
         "type": "scatter",
         "x": [
          600,
          514
         ],
         "y": [
          600,
          827
         ]
        },
        {
         "line": {
          "color": "red",
          "width": 2
         },
         "mode": "lines",
         "type": "scatter",
         "x": [
          600,
          590
         ],
         "y": [
          600,
          965
         ]
        },
        {
         "line": {
          "color": "green",
          "width": 2
         },
         "mode": "lines",
         "type": "scatter",
         "x": [
          1000,
          819
         ],
         "y": [
          600,
          478
         ]
        },
        {
         "line": {
          "color": "green",
          "width": 2
         },
         "mode": "lines",
         "type": "scatter",
         "x": [
          200,
          347
         ],
         "y": [
          1000,
          972
         ]
        },
        {
         "line": {
          "color": "red",
          "width": 2
         },
         "mode": "lines",
         "type": "scatter",
         "x": [
          1000,
          796
         ],
         "y": [
          600,
          546
         ]
        },
        {
         "line": {
          "color": "green",
          "width": 2
         },
         "mode": "lines",
         "type": "scatter",
         "x": [
          200,
          339
         ],
         "y": [
          600,
          568
         ]
        },
        {
         "line": {
          "color": "green",
          "width": 2
         },
         "mode": "lines",
         "type": "scatter",
         "x": [
          1000,
          933
         ],
         "y": [
          200,
          179
         ]
        },
        {
         "line": {
          "color": "green",
          "width": 2
         },
         "mode": "lines",
         "type": "scatter",
         "x": [
          200,
          81
         ],
         "y": [
          600,
          906
         ]
        },
        {
         "line": {
          "color": "green",
          "width": 2
         },
         "mode": "lines",
         "type": "scatter",
         "x": [
          200,
          138
         ],
         "y": [
          1000,
          1080
         ]
        },
        {
         "line": {
          "color": "green",
          "width": 2
         },
         "mode": "lines",
         "type": "scatter",
         "x": [
          200,
          42
         ],
         "y": [
          600,
          510
         ]
        },
        {
         "line": {
          "color": "green",
          "width": 2
         },
         "mode": "lines",
         "type": "scatter",
         "x": [
          200,
          208
         ],
         "y": [
          1400,
          1568
         ]
        },
        {
         "line": {
          "color": "green",
          "width": 2
         },
         "mode": "lines",
         "type": "scatter",
         "x": [
          200,
          259
         ],
         "y": [
          600,
          472
         ]
        },
        {
         "line": {
          "color": "green",
          "width": 2
         },
         "mode": "lines",
         "type": "scatter",
         "x": [
          1400,
          1555
         ],
         "y": [
          600,
          700
         ]
        },
        {
         "line": {
          "color": "green",
          "width": 2
         },
         "mode": "lines",
         "type": "scatter",
         "x": [
          1000,
          995
         ],
         "y": [
          1400,
          1547
         ]
        },
        {
         "line": {
          "color": "green",
          "width": 2
         },
         "mode": "lines",
         "type": "scatter",
         "x": [
          1400,
          1472
         ],
         "y": [
          200,
          287
         ]
        },
        {
         "line": {
          "color": "green",
          "width": 2
         },
         "mode": "lines",
         "type": "scatter",
         "x": [
          600,
          728
         ],
         "y": [
          200,
          334
         ]
        },
        {
         "line": {
          "color": "green",
          "width": 2
         },
         "mode": "lines",
         "type": "scatter",
         "x": [
          600,
          414
         ],
         "y": [
          200,
          32
         ]
        },
        {
         "line": {
          "color": "green",
          "width": 2
         },
         "mode": "lines",
         "type": "scatter",
         "x": [
          200,
          199
         ],
         "y": [
          200,
          214
         ]
        },
        {
         "line": {
          "color": "green",
          "width": 2
         },
         "mode": "lines",
         "type": "scatter",
         "x": [
          1000,
          1138
         ],
         "y": [
          600,
          575
         ]
        },
        {
         "line": {
          "color": "green",
          "width": 2
         },
         "mode": "lines",
         "type": "scatter",
         "x": [
          200,
          521
         ],
         "y": [
          1000,
          949
         ]
        },
        {
         "line": {
          "color": "green",
          "width": 2
         },
         "mode": "lines",
         "type": "scatter",
         "x": [
          600,
          696
         ],
         "y": [
          1400,
          1241
         ]
        },
        {
         "line": {
          "color": "green",
          "width": 2
         },
         "mode": "lines",
         "type": "scatter",
         "x": [
          1400,
          1382
         ],
         "y": [
          600,
          596
         ]
        },
        {
         "line": {
          "color": "green",
          "width": 2
         },
         "mode": "lines",
         "type": "scatter",
         "x": [
          1400,
          1240
         ],
         "y": [
          1000,
          1188
         ]
        },
        {
         "line": {
          "color": "red",
          "width": 2
         },
         "mode": "lines",
         "type": "scatter",
         "x": [
          1000,
          1057
         ],
         "y": [
          1000,
          989
         ]
        },
        {
         "line": {
          "color": "green",
          "width": 2
         },
         "mode": "lines",
         "type": "scatter",
         "x": [
          200,
          302
         ],
         "y": [
          1400,
          1508
         ]
        },
        {
         "line": {
          "color": "green",
          "width": 2
         },
         "mode": "lines",
         "type": "scatter",
         "x": [
          600,
          698
         ],
         "y": [
          600,
          536
         ]
        },
        {
         "line": {
          "color": "green",
          "width": 2
         },
         "mode": "lines",
         "type": "scatter",
         "x": [
          600,
          575
         ],
         "y": [
          1400,
          1452
         ]
        },
        {
         "line": {
          "color": "green",
          "width": 2
         },
         "mode": "lines",
         "type": "scatter",
         "x": [
          1400,
          1499
         ],
         "y": [
          600,
          416
         ]
        },
        {
         "line": {
          "color": "green",
          "width": 2
         },
         "mode": "lines",
         "type": "scatter",
         "x": [
          200,
          242
         ],
         "y": [
          600,
          596
         ]
        },
        {
         "line": {
          "color": "green",
          "width": 2
         },
         "mode": "lines",
         "type": "scatter",
         "x": [
          1400,
          1451
         ],
         "y": [
          600,
          528
         ]
        },
        {
         "line": {
          "color": "green",
          "width": 2
         },
         "mode": "lines",
         "type": "scatter",
         "x": [
          200,
          171
         ],
         "y": [
          1400,
          1237
         ]
        },
        {
         "line": {
          "color": "green",
          "width": 2
         },
         "mode": "lines",
         "type": "scatter",
         "x": [
          1400,
          1538
         ],
         "y": [
          1000,
          959
         ]
        },
        {
         "line": {
          "color": "red",
          "width": 2
         },
         "mode": "lines",
         "type": "scatter",
         "x": [
          600,
          569
         ],
         "y": [
          1000,
          633
         ]
        },
        {
         "line": {
          "color": "green",
          "width": 2
         },
         "mode": "lines",
         "type": "scatter",
         "x": [
          600,
          677
         ],
         "y": [
          1400,
          1091
         ]
        },
        {
         "line": {
          "color": "green",
          "width": 2
         },
         "mode": "lines",
         "type": "scatter",
         "x": [
          1000,
          972
         ],
         "y": [
          1000,
          855
         ]
        },
        {
         "line": {
          "color": "green",
          "width": 2
         },
         "mode": "lines",
         "type": "scatter",
         "x": [
          1000,
          951
         ],
         "y": [
          1000,
          914
         ]
        },
        {
         "line": {
          "color": "green",
          "width": 2
         },
         "mode": "lines",
         "type": "scatter",
         "x": [
          200,
          294
         ],
         "y": [
          1400,
          1443
         ]
        },
        {
         "line": {
          "color": "red",
          "width": 2
         },
         "mode": "lines",
         "type": "scatter",
         "x": [
          600,
          651
         ],
         "y": [
          1000,
          728
         ]
        },
        {
         "line": {
          "color": "green",
          "width": 2
         },
         "mode": "lines",
         "type": "scatter",
         "x": [
          600,
          773
         ],
         "y": [
          1000,
          807
         ]
        },
        {
         "line": {
          "color": "green",
          "width": 2
         },
         "mode": "lines",
         "type": "scatter",
         "x": [
          200,
          134
         ],
         "y": [
          1000,
          1000
         ]
        },
        {
         "line": {
          "color": "green",
          "width": 2
         },
         "mode": "lines",
         "type": "scatter",
         "x": [
          200,
          158
         ],
         "y": [
          600,
          746
         ]
        },
        {
         "line": {
          "color": "green",
          "width": 2
         },
         "mode": "lines",
         "type": "scatter",
         "x": [
          600,
          629
         ],
         "y": [
          200,
          150
         ]
        },
        {
         "line": {
          "color": "green",
          "width": 2
         },
         "mode": "lines",
         "type": "scatter",
         "x": [
          1000,
          847
         ],
         "y": [
          200,
          114
         ]
        },
        {
         "line": {
          "color": "green",
          "width": 2
         },
         "mode": "lines",
         "type": "scatter",
         "x": [
          1400,
          1392
         ],
         "y": [
          1000,
          847
         ]
        },
        {
         "line": {
          "color": "green",
          "width": 2
         },
         "mode": "lines",
         "type": "scatter",
         "x": [
          600,
          524
         ],
         "y": [
          200,
          222
         ]
        },
        {
         "line": {
          "color": "green",
          "width": 2
         },
         "mode": "lines",
         "type": "scatter",
         "x": [
          200,
          222
         ],
         "y": [
          600,
          630
         ]
        },
        {
         "line": {
          "color": "green",
          "width": 2
         },
         "mode": "lines",
         "type": "scatter",
         "x": [
          1000,
          1178
         ],
         "y": [
          200,
          385
         ]
        },
        {
         "line": {
          "color": "green",
          "width": 2
         },
         "mode": "lines",
         "type": "scatter",
         "x": [
          1400,
          1361
         ],
         "y": [
          1000,
          851
         ]
        },
        {
         "line": {
          "color": "green",
          "width": 2
         },
         "mode": "lines",
         "type": "scatter",
         "x": [
          600,
          752
         ],
         "y": [
          1400,
          1246
         ]
        },
        {
         "line": {
          "color": "green",
          "width": 2
         },
         "mode": "lines",
         "type": "scatter",
         "x": [
          1000,
          829
         ],
         "y": [
          1000,
          1386
         ]
        },
        {
         "line": {
          "color": "green",
          "width": 2
         },
         "mode": "lines",
         "type": "scatter",
         "x": [
          200,
          171
         ],
         "y": [
          1400,
          1468
         ]
        },
        {
         "line": {
          "color": "green",
          "width": 2
         },
         "mode": "lines",
         "type": "scatter",
         "x": [
          200,
          516
         ],
         "y": [
          1000,
          896
         ]
        },
        {
         "line": {
          "color": "green",
          "width": 2
         },
         "mode": "lines",
         "type": "scatter",
         "x": [
          1000,
          1021
         ],
         "y": [
          600,
          660
         ]
        },
        {
         "line": {
          "color": "green",
          "width": 2
         },
         "mode": "lines",
         "type": "scatter",
         "x": [
          600,
          594
         ],
         "y": [
          1000,
          672
         ]
        },
        {
         "line": {
          "color": "green",
          "width": 2
         },
         "mode": "lines",
         "type": "scatter",
         "x": [
          200,
          186
         ],
         "y": [
          1400,
          1415
         ]
        },
        {
         "line": {
          "color": "green",
          "width": 2
         },
         "mode": "lines",
         "type": "scatter",
         "x": [
          200,
          162
         ],
         "y": [
          200,
          172
         ]
        },
        {
         "line": {
          "color": "green",
          "width": 2
         },
         "mode": "lines",
         "type": "scatter",
         "x": [
          1400,
          1594
         ],
         "y": [
          1400,
          1461
         ]
        },
        {
         "line": {
          "color": "green",
          "width": 2
         },
         "mode": "lines",
         "type": "scatter",
         "x": [
          1000,
          921
         ],
         "y": [
          600,
          543
         ]
        },
        {
         "line": {
          "color": "green",
          "width": 2
         },
         "mode": "lines",
         "type": "scatter",
         "x": [
          600,
          591
         ],
         "y": [
          1400,
          1070
         ]
        },
        {
         "line": {
          "color": "green",
          "width": 2
         },
         "mode": "lines",
         "type": "scatter",
         "x": [
          600,
          609
         ],
         "y": [
          1400,
          1341
         ]
        },
        {
         "line": {
          "color": "green",
          "width": 2
         },
         "mode": "lines",
         "type": "scatter",
         "x": [
          1400,
          1450
         ],
         "y": [
          200,
          69
         ]
        },
        {
         "line": {
          "color": "red",
          "width": 2
         },
         "mode": "lines",
         "type": "scatter",
         "x": [
          1000,
          796
         ],
         "y": [
          600,
          546
         ]
        },
        {
         "line": {
          "color": "green",
          "width": 2
         },
         "mode": "lines",
         "type": "scatter",
         "x": [
          200,
          338
         ],
         "y": [
          600,
          687
         ]
        },
        {
         "line": {
          "color": "green",
          "width": 2
         },
         "mode": "lines",
         "type": "scatter",
         "x": [
          600,
          426
         ],
         "y": [
          1400,
          1332
         ]
        },
        {
         "line": {
          "color": "green",
          "width": 2
         },
         "mode": "lines",
         "type": "scatter",
         "x": [
          1400,
          1294
         ],
         "y": [
          600,
          579
         ]
        },
        {
         "line": {
          "color": "green",
          "width": 2
         },
         "mode": "lines",
         "type": "scatter",
         "x": [
          1400,
          1252
         ],
         "y": [
          1000,
          1148
         ]
        },
        {
         "line": {
          "color": "red",
          "width": 2
         },
         "mode": "lines",
         "type": "scatter",
         "x": [
          600,
          906
         ],
         "y": [
          600,
          555
         ]
        },
        {
         "line": {
          "color": "red",
          "width": 2
         },
         "mode": "lines",
         "type": "scatter",
         "x": [
          600,
          632
         ],
         "y": [
          200,
          538
         ]
        },
        {
         "line": {
          "color": "green",
          "width": 2
         },
         "mode": "lines",
         "type": "scatter",
         "x": [
          1400,
          1238
         ],
         "y": [
          200,
          210
         ]
        },
        {
         "line": {
          "color": "green",
          "width": 2
         },
         "mode": "lines",
         "type": "scatter",
         "x": [
          200,
          249
         ],
         "y": [
          200,
          101
         ]
        },
        {
         "line": {
          "color": "green",
          "width": 2
         },
         "mode": "lines",
         "type": "scatter",
         "x": [
          1000,
          648
         ],
         "y": [
          1400,
          1449
         ]
        },
        {
         "line": {
          "color": "green",
          "width": 2
         },
         "mode": "lines",
         "type": "scatter",
         "x": [
          200,
          307
         ],
         "y": [
          1400,
          1262
         ]
        },
        {
         "line": {
          "color": "green",
          "width": 2
         },
         "mode": "lines",
         "type": "scatter",
         "x": [
          1000,
          1039
         ],
         "y": [
          1000,
          1084
         ]
        },
        {
         "line": {
          "color": "red",
          "width": 2
         },
         "mode": "lines",
         "type": "scatter",
         "x": [
          1000,
          1062
         ],
         "y": [
          1000,
          999
         ]
        },
        {
         "line": {
          "color": "red",
          "width": 2
         },
         "mode": "lines",
         "type": "scatter",
         "x": [
          600,
          818
         ],
         "y": [
          1000,
          887
         ]
        },
        {
         "line": {
          "color": "red",
          "width": 2
         },
         "mode": "lines",
         "type": "scatter",
         "x": [
          1000,
          956
         ],
         "y": [
          1000,
          674
         ]
        },
        {
         "line": {
          "color": "green",
          "width": 2
         },
         "mode": "lines",
         "type": "scatter",
         "x": [
          1000,
          985
         ],
         "y": [
          1400,
          1464
         ]
        },
        {
         "line": {
          "color": "green",
          "width": 2
         },
         "mode": "lines",
         "type": "scatter",
         "x": [
          1000,
          1084
         ],
         "y": [
          1000,
          1162
         ]
        },
        {
         "line": {
          "color": "green",
          "width": 2
         },
         "mode": "lines",
         "type": "scatter",
         "x": [
          1000,
          990
         ],
         "y": [
          1000,
          802
         ]
        },
        {
         "line": {
          "color": "green",
          "width": 2
         },
         "mode": "lines",
         "type": "scatter",
         "x": [
          1000,
          1139
         ],
         "y": [
          200,
          437
         ]
        },
        {
         "line": {
          "color": "red",
          "width": 2
         },
         "mode": "lines",
         "type": "scatter",
         "x": [
          1000,
          1091
         ],
         "y": [
          1000,
          817
         ]
        },
        {
         "line": {
          "color": "red",
          "width": 2
         },
         "mode": "lines",
         "type": "scatter",
         "x": [
          1000,
          968
         ],
         "y": [
          600,
          635
         ]
        },
        {
         "line": {
          "color": "green",
          "width": 2
         },
         "mode": "lines",
         "type": "scatter",
         "x": [
          1000,
          1153
         ],
         "y": [
          200,
          436
         ]
        },
        {
         "line": {
          "color": "green",
          "width": 2
         },
         "mode": "lines",
         "type": "scatter",
         "x": [
          1000,
          1180
         ],
         "y": [
          1000,
          756
         ]
        },
        {
         "line": {
          "color": "green",
          "width": 2
         },
         "mode": "lines",
         "type": "scatter",
         "x": [
          600,
          545
         ],
         "y": [
          200,
          268
         ]
        },
        {
         "line": {
          "color": "green",
          "width": 2
         },
         "mode": "lines",
         "type": "scatter",
         "x": [
          1400,
          1317
         ],
         "y": [
          1000,
          862
         ]
        },
        {
         "line": {
          "color": "green",
          "width": 2
         },
         "mode": "lines",
         "type": "scatter",
         "x": [
          600,
          629
         ],
         "y": [
          1400,
          1379
         ]
        },
        {
         "line": {
          "color": "green",
          "width": 2
         },
         "mode": "lines",
         "type": "scatter",
         "x": [
          1000,
          1134
         ],
         "y": [
          1400,
          1461
         ]
        },
        {
         "line": {
          "color": "green",
          "width": 2
         },
         "mode": "lines",
         "type": "scatter",
         "x": [
          600,
          733
         ],
         "y": [
          1000,
          778
         ]
        },
        {
         "line": {
          "color": "green",
          "width": 2
         },
         "mode": "lines",
         "type": "scatter",
         "x": [
          200,
          201
         ],
         "y": [
          600,
          746
         ]
        },
        {
         "line": {
          "color": "green",
          "width": 2
         },
         "mode": "lines",
         "type": "scatter",
         "x": [
          600,
          536
         ],
         "y": [
          200,
          139
         ]
        },
        {
         "line": {
          "color": "green",
          "width": 2
         },
         "mode": "lines",
         "type": "scatter",
         "x": [
          600,
          675
         ],
         "y": [
          600,
          883
         ]
        },
        {
         "line": {
          "color": "green",
          "width": 2
         },
         "mode": "lines",
         "type": "scatter",
         "x": [
          200,
          249
         ],
         "y": [
          1000,
          942
         ]
        },
        {
         "line": {
          "color": "green",
          "width": 2
         },
         "mode": "lines",
         "type": "scatter",
         "x": [
          1400,
          1530
         ],
         "y": [
          1000,
          1118
         ]
        },
        {
         "line": {
          "color": "green",
          "width": 2
         },
         "mode": "lines",
         "type": "scatter",
         "x": [
          200,
          191
         ],
         "y": [
          1000,
          913
         ]
        },
        {
         "line": {
          "color": "green",
          "width": 2
         },
         "mode": "lines",
         "type": "scatter",
         "x": [
          1000,
          1067
         ],
         "y": [
          600,
          529
         ]
        },
        {
         "line": {
          "color": "green",
          "width": 2
         },
         "mode": "lines",
         "type": "scatter",
         "x": [
          1000,
          1105
         ],
         "y": [
          200,
          145
         ]
        },
        {
         "line": {
          "color": "green",
          "width": 2
         },
         "mode": "lines",
         "type": "scatter",
         "x": [
          200,
          209
         ],
         "y": [
          1400,
          1255
         ]
        },
        {
         "line": {
          "color": "green",
          "width": 2
         },
         "mode": "lines",
         "type": "scatter",
         "x": [
          200,
          232
         ],
         "y": [
          1400,
          1591
         ]
        },
        {
         "line": {
          "color": "green",
          "width": 2
         },
         "mode": "lines",
         "type": "scatter",
         "x": [
          1000,
          845
         ],
         "y": [
          1000,
          1116
         ]
        },
        {
         "line": {
          "color": "red",
          "width": 2
         },
         "mode": "lines",
         "type": "scatter",
         "x": [
          1000,
          634
         ],
         "y": [
          600,
          627
         ]
        },
        {
         "line": {
          "color": "green",
          "width": 2
         },
         "mode": "lines",
         "type": "scatter",
         "x": [
          1000,
          1120
         ],
         "y": [
          1000,
          910
         ]
        },
        {
         "line": {
          "color": "black",
          "width": 2
         },
         "mode": "lines",
         "type": "scatter",
         "x": [
          812,
          812
         ],
         "y": [
          0,
          1600
         ]
        },
        {
         "line": {
          "color": "black",
          "width": 2
         },
         "mode": "lines",
         "type": "scatter",
         "x": [
          812,
          912
         ],
         "y": [
          1600,
          1600
         ]
        },
        {
         "line": {
          "color": "black",
          "width": 2
         },
         "mode": "lines",
         "type": "scatter",
         "x": [
          912,
          912
         ],
         "y": [
          1600,
          0
         ]
        },
        {
         "line": {
          "color": "black",
          "width": 2
         },
         "mode": "lines",
         "type": "scatter",
         "x": [
          812,
          912
         ],
         "y": [
          0,
          0
         ]
        },
        {
         "line": {
          "color": "black",
          "width": 2
         },
         "mode": "lines",
         "type": "scatter",
         "x": [
          0,
          0
         ],
         "y": [
          257,
          357
         ]
        },
        {
         "line": {
          "color": "black",
          "width": 2
         },
         "mode": "lines",
         "type": "scatter",
         "x": [
          0,
          1600
         ],
         "y": [
          357,
          357
         ]
        },
        {
         "line": {
          "color": "black",
          "width": 2
         },
         "mode": "lines",
         "type": "scatter",
         "x": [
          1600,
          1600
         ],
         "y": [
          357,
          257
         ]
        },
        {
         "line": {
          "color": "black",
          "width": 2
         },
         "mode": "lines",
         "type": "scatter",
         "x": [
          0,
          1600
         ],
         "y": [
          257,
          257
         ]
        },
        {
         "line": {
          "color": "black",
          "width": 2
         },
         "mode": "lines",
         "type": "scatter",
         "x": [
          0,
          0
         ],
         "y": [
          85,
          185
         ]
        },
        {
         "line": {
          "color": "black",
          "width": 2
         },
         "mode": "lines",
         "type": "scatter",
         "x": [
          0,
          1600
         ],
         "y": [
          185,
          185
         ]
        },
        {
         "line": {
          "color": "black",
          "width": 2
         },
         "mode": "lines",
         "type": "scatter",
         "x": [
          1600,
          1600
         ],
         "y": [
          185,
          85
         ]
        },
        {
         "line": {
          "color": "black",
          "width": 2
         },
         "mode": "lines",
         "type": "scatter",
         "x": [
          0,
          1600
         ],
         "y": [
          85,
          85
         ]
        },
        {
         "line": {
          "color": "black",
          "width": 2
         },
         "mode": "lines",
         "type": "scatter",
         "x": [
          465,
          465
         ],
         "y": [
          80,
          260
         ]
        },
        {
         "line": {
          "color": "black",
          "width": 2
         },
         "mode": "lines",
         "type": "scatter",
         "x": [
          465,
          556
         ],
         "y": [
          260,
          260
         ]
        },
        {
         "line": {
          "color": "black",
          "width": 2
         },
         "mode": "lines",
         "type": "scatter",
         "x": [
          556,
          556
         ],
         "y": [
          260,
          80
         ]
        },
        {
         "line": {
          "color": "black",
          "width": 2
         },
         "mode": "lines",
         "type": "scatter",
         "x": [
          465,
          556
         ],
         "y": [
          80,
          80
         ]
        },
        {
         "marker": {
          "color": [
           "orange",
           "orange",
           "orange",
           "orange",
           "orange",
           "orange",
           "orange",
           "orange",
           "orange",
           "orange",
           "orange",
           "orange",
           "orange",
           "orange",
           "orange",
           "orange",
           "blue",
           "magenta",
           "magenta",
           "blue",
           "magenta",
           "magenta",
           "magenta",
           "blue",
           "magenta",
           "magenta",
           "magenta",
           "magenta",
           "blue",
           "magenta",
           "blue",
           "magenta",
           "blue",
           "blue",
           "blue",
           "magenta",
           "blue",
           "magenta",
           "magenta",
           "magenta",
           "magenta",
           "magenta",
           "blue",
           "magenta",
           "blue",
           "magenta",
           "magenta",
           "magenta",
           "magenta",
           "blue",
           "blue",
           "magenta",
           "magenta",
           "magenta",
           "magenta",
           "magenta",
           "blue",
           "magenta",
           "magenta",
           "blue",
           "blue",
           "magenta",
           "magenta",
           "magenta",
           "magenta",
           "magenta",
           "blue",
           "blue",
           "magenta",
           "magenta",
           "magenta",
           "magenta",
           "magenta",
           "magenta",
           "magenta",
           "magenta",
           "magenta",
           "magenta",
           "magenta",
           "magenta",
           "magenta",
           "magenta",
           "blue",
           "magenta",
           "blue",
           "magenta",
           "magenta",
           "magenta",
           "blue",
           "magenta",
           "magenta",
           "magenta",
           "blue",
           "magenta",
           "magenta",
           "blue",
           "blue",
           "blue",
           "blue",
           "magenta",
           "magenta",
           "magenta",
           "magenta",
           "magenta",
           "magenta",
           "magenta",
           "magenta",
           "blue",
           "magenta",
           "magenta",
           "magenta",
           "magenta",
           "magenta",
           "blue",
           "magenta",
           "blue",
           "magenta",
           "magenta",
           "blue",
           "magenta",
           "magenta",
           "magenta",
           "magenta",
           "magenta",
           "magenta",
           "magenta",
           "magenta",
           "magenta",
           "magenta",
           "magenta",
           "magenta",
           "magenta",
           "magenta",
           "blue",
           "magenta",
           "magenta",
           "magenta",
           "blue",
           "magenta",
           "magenta",
           "magenta",
           "magenta",
           "magenta",
           "magenta",
           "magenta",
           "magenta",
           "blue",
           "blue",
           "magenta",
           "magenta",
           "magenta",
           "blue",
           "magenta",
           "magenta",
           "magenta",
           "magenta",
           "magenta",
           "magenta",
           "magenta",
           "magenta",
           "magenta",
           "magenta",
           "magenta",
           "magenta",
           "magenta",
           "blue",
           "blue",
           "magenta",
           "magenta",
           "magenta",
           "magenta",
           "magenta",
           "magenta",
           "magenta",
           "magenta",
           "blue",
           "magenta",
           "magenta",
           "magenta",
           "magenta",
           "blue",
           "blue",
           "magenta",
           "magenta",
           "magenta",
           "magenta",
           "magenta",
           "blue",
           "blue",
           "blue",
           "magenta",
           "magenta",
           "magenta",
           "magenta",
           "blue",
           "blue",
           "magenta",
           "magenta",
           "magenta",
           "magenta",
           "magenta",
           "magenta",
           "magenta",
           "magenta",
           "magenta",
           "blue",
           "magenta",
           "magenta",
           "magenta",
           "magenta",
           "magenta",
           "magenta",
           "magenta",
           "magenta",
           "blue",
           "magenta",
           "black",
           "black",
           "black",
           "black",
           "black",
           "black",
           "black",
           "black",
           "black",
           "black",
           "black",
           "black",
           "black",
           "black",
           "black",
           "black"
          ],
          "size": 8
         },
         "mode": "markers",
         "type": "scatter",
         "x": [
          200,
          200,
          200,
          200,
          600,
          600,
          600,
          600,
          1000,
          1000,
          1000,
          1000,
          1400,
          1400,
          1400,
          1400,
          953,
          1166,
          1178,
          1041,
          1381,
          499,
          12,
          602,
          706,
          1411,
          596,
          1292,
          529,
          1447,
          603,
          1464,
          959,
          748,
          691,
          742,
          702,
          372,
          921,
          37,
          861,
          1026,
          938,
          1599,
          667,
          269,
          1024,
          896,
          1527,
          1068,
          584,
          84,
          1492,
          1125,
          765,
          1099,
          701,
          1498,
          971,
          920,
          588,
          167,
          1395,
          52,
          46,
          1053,
          650,
          683,
          203,
          247,
          659,
          1027,
          1155,
          925,
          747,
          1193,
          1103,
          944,
          618,
          922,
          672,
          126,
          546,
          119,
          897,
          1491,
          800,
          1185,
          615,
          1167,
          270,
          537,
          816,
          1379,
          626,
          836,
          851,
          609,
          840,
          1092,
          281,
          86,
          491,
          356,
          351,
          1084,
          168,
          768,
          1406,
          1491,
          826,
          1584,
          1069,
          539,
          514,
          590,
          819,
          347,
          796,
          339,
          933,
          81,
          138,
          42,
          208,
          259,
          1555,
          995,
          1472,
          728,
          414,
          199,
          1138,
          521,
          696,
          1382,
          1240,
          1057,
          302,
          698,
          575,
          1499,
          242,
          1451,
          171,
          1538,
          569,
          677,
          972,
          951,
          294,
          651,
          773,
          134,
          158,
          629,
          847,
          1392,
          524,
          222,
          1178,
          1361,
          752,
          829,
          171,
          516,
          1021,
          594,
          186,
          162,
          1594,
          921,
          591,
          609,
          1450,
          796,
          338,
          426,
          1294,
          1252,
          906,
          632,
          1238,
          249,
          648,
          307,
          1039,
          1062,
          818,
          956,
          985,
          1084,
          990,
          1139,
          1091,
          968,
          1153,
          1180,
          545,
          1317,
          629,
          1134,
          733,
          201,
          536,
          675,
          249,
          1530,
          191,
          1067,
          1105,
          209,
          232,
          845,
          634,
          1120,
          812,
          812,
          912,
          912,
          0,
          0,
          1600,
          1600,
          0,
          0,
          1600,
          1600,
          465,
          465,
          556,
          556
         ],
         "y": [
          200,
          600,
          1000,
          1400,
          200,
          600,
          1000,
          1400,
          200,
          600,
          1000,
          1400,
          200,
          600,
          1000,
          1400,
          528,
          582,
          1287,
          1009,
          796,
          293,
          758,
          794,
          968,
          298,
          1204,
          423,
          562,
          655,
          500,
          148,
          915,
          664,
          1038,
          276,
          957,
          235,
          1158,
          504,
          876,
          377,
          629,
          1173,
          831,
          868,
          1578,
          1347,
          1130,
          853,
          1097,
          128,
          1293,
          517,
          121,
          1056,
          541,
          811,
          902,
          636,
          510,
          169,
          291,
          919,
          714,
          657,
          942,
          939,
          561,
          154,
          1203,
          1587,
          1463,
          753,
          79,
          1439,
          1067,
          1502,
          1198,
          154,
          1072,
          332,
          858,
          444,
          852,
          12,
          1120,
          1064,
          941,
          938,
          1064,
          814,
          1008,
          1306,
          781,
          675,
          852,
          686,
          749,
          360,
          138,
          688,
          277,
          607,
          1595,
          117,
          945,
          1028,
          620,
          133,
          1532,
          1048,
          803,
          1096,
          827,
          965,
          478,
          972,
          546,
          568,
          179,
          906,
          1080,
          510,
          1568,
          472,
          700,
          1547,
          287,
          334,
          32,
          214,
          575,
          949,
          1241,
          596,
          1188,
          989,
          1508,
          536,
          1452,
          416,
          596,
          528,
          1237,
          959,
          633,
          1091,
          855,
          914,
          1443,
          728,
          807,
          1000,
          746,
          150,
          114,
          847,
          222,
          630,
          385,
          851,
          1246,
          1386,
          1468,
          896,
          660,
          672,
          1415,
          172,
          1461,
          543,
          1070,
          1341,
          69,
          546,
          687,
          1332,
          579,
          1148,
          555,
          538,
          210,
          101,
          1449,
          1262,
          1084,
          999,
          887,
          674,
          1464,
          1162,
          802,
          437,
          817,
          635,
          436,
          756,
          268,
          862,
          1379,
          1461,
          778,
          746,
          139,
          883,
          942,
          1118,
          913,
          529,
          145,
          1255,
          1591,
          1116,
          627,
          910,
          0,
          1600,
          1600,
          0,
          257,
          357,
          357,
          257,
          85,
          185,
          185,
          85,
          80,
          260,
          260,
          80
         ]
        }
       ],
       "frames": [
        {
         "data": [
          {
           "line": {
            "color": "red",
            "width": 2
           },
           "mode": "lines",
           "type": "scatter",
           "x": [
            600,
            952
           ],
           "y": [
            600,
            529
           ]
          },
          {
           "line": {
            "color": "green",
            "width": 2
           },
           "mode": "lines",
           "type": "scatter",
           "x": [
            1000,
            1166
           ],
           "y": [
            600,
            584
           ]
          },
          {
           "line": {
            "color": "green",
            "width": 2
           },
           "mode": "lines",
           "type": "scatter",
           "x": [
            1000,
            1177
           ],
           "y": [
            1400,
            1289
           ]
          },
          {
           "line": {
            "color": "red",
            "width": 2
           },
           "mode": "lines",
           "type": "scatter",
           "x": [
            1000,
            1041
           ],
           "y": [
            1000,
            1007
           ]
          },
          {
           "line": {
            "color": "green",
            "width": 2
           },
           "mode": "lines",
           "type": "scatter",
           "x": [
            1400,
            1379
           ],
           "y": [
            600,
            796
           ]
          },
          {
           "line": {
            "color": "green",
            "width": 2
           },
           "mode": "lines",
           "type": "scatter",
           "x": [
            600,
            446
           ],
           "y": [
            200,
            293
           ]
          },
          {
           "line": {
            "color": "green",
            "width": 2
           },
           "mode": "lines",
           "type": "scatter",
           "x": [
            200,
            13
           ],
           "y": [
            1000,
            756
           ]
          },
          {
           "line": {
            "color": "red",
            "width": 2
           },
           "mode": "lines",
           "type": "scatter",
           "x": [
            1000,
            601
           ],
           "y": [
            600,
            796
           ]
          },
          {
           "line": {
            "color": "green",
            "width": 2
           },
           "mode": "lines",
           "type": "scatter",
           "x": [
            600,
            708
           ],
           "y": [
            1000,
            969
           ]
          },
          {
           "line": {
            "color": "green",
            "width": 2
           },
           "mode": "lines",
           "type": "scatter",
           "x": [
            1400,
            1437
           ],
           "y": [
            200,
            298
           ]
          },
          {
           "line": {
            "color": "green",
            "width": 2
           },
           "mode": "lines",
           "type": "scatter",
           "x": [
            600,
            594
           ],
           "y": [
            1400,
            1203
           ]
          },
          {
           "line": {
            "color": "green",
            "width": 2
           },
           "mode": "lines",
           "type": "scatter",
           "x": [
            1400,
            1294
           ],
           "y": [
            600,
            424
           ]
          },
          {
           "line": {
            "color": "red",
            "width": 2
           },
           "mode": "lines",
           "type": "scatter",
           "x": [
            600,
            529
           ],
           "y": [
            600,
            560
           ]
          },
          {
           "line": {
            "color": "green",
            "width": 2
           },
           "mode": "lines",
           "type": "scatter",
           "x": [
            1400,
            1446
           ],
           "y": [
            1000,
            657
           ]
          },
          {
           "line": {
            "color": "red",
            "width": 2
           },
           "mode": "lines",
           "type": "scatter",
           "x": [
            600,
            604
           ],
           "y": [
            200,
            502
           ]
          },
          {
           "line": {
            "color": "green",
            "width": 2
           },
           "mode": "lines",
           "type": "scatter",
           "x": [
            1400,
            1497
           ],
           "y": [
            200,
            148
           ]
          },
          {
           "line": {
            "color": "red",
            "width": 2
           },
           "mode": "lines",
           "type": "scatter",
           "x": [
            600,
            959
           ],
           "y": [
            600,
            917
           ]
          },
          {
           "line": {
            "color": "red",
            "width": 2
           },
           "mode": "lines",
           "type": "scatter",
           "x": [
            600,
            748
           ],
           "y": [
            600,
            662
           ]
          },
          {
           "line": {
            "color": "red",
            "width": 2
           },
           "mode": "lines",
           "type": "scatter",
           "x": [
            600,
            693
           ],
           "y": [
            1000,
            1039
           ]
          },
          {
           "line": {
            "color": "green",
            "width": 2
           },
           "mode": "lines",
           "type": "scatter",
           "x": [
            600,
            703
           ],
           "y": [
            200,
            276
           ]
          },
          {
           "line": {
            "color": "red",
            "width": 2
           },
           "mode": "lines",
           "type": "scatter",
           "x": [
            1000,
            704
           ],
           "y": [
            1000,
            957
           ]
          },
          {
           "line": {
            "color": "green",
            "width": 2
           },
           "mode": "lines",
           "type": "scatter",
           "x": [
            200,
            370
           ],
           "y": [
            200,
            236
           ]
          },
          {
           "line": {
            "color": "green",
            "width": 2
           },
           "mode": "lines",
           "type": "scatter",
           "x": [
            1000,
            919
           ],
           "y": [
            1000,
            1158
           ]
          },
          {
           "line": {
            "color": "green",
            "width": 2
           },
           "mode": "lines",
           "type": "scatter",
           "x": [
            200,
            35
           ],
           "y": [
            600,
            503
           ]
          },
          {
           "line": {
            "color": "green",
            "width": 2
           },
           "mode": "lines",
           "type": "scatter",
           "x": [
            1000,
            861
           ],
           "y": [
            1000,
            828
           ]
          },
          {
           "line": {
            "color": "green",
            "width": 2
           },
           "mode": "lines",
           "type": "scatter",
           "x": [
            1400,
            1024
           ],
           "y": [
            600,
            376
           ]
          },
          {
           "line": {
            "color": "red",
            "width": 2
           },
           "mode": "lines",
           "type": "scatter",
           "x": [
            1000,
            940
           ],
           "y": [
            600,
            628
           ]
          },
          {
           "line": {
            "color": "green",
            "width": 2
           },
           "mode": "lines",
           "type": "scatter",
           "x": [
            1400,
            1599
           ],
           "y": [
            1000,
            1172
           ]
          },
          {
           "line": {
            "color": "red",
            "width": 2
           },
           "mode": "lines",
           "type": "scatter",
           "x": [
            600,
            666
           ],
           "y": [
            1000,
            832
           ]
          },
          {
           "line": {
            "color": "green",
            "width": 2
           },
           "mode": "lines",
           "type": "scatter",
           "x": [
            200,
            269
           ],
           "y": [
            1000,
            870
           ]
          },
          {
           "line": {
            "color": "green",
            "width": 2
           },
           "mode": "lines",
           "type": "scatter",
           "x": [
            1400,
            1026
           ],
           "y": [
            1400,
            1577
           ]
          },
          {
           "line": {
            "color": "green",
            "width": 2
           },
           "mode": "lines",
           "type": "scatter",
           "x": [
            1000,
            896
           ],
           "y": [
            1400,
            1302
           ]
          },
          {
           "line": {
            "color": "green",
            "width": 2
           },
           "mode": "lines",
           "type": "scatter",
           "x": [
            1400,
            1525
           ],
           "y": [
            1000,
            1131
           ]
          },
          {
           "line": {
            "color": "red",
            "width": 2
           },
           "mode": "lines",
           "type": "scatter",
           "x": [
            1000,
            1070
           ],
           "y": [
            1000,
            854
           ]
          },
          {
           "line": {
            "color": "green",
            "width": 2
           },
           "mode": "lines",
           "type": "scatter",
           "x": [
            200,
            582
           ],
           "y": [
            1400,
            1098
           ]
          },
          {
           "line": {
            "color": "green",
            "width": 2
           },
           "mode": "lines",
           "type": "scatter",
           "x": [
            200,
            142
           ],
           "y": [
            200,
            128
           ]
          },
          {
           "line": {
            "color": "green",
            "width": 2
           },
           "mode": "lines",
           "type": "scatter",
           "x": [
            1400,
            1492
           ],
           "y": [
            1400,
            1295
           ]
          },
          {
           "line": {
            "color": "green",
            "width": 2
           },
           "mode": "lines",
           "type": "scatter",
           "x": [
            1000,
            1127
           ],
           "y": [
            600,
            516
           ]
          },
          {
           "line": {
            "color": "green",
            "width": 2
           },
           "mode": "lines",
           "type": "scatter",
           "x": [
            600,
            718
           ],
           "y": [
            200,
            121
           ]
          },
          {
           "line": {
            "color": "green",
            "width": 2
           },
           "mode": "lines",
           "type": "scatter",
           "x": [
            1400,
            1098
           ],
           "y": [
            1400,
            1057
           ]
          },
          {
           "line": {
            "color": "red",
            "width": 2
           },
           "mode": "lines",
           "type": "scatter",
           "x": [
            600,
            700
           ],
           "y": [
            200,
            539
           ]
          },
          {
           "line": {
            "color": "green",
            "width": 2
           },
           "mode": "lines",
           "type": "scatter",
           "x": [
            1400,
            1500
           ],
           "y": [
            1000,
            811
           ]
          },
          {
           "line": {
            "color": "green",
            "width": 2
           },
           "mode": "lines",
           "type": "scatter",
           "x": [
            1000,
            970
           ],
           "y": [
            1000,
            904
           ]
          },
          {
           "line": {
            "color": "red",
            "width": 2
           },
           "mode": "lines",
           "type": "scatter",
           "x": [
            1000,
            919
           ],
           "y": [
            600,
            635
           ]
          },
          {
           "line": {
            "color": "red",
            "width": 2
           },
           "mode": "lines",
           "type": "scatter",
           "x": [
            200,
            590
           ],
           "y": [
            600,
            511
           ]
          },
          {
           "line": {
            "color": "green",
            "width": 2
           },
           "mode": "lines",
           "type": "scatter",
           "x": [
            200,
            202
           ],
           "y": [
            200,
            169
           ]
          },
          {
           "line": {
            "color": "green",
            "width": 2
           },
           "mode": "lines",
           "type": "scatter",
           "x": [
            1400,
            1336
           ],
           "y": [
            200,
            291
           ]
          },
          {
           "line": {
            "color": "green",
            "width": 2
           },
           "mode": "lines",
           "type": "scatter",
           "x": [
            200,
            51
           ],
           "y": [
            1000,
            917
           ]
          },
          {
           "line": {
            "color": "green",
            "width": 2
           },
           "mode": "lines",
           "type": "scatter",
           "x": [
            200,
            48
           ],
           "y": [
            1000,
            715
           ]
          },
          {
           "line": {
            "color": "green",
            "width": 2
           },
           "mode": "lines",
           "type": "scatter",
           "x": [
            1000,
            1051
           ],
           "y": [
            600,
            656
           ]
          },
          {
           "line": {
            "color": "red",
            "width": 2
           },
           "mode": "lines",
           "type": "scatter",
           "x": [
            600,
            652
           ],
           "y": [
            600,
            942
           ]
          },
          {
           "line": {
            "color": "red",
            "width": 2
           },
           "mode": "lines",
           "type": "scatter",
           "x": [
            600,
            682
           ],
           "y": [
            1000,
            937
           ]
          },
          {
           "line": {
            "color": "green",
            "width": 2
           },
           "mode": "lines",
           "type": "scatter",
           "x": [
            200,
            202
           ],
           "y": [
            600,
            559
           ]
          },
          {
           "line": {
            "color": "green",
            "width": 2
           },
           "mode": "lines",
           "type": "scatter",
           "x": [
            600,
            208
           ],
           "y": [
            200,
            154
           ]
          },
          {
           "line": {
            "color": "green",
            "width": 2
           },
           "mode": "lines",
           "type": "scatter",
           "x": [
            600,
            660
           ],
           "y": [
            1400,
            1205
           ]
          },
          {
           "line": {
            "color": "green",
            "width": 2
           },
           "mode": "lines",
           "type": "scatter",
           "x": [
            1000,
            1028
           ],
           "y": [
            1400,
            1588
           ]
          },
          {
           "line": {
            "color": "green",
            "width": 2
           },
           "mode": "lines",
           "type": "scatter",
           "x": [
            1000,
            1153
           ],
           "y": [
            1400,
            1464
           ]
          },
          {
           "line": {
            "color": "green",
            "width": 2
           },
           "mode": "lines",
           "type": "scatter",
           "x": [
            1000,
            924
           ],
           "y": [
            600,
            751
           ]
          },
          {
           "line": {
            "color": "green",
            "width": 2
           },
           "mode": "lines",
           "type": "scatter",
           "x": [
            600,
            745
           ],
           "y": [
            200,
            78
           ]
          },
          {
           "line": {
            "color": "green",
            "width": 2
           },
           "mode": "lines",
           "type": "scatter",
           "x": [
            1000,
            1195
           ],
           "y": [
            1400,
            1439
           ]
          },
          {
           "line": {
            "color": "green",
            "width": 2
           },
           "mode": "lines",
           "type": "scatter",
           "x": [
            1000,
            1103
           ],
           "y": [
            1000,
            1065
           ]
          },
          {
           "line": {
            "color": "green",
            "width": 2
           },
           "mode": "lines",
           "type": "scatter",
           "x": [
            600,
            942
           ],
           "y": [
            1400,
            1501
           ]
          },
          {
           "line": {
            "color": "green",
            "width": 2
           },
           "mode": "lines",
           "type": "scatter",
           "x": [
            600,
            619
           ],
           "y": [
            1000,
            1197
           ]
          },
          {
           "line": {
            "color": "green",
            "width": 2
           },
           "mode": "lines",
           "type": "scatter",
           "x": [
            600,
            899
           ],
           "y": [
            200,
            154
           ]
          },
          {
           "line": {
            "color": "green",
            "width": 2
           },
           "mode": "lines",
           "type": "scatter",
           "x": [
            600,
            672
           ],
           "y": [
            1400,
            1074
           ]
          },
          {
           "line": {
            "color": "green",
            "width": 2
           },
           "mode": "lines",
           "type": "scatter",
           "x": [
            200,
            147
           ],
           "y": [
            600,
            332
           ]
          },
          {
           "line": {
            "color": "red",
            "width": 2
           },
           "mode": "lines",
           "type": "scatter",
           "x": [
            600,
            546
           ],
           "y": [
            600,
            860
           ]
          },
          {
           "line": {
            "color": "green",
            "width": 2
           },
           "mode": "lines",
           "type": "scatter",
           "x": [
            200,
            119
           ],
           "y": [
            600,
            442
           ]
          },
          {
           "line": {
            "color": "red",
            "width": 2
           },
           "mode": "lines",
           "type": "scatter",
           "x": [
            600,
            897
           ],
           "y": [
            1000,
            909
           ]
          },
          {
           "line": {
            "color": "green",
            "width": 2
           },
           "mode": "lines",
           "type": "scatter",
           "x": [
            1400,
            1490
           ],
           "y": [
            200,
            14
           ]
          },
          {
           "line": {
            "color": "green",
            "width": 2
           },
           "mode": "lines",
           "type": "scatter",
           "x": [
            600,
            802
           ],
           "y": [
            1000,
            1120
           ]
          },
          {
           "line": {
            "color": "green",
            "width": 2
           },
           "mode": "lines",
           "type": "scatter",
           "x": [
            1000,
            1184
           ],
           "y": [
            1000,
            1062
           ]
          },
          {
           "line": {
            "color": "red",
            "width": 2
           },
           "mode": "lines",
           "type": "scatter",
           "x": [
            600,
            613
           ],
           "y": [
            1000,
            940
           ]
          },
          {
           "line": {
            "color": "green",
            "width": 2
           },
           "mode": "lines",
           "type": "scatter",
           "x": [
            1000,
            1168
           ],
           "y": [
            600,
            940
           ]
          },
          {
           "line": {
            "color": "green",
            "width": 2
           },
           "mode": "lines",
           "type": "scatter",
           "x": [
            200,
            272
           ],
           "y": [
            1000,
            1065
           ]
          },
          {
           "line": {
            "color": "green",
            "width": 2
           },
           "mode": "lines",
           "type": "scatter",
           "x": [
            600,
            539
           ],
           "y": [
            1000,
            815
           ]
          },
          {
           "line": {
            "color": "red",
            "width": 2
           },
           "mode": "lines",
           "type": "scatter",
           "x": [
            1000,
            816
           ],
           "y": [
            1000,
            967
           ]
          },
          {
           "line": {
            "color": "green",
            "width": 2
           },
           "mode": "lines",
           "type": "scatter",
           "x": [
            1400,
            1378
           ],
           "y": [
            1400,
            1304
           ]
          },
          {
           "line": {
            "color": "green",
            "width": 2
           },
           "mode": "lines",
           "type": "scatter",
           "x": [
            600,
            628
           ],
           "y": [
            600,
            782
           ]
          },
          {
           "line": {
            "color": "red",
            "width": 2
           },
           "mode": "lines",
           "type": "scatter",
           "x": [
            1000,
            836
           ],
           "y": [
            1000,
            703
           ]
          },
          {
           "line": {
            "color": "red",
            "width": 2
           },
           "mode": "lines",
           "type": "scatter",
           "x": [
            1000,
            851
           ],
           "y": [
            1000,
            796
           ]
          },
          {
           "line": {
            "color": "red",
            "width": 2
           },
           "mode": "lines",
           "type": "scatter",
           "x": [
            600,
            607
           ],
           "y": [
            1000,
            685
           ]
          },
          {
           "line": {
            "color": "red",
            "width": 2
           },
           "mode": "lines",
           "type": "scatter",
           "x": [
            1000,
            840
           ],
           "y": [
            600,
            703
           ]
          },
          {
           "line": {
            "color": "green",
            "width": 2
           },
           "mode": "lines",
           "type": "scatter",
           "x": [
            1000,
            1093
           ],
           "y": [
            200,
            361
           ]
          },
          {
           "line": {
            "color": "green",
            "width": 2
           },
           "mode": "lines",
           "type": "scatter",
           "x": [
            200,
            338
           ],
           "y": [
            200,
            138
           ]
          },
          {
           "line": {
            "color": "green",
            "width": 2
           },
           "mode": "lines",
           "type": "scatter",
           "x": [
            200,
            84
           ],
           "y": [
            600,
            689
           ]
          },
          {
           "line": {
            "color": "green",
            "width": 2
           },
           "mode": "lines",
           "type": "scatter",
           "x": [
            600,
            517
           ],
           "y": [
            200,
            277
           ]
          },
          {
           "line": {
            "color": "green",
            "width": 2
           },
           "mode": "lines",
           "type": "scatter",
           "x": [
            200,
            354
           ],
           "y": [
            600,
            606
           ]
          },
          {
           "line": {
            "color": "green",
            "width": 2
           },
           "mode": "lines",
           "type": "scatter",
           "x": [
            200,
            351
           ],
           "y": [
            1400,
            1597
           ]
          },
          {
           "line": {
            "color": "green",
            "width": 2
           },
           "mode": "lines",
           "type": "scatter",
           "x": [
            1000,
            1143
           ],
           "y": [
            200,
            117
           ]
          },
          {
           "line": {
            "color": "green",
            "width": 2
           },
           "mode": "lines",
           "type": "scatter",
           "x": [
            200,
            170
           ],
           "y": [
            600,
            945
           ]
          },
          {
           "line": {
            "color": "red",
            "width": 2
           },
           "mode": "lines",
           "type": "scatter",
           "x": [
            600,
            768
           ],
           "y": [
            1000,
            1030
           ]
          },
          {
           "line": {
            "color": "green",
            "width": 2
           },
           "mode": "lines",
           "type": "scatter",
           "x": [
            1400,
            1407
           ],
           "y": [
            1000,
            618
           ]
          },
          {
           "line": {
            "color": "green",
            "width": 2
           },
           "mode": "lines",
           "type": "scatter",
           "x": [
            1400,
            1446
           ],
           "y": [
            200,
            133
           ]
          },
          {
           "line": {
            "color": "green",
            "width": 2
           },
           "mode": "lines",
           "type": "scatter",
           "x": [
            1000,
            826
           ],
           "y": [
            1400,
            1569
           ]
          },
          {
           "line": {
            "color": "green",
            "width": 2
           },
           "mode": "lines",
           "type": "scatter",
           "x": [
            1400,
            1584
           ],
           "y": [
            1400,
            1050
           ]
          },
          {
           "line": {
            "color": "green",
            "width": 2
           },
           "mode": "lines",
           "type": "scatter",
           "x": [
            1000,
            1067
           ],
           "y": [
            1000,
            804
           ]
          },
          {
           "line": {
            "color": "red",
            "width": 2
           },
           "mode": "lines",
           "type": "scatter",
           "x": [
            600,
            537
           ],
           "y": [
            1400,
            1097
           ]
          },
          {
           "line": {
            "color": "green",
            "width": 2
           },
           "mode": "lines",
           "type": "scatter",
           "x": [
            200,
            514
           ],
           "y": [
            600,
            825
           ]
          },
          {
           "line": {
            "color": "red",
            "width": 2
           },
           "mode": "lines",
           "type": "scatter",
           "x": [
            600,
            589
           ],
           "y": [
            600,
            967
           ]
          },
          {
           "line": {
            "color": "green",
            "width": 2
           },
           "mode": "lines",
           "type": "scatter",
           "x": [
            1000,
            819
           ],
           "y": [
            600,
            522
           ]
          },
          {
           "line": {
            "color": "green",
            "width": 2
           },
           "mode": "lines",
           "type": "scatter",
           "x": [
            200,
            346
           ],
           "y": [
            1000,
            970
           ]
          },
          {
           "line": {
            "color": "red",
            "width": 2
           },
           "mode": "lines",
           "type": "scatter",
           "x": [
            1000,
            795
           ],
           "y": [
            600,
            548
           ]
          },
          {
           "line": {
            "color": "green",
            "width": 2
           },
           "mode": "lines",
           "type": "scatter",
           "x": [
            200,
            341
           ],
           "y": [
            600,
            569
           ]
          },
          {
           "line": {
            "color": "green",
            "width": 2
           },
           "mode": "lines",
           "type": "scatter",
           "x": [
            1000,
            892
           ],
           "y": [
            200,
            179
           ]
          },
          {
           "line": {
            "color": "green",
            "width": 2
           },
           "mode": "lines",
           "type": "scatter",
           "x": [
            200,
            83
           ],
           "y": [
            600,
            906
           ]
          },
          {
           "line": {
            "color": "green",
            "width": 2
           },
           "mode": "lines",
           "type": "scatter",
           "x": [
            200,
            136
           ],
           "y": [
            1000,
            1079
           ]
          },
          {
           "line": {
            "color": "green",
            "width": 2
           },
           "mode": "lines",
           "type": "scatter",
           "x": [
            200,
            44
           ],
           "y": [
            600,
            511
           ]
          },
          {
           "line": {
            "color": "green",
            "width": 2
           },
           "mode": "lines",
           "type": "scatter",
           "x": [
            200,
            207
           ],
           "y": [
            1400,
            1567
           ]
          },
          {
           "line": {
            "color": "green",
            "width": 2
           },
           "mode": "lines",
           "type": "scatter",
           "x": [
            200,
            259
           ],
           "y": [
            600,
            474
           ]
          },
          {
           "line": {
            "color": "green",
            "width": 2
           },
           "mode": "lines",
           "type": "scatter",
           "x": [
            1400,
            1553
           ],
           "y": [
            600,
            701
           ]
          },
          {
           "line": {
            "color": "green",
            "width": 2
           },
           "mode": "lines",
           "type": "scatter",
           "x": [
            1000,
            993
           ],
           "y": [
            1400,
            1547
           ]
          },
          {
           "line": {
            "color": "green",
            "width": 2
           },
           "mode": "lines",
           "type": "scatter",
           "x": [
            1400,
            1525
           ],
           "y": [
            200,
            287
           ]
          },
          {
           "line": {
            "color": "green",
            "width": 2
           },
           "mode": "lines",
           "type": "scatter",
           "x": [
            600,
            786
           ],
           "y": [
            200,
            334
           ]
          },
          {
           "line": {
            "color": "green",
            "width": 2
           },
           "mode": "lines",
           "type": "scatter",
           "x": [
            600,
            415
           ],
           "y": [
            200,
            34
           ]
          },
          {
           "line": {
            "color": "green",
            "width": 2
           },
           "mode": "lines",
           "type": "scatter",
           "x": [
            200,
            197
           ],
           "y": [
            200,
            215
           ]
          },
          {
           "line": {
            "color": "green",
            "width": 2
           },
           "mode": "lines",
           "type": "scatter",
           "x": [
            1000,
            1139
           ],
           "y": [
            600,
            577
           ]
          },
          {
           "line": {
            "color": "red",
            "width": 2
           },
           "mode": "lines",
           "type": "scatter",
           "x": [
            600,
            521
           ],
           "y": [
            600,
            951
           ]
          },
          {
           "line": {
            "color": "green",
            "width": 2
           },
           "mode": "lines",
           "type": "scatter",
           "x": [
            600,
            694
           ],
           "y": [
            1400,
            1242
           ]
          },
          {
           "line": {
            "color": "green",
            "width": 2
           },
           "mode": "lines",
           "type": "scatter",
           "x": [
            1400,
            1381
           ],
           "y": [
            600,
            595
           ]
          },
          {
           "line": {
            "color": "green",
            "width": 2
           },
           "mode": "lines",
           "type": "scatter",
           "x": [
            1000,
            1240
           ],
           "y": [
            1000,
            1186
           ]
          },
          {
           "line": {
            "color": "red",
            "width": 2
           },
           "mode": "lines",
           "type": "scatter",
           "x": [
            1000,
            1058
           ],
           "y": [
            1000,
            990
           ]
          },
          {
           "line": {
            "color": "green",
            "width": 2
           },
           "mode": "lines",
           "type": "scatter",
           "x": [
            200,
            300
           ],
           "y": [
            1400,
            1507
           ]
          },
          {
           "line": {
            "color": "green",
            "width": 2
           },
           "mode": "lines",
           "type": "scatter",
           "x": [
            1000,
            699
           ],
           "y": [
            600,
            537
           ]
          },
          {
           "line": {
            "color": "green",
            "width": 2
           },
           "mode": "lines",
           "type": "scatter",
           "x": [
            600,
            573
           ],
           "y": [
            1400,
            1451
           ]
          },
          {
           "line": {
            "color": "green",
            "width": 2
           },
           "mode": "lines",
           "type": "scatter",
           "x": [
            1400,
            1497
           ],
           "y": [
            600,
            416
           ]
          },
          {
           "line": {
            "color": "green",
            "width": 2
           },
           "mode": "lines",
           "type": "scatter",
           "x": [
            200,
            241
           ],
           "y": [
            600,
            595
           ]
          },
          {
           "line": {
            "color": "green",
            "width": 2
           },
           "mode": "lines",
           "type": "scatter",
           "x": [
            1400,
            1450
           ],
           "y": [
            600,
            527
           ]
          },
          {
           "line": {
            "color": "green",
            "width": 2
           },
           "mode": "lines",
           "type": "scatter",
           "x": [
            200,
            170
           ],
           "y": [
            1400,
            1236
           ]
          },
          {
           "line": {
            "color": "green",
            "width": 2
           },
           "mode": "lines",
           "type": "scatter",
           "x": [
            1400,
            1537
           ],
           "y": [
            1000,
            960
           ]
          },
          {
           "line": {
            "color": "red",
            "width": 2
           },
           "mode": "lines",
           "type": "scatter",
           "x": [
            600,
            571
           ],
           "y": [
            600,
            633
           ]
          },
          {
           "line": {
            "color": "red",
            "width": 2
           },
           "mode": "lines",
           "type": "scatter",
           "x": [
            600,
            678
           ],
           "y": [
            1400,
            1089
           ]
          },
          {
           "line": {
            "color": "green",
            "width": 2
           },
           "mode": "lines",
           "type": "scatter",
           "x": [
            1000,
            971
           ],
           "y": [
            600,
            857
           ]
          },
          {
           "line": {
            "color": "green",
            "width": 2
           },
           "mode": "lines",
           "type": "scatter",
           "x": [
            1000,
            950
           ],
           "y": [
            1000,
            912
           ]
          },
          {
           "line": {
            "color": "green",
            "width": 2
           },
           "mode": "lines",
           "type": "scatter",
           "x": [
            200,
            294
           ],
           "y": [
            1400,
            1441
           ]
          },
          {
           "line": {
            "color": "red",
            "width": 2
           },
           "mode": "lines",
           "type": "scatter",
           "x": [
            600,
            652
           ],
           "y": [
            600,
            727
           ]
          },
          {
           "line": {
            "color": "green",
            "width": 2
           },
           "mode": "lines",
           "type": "scatter",
           "x": [
            600,
            773
           ],
           "y": [
            1000,
            805
           ]
          },
          {
           "line": {
            "color": "green",
            "width": 2
           },
           "mode": "lines",
           "type": "scatter",
           "x": [
            200,
            134
           ],
           "y": [
            1000,
            1002
           ]
          },
          {
           "line": {
            "color": "green",
            "width": 2
           },
           "mode": "lines",
           "type": "scatter",
           "x": [
            200,
            156
           ],
           "y": [
            600,
            747
           ]
          },
          {
           "line": {
            "color": "green",
            "width": 2
           },
           "mode": "lines",
           "type": "scatter",
           "x": [
            600,
            593
           ],
           "y": [
            200,
            150
           ]
          },
          {
           "line": {
            "color": "green",
            "width": 2
           },
           "mode": "lines",
           "type": "scatter",
           "x": [
            1000,
            847
           ],
           "y": [
            200,
            77
           ]
          },
          {
           "line": {
            "color": "green",
            "width": 2
           },
           "mode": "lines",
           "type": "scatter",
           "x": [
            1400,
            1393
           ],
           "y": [
            1000,
            846
           ]
          },
          {
           "line": {
            "color": "green",
            "width": 2
           },
           "mode": "lines",
           "type": "scatter",
           "x": [
            600,
            524.7914995803575
           ],
           "y": [
            200,
            221.38883029010432
           ]
          },
          {
           "line": {
            "color": "green",
            "width": 2
           },
           "mode": "lines",
           "type": "scatter",
           "x": [
            200,
            222
           ],
           "y": [
            600,
            632
           ]
          },
          {
           "line": {
            "color": "green",
            "width": 2
           },
           "mode": "lines",
           "type": "scatter",
           "x": [
            1000,
            1178
           ],
           "y": [
            200,
            383
           ]
          },
          {
           "line": {
            "color": "green",
            "width": 2
           },
           "mode": "lines",
           "type": "scatter",
           "x": [
            1400,
            1361
           ],
           "y": [
            1000,
            849
           ]
          },
          {
           "line": {
            "color": "green",
            "width": 2
           },
           "mode": "lines",
           "type": "scatter",
           "x": [
            600,
            754
           ],
           "y": [
            1400,
            1246
           ]
          },
          {
           "line": {
            "color": "green",
            "width": 2
           },
           "mode": "lines",
           "type": "scatter",
           "x": [
            1000,
            829
           ],
           "y": [
            1000,
            1364
           ]
          },
          {
           "line": {
            "color": "green",
            "width": 2
           },
           "mode": "lines",
           "type": "scatter",
           "x": [
            200,
            169
           ],
           "y": [
            1400,
            1469
           ]
          },
          {
           "line": {
            "color": "red",
            "width": 2
           },
           "mode": "lines",
           "type": "scatter",
           "x": [
            600,
            515
           ],
           "y": [
            600,
            898
           ]
          },
          {
           "line": {
            "color": "red",
            "width": 2
           },
           "mode": "lines",
           "type": "scatter",
           "x": [
            1000,
            1022
           ],
           "y": [
            600,
            662
           ]
          },
          {
           "line": {
            "color": "green",
            "width": 2
           },
           "mode": "lines",
           "type": "scatter",
           "x": [
            600,
            596
           ],
           "y": [
            1000,
            672
           ]
          },
          {
           "line": {
            "color": "green",
            "width": 2
           },
           "mode": "lines",
           "type": "scatter",
           "x": [
            200,
            188
           ],
           "y": [
            1400,
            1416
           ]
          },
          {
           "line": {
            "color": "green",
            "width": 2
           },
           "mode": "lines",
           "type": "scatter",
           "x": [
            200,
            196
           ],
           "y": [
            200,
            172
           ]
          },
          {
           "line": {
            "color": "green",
            "width": 2
           },
           "mode": "lines",
           "type": "scatter",
           "x": [
            1400,
            1592
           ],
           "y": [
            1400,
            1460
           ]
          },
          {
           "line": {
            "color": "green",
            "width": 2
           },
           "mode": "lines",
           "type": "scatter",
           "x": [
            1000,
            922
           ],
           "y": [
            600,
            545
           ]
          },
          {
           "line": {
            "color": "green",
            "width": 2
           },
           "mode": "lines",
           "type": "scatter",
           "x": [
            600,
            589
           ],
           "y": [
            1400,
            1069
           ]
          },
          {
           "line": {
            "color": "green",
            "width": 2
           },
           "mode": "lines",
           "type": "scatter",
           "x": [
            600,
            607
           ],
           "y": [
            1400,
            1342
           ]
          },
          {
           "line": {
            "color": "green",
            "width": 2
           },
           "mode": "lines",
           "type": "scatter",
           "x": [
            1400,
            1452
           ],
           "y": [
            200,
            70
           ]
          },
          {
           "line": {
            "color": "red",
            "width": 2
           },
           "mode": "lines",
           "type": "scatter",
           "x": [
            1000,
            798
           ],
           "y": [
            600,
            546
           ]
          },
          {
           "line": {
            "color": "green",
            "width": 2
           },
           "mode": "lines",
           "type": "scatter",
           "x": [
            200,
            336
           ],
           "y": [
            600,
            686
           ]
          },
          {
           "line": {
            "color": "green",
            "width": 2
           },
           "mode": "lines",
           "type": "scatter",
           "x": [
            600,
            428
           ],
           "y": [
            1400,
            1332
           ]
          },
          {
           "line": {
            "color": "green",
            "width": 2
           },
           "mode": "lines",
           "type": "scatter",
           "x": [
            1400,
            1293
           ],
           "y": [
            600,
            578
           ]
          },
          {
           "line": {
            "color": "green",
            "width": 2
           },
           "mode": "lines",
           "type": "scatter",
           "x": [
            1400,
            1253
           ],
           "y": [
            1000,
            1150
           ]
          },
          {
           "line": {
            "color": "red",
            "width": 2
           },
           "mode": "lines",
           "type": "scatter",
           "x": [
            600,
            906
           ],
           "y": [
            600,
            601
           ]
          },
          {
           "line": {
            "color": "red",
            "width": 2
           },
           "mode": "lines",
           "type": "scatter",
           "x": [
            600,
            633
           ],
           "y": [
            200,
            536
           ]
          },
          {
           "line": {
            "color": "green",
            "width": 2
           },
           "mode": "lines",
           "type": "scatter",
           "x": [
            1400,
            1238
           ],
           "y": [
            200,
            212
           ]
          },
          {
           "line": {
            "color": "green",
            "width": 2
           },
           "mode": "lines",
           "type": "scatter",
           "x": [
            200,
            211
           ],
           "y": [
            200,
            101
           ]
          },
          {
           "line": {
            "color": "green",
            "width": 2
           },
           "mode": "lines",
           "type": "scatter",
           "x": [
            1000,
            650
           ],
           "y": [
            1400,
            1450
           ]
          },
          {
           "line": {
            "color": "green",
            "width": 2
           },
           "mode": "lines",
           "type": "scatter",
           "x": [
            200,
            305
           ],
           "y": [
            1400,
            1261
           ]
          },
          {
           "line": {
            "color": "green",
            "width": 2
           },
           "mode": "lines",
           "type": "scatter",
           "x": [
            1000,
            1037
           ],
           "y": [
            1000,
            1085
           ]
          },
          {
           "line": {
            "color": "red",
            "width": 2
           },
           "mode": "lines",
           "type": "scatter",
           "x": [
            1000,
            1063
           ],
           "y": [
            1000,
            997
           ]
          },
          {
           "line": {
            "color": "red",
            "width": 2
           },
           "mode": "lines",
           "type": "scatter",
           "x": [
            600,
            818
           ],
           "y": [
            1000,
            859
           ]
          },
          {
           "line": {
            "color": "red",
            "width": 2
           },
           "mode": "lines",
           "type": "scatter",
           "x": [
            1000,
            957
           ],
           "y": [
            1000,
            673
           ]
          },
          {
           "line": {
            "color": "green",
            "width": 2
           },
           "mode": "lines",
           "type": "scatter",
           "x": [
            1000,
            986
           ],
           "y": [
            1400,
            1466
           ]
          },
          {
           "line": {
            "color": "green",
            "width": 2
           },
           "mode": "lines",
           "type": "scatter",
           "x": [
            1000,
            1084
           ],
           "y": [
            1400,
            1160
           ]
          },
          {
           "line": {
            "color": "green",
            "width": 2
           },
           "mode": "lines",
           "type": "scatter",
           "x": [
            1000,
            989
           ],
           "y": [
            1000,
            804
           ]
          },
          {
           "line": {
            "color": "green",
            "width": 2
           },
           "mode": "lines",
           "type": "scatter",
           "x": [
            1000,
            1138
           ],
           "y": [
            200,
            436
           ]
          },
          {
           "line": {
            "color": "red",
            "width": 2
           },
           "mode": "lines",
           "type": "scatter",
           "x": [
            1000,
            1093
           ],
           "y": [
            1000,
            818
           ]
          },
          {
           "line": {
            "color": "red",
            "width": 2
           },
           "mode": "lines",
           "type": "scatter",
           "x": [
            1000,
            969
           ],
           "y": [
            1000,
            636
           ]
          },
          {
           "line": {
            "color": "green",
            "width": 2
           },
           "mode": "lines",
           "type": "scatter",
           "x": [
            1000,
            1155
           ],
           "y": [
            200,
            436
           ]
          },
          {
           "line": {
            "color": "green",
            "width": 2
           },
           "mode": "lines",
           "type": "scatter",
           "x": [
            1000,
            1178
           ],
           "y": [
            1000,
            756
           ]
          },
          {
           "line": {
            "color": "green",
            "width": 2
           },
           "mode": "lines",
           "type": "scatter",
           "x": [
            600,
            522
           ],
           "y": [
            200,
            268
           ]
          },
          {
           "line": {
            "color": "green",
            "width": 2
           },
           "mode": "lines",
           "type": "scatter",
           "x": [
            1400,
            1316
           ],
           "y": [
            1000,
            864
           ]
          },
          {
           "line": {
            "color": "green",
            "width": 2
           },
           "mode": "lines",
           "type": "scatter",
           "x": [
            600,
            630
           ],
           "y": [
            1400,
            1378
           ]
          },
          {
           "line": {
            "color": "green",
            "width": 2
           },
           "mode": "lines",
           "type": "scatter",
           "x": [
            1000,
            1132
           ],
           "y": [
            1400,
            1461
           ]
          },
          {
           "line": {
            "color": "green",
            "width": 2
           },
           "mode": "lines",
           "type": "scatter",
           "x": [
            600,
            731
           ],
           "y": [
            1000,
            779
           ]
          },
          {
           "line": {
            "color": "green",
            "width": 2
           },
           "mode": "lines",
           "type": "scatter",
           "x": [
            200,
            199
           ],
           "y": [
            600,
            745
           ]
          },
          {
           "line": {
            "color": "green",
            "width": 2
           },
           "mode": "lines",
           "type": "scatter",
           "x": [
            600,
            514
           ],
           "y": [
            200,
            139
           ]
          },
          {
           "line": {
            "color": "red",
            "width": 2
           },
           "mode": "lines",
           "type": "scatter",
           "x": [
            600,
            674
           ],
           "y": [
            1000,
            885
           ]
          },
          {
           "line": {
            "color": "green",
            "width": 2
           },
           "mode": "lines",
           "type": "scatter",
           "x": [
            200,
            247
           ],
           "y": [
            1000,
            943
           ]
          },
          {
           "line": {
            "color": "green",
            "width": 2
           },
           "mode": "lines",
           "type": "scatter",
           "x": [
            1400,
            1529
           ],
           "y": [
            1000,
            1119
           ]
          },
          {
           "line": {
            "color": "green",
            "width": 2
           },
           "mode": "lines",
           "type": "scatter",
           "x": [
            200,
            193
           ],
           "y": [
            1000,
            914
           ]
          },
          {
           "line": {
            "color": "green",
            "width": 2
           },
           "mode": "lines",
           "type": "scatter",
           "x": [
            1000,
            1067
           ],
           "y": [
            600,
            527
           ]
          },
          {
           "line": {
            "color": "green",
            "width": 2
           },
           "mode": "lines",
           "type": "scatter",
           "x": [
            1000,
            1083
           ],
           "y": [
            200,
            145
           ]
          },
          {
           "line": {
            "color": "green",
            "width": 2
           },
           "mode": "lines",
           "type": "scatter",
           "x": [
            200,
            208
           ],
           "y": [
            1400,
            1257
           ]
          },
          {
           "line": {
            "color": "green",
            "width": 2
           },
           "mode": "lines",
           "type": "scatter",
           "x": [
            200,
            230
           ],
           "y": [
            1400,
            1591
           ]
          },
          {
           "line": {
            "color": "green",
            "width": 2
           },
           "mode": "lines",
           "type": "scatter",
           "x": [
            1000,
            845
           ],
           "y": [
            1000,
            1148
           ]
          },
          {
           "line": {
            "color": "red",
            "width": 2
           },
           "mode": "lines",
           "type": "scatter",
           "x": [
            1000,
            634
           ],
           "y": [
            600,
            629
           ]
          },
          {
           "line": {
            "color": "green",
            "width": 2
           },
           "mode": "lines",
           "type": "scatter",
           "x": [
            1000,
            1118
           ],
           "y": [
            1000,
            911
           ]
          },
          {
           "line": {
            "color": "black",
            "width": 2
           },
           "mode": "lines",
           "type": "scatter",
           "x": [
            812,
            812
           ],
           "y": [
            0,
            1600
           ]
          },
          {
           "line": {
            "color": "black",
            "width": 2
           },
           "mode": "lines",
           "type": "scatter",
           "x": [
            812,
            912
           ],
           "y": [
            1600,
            1600
           ]
          },
          {
           "line": {
            "color": "black",
            "width": 2
           },
           "mode": "lines",
           "type": "scatter",
           "x": [
            912,
            912
           ],
           "y": [
            1600,
            0
           ]
          },
          {
           "line": {
            "color": "black",
            "width": 2
           },
           "mode": "lines",
           "type": "scatter",
           "x": [
            812,
            912
           ],
           "y": [
            0,
            0
           ]
          },
          {
           "line": {
            "color": "black",
            "width": 2
           },
           "mode": "lines",
           "type": "scatter",
           "x": [
            0,
            0
           ],
           "y": [
            257,
            357
           ]
          },
          {
           "line": {
            "color": "black",
            "width": 2
           },
           "mode": "lines",
           "type": "scatter",
           "x": [
            0,
            1600
           ],
           "y": [
            357,
            357
           ]
          },
          {
           "line": {
            "color": "black",
            "width": 2
           },
           "mode": "lines",
           "type": "scatter",
           "x": [
            1600,
            1600
           ],
           "y": [
            357,
            257
           ]
          },
          {
           "line": {
            "color": "black",
            "width": 2
           },
           "mode": "lines",
           "type": "scatter",
           "x": [
            0,
            1600
           ],
           "y": [
            257,
            257
           ]
          },
          {
           "line": {
            "color": "black",
            "width": 2
           },
           "mode": "lines",
           "type": "scatter",
           "x": [
            0,
            0
           ],
           "y": [
            85,
            185
           ]
          },
          {
           "line": {
            "color": "black",
            "width": 2
           },
           "mode": "lines",
           "type": "scatter",
           "x": [
            0,
            1600
           ],
           "y": [
            185,
            185
           ]
          },
          {
           "line": {
            "color": "black",
            "width": 2
           },
           "mode": "lines",
           "type": "scatter",
           "x": [
            1600,
            1600
           ],
           "y": [
            185,
            85
           ]
          },
          {
           "line": {
            "color": "black",
            "width": 2
           },
           "mode": "lines",
           "type": "scatter",
           "x": [
            0,
            1600
           ],
           "y": [
            85,
            85
           ]
          },
          {
           "line": {
            "color": "black",
            "width": 2
           },
           "mode": "lines",
           "type": "scatter",
           "x": [
            465,
            465
           ],
           "y": [
            80,
            260
           ]
          },
          {
           "line": {
            "color": "black",
            "width": 2
           },
           "mode": "lines",
           "type": "scatter",
           "x": [
            465,
            556
           ],
           "y": [
            260,
            260
           ]
          },
          {
           "line": {
            "color": "black",
            "width": 2
           },
           "mode": "lines",
           "type": "scatter",
           "x": [
            556,
            556
           ],
           "y": [
            260,
            80
           ]
          },
          {
           "line": {
            "color": "black",
            "width": 2
           },
           "mode": "lines",
           "type": "scatter",
           "x": [
            465,
            556
           ],
           "y": [
            80,
            80
           ]
          },
          {
           "marker": {
            "color": [
             "orange",
             "orange",
             "orange",
             "orange",
             "orange",
             "orange",
             "orange",
             "orange",
             "orange",
             "orange",
             "orange",
             "orange",
             "orange",
             "orange",
             "orange",
             "orange",
             "blue",
             "magenta",
             "magenta",
             "blue",
             "magenta",
             "magenta",
             "magenta",
             "blue",
             "magenta",
             "magenta",
             "magenta",
             "magenta",
             "blue",
             "magenta",
             "blue",
             "magenta",
             "blue",
             "blue",
             "blue",
             "magenta",
             "blue",
             "magenta",
             "magenta",
             "magenta",
             "magenta",
             "magenta",
             "blue",
             "magenta",
             "blue",
             "magenta",
             "magenta",
             "magenta",
             "magenta",
             "blue",
             "blue",
             "magenta",
             "magenta",
             "magenta",
             "magenta",
             "magenta",
             "blue",
             "magenta",
             "magenta",
             "blue",
             "blue",
             "magenta",
             "magenta",
             "magenta",
             "magenta",
             "magenta",
             "blue",
             "blue",
             "magenta",
             "magenta",
             "magenta",
             "magenta",
             "magenta",
             "magenta",
             "magenta",
             "magenta",
             "magenta",
             "magenta",
             "magenta",
             "magenta",
             "magenta",
             "magenta",
             "blue",
             "magenta",
             "blue",
             "magenta",
             "magenta",
             "magenta",
             "blue",
             "magenta",
             "magenta",
             "magenta",
             "blue",
             "magenta",
             "magenta",
             "blue",
             "blue",
             "blue",
             "blue",
             "magenta",
             "magenta",
             "magenta",
             "magenta",
             "magenta",
             "magenta",
             "magenta",
             "magenta",
             "blue",
             "magenta",
             "magenta",
             "magenta",
             "magenta",
             "magenta",
             "blue",
             "magenta",
             "blue",
             "magenta",
             "magenta",
             "blue",
             "magenta",
             "magenta",
             "magenta",
             "magenta",
             "magenta",
             "magenta",
             "magenta",
             "magenta",
             "magenta",
             "magenta",
             "magenta",
             "magenta",
             "magenta",
             "magenta",
             "blue",
             "magenta",
             "magenta",
             "magenta",
             "blue",
             "magenta",
             "magenta",
             "magenta",
             "magenta",
             "magenta",
             "magenta",
             "magenta",
             "magenta",
             "blue",
             "blue",
             "magenta",
             "magenta",
             "magenta",
             "blue",
             "magenta",
             "magenta",
             "magenta",
             "magenta",
             "magenta",
             "magenta",
             "magenta",
             "magenta",
             "magenta",
             "magenta",
             "magenta",
             "magenta",
             "magenta",
             "blue",
             "blue",
             "magenta",
             "magenta",
             "magenta",
             "magenta",
             "magenta",
             "magenta",
             "magenta",
             "magenta",
             "blue",
             "magenta",
             "magenta",
             "magenta",
             "magenta",
             "blue",
             "blue",
             "magenta",
             "magenta",
             "magenta",
             "magenta",
             "magenta",
             "blue",
             "blue",
             "blue",
             "magenta",
             "magenta",
             "magenta",
             "magenta",
             "blue",
             "blue",
             "magenta",
             "magenta",
             "magenta",
             "magenta",
             "magenta",
             "magenta",
             "magenta",
             "magenta",
             "magenta",
             "blue",
             "magenta",
             "magenta",
             "magenta",
             "magenta",
             "magenta",
             "magenta",
             "magenta",
             "magenta",
             "blue",
             "magenta",
             "black",
             "black",
             "black",
             "black",
             "black",
             "black",
             "black",
             "black",
             "black",
             "black",
             "black",
             "black",
             "black",
             "black",
             "black",
             "black"
            ],
            "size": 8
           },
           "mode": "markers",
           "type": "scatter",
           "x": [
            200,
            200,
            200,
            200,
            600,
            600,
            600,
            600,
            1000,
            1000,
            1000,
            1000,
            1400,
            1400,
            1400,
            1400,
            952,
            1166,
            1177,
            1041,
            1379,
            446,
            13,
            601,
            708,
            1437,
            594,
            1294,
            529,
            1446,
            604,
            1497,
            959,
            748,
            693,
            703,
            704,
            370,
            919,
            35,
            861,
            1024,
            940,
            1599,
            666,
            269,
            1026,
            896,
            1525,
            1070,
            582,
            142,
            1492,
            1127,
            718,
            1098,
            700,
            1500,
            970,
            919,
            590,
            202,
            1336,
            51,
            48,
            1051,
            652,
            682,
            202,
            208,
            660,
            1028,
            1153,
            924,
            745,
            1195,
            1103,
            942,
            619,
            899,
            672,
            147,
            546,
            119,
            897,
            1490,
            802,
            1184,
            613,
            1168,
            272,
            539,
            816,
            1378,
            628,
            836,
            851,
            607,
            840,
            1093,
            338,
            84,
            517,
            354,
            351,
            1143,
            170,
            768,
            1407,
            1446,
            826,
            1584,
            1067,
            537,
            514,
            589,
            819,
            346,
            795,
            341,
            892,
            83,
            136,
            44,
            207,
            259,
            1553,
            993,
            1525,
            786,
            415,
            197,
            1139,
            521,
            694,
            1381,
            1240,
            1058,
            300,
            699,
            573,
            1497,
            241,
            1450,
            170,
            1537,
            571,
            678,
            971,
            950,
            294,
            652,
            773,
            134,
            156,
            593,
            847,
            1393,
            524.7914995803575,
            222,
            1178,
            1361,
            754,
            829,
            169,
            515,
            1022,
            596,
            188,
            196,
            1592,
            922,
            589,
            607,
            1452,
            798,
            336,
            428,
            1293,
            1253,
            906,
            633,
            1238,
            211,
            650,
            305,
            1037,
            1063,
            818,
            957,
            986,
            1084,
            989,
            1138,
            1093,
            969,
            1155,
            1178,
            522,
            1316,
            630,
            1132,
            731,
            199,
            514,
            674,
            247,
            1529,
            193,
            1067,
            1083,
            208,
            230,
            845,
            634,
            1118,
            812,
            812,
            912,
            912,
            0,
            0,
            1600,
            1600,
            0,
            0,
            1600,
            1600,
            465,
            465,
            556,
            556
           ],
           "y": [
            200,
            600,
            1000,
            1400,
            200,
            600,
            1000,
            1400,
            200,
            600,
            1000,
            1400,
            200,
            600,
            1000,
            1400,
            529,
            584,
            1289,
            1007,
            796,
            293,
            756,
            796,
            969,
            298,
            1203,
            424,
            560,
            657,
            502,
            148,
            917,
            662,
            1039,
            276,
            957,
            236,
            1158,
            503,
            828,
            376,
            628,
            1172,
            832,
            870,
            1577,
            1302,
            1131,
            854,
            1098,
            128,
            1295,
            516,
            121,
            1057,
            539,
            811,
            904,
            635,
            511,
            169,
            291,
            917,
            715,
            656,
            942,
            937,
            559,
            154,
            1205,
            1588,
            1464,
            751,
            78,
            1439,
            1065,
            1501,
            1197,
            154,
            1074,
            332,
            860,
            442,
            909,
            14,
            1120,
            1062,
            940,
            940,
            1065,
            815,
            967,
            1304,
            782,
            703,
            796,
            685,
            703,
            361,
            138,
            689,
            277,
            606,
            1597,
            117,
            945,
            1030,
            618,
            133,
            1569,
            1050,
            804,
            1097,
            825,
            967,
            522,
            970,
            548,
            569,
            179,
            906,
            1079,
            511,
            1567,
            474,
            701,
            1547,
            287,
            334,
            34,
            215,
            577,
            951,
            1242,
            595,
            1186,
            990,
            1507,
            537,
            1451,
            416,
            595,
            527,
            1236,
            960,
            633,
            1089,
            857,
            912,
            1441,
            727,
            805,
            1002,
            747,
            150,
            77,
            846,
            221.38883029010432,
            632,
            383,
            849,
            1246,
            1364,
            1469,
            898,
            662,
            672,
            1416,
            172,
            1460,
            545,
            1069,
            1342,
            70,
            546,
            686,
            1332,
            578,
            1150,
            601,
            536,
            212,
            101,
            1450,
            1261,
            1085,
            997,
            859,
            673,
            1466,
            1160,
            804,
            436,
            818,
            636,
            436,
            756,
            268,
            864,
            1378,
            1461,
            779,
            745,
            139,
            885,
            943,
            1119,
            914,
            527,
            145,
            1257,
            1591,
            1148,
            629,
            911,
            0,
            1600,
            1600,
            0,
            257,
            357,
            357,
            257,
            85,
            185,
            185,
            85,
            80,
            260,
            260,
            80
           ]
          }
         ]
        },
        {
         "data": [
          {
           "line": {
            "color": "red",
            "width": 2
           },
           "mode": "lines",
           "type": "scatter",
           "x": [
            600,
            952
           ],
           "y": [
            600,
            531
           ]
          },
          {
           "line": {
            "color": "green",
            "width": 2
           },
           "mode": "lines",
           "type": "scatter",
           "x": [
            1000,
            1165
           ],
           "y": [
            600,
            585
           ]
          },
          {
           "line": {
            "color": "green",
            "width": 2
           },
           "mode": "lines",
           "type": "scatter",
           "x": [
            1000,
            1176
           ],
           "y": [
            1400,
            1291
           ]
          },
          {
           "line": {
            "color": "red",
            "width": 2
           },
           "mode": "lines",
           "type": "scatter",
           "x": [
            1000,
            1042
           ],
           "y": [
            1000,
            1005
           ]
          },
          {
           "line": {
            "color": "green",
            "width": 2
           },
           "mode": "lines",
           "type": "scatter",
           "x": [
            1400,
            1381
           ],
           "y": [
            600,
            795
           ]
          },
          {
           "line": {
            "color": "green",
            "width": 2
           },
           "mode": "lines",
           "type": "scatter",
           "x": [
            600,
            388
           ],
           "y": [
            200,
            293
           ]
          },
          {
           "line": {
            "color": "green",
            "width": 2
           },
           "mode": "lines",
           "type": "scatter",
           "x": [
            200,
            14
           ],
           "y": [
            1000,
            758
           ]
          },
          {
           "line": {
            "color": "red",
            "width": 2
           },
           "mode": "lines",
           "type": "scatter",
           "x": [
            1000,
            602
           ],
           "y": [
            600,
            794
           ]
          },
          {
           "line": {
            "color": "green",
            "width": 2
           },
           "mode": "lines",
           "type": "scatter",
           "x": [
            600,
            707
           ],
           "y": [
            1000,
            967
           ]
          },
          {
           "line": {
            "color": "green",
            "width": 2
           },
           "mode": "lines",
           "type": "scatter",
           "x": [
            1400,
            1468
           ],
           "y": [
            200,
            298
           ]
          },
          {
           "line": {
            "color": "green",
            "width": 2
           },
           "mode": "lines",
           "type": "scatter",
           "x": [
            600,
            592
           ],
           "y": [
            1400,
            1203
           ]
          },
          {
           "line": {
            "color": "green",
            "width": 2
           },
           "mode": "lines",
           "type": "scatter",
           "x": [
            1400,
            1294
           ],
           "y": [
            600,
            422
           ]
          },
          {
           "line": {
            "color": "red",
            "width": 2
           },
           "mode": "lines",
           "type": "scatter",
           "x": [
            200,
            529
           ],
           "y": [
            600,
            558
           ]
          },
          {
           "line": {
            "color": "green",
            "width": 2
           },
           "mode": "lines",
           "type": "scatter",
           "x": [
            1400,
            1445
           ],
           "y": [
            1000,
            655
           ]
          },
          {
           "line": {
            "color": "red",
            "width": 2
           },
           "mode": "lines",
           "type": "scatter",
           "x": [
            600,
            605
           ],
           "y": [
            200,
            504
           ]
          },
          {
           "line": {
            "color": "green",
            "width": 2
           },
           "mode": "lines",
           "type": "scatter",
           "x": [
            1400,
            1524
           ],
           "y": [
            200,
            148
           ]
          },
          {
           "line": {
            "color": "red",
            "width": 2
           },
           "mode": "lines",
           "type": "scatter",
           "x": [
            1000,
            959
           ],
           "y": [
            1000,
            919
           ]
          },
          {
           "line": {
            "color": "red",
            "width": 2
           },
           "mode": "lines",
           "type": "scatter",
           "x": [
            1000,
            749
           ],
           "y": [
            600,
            664
           ]
          },
          {
           "line": {
            "color": "green",
            "width": 2
           },
           "mode": "lines",
           "type": "scatter",
           "x": [
            600,
            693
           ],
           "y": [
            1000,
            1037
           ]
          },
          {
           "line": {
            "color": "green",
            "width": 2
           },
           "mode": "lines",
           "type": "scatter",
           "x": [
            600,
            648
           ],
           "y": [
            200,
            276
           ]
          },
          {
           "line": {
            "color": "green",
            "width": 2
           },
           "mode": "lines",
           "type": "scatter",
           "x": [
            600,
            705
           ],
           "y": [
            1000,
            959
           ]
          },
          {
           "line": {
            "color": "green",
            "width": 2
           },
           "mode": "lines",
           "type": "scatter",
           "x": [
            200,
            372
           ],
           "y": [
            200,
            236
           ]
          },
          {
           "line": {
            "color": "green",
            "width": 2
           },
           "mode": "lines",
           "type": "scatter",
           "x": [
            1000,
            921
           ],
           "y": [
            1000,
            1158
           ]
          },
          {
           "line": {
            "color": "green",
            "width": 2
           },
           "mode": "lines",
           "type": "scatter",
           "x": [
            200,
            37
           ],
           "y": [
            600,
            504
           ]
          },
          {
           "line": {
            "color": "green",
            "width": 2
           },
           "mode": "lines",
           "type": "scatter",
           "x": [
            1000,
            861
           ],
           "y": [
            1000,
            781
           ]
          },
          {
           "line": {
            "color": "green",
            "width": 2
           },
           "mode": "lines",
           "type": "scatter",
           "x": [
            1400,
            1026
           ],
           "y": [
            600,
            376
           ]
          },
          {
           "line": {
            "color": "red",
            "width": 2
           },
           "mode": "lines",
           "type": "scatter",
           "x": [
            1000,
            940
           ],
           "y": [
            600,
            626
           ]
          },
          {
           "line": {
            "color": "green",
            "width": 2
           },
           "mode": "lines",
           "type": "scatter",
           "x": [
            1400,
            1597
           ],
           "y": [
            1000,
            1173
           ]
          },
          {
           "line": {
            "color": "red",
            "width": 2
           },
           "mode": "lines",
           "type": "scatter",
           "x": [
            600,
            668
           ],
           "y": [
            600,
            833
           ]
          },
          {
           "line": {
            "color": "green",
            "width": 2
           },
           "mode": "lines",
           "type": "scatter",
           "x": [
            200,
            271
           ],
           "y": [
            1000,
            869
           ]
          },
          {
           "line": {
            "color": "green",
            "width": 2
           },
           "mode": "lines",
           "type": "scatter",
           "x": [
            1400,
            1027
           ],
           "y": [
            1400,
            1575
           ]
          },
          {
           "line": {
            "color": "green",
            "width": 2
           },
           "mode": "lines",
           "type": "scatter",
           "x": [
            1000,
            896
           ],
           "y": [
            1400,
            1263
           ]
          },
          {
           "line": {
            "color": "green",
            "width": 2
           },
           "mode": "lines",
           "type": "scatter",
           "x": [
            1400,
            1525
           ],
           "y": [
            1000,
            1129
           ]
          },
          {
           "line": {
            "color": "red",
            "width": 2
           },
           "mode": "lines",
           "type": "scatter",
           "x": [
            1000,
            1071
           ],
           "y": [
            600,
            855
           ]
          },
          {
           "line": {
            "color": "green",
            "width": 2
           },
           "mode": "lines",
           "type": "scatter",
           "x": [
            200,
            582
           ],
           "y": [
            1400,
            1100
           ]
          },
          {
           "line": {
            "color": "green",
            "width": 2
           },
           "mode": "lines",
           "type": "scatter",
           "x": [
            200,
            169
           ],
           "y": [
            200,
            128
           ]
          },
          {
           "line": {
            "color": "green",
            "width": 2
           },
           "mode": "lines",
           "type": "scatter",
           "x": [
            1400,
            1494
           ],
           "y": [
            1400,
            1295
           ]
          },
          {
           "line": {
            "color": "green",
            "width": 2
           },
           "mode": "lines",
           "type": "scatter",
           "x": [
            1000,
            1126
           ],
           "y": [
            600,
            518
           ]
          },
          {
           "line": {
            "color": "green",
            "width": 2
           },
           "mode": "lines",
           "type": "scatter",
           "x": [
            600,
            671
           ],
           "y": [
            200,
            121
           ]
          },
          {
           "line": {
            "color": "green",
            "width": 2
           },
           "mode": "lines",
           "type": "scatter",
           "x": [
            1400,
            1100
           ],
           "y": [
            1400,
            1058
           ]
          },
          {
           "line": {
            "color": "red",
            "width": 2
           },
           "mode": "lines",
           "type": "scatter",
           "x": [
            600,
            698
           ],
           "y": [
            200,
            540
           ]
          },
          {
           "line": {
            "color": "green",
            "width": 2
           },
           "mode": "lines",
           "type": "scatter",
           "x": [
            1400,
            1500
           ],
           "y": [
            1000,
            809
           ]
          },
          {
           "line": {
            "color": "green",
            "width": 2
           },
           "mode": "lines",
           "type": "scatter",
           "x": [
            1000,
            968
           ],
           "y": [
            1000,
            905
           ]
          },
          {
           "line": {
            "color": "red",
            "width": 2
           },
           "mode": "lines",
           "type": "scatter",
           "x": [
            1000,
            921
           ],
           "y": [
            600,
            635
           ]
          },
          {
           "line": {
            "color": "red",
            "width": 2
           },
           "mode": "lines",
           "type": "scatter",
           "x": [
            200,
            592
           ],
           "y": [
            600,
            511
           ]
          },
          {
           "line": {
            "color": "green",
            "width": 2
           },
           "mode": "lines",
           "type": "scatter",
           "x": [
            200,
            225
           ],
           "y": [
            200,
            169
           ]
          },
          {
           "line": {
            "color": "green",
            "width": 2
           },
           "mode": "lines",
           "type": "scatter",
           "x": [
            1400,
            1280
           ],
           "y": [
            200,
            291
           ]
          },
          {
           "line": {
            "color": "green",
            "width": 2
           },
           "mode": "lines",
           "type": "scatter",
           "x": [
            200,
            50
           ],
           "y": [
            1000,
            918
           ]
          },
          {
           "line": {
            "color": "green",
            "width": 2
           },
           "mode": "lines",
           "type": "scatter",
           "x": [
            200,
            46
           ],
           "y": [
            1000,
            714
           ]
          },
          {
           "line": {
            "color": "green",
            "width": 2
           },
           "mode": "lines",
           "type": "scatter",
           "x": [
            1000,
            1050
           ],
           "y": [
            1000,
            654
           ]
          },
          {
           "line": {
            "color": "red",
            "width": 2
           },
           "mode": "lines",
           "type": "scatter",
           "x": [
            1000,
            654
           ],
           "y": [
            1000,
            943
           ]
          },
          {
           "line": {
            "color": "red",
            "width": 2
           },
           "mode": "lines",
           "type": "scatter",
           "x": [
            1000,
            680
           ],
           "y": [
            1000,
            937
           ]
          },
          {
           "line": {
            "color": "green",
            "width": 2
           },
           "mode": "lines",
           "type": "scatter",
           "x": [
            200,
            204
           ],
           "y": [
            600,
            558
           ]
          },
          {
           "line": {
            "color": "green",
            "width": 2
           },
           "mode": "lines",
           "type": "scatter",
           "x": [
            600,
            167
           ],
           "y": [
            200,
            154
           ]
          },
          {
           "line": {
            "color": "green",
            "width": 2
           },
           "mode": "lines",
           "type": "scatter",
           "x": [
            600,
            660
           ],
           "y": [
            1400,
            1203
           ]
          },
          {
           "line": {
            "color": "green",
            "width": 2
           },
           "mode": "lines",
           "type": "scatter",
           "x": [
            1000,
            1029
           ],
           "y": [
            1400,
            1586
           ]
          },
          {
           "line": {
            "color": "green",
            "width": 2
           },
           "mode": "lines",
           "type": "scatter",
           "x": [
            1000,
            1155
           ],
           "y": [
            1400,
            1464
           ]
          },
          {
           "line": {
            "color": "green",
            "width": 2
           },
           "mode": "lines",
           "type": "scatter",
           "x": [
            1000,
            923
           ],
           "y": [
            1000,
            752
           ]
          },
          {
           "line": {
            "color": "green",
            "width": 2
           },
           "mode": "lines",
           "type": "scatter",
           "x": [
            600,
            743
           ],
           "y": [
            200,
            77
           ]
          },
          {
           "line": {
            "color": "green",
            "width": 2
           },
           "mode": "lines",
           "type": "scatter",
           "x": [
            1000,
            1193
           ],
           "y": [
            1400,
            1438
           ]
          },
          {
           "line": {
            "color": "green",
            "width": 2
           },
           "mode": "lines",
           "type": "scatter",
           "x": [
            1000,
            1102
           ],
           "y": [
            1000,
            1066
           ]
          },
          {
           "line": {
            "color": "green",
            "width": 2
           },
           "mode": "lines",
           "type": "scatter",
           "x": [
            600,
            943
           ],
           "y": [
            1400,
            1503
           ]
          },
          {
           "line": {
            "color": "green",
            "width": 2
           },
           "mode": "lines",
           "type": "scatter",
           "x": [
            600,
            618
           ],
           "y": [
            1400,
            1198
           ]
          },
          {
           "line": {
            "color": "green",
            "width": 2
           },
           "mode": "lines",
           "type": "scatter",
           "x": [
            600,
            872
           ],
           "y": [
            200,
            154
           ]
          },
          {
           "line": {
            "color": "green",
            "width": 2
           },
           "mode": "lines",
           "type": "scatter",
           "x": [
            600,
            671
           ],
           "y": [
            1400,
            1076
           ]
          },
          {
           "line": {
            "color": "green",
            "width": 2
           },
           "mode": "lines",
           "type": "scatter",
           "x": [
            200,
            191
           ],
           "y": [
            600,
            332
           ]
          },
          {
           "line": {
            "color": "green",
            "width": 2
           },
           "mode": "lines",
           "type": "scatter",
           "x": [
            600,
            546
           ],
           "y": [
            1000,
            858
           ]
          },
          {
           "line": {
            "color": "green",
            "width": 2
           },
           "mode": "lines",
           "type": "scatter",
           "x": [
            200,
            120
           ],
           "y": [
            600,
            444
           ]
          },
          {
           "line": {
            "color": "red",
            "width": 2
           },
           "mode": "lines",
           "type": "scatter",
           "x": [
            1000,
            897
           ],
           "y": [
            1000,
            953
           ]
          },
          {
           "line": {
            "color": "green",
            "width": 2
           },
           "mode": "lines",
           "type": "scatter",
           "x": [
            1400,
            1489
           ],
           "y": [
            200,
            16
           ]
          },
          {
           "line": {
            "color": "green",
            "width": 2
           },
           "mode": "lines",
           "type": "scatter",
           "x": [
            1000,
            802
           ],
           "y": [
            1000,
            1122
           ]
          },
          {
           "line": {
            "color": "green",
            "width": 2
           },
           "mode": "lines",
           "type": "scatter",
           "x": [
            1400,
            1182
           ],
           "y": [
            1000,
            1061
           ]
          },
          {
           "line": {
            "color": "green",
            "width": 2
           },
           "mode": "lines",
           "type": "scatter",
           "x": [
            600,
            615
           ],
           "y": [
            1000,
            940
           ]
          },
          {
           "line": {
            "color": "green",
            "width": 2
           },
           "mode": "lines",
           "type": "scatter",
           "x": [
            1400,
            1170
           ],
           "y": [
            1000,
            939
           ]
          },
          {
           "line": {
            "color": "green",
            "width": 2
           },
           "mode": "lines",
           "type": "scatter",
           "x": [
            200,
            273
           ],
           "y": [
            1000,
            1063
           ]
          },
          {
           "line": {
            "color": "green",
            "width": 2
           },
           "mode": "lines",
           "type": "scatter",
           "x": [
            600,
            538
           ],
           "y": [
            600,
            813
           ]
          },
          {
           "line": {
            "color": "red",
            "width": 2
           },
           "mode": "lines",
           "type": "scatter",
           "x": [
            1000,
            816
           ],
           "y": [
            1000,
            908
           ]
          },
          {
           "line": {
            "color": "green",
            "width": 2
           },
           "mode": "lines",
           "type": "scatter",
           "x": [
            1400,
            1378
           ],
           "y": [
            1400,
            1306
           ]
          },
          {
           "line": {
            "color": "green",
            "width": 2
           },
           "mode": "lines",
           "type": "scatter",
           "x": [
            600,
            626
           ],
           "y": [
            1000,
            783
           ]
          },
          {
           "line": {
            "color": "red",
            "width": 2
           },
           "mode": "lines",
           "type": "scatter",
           "x": [
            1000,
            836
           ],
           "y": [
            1000,
            752
           ]
          },
          {
           "line": {
            "color": "red",
            "width": 2
           },
           "mode": "lines",
           "type": "scatter",
           "x": [
            1000,
            851
           ],
           "y": [
            1000,
            754
           ]
          },
          {
           "line": {
            "color": "red",
            "width": 2
           },
           "mode": "lines",
           "type": "scatter",
           "x": [
            600,
            608
           ],
           "y": [
            600,
            683
           ]
          },
          {
           "line": {
            "color": "red",
            "width": 2
           },
           "mode": "lines",
           "type": "scatter",
           "x": [
            600,
            840
           ],
           "y": [
            600,
            673
           ]
          },
          {
           "line": {
            "color": "green",
            "width": 2
           },
           "mode": "lines",
           "type": "scatter",
           "x": [
            1000,
            1093
           ],
           "y": [
            200,
            359
           ]
          },
          {
           "line": {
            "color": "green",
            "width": 2
           },
           "mode": "lines",
           "type": "scatter",
           "x": [
            200,
            387
           ],
           "y": [
            200,
            138
           ]
          },
          {
           "line": {
            "color": "green",
            "width": 2
           },
           "mode": "lines",
           "type": "scatter",
           "x": [
            200,
            85
           ],
           "y": [
            600,
            687
           ]
          },
          {
           "line": {
            "color": "green",
            "width": 2
           },
           "mode": "lines",
           "type": "scatter",
           "x": [
            600,
            543
           ],
           "y": [
            200,
            277
           ]
          },
          {
           "line": {
            "color": "green",
            "width": 2
           },
           "mode": "lines",
           "type": "scatter",
           "x": [
            200,
            353
           ],
           "y": [
            600,
            604
           ]
          },
          {
           "line": {
            "color": "green",
            "width": 2
           },
           "mode": "lines",
           "type": "scatter",
           "x": [
            200,
            350
           ],
           "y": [
            1400,
            1595
           ]
          },
          {
           "line": {
            "color": "green",
            "width": 2
           },
           "mode": "lines",
           "type": "scatter",
           "x": [
            1000,
            1178
           ],
           "y": [
            200,
            117
           ]
          },
          {
           "line": {
            "color": "green",
            "width": 2
           },
           "mode": "lines",
           "type": "scatter",
           "x": [
            200,
            170
           ],
           "y": [
            600,
            943
           ]
          },
          {
           "line": {
            "color": "red",
            "width": 2
           },
           "mode": "lines",
           "type": "scatter",
           "x": [
            1000,
            767
           ],
           "y": [
            1000,
            1032
           ]
          },
          {
           "line": {
            "color": "green",
            "width": 2
           },
           "mode": "lines",
           "type": "scatter",
           "x": [
            1400,
            1405
           ],
           "y": [
            1000,
            617
           ]
          },
          {
           "line": {
            "color": "green",
            "width": 2
           },
           "mode": "lines",
           "type": "scatter",
           "x": [
            1400,
            1419
           ],
           "y": [
            200,
            133
           ]
          },
          {
           "line": {
            "color": "green",
            "width": 2
           },
           "mode": "lines",
           "type": "scatter",
           "x": [
            1000,
            826
           ],
           "y": [
            1400,
            1599
           ]
          },
          {
           "line": {
            "color": "green",
            "width": 2
           },
           "mode": "lines",
           "type": "scatter",
           "x": [
            1400,
            1585
           ],
           "y": [
            1400,
            1049
           ]
          },
          {
           "line": {
            "color": "green",
            "width": 2
           },
           "mode": "lines",
           "type": "scatter",
           "x": [
            1000,
            1065
           ],
           "y": [
            600,
            803
           ]
          },
          {
           "line": {
            "color": "red",
            "width": 2
           },
           "mode": "lines",
           "type": "scatter",
           "x": [
            600,
            535
           ],
           "y": [
            1400,
            1097
           ]
          },
          {
           "line": {
            "color": "green",
            "width": 2
           },
           "mode": "lines",
           "type": "scatter",
           "x": [
            200,
            512
           ],
           "y": [
            600,
            824
           ]
          },
          {
           "line": {
            "color": "green",
            "width": 2
           },
           "mode": "lines",
           "type": "scatter",
           "x": [
            600,
            590
           ],
           "y": [
            1000,
            965
           ]
          },
          {
           "line": {
            "color": "green",
            "width": 2
           },
           "mode": "lines",
           "type": "scatter",
           "x": [
            600,
            819
           ],
           "y": [
            600,
            568
           ]
          },
          {
           "line": {
            "color": "green",
            "width": 2
           },
           "mode": "lines",
           "type": "scatter",
           "x": [
            200,
            346
           ],
           "y": [
            1000,
            972
           ]
          },
          {
           "line": {
            "color": "red",
            "width": 2
           },
           "mode": "lines",
           "type": "scatter",
           "x": [
            600,
            793
           ],
           "y": [
            600,
            549
           ]
          },
          {
           "line": {
            "color": "green",
            "width": 2
           },
           "mode": "lines",
           "type": "scatter",
           "x": [
            200,
            339
           ],
           "y": [
            600,
            570
           ]
          },
          {
           "line": {
            "color": "green",
            "width": 2
           },
           "mode": "lines",
           "type": "scatter",
           "x": [
            1000,
            862
           ],
           "y": [
            200,
            179
           ]
          },
          {
           "line": {
            "color": "green",
            "width": 2
           },
           "mode": "lines",
           "type": "scatter",
           "x": [
            200,
            84
           ],
           "y": [
            600,
            905
           ]
          },
          {
           "line": {
            "color": "green",
            "width": 2
           },
           "mode": "lines",
           "type": "scatter",
           "x": [
            200,
            137
           ],
           "y": [
            1000,
            1081
           ]
          },
          {
           "line": {
            "color": "green",
            "width": 2
           },
           "mode": "lines",
           "type": "scatter",
           "x": [
            200,
            43
           ],
           "y": [
            600,
            512
           ]
          },
          {
           "line": {
            "color": "green",
            "width": 2
           },
           "mode": "lines",
           "type": "scatter",
           "x": [
            200,
            205
           ],
           "y": [
            1400,
            1567
           ]
          },
          {
           "line": {
            "color": "green",
            "width": 2
           },
           "mode": "lines",
           "type": "scatter",
           "x": [
            200,
            258
           ],
           "y": [
            600,
            473
           ]
          },
          {
           "line": {
            "color": "green",
            "width": 2
           },
           "mode": "lines",
           "type": "scatter",
           "x": [
            1400,
            1551
           ],
           "y": [
            600,
            702
           ]
          },
          {
           "line": {
            "color": "green",
            "width": 2
           },
           "mode": "lines",
           "type": "scatter",
           "x": [
            1000,
            993
           ],
           "y": [
            1400,
            1549
           ]
          },
          {
           "line": {
            "color": "green",
            "width": 2
           },
           "mode": "lines",
           "type": "scatter",
           "x": [
            1400,
            1569
           ],
           "y": [
            200,
            287
           ]
          },
          {
           "line": {
            "color": "green",
            "width": 2
           },
           "mode": "lines",
           "type": "scatter",
           "x": [
            600,
            828
           ],
           "y": [
            200,
            334
           ]
          },
          {
           "line": {
            "color": "green",
            "width": 2
           },
           "mode": "lines",
           "type": "scatter",
           "x": [
            600,
            413
           ],
           "y": [
            200,
            33
           ]
          },
          {
           "line": {
            "color": "green",
            "width": 2
           },
           "mode": "lines",
           "type": "scatter",
           "x": [
            200,
            196
           ],
           "y": [
            200,
            213
           ]
          },
          {
           "line": {
            "color": "green",
            "width": 2
           },
           "mode": "lines",
           "type": "scatter",
           "x": [
            1400,
            1138
           ],
           "y": [
            600,
            578
           ]
          },
          {
           "line": {
            "color": "green",
            "width": 2
           },
           "mode": "lines",
           "type": "scatter",
           "x": [
            600,
            521
           ],
           "y": [
            1000,
            949
           ]
          },
          {
           "line": {
            "color": "green",
            "width": 2
           },
           "mode": "lines",
           "type": "scatter",
           "x": [
            600,
            694
           ],
           "y": [
            1400,
            1240
           ]
          },
          {
           "line": {
            "color": "green",
            "width": 2
           },
           "mode": "lines",
           "type": "scatter",
           "x": [
            1400,
            1383
           ],
           "y": [
            600,
            596
           ]
          },
          {
           "line": {
            "color": "green",
            "width": 2
           },
           "mode": "lines",
           "type": "scatter",
           "x": [
            1400,
            1240
           ],
           "y": [
            1000,
            1188
           ]
          },
          {
           "line": {
            "color": "red",
            "width": 2
           },
           "mode": "lines",
           "type": "scatter",
           "x": [
            1400,
            1058
           ],
           "y": [
            1000,
            992
           ]
          },
          {
           "line": {
            "color": "green",
            "width": 2
           },
           "mode": "lines",
           "type": "scatter",
           "x": [
            200,
            299
           ],
           "y": [
            1400,
            1505
           ]
          },
          {
           "line": {
            "color": "green",
            "width": 2
           },
           "mode": "lines",
           "type": "scatter",
           "x": [
            600,
            697
           ],
           "y": [
            600,
            537
           ]
          },
          {
           "line": {
            "color": "green",
            "width": 2
           },
           "mode": "lines",
           "type": "scatter",
           "x": [
            600,
            571
           ],
           "y": [
            1400,
            1452
           ]
          },
          {
           "line": {
            "color": "green",
            "width": 2
           },
           "mode": "lines",
           "type": "scatter",
           "x": [
            1400,
            1495
           ],
           "y": [
            600,
            416
           ]
          },
          {
           "line": {
            "color": "green",
            "width": 2
           },
           "mode": "lines",
           "type": "scatter",
           "x": [
            200,
            242
           ],
           "y": [
            600,
            594
           ]
          },
          {
           "line": {
            "color": "green",
            "width": 2
           },
           "mode": "lines",
           "type": "scatter",
           "x": [
            1400,
            1448
           ],
           "y": [
            600,
            527
           ]
          },
          {
           "line": {
            "color": "green",
            "width": 2
           },
           "mode": "lines",
           "type": "scatter",
           "x": [
            200,
            171
           ],
           "y": [
            1400,
            1235
           ]
          },
          {
           "line": {
            "color": "green",
            "width": 2
           },
           "mode": "lines",
           "type": "scatter",
           "x": [
            1400,
            1536
           ],
           "y": [
            1000,
            962
           ]
          },
          {
           "line": {
            "color": "green",
            "width": 2
           },
           "mode": "lines",
           "type": "scatter",
           "x": [
            600,
            571
           ],
           "y": [
            1000,
            635
           ]
          },
          {
           "line": {
            "color": "red",
            "width": 2
           },
           "mode": "lines",
           "type": "scatter",
           "x": [
            600,
            679
           ],
           "y": [
            1400,
            1091
           ]
          },
          {
           "line": {
            "color": "green",
            "width": 2
           },
           "mode": "lines",
           "type": "scatter",
           "x": [
            1000,
            973
           ],
           "y": [
            600,
            858
           ]
          },
          {
           "line": {
            "color": "green",
            "width": 2
           },
           "mode": "lines",
           "type": "scatter",
           "x": [
            1000,
            948
           ],
           "y": [
            1000,
            911
           ]
          },
          {
           "line": {
            "color": "green",
            "width": 2
           },
           "mode": "lines",
           "type": "scatter",
           "x": [
            200,
            292
           ],
           "y": [
            1400,
            1441
           ]
          },
          {
           "line": {
            "color": "green",
            "width": 2
           },
           "mode": "lines",
           "type": "scatter",
           "x": [
            600,
            654
           ],
           "y": [
            1000,
            726
           ]
          },
          {
           "line": {
            "color": "green",
            "width": 2
           },
           "mode": "lines",
           "type": "scatter",
           "x": [
            600,
            775
           ],
           "y": [
            1000,
            805
           ]
          },
          {
           "line": {
            "color": "green",
            "width": 2
           },
           "mode": "lines",
           "type": "scatter",
           "x": [
            200,
            133
           ],
           "y": [
            1000,
            1000
           ]
          },
          {
           "line": {
            "color": "green",
            "width": 2
           },
           "mode": "lines",
           "type": "scatter",
           "x": [
            200,
            158
           ],
           "y": [
            600,
            747
           ]
          },
          {
           "line": {
            "color": "green",
            "width": 2
           },
           "mode": "lines",
           "type": "scatter",
           "x": [
            600,
            540
           ],
           "y": [
            200,
            150
           ]
          },
          {
           "line": {
            "color": "green",
            "width": 2
           },
           "mode": "lines",
           "type": "scatter",
           "x": [
            1000,
            847
           ],
           "y": [
            200,
            27
           ]
          },
          {
           "line": {
            "color": "green",
            "width": 2
           },
           "mode": "lines",
           "type": "scatter",
           "x": [
            1400,
            1394
           ],
           "y": [
            1000,
            848
           ]
          },
          {
           "line": {
            "color": "green",
            "width": 2
           },
           "mode": "lines",
           "type": "scatter",
           "x": [
            600,
            524.4657116805347
           ],
           "y": [
            200,
            222.33427317274138
           ]
          },
          {
           "line": {
            "color": "green",
            "width": 2
           },
           "mode": "lines",
           "type": "scatter",
           "x": [
            200,
            221
           ],
           "y": [
            600,
            630
           ]
          },
          {
           "line": {
            "color": "green",
            "width": 2
           },
           "mode": "lines",
           "type": "scatter",
           "x": [
            1000,
            1179
           ],
           "y": [
            200,
            381
           ]
          },
          {
           "line": {
            "color": "green",
            "width": 2
           },
           "mode": "lines",
           "type": "scatter",
           "x": [
            1400,
            1361
           ],
           "y": [
            1000,
            851
           ]
          },
          {
           "line": {
            "color": "green",
            "width": 2
           },
           "mode": "lines",
           "type": "scatter",
           "x": [
            600,
            752
           ],
           "y": [
            1400,
            1245
           ]
          },
          {
           "line": {
            "color": "green",
            "width": 2
           },
           "mode": "lines",
           "type": "scatter",
           "x": [
            1000,
            829
           ],
           "y": [
            1000,
            1321
           ]
          },
          {
           "line": {
            "color": "green",
            "width": 2
           },
           "mode": "lines",
           "type": "scatter",
           "x": [
            200,
            167
           ],
           "y": [
            1400,
            1470
           ]
          },
          {
           "line": {
            "color": "red",
            "width": 2
           },
           "mode": "lines",
           "type": "scatter",
           "x": [
            600,
            513
           ],
           "y": [
            600,
            899
           ]
          },
          {
           "line": {
            "color": "red",
            "width": 2
           },
           "mode": "lines",
           "type": "scatter",
           "x": [
            1000,
            1021
           ],
           "y": [
            600,
            660
           ]
          },
          {
           "line": {
            "color": "green",
            "width": 2
           },
           "mode": "lines",
           "type": "scatter",
           "x": [
            600,
            598
           ],
           "y": [
            600,
            673
           ]
          },
          {
           "line": {
            "color": "green",
            "width": 2
           },
           "mode": "lines",
           "type": "scatter",
           "x": [
            200,
            186
           ],
           "y": [
            1400,
            1417
           ]
          },
          {
           "line": {
            "color": "green",
            "width": 2
           },
           "mode": "lines",
           "type": "scatter",
           "x": [
            200,
            253
           ],
           "y": [
            200,
            172
           ]
          },
          {
           "line": {
            "color": "green",
            "width": 2
           },
           "mode": "lines",
           "type": "scatter",
           "x": [
            1400,
            1592
           ],
           "y": [
            1400,
            1458
           ]
          },
          {
           "line": {
            "color": "green",
            "width": 2
           },
           "mode": "lines",
           "type": "scatter",
           "x": [
            1000,
            923
           ],
           "y": [
            600,
            543
           ]
          },
          {
           "line": {
            "color": "green",
            "width": 2
           },
           "mode": "lines",
           "type": "scatter",
           "x": [
            600,
            591
           ],
           "y": [
            1400,
            1069
           ]
          },
          {
           "line": {
            "color": "green",
            "width": 2
           },
           "mode": "lines",
           "type": "scatter",
           "x": [
            600,
            608
           ],
           "y": [
            1400,
            1344
           ]
          },
          {
           "line": {
            "color": "green",
            "width": 2
           },
           "mode": "lines",
           "type": "scatter",
           "x": [
            1400,
            1452
           ],
           "y": [
            200,
            68
           ]
          },
          {
           "line": {
            "color": "red",
            "width": 2
           },
           "mode": "lines",
           "type": "scatter",
           "x": [
            1000,
            797
           ],
           "y": [
            600,
            548
           ]
          },
          {
           "line": {
            "color": "green",
            "width": 2
           },
           "mode": "lines",
           "type": "scatter",
           "x": [
            200,
            338
           ],
           "y": [
            600,
            687
           ]
          },
          {
           "line": {
            "color": "green",
            "width": 2
           },
           "mode": "lines",
           "type": "scatter",
           "x": [
            600,
            430
           ],
           "y": [
            1400,
            1332
           ]
          },
          {
           "line": {
            "color": "green",
            "width": 2
           },
           "mode": "lines",
           "type": "scatter",
           "x": [
            1400,
            1293
           ],
           "y": [
            600,
            576
           ]
          },
          {
           "line": {
            "color": "green",
            "width": 2
           },
           "mode": "lines",
           "type": "scatter",
           "x": [
            1400,
            1253
           ],
           "y": [
            1000,
            1152
           ]
          },
          {
           "line": {
            "color": "red",
            "width": 2
           },
           "mode": "lines",
           "type": "scatter",
           "x": [
            600,
            906
           ],
           "y": [
            600,
            621
           ]
          },
          {
           "line": {
            "color": "red",
            "width": 2
           },
           "mode": "lines",
           "type": "scatter",
           "x": [
            600,
            635
           ],
           "y": [
            200,
            536
           ]
          },
          {
           "line": {
            "color": "green",
            "width": 2
           },
           "mode": "lines",
           "type": "scatter",
           "x": [
            1400,
            1237
           ],
           "y": [
            200,
            214
           ]
          },
          {
           "line": {
            "color": "green",
            "width": 2
           },
           "mode": "lines",
           "type": "scatter",
           "x": [
            200,
            162
           ],
           "y": [
            200,
            101
           ]
          },
          {
           "line": {
            "color": "green",
            "width": 2
           },
           "mode": "lines",
           "type": "scatter",
           "x": [
            1000,
            649
           ],
           "y": [
            1400,
            1448
           ]
          },
          {
           "line": {
            "color": "green",
            "width": 2
           },
           "mode": "lines",
           "type": "scatter",
           "x": [
            200,
            304
           ],
           "y": [
            1400,
            1260
           ]
          },
          {
           "line": {
            "color": "green",
            "width": 2
           },
           "mode": "lines",
           "type": "scatter",
           "x": [
            1000,
            1036
           ],
           "y": [
            1000,
            1087
           ]
          },
          {
           "line": {
            "color": "red",
            "width": 2
           },
           "mode": "lines",
           "type": "scatter",
           "x": [
            1000,
            1061
           ],
           "y": [
            1000,
            997
           ]
          },
          {
           "line": {
            "color": "red",
            "width": 2
           },
           "mode": "lines",
           "type": "scatter",
           "x": [
            1000,
            818
           ],
           "y": [
            1000,
            820
           ]
          },
          {
           "line": {
            "color": "red",
            "width": 2
           },
           "mode": "lines",
           "type": "scatter",
           "x": [
            1000,
            958
           ],
           "y": [
            1000,
            675
           ]
          },
          {
           "line": {
            "color": "green",
            "width": 2
           },
           "mode": "lines",
           "type": "scatter",
           "x": [
            1000,
            988
           ],
           "y": [
            1400,
            1465
           ]
          },
          {
           "line": {
            "color": "green",
            "width": 2
           },
           "mode": "lines",
           "type": "scatter",
           "x": [
            1000,
            1084
           ],
           "y": [
            1400,
            1158
           ]
          },
          {
           "line": {
            "color": "green",
            "width": 2
           },
           "mode": "lines",
           "type": "scatter",
           "x": [
            1000,
            988
           ],
           "y": [
            1000,
            802
           ]
          },
          {
           "line": {
            "color": "green",
            "width": 2
           },
           "mode": "lines",
           "type": "scatter",
           "x": [
            1000,
            1138
           ],
           "y": [
            200,
            438
           ]
          },
          {
           "line": {
            "color": "red",
            "width": 2
           },
           "mode": "lines",
           "type": "scatter",
           "x": [
            1000,
            1095
           ],
           "y": [
            1000,
            818
           ]
          },
          {
           "line": {
            "color": "red",
            "width": 2
           },
           "mode": "lines",
           "type": "scatter",
           "x": [
            1000,
            970
           ],
           "y": [
            1000,
            634
           ]
          },
          {
           "line": {
            "color": "green",
            "width": 2
           },
           "mode": "lines",
           "type": "scatter",
           "x": [
            1000,
            1154
           ],
           "y": [
            200,
            438
           ]
          },
          {
           "line": {
            "color": "green",
            "width": 2
           },
           "mode": "lines",
           "type": "scatter",
           "x": [
            1000,
            1180
           ],
           "y": [
            600,
            757
           ]
          },
          {
           "line": {
            "color": "green",
            "width": 2
           },
           "mode": "lines",
           "type": "scatter",
           "x": [
            600,
            485
           ],
           "y": [
            200,
            268
           ]
          },
          {
           "line": {
            "color": "green",
            "width": 2
           },
           "mode": "lines",
           "type": "scatter",
           "x": [
            1400,
            1314
           ],
           "y": [
            1000,
            863
           ]
          },
          {
           "line": {
            "color": "green",
            "width": 2
           },
           "mode": "lines",
           "type": "scatter",
           "x": [
            600,
            630
           ],
           "y": [
            1400,
            1380
           ]
          },
          {
           "line": {
            "color": "green",
            "width": 2
           },
           "mode": "lines",
           "type": "scatter",
           "x": [
            1000,
            1134
           ],
           "y": [
            1400,
            1461
           ]
          },
          {
           "line": {
            "color": "green",
            "width": 2
           },
           "mode": "lines",
           "type": "scatter",
           "x": [
            600,
            733
           ],
           "y": [
            600,
            779
           ]
          },
          {
           "line": {
            "color": "green",
            "width": 2
           },
           "mode": "lines",
           "type": "scatter",
           "x": [
            200,
            200
           ],
           "y": [
            600,
            743
           ]
          },
          {
           "line": {
            "color": "green",
            "width": 2
           },
           "mode": "lines",
           "type": "scatter",
           "x": [
            600,
            492
           ],
           "y": [
            200,
            139
           ]
          },
          {
           "line": {
            "color": "red",
            "width": 2
           },
           "mode": "lines",
           "type": "scatter",
           "x": [
            600,
            675
           ],
           "y": [
            600,
            884
           ]
          },
          {
           "line": {
            "color": "green",
            "width": 2
           },
           "mode": "lines",
           "type": "scatter",
           "x": [
            200,
            246
           ],
           "y": [
            1000,
            941
           ]
          },
          {
           "line": {
            "color": "green",
            "width": 2
           },
           "mode": "lines",
           "type": "scatter",
           "x": [
            1400,
            1529
           ],
           "y": [
            1000,
            1121
           ]
          },
          {
           "line": {
            "color": "green",
            "width": 2
           },
           "mode": "lines",
           "type": "scatter",
           "x": [
            200,
            195
           ],
           "y": [
            1000,
            913
           ]
          },
          {
           "line": {
            "color": "green",
            "width": 2
           },
           "mode": "lines",
           "type": "scatter",
           "x": [
            1000,
            1065
           ],
           "y": [
            600,
            528
           ]
          },
          {
           "line": {
            "color": "green",
            "width": 2
           },
           "mode": "lines",
           "type": "scatter",
           "x": [
            1000,
            1063
           ],
           "y": [
            200,
            145
           ]
          },
          {
           "line": {
            "color": "green",
            "width": 2
           },
           "mode": "lines",
           "type": "scatter",
           "x": [
            200,
            208
           ],
           "y": [
            1400,
            1255
           ]
          },
          {
           "line": {
            "color": "green",
            "width": 2
           },
           "mode": "lines",
           "type": "scatter",
           "x": [
            200,
            232
           ],
           "y": [
            1400,
            1591
           ]
          },
          {
           "line": {
            "color": "green",
            "width": 2
           },
           "mode": "lines",
           "type": "scatter",
           "x": [
            1000,
            845
           ],
           "y": [
            1000,
            1194
           ]
          },
          {
           "line": {
            "color": "red",
            "width": 2
           },
           "mode": "lines",
           "type": "scatter",
           "x": [
            1000,
            632
           ],
           "y": [
            600,
            630
           ]
          },
          {
           "line": {
            "color": "green",
            "width": 2
           },
           "mode": "lines",
           "type": "scatter",
           "x": [
            1000,
            1118
           ],
           "y": [
            1000,
            909
           ]
          },
          {
           "line": {
            "color": "black",
            "width": 2
           },
           "mode": "lines",
           "type": "scatter",
           "x": [
            812,
            812
           ],
           "y": [
            0,
            1600
           ]
          },
          {
           "line": {
            "color": "black",
            "width": 2
           },
           "mode": "lines",
           "type": "scatter",
           "x": [
            812,
            912
           ],
           "y": [
            1600,
            1600
           ]
          },
          {
           "line": {
            "color": "black",
            "width": 2
           },
           "mode": "lines",
           "type": "scatter",
           "x": [
            912,
            912
           ],
           "y": [
            1600,
            0
           ]
          },
          {
           "line": {
            "color": "black",
            "width": 2
           },
           "mode": "lines",
           "type": "scatter",
           "x": [
            812,
            912
           ],
           "y": [
            0,
            0
           ]
          },
          {
           "line": {
            "color": "black",
            "width": 2
           },
           "mode": "lines",
           "type": "scatter",
           "x": [
            0,
            0
           ],
           "y": [
            257,
            357
           ]
          },
          {
           "line": {
            "color": "black",
            "width": 2
           },
           "mode": "lines",
           "type": "scatter",
           "x": [
            0,
            1600
           ],
           "y": [
            357,
            357
           ]
          },
          {
           "line": {
            "color": "black",
            "width": 2
           },
           "mode": "lines",
           "type": "scatter",
           "x": [
            1600,
            1600
           ],
           "y": [
            357,
            257
           ]
          },
          {
           "line": {
            "color": "black",
            "width": 2
           },
           "mode": "lines",
           "type": "scatter",
           "x": [
            0,
            1600
           ],
           "y": [
            257,
            257
           ]
          },
          {
           "line": {
            "color": "black",
            "width": 2
           },
           "mode": "lines",
           "type": "scatter",
           "x": [
            0,
            0
           ],
           "y": [
            85,
            185
           ]
          },
          {
           "line": {
            "color": "black",
            "width": 2
           },
           "mode": "lines",
           "type": "scatter",
           "x": [
            0,
            1600
           ],
           "y": [
            185,
            185
           ]
          },
          {
           "line": {
            "color": "black",
            "width": 2
           },
           "mode": "lines",
           "type": "scatter",
           "x": [
            1600,
            1600
           ],
           "y": [
            185,
            85
           ]
          },
          {
           "line": {
            "color": "black",
            "width": 2
           },
           "mode": "lines",
           "type": "scatter",
           "x": [
            0,
            1600
           ],
           "y": [
            85,
            85
           ]
          },
          {
           "line": {
            "color": "black",
            "width": 2
           },
           "mode": "lines",
           "type": "scatter",
           "x": [
            465,
            465
           ],
           "y": [
            80,
            260
           ]
          },
          {
           "line": {
            "color": "black",
            "width": 2
           },
           "mode": "lines",
           "type": "scatter",
           "x": [
            465,
            556
           ],
           "y": [
            260,
            260
           ]
          },
          {
           "line": {
            "color": "black",
            "width": 2
           },
           "mode": "lines",
           "type": "scatter",
           "x": [
            556,
            556
           ],
           "y": [
            260,
            80
           ]
          },
          {
           "line": {
            "color": "black",
            "width": 2
           },
           "mode": "lines",
           "type": "scatter",
           "x": [
            465,
            556
           ],
           "y": [
            80,
            80
           ]
          },
          {
           "marker": {
            "color": [
             "orange",
             "orange",
             "orange",
             "orange",
             "orange",
             "orange",
             "orange",
             "orange",
             "orange",
             "orange",
             "orange",
             "orange",
             "orange",
             "orange",
             "orange",
             "orange",
             "blue",
             "magenta",
             "magenta",
             "blue",
             "magenta",
             "magenta",
             "magenta",
             "blue",
             "magenta",
             "magenta",
             "magenta",
             "magenta",
             "blue",
             "magenta",
             "blue",
             "magenta",
             "blue",
             "blue",
             "blue",
             "magenta",
             "blue",
             "magenta",
             "magenta",
             "magenta",
             "magenta",
             "magenta",
             "blue",
             "magenta",
             "blue",
             "magenta",
             "magenta",
             "magenta",
             "magenta",
             "blue",
             "blue",
             "magenta",
             "magenta",
             "magenta",
             "magenta",
             "magenta",
             "blue",
             "magenta",
             "magenta",
             "blue",
             "blue",
             "magenta",
             "magenta",
             "magenta",
             "magenta",
             "magenta",
             "blue",
             "blue",
             "magenta",
             "magenta",
             "magenta",
             "magenta",
             "magenta",
             "magenta",
             "magenta",
             "magenta",
             "magenta",
             "magenta",
             "magenta",
             "magenta",
             "magenta",
             "magenta",
             "blue",
             "magenta",
             "blue",
             "magenta",
             "magenta",
             "magenta",
             "blue",
             "magenta",
             "magenta",
             "magenta",
             "blue",
             "magenta",
             "magenta",
             "blue",
             "blue",
             "blue",
             "blue",
             "magenta",
             "magenta",
             "magenta",
             "magenta",
             "magenta",
             "magenta",
             "magenta",
             "magenta",
             "blue",
             "magenta",
             "magenta",
             "magenta",
             "magenta",
             "magenta",
             "blue",
             "magenta",
             "blue",
             "magenta",
             "magenta",
             "blue",
             "magenta",
             "magenta",
             "magenta",
             "magenta",
             "magenta",
             "magenta",
             "magenta",
             "magenta",
             "magenta",
             "magenta",
             "magenta",
             "magenta",
             "magenta",
             "magenta",
             "blue",
             "magenta",
             "magenta",
             "magenta",
             "blue",
             "magenta",
             "magenta",
             "magenta",
             "magenta",
             "magenta",
             "magenta",
             "magenta",
             "magenta",
             "blue",
             "blue",
             "magenta",
             "magenta",
             "magenta",
             "blue",
             "magenta",
             "magenta",
             "magenta",
             "magenta",
             "magenta",
             "magenta",
             "magenta",
             "magenta",
             "magenta",
             "magenta",
             "magenta",
             "magenta",
             "magenta",
             "blue",
             "blue",
             "magenta",
             "magenta",
             "magenta",
             "magenta",
             "magenta",
             "magenta",
             "magenta",
             "magenta",
             "blue",
             "magenta",
             "magenta",
             "magenta",
             "magenta",
             "blue",
             "blue",
             "magenta",
             "magenta",
             "magenta",
             "magenta",
             "magenta",
             "blue",
             "blue",
             "blue",
             "magenta",
             "magenta",
             "magenta",
             "magenta",
             "blue",
             "blue",
             "magenta",
             "magenta",
             "magenta",
             "magenta",
             "magenta",
             "magenta",
             "magenta",
             "magenta",
             "magenta",
             "blue",
             "magenta",
             "magenta",
             "magenta",
             "magenta",
             "magenta",
             "magenta",
             "magenta",
             "magenta",
             "blue",
             "magenta",
             "black",
             "black",
             "black",
             "black",
             "black",
             "black",
             "black",
             "black",
             "black",
             "black",
             "black",
             "black",
             "black",
             "black",
             "black",
             "black"
            ],
            "size": 8
           },
           "mode": "markers",
           "type": "scatter",
           "x": [
            200,
            200,
            200,
            200,
            600,
            600,
            600,
            600,
            1000,
            1000,
            1000,
            1000,
            1400,
            1400,
            1400,
            1400,
            952,
            1165,
            1176,
            1042,
            1381,
            388,
            14,
            602,
            707,
            1468,
            592,
            1294,
            529,
            1445,
            605,
            1524,
            959,
            749,
            693,
            648,
            705,
            372,
            921,
            37,
            861,
            1026,
            940,
            1597,
            668,
            271,
            1027,
            896,
            1525,
            1071,
            582,
            169,
            1494,
            1126,
            671,
            1100,
            698,
            1500,
            968,
            921,
            592,
            225,
            1280,
            50,
            46,
            1050,
            654,
            680,
            204,
            167,
            660,
            1029,
            1155,
            923,
            743,
            1193,
            1102,
            943,
            618,
            872,
            671,
            191,
            546,
            120,
            897,
            1489,
            802,
            1182,
            615,
            1170,
            273,
            538,
            816,
            1378,
            626,
            836,
            851,
            608,
            840,
            1093,
            387,
            85,
            543,
            353,
            350,
            1178,
            170,
            767,
            1405,
            1419,
            826,
            1585,
            1065,
            535,
            512,
            590,
            819,
            346,
            793,
            339,
            862,
            84,
            137,
            43,
            205,
            258,
            1551,
            993,
            1569,
            828,
            413,
            196,
            1138,
            521,
            694,
            1383,
            1240,
            1058,
            299,
            697,
            571,
            1495,
            242,
            1448,
            171,
            1536,
            571,
            679,
            973,
            948,
            292,
            654,
            775,
            133,
            158,
            540,
            847,
            1394,
            524.4657116805347,
            221,
            1179,
            1361,
            752,
            829,
            167,
            513,
            1021,
            598,
            186,
            253,
            1592,
            923,
            591,
            608,
            1452,
            797,
            338,
            430,
            1293,
            1253,
            906,
            635,
            1237,
            162,
            649,
            304,
            1036,
            1061,
            818,
            958,
            988,
            1084,
            988,
            1138,
            1095,
            970,
            1154,
            1180,
            485,
            1314,
            630,
            1134,
            733,
            200,
            492,
            675,
            246,
            1529,
            195,
            1065,
            1063,
            208,
            232,
            845,
            632,
            1118,
            812,
            812,
            912,
            912,
            0,
            0,
            1600,
            1600,
            0,
            0,
            1600,
            1600,
            465,
            465,
            556,
            556
           ],
           "y": [
            200,
            600,
            1000,
            1400,
            200,
            600,
            1000,
            1400,
            200,
            600,
            1000,
            1400,
            200,
            600,
            1000,
            1400,
            531,
            585,
            1291,
            1005,
            795,
            293,
            758,
            794,
            967,
            298,
            1203,
            422,
            558,
            655,
            504,
            148,
            919,
            664,
            1037,
            276,
            959,
            236,
            1158,
            504,
            781,
            376,
            626,
            1173,
            833,
            869,
            1575,
            1263,
            1129,
            855,
            1100,
            128,
            1295,
            518,
            121,
            1058,
            540,
            809,
            905,
            635,
            511,
            169,
            291,
            918,
            714,
            654,
            943,
            937,
            558,
            154,
            1203,
            1586,
            1464,
            752,
            77,
            1438,
            1066,
            1503,
            1198,
            154,
            1076,
            332,
            858,
            444,
            953,
            16,
            1122,
            1061,
            940,
            939,
            1063,
            813,
            908,
            1306,
            783,
            752,
            754,
            683,
            673,
            359,
            138,
            687,
            277,
            604,
            1595,
            117,
            943,
            1032,
            617,
            133,
            1599,
            1049,
            803,
            1097,
            824,
            965,
            568,
            972,
            549,
            570,
            179,
            905,
            1081,
            512,
            1567,
            473,
            702,
            1549,
            287,
            334,
            33,
            213,
            578,
            949,
            1240,
            596,
            1188,
            992,
            1505,
            537,
            1452,
            416,
            594,
            527,
            1235,
            962,
            635,
            1091,
            858,
            911,
            1441,
            726,
            805,
            1000,
            747,
            150,
            27,
            848,
            222.33427317274138,
            630,
            381,
            851,
            1245,
            1321,
            1470,
            899,
            660,
            673,
            1417,
            172,
            1458,
            543,
            1069,
            1344,
            68,
            548,
            687,
            1332,
            576,
            1152,
            621,
            536,
            214,
            101,
            1448,
            1260,
            1087,
            997,
            820,
            675,
            1465,
            1158,
            802,
            438,
            818,
            634,
            438,
            757,
            268,
            863,
            1380,
            1461,
            779,
            743,
            139,
            884,
            941,
            1121,
            913,
            528,
            145,
            1255,
            1591,
            1194,
            630,
            909,
            0,
            1600,
            1600,
            0,
            257,
            357,
            357,
            257,
            85,
            185,
            185,
            85,
            80,
            260,
            260,
            80
           ]
          }
         ]
        },
        {
         "data": [
          {
           "line": {
            "color": "red",
            "width": 2
           },
           "mode": "lines",
           "type": "scatter",
           "x": [
            600,
            951
           ],
           "y": [
            600,
            533
           ]
          },
          {
           "line": {
            "color": "green",
            "width": 2
           },
           "mode": "lines",
           "type": "scatter",
           "x": [
            1000,
            1167
           ],
           "y": [
            600,
            584
           ]
          },
          {
           "line": {
            "color": "green",
            "width": 2
           },
           "mode": "lines",
           "type": "scatter",
           "x": [
            1000,
            1176
           ],
           "y": [
            1400,
            1293
           ]
          },
          {
           "line": {
            "color": "red",
            "width": 2
           },
           "mode": "lines",
           "type": "scatter",
           "x": [
            1000,
            1042
           ],
           "y": [
            1000,
            1003
           ]
          },
          {
           "line": {
            "color": "green",
            "width": 2
           },
           "mode": "lines",
           "type": "scatter",
           "x": [
            1400,
            1383
           ],
           "y": [
            600,
            796
           ]
          },
          {
           "line": {
            "color": "green",
            "width": 2
           },
           "mode": "lines",
           "type": "scatter",
           "x": [
            600,
            357
           ],
           "y": [
            200,
            293
           ]
          },
          {
           "line": {
            "color": "green",
            "width": 2
           },
           "mode": "lines",
           "type": "scatter",
           "x": [
            200,
            16
           ],
           "y": [
            1000,
            758
           ]
          },
          {
           "line": {
            "color": "red",
            "width": 2
           },
           "mode": "lines",
           "type": "scatter",
           "x": [
            1000,
            603
           ],
           "y": [
            600,
            796
           ]
          },
          {
           "line": {
            "color": "green",
            "width": 2
           },
           "mode": "lines",
           "type": "scatter",
           "x": [
            1000,
            709
           ],
           "y": [
            1000,
            968
           ]
          },
          {
           "line": {
            "color": "green",
            "width": 2
           },
           "mode": "lines",
           "type": "scatter",
           "x": [
            1400,
            1504
           ],
           "y": [
            200,
            298
           ]
          },
          {
           "line": {
            "color": "green",
            "width": 2
           },
           "mode": "lines",
           "type": "scatter",
           "x": [
            600,
            591
           ],
           "y": [
            1400,
            1205
           ]
          },
          {
           "line": {
            "color": "green",
            "width": 2
           },
           "mode": "lines",
           "type": "scatter",
           "x": [
            1400,
            1295
           ],
           "y": [
            600,
            420
           ]
          },
          {
           "line": {
            "color": "red",
            "width": 2
           },
           "mode": "lines",
           "type": "scatter",
           "x": [
            200,
            528
           ],
           "y": [
            600,
            556
           ]
          },
          {
           "line": {
            "color": "green",
            "width": 2
           },
           "mode": "lines",
           "type": "scatter",
           "x": [
            1400,
            1446
           ],
           "y": [
            1000,
            656
           ]
          },
          {
           "line": {
            "color": "red",
            "width": 2
           },
           "mode": "lines",
           "type": "scatter",
           "x": [
            600,
            605
           ],
           "y": [
            200,
            506
           ]
          },
          {
           "line": {
            "color": "green",
            "width": 2
           },
           "mode": "lines",
           "type": "scatter",
           "x": [
            1400,
            1550
           ],
           "y": [
            200,
            148
           ]
          },
          {
           "line": {
            "color": "red",
            "width": 2
           },
           "mode": "lines",
           "type": "scatter",
           "x": [
            1000,
            961
           ],
           "y": [
            600,
            920
           ]
          },
          {
           "line": {
            "color": "red",
            "width": 2
           },
           "mode": "lines",
           "type": "scatter",
           "x": [
            600,
            749
           ],
           "y": [
            600,
            662
           ]
          },
          {
           "line": {
            "color": "red",
            "width": 2
           },
           "mode": "lines",
           "type": "scatter",
           "x": [
            1000,
            693
           ],
           "y": [
            1000,
            1035
           ]
          },
          {
           "line": {
            "color": "green",
            "width": 2
           },
           "mode": "lines",
           "type": "scatter",
           "x": [
            600,
            605
           ],
           "y": [
            200,
            276
           ]
          },
          {
           "line": {
            "color": "green",
            "width": 2
           },
           "mode": "lines",
           "type": "scatter",
           "x": [
            600,
            703
           ],
           "y": [
            1000,
            960
           ]
          },
          {
           "line": {
            "color": "green",
            "width": 2
           },
           "mode": "lines",
           "type": "scatter",
           "x": [
            200,
            370
           ],
           "y": [
            200,
            236
           ]
          },
          {
           "line": {
            "color": "green",
            "width": 2
           },
           "mode": "lines",
           "type": "scatter",
           "x": [
            1000,
            923
           ],
           "y": [
            1000,
            1158
           ]
          },
          {
           "line": {
            "color": "green",
            "width": 2
           },
           "mode": "lines",
           "type": "scatter",
           "x": [
            200,
            35
           ],
           "y": [
            600,
            504
           ]
          },
          {
           "line": {
            "color": "green",
            "width": 2
           },
           "mode": "lines",
           "type": "scatter",
           "x": [
            1000,
            861
           ],
           "y": [
            1000,
            735
           ]
          },
          {
           "line": {
            "color": "green",
            "width": 2
           },
           "mode": "lines",
           "type": "scatter",
           "x": [
            1400,
            1028
           ],
           "y": [
            600,
            375
           ]
          },
          {
           "line": {
            "color": "red",
            "width": 2
           },
           "mode": "lines",
           "type": "scatter",
           "x": [
            1000,
            941
           ],
           "y": [
            600,
            628
           ]
          },
          {
           "line": {
            "color": "green",
            "width": 2
           },
           "mode": "lines",
           "type": "scatter",
           "x": [
            1400,
            1597
           ],
           "y": [
            1000,
            1175
           ]
          },
          {
           "line": {
            "color": "red",
            "width": 2
           },
           "mode": "lines",
           "type": "scatter",
           "x": [
            600,
            669
           ],
           "y": [
            600,
            831
           ]
          },
          {
           "line": {
            "color": "green",
            "width": 2
           },
           "mode": "lines",
           "type": "scatter",
           "x": [
            200,
            271
           ],
           "y": [
            1000,
            871
           ]
          },
          {
           "line": {
            "color": "green",
            "width": 2
           },
           "mode": "lines",
           "type": "scatter",
           "x": [
            1400,
            1029
           ],
           "y": [
            1400,
            1575
           ]
          },
          {
           "line": {
            "color": "green",
            "width": 2
           },
           "mode": "lines",
           "type": "scatter",
           "x": [
            1000,
            896
           ],
           "y": [
            1400,
            1204
           ]
          },
          {
           "line": {
            "color": "green",
            "width": 2
           },
           "mode": "lines",
           "type": "scatter",
           "x": [
            1400,
            1527
           ],
           "y": [
            1000,
            1129
           ]
          },
          {
           "line": {
            "color": "red",
            "width": 2
           },
           "mode": "lines",
           "type": "scatter",
           "x": [
            1000,
            1072
           ],
           "y": [
            600,
            853
           ]
          },
          {
           "line": {
            "color": "green",
            "width": 2
           },
           "mode": "lines",
           "type": "scatter",
           "x": [
            200,
            584
           ],
           "y": [
            1400,
            1099
           ]
          },
          {
           "line": {
            "color": "green",
            "width": 2
           },
           "mode": "lines",
           "type": "scatter",
           "x": [
            200,
            216
           ],
           "y": [
            200,
            128
           ]
          },
          {
           "line": {
            "color": "green",
            "width": 2
           },
           "mode": "lines",
           "type": "scatter",
           "x": [
            1400,
            1492
           ],
           "y": [
            1400,
            1294
           ]
          },
          {
           "line": {
            "color": "green",
            "width": 2
           },
           "mode": "lines",
           "type": "scatter",
           "x": [
            1000,
            1124
           ],
           "y": [
            600,
            518
           ]
          },
          {
           "line": {
            "color": "green",
            "width": 2
           },
           "mode": "lines",
           "type": "scatter",
           "x": [
            600,
            639
           ],
           "y": [
            200,
            121
           ]
          },
          {
           "line": {
            "color": "green",
            "width": 2
           },
           "mode": "lines",
           "type": "scatter",
           "x": [
            1400,
            1102
           ],
           "y": [
            1400,
            1059
           ]
          },
          {
           "line": {
            "color": "red",
            "width": 2
           },
           "mode": "lines",
           "type": "scatter",
           "x": [
            600,
            698
           ],
           "y": [
            200,
            538
           ]
          },
          {
           "line": {
            "color": "green",
            "width": 2
           },
           "mode": "lines",
           "type": "scatter",
           "x": [
            1400,
            1501
           ],
           "y": [
            600,
            808
           ]
          },
          {
           "line": {
            "color": "green",
            "width": 2
           },
           "mode": "lines",
           "type": "scatter",
           "x": [
            1000,
            966
           ],
           "y": [
            1000,
            905
           ]
          },
          {
           "line": {
            "color": "red",
            "width": 2
           },
           "mode": "lines",
           "type": "scatter",
           "x": [
            1000,
            922
           ],
           "y": [
            600,
            637
           ]
          },
          {
           "line": {
            "color": "red",
            "width": 2
           },
           "mode": "lines",
           "type": "scatter",
           "x": [
            200,
            593
           ],
           "y": [
            600,
            512
           ]
          },
          {
           "line": {
            "color": "green",
            "width": 2
           },
           "mode": "lines",
           "type": "scatter",
           "x": [
            200,
            262
           ],
           "y": [
            200,
            169
           ]
          },
          {
           "line": {
            "color": "green",
            "width": 2
           },
           "mode": "lines",
           "type": "scatter",
           "x": [
            1400,
            1225
           ],
           "y": [
            200,
            291
           ]
          },
          {
           "line": {
            "color": "green",
            "width": 2
           },
           "mode": "lines",
           "type": "scatter",
           "x": [
            200,
            50
           ],
           "y": [
            1000,
            920
           ]
          },
          {
           "line": {
            "color": "green",
            "width": 2
           },
           "mode": "lines",
           "type": "scatter",
           "x": [
            200,
            47
           ],
           "y": [
            1000,
            716
           ]
          },
          {
           "line": {
            "color": "green",
            "width": 2
           },
           "mode": "lines",
           "type": "scatter",
           "x": [
            1000,
            1052
           ],
           "y": [
            1000,
            654
           ]
          },
          {
           "line": {
            "color": "red",
            "width": 2
           },
           "mode": "lines",
           "type": "scatter",
           "x": [
            1000,
            655
           ],
           "y": [
            1000,
            941
           ]
          },
          {
           "line": {
            "color": "red",
            "width": 2
           },
           "mode": "lines",
           "type": "scatter",
           "x": [
            1000,
            681
           ],
           "y": [
            1000,
            939
           ]
          },
          {
           "line": {
            "color": "green",
            "width": 2
           },
           "mode": "lines",
           "type": "scatter",
           "x": [
            200,
            203
           ],
           "y": [
            600,
            556
           ]
          },
          {
           "line": {
            "color": "green",
            "width": 2
           },
           "mode": "lines",
           "type": "scatter",
           "x": [
            600,
            136
           ],
           "y": [
            200,
            154
           ]
          },
          {
           "line": {
            "color": "green",
            "width": 2
           },
           "mode": "lines",
           "type": "scatter",
           "x": [
            600,
            659
           ],
           "y": [
            1400,
            1205
           ]
          },
          {
           "line": {
            "color": "green",
            "width": 2
           },
           "mode": "lines",
           "type": "scatter",
           "x": [
            1000,
            1030
           ],
           "y": [
            1400,
            1588
           ]
          },
          {
           "line": {
            "color": "green",
            "width": 2
           },
           "mode": "lines",
           "type": "scatter",
           "x": [
            1000,
            1156
           ],
           "y": [
            1400,
            1462
           ]
          },
          {
           "line": {
            "color": "green",
            "width": 2
           },
           "mode": "lines",
           "type": "scatter",
           "x": [
            1000,
            924
           ],
           "y": [
            1000,
            750
           ]
          },
          {
           "line": {
            "color": "green",
            "width": 2
           },
           "mode": "lines",
           "type": "scatter",
           "x": [
            600,
            745
           ],
           "y": [
            200,
            77
           ]
          },
          {
           "line": {
            "color": "green",
            "width": 2
           },
           "mode": "lines",
           "type": "scatter",
           "x": [
            1000,
            1192
           ],
           "y": [
            1400,
            1436
           ]
          },
          {
           "line": {
            "color": "green",
            "width": 2
           },
           "mode": "lines",
           "type": "scatter",
           "x": [
            1000,
            1103
           ],
           "y": [
            1000,
            1064
           ]
          },
          {
           "line": {
            "color": "green",
            "width": 2
           },
           "mode": "lines",
           "type": "scatter",
           "x": [
            600,
            941
           ],
           "y": [
            1400,
            1504
           ]
          },
          {
           "line": {
            "color": "green",
            "width": 2
           },
           "mode": "lines",
           "type": "scatter",
           "x": [
            600,
            620
           ],
           "y": [
            1400,
            1197
           ]
          },
          {
           "line": {
            "color": "green",
            "width": 2
           },
           "mode": "lines",
           "type": "scatter",
           "x": [
            600,
            834
           ],
           "y": [
            200,
            154
           ]
          },
          {
           "line": {
            "color": "green",
            "width": 2
           },
           "mode": "lines",
           "type": "scatter",
           "x": [
            600,
            670
           ],
           "y": [
            1400,
            1074
           ]
          },
          {
           "line": {
            "color": "green",
            "width": 2
           },
           "mode": "lines",
           "type": "scatter",
           "x": [
            200,
            218
           ],
           "y": [
            600,
            332
           ]
          },
          {
           "line": {
            "color": "green",
            "width": 2
           },
           "mode": "lines",
           "type": "scatter",
           "x": [
            600,
            547
           ],
           "y": [
            1000,
            857
           ]
          },
          {
           "line": {
            "color": "green",
            "width": 2
           },
           "mode": "lines",
           "type": "scatter",
           "x": [
            200,
            121
           ],
           "y": [
            600,
            445
           ]
          },
          {
           "line": {
            "color": "red",
            "width": 2
           },
           "mode": "lines",
           "type": "scatter",
           "x": [
            1000,
            897
           ],
           "y": [
            1000,
            973
           ]
          },
          {
           "line": {
            "color": "green",
            "width": 2
           },
           "mode": "lines",
           "type": "scatter",
           "x": [
            1400,
            1488
           ],
           "y": [
            200,
            15
           ]
          },
          {
           "line": {
            "color": "green",
            "width": 2
           },
           "mode": "lines",
           "type": "scatter",
           "x": [
            1000,
            803
           ],
           "y": [
            1000,
            1120
           ]
          },
          {
           "line": {
            "color": "green",
            "width": 2
           },
           "mode": "lines",
           "type": "scatter",
           "x": [
            1400,
            1184
           ],
           "y": [
            1000,
            1060
           ]
          },
          {
           "line": {
            "color": "green",
            "width": 2
           },
           "mode": "lines",
           "type": "scatter",
           "x": [
            600,
            615
           ],
           "y": [
            1000,
            938
           ]
          },
          {
           "line": {
            "color": "green",
            "width": 2
           },
           "mode": "lines",
           "type": "scatter",
           "x": [
            1400,
            1171
           ],
           "y": [
            1000,
            941
           ]
          },
          {
           "line": {
            "color": "green",
            "width": 2
           },
           "mode": "lines",
           "type": "scatter",
           "x": [
            200,
            273
           ],
           "y": [
            1000,
            1061
           ]
          },
          {
           "line": {
            "color": "green",
            "width": 2
           },
           "mode": "lines",
           "type": "scatter",
           "x": [
            600,
            539
           ],
           "y": [
            600,
            815
           ]
          },
          {
           "line": {
            "color": "red",
            "width": 2
           },
           "mode": "lines",
           "type": "scatter",
           "x": [
            1000,
            816
           ],
           "y": [
            1000,
            878
           ]
          },
          {
           "line": {
            "color": "green",
            "width": 2
           },
           "mode": "lines",
           "type": "scatter",
           "x": [
            1400,
            1379
           ],
           "y": [
            1400,
            1304
           ]
          },
          {
           "line": {
            "color": "green",
            "width": 2
           },
           "mode": "lines",
           "type": "scatter",
           "x": [
            600,
            624
           ],
           "y": [
            1000,
            782
           ]
          },
          {
           "line": {
            "color": "red",
            "width": 2
           },
           "mode": "lines",
           "type": "scatter",
           "x": [
            1000,
            836
           ],
           "y": [
            1000,
            810
           ]
          },
          {
           "line": {
            "color": "red",
            "width": 2
           },
           "mode": "lines",
           "type": "scatter",
           "x": [
            1000,
            851
           ],
           "y": [
            1000,
            723
           ]
          },
          {
           "line": {
            "color": "red",
            "width": 2
           },
           "mode": "lines",
           "type": "scatter",
           "x": [
            600,
            610
           ],
           "y": [
            600,
            683
           ]
          },
          {
           "line": {
            "color": "red",
            "width": 2
           },
           "mode": "lines",
           "type": "scatter",
           "x": [
            600,
            840
           ],
           "y": [
            600,
            638
           ]
          },
          {
           "line": {
            "color": "green",
            "width": 2
           },
           "mode": "lines",
           "type": "scatter",
           "x": [
            1000,
            1091
           ],
           "y": [
            200,
            360
           ]
          },
          {
           "line": {
            "color": "green",
            "width": 2
           },
           "mode": "lines",
           "type": "scatter",
           "x": [
            200,
            445
           ],
           "y": [
            200,
            138
           ]
          },
          {
           "line": {
            "color": "green",
            "width": 2
           },
           "mode": "lines",
           "type": "scatter",
           "x": [
            200,
            87
           ],
           "y": [
            600,
            686
           ]
          },
          {
           "line": {
            "color": "green",
            "width": 2
           },
           "mode": "lines",
           "type": "scatter",
           "x": [
            600,
            599
           ],
           "y": [
            200,
            277
           ]
          },
          {
           "line": {
            "color": "green",
            "width": 2
           },
           "mode": "lines",
           "type": "scatter",
           "x": [
            200,
            355
           ],
           "y": [
            600,
            605
           ]
          },
          {
           "line": {
            "color": "green",
            "width": 2
           },
           "mode": "lines",
           "type": "scatter",
           "x": [
            200,
            351
           ],
           "y": [
            1400,
            1597
           ]
          },
          {
           "line": {
            "color": "green",
            "width": 2
           },
           "mode": "lines",
           "type": "scatter",
           "x": [
            1000,
            1202
           ],
           "y": [
            200,
            117
           ]
          },
          {
           "line": {
            "color": "green",
            "width": 2
           },
           "mode": "lines",
           "type": "scatter",
           "x": [
            200,
            168
           ],
           "y": [
            600,
            942
           ]
          },
          {
           "line": {
            "color": "red",
            "width": 2
           },
           "mode": "lines",
           "type": "scatter",
           "x": [
            1000,
            766
           ],
           "y": [
            1000,
            1030
           ]
          },
          {
           "line": {
            "color": "green",
            "width": 2
           },
           "mode": "lines",
           "type": "scatter",
           "x": [
            1400,
            1406
           ],
           "y": [
            1000,
            615
           ]
          },
          {
           "line": {
            "color": "green",
            "width": 2
           },
           "mode": "lines",
           "type": "scatter",
           "x": [
            1400,
            1389
           ],
           "y": [
            200,
            133
           ]
          },
          {
           "line": {
            "color": "green",
            "width": 2
           },
           "mode": "lines",
           "type": "scatter",
           "x": [
            1000,
            826
           ],
           "y": [
            1400,
            1559
           ]
          },
          {
           "line": {
            "color": "green",
            "width": 2
           },
           "mode": "lines",
           "type": "scatter",
           "x": [
            1400,
            1586
           ],
           "y": [
            1400,
            1047
           ]
          },
          {
           "line": {
            "color": "green",
            "width": 2
           },
           "mode": "lines",
           "type": "scatter",
           "x": [
            1000,
            1064
           ],
           "y": [
            600,
            801
           ]
          },
          {
           "line": {
            "color": "red",
            "width": 2
           },
           "mode": "lines",
           "type": "scatter",
           "x": [
            600,
            537
           ],
           "y": [
            1400,
            1096
           ]
          },
          {
           "line": {
            "color": "green",
            "width": 2
           },
           "mode": "lines",
           "type": "scatter",
           "x": [
            200,
            511
           ],
           "y": [
            600,
            826
           ]
          },
          {
           "line": {
            "color": "green",
            "width": 2
           },
           "mode": "lines",
           "type": "scatter",
           "x": [
            600,
            591
           ],
           "y": [
            1000,
            963
           ]
          },
          {
           "line": {
            "color": "green",
            "width": 2
           },
           "mode": "lines",
           "type": "scatter",
           "x": [
            600,
            819
           ],
           "y": [
            600,
            590
           ]
          },
          {
           "line": {
            "color": "green",
            "width": 2
           },
           "mode": "lines",
           "type": "scatter",
           "x": [
            200,
            347
           ],
           "y": [
            1000,
            974
           ]
          },
          {
           "line": {
            "color": "red",
            "width": 2
           },
           "mode": "lines",
           "type": "scatter",
           "x": [
            600,
            794
           ],
           "y": [
            600,
            551
           ]
          },
          {
           "line": {
            "color": "green",
            "width": 2
           },
           "mode": "lines",
           "type": "scatter",
           "x": [
            200,
            339
           ],
           "y": [
            600,
            572
           ]
          },
          {
           "line": {
            "color": "green",
            "width": 2
           },
           "mode": "lines",
           "type": "scatter",
           "x": [
            1000,
            840
           ],
           "y": [
            200,
            179
           ]
          },
          {
           "line": {
            "color": "green",
            "width": 2
           },
           "mode": "lines",
           "type": "scatter",
           "x": [
            200,
            83
           ],
           "y": [
            600,
            903
           ]
          },
          {
           "line": {
            "color": "green",
            "width": 2
           },
           "mode": "lines",
           "type": "scatter",
           "x": [
            200,
            136
           ],
           "y": [
            1000,
            1083
           ]
          },
          {
           "line": {
            "color": "green",
            "width": 2
           },
           "mode": "lines",
           "type": "scatter",
           "x": [
            200,
            42
           ],
           "y": [
            600,
            511
           ]
          },
          {
           "line": {
            "color": "green",
            "width": 2
           },
           "mode": "lines",
           "type": "scatter",
           "x": [
            200,
            203
           ],
           "y": [
            1400,
            1567
           ]
          },
          {
           "line": {
            "color": "green",
            "width": 2
           },
           "mode": "lines",
           "type": "scatter",
           "x": [
            200,
            256
           ],
           "y": [
            600,
            474
           ]
          },
          {
           "line": {
            "color": "green",
            "width": 2
           },
           "mode": "lines",
           "type": "scatter",
           "x": [
            1400,
            1549
           ],
           "y": [
            600,
            702
           ]
          },
          {
           "line": {
            "color": "green",
            "width": 2
           },
           "mode": "lines",
           "type": "scatter",
           "x": [
            1000,
            992
           ],
           "y": [
            1400,
            1550
           ]
          },
          {
           "line": {
            "color": "green",
            "width": 2
           },
           "mode": "lines",
           "type": "scatter",
           "x": [
            1400,
            1596
           ],
           "y": [
            200,
            287
           ]
          },
          {
           "line": {
            "color": "green",
            "width": 2
           },
           "mode": "lines",
           "type": "scatter",
           "x": [
            600,
            861
           ],
           "y": [
            200,
            334
           ]
          },
          {
           "line": {
            "color": "green",
            "width": 2
           },
           "mode": "lines",
           "type": "scatter",
           "x": [
            600,
            411
           ],
           "y": [
            200,
            32
           ]
          },
          {
           "line": {
            "color": "green",
            "width": 2
           },
           "mode": "lines",
           "type": "scatter",
           "x": [
            200,
            197
           ],
           "y": [
            200,
            211
           ]
          },
          {
           "line": {
            "color": "green",
            "width": 2
           },
           "mode": "lines",
           "type": "scatter",
           "x": [
            1400,
            1140
           ],
           "y": [
            600,
            577
           ]
          },
          {
           "line": {
            "color": "green",
            "width": 2
           },
           "mode": "lines",
           "type": "scatter",
           "x": [
            600,
            520
           ],
           "y": [
            1000,
            951
           ]
          },
          {
           "line": {
            "color": "green",
            "width": 2
           },
           "mode": "lines",
           "type": "scatter",
           "x": [
            600,
            696
           ],
           "y": [
            1400,
            1240
           ]
          },
          {
           "line": {
            "color": "green",
            "width": 2
           },
           "mode": "lines",
           "type": "scatter",
           "x": [
            1400,
            1385
           ],
           "y": [
            600,
            597
           ]
          },
          {
           "line": {
            "color": "green",
            "width": 2
           },
           "mode": "lines",
           "type": "scatter",
           "x": [
            1400,
            1238
           ],
           "y": [
            1000,
            1189
           ]
          },
          {
           "line": {
            "color": "red",
            "width": 2
           },
           "mode": "lines",
           "type": "scatter",
           "x": [
            1400,
            1056
           ],
           "y": [
            1000,
            993
           ]
          },
          {
           "line": {
            "color": "green",
            "width": 2
           },
           "mode": "lines",
           "type": "scatter",
           "x": [
            200,
            299
           ],
           "y": [
            1400,
            1507
           ]
          },
          {
           "line": {
            "color": "green",
            "width": 2
           },
           "mode": "lines",
           "type": "scatter",
           "x": [
            600,
            699
           ],
           "y": [
            600,
            538
           ]
          },
          {
           "line": {
            "color": "green",
            "width": 2
           },
           "mode": "lines",
           "type": "scatter",
           "x": [
            600,
            571
           ],
           "y": [
            1400,
            1450
           ]
          },
          {
           "line": {
            "color": "green",
            "width": 2
           },
           "mode": "lines",
           "type": "scatter",
           "x": [
            1400,
            1495
           ],
           "y": [
            600,
            414
           ]
          },
          {
           "line": {
            "color": "green",
            "width": 2
           },
           "mode": "lines",
           "type": "scatter",
           "x": [
            200,
            241
           ],
           "y": [
            600,
            596
           ]
          },
          {
           "line": {
            "color": "green",
            "width": 2
           },
           "mode": "lines",
           "type": "scatter",
           "x": [
            1400,
            1450
           ],
           "y": [
            600,
            526
           ]
          },
          {
           "line": {
            "color": "green",
            "width": 2
           },
           "mode": "lines",
           "type": "scatter",
           "x": [
            200,
            173
           ],
           "y": [
            1400,
            1234
           ]
          },
          {
           "line": {
            "color": "green",
            "width": 2
           },
           "mode": "lines",
           "type": "scatter",
           "x": [
            1400,
            1537
           ],
           "y": [
            1000,
            960
           ]
          },
          {
           "line": {
            "color": "green",
            "width": 2
           },
           "mode": "lines",
           "type": "scatter",
           "x": [
            600,
            569
           ],
           "y": [
            1000,
            635
           ]
          },
          {
           "line": {
            "color": "red",
            "width": 2
           },
           "mode": "lines",
           "type": "scatter",
           "x": [
            600,
            681
           ],
           "y": [
            1400,
            1092
           ]
          },
          {
           "line": {
            "color": "green",
            "width": 2
           },
           "mode": "lines",
           "type": "scatter",
           "x": [
            1000,
            975
           ],
           "y": [
            600,
            857
           ]
          },
          {
           "line": {
            "color": "green",
            "width": 2
           },
           "mode": "lines",
           "type": "scatter",
           "x": [
            1000,
            947
           ],
           "y": [
            1000,
            913
           ]
          },
          {
           "line": {
            "color": "green",
            "width": 2
           },
           "mode": "lines",
           "type": "scatter",
           "x": [
            200,
            292
           ],
           "y": [
            1400,
            1439
           ]
          },
          {
           "line": {
            "color": "green",
            "width": 2
           },
           "mode": "lines",
           "type": "scatter",
           "x": [
            600,
            652
           ],
           "y": [
            1000,
            725
           ]
          },
          {
           "line": {
            "color": "green",
            "width": 2
           },
           "mode": "lines",
           "type": "scatter",
           "x": [
            600,
            773
           ],
           "y": [
            1000,
            804
           ]
          },
          {
           "line": {
            "color": "green",
            "width": 2
           },
           "mode": "lines",
           "type": "scatter",
           "x": [
            200,
            134
           ],
           "y": [
            1000,
            1001
           ]
          },
          {
           "line": {
            "color": "green",
            "width": 2
           },
           "mode": "lines",
           "type": "scatter",
           "x": [
            200,
            157
           ],
           "y": [
            600,
            745
           ]
          },
          {
           "line": {
            "color": "green",
            "width": 2
           },
           "mode": "lines",
           "type": "scatter",
           "x": [
            600,
            512
           ],
           "y": [
            200,
            150
           ]
          },
          {
           "line": {
            "color": "green",
            "width": 2
           },
           "mode": "lines",
           "type": "scatter",
           "x": [
            1000,
            847
           ],
           "y": [
            200,
            0
           ]
          },
          {
           "line": {
            "color": "green",
            "width": 2
           },
           "mode": "lines",
           "type": "scatter",
           "x": [
            1400,
            1392
           ],
           "y": [
            1000,
            848
           ]
          },
          {
           "line": {
            "color": "green",
            "width": 2
           },
           "mode": "lines",
           "type": "scatter",
           "x": [
            600,
            524.5041436843038
           ],
           "y": [
            200,
            223.33353439038484
           ]
          },
          {
           "line": {
            "color": "green",
            "width": 2
           },
           "mode": "lines",
           "type": "scatter",
           "x": [
            200,
            222
           ],
           "y": [
            600,
            632
           ]
          },
          {
           "line": {
            "color": "green",
            "width": 2
           },
           "mode": "lines",
           "type": "scatter",
           "x": [
            1000,
            1177
           ],
           "y": [
            200,
            381
           ]
          },
          {
           "line": {
            "color": "green",
            "width": 2
           },
           "mode": "lines",
           "type": "scatter",
           "x": [
            1400,
            1362
           ],
           "y": [
            1000,
            849
           ]
          },
          {
           "line": {
            "color": "green",
            "width": 2
           },
           "mode": "lines",
           "type": "scatter",
           "x": [
            600,
            753
           ],
           "y": [
            1400,
            1247
           ]
          },
          {
           "line": {
            "color": "green",
            "width": 2
           },
           "mode": "lines",
           "type": "scatter",
           "x": [
            1000,
            829
           ],
           "y": [
            1000,
            1282
           ]
          },
          {
           "line": {
            "color": "green",
            "width": 2
           },
           "mode": "lines",
           "type": "scatter",
           "x": [
            200,
            169
           ],
           "y": [
            1400,
            1469
           ]
          },
          {
           "line": {
            "color": "red",
            "width": 2
           },
           "mode": "lines",
           "type": "scatter",
           "x": [
            600,
            514
           ],
           "y": [
            600,
            898
           ]
          },
          {
           "line": {
            "color": "red",
            "width": 2
           },
           "mode": "lines",
           "type": "scatter",
           "x": [
            1000,
            1020
           ],
           "y": [
            600,
            662
           ]
          },
          {
           "line": {
            "color": "green",
            "width": 2
           },
           "mode": "lines",
           "type": "scatter",
           "x": [
            600,
            600
           ],
           "y": [
            600,
            674
           ]
          },
          {
           "line": {
            "color": "green",
            "width": 2
           },
           "mode": "lines",
           "type": "scatter",
           "x": [
            200,
            187
           ],
           "y": [
            1400,
            1419
           ]
          },
          {
           "line": {
            "color": "green",
            "width": 2
           },
           "mode": "lines",
           "type": "scatter",
           "x": [
            200,
            296
           ],
           "y": [
            200,
            172
           ]
          },
          {
           "line": {
            "color": "green",
            "width": 2
           },
           "mode": "lines",
           "type": "scatter",
           "x": [
            1400,
            1590
           ],
           "y": [
            1400,
            1458
           ]
          },
          {
           "line": {
            "color": "green",
            "width": 2
           },
           "mode": "lines",
           "type": "scatter",
           "x": [
            1000,
            925
           ],
           "y": [
            600,
            543
           ]
          },
          {
           "line": {
            "color": "green",
            "width": 2
           },
           "mode": "lines",
           "type": "scatter",
           "x": [
            600,
            593
           ],
           "y": [
            1400,
            1070
           ]
          },
          {
           "line": {
            "color": "green",
            "width": 2
           },
           "mode": "lines",
           "type": "scatter",
           "x": [
            600,
            606
           ],
           "y": [
            1400,
            1345
           ]
          },
          {
           "line": {
            "color": "green",
            "width": 2
           },
           "mode": "lines",
           "type": "scatter",
           "x": [
            1400,
            1454
           ],
           "y": [
            200,
            68
           ]
          },
          {
           "line": {
            "color": "red",
            "width": 2
           },
           "mode": "lines",
           "type": "scatter",
           "x": [
            1000,
            799
           ],
           "y": [
            600,
            549
           ]
          },
          {
           "line": {
            "color": "green",
            "width": 2
           },
           "mode": "lines",
           "type": "scatter",
           "x": [
            200,
            336
           ],
           "y": [
            600,
            687
           ]
          },
          {
           "line": {
            "color": "green",
            "width": 2
           },
           "mode": "lines",
           "type": "scatter",
           "x": [
            600,
            428
           ],
           "y": [
            1400,
            1332
           ]
          },
          {
           "line": {
            "color": "green",
            "width": 2
           },
           "mode": "lines",
           "type": "scatter",
           "x": [
            1400,
            1294
           ],
           "y": [
            600,
            578
           ]
          },
          {
           "line": {
            "color": "green",
            "width": 2
           },
           "mode": "lines",
           "type": "scatter",
           "x": [
            1400,
            1251
           ],
           "y": [
            1000,
            1153
           ]
          },
          {
           "line": {
            "color": "red",
            "width": 2
           },
           "mode": "lines",
           "type": "scatter",
           "x": [
            600,
            906
           ],
           "y": [
            600,
            657
           ]
          },
          {
           "line": {
            "color": "red",
            "width": 2
           },
           "mode": "lines",
           "type": "scatter",
           "x": [
            600,
            637
           ],
           "y": [
            200,
            535
           ]
          },
          {
           "line": {
            "color": "green",
            "width": 2
           },
           "mode": "lines",
           "type": "scatter",
           "x": [
            1400,
            1237
           ],
           "y": [
            200,
            216
           ]
          },
          {
           "line": {
            "color": "green",
            "width": 2
           },
           "mode": "lines",
           "type": "scatter",
           "x": [
            200,
            115
           ],
           "y": [
            200,
            101
           ]
          },
          {
           "line": {
            "color": "green",
            "width": 2
           },
           "mode": "lines",
           "type": "scatter",
           "x": [
            1000,
            649
           ],
           "y": [
            1400,
            1450
           ]
          },
          {
           "line": {
            "color": "green",
            "width": 2
           },
           "mode": "lines",
           "type": "scatter",
           "x": [
            200,
            302
           ],
           "y": [
            1400,
            1259
           ]
          },
          {
           "line": {
            "color": "green",
            "width": 2
           },
           "mode": "lines",
           "type": "scatter",
           "x": [
            1400,
            1034
           ],
           "y": [
            1000,
            1088
           ]
          },
          {
           "line": {
            "color": "red",
            "width": 2
           },
           "mode": "lines",
           "type": "scatter",
           "x": [
            1000,
            1061
           ],
           "y": [
            1000,
            995
           ]
          },
          {
           "line": {
            "color": "red",
            "width": 2
           },
           "mode": "lines",
           "type": "scatter",
           "x": [
            1000,
            818
           ],
           "y": [
            1000,
            774
           ]
          },
          {
           "line": {
            "color": "red",
            "width": 2
           },
           "mode": "lines",
           "type": "scatter",
           "x": [
            1000,
            959
           ],
           "y": [
            1000,
            677
           ]
          },
          {
           "line": {
            "color": "green",
            "width": 2
           },
           "mode": "lines",
           "type": "scatter",
           "x": [
            1000,
            987
           ],
           "y": [
            1400,
            1463
           ]
          },
          {
           "line": {
            "color": "green",
            "width": 2
           },
           "mode": "lines",
           "type": "scatter",
           "x": [
            1000,
            1083
           ],
           "y": [
            1400,
            1160
           ]
          },
          {
           "line": {
            "color": "green",
            "width": 2
           },
           "mode": "lines",
           "type": "scatter",
           "x": [
            1000,
            987
           ],
           "y": [
            1000,
            800
           ]
          },
          {
           "line": {
            "color": "green",
            "width": 2
           },
           "mode": "lines",
           "type": "scatter",
           "x": [
            1000,
            1139
           ],
           "y": [
            200,
            437
           ]
          },
          {
           "line": {
            "color": "red",
            "width": 2
           },
           "mode": "lines",
           "type": "scatter",
           "x": [
            1000,
            1093
           ],
           "y": [
            1000,
            819
           ]
          },
          {
           "line": {
            "color": "red",
            "width": 2
           },
           "mode": "lines",
           "type": "scatter",
           "x": [
            1000,
            972
           ],
           "y": [
            1000,
            635
           ]
          },
          {
           "line": {
            "color": "green",
            "width": 2
           },
           "mode": "lines",
           "type": "scatter",
           "x": [
            1000,
            1154
           ],
           "y": [
            200,
            436
           ]
          },
          {
           "line": {
            "color": "green",
            "width": 2
           },
           "mode": "lines",
           "type": "scatter",
           "x": [
            1000,
            1178
           ],
           "y": [
            600,
            757
           ]
          },
          {
           "line": {
            "color": "green",
            "width": 2
           },
           "mode": "lines",
           "type": "scatter",
           "x": [
            600,
            450
           ],
           "y": [
            200,
            268
           ]
          },
          {
           "line": {
            "color": "green",
            "width": 2
           },
           "mode": "lines",
           "type": "scatter",
           "x": [
            1400,
            1313
           ],
           "y": [
            1000,
            861
           ]
          },
          {
           "line": {
            "color": "green",
            "width": 2
           },
           "mode": "lines",
           "type": "scatter",
           "x": [
            600,
            630
           ],
           "y": [
            1400,
            1382
           ]
          },
          {
           "line": {
            "color": "green",
            "width": 2
           },
           "mode": "lines",
           "type": "scatter",
           "x": [
            1000,
            1133
           ],
           "y": [
            1400,
            1462
           ]
          },
          {
           "line": {
            "color": "green",
            "width": 2
           },
           "mode": "lines",
           "type": "scatter",
           "x": [
            600,
            732
           ],
           "y": [
            600,
            778
           ]
          },
          {
           "line": {
            "color": "green",
            "width": 2
           },
           "mode": "lines",
           "type": "scatter",
           "x": [
            200,
            201
           ],
           "y": [
            600,
            741
           ]
          },
          {
           "line": {
            "color": "green",
            "width": 2
           },
           "mode": "lines",
           "type": "scatter",
           "x": [
            600,
            459
           ],
           "y": [
            200,
            139
           ]
          },
          {
           "line": {
            "color": "red",
            "width": 2
           },
           "mode": "lines",
           "type": "scatter",
           "x": [
            600,
            677
           ],
           "y": [
            600,
            884
           ]
          },
          {
           "line": {
            "color": "green",
            "width": 2
           },
           "mode": "lines",
           "type": "scatter",
           "x": [
            200,
            246
           ],
           "y": [
            1000,
            943
           ]
          },
          {
           "line": {
            "color": "green",
            "width": 2
           },
           "mode": "lines",
           "type": "scatter",
           "x": [
            1400,
            1530
           ],
           "y": [
            1000,
            1119
           ]
          },
          {
           "line": {
            "color": "green",
            "width": 2
           },
           "mode": "lines",
           "type": "scatter",
           "x": [
            200,
            196
           ],
           "y": [
            1000,
            915
           ]
          },
          {
           "line": {
            "color": "green",
            "width": 2
           },
           "mode": "lines",
           "type": "scatter",
           "x": [
            1000,
            1067
           ],
           "y": [
            600,
            529
           ]
          },
          {
           "line": {
            "color": "green",
            "width": 2
           },
           "mode": "lines",
           "type": "scatter",
           "x": [
            1000,
            1024
           ],
           "y": [
            200,
            145
           ]
          },
          {
           "line": {
            "color": "green",
            "width": 2
           },
           "mode": "lines",
           "type": "scatter",
           "x": [
            200,
            209
           ],
           "y": [
            1400,
            1257
           ]
          },
          {
           "line": {
            "color": "green",
            "width": 2
           },
           "mode": "lines",
           "type": "scatter",
           "x": [
            200,
            231
           ],
           "y": [
            1400,
            1593
           ]
          },
          {
           "line": {
            "color": "green",
            "width": 2
           },
           "mode": "lines",
           "type": "scatter",
           "x": [
            1000,
            845
           ],
           "y": [
            1000,
            1226
           ]
          },
          {
           "line": {
            "color": "red",
            "width": 2
           },
           "mode": "lines",
           "type": "scatter",
           "x": [
            1000,
            630
           ],
           "y": [
            600,
            629
           ]
          },
          {
           "line": {
            "color": "green",
            "width": 2
           },
           "mode": "lines",
           "type": "scatter",
           "x": [
            1000,
            1118
           ],
           "y": [
            1000,
            911
           ]
          },
          {
           "line": {
            "color": "black",
            "width": 2
           },
           "mode": "lines",
           "type": "scatter",
           "x": [
            812,
            812
           ],
           "y": [
            0,
            1600
           ]
          },
          {
           "line": {
            "color": "black",
            "width": 2
           },
           "mode": "lines",
           "type": "scatter",
           "x": [
            812,
            912
           ],
           "y": [
            1600,
            1600
           ]
          },
          {
           "line": {
            "color": "black",
            "width": 2
           },
           "mode": "lines",
           "type": "scatter",
           "x": [
            912,
            912
           ],
           "y": [
            1600,
            0
           ]
          },
          {
           "line": {
            "color": "black",
            "width": 2
           },
           "mode": "lines",
           "type": "scatter",
           "x": [
            812,
            912
           ],
           "y": [
            0,
            0
           ]
          },
          {
           "line": {
            "color": "black",
            "width": 2
           },
           "mode": "lines",
           "type": "scatter",
           "x": [
            0,
            0
           ],
           "y": [
            257,
            357
           ]
          },
          {
           "line": {
            "color": "black",
            "width": 2
           },
           "mode": "lines",
           "type": "scatter",
           "x": [
            0,
            1600
           ],
           "y": [
            357,
            357
           ]
          },
          {
           "line": {
            "color": "black",
            "width": 2
           },
           "mode": "lines",
           "type": "scatter",
           "x": [
            1600,
            1600
           ],
           "y": [
            357,
            257
           ]
          },
          {
           "line": {
            "color": "black",
            "width": 2
           },
           "mode": "lines",
           "type": "scatter",
           "x": [
            0,
            1600
           ],
           "y": [
            257,
            257
           ]
          },
          {
           "line": {
            "color": "black",
            "width": 2
           },
           "mode": "lines",
           "type": "scatter",
           "x": [
            0,
            0
           ],
           "y": [
            85,
            185
           ]
          },
          {
           "line": {
            "color": "black",
            "width": 2
           },
           "mode": "lines",
           "type": "scatter",
           "x": [
            0,
            1600
           ],
           "y": [
            185,
            185
           ]
          },
          {
           "line": {
            "color": "black",
            "width": 2
           },
           "mode": "lines",
           "type": "scatter",
           "x": [
            1600,
            1600
           ],
           "y": [
            185,
            85
           ]
          },
          {
           "line": {
            "color": "black",
            "width": 2
           },
           "mode": "lines",
           "type": "scatter",
           "x": [
            0,
            1600
           ],
           "y": [
            85,
            85
           ]
          },
          {
           "line": {
            "color": "black",
            "width": 2
           },
           "mode": "lines",
           "type": "scatter",
           "x": [
            465,
            465
           ],
           "y": [
            80,
            260
           ]
          },
          {
           "line": {
            "color": "black",
            "width": 2
           },
           "mode": "lines",
           "type": "scatter",
           "x": [
            465,
            556
           ],
           "y": [
            260,
            260
           ]
          },
          {
           "line": {
            "color": "black",
            "width": 2
           },
           "mode": "lines",
           "type": "scatter",
           "x": [
            556,
            556
           ],
           "y": [
            260,
            80
           ]
          },
          {
           "line": {
            "color": "black",
            "width": 2
           },
           "mode": "lines",
           "type": "scatter",
           "x": [
            465,
            556
           ],
           "y": [
            80,
            80
           ]
          },
          {
           "marker": {
            "color": [
             "orange",
             "orange",
             "orange",
             "orange",
             "orange",
             "orange",
             "orange",
             "orange",
             "orange",
             "orange",
             "orange",
             "orange",
             "orange",
             "orange",
             "orange",
             "orange",
             "blue",
             "magenta",
             "magenta",
             "blue",
             "magenta",
             "magenta",
             "magenta",
             "blue",
             "magenta",
             "magenta",
             "magenta",
             "magenta",
             "blue",
             "magenta",
             "blue",
             "magenta",
             "blue",
             "blue",
             "blue",
             "magenta",
             "blue",
             "magenta",
             "magenta",
             "magenta",
             "magenta",
             "magenta",
             "blue",
             "magenta",
             "blue",
             "magenta",
             "magenta",
             "magenta",
             "magenta",
             "blue",
             "blue",
             "magenta",
             "magenta",
             "magenta",
             "magenta",
             "magenta",
             "blue",
             "magenta",
             "magenta",
             "blue",
             "blue",
             "magenta",
             "magenta",
             "magenta",
             "magenta",
             "magenta",
             "blue",
             "blue",
             "magenta",
             "magenta",
             "magenta",
             "magenta",
             "magenta",
             "magenta",
             "magenta",
             "magenta",
             "magenta",
             "magenta",
             "magenta",
             "magenta",
             "magenta",
             "magenta",
             "blue",
             "magenta",
             "blue",
             "magenta",
             "magenta",
             "magenta",
             "blue",
             "magenta",
             "magenta",
             "magenta",
             "blue",
             "magenta",
             "magenta",
             "blue",
             "blue",
             "blue",
             "blue",
             "magenta",
             "magenta",
             "magenta",
             "magenta",
             "magenta",
             "magenta",
             "magenta",
             "magenta",
             "blue",
             "magenta",
             "magenta",
             "magenta",
             "magenta",
             "magenta",
             "blue",
             "magenta",
             "blue",
             "magenta",
             "magenta",
             "blue",
             "magenta",
             "magenta",
             "magenta",
             "magenta",
             "magenta",
             "magenta",
             "magenta",
             "magenta",
             "magenta",
             "magenta",
             "magenta",
             "magenta",
             "magenta",
             "magenta",
             "blue",
             "magenta",
             "magenta",
             "magenta",
             "blue",
             "magenta",
             "magenta",
             "magenta",
             "magenta",
             "magenta",
             "magenta",
             "magenta",
             "magenta",
             "blue",
             "blue",
             "magenta",
             "magenta",
             "magenta",
             "blue",
             "magenta",
             "magenta",
             "magenta",
             "magenta",
             "magenta",
             "magenta",
             "magenta",
             "magenta",
             "magenta",
             "magenta",
             "magenta",
             "magenta",
             "magenta",
             "blue",
             "blue",
             "magenta",
             "magenta",
             "magenta",
             "magenta",
             "magenta",
             "magenta",
             "magenta",
             "magenta",
             "blue",
             "magenta",
             "magenta",
             "magenta",
             "magenta",
             "blue",
             "blue",
             "magenta",
             "magenta",
             "magenta",
             "magenta",
             "magenta",
             "blue",
             "blue",
             "blue",
             "magenta",
             "magenta",
             "magenta",
             "magenta",
             "blue",
             "blue",
             "magenta",
             "magenta",
             "magenta",
             "magenta",
             "magenta",
             "magenta",
             "magenta",
             "magenta",
             "magenta",
             "blue",
             "magenta",
             "magenta",
             "magenta",
             "magenta",
             "magenta",
             "magenta",
             "magenta",
             "magenta",
             "blue",
             "magenta",
             "black",
             "black",
             "black",
             "black",
             "black",
             "black",
             "black",
             "black",
             "black",
             "black",
             "black",
             "black",
             "black",
             "black",
             "black",
             "black"
            ],
            "size": 8
           },
           "mode": "markers",
           "type": "scatter",
           "x": [
            200,
            200,
            200,
            200,
            600,
            600,
            600,
            600,
            1000,
            1000,
            1000,
            1000,
            1400,
            1400,
            1400,
            1400,
            951,
            1167,
            1176,
            1042,
            1383,
            357,
            16,
            603,
            709,
            1504,
            591,
            1295,
            528,
            1446,
            605,
            1550,
            961,
            749,
            693,
            605,
            703,
            370,
            923,
            35,
            861,
            1028,
            941,
            1597,
            669,
            271,
            1029,
            896,
            1527,
            1072,
            584,
            216,
            1492,
            1124,
            639,
            1102,
            698,
            1501,
            966,
            922,
            593,
            262,
            1225,
            50,
            47,
            1052,
            655,
            681,
            203,
            136,
            659,
            1030,
            1156,
            924,
            745,
            1192,
            1103,
            941,
            620,
            834,
            670,
            218,
            547,
            121,
            897,
            1488,
            803,
            1184,
            615,
            1171,
            273,
            539,
            816,
            1379,
            624,
            836,
            851,
            610,
            840,
            1091,
            445,
            87,
            599,
            355,
            351,
            1202,
            168,
            766,
            1406,
            1389,
            826,
            1586,
            1064,
            537,
            511,
            591,
            819,
            347,
            794,
            339,
            840,
            83,
            136,
            42,
            203,
            256,
            1549,
            992,
            1596,
            861,
            411,
            197,
            1140,
            520,
            696,
            1385,
            1238,
            1056,
            299,
            699,
            571,
            1495,
            241,
            1450,
            173,
            1537,
            569,
            681,
            975,
            947,
            292,
            652,
            773,
            134,
            157,
            512,
            847,
            1392,
            524.5041436843038,
            222,
            1177,
            1362,
            753,
            829,
            169,
            514,
            1020,
            600,
            187,
            296,
            1590,
            925,
            593,
            606,
            1454,
            799,
            336,
            428,
            1294,
            1251,
            906,
            637,
            1237,
            115,
            649,
            302,
            1034,
            1061,
            818,
            959,
            987,
            1083,
            987,
            1139,
            1093,
            972,
            1154,
            1178,
            450,
            1313,
            630,
            1133,
            732,
            201,
            459,
            677,
            246,
            1530,
            196,
            1067,
            1024,
            209,
            231,
            845,
            630,
            1118,
            812,
            812,
            912,
            912,
            0,
            0,
            1600,
            1600,
            0,
            0,
            1600,
            1600,
            465,
            465,
            556,
            556
           ],
           "y": [
            200,
            600,
            1000,
            1400,
            200,
            600,
            1000,
            1400,
            200,
            600,
            1000,
            1400,
            200,
            600,
            1000,
            1400,
            533,
            584,
            1293,
            1003,
            796,
            293,
            758,
            796,
            968,
            298,
            1205,
            420,
            556,
            656,
            506,
            148,
            920,
            662,
            1035,
            276,
            960,
            236,
            1158,
            504,
            735,
            375,
            628,
            1175,
            831,
            871,
            1575,
            1204,
            1129,
            853,
            1099,
            128,
            1294,
            518,
            121,
            1059,
            538,
            808,
            905,
            637,
            512,
            169,
            291,
            920,
            716,
            654,
            941,
            939,
            556,
            154,
            1205,
            1588,
            1462,
            750,
            77,
            1436,
            1064,
            1504,
            1197,
            154,
            1074,
            332,
            857,
            445,
            973,
            15,
            1120,
            1060,
            938,
            941,
            1061,
            815,
            878,
            1304,
            782,
            810,
            723,
            683,
            638,
            360,
            138,
            686,
            277,
            605,
            1597,
            117,
            942,
            1030,
            615,
            133,
            1559,
            1047,
            801,
            1096,
            826,
            963,
            590,
            974,
            551,
            572,
            179,
            903,
            1083,
            511,
            1567,
            474,
            702,
            1550,
            287,
            334,
            32,
            211,
            577,
            951,
            1240,
            597,
            1189,
            993,
            1507,
            538,
            1450,
            414,
            596,
            526,
            1234,
            960,
            635,
            1092,
            857,
            913,
            1439,
            725,
            804,
            1001,
            745,
            150,
            0,
            848,
            223.33353439038484,
            632,
            381,
            849,
            1247,
            1282,
            1469,
            898,
            662,
            674,
            1419,
            172,
            1458,
            543,
            1070,
            1345,
            68,
            549,
            687,
            1332,
            578,
            1153,
            657,
            535,
            216,
            101,
            1450,
            1259,
            1088,
            995,
            774,
            677,
            1463,
            1160,
            800,
            437,
            819,
            635,
            436,
            757,
            268,
            861,
            1382,
            1462,
            778,
            741,
            139,
            884,
            943,
            1119,
            915,
            529,
            145,
            1257,
            1593,
            1226,
            629,
            911,
            0,
            1600,
            1600,
            0,
            257,
            357,
            357,
            257,
            85,
            185,
            185,
            85,
            80,
            260,
            260,
            80
           ]
          }
         ]
        },
        {
         "data": [
          {
           "line": {
            "color": "red",
            "width": 2
           },
           "mode": "lines",
           "type": "scatter",
           "x": [
            600,
            953
           ],
           "y": [
            600,
            534
           ]
          },
          {
           "line": {
            "color": "green",
            "width": 2
           },
           "mode": "lines",
           "type": "scatter",
           "x": [
            1000,
            1165
           ],
           "y": [
            600,
            585
           ]
          },
          {
           "line": {
            "color": "green",
            "width": 2
           },
           "mode": "lines",
           "type": "scatter",
           "x": [
            1000,
            1174
           ],
           "y": [
            1400,
            1293
           ]
          },
          {
           "line": {
            "color": "red",
            "width": 2
           },
           "mode": "lines",
           "type": "scatter",
           "x": [
            1000,
            1042
           ],
           "y": [
            1000,
            1001
           ]
          },
          {
           "line": {
            "color": "green",
            "width": 2
           },
           "mode": "lines",
           "type": "scatter",
           "x": [
            1400,
            1383
           ],
           "y": [
            600,
            794
           ]
          },
          {
           "line": {
            "color": "green",
            "width": 2
           },
           "mode": "lines",
           "type": "scatter",
           "x": [
            600,
            317
           ],
           "y": [
            200,
            293
           ]
          },
          {
           "line": {
            "color": "green",
            "width": 2
           },
           "mode": "lines",
           "type": "scatter",
           "x": [
            200,
            16
           ],
           "y": [
            1000,
            760
           ]
          },
          {
           "line": {
            "color": "red",
            "width": 2
           },
           "mode": "lines",
           "type": "scatter",
           "x": [
            1000,
            601
           ],
           "y": [
            600,
            796
           ]
          },
          {
           "line": {
            "color": "green",
            "width": 2
           },
           "mode": "lines",
           "type": "scatter",
           "x": [
            1000,
            707
           ],
           "y": [
            1000,
            968
           ]
          },
          {
           "line": {
            "color": "green",
            "width": 2
           },
           "mode": "lines",
           "type": "scatter",
           "x": [
            1400,
            1556
           ],
           "y": [
            200,
            298
           ]
          },
          {
           "line": {
            "color": "green",
            "width": 2
           },
           "mode": "lines",
           "type": "scatter",
           "x": [
            600,
            591
           ],
           "y": [
            1400,
            1207
           ]
          },
          {
           "line": {
            "color": "green",
            "width": 2
           },
           "mode": "lines",
           "type": "scatter",
           "x": [
            1400,
            1296
           ],
           "y": [
            600,
            421
           ]
          },
          {
           "line": {
            "color": "red",
            "width": 2
           },
           "mode": "lines",
           "type": "scatter",
           "x": [
            200,
            526
           ],
           "y": [
            600,
            557
           ]
          },
          {
           "line": {
            "color": "green",
            "width": 2
           },
           "mode": "lines",
           "type": "scatter",
           "x": [
            1400,
            1444
           ],
           "y": [
            1000,
            655
           ]
          },
          {
           "line": {
            "color": "red",
            "width": 2
           },
           "mode": "lines",
           "type": "scatter",
           "x": [
            600,
            603
           ],
           "y": [
            200,
            505
           ]
          },
          {
           "line": {
            "color": "green",
            "width": 2
           },
           "mode": "lines",
           "type": "scatter",
           "x": [
            1400,
            1592
           ],
           "y": [
            200,
            148
           ]
          },
          {
           "line": {
            "color": "red",
            "width": 2
           },
           "mode": "lines",
           "type": "scatter",
           "x": [
            1000,
            959
           ],
           "y": [
            600,
            919
           ]
          },
          {
           "line": {
            "color": "red",
            "width": 2
           },
           "mode": "lines",
           "type": "scatter",
           "x": [
            600,
            751
           ],
           "y": [
            600,
            662
           ]
          },
          {
           "line": {
            "color": "red",
            "width": 2
           },
           "mode": "lines",
           "type": "scatter",
           "x": [
            1000,
            695
           ],
           "y": [
            1000,
            1036
           ]
          },
          {
           "line": {
            "color": "green",
            "width": 2
           },
           "mode": "lines",
           "type": "scatter",
           "x": [
            600,
            582
           ],
           "y": [
            200,
            276
           ]
          },
          {
           "line": {
            "color": "red",
            "width": 2
           },
           "mode": "lines",
           "type": "scatter",
           "x": [
            1000,
            701
           ],
           "y": [
            1000,
            961
           ]
          },
          {
           "line": {
            "color": "green",
            "width": 2
           },
           "mode": "lines",
           "type": "scatter",
           "x": [
            200,
            371
           ],
           "y": [
            200,
            234
           ]
          },
          {
           "line": {
            "color": "green",
            "width": 2
           },
           "mode": "lines",
           "type": "scatter",
           "x": [
            1000,
            923
           ],
           "y": [
            1000,
            1160
           ]
          },
          {
           "line": {
            "color": "green",
            "width": 2
           },
           "mode": "lines",
           "type": "scatter",
           "x": [
            200,
            33
           ],
           "y": [
            600,
            505
           ]
          },
          {
           "line": {
            "color": "green",
            "width": 2
           },
           "mode": "lines",
           "type": "scatter",
           "x": [
            1000,
            861
           ],
           "y": [
            1000,
            685
           ]
          },
          {
           "line": {
            "color": "green",
            "width": 2
           },
           "mode": "lines",
           "type": "scatter",
           "x": [
            1400,
            1030
           ],
           "y": [
            600,
            376
           ]
          },
          {
           "line": {
            "color": "red",
            "width": 2
           },
           "mode": "lines",
           "type": "scatter",
           "x": [
            1000,
            942
           ],
           "y": [
            600,
            626
           ]
          },
          {
           "line": {
            "color": "green",
            "width": 2
           },
           "mode": "lines",
           "type": "scatter",
           "x": [
            1400,
            1596
           ],
           "y": [
            1000,
            1173
           ]
          },
          {
           "line": {
            "color": "red",
            "width": 2
           },
           "mode": "lines",
           "type": "scatter",
           "x": [
            600,
            669
           ],
           "y": [
            600,
            833
           ]
          },
          {
           "line": {
            "color": "green",
            "width": 2
           },
           "mode": "lines",
           "type": "scatter",
           "x": [
            200,
            271
           ],
           "y": [
            1000,
            873
           ]
          },
          {
           "line": {
            "color": "green",
            "width": 2
           },
           "mode": "lines",
           "type": "scatter",
           "x": [
            1400,
            1028
           ],
           "y": [
            1400,
            1577
           ]
          },
          {
           "line": {
            "color": "green",
            "width": 2
           },
           "mode": "lines",
           "type": "scatter",
           "x": [
            1000,
            896
           ],
           "y": [
            1400,
            1171
           ]
          },
          {
           "line": {
            "color": "green",
            "width": 2
           },
           "mode": "lines",
           "type": "scatter",
           "x": [
            1400,
            1526
           ],
           "y": [
            1000,
            1127
           ]
          },
          {
           "line": {
            "color": "red",
            "width": 2
           },
           "mode": "lines",
           "type": "scatter",
           "x": [
            1000,
            1070
           ],
           "y": [
            600,
            854
           ]
          },
          {
           "line": {
            "color": "green",
            "width": 2
           },
           "mode": "lines",
           "type": "scatter",
           "x": [
            200,
            582
           ],
           "y": [
            1400,
            1098
           ]
          },
          {
           "line": {
            "color": "green",
            "width": 2
           },
           "mode": "lines",
           "type": "scatter",
           "x": [
            200,
            238
           ],
           "y": [
            200,
            128
           ]
          },
          {
           "line": {
            "color": "green",
            "width": 2
           },
           "mode": "lines",
           "type": "scatter",
           "x": [
            1400,
            1491
           ],
           "y": [
            1400,
            1296
           ]
          },
          {
           "line": {
            "color": "green",
            "width": 2
           },
           "mode": "lines",
           "type": "scatter",
           "x": [
            1000,
            1123
           ],
           "y": [
            600,
            520
           ]
          },
          {
           "line": {
            "color": "green",
            "width": 2
           },
           "mode": "lines",
           "type": "scatter",
           "x": [
            600,
            586
           ],
           "y": [
            200,
            121
           ]
          },
          {
           "line": {
            "color": "green",
            "width": 2
           },
           "mode": "lines",
           "type": "scatter",
           "x": [
            1400,
            1102
           ],
           "y": [
            1400,
            1057
           ]
          },
          {
           "line": {
            "color": "red",
            "width": 2
           },
           "mode": "lines",
           "type": "scatter",
           "x": [
            600,
            698
           ],
           "y": [
            200,
            536
           ]
          },
          {
           "line": {
            "color": "green",
            "width": 2
           },
           "mode": "lines",
           "type": "scatter",
           "x": [
            1400,
            1503
           ],
           "y": [
            600,
            808
           ]
          },
          {
           "line": {
            "color": "green",
            "width": 2
           },
           "mode": "lines",
           "type": "scatter",
           "x": [
            1000,
            965
           ],
           "y": [
            1000,
            903
           ]
          },
          {
           "line": {
            "color": "red",
            "width": 2
           },
           "mode": "lines",
           "type": "scatter",
           "x": [
            1000,
            922
           ],
           "y": [
            600,
            635
           ]
          },
          {
           "line": {
            "color": "red",
            "width": 2
           },
           "mode": "lines",
           "type": "scatter",
           "x": [
            200,
            591
           ],
           "y": [
            600,
            512
           ]
          },
          {
           "line": {
            "color": "green",
            "width": 2
           },
           "mode": "lines",
           "type": "scatter",
           "x": [
            200,
            305
           ],
           "y": [
            200,
            169
           ]
          },
          {
           "line": {
            "color": "green",
            "width": 2
           },
           "mode": "lines",
           "type": "scatter",
           "x": [
            1400,
            1198
           ],
           "y": [
            200,
            291
           ]
          },
          {
           "line": {
            "color": "green",
            "width": 2
           },
           "mode": "lines",
           "type": "scatter",
           "x": [
            200,
            48
           ],
           "y": [
            1000,
            920
           ]
          },
          {
           "line": {
            "color": "green",
            "width": 2
           },
           "mode": "lines",
           "type": "scatter",
           "x": [
            200,
            48
           ],
           "y": [
            1000,
            714
           ]
          },
          {
           "line": {
            "color": "green",
            "width": 2
           },
           "mode": "lines",
           "type": "scatter",
           "x": [
            1000,
            1051
           ],
           "y": [
            1000,
            655
           ]
          },
          {
           "line": {
            "color": "red",
            "width": 2
           },
           "mode": "lines",
           "type": "scatter",
           "x": [
            1000,
            654
           ],
           "y": [
            1000,
            939
           ]
          },
          {
           "line": {
            "color": "red",
            "width": 2
           },
           "mode": "lines",
           "type": "scatter",
           "x": [
            1000,
            682
           ],
           "y": [
            1000,
            937
           ]
          },
          {
           "line": {
            "color": "green",
            "width": 2
           },
           "mode": "lines",
           "type": "scatter",
           "x": [
            200,
            203
           ],
           "y": [
            600,
            558
           ]
          },
          {
           "line": {
            "color": "green",
            "width": 2
           },
           "mode": "lines",
           "type": "scatter",
           "x": [
            600,
            87
           ],
           "y": [
            200,
            154
           ]
          },
          {
           "line": {
            "color": "green",
            "width": 2
           },
           "mode": "lines",
           "type": "scatter",
           "x": [
            600,
            660
           ],
           "y": [
            1400,
            1204
           ]
          },
          {
           "line": {
            "color": "green",
            "width": 2
           },
           "mode": "lines",
           "type": "scatter",
           "x": [
            1000,
            1032
           ],
           "y": [
            1400,
            1588
           ]
          },
          {
           "line": {
            "color": "green",
            "width": 2
           },
           "mode": "lines",
           "type": "scatter",
           "x": [
            1000,
            1154
           ],
           "y": [
            1400,
            1462
           ]
          },
          {
           "line": {
            "color": "green",
            "width": 2
           },
           "mode": "lines",
           "type": "scatter",
           "x": [
            1000,
            923
           ],
           "y": [
            1000,
            751
           ]
          },
          {
           "line": {
            "color": "green",
            "width": 2
           },
           "mode": "lines",
           "type": "scatter",
           "x": [
            600,
            746
           ],
           "y": [
            200,
            79
           ]
          },
          {
           "line": {
            "color": "green",
            "width": 2
           },
           "mode": "lines",
           "type": "scatter",
           "x": [
            1000,
            1194
           ],
           "y": [
            1400,
            1436
           ]
          },
          {
           "line": {
            "color": "green",
            "width": 2
           },
           "mode": "lines",
           "type": "scatter",
           "x": [
            1000,
            1105
           ],
           "y": [
            1000,
            1065
           ]
          },
          {
           "line": {
            "color": "green",
            "width": 2
           },
           "mode": "lines",
           "type": "scatter",
           "x": [
            600,
            940
           ],
           "y": [
            1400,
            1502
           ]
          },
          {
           "line": {
            "color": "green",
            "width": 2
           },
           "mode": "lines",
           "type": "scatter",
           "x": [
            600,
            619
           ],
           "y": [
            1400,
            1196
           ]
          },
          {
           "line": {
            "color": "green",
            "width": 2
           },
           "mode": "lines",
           "type": "scatter",
           "x": [
            600,
            783
           ],
           "y": [
            200,
            154
           ]
          },
          {
           "line": {
            "color": "green",
            "width": 2
           },
           "mode": "lines",
           "type": "scatter",
           "x": [
            600,
            671
           ],
           "y": [
            1400,
            1072
           ]
          },
          {
           "line": {
            "color": "green",
            "width": 2
           },
           "mode": "lines",
           "type": "scatter",
           "x": [
            200,
            244
           ],
           "y": [
            600,
            332
           ]
          },
          {
           "line": {
            "color": "green",
            "width": 2
           },
           "mode": "lines",
           "type": "scatter",
           "x": [
            600,
            545
           ],
           "y": [
            1000,
            857
           ]
          },
          {
           "line": {
            "color": "green",
            "width": 2
           },
           "mode": "lines",
           "type": "scatter",
           "x": [
            200,
            119
           ],
           "y": [
            600,
            446
           ]
          },
          {
           "line": {
            "color": "red",
            "width": 2
           },
           "mode": "lines",
           "type": "scatter",
           "x": [
            1000,
            897
           ],
           "y": [
            1000,
            999
           ]
          },
          {
           "line": {
            "color": "green",
            "width": 2
           },
           "mode": "lines",
           "type": "scatter",
           "x": [
            1400,
            1487
           ],
           "y": [
            200,
            13
           ]
          },
          {
           "line": {
            "color": "green",
            "width": 2
           },
           "mode": "lines",
           "type": "scatter",
           "x": [
            1000,
            801
           ],
           "y": [
            1000,
            1120
           ]
          },
          {
           "line": {
            "color": "green",
            "width": 2
           },
           "mode": "lines",
           "type": "scatter",
           "x": [
            1400,
            1184
           ],
           "y": [
            1000,
            1058
           ]
          },
          {
           "line": {
            "color": "green",
            "width": 2
           },
           "mode": "lines",
           "type": "scatter",
           "x": [
            600,
            613
           ],
           "y": [
            1000,
            938
           ]
          },
          {
           "line": {
            "color": "green",
            "width": 2
           },
           "mode": "lines",
           "type": "scatter",
           "x": [
            1400,
            1170
           ],
           "y": [
            1000,
            942
           ]
          },
          {
           "line": {
            "color": "green",
            "width": 2
           },
           "mode": "lines",
           "type": "scatter",
           "x": [
            200,
            274
           ],
           "y": [
            1000,
            1063
           ]
          },
          {
           "line": {
            "color": "green",
            "width": 2
           },
           "mode": "lines",
           "type": "scatter",
           "x": [
            600,
            540
           ],
           "y": [
            600,
            817
           ]
          },
          {
           "line": {
            "color": "red",
            "width": 2
           },
           "mode": "lines",
           "type": "scatter",
           "x": [
            1000,
            816
           ],
           "y": [
            1000,
            834
           ]
          },
          {
           "line": {
            "color": "green",
            "width": 2
           },
           "mode": "lines",
           "type": "scatter",
           "x": [
            1400,
            1377
           ],
           "y": [
            1400,
            1304
           ]
          },
          {
           "line": {
            "color": "green",
            "width": 2
           },
           "mode": "lines",
           "type": "scatter",
           "x": [
            600,
            625
           ],
           "y": [
            1000,
            784
           ]
          },
          {
           "line": {
            "color": "red",
            "width": 2
           },
           "mode": "lines",
           "type": "scatter",
           "x": [
            1000,
            836
           ],
           "y": [
            1000,
            832
           ]
          },
          {
           "line": {
            "color": "red",
            "width": 2
           },
           "mode": "lines",
           "type": "scatter",
           "x": [
            1000,
            851
           ],
           "y": [
            1000,
            693
           ]
          },
          {
           "line": {
            "color": "red",
            "width": 2
           },
           "mode": "lines",
           "type": "scatter",
           "x": [
            600,
            608
           ],
           "y": [
            600,
            684
           ]
          },
          {
           "line": {
            "color": "red",
            "width": 2
           },
           "mode": "lines",
           "type": "scatter",
           "x": [
            600,
            840
           ],
           "y": [
            600,
            596
           ]
          },
          {
           "line": {
            "color": "green",
            "width": 2
           },
           "mode": "lines",
           "type": "scatter",
           "x": [
            1000,
            1091
           ],
           "y": [
            200,
            358
           ]
          },
          {
           "line": {
            "color": "green",
            "width": 2
           },
           "mode": "lines",
           "type": "scatter",
           "x": [
            200,
            488
           ],
           "y": [
            200,
            138
           ]
          },
          {
           "line": {
            "color": "green",
            "width": 2
           },
           "mode": "lines",
           "type": "scatter",
           "x": [
            200,
            85
           ],
           "y": [
            600,
            687
           ]
          },
          {
           "line": {
            "color": "green",
            "width": 2
           },
           "mode": "lines",
           "type": "scatter",
           "x": [
            600,
            634
           ],
           "y": [
            200,
            277
           ]
          },
          {
           "line": {
            "color": "green",
            "width": 2
           },
           "mode": "lines",
           "type": "scatter",
           "x": [
            200,
            354
           ],
           "y": [
            600,
            607
           ]
          },
          {
           "line": {
            "color": "green",
            "width": 2
           },
           "mode": "lines",
           "type": "scatter",
           "x": [
            200,
            350
           ],
           "y": [
            1400,
            1599
           ]
          },
          {
           "line": {
            "color": "green",
            "width": 2
           },
           "mode": "lines",
           "type": "scatter",
           "x": [
            1000,
            1234
           ],
           "y": [
            200,
            117
           ]
          },
          {
           "line": {
            "color": "green",
            "width": 2
           },
           "mode": "lines",
           "type": "scatter",
           "x": [
            200,
            170
           ],
           "y": [
            600,
            943
           ]
          },
          {
           "line": {
            "color": "red",
            "width": 2
           },
           "mode": "lines",
           "type": "scatter",
           "x": [
            1000,
            768
           ],
           "y": [
            1000,
            1029
           ]
          },
          {
           "line": {
            "color": "green",
            "width": 2
           },
           "mode": "lines",
           "type": "scatter",
           "x": [
            1400,
            1405
           ],
           "y": [
            1000,
            613
           ]
          },
          {
           "line": {
            "color": "green",
            "width": 2
           },
           "mode": "lines",
           "type": "scatter",
           "x": [
            1400,
            1337
           ],
           "y": [
            200,
            133
           ]
          },
          {
           "line": {
            "color": "green",
            "width": 2
           },
           "mode": "lines",
           "type": "scatter",
           "x": [
            1000,
            826
           ],
           "y": [
            1400,
            1524
           ]
          },
          {
           "line": {
            "color": "green",
            "width": 2
           },
           "mode": "lines",
           "type": "scatter",
           "x": [
            1400,
            1585
           ],
           "y": [
            1400,
            1046
           ]
          },
          {
           "line": {
            "color": "green",
            "width": 2
           },
           "mode": "lines",
           "type": "scatter",
           "x": [
            1000,
            1062
           ],
           "y": [
            600,
            801
           ]
          },
          {
           "line": {
            "color": "red",
            "width": 2
           },
           "mode": "lines",
           "type": "scatter",
           "x": [
            600,
            539
           ],
           "y": [
            1400,
            1096
           ]
          },
          {
           "line": {
            "color": "green",
            "width": 2
           },
           "mode": "lines",
           "type": "scatter",
           "x": [
            200,
            513
           ],
           "y": [
            600,
            827
           ]
          },
          {
           "line": {
            "color": "green",
            "width": 2
           },
           "mode": "lines",
           "type": "scatter",
           "x": [
            600,
            589
           ],
           "y": [
            1000,
            963
           ]
          },
          {
           "line": {
            "color": "green",
            "width": 2
           },
           "mode": "lines",
           "type": "scatter",
           "x": [
            600,
            819
           ],
           "y": [
            600,
            640
           ]
          },
          {
           "line": {
            "color": "green",
            "width": 2
           },
           "mode": "lines",
           "type": "scatter",
           "x": [
            200,
            347
           ],
           "y": [
            1000,
            972
           ]
          },
          {
           "line": {
            "color": "red",
            "width": 2
           },
           "mode": "lines",
           "type": "scatter",
           "x": [
            600,
            796
           ],
           "y": [
            600,
            550
           ]
          },
          {
           "line": {
            "color": "green",
            "width": 2
           },
           "mode": "lines",
           "type": "scatter",
           "x": [
            200,
            337
           ],
           "y": [
            600,
            571
           ]
          },
          {
           "line": {
            "color": "green",
            "width": 2
           },
           "mode": "lines",
           "type": "scatter",
           "x": [
            1000,
            791
           ],
           "y": [
            200,
            179
           ]
          },
          {
           "line": {
            "color": "green",
            "width": 2
           },
           "mode": "lines",
           "type": "scatter",
           "x": [
            200,
            85
           ],
           "y": [
            600,
            902
           ]
          },
          {
           "line": {
            "color": "green",
            "width": 2
           },
           "mode": "lines",
           "type": "scatter",
           "x": [
            200,
            136
           ],
           "y": [
            1000,
            1085
           ]
          },
          {
           "line": {
            "color": "green",
            "width": 2
           },
           "mode": "lines",
           "type": "scatter",
           "x": [
            200,
            41
           ],
           "y": [
            600,
            513
           ]
          },
          {
           "line": {
            "color": "green",
            "width": 2
           },
           "mode": "lines",
           "type": "scatter",
           "x": [
            200,
            204
           ],
           "y": [
            1400,
            1566
           ]
          },
          {
           "line": {
            "color": "green",
            "width": 2
           },
           "mode": "lines",
           "type": "scatter",
           "x": [
            200,
            258
           ],
           "y": [
            600,
            473
           ]
          },
          {
           "line": {
            "color": "green",
            "width": 2
           },
           "mode": "lines",
           "type": "scatter",
           "x": [
            1400,
            1551
           ],
           "y": [
            600,
            703
           ]
          },
          {
           "line": {
            "color": "green",
            "width": 2
           },
           "mode": "lines",
           "type": "scatter",
           "x": [
            1000,
            993
           ],
           "y": [
            1400,
            1548
           ]
          },
          {
           "line": {
            "color": "green",
            "width": 2
           },
           "mode": "lines",
           "type": "scatter",
           "x": [
            1400,
            1599
           ],
           "y": [
            200,
            287
           ]
          },
          {
           "line": {
            "color": "green",
            "width": 2
           },
           "mode": "lines",
           "type": "scatter",
           "x": [
            600,
            909
           ],
           "y": [
            200,
            334
           ]
          },
          {
           "line": {
            "color": "green",
            "width": 2
           },
           "mode": "lines",
           "type": "scatter",
           "x": [
            600,
            409
           ],
           "y": [
            200,
            33
           ]
          },
          {
           "line": {
            "color": "green",
            "width": 2
           },
           "mode": "lines",
           "type": "scatter",
           "x": [
            200,
            199
           ],
           "y": [
            200,
            212
           ]
          },
          {
           "line": {
            "color": "green",
            "width": 2
           },
           "mode": "lines",
           "type": "scatter",
           "x": [
            1400,
            1142
           ],
           "y": [
            600,
            576
           ]
          },
          {
           "line": {
            "color": "green",
            "width": 2
           },
           "mode": "lines",
           "type": "scatter",
           "x": [
            600,
            521
           ],
           "y": [
            1000,
            949
           ]
          },
          {
           "line": {
            "color": "green",
            "width": 2
           },
           "mode": "lines",
           "type": "scatter",
           "x": [
            600,
            697
           ],
           "y": [
            1400,
            1242
           ]
          },
          {
           "line": {
            "color": "green",
            "width": 2
           },
           "mode": "lines",
           "type": "scatter",
           "x": [
            1400,
            1384
           ],
           "y": [
            600,
            599
           ]
          },
          {
           "line": {
            "color": "green",
            "width": 2
           },
           "mode": "lines",
           "type": "scatter",
           "x": [
            1400,
            1236
           ],
           "y": [
            1000,
            1188
           ]
          },
          {
           "line": {
            "color": "red",
            "width": 2
           },
           "mode": "lines",
           "type": "scatter",
           "x": [
            1400,
            1056
           ],
           "y": [
            1000,
            991
           ]
          },
          {
           "line": {
            "color": "green",
            "width": 2
           },
           "mode": "lines",
           "type": "scatter",
           "x": [
            200,
            297
           ],
           "y": [
            1400,
            1506
           ]
          },
          {
           "line": {
            "color": "green",
            "width": 2
           },
           "mode": "lines",
           "type": "scatter",
           "x": [
            600,
            701
           ],
           "y": [
            600,
            538
           ]
          },
          {
           "line": {
            "color": "green",
            "width": 2
           },
           "mode": "lines",
           "type": "scatter",
           "x": [
            600,
            573
           ],
           "y": [
            1400,
            1450
           ]
          },
          {
           "line": {
            "color": "green",
            "width": 2
           },
           "mode": "lines",
           "type": "scatter",
           "x": [
            1400,
            1495
           ],
           "y": [
            600,
            412
           ]
          },
          {
           "line": {
            "color": "green",
            "width": 2
           },
           "mode": "lines",
           "type": "scatter",
           "x": [
            200,
            243
           ],
           "y": [
            600,
            595
           ]
          },
          {
           "line": {
            "color": "green",
            "width": 2
           },
           "mode": "lines",
           "type": "scatter",
           "x": [
            1400,
            1450
           ],
           "y": [
            600,
            524
           ]
          },
          {
           "line": {
            "color": "green",
            "width": 2
           },
           "mode": "lines",
           "type": "scatter",
           "x": [
            200,
            172
           ],
           "y": [
            1400,
            1236
           ]
          },
          {
           "line": {
            "color": "green",
            "width": 2
           },
           "mode": "lines",
           "type": "scatter",
           "x": [
            1400,
            1539
           ],
           "y": [
            1000,
            960
           ]
          },
          {
           "line": {
            "color": "green",
            "width": 2
           },
           "mode": "lines",
           "type": "scatter",
           "x": [
            600,
            571
           ],
           "y": [
            1000,
            634
           ]
          },
          {
           "line": {
            "color": "red",
            "width": 2
           },
           "mode": "lines",
           "type": "scatter",
           "x": [
            600,
            683
           ],
           "y": [
            1400,
            1092
           ]
          },
          {
           "line": {
            "color": "green",
            "width": 2
           },
           "mode": "lines",
           "type": "scatter",
           "x": [
            1000,
            976
           ],
           "y": [
            600,
            855
           ]
          },
          {
           "line": {
            "color": "green",
            "width": 2
           },
           "mode": "lines",
           "type": "scatter",
           "x": [
            1000,
            948
           ],
           "y": [
            1000,
            912
           ]
          },
          {
           "line": {
            "color": "green",
            "width": 2
           },
           "mode": "lines",
           "type": "scatter",
           "x": [
            200,
            291
           ],
           "y": [
            1400,
            1440
           ]
          },
          {
           "line": {
            "color": "green",
            "width": 2
           },
           "mode": "lines",
           "type": "scatter",
           "x": [
            600,
            653
           ],
           "y": [
            1000,
            723
           ]
          },
          {
           "line": {
            "color": "green",
            "width": 2
           },
           "mode": "lines",
           "type": "scatter",
           "x": [
            600,
            774
           ],
           "y": [
            1000,
            802
           ]
          },
          {
           "line": {
            "color": "green",
            "width": 2
           },
           "mode": "lines",
           "type": "scatter",
           "x": [
            200,
            134
           ],
           "y": [
            1000,
            1003
           ]
          },
          {
           "line": {
            "color": "green",
            "width": 2
           },
           "mode": "lines",
           "type": "scatter",
           "x": [
            200,
            156
           ],
           "y": [
            600,
            743
           ]
          },
          {
           "line": {
            "color": "green",
            "width": 2
           },
           "mode": "lines",
           "type": "scatter",
           "x": [
            600,
            466
           ],
           "y": [
            200,
            150
           ]
          },
          {
           "line": {
            "color": "green",
            "width": 2
           },
           "mode": "lines",
           "type": "scatter",
           "x": [
            1000,
            847
           ],
           "y": [
            200,
            22
           ]
          },
          {
           "line": {
            "color": "green",
            "width": 2
           },
           "mode": "lines",
           "type": "scatter",
           "x": [
            1400,
            1391
           ],
           "y": [
            1000,
            846
           ]
          },
          {
           "line": {
            "color": "green",
            "width": 2
           },
           "mode": "lines",
           "type": "scatter",
           "x": [
            600,
            525.014224639087
           ],
           "y": [
            200,
            224.19366078782156
           ]
          },
          {
           "line": {
            "color": "green",
            "width": 2
           },
           "mode": "lines",
           "type": "scatter",
           "x": [
            200,
            220
           ],
           "y": [
            600,
            632
           ]
          },
          {
           "line": {
            "color": "green",
            "width": 2
           },
           "mode": "lines",
           "type": "scatter",
           "x": [
            1000,
            1175
           ],
           "y": [
            200,
            380
           ]
          },
          {
           "line": {
            "color": "green",
            "width": 2
           },
           "mode": "lines",
           "type": "scatter",
           "x": [
            1400,
            1360
           ],
           "y": [
            1000,
            848
           ]
          },
          {
           "line": {
            "color": "green",
            "width": 2
           },
           "mode": "lines",
           "type": "scatter",
           "x": [
            600,
            754
           ],
           "y": [
            1400,
            1246
           ]
          },
          {
           "line": {
            "color": "green",
            "width": 2
           },
           "mode": "lines",
           "type": "scatter",
           "x": [
            1000,
            829
           ],
           "y": [
            1000,
            1230
           ]
          },
          {
           "line": {
            "color": "green",
            "width": 2
           },
           "mode": "lines",
           "type": "scatter",
           "x": [
            200,
            169
           ],
           "y": [
            1400,
            1467
           ]
          },
          {
           "line": {
            "color": "red",
            "width": 2
           },
           "mode": "lines",
           "type": "scatter",
           "x": [
            600,
            515
           ],
           "y": [
            600,
            899
           ]
          },
          {
           "line": {
            "color": "red",
            "width": 2
           },
           "mode": "lines",
           "type": "scatter",
           "x": [
            1000,
            1020
           ],
           "y": [
            600,
            664
           ]
          },
          {
           "line": {
            "color": "green",
            "width": 2
           },
           "mode": "lines",
           "type": "scatter",
           "x": [
            600,
            600
           ],
           "y": [
            600,
            672
           ]
          },
          {
           "line": {
            "color": "green",
            "width": 2
           },
           "mode": "lines",
           "type": "scatter",
           "x": [
            200,
            186
           ],
           "y": [
            1400,
            1418
           ]
          },
          {
           "line": {
            "color": "green",
            "width": 2
           },
           "mode": "lines",
           "type": "scatter",
           "x": [
            200,
            336
           ],
           "y": [
            200,
            172
           ]
          },
          {
           "line": {
            "color": "green",
            "width": 2
           },
           "mode": "lines",
           "type": "scatter",
           "x": [
            1400,
            1589
           ],
           "y": [
            1400,
            1460
           ]
          },
          {
           "line": {
            "color": "green",
            "width": 2
           },
           "mode": "lines",
           "type": "scatter",
           "x": [
            1000,
            927
           ],
           "y": [
            600,
            544
           ]
          },
          {
           "line": {
            "color": "green",
            "width": 2
           },
           "mode": "lines",
           "type": "scatter",
           "x": [
            600,
            593
           ],
           "y": [
            1400,
            1068
           ]
          },
          {
           "line": {
            "color": "green",
            "width": 2
           },
           "mode": "lines",
           "type": "scatter",
           "x": [
            600,
            605
           ],
           "y": [
            1400,
            1343
           ]
          },
          {
           "line": {
            "color": "green",
            "width": 2
           },
           "mode": "lines",
           "type": "scatter",
           "x": [
            1400,
            1453
           ],
           "y": [
            200,
            70
           ]
          },
          {
           "line": {
            "color": "red",
            "width": 2
           },
           "mode": "lines",
           "type": "scatter",
           "x": [
            1000,
            801
           ],
           "y": [
            600,
            550
           ]
          },
          {
           "line": {
            "color": "green",
            "width": 2
           },
           "mode": "lines",
           "type": "scatter",
           "x": [
            200,
            337
           ],
           "y": [
            600,
            689
           ]
          },
          {
           "line": {
            "color": "green",
            "width": 2
           },
           "mode": "lines",
           "type": "scatter",
           "x": [
            600,
            426
           ],
           "y": [
            1400,
            1331
           ]
          },
          {
           "line": {
            "color": "green",
            "width": 2
           },
           "mode": "lines",
           "type": "scatter",
           "x": [
            1400,
            1296
           ],
           "y": [
            600,
            578
           ]
          },
          {
           "line": {
            "color": "green",
            "width": 2
           },
           "mode": "lines",
           "type": "scatter",
           "x": [
            1400,
            1251
           ],
           "y": [
            1000,
            1151
           ]
          },
          {
           "line": {
            "color": "red",
            "width": 2
           },
           "mode": "lines",
           "type": "scatter",
           "x": [
            600,
            906
           ],
           "y": [
            600,
            693
           ]
          },
          {
           "line": {
            "color": "red",
            "width": 2
           },
           "mode": "lines",
           "type": "scatter",
           "x": [
            600,
            637
           ],
           "y": [
            200,
            533
           ]
          },
          {
           "line": {
            "color": "green",
            "width": 2
           },
           "mode": "lines",
           "type": "scatter",
           "x": [
            1400,
            1239
           ],
           "y": [
            200,
            217
           ]
          },
          {
           "line": {
            "color": "green",
            "width": 2
           },
           "mode": "lines",
           "type": "scatter",
           "x": [
            200,
            88
           ],
           "y": [
            200,
            101
           ]
          },
          {
           "line": {
            "color": "green",
            "width": 2
           },
           "mode": "lines",
           "type": "scatter",
           "x": [
            1000,
            647
           ],
           "y": [
            1400,
            1449
           ]
          },
          {
           "line": {
            "color": "green",
            "width": 2
           },
           "mode": "lines",
           "type": "scatter",
           "x": [
            200,
            300
           ],
           "y": [
            1400,
            1260
           ]
          },
          {
           "line": {
            "color": "green",
            "width": 2
           },
           "mode": "lines",
           "type": "scatter",
           "x": [
            1400,
            1033
           ],
           "y": [
            1000,
            1086
           ]
          },
          {
           "line": {
            "color": "red",
            "width": 2
           },
           "mode": "lines",
           "type": "scatter",
           "x": [
            1000,
            1062
           ],
           "y": [
            1000,
            996
           ]
          },
          {
           "line": {
            "color": "red",
            "width": 2
           },
           "mode": "lines",
           "type": "scatter",
           "x": [
            1000,
            818
           ],
           "y": [
            1000,
            741
           ]
          },
          {
           "line": {
            "color": "red",
            "width": 2
           },
           "mode": "lines",
           "type": "scatter",
           "x": [
            1000,
            957
           ],
           "y": [
            1000,
            677
           ]
          },
          {
           "line": {
            "color": "green",
            "width": 2
           },
           "mode": "lines",
           "type": "scatter",
           "x": [
            1000,
            989
           ],
           "y": [
            1400,
            1463
           ]
          },
          {
           "line": {
            "color": "green",
            "width": 2
           },
           "mode": "lines",
           "type": "scatter",
           "x": [
            1400,
            1085
           ],
           "y": [
            1000,
            1161
           ]
          },
          {
           "line": {
            "color": "green",
            "width": 2
           },
           "mode": "lines",
           "type": "scatter",
           "x": [
            1000,
            986
           ],
           "y": [
            1000,
            798
           ]
          },
          {
           "line": {
            "color": "green",
            "width": 2
           },
           "mode": "lines",
           "type": "scatter",
           "x": [
            1000,
            1139
           ],
           "y": [
            200,
            435
           ]
          },
          {
           "line": {
            "color": "red",
            "width": 2
           },
           "mode": "lines",
           "type": "scatter",
           "x": [
            1000,
            1091
           ],
           "y": [
            1000,
            819
           ]
          },
          {
           "line": {
            "color": "red",
            "width": 2
           },
           "mode": "lines",
           "type": "scatter",
           "x": [
            1000,
            971
           ],
           "y": [
            1000,
            636
           ]
          },
          {
           "line": {
            "color": "green",
            "width": 2
           },
           "mode": "lines",
           "type": "scatter",
           "x": [
            1000,
            1152
           ],
           "y": [
            200,
            436
           ]
          },
          {
           "line": {
            "color": "green",
            "width": 2
           },
           "mode": "lines",
           "type": "scatter",
           "x": [
            1000,
            1178
           ],
           "y": [
            600,
            755
           ]
          },
          {
           "line": {
            "color": "green",
            "width": 2
           },
           "mode": "lines",
           "type": "scatter",
           "x": [
            600,
            403
           ],
           "y": [
            200,
            268
           ]
          },
          {
           "line": {
            "color": "green",
            "width": 2
           },
           "mode": "lines",
           "type": "scatter",
           "x": [
            1400,
            1312
           ],
           "y": [
            1000,
            859
           ]
          },
          {
           "line": {
            "color": "green",
            "width": 2
           },
           "mode": "lines",
           "type": "scatter",
           "x": [
            600,
            629
           ],
           "y": [
            1400,
            1380
           ]
          },
          {
           "line": {
            "color": "green",
            "width": 2
           },
           "mode": "lines",
           "type": "scatter",
           "x": [
            1000,
            1135
           ],
           "y": [
            1400,
            1461
           ]
          },
          {
           "line": {
            "color": "green",
            "width": 2
           },
           "mode": "lines",
           "type": "scatter",
           "x": [
            600,
            730
           ],
           "y": [
            600,
            778
           ]
          },
          {
           "line": {
            "color": "green",
            "width": 2
           },
           "mode": "lines",
           "type": "scatter",
           "x": [
            200,
            202
           ],
           "y": [
            600,
            739
           ]
          },
          {
           "line": {
            "color": "green",
            "width": 2
           },
           "mode": "lines",
           "type": "scatter",
           "x": [
            600,
            420
           ],
           "y": [
            200,
            139
           ]
          },
          {
           "line": {
            "color": "red",
            "width": 2
           },
           "mode": "lines",
           "type": "scatter",
           "x": [
            600,
            675
           ],
           "y": [
            600,
            883
           ]
          },
          {
           "line": {
            "color": "green",
            "width": 2
           },
           "mode": "lines",
           "type": "scatter",
           "x": [
            200,
            248
           ],
           "y": [
            1000,
            943
           ]
          },
          {
           "line": {
            "color": "green",
            "width": 2
           },
           "mode": "lines",
           "type": "scatter",
           "x": [
            1400,
            1531
           ],
           "y": [
            1000,
            1117
           ]
          },
          {
           "line": {
            "color": "green",
            "width": 2
           },
           "mode": "lines",
           "type": "scatter",
           "x": [
            200,
            194
           ],
           "y": [
            1000,
            915
           ]
          },
          {
           "line": {
            "color": "green",
            "width": 2
           },
           "mode": "lines",
           "type": "scatter",
           "x": [
            1000,
            1066
           ],
           "y": [
            600,
            527
           ]
          },
          {
           "line": {
            "color": "green",
            "width": 2
           },
           "mode": "lines",
           "type": "scatter",
           "x": [
            1000,
            968
           ],
           "y": [
            200,
            145
           ]
          },
          {
           "line": {
            "color": "green",
            "width": 2
           },
           "mode": "lines",
           "type": "scatter",
           "x": [
            200,
            210
           ],
           "y": [
            1400,
            1255
           ]
          },
          {
           "line": {
            "color": "green",
            "width": 2
           },
           "mode": "lines",
           "type": "scatter",
           "x": [
            200,
            232
           ],
           "y": [
            1400,
            1595
           ]
          },
          {
           "line": {
            "color": "green",
            "width": 2
           },
           "mode": "lines",
           "type": "scatter",
           "x": [
            1000,
            845
           ],
           "y": [
            1000,
            1277
           ]
          },
          {
           "line": {
            "color": "red",
            "width": 2
           },
           "mode": "lines",
           "type": "scatter",
           "x": [
            1000,
            631
           ],
           "y": [
            600,
            631
           ]
          },
          {
           "line": {
            "color": "green",
            "width": 2
           },
           "mode": "lines",
           "type": "scatter",
           "x": [
            1000,
            1120
           ],
           "y": [
            1000,
            912
           ]
          },
          {
           "line": {
            "color": "black",
            "width": 2
           },
           "mode": "lines",
           "type": "scatter",
           "x": [
            812,
            812
           ],
           "y": [
            0,
            1600
           ]
          },
          {
           "line": {
            "color": "black",
            "width": 2
           },
           "mode": "lines",
           "type": "scatter",
           "x": [
            812,
            912
           ],
           "y": [
            1600,
            1600
           ]
          },
          {
           "line": {
            "color": "black",
            "width": 2
           },
           "mode": "lines",
           "type": "scatter",
           "x": [
            912,
            912
           ],
           "y": [
            1600,
            0
           ]
          },
          {
           "line": {
            "color": "black",
            "width": 2
           },
           "mode": "lines",
           "type": "scatter",
           "x": [
            812,
            912
           ],
           "y": [
            0,
            0
           ]
          },
          {
           "line": {
            "color": "black",
            "width": 2
           },
           "mode": "lines",
           "type": "scatter",
           "x": [
            0,
            0
           ],
           "y": [
            257,
            357
           ]
          },
          {
           "line": {
            "color": "black",
            "width": 2
           },
           "mode": "lines",
           "type": "scatter",
           "x": [
            0,
            1600
           ],
           "y": [
            357,
            357
           ]
          },
          {
           "line": {
            "color": "black",
            "width": 2
           },
           "mode": "lines",
           "type": "scatter",
           "x": [
            1600,
            1600
           ],
           "y": [
            357,
            257
           ]
          },
          {
           "line": {
            "color": "black",
            "width": 2
           },
           "mode": "lines",
           "type": "scatter",
           "x": [
            0,
            1600
           ],
           "y": [
            257,
            257
           ]
          },
          {
           "line": {
            "color": "black",
            "width": 2
           },
           "mode": "lines",
           "type": "scatter",
           "x": [
            0,
            0
           ],
           "y": [
            85,
            185
           ]
          },
          {
           "line": {
            "color": "black",
            "width": 2
           },
           "mode": "lines",
           "type": "scatter",
           "x": [
            0,
            1600
           ],
           "y": [
            185,
            185
           ]
          },
          {
           "line": {
            "color": "black",
            "width": 2
           },
           "mode": "lines",
           "type": "scatter",
           "x": [
            1600,
            1600
           ],
           "y": [
            185,
            85
           ]
          },
          {
           "line": {
            "color": "black",
            "width": 2
           },
           "mode": "lines",
           "type": "scatter",
           "x": [
            0,
            1600
           ],
           "y": [
            85,
            85
           ]
          },
          {
           "line": {
            "color": "black",
            "width": 2
           },
           "mode": "lines",
           "type": "scatter",
           "x": [
            465,
            465
           ],
           "y": [
            80,
            260
           ]
          },
          {
           "line": {
            "color": "black",
            "width": 2
           },
           "mode": "lines",
           "type": "scatter",
           "x": [
            465,
            556
           ],
           "y": [
            260,
            260
           ]
          },
          {
           "line": {
            "color": "black",
            "width": 2
           },
           "mode": "lines",
           "type": "scatter",
           "x": [
            556,
            556
           ],
           "y": [
            260,
            80
           ]
          },
          {
           "line": {
            "color": "black",
            "width": 2
           },
           "mode": "lines",
           "type": "scatter",
           "x": [
            465,
            556
           ],
           "y": [
            80,
            80
           ]
          },
          {
           "marker": {
            "color": [
             "orange",
             "orange",
             "orange",
             "orange",
             "orange",
             "orange",
             "orange",
             "orange",
             "orange",
             "orange",
             "orange",
             "orange",
             "orange",
             "orange",
             "orange",
             "orange",
             "blue",
             "magenta",
             "magenta",
             "blue",
             "magenta",
             "magenta",
             "magenta",
             "blue",
             "magenta",
             "magenta",
             "magenta",
             "magenta",
             "blue",
             "magenta",
             "blue",
             "magenta",
             "blue",
             "blue",
             "blue",
             "magenta",
             "blue",
             "magenta",
             "magenta",
             "magenta",
             "magenta",
             "magenta",
             "blue",
             "magenta",
             "blue",
             "magenta",
             "magenta",
             "magenta",
             "magenta",
             "blue",
             "blue",
             "magenta",
             "magenta",
             "magenta",
             "magenta",
             "magenta",
             "blue",
             "magenta",
             "magenta",
             "blue",
             "blue",
             "magenta",
             "magenta",
             "magenta",
             "magenta",
             "magenta",
             "blue",
             "blue",
             "magenta",
             "magenta",
             "magenta",
             "magenta",
             "magenta",
             "magenta",
             "magenta",
             "magenta",
             "magenta",
             "magenta",
             "magenta",
             "magenta",
             "magenta",
             "magenta",
             "blue",
             "magenta",
             "blue",
             "magenta",
             "magenta",
             "magenta",
             "blue",
             "magenta",
             "magenta",
             "magenta",
             "blue",
             "magenta",
             "magenta",
             "blue",
             "blue",
             "blue",
             "blue",
             "magenta",
             "magenta",
             "magenta",
             "magenta",
             "magenta",
             "magenta",
             "magenta",
             "magenta",
             "blue",
             "magenta",
             "magenta",
             "magenta",
             "magenta",
             "magenta",
             "blue",
             "magenta",
             "blue",
             "magenta",
             "magenta",
             "blue",
             "magenta",
             "magenta",
             "magenta",
             "magenta",
             "magenta",
             "magenta",
             "magenta",
             "magenta",
             "magenta",
             "magenta",
             "magenta",
             "magenta",
             "magenta",
             "magenta",
             "blue",
             "magenta",
             "magenta",
             "magenta",
             "blue",
             "magenta",
             "magenta",
             "magenta",
             "magenta",
             "magenta",
             "magenta",
             "magenta",
             "magenta",
             "blue",
             "blue",
             "magenta",
             "magenta",
             "magenta",
             "blue",
             "magenta",
             "magenta",
             "magenta",
             "magenta",
             "magenta",
             "magenta",
             "magenta",
             "magenta",
             "magenta",
             "magenta",
             "magenta",
             "magenta",
             "magenta",
             "blue",
             "blue",
             "magenta",
             "magenta",
             "magenta",
             "magenta",
             "magenta",
             "magenta",
             "magenta",
             "magenta",
             "blue",
             "magenta",
             "magenta",
             "magenta",
             "magenta",
             "blue",
             "blue",
             "magenta",
             "magenta",
             "magenta",
             "magenta",
             "magenta",
             "blue",
             "blue",
             "blue",
             "magenta",
             "magenta",
             "magenta",
             "magenta",
             "blue",
             "blue",
             "magenta",
             "magenta",
             "magenta",
             "magenta",
             "magenta",
             "magenta",
             "magenta",
             "magenta",
             "magenta",
             "blue",
             "magenta",
             "magenta",
             "magenta",
             "magenta",
             "magenta",
             "magenta",
             "magenta",
             "magenta",
             "blue",
             "magenta",
             "black",
             "black",
             "black",
             "black",
             "black",
             "black",
             "black",
             "black",
             "black",
             "black",
             "black",
             "black",
             "black",
             "black",
             "black",
             "black"
            ],
            "size": 8
           },
           "mode": "markers",
           "type": "scatter",
           "x": [
            200,
            200,
            200,
            200,
            600,
            600,
            600,
            600,
            1000,
            1000,
            1000,
            1000,
            1400,
            1400,
            1400,
            1400,
            953,
            1165,
            1174,
            1042,
            1383,
            317,
            16,
            601,
            707,
            1556,
            591,
            1296,
            526,
            1444,
            603,
            1592,
            959,
            751,
            695,
            582,
            701,
            371,
            923,
            33,
            861,
            1030,
            942,
            1596,
            669,
            271,
            1028,
            896,
            1526,
            1070,
            582,
            238,
            1491,
            1123,
            586,
            1102,
            698,
            1503,
            965,
            922,
            591,
            305,
            1198,
            48,
            48,
            1051,
            654,
            682,
            203,
            87,
            660,
            1032,
            1154,
            923,
            746,
            1194,
            1105,
            940,
            619,
            783,
            671,
            244,
            545,
            119,
            897,
            1487,
            801,
            1184,
            613,
            1170,
            274,
            540,
            816,
            1377,
            625,
            836,
            851,
            608,
            840,
            1091,
            488,
            85,
            634,
            354,
            350,
            1234,
            170,
            768,
            1405,
            1337,
            826,
            1585,
            1062,
            539,
            513,
            589,
            819,
            347,
            796,
            337,
            791,
            85,
            136,
            41,
            204,
            258,
            1551,
            993,
            1599,
            909,
            409,
            199,
            1142,
            521,
            697,
            1384,
            1236,
            1056,
            297,
            701,
            573,
            1495,
            243,
            1450,
            172,
            1539,
            571,
            683,
            976,
            948,
            291,
            653,
            774,
            134,
            156,
            466,
            847,
            1391,
            525.014224639087,
            220,
            1175,
            1360,
            754,
            829,
            169,
            515,
            1020,
            600,
            186,
            336,
            1589,
            927,
            593,
            605,
            1453,
            801,
            337,
            426,
            1296,
            1251,
            906,
            637,
            1239,
            88,
            647,
            300,
            1033,
            1062,
            818,
            957,
            989,
            1085,
            986,
            1139,
            1091,
            971,
            1152,
            1178,
            403,
            1312,
            629,
            1135,
            730,
            202,
            420,
            675,
            248,
            1531,
            194,
            1066,
            968,
            210,
            232,
            845,
            631,
            1120,
            812,
            812,
            912,
            912,
            0,
            0,
            1600,
            1600,
            0,
            0,
            1600,
            1600,
            465,
            465,
            556,
            556
           ],
           "y": [
            200,
            600,
            1000,
            1400,
            200,
            600,
            1000,
            1400,
            200,
            600,
            1000,
            1400,
            200,
            600,
            1000,
            1400,
            534,
            585,
            1293,
            1001,
            794,
            293,
            760,
            796,
            968,
            298,
            1207,
            421,
            557,
            655,
            505,
            148,
            919,
            662,
            1036,
            276,
            961,
            234,
            1160,
            505,
            685,
            376,
            626,
            1173,
            833,
            873,
            1577,
            1171,
            1127,
            854,
            1098,
            128,
            1296,
            520,
            121,
            1057,
            536,
            808,
            903,
            635,
            512,
            169,
            291,
            920,
            714,
            655,
            939,
            937,
            558,
            154,
            1204,
            1588,
            1462,
            751,
            79,
            1436,
            1065,
            1502,
            1196,
            154,
            1072,
            332,
            857,
            446,
            999,
            13,
            1120,
            1058,
            938,
            942,
            1063,
            817,
            834,
            1304,
            784,
            832,
            693,
            684,
            596,
            358,
            138,
            687,
            277,
            607,
            1599,
            117,
            943,
            1029,
            613,
            133,
            1524,
            1046,
            801,
            1096,
            827,
            963,
            640,
            972,
            550,
            571,
            179,
            902,
            1085,
            513,
            1566,
            473,
            703,
            1548,
            287,
            334,
            33,
            212,
            576,
            949,
            1242,
            599,
            1188,
            991,
            1506,
            538,
            1450,
            412,
            595,
            524,
            1236,
            960,
            634,
            1092,
            855,
            912,
            1440,
            723,
            802,
            1003,
            743,
            150,
            22,
            846,
            224.19366078782156,
            632,
            380,
            848,
            1246,
            1230,
            1467,
            899,
            664,
            672,
            1418,
            172,
            1460,
            544,
            1068,
            1343,
            70,
            550,
            689,
            1331,
            578,
            1151,
            693,
            533,
            217,
            101,
            1449,
            1260,
            1086,
            996,
            741,
            677,
            1463,
            1161,
            798,
            435,
            819,
            636,
            436,
            755,
            268,
            859,
            1380,
            1461,
            778,
            739,
            139,
            883,
            943,
            1117,
            915,
            527,
            145,
            1255,
            1595,
            1277,
            631,
            912,
            0,
            1600,
            1600,
            0,
            257,
            357,
            357,
            257,
            85,
            185,
            185,
            85,
            80,
            260,
            260,
            80
           ]
          }
         ],
         "layout": {
          "title": "UE and AP Distribution in the grid"
         }
        }
       ],
       "layout": {
        "height": 1000,
        "shapes": [
         {
          "fillcolor": "rgba(128, 0, 128 0.1)",
          "line": {
           "color": "rgba(128, 0, 128, 1)",
           "width": 2
          },
          "type": "rect",
          "x0": 812,
          "x1": 912,
          "y0": 0,
          "y1": 1600
         },
         {
          "fillcolor": "rgba(128, 0, 128 0.1)",
          "line": {
           "color": "rgba(128, 0, 128, 1)",
           "width": 2
          },
          "type": "rect",
          "x0": 0,
          "x1": 1600,
          "y0": 257,
          "y1": 357
         },
         {
          "fillcolor": "rgba(128, 0, 128 0.1)",
          "line": {
           "color": "rgba(128, 0, 128, 1)",
           "width": 2
          },
          "type": "rect",
          "x0": 0,
          "x1": 1600,
          "y0": 85,
          "y1": 185
         },
         {
          "fillcolor": "rgba(128, 0, 128 0.1)",
          "line": {
           "color": "rgba(128, 0, 128, 1)",
           "width": 2
          },
          "type": "rect",
          "x0": 465,
          "x1": 556,
          "y0": 80,
          "y1": 260
         }
        ],
        "showlegend": false,
        "title": "UE and AP Distribution in the grid",
        "updatemenus": [
         {
          "buttons": [
           {
            "args": [
             null
            ],
            "label": "Play",
            "method": "animate"
           }
          ],
          "type": "buttons"
         }
        ],
        "width": 1000,
        "xaxis": {
         "range": [
          0,
          1600
         ],
         "title": "x"
        },
        "yaxis": {
         "range": [
          0,
          1600
         ],
         "title": "y"
        }
       }
      },
      "text/html": [
       "<div id=\"b535f5df-0537-4d2f-aa43-8cfa99dabc74\" style=\"height: 1000px; width: 1000px;\" class=\"plotly-graph-div\"></div><script type=\"text/javascript\">require([\"plotly\"], function(Plotly) { window.PLOTLYENV=window.PLOTLYENV || {};window.PLOTLYENV.BASE_URL=\"https://plot.ly\";\n",
       "        Plotly.plot(\n",
       "            'b535f5df-0537-4d2f-aa43-8cfa99dabc74',\n",
       "            [{\"type\": \"scatter\", \"x\": [1000.0, 953], \"y\": [600.0, 528], \"mode\": \"lines\", \"line\": {\"width\": 2, \"color\": \"green\"}}, {\"type\": \"scatter\", \"x\": [1000.0, 1166], \"y\": [600.0, 582], \"mode\": \"lines\", \"line\": {\"width\": 2, \"color\": \"green\"}}, {\"type\": \"scatter\", \"x\": [1000.0, 1178], \"y\": [1400.0, 1287], \"mode\": \"lines\", \"line\": {\"width\": 2, \"color\": \"green\"}}, {\"type\": \"scatter\", \"x\": [1000.0, 1041], \"y\": [1000.0, 1009], \"mode\": \"lines\", \"line\": {\"width\": 2, \"color\": \"green\"}}, {\"type\": \"scatter\", \"x\": [1400.0, 1381], \"y\": [600.0, 796], \"mode\": \"lines\", \"line\": {\"width\": 2, \"color\": \"green\"}}, {\"type\": \"scatter\", \"x\": [600.0, 499], \"y\": [200.0, 293], \"mode\": \"lines\", \"line\": {\"width\": 2, \"color\": \"green\"}}, {\"type\": \"scatter\", \"x\": [200.0, 12], \"y\": [600.0, 758], \"mode\": \"lines\", \"line\": {\"width\": 2, \"color\": \"green\"}}, {\"type\": \"scatter\", \"x\": [600.0, 602], \"y\": [600.0, 794], \"mode\": \"lines\", \"line\": {\"width\": 2, \"color\": \"green\"}}, {\"type\": \"scatter\", \"x\": [600.0, 706], \"y\": [1000.0, 968], \"mode\": \"lines\", \"line\": {\"width\": 2, \"color\": \"green\"}}, {\"type\": \"scatter\", \"x\": [1400.0, 1411], \"y\": [200.0, 298], \"mode\": \"lines\", \"line\": {\"width\": 2, \"color\": \"green\"}}, {\"type\": \"scatter\", \"x\": [600.0, 596], \"y\": [1400.0, 1204], \"mode\": \"lines\", \"line\": {\"width\": 2, \"color\": \"green\"}}, {\"type\": \"scatter\", \"x\": [1400.0, 1292], \"y\": [600.0, 423], \"mode\": \"lines\", \"line\": {\"width\": 2, \"color\": \"green\"}}, {\"type\": \"scatter\", \"x\": [600.0, 529], \"y\": [600.0, 562], \"mode\": \"lines\", \"line\": {\"width\": 2, \"color\": \"green\"}}, {\"type\": \"scatter\", \"x\": [1400.0, 1447], \"y\": [600.0, 655], \"mode\": \"lines\", \"line\": {\"width\": 2, \"color\": \"green\"}}, {\"type\": \"scatter\", \"x\": [600.0, 603], \"y\": [200.0, 500], \"mode\": \"lines\", \"line\": {\"width\": 2, \"color\": \"green\"}}, {\"type\": \"scatter\", \"x\": [1400.0, 1464], \"y\": [200.0, 148], \"mode\": \"lines\", \"line\": {\"width\": 2, \"color\": \"green\"}}, {\"type\": \"scatter\", \"x\": [1000.0, 959], \"y\": [1000.0, 915], \"mode\": \"lines\", \"line\": {\"width\": 2, \"color\": \"green\"}}, {\"type\": \"scatter\", \"x\": [600.0, 748], \"y\": [600.0, 664], \"mode\": \"lines\", \"line\": {\"width\": 2, \"color\": \"green\"}}, {\"type\": \"scatter\", \"x\": [600.0, 691], \"y\": [1000.0, 1038], \"mode\": \"lines\", \"line\": {\"width\": 2, \"color\": \"green\"}}, {\"type\": \"scatter\", \"x\": [600.0, 742], \"y\": [200.0, 276], \"mode\": \"lines\", \"line\": {\"width\": 2, \"color\": \"green\"}}, {\"type\": \"scatter\", \"x\": [600.0, 702], \"y\": [1000.0, 957], \"mode\": \"lines\", \"line\": {\"width\": 2, \"color\": \"green\"}}, {\"type\": \"scatter\", \"x\": [200.0, 372], \"y\": [200.0, 235], \"mode\": \"lines\", \"line\": {\"width\": 2, \"color\": \"green\"}}, {\"type\": \"scatter\", \"x\": [1000.0, 921], \"y\": [1000.0, 1158], \"mode\": \"lines\", \"line\": {\"width\": 2, \"color\": \"green\"}}, {\"type\": \"scatter\", \"x\": [200.0, 37], \"y\": [600.0, 504], \"mode\": \"lines\", \"line\": {\"width\": 2, \"color\": \"green\"}}, {\"type\": \"scatter\", \"x\": [1000.0, 861], \"y\": [1000.0, 876], \"mode\": \"lines\", \"line\": {\"width\": 2, \"color\": \"green\"}}, {\"type\": \"scatter\", \"x\": [1000.0, 1026], \"y\": [200.0, 377], \"mode\": \"lines\", \"line\": {\"width\": 2, \"color\": \"green\"}}, {\"type\": \"scatter\", \"x\": [1000.0, 938], \"y\": [600.0, 629], \"mode\": \"lines\", \"line\": {\"width\": 2, \"color\": \"green\"}}, {\"type\": \"scatter\", \"x\": [1400.0, 1599], \"y\": [1000.0, 1173], \"mode\": \"lines\", \"line\": {\"width\": 2, \"color\": \"green\"}}, {\"type\": \"scatter\", \"x\": [600.0, 667], \"y\": [1000.0, 831], \"mode\": \"lines\", \"line\": {\"width\": 2, \"color\": \"green\"}}, {\"type\": \"scatter\", \"x\": [200.0, 269], \"y\": [1000.0, 868], \"mode\": \"lines\", \"line\": {\"width\": 2, \"color\": \"green\"}}, {\"type\": \"scatter\", \"x\": [1400.0, 1024], \"y\": [1400.0, 1578], \"mode\": \"lines\", \"line\": {\"width\": 2, \"color\": \"green\"}}, {\"type\": \"scatter\", \"x\": [1000.0, 896], \"y\": [1400.0, 1347], \"mode\": \"lines\", \"line\": {\"width\": 2, \"color\": \"green\"}}, {\"type\": \"scatter\", \"x\": [1400.0, 1527], \"y\": [1000.0, 1130], \"mode\": \"lines\", \"line\": {\"width\": 2, \"color\": \"green\"}}, {\"type\": \"scatter\", \"x\": [1000.0, 1068], \"y\": [1000.0, 853], \"mode\": \"lines\", \"line\": {\"width\": 2, \"color\": \"green\"}}, {\"type\": \"scatter\", \"x\": [200.0, 584], \"y\": [1400.0, 1097], \"mode\": \"lines\", \"line\": {\"width\": 2, \"color\": \"green\"}}, {\"type\": \"scatter\", \"x\": [200.0, 84], \"y\": [200.0, 128], \"mode\": \"lines\", \"line\": {\"width\": 2, \"color\": \"green\"}}, {\"type\": \"scatter\", \"x\": [1400.0, 1492], \"y\": [1400.0, 1293], \"mode\": \"lines\", \"line\": {\"width\": 2, \"color\": \"green\"}}, {\"type\": \"scatter\", \"x\": [1000.0, 1125], \"y\": [600.0, 517], \"mode\": \"lines\", \"line\": {\"width\": 2, \"color\": \"green\"}}, {\"type\": \"scatter\", \"x\": [600.0, 765], \"y\": [200.0, 121], \"mode\": \"lines\", \"line\": {\"width\": 2, \"color\": \"green\"}}, {\"type\": \"scatter\", \"x\": [1000.0, 1099], \"y\": [1000.0, 1056], \"mode\": \"lines\", \"line\": {\"width\": 2, \"color\": \"green\"}}, {\"type\": \"scatter\", \"x\": [600.0, 701], \"y\": [200.0, 541], \"mode\": \"lines\", \"line\": {\"width\": 2, \"color\": \"red\"}}, {\"type\": \"scatter\", \"x\": [1400.0, 1498], \"y\": [1000.0, 811], \"mode\": \"lines\", \"line\": {\"width\": 2, \"color\": \"green\"}}, {\"type\": \"scatter\", \"x\": [1000.0, 971], \"y\": [1000.0, 902], \"mode\": \"lines\", \"line\": {\"width\": 2, \"color\": \"green\"}}, {\"type\": \"scatter\", \"x\": [1000.0, 920], \"y\": [600.0, 636], \"mode\": \"lines\", \"line\": {\"width\": 2, \"color\": \"green\"}}, {\"type\": \"scatter\", \"x\": [200.0, 588], \"y\": [600.0, 510], \"mode\": \"lines\", \"line\": {\"width\": 2, \"color\": \"red\"}}, {\"type\": \"scatter\", \"x\": [200.0, 167], \"y\": [200.0, 169], \"mode\": \"lines\", \"line\": {\"width\": 2, \"color\": \"green\"}}, {\"type\": \"scatter\", \"x\": [1400.0, 1395], \"y\": [200.0, 291], \"mode\": \"lines\", \"line\": {\"width\": 2, \"color\": \"green\"}}, {\"type\": \"scatter\", \"x\": [200.0, 52], \"y\": [1000.0, 919], \"mode\": \"lines\", \"line\": {\"width\": 2, \"color\": \"green\"}}, {\"type\": \"scatter\", \"x\": [200.0, 46], \"y\": [1000.0, 714], \"mode\": \"lines\", \"line\": {\"width\": 2, \"color\": \"green\"}}, {\"type\": \"scatter\", \"x\": [1000.0, 1053], \"y\": [600.0, 657], \"mode\": \"lines\", \"line\": {\"width\": 2, \"color\": \"green\"}}, {\"type\": \"scatter\", \"x\": [600.0, 650], \"y\": [600.0, 942], \"mode\": \"lines\", \"line\": {\"width\": 2, \"color\": \"red\"}}, {\"type\": \"scatter\", \"x\": [600.0, 683], \"y\": [1000.0, 939], \"mode\": \"lines\", \"line\": {\"width\": 2, \"color\": \"green\"}}, {\"type\": \"scatter\", \"x\": [200.0, 203], \"y\": [600.0, 561], \"mode\": \"lines\", \"line\": {\"width\": 2, \"color\": \"green\"}}, {\"type\": \"scatter\", \"x\": [600.0, 247], \"y\": [200.0, 154], \"mode\": \"lines\", \"line\": {\"width\": 2, \"color\": \"green\"}}, {\"type\": \"scatter\", \"x\": [600.0, 659], \"y\": [1400.0, 1203], \"mode\": \"lines\", \"line\": {\"width\": 2, \"color\": \"green\"}}, {\"type\": \"scatter\", \"x\": [1000.0, 1027], \"y\": [1400.0, 1587], \"mode\": \"lines\", \"line\": {\"width\": 2, \"color\": \"green\"}}, {\"type\": \"scatter\", \"x\": [1000.0, 1155], \"y\": [1400.0, 1463], \"mode\": \"lines\", \"line\": {\"width\": 2, \"color\": \"green\"}}, {\"type\": \"scatter\", \"x\": [1000.0, 925], \"y\": [600.0, 753], \"mode\": \"lines\", \"line\": {\"width\": 2, \"color\": \"green\"}}, {\"type\": \"scatter\", \"x\": [600.0, 747], \"y\": [200.0, 79], \"mode\": \"lines\", \"line\": {\"width\": 2, \"color\": \"green\"}}, {\"type\": \"scatter\", \"x\": [1000.0, 1193], \"y\": [1400.0, 1439], \"mode\": \"lines\", \"line\": {\"width\": 2, \"color\": \"green\"}}, {\"type\": \"scatter\", \"x\": [1000.0, 1103], \"y\": [1000.0, 1067], \"mode\": \"lines\", \"line\": {\"width\": 2, \"color\": \"green\"}}, {\"type\": \"scatter\", \"x\": [1000.0, 944], \"y\": [1400.0, 1502], \"mode\": \"lines\", \"line\": {\"width\": 2, \"color\": \"green\"}}, {\"type\": \"scatter\", \"x\": [600.0, 618], \"y\": [1000.0, 1198], \"mode\": \"lines\", \"line\": {\"width\": 2, \"color\": \"green\"}}, {\"type\": \"scatter\", \"x\": [600.0, 922], \"y\": [200.0, 154], \"mode\": \"lines\", \"line\": {\"width\": 2, \"color\": \"green\"}}, {\"type\": \"scatter\", \"x\": [600.0, 672], \"y\": [1400.0, 1072], \"mode\": \"lines\", \"line\": {\"width\": 2, \"color\": \"green\"}}, {\"type\": \"scatter\", \"x\": [200.0, 126], \"y\": [200.0, 332], \"mode\": \"lines\", \"line\": {\"width\": 2, \"color\": \"green\"}}, {\"type\": \"scatter\", \"x\": [600.0, 546], \"y\": [600.0, 858], \"mode\": \"lines\", \"line\": {\"width\": 2, \"color\": \"red\"}}, {\"type\": \"scatter\", \"x\": [200.0, 119], \"y\": [600.0, 444], \"mode\": \"lines\", \"line\": {\"width\": 2, \"color\": \"green\"}}, {\"type\": \"scatter\", \"x\": [600.0, 897], \"y\": [1000.0, 852], \"mode\": \"lines\", \"line\": {\"width\": 2, \"color\": \"red\"}}, {\"type\": \"scatter\", \"x\": [1400.0, 1491], \"y\": [200.0, 12], \"mode\": \"lines\", \"line\": {\"width\": 2, \"color\": \"green\"}}, {\"type\": \"scatter\", \"x\": [600.0, 800], \"y\": [1000.0, 1120], \"mode\": \"lines\", \"line\": {\"width\": 2, \"color\": \"green\"}}, {\"type\": \"scatter\", \"x\": [1000.0, 1185], \"y\": [1000.0, 1064], \"mode\": \"lines\", \"line\": {\"width\": 2, \"color\": \"green\"}}, {\"type\": \"scatter\", \"x\": [600.0, 615], \"y\": [1000.0, 941], \"mode\": \"lines\", \"line\": {\"width\": 2, \"color\": \"green\"}}, {\"type\": \"scatter\", \"x\": [1000.0, 1167], \"y\": [1000.0, 938], \"mode\": \"lines\", \"line\": {\"width\": 2, \"color\": \"green\"}}, {\"type\": \"scatter\", \"x\": [200.0, 270], \"y\": [1000.0, 1064], \"mode\": \"lines\", \"line\": {\"width\": 2, \"color\": \"green\"}}, {\"type\": \"scatter\", \"x\": [600.0, 537], \"y\": [1000.0, 814], \"mode\": \"lines\", \"line\": {\"width\": 2, \"color\": \"green\"}}, {\"type\": \"scatter\", \"x\": [1000.0, 816], \"y\": [1000.0, 1008], \"mode\": \"lines\", \"line\": {\"width\": 2, \"color\": \"green\"}}, {\"type\": \"scatter\", \"x\": [1400.0, 1379], \"y\": [1400.0, 1306], \"mode\": \"lines\", \"line\": {\"width\": 2, \"color\": \"green\"}}, {\"type\": \"scatter\", \"x\": [600.0, 626], \"y\": [600.0, 781], \"mode\": \"lines\", \"line\": {\"width\": 2, \"color\": \"green\"}}, {\"type\": \"scatter\", \"x\": [1000.0, 836], \"y\": [1000.0, 675], \"mode\": \"lines\", \"line\": {\"width\": 2, \"color\": \"red\"}}, {\"type\": \"scatter\", \"x\": [1000.0, 851], \"y\": [1000.0, 852], \"mode\": \"lines\", \"line\": {\"width\": 2, \"color\": \"red\"}}, {\"type\": \"scatter\", \"x\": [600.0, 609], \"y\": [1000.0, 686], \"mode\": \"lines\", \"line\": {\"width\": 2, \"color\": \"red\"}}, {\"type\": \"scatter\", \"x\": [1000.0, 840], \"y\": [600.0, 749], \"mode\": \"lines\", \"line\": {\"width\": 2, \"color\": \"green\"}}, {\"type\": \"scatter\", \"x\": [1000.0, 1092], \"y\": [200.0, 360], \"mode\": \"lines\", \"line\": {\"width\": 2, \"color\": \"green\"}}, {\"type\": \"scatter\", \"x\": [200.0, 281], \"y\": [200.0, 138], \"mode\": \"lines\", \"line\": {\"width\": 2, \"color\": \"green\"}}, {\"type\": \"scatter\", \"x\": [200.0, 86], \"y\": [600.0, 688], \"mode\": \"lines\", \"line\": {\"width\": 2, \"color\": \"green\"}}, {\"type\": \"scatter\", \"x\": [600.0, 491], \"y\": [200.0, 277], \"mode\": \"lines\", \"line\": {\"width\": 2, \"color\": \"green\"}}, {\"type\": \"scatter\", \"x\": [200.0, 356], \"y\": [600.0, 607], \"mode\": \"lines\", \"line\": {\"width\": 2, \"color\": \"green\"}}, {\"type\": \"scatter\", \"x\": [200.0, 351], \"y\": [1400.0, 1595], \"mode\": \"lines\", \"line\": {\"width\": 2, \"color\": \"green\"}}, {\"type\": \"scatter\", \"x\": [1000.0, 1084], \"y\": [200.0, 117], \"mode\": \"lines\", \"line\": {\"width\": 2, \"color\": \"green\"}}, {\"type\": \"scatter\", \"x\": [200.0, 168], \"y\": [1000.0, 945], \"mode\": \"lines\", \"line\": {\"width\": 2, \"color\": \"green\"}}, {\"type\": \"scatter\", \"x\": [600.0, 768], \"y\": [1000.0, 1028], \"mode\": \"lines\", \"line\": {\"width\": 2, \"color\": \"red\"}}, {\"type\": \"scatter\", \"x\": [1400.0, 1406], \"y\": [1000.0, 620], \"mode\": \"lines\", \"line\": {\"width\": 2, \"color\": \"green\"}}, {\"type\": \"scatter\", \"x\": [1400.0, 1491], \"y\": [200.0, 133], \"mode\": \"lines\", \"line\": {\"width\": 2, \"color\": \"green\"}}, {\"type\": \"scatter\", \"x\": [1000.0, 826], \"y\": [1400.0, 1532], \"mode\": \"lines\", \"line\": {\"width\": 2, \"color\": \"green\"}}, {\"type\": \"scatter\", \"x\": [1400.0, 1584], \"y\": [1400.0, 1048], \"mode\": \"lines\", \"line\": {\"width\": 2, \"color\": \"green\"}}, {\"type\": \"scatter\", \"x\": [1000.0, 1069], \"y\": [1000.0, 803], \"mode\": \"lines\", \"line\": {\"width\": 2, \"color\": \"green\"}}, {\"type\": \"scatter\", \"x\": [600.0, 539], \"y\": [1400.0, 1096], \"mode\": \"lines\", \"line\": {\"width\": 2, \"color\": \"green\"}}, {\"type\": \"scatter\", \"x\": [600.0, 514], \"y\": [600.0, 827], \"mode\": \"lines\", \"line\": {\"width\": 2, \"color\": \"green\"}}, {\"type\": \"scatter\", \"x\": [600.0, 590], \"y\": [600.0, 965], \"mode\": \"lines\", \"line\": {\"width\": 2, \"color\": \"red\"}}, {\"type\": \"scatter\", \"x\": [1000.0, 819], \"y\": [600.0, 478], \"mode\": \"lines\", \"line\": {\"width\": 2, \"color\": \"green\"}}, {\"type\": \"scatter\", \"x\": [200.0, 347], \"y\": [1000.0, 972], \"mode\": \"lines\", \"line\": {\"width\": 2, \"color\": \"green\"}}, {\"type\": \"scatter\", \"x\": [1000.0, 796], \"y\": [600.0, 546], \"mode\": \"lines\", \"line\": {\"width\": 2, \"color\": \"red\"}}, {\"type\": \"scatter\", \"x\": [200.0, 339], \"y\": [600.0, 568], \"mode\": \"lines\", \"line\": {\"width\": 2, \"color\": \"green\"}}, {\"type\": \"scatter\", \"x\": [1000.0, 933], \"y\": [200.0, 179], \"mode\": \"lines\", \"line\": {\"width\": 2, \"color\": \"green\"}}, {\"type\": \"scatter\", \"x\": [200.0, 81], \"y\": [600.0, 906], \"mode\": \"lines\", \"line\": {\"width\": 2, \"color\": \"green\"}}, {\"type\": \"scatter\", \"x\": [200.0, 138], \"y\": [1000.0, 1080], \"mode\": \"lines\", \"line\": {\"width\": 2, \"color\": \"green\"}}, {\"type\": \"scatter\", \"x\": [200.0, 42], \"y\": [600.0, 510], \"mode\": \"lines\", \"line\": {\"width\": 2, \"color\": \"green\"}}, {\"type\": \"scatter\", \"x\": [200.0, 208], \"y\": [1400.0, 1568], \"mode\": \"lines\", \"line\": {\"width\": 2, \"color\": \"green\"}}, {\"type\": \"scatter\", \"x\": [200.0, 259], \"y\": [600.0, 472], \"mode\": \"lines\", \"line\": {\"width\": 2, \"color\": \"green\"}}, {\"type\": \"scatter\", \"x\": [1400.0, 1555], \"y\": [600.0, 700], \"mode\": \"lines\", \"line\": {\"width\": 2, \"color\": \"green\"}}, {\"type\": \"scatter\", \"x\": [1000.0, 995], \"y\": [1400.0, 1547], \"mode\": \"lines\", \"line\": {\"width\": 2, \"color\": \"green\"}}, {\"type\": \"scatter\", \"x\": [1400.0, 1472], \"y\": [200.0, 287], \"mode\": \"lines\", \"line\": {\"width\": 2, \"color\": \"green\"}}, {\"type\": \"scatter\", \"x\": [600.0, 728], \"y\": [200.0, 334], \"mode\": \"lines\", \"line\": {\"width\": 2, \"color\": \"green\"}}, {\"type\": \"scatter\", \"x\": [600.0, 414], \"y\": [200.0, 32], \"mode\": \"lines\", \"line\": {\"width\": 2, \"color\": \"green\"}}, {\"type\": \"scatter\", \"x\": [200.0, 199], \"y\": [200.0, 214], \"mode\": \"lines\", \"line\": {\"width\": 2, \"color\": \"green\"}}, {\"type\": \"scatter\", \"x\": [1000.0, 1138], \"y\": [600.0, 575], \"mode\": \"lines\", \"line\": {\"width\": 2, \"color\": \"green\"}}, {\"type\": \"scatter\", \"x\": [200.0, 521], \"y\": [1000.0, 949], \"mode\": \"lines\", \"line\": {\"width\": 2, \"color\": \"green\"}}, {\"type\": \"scatter\", \"x\": [600.0, 696], \"y\": [1400.0, 1241], \"mode\": \"lines\", \"line\": {\"width\": 2, \"color\": \"green\"}}, {\"type\": \"scatter\", \"x\": [1400.0, 1382], \"y\": [600.0, 596], \"mode\": \"lines\", \"line\": {\"width\": 2, \"color\": \"green\"}}, {\"type\": \"scatter\", \"x\": [1400.0, 1240], \"y\": [1000.0, 1188], \"mode\": \"lines\", \"line\": {\"width\": 2, \"color\": \"green\"}}, {\"type\": \"scatter\", \"x\": [1000.0, 1057], \"y\": [1000.0, 989], \"mode\": \"lines\", \"line\": {\"width\": 2, \"color\": \"red\"}}, {\"type\": \"scatter\", \"x\": [200.0, 302], \"y\": [1400.0, 1508], \"mode\": \"lines\", \"line\": {\"width\": 2, \"color\": \"green\"}}, {\"type\": \"scatter\", \"x\": [600.0, 698], \"y\": [600.0, 536], \"mode\": \"lines\", \"line\": {\"width\": 2, \"color\": \"green\"}}, {\"type\": \"scatter\", \"x\": [600.0, 575], \"y\": [1400.0, 1452], \"mode\": \"lines\", \"line\": {\"width\": 2, \"color\": \"green\"}}, {\"type\": \"scatter\", \"x\": [1400.0, 1499], \"y\": [600.0, 416], \"mode\": \"lines\", \"line\": {\"width\": 2, \"color\": \"green\"}}, {\"type\": \"scatter\", \"x\": [200.0, 242], \"y\": [600.0, 596], \"mode\": \"lines\", \"line\": {\"width\": 2, \"color\": \"green\"}}, {\"type\": \"scatter\", \"x\": [1400.0, 1451], \"y\": [600.0, 528], \"mode\": \"lines\", \"line\": {\"width\": 2, \"color\": \"green\"}}, {\"type\": \"scatter\", \"x\": [200.0, 171], \"y\": [1400.0, 1237], \"mode\": \"lines\", \"line\": {\"width\": 2, \"color\": \"green\"}}, {\"type\": \"scatter\", \"x\": [1400.0, 1538], \"y\": [1000.0, 959], \"mode\": \"lines\", \"line\": {\"width\": 2, \"color\": \"green\"}}, {\"type\": \"scatter\", \"x\": [600.0, 569], \"y\": [1000.0, 633], \"mode\": \"lines\", \"line\": {\"width\": 2, \"color\": \"red\"}}, {\"type\": \"scatter\", \"x\": [600.0, 677], \"y\": [1400.0, 1091], \"mode\": \"lines\", \"line\": {\"width\": 2, \"color\": \"green\"}}, {\"type\": \"scatter\", \"x\": [1000.0, 972], \"y\": [1000.0, 855], \"mode\": \"lines\", \"line\": {\"width\": 2, \"color\": \"green\"}}, {\"type\": \"scatter\", \"x\": [1000.0, 951], \"y\": [1000.0, 914], \"mode\": \"lines\", \"line\": {\"width\": 2, \"color\": \"green\"}}, {\"type\": \"scatter\", \"x\": [200.0, 294], \"y\": [1400.0, 1443], \"mode\": \"lines\", \"line\": {\"width\": 2, \"color\": \"green\"}}, {\"type\": \"scatter\", \"x\": [600.0, 651], \"y\": [1000.0, 728], \"mode\": \"lines\", \"line\": {\"width\": 2, \"color\": \"red\"}}, {\"type\": \"scatter\", \"x\": [600.0, 773], \"y\": [1000.0, 807], \"mode\": \"lines\", \"line\": {\"width\": 2, \"color\": \"green\"}}, {\"type\": \"scatter\", \"x\": [200.0, 134], \"y\": [1000.0, 1000], \"mode\": \"lines\", \"line\": {\"width\": 2, \"color\": \"green\"}}, {\"type\": \"scatter\", \"x\": [200.0, 158], \"y\": [600.0, 746], \"mode\": \"lines\", \"line\": {\"width\": 2, \"color\": \"green\"}}, {\"type\": \"scatter\", \"x\": [600.0, 629], \"y\": [200.0, 150], \"mode\": \"lines\", \"line\": {\"width\": 2, \"color\": \"green\"}}, {\"type\": \"scatter\", \"x\": [1000.0, 847], \"y\": [200.0, 114], \"mode\": \"lines\", \"line\": {\"width\": 2, \"color\": \"green\"}}, {\"type\": \"scatter\", \"x\": [1400.0, 1392], \"y\": [1000.0, 847], \"mode\": \"lines\", \"line\": {\"width\": 2, \"color\": \"green\"}}, {\"type\": \"scatter\", \"x\": [600.0, 524], \"y\": [200.0, 222], \"mode\": \"lines\", \"line\": {\"width\": 2, \"color\": \"green\"}}, {\"type\": \"scatter\", \"x\": [200.0, 222], \"y\": [600.0, 630], \"mode\": \"lines\", \"line\": {\"width\": 2, \"color\": \"green\"}}, {\"type\": \"scatter\", \"x\": [1000.0, 1178], \"y\": [200.0, 385], \"mode\": \"lines\", \"line\": {\"width\": 2, \"color\": \"green\"}}, {\"type\": \"scatter\", \"x\": [1400.0, 1361], \"y\": [1000.0, 851], \"mode\": \"lines\", \"line\": {\"width\": 2, \"color\": \"green\"}}, {\"type\": \"scatter\", \"x\": [600.0, 752], \"y\": [1400.0, 1246], \"mode\": \"lines\", \"line\": {\"width\": 2, \"color\": \"green\"}}, {\"type\": \"scatter\", \"x\": [1000.0, 829], \"y\": [1000.0, 1386], \"mode\": \"lines\", \"line\": {\"width\": 2, \"color\": \"green\"}}, {\"type\": \"scatter\", \"x\": [200.0, 171], \"y\": [1400.0, 1468], \"mode\": \"lines\", \"line\": {\"width\": 2, \"color\": \"green\"}}, {\"type\": \"scatter\", \"x\": [200.0, 516], \"y\": [1000.0, 896], \"mode\": \"lines\", \"line\": {\"width\": 2, \"color\": \"green\"}}, {\"type\": \"scatter\", \"x\": [1000.0, 1021], \"y\": [600.0, 660], \"mode\": \"lines\", \"line\": {\"width\": 2, \"color\": \"green\"}}, {\"type\": \"scatter\", \"x\": [600.0, 594], \"y\": [1000.0, 672], \"mode\": \"lines\", \"line\": {\"width\": 2, \"color\": \"green\"}}, {\"type\": \"scatter\", \"x\": [200.0, 186], \"y\": [1400.0, 1415], \"mode\": \"lines\", \"line\": {\"width\": 2, \"color\": \"green\"}}, {\"type\": \"scatter\", \"x\": [200.0, 162], \"y\": [200.0, 172], \"mode\": \"lines\", \"line\": {\"width\": 2, \"color\": \"green\"}}, {\"type\": \"scatter\", \"x\": [1400.0, 1594], \"y\": [1400.0, 1461], \"mode\": \"lines\", \"line\": {\"width\": 2, \"color\": \"green\"}}, {\"type\": \"scatter\", \"x\": [1000.0, 921], \"y\": [600.0, 543], \"mode\": \"lines\", \"line\": {\"width\": 2, \"color\": \"green\"}}, {\"type\": \"scatter\", \"x\": [600.0, 591], \"y\": [1400.0, 1070], \"mode\": \"lines\", \"line\": {\"width\": 2, \"color\": \"green\"}}, {\"type\": \"scatter\", \"x\": [600.0, 609], \"y\": [1400.0, 1341], \"mode\": \"lines\", \"line\": {\"width\": 2, \"color\": \"green\"}}, {\"type\": \"scatter\", \"x\": [1400.0, 1450], \"y\": [200.0, 69], \"mode\": \"lines\", \"line\": {\"width\": 2, \"color\": \"green\"}}, {\"type\": \"scatter\", \"x\": [1000.0, 796], \"y\": [600.0, 546], \"mode\": \"lines\", \"line\": {\"width\": 2, \"color\": \"red\"}}, {\"type\": \"scatter\", \"x\": [200.0, 338], \"y\": [600.0, 687], \"mode\": \"lines\", \"line\": {\"width\": 2, \"color\": \"green\"}}, {\"type\": \"scatter\", \"x\": [600.0, 426], \"y\": [1400.0, 1332], \"mode\": \"lines\", \"line\": {\"width\": 2, \"color\": \"green\"}}, {\"type\": \"scatter\", \"x\": [1400.0, 1294], \"y\": [600.0, 579], \"mode\": \"lines\", \"line\": {\"width\": 2, \"color\": \"green\"}}, {\"type\": \"scatter\", \"x\": [1400.0, 1252], \"y\": [1000.0, 1148], \"mode\": \"lines\", \"line\": {\"width\": 2, \"color\": \"green\"}}, {\"type\": \"scatter\", \"x\": [600.0, 906], \"y\": [600.0, 555], \"mode\": \"lines\", \"line\": {\"width\": 2, \"color\": \"red\"}}, {\"type\": \"scatter\", \"x\": [600.0, 632], \"y\": [200.0, 538], \"mode\": \"lines\", \"line\": {\"width\": 2, \"color\": \"red\"}}, {\"type\": \"scatter\", \"x\": [1400.0, 1238], \"y\": [200.0, 210], \"mode\": \"lines\", \"line\": {\"width\": 2, \"color\": \"green\"}}, {\"type\": \"scatter\", \"x\": [200.0, 249], \"y\": [200.0, 101], \"mode\": \"lines\", \"line\": {\"width\": 2, \"color\": \"green\"}}, {\"type\": \"scatter\", \"x\": [1000.0, 648], \"y\": [1400.0, 1449], \"mode\": \"lines\", \"line\": {\"width\": 2, \"color\": \"green\"}}, {\"type\": \"scatter\", \"x\": [200.0, 307], \"y\": [1400.0, 1262], \"mode\": \"lines\", \"line\": {\"width\": 2, \"color\": \"green\"}}, {\"type\": \"scatter\", \"x\": [1000.0, 1039], \"y\": [1000.0, 1084], \"mode\": \"lines\", \"line\": {\"width\": 2, \"color\": \"green\"}}, {\"type\": \"scatter\", \"x\": [1000.0, 1062], \"y\": [1000.0, 999], \"mode\": \"lines\", \"line\": {\"width\": 2, \"color\": \"red\"}}, {\"type\": \"scatter\", \"x\": [600.0, 818], \"y\": [1000.0, 887], \"mode\": \"lines\", \"line\": {\"width\": 2, \"color\": \"red\"}}, {\"type\": \"scatter\", \"x\": [1000.0, 956], \"y\": [1000.0, 674], \"mode\": \"lines\", \"line\": {\"width\": 2, \"color\": \"red\"}}, {\"type\": \"scatter\", \"x\": [1000.0, 985], \"y\": [1400.0, 1464], \"mode\": \"lines\", \"line\": {\"width\": 2, \"color\": \"green\"}}, {\"type\": \"scatter\", \"x\": [1000.0, 1084], \"y\": [1000.0, 1162], \"mode\": \"lines\", \"line\": {\"width\": 2, \"color\": \"green\"}}, {\"type\": \"scatter\", \"x\": [1000.0, 990], \"y\": [1000.0, 802], \"mode\": \"lines\", \"line\": {\"width\": 2, \"color\": \"green\"}}, {\"type\": \"scatter\", \"x\": [1000.0, 1139], \"y\": [200.0, 437], \"mode\": \"lines\", \"line\": {\"width\": 2, \"color\": \"green\"}}, {\"type\": \"scatter\", \"x\": [1000.0, 1091], \"y\": [1000.0, 817], \"mode\": \"lines\", \"line\": {\"width\": 2, \"color\": \"red\"}}, {\"type\": \"scatter\", \"x\": [1000.0, 968], \"y\": [600.0, 635], \"mode\": \"lines\", \"line\": {\"width\": 2, \"color\": \"red\"}}, {\"type\": \"scatter\", \"x\": [1000.0, 1153], \"y\": [200.0, 436], \"mode\": \"lines\", \"line\": {\"width\": 2, \"color\": \"green\"}}, {\"type\": \"scatter\", \"x\": [1000.0, 1180], \"y\": [1000.0, 756], \"mode\": \"lines\", \"line\": {\"width\": 2, \"color\": \"green\"}}, {\"type\": \"scatter\", \"x\": [600.0, 545], \"y\": [200.0, 268], \"mode\": \"lines\", \"line\": {\"width\": 2, \"color\": \"green\"}}, {\"type\": \"scatter\", \"x\": [1400.0, 1317], \"y\": [1000.0, 862], \"mode\": \"lines\", \"line\": {\"width\": 2, \"color\": \"green\"}}, {\"type\": \"scatter\", \"x\": [600.0, 629], \"y\": [1400.0, 1379], \"mode\": \"lines\", \"line\": {\"width\": 2, \"color\": \"green\"}}, {\"type\": \"scatter\", \"x\": [1000.0, 1134], \"y\": [1400.0, 1461], \"mode\": \"lines\", \"line\": {\"width\": 2, \"color\": \"green\"}}, {\"type\": \"scatter\", \"x\": [600.0, 733], \"y\": [1000.0, 778], \"mode\": \"lines\", \"line\": {\"width\": 2, \"color\": \"green\"}}, {\"type\": \"scatter\", \"x\": [200.0, 201], \"y\": [600.0, 746], \"mode\": \"lines\", \"line\": {\"width\": 2, \"color\": \"green\"}}, {\"type\": \"scatter\", \"x\": [600.0, 536], \"y\": [200.0, 139], \"mode\": \"lines\", \"line\": {\"width\": 2, \"color\": \"green\"}}, {\"type\": \"scatter\", \"x\": [600.0, 675], \"y\": [600.0, 883], \"mode\": \"lines\", \"line\": {\"width\": 2, \"color\": \"green\"}}, {\"type\": \"scatter\", \"x\": [200.0, 249], \"y\": [1000.0, 942], \"mode\": \"lines\", \"line\": {\"width\": 2, \"color\": \"green\"}}, {\"type\": \"scatter\", \"x\": [1400.0, 1530], \"y\": [1000.0, 1118], \"mode\": \"lines\", \"line\": {\"width\": 2, \"color\": \"green\"}}, {\"type\": \"scatter\", \"x\": [200.0, 191], \"y\": [1000.0, 913], \"mode\": \"lines\", \"line\": {\"width\": 2, \"color\": \"green\"}}, {\"type\": \"scatter\", \"x\": [1000.0, 1067], \"y\": [600.0, 529], \"mode\": \"lines\", \"line\": {\"width\": 2, \"color\": \"green\"}}, {\"type\": \"scatter\", \"x\": [1000.0, 1105], \"y\": [200.0, 145], \"mode\": \"lines\", \"line\": {\"width\": 2, \"color\": \"green\"}}, {\"type\": \"scatter\", \"x\": [200.0, 209], \"y\": [1400.0, 1255], \"mode\": \"lines\", \"line\": {\"width\": 2, \"color\": \"green\"}}, {\"type\": \"scatter\", \"x\": [200.0, 232], \"y\": [1400.0, 1591], \"mode\": \"lines\", \"line\": {\"width\": 2, \"color\": \"green\"}}, {\"type\": \"scatter\", \"x\": [1000.0, 845], \"y\": [1000.0, 1116], \"mode\": \"lines\", \"line\": {\"width\": 2, \"color\": \"green\"}}, {\"type\": \"scatter\", \"x\": [1000.0, 634], \"y\": [600.0, 627], \"mode\": \"lines\", \"line\": {\"width\": 2, \"color\": \"red\"}}, {\"type\": \"scatter\", \"x\": [1000.0, 1120], \"y\": [1000.0, 910], \"mode\": \"lines\", \"line\": {\"width\": 2, \"color\": \"green\"}}, {\"type\": \"scatter\", \"x\": [812, 812], \"y\": [0, 1600.0], \"mode\": \"lines\", \"line\": {\"width\": 2, \"color\": \"black\"}}, {\"type\": \"scatter\", \"x\": [812, 912], \"y\": [1600.0, 1600.0], \"mode\": \"lines\", \"line\": {\"width\": 2, \"color\": \"black\"}}, {\"type\": \"scatter\", \"x\": [912, 912], \"y\": [1600.0, 0], \"mode\": \"lines\", \"line\": {\"width\": 2, \"color\": \"black\"}}, {\"type\": \"scatter\", \"x\": [812, 912], \"y\": [0, 0], \"mode\": \"lines\", \"line\": {\"width\": 2, \"color\": \"black\"}}, {\"type\": \"scatter\", \"x\": [0, 0], \"y\": [257, 357], \"mode\": \"lines\", \"line\": {\"width\": 2, \"color\": \"black\"}}, {\"type\": \"scatter\", \"x\": [0, 1600.0], \"y\": [357, 357], \"mode\": \"lines\", \"line\": {\"width\": 2, \"color\": \"black\"}}, {\"type\": \"scatter\", \"x\": [1600.0, 1600.0], \"y\": [357, 257], \"mode\": \"lines\", \"line\": {\"width\": 2, \"color\": \"black\"}}, {\"type\": \"scatter\", \"x\": [0, 1600.0], \"y\": [257, 257], \"mode\": \"lines\", \"line\": {\"width\": 2, \"color\": \"black\"}}, {\"type\": \"scatter\", \"x\": [0, 0], \"y\": [85, 185], \"mode\": \"lines\", \"line\": {\"width\": 2, \"color\": \"black\"}}, {\"type\": \"scatter\", \"x\": [0, 1600.0], \"y\": [185, 185], \"mode\": \"lines\", \"line\": {\"width\": 2, \"color\": \"black\"}}, {\"type\": \"scatter\", \"x\": [1600.0, 1600.0], \"y\": [185, 85], \"mode\": \"lines\", \"line\": {\"width\": 2, \"color\": \"black\"}}, {\"type\": \"scatter\", \"x\": [0, 1600.0], \"y\": [85, 85], \"mode\": \"lines\", \"line\": {\"width\": 2, \"color\": \"black\"}}, {\"type\": \"scatter\", \"x\": [465, 465], \"y\": [80, 260], \"mode\": \"lines\", \"line\": {\"width\": 2, \"color\": \"black\"}}, {\"type\": \"scatter\", \"x\": [465, 556], \"y\": [260, 260], \"mode\": \"lines\", \"line\": {\"width\": 2, \"color\": \"black\"}}, {\"type\": \"scatter\", \"x\": [556, 556], \"y\": [260, 80], \"mode\": \"lines\", \"line\": {\"width\": 2, \"color\": \"black\"}}, {\"type\": \"scatter\", \"x\": [465, 556], \"y\": [80, 80], \"mode\": \"lines\", \"line\": {\"width\": 2, \"color\": \"black\"}}, {\"type\": \"scatter\", \"x\": [200.0, 200.0, 200.0, 200.0, 600.0, 600.0, 600.0, 600.0, 1000.0, 1000.0, 1000.0, 1000.0, 1400.0, 1400.0, 1400.0, 1400.0, 953, 1166, 1178, 1041, 1381, 499, 12, 602, 706, 1411, 596, 1292, 529, 1447, 603, 1464, 959, 748, 691, 742, 702, 372, 921, 37, 861, 1026, 938, 1599, 667, 269, 1024, 896, 1527, 1068, 584, 84, 1492, 1125, 765, 1099, 701, 1498, 971, 920, 588, 167, 1395, 52, 46, 1053, 650, 683, 203, 247, 659, 1027, 1155, 925, 747, 1193, 1103, 944, 618, 922, 672, 126, 546, 119, 897, 1491, 800, 1185, 615, 1167, 270, 537, 816, 1379, 626, 836, 851, 609, 840, 1092, 281, 86, 491, 356, 351, 1084, 168, 768, 1406, 1491, 826, 1584, 1069, 539, 514, 590, 819, 347, 796, 339, 933, 81, 138, 42, 208, 259, 1555, 995, 1472, 728, 414, 199, 1138, 521, 696, 1382, 1240, 1057, 302, 698, 575, 1499, 242, 1451, 171, 1538, 569, 677, 972, 951, 294, 651, 773, 134, 158, 629, 847, 1392, 524, 222, 1178, 1361, 752, 829, 171, 516, 1021, 594, 186, 162, 1594, 921, 591, 609, 1450, 796, 338, 426, 1294, 1252, 906, 632, 1238, 249, 648, 307, 1039, 1062, 818, 956, 985, 1084, 990, 1139, 1091, 968, 1153, 1180, 545, 1317, 629, 1134, 733, 201, 536, 675, 249, 1530, 191, 1067, 1105, 209, 232, 845, 634, 1120, 812, 812, 912, 912, 0, 0, 1600.0, 1600.0, 0, 0, 1600.0, 1600.0, 465, 465, 556, 556], \"y\": [200.0, 600.0, 1000.0, 1400.0, 200.0, 600.0, 1000.0, 1400.0, 200.0, 600.0, 1000.0, 1400.0, 200.0, 600.0, 1000.0, 1400.0, 528, 582, 1287, 1009, 796, 293, 758, 794, 968, 298, 1204, 423, 562, 655, 500, 148, 915, 664, 1038, 276, 957, 235, 1158, 504, 876, 377, 629, 1173, 831, 868, 1578, 1347, 1130, 853, 1097, 128, 1293, 517, 121, 1056, 541, 811, 902, 636, 510, 169, 291, 919, 714, 657, 942, 939, 561, 154, 1203, 1587, 1463, 753, 79, 1439, 1067, 1502, 1198, 154, 1072, 332, 858, 444, 852, 12, 1120, 1064, 941, 938, 1064, 814, 1008, 1306, 781, 675, 852, 686, 749, 360, 138, 688, 277, 607, 1595, 117, 945, 1028, 620, 133, 1532, 1048, 803, 1096, 827, 965, 478, 972, 546, 568, 179, 906, 1080, 510, 1568, 472, 700, 1547, 287, 334, 32, 214, 575, 949, 1241, 596, 1188, 989, 1508, 536, 1452, 416, 596, 528, 1237, 959, 633, 1091, 855, 914, 1443, 728, 807, 1000, 746, 150, 114, 847, 222, 630, 385, 851, 1246, 1386, 1468, 896, 660, 672, 1415, 172, 1461, 543, 1070, 1341, 69, 546, 687, 1332, 579, 1148, 555, 538, 210, 101, 1449, 1262, 1084, 999, 887, 674, 1464, 1162, 802, 437, 817, 635, 436, 756, 268, 862, 1379, 1461, 778, 746, 139, 883, 942, 1118, 913, 529, 145, 1255, 1591, 1116, 627, 910, 0, 1600.0, 1600.0, 0, 257, 357, 357, 257, 85, 185, 185, 85, 80, 260, 260, 80], \"mode\": \"markers\", \"marker\": {\"size\": 8, \"color\": [\"orange\", \"orange\", \"orange\", \"orange\", \"orange\", \"orange\", \"orange\", \"orange\", \"orange\", \"orange\", \"orange\", \"orange\", \"orange\", \"orange\", \"orange\", \"orange\", \"blue\", \"magenta\", \"magenta\", \"blue\", \"magenta\", \"magenta\", \"magenta\", \"blue\", \"magenta\", \"magenta\", \"magenta\", \"magenta\", \"blue\", \"magenta\", \"blue\", \"magenta\", \"blue\", \"blue\", \"blue\", \"magenta\", \"blue\", \"magenta\", \"magenta\", \"magenta\", \"magenta\", \"magenta\", \"blue\", \"magenta\", \"blue\", \"magenta\", \"magenta\", \"magenta\", \"magenta\", \"blue\", \"blue\", \"magenta\", \"magenta\", \"magenta\", \"magenta\", \"magenta\", \"blue\", \"magenta\", \"magenta\", \"blue\", \"blue\", \"magenta\", \"magenta\", \"magenta\", \"magenta\", \"magenta\", \"blue\", \"blue\", \"magenta\", \"magenta\", \"magenta\", \"magenta\", \"magenta\", \"magenta\", \"magenta\", \"magenta\", \"magenta\", \"magenta\", \"magenta\", \"magenta\", \"magenta\", \"magenta\", \"blue\", \"magenta\", \"blue\", \"magenta\", \"magenta\", \"magenta\", \"blue\", \"magenta\", \"magenta\", \"magenta\", \"blue\", \"magenta\", \"magenta\", \"blue\", \"blue\", \"blue\", \"blue\", \"magenta\", \"magenta\", \"magenta\", \"magenta\", \"magenta\", \"magenta\", \"magenta\", \"magenta\", \"blue\", \"magenta\", \"magenta\", \"magenta\", \"magenta\", \"magenta\", \"blue\", \"magenta\", \"blue\", \"magenta\", \"magenta\", \"blue\", \"magenta\", \"magenta\", \"magenta\", \"magenta\", \"magenta\", \"magenta\", \"magenta\", \"magenta\", \"magenta\", \"magenta\", \"magenta\", \"magenta\", \"magenta\", \"magenta\", \"blue\", \"magenta\", \"magenta\", \"magenta\", \"blue\", \"magenta\", \"magenta\", \"magenta\", \"magenta\", \"magenta\", \"magenta\", \"magenta\", \"magenta\", \"blue\", \"blue\", \"magenta\", \"magenta\", \"magenta\", \"blue\", \"magenta\", \"magenta\", \"magenta\", \"magenta\", \"magenta\", \"magenta\", \"magenta\", \"magenta\", \"magenta\", \"magenta\", \"magenta\", \"magenta\", \"magenta\", \"blue\", \"blue\", \"magenta\", \"magenta\", \"magenta\", \"magenta\", \"magenta\", \"magenta\", \"magenta\", \"magenta\", \"blue\", \"magenta\", \"magenta\", \"magenta\", \"magenta\", \"blue\", \"blue\", \"magenta\", \"magenta\", \"magenta\", \"magenta\", \"magenta\", \"blue\", \"blue\", \"blue\", \"magenta\", \"magenta\", \"magenta\", \"magenta\", \"blue\", \"blue\", \"magenta\", \"magenta\", \"magenta\", \"magenta\", \"magenta\", \"magenta\", \"magenta\", \"magenta\", \"magenta\", \"blue\", \"magenta\", \"magenta\", \"magenta\", \"magenta\", \"magenta\", \"magenta\", \"magenta\", \"magenta\", \"blue\", \"magenta\", \"black\", \"black\", \"black\", \"black\", \"black\", \"black\", \"black\", \"black\", \"black\", \"black\", \"black\", \"black\", \"black\", \"black\", \"black\", \"black\"]}}],\n",
       "            {\"xaxis\": {\"range\": [0, 1600], \"title\": \"x\"}, \"yaxis\": {\"range\": [0, 1600], \"title\": \"y\"}, \"title\": \"UE and AP Distribution in the grid\", \"height\": 1000, \"width\": 1000, \"showlegend\": false, \"shapes\": [{\"type\": \"rect\", \"x0\": 812, \"y0\": 0, \"x1\": 912, \"y1\": 1600.0, \"line\": {\"color\": \"rgba(128, 0, 128, 1)\", \"width\": 2}, \"fillcolor\": \"rgba(128, 0, 128 0.1)\"}, {\"type\": \"rect\", \"x0\": 0, \"y0\": 257, \"x1\": 1600.0, \"y1\": 357, \"line\": {\"color\": \"rgba(128, 0, 128, 1)\", \"width\": 2}, \"fillcolor\": \"rgba(128, 0, 128 0.1)\"}, {\"type\": \"rect\", \"x0\": 0, \"y0\": 85, \"x1\": 1600.0, \"y1\": 185, \"line\": {\"color\": \"rgba(128, 0, 128, 1)\", \"width\": 2}, \"fillcolor\": \"rgba(128, 0, 128 0.1)\"}, {\"type\": \"rect\", \"x0\": 465, \"y0\": 80, \"x1\": 556, \"y1\": 260, \"line\": {\"color\": \"rgba(128, 0, 128, 1)\", \"width\": 2}, \"fillcolor\": \"rgba(128, 0, 128 0.1)\"}], \"updatemenus\": [{\"type\": \"buttons\", \"buttons\": [{\"label\": \"Play\", \"method\": \"animate\", \"args\": [null]}]}]},\n",
       "            {\"showLink\": true, \"linkText\": \"Export to plot.ly\"}\n",
       "        ).then(function () {return Plotly.addFrames('b535f5df-0537-4d2f-aa43-8cfa99dabc74',[{\"data\": [{\"type\": \"scatter\", \"x\": [600.0, 952.0], \"y\": [600.0, 529.0], \"mode\": \"lines\", \"line\": {\"width\": 2, \"color\": \"red\"}}, {\"type\": \"scatter\", \"x\": [1000.0, 1166.0], \"y\": [600.0, 584.0], \"mode\": \"lines\", \"line\": {\"width\": 2, \"color\": \"green\"}}, {\"type\": \"scatter\", \"x\": [1000.0, 1177.0], \"y\": [1400.0, 1289.0], \"mode\": \"lines\", \"line\": {\"width\": 2, \"color\": \"green\"}}, {\"type\": \"scatter\", \"x\": [1000.0, 1041.0], \"y\": [1000.0, 1007.0], \"mode\": \"lines\", \"line\": {\"width\": 2, \"color\": \"red\"}}, {\"type\": \"scatter\", \"x\": [1400.0, 1379.0], \"y\": [600.0, 796.0], \"mode\": \"lines\", \"line\": {\"width\": 2, \"color\": \"green\"}}, {\"type\": \"scatter\", \"x\": [600.0, 446], \"y\": [200.0, 293], \"mode\": \"lines\", \"line\": {\"width\": 2, \"color\": \"green\"}}, {\"type\": \"scatter\", \"x\": [200.0, 13.0], \"y\": [1000.0, 756.0], \"mode\": \"lines\", \"line\": {\"width\": 2, \"color\": \"green\"}}, {\"type\": \"scatter\", \"x\": [1000.0, 601.0], \"y\": [600.0, 796.0], \"mode\": \"lines\", \"line\": {\"width\": 2, \"color\": \"red\"}}, {\"type\": \"scatter\", \"x\": [600.0, 708.0], \"y\": [1000.0, 969.0], \"mode\": \"lines\", \"line\": {\"width\": 2, \"color\": \"green\"}}, {\"type\": \"scatter\", \"x\": [1400.0, 1437], \"y\": [200.0, 298], \"mode\": \"lines\", \"line\": {\"width\": 2, \"color\": \"green\"}}, {\"type\": \"scatter\", \"x\": [600.0, 594.0], \"y\": [1400.0, 1203.0], \"mode\": \"lines\", \"line\": {\"width\": 2, \"color\": \"green\"}}, {\"type\": \"scatter\", \"x\": [1400.0, 1294.0], \"y\": [600.0, 424.0], \"mode\": \"lines\", \"line\": {\"width\": 2, \"color\": \"green\"}}, {\"type\": \"scatter\", \"x\": [600.0, 529.0], \"y\": [600.0, 560.0], \"mode\": \"lines\", \"line\": {\"width\": 2, \"color\": \"red\"}}, {\"type\": \"scatter\", \"x\": [1400.0, 1446.0], \"y\": [1000.0, 657.0], \"mode\": \"lines\", \"line\": {\"width\": 2, \"color\": \"green\"}}, {\"type\": \"scatter\", \"x\": [600.0, 604.0], \"y\": [200.0, 502.0], \"mode\": \"lines\", \"line\": {\"width\": 2, \"color\": \"red\"}}, {\"type\": \"scatter\", \"x\": [1400.0, 1497], \"y\": [200.0, 148], \"mode\": \"lines\", \"line\": {\"width\": 2, \"color\": \"green\"}}, {\"type\": \"scatter\", \"x\": [600.0, 959.0], \"y\": [600.0, 917.0], \"mode\": \"lines\", \"line\": {\"width\": 2, \"color\": \"red\"}}, {\"type\": \"scatter\", \"x\": [600.0, 748.0], \"y\": [600.0, 662.0], \"mode\": \"lines\", \"line\": {\"width\": 2, \"color\": \"red\"}}, {\"type\": \"scatter\", \"x\": [600.0, 693.0], \"y\": [1000.0, 1039.0], \"mode\": \"lines\", \"line\": {\"width\": 2, \"color\": \"red\"}}, {\"type\": \"scatter\", \"x\": [600.0, 703], \"y\": [200.0, 276], \"mode\": \"lines\", \"line\": {\"width\": 2, \"color\": \"green\"}}, {\"type\": \"scatter\", \"x\": [1000.0, 704.0], \"y\": [1000.0, 957.0], \"mode\": \"lines\", \"line\": {\"width\": 2, \"color\": \"red\"}}, {\"type\": \"scatter\", \"x\": [200.0, 370.0], \"y\": [200.0, 236.0], \"mode\": \"lines\", \"line\": {\"width\": 2, \"color\": \"green\"}}, {\"type\": \"scatter\", \"x\": [1000.0, 919.0], \"y\": [1000.0, 1158.0], \"mode\": \"lines\", \"line\": {\"width\": 2, \"color\": \"green\"}}, {\"type\": \"scatter\", \"x\": [200.0, 35.0], \"y\": [600.0, 503.0], \"mode\": \"lines\", \"line\": {\"width\": 2, \"color\": \"green\"}}, {\"type\": \"scatter\", \"x\": [1000.0, 861], \"y\": [1000.0, 828], \"mode\": \"lines\", \"line\": {\"width\": 2, \"color\": \"green\"}}, {\"type\": \"scatter\", \"x\": [1400.0, 1024.0], \"y\": [600.0, 376.0], \"mode\": \"lines\", \"line\": {\"width\": 2, \"color\": \"green\"}}, {\"type\": \"scatter\", \"x\": [1000.0, 940.0], \"y\": [600.0, 628.0], \"mode\": \"lines\", \"line\": {\"width\": 2, \"color\": \"red\"}}, {\"type\": \"scatter\", \"x\": [1400.0, 1599.0], \"y\": [1000.0, 1172.0], \"mode\": \"lines\", \"line\": {\"width\": 2, \"color\": \"green\"}}, {\"type\": \"scatter\", \"x\": [600.0, 666.0], \"y\": [1000.0, 832.0], \"mode\": \"lines\", \"line\": {\"width\": 2, \"color\": \"red\"}}, {\"type\": \"scatter\", \"x\": [200.0, 269.0], \"y\": [1000.0, 870.0], \"mode\": \"lines\", \"line\": {\"width\": 2, \"color\": \"green\"}}, {\"type\": \"scatter\", \"x\": [1400.0, 1026.0], \"y\": [1400.0, 1577.0], \"mode\": \"lines\", \"line\": {\"width\": 2, \"color\": \"green\"}}, {\"type\": \"scatter\", \"x\": [1000.0, 896], \"y\": [1400.0, 1302], \"mode\": \"lines\", \"line\": {\"width\": 2, \"color\": \"green\"}}, {\"type\": \"scatter\", \"x\": [1400.0, 1525.0], \"y\": [1000.0, 1131.0], \"mode\": \"lines\", \"line\": {\"width\": 2, \"color\": \"green\"}}, {\"type\": \"scatter\", \"x\": [1000.0, 1070.0], \"y\": [1000.0, 854.0], \"mode\": \"lines\", \"line\": {\"width\": 2, \"color\": \"red\"}}, {\"type\": \"scatter\", \"x\": [200.0, 582.0], \"y\": [1400.0, 1098.0], \"mode\": \"lines\", \"line\": {\"width\": 2, \"color\": \"green\"}}, {\"type\": \"scatter\", \"x\": [200.0, 142], \"y\": [200.0, 128], \"mode\": \"lines\", \"line\": {\"width\": 2, \"color\": \"green\"}}, {\"type\": \"scatter\", \"x\": [1400.0, 1492.0], \"y\": [1400.0, 1295.0], \"mode\": \"lines\", \"line\": {\"width\": 2, \"color\": \"green\"}}, {\"type\": \"scatter\", \"x\": [1000.0, 1127.0], \"y\": [600.0, 516.0], \"mode\": \"lines\", \"line\": {\"width\": 2, \"color\": \"green\"}}, {\"type\": \"scatter\", \"x\": [600.0, 718], \"y\": [200.0, 121], \"mode\": \"lines\", \"line\": {\"width\": 2, \"color\": \"green\"}}, {\"type\": \"scatter\", \"x\": [1400.0, 1098.0], \"y\": [1400.0, 1057.0], \"mode\": \"lines\", \"line\": {\"width\": 2, \"color\": \"green\"}}, {\"type\": \"scatter\", \"x\": [600.0, 700.0], \"y\": [200.0, 539.0], \"mode\": \"lines\", \"line\": {\"width\": 2, \"color\": \"red\"}}, {\"type\": \"scatter\", \"x\": [1400.0, 1500.0], \"y\": [1000.0, 811.0], \"mode\": \"lines\", \"line\": {\"width\": 2, \"color\": \"green\"}}, {\"type\": \"scatter\", \"x\": [1000.0, 970.0], \"y\": [1000.0, 904.0], \"mode\": \"lines\", \"line\": {\"width\": 2, \"color\": \"green\"}}, {\"type\": \"scatter\", \"x\": [1000.0, 919.0], \"y\": [600.0, 635.0], \"mode\": \"lines\", \"line\": {\"width\": 2, \"color\": \"red\"}}, {\"type\": \"scatter\", \"x\": [200.0, 590.0], \"y\": [600.0, 511.0], \"mode\": \"lines\", \"line\": {\"width\": 2, \"color\": \"red\"}}, {\"type\": \"scatter\", \"x\": [200.0, 202], \"y\": [200.0, 169], \"mode\": \"lines\", \"line\": {\"width\": 2, \"color\": \"green\"}}, {\"type\": \"scatter\", \"x\": [1400.0, 1336], \"y\": [200.0, 291], \"mode\": \"lines\", \"line\": {\"width\": 2, \"color\": \"green\"}}, {\"type\": \"scatter\", \"x\": [200.0, 51.0], \"y\": [1000.0, 917.0], \"mode\": \"lines\", \"line\": {\"width\": 2, \"color\": \"green\"}}, {\"type\": \"scatter\", \"x\": [200.0, 48.0], \"y\": [1000.0, 715.0], \"mode\": \"lines\", \"line\": {\"width\": 2, \"color\": \"green\"}}, {\"type\": \"scatter\", \"x\": [1000.0, 1051.0], \"y\": [600.0, 656.0], \"mode\": \"lines\", \"line\": {\"width\": 2, \"color\": \"green\"}}, {\"type\": \"scatter\", \"x\": [600.0, 652.0], \"y\": [600.0, 942.0], \"mode\": \"lines\", \"line\": {\"width\": 2, \"color\": \"red\"}}, {\"type\": \"scatter\", \"x\": [600.0, 682.0], \"y\": [1000.0, 937.0], \"mode\": \"lines\", \"line\": {\"width\": 2, \"color\": \"red\"}}, {\"type\": \"scatter\", \"x\": [200.0, 202.0], \"y\": [600.0, 559.0], \"mode\": \"lines\", \"line\": {\"width\": 2, \"color\": \"green\"}}, {\"type\": \"scatter\", \"x\": [600.0, 208], \"y\": [200.0, 154], \"mode\": \"lines\", \"line\": {\"width\": 2, \"color\": \"green\"}}, {\"type\": \"scatter\", \"x\": [600.0, 660.0], \"y\": [1400.0, 1205.0], \"mode\": \"lines\", \"line\": {\"width\": 2, \"color\": \"green\"}}, {\"type\": \"scatter\", \"x\": [1000.0, 1028.0], \"y\": [1400.0, 1588.0], \"mode\": \"lines\", \"line\": {\"width\": 2, \"color\": \"green\"}}, {\"type\": \"scatter\", \"x\": [1000.0, 1153.0], \"y\": [1400.0, 1464.0], \"mode\": \"lines\", \"line\": {\"width\": 2, \"color\": \"green\"}}, {\"type\": \"scatter\", \"x\": [1000.0, 924.0], \"y\": [600.0, 751.0], \"mode\": \"lines\", \"line\": {\"width\": 2, \"color\": \"green\"}}, {\"type\": \"scatter\", \"x\": [600.0, 745.0], \"y\": [200.0, 78.0], \"mode\": \"lines\", \"line\": {\"width\": 2, \"color\": \"green\"}}, {\"type\": \"scatter\", \"x\": [1000.0, 1195.0], \"y\": [1400.0, 1439.0], \"mode\": \"lines\", \"line\": {\"width\": 2, \"color\": \"green\"}}, {\"type\": \"scatter\", \"x\": [1000.0, 1103.0], \"y\": [1000.0, 1065.0], \"mode\": \"lines\", \"line\": {\"width\": 2, \"color\": \"green\"}}, {\"type\": \"scatter\", \"x\": [600.0, 942.0], \"y\": [1400.0, 1501.0], \"mode\": \"lines\", \"line\": {\"width\": 2, \"color\": \"green\"}}, {\"type\": \"scatter\", \"x\": [600.0, 619.0], \"y\": [1000.0, 1197.0], \"mode\": \"lines\", \"line\": {\"width\": 2, \"color\": \"green\"}}, {\"type\": \"scatter\", \"x\": [600.0, 899], \"y\": [200.0, 154], \"mode\": \"lines\", \"line\": {\"width\": 2, \"color\": \"green\"}}, {\"type\": \"scatter\", \"x\": [600.0, 672.0], \"y\": [1400.0, 1074.0], \"mode\": \"lines\", \"line\": {\"width\": 2, \"color\": \"green\"}}, {\"type\": \"scatter\", \"x\": [200.0, 147], \"y\": [600.0, 332], \"mode\": \"lines\", \"line\": {\"width\": 2, \"color\": \"green\"}}, {\"type\": \"scatter\", \"x\": [600.0, 546.0], \"y\": [600.0, 860.0], \"mode\": \"lines\", \"line\": {\"width\": 2, \"color\": \"red\"}}, {\"type\": \"scatter\", \"x\": [200.0, 119.0], \"y\": [600.0, 442.0], \"mode\": \"lines\", \"line\": {\"width\": 2, \"color\": \"green\"}}, {\"type\": \"scatter\", \"x\": [600.0, 897], \"y\": [1000.0, 909], \"mode\": \"lines\", \"line\": {\"width\": 2, \"color\": \"red\"}}, {\"type\": \"scatter\", \"x\": [1400.0, 1490.0], \"y\": [200.0, 14.0], \"mode\": \"lines\", \"line\": {\"width\": 2, \"color\": \"green\"}}, {\"type\": \"scatter\", \"x\": [600.0, 802.0], \"y\": [1000.0, 1120.0], \"mode\": \"lines\", \"line\": {\"width\": 2, \"color\": \"green\"}}, {\"type\": \"scatter\", \"x\": [1000.0, 1184.0], \"y\": [1000.0, 1062.0], \"mode\": \"lines\", \"line\": {\"width\": 2, \"color\": \"green\"}}, {\"type\": \"scatter\", \"x\": [600.0, 613.0], \"y\": [1000.0, 940.0], \"mode\": \"lines\", \"line\": {\"width\": 2, \"color\": \"red\"}}, {\"type\": \"scatter\", \"x\": [1000.0, 1168.0], \"y\": [600.0, 940.0], \"mode\": \"lines\", \"line\": {\"width\": 2, \"color\": \"green\"}}, {\"type\": \"scatter\", \"x\": [200.0, 272.0], \"y\": [1000.0, 1065.0], \"mode\": \"lines\", \"line\": {\"width\": 2, \"color\": \"green\"}}, {\"type\": \"scatter\", \"x\": [600.0, 539.0], \"y\": [1000.0, 815.0], \"mode\": \"lines\", \"line\": {\"width\": 2, \"color\": \"green\"}}, {\"type\": \"scatter\", \"x\": [1000.0, 816], \"y\": [1000.0, 967], \"mode\": \"lines\", \"line\": {\"width\": 2, \"color\": \"red\"}}, {\"type\": \"scatter\", \"x\": [1400.0, 1378.0], \"y\": [1400.0, 1304.0], \"mode\": \"lines\", \"line\": {\"width\": 2, \"color\": \"green\"}}, {\"type\": \"scatter\", \"x\": [600.0, 628.0], \"y\": [600.0, 782.0], \"mode\": \"lines\", \"line\": {\"width\": 2, \"color\": \"green\"}}, {\"type\": \"scatter\", \"x\": [1000.0, 836], \"y\": [1000.0, 703], \"mode\": \"lines\", \"line\": {\"width\": 2, \"color\": \"red\"}}, {\"type\": \"scatter\", \"x\": [1000.0, 851], \"y\": [1000.0, 796], \"mode\": \"lines\", \"line\": {\"width\": 2, \"color\": \"red\"}}, {\"type\": \"scatter\", \"x\": [600.0, 607.0], \"y\": [1000.0, 685.0], \"mode\": \"lines\", \"line\": {\"width\": 2, \"color\": \"red\"}}, {\"type\": \"scatter\", \"x\": [1000.0, 840], \"y\": [600.0, 703], \"mode\": \"lines\", \"line\": {\"width\": 2, \"color\": \"red\"}}, {\"type\": \"scatter\", \"x\": [1000.0, 1093.0], \"y\": [200.0, 361.0], \"mode\": \"lines\", \"line\": {\"width\": 2, \"color\": \"green\"}}, {\"type\": \"scatter\", \"x\": [200.0, 338], \"y\": [200.0, 138], \"mode\": \"lines\", \"line\": {\"width\": 2, \"color\": \"green\"}}, {\"type\": \"scatter\", \"x\": [200.0, 84.0], \"y\": [600.0, 689.0], \"mode\": \"lines\", \"line\": {\"width\": 2, \"color\": \"green\"}}, {\"type\": \"scatter\", \"x\": [600.0, 517], \"y\": [200.0, 277], \"mode\": \"lines\", \"line\": {\"width\": 2, \"color\": \"green\"}}, {\"type\": \"scatter\", \"x\": [200.0, 354.0], \"y\": [600.0, 606.0], \"mode\": \"lines\", \"line\": {\"width\": 2, \"color\": \"green\"}}, {\"type\": \"scatter\", \"x\": [200.0, 351.0], \"y\": [1400.0, 1597.0], \"mode\": \"lines\", \"line\": {\"width\": 2, \"color\": \"green\"}}, {\"type\": \"scatter\", \"x\": [1000.0, 1143], \"y\": [200.0, 117], \"mode\": \"lines\", \"line\": {\"width\": 2, \"color\": \"green\"}}, {\"type\": \"scatter\", \"x\": [200.0, 170.0], \"y\": [600.0, 945.0], \"mode\": \"lines\", \"line\": {\"width\": 2, \"color\": \"green\"}}, {\"type\": \"scatter\", \"x\": [600.0, 768.0], \"y\": [1000.0, 1030.0], \"mode\": \"lines\", \"line\": {\"width\": 2, \"color\": \"red\"}}, {\"type\": \"scatter\", \"x\": [1400.0, 1407.0], \"y\": [1000.0, 618.0], \"mode\": \"lines\", \"line\": {\"width\": 2, \"color\": \"green\"}}, {\"type\": \"scatter\", \"x\": [1400.0, 1446], \"y\": [200.0, 133], \"mode\": \"lines\", \"line\": {\"width\": 2, \"color\": \"green\"}}, {\"type\": \"scatter\", \"x\": [1000.0, 826], \"y\": [1400.0, 1569], \"mode\": \"lines\", \"line\": {\"width\": 2, \"color\": \"green\"}}, {\"type\": \"scatter\", \"x\": [1400.0, 1584.0], \"y\": [1400.0, 1050.0], \"mode\": \"lines\", \"line\": {\"width\": 2, \"color\": \"green\"}}, {\"type\": \"scatter\", \"x\": [1000.0, 1067.0], \"y\": [1000.0, 804.0], \"mode\": \"lines\", \"line\": {\"width\": 2, \"color\": \"green\"}}, {\"type\": \"scatter\", \"x\": [600.0, 537.0], \"y\": [1400.0, 1097.0], \"mode\": \"lines\", \"line\": {\"width\": 2, \"color\": \"red\"}}, {\"type\": \"scatter\", \"x\": [200.0, 514.0], \"y\": [600.0, 825.0], \"mode\": \"lines\", \"line\": {\"width\": 2, \"color\": \"green\"}}, {\"type\": \"scatter\", \"x\": [600.0, 589.0], \"y\": [600.0, 967.0], \"mode\": \"lines\", \"line\": {\"width\": 2, \"color\": \"red\"}}, {\"type\": \"scatter\", \"x\": [1000.0, 819], \"y\": [600.0, 522], \"mode\": \"lines\", \"line\": {\"width\": 2, \"color\": \"green\"}}, {\"type\": \"scatter\", \"x\": [200.0, 346.0], \"y\": [1000.0, 970.0], \"mode\": \"lines\", \"line\": {\"width\": 2, \"color\": \"green\"}}, {\"type\": \"scatter\", \"x\": [1000.0, 795.0], \"y\": [600.0, 548.0], \"mode\": \"lines\", \"line\": {\"width\": 2, \"color\": \"red\"}}, {\"type\": \"scatter\", \"x\": [200.0, 341.0], \"y\": [600.0, 569.0], \"mode\": \"lines\", \"line\": {\"width\": 2, \"color\": \"green\"}}, {\"type\": \"scatter\", \"x\": [1000.0, 892], \"y\": [200.0, 179], \"mode\": \"lines\", \"line\": {\"width\": 2, \"color\": \"green\"}}, {\"type\": \"scatter\", \"x\": [200.0, 83.0], \"y\": [600.0, 906.0], \"mode\": \"lines\", \"line\": {\"width\": 2, \"color\": \"green\"}}, {\"type\": \"scatter\", \"x\": [200.0, 136.0], \"y\": [1000.0, 1079.0], \"mode\": \"lines\", \"line\": {\"width\": 2, \"color\": \"green\"}}, {\"type\": \"scatter\", \"x\": [200.0, 44.0], \"y\": [600.0, 511.0], \"mode\": \"lines\", \"line\": {\"width\": 2, \"color\": \"green\"}}, {\"type\": \"scatter\", \"x\": [200.0, 207.0], \"y\": [1400.0, 1567.0], \"mode\": \"lines\", \"line\": {\"width\": 2, \"color\": \"green\"}}, {\"type\": \"scatter\", \"x\": [200.0, 259.0], \"y\": [600.0, 474.0], \"mode\": \"lines\", \"line\": {\"width\": 2, \"color\": \"green\"}}, {\"type\": \"scatter\", \"x\": [1400.0, 1553.0], \"y\": [600.0, 701.0], \"mode\": \"lines\", \"line\": {\"width\": 2, \"color\": \"green\"}}, {\"type\": \"scatter\", \"x\": [1000.0, 993.0], \"y\": [1400.0, 1547.0], \"mode\": \"lines\", \"line\": {\"width\": 2, \"color\": \"green\"}}, {\"type\": \"scatter\", \"x\": [1400.0, 1525], \"y\": [200.0, 287], \"mode\": \"lines\", \"line\": {\"width\": 2, \"color\": \"green\"}}, {\"type\": \"scatter\", \"x\": [600.0, 786], \"y\": [200.0, 334], \"mode\": \"lines\", \"line\": {\"width\": 2, \"color\": \"green\"}}, {\"type\": \"scatter\", \"x\": [600.0, 415.0], \"y\": [200.0, 34.0], \"mode\": \"lines\", \"line\": {\"width\": 2, \"color\": \"green\"}}, {\"type\": \"scatter\", \"x\": [200.0, 197.0], \"y\": [200.0, 215.0], \"mode\": \"lines\", \"line\": {\"width\": 2, \"color\": \"green\"}}, {\"type\": \"scatter\", \"x\": [1000.0, 1139.0], \"y\": [600.0, 577.0], \"mode\": \"lines\", \"line\": {\"width\": 2, \"color\": \"green\"}}, {\"type\": \"scatter\", \"x\": [600.0, 521.0], \"y\": [600.0, 951.0], \"mode\": \"lines\", \"line\": {\"width\": 2, \"color\": \"red\"}}, {\"type\": \"scatter\", \"x\": [600.0, 694.0], \"y\": [1400.0, 1242.0], \"mode\": \"lines\", \"line\": {\"width\": 2, \"color\": \"green\"}}, {\"type\": \"scatter\", \"x\": [1400.0, 1381.0], \"y\": [600.0, 595.0], \"mode\": \"lines\", \"line\": {\"width\": 2, \"color\": \"green\"}}, {\"type\": \"scatter\", \"x\": [1000.0, 1240.0], \"y\": [1000.0, 1186.0], \"mode\": \"lines\", \"line\": {\"width\": 2, \"color\": \"green\"}}, {\"type\": \"scatter\", \"x\": [1000.0, 1058.0], \"y\": [1000.0, 990.0], \"mode\": \"lines\", \"line\": {\"width\": 2, \"color\": \"red\"}}, {\"type\": \"scatter\", \"x\": [200.0, 300.0], \"y\": [1400.0, 1507.0], \"mode\": \"lines\", \"line\": {\"width\": 2, \"color\": \"green\"}}, {\"type\": \"scatter\", \"x\": [1000.0, 699.0], \"y\": [600.0, 537.0], \"mode\": \"lines\", \"line\": {\"width\": 2, \"color\": \"green\"}}, {\"type\": \"scatter\", \"x\": [600.0, 573.0], \"y\": [1400.0, 1451.0], \"mode\": \"lines\", \"line\": {\"width\": 2, \"color\": \"green\"}}, {\"type\": \"scatter\", \"x\": [1400.0, 1497.0], \"y\": [600.0, 416.0], \"mode\": \"lines\", \"line\": {\"width\": 2, \"color\": \"green\"}}, {\"type\": \"scatter\", \"x\": [200.0, 241.0], \"y\": [600.0, 595.0], \"mode\": \"lines\", \"line\": {\"width\": 2, \"color\": \"green\"}}, {\"type\": \"scatter\", \"x\": [1400.0, 1450.0], \"y\": [600.0, 527.0], \"mode\": \"lines\", \"line\": {\"width\": 2, \"color\": \"green\"}}, {\"type\": \"scatter\", \"x\": [200.0, 170.0], \"y\": [1400.0, 1236.0], \"mode\": \"lines\", \"line\": {\"width\": 2, \"color\": \"green\"}}, {\"type\": \"scatter\", \"x\": [1400.0, 1537.0], \"y\": [1000.0, 960.0], \"mode\": \"lines\", \"line\": {\"width\": 2, \"color\": \"green\"}}, {\"type\": \"scatter\", \"x\": [600.0, 571.0], \"y\": [600.0, 633.0], \"mode\": \"lines\", \"line\": {\"width\": 2, \"color\": \"red\"}}, {\"type\": \"scatter\", \"x\": [600.0, 678.0], \"y\": [1400.0, 1089.0], \"mode\": \"lines\", \"line\": {\"width\": 2, \"color\": \"red\"}}, {\"type\": \"scatter\", \"x\": [1000.0, 971.0], \"y\": [600.0, 857.0], \"mode\": \"lines\", \"line\": {\"width\": 2, \"color\": \"green\"}}, {\"type\": \"scatter\", \"x\": [1000.0, 950.0], \"y\": [1000.0, 912.0], \"mode\": \"lines\", \"line\": {\"width\": 2, \"color\": \"green\"}}, {\"type\": \"scatter\", \"x\": [200.0, 294.0], \"y\": [1400.0, 1441.0], \"mode\": \"lines\", \"line\": {\"width\": 2, \"color\": \"green\"}}, {\"type\": \"scatter\", \"x\": [600.0, 652.0], \"y\": [600.0, 727.0], \"mode\": \"lines\", \"line\": {\"width\": 2, \"color\": \"red\"}}, {\"type\": \"scatter\", \"x\": [600.0, 773.0], \"y\": [1000.0, 805.0], \"mode\": \"lines\", \"line\": {\"width\": 2, \"color\": \"green\"}}, {\"type\": \"scatter\", \"x\": [200.0, 134.0], \"y\": [1000.0, 1002.0], \"mode\": \"lines\", \"line\": {\"width\": 2, \"color\": \"green\"}}, {\"type\": \"scatter\", \"x\": [200.0, 156.0], \"y\": [600.0, 747.0], \"mode\": \"lines\", \"line\": {\"width\": 2, \"color\": \"green\"}}, {\"type\": \"scatter\", \"x\": [600.0, 593], \"y\": [200.0, 150], \"mode\": \"lines\", \"line\": {\"width\": 2, \"color\": \"green\"}}, {\"type\": \"scatter\", \"x\": [1000.0, 847], \"y\": [200.0, 77], \"mode\": \"lines\", \"line\": {\"width\": 2, \"color\": \"green\"}}, {\"type\": \"scatter\", \"x\": [1400.0, 1393.0], \"y\": [1000.0, 846.0], \"mode\": \"lines\", \"line\": {\"width\": 2, \"color\": \"green\"}}, {\"type\": \"scatter\", \"x\": [600.0, 524.7914995803575], \"y\": [200.0, 221.38883029010432], \"mode\": \"lines\", \"line\": {\"width\": 2, \"color\": \"green\"}}, {\"type\": \"scatter\", \"x\": [200.0, 222.0], \"y\": [600.0, 632.0], \"mode\": \"lines\", \"line\": {\"width\": 2, \"color\": \"green\"}}, {\"type\": \"scatter\", \"x\": [1000.0, 1178.0], \"y\": [200.0, 383.0], \"mode\": \"lines\", \"line\": {\"width\": 2, \"color\": \"green\"}}, {\"type\": \"scatter\", \"x\": [1400.0, 1361.0], \"y\": [1000.0, 849.0], \"mode\": \"lines\", \"line\": {\"width\": 2, \"color\": \"green\"}}, {\"type\": \"scatter\", \"x\": [600.0, 754.0], \"y\": [1400.0, 1246.0], \"mode\": \"lines\", \"line\": {\"width\": 2, \"color\": \"green\"}}, {\"type\": \"scatter\", \"x\": [1000.0, 829], \"y\": [1000.0, 1364], \"mode\": \"lines\", \"line\": {\"width\": 2, \"color\": \"green\"}}, {\"type\": \"scatter\", \"x\": [200.0, 169.0], \"y\": [1400.0, 1469.0], \"mode\": \"lines\", \"line\": {\"width\": 2, \"color\": \"green\"}}, {\"type\": \"scatter\", \"x\": [600.0, 515.0], \"y\": [600.0, 898.0], \"mode\": \"lines\", \"line\": {\"width\": 2, \"color\": \"red\"}}, {\"type\": \"scatter\", \"x\": [1000.0, 1022.0], \"y\": [600.0, 662.0], \"mode\": \"lines\", \"line\": {\"width\": 2, \"color\": \"red\"}}, {\"type\": \"scatter\", \"x\": [600.0, 596.0], \"y\": [1000.0, 672.0], \"mode\": \"lines\", \"line\": {\"width\": 2, \"color\": \"green\"}}, {\"type\": \"scatter\", \"x\": [200.0, 188.0], \"y\": [1400.0, 1416.0], \"mode\": \"lines\", \"line\": {\"width\": 2, \"color\": \"green\"}}, {\"type\": \"scatter\", \"x\": [200.0, 196], \"y\": [200.0, 172], \"mode\": \"lines\", \"line\": {\"width\": 2, \"color\": \"green\"}}, {\"type\": \"scatter\", \"x\": [1400.0, 1592.0], \"y\": [1400.0, 1460.0], \"mode\": \"lines\", \"line\": {\"width\": 2, \"color\": \"green\"}}, {\"type\": \"scatter\", \"x\": [1000.0, 922.0], \"y\": [600.0, 545.0], \"mode\": \"lines\", \"line\": {\"width\": 2, \"color\": \"green\"}}, {\"type\": \"scatter\", \"x\": [600.0, 589.0], \"y\": [1400.0, 1069.0], \"mode\": \"lines\", \"line\": {\"width\": 2, \"color\": \"green\"}}, {\"type\": \"scatter\", \"x\": [600.0, 607.0], \"y\": [1400.0, 1342.0], \"mode\": \"lines\", \"line\": {\"width\": 2, \"color\": \"green\"}}, {\"type\": \"scatter\", \"x\": [1400.0, 1452.0], \"y\": [200.0, 70.0], \"mode\": \"lines\", \"line\": {\"width\": 2, \"color\": \"green\"}}, {\"type\": \"scatter\", \"x\": [1000.0, 798.0], \"y\": [600.0, 546.0], \"mode\": \"lines\", \"line\": {\"width\": 2, \"color\": \"red\"}}, {\"type\": \"scatter\", \"x\": [200.0, 336.0], \"y\": [600.0, 686.0], \"mode\": \"lines\", \"line\": {\"width\": 2, \"color\": \"green\"}}, {\"type\": \"scatter\", \"x\": [600.0, 428.0], \"y\": [1400.0, 1332.0], \"mode\": \"lines\", \"line\": {\"width\": 2, \"color\": \"green\"}}, {\"type\": \"scatter\", \"x\": [1400.0, 1293.0], \"y\": [600.0, 578.0], \"mode\": \"lines\", \"line\": {\"width\": 2, \"color\": \"green\"}}, {\"type\": \"scatter\", \"x\": [1400.0, 1253.0], \"y\": [1000.0, 1150.0], \"mode\": \"lines\", \"line\": {\"width\": 2, \"color\": \"green\"}}, {\"type\": \"scatter\", \"x\": [600.0, 906], \"y\": [600.0, 601], \"mode\": \"lines\", \"line\": {\"width\": 2, \"color\": \"red\"}}, {\"type\": \"scatter\", \"x\": [600.0, 633.0], \"y\": [200.0, 536.0], \"mode\": \"lines\", \"line\": {\"width\": 2, \"color\": \"red\"}}, {\"type\": \"scatter\", \"x\": [1400.0, 1238.0], \"y\": [200.0, 212.0], \"mode\": \"lines\", \"line\": {\"width\": 2, \"color\": \"green\"}}, {\"type\": \"scatter\", \"x\": [200.0, 211], \"y\": [200.0, 101], \"mode\": \"lines\", \"line\": {\"width\": 2, \"color\": \"green\"}}, {\"type\": \"scatter\", \"x\": [1000.0, 650.0], \"y\": [1400.0, 1450.0], \"mode\": \"lines\", \"line\": {\"width\": 2, \"color\": \"green\"}}, {\"type\": \"scatter\", \"x\": [200.0, 305.0], \"y\": [1400.0, 1261.0], \"mode\": \"lines\", \"line\": {\"width\": 2, \"color\": \"green\"}}, {\"type\": \"scatter\", \"x\": [1000.0, 1037.0], \"y\": [1000.0, 1085.0], \"mode\": \"lines\", \"line\": {\"width\": 2, \"color\": \"green\"}}, {\"type\": \"scatter\", \"x\": [1000.0, 1063.0], \"y\": [1000.0, 997.0], \"mode\": \"lines\", \"line\": {\"width\": 2, \"color\": \"red\"}}, {\"type\": \"scatter\", \"x\": [600.0, 818], \"y\": [1000.0, 859], \"mode\": \"lines\", \"line\": {\"width\": 2, \"color\": \"red\"}}, {\"type\": \"scatter\", \"x\": [1000.0, 957.0], \"y\": [1000.0, 673.0], \"mode\": \"lines\", \"line\": {\"width\": 2, \"color\": \"red\"}}, {\"type\": \"scatter\", \"x\": [1000.0, 986.0], \"y\": [1400.0, 1466.0], \"mode\": \"lines\", \"line\": {\"width\": 2, \"color\": \"green\"}}, {\"type\": \"scatter\", \"x\": [1000.0, 1084.0], \"y\": [1400.0, 1160.0], \"mode\": \"lines\", \"line\": {\"width\": 2, \"color\": \"green\"}}, {\"type\": \"scatter\", \"x\": [1000.0, 989.0], \"y\": [1000.0, 804.0], \"mode\": \"lines\", \"line\": {\"width\": 2, \"color\": \"green\"}}, {\"type\": \"scatter\", \"x\": [1000.0, 1138.0], \"y\": [200.0, 436.0], \"mode\": \"lines\", \"line\": {\"width\": 2, \"color\": \"green\"}}, {\"type\": \"scatter\", \"x\": [1000.0, 1093.0], \"y\": [1000.0, 818.0], \"mode\": \"lines\", \"line\": {\"width\": 2, \"color\": \"red\"}}, {\"type\": \"scatter\", \"x\": [1000.0, 969.0], \"y\": [1000.0, 636.0], \"mode\": \"lines\", \"line\": {\"width\": 2, \"color\": \"red\"}}, {\"type\": \"scatter\", \"x\": [1000.0, 1155.0], \"y\": [200.0, 436.0], \"mode\": \"lines\", \"line\": {\"width\": 2, \"color\": \"green\"}}, {\"type\": \"scatter\", \"x\": [1000.0, 1178.0], \"y\": [1000.0, 756.0], \"mode\": \"lines\", \"line\": {\"width\": 2, \"color\": \"green\"}}, {\"type\": \"scatter\", \"x\": [600.0, 522], \"y\": [200.0, 268], \"mode\": \"lines\", \"line\": {\"width\": 2, \"color\": \"green\"}}, {\"type\": \"scatter\", \"x\": [1400.0, 1316.0], \"y\": [1000.0, 864.0], \"mode\": \"lines\", \"line\": {\"width\": 2, \"color\": \"green\"}}, {\"type\": \"scatter\", \"x\": [600.0, 630.0], \"y\": [1400.0, 1378.0], \"mode\": \"lines\", \"line\": {\"width\": 2, \"color\": \"green\"}}, {\"type\": \"scatter\", \"x\": [1000.0, 1132.0], \"y\": [1400.0, 1461.0], \"mode\": \"lines\", \"line\": {\"width\": 2, \"color\": \"green\"}}, {\"type\": \"scatter\", \"x\": [600.0, 731.0], \"y\": [1000.0, 779.0], \"mode\": \"lines\", \"line\": {\"width\": 2, \"color\": \"green\"}}, {\"type\": \"scatter\", \"x\": [200.0, 199.0], \"y\": [600.0, 745.0], \"mode\": \"lines\", \"line\": {\"width\": 2, \"color\": \"green\"}}, {\"type\": \"scatter\", \"x\": [600.0, 514], \"y\": [200.0, 139], \"mode\": \"lines\", \"line\": {\"width\": 2, \"color\": \"green\"}}, {\"type\": \"scatter\", \"x\": [600.0, 674.0], \"y\": [1000.0, 885.0], \"mode\": \"lines\", \"line\": {\"width\": 2, \"color\": \"red\"}}, {\"type\": \"scatter\", \"x\": [200.0, 247.0], \"y\": [1000.0, 943.0], \"mode\": \"lines\", \"line\": {\"width\": 2, \"color\": \"green\"}}, {\"type\": \"scatter\", \"x\": [1400.0, 1529.0], \"y\": [1000.0, 1119.0], \"mode\": \"lines\", \"line\": {\"width\": 2, \"color\": \"green\"}}, {\"type\": \"scatter\", \"x\": [200.0, 193.0], \"y\": [1000.0, 914.0], \"mode\": \"lines\", \"line\": {\"width\": 2, \"color\": \"green\"}}, {\"type\": \"scatter\", \"x\": [1000.0, 1067.0], \"y\": [600.0, 527.0], \"mode\": \"lines\", \"line\": {\"width\": 2, \"color\": \"green\"}}, {\"type\": \"scatter\", \"x\": [1000.0, 1083], \"y\": [200.0, 145], \"mode\": \"lines\", \"line\": {\"width\": 2, \"color\": \"green\"}}, {\"type\": \"scatter\", \"x\": [200.0, 208.0], \"y\": [1400.0, 1257.0], \"mode\": \"lines\", \"line\": {\"width\": 2, \"color\": \"green\"}}, {\"type\": \"scatter\", \"x\": [200.0, 230.0], \"y\": [1400.0, 1591.0], \"mode\": \"lines\", \"line\": {\"width\": 2, \"color\": \"green\"}}, {\"type\": \"scatter\", \"x\": [1000.0, 845], \"y\": [1000.0, 1148], \"mode\": \"lines\", \"line\": {\"width\": 2, \"color\": \"green\"}}, {\"type\": \"scatter\", \"x\": [1000.0, 634.0], \"y\": [600.0, 629.0], \"mode\": \"lines\", \"line\": {\"width\": 2, \"color\": \"red\"}}, {\"type\": \"scatter\", \"x\": [1000.0, 1118.0], \"y\": [1000.0, 911.0], \"mode\": \"lines\", \"line\": {\"width\": 2, \"color\": \"green\"}}, {\"type\": \"scatter\", \"x\": [812, 812], \"y\": [0, 1600.0], \"mode\": \"lines\", \"line\": {\"width\": 2, \"color\": \"black\"}}, {\"type\": \"scatter\", \"x\": [812, 912], \"y\": [1600.0, 1600.0], \"mode\": \"lines\", \"line\": {\"width\": 2, \"color\": \"black\"}}, {\"type\": \"scatter\", \"x\": [912, 912], \"y\": [1600.0, 0], \"mode\": \"lines\", \"line\": {\"width\": 2, \"color\": \"black\"}}, {\"type\": \"scatter\", \"x\": [812, 912], \"y\": [0, 0], \"mode\": \"lines\", \"line\": {\"width\": 2, \"color\": \"black\"}}, {\"type\": \"scatter\", \"x\": [0, 0], \"y\": [257, 357], \"mode\": \"lines\", \"line\": {\"width\": 2, \"color\": \"black\"}}, {\"type\": \"scatter\", \"x\": [0, 1600.0], \"y\": [357, 357], \"mode\": \"lines\", \"line\": {\"width\": 2, \"color\": \"black\"}}, {\"type\": \"scatter\", \"x\": [1600.0, 1600.0], \"y\": [357, 257], \"mode\": \"lines\", \"line\": {\"width\": 2, \"color\": \"black\"}}, {\"type\": \"scatter\", \"x\": [0, 1600.0], \"y\": [257, 257], \"mode\": \"lines\", \"line\": {\"width\": 2, \"color\": \"black\"}}, {\"type\": \"scatter\", \"x\": [0, 0], \"y\": [85, 185], \"mode\": \"lines\", \"line\": {\"width\": 2, \"color\": \"black\"}}, {\"type\": \"scatter\", \"x\": [0, 1600.0], \"y\": [185, 185], \"mode\": \"lines\", \"line\": {\"width\": 2, \"color\": \"black\"}}, {\"type\": \"scatter\", \"x\": [1600.0, 1600.0], \"y\": [185, 85], \"mode\": \"lines\", \"line\": {\"width\": 2, \"color\": \"black\"}}, {\"type\": \"scatter\", \"x\": [0, 1600.0], \"y\": [85, 85], \"mode\": \"lines\", \"line\": {\"width\": 2, \"color\": \"black\"}}, {\"type\": \"scatter\", \"x\": [465, 465], \"y\": [80, 260], \"mode\": \"lines\", \"line\": {\"width\": 2, \"color\": \"black\"}}, {\"type\": \"scatter\", \"x\": [465, 556], \"y\": [260, 260], \"mode\": \"lines\", \"line\": {\"width\": 2, \"color\": \"black\"}}, {\"type\": \"scatter\", \"x\": [556, 556], \"y\": [260, 80], \"mode\": \"lines\", \"line\": {\"width\": 2, \"color\": \"black\"}}, {\"type\": \"scatter\", \"x\": [465, 556], \"y\": [80, 80], \"mode\": \"lines\", \"line\": {\"width\": 2, \"color\": \"black\"}}, {\"type\": \"scatter\", \"x\": [200.0, 200.0, 200.0, 200.0, 600.0, 600.0, 600.0, 600.0, 1000.0, 1000.0, 1000.0, 1000.0, 1400.0, 1400.0, 1400.0, 1400.0, 952.0, 1166.0, 1177.0, 1041.0, 1379.0, 446, 13.0, 601.0, 708.0, 1437, 594.0, 1294.0, 529.0, 1446.0, 604.0, 1497, 959.0, 748.0, 693.0, 703, 704.0, 370.0, 919.0, 35.0, 861, 1024.0, 940.0, 1599.0, 666.0, 269.0, 1026.0, 896, 1525.0, 1070.0, 582.0, 142, 1492.0, 1127.0, 718, 1098.0, 700.0, 1500.0, 970.0, 919.0, 590.0, 202, 1336, 51.0, 48.0, 1051.0, 652.0, 682.0, 202.0, 208, 660.0, 1028.0, 1153.0, 924.0, 745.0, 1195.0, 1103.0, 942.0, 619.0, 899, 672.0, 147, 546.0, 119.0, 897, 1490.0, 802.0, 1184.0, 613.0, 1168.0, 272.0, 539.0, 816, 1378.0, 628.0, 836, 851, 607.0, 840, 1093.0, 338, 84.0, 517, 354.0, 351.0, 1143, 170.0, 768.0, 1407.0, 1446, 826, 1584.0, 1067.0, 537.0, 514.0, 589.0, 819, 346.0, 795.0, 341.0, 892, 83.0, 136.0, 44.0, 207.0, 259.0, 1553.0, 993.0, 1525, 786, 415.0, 197.0, 1139.0, 521.0, 694.0, 1381.0, 1240.0, 1058.0, 300.0, 699.0, 573.0, 1497.0, 241.0, 1450.0, 170.0, 1537.0, 571.0, 678.0, 971.0, 950.0, 294.0, 652.0, 773.0, 134.0, 156.0, 593, 847, 1393.0, 524.7914995803575, 222.0, 1178.0, 1361.0, 754.0, 829, 169.0, 515.0, 1022.0, 596.0, 188.0, 196, 1592.0, 922.0, 589.0, 607.0, 1452.0, 798.0, 336.0, 428.0, 1293.0, 1253.0, 906, 633.0, 1238.0, 211, 650.0, 305.0, 1037.0, 1063.0, 818, 957.0, 986.0, 1084.0, 989.0, 1138.0, 1093.0, 969.0, 1155.0, 1178.0, 522, 1316.0, 630.0, 1132.0, 731.0, 199.0, 514, 674.0, 247.0, 1529.0, 193.0, 1067.0, 1083, 208.0, 230.0, 845, 634.0, 1118.0, 812, 812, 912, 912, 0, 0, 1600.0, 1600.0, 0, 0, 1600.0, 1600.0, 465, 465, 556, 556], \"y\": [200.0, 600.0, 1000.0, 1400.0, 200.0, 600.0, 1000.0, 1400.0, 200.0, 600.0, 1000.0, 1400.0, 200.0, 600.0, 1000.0, 1400.0, 529.0, 584.0, 1289.0, 1007.0, 796.0, 293, 756.0, 796.0, 969.0, 298, 1203.0, 424.0, 560.0, 657.0, 502.0, 148, 917.0, 662.0, 1039.0, 276, 957.0, 236.0, 1158.0, 503.0, 828, 376.0, 628.0, 1172.0, 832.0, 870.0, 1577.0, 1302, 1131.0, 854.0, 1098.0, 128, 1295.0, 516.0, 121, 1057.0, 539.0, 811.0, 904.0, 635.0, 511.0, 169, 291, 917.0, 715.0, 656.0, 942.0, 937.0, 559.0, 154, 1205.0, 1588.0, 1464.0, 751.0, 78.0, 1439.0, 1065.0, 1501.0, 1197.0, 154, 1074.0, 332, 860.0, 442.0, 909, 14.0, 1120.0, 1062.0, 940.0, 940.0, 1065.0, 815.0, 967, 1304.0, 782.0, 703, 796, 685.0, 703, 361.0, 138, 689.0, 277, 606.0, 1597.0, 117, 945.0, 1030.0, 618.0, 133, 1569, 1050.0, 804.0, 1097.0, 825.0, 967.0, 522, 970.0, 548.0, 569.0, 179, 906.0, 1079.0, 511.0, 1567.0, 474.0, 701.0, 1547.0, 287, 334, 34.0, 215.0, 577.0, 951.0, 1242.0, 595.0, 1186.0, 990.0, 1507.0, 537.0, 1451.0, 416.0, 595.0, 527.0, 1236.0, 960.0, 633.0, 1089.0, 857.0, 912.0, 1441.0, 727.0, 805.0, 1002.0, 747.0, 150, 77, 846.0, 221.38883029010432, 632.0, 383.0, 849.0, 1246.0, 1364, 1469.0, 898.0, 662.0, 672.0, 1416.0, 172, 1460.0, 545.0, 1069.0, 1342.0, 70.0, 546.0, 686.0, 1332.0, 578.0, 1150.0, 601, 536.0, 212.0, 101, 1450.0, 1261.0, 1085.0, 997.0, 859, 673.0, 1466.0, 1160.0, 804.0, 436.0, 818.0, 636.0, 436.0, 756.0, 268, 864.0, 1378.0, 1461.0, 779.0, 745.0, 139, 885.0, 943.0, 1119.0, 914.0, 527.0, 145, 1257.0, 1591.0, 1148, 629.0, 911.0, 0, 1600.0, 1600.0, 0, 257, 357, 357, 257, 85, 185, 185, 85, 80, 260, 260, 80], \"mode\": \"markers\", \"marker\": {\"size\": 8, \"color\": [\"orange\", \"orange\", \"orange\", \"orange\", \"orange\", \"orange\", \"orange\", \"orange\", \"orange\", \"orange\", \"orange\", \"orange\", \"orange\", \"orange\", \"orange\", \"orange\", \"blue\", \"magenta\", \"magenta\", \"blue\", \"magenta\", \"magenta\", \"magenta\", \"blue\", \"magenta\", \"magenta\", \"magenta\", \"magenta\", \"blue\", \"magenta\", \"blue\", \"magenta\", \"blue\", \"blue\", \"blue\", \"magenta\", \"blue\", \"magenta\", \"magenta\", \"magenta\", \"magenta\", \"magenta\", \"blue\", \"magenta\", \"blue\", \"magenta\", \"magenta\", \"magenta\", \"magenta\", \"blue\", \"blue\", \"magenta\", \"magenta\", \"magenta\", \"magenta\", \"magenta\", \"blue\", \"magenta\", \"magenta\", \"blue\", \"blue\", \"magenta\", \"magenta\", \"magenta\", \"magenta\", \"magenta\", \"blue\", \"blue\", \"magenta\", \"magenta\", \"magenta\", \"magenta\", \"magenta\", \"magenta\", \"magenta\", \"magenta\", \"magenta\", \"magenta\", \"magenta\", \"magenta\", \"magenta\", \"magenta\", \"blue\", \"magenta\", \"blue\", \"magenta\", \"magenta\", \"magenta\", \"blue\", \"magenta\", \"magenta\", \"magenta\", \"blue\", \"magenta\", \"magenta\", \"blue\", \"blue\", \"blue\", \"blue\", \"magenta\", \"magenta\", \"magenta\", \"magenta\", \"magenta\", \"magenta\", \"magenta\", \"magenta\", \"blue\", \"magenta\", \"magenta\", \"magenta\", \"magenta\", \"magenta\", \"blue\", \"magenta\", \"blue\", \"magenta\", \"magenta\", \"blue\", \"magenta\", \"magenta\", \"magenta\", \"magenta\", \"magenta\", \"magenta\", \"magenta\", \"magenta\", \"magenta\", \"magenta\", \"magenta\", \"magenta\", \"magenta\", \"magenta\", \"blue\", \"magenta\", \"magenta\", \"magenta\", \"blue\", \"magenta\", \"magenta\", \"magenta\", \"magenta\", \"magenta\", \"magenta\", \"magenta\", \"magenta\", \"blue\", \"blue\", \"magenta\", \"magenta\", \"magenta\", \"blue\", \"magenta\", \"magenta\", \"magenta\", \"magenta\", \"magenta\", \"magenta\", \"magenta\", \"magenta\", \"magenta\", \"magenta\", \"magenta\", \"magenta\", \"magenta\", \"blue\", \"blue\", \"magenta\", \"magenta\", \"magenta\", \"magenta\", \"magenta\", \"magenta\", \"magenta\", \"magenta\", \"blue\", \"magenta\", \"magenta\", \"magenta\", \"magenta\", \"blue\", \"blue\", \"magenta\", \"magenta\", \"magenta\", \"magenta\", \"magenta\", \"blue\", \"blue\", \"blue\", \"magenta\", \"magenta\", \"magenta\", \"magenta\", \"blue\", \"blue\", \"magenta\", \"magenta\", \"magenta\", \"magenta\", \"magenta\", \"magenta\", \"magenta\", \"magenta\", \"magenta\", \"blue\", \"magenta\", \"magenta\", \"magenta\", \"magenta\", \"magenta\", \"magenta\", \"magenta\", \"magenta\", \"blue\", \"magenta\", \"black\", \"black\", \"black\", \"black\", \"black\", \"black\", \"black\", \"black\", \"black\", \"black\", \"black\", \"black\", \"black\", \"black\", \"black\", \"black\"]}}]}, {\"data\": [{\"type\": \"scatter\", \"x\": [600.0, 952.0], \"y\": [600.0, 531.0], \"mode\": \"lines\", \"line\": {\"width\": 2, \"color\": \"red\"}}, {\"type\": \"scatter\", \"x\": [1000.0, 1165.0], \"y\": [600.0, 585.0], \"mode\": \"lines\", \"line\": {\"width\": 2, \"color\": \"green\"}}, {\"type\": \"scatter\", \"x\": [1000.0, 1176.0], \"y\": [1400.0, 1291.0], \"mode\": \"lines\", \"line\": {\"width\": 2, \"color\": \"green\"}}, {\"type\": \"scatter\", \"x\": [1000.0, 1042.0], \"y\": [1000.0, 1005.0], \"mode\": \"lines\", \"line\": {\"width\": 2, \"color\": \"red\"}}, {\"type\": \"scatter\", \"x\": [1400.0, 1381.0], \"y\": [600.0, 795.0], \"mode\": \"lines\", \"line\": {\"width\": 2, \"color\": \"green\"}}, {\"type\": \"scatter\", \"x\": [600.0, 388], \"y\": [200.0, 293], \"mode\": \"lines\", \"line\": {\"width\": 2, \"color\": \"green\"}}, {\"type\": \"scatter\", \"x\": [200.0, 14.0], \"y\": [1000.0, 758.0], \"mode\": \"lines\", \"line\": {\"width\": 2, \"color\": \"green\"}}, {\"type\": \"scatter\", \"x\": [1000.0, 602.0], \"y\": [600.0, 794.0], \"mode\": \"lines\", \"line\": {\"width\": 2, \"color\": \"red\"}}, {\"type\": \"scatter\", \"x\": [600.0, 707.0], \"y\": [1000.0, 967.0], \"mode\": \"lines\", \"line\": {\"width\": 2, \"color\": \"green\"}}, {\"type\": \"scatter\", \"x\": [1400.0, 1468], \"y\": [200.0, 298], \"mode\": \"lines\", \"line\": {\"width\": 2, \"color\": \"green\"}}, {\"type\": \"scatter\", \"x\": [600.0, 592.0], \"y\": [1400.0, 1203.0], \"mode\": \"lines\", \"line\": {\"width\": 2, \"color\": \"green\"}}, {\"type\": \"scatter\", \"x\": [1400.0, 1294.0], \"y\": [600.0, 422.0], \"mode\": \"lines\", \"line\": {\"width\": 2, \"color\": \"green\"}}, {\"type\": \"scatter\", \"x\": [200.0, 529.0], \"y\": [600.0, 558.0], \"mode\": \"lines\", \"line\": {\"width\": 2, \"color\": \"red\"}}, {\"type\": \"scatter\", \"x\": [1400.0, 1445.0], \"y\": [1000.0, 655.0], \"mode\": \"lines\", \"line\": {\"width\": 2, \"color\": \"green\"}}, {\"type\": \"scatter\", \"x\": [600.0, 605.0], \"y\": [200.0, 504.0], \"mode\": \"lines\", \"line\": {\"width\": 2, \"color\": \"red\"}}, {\"type\": \"scatter\", \"x\": [1400.0, 1524], \"y\": [200.0, 148], \"mode\": \"lines\", \"line\": {\"width\": 2, \"color\": \"green\"}}, {\"type\": \"scatter\", \"x\": [1000.0, 959.0], \"y\": [1000.0, 919.0], \"mode\": \"lines\", \"line\": {\"width\": 2, \"color\": \"red\"}}, {\"type\": \"scatter\", \"x\": [1000.0, 749.0], \"y\": [600.0, 664.0], \"mode\": \"lines\", \"line\": {\"width\": 2, \"color\": \"red\"}}, {\"type\": \"scatter\", \"x\": [600.0, 693.0], \"y\": [1000.0, 1037.0], \"mode\": \"lines\", \"line\": {\"width\": 2, \"color\": \"green\"}}, {\"type\": \"scatter\", \"x\": [600.0, 648], \"y\": [200.0, 276], \"mode\": \"lines\", \"line\": {\"width\": 2, \"color\": \"green\"}}, {\"type\": \"scatter\", \"x\": [600.0, 705.0], \"y\": [1000.0, 959.0], \"mode\": \"lines\", \"line\": {\"width\": 2, \"color\": \"green\"}}, {\"type\": \"scatter\", \"x\": [200.0, 372.0], \"y\": [200.0, 236.0], \"mode\": \"lines\", \"line\": {\"width\": 2, \"color\": \"green\"}}, {\"type\": \"scatter\", \"x\": [1000.0, 921.0], \"y\": [1000.0, 1158.0], \"mode\": \"lines\", \"line\": {\"width\": 2, \"color\": \"green\"}}, {\"type\": \"scatter\", \"x\": [200.0, 37.0], \"y\": [600.0, 504.0], \"mode\": \"lines\", \"line\": {\"width\": 2, \"color\": \"green\"}}, {\"type\": \"scatter\", \"x\": [1000.0, 861], \"y\": [1000.0, 781], \"mode\": \"lines\", \"line\": {\"width\": 2, \"color\": \"green\"}}, {\"type\": \"scatter\", \"x\": [1400.0, 1026.0], \"y\": [600.0, 376.0], \"mode\": \"lines\", \"line\": {\"width\": 2, \"color\": \"green\"}}, {\"type\": \"scatter\", \"x\": [1000.0, 940.0], \"y\": [600.0, 626.0], \"mode\": \"lines\", \"line\": {\"width\": 2, \"color\": \"red\"}}, {\"type\": \"scatter\", \"x\": [1400.0, 1597.0], \"y\": [1000.0, 1173.0], \"mode\": \"lines\", \"line\": {\"width\": 2, \"color\": \"green\"}}, {\"type\": \"scatter\", \"x\": [600.0, 668.0], \"y\": [600.0, 833.0], \"mode\": \"lines\", \"line\": {\"width\": 2, \"color\": \"red\"}}, {\"type\": \"scatter\", \"x\": [200.0, 271.0], \"y\": [1000.0, 869.0], \"mode\": \"lines\", \"line\": {\"width\": 2, \"color\": \"green\"}}, {\"type\": \"scatter\", \"x\": [1400.0, 1027.0], \"y\": [1400.0, 1575.0], \"mode\": \"lines\", \"line\": {\"width\": 2, \"color\": \"green\"}}, {\"type\": \"scatter\", \"x\": [1000.0, 896], \"y\": [1400.0, 1263], \"mode\": \"lines\", \"line\": {\"width\": 2, \"color\": \"green\"}}, {\"type\": \"scatter\", \"x\": [1400.0, 1525.0], \"y\": [1000.0, 1129.0], \"mode\": \"lines\", \"line\": {\"width\": 2, \"color\": \"green\"}}, {\"type\": \"scatter\", \"x\": [1000.0, 1071.0], \"y\": [600.0, 855.0], \"mode\": \"lines\", \"line\": {\"width\": 2, \"color\": \"red\"}}, {\"type\": \"scatter\", \"x\": [200.0, 582.0], \"y\": [1400.0, 1100.0], \"mode\": \"lines\", \"line\": {\"width\": 2, \"color\": \"green\"}}, {\"type\": \"scatter\", \"x\": [200.0, 169], \"y\": [200.0, 128], \"mode\": \"lines\", \"line\": {\"width\": 2, \"color\": \"green\"}}, {\"type\": \"scatter\", \"x\": [1400.0, 1494.0], \"y\": [1400.0, 1295.0], \"mode\": \"lines\", \"line\": {\"width\": 2, \"color\": \"green\"}}, {\"type\": \"scatter\", \"x\": [1000.0, 1126.0], \"y\": [600.0, 518.0], \"mode\": \"lines\", \"line\": {\"width\": 2, \"color\": \"green\"}}, {\"type\": \"scatter\", \"x\": [600.0, 671], \"y\": [200.0, 121], \"mode\": \"lines\", \"line\": {\"width\": 2, \"color\": \"green\"}}, {\"type\": \"scatter\", \"x\": [1400.0, 1100.0], \"y\": [1400.0, 1058.0], \"mode\": \"lines\", \"line\": {\"width\": 2, \"color\": \"green\"}}, {\"type\": \"scatter\", \"x\": [600.0, 698.0], \"y\": [200.0, 540.0], \"mode\": \"lines\", \"line\": {\"width\": 2, \"color\": \"red\"}}, {\"type\": \"scatter\", \"x\": [1400.0, 1500.0], \"y\": [1000.0, 809.0], \"mode\": \"lines\", \"line\": {\"width\": 2, \"color\": \"green\"}}, {\"type\": \"scatter\", \"x\": [1000.0, 968.0], \"y\": [1000.0, 905.0], \"mode\": \"lines\", \"line\": {\"width\": 2, \"color\": \"green\"}}, {\"type\": \"scatter\", \"x\": [1000.0, 921.0], \"y\": [600.0, 635.0], \"mode\": \"lines\", \"line\": {\"width\": 2, \"color\": \"red\"}}, {\"type\": \"scatter\", \"x\": [200.0, 592.0], \"y\": [600.0, 511.0], \"mode\": \"lines\", \"line\": {\"width\": 2, \"color\": \"red\"}}, {\"type\": \"scatter\", \"x\": [200.0, 225], \"y\": [200.0, 169], \"mode\": \"lines\", \"line\": {\"width\": 2, \"color\": \"green\"}}, {\"type\": \"scatter\", \"x\": [1400.0, 1280], \"y\": [200.0, 291], \"mode\": \"lines\", \"line\": {\"width\": 2, \"color\": \"green\"}}, {\"type\": \"scatter\", \"x\": [200.0, 50.0], \"y\": [1000.0, 918.0], \"mode\": \"lines\", \"line\": {\"width\": 2, \"color\": \"green\"}}, {\"type\": \"scatter\", \"x\": [200.0, 46.0], \"y\": [1000.0, 714.0], \"mode\": \"lines\", \"line\": {\"width\": 2, \"color\": \"green\"}}, {\"type\": \"scatter\", \"x\": [1000.0, 1050.0], \"y\": [1000.0, 654.0], \"mode\": \"lines\", \"line\": {\"width\": 2, \"color\": \"green\"}}, {\"type\": \"scatter\", \"x\": [1000.0, 654.0], \"y\": [1000.0, 943.0], \"mode\": \"lines\", \"line\": {\"width\": 2, \"color\": \"red\"}}, {\"type\": \"scatter\", \"x\": [1000.0, 680.0], \"y\": [1000.0, 937.0], \"mode\": \"lines\", \"line\": {\"width\": 2, \"color\": \"red\"}}, {\"type\": \"scatter\", \"x\": [200.0, 204.0], \"y\": [600.0, 558.0], \"mode\": \"lines\", \"line\": {\"width\": 2, \"color\": \"green\"}}, {\"type\": \"scatter\", \"x\": [600.0, 167], \"y\": [200.0, 154], \"mode\": \"lines\", \"line\": {\"width\": 2, \"color\": \"green\"}}, {\"type\": \"scatter\", \"x\": [600.0, 660.0], \"y\": [1400.0, 1203.0], \"mode\": \"lines\", \"line\": {\"width\": 2, \"color\": \"green\"}}, {\"type\": \"scatter\", \"x\": [1000.0, 1029.0], \"y\": [1400.0, 1586.0], \"mode\": \"lines\", \"line\": {\"width\": 2, \"color\": \"green\"}}, {\"type\": \"scatter\", \"x\": [1000.0, 1155.0], \"y\": [1400.0, 1464.0], \"mode\": \"lines\", \"line\": {\"width\": 2, \"color\": \"green\"}}, {\"type\": \"scatter\", \"x\": [1000.0, 923.0], \"y\": [1000.0, 752.0], \"mode\": \"lines\", \"line\": {\"width\": 2, \"color\": \"green\"}}, {\"type\": \"scatter\", \"x\": [600.0, 743.0], \"y\": [200.0, 77.0], \"mode\": \"lines\", \"line\": {\"width\": 2, \"color\": \"green\"}}, {\"type\": \"scatter\", \"x\": [1000.0, 1193.0], \"y\": [1400.0, 1438.0], \"mode\": \"lines\", \"line\": {\"width\": 2, \"color\": \"green\"}}, {\"type\": \"scatter\", \"x\": [1000.0, 1102.0], \"y\": [1000.0, 1066.0], \"mode\": \"lines\", \"line\": {\"width\": 2, \"color\": \"green\"}}, {\"type\": \"scatter\", \"x\": [600.0, 943.0], \"y\": [1400.0, 1503.0], \"mode\": \"lines\", \"line\": {\"width\": 2, \"color\": \"green\"}}, {\"type\": \"scatter\", \"x\": [600.0, 618.0], \"y\": [1400.0, 1198.0], \"mode\": \"lines\", \"line\": {\"width\": 2, \"color\": \"green\"}}, {\"type\": \"scatter\", \"x\": [600.0, 872], \"y\": [200.0, 154], \"mode\": \"lines\", \"line\": {\"width\": 2, \"color\": \"green\"}}, {\"type\": \"scatter\", \"x\": [600.0, 671.0], \"y\": [1400.0, 1076.0], \"mode\": \"lines\", \"line\": {\"width\": 2, \"color\": \"green\"}}, {\"type\": \"scatter\", \"x\": [200.0, 191], \"y\": [600.0, 332], \"mode\": \"lines\", \"line\": {\"width\": 2, \"color\": \"green\"}}, {\"type\": \"scatter\", \"x\": [600.0, 546.0], \"y\": [1000.0, 858.0], \"mode\": \"lines\", \"line\": {\"width\": 2, \"color\": \"green\"}}, {\"type\": \"scatter\", \"x\": [200.0, 120.0], \"y\": [600.0, 444.0], \"mode\": \"lines\", \"line\": {\"width\": 2, \"color\": \"green\"}}, {\"type\": \"scatter\", \"x\": [1000.0, 897], \"y\": [1000.0, 953], \"mode\": \"lines\", \"line\": {\"width\": 2, \"color\": \"red\"}}, {\"type\": \"scatter\", \"x\": [1400.0, 1489.0], \"y\": [200.0, 16.0], \"mode\": \"lines\", \"line\": {\"width\": 2, \"color\": \"green\"}}, {\"type\": \"scatter\", \"x\": [1000.0, 802.0], \"y\": [1000.0, 1122.0], \"mode\": \"lines\", \"line\": {\"width\": 2, \"color\": \"green\"}}, {\"type\": \"scatter\", \"x\": [1400.0, 1182.0], \"y\": [1000.0, 1061.0], \"mode\": \"lines\", \"line\": {\"width\": 2, \"color\": \"green\"}}, {\"type\": \"scatter\", \"x\": [600.0, 615.0], \"y\": [1000.0, 940.0], \"mode\": \"lines\", \"line\": {\"width\": 2, \"color\": \"green\"}}, {\"type\": \"scatter\", \"x\": [1400.0, 1170.0], \"y\": [1000.0, 939.0], \"mode\": \"lines\", \"line\": {\"width\": 2, \"color\": \"green\"}}, {\"type\": \"scatter\", \"x\": [200.0, 273.0], \"y\": [1000.0, 1063.0], \"mode\": \"lines\", \"line\": {\"width\": 2, \"color\": \"green\"}}, {\"type\": \"scatter\", \"x\": [600.0, 538.0], \"y\": [600.0, 813.0], \"mode\": \"lines\", \"line\": {\"width\": 2, \"color\": \"green\"}}, {\"type\": \"scatter\", \"x\": [1000.0, 816], \"y\": [1000.0, 908], \"mode\": \"lines\", \"line\": {\"width\": 2, \"color\": \"red\"}}, {\"type\": \"scatter\", \"x\": [1400.0, 1378.0], \"y\": [1400.0, 1306.0], \"mode\": \"lines\", \"line\": {\"width\": 2, \"color\": \"green\"}}, {\"type\": \"scatter\", \"x\": [600.0, 626.0], \"y\": [1000.0, 783.0], \"mode\": \"lines\", \"line\": {\"width\": 2, \"color\": \"green\"}}, {\"type\": \"scatter\", \"x\": [1000.0, 836], \"y\": [1000.0, 752], \"mode\": \"lines\", \"line\": {\"width\": 2, \"color\": \"red\"}}, {\"type\": \"scatter\", \"x\": [1000.0, 851], \"y\": [1000.0, 754], \"mode\": \"lines\", \"line\": {\"width\": 2, \"color\": \"red\"}}, {\"type\": \"scatter\", \"x\": [600.0, 608.0], \"y\": [600.0, 683.0], \"mode\": \"lines\", \"line\": {\"width\": 2, \"color\": \"red\"}}, {\"type\": \"scatter\", \"x\": [600.0, 840], \"y\": [600.0, 673], \"mode\": \"lines\", \"line\": {\"width\": 2, \"color\": \"red\"}}, {\"type\": \"scatter\", \"x\": [1000.0, 1093.0], \"y\": [200.0, 359.0], \"mode\": \"lines\", \"line\": {\"width\": 2, \"color\": \"green\"}}, {\"type\": \"scatter\", \"x\": [200.0, 387], \"y\": [200.0, 138], \"mode\": \"lines\", \"line\": {\"width\": 2, \"color\": \"green\"}}, {\"type\": \"scatter\", \"x\": [200.0, 85.0], \"y\": [600.0, 687.0], \"mode\": \"lines\", \"line\": {\"width\": 2, \"color\": \"green\"}}, {\"type\": \"scatter\", \"x\": [600.0, 543], \"y\": [200.0, 277], \"mode\": \"lines\", \"line\": {\"width\": 2, \"color\": \"green\"}}, {\"type\": \"scatter\", \"x\": [200.0, 353.0], \"y\": [600.0, 604.0], \"mode\": \"lines\", \"line\": {\"width\": 2, \"color\": \"green\"}}, {\"type\": \"scatter\", \"x\": [200.0, 350.0], \"y\": [1400.0, 1595.0], \"mode\": \"lines\", \"line\": {\"width\": 2, \"color\": \"green\"}}, {\"type\": \"scatter\", \"x\": [1000.0, 1178], \"y\": [200.0, 117], \"mode\": \"lines\", \"line\": {\"width\": 2, \"color\": \"green\"}}, {\"type\": \"scatter\", \"x\": [200.0, 170.0], \"y\": [600.0, 943.0], \"mode\": \"lines\", \"line\": {\"width\": 2, \"color\": \"green\"}}, {\"type\": \"scatter\", \"x\": [1000.0, 767.0], \"y\": [1000.0, 1032.0], \"mode\": \"lines\", \"line\": {\"width\": 2, \"color\": \"red\"}}, {\"type\": \"scatter\", \"x\": [1400.0, 1405.0], \"y\": [1000.0, 617.0], \"mode\": \"lines\", \"line\": {\"width\": 2, \"color\": \"green\"}}, {\"type\": \"scatter\", \"x\": [1400.0, 1419], \"y\": [200.0, 133], \"mode\": \"lines\", \"line\": {\"width\": 2, \"color\": \"green\"}}, {\"type\": \"scatter\", \"x\": [1000.0, 826], \"y\": [1400.0, 1599.0], \"mode\": \"lines\", \"line\": {\"width\": 2, \"color\": \"green\"}}, {\"type\": \"scatter\", \"x\": [1400.0, 1585.0], \"y\": [1400.0, 1049.0], \"mode\": \"lines\", \"line\": {\"width\": 2, \"color\": \"green\"}}, {\"type\": \"scatter\", \"x\": [1000.0, 1065.0], \"y\": [600.0, 803.0], \"mode\": \"lines\", \"line\": {\"width\": 2, \"color\": \"green\"}}, {\"type\": \"scatter\", \"x\": [600.0, 535.0], \"y\": [1400.0, 1097.0], \"mode\": \"lines\", \"line\": {\"width\": 2, \"color\": \"red\"}}, {\"type\": \"scatter\", \"x\": [200.0, 512.0], \"y\": [600.0, 824.0], \"mode\": \"lines\", \"line\": {\"width\": 2, \"color\": \"green\"}}, {\"type\": \"scatter\", \"x\": [600.0, 590.0], \"y\": [1000.0, 965.0], \"mode\": \"lines\", \"line\": {\"width\": 2, \"color\": \"green\"}}, {\"type\": \"scatter\", \"x\": [600.0, 819], \"y\": [600.0, 568], \"mode\": \"lines\", \"line\": {\"width\": 2, \"color\": \"green\"}}, {\"type\": \"scatter\", \"x\": [200.0, 346.0], \"y\": [1000.0, 972.0], \"mode\": \"lines\", \"line\": {\"width\": 2, \"color\": \"green\"}}, {\"type\": \"scatter\", \"x\": [600.0, 793.0], \"y\": [600.0, 549.0], \"mode\": \"lines\", \"line\": {\"width\": 2, \"color\": \"red\"}}, {\"type\": \"scatter\", \"x\": [200.0, 339.0], \"y\": [600.0, 570.0], \"mode\": \"lines\", \"line\": {\"width\": 2, \"color\": \"green\"}}, {\"type\": \"scatter\", \"x\": [1000.0, 862], \"y\": [200.0, 179], \"mode\": \"lines\", \"line\": {\"width\": 2, \"color\": \"green\"}}, {\"type\": \"scatter\", \"x\": [200.0, 84.0], \"y\": [600.0, 905.0], \"mode\": \"lines\", \"line\": {\"width\": 2, \"color\": \"green\"}}, {\"type\": \"scatter\", \"x\": [200.0, 137.0], \"y\": [1000.0, 1081.0], \"mode\": \"lines\", \"line\": {\"width\": 2, \"color\": \"green\"}}, {\"type\": \"scatter\", \"x\": [200.0, 43.0], \"y\": [600.0, 512.0], \"mode\": \"lines\", \"line\": {\"width\": 2, \"color\": \"green\"}}, {\"type\": \"scatter\", \"x\": [200.0, 205.0], \"y\": [1400.0, 1567.0], \"mode\": \"lines\", \"line\": {\"width\": 2, \"color\": \"green\"}}, {\"type\": \"scatter\", \"x\": [200.0, 258.0], \"y\": [600.0, 473.0], \"mode\": \"lines\", \"line\": {\"width\": 2, \"color\": \"green\"}}, {\"type\": \"scatter\", \"x\": [1400.0, 1551.0], \"y\": [600.0, 702.0], \"mode\": \"lines\", \"line\": {\"width\": 2, \"color\": \"green\"}}, {\"type\": \"scatter\", \"x\": [1000.0, 993.0], \"y\": [1400.0, 1549.0], \"mode\": \"lines\", \"line\": {\"width\": 2, \"color\": \"green\"}}, {\"type\": \"scatter\", \"x\": [1400.0, 1569], \"y\": [200.0, 287], \"mode\": \"lines\", \"line\": {\"width\": 2, \"color\": \"green\"}}, {\"type\": \"scatter\", \"x\": [600.0, 828], \"y\": [200.0, 334], \"mode\": \"lines\", \"line\": {\"width\": 2, \"color\": \"green\"}}, {\"type\": \"scatter\", \"x\": [600.0, 413.0], \"y\": [200.0, 33.0], \"mode\": \"lines\", \"line\": {\"width\": 2, \"color\": \"green\"}}, {\"type\": \"scatter\", \"x\": [200.0, 196.0], \"y\": [200.0, 213.0], \"mode\": \"lines\", \"line\": {\"width\": 2, \"color\": \"green\"}}, {\"type\": \"scatter\", \"x\": [1400.0, 1138.0], \"y\": [600.0, 578.0], \"mode\": \"lines\", \"line\": {\"width\": 2, \"color\": \"green\"}}, {\"type\": \"scatter\", \"x\": [600.0, 521.0], \"y\": [1000.0, 949.0], \"mode\": \"lines\", \"line\": {\"width\": 2, \"color\": \"green\"}}, {\"type\": \"scatter\", \"x\": [600.0, 694.0], \"y\": [1400.0, 1240.0], \"mode\": \"lines\", \"line\": {\"width\": 2, \"color\": \"green\"}}, {\"type\": \"scatter\", \"x\": [1400.0, 1383.0], \"y\": [600.0, 596.0], \"mode\": \"lines\", \"line\": {\"width\": 2, \"color\": \"green\"}}, {\"type\": \"scatter\", \"x\": [1400.0, 1240.0], \"y\": [1000.0, 1188.0], \"mode\": \"lines\", \"line\": {\"width\": 2, \"color\": \"green\"}}, {\"type\": \"scatter\", \"x\": [1400.0, 1058.0], \"y\": [1000.0, 992.0], \"mode\": \"lines\", \"line\": {\"width\": 2, \"color\": \"red\"}}, {\"type\": \"scatter\", \"x\": [200.0, 299.0], \"y\": [1400.0, 1505.0], \"mode\": \"lines\", \"line\": {\"width\": 2, \"color\": \"green\"}}, {\"type\": \"scatter\", \"x\": [600.0, 697.0], \"y\": [600.0, 537.0], \"mode\": \"lines\", \"line\": {\"width\": 2, \"color\": \"green\"}}, {\"type\": \"scatter\", \"x\": [600.0, 571.0], \"y\": [1400.0, 1452.0], \"mode\": \"lines\", \"line\": {\"width\": 2, \"color\": \"green\"}}, {\"type\": \"scatter\", \"x\": [1400.0, 1495.0], \"y\": [600.0, 416.0], \"mode\": \"lines\", \"line\": {\"width\": 2, \"color\": \"green\"}}, {\"type\": \"scatter\", \"x\": [200.0, 242.0], \"y\": [600.0, 594.0], \"mode\": \"lines\", \"line\": {\"width\": 2, \"color\": \"green\"}}, {\"type\": \"scatter\", \"x\": [1400.0, 1448.0], \"y\": [600.0, 527.0], \"mode\": \"lines\", \"line\": {\"width\": 2, \"color\": \"green\"}}, {\"type\": \"scatter\", \"x\": [200.0, 171.0], \"y\": [1400.0, 1235.0], \"mode\": \"lines\", \"line\": {\"width\": 2, \"color\": \"green\"}}, {\"type\": \"scatter\", \"x\": [1400.0, 1536.0], \"y\": [1000.0, 962.0], \"mode\": \"lines\", \"line\": {\"width\": 2, \"color\": \"green\"}}, {\"type\": \"scatter\", \"x\": [600.0, 571.0], \"y\": [1000.0, 635.0], \"mode\": \"lines\", \"line\": {\"width\": 2, \"color\": \"green\"}}, {\"type\": \"scatter\", \"x\": [600.0, 679.0], \"y\": [1400.0, 1091.0], \"mode\": \"lines\", \"line\": {\"width\": 2, \"color\": \"red\"}}, {\"type\": \"scatter\", \"x\": [1000.0, 973.0], \"y\": [600.0, 858.0], \"mode\": \"lines\", \"line\": {\"width\": 2, \"color\": \"green\"}}, {\"type\": \"scatter\", \"x\": [1000.0, 948.0], \"y\": [1000.0, 911.0], \"mode\": \"lines\", \"line\": {\"width\": 2, \"color\": \"green\"}}, {\"type\": \"scatter\", \"x\": [200.0, 292.0], \"y\": [1400.0, 1441.0], \"mode\": \"lines\", \"line\": {\"width\": 2, \"color\": \"green\"}}, {\"type\": \"scatter\", \"x\": [600.0, 654.0], \"y\": [1000.0, 726.0], \"mode\": \"lines\", \"line\": {\"width\": 2, \"color\": \"green\"}}, {\"type\": \"scatter\", \"x\": [600.0, 775.0], \"y\": [1000.0, 805.0], \"mode\": \"lines\", \"line\": {\"width\": 2, \"color\": \"green\"}}, {\"type\": \"scatter\", \"x\": [200.0, 133.0], \"y\": [1000.0, 1000.0], \"mode\": \"lines\", \"line\": {\"width\": 2, \"color\": \"green\"}}, {\"type\": \"scatter\", \"x\": [200.0, 158.0], \"y\": [600.0, 747.0], \"mode\": \"lines\", \"line\": {\"width\": 2, \"color\": \"green\"}}, {\"type\": \"scatter\", \"x\": [600.0, 540], \"y\": [200.0, 150], \"mode\": \"lines\", \"line\": {\"width\": 2, \"color\": \"green\"}}, {\"type\": \"scatter\", \"x\": [1000.0, 847], \"y\": [200.0, 27], \"mode\": \"lines\", \"line\": {\"width\": 2, \"color\": \"green\"}}, {\"type\": \"scatter\", \"x\": [1400.0, 1394.0], \"y\": [1000.0, 848.0], \"mode\": \"lines\", \"line\": {\"width\": 2, \"color\": \"green\"}}, {\"type\": \"scatter\", \"x\": [600.0, 524.4657116805347], \"y\": [200.0, 222.33427317274138], \"mode\": \"lines\", \"line\": {\"width\": 2, \"color\": \"green\"}}, {\"type\": \"scatter\", \"x\": [200.0, 221.0], \"y\": [600.0, 630.0], \"mode\": \"lines\", \"line\": {\"width\": 2, \"color\": \"green\"}}, {\"type\": \"scatter\", \"x\": [1000.0, 1179.0], \"y\": [200.0, 381.0], \"mode\": \"lines\", \"line\": {\"width\": 2, \"color\": \"green\"}}, {\"type\": \"scatter\", \"x\": [1400.0, 1361.0], \"y\": [1000.0, 851.0], \"mode\": \"lines\", \"line\": {\"width\": 2, \"color\": \"green\"}}, {\"type\": \"scatter\", \"x\": [600.0, 752.0], \"y\": [1400.0, 1245.0], \"mode\": \"lines\", \"line\": {\"width\": 2, \"color\": \"green\"}}, {\"type\": \"scatter\", \"x\": [1000.0, 829], \"y\": [1000.0, 1321], \"mode\": \"lines\", \"line\": {\"width\": 2, \"color\": \"green\"}}, {\"type\": \"scatter\", \"x\": [200.0, 167.0], \"y\": [1400.0, 1470.0], \"mode\": \"lines\", \"line\": {\"width\": 2, \"color\": \"green\"}}, {\"type\": \"scatter\", \"x\": [600.0, 513.0], \"y\": [600.0, 899.0], \"mode\": \"lines\", \"line\": {\"width\": 2, \"color\": \"red\"}}, {\"type\": \"scatter\", \"x\": [1000.0, 1021.0], \"y\": [600.0, 660.0], \"mode\": \"lines\", \"line\": {\"width\": 2, \"color\": \"red\"}}, {\"type\": \"scatter\", \"x\": [600.0, 598.0], \"y\": [600.0, 673.0], \"mode\": \"lines\", \"line\": {\"width\": 2, \"color\": \"green\"}}, {\"type\": \"scatter\", \"x\": [200.0, 186.0], \"y\": [1400.0, 1417.0], \"mode\": \"lines\", \"line\": {\"width\": 2, \"color\": \"green\"}}, {\"type\": \"scatter\", \"x\": [200.0, 253], \"y\": [200.0, 172], \"mode\": \"lines\", \"line\": {\"width\": 2, \"color\": \"green\"}}, {\"type\": \"scatter\", \"x\": [1400.0, 1592.0], \"y\": [1400.0, 1458.0], \"mode\": \"lines\", \"line\": {\"width\": 2, \"color\": \"green\"}}, {\"type\": \"scatter\", \"x\": [1000.0, 923.0], \"y\": [600.0, 543.0], \"mode\": \"lines\", \"line\": {\"width\": 2, \"color\": \"green\"}}, {\"type\": \"scatter\", \"x\": [600.0, 591.0], \"y\": [1400.0, 1069.0], \"mode\": \"lines\", \"line\": {\"width\": 2, \"color\": \"green\"}}, {\"type\": \"scatter\", \"x\": [600.0, 608.0], \"y\": [1400.0, 1344.0], \"mode\": \"lines\", \"line\": {\"width\": 2, \"color\": \"green\"}}, {\"type\": \"scatter\", \"x\": [1400.0, 1452.0], \"y\": [200.0, 68.0], \"mode\": \"lines\", \"line\": {\"width\": 2, \"color\": \"green\"}}, {\"type\": \"scatter\", \"x\": [1000.0, 797.0], \"y\": [600.0, 548.0], \"mode\": \"lines\", \"line\": {\"width\": 2, \"color\": \"red\"}}, {\"type\": \"scatter\", \"x\": [200.0, 338.0], \"y\": [600.0, 687.0], \"mode\": \"lines\", \"line\": {\"width\": 2, \"color\": \"green\"}}, {\"type\": \"scatter\", \"x\": [600.0, 430.0], \"y\": [1400.0, 1332.0], \"mode\": \"lines\", \"line\": {\"width\": 2, \"color\": \"green\"}}, {\"type\": \"scatter\", \"x\": [1400.0, 1293.0], \"y\": [600.0, 576.0], \"mode\": \"lines\", \"line\": {\"width\": 2, \"color\": \"green\"}}, {\"type\": \"scatter\", \"x\": [1400.0, 1253.0], \"y\": [1000.0, 1152.0], \"mode\": \"lines\", \"line\": {\"width\": 2, \"color\": \"green\"}}, {\"type\": \"scatter\", \"x\": [600.0, 906], \"y\": [600.0, 621], \"mode\": \"lines\", \"line\": {\"width\": 2, \"color\": \"red\"}}, {\"type\": \"scatter\", \"x\": [600.0, 635.0], \"y\": [200.0, 536.0], \"mode\": \"lines\", \"line\": {\"width\": 2, \"color\": \"red\"}}, {\"type\": \"scatter\", \"x\": [1400.0, 1237.0], \"y\": [200.0, 214.0], \"mode\": \"lines\", \"line\": {\"width\": 2, \"color\": \"green\"}}, {\"type\": \"scatter\", \"x\": [200.0, 162], \"y\": [200.0, 101], \"mode\": \"lines\", \"line\": {\"width\": 2, \"color\": \"green\"}}, {\"type\": \"scatter\", \"x\": [1000.0, 649.0], \"y\": [1400.0, 1448.0], \"mode\": \"lines\", \"line\": {\"width\": 2, \"color\": \"green\"}}, {\"type\": \"scatter\", \"x\": [200.0, 304.0], \"y\": [1400.0, 1260.0], \"mode\": \"lines\", \"line\": {\"width\": 2, \"color\": \"green\"}}, {\"type\": \"scatter\", \"x\": [1000.0, 1036.0], \"y\": [1000.0, 1087.0], \"mode\": \"lines\", \"line\": {\"width\": 2, \"color\": \"green\"}}, {\"type\": \"scatter\", \"x\": [1000.0, 1061.0], \"y\": [1000.0, 997.0], \"mode\": \"lines\", \"line\": {\"width\": 2, \"color\": \"red\"}}, {\"type\": \"scatter\", \"x\": [1000.0, 818], \"y\": [1000.0, 820], \"mode\": \"lines\", \"line\": {\"width\": 2, \"color\": \"red\"}}, {\"type\": \"scatter\", \"x\": [1000.0, 958.0], \"y\": [1000.0, 675.0], \"mode\": \"lines\", \"line\": {\"width\": 2, \"color\": \"red\"}}, {\"type\": \"scatter\", \"x\": [1000.0, 988.0], \"y\": [1400.0, 1465.0], \"mode\": \"lines\", \"line\": {\"width\": 2, \"color\": \"green\"}}, {\"type\": \"scatter\", \"x\": [1000.0, 1084.0], \"y\": [1400.0, 1158.0], \"mode\": \"lines\", \"line\": {\"width\": 2, \"color\": \"green\"}}, {\"type\": \"scatter\", \"x\": [1000.0, 988.0], \"y\": [1000.0, 802.0], \"mode\": \"lines\", \"line\": {\"width\": 2, \"color\": \"green\"}}, {\"type\": \"scatter\", \"x\": [1000.0, 1138.0], \"y\": [200.0, 438.0], \"mode\": \"lines\", \"line\": {\"width\": 2, \"color\": \"green\"}}, {\"type\": \"scatter\", \"x\": [1000.0, 1095.0], \"y\": [1000.0, 818.0], \"mode\": \"lines\", \"line\": {\"width\": 2, \"color\": \"red\"}}, {\"type\": \"scatter\", \"x\": [1000.0, 970.0], \"y\": [1000.0, 634.0], \"mode\": \"lines\", \"line\": {\"width\": 2, \"color\": \"red\"}}, {\"type\": \"scatter\", \"x\": [1000.0, 1154.0], \"y\": [200.0, 438.0], \"mode\": \"lines\", \"line\": {\"width\": 2, \"color\": \"green\"}}, {\"type\": \"scatter\", \"x\": [1000.0, 1180.0], \"y\": [600.0, 757.0], \"mode\": \"lines\", \"line\": {\"width\": 2, \"color\": \"green\"}}, {\"type\": \"scatter\", \"x\": [600.0, 485], \"y\": [200.0, 268], \"mode\": \"lines\", \"line\": {\"width\": 2, \"color\": \"green\"}}, {\"type\": \"scatter\", \"x\": [1400.0, 1314.0], \"y\": [1000.0, 863.0], \"mode\": \"lines\", \"line\": {\"width\": 2, \"color\": \"green\"}}, {\"type\": \"scatter\", \"x\": [600.0, 630.0], \"y\": [1400.0, 1380.0], \"mode\": \"lines\", \"line\": {\"width\": 2, \"color\": \"green\"}}, {\"type\": \"scatter\", \"x\": [1000.0, 1134.0], \"y\": [1400.0, 1461.0], \"mode\": \"lines\", \"line\": {\"width\": 2, \"color\": \"green\"}}, {\"type\": \"scatter\", \"x\": [600.0, 733.0], \"y\": [600.0, 779.0], \"mode\": \"lines\", \"line\": {\"width\": 2, \"color\": \"green\"}}, {\"type\": \"scatter\", \"x\": [200.0, 200.0], \"y\": [600.0, 743.0], \"mode\": \"lines\", \"line\": {\"width\": 2, \"color\": \"green\"}}, {\"type\": \"scatter\", \"x\": [600.0, 492], \"y\": [200.0, 139], \"mode\": \"lines\", \"line\": {\"width\": 2, \"color\": \"green\"}}, {\"type\": \"scatter\", \"x\": [600.0, 675.0], \"y\": [600.0, 884.0], \"mode\": \"lines\", \"line\": {\"width\": 2, \"color\": \"red\"}}, {\"type\": \"scatter\", \"x\": [200.0, 246.0], \"y\": [1000.0, 941.0], \"mode\": \"lines\", \"line\": {\"width\": 2, \"color\": \"green\"}}, {\"type\": \"scatter\", \"x\": [1400.0, 1529.0], \"y\": [1000.0, 1121.0], \"mode\": \"lines\", \"line\": {\"width\": 2, \"color\": \"green\"}}, {\"type\": \"scatter\", \"x\": [200.0, 195.0], \"y\": [1000.0, 913.0], \"mode\": \"lines\", \"line\": {\"width\": 2, \"color\": \"green\"}}, {\"type\": \"scatter\", \"x\": [1000.0, 1065.0], \"y\": [600.0, 528.0], \"mode\": \"lines\", \"line\": {\"width\": 2, \"color\": \"green\"}}, {\"type\": \"scatter\", \"x\": [1000.0, 1063], \"y\": [200.0, 145], \"mode\": \"lines\", \"line\": {\"width\": 2, \"color\": \"green\"}}, {\"type\": \"scatter\", \"x\": [200.0, 208.0], \"y\": [1400.0, 1255.0], \"mode\": \"lines\", \"line\": {\"width\": 2, \"color\": \"green\"}}, {\"type\": \"scatter\", \"x\": [200.0, 232.0], \"y\": [1400.0, 1591.0], \"mode\": \"lines\", \"line\": {\"width\": 2, \"color\": \"green\"}}, {\"type\": \"scatter\", \"x\": [1000.0, 845], \"y\": [1000.0, 1194], \"mode\": \"lines\", \"line\": {\"width\": 2, \"color\": \"green\"}}, {\"type\": \"scatter\", \"x\": [1000.0, 632.0], \"y\": [600.0, 630.0], \"mode\": \"lines\", \"line\": {\"width\": 2, \"color\": \"red\"}}, {\"type\": \"scatter\", \"x\": [1000.0, 1118.0], \"y\": [1000.0, 909.0], \"mode\": \"lines\", \"line\": {\"width\": 2, \"color\": \"green\"}}, {\"type\": \"scatter\", \"x\": [812, 812], \"y\": [0, 1600.0], \"mode\": \"lines\", \"line\": {\"width\": 2, \"color\": \"black\"}}, {\"type\": \"scatter\", \"x\": [812, 912], \"y\": [1600.0, 1600.0], \"mode\": \"lines\", \"line\": {\"width\": 2, \"color\": \"black\"}}, {\"type\": \"scatter\", \"x\": [912, 912], \"y\": [1600.0, 0], \"mode\": \"lines\", \"line\": {\"width\": 2, \"color\": \"black\"}}, {\"type\": \"scatter\", \"x\": [812, 912], \"y\": [0, 0], \"mode\": \"lines\", \"line\": {\"width\": 2, \"color\": \"black\"}}, {\"type\": \"scatter\", \"x\": [0, 0], \"y\": [257, 357], \"mode\": \"lines\", \"line\": {\"width\": 2, \"color\": \"black\"}}, {\"type\": \"scatter\", \"x\": [0, 1600.0], \"y\": [357, 357], \"mode\": \"lines\", \"line\": {\"width\": 2, \"color\": \"black\"}}, {\"type\": \"scatter\", \"x\": [1600.0, 1600.0], \"y\": [357, 257], \"mode\": \"lines\", \"line\": {\"width\": 2, \"color\": \"black\"}}, {\"type\": \"scatter\", \"x\": [0, 1600.0], \"y\": [257, 257], \"mode\": \"lines\", \"line\": {\"width\": 2, \"color\": \"black\"}}, {\"type\": \"scatter\", \"x\": [0, 0], \"y\": [85, 185], \"mode\": \"lines\", \"line\": {\"width\": 2, \"color\": \"black\"}}, {\"type\": \"scatter\", \"x\": [0, 1600.0], \"y\": [185, 185], \"mode\": \"lines\", \"line\": {\"width\": 2, \"color\": \"black\"}}, {\"type\": \"scatter\", \"x\": [1600.0, 1600.0], \"y\": [185, 85], \"mode\": \"lines\", \"line\": {\"width\": 2, \"color\": \"black\"}}, {\"type\": \"scatter\", \"x\": [0, 1600.0], \"y\": [85, 85], \"mode\": \"lines\", \"line\": {\"width\": 2, \"color\": \"black\"}}, {\"type\": \"scatter\", \"x\": [465, 465], \"y\": [80, 260], \"mode\": \"lines\", \"line\": {\"width\": 2, \"color\": \"black\"}}, {\"type\": \"scatter\", \"x\": [465, 556], \"y\": [260, 260], \"mode\": \"lines\", \"line\": {\"width\": 2, \"color\": \"black\"}}, {\"type\": \"scatter\", \"x\": [556, 556], \"y\": [260, 80], \"mode\": \"lines\", \"line\": {\"width\": 2, \"color\": \"black\"}}, {\"type\": \"scatter\", \"x\": [465, 556], \"y\": [80, 80], \"mode\": \"lines\", \"line\": {\"width\": 2, \"color\": \"black\"}}, {\"type\": \"scatter\", \"x\": [200.0, 200.0, 200.0, 200.0, 600.0, 600.0, 600.0, 600.0, 1000.0, 1000.0, 1000.0, 1000.0, 1400.0, 1400.0, 1400.0, 1400.0, 952.0, 1165.0, 1176.0, 1042.0, 1381.0, 388, 14.0, 602.0, 707.0, 1468, 592.0, 1294.0, 529.0, 1445.0, 605.0, 1524, 959.0, 749.0, 693.0, 648, 705.0, 372.0, 921.0, 37.0, 861, 1026.0, 940.0, 1597.0, 668.0, 271.0, 1027.0, 896, 1525.0, 1071.0, 582.0, 169, 1494.0, 1126.0, 671, 1100.0, 698.0, 1500.0, 968.0, 921.0, 592.0, 225, 1280, 50.0, 46.0, 1050.0, 654.0, 680.0, 204.0, 167, 660.0, 1029.0, 1155.0, 923.0, 743.0, 1193.0, 1102.0, 943.0, 618.0, 872, 671.0, 191, 546.0, 120.0, 897, 1489.0, 802.0, 1182.0, 615.0, 1170.0, 273.0, 538.0, 816, 1378.0, 626.0, 836, 851, 608.0, 840, 1093.0, 387, 85.0, 543, 353.0, 350.0, 1178, 170.0, 767.0, 1405.0, 1419, 826, 1585.0, 1065.0, 535.0, 512.0, 590.0, 819, 346.0, 793.0, 339.0, 862, 84.0, 137.0, 43.0, 205.0, 258.0, 1551.0, 993.0, 1569, 828, 413.0, 196.0, 1138.0, 521.0, 694.0, 1383.0, 1240.0, 1058.0, 299.0, 697.0, 571.0, 1495.0, 242.0, 1448.0, 171.0, 1536.0, 571.0, 679.0, 973.0, 948.0, 292.0, 654.0, 775.0, 133.0, 158.0, 540, 847, 1394.0, 524.4657116805347, 221.0, 1179.0, 1361.0, 752.0, 829, 167.0, 513.0, 1021.0, 598.0, 186.0, 253, 1592.0, 923.0, 591.0, 608.0, 1452.0, 797.0, 338.0, 430.0, 1293.0, 1253.0, 906, 635.0, 1237.0, 162, 649.0, 304.0, 1036.0, 1061.0, 818, 958.0, 988.0, 1084.0, 988.0, 1138.0, 1095.0, 970.0, 1154.0, 1180.0, 485, 1314.0, 630.0, 1134.0, 733.0, 200.0, 492, 675.0, 246.0, 1529.0, 195.0, 1065.0, 1063, 208.0, 232.0, 845, 632.0, 1118.0, 812, 812, 912, 912, 0, 0, 1600.0, 1600.0, 0, 0, 1600.0, 1600.0, 465, 465, 556, 556], \"y\": [200.0, 600.0, 1000.0, 1400.0, 200.0, 600.0, 1000.0, 1400.0, 200.0, 600.0, 1000.0, 1400.0, 200.0, 600.0, 1000.0, 1400.0, 531.0, 585.0, 1291.0, 1005.0, 795.0, 293, 758.0, 794.0, 967.0, 298, 1203.0, 422.0, 558.0, 655.0, 504.0, 148, 919.0, 664.0, 1037.0, 276, 959.0, 236.0, 1158.0, 504.0, 781, 376.0, 626.0, 1173.0, 833.0, 869.0, 1575.0, 1263, 1129.0, 855.0, 1100.0, 128, 1295.0, 518.0, 121, 1058.0, 540.0, 809.0, 905.0, 635.0, 511.0, 169, 291, 918.0, 714.0, 654.0, 943.0, 937.0, 558.0, 154, 1203.0, 1586.0, 1464.0, 752.0, 77.0, 1438.0, 1066.0, 1503.0, 1198.0, 154, 1076.0, 332, 858.0, 444.0, 953, 16.0, 1122.0, 1061.0, 940.0, 939.0, 1063.0, 813.0, 908, 1306.0, 783.0, 752, 754, 683.0, 673, 359.0, 138, 687.0, 277, 604.0, 1595.0, 117, 943.0, 1032.0, 617.0, 133, 1599.0, 1049.0, 803.0, 1097.0, 824.0, 965.0, 568, 972.0, 549.0, 570.0, 179, 905.0, 1081.0, 512.0, 1567.0, 473.0, 702.0, 1549.0, 287, 334, 33.0, 213.0, 578.0, 949.0, 1240.0, 596.0, 1188.0, 992.0, 1505.0, 537.0, 1452.0, 416.0, 594.0, 527.0, 1235.0, 962.0, 635.0, 1091.0, 858.0, 911.0, 1441.0, 726.0, 805.0, 1000.0, 747.0, 150, 27, 848.0, 222.33427317274138, 630.0, 381.0, 851.0, 1245.0, 1321, 1470.0, 899.0, 660.0, 673.0, 1417.0, 172, 1458.0, 543.0, 1069.0, 1344.0, 68.0, 548.0, 687.0, 1332.0, 576.0, 1152.0, 621, 536.0, 214.0, 101, 1448.0, 1260.0, 1087.0, 997.0, 820, 675.0, 1465.0, 1158.0, 802.0, 438.0, 818.0, 634.0, 438.0, 757.0, 268, 863.0, 1380.0, 1461.0, 779.0, 743.0, 139, 884.0, 941.0, 1121.0, 913.0, 528.0, 145, 1255.0, 1591.0, 1194, 630.0, 909.0, 0, 1600.0, 1600.0, 0, 257, 357, 357, 257, 85, 185, 185, 85, 80, 260, 260, 80], \"mode\": \"markers\", \"marker\": {\"size\": 8, \"color\": [\"orange\", \"orange\", \"orange\", \"orange\", \"orange\", \"orange\", \"orange\", \"orange\", \"orange\", \"orange\", \"orange\", \"orange\", \"orange\", \"orange\", \"orange\", \"orange\", \"blue\", \"magenta\", \"magenta\", \"blue\", \"magenta\", \"magenta\", \"magenta\", \"blue\", \"magenta\", \"magenta\", \"magenta\", \"magenta\", \"blue\", \"magenta\", \"blue\", \"magenta\", \"blue\", \"blue\", \"blue\", \"magenta\", \"blue\", \"magenta\", \"magenta\", \"magenta\", \"magenta\", \"magenta\", \"blue\", \"magenta\", \"blue\", \"magenta\", \"magenta\", \"magenta\", \"magenta\", \"blue\", \"blue\", \"magenta\", \"magenta\", \"magenta\", \"magenta\", \"magenta\", \"blue\", \"magenta\", \"magenta\", \"blue\", \"blue\", \"magenta\", \"magenta\", \"magenta\", \"magenta\", \"magenta\", \"blue\", \"blue\", \"magenta\", \"magenta\", \"magenta\", \"magenta\", \"magenta\", \"magenta\", \"magenta\", \"magenta\", \"magenta\", \"magenta\", \"magenta\", \"magenta\", \"magenta\", \"magenta\", \"blue\", \"magenta\", \"blue\", \"magenta\", \"magenta\", \"magenta\", \"blue\", \"magenta\", \"magenta\", \"magenta\", \"blue\", \"magenta\", \"magenta\", \"blue\", \"blue\", \"blue\", \"blue\", \"magenta\", \"magenta\", \"magenta\", \"magenta\", \"magenta\", \"magenta\", \"magenta\", \"magenta\", \"blue\", \"magenta\", \"magenta\", \"magenta\", \"magenta\", \"magenta\", \"blue\", \"magenta\", \"blue\", \"magenta\", \"magenta\", \"blue\", \"magenta\", \"magenta\", \"magenta\", \"magenta\", \"magenta\", \"magenta\", \"magenta\", \"magenta\", \"magenta\", \"magenta\", \"magenta\", \"magenta\", \"magenta\", \"magenta\", \"blue\", \"magenta\", \"magenta\", \"magenta\", \"blue\", \"magenta\", \"magenta\", \"magenta\", \"magenta\", \"magenta\", \"magenta\", \"magenta\", \"magenta\", \"blue\", \"blue\", \"magenta\", \"magenta\", \"magenta\", \"blue\", \"magenta\", \"magenta\", \"magenta\", \"magenta\", \"magenta\", \"magenta\", \"magenta\", \"magenta\", \"magenta\", \"magenta\", \"magenta\", \"magenta\", \"magenta\", \"blue\", \"blue\", \"magenta\", \"magenta\", \"magenta\", \"magenta\", \"magenta\", \"magenta\", \"magenta\", \"magenta\", \"blue\", \"magenta\", \"magenta\", \"magenta\", \"magenta\", \"blue\", \"blue\", \"magenta\", \"magenta\", \"magenta\", \"magenta\", \"magenta\", \"blue\", \"blue\", \"blue\", \"magenta\", \"magenta\", \"magenta\", \"magenta\", \"blue\", \"blue\", \"magenta\", \"magenta\", \"magenta\", \"magenta\", \"magenta\", \"magenta\", \"magenta\", \"magenta\", \"magenta\", \"blue\", \"magenta\", \"magenta\", \"magenta\", \"magenta\", \"magenta\", \"magenta\", \"magenta\", \"magenta\", \"blue\", \"magenta\", \"black\", \"black\", \"black\", \"black\", \"black\", \"black\", \"black\", \"black\", \"black\", \"black\", \"black\", \"black\", \"black\", \"black\", \"black\", \"black\"]}}]}, {\"data\": [{\"type\": \"scatter\", \"x\": [600.0, 951.0], \"y\": [600.0, 533.0], \"mode\": \"lines\", \"line\": {\"width\": 2, \"color\": \"red\"}}, {\"type\": \"scatter\", \"x\": [1000.0, 1167.0], \"y\": [600.0, 584.0], \"mode\": \"lines\", \"line\": {\"width\": 2, \"color\": \"green\"}}, {\"type\": \"scatter\", \"x\": [1000.0, 1176.0], \"y\": [1400.0, 1293.0], \"mode\": \"lines\", \"line\": {\"width\": 2, \"color\": \"green\"}}, {\"type\": \"scatter\", \"x\": [1000.0, 1042.0], \"y\": [1000.0, 1003.0], \"mode\": \"lines\", \"line\": {\"width\": 2, \"color\": \"red\"}}, {\"type\": \"scatter\", \"x\": [1400.0, 1383.0], \"y\": [600.0, 796.0], \"mode\": \"lines\", \"line\": {\"width\": 2, \"color\": \"green\"}}, {\"type\": \"scatter\", \"x\": [600.0, 357], \"y\": [200.0, 293], \"mode\": \"lines\", \"line\": {\"width\": 2, \"color\": \"green\"}}, {\"type\": \"scatter\", \"x\": [200.0, 16.0], \"y\": [1000.0, 758.0], \"mode\": \"lines\", \"line\": {\"width\": 2, \"color\": \"green\"}}, {\"type\": \"scatter\", \"x\": [1000.0, 603.0], \"y\": [600.0, 796.0], \"mode\": \"lines\", \"line\": {\"width\": 2, \"color\": \"red\"}}, {\"type\": \"scatter\", \"x\": [1000.0, 709.0], \"y\": [1000.0, 968.0], \"mode\": \"lines\", \"line\": {\"width\": 2, \"color\": \"green\"}}, {\"type\": \"scatter\", \"x\": [1400.0, 1504], \"y\": [200.0, 298], \"mode\": \"lines\", \"line\": {\"width\": 2, \"color\": \"green\"}}, {\"type\": \"scatter\", \"x\": [600.0, 591.0], \"y\": [1400.0, 1205.0], \"mode\": \"lines\", \"line\": {\"width\": 2, \"color\": \"green\"}}, {\"type\": \"scatter\", \"x\": [1400.0, 1295.0], \"y\": [600.0, 420.0], \"mode\": \"lines\", \"line\": {\"width\": 2, \"color\": \"green\"}}, {\"type\": \"scatter\", \"x\": [200.0, 528.0], \"y\": [600.0, 556.0], \"mode\": \"lines\", \"line\": {\"width\": 2, \"color\": \"red\"}}, {\"type\": \"scatter\", \"x\": [1400.0, 1446.0], \"y\": [1000.0, 656.0], \"mode\": \"lines\", \"line\": {\"width\": 2, \"color\": \"green\"}}, {\"type\": \"scatter\", \"x\": [600.0, 605.0], \"y\": [200.0, 506.0], \"mode\": \"lines\", \"line\": {\"width\": 2, \"color\": \"red\"}}, {\"type\": \"scatter\", \"x\": [1400.0, 1550], \"y\": [200.0, 148], \"mode\": \"lines\", \"line\": {\"width\": 2, \"color\": \"green\"}}, {\"type\": \"scatter\", \"x\": [1000.0, 961.0], \"y\": [600.0, 920.0], \"mode\": \"lines\", \"line\": {\"width\": 2, \"color\": \"red\"}}, {\"type\": \"scatter\", \"x\": [600.0, 749.0], \"y\": [600.0, 662.0], \"mode\": \"lines\", \"line\": {\"width\": 2, \"color\": \"red\"}}, {\"type\": \"scatter\", \"x\": [1000.0, 693.0], \"y\": [1000.0, 1035.0], \"mode\": \"lines\", \"line\": {\"width\": 2, \"color\": \"red\"}}, {\"type\": \"scatter\", \"x\": [600.0, 605], \"y\": [200.0, 276], \"mode\": \"lines\", \"line\": {\"width\": 2, \"color\": \"green\"}}, {\"type\": \"scatter\", \"x\": [600.0, 703.0], \"y\": [1000.0, 960.0], \"mode\": \"lines\", \"line\": {\"width\": 2, \"color\": \"green\"}}, {\"type\": \"scatter\", \"x\": [200.0, 370.0], \"y\": [200.0, 236.0], \"mode\": \"lines\", \"line\": {\"width\": 2, \"color\": \"green\"}}, {\"type\": \"scatter\", \"x\": [1000.0, 923.0], \"y\": [1000.0, 1158.0], \"mode\": \"lines\", \"line\": {\"width\": 2, \"color\": \"green\"}}, {\"type\": \"scatter\", \"x\": [200.0, 35.0], \"y\": [600.0, 504.0], \"mode\": \"lines\", \"line\": {\"width\": 2, \"color\": \"green\"}}, {\"type\": \"scatter\", \"x\": [1000.0, 861], \"y\": [1000.0, 735], \"mode\": \"lines\", \"line\": {\"width\": 2, \"color\": \"green\"}}, {\"type\": \"scatter\", \"x\": [1400.0, 1028.0], \"y\": [600.0, 375.0], \"mode\": \"lines\", \"line\": {\"width\": 2, \"color\": \"green\"}}, {\"type\": \"scatter\", \"x\": [1000.0, 941.0], \"y\": [600.0, 628.0], \"mode\": \"lines\", \"line\": {\"width\": 2, \"color\": \"red\"}}, {\"type\": \"scatter\", \"x\": [1400.0, 1597.0], \"y\": [1000.0, 1175.0], \"mode\": \"lines\", \"line\": {\"width\": 2, \"color\": \"green\"}}, {\"type\": \"scatter\", \"x\": [600.0, 669.0], \"y\": [600.0, 831.0], \"mode\": \"lines\", \"line\": {\"width\": 2, \"color\": \"red\"}}, {\"type\": \"scatter\", \"x\": [200.0, 271.0], \"y\": [1000.0, 871.0], \"mode\": \"lines\", \"line\": {\"width\": 2, \"color\": \"green\"}}, {\"type\": \"scatter\", \"x\": [1400.0, 1029.0], \"y\": [1400.0, 1575.0], \"mode\": \"lines\", \"line\": {\"width\": 2, \"color\": \"green\"}}, {\"type\": \"scatter\", \"x\": [1000.0, 896], \"y\": [1400.0, 1204], \"mode\": \"lines\", \"line\": {\"width\": 2, \"color\": \"green\"}}, {\"type\": \"scatter\", \"x\": [1400.0, 1527.0], \"y\": [1000.0, 1129.0], \"mode\": \"lines\", \"line\": {\"width\": 2, \"color\": \"green\"}}, {\"type\": \"scatter\", \"x\": [1000.0, 1072.0], \"y\": [600.0, 853.0], \"mode\": \"lines\", \"line\": {\"width\": 2, \"color\": \"red\"}}, {\"type\": \"scatter\", \"x\": [200.0, 584.0], \"y\": [1400.0, 1099.0], \"mode\": \"lines\", \"line\": {\"width\": 2, \"color\": \"green\"}}, {\"type\": \"scatter\", \"x\": [200.0, 216], \"y\": [200.0, 128], \"mode\": \"lines\", \"line\": {\"width\": 2, \"color\": \"green\"}}, {\"type\": \"scatter\", \"x\": [1400.0, 1492.0], \"y\": [1400.0, 1294.0], \"mode\": \"lines\", \"line\": {\"width\": 2, \"color\": \"green\"}}, {\"type\": \"scatter\", \"x\": [1000.0, 1124.0], \"y\": [600.0, 518.0], \"mode\": \"lines\", \"line\": {\"width\": 2, \"color\": \"green\"}}, {\"type\": \"scatter\", \"x\": [600.0, 639], \"y\": [200.0, 121], \"mode\": \"lines\", \"line\": {\"width\": 2, \"color\": \"green\"}}, {\"type\": \"scatter\", \"x\": [1400.0, 1102.0], \"y\": [1400.0, 1059.0], \"mode\": \"lines\", \"line\": {\"width\": 2, \"color\": \"green\"}}, {\"type\": \"scatter\", \"x\": [600.0, 698.0], \"y\": [200.0, 538.0], \"mode\": \"lines\", \"line\": {\"width\": 2, \"color\": \"red\"}}, {\"type\": \"scatter\", \"x\": [1400.0, 1501.0], \"y\": [600.0, 808.0], \"mode\": \"lines\", \"line\": {\"width\": 2, \"color\": \"green\"}}, {\"type\": \"scatter\", \"x\": [1000.0, 966.0], \"y\": [1000.0, 905.0], \"mode\": \"lines\", \"line\": {\"width\": 2, \"color\": \"green\"}}, {\"type\": \"scatter\", \"x\": [1000.0, 922.0], \"y\": [600.0, 637.0], \"mode\": \"lines\", \"line\": {\"width\": 2, \"color\": \"red\"}}, {\"type\": \"scatter\", \"x\": [200.0, 593.0], \"y\": [600.0, 512.0], \"mode\": \"lines\", \"line\": {\"width\": 2, \"color\": \"red\"}}, {\"type\": \"scatter\", \"x\": [200.0, 262], \"y\": [200.0, 169], \"mode\": \"lines\", \"line\": {\"width\": 2, \"color\": \"green\"}}, {\"type\": \"scatter\", \"x\": [1400.0, 1225], \"y\": [200.0, 291], \"mode\": \"lines\", \"line\": {\"width\": 2, \"color\": \"green\"}}, {\"type\": \"scatter\", \"x\": [200.0, 50.0], \"y\": [1000.0, 920.0], \"mode\": \"lines\", \"line\": {\"width\": 2, \"color\": \"green\"}}, {\"type\": \"scatter\", \"x\": [200.0, 47.0], \"y\": [1000.0, 716.0], \"mode\": \"lines\", \"line\": {\"width\": 2, \"color\": \"green\"}}, {\"type\": \"scatter\", \"x\": [1000.0, 1052.0], \"y\": [1000.0, 654.0], \"mode\": \"lines\", \"line\": {\"width\": 2, \"color\": \"green\"}}, {\"type\": \"scatter\", \"x\": [1000.0, 655.0], \"y\": [1000.0, 941.0], \"mode\": \"lines\", \"line\": {\"width\": 2, \"color\": \"red\"}}, {\"type\": \"scatter\", \"x\": [1000.0, 681.0], \"y\": [1000.0, 939.0], \"mode\": \"lines\", \"line\": {\"width\": 2, \"color\": \"red\"}}, {\"type\": \"scatter\", \"x\": [200.0, 203.0], \"y\": [600.0, 556.0], \"mode\": \"lines\", \"line\": {\"width\": 2, \"color\": \"green\"}}, {\"type\": \"scatter\", \"x\": [600.0, 136], \"y\": [200.0, 154], \"mode\": \"lines\", \"line\": {\"width\": 2, \"color\": \"green\"}}, {\"type\": \"scatter\", \"x\": [600.0, 659.0], \"y\": [1400.0, 1205.0], \"mode\": \"lines\", \"line\": {\"width\": 2, \"color\": \"green\"}}, {\"type\": \"scatter\", \"x\": [1000.0, 1030.0], \"y\": [1400.0, 1588.0], \"mode\": \"lines\", \"line\": {\"width\": 2, \"color\": \"green\"}}, {\"type\": \"scatter\", \"x\": [1000.0, 1156.0], \"y\": [1400.0, 1462.0], \"mode\": \"lines\", \"line\": {\"width\": 2, \"color\": \"green\"}}, {\"type\": \"scatter\", \"x\": [1000.0, 924.0], \"y\": [1000.0, 750.0], \"mode\": \"lines\", \"line\": {\"width\": 2, \"color\": \"green\"}}, {\"type\": \"scatter\", \"x\": [600.0, 745.0], \"y\": [200.0, 77.0], \"mode\": \"lines\", \"line\": {\"width\": 2, \"color\": \"green\"}}, {\"type\": \"scatter\", \"x\": [1000.0, 1192.0], \"y\": [1400.0, 1436.0], \"mode\": \"lines\", \"line\": {\"width\": 2, \"color\": \"green\"}}, {\"type\": \"scatter\", \"x\": [1000.0, 1103.0], \"y\": [1000.0, 1064.0], \"mode\": \"lines\", \"line\": {\"width\": 2, \"color\": \"green\"}}, {\"type\": \"scatter\", \"x\": [600.0, 941.0], \"y\": [1400.0, 1504.0], \"mode\": \"lines\", \"line\": {\"width\": 2, \"color\": \"green\"}}, {\"type\": \"scatter\", \"x\": [600.0, 620.0], \"y\": [1400.0, 1197.0], \"mode\": \"lines\", \"line\": {\"width\": 2, \"color\": \"green\"}}, {\"type\": \"scatter\", \"x\": [600.0, 834], \"y\": [200.0, 154], \"mode\": \"lines\", \"line\": {\"width\": 2, \"color\": \"green\"}}, {\"type\": \"scatter\", \"x\": [600.0, 670.0], \"y\": [1400.0, 1074.0], \"mode\": \"lines\", \"line\": {\"width\": 2, \"color\": \"green\"}}, {\"type\": \"scatter\", \"x\": [200.0, 218], \"y\": [600.0, 332], \"mode\": \"lines\", \"line\": {\"width\": 2, \"color\": \"green\"}}, {\"type\": \"scatter\", \"x\": [600.0, 547.0], \"y\": [1000.0, 857.0], \"mode\": \"lines\", \"line\": {\"width\": 2, \"color\": \"green\"}}, {\"type\": \"scatter\", \"x\": [200.0, 121.0], \"y\": [600.0, 445.0], \"mode\": \"lines\", \"line\": {\"width\": 2, \"color\": \"green\"}}, {\"type\": \"scatter\", \"x\": [1000.0, 897], \"y\": [1000.0, 973], \"mode\": \"lines\", \"line\": {\"width\": 2, \"color\": \"red\"}}, {\"type\": \"scatter\", \"x\": [1400.0, 1488.0], \"y\": [200.0, 15.0], \"mode\": \"lines\", \"line\": {\"width\": 2, \"color\": \"green\"}}, {\"type\": \"scatter\", \"x\": [1000.0, 803.0], \"y\": [1000.0, 1120.0], \"mode\": \"lines\", \"line\": {\"width\": 2, \"color\": \"green\"}}, {\"type\": \"scatter\", \"x\": [1400.0, 1184.0], \"y\": [1000.0, 1060.0], \"mode\": \"lines\", \"line\": {\"width\": 2, \"color\": \"green\"}}, {\"type\": \"scatter\", \"x\": [600.0, 615.0], \"y\": [1000.0, 938.0], \"mode\": \"lines\", \"line\": {\"width\": 2, \"color\": \"green\"}}, {\"type\": \"scatter\", \"x\": [1400.0, 1171.0], \"y\": [1000.0, 941.0], \"mode\": \"lines\", \"line\": {\"width\": 2, \"color\": \"green\"}}, {\"type\": \"scatter\", \"x\": [200.0, 273.0], \"y\": [1000.0, 1061.0], \"mode\": \"lines\", \"line\": {\"width\": 2, \"color\": \"green\"}}, {\"type\": \"scatter\", \"x\": [600.0, 539.0], \"y\": [600.0, 815.0], \"mode\": \"lines\", \"line\": {\"width\": 2, \"color\": \"green\"}}, {\"type\": \"scatter\", \"x\": [1000.0, 816], \"y\": [1000.0, 878], \"mode\": \"lines\", \"line\": {\"width\": 2, \"color\": \"red\"}}, {\"type\": \"scatter\", \"x\": [1400.0, 1379.0], \"y\": [1400.0, 1304.0], \"mode\": \"lines\", \"line\": {\"width\": 2, \"color\": \"green\"}}, {\"type\": \"scatter\", \"x\": [600.0, 624.0], \"y\": [1000.0, 782.0], \"mode\": \"lines\", \"line\": {\"width\": 2, \"color\": \"green\"}}, {\"type\": \"scatter\", \"x\": [1000.0, 836], \"y\": [1000.0, 810], \"mode\": \"lines\", \"line\": {\"width\": 2, \"color\": \"red\"}}, {\"type\": \"scatter\", \"x\": [1000.0, 851], \"y\": [1000.0, 723], \"mode\": \"lines\", \"line\": {\"width\": 2, \"color\": \"red\"}}, {\"type\": \"scatter\", \"x\": [600.0, 610.0], \"y\": [600.0, 683.0], \"mode\": \"lines\", \"line\": {\"width\": 2, \"color\": \"red\"}}, {\"type\": \"scatter\", \"x\": [600.0, 840], \"y\": [600.0, 638], \"mode\": \"lines\", \"line\": {\"width\": 2, \"color\": \"red\"}}, {\"type\": \"scatter\", \"x\": [1000.0, 1091.0], \"y\": [200.0, 360.0], \"mode\": \"lines\", \"line\": {\"width\": 2, \"color\": \"green\"}}, {\"type\": \"scatter\", \"x\": [200.0, 445], \"y\": [200.0, 138], \"mode\": \"lines\", \"line\": {\"width\": 2, \"color\": \"green\"}}, {\"type\": \"scatter\", \"x\": [200.0, 87.0], \"y\": [600.0, 686.0], \"mode\": \"lines\", \"line\": {\"width\": 2, \"color\": \"green\"}}, {\"type\": \"scatter\", \"x\": [600.0, 599], \"y\": [200.0, 277], \"mode\": \"lines\", \"line\": {\"width\": 2, \"color\": \"green\"}}, {\"type\": \"scatter\", \"x\": [200.0, 355.0], \"y\": [600.0, 605.0], \"mode\": \"lines\", \"line\": {\"width\": 2, \"color\": \"green\"}}, {\"type\": \"scatter\", \"x\": [200.0, 351.0], \"y\": [1400.0, 1597.0], \"mode\": \"lines\", \"line\": {\"width\": 2, \"color\": \"green\"}}, {\"type\": \"scatter\", \"x\": [1000.0, 1202], \"y\": [200.0, 117], \"mode\": \"lines\", \"line\": {\"width\": 2, \"color\": \"green\"}}, {\"type\": \"scatter\", \"x\": [200.0, 168.0], \"y\": [600.0, 942.0], \"mode\": \"lines\", \"line\": {\"width\": 2, \"color\": \"green\"}}, {\"type\": \"scatter\", \"x\": [1000.0, 766.0], \"y\": [1000.0, 1030.0], \"mode\": \"lines\", \"line\": {\"width\": 2, \"color\": \"red\"}}, {\"type\": \"scatter\", \"x\": [1400.0, 1406.0], \"y\": [1000.0, 615.0], \"mode\": \"lines\", \"line\": {\"width\": 2, \"color\": \"green\"}}, {\"type\": \"scatter\", \"x\": [1400.0, 1389], \"y\": [200.0, 133], \"mode\": \"lines\", \"line\": {\"width\": 2, \"color\": \"green\"}}, {\"type\": \"scatter\", \"x\": [1000.0, 826], \"y\": [1400.0, 1559.0], \"mode\": \"lines\", \"line\": {\"width\": 2, \"color\": \"green\"}}, {\"type\": \"scatter\", \"x\": [1400.0, 1586.0], \"y\": [1400.0, 1047.0], \"mode\": \"lines\", \"line\": {\"width\": 2, \"color\": \"green\"}}, {\"type\": \"scatter\", \"x\": [1000.0, 1064.0], \"y\": [600.0, 801.0], \"mode\": \"lines\", \"line\": {\"width\": 2, \"color\": \"green\"}}, {\"type\": \"scatter\", \"x\": [600.0, 537.0], \"y\": [1400.0, 1096.0], \"mode\": \"lines\", \"line\": {\"width\": 2, \"color\": \"red\"}}, {\"type\": \"scatter\", \"x\": [200.0, 511.0], \"y\": [600.0, 826.0], \"mode\": \"lines\", \"line\": {\"width\": 2, \"color\": \"green\"}}, {\"type\": \"scatter\", \"x\": [600.0, 591.0], \"y\": [1000.0, 963.0], \"mode\": \"lines\", \"line\": {\"width\": 2, \"color\": \"green\"}}, {\"type\": \"scatter\", \"x\": [600.0, 819], \"y\": [600.0, 590], \"mode\": \"lines\", \"line\": {\"width\": 2, \"color\": \"green\"}}, {\"type\": \"scatter\", \"x\": [200.0, 347.0], \"y\": [1000.0, 974.0], \"mode\": \"lines\", \"line\": {\"width\": 2, \"color\": \"green\"}}, {\"type\": \"scatter\", \"x\": [600.0, 794.0], \"y\": [600.0, 551.0], \"mode\": \"lines\", \"line\": {\"width\": 2, \"color\": \"red\"}}, {\"type\": \"scatter\", \"x\": [200.0, 339.0], \"y\": [600.0, 572.0], \"mode\": \"lines\", \"line\": {\"width\": 2, \"color\": \"green\"}}, {\"type\": \"scatter\", \"x\": [1000.0, 840], \"y\": [200.0, 179], \"mode\": \"lines\", \"line\": {\"width\": 2, \"color\": \"green\"}}, {\"type\": \"scatter\", \"x\": [200.0, 83.0], \"y\": [600.0, 903.0], \"mode\": \"lines\", \"line\": {\"width\": 2, \"color\": \"green\"}}, {\"type\": \"scatter\", \"x\": [200.0, 136.0], \"y\": [1000.0, 1083.0], \"mode\": \"lines\", \"line\": {\"width\": 2, \"color\": \"green\"}}, {\"type\": \"scatter\", \"x\": [200.0, 42.0], \"y\": [600.0, 511.0], \"mode\": \"lines\", \"line\": {\"width\": 2, \"color\": \"green\"}}, {\"type\": \"scatter\", \"x\": [200.0, 203.0], \"y\": [1400.0, 1567.0], \"mode\": \"lines\", \"line\": {\"width\": 2, \"color\": \"green\"}}, {\"type\": \"scatter\", \"x\": [200.0, 256.0], \"y\": [600.0, 474.0], \"mode\": \"lines\", \"line\": {\"width\": 2, \"color\": \"green\"}}, {\"type\": \"scatter\", \"x\": [1400.0, 1549.0], \"y\": [600.0, 702.0], \"mode\": \"lines\", \"line\": {\"width\": 2, \"color\": \"green\"}}, {\"type\": \"scatter\", \"x\": [1000.0, 992.0], \"y\": [1400.0, 1550.0], \"mode\": \"lines\", \"line\": {\"width\": 2, \"color\": \"green\"}}, {\"type\": \"scatter\", \"x\": [1400.0, 1596], \"y\": [200.0, 287], \"mode\": \"lines\", \"line\": {\"width\": 2, \"color\": \"green\"}}, {\"type\": \"scatter\", \"x\": [600.0, 861], \"y\": [200.0, 334], \"mode\": \"lines\", \"line\": {\"width\": 2, \"color\": \"green\"}}, {\"type\": \"scatter\", \"x\": [600.0, 411.0], \"y\": [200.0, 32.0], \"mode\": \"lines\", \"line\": {\"width\": 2, \"color\": \"green\"}}, {\"type\": \"scatter\", \"x\": [200.0, 197.0], \"y\": [200.0, 211.0], \"mode\": \"lines\", \"line\": {\"width\": 2, \"color\": \"green\"}}, {\"type\": \"scatter\", \"x\": [1400.0, 1140.0], \"y\": [600.0, 577.0], \"mode\": \"lines\", \"line\": {\"width\": 2, \"color\": \"green\"}}, {\"type\": \"scatter\", \"x\": [600.0, 520.0], \"y\": [1000.0, 951.0], \"mode\": \"lines\", \"line\": {\"width\": 2, \"color\": \"green\"}}, {\"type\": \"scatter\", \"x\": [600.0, 696.0], \"y\": [1400.0, 1240.0], \"mode\": \"lines\", \"line\": {\"width\": 2, \"color\": \"green\"}}, {\"type\": \"scatter\", \"x\": [1400.0, 1385.0], \"y\": [600.0, 597.0], \"mode\": \"lines\", \"line\": {\"width\": 2, \"color\": \"green\"}}, {\"type\": \"scatter\", \"x\": [1400.0, 1238.0], \"y\": [1000.0, 1189.0], \"mode\": \"lines\", \"line\": {\"width\": 2, \"color\": \"green\"}}, {\"type\": \"scatter\", \"x\": [1400.0, 1056.0], \"y\": [1000.0, 993.0], \"mode\": \"lines\", \"line\": {\"width\": 2, \"color\": \"red\"}}, {\"type\": \"scatter\", \"x\": [200.0, 299.0], \"y\": [1400.0, 1507.0], \"mode\": \"lines\", \"line\": {\"width\": 2, \"color\": \"green\"}}, {\"type\": \"scatter\", \"x\": [600.0, 699.0], \"y\": [600.0, 538.0], \"mode\": \"lines\", \"line\": {\"width\": 2, \"color\": \"green\"}}, {\"type\": \"scatter\", \"x\": [600.0, 571.0], \"y\": [1400.0, 1450.0], \"mode\": \"lines\", \"line\": {\"width\": 2, \"color\": \"green\"}}, {\"type\": \"scatter\", \"x\": [1400.0, 1495.0], \"y\": [600.0, 414.0], \"mode\": \"lines\", \"line\": {\"width\": 2, \"color\": \"green\"}}, {\"type\": \"scatter\", \"x\": [200.0, 241.0], \"y\": [600.0, 596.0], \"mode\": \"lines\", \"line\": {\"width\": 2, \"color\": \"green\"}}, {\"type\": \"scatter\", \"x\": [1400.0, 1450.0], \"y\": [600.0, 526.0], \"mode\": \"lines\", \"line\": {\"width\": 2, \"color\": \"green\"}}, {\"type\": \"scatter\", \"x\": [200.0, 173.0], \"y\": [1400.0, 1234.0], \"mode\": \"lines\", \"line\": {\"width\": 2, \"color\": \"green\"}}, {\"type\": \"scatter\", \"x\": [1400.0, 1537.0], \"y\": [1000.0, 960.0], \"mode\": \"lines\", \"line\": {\"width\": 2, \"color\": \"green\"}}, {\"type\": \"scatter\", \"x\": [600.0, 569.0], \"y\": [1000.0, 635.0], \"mode\": \"lines\", \"line\": {\"width\": 2, \"color\": \"green\"}}, {\"type\": \"scatter\", \"x\": [600.0, 681.0], \"y\": [1400.0, 1092.0], \"mode\": \"lines\", \"line\": {\"width\": 2, \"color\": \"red\"}}, {\"type\": \"scatter\", \"x\": [1000.0, 975.0], \"y\": [600.0, 857.0], \"mode\": \"lines\", \"line\": {\"width\": 2, \"color\": \"green\"}}, {\"type\": \"scatter\", \"x\": [1000.0, 947.0], \"y\": [1000.0, 913.0], \"mode\": \"lines\", \"line\": {\"width\": 2, \"color\": \"green\"}}, {\"type\": \"scatter\", \"x\": [200.0, 292.0], \"y\": [1400.0, 1439.0], \"mode\": \"lines\", \"line\": {\"width\": 2, \"color\": \"green\"}}, {\"type\": \"scatter\", \"x\": [600.0, 652.0], \"y\": [1000.0, 725.0], \"mode\": \"lines\", \"line\": {\"width\": 2, \"color\": \"green\"}}, {\"type\": \"scatter\", \"x\": [600.0, 773.0], \"y\": [1000.0, 804.0], \"mode\": \"lines\", \"line\": {\"width\": 2, \"color\": \"green\"}}, {\"type\": \"scatter\", \"x\": [200.0, 134.0], \"y\": [1000.0, 1001.0], \"mode\": \"lines\", \"line\": {\"width\": 2, \"color\": \"green\"}}, {\"type\": \"scatter\", \"x\": [200.0, 157.0], \"y\": [600.0, 745.0], \"mode\": \"lines\", \"line\": {\"width\": 2, \"color\": \"green\"}}, {\"type\": \"scatter\", \"x\": [600.0, 512], \"y\": [200.0, 150], \"mode\": \"lines\", \"line\": {\"width\": 2, \"color\": \"green\"}}, {\"type\": \"scatter\", \"x\": [1000.0, 847], \"y\": [200.0, 0], \"mode\": \"lines\", \"line\": {\"width\": 2, \"color\": \"green\"}}, {\"type\": \"scatter\", \"x\": [1400.0, 1392.0], \"y\": [1000.0, 848.0], \"mode\": \"lines\", \"line\": {\"width\": 2, \"color\": \"green\"}}, {\"type\": \"scatter\", \"x\": [600.0, 524.5041436843038], \"y\": [200.0, 223.33353439038484], \"mode\": \"lines\", \"line\": {\"width\": 2, \"color\": \"green\"}}, {\"type\": \"scatter\", \"x\": [200.0, 222.0], \"y\": [600.0, 632.0], \"mode\": \"lines\", \"line\": {\"width\": 2, \"color\": \"green\"}}, {\"type\": \"scatter\", \"x\": [1000.0, 1177.0], \"y\": [200.0, 381.0], \"mode\": \"lines\", \"line\": {\"width\": 2, \"color\": \"green\"}}, {\"type\": \"scatter\", \"x\": [1400.0, 1362.0], \"y\": [1000.0, 849.0], \"mode\": \"lines\", \"line\": {\"width\": 2, \"color\": \"green\"}}, {\"type\": \"scatter\", \"x\": [600.0, 753.0], \"y\": [1400.0, 1247.0], \"mode\": \"lines\", \"line\": {\"width\": 2, \"color\": \"green\"}}, {\"type\": \"scatter\", \"x\": [1000.0, 829], \"y\": [1000.0, 1282], \"mode\": \"lines\", \"line\": {\"width\": 2, \"color\": \"green\"}}, {\"type\": \"scatter\", \"x\": [200.0, 169.0], \"y\": [1400.0, 1469.0], \"mode\": \"lines\", \"line\": {\"width\": 2, \"color\": \"green\"}}, {\"type\": \"scatter\", \"x\": [600.0, 514.0], \"y\": [600.0, 898.0], \"mode\": \"lines\", \"line\": {\"width\": 2, \"color\": \"red\"}}, {\"type\": \"scatter\", \"x\": [1000.0, 1020.0], \"y\": [600.0, 662.0], \"mode\": \"lines\", \"line\": {\"width\": 2, \"color\": \"red\"}}, {\"type\": \"scatter\", \"x\": [600.0, 600.0], \"y\": [600.0, 674.0], \"mode\": \"lines\", \"line\": {\"width\": 2, \"color\": \"green\"}}, {\"type\": \"scatter\", \"x\": [200.0, 187.0], \"y\": [1400.0, 1419.0], \"mode\": \"lines\", \"line\": {\"width\": 2, \"color\": \"green\"}}, {\"type\": \"scatter\", \"x\": [200.0, 296], \"y\": [200.0, 172], \"mode\": \"lines\", \"line\": {\"width\": 2, \"color\": \"green\"}}, {\"type\": \"scatter\", \"x\": [1400.0, 1590.0], \"y\": [1400.0, 1458.0], \"mode\": \"lines\", \"line\": {\"width\": 2, \"color\": \"green\"}}, {\"type\": \"scatter\", \"x\": [1000.0, 925.0], \"y\": [600.0, 543.0], \"mode\": \"lines\", \"line\": {\"width\": 2, \"color\": \"green\"}}, {\"type\": \"scatter\", \"x\": [600.0, 593.0], \"y\": [1400.0, 1070.0], \"mode\": \"lines\", \"line\": {\"width\": 2, \"color\": \"green\"}}, {\"type\": \"scatter\", \"x\": [600.0, 606.0], \"y\": [1400.0, 1345.0], \"mode\": \"lines\", \"line\": {\"width\": 2, \"color\": \"green\"}}, {\"type\": \"scatter\", \"x\": [1400.0, 1454.0], \"y\": [200.0, 68.0], \"mode\": \"lines\", \"line\": {\"width\": 2, \"color\": \"green\"}}, {\"type\": \"scatter\", \"x\": [1000.0, 799.0], \"y\": [600.0, 549.0], \"mode\": \"lines\", \"line\": {\"width\": 2, \"color\": \"red\"}}, {\"type\": \"scatter\", \"x\": [200.0, 336.0], \"y\": [600.0, 687.0], \"mode\": \"lines\", \"line\": {\"width\": 2, \"color\": \"green\"}}, {\"type\": \"scatter\", \"x\": [600.0, 428.0], \"y\": [1400.0, 1332.0], \"mode\": \"lines\", \"line\": {\"width\": 2, \"color\": \"green\"}}, {\"type\": \"scatter\", \"x\": [1400.0, 1294.0], \"y\": [600.0, 578.0], \"mode\": \"lines\", \"line\": {\"width\": 2, \"color\": \"green\"}}, {\"type\": \"scatter\", \"x\": [1400.0, 1251.0], \"y\": [1000.0, 1153.0], \"mode\": \"lines\", \"line\": {\"width\": 2, \"color\": \"green\"}}, {\"type\": \"scatter\", \"x\": [600.0, 906], \"y\": [600.0, 657], \"mode\": \"lines\", \"line\": {\"width\": 2, \"color\": \"red\"}}, {\"type\": \"scatter\", \"x\": [600.0, 637.0], \"y\": [200.0, 535.0], \"mode\": \"lines\", \"line\": {\"width\": 2, \"color\": \"red\"}}, {\"type\": \"scatter\", \"x\": [1400.0, 1237.0], \"y\": [200.0, 216.0], \"mode\": \"lines\", \"line\": {\"width\": 2, \"color\": \"green\"}}, {\"type\": \"scatter\", \"x\": [200.0, 115], \"y\": [200.0, 101], \"mode\": \"lines\", \"line\": {\"width\": 2, \"color\": \"green\"}}, {\"type\": \"scatter\", \"x\": [1000.0, 649.0], \"y\": [1400.0, 1450.0], \"mode\": \"lines\", \"line\": {\"width\": 2, \"color\": \"green\"}}, {\"type\": \"scatter\", \"x\": [200.0, 302.0], \"y\": [1400.0, 1259.0], \"mode\": \"lines\", \"line\": {\"width\": 2, \"color\": \"green\"}}, {\"type\": \"scatter\", \"x\": [1400.0, 1034.0], \"y\": [1000.0, 1088.0], \"mode\": \"lines\", \"line\": {\"width\": 2, \"color\": \"green\"}}, {\"type\": \"scatter\", \"x\": [1000.0, 1061.0], \"y\": [1000.0, 995.0], \"mode\": \"lines\", \"line\": {\"width\": 2, \"color\": \"red\"}}, {\"type\": \"scatter\", \"x\": [1000.0, 818], \"y\": [1000.0, 774], \"mode\": \"lines\", \"line\": {\"width\": 2, \"color\": \"red\"}}, {\"type\": \"scatter\", \"x\": [1000.0, 959.0], \"y\": [1000.0, 677.0], \"mode\": \"lines\", \"line\": {\"width\": 2, \"color\": \"red\"}}, {\"type\": \"scatter\", \"x\": [1000.0, 987.0], \"y\": [1400.0, 1463.0], \"mode\": \"lines\", \"line\": {\"width\": 2, \"color\": \"green\"}}, {\"type\": \"scatter\", \"x\": [1000.0, 1083.0], \"y\": [1400.0, 1160.0], \"mode\": \"lines\", \"line\": {\"width\": 2, \"color\": \"green\"}}, {\"type\": \"scatter\", \"x\": [1000.0, 987.0], \"y\": [1000.0, 800.0], \"mode\": \"lines\", \"line\": {\"width\": 2, \"color\": \"green\"}}, {\"type\": \"scatter\", \"x\": [1000.0, 1139.0], \"y\": [200.0, 437.0], \"mode\": \"lines\", \"line\": {\"width\": 2, \"color\": \"green\"}}, {\"type\": \"scatter\", \"x\": [1000.0, 1093.0], \"y\": [1000.0, 819.0], \"mode\": \"lines\", \"line\": {\"width\": 2, \"color\": \"red\"}}, {\"type\": \"scatter\", \"x\": [1000.0, 972.0], \"y\": [1000.0, 635.0], \"mode\": \"lines\", \"line\": {\"width\": 2, \"color\": \"red\"}}, {\"type\": \"scatter\", \"x\": [1000.0, 1154.0], \"y\": [200.0, 436.0], \"mode\": \"lines\", \"line\": {\"width\": 2, \"color\": \"green\"}}, {\"type\": \"scatter\", \"x\": [1000.0, 1178.0], \"y\": [600.0, 757.0], \"mode\": \"lines\", \"line\": {\"width\": 2, \"color\": \"green\"}}, {\"type\": \"scatter\", \"x\": [600.0, 450], \"y\": [200.0, 268], \"mode\": \"lines\", \"line\": {\"width\": 2, \"color\": \"green\"}}, {\"type\": \"scatter\", \"x\": [1400.0, 1313.0], \"y\": [1000.0, 861.0], \"mode\": \"lines\", \"line\": {\"width\": 2, \"color\": \"green\"}}, {\"type\": \"scatter\", \"x\": [600.0, 630.0], \"y\": [1400.0, 1382.0], \"mode\": \"lines\", \"line\": {\"width\": 2, \"color\": \"green\"}}, {\"type\": \"scatter\", \"x\": [1000.0, 1133.0], \"y\": [1400.0, 1462.0], \"mode\": \"lines\", \"line\": {\"width\": 2, \"color\": \"green\"}}, {\"type\": \"scatter\", \"x\": [600.0, 732.0], \"y\": [600.0, 778.0], \"mode\": \"lines\", \"line\": {\"width\": 2, \"color\": \"green\"}}, {\"type\": \"scatter\", \"x\": [200.0, 201.0], \"y\": [600.0, 741.0], \"mode\": \"lines\", \"line\": {\"width\": 2, \"color\": \"green\"}}, {\"type\": \"scatter\", \"x\": [600.0, 459], \"y\": [200.0, 139], \"mode\": \"lines\", \"line\": {\"width\": 2, \"color\": \"green\"}}, {\"type\": \"scatter\", \"x\": [600.0, 677.0], \"y\": [600.0, 884.0], \"mode\": \"lines\", \"line\": {\"width\": 2, \"color\": \"red\"}}, {\"type\": \"scatter\", \"x\": [200.0, 246.0], \"y\": [1000.0, 943.0], \"mode\": \"lines\", \"line\": {\"width\": 2, \"color\": \"green\"}}, {\"type\": \"scatter\", \"x\": [1400.0, 1530.0], \"y\": [1000.0, 1119.0], \"mode\": \"lines\", \"line\": {\"width\": 2, \"color\": \"green\"}}, {\"type\": \"scatter\", \"x\": [200.0, 196.0], \"y\": [1000.0, 915.0], \"mode\": \"lines\", \"line\": {\"width\": 2, \"color\": \"green\"}}, {\"type\": \"scatter\", \"x\": [1000.0, 1067.0], \"y\": [600.0, 529.0], \"mode\": \"lines\", \"line\": {\"width\": 2, \"color\": \"green\"}}, {\"type\": \"scatter\", \"x\": [1000.0, 1024], \"y\": [200.0, 145], \"mode\": \"lines\", \"line\": {\"width\": 2, \"color\": \"green\"}}, {\"type\": \"scatter\", \"x\": [200.0, 209.0], \"y\": [1400.0, 1257.0], \"mode\": \"lines\", \"line\": {\"width\": 2, \"color\": \"green\"}}, {\"type\": \"scatter\", \"x\": [200.0, 231.0], \"y\": [1400.0, 1593.0], \"mode\": \"lines\", \"line\": {\"width\": 2, \"color\": \"green\"}}, {\"type\": \"scatter\", \"x\": [1000.0, 845], \"y\": [1000.0, 1226], \"mode\": \"lines\", \"line\": {\"width\": 2, \"color\": \"green\"}}, {\"type\": \"scatter\", \"x\": [1000.0, 630.0], \"y\": [600.0, 629.0], \"mode\": \"lines\", \"line\": {\"width\": 2, \"color\": \"red\"}}, {\"type\": \"scatter\", \"x\": [1000.0, 1118.0], \"y\": [1000.0, 911.0], \"mode\": \"lines\", \"line\": {\"width\": 2, \"color\": \"green\"}}, {\"type\": \"scatter\", \"x\": [812, 812], \"y\": [0, 1600.0], \"mode\": \"lines\", \"line\": {\"width\": 2, \"color\": \"black\"}}, {\"type\": \"scatter\", \"x\": [812, 912], \"y\": [1600.0, 1600.0], \"mode\": \"lines\", \"line\": {\"width\": 2, \"color\": \"black\"}}, {\"type\": \"scatter\", \"x\": [912, 912], \"y\": [1600.0, 0], \"mode\": \"lines\", \"line\": {\"width\": 2, \"color\": \"black\"}}, {\"type\": \"scatter\", \"x\": [812, 912], \"y\": [0, 0], \"mode\": \"lines\", \"line\": {\"width\": 2, \"color\": \"black\"}}, {\"type\": \"scatter\", \"x\": [0, 0], \"y\": [257, 357], \"mode\": \"lines\", \"line\": {\"width\": 2, \"color\": \"black\"}}, {\"type\": \"scatter\", \"x\": [0, 1600.0], \"y\": [357, 357], \"mode\": \"lines\", \"line\": {\"width\": 2, \"color\": \"black\"}}, {\"type\": \"scatter\", \"x\": [1600.0, 1600.0], \"y\": [357, 257], \"mode\": \"lines\", \"line\": {\"width\": 2, \"color\": \"black\"}}, {\"type\": \"scatter\", \"x\": [0, 1600.0], \"y\": [257, 257], \"mode\": \"lines\", \"line\": {\"width\": 2, \"color\": \"black\"}}, {\"type\": \"scatter\", \"x\": [0, 0], \"y\": [85, 185], \"mode\": \"lines\", \"line\": {\"width\": 2, \"color\": \"black\"}}, {\"type\": \"scatter\", \"x\": [0, 1600.0], \"y\": [185, 185], \"mode\": \"lines\", \"line\": {\"width\": 2, \"color\": \"black\"}}, {\"type\": \"scatter\", \"x\": [1600.0, 1600.0], \"y\": [185, 85], \"mode\": \"lines\", \"line\": {\"width\": 2, \"color\": \"black\"}}, {\"type\": \"scatter\", \"x\": [0, 1600.0], \"y\": [85, 85], \"mode\": \"lines\", \"line\": {\"width\": 2, \"color\": \"black\"}}, {\"type\": \"scatter\", \"x\": [465, 465], \"y\": [80, 260], \"mode\": \"lines\", \"line\": {\"width\": 2, \"color\": \"black\"}}, {\"type\": \"scatter\", \"x\": [465, 556], \"y\": [260, 260], \"mode\": \"lines\", \"line\": {\"width\": 2, \"color\": \"black\"}}, {\"type\": \"scatter\", \"x\": [556, 556], \"y\": [260, 80], \"mode\": \"lines\", \"line\": {\"width\": 2, \"color\": \"black\"}}, {\"type\": \"scatter\", \"x\": [465, 556], \"y\": [80, 80], \"mode\": \"lines\", \"line\": {\"width\": 2, \"color\": \"black\"}}, {\"type\": \"scatter\", \"x\": [200.0, 200.0, 200.0, 200.0, 600.0, 600.0, 600.0, 600.0, 1000.0, 1000.0, 1000.0, 1000.0, 1400.0, 1400.0, 1400.0, 1400.0, 951.0, 1167.0, 1176.0, 1042.0, 1383.0, 357, 16.0, 603.0, 709.0, 1504, 591.0, 1295.0, 528.0, 1446.0, 605.0, 1550, 961.0, 749.0, 693.0, 605, 703.0, 370.0, 923.0, 35.0, 861, 1028.0, 941.0, 1597.0, 669.0, 271.0, 1029.0, 896, 1527.0, 1072.0, 584.0, 216, 1492.0, 1124.0, 639, 1102.0, 698.0, 1501.0, 966.0, 922.0, 593.0, 262, 1225, 50.0, 47.0, 1052.0, 655.0, 681.0, 203.0, 136, 659.0, 1030.0, 1156.0, 924.0, 745.0, 1192.0, 1103.0, 941.0, 620.0, 834, 670.0, 218, 547.0, 121.0, 897, 1488.0, 803.0, 1184.0, 615.0, 1171.0, 273.0, 539.0, 816, 1379.0, 624.0, 836, 851, 610.0, 840, 1091.0, 445, 87.0, 599, 355.0, 351.0, 1202, 168.0, 766.0, 1406.0, 1389, 826, 1586.0, 1064.0, 537.0, 511.0, 591.0, 819, 347.0, 794.0, 339.0, 840, 83.0, 136.0, 42.0, 203.0, 256.0, 1549.0, 992.0, 1596, 861, 411.0, 197.0, 1140.0, 520.0, 696.0, 1385.0, 1238.0, 1056.0, 299.0, 699.0, 571.0, 1495.0, 241.0, 1450.0, 173.0, 1537.0, 569.0, 681.0, 975.0, 947.0, 292.0, 652.0, 773.0, 134.0, 157.0, 512, 847, 1392.0, 524.5041436843038, 222.0, 1177.0, 1362.0, 753.0, 829, 169.0, 514.0, 1020.0, 600.0, 187.0, 296, 1590.0, 925.0, 593.0, 606.0, 1454.0, 799.0, 336.0, 428.0, 1294.0, 1251.0, 906, 637.0, 1237.0, 115, 649.0, 302.0, 1034.0, 1061.0, 818, 959.0, 987.0, 1083.0, 987.0, 1139.0, 1093.0, 972.0, 1154.0, 1178.0, 450, 1313.0, 630.0, 1133.0, 732.0, 201.0, 459, 677.0, 246.0, 1530.0, 196.0, 1067.0, 1024, 209.0, 231.0, 845, 630.0, 1118.0, 812, 812, 912, 912, 0, 0, 1600.0, 1600.0, 0, 0, 1600.0, 1600.0, 465, 465, 556, 556], \"y\": [200.0, 600.0, 1000.0, 1400.0, 200.0, 600.0, 1000.0, 1400.0, 200.0, 600.0, 1000.0, 1400.0, 200.0, 600.0, 1000.0, 1400.0, 533.0, 584.0, 1293.0, 1003.0, 796.0, 293, 758.0, 796.0, 968.0, 298, 1205.0, 420.0, 556.0, 656.0, 506.0, 148, 920.0, 662.0, 1035.0, 276, 960.0, 236.0, 1158.0, 504.0, 735, 375.0, 628.0, 1175.0, 831.0, 871.0, 1575.0, 1204, 1129.0, 853.0, 1099.0, 128, 1294.0, 518.0, 121, 1059.0, 538.0, 808.0, 905.0, 637.0, 512.0, 169, 291, 920.0, 716.0, 654.0, 941.0, 939.0, 556.0, 154, 1205.0, 1588.0, 1462.0, 750.0, 77.0, 1436.0, 1064.0, 1504.0, 1197.0, 154, 1074.0, 332, 857.0, 445.0, 973, 15.0, 1120.0, 1060.0, 938.0, 941.0, 1061.0, 815.0, 878, 1304.0, 782.0, 810, 723, 683.0, 638, 360.0, 138, 686.0, 277, 605.0, 1597.0, 117, 942.0, 1030.0, 615.0, 133, 1559.0, 1047.0, 801.0, 1096.0, 826.0, 963.0, 590, 974.0, 551.0, 572.0, 179, 903.0, 1083.0, 511.0, 1567.0, 474.0, 702.0, 1550.0, 287, 334, 32.0, 211.0, 577.0, 951.0, 1240.0, 597.0, 1189.0, 993.0, 1507.0, 538.0, 1450.0, 414.0, 596.0, 526.0, 1234.0, 960.0, 635.0, 1092.0, 857.0, 913.0, 1439.0, 725.0, 804.0, 1001.0, 745.0, 150, 0, 848.0, 223.33353439038484, 632.0, 381.0, 849.0, 1247.0, 1282, 1469.0, 898.0, 662.0, 674.0, 1419.0, 172, 1458.0, 543.0, 1070.0, 1345.0, 68.0, 549.0, 687.0, 1332.0, 578.0, 1153.0, 657, 535.0, 216.0, 101, 1450.0, 1259.0, 1088.0, 995.0, 774, 677.0, 1463.0, 1160.0, 800.0, 437.0, 819.0, 635.0, 436.0, 757.0, 268, 861.0, 1382.0, 1462.0, 778.0, 741.0, 139, 884.0, 943.0, 1119.0, 915.0, 529.0, 145, 1257.0, 1593.0, 1226, 629.0, 911.0, 0, 1600.0, 1600.0, 0, 257, 357, 357, 257, 85, 185, 185, 85, 80, 260, 260, 80], \"mode\": \"markers\", \"marker\": {\"size\": 8, \"color\": [\"orange\", \"orange\", \"orange\", \"orange\", \"orange\", \"orange\", \"orange\", \"orange\", \"orange\", \"orange\", \"orange\", \"orange\", \"orange\", \"orange\", \"orange\", \"orange\", \"blue\", \"magenta\", \"magenta\", \"blue\", \"magenta\", \"magenta\", \"magenta\", \"blue\", \"magenta\", \"magenta\", \"magenta\", \"magenta\", \"blue\", \"magenta\", \"blue\", \"magenta\", \"blue\", \"blue\", \"blue\", \"magenta\", \"blue\", \"magenta\", \"magenta\", \"magenta\", \"magenta\", \"magenta\", \"blue\", \"magenta\", \"blue\", \"magenta\", \"magenta\", \"magenta\", \"magenta\", \"blue\", \"blue\", \"magenta\", \"magenta\", \"magenta\", \"magenta\", \"magenta\", \"blue\", \"magenta\", \"magenta\", \"blue\", \"blue\", \"magenta\", \"magenta\", \"magenta\", \"magenta\", \"magenta\", \"blue\", \"blue\", \"magenta\", \"magenta\", \"magenta\", \"magenta\", \"magenta\", \"magenta\", \"magenta\", \"magenta\", \"magenta\", \"magenta\", \"magenta\", \"magenta\", \"magenta\", \"magenta\", \"blue\", \"magenta\", \"blue\", \"magenta\", \"magenta\", \"magenta\", \"blue\", \"magenta\", \"magenta\", \"magenta\", \"blue\", \"magenta\", \"magenta\", \"blue\", \"blue\", \"blue\", \"blue\", \"magenta\", \"magenta\", \"magenta\", \"magenta\", \"magenta\", \"magenta\", \"magenta\", \"magenta\", \"blue\", \"magenta\", \"magenta\", \"magenta\", \"magenta\", \"magenta\", \"blue\", \"magenta\", \"blue\", \"magenta\", \"magenta\", \"blue\", \"magenta\", \"magenta\", \"magenta\", \"magenta\", \"magenta\", \"magenta\", \"magenta\", \"magenta\", \"magenta\", \"magenta\", \"magenta\", \"magenta\", \"magenta\", \"magenta\", \"blue\", \"magenta\", \"magenta\", \"magenta\", \"blue\", \"magenta\", \"magenta\", \"magenta\", \"magenta\", \"magenta\", \"magenta\", \"magenta\", \"magenta\", \"blue\", \"blue\", \"magenta\", \"magenta\", \"magenta\", \"blue\", \"magenta\", \"magenta\", \"magenta\", \"magenta\", \"magenta\", \"magenta\", \"magenta\", \"magenta\", \"magenta\", \"magenta\", \"magenta\", \"magenta\", \"magenta\", \"blue\", \"blue\", \"magenta\", \"magenta\", \"magenta\", \"magenta\", \"magenta\", \"magenta\", \"magenta\", \"magenta\", \"blue\", \"magenta\", \"magenta\", \"magenta\", \"magenta\", \"blue\", \"blue\", \"magenta\", \"magenta\", \"magenta\", \"magenta\", \"magenta\", \"blue\", \"blue\", \"blue\", \"magenta\", \"magenta\", \"magenta\", \"magenta\", \"blue\", \"blue\", \"magenta\", \"magenta\", \"magenta\", \"magenta\", \"magenta\", \"magenta\", \"magenta\", \"magenta\", \"magenta\", \"blue\", \"magenta\", \"magenta\", \"magenta\", \"magenta\", \"magenta\", \"magenta\", \"magenta\", \"magenta\", \"blue\", \"magenta\", \"black\", \"black\", \"black\", \"black\", \"black\", \"black\", \"black\", \"black\", \"black\", \"black\", \"black\", \"black\", \"black\", \"black\", \"black\", \"black\"]}}]}, {\"data\": [{\"type\": \"scatter\", \"x\": [600.0, 953.0], \"y\": [600.0, 534.0], \"mode\": \"lines\", \"line\": {\"width\": 2, \"color\": \"red\"}}, {\"type\": \"scatter\", \"x\": [1000.0, 1165.0], \"y\": [600.0, 585.0], \"mode\": \"lines\", \"line\": {\"width\": 2, \"color\": \"green\"}}, {\"type\": \"scatter\", \"x\": [1000.0, 1174.0], \"y\": [1400.0, 1293.0], \"mode\": \"lines\", \"line\": {\"width\": 2, \"color\": \"green\"}}, {\"type\": \"scatter\", \"x\": [1000.0, 1042.0], \"y\": [1000.0, 1001.0], \"mode\": \"lines\", \"line\": {\"width\": 2, \"color\": \"red\"}}, {\"type\": \"scatter\", \"x\": [1400.0, 1383.0], \"y\": [600.0, 794.0], \"mode\": \"lines\", \"line\": {\"width\": 2, \"color\": \"green\"}}, {\"type\": \"scatter\", \"x\": [600.0, 317], \"y\": [200.0, 293], \"mode\": \"lines\", \"line\": {\"width\": 2, \"color\": \"green\"}}, {\"type\": \"scatter\", \"x\": [200.0, 16.0], \"y\": [1000.0, 760.0], \"mode\": \"lines\", \"line\": {\"width\": 2, \"color\": \"green\"}}, {\"type\": \"scatter\", \"x\": [1000.0, 601.0], \"y\": [600.0, 796.0], \"mode\": \"lines\", \"line\": {\"width\": 2, \"color\": \"red\"}}, {\"type\": \"scatter\", \"x\": [1000.0, 707.0], \"y\": [1000.0, 968.0], \"mode\": \"lines\", \"line\": {\"width\": 2, \"color\": \"green\"}}, {\"type\": \"scatter\", \"x\": [1400.0, 1556], \"y\": [200.0, 298], \"mode\": \"lines\", \"line\": {\"width\": 2, \"color\": \"green\"}}, {\"type\": \"scatter\", \"x\": [600.0, 591.0], \"y\": [1400.0, 1207.0], \"mode\": \"lines\", \"line\": {\"width\": 2, \"color\": \"green\"}}, {\"type\": \"scatter\", \"x\": [1400.0, 1296.0], \"y\": [600.0, 421.0], \"mode\": \"lines\", \"line\": {\"width\": 2, \"color\": \"green\"}}, {\"type\": \"scatter\", \"x\": [200.0, 526.0], \"y\": [600.0, 557.0], \"mode\": \"lines\", \"line\": {\"width\": 2, \"color\": \"red\"}}, {\"type\": \"scatter\", \"x\": [1400.0, 1444.0], \"y\": [1000.0, 655.0], \"mode\": \"lines\", \"line\": {\"width\": 2, \"color\": \"green\"}}, {\"type\": \"scatter\", \"x\": [600.0, 603.0], \"y\": [200.0, 505.0], \"mode\": \"lines\", \"line\": {\"width\": 2, \"color\": \"red\"}}, {\"type\": \"scatter\", \"x\": [1400.0, 1592], \"y\": [200.0, 148], \"mode\": \"lines\", \"line\": {\"width\": 2, \"color\": \"green\"}}, {\"type\": \"scatter\", \"x\": [1000.0, 959.0], \"y\": [600.0, 919.0], \"mode\": \"lines\", \"line\": {\"width\": 2, \"color\": \"red\"}}, {\"type\": \"scatter\", \"x\": [600.0, 751.0], \"y\": [600.0, 662.0], \"mode\": \"lines\", \"line\": {\"width\": 2, \"color\": \"red\"}}, {\"type\": \"scatter\", \"x\": [1000.0, 695.0], \"y\": [1000.0, 1036.0], \"mode\": \"lines\", \"line\": {\"width\": 2, \"color\": \"red\"}}, {\"type\": \"scatter\", \"x\": [600.0, 582], \"y\": [200.0, 276], \"mode\": \"lines\", \"line\": {\"width\": 2, \"color\": \"green\"}}, {\"type\": \"scatter\", \"x\": [1000.0, 701.0], \"y\": [1000.0, 961.0], \"mode\": \"lines\", \"line\": {\"width\": 2, \"color\": \"red\"}}, {\"type\": \"scatter\", \"x\": [200.0, 371.0], \"y\": [200.0, 234.0], \"mode\": \"lines\", \"line\": {\"width\": 2, \"color\": \"green\"}}, {\"type\": \"scatter\", \"x\": [1000.0, 923.0], \"y\": [1000.0, 1160.0], \"mode\": \"lines\", \"line\": {\"width\": 2, \"color\": \"green\"}}, {\"type\": \"scatter\", \"x\": [200.0, 33.0], \"y\": [600.0, 505.0], \"mode\": \"lines\", \"line\": {\"width\": 2, \"color\": \"green\"}}, {\"type\": \"scatter\", \"x\": [1000.0, 861], \"y\": [1000.0, 685], \"mode\": \"lines\", \"line\": {\"width\": 2, \"color\": \"green\"}}, {\"type\": \"scatter\", \"x\": [1400.0, 1030.0], \"y\": [600.0, 376.0], \"mode\": \"lines\", \"line\": {\"width\": 2, \"color\": \"green\"}}, {\"type\": \"scatter\", \"x\": [1000.0, 942.0], \"y\": [600.0, 626.0], \"mode\": \"lines\", \"line\": {\"width\": 2, \"color\": \"red\"}}, {\"type\": \"scatter\", \"x\": [1400.0, 1596.0], \"y\": [1000.0, 1173.0], \"mode\": \"lines\", \"line\": {\"width\": 2, \"color\": \"green\"}}, {\"type\": \"scatter\", \"x\": [600.0, 669.0], \"y\": [600.0, 833.0], \"mode\": \"lines\", \"line\": {\"width\": 2, \"color\": \"red\"}}, {\"type\": \"scatter\", \"x\": [200.0, 271.0], \"y\": [1000.0, 873.0], \"mode\": \"lines\", \"line\": {\"width\": 2, \"color\": \"green\"}}, {\"type\": \"scatter\", \"x\": [1400.0, 1028.0], \"y\": [1400.0, 1577.0], \"mode\": \"lines\", \"line\": {\"width\": 2, \"color\": \"green\"}}, {\"type\": \"scatter\", \"x\": [1000.0, 896], \"y\": [1400.0, 1171], \"mode\": \"lines\", \"line\": {\"width\": 2, \"color\": \"green\"}}, {\"type\": \"scatter\", \"x\": [1400.0, 1526.0], \"y\": [1000.0, 1127.0], \"mode\": \"lines\", \"line\": {\"width\": 2, \"color\": \"green\"}}, {\"type\": \"scatter\", \"x\": [1000.0, 1070.0], \"y\": [600.0, 854.0], \"mode\": \"lines\", \"line\": {\"width\": 2, \"color\": \"red\"}}, {\"type\": \"scatter\", \"x\": [200.0, 582.0], \"y\": [1400.0, 1098.0], \"mode\": \"lines\", \"line\": {\"width\": 2, \"color\": \"green\"}}, {\"type\": \"scatter\", \"x\": [200.0, 238], \"y\": [200.0, 128], \"mode\": \"lines\", \"line\": {\"width\": 2, \"color\": \"green\"}}, {\"type\": \"scatter\", \"x\": [1400.0, 1491.0], \"y\": [1400.0, 1296.0], \"mode\": \"lines\", \"line\": {\"width\": 2, \"color\": \"green\"}}, {\"type\": \"scatter\", \"x\": [1000.0, 1123.0], \"y\": [600.0, 520.0], \"mode\": \"lines\", \"line\": {\"width\": 2, \"color\": \"green\"}}, {\"type\": \"scatter\", \"x\": [600.0, 586], \"y\": [200.0, 121], \"mode\": \"lines\", \"line\": {\"width\": 2, \"color\": \"green\"}}, {\"type\": \"scatter\", \"x\": [1400.0, 1102.0], \"y\": [1400.0, 1057.0], \"mode\": \"lines\", \"line\": {\"width\": 2, \"color\": \"green\"}}, {\"type\": \"scatter\", \"x\": [600.0, 698.0], \"y\": [200.0, 536.0], \"mode\": \"lines\", \"line\": {\"width\": 2, \"color\": \"red\"}}, {\"type\": \"scatter\", \"x\": [1400.0, 1503.0], \"y\": [600.0, 808.0], \"mode\": \"lines\", \"line\": {\"width\": 2, \"color\": \"green\"}}, {\"type\": \"scatter\", \"x\": [1000.0, 965.0], \"y\": [1000.0, 903.0], \"mode\": \"lines\", \"line\": {\"width\": 2, \"color\": \"green\"}}, {\"type\": \"scatter\", \"x\": [1000.0, 922.0], \"y\": [600.0, 635.0], \"mode\": \"lines\", \"line\": {\"width\": 2, \"color\": \"red\"}}, {\"type\": \"scatter\", \"x\": [200.0, 591.0], \"y\": [600.0, 512.0], \"mode\": \"lines\", \"line\": {\"width\": 2, \"color\": \"red\"}}, {\"type\": \"scatter\", \"x\": [200.0, 305], \"y\": [200.0, 169], \"mode\": \"lines\", \"line\": {\"width\": 2, \"color\": \"green\"}}, {\"type\": \"scatter\", \"x\": [1400.0, 1198], \"y\": [200.0, 291], \"mode\": \"lines\", \"line\": {\"width\": 2, \"color\": \"green\"}}, {\"type\": \"scatter\", \"x\": [200.0, 48.0], \"y\": [1000.0, 920.0], \"mode\": \"lines\", \"line\": {\"width\": 2, \"color\": \"green\"}}, {\"type\": \"scatter\", \"x\": [200.0, 48.0], \"y\": [1000.0, 714.0], \"mode\": \"lines\", \"line\": {\"width\": 2, \"color\": \"green\"}}, {\"type\": \"scatter\", \"x\": [1000.0, 1051.0], \"y\": [1000.0, 655.0], \"mode\": \"lines\", \"line\": {\"width\": 2, \"color\": \"green\"}}, {\"type\": \"scatter\", \"x\": [1000.0, 654.0], \"y\": [1000.0, 939.0], \"mode\": \"lines\", \"line\": {\"width\": 2, \"color\": \"red\"}}, {\"type\": \"scatter\", \"x\": [1000.0, 682.0], \"y\": [1000.0, 937.0], \"mode\": \"lines\", \"line\": {\"width\": 2, \"color\": \"red\"}}, {\"type\": \"scatter\", \"x\": [200.0, 203.0], \"y\": [600.0, 558.0], \"mode\": \"lines\", \"line\": {\"width\": 2, \"color\": \"green\"}}, {\"type\": \"scatter\", \"x\": [600.0, 87], \"y\": [200.0, 154], \"mode\": \"lines\", \"line\": {\"width\": 2, \"color\": \"green\"}}, {\"type\": \"scatter\", \"x\": [600.0, 660.0], \"y\": [1400.0, 1204.0], \"mode\": \"lines\", \"line\": {\"width\": 2, \"color\": \"green\"}}, {\"type\": \"scatter\", \"x\": [1000.0, 1032.0], \"y\": [1400.0, 1588.0], \"mode\": \"lines\", \"line\": {\"width\": 2, \"color\": \"green\"}}, {\"type\": \"scatter\", \"x\": [1000.0, 1154.0], \"y\": [1400.0, 1462.0], \"mode\": \"lines\", \"line\": {\"width\": 2, \"color\": \"green\"}}, {\"type\": \"scatter\", \"x\": [1000.0, 923.0], \"y\": [1000.0, 751.0], \"mode\": \"lines\", \"line\": {\"width\": 2, \"color\": \"green\"}}, {\"type\": \"scatter\", \"x\": [600.0, 746.0], \"y\": [200.0, 79.0], \"mode\": \"lines\", \"line\": {\"width\": 2, \"color\": \"green\"}}, {\"type\": \"scatter\", \"x\": [1000.0, 1194.0], \"y\": [1400.0, 1436.0], \"mode\": \"lines\", \"line\": {\"width\": 2, \"color\": \"green\"}}, {\"type\": \"scatter\", \"x\": [1000.0, 1105.0], \"y\": [1000.0, 1065.0], \"mode\": \"lines\", \"line\": {\"width\": 2, \"color\": \"green\"}}, {\"type\": \"scatter\", \"x\": [600.0, 940.0], \"y\": [1400.0, 1502.0], \"mode\": \"lines\", \"line\": {\"width\": 2, \"color\": \"green\"}}, {\"type\": \"scatter\", \"x\": [600.0, 619.0], \"y\": [1400.0, 1196.0], \"mode\": \"lines\", \"line\": {\"width\": 2, \"color\": \"green\"}}, {\"type\": \"scatter\", \"x\": [600.0, 783], \"y\": [200.0, 154], \"mode\": \"lines\", \"line\": {\"width\": 2, \"color\": \"green\"}}, {\"type\": \"scatter\", \"x\": [600.0, 671.0], \"y\": [1400.0, 1072.0], \"mode\": \"lines\", \"line\": {\"width\": 2, \"color\": \"green\"}}, {\"type\": \"scatter\", \"x\": [200.0, 244], \"y\": [600.0, 332], \"mode\": \"lines\", \"line\": {\"width\": 2, \"color\": \"green\"}}, {\"type\": \"scatter\", \"x\": [600.0, 545.0], \"y\": [1000.0, 857.0], \"mode\": \"lines\", \"line\": {\"width\": 2, \"color\": \"green\"}}, {\"type\": \"scatter\", \"x\": [200.0, 119.0], \"y\": [600.0, 446.0], \"mode\": \"lines\", \"line\": {\"width\": 2, \"color\": \"green\"}}, {\"type\": \"scatter\", \"x\": [1000.0, 897], \"y\": [1000.0, 999], \"mode\": \"lines\", \"line\": {\"width\": 2, \"color\": \"red\"}}, {\"type\": \"scatter\", \"x\": [1400.0, 1487.0], \"y\": [200.0, 13.0], \"mode\": \"lines\", \"line\": {\"width\": 2, \"color\": \"green\"}}, {\"type\": \"scatter\", \"x\": [1000.0, 801.0], \"y\": [1000.0, 1120.0], \"mode\": \"lines\", \"line\": {\"width\": 2, \"color\": \"green\"}}, {\"type\": \"scatter\", \"x\": [1400.0, 1184.0], \"y\": [1000.0, 1058.0], \"mode\": \"lines\", \"line\": {\"width\": 2, \"color\": \"green\"}}, {\"type\": \"scatter\", \"x\": [600.0, 613.0], \"y\": [1000.0, 938.0], \"mode\": \"lines\", \"line\": {\"width\": 2, \"color\": \"green\"}}, {\"type\": \"scatter\", \"x\": [1400.0, 1170.0], \"y\": [1000.0, 942.0], \"mode\": \"lines\", \"line\": {\"width\": 2, \"color\": \"green\"}}, {\"type\": \"scatter\", \"x\": [200.0, 274.0], \"y\": [1000.0, 1063.0], \"mode\": \"lines\", \"line\": {\"width\": 2, \"color\": \"green\"}}, {\"type\": \"scatter\", \"x\": [600.0, 540.0], \"y\": [600.0, 817.0], \"mode\": \"lines\", \"line\": {\"width\": 2, \"color\": \"green\"}}, {\"type\": \"scatter\", \"x\": [1000.0, 816], \"y\": [1000.0, 834], \"mode\": \"lines\", \"line\": {\"width\": 2, \"color\": \"red\"}}, {\"type\": \"scatter\", \"x\": [1400.0, 1377.0], \"y\": [1400.0, 1304.0], \"mode\": \"lines\", \"line\": {\"width\": 2, \"color\": \"green\"}}, {\"type\": \"scatter\", \"x\": [600.0, 625.0], \"y\": [1000.0, 784.0], \"mode\": \"lines\", \"line\": {\"width\": 2, \"color\": \"green\"}}, {\"type\": \"scatter\", \"x\": [1000.0, 836], \"y\": [1000.0, 832], \"mode\": \"lines\", \"line\": {\"width\": 2, \"color\": \"red\"}}, {\"type\": \"scatter\", \"x\": [1000.0, 851], \"y\": [1000.0, 693], \"mode\": \"lines\", \"line\": {\"width\": 2, \"color\": \"red\"}}, {\"type\": \"scatter\", \"x\": [600.0, 608.0], \"y\": [600.0, 684.0], \"mode\": \"lines\", \"line\": {\"width\": 2, \"color\": \"red\"}}, {\"type\": \"scatter\", \"x\": [600.0, 840], \"y\": [600.0, 596], \"mode\": \"lines\", \"line\": {\"width\": 2, \"color\": \"red\"}}, {\"type\": \"scatter\", \"x\": [1000.0, 1091.0], \"y\": [200.0, 358.0], \"mode\": \"lines\", \"line\": {\"width\": 2, \"color\": \"green\"}}, {\"type\": \"scatter\", \"x\": [200.0, 488], \"y\": [200.0, 138], \"mode\": \"lines\", \"line\": {\"width\": 2, \"color\": \"green\"}}, {\"type\": \"scatter\", \"x\": [200.0, 85.0], \"y\": [600.0, 687.0], \"mode\": \"lines\", \"line\": {\"width\": 2, \"color\": \"green\"}}, {\"type\": \"scatter\", \"x\": [600.0, 634], \"y\": [200.0, 277], \"mode\": \"lines\", \"line\": {\"width\": 2, \"color\": \"green\"}}, {\"type\": \"scatter\", \"x\": [200.0, 354.0], \"y\": [600.0, 607.0], \"mode\": \"lines\", \"line\": {\"width\": 2, \"color\": \"green\"}}, {\"type\": \"scatter\", \"x\": [200.0, 350.0], \"y\": [1400.0, 1599.0], \"mode\": \"lines\", \"line\": {\"width\": 2, \"color\": \"green\"}}, {\"type\": \"scatter\", \"x\": [1000.0, 1234], \"y\": [200.0, 117], \"mode\": \"lines\", \"line\": {\"width\": 2, \"color\": \"green\"}}, {\"type\": \"scatter\", \"x\": [200.0, 170.0], \"y\": [600.0, 943.0], \"mode\": \"lines\", \"line\": {\"width\": 2, \"color\": \"green\"}}, {\"type\": \"scatter\", \"x\": [1000.0, 768.0], \"y\": [1000.0, 1029.0], \"mode\": \"lines\", \"line\": {\"width\": 2, \"color\": \"red\"}}, {\"type\": \"scatter\", \"x\": [1400.0, 1405.0], \"y\": [1000.0, 613.0], \"mode\": \"lines\", \"line\": {\"width\": 2, \"color\": \"green\"}}, {\"type\": \"scatter\", \"x\": [1400.0, 1337], \"y\": [200.0, 133], \"mode\": \"lines\", \"line\": {\"width\": 2, \"color\": \"green\"}}, {\"type\": \"scatter\", \"x\": [1000.0, 826], \"y\": [1400.0, 1524.0], \"mode\": \"lines\", \"line\": {\"width\": 2, \"color\": \"green\"}}, {\"type\": \"scatter\", \"x\": [1400.0, 1585.0], \"y\": [1400.0, 1046.0], \"mode\": \"lines\", \"line\": {\"width\": 2, \"color\": \"green\"}}, {\"type\": \"scatter\", \"x\": [1000.0, 1062.0], \"y\": [600.0, 801.0], \"mode\": \"lines\", \"line\": {\"width\": 2, \"color\": \"green\"}}, {\"type\": \"scatter\", \"x\": [600.0, 539.0], \"y\": [1400.0, 1096.0], \"mode\": \"lines\", \"line\": {\"width\": 2, \"color\": \"red\"}}, {\"type\": \"scatter\", \"x\": [200.0, 513.0], \"y\": [600.0, 827.0], \"mode\": \"lines\", \"line\": {\"width\": 2, \"color\": \"green\"}}, {\"type\": \"scatter\", \"x\": [600.0, 589.0], \"y\": [1000.0, 963.0], \"mode\": \"lines\", \"line\": {\"width\": 2, \"color\": \"green\"}}, {\"type\": \"scatter\", \"x\": [600.0, 819], \"y\": [600.0, 640], \"mode\": \"lines\", \"line\": {\"width\": 2, \"color\": \"green\"}}, {\"type\": \"scatter\", \"x\": [200.0, 347.0], \"y\": [1000.0, 972.0], \"mode\": \"lines\", \"line\": {\"width\": 2, \"color\": \"green\"}}, {\"type\": \"scatter\", \"x\": [600.0, 796.0], \"y\": [600.0, 550.0], \"mode\": \"lines\", \"line\": {\"width\": 2, \"color\": \"red\"}}, {\"type\": \"scatter\", \"x\": [200.0, 337.0], \"y\": [600.0, 571.0], \"mode\": \"lines\", \"line\": {\"width\": 2, \"color\": \"green\"}}, {\"type\": \"scatter\", \"x\": [1000.0, 791], \"y\": [200.0, 179], \"mode\": \"lines\", \"line\": {\"width\": 2, \"color\": \"green\"}}, {\"type\": \"scatter\", \"x\": [200.0, 85.0], \"y\": [600.0, 902.0], \"mode\": \"lines\", \"line\": {\"width\": 2, \"color\": \"green\"}}, {\"type\": \"scatter\", \"x\": [200.0, 136.0], \"y\": [1000.0, 1085.0], \"mode\": \"lines\", \"line\": {\"width\": 2, \"color\": \"green\"}}, {\"type\": \"scatter\", \"x\": [200.0, 41.0], \"y\": [600.0, 513.0], \"mode\": \"lines\", \"line\": {\"width\": 2, \"color\": \"green\"}}, {\"type\": \"scatter\", \"x\": [200.0, 204.0], \"y\": [1400.0, 1566.0], \"mode\": \"lines\", \"line\": {\"width\": 2, \"color\": \"green\"}}, {\"type\": \"scatter\", \"x\": [200.0, 258.0], \"y\": [600.0, 473.0], \"mode\": \"lines\", \"line\": {\"width\": 2, \"color\": \"green\"}}, {\"type\": \"scatter\", \"x\": [1400.0, 1551.0], \"y\": [600.0, 703.0], \"mode\": \"lines\", \"line\": {\"width\": 2, \"color\": \"green\"}}, {\"type\": \"scatter\", \"x\": [1000.0, 993.0], \"y\": [1400.0, 1548.0], \"mode\": \"lines\", \"line\": {\"width\": 2, \"color\": \"green\"}}, {\"type\": \"scatter\", \"x\": [1400.0, 1599.0], \"y\": [200.0, 287], \"mode\": \"lines\", \"line\": {\"width\": 2, \"color\": \"green\"}}, {\"type\": \"scatter\", \"x\": [600.0, 909], \"y\": [200.0, 334], \"mode\": \"lines\", \"line\": {\"width\": 2, \"color\": \"green\"}}, {\"type\": \"scatter\", \"x\": [600.0, 409.0], \"y\": [200.0, 33.0], \"mode\": \"lines\", \"line\": {\"width\": 2, \"color\": \"green\"}}, {\"type\": \"scatter\", \"x\": [200.0, 199.0], \"y\": [200.0, 212.0], \"mode\": \"lines\", \"line\": {\"width\": 2, \"color\": \"green\"}}, {\"type\": \"scatter\", \"x\": [1400.0, 1142.0], \"y\": [600.0, 576.0], \"mode\": \"lines\", \"line\": {\"width\": 2, \"color\": \"green\"}}, {\"type\": \"scatter\", \"x\": [600.0, 521.0], \"y\": [1000.0, 949.0], \"mode\": \"lines\", \"line\": {\"width\": 2, \"color\": \"green\"}}, {\"type\": \"scatter\", \"x\": [600.0, 697.0], \"y\": [1400.0, 1242.0], \"mode\": \"lines\", \"line\": {\"width\": 2, \"color\": \"green\"}}, {\"type\": \"scatter\", \"x\": [1400.0, 1384.0], \"y\": [600.0, 599.0], \"mode\": \"lines\", \"line\": {\"width\": 2, \"color\": \"green\"}}, {\"type\": \"scatter\", \"x\": [1400.0, 1236.0], \"y\": [1000.0, 1188.0], \"mode\": \"lines\", \"line\": {\"width\": 2, \"color\": \"green\"}}, {\"type\": \"scatter\", \"x\": [1400.0, 1056.0], \"y\": [1000.0, 991.0], \"mode\": \"lines\", \"line\": {\"width\": 2, \"color\": \"red\"}}, {\"type\": \"scatter\", \"x\": [200.0, 297.0], \"y\": [1400.0, 1506.0], \"mode\": \"lines\", \"line\": {\"width\": 2, \"color\": \"green\"}}, {\"type\": \"scatter\", \"x\": [600.0, 701.0], \"y\": [600.0, 538.0], \"mode\": \"lines\", \"line\": {\"width\": 2, \"color\": \"green\"}}, {\"type\": \"scatter\", \"x\": [600.0, 573.0], \"y\": [1400.0, 1450.0], \"mode\": \"lines\", \"line\": {\"width\": 2, \"color\": \"green\"}}, {\"type\": \"scatter\", \"x\": [1400.0, 1495.0], \"y\": [600.0, 412.0], \"mode\": \"lines\", \"line\": {\"width\": 2, \"color\": \"green\"}}, {\"type\": \"scatter\", \"x\": [200.0, 243.0], \"y\": [600.0, 595.0], \"mode\": \"lines\", \"line\": {\"width\": 2, \"color\": \"green\"}}, {\"type\": \"scatter\", \"x\": [1400.0, 1450.0], \"y\": [600.0, 524.0], \"mode\": \"lines\", \"line\": {\"width\": 2, \"color\": \"green\"}}, {\"type\": \"scatter\", \"x\": [200.0, 172.0], \"y\": [1400.0, 1236.0], \"mode\": \"lines\", \"line\": {\"width\": 2, \"color\": \"green\"}}, {\"type\": \"scatter\", \"x\": [1400.0, 1539.0], \"y\": [1000.0, 960.0], \"mode\": \"lines\", \"line\": {\"width\": 2, \"color\": \"green\"}}, {\"type\": \"scatter\", \"x\": [600.0, 571.0], \"y\": [1000.0, 634.0], \"mode\": \"lines\", \"line\": {\"width\": 2, \"color\": \"green\"}}, {\"type\": \"scatter\", \"x\": [600.0, 683.0], \"y\": [1400.0, 1092.0], \"mode\": \"lines\", \"line\": {\"width\": 2, \"color\": \"red\"}}, {\"type\": \"scatter\", \"x\": [1000.0, 976.0], \"y\": [600.0, 855.0], \"mode\": \"lines\", \"line\": {\"width\": 2, \"color\": \"green\"}}, {\"type\": \"scatter\", \"x\": [1000.0, 948.0], \"y\": [1000.0, 912.0], \"mode\": \"lines\", \"line\": {\"width\": 2, \"color\": \"green\"}}, {\"type\": \"scatter\", \"x\": [200.0, 291.0], \"y\": [1400.0, 1440.0], \"mode\": \"lines\", \"line\": {\"width\": 2, \"color\": \"green\"}}, {\"type\": \"scatter\", \"x\": [600.0, 653.0], \"y\": [1000.0, 723.0], \"mode\": \"lines\", \"line\": {\"width\": 2, \"color\": \"green\"}}, {\"type\": \"scatter\", \"x\": [600.0, 774.0], \"y\": [1000.0, 802.0], \"mode\": \"lines\", \"line\": {\"width\": 2, \"color\": \"green\"}}, {\"type\": \"scatter\", \"x\": [200.0, 134.0], \"y\": [1000.0, 1003.0], \"mode\": \"lines\", \"line\": {\"width\": 2, \"color\": \"green\"}}, {\"type\": \"scatter\", \"x\": [200.0, 156.0], \"y\": [600.0, 743.0], \"mode\": \"lines\", \"line\": {\"width\": 2, \"color\": \"green\"}}, {\"type\": \"scatter\", \"x\": [600.0, 466], \"y\": [200.0, 150], \"mode\": \"lines\", \"line\": {\"width\": 2, \"color\": \"green\"}}, {\"type\": \"scatter\", \"x\": [1000.0, 847], \"y\": [200.0, 22], \"mode\": \"lines\", \"line\": {\"width\": 2, \"color\": \"green\"}}, {\"type\": \"scatter\", \"x\": [1400.0, 1391.0], \"y\": [1000.0, 846.0], \"mode\": \"lines\", \"line\": {\"width\": 2, \"color\": \"green\"}}, {\"type\": \"scatter\", \"x\": [600.0, 525.014224639087], \"y\": [200.0, 224.19366078782156], \"mode\": \"lines\", \"line\": {\"width\": 2, \"color\": \"green\"}}, {\"type\": \"scatter\", \"x\": [200.0, 220.0], \"y\": [600.0, 632.0], \"mode\": \"lines\", \"line\": {\"width\": 2, \"color\": \"green\"}}, {\"type\": \"scatter\", \"x\": [1000.0, 1175.0], \"y\": [200.0, 380.0], \"mode\": \"lines\", \"line\": {\"width\": 2, \"color\": \"green\"}}, {\"type\": \"scatter\", \"x\": [1400.0, 1360.0], \"y\": [1000.0, 848.0], \"mode\": \"lines\", \"line\": {\"width\": 2, \"color\": \"green\"}}, {\"type\": \"scatter\", \"x\": [600.0, 754.0], \"y\": [1400.0, 1246.0], \"mode\": \"lines\", \"line\": {\"width\": 2, \"color\": \"green\"}}, {\"type\": \"scatter\", \"x\": [1000.0, 829], \"y\": [1000.0, 1230], \"mode\": \"lines\", \"line\": {\"width\": 2, \"color\": \"green\"}}, {\"type\": \"scatter\", \"x\": [200.0, 169.0], \"y\": [1400.0, 1467.0], \"mode\": \"lines\", \"line\": {\"width\": 2, \"color\": \"green\"}}, {\"type\": \"scatter\", \"x\": [600.0, 515.0], \"y\": [600.0, 899.0], \"mode\": \"lines\", \"line\": {\"width\": 2, \"color\": \"red\"}}, {\"type\": \"scatter\", \"x\": [1000.0, 1020.0], \"y\": [600.0, 664.0], \"mode\": \"lines\", \"line\": {\"width\": 2, \"color\": \"red\"}}, {\"type\": \"scatter\", \"x\": [600.0, 600.0], \"y\": [600.0, 672.0], \"mode\": \"lines\", \"line\": {\"width\": 2, \"color\": \"green\"}}, {\"type\": \"scatter\", \"x\": [200.0, 186.0], \"y\": [1400.0, 1418.0], \"mode\": \"lines\", \"line\": {\"width\": 2, \"color\": \"green\"}}, {\"type\": \"scatter\", \"x\": [200.0, 336], \"y\": [200.0, 172], \"mode\": \"lines\", \"line\": {\"width\": 2, \"color\": \"green\"}}, {\"type\": \"scatter\", \"x\": [1400.0, 1589.0], \"y\": [1400.0, 1460.0], \"mode\": \"lines\", \"line\": {\"width\": 2, \"color\": \"green\"}}, {\"type\": \"scatter\", \"x\": [1000.0, 927.0], \"y\": [600.0, 544.0], \"mode\": \"lines\", \"line\": {\"width\": 2, \"color\": \"green\"}}, {\"type\": \"scatter\", \"x\": [600.0, 593.0], \"y\": [1400.0, 1068.0], \"mode\": \"lines\", \"line\": {\"width\": 2, \"color\": \"green\"}}, {\"type\": \"scatter\", \"x\": [600.0, 605.0], \"y\": [1400.0, 1343.0], \"mode\": \"lines\", \"line\": {\"width\": 2, \"color\": \"green\"}}, {\"type\": \"scatter\", \"x\": [1400.0, 1453.0], \"y\": [200.0, 70.0], \"mode\": \"lines\", \"line\": {\"width\": 2, \"color\": \"green\"}}, {\"type\": \"scatter\", \"x\": [1000.0, 801.0], \"y\": [600.0, 550.0], \"mode\": \"lines\", \"line\": {\"width\": 2, \"color\": \"red\"}}, {\"type\": \"scatter\", \"x\": [200.0, 337.0], \"y\": [600.0, 689.0], \"mode\": \"lines\", \"line\": {\"width\": 2, \"color\": \"green\"}}, {\"type\": \"scatter\", \"x\": [600.0, 426.0], \"y\": [1400.0, 1331.0], \"mode\": \"lines\", \"line\": {\"width\": 2, \"color\": \"green\"}}, {\"type\": \"scatter\", \"x\": [1400.0, 1296.0], \"y\": [600.0, 578.0], \"mode\": \"lines\", \"line\": {\"width\": 2, \"color\": \"green\"}}, {\"type\": \"scatter\", \"x\": [1400.0, 1251.0], \"y\": [1000.0, 1151.0], \"mode\": \"lines\", \"line\": {\"width\": 2, \"color\": \"green\"}}, {\"type\": \"scatter\", \"x\": [600.0, 906], \"y\": [600.0, 693], \"mode\": \"lines\", \"line\": {\"width\": 2, \"color\": \"red\"}}, {\"type\": \"scatter\", \"x\": [600.0, 637.0], \"y\": [200.0, 533.0], \"mode\": \"lines\", \"line\": {\"width\": 2, \"color\": \"red\"}}, {\"type\": \"scatter\", \"x\": [1400.0, 1239.0], \"y\": [200.0, 217.0], \"mode\": \"lines\", \"line\": {\"width\": 2, \"color\": \"green\"}}, {\"type\": \"scatter\", \"x\": [200.0, 88], \"y\": [200.0, 101], \"mode\": \"lines\", \"line\": {\"width\": 2, \"color\": \"green\"}}, {\"type\": \"scatter\", \"x\": [1000.0, 647.0], \"y\": [1400.0, 1449.0], \"mode\": \"lines\", \"line\": {\"width\": 2, \"color\": \"green\"}}, {\"type\": \"scatter\", \"x\": [200.0, 300.0], \"y\": [1400.0, 1260.0], \"mode\": \"lines\", \"line\": {\"width\": 2, \"color\": \"green\"}}, {\"type\": \"scatter\", \"x\": [1400.0, 1033.0], \"y\": [1000.0, 1086.0], \"mode\": \"lines\", \"line\": {\"width\": 2, \"color\": \"green\"}}, {\"type\": \"scatter\", \"x\": [1000.0, 1062.0], \"y\": [1000.0, 996.0], \"mode\": \"lines\", \"line\": {\"width\": 2, \"color\": \"red\"}}, {\"type\": \"scatter\", \"x\": [1000.0, 818], \"y\": [1000.0, 741], \"mode\": \"lines\", \"line\": {\"width\": 2, \"color\": \"red\"}}, {\"type\": \"scatter\", \"x\": [1000.0, 957.0], \"y\": [1000.0, 677.0], \"mode\": \"lines\", \"line\": {\"width\": 2, \"color\": \"red\"}}, {\"type\": \"scatter\", \"x\": [1000.0, 989.0], \"y\": [1400.0, 1463.0], \"mode\": \"lines\", \"line\": {\"width\": 2, \"color\": \"green\"}}, {\"type\": \"scatter\", \"x\": [1400.0, 1085.0], \"y\": [1000.0, 1161.0], \"mode\": \"lines\", \"line\": {\"width\": 2, \"color\": \"green\"}}, {\"type\": \"scatter\", \"x\": [1000.0, 986.0], \"y\": [1000.0, 798.0], \"mode\": \"lines\", \"line\": {\"width\": 2, \"color\": \"green\"}}, {\"type\": \"scatter\", \"x\": [1000.0, 1139.0], \"y\": [200.0, 435.0], \"mode\": \"lines\", \"line\": {\"width\": 2, \"color\": \"green\"}}, {\"type\": \"scatter\", \"x\": [1000.0, 1091.0], \"y\": [1000.0, 819.0], \"mode\": \"lines\", \"line\": {\"width\": 2, \"color\": \"red\"}}, {\"type\": \"scatter\", \"x\": [1000.0, 971.0], \"y\": [1000.0, 636.0], \"mode\": \"lines\", \"line\": {\"width\": 2, \"color\": \"red\"}}, {\"type\": \"scatter\", \"x\": [1000.0, 1152.0], \"y\": [200.0, 436.0], \"mode\": \"lines\", \"line\": {\"width\": 2, \"color\": \"green\"}}, {\"type\": \"scatter\", \"x\": [1000.0, 1178.0], \"y\": [600.0, 755.0], \"mode\": \"lines\", \"line\": {\"width\": 2, \"color\": \"green\"}}, {\"type\": \"scatter\", \"x\": [600.0, 403], \"y\": [200.0, 268], \"mode\": \"lines\", \"line\": {\"width\": 2, \"color\": \"green\"}}, {\"type\": \"scatter\", \"x\": [1400.0, 1312.0], \"y\": [1000.0, 859.0], \"mode\": \"lines\", \"line\": {\"width\": 2, \"color\": \"green\"}}, {\"type\": \"scatter\", \"x\": [600.0, 629.0], \"y\": [1400.0, 1380.0], \"mode\": \"lines\", \"line\": {\"width\": 2, \"color\": \"green\"}}, {\"type\": \"scatter\", \"x\": [1000.0, 1135.0], \"y\": [1400.0, 1461.0], \"mode\": \"lines\", \"line\": {\"width\": 2, \"color\": \"green\"}}, {\"type\": \"scatter\", \"x\": [600.0, 730.0], \"y\": [600.0, 778.0], \"mode\": \"lines\", \"line\": {\"width\": 2, \"color\": \"green\"}}, {\"type\": \"scatter\", \"x\": [200.0, 202.0], \"y\": [600.0, 739.0], \"mode\": \"lines\", \"line\": {\"width\": 2, \"color\": \"green\"}}, {\"type\": \"scatter\", \"x\": [600.0, 420], \"y\": [200.0, 139], \"mode\": \"lines\", \"line\": {\"width\": 2, \"color\": \"green\"}}, {\"type\": \"scatter\", \"x\": [600.0, 675.0], \"y\": [600.0, 883.0], \"mode\": \"lines\", \"line\": {\"width\": 2, \"color\": \"red\"}}, {\"type\": \"scatter\", \"x\": [200.0, 248.0], \"y\": [1000.0, 943.0], \"mode\": \"lines\", \"line\": {\"width\": 2, \"color\": \"green\"}}, {\"type\": \"scatter\", \"x\": [1400.0, 1531.0], \"y\": [1000.0, 1117.0], \"mode\": \"lines\", \"line\": {\"width\": 2, \"color\": \"green\"}}, {\"type\": \"scatter\", \"x\": [200.0, 194.0], \"y\": [1000.0, 915.0], \"mode\": \"lines\", \"line\": {\"width\": 2, \"color\": \"green\"}}, {\"type\": \"scatter\", \"x\": [1000.0, 1066.0], \"y\": [600.0, 527.0], \"mode\": \"lines\", \"line\": {\"width\": 2, \"color\": \"green\"}}, {\"type\": \"scatter\", \"x\": [1000.0, 968], \"y\": [200.0, 145], \"mode\": \"lines\", \"line\": {\"width\": 2, \"color\": \"green\"}}, {\"type\": \"scatter\", \"x\": [200.0, 210.0], \"y\": [1400.0, 1255.0], \"mode\": \"lines\", \"line\": {\"width\": 2, \"color\": \"green\"}}, {\"type\": \"scatter\", \"x\": [200.0, 232.0], \"y\": [1400.0, 1595.0], \"mode\": \"lines\", \"line\": {\"width\": 2, \"color\": \"green\"}}, {\"type\": \"scatter\", \"x\": [1000.0, 845], \"y\": [1000.0, 1277], \"mode\": \"lines\", \"line\": {\"width\": 2, \"color\": \"green\"}}, {\"type\": \"scatter\", \"x\": [1000.0, 631.0], \"y\": [600.0, 631.0], \"mode\": \"lines\", \"line\": {\"width\": 2, \"color\": \"red\"}}, {\"type\": \"scatter\", \"x\": [1000.0, 1120.0], \"y\": [1000.0, 912.0], \"mode\": \"lines\", \"line\": {\"width\": 2, \"color\": \"green\"}}, {\"type\": \"scatter\", \"x\": [812, 812], \"y\": [0, 1600.0], \"mode\": \"lines\", \"line\": {\"width\": 2, \"color\": \"black\"}}, {\"type\": \"scatter\", \"x\": [812, 912], \"y\": [1600.0, 1600.0], \"mode\": \"lines\", \"line\": {\"width\": 2, \"color\": \"black\"}}, {\"type\": \"scatter\", \"x\": [912, 912], \"y\": [1600.0, 0], \"mode\": \"lines\", \"line\": {\"width\": 2, \"color\": \"black\"}}, {\"type\": \"scatter\", \"x\": [812, 912], \"y\": [0, 0], \"mode\": \"lines\", \"line\": {\"width\": 2, \"color\": \"black\"}}, {\"type\": \"scatter\", \"x\": [0, 0], \"y\": [257, 357], \"mode\": \"lines\", \"line\": {\"width\": 2, \"color\": \"black\"}}, {\"type\": \"scatter\", \"x\": [0, 1600.0], \"y\": [357, 357], \"mode\": \"lines\", \"line\": {\"width\": 2, \"color\": \"black\"}}, {\"type\": \"scatter\", \"x\": [1600.0, 1600.0], \"y\": [357, 257], \"mode\": \"lines\", \"line\": {\"width\": 2, \"color\": \"black\"}}, {\"type\": \"scatter\", \"x\": [0, 1600.0], \"y\": [257, 257], \"mode\": \"lines\", \"line\": {\"width\": 2, \"color\": \"black\"}}, {\"type\": \"scatter\", \"x\": [0, 0], \"y\": [85, 185], \"mode\": \"lines\", \"line\": {\"width\": 2, \"color\": \"black\"}}, {\"type\": \"scatter\", \"x\": [0, 1600.0], \"y\": [185, 185], \"mode\": \"lines\", \"line\": {\"width\": 2, \"color\": \"black\"}}, {\"type\": \"scatter\", \"x\": [1600.0, 1600.0], \"y\": [185, 85], \"mode\": \"lines\", \"line\": {\"width\": 2, \"color\": \"black\"}}, {\"type\": \"scatter\", \"x\": [0, 1600.0], \"y\": [85, 85], \"mode\": \"lines\", \"line\": {\"width\": 2, \"color\": \"black\"}}, {\"type\": \"scatter\", \"x\": [465, 465], \"y\": [80, 260], \"mode\": \"lines\", \"line\": {\"width\": 2, \"color\": \"black\"}}, {\"type\": \"scatter\", \"x\": [465, 556], \"y\": [260, 260], \"mode\": \"lines\", \"line\": {\"width\": 2, \"color\": \"black\"}}, {\"type\": \"scatter\", \"x\": [556, 556], \"y\": [260, 80], \"mode\": \"lines\", \"line\": {\"width\": 2, \"color\": \"black\"}}, {\"type\": \"scatter\", \"x\": [465, 556], \"y\": [80, 80], \"mode\": \"lines\", \"line\": {\"width\": 2, \"color\": \"black\"}}, {\"type\": \"scatter\", \"x\": [200.0, 200.0, 200.0, 200.0, 600.0, 600.0, 600.0, 600.0, 1000.0, 1000.0, 1000.0, 1000.0, 1400.0, 1400.0, 1400.0, 1400.0, 953.0, 1165.0, 1174.0, 1042.0, 1383.0, 317, 16.0, 601.0, 707.0, 1556, 591.0, 1296.0, 526.0, 1444.0, 603.0, 1592, 959.0, 751.0, 695.0, 582, 701.0, 371.0, 923.0, 33.0, 861, 1030.0, 942.0, 1596.0, 669.0, 271.0, 1028.0, 896, 1526.0, 1070.0, 582.0, 238, 1491.0, 1123.0, 586, 1102.0, 698.0, 1503.0, 965.0, 922.0, 591.0, 305, 1198, 48.0, 48.0, 1051.0, 654.0, 682.0, 203.0, 87, 660.0, 1032.0, 1154.0, 923.0, 746.0, 1194.0, 1105.0, 940.0, 619.0, 783, 671.0, 244, 545.0, 119.0, 897, 1487.0, 801.0, 1184.0, 613.0, 1170.0, 274.0, 540.0, 816, 1377.0, 625.0, 836, 851, 608.0, 840, 1091.0, 488, 85.0, 634, 354.0, 350.0, 1234, 170.0, 768.0, 1405.0, 1337, 826, 1585.0, 1062.0, 539.0, 513.0, 589.0, 819, 347.0, 796.0, 337.0, 791, 85.0, 136.0, 41.0, 204.0, 258.0, 1551.0, 993.0, 1599.0, 909, 409.0, 199.0, 1142.0, 521.0, 697.0, 1384.0, 1236.0, 1056.0, 297.0, 701.0, 573.0, 1495.0, 243.0, 1450.0, 172.0, 1539.0, 571.0, 683.0, 976.0, 948.0, 291.0, 653.0, 774.0, 134.0, 156.0, 466, 847, 1391.0, 525.014224639087, 220.0, 1175.0, 1360.0, 754.0, 829, 169.0, 515.0, 1020.0, 600.0, 186.0, 336, 1589.0, 927.0, 593.0, 605.0, 1453.0, 801.0, 337.0, 426.0, 1296.0, 1251.0, 906, 637.0, 1239.0, 88, 647.0, 300.0, 1033.0, 1062.0, 818, 957.0, 989.0, 1085.0, 986.0, 1139.0, 1091.0, 971.0, 1152.0, 1178.0, 403, 1312.0, 629.0, 1135.0, 730.0, 202.0, 420, 675.0, 248.0, 1531.0, 194.0, 1066.0, 968, 210.0, 232.0, 845, 631.0, 1120.0, 812, 812, 912, 912, 0, 0, 1600.0, 1600.0, 0, 0, 1600.0, 1600.0, 465, 465, 556, 556], \"y\": [200.0, 600.0, 1000.0, 1400.0, 200.0, 600.0, 1000.0, 1400.0, 200.0, 600.0, 1000.0, 1400.0, 200.0, 600.0, 1000.0, 1400.0, 534.0, 585.0, 1293.0, 1001.0, 794.0, 293, 760.0, 796.0, 968.0, 298, 1207.0, 421.0, 557.0, 655.0, 505.0, 148, 919.0, 662.0, 1036.0, 276, 961.0, 234.0, 1160.0, 505.0, 685, 376.0, 626.0, 1173.0, 833.0, 873.0, 1577.0, 1171, 1127.0, 854.0, 1098.0, 128, 1296.0, 520.0, 121, 1057.0, 536.0, 808.0, 903.0, 635.0, 512.0, 169, 291, 920.0, 714.0, 655.0, 939.0, 937.0, 558.0, 154, 1204.0, 1588.0, 1462.0, 751.0, 79.0, 1436.0, 1065.0, 1502.0, 1196.0, 154, 1072.0, 332, 857.0, 446.0, 999, 13.0, 1120.0, 1058.0, 938.0, 942.0, 1063.0, 817.0, 834, 1304.0, 784.0, 832, 693, 684.0, 596, 358.0, 138, 687.0, 277, 607.0, 1599.0, 117, 943.0, 1029.0, 613.0, 133, 1524.0, 1046.0, 801.0, 1096.0, 827.0, 963.0, 640, 972.0, 550.0, 571.0, 179, 902.0, 1085.0, 513.0, 1566.0, 473.0, 703.0, 1548.0, 287, 334, 33.0, 212.0, 576.0, 949.0, 1242.0, 599.0, 1188.0, 991.0, 1506.0, 538.0, 1450.0, 412.0, 595.0, 524.0, 1236.0, 960.0, 634.0, 1092.0, 855.0, 912.0, 1440.0, 723.0, 802.0, 1003.0, 743.0, 150, 22, 846.0, 224.19366078782156, 632.0, 380.0, 848.0, 1246.0, 1230, 1467.0, 899.0, 664.0, 672.0, 1418.0, 172, 1460.0, 544.0, 1068.0, 1343.0, 70.0, 550.0, 689.0, 1331.0, 578.0, 1151.0, 693, 533.0, 217.0, 101, 1449.0, 1260.0, 1086.0, 996.0, 741, 677.0, 1463.0, 1161.0, 798.0, 435.0, 819.0, 636.0, 436.0, 755.0, 268, 859.0, 1380.0, 1461.0, 778.0, 739.0, 139, 883.0, 943.0, 1117.0, 915.0, 527.0, 145, 1255.0, 1595.0, 1277, 631.0, 912.0, 0, 1600.0, 1600.0, 0, 257, 357, 357, 257, 85, 185, 185, 85, 80, 260, 260, 80], \"mode\": \"markers\", \"marker\": {\"size\": 8, \"color\": [\"orange\", \"orange\", \"orange\", \"orange\", \"orange\", \"orange\", \"orange\", \"orange\", \"orange\", \"orange\", \"orange\", \"orange\", \"orange\", \"orange\", \"orange\", \"orange\", \"blue\", \"magenta\", \"magenta\", \"blue\", \"magenta\", \"magenta\", \"magenta\", \"blue\", \"magenta\", \"magenta\", \"magenta\", \"magenta\", \"blue\", \"magenta\", \"blue\", \"magenta\", \"blue\", \"blue\", \"blue\", \"magenta\", \"blue\", \"magenta\", \"magenta\", \"magenta\", \"magenta\", \"magenta\", \"blue\", \"magenta\", \"blue\", \"magenta\", \"magenta\", \"magenta\", \"magenta\", \"blue\", \"blue\", \"magenta\", \"magenta\", \"magenta\", \"magenta\", \"magenta\", \"blue\", \"magenta\", \"magenta\", \"blue\", \"blue\", \"magenta\", \"magenta\", \"magenta\", \"magenta\", \"magenta\", \"blue\", \"blue\", \"magenta\", \"magenta\", \"magenta\", \"magenta\", \"magenta\", \"magenta\", \"magenta\", \"magenta\", \"magenta\", \"magenta\", \"magenta\", \"magenta\", \"magenta\", \"magenta\", \"blue\", \"magenta\", \"blue\", \"magenta\", \"magenta\", \"magenta\", \"blue\", \"magenta\", \"magenta\", \"magenta\", \"blue\", \"magenta\", \"magenta\", \"blue\", \"blue\", \"blue\", \"blue\", \"magenta\", \"magenta\", \"magenta\", \"magenta\", \"magenta\", \"magenta\", \"magenta\", \"magenta\", \"blue\", \"magenta\", \"magenta\", \"magenta\", \"magenta\", \"magenta\", \"blue\", \"magenta\", \"blue\", \"magenta\", \"magenta\", \"blue\", \"magenta\", \"magenta\", \"magenta\", \"magenta\", \"magenta\", \"magenta\", \"magenta\", \"magenta\", \"magenta\", \"magenta\", \"magenta\", \"magenta\", \"magenta\", \"magenta\", \"blue\", \"magenta\", \"magenta\", \"magenta\", \"blue\", \"magenta\", \"magenta\", \"magenta\", \"magenta\", \"magenta\", \"magenta\", \"magenta\", \"magenta\", \"blue\", \"blue\", \"magenta\", \"magenta\", \"magenta\", \"blue\", \"magenta\", \"magenta\", \"magenta\", \"magenta\", \"magenta\", \"magenta\", \"magenta\", \"magenta\", \"magenta\", \"magenta\", \"magenta\", \"magenta\", \"magenta\", \"blue\", \"blue\", \"magenta\", \"magenta\", \"magenta\", \"magenta\", \"magenta\", \"magenta\", \"magenta\", \"magenta\", \"blue\", \"magenta\", \"magenta\", \"magenta\", \"magenta\", \"blue\", \"blue\", \"magenta\", \"magenta\", \"magenta\", \"magenta\", \"magenta\", \"blue\", \"blue\", \"blue\", \"magenta\", \"magenta\", \"magenta\", \"magenta\", \"blue\", \"blue\", \"magenta\", \"magenta\", \"magenta\", \"magenta\", \"magenta\", \"magenta\", \"magenta\", \"magenta\", \"magenta\", \"blue\", \"magenta\", \"magenta\", \"magenta\", \"magenta\", \"magenta\", \"magenta\", \"magenta\", \"magenta\", \"blue\", \"magenta\", \"black\", \"black\", \"black\", \"black\", \"black\", \"black\", \"black\", \"black\", \"black\", \"black\", \"black\", \"black\", \"black\", \"black\", \"black\", \"black\"]}}], \"layout\": {\"title\": \"UE and AP Distribution in the grid\"}}]);}).then(function(){Plotly.animate('b535f5df-0537-4d2f-aa43-8cfa99dabc74');})\n",
       "        });</script>"
      ],
      "text/vnd.plotly.v1+html": [
       "<div id=\"b535f5df-0537-4d2f-aa43-8cfa99dabc74\" style=\"height: 1000px; width: 1000px;\" class=\"plotly-graph-div\"></div><script type=\"text/javascript\">require([\"plotly\"], function(Plotly) { window.PLOTLYENV=window.PLOTLYENV || {};window.PLOTLYENV.BASE_URL=\"https://plot.ly\";\n",
       "        Plotly.plot(\n",
       "            'b535f5df-0537-4d2f-aa43-8cfa99dabc74',\n",
       "            [{\"type\": \"scatter\", \"x\": [1000.0, 953], \"y\": [600.0, 528], \"mode\": \"lines\", \"line\": {\"width\": 2, \"color\": \"green\"}}, {\"type\": \"scatter\", \"x\": [1000.0, 1166], \"y\": [600.0, 582], \"mode\": \"lines\", \"line\": {\"width\": 2, \"color\": \"green\"}}, {\"type\": \"scatter\", \"x\": [1000.0, 1178], \"y\": [1400.0, 1287], \"mode\": \"lines\", \"line\": {\"width\": 2, \"color\": \"green\"}}, {\"type\": \"scatter\", \"x\": [1000.0, 1041], \"y\": [1000.0, 1009], \"mode\": \"lines\", \"line\": {\"width\": 2, \"color\": \"green\"}}, {\"type\": \"scatter\", \"x\": [1400.0, 1381], \"y\": [600.0, 796], \"mode\": \"lines\", \"line\": {\"width\": 2, \"color\": \"green\"}}, {\"type\": \"scatter\", \"x\": [600.0, 499], \"y\": [200.0, 293], \"mode\": \"lines\", \"line\": {\"width\": 2, \"color\": \"green\"}}, {\"type\": \"scatter\", \"x\": [200.0, 12], \"y\": [600.0, 758], \"mode\": \"lines\", \"line\": {\"width\": 2, \"color\": \"green\"}}, {\"type\": \"scatter\", \"x\": [600.0, 602], \"y\": [600.0, 794], \"mode\": \"lines\", \"line\": {\"width\": 2, \"color\": \"green\"}}, {\"type\": \"scatter\", \"x\": [600.0, 706], \"y\": [1000.0, 968], \"mode\": \"lines\", \"line\": {\"width\": 2, \"color\": \"green\"}}, {\"type\": \"scatter\", \"x\": [1400.0, 1411], \"y\": [200.0, 298], \"mode\": \"lines\", \"line\": {\"width\": 2, \"color\": \"green\"}}, {\"type\": \"scatter\", \"x\": [600.0, 596], \"y\": [1400.0, 1204], \"mode\": \"lines\", \"line\": {\"width\": 2, \"color\": \"green\"}}, {\"type\": \"scatter\", \"x\": [1400.0, 1292], \"y\": [600.0, 423], \"mode\": \"lines\", \"line\": {\"width\": 2, \"color\": \"green\"}}, {\"type\": \"scatter\", \"x\": [600.0, 529], \"y\": [600.0, 562], \"mode\": \"lines\", \"line\": {\"width\": 2, \"color\": \"green\"}}, {\"type\": \"scatter\", \"x\": [1400.0, 1447], \"y\": [600.0, 655], \"mode\": \"lines\", \"line\": {\"width\": 2, \"color\": \"green\"}}, {\"type\": \"scatter\", \"x\": [600.0, 603], \"y\": [200.0, 500], \"mode\": \"lines\", \"line\": {\"width\": 2, \"color\": \"green\"}}, {\"type\": \"scatter\", \"x\": [1400.0, 1464], \"y\": [200.0, 148], \"mode\": \"lines\", \"line\": {\"width\": 2, \"color\": \"green\"}}, {\"type\": \"scatter\", \"x\": [1000.0, 959], \"y\": [1000.0, 915], \"mode\": \"lines\", \"line\": {\"width\": 2, \"color\": \"green\"}}, {\"type\": \"scatter\", \"x\": [600.0, 748], \"y\": [600.0, 664], \"mode\": \"lines\", \"line\": {\"width\": 2, \"color\": \"green\"}}, {\"type\": \"scatter\", \"x\": [600.0, 691], \"y\": [1000.0, 1038], \"mode\": \"lines\", \"line\": {\"width\": 2, \"color\": \"green\"}}, {\"type\": \"scatter\", \"x\": [600.0, 742], \"y\": [200.0, 276], \"mode\": \"lines\", \"line\": {\"width\": 2, \"color\": \"green\"}}, {\"type\": \"scatter\", \"x\": [600.0, 702], \"y\": [1000.0, 957], \"mode\": \"lines\", \"line\": {\"width\": 2, \"color\": \"green\"}}, {\"type\": \"scatter\", \"x\": [200.0, 372], \"y\": [200.0, 235], \"mode\": \"lines\", \"line\": {\"width\": 2, \"color\": \"green\"}}, {\"type\": \"scatter\", \"x\": [1000.0, 921], \"y\": [1000.0, 1158], \"mode\": \"lines\", \"line\": {\"width\": 2, \"color\": \"green\"}}, {\"type\": \"scatter\", \"x\": [200.0, 37], \"y\": [600.0, 504], \"mode\": \"lines\", \"line\": {\"width\": 2, \"color\": \"green\"}}, {\"type\": \"scatter\", \"x\": [1000.0, 861], \"y\": [1000.0, 876], \"mode\": \"lines\", \"line\": {\"width\": 2, \"color\": \"green\"}}, {\"type\": \"scatter\", \"x\": [1000.0, 1026], \"y\": [200.0, 377], \"mode\": \"lines\", \"line\": {\"width\": 2, \"color\": \"green\"}}, {\"type\": \"scatter\", \"x\": [1000.0, 938], \"y\": [600.0, 629], \"mode\": \"lines\", \"line\": {\"width\": 2, \"color\": \"green\"}}, {\"type\": \"scatter\", \"x\": [1400.0, 1599], \"y\": [1000.0, 1173], \"mode\": \"lines\", \"line\": {\"width\": 2, \"color\": \"green\"}}, {\"type\": \"scatter\", \"x\": [600.0, 667], \"y\": [1000.0, 831], \"mode\": \"lines\", \"line\": {\"width\": 2, \"color\": \"green\"}}, {\"type\": \"scatter\", \"x\": [200.0, 269], \"y\": [1000.0, 868], \"mode\": \"lines\", \"line\": {\"width\": 2, \"color\": \"green\"}}, {\"type\": \"scatter\", \"x\": [1400.0, 1024], \"y\": [1400.0, 1578], \"mode\": \"lines\", \"line\": {\"width\": 2, \"color\": \"green\"}}, {\"type\": \"scatter\", \"x\": [1000.0, 896], \"y\": [1400.0, 1347], \"mode\": \"lines\", \"line\": {\"width\": 2, \"color\": \"green\"}}, {\"type\": \"scatter\", \"x\": [1400.0, 1527], \"y\": [1000.0, 1130], \"mode\": \"lines\", \"line\": {\"width\": 2, \"color\": \"green\"}}, {\"type\": \"scatter\", \"x\": [1000.0, 1068], \"y\": [1000.0, 853], \"mode\": \"lines\", \"line\": {\"width\": 2, \"color\": \"green\"}}, {\"type\": \"scatter\", \"x\": [200.0, 584], \"y\": [1400.0, 1097], \"mode\": \"lines\", \"line\": {\"width\": 2, \"color\": \"green\"}}, {\"type\": \"scatter\", \"x\": [200.0, 84], \"y\": [200.0, 128], \"mode\": \"lines\", \"line\": {\"width\": 2, \"color\": \"green\"}}, {\"type\": \"scatter\", \"x\": [1400.0, 1492], \"y\": [1400.0, 1293], \"mode\": \"lines\", \"line\": {\"width\": 2, \"color\": \"green\"}}, {\"type\": \"scatter\", \"x\": [1000.0, 1125], \"y\": [600.0, 517], \"mode\": \"lines\", \"line\": {\"width\": 2, \"color\": \"green\"}}, {\"type\": \"scatter\", \"x\": [600.0, 765], \"y\": [200.0, 121], \"mode\": \"lines\", \"line\": {\"width\": 2, \"color\": \"green\"}}, {\"type\": \"scatter\", \"x\": [1000.0, 1099], \"y\": [1000.0, 1056], \"mode\": \"lines\", \"line\": {\"width\": 2, \"color\": \"green\"}}, {\"type\": \"scatter\", \"x\": [600.0, 701], \"y\": [200.0, 541], \"mode\": \"lines\", \"line\": {\"width\": 2, \"color\": \"red\"}}, {\"type\": \"scatter\", \"x\": [1400.0, 1498], \"y\": [1000.0, 811], \"mode\": \"lines\", \"line\": {\"width\": 2, \"color\": \"green\"}}, {\"type\": \"scatter\", \"x\": [1000.0, 971], \"y\": [1000.0, 902], \"mode\": \"lines\", \"line\": {\"width\": 2, \"color\": \"green\"}}, {\"type\": \"scatter\", \"x\": [1000.0, 920], \"y\": [600.0, 636], \"mode\": \"lines\", \"line\": {\"width\": 2, \"color\": \"green\"}}, {\"type\": \"scatter\", \"x\": [200.0, 588], \"y\": [600.0, 510], \"mode\": \"lines\", \"line\": {\"width\": 2, \"color\": \"red\"}}, {\"type\": \"scatter\", \"x\": [200.0, 167], \"y\": [200.0, 169], \"mode\": \"lines\", \"line\": {\"width\": 2, \"color\": \"green\"}}, {\"type\": \"scatter\", \"x\": [1400.0, 1395], \"y\": [200.0, 291], \"mode\": \"lines\", \"line\": {\"width\": 2, \"color\": \"green\"}}, {\"type\": \"scatter\", \"x\": [200.0, 52], \"y\": [1000.0, 919], \"mode\": \"lines\", \"line\": {\"width\": 2, \"color\": \"green\"}}, {\"type\": \"scatter\", \"x\": [200.0, 46], \"y\": [1000.0, 714], \"mode\": \"lines\", \"line\": {\"width\": 2, \"color\": \"green\"}}, {\"type\": \"scatter\", \"x\": [1000.0, 1053], \"y\": [600.0, 657], \"mode\": \"lines\", \"line\": {\"width\": 2, \"color\": \"green\"}}, {\"type\": \"scatter\", \"x\": [600.0, 650], \"y\": [600.0, 942], \"mode\": \"lines\", \"line\": {\"width\": 2, \"color\": \"red\"}}, {\"type\": \"scatter\", \"x\": [600.0, 683], \"y\": [1000.0, 939], \"mode\": \"lines\", \"line\": {\"width\": 2, \"color\": \"green\"}}, {\"type\": \"scatter\", \"x\": [200.0, 203], \"y\": [600.0, 561], \"mode\": \"lines\", \"line\": {\"width\": 2, \"color\": \"green\"}}, {\"type\": \"scatter\", \"x\": [600.0, 247], \"y\": [200.0, 154], \"mode\": \"lines\", \"line\": {\"width\": 2, \"color\": \"green\"}}, {\"type\": \"scatter\", \"x\": [600.0, 659], \"y\": [1400.0, 1203], \"mode\": \"lines\", \"line\": {\"width\": 2, \"color\": \"green\"}}, {\"type\": \"scatter\", \"x\": [1000.0, 1027], \"y\": [1400.0, 1587], \"mode\": \"lines\", \"line\": {\"width\": 2, \"color\": \"green\"}}, {\"type\": \"scatter\", \"x\": [1000.0, 1155], \"y\": [1400.0, 1463], \"mode\": \"lines\", \"line\": {\"width\": 2, \"color\": \"green\"}}, {\"type\": \"scatter\", \"x\": [1000.0, 925], \"y\": [600.0, 753], \"mode\": \"lines\", \"line\": {\"width\": 2, \"color\": \"green\"}}, {\"type\": \"scatter\", \"x\": [600.0, 747], \"y\": [200.0, 79], \"mode\": \"lines\", \"line\": {\"width\": 2, \"color\": \"green\"}}, {\"type\": \"scatter\", \"x\": [1000.0, 1193], \"y\": [1400.0, 1439], \"mode\": \"lines\", \"line\": {\"width\": 2, \"color\": \"green\"}}, {\"type\": \"scatter\", \"x\": [1000.0, 1103], \"y\": [1000.0, 1067], \"mode\": \"lines\", \"line\": {\"width\": 2, \"color\": \"green\"}}, {\"type\": \"scatter\", \"x\": [1000.0, 944], \"y\": [1400.0, 1502], \"mode\": \"lines\", \"line\": {\"width\": 2, \"color\": \"green\"}}, {\"type\": \"scatter\", \"x\": [600.0, 618], \"y\": [1000.0, 1198], \"mode\": \"lines\", \"line\": {\"width\": 2, \"color\": \"green\"}}, {\"type\": \"scatter\", \"x\": [600.0, 922], \"y\": [200.0, 154], \"mode\": \"lines\", \"line\": {\"width\": 2, \"color\": \"green\"}}, {\"type\": \"scatter\", \"x\": [600.0, 672], \"y\": [1400.0, 1072], \"mode\": \"lines\", \"line\": {\"width\": 2, \"color\": \"green\"}}, {\"type\": \"scatter\", \"x\": [200.0, 126], \"y\": [200.0, 332], \"mode\": \"lines\", \"line\": {\"width\": 2, \"color\": \"green\"}}, {\"type\": \"scatter\", \"x\": [600.0, 546], \"y\": [600.0, 858], \"mode\": \"lines\", \"line\": {\"width\": 2, \"color\": \"red\"}}, {\"type\": \"scatter\", \"x\": [200.0, 119], \"y\": [600.0, 444], \"mode\": \"lines\", \"line\": {\"width\": 2, \"color\": \"green\"}}, {\"type\": \"scatter\", \"x\": [600.0, 897], \"y\": [1000.0, 852], \"mode\": \"lines\", \"line\": {\"width\": 2, \"color\": \"red\"}}, {\"type\": \"scatter\", \"x\": [1400.0, 1491], \"y\": [200.0, 12], \"mode\": \"lines\", \"line\": {\"width\": 2, \"color\": \"green\"}}, {\"type\": \"scatter\", \"x\": [600.0, 800], \"y\": [1000.0, 1120], \"mode\": \"lines\", \"line\": {\"width\": 2, \"color\": \"green\"}}, {\"type\": \"scatter\", \"x\": [1000.0, 1185], \"y\": [1000.0, 1064], \"mode\": \"lines\", \"line\": {\"width\": 2, \"color\": \"green\"}}, {\"type\": \"scatter\", \"x\": [600.0, 615], \"y\": [1000.0, 941], \"mode\": \"lines\", \"line\": {\"width\": 2, \"color\": \"green\"}}, {\"type\": \"scatter\", \"x\": [1000.0, 1167], \"y\": [1000.0, 938], \"mode\": \"lines\", \"line\": {\"width\": 2, \"color\": \"green\"}}, {\"type\": \"scatter\", \"x\": [200.0, 270], \"y\": [1000.0, 1064], \"mode\": \"lines\", \"line\": {\"width\": 2, \"color\": \"green\"}}, {\"type\": \"scatter\", \"x\": [600.0, 537], \"y\": [1000.0, 814], \"mode\": \"lines\", \"line\": {\"width\": 2, \"color\": \"green\"}}, {\"type\": \"scatter\", \"x\": [1000.0, 816], \"y\": [1000.0, 1008], \"mode\": \"lines\", \"line\": {\"width\": 2, \"color\": \"green\"}}, {\"type\": \"scatter\", \"x\": [1400.0, 1379], \"y\": [1400.0, 1306], \"mode\": \"lines\", \"line\": {\"width\": 2, \"color\": \"green\"}}, {\"type\": \"scatter\", \"x\": [600.0, 626], \"y\": [600.0, 781], \"mode\": \"lines\", \"line\": {\"width\": 2, \"color\": \"green\"}}, {\"type\": \"scatter\", \"x\": [1000.0, 836], \"y\": [1000.0, 675], \"mode\": \"lines\", \"line\": {\"width\": 2, \"color\": \"red\"}}, {\"type\": \"scatter\", \"x\": [1000.0, 851], \"y\": [1000.0, 852], \"mode\": \"lines\", \"line\": {\"width\": 2, \"color\": \"red\"}}, {\"type\": \"scatter\", \"x\": [600.0, 609], \"y\": [1000.0, 686], \"mode\": \"lines\", \"line\": {\"width\": 2, \"color\": \"red\"}}, {\"type\": \"scatter\", \"x\": [1000.0, 840], \"y\": [600.0, 749], \"mode\": \"lines\", \"line\": {\"width\": 2, \"color\": \"green\"}}, {\"type\": \"scatter\", \"x\": [1000.0, 1092], \"y\": [200.0, 360], \"mode\": \"lines\", \"line\": {\"width\": 2, \"color\": \"green\"}}, {\"type\": \"scatter\", \"x\": [200.0, 281], \"y\": [200.0, 138], \"mode\": \"lines\", \"line\": {\"width\": 2, \"color\": \"green\"}}, {\"type\": \"scatter\", \"x\": [200.0, 86], \"y\": [600.0, 688], \"mode\": \"lines\", \"line\": {\"width\": 2, \"color\": \"green\"}}, {\"type\": \"scatter\", \"x\": [600.0, 491], \"y\": [200.0, 277], \"mode\": \"lines\", \"line\": {\"width\": 2, \"color\": \"green\"}}, {\"type\": \"scatter\", \"x\": [200.0, 356], \"y\": [600.0, 607], \"mode\": \"lines\", \"line\": {\"width\": 2, \"color\": \"green\"}}, {\"type\": \"scatter\", \"x\": [200.0, 351], \"y\": [1400.0, 1595], \"mode\": \"lines\", \"line\": {\"width\": 2, \"color\": \"green\"}}, {\"type\": \"scatter\", \"x\": [1000.0, 1084], \"y\": [200.0, 117], \"mode\": \"lines\", \"line\": {\"width\": 2, \"color\": \"green\"}}, {\"type\": \"scatter\", \"x\": [200.0, 168], \"y\": [1000.0, 945], \"mode\": \"lines\", \"line\": {\"width\": 2, \"color\": \"green\"}}, {\"type\": \"scatter\", \"x\": [600.0, 768], \"y\": [1000.0, 1028], \"mode\": \"lines\", \"line\": {\"width\": 2, \"color\": \"red\"}}, {\"type\": \"scatter\", \"x\": [1400.0, 1406], \"y\": [1000.0, 620], \"mode\": \"lines\", \"line\": {\"width\": 2, \"color\": \"green\"}}, {\"type\": \"scatter\", \"x\": [1400.0, 1491], \"y\": [200.0, 133], \"mode\": \"lines\", \"line\": {\"width\": 2, \"color\": \"green\"}}, {\"type\": \"scatter\", \"x\": [1000.0, 826], \"y\": [1400.0, 1532], \"mode\": \"lines\", \"line\": {\"width\": 2, \"color\": \"green\"}}, {\"type\": \"scatter\", \"x\": [1400.0, 1584], \"y\": [1400.0, 1048], \"mode\": \"lines\", \"line\": {\"width\": 2, \"color\": \"green\"}}, {\"type\": \"scatter\", \"x\": [1000.0, 1069], \"y\": [1000.0, 803], \"mode\": \"lines\", \"line\": {\"width\": 2, \"color\": \"green\"}}, {\"type\": \"scatter\", \"x\": [600.0, 539], \"y\": [1400.0, 1096], \"mode\": \"lines\", \"line\": {\"width\": 2, \"color\": \"green\"}}, {\"type\": \"scatter\", \"x\": [600.0, 514], \"y\": [600.0, 827], \"mode\": \"lines\", \"line\": {\"width\": 2, \"color\": \"green\"}}, {\"type\": \"scatter\", \"x\": [600.0, 590], \"y\": [600.0, 965], \"mode\": \"lines\", \"line\": {\"width\": 2, \"color\": \"red\"}}, {\"type\": \"scatter\", \"x\": [1000.0, 819], \"y\": [600.0, 478], \"mode\": \"lines\", \"line\": {\"width\": 2, \"color\": \"green\"}}, {\"type\": \"scatter\", \"x\": [200.0, 347], \"y\": [1000.0, 972], \"mode\": \"lines\", \"line\": {\"width\": 2, \"color\": \"green\"}}, {\"type\": \"scatter\", \"x\": [1000.0, 796], \"y\": [600.0, 546], \"mode\": \"lines\", \"line\": {\"width\": 2, \"color\": \"red\"}}, {\"type\": \"scatter\", \"x\": [200.0, 339], \"y\": [600.0, 568], \"mode\": \"lines\", \"line\": {\"width\": 2, \"color\": \"green\"}}, {\"type\": \"scatter\", \"x\": [1000.0, 933], \"y\": [200.0, 179], \"mode\": \"lines\", \"line\": {\"width\": 2, \"color\": \"green\"}}, {\"type\": \"scatter\", \"x\": [200.0, 81], \"y\": [600.0, 906], \"mode\": \"lines\", \"line\": {\"width\": 2, \"color\": \"green\"}}, {\"type\": \"scatter\", \"x\": [200.0, 138], \"y\": [1000.0, 1080], \"mode\": \"lines\", \"line\": {\"width\": 2, \"color\": \"green\"}}, {\"type\": \"scatter\", \"x\": [200.0, 42], \"y\": [600.0, 510], \"mode\": \"lines\", \"line\": {\"width\": 2, \"color\": \"green\"}}, {\"type\": \"scatter\", \"x\": [200.0, 208], \"y\": [1400.0, 1568], \"mode\": \"lines\", \"line\": {\"width\": 2, \"color\": \"green\"}}, {\"type\": \"scatter\", \"x\": [200.0, 259], \"y\": [600.0, 472], \"mode\": \"lines\", \"line\": {\"width\": 2, \"color\": \"green\"}}, {\"type\": \"scatter\", \"x\": [1400.0, 1555], \"y\": [600.0, 700], \"mode\": \"lines\", \"line\": {\"width\": 2, \"color\": \"green\"}}, {\"type\": \"scatter\", \"x\": [1000.0, 995], \"y\": [1400.0, 1547], \"mode\": \"lines\", \"line\": {\"width\": 2, \"color\": \"green\"}}, {\"type\": \"scatter\", \"x\": [1400.0, 1472], \"y\": [200.0, 287], \"mode\": \"lines\", \"line\": {\"width\": 2, \"color\": \"green\"}}, {\"type\": \"scatter\", \"x\": [600.0, 728], \"y\": [200.0, 334], \"mode\": \"lines\", \"line\": {\"width\": 2, \"color\": \"green\"}}, {\"type\": \"scatter\", \"x\": [600.0, 414], \"y\": [200.0, 32], \"mode\": \"lines\", \"line\": {\"width\": 2, \"color\": \"green\"}}, {\"type\": \"scatter\", \"x\": [200.0, 199], \"y\": [200.0, 214], \"mode\": \"lines\", \"line\": {\"width\": 2, \"color\": \"green\"}}, {\"type\": \"scatter\", \"x\": [1000.0, 1138], \"y\": [600.0, 575], \"mode\": \"lines\", \"line\": {\"width\": 2, \"color\": \"green\"}}, {\"type\": \"scatter\", \"x\": [200.0, 521], \"y\": [1000.0, 949], \"mode\": \"lines\", \"line\": {\"width\": 2, \"color\": \"green\"}}, {\"type\": \"scatter\", \"x\": [600.0, 696], \"y\": [1400.0, 1241], \"mode\": \"lines\", \"line\": {\"width\": 2, \"color\": \"green\"}}, {\"type\": \"scatter\", \"x\": [1400.0, 1382], \"y\": [600.0, 596], \"mode\": \"lines\", \"line\": {\"width\": 2, \"color\": \"green\"}}, {\"type\": \"scatter\", \"x\": [1400.0, 1240], \"y\": [1000.0, 1188], \"mode\": \"lines\", \"line\": {\"width\": 2, \"color\": \"green\"}}, {\"type\": \"scatter\", \"x\": [1000.0, 1057], \"y\": [1000.0, 989], \"mode\": \"lines\", \"line\": {\"width\": 2, \"color\": \"red\"}}, {\"type\": \"scatter\", \"x\": [200.0, 302], \"y\": [1400.0, 1508], \"mode\": \"lines\", \"line\": {\"width\": 2, \"color\": \"green\"}}, {\"type\": \"scatter\", \"x\": [600.0, 698], \"y\": [600.0, 536], \"mode\": \"lines\", \"line\": {\"width\": 2, \"color\": \"green\"}}, {\"type\": \"scatter\", \"x\": [600.0, 575], \"y\": [1400.0, 1452], \"mode\": \"lines\", \"line\": {\"width\": 2, \"color\": \"green\"}}, {\"type\": \"scatter\", \"x\": [1400.0, 1499], \"y\": [600.0, 416], \"mode\": \"lines\", \"line\": {\"width\": 2, \"color\": \"green\"}}, {\"type\": \"scatter\", \"x\": [200.0, 242], \"y\": [600.0, 596], \"mode\": \"lines\", \"line\": {\"width\": 2, \"color\": \"green\"}}, {\"type\": \"scatter\", \"x\": [1400.0, 1451], \"y\": [600.0, 528], \"mode\": \"lines\", \"line\": {\"width\": 2, \"color\": \"green\"}}, {\"type\": \"scatter\", \"x\": [200.0, 171], \"y\": [1400.0, 1237], \"mode\": \"lines\", \"line\": {\"width\": 2, \"color\": \"green\"}}, {\"type\": \"scatter\", \"x\": [1400.0, 1538], \"y\": [1000.0, 959], \"mode\": \"lines\", \"line\": {\"width\": 2, \"color\": \"green\"}}, {\"type\": \"scatter\", \"x\": [600.0, 569], \"y\": [1000.0, 633], \"mode\": \"lines\", \"line\": {\"width\": 2, \"color\": \"red\"}}, {\"type\": \"scatter\", \"x\": [600.0, 677], \"y\": [1400.0, 1091], \"mode\": \"lines\", \"line\": {\"width\": 2, \"color\": \"green\"}}, {\"type\": \"scatter\", \"x\": [1000.0, 972], \"y\": [1000.0, 855], \"mode\": \"lines\", \"line\": {\"width\": 2, \"color\": \"green\"}}, {\"type\": \"scatter\", \"x\": [1000.0, 951], \"y\": [1000.0, 914], \"mode\": \"lines\", \"line\": {\"width\": 2, \"color\": \"green\"}}, {\"type\": \"scatter\", \"x\": [200.0, 294], \"y\": [1400.0, 1443], \"mode\": \"lines\", \"line\": {\"width\": 2, \"color\": \"green\"}}, {\"type\": \"scatter\", \"x\": [600.0, 651], \"y\": [1000.0, 728], \"mode\": \"lines\", \"line\": {\"width\": 2, \"color\": \"red\"}}, {\"type\": \"scatter\", \"x\": [600.0, 773], \"y\": [1000.0, 807], \"mode\": \"lines\", \"line\": {\"width\": 2, \"color\": \"green\"}}, {\"type\": \"scatter\", \"x\": [200.0, 134], \"y\": [1000.0, 1000], \"mode\": \"lines\", \"line\": {\"width\": 2, \"color\": \"green\"}}, {\"type\": \"scatter\", \"x\": [200.0, 158], \"y\": [600.0, 746], \"mode\": \"lines\", \"line\": {\"width\": 2, \"color\": \"green\"}}, {\"type\": \"scatter\", \"x\": [600.0, 629], \"y\": [200.0, 150], \"mode\": \"lines\", \"line\": {\"width\": 2, \"color\": \"green\"}}, {\"type\": \"scatter\", \"x\": [1000.0, 847], \"y\": [200.0, 114], \"mode\": \"lines\", \"line\": {\"width\": 2, \"color\": \"green\"}}, {\"type\": \"scatter\", \"x\": [1400.0, 1392], \"y\": [1000.0, 847], \"mode\": \"lines\", \"line\": {\"width\": 2, \"color\": \"green\"}}, {\"type\": \"scatter\", \"x\": [600.0, 524], \"y\": [200.0, 222], \"mode\": \"lines\", \"line\": {\"width\": 2, \"color\": \"green\"}}, {\"type\": \"scatter\", \"x\": [200.0, 222], \"y\": [600.0, 630], \"mode\": \"lines\", \"line\": {\"width\": 2, \"color\": \"green\"}}, {\"type\": \"scatter\", \"x\": [1000.0, 1178], \"y\": [200.0, 385], \"mode\": \"lines\", \"line\": {\"width\": 2, \"color\": \"green\"}}, {\"type\": \"scatter\", \"x\": [1400.0, 1361], \"y\": [1000.0, 851], \"mode\": \"lines\", \"line\": {\"width\": 2, \"color\": \"green\"}}, {\"type\": \"scatter\", \"x\": [600.0, 752], \"y\": [1400.0, 1246], \"mode\": \"lines\", \"line\": {\"width\": 2, \"color\": \"green\"}}, {\"type\": \"scatter\", \"x\": [1000.0, 829], \"y\": [1000.0, 1386], \"mode\": \"lines\", \"line\": {\"width\": 2, \"color\": \"green\"}}, {\"type\": \"scatter\", \"x\": [200.0, 171], \"y\": [1400.0, 1468], \"mode\": \"lines\", \"line\": {\"width\": 2, \"color\": \"green\"}}, {\"type\": \"scatter\", \"x\": [200.0, 516], \"y\": [1000.0, 896], \"mode\": \"lines\", \"line\": {\"width\": 2, \"color\": \"green\"}}, {\"type\": \"scatter\", \"x\": [1000.0, 1021], \"y\": [600.0, 660], \"mode\": \"lines\", \"line\": {\"width\": 2, \"color\": \"green\"}}, {\"type\": \"scatter\", \"x\": [600.0, 594], \"y\": [1000.0, 672], \"mode\": \"lines\", \"line\": {\"width\": 2, \"color\": \"green\"}}, {\"type\": \"scatter\", \"x\": [200.0, 186], \"y\": [1400.0, 1415], \"mode\": \"lines\", \"line\": {\"width\": 2, \"color\": \"green\"}}, {\"type\": \"scatter\", \"x\": [200.0, 162], \"y\": [200.0, 172], \"mode\": \"lines\", \"line\": {\"width\": 2, \"color\": \"green\"}}, {\"type\": \"scatter\", \"x\": [1400.0, 1594], \"y\": [1400.0, 1461], \"mode\": \"lines\", \"line\": {\"width\": 2, \"color\": \"green\"}}, {\"type\": \"scatter\", \"x\": [1000.0, 921], \"y\": [600.0, 543], \"mode\": \"lines\", \"line\": {\"width\": 2, \"color\": \"green\"}}, {\"type\": \"scatter\", \"x\": [600.0, 591], \"y\": [1400.0, 1070], \"mode\": \"lines\", \"line\": {\"width\": 2, \"color\": \"green\"}}, {\"type\": \"scatter\", \"x\": [600.0, 609], \"y\": [1400.0, 1341], \"mode\": \"lines\", \"line\": {\"width\": 2, \"color\": \"green\"}}, {\"type\": \"scatter\", \"x\": [1400.0, 1450], \"y\": [200.0, 69], \"mode\": \"lines\", \"line\": {\"width\": 2, \"color\": \"green\"}}, {\"type\": \"scatter\", \"x\": [1000.0, 796], \"y\": [600.0, 546], \"mode\": \"lines\", \"line\": {\"width\": 2, \"color\": \"red\"}}, {\"type\": \"scatter\", \"x\": [200.0, 338], \"y\": [600.0, 687], \"mode\": \"lines\", \"line\": {\"width\": 2, \"color\": \"green\"}}, {\"type\": \"scatter\", \"x\": [600.0, 426], \"y\": [1400.0, 1332], \"mode\": \"lines\", \"line\": {\"width\": 2, \"color\": \"green\"}}, {\"type\": \"scatter\", \"x\": [1400.0, 1294], \"y\": [600.0, 579], \"mode\": \"lines\", \"line\": {\"width\": 2, \"color\": \"green\"}}, {\"type\": \"scatter\", \"x\": [1400.0, 1252], \"y\": [1000.0, 1148], \"mode\": \"lines\", \"line\": {\"width\": 2, \"color\": \"green\"}}, {\"type\": \"scatter\", \"x\": [600.0, 906], \"y\": [600.0, 555], \"mode\": \"lines\", \"line\": {\"width\": 2, \"color\": \"red\"}}, {\"type\": \"scatter\", \"x\": [600.0, 632], \"y\": [200.0, 538], \"mode\": \"lines\", \"line\": {\"width\": 2, \"color\": \"red\"}}, {\"type\": \"scatter\", \"x\": [1400.0, 1238], \"y\": [200.0, 210], \"mode\": \"lines\", \"line\": {\"width\": 2, \"color\": \"green\"}}, {\"type\": \"scatter\", \"x\": [200.0, 249], \"y\": [200.0, 101], \"mode\": \"lines\", \"line\": {\"width\": 2, \"color\": \"green\"}}, {\"type\": \"scatter\", \"x\": [1000.0, 648], \"y\": [1400.0, 1449], \"mode\": \"lines\", \"line\": {\"width\": 2, \"color\": \"green\"}}, {\"type\": \"scatter\", \"x\": [200.0, 307], \"y\": [1400.0, 1262], \"mode\": \"lines\", \"line\": {\"width\": 2, \"color\": \"green\"}}, {\"type\": \"scatter\", \"x\": [1000.0, 1039], \"y\": [1000.0, 1084], \"mode\": \"lines\", \"line\": {\"width\": 2, \"color\": \"green\"}}, {\"type\": \"scatter\", \"x\": [1000.0, 1062], \"y\": [1000.0, 999], \"mode\": \"lines\", \"line\": {\"width\": 2, \"color\": \"red\"}}, {\"type\": \"scatter\", \"x\": [600.0, 818], \"y\": [1000.0, 887], \"mode\": \"lines\", \"line\": {\"width\": 2, \"color\": \"red\"}}, {\"type\": \"scatter\", \"x\": [1000.0, 956], \"y\": [1000.0, 674], \"mode\": \"lines\", \"line\": {\"width\": 2, \"color\": \"red\"}}, {\"type\": \"scatter\", \"x\": [1000.0, 985], \"y\": [1400.0, 1464], \"mode\": \"lines\", \"line\": {\"width\": 2, \"color\": \"green\"}}, {\"type\": \"scatter\", \"x\": [1000.0, 1084], \"y\": [1000.0, 1162], \"mode\": \"lines\", \"line\": {\"width\": 2, \"color\": \"green\"}}, {\"type\": \"scatter\", \"x\": [1000.0, 990], \"y\": [1000.0, 802], \"mode\": \"lines\", \"line\": {\"width\": 2, \"color\": \"green\"}}, {\"type\": \"scatter\", \"x\": [1000.0, 1139], \"y\": [200.0, 437], \"mode\": \"lines\", \"line\": {\"width\": 2, \"color\": \"green\"}}, {\"type\": \"scatter\", \"x\": [1000.0, 1091], \"y\": [1000.0, 817], \"mode\": \"lines\", \"line\": {\"width\": 2, \"color\": \"red\"}}, {\"type\": \"scatter\", \"x\": [1000.0, 968], \"y\": [600.0, 635], \"mode\": \"lines\", \"line\": {\"width\": 2, \"color\": \"red\"}}, {\"type\": \"scatter\", \"x\": [1000.0, 1153], \"y\": [200.0, 436], \"mode\": \"lines\", \"line\": {\"width\": 2, \"color\": \"green\"}}, {\"type\": \"scatter\", \"x\": [1000.0, 1180], \"y\": [1000.0, 756], \"mode\": \"lines\", \"line\": {\"width\": 2, \"color\": \"green\"}}, {\"type\": \"scatter\", \"x\": [600.0, 545], \"y\": [200.0, 268], \"mode\": \"lines\", \"line\": {\"width\": 2, \"color\": \"green\"}}, {\"type\": \"scatter\", \"x\": [1400.0, 1317], \"y\": [1000.0, 862], \"mode\": \"lines\", \"line\": {\"width\": 2, \"color\": \"green\"}}, {\"type\": \"scatter\", \"x\": [600.0, 629], \"y\": [1400.0, 1379], \"mode\": \"lines\", \"line\": {\"width\": 2, \"color\": \"green\"}}, {\"type\": \"scatter\", \"x\": [1000.0, 1134], \"y\": [1400.0, 1461], \"mode\": \"lines\", \"line\": {\"width\": 2, \"color\": \"green\"}}, {\"type\": \"scatter\", \"x\": [600.0, 733], \"y\": [1000.0, 778], \"mode\": \"lines\", \"line\": {\"width\": 2, \"color\": \"green\"}}, {\"type\": \"scatter\", \"x\": [200.0, 201], \"y\": [600.0, 746], \"mode\": \"lines\", \"line\": {\"width\": 2, \"color\": \"green\"}}, {\"type\": \"scatter\", \"x\": [600.0, 536], \"y\": [200.0, 139], \"mode\": \"lines\", \"line\": {\"width\": 2, \"color\": \"green\"}}, {\"type\": \"scatter\", \"x\": [600.0, 675], \"y\": [600.0, 883], \"mode\": \"lines\", \"line\": {\"width\": 2, \"color\": \"green\"}}, {\"type\": \"scatter\", \"x\": [200.0, 249], \"y\": [1000.0, 942], \"mode\": \"lines\", \"line\": {\"width\": 2, \"color\": \"green\"}}, {\"type\": \"scatter\", \"x\": [1400.0, 1530], \"y\": [1000.0, 1118], \"mode\": \"lines\", \"line\": {\"width\": 2, \"color\": \"green\"}}, {\"type\": \"scatter\", \"x\": [200.0, 191], \"y\": [1000.0, 913], \"mode\": \"lines\", \"line\": {\"width\": 2, \"color\": \"green\"}}, {\"type\": \"scatter\", \"x\": [1000.0, 1067], \"y\": [600.0, 529], \"mode\": \"lines\", \"line\": {\"width\": 2, \"color\": \"green\"}}, {\"type\": \"scatter\", \"x\": [1000.0, 1105], \"y\": [200.0, 145], \"mode\": \"lines\", \"line\": {\"width\": 2, \"color\": \"green\"}}, {\"type\": \"scatter\", \"x\": [200.0, 209], \"y\": [1400.0, 1255], \"mode\": \"lines\", \"line\": {\"width\": 2, \"color\": \"green\"}}, {\"type\": \"scatter\", \"x\": [200.0, 232], \"y\": [1400.0, 1591], \"mode\": \"lines\", \"line\": {\"width\": 2, \"color\": \"green\"}}, {\"type\": \"scatter\", \"x\": [1000.0, 845], \"y\": [1000.0, 1116], \"mode\": \"lines\", \"line\": {\"width\": 2, \"color\": \"green\"}}, {\"type\": \"scatter\", \"x\": [1000.0, 634], \"y\": [600.0, 627], \"mode\": \"lines\", \"line\": {\"width\": 2, \"color\": \"red\"}}, {\"type\": \"scatter\", \"x\": [1000.0, 1120], \"y\": [1000.0, 910], \"mode\": \"lines\", \"line\": {\"width\": 2, \"color\": \"green\"}}, {\"type\": \"scatter\", \"x\": [812, 812], \"y\": [0, 1600.0], \"mode\": \"lines\", \"line\": {\"width\": 2, \"color\": \"black\"}}, {\"type\": \"scatter\", \"x\": [812, 912], \"y\": [1600.0, 1600.0], \"mode\": \"lines\", \"line\": {\"width\": 2, \"color\": \"black\"}}, {\"type\": \"scatter\", \"x\": [912, 912], \"y\": [1600.0, 0], \"mode\": \"lines\", \"line\": {\"width\": 2, \"color\": \"black\"}}, {\"type\": \"scatter\", \"x\": [812, 912], \"y\": [0, 0], \"mode\": \"lines\", \"line\": {\"width\": 2, \"color\": \"black\"}}, {\"type\": \"scatter\", \"x\": [0, 0], \"y\": [257, 357], \"mode\": \"lines\", \"line\": {\"width\": 2, \"color\": \"black\"}}, {\"type\": \"scatter\", \"x\": [0, 1600.0], \"y\": [357, 357], \"mode\": \"lines\", \"line\": {\"width\": 2, \"color\": \"black\"}}, {\"type\": \"scatter\", \"x\": [1600.0, 1600.0], \"y\": [357, 257], \"mode\": \"lines\", \"line\": {\"width\": 2, \"color\": \"black\"}}, {\"type\": \"scatter\", \"x\": [0, 1600.0], \"y\": [257, 257], \"mode\": \"lines\", \"line\": {\"width\": 2, \"color\": \"black\"}}, {\"type\": \"scatter\", \"x\": [0, 0], \"y\": [85, 185], \"mode\": \"lines\", \"line\": {\"width\": 2, \"color\": \"black\"}}, {\"type\": \"scatter\", \"x\": [0, 1600.0], \"y\": [185, 185], \"mode\": \"lines\", \"line\": {\"width\": 2, \"color\": \"black\"}}, {\"type\": \"scatter\", \"x\": [1600.0, 1600.0], \"y\": [185, 85], \"mode\": \"lines\", \"line\": {\"width\": 2, \"color\": \"black\"}}, {\"type\": \"scatter\", \"x\": [0, 1600.0], \"y\": [85, 85], \"mode\": \"lines\", \"line\": {\"width\": 2, \"color\": \"black\"}}, {\"type\": \"scatter\", \"x\": [465, 465], \"y\": [80, 260], \"mode\": \"lines\", \"line\": {\"width\": 2, \"color\": \"black\"}}, {\"type\": \"scatter\", \"x\": [465, 556], \"y\": [260, 260], \"mode\": \"lines\", \"line\": {\"width\": 2, \"color\": \"black\"}}, {\"type\": \"scatter\", \"x\": [556, 556], \"y\": [260, 80], \"mode\": \"lines\", \"line\": {\"width\": 2, \"color\": \"black\"}}, {\"type\": \"scatter\", \"x\": [465, 556], \"y\": [80, 80], \"mode\": \"lines\", \"line\": {\"width\": 2, \"color\": \"black\"}}, {\"type\": \"scatter\", \"x\": [200.0, 200.0, 200.0, 200.0, 600.0, 600.0, 600.0, 600.0, 1000.0, 1000.0, 1000.0, 1000.0, 1400.0, 1400.0, 1400.0, 1400.0, 953, 1166, 1178, 1041, 1381, 499, 12, 602, 706, 1411, 596, 1292, 529, 1447, 603, 1464, 959, 748, 691, 742, 702, 372, 921, 37, 861, 1026, 938, 1599, 667, 269, 1024, 896, 1527, 1068, 584, 84, 1492, 1125, 765, 1099, 701, 1498, 971, 920, 588, 167, 1395, 52, 46, 1053, 650, 683, 203, 247, 659, 1027, 1155, 925, 747, 1193, 1103, 944, 618, 922, 672, 126, 546, 119, 897, 1491, 800, 1185, 615, 1167, 270, 537, 816, 1379, 626, 836, 851, 609, 840, 1092, 281, 86, 491, 356, 351, 1084, 168, 768, 1406, 1491, 826, 1584, 1069, 539, 514, 590, 819, 347, 796, 339, 933, 81, 138, 42, 208, 259, 1555, 995, 1472, 728, 414, 199, 1138, 521, 696, 1382, 1240, 1057, 302, 698, 575, 1499, 242, 1451, 171, 1538, 569, 677, 972, 951, 294, 651, 773, 134, 158, 629, 847, 1392, 524, 222, 1178, 1361, 752, 829, 171, 516, 1021, 594, 186, 162, 1594, 921, 591, 609, 1450, 796, 338, 426, 1294, 1252, 906, 632, 1238, 249, 648, 307, 1039, 1062, 818, 956, 985, 1084, 990, 1139, 1091, 968, 1153, 1180, 545, 1317, 629, 1134, 733, 201, 536, 675, 249, 1530, 191, 1067, 1105, 209, 232, 845, 634, 1120, 812, 812, 912, 912, 0, 0, 1600.0, 1600.0, 0, 0, 1600.0, 1600.0, 465, 465, 556, 556], \"y\": [200.0, 600.0, 1000.0, 1400.0, 200.0, 600.0, 1000.0, 1400.0, 200.0, 600.0, 1000.0, 1400.0, 200.0, 600.0, 1000.0, 1400.0, 528, 582, 1287, 1009, 796, 293, 758, 794, 968, 298, 1204, 423, 562, 655, 500, 148, 915, 664, 1038, 276, 957, 235, 1158, 504, 876, 377, 629, 1173, 831, 868, 1578, 1347, 1130, 853, 1097, 128, 1293, 517, 121, 1056, 541, 811, 902, 636, 510, 169, 291, 919, 714, 657, 942, 939, 561, 154, 1203, 1587, 1463, 753, 79, 1439, 1067, 1502, 1198, 154, 1072, 332, 858, 444, 852, 12, 1120, 1064, 941, 938, 1064, 814, 1008, 1306, 781, 675, 852, 686, 749, 360, 138, 688, 277, 607, 1595, 117, 945, 1028, 620, 133, 1532, 1048, 803, 1096, 827, 965, 478, 972, 546, 568, 179, 906, 1080, 510, 1568, 472, 700, 1547, 287, 334, 32, 214, 575, 949, 1241, 596, 1188, 989, 1508, 536, 1452, 416, 596, 528, 1237, 959, 633, 1091, 855, 914, 1443, 728, 807, 1000, 746, 150, 114, 847, 222, 630, 385, 851, 1246, 1386, 1468, 896, 660, 672, 1415, 172, 1461, 543, 1070, 1341, 69, 546, 687, 1332, 579, 1148, 555, 538, 210, 101, 1449, 1262, 1084, 999, 887, 674, 1464, 1162, 802, 437, 817, 635, 436, 756, 268, 862, 1379, 1461, 778, 746, 139, 883, 942, 1118, 913, 529, 145, 1255, 1591, 1116, 627, 910, 0, 1600.0, 1600.0, 0, 257, 357, 357, 257, 85, 185, 185, 85, 80, 260, 260, 80], \"mode\": \"markers\", \"marker\": {\"size\": 8, \"color\": [\"orange\", \"orange\", \"orange\", \"orange\", \"orange\", \"orange\", \"orange\", \"orange\", \"orange\", \"orange\", \"orange\", \"orange\", \"orange\", \"orange\", \"orange\", \"orange\", \"blue\", \"magenta\", \"magenta\", \"blue\", \"magenta\", \"magenta\", \"magenta\", \"blue\", \"magenta\", \"magenta\", \"magenta\", \"magenta\", \"blue\", \"magenta\", \"blue\", \"magenta\", \"blue\", \"blue\", \"blue\", \"magenta\", \"blue\", \"magenta\", \"magenta\", \"magenta\", \"magenta\", \"magenta\", \"blue\", \"magenta\", \"blue\", \"magenta\", \"magenta\", \"magenta\", \"magenta\", \"blue\", \"blue\", \"magenta\", \"magenta\", \"magenta\", \"magenta\", \"magenta\", \"blue\", \"magenta\", \"magenta\", \"blue\", \"blue\", \"magenta\", \"magenta\", \"magenta\", \"magenta\", \"magenta\", \"blue\", \"blue\", \"magenta\", \"magenta\", \"magenta\", \"magenta\", \"magenta\", \"magenta\", \"magenta\", \"magenta\", \"magenta\", \"magenta\", \"magenta\", \"magenta\", \"magenta\", \"magenta\", \"blue\", \"magenta\", \"blue\", \"magenta\", \"magenta\", \"magenta\", \"blue\", \"magenta\", \"magenta\", \"magenta\", \"blue\", \"magenta\", \"magenta\", \"blue\", \"blue\", \"blue\", \"blue\", \"magenta\", \"magenta\", \"magenta\", \"magenta\", \"magenta\", \"magenta\", \"magenta\", \"magenta\", \"blue\", \"magenta\", \"magenta\", \"magenta\", \"magenta\", \"magenta\", \"blue\", \"magenta\", \"blue\", \"magenta\", \"magenta\", \"blue\", \"magenta\", \"magenta\", \"magenta\", \"magenta\", \"magenta\", \"magenta\", \"magenta\", \"magenta\", \"magenta\", \"magenta\", \"magenta\", \"magenta\", \"magenta\", \"magenta\", \"blue\", \"magenta\", \"magenta\", \"magenta\", \"blue\", \"magenta\", \"magenta\", \"magenta\", \"magenta\", \"magenta\", \"magenta\", \"magenta\", \"magenta\", \"blue\", \"blue\", \"magenta\", \"magenta\", \"magenta\", \"blue\", \"magenta\", \"magenta\", \"magenta\", \"magenta\", \"magenta\", \"magenta\", \"magenta\", \"magenta\", \"magenta\", \"magenta\", \"magenta\", \"magenta\", \"magenta\", \"blue\", \"blue\", \"magenta\", \"magenta\", \"magenta\", \"magenta\", \"magenta\", \"magenta\", \"magenta\", \"magenta\", \"blue\", \"magenta\", \"magenta\", \"magenta\", \"magenta\", \"blue\", \"blue\", \"magenta\", \"magenta\", \"magenta\", \"magenta\", \"magenta\", \"blue\", \"blue\", \"blue\", \"magenta\", \"magenta\", \"magenta\", \"magenta\", \"blue\", \"blue\", \"magenta\", \"magenta\", \"magenta\", \"magenta\", \"magenta\", \"magenta\", \"magenta\", \"magenta\", \"magenta\", \"blue\", \"magenta\", \"magenta\", \"magenta\", \"magenta\", \"magenta\", \"magenta\", \"magenta\", \"magenta\", \"blue\", \"magenta\", \"black\", \"black\", \"black\", \"black\", \"black\", \"black\", \"black\", \"black\", \"black\", \"black\", \"black\", \"black\", \"black\", \"black\", \"black\", \"black\"]}}],\n",
       "            {\"xaxis\": {\"range\": [0, 1600], \"title\": \"x\"}, \"yaxis\": {\"range\": [0, 1600], \"title\": \"y\"}, \"title\": \"UE and AP Distribution in the grid\", \"height\": 1000, \"width\": 1000, \"showlegend\": false, \"shapes\": [{\"type\": \"rect\", \"x0\": 812, \"y0\": 0, \"x1\": 912, \"y1\": 1600.0, \"line\": {\"color\": \"rgba(128, 0, 128, 1)\", \"width\": 2}, \"fillcolor\": \"rgba(128, 0, 128 0.1)\"}, {\"type\": \"rect\", \"x0\": 0, \"y0\": 257, \"x1\": 1600.0, \"y1\": 357, \"line\": {\"color\": \"rgba(128, 0, 128, 1)\", \"width\": 2}, \"fillcolor\": \"rgba(128, 0, 128 0.1)\"}, {\"type\": \"rect\", \"x0\": 0, \"y0\": 85, \"x1\": 1600.0, \"y1\": 185, \"line\": {\"color\": \"rgba(128, 0, 128, 1)\", \"width\": 2}, \"fillcolor\": \"rgba(128, 0, 128 0.1)\"}, {\"type\": \"rect\", \"x0\": 465, \"y0\": 80, \"x1\": 556, \"y1\": 260, \"line\": {\"color\": \"rgba(128, 0, 128, 1)\", \"width\": 2}, \"fillcolor\": \"rgba(128, 0, 128 0.1)\"}], \"updatemenus\": [{\"type\": \"buttons\", \"buttons\": [{\"label\": \"Play\", \"method\": \"animate\", \"args\": [null]}]}]},\n",
       "            {\"showLink\": true, \"linkText\": \"Export to plot.ly\"}\n",
       "        ).then(function () {return Plotly.addFrames('b535f5df-0537-4d2f-aa43-8cfa99dabc74',[{\"data\": [{\"type\": \"scatter\", \"x\": [600.0, 952.0], \"y\": [600.0, 529.0], \"mode\": \"lines\", \"line\": {\"width\": 2, \"color\": \"red\"}}, {\"type\": \"scatter\", \"x\": [1000.0, 1166.0], \"y\": [600.0, 584.0], \"mode\": \"lines\", \"line\": {\"width\": 2, \"color\": \"green\"}}, {\"type\": \"scatter\", \"x\": [1000.0, 1177.0], \"y\": [1400.0, 1289.0], \"mode\": \"lines\", \"line\": {\"width\": 2, \"color\": \"green\"}}, {\"type\": \"scatter\", \"x\": [1000.0, 1041.0], \"y\": [1000.0, 1007.0], \"mode\": \"lines\", \"line\": {\"width\": 2, \"color\": \"red\"}}, {\"type\": \"scatter\", \"x\": [1400.0, 1379.0], \"y\": [600.0, 796.0], \"mode\": \"lines\", \"line\": {\"width\": 2, \"color\": \"green\"}}, {\"type\": \"scatter\", \"x\": [600.0, 446], \"y\": [200.0, 293], \"mode\": \"lines\", \"line\": {\"width\": 2, \"color\": \"green\"}}, {\"type\": \"scatter\", \"x\": [200.0, 13.0], \"y\": [1000.0, 756.0], \"mode\": \"lines\", \"line\": {\"width\": 2, \"color\": \"green\"}}, {\"type\": \"scatter\", \"x\": [1000.0, 601.0], \"y\": [600.0, 796.0], \"mode\": \"lines\", \"line\": {\"width\": 2, \"color\": \"red\"}}, {\"type\": \"scatter\", \"x\": [600.0, 708.0], \"y\": [1000.0, 969.0], \"mode\": \"lines\", \"line\": {\"width\": 2, \"color\": \"green\"}}, {\"type\": \"scatter\", \"x\": [1400.0, 1437], \"y\": [200.0, 298], \"mode\": \"lines\", \"line\": {\"width\": 2, \"color\": \"green\"}}, {\"type\": \"scatter\", \"x\": [600.0, 594.0], \"y\": [1400.0, 1203.0], \"mode\": \"lines\", \"line\": {\"width\": 2, \"color\": \"green\"}}, {\"type\": \"scatter\", \"x\": [1400.0, 1294.0], \"y\": [600.0, 424.0], \"mode\": \"lines\", \"line\": {\"width\": 2, \"color\": \"green\"}}, {\"type\": \"scatter\", \"x\": [600.0, 529.0], \"y\": [600.0, 560.0], \"mode\": \"lines\", \"line\": {\"width\": 2, \"color\": \"red\"}}, {\"type\": \"scatter\", \"x\": [1400.0, 1446.0], \"y\": [1000.0, 657.0], \"mode\": \"lines\", \"line\": {\"width\": 2, \"color\": \"green\"}}, {\"type\": \"scatter\", \"x\": [600.0, 604.0], \"y\": [200.0, 502.0], \"mode\": \"lines\", \"line\": {\"width\": 2, \"color\": \"red\"}}, {\"type\": \"scatter\", \"x\": [1400.0, 1497], \"y\": [200.0, 148], \"mode\": \"lines\", \"line\": {\"width\": 2, \"color\": \"green\"}}, {\"type\": \"scatter\", \"x\": [600.0, 959.0], \"y\": [600.0, 917.0], \"mode\": \"lines\", \"line\": {\"width\": 2, \"color\": \"red\"}}, {\"type\": \"scatter\", \"x\": [600.0, 748.0], \"y\": [600.0, 662.0], \"mode\": \"lines\", \"line\": {\"width\": 2, \"color\": \"red\"}}, {\"type\": \"scatter\", \"x\": [600.0, 693.0], \"y\": [1000.0, 1039.0], \"mode\": \"lines\", \"line\": {\"width\": 2, \"color\": \"red\"}}, {\"type\": \"scatter\", \"x\": [600.0, 703], \"y\": [200.0, 276], \"mode\": \"lines\", \"line\": {\"width\": 2, \"color\": \"green\"}}, {\"type\": \"scatter\", \"x\": [1000.0, 704.0], \"y\": [1000.0, 957.0], \"mode\": \"lines\", \"line\": {\"width\": 2, \"color\": \"red\"}}, {\"type\": \"scatter\", \"x\": [200.0, 370.0], \"y\": [200.0, 236.0], \"mode\": \"lines\", \"line\": {\"width\": 2, \"color\": \"green\"}}, {\"type\": \"scatter\", \"x\": [1000.0, 919.0], \"y\": [1000.0, 1158.0], \"mode\": \"lines\", \"line\": {\"width\": 2, \"color\": \"green\"}}, {\"type\": \"scatter\", \"x\": [200.0, 35.0], \"y\": [600.0, 503.0], \"mode\": \"lines\", \"line\": {\"width\": 2, \"color\": \"green\"}}, {\"type\": \"scatter\", \"x\": [1000.0, 861], \"y\": [1000.0, 828], \"mode\": \"lines\", \"line\": {\"width\": 2, \"color\": \"green\"}}, {\"type\": \"scatter\", \"x\": [1400.0, 1024.0], \"y\": [600.0, 376.0], \"mode\": \"lines\", \"line\": {\"width\": 2, \"color\": \"green\"}}, {\"type\": \"scatter\", \"x\": [1000.0, 940.0], \"y\": [600.0, 628.0], \"mode\": \"lines\", \"line\": {\"width\": 2, \"color\": \"red\"}}, {\"type\": \"scatter\", \"x\": [1400.0, 1599.0], \"y\": [1000.0, 1172.0], \"mode\": \"lines\", \"line\": {\"width\": 2, \"color\": \"green\"}}, {\"type\": \"scatter\", \"x\": [600.0, 666.0], \"y\": [1000.0, 832.0], \"mode\": \"lines\", \"line\": {\"width\": 2, \"color\": \"red\"}}, {\"type\": \"scatter\", \"x\": [200.0, 269.0], \"y\": [1000.0, 870.0], \"mode\": \"lines\", \"line\": {\"width\": 2, \"color\": \"green\"}}, {\"type\": \"scatter\", \"x\": [1400.0, 1026.0], \"y\": [1400.0, 1577.0], \"mode\": \"lines\", \"line\": {\"width\": 2, \"color\": \"green\"}}, {\"type\": \"scatter\", \"x\": [1000.0, 896], \"y\": [1400.0, 1302], \"mode\": \"lines\", \"line\": {\"width\": 2, \"color\": \"green\"}}, {\"type\": \"scatter\", \"x\": [1400.0, 1525.0], \"y\": [1000.0, 1131.0], \"mode\": \"lines\", \"line\": {\"width\": 2, \"color\": \"green\"}}, {\"type\": \"scatter\", \"x\": [1000.0, 1070.0], \"y\": [1000.0, 854.0], \"mode\": \"lines\", \"line\": {\"width\": 2, \"color\": \"red\"}}, {\"type\": \"scatter\", \"x\": [200.0, 582.0], \"y\": [1400.0, 1098.0], \"mode\": \"lines\", \"line\": {\"width\": 2, \"color\": \"green\"}}, {\"type\": \"scatter\", \"x\": [200.0, 142], \"y\": [200.0, 128], \"mode\": \"lines\", \"line\": {\"width\": 2, \"color\": \"green\"}}, {\"type\": \"scatter\", \"x\": [1400.0, 1492.0], \"y\": [1400.0, 1295.0], \"mode\": \"lines\", \"line\": {\"width\": 2, \"color\": \"green\"}}, {\"type\": \"scatter\", \"x\": [1000.0, 1127.0], \"y\": [600.0, 516.0], \"mode\": \"lines\", \"line\": {\"width\": 2, \"color\": \"green\"}}, {\"type\": \"scatter\", \"x\": [600.0, 718], \"y\": [200.0, 121], \"mode\": \"lines\", \"line\": {\"width\": 2, \"color\": \"green\"}}, {\"type\": \"scatter\", \"x\": [1400.0, 1098.0], \"y\": [1400.0, 1057.0], \"mode\": \"lines\", \"line\": {\"width\": 2, \"color\": \"green\"}}, {\"type\": \"scatter\", \"x\": [600.0, 700.0], \"y\": [200.0, 539.0], \"mode\": \"lines\", \"line\": {\"width\": 2, \"color\": \"red\"}}, {\"type\": \"scatter\", \"x\": [1400.0, 1500.0], \"y\": [1000.0, 811.0], \"mode\": \"lines\", \"line\": {\"width\": 2, \"color\": \"green\"}}, {\"type\": \"scatter\", \"x\": [1000.0, 970.0], \"y\": [1000.0, 904.0], \"mode\": \"lines\", \"line\": {\"width\": 2, \"color\": \"green\"}}, {\"type\": \"scatter\", \"x\": [1000.0, 919.0], \"y\": [600.0, 635.0], \"mode\": \"lines\", \"line\": {\"width\": 2, \"color\": \"red\"}}, {\"type\": \"scatter\", \"x\": [200.0, 590.0], \"y\": [600.0, 511.0], \"mode\": \"lines\", \"line\": {\"width\": 2, \"color\": \"red\"}}, {\"type\": \"scatter\", \"x\": [200.0, 202], \"y\": [200.0, 169], \"mode\": \"lines\", \"line\": {\"width\": 2, \"color\": \"green\"}}, {\"type\": \"scatter\", \"x\": [1400.0, 1336], \"y\": [200.0, 291], \"mode\": \"lines\", \"line\": {\"width\": 2, \"color\": \"green\"}}, {\"type\": \"scatter\", \"x\": [200.0, 51.0], \"y\": [1000.0, 917.0], \"mode\": \"lines\", \"line\": {\"width\": 2, \"color\": \"green\"}}, {\"type\": \"scatter\", \"x\": [200.0, 48.0], \"y\": [1000.0, 715.0], \"mode\": \"lines\", \"line\": {\"width\": 2, \"color\": \"green\"}}, {\"type\": \"scatter\", \"x\": [1000.0, 1051.0], \"y\": [600.0, 656.0], \"mode\": \"lines\", \"line\": {\"width\": 2, \"color\": \"green\"}}, {\"type\": \"scatter\", \"x\": [600.0, 652.0], \"y\": [600.0, 942.0], \"mode\": \"lines\", \"line\": {\"width\": 2, \"color\": \"red\"}}, {\"type\": \"scatter\", \"x\": [600.0, 682.0], \"y\": [1000.0, 937.0], \"mode\": \"lines\", \"line\": {\"width\": 2, \"color\": \"red\"}}, {\"type\": \"scatter\", \"x\": [200.0, 202.0], \"y\": [600.0, 559.0], \"mode\": \"lines\", \"line\": {\"width\": 2, \"color\": \"green\"}}, {\"type\": \"scatter\", \"x\": [600.0, 208], \"y\": [200.0, 154], \"mode\": \"lines\", \"line\": {\"width\": 2, \"color\": \"green\"}}, {\"type\": \"scatter\", \"x\": [600.0, 660.0], \"y\": [1400.0, 1205.0], \"mode\": \"lines\", \"line\": {\"width\": 2, \"color\": \"green\"}}, {\"type\": \"scatter\", \"x\": [1000.0, 1028.0], \"y\": [1400.0, 1588.0], \"mode\": \"lines\", \"line\": {\"width\": 2, \"color\": \"green\"}}, {\"type\": \"scatter\", \"x\": [1000.0, 1153.0], \"y\": [1400.0, 1464.0], \"mode\": \"lines\", \"line\": {\"width\": 2, \"color\": \"green\"}}, {\"type\": \"scatter\", \"x\": [1000.0, 924.0], \"y\": [600.0, 751.0], \"mode\": \"lines\", \"line\": {\"width\": 2, \"color\": \"green\"}}, {\"type\": \"scatter\", \"x\": [600.0, 745.0], \"y\": [200.0, 78.0], \"mode\": \"lines\", \"line\": {\"width\": 2, \"color\": \"green\"}}, {\"type\": \"scatter\", \"x\": [1000.0, 1195.0], \"y\": [1400.0, 1439.0], \"mode\": \"lines\", \"line\": {\"width\": 2, \"color\": \"green\"}}, {\"type\": \"scatter\", \"x\": [1000.0, 1103.0], \"y\": [1000.0, 1065.0], \"mode\": \"lines\", \"line\": {\"width\": 2, \"color\": \"green\"}}, {\"type\": \"scatter\", \"x\": [600.0, 942.0], \"y\": [1400.0, 1501.0], \"mode\": \"lines\", \"line\": {\"width\": 2, \"color\": \"green\"}}, {\"type\": \"scatter\", \"x\": [600.0, 619.0], \"y\": [1000.0, 1197.0], \"mode\": \"lines\", \"line\": {\"width\": 2, \"color\": \"green\"}}, {\"type\": \"scatter\", \"x\": [600.0, 899], \"y\": [200.0, 154], \"mode\": \"lines\", \"line\": {\"width\": 2, \"color\": \"green\"}}, {\"type\": \"scatter\", \"x\": [600.0, 672.0], \"y\": [1400.0, 1074.0], \"mode\": \"lines\", \"line\": {\"width\": 2, \"color\": \"green\"}}, {\"type\": \"scatter\", \"x\": [200.0, 147], \"y\": [600.0, 332], \"mode\": \"lines\", \"line\": {\"width\": 2, \"color\": \"green\"}}, {\"type\": \"scatter\", \"x\": [600.0, 546.0], \"y\": [600.0, 860.0], \"mode\": \"lines\", \"line\": {\"width\": 2, \"color\": \"red\"}}, {\"type\": \"scatter\", \"x\": [200.0, 119.0], \"y\": [600.0, 442.0], \"mode\": \"lines\", \"line\": {\"width\": 2, \"color\": \"green\"}}, {\"type\": \"scatter\", \"x\": [600.0, 897], \"y\": [1000.0, 909], \"mode\": \"lines\", \"line\": {\"width\": 2, \"color\": \"red\"}}, {\"type\": \"scatter\", \"x\": [1400.0, 1490.0], \"y\": [200.0, 14.0], \"mode\": \"lines\", \"line\": {\"width\": 2, \"color\": \"green\"}}, {\"type\": \"scatter\", \"x\": [600.0, 802.0], \"y\": [1000.0, 1120.0], \"mode\": \"lines\", \"line\": {\"width\": 2, \"color\": \"green\"}}, {\"type\": \"scatter\", \"x\": [1000.0, 1184.0], \"y\": [1000.0, 1062.0], \"mode\": \"lines\", \"line\": {\"width\": 2, \"color\": \"green\"}}, {\"type\": \"scatter\", \"x\": [600.0, 613.0], \"y\": [1000.0, 940.0], \"mode\": \"lines\", \"line\": {\"width\": 2, \"color\": \"red\"}}, {\"type\": \"scatter\", \"x\": [1000.0, 1168.0], \"y\": [600.0, 940.0], \"mode\": \"lines\", \"line\": {\"width\": 2, \"color\": \"green\"}}, {\"type\": \"scatter\", \"x\": [200.0, 272.0], \"y\": [1000.0, 1065.0], \"mode\": \"lines\", \"line\": {\"width\": 2, \"color\": \"green\"}}, {\"type\": \"scatter\", \"x\": [600.0, 539.0], \"y\": [1000.0, 815.0], \"mode\": \"lines\", \"line\": {\"width\": 2, \"color\": \"green\"}}, {\"type\": \"scatter\", \"x\": [1000.0, 816], \"y\": [1000.0, 967], \"mode\": \"lines\", \"line\": {\"width\": 2, \"color\": \"red\"}}, {\"type\": \"scatter\", \"x\": [1400.0, 1378.0], \"y\": [1400.0, 1304.0], \"mode\": \"lines\", \"line\": {\"width\": 2, \"color\": \"green\"}}, {\"type\": \"scatter\", \"x\": [600.0, 628.0], \"y\": [600.0, 782.0], \"mode\": \"lines\", \"line\": {\"width\": 2, \"color\": \"green\"}}, {\"type\": \"scatter\", \"x\": [1000.0, 836], \"y\": [1000.0, 703], \"mode\": \"lines\", \"line\": {\"width\": 2, \"color\": \"red\"}}, {\"type\": \"scatter\", \"x\": [1000.0, 851], \"y\": [1000.0, 796], \"mode\": \"lines\", \"line\": {\"width\": 2, \"color\": \"red\"}}, {\"type\": \"scatter\", \"x\": [600.0, 607.0], \"y\": [1000.0, 685.0], \"mode\": \"lines\", \"line\": {\"width\": 2, \"color\": \"red\"}}, {\"type\": \"scatter\", \"x\": [1000.0, 840], \"y\": [600.0, 703], \"mode\": \"lines\", \"line\": {\"width\": 2, \"color\": \"red\"}}, {\"type\": \"scatter\", \"x\": [1000.0, 1093.0], \"y\": [200.0, 361.0], \"mode\": \"lines\", \"line\": {\"width\": 2, \"color\": \"green\"}}, {\"type\": \"scatter\", \"x\": [200.0, 338], \"y\": [200.0, 138], \"mode\": \"lines\", \"line\": {\"width\": 2, \"color\": \"green\"}}, {\"type\": \"scatter\", \"x\": [200.0, 84.0], \"y\": [600.0, 689.0], \"mode\": \"lines\", \"line\": {\"width\": 2, \"color\": \"green\"}}, {\"type\": \"scatter\", \"x\": [600.0, 517], \"y\": [200.0, 277], \"mode\": \"lines\", \"line\": {\"width\": 2, \"color\": \"green\"}}, {\"type\": \"scatter\", \"x\": [200.0, 354.0], \"y\": [600.0, 606.0], \"mode\": \"lines\", \"line\": {\"width\": 2, \"color\": \"green\"}}, {\"type\": \"scatter\", \"x\": [200.0, 351.0], \"y\": [1400.0, 1597.0], \"mode\": \"lines\", \"line\": {\"width\": 2, \"color\": \"green\"}}, {\"type\": \"scatter\", \"x\": [1000.0, 1143], \"y\": [200.0, 117], \"mode\": \"lines\", \"line\": {\"width\": 2, \"color\": \"green\"}}, {\"type\": \"scatter\", \"x\": [200.0, 170.0], \"y\": [600.0, 945.0], \"mode\": \"lines\", \"line\": {\"width\": 2, \"color\": \"green\"}}, {\"type\": \"scatter\", \"x\": [600.0, 768.0], \"y\": [1000.0, 1030.0], \"mode\": \"lines\", \"line\": {\"width\": 2, \"color\": \"red\"}}, {\"type\": \"scatter\", \"x\": [1400.0, 1407.0], \"y\": [1000.0, 618.0], \"mode\": \"lines\", \"line\": {\"width\": 2, \"color\": \"green\"}}, {\"type\": \"scatter\", \"x\": [1400.0, 1446], \"y\": [200.0, 133], \"mode\": \"lines\", \"line\": {\"width\": 2, \"color\": \"green\"}}, {\"type\": \"scatter\", \"x\": [1000.0, 826], \"y\": [1400.0, 1569], \"mode\": \"lines\", \"line\": {\"width\": 2, \"color\": \"green\"}}, {\"type\": \"scatter\", \"x\": [1400.0, 1584.0], \"y\": [1400.0, 1050.0], \"mode\": \"lines\", \"line\": {\"width\": 2, \"color\": \"green\"}}, {\"type\": \"scatter\", \"x\": [1000.0, 1067.0], \"y\": [1000.0, 804.0], \"mode\": \"lines\", \"line\": {\"width\": 2, \"color\": \"green\"}}, {\"type\": \"scatter\", \"x\": [600.0, 537.0], \"y\": [1400.0, 1097.0], \"mode\": \"lines\", \"line\": {\"width\": 2, \"color\": \"red\"}}, {\"type\": \"scatter\", \"x\": [200.0, 514.0], \"y\": [600.0, 825.0], \"mode\": \"lines\", \"line\": {\"width\": 2, \"color\": \"green\"}}, {\"type\": \"scatter\", \"x\": [600.0, 589.0], \"y\": [600.0, 967.0], \"mode\": \"lines\", \"line\": {\"width\": 2, \"color\": \"red\"}}, {\"type\": \"scatter\", \"x\": [1000.0, 819], \"y\": [600.0, 522], \"mode\": \"lines\", \"line\": {\"width\": 2, \"color\": \"green\"}}, {\"type\": \"scatter\", \"x\": [200.0, 346.0], \"y\": [1000.0, 970.0], \"mode\": \"lines\", \"line\": {\"width\": 2, \"color\": \"green\"}}, {\"type\": \"scatter\", \"x\": [1000.0, 795.0], \"y\": [600.0, 548.0], \"mode\": \"lines\", \"line\": {\"width\": 2, \"color\": \"red\"}}, {\"type\": \"scatter\", \"x\": [200.0, 341.0], \"y\": [600.0, 569.0], \"mode\": \"lines\", \"line\": {\"width\": 2, \"color\": \"green\"}}, {\"type\": \"scatter\", \"x\": [1000.0, 892], \"y\": [200.0, 179], \"mode\": \"lines\", \"line\": {\"width\": 2, \"color\": \"green\"}}, {\"type\": \"scatter\", \"x\": [200.0, 83.0], \"y\": [600.0, 906.0], \"mode\": \"lines\", \"line\": {\"width\": 2, \"color\": \"green\"}}, {\"type\": \"scatter\", \"x\": [200.0, 136.0], \"y\": [1000.0, 1079.0], \"mode\": \"lines\", \"line\": {\"width\": 2, \"color\": \"green\"}}, {\"type\": \"scatter\", \"x\": [200.0, 44.0], \"y\": [600.0, 511.0], \"mode\": \"lines\", \"line\": {\"width\": 2, \"color\": \"green\"}}, {\"type\": \"scatter\", \"x\": [200.0, 207.0], \"y\": [1400.0, 1567.0], \"mode\": \"lines\", \"line\": {\"width\": 2, \"color\": \"green\"}}, {\"type\": \"scatter\", \"x\": [200.0, 259.0], \"y\": [600.0, 474.0], \"mode\": \"lines\", \"line\": {\"width\": 2, \"color\": \"green\"}}, {\"type\": \"scatter\", \"x\": [1400.0, 1553.0], \"y\": [600.0, 701.0], \"mode\": \"lines\", \"line\": {\"width\": 2, \"color\": \"green\"}}, {\"type\": \"scatter\", \"x\": [1000.0, 993.0], \"y\": [1400.0, 1547.0], \"mode\": \"lines\", \"line\": {\"width\": 2, \"color\": \"green\"}}, {\"type\": \"scatter\", \"x\": [1400.0, 1525], \"y\": [200.0, 287], \"mode\": \"lines\", \"line\": {\"width\": 2, \"color\": \"green\"}}, {\"type\": \"scatter\", \"x\": [600.0, 786], \"y\": [200.0, 334], \"mode\": \"lines\", \"line\": {\"width\": 2, \"color\": \"green\"}}, {\"type\": \"scatter\", \"x\": [600.0, 415.0], \"y\": [200.0, 34.0], \"mode\": \"lines\", \"line\": {\"width\": 2, \"color\": \"green\"}}, {\"type\": \"scatter\", \"x\": [200.0, 197.0], \"y\": [200.0, 215.0], \"mode\": \"lines\", \"line\": {\"width\": 2, \"color\": \"green\"}}, {\"type\": \"scatter\", \"x\": [1000.0, 1139.0], \"y\": [600.0, 577.0], \"mode\": \"lines\", \"line\": {\"width\": 2, \"color\": \"green\"}}, {\"type\": \"scatter\", \"x\": [600.0, 521.0], \"y\": [600.0, 951.0], \"mode\": \"lines\", \"line\": {\"width\": 2, \"color\": \"red\"}}, {\"type\": \"scatter\", \"x\": [600.0, 694.0], \"y\": [1400.0, 1242.0], \"mode\": \"lines\", \"line\": {\"width\": 2, \"color\": \"green\"}}, {\"type\": \"scatter\", \"x\": [1400.0, 1381.0], \"y\": [600.0, 595.0], \"mode\": \"lines\", \"line\": {\"width\": 2, \"color\": \"green\"}}, {\"type\": \"scatter\", \"x\": [1000.0, 1240.0], \"y\": [1000.0, 1186.0], \"mode\": \"lines\", \"line\": {\"width\": 2, \"color\": \"green\"}}, {\"type\": \"scatter\", \"x\": [1000.0, 1058.0], \"y\": [1000.0, 990.0], \"mode\": \"lines\", \"line\": {\"width\": 2, \"color\": \"red\"}}, {\"type\": \"scatter\", \"x\": [200.0, 300.0], \"y\": [1400.0, 1507.0], \"mode\": \"lines\", \"line\": {\"width\": 2, \"color\": \"green\"}}, {\"type\": \"scatter\", \"x\": [1000.0, 699.0], \"y\": [600.0, 537.0], \"mode\": \"lines\", \"line\": {\"width\": 2, \"color\": \"green\"}}, {\"type\": \"scatter\", \"x\": [600.0, 573.0], \"y\": [1400.0, 1451.0], \"mode\": \"lines\", \"line\": {\"width\": 2, \"color\": \"green\"}}, {\"type\": \"scatter\", \"x\": [1400.0, 1497.0], \"y\": [600.0, 416.0], \"mode\": \"lines\", \"line\": {\"width\": 2, \"color\": \"green\"}}, {\"type\": \"scatter\", \"x\": [200.0, 241.0], \"y\": [600.0, 595.0], \"mode\": \"lines\", \"line\": {\"width\": 2, \"color\": \"green\"}}, {\"type\": \"scatter\", \"x\": [1400.0, 1450.0], \"y\": [600.0, 527.0], \"mode\": \"lines\", \"line\": {\"width\": 2, \"color\": \"green\"}}, {\"type\": \"scatter\", \"x\": [200.0, 170.0], \"y\": [1400.0, 1236.0], \"mode\": \"lines\", \"line\": {\"width\": 2, \"color\": \"green\"}}, {\"type\": \"scatter\", \"x\": [1400.0, 1537.0], \"y\": [1000.0, 960.0], \"mode\": \"lines\", \"line\": {\"width\": 2, \"color\": \"green\"}}, {\"type\": \"scatter\", \"x\": [600.0, 571.0], \"y\": [600.0, 633.0], \"mode\": \"lines\", \"line\": {\"width\": 2, \"color\": \"red\"}}, {\"type\": \"scatter\", \"x\": [600.0, 678.0], \"y\": [1400.0, 1089.0], \"mode\": \"lines\", \"line\": {\"width\": 2, \"color\": \"red\"}}, {\"type\": \"scatter\", \"x\": [1000.0, 971.0], \"y\": [600.0, 857.0], \"mode\": \"lines\", \"line\": {\"width\": 2, \"color\": \"green\"}}, {\"type\": \"scatter\", \"x\": [1000.0, 950.0], \"y\": [1000.0, 912.0], \"mode\": \"lines\", \"line\": {\"width\": 2, \"color\": \"green\"}}, {\"type\": \"scatter\", \"x\": [200.0, 294.0], \"y\": [1400.0, 1441.0], \"mode\": \"lines\", \"line\": {\"width\": 2, \"color\": \"green\"}}, {\"type\": \"scatter\", \"x\": [600.0, 652.0], \"y\": [600.0, 727.0], \"mode\": \"lines\", \"line\": {\"width\": 2, \"color\": \"red\"}}, {\"type\": \"scatter\", \"x\": [600.0, 773.0], \"y\": [1000.0, 805.0], \"mode\": \"lines\", \"line\": {\"width\": 2, \"color\": \"green\"}}, {\"type\": \"scatter\", \"x\": [200.0, 134.0], \"y\": [1000.0, 1002.0], \"mode\": \"lines\", \"line\": {\"width\": 2, \"color\": \"green\"}}, {\"type\": \"scatter\", \"x\": [200.0, 156.0], \"y\": [600.0, 747.0], \"mode\": \"lines\", \"line\": {\"width\": 2, \"color\": \"green\"}}, {\"type\": \"scatter\", \"x\": [600.0, 593], \"y\": [200.0, 150], \"mode\": \"lines\", \"line\": {\"width\": 2, \"color\": \"green\"}}, {\"type\": \"scatter\", \"x\": [1000.0, 847], \"y\": [200.0, 77], \"mode\": \"lines\", \"line\": {\"width\": 2, \"color\": \"green\"}}, {\"type\": \"scatter\", \"x\": [1400.0, 1393.0], \"y\": [1000.0, 846.0], \"mode\": \"lines\", \"line\": {\"width\": 2, \"color\": \"green\"}}, {\"type\": \"scatter\", \"x\": [600.0, 524.7914995803575], \"y\": [200.0, 221.38883029010432], \"mode\": \"lines\", \"line\": {\"width\": 2, \"color\": \"green\"}}, {\"type\": \"scatter\", \"x\": [200.0, 222.0], \"y\": [600.0, 632.0], \"mode\": \"lines\", \"line\": {\"width\": 2, \"color\": \"green\"}}, {\"type\": \"scatter\", \"x\": [1000.0, 1178.0], \"y\": [200.0, 383.0], \"mode\": \"lines\", \"line\": {\"width\": 2, \"color\": \"green\"}}, {\"type\": \"scatter\", \"x\": [1400.0, 1361.0], \"y\": [1000.0, 849.0], \"mode\": \"lines\", \"line\": {\"width\": 2, \"color\": \"green\"}}, {\"type\": \"scatter\", \"x\": [600.0, 754.0], \"y\": [1400.0, 1246.0], \"mode\": \"lines\", \"line\": {\"width\": 2, \"color\": \"green\"}}, {\"type\": \"scatter\", \"x\": [1000.0, 829], \"y\": [1000.0, 1364], \"mode\": \"lines\", \"line\": {\"width\": 2, \"color\": \"green\"}}, {\"type\": \"scatter\", \"x\": [200.0, 169.0], \"y\": [1400.0, 1469.0], \"mode\": \"lines\", \"line\": {\"width\": 2, \"color\": \"green\"}}, {\"type\": \"scatter\", \"x\": [600.0, 515.0], \"y\": [600.0, 898.0], \"mode\": \"lines\", \"line\": {\"width\": 2, \"color\": \"red\"}}, {\"type\": \"scatter\", \"x\": [1000.0, 1022.0], \"y\": [600.0, 662.0], \"mode\": \"lines\", \"line\": {\"width\": 2, \"color\": \"red\"}}, {\"type\": \"scatter\", \"x\": [600.0, 596.0], \"y\": [1000.0, 672.0], \"mode\": \"lines\", \"line\": {\"width\": 2, \"color\": \"green\"}}, {\"type\": \"scatter\", \"x\": [200.0, 188.0], \"y\": [1400.0, 1416.0], \"mode\": \"lines\", \"line\": {\"width\": 2, \"color\": \"green\"}}, {\"type\": \"scatter\", \"x\": [200.0, 196], \"y\": [200.0, 172], \"mode\": \"lines\", \"line\": {\"width\": 2, \"color\": \"green\"}}, {\"type\": \"scatter\", \"x\": [1400.0, 1592.0], \"y\": [1400.0, 1460.0], \"mode\": \"lines\", \"line\": {\"width\": 2, \"color\": \"green\"}}, {\"type\": \"scatter\", \"x\": [1000.0, 922.0], \"y\": [600.0, 545.0], \"mode\": \"lines\", \"line\": {\"width\": 2, \"color\": \"green\"}}, {\"type\": \"scatter\", \"x\": [600.0, 589.0], \"y\": [1400.0, 1069.0], \"mode\": \"lines\", \"line\": {\"width\": 2, \"color\": \"green\"}}, {\"type\": \"scatter\", \"x\": [600.0, 607.0], \"y\": [1400.0, 1342.0], \"mode\": \"lines\", \"line\": {\"width\": 2, \"color\": \"green\"}}, {\"type\": \"scatter\", \"x\": [1400.0, 1452.0], \"y\": [200.0, 70.0], \"mode\": \"lines\", \"line\": {\"width\": 2, \"color\": \"green\"}}, {\"type\": \"scatter\", \"x\": [1000.0, 798.0], \"y\": [600.0, 546.0], \"mode\": \"lines\", \"line\": {\"width\": 2, \"color\": \"red\"}}, {\"type\": \"scatter\", \"x\": [200.0, 336.0], \"y\": [600.0, 686.0], \"mode\": \"lines\", \"line\": {\"width\": 2, \"color\": \"green\"}}, {\"type\": \"scatter\", \"x\": [600.0, 428.0], \"y\": [1400.0, 1332.0], \"mode\": \"lines\", \"line\": {\"width\": 2, \"color\": \"green\"}}, {\"type\": \"scatter\", \"x\": [1400.0, 1293.0], \"y\": [600.0, 578.0], \"mode\": \"lines\", \"line\": {\"width\": 2, \"color\": \"green\"}}, {\"type\": \"scatter\", \"x\": [1400.0, 1253.0], \"y\": [1000.0, 1150.0], \"mode\": \"lines\", \"line\": {\"width\": 2, \"color\": \"green\"}}, {\"type\": \"scatter\", \"x\": [600.0, 906], \"y\": [600.0, 601], \"mode\": \"lines\", \"line\": {\"width\": 2, \"color\": \"red\"}}, {\"type\": \"scatter\", \"x\": [600.0, 633.0], \"y\": [200.0, 536.0], \"mode\": \"lines\", \"line\": {\"width\": 2, \"color\": \"red\"}}, {\"type\": \"scatter\", \"x\": [1400.0, 1238.0], \"y\": [200.0, 212.0], \"mode\": \"lines\", \"line\": {\"width\": 2, \"color\": \"green\"}}, {\"type\": \"scatter\", \"x\": [200.0, 211], \"y\": [200.0, 101], \"mode\": \"lines\", \"line\": {\"width\": 2, \"color\": \"green\"}}, {\"type\": \"scatter\", \"x\": [1000.0, 650.0], \"y\": [1400.0, 1450.0], \"mode\": \"lines\", \"line\": {\"width\": 2, \"color\": \"green\"}}, {\"type\": \"scatter\", \"x\": [200.0, 305.0], \"y\": [1400.0, 1261.0], \"mode\": \"lines\", \"line\": {\"width\": 2, \"color\": \"green\"}}, {\"type\": \"scatter\", \"x\": [1000.0, 1037.0], \"y\": [1000.0, 1085.0], \"mode\": \"lines\", \"line\": {\"width\": 2, \"color\": \"green\"}}, {\"type\": \"scatter\", \"x\": [1000.0, 1063.0], \"y\": [1000.0, 997.0], \"mode\": \"lines\", \"line\": {\"width\": 2, \"color\": \"red\"}}, {\"type\": \"scatter\", \"x\": [600.0, 818], \"y\": [1000.0, 859], \"mode\": \"lines\", \"line\": {\"width\": 2, \"color\": \"red\"}}, {\"type\": \"scatter\", \"x\": [1000.0, 957.0], \"y\": [1000.0, 673.0], \"mode\": \"lines\", \"line\": {\"width\": 2, \"color\": \"red\"}}, {\"type\": \"scatter\", \"x\": [1000.0, 986.0], \"y\": [1400.0, 1466.0], \"mode\": \"lines\", \"line\": {\"width\": 2, \"color\": \"green\"}}, {\"type\": \"scatter\", \"x\": [1000.0, 1084.0], \"y\": [1400.0, 1160.0], \"mode\": \"lines\", \"line\": {\"width\": 2, \"color\": \"green\"}}, {\"type\": \"scatter\", \"x\": [1000.0, 989.0], \"y\": [1000.0, 804.0], \"mode\": \"lines\", \"line\": {\"width\": 2, \"color\": \"green\"}}, {\"type\": \"scatter\", \"x\": [1000.0, 1138.0], \"y\": [200.0, 436.0], \"mode\": \"lines\", \"line\": {\"width\": 2, \"color\": \"green\"}}, {\"type\": \"scatter\", \"x\": [1000.0, 1093.0], \"y\": [1000.0, 818.0], \"mode\": \"lines\", \"line\": {\"width\": 2, \"color\": \"red\"}}, {\"type\": \"scatter\", \"x\": [1000.0, 969.0], \"y\": [1000.0, 636.0], \"mode\": \"lines\", \"line\": {\"width\": 2, \"color\": \"red\"}}, {\"type\": \"scatter\", \"x\": [1000.0, 1155.0], \"y\": [200.0, 436.0], \"mode\": \"lines\", \"line\": {\"width\": 2, \"color\": \"green\"}}, {\"type\": \"scatter\", \"x\": [1000.0, 1178.0], \"y\": [1000.0, 756.0], \"mode\": \"lines\", \"line\": {\"width\": 2, \"color\": \"green\"}}, {\"type\": \"scatter\", \"x\": [600.0, 522], \"y\": [200.0, 268], \"mode\": \"lines\", \"line\": {\"width\": 2, \"color\": \"green\"}}, {\"type\": \"scatter\", \"x\": [1400.0, 1316.0], \"y\": [1000.0, 864.0], \"mode\": \"lines\", \"line\": {\"width\": 2, \"color\": \"green\"}}, {\"type\": \"scatter\", \"x\": [600.0, 630.0], \"y\": [1400.0, 1378.0], \"mode\": \"lines\", \"line\": {\"width\": 2, \"color\": \"green\"}}, {\"type\": \"scatter\", \"x\": [1000.0, 1132.0], \"y\": [1400.0, 1461.0], \"mode\": \"lines\", \"line\": {\"width\": 2, \"color\": \"green\"}}, {\"type\": \"scatter\", \"x\": [600.0, 731.0], \"y\": [1000.0, 779.0], \"mode\": \"lines\", \"line\": {\"width\": 2, \"color\": \"green\"}}, {\"type\": \"scatter\", \"x\": [200.0, 199.0], \"y\": [600.0, 745.0], \"mode\": \"lines\", \"line\": {\"width\": 2, \"color\": \"green\"}}, {\"type\": \"scatter\", \"x\": [600.0, 514], \"y\": [200.0, 139], \"mode\": \"lines\", \"line\": {\"width\": 2, \"color\": \"green\"}}, {\"type\": \"scatter\", \"x\": [600.0, 674.0], \"y\": [1000.0, 885.0], \"mode\": \"lines\", \"line\": {\"width\": 2, \"color\": \"red\"}}, {\"type\": \"scatter\", \"x\": [200.0, 247.0], \"y\": [1000.0, 943.0], \"mode\": \"lines\", \"line\": {\"width\": 2, \"color\": \"green\"}}, {\"type\": \"scatter\", \"x\": [1400.0, 1529.0], \"y\": [1000.0, 1119.0], \"mode\": \"lines\", \"line\": {\"width\": 2, \"color\": \"green\"}}, {\"type\": \"scatter\", \"x\": [200.0, 193.0], \"y\": [1000.0, 914.0], \"mode\": \"lines\", \"line\": {\"width\": 2, \"color\": \"green\"}}, {\"type\": \"scatter\", \"x\": [1000.0, 1067.0], \"y\": [600.0, 527.0], \"mode\": \"lines\", \"line\": {\"width\": 2, \"color\": \"green\"}}, {\"type\": \"scatter\", \"x\": [1000.0, 1083], \"y\": [200.0, 145], \"mode\": \"lines\", \"line\": {\"width\": 2, \"color\": \"green\"}}, {\"type\": \"scatter\", \"x\": [200.0, 208.0], \"y\": [1400.0, 1257.0], \"mode\": \"lines\", \"line\": {\"width\": 2, \"color\": \"green\"}}, {\"type\": \"scatter\", \"x\": [200.0, 230.0], \"y\": [1400.0, 1591.0], \"mode\": \"lines\", \"line\": {\"width\": 2, \"color\": \"green\"}}, {\"type\": \"scatter\", \"x\": [1000.0, 845], \"y\": [1000.0, 1148], \"mode\": \"lines\", \"line\": {\"width\": 2, \"color\": \"green\"}}, {\"type\": \"scatter\", \"x\": [1000.0, 634.0], \"y\": [600.0, 629.0], \"mode\": \"lines\", \"line\": {\"width\": 2, \"color\": \"red\"}}, {\"type\": \"scatter\", \"x\": [1000.0, 1118.0], \"y\": [1000.0, 911.0], \"mode\": \"lines\", \"line\": {\"width\": 2, \"color\": \"green\"}}, {\"type\": \"scatter\", \"x\": [812, 812], \"y\": [0, 1600.0], \"mode\": \"lines\", \"line\": {\"width\": 2, \"color\": \"black\"}}, {\"type\": \"scatter\", \"x\": [812, 912], \"y\": [1600.0, 1600.0], \"mode\": \"lines\", \"line\": {\"width\": 2, \"color\": \"black\"}}, {\"type\": \"scatter\", \"x\": [912, 912], \"y\": [1600.0, 0], \"mode\": \"lines\", \"line\": {\"width\": 2, \"color\": \"black\"}}, {\"type\": \"scatter\", \"x\": [812, 912], \"y\": [0, 0], \"mode\": \"lines\", \"line\": {\"width\": 2, \"color\": \"black\"}}, {\"type\": \"scatter\", \"x\": [0, 0], \"y\": [257, 357], \"mode\": \"lines\", \"line\": {\"width\": 2, \"color\": \"black\"}}, {\"type\": \"scatter\", \"x\": [0, 1600.0], \"y\": [357, 357], \"mode\": \"lines\", \"line\": {\"width\": 2, \"color\": \"black\"}}, {\"type\": \"scatter\", \"x\": [1600.0, 1600.0], \"y\": [357, 257], \"mode\": \"lines\", \"line\": {\"width\": 2, \"color\": \"black\"}}, {\"type\": \"scatter\", \"x\": [0, 1600.0], \"y\": [257, 257], \"mode\": \"lines\", \"line\": {\"width\": 2, \"color\": \"black\"}}, {\"type\": \"scatter\", \"x\": [0, 0], \"y\": [85, 185], \"mode\": \"lines\", \"line\": {\"width\": 2, \"color\": \"black\"}}, {\"type\": \"scatter\", \"x\": [0, 1600.0], \"y\": [185, 185], \"mode\": \"lines\", \"line\": {\"width\": 2, \"color\": \"black\"}}, {\"type\": \"scatter\", \"x\": [1600.0, 1600.0], \"y\": [185, 85], \"mode\": \"lines\", \"line\": {\"width\": 2, \"color\": \"black\"}}, {\"type\": \"scatter\", \"x\": [0, 1600.0], \"y\": [85, 85], \"mode\": \"lines\", \"line\": {\"width\": 2, \"color\": \"black\"}}, {\"type\": \"scatter\", \"x\": [465, 465], \"y\": [80, 260], \"mode\": \"lines\", \"line\": {\"width\": 2, \"color\": \"black\"}}, {\"type\": \"scatter\", \"x\": [465, 556], \"y\": [260, 260], \"mode\": \"lines\", \"line\": {\"width\": 2, \"color\": \"black\"}}, {\"type\": \"scatter\", \"x\": [556, 556], \"y\": [260, 80], \"mode\": \"lines\", \"line\": {\"width\": 2, \"color\": \"black\"}}, {\"type\": \"scatter\", \"x\": [465, 556], \"y\": [80, 80], \"mode\": \"lines\", \"line\": {\"width\": 2, \"color\": \"black\"}}, {\"type\": \"scatter\", \"x\": [200.0, 200.0, 200.0, 200.0, 600.0, 600.0, 600.0, 600.0, 1000.0, 1000.0, 1000.0, 1000.0, 1400.0, 1400.0, 1400.0, 1400.0, 952.0, 1166.0, 1177.0, 1041.0, 1379.0, 446, 13.0, 601.0, 708.0, 1437, 594.0, 1294.0, 529.0, 1446.0, 604.0, 1497, 959.0, 748.0, 693.0, 703, 704.0, 370.0, 919.0, 35.0, 861, 1024.0, 940.0, 1599.0, 666.0, 269.0, 1026.0, 896, 1525.0, 1070.0, 582.0, 142, 1492.0, 1127.0, 718, 1098.0, 700.0, 1500.0, 970.0, 919.0, 590.0, 202, 1336, 51.0, 48.0, 1051.0, 652.0, 682.0, 202.0, 208, 660.0, 1028.0, 1153.0, 924.0, 745.0, 1195.0, 1103.0, 942.0, 619.0, 899, 672.0, 147, 546.0, 119.0, 897, 1490.0, 802.0, 1184.0, 613.0, 1168.0, 272.0, 539.0, 816, 1378.0, 628.0, 836, 851, 607.0, 840, 1093.0, 338, 84.0, 517, 354.0, 351.0, 1143, 170.0, 768.0, 1407.0, 1446, 826, 1584.0, 1067.0, 537.0, 514.0, 589.0, 819, 346.0, 795.0, 341.0, 892, 83.0, 136.0, 44.0, 207.0, 259.0, 1553.0, 993.0, 1525, 786, 415.0, 197.0, 1139.0, 521.0, 694.0, 1381.0, 1240.0, 1058.0, 300.0, 699.0, 573.0, 1497.0, 241.0, 1450.0, 170.0, 1537.0, 571.0, 678.0, 971.0, 950.0, 294.0, 652.0, 773.0, 134.0, 156.0, 593, 847, 1393.0, 524.7914995803575, 222.0, 1178.0, 1361.0, 754.0, 829, 169.0, 515.0, 1022.0, 596.0, 188.0, 196, 1592.0, 922.0, 589.0, 607.0, 1452.0, 798.0, 336.0, 428.0, 1293.0, 1253.0, 906, 633.0, 1238.0, 211, 650.0, 305.0, 1037.0, 1063.0, 818, 957.0, 986.0, 1084.0, 989.0, 1138.0, 1093.0, 969.0, 1155.0, 1178.0, 522, 1316.0, 630.0, 1132.0, 731.0, 199.0, 514, 674.0, 247.0, 1529.0, 193.0, 1067.0, 1083, 208.0, 230.0, 845, 634.0, 1118.0, 812, 812, 912, 912, 0, 0, 1600.0, 1600.0, 0, 0, 1600.0, 1600.0, 465, 465, 556, 556], \"y\": [200.0, 600.0, 1000.0, 1400.0, 200.0, 600.0, 1000.0, 1400.0, 200.0, 600.0, 1000.0, 1400.0, 200.0, 600.0, 1000.0, 1400.0, 529.0, 584.0, 1289.0, 1007.0, 796.0, 293, 756.0, 796.0, 969.0, 298, 1203.0, 424.0, 560.0, 657.0, 502.0, 148, 917.0, 662.0, 1039.0, 276, 957.0, 236.0, 1158.0, 503.0, 828, 376.0, 628.0, 1172.0, 832.0, 870.0, 1577.0, 1302, 1131.0, 854.0, 1098.0, 128, 1295.0, 516.0, 121, 1057.0, 539.0, 811.0, 904.0, 635.0, 511.0, 169, 291, 917.0, 715.0, 656.0, 942.0, 937.0, 559.0, 154, 1205.0, 1588.0, 1464.0, 751.0, 78.0, 1439.0, 1065.0, 1501.0, 1197.0, 154, 1074.0, 332, 860.0, 442.0, 909, 14.0, 1120.0, 1062.0, 940.0, 940.0, 1065.0, 815.0, 967, 1304.0, 782.0, 703, 796, 685.0, 703, 361.0, 138, 689.0, 277, 606.0, 1597.0, 117, 945.0, 1030.0, 618.0, 133, 1569, 1050.0, 804.0, 1097.0, 825.0, 967.0, 522, 970.0, 548.0, 569.0, 179, 906.0, 1079.0, 511.0, 1567.0, 474.0, 701.0, 1547.0, 287, 334, 34.0, 215.0, 577.0, 951.0, 1242.0, 595.0, 1186.0, 990.0, 1507.0, 537.0, 1451.0, 416.0, 595.0, 527.0, 1236.0, 960.0, 633.0, 1089.0, 857.0, 912.0, 1441.0, 727.0, 805.0, 1002.0, 747.0, 150, 77, 846.0, 221.38883029010432, 632.0, 383.0, 849.0, 1246.0, 1364, 1469.0, 898.0, 662.0, 672.0, 1416.0, 172, 1460.0, 545.0, 1069.0, 1342.0, 70.0, 546.0, 686.0, 1332.0, 578.0, 1150.0, 601, 536.0, 212.0, 101, 1450.0, 1261.0, 1085.0, 997.0, 859, 673.0, 1466.0, 1160.0, 804.0, 436.0, 818.0, 636.0, 436.0, 756.0, 268, 864.0, 1378.0, 1461.0, 779.0, 745.0, 139, 885.0, 943.0, 1119.0, 914.0, 527.0, 145, 1257.0, 1591.0, 1148, 629.0, 911.0, 0, 1600.0, 1600.0, 0, 257, 357, 357, 257, 85, 185, 185, 85, 80, 260, 260, 80], \"mode\": \"markers\", \"marker\": {\"size\": 8, \"color\": [\"orange\", \"orange\", \"orange\", \"orange\", \"orange\", \"orange\", \"orange\", \"orange\", \"orange\", \"orange\", \"orange\", \"orange\", \"orange\", \"orange\", \"orange\", \"orange\", \"blue\", \"magenta\", \"magenta\", \"blue\", \"magenta\", \"magenta\", \"magenta\", \"blue\", \"magenta\", \"magenta\", \"magenta\", \"magenta\", \"blue\", \"magenta\", \"blue\", \"magenta\", \"blue\", \"blue\", \"blue\", \"magenta\", \"blue\", \"magenta\", \"magenta\", \"magenta\", \"magenta\", \"magenta\", \"blue\", \"magenta\", \"blue\", \"magenta\", \"magenta\", \"magenta\", \"magenta\", \"blue\", \"blue\", \"magenta\", \"magenta\", \"magenta\", \"magenta\", \"magenta\", \"blue\", \"magenta\", \"magenta\", \"blue\", \"blue\", \"magenta\", \"magenta\", \"magenta\", \"magenta\", \"magenta\", \"blue\", \"blue\", \"magenta\", \"magenta\", \"magenta\", \"magenta\", \"magenta\", \"magenta\", \"magenta\", \"magenta\", \"magenta\", \"magenta\", \"magenta\", \"magenta\", \"magenta\", \"magenta\", \"blue\", \"magenta\", \"blue\", \"magenta\", \"magenta\", \"magenta\", \"blue\", \"magenta\", \"magenta\", \"magenta\", \"blue\", \"magenta\", \"magenta\", \"blue\", \"blue\", \"blue\", \"blue\", \"magenta\", \"magenta\", \"magenta\", \"magenta\", \"magenta\", \"magenta\", \"magenta\", \"magenta\", \"blue\", \"magenta\", \"magenta\", \"magenta\", \"magenta\", \"magenta\", \"blue\", \"magenta\", \"blue\", \"magenta\", \"magenta\", \"blue\", \"magenta\", \"magenta\", \"magenta\", \"magenta\", \"magenta\", \"magenta\", \"magenta\", \"magenta\", \"magenta\", \"magenta\", \"magenta\", \"magenta\", \"magenta\", \"magenta\", \"blue\", \"magenta\", \"magenta\", \"magenta\", \"blue\", \"magenta\", \"magenta\", \"magenta\", \"magenta\", \"magenta\", \"magenta\", \"magenta\", \"magenta\", \"blue\", \"blue\", \"magenta\", \"magenta\", \"magenta\", \"blue\", \"magenta\", \"magenta\", \"magenta\", \"magenta\", \"magenta\", \"magenta\", \"magenta\", \"magenta\", \"magenta\", \"magenta\", \"magenta\", \"magenta\", \"magenta\", \"blue\", \"blue\", \"magenta\", \"magenta\", \"magenta\", \"magenta\", \"magenta\", \"magenta\", \"magenta\", \"magenta\", \"blue\", \"magenta\", \"magenta\", \"magenta\", \"magenta\", \"blue\", \"blue\", \"magenta\", \"magenta\", \"magenta\", \"magenta\", \"magenta\", \"blue\", \"blue\", \"blue\", \"magenta\", \"magenta\", \"magenta\", \"magenta\", \"blue\", \"blue\", \"magenta\", \"magenta\", \"magenta\", \"magenta\", \"magenta\", \"magenta\", \"magenta\", \"magenta\", \"magenta\", \"blue\", \"magenta\", \"magenta\", \"magenta\", \"magenta\", \"magenta\", \"magenta\", \"magenta\", \"magenta\", \"blue\", \"magenta\", \"black\", \"black\", \"black\", \"black\", \"black\", \"black\", \"black\", \"black\", \"black\", \"black\", \"black\", \"black\", \"black\", \"black\", \"black\", \"black\"]}}]}, {\"data\": [{\"type\": \"scatter\", \"x\": [600.0, 952.0], \"y\": [600.0, 531.0], \"mode\": \"lines\", \"line\": {\"width\": 2, \"color\": \"red\"}}, {\"type\": \"scatter\", \"x\": [1000.0, 1165.0], \"y\": [600.0, 585.0], \"mode\": \"lines\", \"line\": {\"width\": 2, \"color\": \"green\"}}, {\"type\": \"scatter\", \"x\": [1000.0, 1176.0], \"y\": [1400.0, 1291.0], \"mode\": \"lines\", \"line\": {\"width\": 2, \"color\": \"green\"}}, {\"type\": \"scatter\", \"x\": [1000.0, 1042.0], \"y\": [1000.0, 1005.0], \"mode\": \"lines\", \"line\": {\"width\": 2, \"color\": \"red\"}}, {\"type\": \"scatter\", \"x\": [1400.0, 1381.0], \"y\": [600.0, 795.0], \"mode\": \"lines\", \"line\": {\"width\": 2, \"color\": \"green\"}}, {\"type\": \"scatter\", \"x\": [600.0, 388], \"y\": [200.0, 293], \"mode\": \"lines\", \"line\": {\"width\": 2, \"color\": \"green\"}}, {\"type\": \"scatter\", \"x\": [200.0, 14.0], \"y\": [1000.0, 758.0], \"mode\": \"lines\", \"line\": {\"width\": 2, \"color\": \"green\"}}, {\"type\": \"scatter\", \"x\": [1000.0, 602.0], \"y\": [600.0, 794.0], \"mode\": \"lines\", \"line\": {\"width\": 2, \"color\": \"red\"}}, {\"type\": \"scatter\", \"x\": [600.0, 707.0], \"y\": [1000.0, 967.0], \"mode\": \"lines\", \"line\": {\"width\": 2, \"color\": \"green\"}}, {\"type\": \"scatter\", \"x\": [1400.0, 1468], \"y\": [200.0, 298], \"mode\": \"lines\", \"line\": {\"width\": 2, \"color\": \"green\"}}, {\"type\": \"scatter\", \"x\": [600.0, 592.0], \"y\": [1400.0, 1203.0], \"mode\": \"lines\", \"line\": {\"width\": 2, \"color\": \"green\"}}, {\"type\": \"scatter\", \"x\": [1400.0, 1294.0], \"y\": [600.0, 422.0], \"mode\": \"lines\", \"line\": {\"width\": 2, \"color\": \"green\"}}, {\"type\": \"scatter\", \"x\": [200.0, 529.0], \"y\": [600.0, 558.0], \"mode\": \"lines\", \"line\": {\"width\": 2, \"color\": \"red\"}}, {\"type\": \"scatter\", \"x\": [1400.0, 1445.0], \"y\": [1000.0, 655.0], \"mode\": \"lines\", \"line\": {\"width\": 2, \"color\": \"green\"}}, {\"type\": \"scatter\", \"x\": [600.0, 605.0], \"y\": [200.0, 504.0], \"mode\": \"lines\", \"line\": {\"width\": 2, \"color\": \"red\"}}, {\"type\": \"scatter\", \"x\": [1400.0, 1524], \"y\": [200.0, 148], \"mode\": \"lines\", \"line\": {\"width\": 2, \"color\": \"green\"}}, {\"type\": \"scatter\", \"x\": [1000.0, 959.0], \"y\": [1000.0, 919.0], \"mode\": \"lines\", \"line\": {\"width\": 2, \"color\": \"red\"}}, {\"type\": \"scatter\", \"x\": [1000.0, 749.0], \"y\": [600.0, 664.0], \"mode\": \"lines\", \"line\": {\"width\": 2, \"color\": \"red\"}}, {\"type\": \"scatter\", \"x\": [600.0, 693.0], \"y\": [1000.0, 1037.0], \"mode\": \"lines\", \"line\": {\"width\": 2, \"color\": \"green\"}}, {\"type\": \"scatter\", \"x\": [600.0, 648], \"y\": [200.0, 276], \"mode\": \"lines\", \"line\": {\"width\": 2, \"color\": \"green\"}}, {\"type\": \"scatter\", \"x\": [600.0, 705.0], \"y\": [1000.0, 959.0], \"mode\": \"lines\", \"line\": {\"width\": 2, \"color\": \"green\"}}, {\"type\": \"scatter\", \"x\": [200.0, 372.0], \"y\": [200.0, 236.0], \"mode\": \"lines\", \"line\": {\"width\": 2, \"color\": \"green\"}}, {\"type\": \"scatter\", \"x\": [1000.0, 921.0], \"y\": [1000.0, 1158.0], \"mode\": \"lines\", \"line\": {\"width\": 2, \"color\": \"green\"}}, {\"type\": \"scatter\", \"x\": [200.0, 37.0], \"y\": [600.0, 504.0], \"mode\": \"lines\", \"line\": {\"width\": 2, \"color\": \"green\"}}, {\"type\": \"scatter\", \"x\": [1000.0, 861], \"y\": [1000.0, 781], \"mode\": \"lines\", \"line\": {\"width\": 2, \"color\": \"green\"}}, {\"type\": \"scatter\", \"x\": [1400.0, 1026.0], \"y\": [600.0, 376.0], \"mode\": \"lines\", \"line\": {\"width\": 2, \"color\": \"green\"}}, {\"type\": \"scatter\", \"x\": [1000.0, 940.0], \"y\": [600.0, 626.0], \"mode\": \"lines\", \"line\": {\"width\": 2, \"color\": \"red\"}}, {\"type\": \"scatter\", \"x\": [1400.0, 1597.0], \"y\": [1000.0, 1173.0], \"mode\": \"lines\", \"line\": {\"width\": 2, \"color\": \"green\"}}, {\"type\": \"scatter\", \"x\": [600.0, 668.0], \"y\": [600.0, 833.0], \"mode\": \"lines\", \"line\": {\"width\": 2, \"color\": \"red\"}}, {\"type\": \"scatter\", \"x\": [200.0, 271.0], \"y\": [1000.0, 869.0], \"mode\": \"lines\", \"line\": {\"width\": 2, \"color\": \"green\"}}, {\"type\": \"scatter\", \"x\": [1400.0, 1027.0], \"y\": [1400.0, 1575.0], \"mode\": \"lines\", \"line\": {\"width\": 2, \"color\": \"green\"}}, {\"type\": \"scatter\", \"x\": [1000.0, 896], \"y\": [1400.0, 1263], \"mode\": \"lines\", \"line\": {\"width\": 2, \"color\": \"green\"}}, {\"type\": \"scatter\", \"x\": [1400.0, 1525.0], \"y\": [1000.0, 1129.0], \"mode\": \"lines\", \"line\": {\"width\": 2, \"color\": \"green\"}}, {\"type\": \"scatter\", \"x\": [1000.0, 1071.0], \"y\": [600.0, 855.0], \"mode\": \"lines\", \"line\": {\"width\": 2, \"color\": \"red\"}}, {\"type\": \"scatter\", \"x\": [200.0, 582.0], \"y\": [1400.0, 1100.0], \"mode\": \"lines\", \"line\": {\"width\": 2, \"color\": \"green\"}}, {\"type\": \"scatter\", \"x\": [200.0, 169], \"y\": [200.0, 128], \"mode\": \"lines\", \"line\": {\"width\": 2, \"color\": \"green\"}}, {\"type\": \"scatter\", \"x\": [1400.0, 1494.0], \"y\": [1400.0, 1295.0], \"mode\": \"lines\", \"line\": {\"width\": 2, \"color\": \"green\"}}, {\"type\": \"scatter\", \"x\": [1000.0, 1126.0], \"y\": [600.0, 518.0], \"mode\": \"lines\", \"line\": {\"width\": 2, \"color\": \"green\"}}, {\"type\": \"scatter\", \"x\": [600.0, 671], \"y\": [200.0, 121], \"mode\": \"lines\", \"line\": {\"width\": 2, \"color\": \"green\"}}, {\"type\": \"scatter\", \"x\": [1400.0, 1100.0], \"y\": [1400.0, 1058.0], \"mode\": \"lines\", \"line\": {\"width\": 2, \"color\": \"green\"}}, {\"type\": \"scatter\", \"x\": [600.0, 698.0], \"y\": [200.0, 540.0], \"mode\": \"lines\", \"line\": {\"width\": 2, \"color\": \"red\"}}, {\"type\": \"scatter\", \"x\": [1400.0, 1500.0], \"y\": [1000.0, 809.0], \"mode\": \"lines\", \"line\": {\"width\": 2, \"color\": \"green\"}}, {\"type\": \"scatter\", \"x\": [1000.0, 968.0], \"y\": [1000.0, 905.0], \"mode\": \"lines\", \"line\": {\"width\": 2, \"color\": \"green\"}}, {\"type\": \"scatter\", \"x\": [1000.0, 921.0], \"y\": [600.0, 635.0], \"mode\": \"lines\", \"line\": {\"width\": 2, \"color\": \"red\"}}, {\"type\": \"scatter\", \"x\": [200.0, 592.0], \"y\": [600.0, 511.0], \"mode\": \"lines\", \"line\": {\"width\": 2, \"color\": \"red\"}}, {\"type\": \"scatter\", \"x\": [200.0, 225], \"y\": [200.0, 169], \"mode\": \"lines\", \"line\": {\"width\": 2, \"color\": \"green\"}}, {\"type\": \"scatter\", \"x\": [1400.0, 1280], \"y\": [200.0, 291], \"mode\": \"lines\", \"line\": {\"width\": 2, \"color\": \"green\"}}, {\"type\": \"scatter\", \"x\": [200.0, 50.0], \"y\": [1000.0, 918.0], \"mode\": \"lines\", \"line\": {\"width\": 2, \"color\": \"green\"}}, {\"type\": \"scatter\", \"x\": [200.0, 46.0], \"y\": [1000.0, 714.0], \"mode\": \"lines\", \"line\": {\"width\": 2, \"color\": \"green\"}}, {\"type\": \"scatter\", \"x\": [1000.0, 1050.0], \"y\": [1000.0, 654.0], \"mode\": \"lines\", \"line\": {\"width\": 2, \"color\": \"green\"}}, {\"type\": \"scatter\", \"x\": [1000.0, 654.0], \"y\": [1000.0, 943.0], \"mode\": \"lines\", \"line\": {\"width\": 2, \"color\": \"red\"}}, {\"type\": \"scatter\", \"x\": [1000.0, 680.0], \"y\": [1000.0, 937.0], \"mode\": \"lines\", \"line\": {\"width\": 2, \"color\": \"red\"}}, {\"type\": \"scatter\", \"x\": [200.0, 204.0], \"y\": [600.0, 558.0], \"mode\": \"lines\", \"line\": {\"width\": 2, \"color\": \"green\"}}, {\"type\": \"scatter\", \"x\": [600.0, 167], \"y\": [200.0, 154], \"mode\": \"lines\", \"line\": {\"width\": 2, \"color\": \"green\"}}, {\"type\": \"scatter\", \"x\": [600.0, 660.0], \"y\": [1400.0, 1203.0], \"mode\": \"lines\", \"line\": {\"width\": 2, \"color\": \"green\"}}, {\"type\": \"scatter\", \"x\": [1000.0, 1029.0], \"y\": [1400.0, 1586.0], \"mode\": \"lines\", \"line\": {\"width\": 2, \"color\": \"green\"}}, {\"type\": \"scatter\", \"x\": [1000.0, 1155.0], \"y\": [1400.0, 1464.0], \"mode\": \"lines\", \"line\": {\"width\": 2, \"color\": \"green\"}}, {\"type\": \"scatter\", \"x\": [1000.0, 923.0], \"y\": [1000.0, 752.0], \"mode\": \"lines\", \"line\": {\"width\": 2, \"color\": \"green\"}}, {\"type\": \"scatter\", \"x\": [600.0, 743.0], \"y\": [200.0, 77.0], \"mode\": \"lines\", \"line\": {\"width\": 2, \"color\": \"green\"}}, {\"type\": \"scatter\", \"x\": [1000.0, 1193.0], \"y\": [1400.0, 1438.0], \"mode\": \"lines\", \"line\": {\"width\": 2, \"color\": \"green\"}}, {\"type\": \"scatter\", \"x\": [1000.0, 1102.0], \"y\": [1000.0, 1066.0], \"mode\": \"lines\", \"line\": {\"width\": 2, \"color\": \"green\"}}, {\"type\": \"scatter\", \"x\": [600.0, 943.0], \"y\": [1400.0, 1503.0], \"mode\": \"lines\", \"line\": {\"width\": 2, \"color\": \"green\"}}, {\"type\": \"scatter\", \"x\": [600.0, 618.0], \"y\": [1400.0, 1198.0], \"mode\": \"lines\", \"line\": {\"width\": 2, \"color\": \"green\"}}, {\"type\": \"scatter\", \"x\": [600.0, 872], \"y\": [200.0, 154], \"mode\": \"lines\", \"line\": {\"width\": 2, \"color\": \"green\"}}, {\"type\": \"scatter\", \"x\": [600.0, 671.0], \"y\": [1400.0, 1076.0], \"mode\": \"lines\", \"line\": {\"width\": 2, \"color\": \"green\"}}, {\"type\": \"scatter\", \"x\": [200.0, 191], \"y\": [600.0, 332], \"mode\": \"lines\", \"line\": {\"width\": 2, \"color\": \"green\"}}, {\"type\": \"scatter\", \"x\": [600.0, 546.0], \"y\": [1000.0, 858.0], \"mode\": \"lines\", \"line\": {\"width\": 2, \"color\": \"green\"}}, {\"type\": \"scatter\", \"x\": [200.0, 120.0], \"y\": [600.0, 444.0], \"mode\": \"lines\", \"line\": {\"width\": 2, \"color\": \"green\"}}, {\"type\": \"scatter\", \"x\": [1000.0, 897], \"y\": [1000.0, 953], \"mode\": \"lines\", \"line\": {\"width\": 2, \"color\": \"red\"}}, {\"type\": \"scatter\", \"x\": [1400.0, 1489.0], \"y\": [200.0, 16.0], \"mode\": \"lines\", \"line\": {\"width\": 2, \"color\": \"green\"}}, {\"type\": \"scatter\", \"x\": [1000.0, 802.0], \"y\": [1000.0, 1122.0], \"mode\": \"lines\", \"line\": {\"width\": 2, \"color\": \"green\"}}, {\"type\": \"scatter\", \"x\": [1400.0, 1182.0], \"y\": [1000.0, 1061.0], \"mode\": \"lines\", \"line\": {\"width\": 2, \"color\": \"green\"}}, {\"type\": \"scatter\", \"x\": [600.0, 615.0], \"y\": [1000.0, 940.0], \"mode\": \"lines\", \"line\": {\"width\": 2, \"color\": \"green\"}}, {\"type\": \"scatter\", \"x\": [1400.0, 1170.0], \"y\": [1000.0, 939.0], \"mode\": \"lines\", \"line\": {\"width\": 2, \"color\": \"green\"}}, {\"type\": \"scatter\", \"x\": [200.0, 273.0], \"y\": [1000.0, 1063.0], \"mode\": \"lines\", \"line\": {\"width\": 2, \"color\": \"green\"}}, {\"type\": \"scatter\", \"x\": [600.0, 538.0], \"y\": [600.0, 813.0], \"mode\": \"lines\", \"line\": {\"width\": 2, \"color\": \"green\"}}, {\"type\": \"scatter\", \"x\": [1000.0, 816], \"y\": [1000.0, 908], \"mode\": \"lines\", \"line\": {\"width\": 2, \"color\": \"red\"}}, {\"type\": \"scatter\", \"x\": [1400.0, 1378.0], \"y\": [1400.0, 1306.0], \"mode\": \"lines\", \"line\": {\"width\": 2, \"color\": \"green\"}}, {\"type\": \"scatter\", \"x\": [600.0, 626.0], \"y\": [1000.0, 783.0], \"mode\": \"lines\", \"line\": {\"width\": 2, \"color\": \"green\"}}, {\"type\": \"scatter\", \"x\": [1000.0, 836], \"y\": [1000.0, 752], \"mode\": \"lines\", \"line\": {\"width\": 2, \"color\": \"red\"}}, {\"type\": \"scatter\", \"x\": [1000.0, 851], \"y\": [1000.0, 754], \"mode\": \"lines\", \"line\": {\"width\": 2, \"color\": \"red\"}}, {\"type\": \"scatter\", \"x\": [600.0, 608.0], \"y\": [600.0, 683.0], \"mode\": \"lines\", \"line\": {\"width\": 2, \"color\": \"red\"}}, {\"type\": \"scatter\", \"x\": [600.0, 840], \"y\": [600.0, 673], \"mode\": \"lines\", \"line\": {\"width\": 2, \"color\": \"red\"}}, {\"type\": \"scatter\", \"x\": [1000.0, 1093.0], \"y\": [200.0, 359.0], \"mode\": \"lines\", \"line\": {\"width\": 2, \"color\": \"green\"}}, {\"type\": \"scatter\", \"x\": [200.0, 387], \"y\": [200.0, 138], \"mode\": \"lines\", \"line\": {\"width\": 2, \"color\": \"green\"}}, {\"type\": \"scatter\", \"x\": [200.0, 85.0], \"y\": [600.0, 687.0], \"mode\": \"lines\", \"line\": {\"width\": 2, \"color\": \"green\"}}, {\"type\": \"scatter\", \"x\": [600.0, 543], \"y\": [200.0, 277], \"mode\": \"lines\", \"line\": {\"width\": 2, \"color\": \"green\"}}, {\"type\": \"scatter\", \"x\": [200.0, 353.0], \"y\": [600.0, 604.0], \"mode\": \"lines\", \"line\": {\"width\": 2, \"color\": \"green\"}}, {\"type\": \"scatter\", \"x\": [200.0, 350.0], \"y\": [1400.0, 1595.0], \"mode\": \"lines\", \"line\": {\"width\": 2, \"color\": \"green\"}}, {\"type\": \"scatter\", \"x\": [1000.0, 1178], \"y\": [200.0, 117], \"mode\": \"lines\", \"line\": {\"width\": 2, \"color\": \"green\"}}, {\"type\": \"scatter\", \"x\": [200.0, 170.0], \"y\": [600.0, 943.0], \"mode\": \"lines\", \"line\": {\"width\": 2, \"color\": \"green\"}}, {\"type\": \"scatter\", \"x\": [1000.0, 767.0], \"y\": [1000.0, 1032.0], \"mode\": \"lines\", \"line\": {\"width\": 2, \"color\": \"red\"}}, {\"type\": \"scatter\", \"x\": [1400.0, 1405.0], \"y\": [1000.0, 617.0], \"mode\": \"lines\", \"line\": {\"width\": 2, \"color\": \"green\"}}, {\"type\": \"scatter\", \"x\": [1400.0, 1419], \"y\": [200.0, 133], \"mode\": \"lines\", \"line\": {\"width\": 2, \"color\": \"green\"}}, {\"type\": \"scatter\", \"x\": [1000.0, 826], \"y\": [1400.0, 1599.0], \"mode\": \"lines\", \"line\": {\"width\": 2, \"color\": \"green\"}}, {\"type\": \"scatter\", \"x\": [1400.0, 1585.0], \"y\": [1400.0, 1049.0], \"mode\": \"lines\", \"line\": {\"width\": 2, \"color\": \"green\"}}, {\"type\": \"scatter\", \"x\": [1000.0, 1065.0], \"y\": [600.0, 803.0], \"mode\": \"lines\", \"line\": {\"width\": 2, \"color\": \"green\"}}, {\"type\": \"scatter\", \"x\": [600.0, 535.0], \"y\": [1400.0, 1097.0], \"mode\": \"lines\", \"line\": {\"width\": 2, \"color\": \"red\"}}, {\"type\": \"scatter\", \"x\": [200.0, 512.0], \"y\": [600.0, 824.0], \"mode\": \"lines\", \"line\": {\"width\": 2, \"color\": \"green\"}}, {\"type\": \"scatter\", \"x\": [600.0, 590.0], \"y\": [1000.0, 965.0], \"mode\": \"lines\", \"line\": {\"width\": 2, \"color\": \"green\"}}, {\"type\": \"scatter\", \"x\": [600.0, 819], \"y\": [600.0, 568], \"mode\": \"lines\", \"line\": {\"width\": 2, \"color\": \"green\"}}, {\"type\": \"scatter\", \"x\": [200.0, 346.0], \"y\": [1000.0, 972.0], \"mode\": \"lines\", \"line\": {\"width\": 2, \"color\": \"green\"}}, {\"type\": \"scatter\", \"x\": [600.0, 793.0], \"y\": [600.0, 549.0], \"mode\": \"lines\", \"line\": {\"width\": 2, \"color\": \"red\"}}, {\"type\": \"scatter\", \"x\": [200.0, 339.0], \"y\": [600.0, 570.0], \"mode\": \"lines\", \"line\": {\"width\": 2, \"color\": \"green\"}}, {\"type\": \"scatter\", \"x\": [1000.0, 862], \"y\": [200.0, 179], \"mode\": \"lines\", \"line\": {\"width\": 2, \"color\": \"green\"}}, {\"type\": \"scatter\", \"x\": [200.0, 84.0], \"y\": [600.0, 905.0], \"mode\": \"lines\", \"line\": {\"width\": 2, \"color\": \"green\"}}, {\"type\": \"scatter\", \"x\": [200.0, 137.0], \"y\": [1000.0, 1081.0], \"mode\": \"lines\", \"line\": {\"width\": 2, \"color\": \"green\"}}, {\"type\": \"scatter\", \"x\": [200.0, 43.0], \"y\": [600.0, 512.0], \"mode\": \"lines\", \"line\": {\"width\": 2, \"color\": \"green\"}}, {\"type\": \"scatter\", \"x\": [200.0, 205.0], \"y\": [1400.0, 1567.0], \"mode\": \"lines\", \"line\": {\"width\": 2, \"color\": \"green\"}}, {\"type\": \"scatter\", \"x\": [200.0, 258.0], \"y\": [600.0, 473.0], \"mode\": \"lines\", \"line\": {\"width\": 2, \"color\": \"green\"}}, {\"type\": \"scatter\", \"x\": [1400.0, 1551.0], \"y\": [600.0, 702.0], \"mode\": \"lines\", \"line\": {\"width\": 2, \"color\": \"green\"}}, {\"type\": \"scatter\", \"x\": [1000.0, 993.0], \"y\": [1400.0, 1549.0], \"mode\": \"lines\", \"line\": {\"width\": 2, \"color\": \"green\"}}, {\"type\": \"scatter\", \"x\": [1400.0, 1569], \"y\": [200.0, 287], \"mode\": \"lines\", \"line\": {\"width\": 2, \"color\": \"green\"}}, {\"type\": \"scatter\", \"x\": [600.0, 828], \"y\": [200.0, 334], \"mode\": \"lines\", \"line\": {\"width\": 2, \"color\": \"green\"}}, {\"type\": \"scatter\", \"x\": [600.0, 413.0], \"y\": [200.0, 33.0], \"mode\": \"lines\", \"line\": {\"width\": 2, \"color\": \"green\"}}, {\"type\": \"scatter\", \"x\": [200.0, 196.0], \"y\": [200.0, 213.0], \"mode\": \"lines\", \"line\": {\"width\": 2, \"color\": \"green\"}}, {\"type\": \"scatter\", \"x\": [1400.0, 1138.0], \"y\": [600.0, 578.0], \"mode\": \"lines\", \"line\": {\"width\": 2, \"color\": \"green\"}}, {\"type\": \"scatter\", \"x\": [600.0, 521.0], \"y\": [1000.0, 949.0], \"mode\": \"lines\", \"line\": {\"width\": 2, \"color\": \"green\"}}, {\"type\": \"scatter\", \"x\": [600.0, 694.0], \"y\": [1400.0, 1240.0], \"mode\": \"lines\", \"line\": {\"width\": 2, \"color\": \"green\"}}, {\"type\": \"scatter\", \"x\": [1400.0, 1383.0], \"y\": [600.0, 596.0], \"mode\": \"lines\", \"line\": {\"width\": 2, \"color\": \"green\"}}, {\"type\": \"scatter\", \"x\": [1400.0, 1240.0], \"y\": [1000.0, 1188.0], \"mode\": \"lines\", \"line\": {\"width\": 2, \"color\": \"green\"}}, {\"type\": \"scatter\", \"x\": [1400.0, 1058.0], \"y\": [1000.0, 992.0], \"mode\": \"lines\", \"line\": {\"width\": 2, \"color\": \"red\"}}, {\"type\": \"scatter\", \"x\": [200.0, 299.0], \"y\": [1400.0, 1505.0], \"mode\": \"lines\", \"line\": {\"width\": 2, \"color\": \"green\"}}, {\"type\": \"scatter\", \"x\": [600.0, 697.0], \"y\": [600.0, 537.0], \"mode\": \"lines\", \"line\": {\"width\": 2, \"color\": \"green\"}}, {\"type\": \"scatter\", \"x\": [600.0, 571.0], \"y\": [1400.0, 1452.0], \"mode\": \"lines\", \"line\": {\"width\": 2, \"color\": \"green\"}}, {\"type\": \"scatter\", \"x\": [1400.0, 1495.0], \"y\": [600.0, 416.0], \"mode\": \"lines\", \"line\": {\"width\": 2, \"color\": \"green\"}}, {\"type\": \"scatter\", \"x\": [200.0, 242.0], \"y\": [600.0, 594.0], \"mode\": \"lines\", \"line\": {\"width\": 2, \"color\": \"green\"}}, {\"type\": \"scatter\", \"x\": [1400.0, 1448.0], \"y\": [600.0, 527.0], \"mode\": \"lines\", \"line\": {\"width\": 2, \"color\": \"green\"}}, {\"type\": \"scatter\", \"x\": [200.0, 171.0], \"y\": [1400.0, 1235.0], \"mode\": \"lines\", \"line\": {\"width\": 2, \"color\": \"green\"}}, {\"type\": \"scatter\", \"x\": [1400.0, 1536.0], \"y\": [1000.0, 962.0], \"mode\": \"lines\", \"line\": {\"width\": 2, \"color\": \"green\"}}, {\"type\": \"scatter\", \"x\": [600.0, 571.0], \"y\": [1000.0, 635.0], \"mode\": \"lines\", \"line\": {\"width\": 2, \"color\": \"green\"}}, {\"type\": \"scatter\", \"x\": [600.0, 679.0], \"y\": [1400.0, 1091.0], \"mode\": \"lines\", \"line\": {\"width\": 2, \"color\": \"red\"}}, {\"type\": \"scatter\", \"x\": [1000.0, 973.0], \"y\": [600.0, 858.0], \"mode\": \"lines\", \"line\": {\"width\": 2, \"color\": \"green\"}}, {\"type\": \"scatter\", \"x\": [1000.0, 948.0], \"y\": [1000.0, 911.0], \"mode\": \"lines\", \"line\": {\"width\": 2, \"color\": \"green\"}}, {\"type\": \"scatter\", \"x\": [200.0, 292.0], \"y\": [1400.0, 1441.0], \"mode\": \"lines\", \"line\": {\"width\": 2, \"color\": \"green\"}}, {\"type\": \"scatter\", \"x\": [600.0, 654.0], \"y\": [1000.0, 726.0], \"mode\": \"lines\", \"line\": {\"width\": 2, \"color\": \"green\"}}, {\"type\": \"scatter\", \"x\": [600.0, 775.0], \"y\": [1000.0, 805.0], \"mode\": \"lines\", \"line\": {\"width\": 2, \"color\": \"green\"}}, {\"type\": \"scatter\", \"x\": [200.0, 133.0], \"y\": [1000.0, 1000.0], \"mode\": \"lines\", \"line\": {\"width\": 2, \"color\": \"green\"}}, {\"type\": \"scatter\", \"x\": [200.0, 158.0], \"y\": [600.0, 747.0], \"mode\": \"lines\", \"line\": {\"width\": 2, \"color\": \"green\"}}, {\"type\": \"scatter\", \"x\": [600.0, 540], \"y\": [200.0, 150], \"mode\": \"lines\", \"line\": {\"width\": 2, \"color\": \"green\"}}, {\"type\": \"scatter\", \"x\": [1000.0, 847], \"y\": [200.0, 27], \"mode\": \"lines\", \"line\": {\"width\": 2, \"color\": \"green\"}}, {\"type\": \"scatter\", \"x\": [1400.0, 1394.0], \"y\": [1000.0, 848.0], \"mode\": \"lines\", \"line\": {\"width\": 2, \"color\": \"green\"}}, {\"type\": \"scatter\", \"x\": [600.0, 524.4657116805347], \"y\": [200.0, 222.33427317274138], \"mode\": \"lines\", \"line\": {\"width\": 2, \"color\": \"green\"}}, {\"type\": \"scatter\", \"x\": [200.0, 221.0], \"y\": [600.0, 630.0], \"mode\": \"lines\", \"line\": {\"width\": 2, \"color\": \"green\"}}, {\"type\": \"scatter\", \"x\": [1000.0, 1179.0], \"y\": [200.0, 381.0], \"mode\": \"lines\", \"line\": {\"width\": 2, \"color\": \"green\"}}, {\"type\": \"scatter\", \"x\": [1400.0, 1361.0], \"y\": [1000.0, 851.0], \"mode\": \"lines\", \"line\": {\"width\": 2, \"color\": \"green\"}}, {\"type\": \"scatter\", \"x\": [600.0, 752.0], \"y\": [1400.0, 1245.0], \"mode\": \"lines\", \"line\": {\"width\": 2, \"color\": \"green\"}}, {\"type\": \"scatter\", \"x\": [1000.0, 829], \"y\": [1000.0, 1321], \"mode\": \"lines\", \"line\": {\"width\": 2, \"color\": \"green\"}}, {\"type\": \"scatter\", \"x\": [200.0, 167.0], \"y\": [1400.0, 1470.0], \"mode\": \"lines\", \"line\": {\"width\": 2, \"color\": \"green\"}}, {\"type\": \"scatter\", \"x\": [600.0, 513.0], \"y\": [600.0, 899.0], \"mode\": \"lines\", \"line\": {\"width\": 2, \"color\": \"red\"}}, {\"type\": \"scatter\", \"x\": [1000.0, 1021.0], \"y\": [600.0, 660.0], \"mode\": \"lines\", \"line\": {\"width\": 2, \"color\": \"red\"}}, {\"type\": \"scatter\", \"x\": [600.0, 598.0], \"y\": [600.0, 673.0], \"mode\": \"lines\", \"line\": {\"width\": 2, \"color\": \"green\"}}, {\"type\": \"scatter\", \"x\": [200.0, 186.0], \"y\": [1400.0, 1417.0], \"mode\": \"lines\", \"line\": {\"width\": 2, \"color\": \"green\"}}, {\"type\": \"scatter\", \"x\": [200.0, 253], \"y\": [200.0, 172], \"mode\": \"lines\", \"line\": {\"width\": 2, \"color\": \"green\"}}, {\"type\": \"scatter\", \"x\": [1400.0, 1592.0], \"y\": [1400.0, 1458.0], \"mode\": \"lines\", \"line\": {\"width\": 2, \"color\": \"green\"}}, {\"type\": \"scatter\", \"x\": [1000.0, 923.0], \"y\": [600.0, 543.0], \"mode\": \"lines\", \"line\": {\"width\": 2, \"color\": \"green\"}}, {\"type\": \"scatter\", \"x\": [600.0, 591.0], \"y\": [1400.0, 1069.0], \"mode\": \"lines\", \"line\": {\"width\": 2, \"color\": \"green\"}}, {\"type\": \"scatter\", \"x\": [600.0, 608.0], \"y\": [1400.0, 1344.0], \"mode\": \"lines\", \"line\": {\"width\": 2, \"color\": \"green\"}}, {\"type\": \"scatter\", \"x\": [1400.0, 1452.0], \"y\": [200.0, 68.0], \"mode\": \"lines\", \"line\": {\"width\": 2, \"color\": \"green\"}}, {\"type\": \"scatter\", \"x\": [1000.0, 797.0], \"y\": [600.0, 548.0], \"mode\": \"lines\", \"line\": {\"width\": 2, \"color\": \"red\"}}, {\"type\": \"scatter\", \"x\": [200.0, 338.0], \"y\": [600.0, 687.0], \"mode\": \"lines\", \"line\": {\"width\": 2, \"color\": \"green\"}}, {\"type\": \"scatter\", \"x\": [600.0, 430.0], \"y\": [1400.0, 1332.0], \"mode\": \"lines\", \"line\": {\"width\": 2, \"color\": \"green\"}}, {\"type\": \"scatter\", \"x\": [1400.0, 1293.0], \"y\": [600.0, 576.0], \"mode\": \"lines\", \"line\": {\"width\": 2, \"color\": \"green\"}}, {\"type\": \"scatter\", \"x\": [1400.0, 1253.0], \"y\": [1000.0, 1152.0], \"mode\": \"lines\", \"line\": {\"width\": 2, \"color\": \"green\"}}, {\"type\": \"scatter\", \"x\": [600.0, 906], \"y\": [600.0, 621], \"mode\": \"lines\", \"line\": {\"width\": 2, \"color\": \"red\"}}, {\"type\": \"scatter\", \"x\": [600.0, 635.0], \"y\": [200.0, 536.0], \"mode\": \"lines\", \"line\": {\"width\": 2, \"color\": \"red\"}}, {\"type\": \"scatter\", \"x\": [1400.0, 1237.0], \"y\": [200.0, 214.0], \"mode\": \"lines\", \"line\": {\"width\": 2, \"color\": \"green\"}}, {\"type\": \"scatter\", \"x\": [200.0, 162], \"y\": [200.0, 101], \"mode\": \"lines\", \"line\": {\"width\": 2, \"color\": \"green\"}}, {\"type\": \"scatter\", \"x\": [1000.0, 649.0], \"y\": [1400.0, 1448.0], \"mode\": \"lines\", \"line\": {\"width\": 2, \"color\": \"green\"}}, {\"type\": \"scatter\", \"x\": [200.0, 304.0], \"y\": [1400.0, 1260.0], \"mode\": \"lines\", \"line\": {\"width\": 2, \"color\": \"green\"}}, {\"type\": \"scatter\", \"x\": [1000.0, 1036.0], \"y\": [1000.0, 1087.0], \"mode\": \"lines\", \"line\": {\"width\": 2, \"color\": \"green\"}}, {\"type\": \"scatter\", \"x\": [1000.0, 1061.0], \"y\": [1000.0, 997.0], \"mode\": \"lines\", \"line\": {\"width\": 2, \"color\": \"red\"}}, {\"type\": \"scatter\", \"x\": [1000.0, 818], \"y\": [1000.0, 820], \"mode\": \"lines\", \"line\": {\"width\": 2, \"color\": \"red\"}}, {\"type\": \"scatter\", \"x\": [1000.0, 958.0], \"y\": [1000.0, 675.0], \"mode\": \"lines\", \"line\": {\"width\": 2, \"color\": \"red\"}}, {\"type\": \"scatter\", \"x\": [1000.0, 988.0], \"y\": [1400.0, 1465.0], \"mode\": \"lines\", \"line\": {\"width\": 2, \"color\": \"green\"}}, {\"type\": \"scatter\", \"x\": [1000.0, 1084.0], \"y\": [1400.0, 1158.0], \"mode\": \"lines\", \"line\": {\"width\": 2, \"color\": \"green\"}}, {\"type\": \"scatter\", \"x\": [1000.0, 988.0], \"y\": [1000.0, 802.0], \"mode\": \"lines\", \"line\": {\"width\": 2, \"color\": \"green\"}}, {\"type\": \"scatter\", \"x\": [1000.0, 1138.0], \"y\": [200.0, 438.0], \"mode\": \"lines\", \"line\": {\"width\": 2, \"color\": \"green\"}}, {\"type\": \"scatter\", \"x\": [1000.0, 1095.0], \"y\": [1000.0, 818.0], \"mode\": \"lines\", \"line\": {\"width\": 2, \"color\": \"red\"}}, {\"type\": \"scatter\", \"x\": [1000.0, 970.0], \"y\": [1000.0, 634.0], \"mode\": \"lines\", \"line\": {\"width\": 2, \"color\": \"red\"}}, {\"type\": \"scatter\", \"x\": [1000.0, 1154.0], \"y\": [200.0, 438.0], \"mode\": \"lines\", \"line\": {\"width\": 2, \"color\": \"green\"}}, {\"type\": \"scatter\", \"x\": [1000.0, 1180.0], \"y\": [600.0, 757.0], \"mode\": \"lines\", \"line\": {\"width\": 2, \"color\": \"green\"}}, {\"type\": \"scatter\", \"x\": [600.0, 485], \"y\": [200.0, 268], \"mode\": \"lines\", \"line\": {\"width\": 2, \"color\": \"green\"}}, {\"type\": \"scatter\", \"x\": [1400.0, 1314.0], \"y\": [1000.0, 863.0], \"mode\": \"lines\", \"line\": {\"width\": 2, \"color\": \"green\"}}, {\"type\": \"scatter\", \"x\": [600.0, 630.0], \"y\": [1400.0, 1380.0], \"mode\": \"lines\", \"line\": {\"width\": 2, \"color\": \"green\"}}, {\"type\": \"scatter\", \"x\": [1000.0, 1134.0], \"y\": [1400.0, 1461.0], \"mode\": \"lines\", \"line\": {\"width\": 2, \"color\": \"green\"}}, {\"type\": \"scatter\", \"x\": [600.0, 733.0], \"y\": [600.0, 779.0], \"mode\": \"lines\", \"line\": {\"width\": 2, \"color\": \"green\"}}, {\"type\": \"scatter\", \"x\": [200.0, 200.0], \"y\": [600.0, 743.0], \"mode\": \"lines\", \"line\": {\"width\": 2, \"color\": \"green\"}}, {\"type\": \"scatter\", \"x\": [600.0, 492], \"y\": [200.0, 139], \"mode\": \"lines\", \"line\": {\"width\": 2, \"color\": \"green\"}}, {\"type\": \"scatter\", \"x\": [600.0, 675.0], \"y\": [600.0, 884.0], \"mode\": \"lines\", \"line\": {\"width\": 2, \"color\": \"red\"}}, {\"type\": \"scatter\", \"x\": [200.0, 246.0], \"y\": [1000.0, 941.0], \"mode\": \"lines\", \"line\": {\"width\": 2, \"color\": \"green\"}}, {\"type\": \"scatter\", \"x\": [1400.0, 1529.0], \"y\": [1000.0, 1121.0], \"mode\": \"lines\", \"line\": {\"width\": 2, \"color\": \"green\"}}, {\"type\": \"scatter\", \"x\": [200.0, 195.0], \"y\": [1000.0, 913.0], \"mode\": \"lines\", \"line\": {\"width\": 2, \"color\": \"green\"}}, {\"type\": \"scatter\", \"x\": [1000.0, 1065.0], \"y\": [600.0, 528.0], \"mode\": \"lines\", \"line\": {\"width\": 2, \"color\": \"green\"}}, {\"type\": \"scatter\", \"x\": [1000.0, 1063], \"y\": [200.0, 145], \"mode\": \"lines\", \"line\": {\"width\": 2, \"color\": \"green\"}}, {\"type\": \"scatter\", \"x\": [200.0, 208.0], \"y\": [1400.0, 1255.0], \"mode\": \"lines\", \"line\": {\"width\": 2, \"color\": \"green\"}}, {\"type\": \"scatter\", \"x\": [200.0, 232.0], \"y\": [1400.0, 1591.0], \"mode\": \"lines\", \"line\": {\"width\": 2, \"color\": \"green\"}}, {\"type\": \"scatter\", \"x\": [1000.0, 845], \"y\": [1000.0, 1194], \"mode\": \"lines\", \"line\": {\"width\": 2, \"color\": \"green\"}}, {\"type\": \"scatter\", \"x\": [1000.0, 632.0], \"y\": [600.0, 630.0], \"mode\": \"lines\", \"line\": {\"width\": 2, \"color\": \"red\"}}, {\"type\": \"scatter\", \"x\": [1000.0, 1118.0], \"y\": [1000.0, 909.0], \"mode\": \"lines\", \"line\": {\"width\": 2, \"color\": \"green\"}}, {\"type\": \"scatter\", \"x\": [812, 812], \"y\": [0, 1600.0], \"mode\": \"lines\", \"line\": {\"width\": 2, \"color\": \"black\"}}, {\"type\": \"scatter\", \"x\": [812, 912], \"y\": [1600.0, 1600.0], \"mode\": \"lines\", \"line\": {\"width\": 2, \"color\": \"black\"}}, {\"type\": \"scatter\", \"x\": [912, 912], \"y\": [1600.0, 0], \"mode\": \"lines\", \"line\": {\"width\": 2, \"color\": \"black\"}}, {\"type\": \"scatter\", \"x\": [812, 912], \"y\": [0, 0], \"mode\": \"lines\", \"line\": {\"width\": 2, \"color\": \"black\"}}, {\"type\": \"scatter\", \"x\": [0, 0], \"y\": [257, 357], \"mode\": \"lines\", \"line\": {\"width\": 2, \"color\": \"black\"}}, {\"type\": \"scatter\", \"x\": [0, 1600.0], \"y\": [357, 357], \"mode\": \"lines\", \"line\": {\"width\": 2, \"color\": \"black\"}}, {\"type\": \"scatter\", \"x\": [1600.0, 1600.0], \"y\": [357, 257], \"mode\": \"lines\", \"line\": {\"width\": 2, \"color\": \"black\"}}, {\"type\": \"scatter\", \"x\": [0, 1600.0], \"y\": [257, 257], \"mode\": \"lines\", \"line\": {\"width\": 2, \"color\": \"black\"}}, {\"type\": \"scatter\", \"x\": [0, 0], \"y\": [85, 185], \"mode\": \"lines\", \"line\": {\"width\": 2, \"color\": \"black\"}}, {\"type\": \"scatter\", \"x\": [0, 1600.0], \"y\": [185, 185], \"mode\": \"lines\", \"line\": {\"width\": 2, \"color\": \"black\"}}, {\"type\": \"scatter\", \"x\": [1600.0, 1600.0], \"y\": [185, 85], \"mode\": \"lines\", \"line\": {\"width\": 2, \"color\": \"black\"}}, {\"type\": \"scatter\", \"x\": [0, 1600.0], \"y\": [85, 85], \"mode\": \"lines\", \"line\": {\"width\": 2, \"color\": \"black\"}}, {\"type\": \"scatter\", \"x\": [465, 465], \"y\": [80, 260], \"mode\": \"lines\", \"line\": {\"width\": 2, \"color\": \"black\"}}, {\"type\": \"scatter\", \"x\": [465, 556], \"y\": [260, 260], \"mode\": \"lines\", \"line\": {\"width\": 2, \"color\": \"black\"}}, {\"type\": \"scatter\", \"x\": [556, 556], \"y\": [260, 80], \"mode\": \"lines\", \"line\": {\"width\": 2, \"color\": \"black\"}}, {\"type\": \"scatter\", \"x\": [465, 556], \"y\": [80, 80], \"mode\": \"lines\", \"line\": {\"width\": 2, \"color\": \"black\"}}, {\"type\": \"scatter\", \"x\": [200.0, 200.0, 200.0, 200.0, 600.0, 600.0, 600.0, 600.0, 1000.0, 1000.0, 1000.0, 1000.0, 1400.0, 1400.0, 1400.0, 1400.0, 952.0, 1165.0, 1176.0, 1042.0, 1381.0, 388, 14.0, 602.0, 707.0, 1468, 592.0, 1294.0, 529.0, 1445.0, 605.0, 1524, 959.0, 749.0, 693.0, 648, 705.0, 372.0, 921.0, 37.0, 861, 1026.0, 940.0, 1597.0, 668.0, 271.0, 1027.0, 896, 1525.0, 1071.0, 582.0, 169, 1494.0, 1126.0, 671, 1100.0, 698.0, 1500.0, 968.0, 921.0, 592.0, 225, 1280, 50.0, 46.0, 1050.0, 654.0, 680.0, 204.0, 167, 660.0, 1029.0, 1155.0, 923.0, 743.0, 1193.0, 1102.0, 943.0, 618.0, 872, 671.0, 191, 546.0, 120.0, 897, 1489.0, 802.0, 1182.0, 615.0, 1170.0, 273.0, 538.0, 816, 1378.0, 626.0, 836, 851, 608.0, 840, 1093.0, 387, 85.0, 543, 353.0, 350.0, 1178, 170.0, 767.0, 1405.0, 1419, 826, 1585.0, 1065.0, 535.0, 512.0, 590.0, 819, 346.0, 793.0, 339.0, 862, 84.0, 137.0, 43.0, 205.0, 258.0, 1551.0, 993.0, 1569, 828, 413.0, 196.0, 1138.0, 521.0, 694.0, 1383.0, 1240.0, 1058.0, 299.0, 697.0, 571.0, 1495.0, 242.0, 1448.0, 171.0, 1536.0, 571.0, 679.0, 973.0, 948.0, 292.0, 654.0, 775.0, 133.0, 158.0, 540, 847, 1394.0, 524.4657116805347, 221.0, 1179.0, 1361.0, 752.0, 829, 167.0, 513.0, 1021.0, 598.0, 186.0, 253, 1592.0, 923.0, 591.0, 608.0, 1452.0, 797.0, 338.0, 430.0, 1293.0, 1253.0, 906, 635.0, 1237.0, 162, 649.0, 304.0, 1036.0, 1061.0, 818, 958.0, 988.0, 1084.0, 988.0, 1138.0, 1095.0, 970.0, 1154.0, 1180.0, 485, 1314.0, 630.0, 1134.0, 733.0, 200.0, 492, 675.0, 246.0, 1529.0, 195.0, 1065.0, 1063, 208.0, 232.0, 845, 632.0, 1118.0, 812, 812, 912, 912, 0, 0, 1600.0, 1600.0, 0, 0, 1600.0, 1600.0, 465, 465, 556, 556], \"y\": [200.0, 600.0, 1000.0, 1400.0, 200.0, 600.0, 1000.0, 1400.0, 200.0, 600.0, 1000.0, 1400.0, 200.0, 600.0, 1000.0, 1400.0, 531.0, 585.0, 1291.0, 1005.0, 795.0, 293, 758.0, 794.0, 967.0, 298, 1203.0, 422.0, 558.0, 655.0, 504.0, 148, 919.0, 664.0, 1037.0, 276, 959.0, 236.0, 1158.0, 504.0, 781, 376.0, 626.0, 1173.0, 833.0, 869.0, 1575.0, 1263, 1129.0, 855.0, 1100.0, 128, 1295.0, 518.0, 121, 1058.0, 540.0, 809.0, 905.0, 635.0, 511.0, 169, 291, 918.0, 714.0, 654.0, 943.0, 937.0, 558.0, 154, 1203.0, 1586.0, 1464.0, 752.0, 77.0, 1438.0, 1066.0, 1503.0, 1198.0, 154, 1076.0, 332, 858.0, 444.0, 953, 16.0, 1122.0, 1061.0, 940.0, 939.0, 1063.0, 813.0, 908, 1306.0, 783.0, 752, 754, 683.0, 673, 359.0, 138, 687.0, 277, 604.0, 1595.0, 117, 943.0, 1032.0, 617.0, 133, 1599.0, 1049.0, 803.0, 1097.0, 824.0, 965.0, 568, 972.0, 549.0, 570.0, 179, 905.0, 1081.0, 512.0, 1567.0, 473.0, 702.0, 1549.0, 287, 334, 33.0, 213.0, 578.0, 949.0, 1240.0, 596.0, 1188.0, 992.0, 1505.0, 537.0, 1452.0, 416.0, 594.0, 527.0, 1235.0, 962.0, 635.0, 1091.0, 858.0, 911.0, 1441.0, 726.0, 805.0, 1000.0, 747.0, 150, 27, 848.0, 222.33427317274138, 630.0, 381.0, 851.0, 1245.0, 1321, 1470.0, 899.0, 660.0, 673.0, 1417.0, 172, 1458.0, 543.0, 1069.0, 1344.0, 68.0, 548.0, 687.0, 1332.0, 576.0, 1152.0, 621, 536.0, 214.0, 101, 1448.0, 1260.0, 1087.0, 997.0, 820, 675.0, 1465.0, 1158.0, 802.0, 438.0, 818.0, 634.0, 438.0, 757.0, 268, 863.0, 1380.0, 1461.0, 779.0, 743.0, 139, 884.0, 941.0, 1121.0, 913.0, 528.0, 145, 1255.0, 1591.0, 1194, 630.0, 909.0, 0, 1600.0, 1600.0, 0, 257, 357, 357, 257, 85, 185, 185, 85, 80, 260, 260, 80], \"mode\": \"markers\", \"marker\": {\"size\": 8, \"color\": [\"orange\", \"orange\", \"orange\", \"orange\", \"orange\", \"orange\", \"orange\", \"orange\", \"orange\", \"orange\", \"orange\", \"orange\", \"orange\", \"orange\", \"orange\", \"orange\", \"blue\", \"magenta\", \"magenta\", \"blue\", \"magenta\", \"magenta\", \"magenta\", \"blue\", \"magenta\", \"magenta\", \"magenta\", \"magenta\", \"blue\", \"magenta\", \"blue\", \"magenta\", \"blue\", \"blue\", \"blue\", \"magenta\", \"blue\", \"magenta\", \"magenta\", \"magenta\", \"magenta\", \"magenta\", \"blue\", \"magenta\", \"blue\", \"magenta\", \"magenta\", \"magenta\", \"magenta\", \"blue\", \"blue\", \"magenta\", \"magenta\", \"magenta\", \"magenta\", \"magenta\", \"blue\", \"magenta\", \"magenta\", \"blue\", \"blue\", \"magenta\", \"magenta\", \"magenta\", \"magenta\", \"magenta\", \"blue\", \"blue\", \"magenta\", \"magenta\", \"magenta\", \"magenta\", \"magenta\", \"magenta\", \"magenta\", \"magenta\", \"magenta\", \"magenta\", \"magenta\", \"magenta\", \"magenta\", \"magenta\", \"blue\", \"magenta\", \"blue\", \"magenta\", \"magenta\", \"magenta\", \"blue\", \"magenta\", \"magenta\", \"magenta\", \"blue\", \"magenta\", \"magenta\", \"blue\", \"blue\", \"blue\", \"blue\", \"magenta\", \"magenta\", \"magenta\", \"magenta\", \"magenta\", \"magenta\", \"magenta\", \"magenta\", \"blue\", \"magenta\", \"magenta\", \"magenta\", \"magenta\", \"magenta\", \"blue\", \"magenta\", \"blue\", \"magenta\", \"magenta\", \"blue\", \"magenta\", \"magenta\", \"magenta\", \"magenta\", \"magenta\", \"magenta\", \"magenta\", \"magenta\", \"magenta\", \"magenta\", \"magenta\", \"magenta\", \"magenta\", \"magenta\", \"blue\", \"magenta\", \"magenta\", \"magenta\", \"blue\", \"magenta\", \"magenta\", \"magenta\", \"magenta\", \"magenta\", \"magenta\", \"magenta\", \"magenta\", \"blue\", \"blue\", \"magenta\", \"magenta\", \"magenta\", \"blue\", \"magenta\", \"magenta\", \"magenta\", \"magenta\", \"magenta\", \"magenta\", \"magenta\", \"magenta\", \"magenta\", \"magenta\", \"magenta\", \"magenta\", \"magenta\", \"blue\", \"blue\", \"magenta\", \"magenta\", \"magenta\", \"magenta\", \"magenta\", \"magenta\", \"magenta\", \"magenta\", \"blue\", \"magenta\", \"magenta\", \"magenta\", \"magenta\", \"blue\", \"blue\", \"magenta\", \"magenta\", \"magenta\", \"magenta\", \"magenta\", \"blue\", \"blue\", \"blue\", \"magenta\", \"magenta\", \"magenta\", \"magenta\", \"blue\", \"blue\", \"magenta\", \"magenta\", \"magenta\", \"magenta\", \"magenta\", \"magenta\", \"magenta\", \"magenta\", \"magenta\", \"blue\", \"magenta\", \"magenta\", \"magenta\", \"magenta\", \"magenta\", \"magenta\", \"magenta\", \"magenta\", \"blue\", \"magenta\", \"black\", \"black\", \"black\", \"black\", \"black\", \"black\", \"black\", \"black\", \"black\", \"black\", \"black\", \"black\", \"black\", \"black\", \"black\", \"black\"]}}]}, {\"data\": [{\"type\": \"scatter\", \"x\": [600.0, 951.0], \"y\": [600.0, 533.0], \"mode\": \"lines\", \"line\": {\"width\": 2, \"color\": \"red\"}}, {\"type\": \"scatter\", \"x\": [1000.0, 1167.0], \"y\": [600.0, 584.0], \"mode\": \"lines\", \"line\": {\"width\": 2, \"color\": \"green\"}}, {\"type\": \"scatter\", \"x\": [1000.0, 1176.0], \"y\": [1400.0, 1293.0], \"mode\": \"lines\", \"line\": {\"width\": 2, \"color\": \"green\"}}, {\"type\": \"scatter\", \"x\": [1000.0, 1042.0], \"y\": [1000.0, 1003.0], \"mode\": \"lines\", \"line\": {\"width\": 2, \"color\": \"red\"}}, {\"type\": \"scatter\", \"x\": [1400.0, 1383.0], \"y\": [600.0, 796.0], \"mode\": \"lines\", \"line\": {\"width\": 2, \"color\": \"green\"}}, {\"type\": \"scatter\", \"x\": [600.0, 357], \"y\": [200.0, 293], \"mode\": \"lines\", \"line\": {\"width\": 2, \"color\": \"green\"}}, {\"type\": \"scatter\", \"x\": [200.0, 16.0], \"y\": [1000.0, 758.0], \"mode\": \"lines\", \"line\": {\"width\": 2, \"color\": \"green\"}}, {\"type\": \"scatter\", \"x\": [1000.0, 603.0], \"y\": [600.0, 796.0], \"mode\": \"lines\", \"line\": {\"width\": 2, \"color\": \"red\"}}, {\"type\": \"scatter\", \"x\": [1000.0, 709.0], \"y\": [1000.0, 968.0], \"mode\": \"lines\", \"line\": {\"width\": 2, \"color\": \"green\"}}, {\"type\": \"scatter\", \"x\": [1400.0, 1504], \"y\": [200.0, 298], \"mode\": \"lines\", \"line\": {\"width\": 2, \"color\": \"green\"}}, {\"type\": \"scatter\", \"x\": [600.0, 591.0], \"y\": [1400.0, 1205.0], \"mode\": \"lines\", \"line\": {\"width\": 2, \"color\": \"green\"}}, {\"type\": \"scatter\", \"x\": [1400.0, 1295.0], \"y\": [600.0, 420.0], \"mode\": \"lines\", \"line\": {\"width\": 2, \"color\": \"green\"}}, {\"type\": \"scatter\", \"x\": [200.0, 528.0], \"y\": [600.0, 556.0], \"mode\": \"lines\", \"line\": {\"width\": 2, \"color\": \"red\"}}, {\"type\": \"scatter\", \"x\": [1400.0, 1446.0], \"y\": [1000.0, 656.0], \"mode\": \"lines\", \"line\": {\"width\": 2, \"color\": \"green\"}}, {\"type\": \"scatter\", \"x\": [600.0, 605.0], \"y\": [200.0, 506.0], \"mode\": \"lines\", \"line\": {\"width\": 2, \"color\": \"red\"}}, {\"type\": \"scatter\", \"x\": [1400.0, 1550], \"y\": [200.0, 148], \"mode\": \"lines\", \"line\": {\"width\": 2, \"color\": \"green\"}}, {\"type\": \"scatter\", \"x\": [1000.0, 961.0], \"y\": [600.0, 920.0], \"mode\": \"lines\", \"line\": {\"width\": 2, \"color\": \"red\"}}, {\"type\": \"scatter\", \"x\": [600.0, 749.0], \"y\": [600.0, 662.0], \"mode\": \"lines\", \"line\": {\"width\": 2, \"color\": \"red\"}}, {\"type\": \"scatter\", \"x\": [1000.0, 693.0], \"y\": [1000.0, 1035.0], \"mode\": \"lines\", \"line\": {\"width\": 2, \"color\": \"red\"}}, {\"type\": \"scatter\", \"x\": [600.0, 605], \"y\": [200.0, 276], \"mode\": \"lines\", \"line\": {\"width\": 2, \"color\": \"green\"}}, {\"type\": \"scatter\", \"x\": [600.0, 703.0], \"y\": [1000.0, 960.0], \"mode\": \"lines\", \"line\": {\"width\": 2, \"color\": \"green\"}}, {\"type\": \"scatter\", \"x\": [200.0, 370.0], \"y\": [200.0, 236.0], \"mode\": \"lines\", \"line\": {\"width\": 2, \"color\": \"green\"}}, {\"type\": \"scatter\", \"x\": [1000.0, 923.0], \"y\": [1000.0, 1158.0], \"mode\": \"lines\", \"line\": {\"width\": 2, \"color\": \"green\"}}, {\"type\": \"scatter\", \"x\": [200.0, 35.0], \"y\": [600.0, 504.0], \"mode\": \"lines\", \"line\": {\"width\": 2, \"color\": \"green\"}}, {\"type\": \"scatter\", \"x\": [1000.0, 861], \"y\": [1000.0, 735], \"mode\": \"lines\", \"line\": {\"width\": 2, \"color\": \"green\"}}, {\"type\": \"scatter\", \"x\": [1400.0, 1028.0], \"y\": [600.0, 375.0], \"mode\": \"lines\", \"line\": {\"width\": 2, \"color\": \"green\"}}, {\"type\": \"scatter\", \"x\": [1000.0, 941.0], \"y\": [600.0, 628.0], \"mode\": \"lines\", \"line\": {\"width\": 2, \"color\": \"red\"}}, {\"type\": \"scatter\", \"x\": [1400.0, 1597.0], \"y\": [1000.0, 1175.0], \"mode\": \"lines\", \"line\": {\"width\": 2, \"color\": \"green\"}}, {\"type\": \"scatter\", \"x\": [600.0, 669.0], \"y\": [600.0, 831.0], \"mode\": \"lines\", \"line\": {\"width\": 2, \"color\": \"red\"}}, {\"type\": \"scatter\", \"x\": [200.0, 271.0], \"y\": [1000.0, 871.0], \"mode\": \"lines\", \"line\": {\"width\": 2, \"color\": \"green\"}}, {\"type\": \"scatter\", \"x\": [1400.0, 1029.0], \"y\": [1400.0, 1575.0], \"mode\": \"lines\", \"line\": {\"width\": 2, \"color\": \"green\"}}, {\"type\": \"scatter\", \"x\": [1000.0, 896], \"y\": [1400.0, 1204], \"mode\": \"lines\", \"line\": {\"width\": 2, \"color\": \"green\"}}, {\"type\": \"scatter\", \"x\": [1400.0, 1527.0], \"y\": [1000.0, 1129.0], \"mode\": \"lines\", \"line\": {\"width\": 2, \"color\": \"green\"}}, {\"type\": \"scatter\", \"x\": [1000.0, 1072.0], \"y\": [600.0, 853.0], \"mode\": \"lines\", \"line\": {\"width\": 2, \"color\": \"red\"}}, {\"type\": \"scatter\", \"x\": [200.0, 584.0], \"y\": [1400.0, 1099.0], \"mode\": \"lines\", \"line\": {\"width\": 2, \"color\": \"green\"}}, {\"type\": \"scatter\", \"x\": [200.0, 216], \"y\": [200.0, 128], \"mode\": \"lines\", \"line\": {\"width\": 2, \"color\": \"green\"}}, {\"type\": \"scatter\", \"x\": [1400.0, 1492.0], \"y\": [1400.0, 1294.0], \"mode\": \"lines\", \"line\": {\"width\": 2, \"color\": \"green\"}}, {\"type\": \"scatter\", \"x\": [1000.0, 1124.0], \"y\": [600.0, 518.0], \"mode\": \"lines\", \"line\": {\"width\": 2, \"color\": \"green\"}}, {\"type\": \"scatter\", \"x\": [600.0, 639], \"y\": [200.0, 121], \"mode\": \"lines\", \"line\": {\"width\": 2, \"color\": \"green\"}}, {\"type\": \"scatter\", \"x\": [1400.0, 1102.0], \"y\": [1400.0, 1059.0], \"mode\": \"lines\", \"line\": {\"width\": 2, \"color\": \"green\"}}, {\"type\": \"scatter\", \"x\": [600.0, 698.0], \"y\": [200.0, 538.0], \"mode\": \"lines\", \"line\": {\"width\": 2, \"color\": \"red\"}}, {\"type\": \"scatter\", \"x\": [1400.0, 1501.0], \"y\": [600.0, 808.0], \"mode\": \"lines\", \"line\": {\"width\": 2, \"color\": \"green\"}}, {\"type\": \"scatter\", \"x\": [1000.0, 966.0], \"y\": [1000.0, 905.0], \"mode\": \"lines\", \"line\": {\"width\": 2, \"color\": \"green\"}}, {\"type\": \"scatter\", \"x\": [1000.0, 922.0], \"y\": [600.0, 637.0], \"mode\": \"lines\", \"line\": {\"width\": 2, \"color\": \"red\"}}, {\"type\": \"scatter\", \"x\": [200.0, 593.0], \"y\": [600.0, 512.0], \"mode\": \"lines\", \"line\": {\"width\": 2, \"color\": \"red\"}}, {\"type\": \"scatter\", \"x\": [200.0, 262], \"y\": [200.0, 169], \"mode\": \"lines\", \"line\": {\"width\": 2, \"color\": \"green\"}}, {\"type\": \"scatter\", \"x\": [1400.0, 1225], \"y\": [200.0, 291], \"mode\": \"lines\", \"line\": {\"width\": 2, \"color\": \"green\"}}, {\"type\": \"scatter\", \"x\": [200.0, 50.0], \"y\": [1000.0, 920.0], \"mode\": \"lines\", \"line\": {\"width\": 2, \"color\": \"green\"}}, {\"type\": \"scatter\", \"x\": [200.0, 47.0], \"y\": [1000.0, 716.0], \"mode\": \"lines\", \"line\": {\"width\": 2, \"color\": \"green\"}}, {\"type\": \"scatter\", \"x\": [1000.0, 1052.0], \"y\": [1000.0, 654.0], \"mode\": \"lines\", \"line\": {\"width\": 2, \"color\": \"green\"}}, {\"type\": \"scatter\", \"x\": [1000.0, 655.0], \"y\": [1000.0, 941.0], \"mode\": \"lines\", \"line\": {\"width\": 2, \"color\": \"red\"}}, {\"type\": \"scatter\", \"x\": [1000.0, 681.0], \"y\": [1000.0, 939.0], \"mode\": \"lines\", \"line\": {\"width\": 2, \"color\": \"red\"}}, {\"type\": \"scatter\", \"x\": [200.0, 203.0], \"y\": [600.0, 556.0], \"mode\": \"lines\", \"line\": {\"width\": 2, \"color\": \"green\"}}, {\"type\": \"scatter\", \"x\": [600.0, 136], \"y\": [200.0, 154], \"mode\": \"lines\", \"line\": {\"width\": 2, \"color\": \"green\"}}, {\"type\": \"scatter\", \"x\": [600.0, 659.0], \"y\": [1400.0, 1205.0], \"mode\": \"lines\", \"line\": {\"width\": 2, \"color\": \"green\"}}, {\"type\": \"scatter\", \"x\": [1000.0, 1030.0], \"y\": [1400.0, 1588.0], \"mode\": \"lines\", \"line\": {\"width\": 2, \"color\": \"green\"}}, {\"type\": \"scatter\", \"x\": [1000.0, 1156.0], \"y\": [1400.0, 1462.0], \"mode\": \"lines\", \"line\": {\"width\": 2, \"color\": \"green\"}}, {\"type\": \"scatter\", \"x\": [1000.0, 924.0], \"y\": [1000.0, 750.0], \"mode\": \"lines\", \"line\": {\"width\": 2, \"color\": \"green\"}}, {\"type\": \"scatter\", \"x\": [600.0, 745.0], \"y\": [200.0, 77.0], \"mode\": \"lines\", \"line\": {\"width\": 2, \"color\": \"green\"}}, {\"type\": \"scatter\", \"x\": [1000.0, 1192.0], \"y\": [1400.0, 1436.0], \"mode\": \"lines\", \"line\": {\"width\": 2, \"color\": \"green\"}}, {\"type\": \"scatter\", \"x\": [1000.0, 1103.0], \"y\": [1000.0, 1064.0], \"mode\": \"lines\", \"line\": {\"width\": 2, \"color\": \"green\"}}, {\"type\": \"scatter\", \"x\": [600.0, 941.0], \"y\": [1400.0, 1504.0], \"mode\": \"lines\", \"line\": {\"width\": 2, \"color\": \"green\"}}, {\"type\": \"scatter\", \"x\": [600.0, 620.0], \"y\": [1400.0, 1197.0], \"mode\": \"lines\", \"line\": {\"width\": 2, \"color\": \"green\"}}, {\"type\": \"scatter\", \"x\": [600.0, 834], \"y\": [200.0, 154], \"mode\": \"lines\", \"line\": {\"width\": 2, \"color\": \"green\"}}, {\"type\": \"scatter\", \"x\": [600.0, 670.0], \"y\": [1400.0, 1074.0], \"mode\": \"lines\", \"line\": {\"width\": 2, \"color\": \"green\"}}, {\"type\": \"scatter\", \"x\": [200.0, 218], \"y\": [600.0, 332], \"mode\": \"lines\", \"line\": {\"width\": 2, \"color\": \"green\"}}, {\"type\": \"scatter\", \"x\": [600.0, 547.0], \"y\": [1000.0, 857.0], \"mode\": \"lines\", \"line\": {\"width\": 2, \"color\": \"green\"}}, {\"type\": \"scatter\", \"x\": [200.0, 121.0], \"y\": [600.0, 445.0], \"mode\": \"lines\", \"line\": {\"width\": 2, \"color\": \"green\"}}, {\"type\": \"scatter\", \"x\": [1000.0, 897], \"y\": [1000.0, 973], \"mode\": \"lines\", \"line\": {\"width\": 2, \"color\": \"red\"}}, {\"type\": \"scatter\", \"x\": [1400.0, 1488.0], \"y\": [200.0, 15.0], \"mode\": \"lines\", \"line\": {\"width\": 2, \"color\": \"green\"}}, {\"type\": \"scatter\", \"x\": [1000.0, 803.0], \"y\": [1000.0, 1120.0], \"mode\": \"lines\", \"line\": {\"width\": 2, \"color\": \"green\"}}, {\"type\": \"scatter\", \"x\": [1400.0, 1184.0], \"y\": [1000.0, 1060.0], \"mode\": \"lines\", \"line\": {\"width\": 2, \"color\": \"green\"}}, {\"type\": \"scatter\", \"x\": [600.0, 615.0], \"y\": [1000.0, 938.0], \"mode\": \"lines\", \"line\": {\"width\": 2, \"color\": \"green\"}}, {\"type\": \"scatter\", \"x\": [1400.0, 1171.0], \"y\": [1000.0, 941.0], \"mode\": \"lines\", \"line\": {\"width\": 2, \"color\": \"green\"}}, {\"type\": \"scatter\", \"x\": [200.0, 273.0], \"y\": [1000.0, 1061.0], \"mode\": \"lines\", \"line\": {\"width\": 2, \"color\": \"green\"}}, {\"type\": \"scatter\", \"x\": [600.0, 539.0], \"y\": [600.0, 815.0], \"mode\": \"lines\", \"line\": {\"width\": 2, \"color\": \"green\"}}, {\"type\": \"scatter\", \"x\": [1000.0, 816], \"y\": [1000.0, 878], \"mode\": \"lines\", \"line\": {\"width\": 2, \"color\": \"red\"}}, {\"type\": \"scatter\", \"x\": [1400.0, 1379.0], \"y\": [1400.0, 1304.0], \"mode\": \"lines\", \"line\": {\"width\": 2, \"color\": \"green\"}}, {\"type\": \"scatter\", \"x\": [600.0, 624.0], \"y\": [1000.0, 782.0], \"mode\": \"lines\", \"line\": {\"width\": 2, \"color\": \"green\"}}, {\"type\": \"scatter\", \"x\": [1000.0, 836], \"y\": [1000.0, 810], \"mode\": \"lines\", \"line\": {\"width\": 2, \"color\": \"red\"}}, {\"type\": \"scatter\", \"x\": [1000.0, 851], \"y\": [1000.0, 723], \"mode\": \"lines\", \"line\": {\"width\": 2, \"color\": \"red\"}}, {\"type\": \"scatter\", \"x\": [600.0, 610.0], \"y\": [600.0, 683.0], \"mode\": \"lines\", \"line\": {\"width\": 2, \"color\": \"red\"}}, {\"type\": \"scatter\", \"x\": [600.0, 840], \"y\": [600.0, 638], \"mode\": \"lines\", \"line\": {\"width\": 2, \"color\": \"red\"}}, {\"type\": \"scatter\", \"x\": [1000.0, 1091.0], \"y\": [200.0, 360.0], \"mode\": \"lines\", \"line\": {\"width\": 2, \"color\": \"green\"}}, {\"type\": \"scatter\", \"x\": [200.0, 445], \"y\": [200.0, 138], \"mode\": \"lines\", \"line\": {\"width\": 2, \"color\": \"green\"}}, {\"type\": \"scatter\", \"x\": [200.0, 87.0], \"y\": [600.0, 686.0], \"mode\": \"lines\", \"line\": {\"width\": 2, \"color\": \"green\"}}, {\"type\": \"scatter\", \"x\": [600.0, 599], \"y\": [200.0, 277], \"mode\": \"lines\", \"line\": {\"width\": 2, \"color\": \"green\"}}, {\"type\": \"scatter\", \"x\": [200.0, 355.0], \"y\": [600.0, 605.0], \"mode\": \"lines\", \"line\": {\"width\": 2, \"color\": \"green\"}}, {\"type\": \"scatter\", \"x\": [200.0, 351.0], \"y\": [1400.0, 1597.0], \"mode\": \"lines\", \"line\": {\"width\": 2, \"color\": \"green\"}}, {\"type\": \"scatter\", \"x\": [1000.0, 1202], \"y\": [200.0, 117], \"mode\": \"lines\", \"line\": {\"width\": 2, \"color\": \"green\"}}, {\"type\": \"scatter\", \"x\": [200.0, 168.0], \"y\": [600.0, 942.0], \"mode\": \"lines\", \"line\": {\"width\": 2, \"color\": \"green\"}}, {\"type\": \"scatter\", \"x\": [1000.0, 766.0], \"y\": [1000.0, 1030.0], \"mode\": \"lines\", \"line\": {\"width\": 2, \"color\": \"red\"}}, {\"type\": \"scatter\", \"x\": [1400.0, 1406.0], \"y\": [1000.0, 615.0], \"mode\": \"lines\", \"line\": {\"width\": 2, \"color\": \"green\"}}, {\"type\": \"scatter\", \"x\": [1400.0, 1389], \"y\": [200.0, 133], \"mode\": \"lines\", \"line\": {\"width\": 2, \"color\": \"green\"}}, {\"type\": \"scatter\", \"x\": [1000.0, 826], \"y\": [1400.0, 1559.0], \"mode\": \"lines\", \"line\": {\"width\": 2, \"color\": \"green\"}}, {\"type\": \"scatter\", \"x\": [1400.0, 1586.0], \"y\": [1400.0, 1047.0], \"mode\": \"lines\", \"line\": {\"width\": 2, \"color\": \"green\"}}, {\"type\": \"scatter\", \"x\": [1000.0, 1064.0], \"y\": [600.0, 801.0], \"mode\": \"lines\", \"line\": {\"width\": 2, \"color\": \"green\"}}, {\"type\": \"scatter\", \"x\": [600.0, 537.0], \"y\": [1400.0, 1096.0], \"mode\": \"lines\", \"line\": {\"width\": 2, \"color\": \"red\"}}, {\"type\": \"scatter\", \"x\": [200.0, 511.0], \"y\": [600.0, 826.0], \"mode\": \"lines\", \"line\": {\"width\": 2, \"color\": \"green\"}}, {\"type\": \"scatter\", \"x\": [600.0, 591.0], \"y\": [1000.0, 963.0], \"mode\": \"lines\", \"line\": {\"width\": 2, \"color\": \"green\"}}, {\"type\": \"scatter\", \"x\": [600.0, 819], \"y\": [600.0, 590], \"mode\": \"lines\", \"line\": {\"width\": 2, \"color\": \"green\"}}, {\"type\": \"scatter\", \"x\": [200.0, 347.0], \"y\": [1000.0, 974.0], \"mode\": \"lines\", \"line\": {\"width\": 2, \"color\": \"green\"}}, {\"type\": \"scatter\", \"x\": [600.0, 794.0], \"y\": [600.0, 551.0], \"mode\": \"lines\", \"line\": {\"width\": 2, \"color\": \"red\"}}, {\"type\": \"scatter\", \"x\": [200.0, 339.0], \"y\": [600.0, 572.0], \"mode\": \"lines\", \"line\": {\"width\": 2, \"color\": \"green\"}}, {\"type\": \"scatter\", \"x\": [1000.0, 840], \"y\": [200.0, 179], \"mode\": \"lines\", \"line\": {\"width\": 2, \"color\": \"green\"}}, {\"type\": \"scatter\", \"x\": [200.0, 83.0], \"y\": [600.0, 903.0], \"mode\": \"lines\", \"line\": {\"width\": 2, \"color\": \"green\"}}, {\"type\": \"scatter\", \"x\": [200.0, 136.0], \"y\": [1000.0, 1083.0], \"mode\": \"lines\", \"line\": {\"width\": 2, \"color\": \"green\"}}, {\"type\": \"scatter\", \"x\": [200.0, 42.0], \"y\": [600.0, 511.0], \"mode\": \"lines\", \"line\": {\"width\": 2, \"color\": \"green\"}}, {\"type\": \"scatter\", \"x\": [200.0, 203.0], \"y\": [1400.0, 1567.0], \"mode\": \"lines\", \"line\": {\"width\": 2, \"color\": \"green\"}}, {\"type\": \"scatter\", \"x\": [200.0, 256.0], \"y\": [600.0, 474.0], \"mode\": \"lines\", \"line\": {\"width\": 2, \"color\": \"green\"}}, {\"type\": \"scatter\", \"x\": [1400.0, 1549.0], \"y\": [600.0, 702.0], \"mode\": \"lines\", \"line\": {\"width\": 2, \"color\": \"green\"}}, {\"type\": \"scatter\", \"x\": [1000.0, 992.0], \"y\": [1400.0, 1550.0], \"mode\": \"lines\", \"line\": {\"width\": 2, \"color\": \"green\"}}, {\"type\": \"scatter\", \"x\": [1400.0, 1596], \"y\": [200.0, 287], \"mode\": \"lines\", \"line\": {\"width\": 2, \"color\": \"green\"}}, {\"type\": \"scatter\", \"x\": [600.0, 861], \"y\": [200.0, 334], \"mode\": \"lines\", \"line\": {\"width\": 2, \"color\": \"green\"}}, {\"type\": \"scatter\", \"x\": [600.0, 411.0], \"y\": [200.0, 32.0], \"mode\": \"lines\", \"line\": {\"width\": 2, \"color\": \"green\"}}, {\"type\": \"scatter\", \"x\": [200.0, 197.0], \"y\": [200.0, 211.0], \"mode\": \"lines\", \"line\": {\"width\": 2, \"color\": \"green\"}}, {\"type\": \"scatter\", \"x\": [1400.0, 1140.0], \"y\": [600.0, 577.0], \"mode\": \"lines\", \"line\": {\"width\": 2, \"color\": \"green\"}}, {\"type\": \"scatter\", \"x\": [600.0, 520.0], \"y\": [1000.0, 951.0], \"mode\": \"lines\", \"line\": {\"width\": 2, \"color\": \"green\"}}, {\"type\": \"scatter\", \"x\": [600.0, 696.0], \"y\": [1400.0, 1240.0], \"mode\": \"lines\", \"line\": {\"width\": 2, \"color\": \"green\"}}, {\"type\": \"scatter\", \"x\": [1400.0, 1385.0], \"y\": [600.0, 597.0], \"mode\": \"lines\", \"line\": {\"width\": 2, \"color\": \"green\"}}, {\"type\": \"scatter\", \"x\": [1400.0, 1238.0], \"y\": [1000.0, 1189.0], \"mode\": \"lines\", \"line\": {\"width\": 2, \"color\": \"green\"}}, {\"type\": \"scatter\", \"x\": [1400.0, 1056.0], \"y\": [1000.0, 993.0], \"mode\": \"lines\", \"line\": {\"width\": 2, \"color\": \"red\"}}, {\"type\": \"scatter\", \"x\": [200.0, 299.0], \"y\": [1400.0, 1507.0], \"mode\": \"lines\", \"line\": {\"width\": 2, \"color\": \"green\"}}, {\"type\": \"scatter\", \"x\": [600.0, 699.0], \"y\": [600.0, 538.0], \"mode\": \"lines\", \"line\": {\"width\": 2, \"color\": \"green\"}}, {\"type\": \"scatter\", \"x\": [600.0, 571.0], \"y\": [1400.0, 1450.0], \"mode\": \"lines\", \"line\": {\"width\": 2, \"color\": \"green\"}}, {\"type\": \"scatter\", \"x\": [1400.0, 1495.0], \"y\": [600.0, 414.0], \"mode\": \"lines\", \"line\": {\"width\": 2, \"color\": \"green\"}}, {\"type\": \"scatter\", \"x\": [200.0, 241.0], \"y\": [600.0, 596.0], \"mode\": \"lines\", \"line\": {\"width\": 2, \"color\": \"green\"}}, {\"type\": \"scatter\", \"x\": [1400.0, 1450.0], \"y\": [600.0, 526.0], \"mode\": \"lines\", \"line\": {\"width\": 2, \"color\": \"green\"}}, {\"type\": \"scatter\", \"x\": [200.0, 173.0], \"y\": [1400.0, 1234.0], \"mode\": \"lines\", \"line\": {\"width\": 2, \"color\": \"green\"}}, {\"type\": \"scatter\", \"x\": [1400.0, 1537.0], \"y\": [1000.0, 960.0], \"mode\": \"lines\", \"line\": {\"width\": 2, \"color\": \"green\"}}, {\"type\": \"scatter\", \"x\": [600.0, 569.0], \"y\": [1000.0, 635.0], \"mode\": \"lines\", \"line\": {\"width\": 2, \"color\": \"green\"}}, {\"type\": \"scatter\", \"x\": [600.0, 681.0], \"y\": [1400.0, 1092.0], \"mode\": \"lines\", \"line\": {\"width\": 2, \"color\": \"red\"}}, {\"type\": \"scatter\", \"x\": [1000.0, 975.0], \"y\": [600.0, 857.0], \"mode\": \"lines\", \"line\": {\"width\": 2, \"color\": \"green\"}}, {\"type\": \"scatter\", \"x\": [1000.0, 947.0], \"y\": [1000.0, 913.0], \"mode\": \"lines\", \"line\": {\"width\": 2, \"color\": \"green\"}}, {\"type\": \"scatter\", \"x\": [200.0, 292.0], \"y\": [1400.0, 1439.0], \"mode\": \"lines\", \"line\": {\"width\": 2, \"color\": \"green\"}}, {\"type\": \"scatter\", \"x\": [600.0, 652.0], \"y\": [1000.0, 725.0], \"mode\": \"lines\", \"line\": {\"width\": 2, \"color\": \"green\"}}, {\"type\": \"scatter\", \"x\": [600.0, 773.0], \"y\": [1000.0, 804.0], \"mode\": \"lines\", \"line\": {\"width\": 2, \"color\": \"green\"}}, {\"type\": \"scatter\", \"x\": [200.0, 134.0], \"y\": [1000.0, 1001.0], \"mode\": \"lines\", \"line\": {\"width\": 2, \"color\": \"green\"}}, {\"type\": \"scatter\", \"x\": [200.0, 157.0], \"y\": [600.0, 745.0], \"mode\": \"lines\", \"line\": {\"width\": 2, \"color\": \"green\"}}, {\"type\": \"scatter\", \"x\": [600.0, 512], \"y\": [200.0, 150], \"mode\": \"lines\", \"line\": {\"width\": 2, \"color\": \"green\"}}, {\"type\": \"scatter\", \"x\": [1000.0, 847], \"y\": [200.0, 0], \"mode\": \"lines\", \"line\": {\"width\": 2, \"color\": \"green\"}}, {\"type\": \"scatter\", \"x\": [1400.0, 1392.0], \"y\": [1000.0, 848.0], \"mode\": \"lines\", \"line\": {\"width\": 2, \"color\": \"green\"}}, {\"type\": \"scatter\", \"x\": [600.0, 524.5041436843038], \"y\": [200.0, 223.33353439038484], \"mode\": \"lines\", \"line\": {\"width\": 2, \"color\": \"green\"}}, {\"type\": \"scatter\", \"x\": [200.0, 222.0], \"y\": [600.0, 632.0], \"mode\": \"lines\", \"line\": {\"width\": 2, \"color\": \"green\"}}, {\"type\": \"scatter\", \"x\": [1000.0, 1177.0], \"y\": [200.0, 381.0], \"mode\": \"lines\", \"line\": {\"width\": 2, \"color\": \"green\"}}, {\"type\": \"scatter\", \"x\": [1400.0, 1362.0], \"y\": [1000.0, 849.0], \"mode\": \"lines\", \"line\": {\"width\": 2, \"color\": \"green\"}}, {\"type\": \"scatter\", \"x\": [600.0, 753.0], \"y\": [1400.0, 1247.0], \"mode\": \"lines\", \"line\": {\"width\": 2, \"color\": \"green\"}}, {\"type\": \"scatter\", \"x\": [1000.0, 829], \"y\": [1000.0, 1282], \"mode\": \"lines\", \"line\": {\"width\": 2, \"color\": \"green\"}}, {\"type\": \"scatter\", \"x\": [200.0, 169.0], \"y\": [1400.0, 1469.0], \"mode\": \"lines\", \"line\": {\"width\": 2, \"color\": \"green\"}}, {\"type\": \"scatter\", \"x\": [600.0, 514.0], \"y\": [600.0, 898.0], \"mode\": \"lines\", \"line\": {\"width\": 2, \"color\": \"red\"}}, {\"type\": \"scatter\", \"x\": [1000.0, 1020.0], \"y\": [600.0, 662.0], \"mode\": \"lines\", \"line\": {\"width\": 2, \"color\": \"red\"}}, {\"type\": \"scatter\", \"x\": [600.0, 600.0], \"y\": [600.0, 674.0], \"mode\": \"lines\", \"line\": {\"width\": 2, \"color\": \"green\"}}, {\"type\": \"scatter\", \"x\": [200.0, 187.0], \"y\": [1400.0, 1419.0], \"mode\": \"lines\", \"line\": {\"width\": 2, \"color\": \"green\"}}, {\"type\": \"scatter\", \"x\": [200.0, 296], \"y\": [200.0, 172], \"mode\": \"lines\", \"line\": {\"width\": 2, \"color\": \"green\"}}, {\"type\": \"scatter\", \"x\": [1400.0, 1590.0], \"y\": [1400.0, 1458.0], \"mode\": \"lines\", \"line\": {\"width\": 2, \"color\": \"green\"}}, {\"type\": \"scatter\", \"x\": [1000.0, 925.0], \"y\": [600.0, 543.0], \"mode\": \"lines\", \"line\": {\"width\": 2, \"color\": \"green\"}}, {\"type\": \"scatter\", \"x\": [600.0, 593.0], \"y\": [1400.0, 1070.0], \"mode\": \"lines\", \"line\": {\"width\": 2, \"color\": \"green\"}}, {\"type\": \"scatter\", \"x\": [600.0, 606.0], \"y\": [1400.0, 1345.0], \"mode\": \"lines\", \"line\": {\"width\": 2, \"color\": \"green\"}}, {\"type\": \"scatter\", \"x\": [1400.0, 1454.0], \"y\": [200.0, 68.0], \"mode\": \"lines\", \"line\": {\"width\": 2, \"color\": \"green\"}}, {\"type\": \"scatter\", \"x\": [1000.0, 799.0], \"y\": [600.0, 549.0], \"mode\": \"lines\", \"line\": {\"width\": 2, \"color\": \"red\"}}, {\"type\": \"scatter\", \"x\": [200.0, 336.0], \"y\": [600.0, 687.0], \"mode\": \"lines\", \"line\": {\"width\": 2, \"color\": \"green\"}}, {\"type\": \"scatter\", \"x\": [600.0, 428.0], \"y\": [1400.0, 1332.0], \"mode\": \"lines\", \"line\": {\"width\": 2, \"color\": \"green\"}}, {\"type\": \"scatter\", \"x\": [1400.0, 1294.0], \"y\": [600.0, 578.0], \"mode\": \"lines\", \"line\": {\"width\": 2, \"color\": \"green\"}}, {\"type\": \"scatter\", \"x\": [1400.0, 1251.0], \"y\": [1000.0, 1153.0], \"mode\": \"lines\", \"line\": {\"width\": 2, \"color\": \"green\"}}, {\"type\": \"scatter\", \"x\": [600.0, 906], \"y\": [600.0, 657], \"mode\": \"lines\", \"line\": {\"width\": 2, \"color\": \"red\"}}, {\"type\": \"scatter\", \"x\": [600.0, 637.0], \"y\": [200.0, 535.0], \"mode\": \"lines\", \"line\": {\"width\": 2, \"color\": \"red\"}}, {\"type\": \"scatter\", \"x\": [1400.0, 1237.0], \"y\": [200.0, 216.0], \"mode\": \"lines\", \"line\": {\"width\": 2, \"color\": \"green\"}}, {\"type\": \"scatter\", \"x\": [200.0, 115], \"y\": [200.0, 101], \"mode\": \"lines\", \"line\": {\"width\": 2, \"color\": \"green\"}}, {\"type\": \"scatter\", \"x\": [1000.0, 649.0], \"y\": [1400.0, 1450.0], \"mode\": \"lines\", \"line\": {\"width\": 2, \"color\": \"green\"}}, {\"type\": \"scatter\", \"x\": [200.0, 302.0], \"y\": [1400.0, 1259.0], \"mode\": \"lines\", \"line\": {\"width\": 2, \"color\": \"green\"}}, {\"type\": \"scatter\", \"x\": [1400.0, 1034.0], \"y\": [1000.0, 1088.0], \"mode\": \"lines\", \"line\": {\"width\": 2, \"color\": \"green\"}}, {\"type\": \"scatter\", \"x\": [1000.0, 1061.0], \"y\": [1000.0, 995.0], \"mode\": \"lines\", \"line\": {\"width\": 2, \"color\": \"red\"}}, {\"type\": \"scatter\", \"x\": [1000.0, 818], \"y\": [1000.0, 774], \"mode\": \"lines\", \"line\": {\"width\": 2, \"color\": \"red\"}}, {\"type\": \"scatter\", \"x\": [1000.0, 959.0], \"y\": [1000.0, 677.0], \"mode\": \"lines\", \"line\": {\"width\": 2, \"color\": \"red\"}}, {\"type\": \"scatter\", \"x\": [1000.0, 987.0], \"y\": [1400.0, 1463.0], \"mode\": \"lines\", \"line\": {\"width\": 2, \"color\": \"green\"}}, {\"type\": \"scatter\", \"x\": [1000.0, 1083.0], \"y\": [1400.0, 1160.0], \"mode\": \"lines\", \"line\": {\"width\": 2, \"color\": \"green\"}}, {\"type\": \"scatter\", \"x\": [1000.0, 987.0], \"y\": [1000.0, 800.0], \"mode\": \"lines\", \"line\": {\"width\": 2, \"color\": \"green\"}}, {\"type\": \"scatter\", \"x\": [1000.0, 1139.0], \"y\": [200.0, 437.0], \"mode\": \"lines\", \"line\": {\"width\": 2, \"color\": \"green\"}}, {\"type\": \"scatter\", \"x\": [1000.0, 1093.0], \"y\": [1000.0, 819.0], \"mode\": \"lines\", \"line\": {\"width\": 2, \"color\": \"red\"}}, {\"type\": \"scatter\", \"x\": [1000.0, 972.0], \"y\": [1000.0, 635.0], \"mode\": \"lines\", \"line\": {\"width\": 2, \"color\": \"red\"}}, {\"type\": \"scatter\", \"x\": [1000.0, 1154.0], \"y\": [200.0, 436.0], \"mode\": \"lines\", \"line\": {\"width\": 2, \"color\": \"green\"}}, {\"type\": \"scatter\", \"x\": [1000.0, 1178.0], \"y\": [600.0, 757.0], \"mode\": \"lines\", \"line\": {\"width\": 2, \"color\": \"green\"}}, {\"type\": \"scatter\", \"x\": [600.0, 450], \"y\": [200.0, 268], \"mode\": \"lines\", \"line\": {\"width\": 2, \"color\": \"green\"}}, {\"type\": \"scatter\", \"x\": [1400.0, 1313.0], \"y\": [1000.0, 861.0], \"mode\": \"lines\", \"line\": {\"width\": 2, \"color\": \"green\"}}, {\"type\": \"scatter\", \"x\": [600.0, 630.0], \"y\": [1400.0, 1382.0], \"mode\": \"lines\", \"line\": {\"width\": 2, \"color\": \"green\"}}, {\"type\": \"scatter\", \"x\": [1000.0, 1133.0], \"y\": [1400.0, 1462.0], \"mode\": \"lines\", \"line\": {\"width\": 2, \"color\": \"green\"}}, {\"type\": \"scatter\", \"x\": [600.0, 732.0], \"y\": [600.0, 778.0], \"mode\": \"lines\", \"line\": {\"width\": 2, \"color\": \"green\"}}, {\"type\": \"scatter\", \"x\": [200.0, 201.0], \"y\": [600.0, 741.0], \"mode\": \"lines\", \"line\": {\"width\": 2, \"color\": \"green\"}}, {\"type\": \"scatter\", \"x\": [600.0, 459], \"y\": [200.0, 139], \"mode\": \"lines\", \"line\": {\"width\": 2, \"color\": \"green\"}}, {\"type\": \"scatter\", \"x\": [600.0, 677.0], \"y\": [600.0, 884.0], \"mode\": \"lines\", \"line\": {\"width\": 2, \"color\": \"red\"}}, {\"type\": \"scatter\", \"x\": [200.0, 246.0], \"y\": [1000.0, 943.0], \"mode\": \"lines\", \"line\": {\"width\": 2, \"color\": \"green\"}}, {\"type\": \"scatter\", \"x\": [1400.0, 1530.0], \"y\": [1000.0, 1119.0], \"mode\": \"lines\", \"line\": {\"width\": 2, \"color\": \"green\"}}, {\"type\": \"scatter\", \"x\": [200.0, 196.0], \"y\": [1000.0, 915.0], \"mode\": \"lines\", \"line\": {\"width\": 2, \"color\": \"green\"}}, {\"type\": \"scatter\", \"x\": [1000.0, 1067.0], \"y\": [600.0, 529.0], \"mode\": \"lines\", \"line\": {\"width\": 2, \"color\": \"green\"}}, {\"type\": \"scatter\", \"x\": [1000.0, 1024], \"y\": [200.0, 145], \"mode\": \"lines\", \"line\": {\"width\": 2, \"color\": \"green\"}}, {\"type\": \"scatter\", \"x\": [200.0, 209.0], \"y\": [1400.0, 1257.0], \"mode\": \"lines\", \"line\": {\"width\": 2, \"color\": \"green\"}}, {\"type\": \"scatter\", \"x\": [200.0, 231.0], \"y\": [1400.0, 1593.0], \"mode\": \"lines\", \"line\": {\"width\": 2, \"color\": \"green\"}}, {\"type\": \"scatter\", \"x\": [1000.0, 845], \"y\": [1000.0, 1226], \"mode\": \"lines\", \"line\": {\"width\": 2, \"color\": \"green\"}}, {\"type\": \"scatter\", \"x\": [1000.0, 630.0], \"y\": [600.0, 629.0], \"mode\": \"lines\", \"line\": {\"width\": 2, \"color\": \"red\"}}, {\"type\": \"scatter\", \"x\": [1000.0, 1118.0], \"y\": [1000.0, 911.0], \"mode\": \"lines\", \"line\": {\"width\": 2, \"color\": \"green\"}}, {\"type\": \"scatter\", \"x\": [812, 812], \"y\": [0, 1600.0], \"mode\": \"lines\", \"line\": {\"width\": 2, \"color\": \"black\"}}, {\"type\": \"scatter\", \"x\": [812, 912], \"y\": [1600.0, 1600.0], \"mode\": \"lines\", \"line\": {\"width\": 2, \"color\": \"black\"}}, {\"type\": \"scatter\", \"x\": [912, 912], \"y\": [1600.0, 0], \"mode\": \"lines\", \"line\": {\"width\": 2, \"color\": \"black\"}}, {\"type\": \"scatter\", \"x\": [812, 912], \"y\": [0, 0], \"mode\": \"lines\", \"line\": {\"width\": 2, \"color\": \"black\"}}, {\"type\": \"scatter\", \"x\": [0, 0], \"y\": [257, 357], \"mode\": \"lines\", \"line\": {\"width\": 2, \"color\": \"black\"}}, {\"type\": \"scatter\", \"x\": [0, 1600.0], \"y\": [357, 357], \"mode\": \"lines\", \"line\": {\"width\": 2, \"color\": \"black\"}}, {\"type\": \"scatter\", \"x\": [1600.0, 1600.0], \"y\": [357, 257], \"mode\": \"lines\", \"line\": {\"width\": 2, \"color\": \"black\"}}, {\"type\": \"scatter\", \"x\": [0, 1600.0], \"y\": [257, 257], \"mode\": \"lines\", \"line\": {\"width\": 2, \"color\": \"black\"}}, {\"type\": \"scatter\", \"x\": [0, 0], \"y\": [85, 185], \"mode\": \"lines\", \"line\": {\"width\": 2, \"color\": \"black\"}}, {\"type\": \"scatter\", \"x\": [0, 1600.0], \"y\": [185, 185], \"mode\": \"lines\", \"line\": {\"width\": 2, \"color\": \"black\"}}, {\"type\": \"scatter\", \"x\": [1600.0, 1600.0], \"y\": [185, 85], \"mode\": \"lines\", \"line\": {\"width\": 2, \"color\": \"black\"}}, {\"type\": \"scatter\", \"x\": [0, 1600.0], \"y\": [85, 85], \"mode\": \"lines\", \"line\": {\"width\": 2, \"color\": \"black\"}}, {\"type\": \"scatter\", \"x\": [465, 465], \"y\": [80, 260], \"mode\": \"lines\", \"line\": {\"width\": 2, \"color\": \"black\"}}, {\"type\": \"scatter\", \"x\": [465, 556], \"y\": [260, 260], \"mode\": \"lines\", \"line\": {\"width\": 2, \"color\": \"black\"}}, {\"type\": \"scatter\", \"x\": [556, 556], \"y\": [260, 80], \"mode\": \"lines\", \"line\": {\"width\": 2, \"color\": \"black\"}}, {\"type\": \"scatter\", \"x\": [465, 556], \"y\": [80, 80], \"mode\": \"lines\", \"line\": {\"width\": 2, \"color\": \"black\"}}, {\"type\": \"scatter\", \"x\": [200.0, 200.0, 200.0, 200.0, 600.0, 600.0, 600.0, 600.0, 1000.0, 1000.0, 1000.0, 1000.0, 1400.0, 1400.0, 1400.0, 1400.0, 951.0, 1167.0, 1176.0, 1042.0, 1383.0, 357, 16.0, 603.0, 709.0, 1504, 591.0, 1295.0, 528.0, 1446.0, 605.0, 1550, 961.0, 749.0, 693.0, 605, 703.0, 370.0, 923.0, 35.0, 861, 1028.0, 941.0, 1597.0, 669.0, 271.0, 1029.0, 896, 1527.0, 1072.0, 584.0, 216, 1492.0, 1124.0, 639, 1102.0, 698.0, 1501.0, 966.0, 922.0, 593.0, 262, 1225, 50.0, 47.0, 1052.0, 655.0, 681.0, 203.0, 136, 659.0, 1030.0, 1156.0, 924.0, 745.0, 1192.0, 1103.0, 941.0, 620.0, 834, 670.0, 218, 547.0, 121.0, 897, 1488.0, 803.0, 1184.0, 615.0, 1171.0, 273.0, 539.0, 816, 1379.0, 624.0, 836, 851, 610.0, 840, 1091.0, 445, 87.0, 599, 355.0, 351.0, 1202, 168.0, 766.0, 1406.0, 1389, 826, 1586.0, 1064.0, 537.0, 511.0, 591.0, 819, 347.0, 794.0, 339.0, 840, 83.0, 136.0, 42.0, 203.0, 256.0, 1549.0, 992.0, 1596, 861, 411.0, 197.0, 1140.0, 520.0, 696.0, 1385.0, 1238.0, 1056.0, 299.0, 699.0, 571.0, 1495.0, 241.0, 1450.0, 173.0, 1537.0, 569.0, 681.0, 975.0, 947.0, 292.0, 652.0, 773.0, 134.0, 157.0, 512, 847, 1392.0, 524.5041436843038, 222.0, 1177.0, 1362.0, 753.0, 829, 169.0, 514.0, 1020.0, 600.0, 187.0, 296, 1590.0, 925.0, 593.0, 606.0, 1454.0, 799.0, 336.0, 428.0, 1294.0, 1251.0, 906, 637.0, 1237.0, 115, 649.0, 302.0, 1034.0, 1061.0, 818, 959.0, 987.0, 1083.0, 987.0, 1139.0, 1093.0, 972.0, 1154.0, 1178.0, 450, 1313.0, 630.0, 1133.0, 732.0, 201.0, 459, 677.0, 246.0, 1530.0, 196.0, 1067.0, 1024, 209.0, 231.0, 845, 630.0, 1118.0, 812, 812, 912, 912, 0, 0, 1600.0, 1600.0, 0, 0, 1600.0, 1600.0, 465, 465, 556, 556], \"y\": [200.0, 600.0, 1000.0, 1400.0, 200.0, 600.0, 1000.0, 1400.0, 200.0, 600.0, 1000.0, 1400.0, 200.0, 600.0, 1000.0, 1400.0, 533.0, 584.0, 1293.0, 1003.0, 796.0, 293, 758.0, 796.0, 968.0, 298, 1205.0, 420.0, 556.0, 656.0, 506.0, 148, 920.0, 662.0, 1035.0, 276, 960.0, 236.0, 1158.0, 504.0, 735, 375.0, 628.0, 1175.0, 831.0, 871.0, 1575.0, 1204, 1129.0, 853.0, 1099.0, 128, 1294.0, 518.0, 121, 1059.0, 538.0, 808.0, 905.0, 637.0, 512.0, 169, 291, 920.0, 716.0, 654.0, 941.0, 939.0, 556.0, 154, 1205.0, 1588.0, 1462.0, 750.0, 77.0, 1436.0, 1064.0, 1504.0, 1197.0, 154, 1074.0, 332, 857.0, 445.0, 973, 15.0, 1120.0, 1060.0, 938.0, 941.0, 1061.0, 815.0, 878, 1304.0, 782.0, 810, 723, 683.0, 638, 360.0, 138, 686.0, 277, 605.0, 1597.0, 117, 942.0, 1030.0, 615.0, 133, 1559.0, 1047.0, 801.0, 1096.0, 826.0, 963.0, 590, 974.0, 551.0, 572.0, 179, 903.0, 1083.0, 511.0, 1567.0, 474.0, 702.0, 1550.0, 287, 334, 32.0, 211.0, 577.0, 951.0, 1240.0, 597.0, 1189.0, 993.0, 1507.0, 538.0, 1450.0, 414.0, 596.0, 526.0, 1234.0, 960.0, 635.0, 1092.0, 857.0, 913.0, 1439.0, 725.0, 804.0, 1001.0, 745.0, 150, 0, 848.0, 223.33353439038484, 632.0, 381.0, 849.0, 1247.0, 1282, 1469.0, 898.0, 662.0, 674.0, 1419.0, 172, 1458.0, 543.0, 1070.0, 1345.0, 68.0, 549.0, 687.0, 1332.0, 578.0, 1153.0, 657, 535.0, 216.0, 101, 1450.0, 1259.0, 1088.0, 995.0, 774, 677.0, 1463.0, 1160.0, 800.0, 437.0, 819.0, 635.0, 436.0, 757.0, 268, 861.0, 1382.0, 1462.0, 778.0, 741.0, 139, 884.0, 943.0, 1119.0, 915.0, 529.0, 145, 1257.0, 1593.0, 1226, 629.0, 911.0, 0, 1600.0, 1600.0, 0, 257, 357, 357, 257, 85, 185, 185, 85, 80, 260, 260, 80], \"mode\": \"markers\", \"marker\": {\"size\": 8, \"color\": [\"orange\", \"orange\", \"orange\", \"orange\", \"orange\", \"orange\", \"orange\", \"orange\", \"orange\", \"orange\", \"orange\", \"orange\", \"orange\", \"orange\", \"orange\", \"orange\", \"blue\", \"magenta\", \"magenta\", \"blue\", \"magenta\", \"magenta\", \"magenta\", \"blue\", \"magenta\", \"magenta\", \"magenta\", \"magenta\", \"blue\", \"magenta\", \"blue\", \"magenta\", \"blue\", \"blue\", \"blue\", \"magenta\", \"blue\", \"magenta\", \"magenta\", \"magenta\", \"magenta\", \"magenta\", \"blue\", \"magenta\", \"blue\", \"magenta\", \"magenta\", \"magenta\", \"magenta\", \"blue\", \"blue\", \"magenta\", \"magenta\", \"magenta\", \"magenta\", \"magenta\", \"blue\", \"magenta\", \"magenta\", \"blue\", \"blue\", \"magenta\", \"magenta\", \"magenta\", \"magenta\", \"magenta\", \"blue\", \"blue\", \"magenta\", \"magenta\", \"magenta\", \"magenta\", \"magenta\", \"magenta\", \"magenta\", \"magenta\", \"magenta\", \"magenta\", \"magenta\", \"magenta\", \"magenta\", \"magenta\", \"blue\", \"magenta\", \"blue\", \"magenta\", \"magenta\", \"magenta\", \"blue\", \"magenta\", \"magenta\", \"magenta\", \"blue\", \"magenta\", \"magenta\", \"blue\", \"blue\", \"blue\", \"blue\", \"magenta\", \"magenta\", \"magenta\", \"magenta\", \"magenta\", \"magenta\", \"magenta\", \"magenta\", \"blue\", \"magenta\", \"magenta\", \"magenta\", \"magenta\", \"magenta\", \"blue\", \"magenta\", \"blue\", \"magenta\", \"magenta\", \"blue\", \"magenta\", \"magenta\", \"magenta\", \"magenta\", \"magenta\", \"magenta\", \"magenta\", \"magenta\", \"magenta\", \"magenta\", \"magenta\", \"magenta\", \"magenta\", \"magenta\", \"blue\", \"magenta\", \"magenta\", \"magenta\", \"blue\", \"magenta\", \"magenta\", \"magenta\", \"magenta\", \"magenta\", \"magenta\", \"magenta\", \"magenta\", \"blue\", \"blue\", \"magenta\", \"magenta\", \"magenta\", \"blue\", \"magenta\", \"magenta\", \"magenta\", \"magenta\", \"magenta\", \"magenta\", \"magenta\", \"magenta\", \"magenta\", \"magenta\", \"magenta\", \"magenta\", \"magenta\", \"blue\", \"blue\", \"magenta\", \"magenta\", \"magenta\", \"magenta\", \"magenta\", \"magenta\", \"magenta\", \"magenta\", \"blue\", \"magenta\", \"magenta\", \"magenta\", \"magenta\", \"blue\", \"blue\", \"magenta\", \"magenta\", \"magenta\", \"magenta\", \"magenta\", \"blue\", \"blue\", \"blue\", \"magenta\", \"magenta\", \"magenta\", \"magenta\", \"blue\", \"blue\", \"magenta\", \"magenta\", \"magenta\", \"magenta\", \"magenta\", \"magenta\", \"magenta\", \"magenta\", \"magenta\", \"blue\", \"magenta\", \"magenta\", \"magenta\", \"magenta\", \"magenta\", \"magenta\", \"magenta\", \"magenta\", \"blue\", \"magenta\", \"black\", \"black\", \"black\", \"black\", \"black\", \"black\", \"black\", \"black\", \"black\", \"black\", \"black\", \"black\", \"black\", \"black\", \"black\", \"black\"]}}]}, {\"data\": [{\"type\": \"scatter\", \"x\": [600.0, 953.0], \"y\": [600.0, 534.0], \"mode\": \"lines\", \"line\": {\"width\": 2, \"color\": \"red\"}}, {\"type\": \"scatter\", \"x\": [1000.0, 1165.0], \"y\": [600.0, 585.0], \"mode\": \"lines\", \"line\": {\"width\": 2, \"color\": \"green\"}}, {\"type\": \"scatter\", \"x\": [1000.0, 1174.0], \"y\": [1400.0, 1293.0], \"mode\": \"lines\", \"line\": {\"width\": 2, \"color\": \"green\"}}, {\"type\": \"scatter\", \"x\": [1000.0, 1042.0], \"y\": [1000.0, 1001.0], \"mode\": \"lines\", \"line\": {\"width\": 2, \"color\": \"red\"}}, {\"type\": \"scatter\", \"x\": [1400.0, 1383.0], \"y\": [600.0, 794.0], \"mode\": \"lines\", \"line\": {\"width\": 2, \"color\": \"green\"}}, {\"type\": \"scatter\", \"x\": [600.0, 317], \"y\": [200.0, 293], \"mode\": \"lines\", \"line\": {\"width\": 2, \"color\": \"green\"}}, {\"type\": \"scatter\", \"x\": [200.0, 16.0], \"y\": [1000.0, 760.0], \"mode\": \"lines\", \"line\": {\"width\": 2, \"color\": \"green\"}}, {\"type\": \"scatter\", \"x\": [1000.0, 601.0], \"y\": [600.0, 796.0], \"mode\": \"lines\", \"line\": {\"width\": 2, \"color\": \"red\"}}, {\"type\": \"scatter\", \"x\": [1000.0, 707.0], \"y\": [1000.0, 968.0], \"mode\": \"lines\", \"line\": {\"width\": 2, \"color\": \"green\"}}, {\"type\": \"scatter\", \"x\": [1400.0, 1556], \"y\": [200.0, 298], \"mode\": \"lines\", \"line\": {\"width\": 2, \"color\": \"green\"}}, {\"type\": \"scatter\", \"x\": [600.0, 591.0], \"y\": [1400.0, 1207.0], \"mode\": \"lines\", \"line\": {\"width\": 2, \"color\": \"green\"}}, {\"type\": \"scatter\", \"x\": [1400.0, 1296.0], \"y\": [600.0, 421.0], \"mode\": \"lines\", \"line\": {\"width\": 2, \"color\": \"green\"}}, {\"type\": \"scatter\", \"x\": [200.0, 526.0], \"y\": [600.0, 557.0], \"mode\": \"lines\", \"line\": {\"width\": 2, \"color\": \"red\"}}, {\"type\": \"scatter\", \"x\": [1400.0, 1444.0], \"y\": [1000.0, 655.0], \"mode\": \"lines\", \"line\": {\"width\": 2, \"color\": \"green\"}}, {\"type\": \"scatter\", \"x\": [600.0, 603.0], \"y\": [200.0, 505.0], \"mode\": \"lines\", \"line\": {\"width\": 2, \"color\": \"red\"}}, {\"type\": \"scatter\", \"x\": [1400.0, 1592], \"y\": [200.0, 148], \"mode\": \"lines\", \"line\": {\"width\": 2, \"color\": \"green\"}}, {\"type\": \"scatter\", \"x\": [1000.0, 959.0], \"y\": [600.0, 919.0], \"mode\": \"lines\", \"line\": {\"width\": 2, \"color\": \"red\"}}, {\"type\": \"scatter\", \"x\": [600.0, 751.0], \"y\": [600.0, 662.0], \"mode\": \"lines\", \"line\": {\"width\": 2, \"color\": \"red\"}}, {\"type\": \"scatter\", \"x\": [1000.0, 695.0], \"y\": [1000.0, 1036.0], \"mode\": \"lines\", \"line\": {\"width\": 2, \"color\": \"red\"}}, {\"type\": \"scatter\", \"x\": [600.0, 582], \"y\": [200.0, 276], \"mode\": \"lines\", \"line\": {\"width\": 2, \"color\": \"green\"}}, {\"type\": \"scatter\", \"x\": [1000.0, 701.0], \"y\": [1000.0, 961.0], \"mode\": \"lines\", \"line\": {\"width\": 2, \"color\": \"red\"}}, {\"type\": \"scatter\", \"x\": [200.0, 371.0], \"y\": [200.0, 234.0], \"mode\": \"lines\", \"line\": {\"width\": 2, \"color\": \"green\"}}, {\"type\": \"scatter\", \"x\": [1000.0, 923.0], \"y\": [1000.0, 1160.0], \"mode\": \"lines\", \"line\": {\"width\": 2, \"color\": \"green\"}}, {\"type\": \"scatter\", \"x\": [200.0, 33.0], \"y\": [600.0, 505.0], \"mode\": \"lines\", \"line\": {\"width\": 2, \"color\": \"green\"}}, {\"type\": \"scatter\", \"x\": [1000.0, 861], \"y\": [1000.0, 685], \"mode\": \"lines\", \"line\": {\"width\": 2, \"color\": \"green\"}}, {\"type\": \"scatter\", \"x\": [1400.0, 1030.0], \"y\": [600.0, 376.0], \"mode\": \"lines\", \"line\": {\"width\": 2, \"color\": \"green\"}}, {\"type\": \"scatter\", \"x\": [1000.0, 942.0], \"y\": [600.0, 626.0], \"mode\": \"lines\", \"line\": {\"width\": 2, \"color\": \"red\"}}, {\"type\": \"scatter\", \"x\": [1400.0, 1596.0], \"y\": [1000.0, 1173.0], \"mode\": \"lines\", \"line\": {\"width\": 2, \"color\": \"green\"}}, {\"type\": \"scatter\", \"x\": [600.0, 669.0], \"y\": [600.0, 833.0], \"mode\": \"lines\", \"line\": {\"width\": 2, \"color\": \"red\"}}, {\"type\": \"scatter\", \"x\": [200.0, 271.0], \"y\": [1000.0, 873.0], \"mode\": \"lines\", \"line\": {\"width\": 2, \"color\": \"green\"}}, {\"type\": \"scatter\", \"x\": [1400.0, 1028.0], \"y\": [1400.0, 1577.0], \"mode\": \"lines\", \"line\": {\"width\": 2, \"color\": \"green\"}}, {\"type\": \"scatter\", \"x\": [1000.0, 896], \"y\": [1400.0, 1171], \"mode\": \"lines\", \"line\": {\"width\": 2, \"color\": \"green\"}}, {\"type\": \"scatter\", \"x\": [1400.0, 1526.0], \"y\": [1000.0, 1127.0], \"mode\": \"lines\", \"line\": {\"width\": 2, \"color\": \"green\"}}, {\"type\": \"scatter\", \"x\": [1000.0, 1070.0], \"y\": [600.0, 854.0], \"mode\": \"lines\", \"line\": {\"width\": 2, \"color\": \"red\"}}, {\"type\": \"scatter\", \"x\": [200.0, 582.0], \"y\": [1400.0, 1098.0], \"mode\": \"lines\", \"line\": {\"width\": 2, \"color\": \"green\"}}, {\"type\": \"scatter\", \"x\": [200.0, 238], \"y\": [200.0, 128], \"mode\": \"lines\", \"line\": {\"width\": 2, \"color\": \"green\"}}, {\"type\": \"scatter\", \"x\": [1400.0, 1491.0], \"y\": [1400.0, 1296.0], \"mode\": \"lines\", \"line\": {\"width\": 2, \"color\": \"green\"}}, {\"type\": \"scatter\", \"x\": [1000.0, 1123.0], \"y\": [600.0, 520.0], \"mode\": \"lines\", \"line\": {\"width\": 2, \"color\": \"green\"}}, {\"type\": \"scatter\", \"x\": [600.0, 586], \"y\": [200.0, 121], \"mode\": \"lines\", \"line\": {\"width\": 2, \"color\": \"green\"}}, {\"type\": \"scatter\", \"x\": [1400.0, 1102.0], \"y\": [1400.0, 1057.0], \"mode\": \"lines\", \"line\": {\"width\": 2, \"color\": \"green\"}}, {\"type\": \"scatter\", \"x\": [600.0, 698.0], \"y\": [200.0, 536.0], \"mode\": \"lines\", \"line\": {\"width\": 2, \"color\": \"red\"}}, {\"type\": \"scatter\", \"x\": [1400.0, 1503.0], \"y\": [600.0, 808.0], \"mode\": \"lines\", \"line\": {\"width\": 2, \"color\": \"green\"}}, {\"type\": \"scatter\", \"x\": [1000.0, 965.0], \"y\": [1000.0, 903.0], \"mode\": \"lines\", \"line\": {\"width\": 2, \"color\": \"green\"}}, {\"type\": \"scatter\", \"x\": [1000.0, 922.0], \"y\": [600.0, 635.0], \"mode\": \"lines\", \"line\": {\"width\": 2, \"color\": \"red\"}}, {\"type\": \"scatter\", \"x\": [200.0, 591.0], \"y\": [600.0, 512.0], \"mode\": \"lines\", \"line\": {\"width\": 2, \"color\": \"red\"}}, {\"type\": \"scatter\", \"x\": [200.0, 305], \"y\": [200.0, 169], \"mode\": \"lines\", \"line\": {\"width\": 2, \"color\": \"green\"}}, {\"type\": \"scatter\", \"x\": [1400.0, 1198], \"y\": [200.0, 291], \"mode\": \"lines\", \"line\": {\"width\": 2, \"color\": \"green\"}}, {\"type\": \"scatter\", \"x\": [200.0, 48.0], \"y\": [1000.0, 920.0], \"mode\": \"lines\", \"line\": {\"width\": 2, \"color\": \"green\"}}, {\"type\": \"scatter\", \"x\": [200.0, 48.0], \"y\": [1000.0, 714.0], \"mode\": \"lines\", \"line\": {\"width\": 2, \"color\": \"green\"}}, {\"type\": \"scatter\", \"x\": [1000.0, 1051.0], \"y\": [1000.0, 655.0], \"mode\": \"lines\", \"line\": {\"width\": 2, \"color\": \"green\"}}, {\"type\": \"scatter\", \"x\": [1000.0, 654.0], \"y\": [1000.0, 939.0], \"mode\": \"lines\", \"line\": {\"width\": 2, \"color\": \"red\"}}, {\"type\": \"scatter\", \"x\": [1000.0, 682.0], \"y\": [1000.0, 937.0], \"mode\": \"lines\", \"line\": {\"width\": 2, \"color\": \"red\"}}, {\"type\": \"scatter\", \"x\": [200.0, 203.0], \"y\": [600.0, 558.0], \"mode\": \"lines\", \"line\": {\"width\": 2, \"color\": \"green\"}}, {\"type\": \"scatter\", \"x\": [600.0, 87], \"y\": [200.0, 154], \"mode\": \"lines\", \"line\": {\"width\": 2, \"color\": \"green\"}}, {\"type\": \"scatter\", \"x\": [600.0, 660.0], \"y\": [1400.0, 1204.0], \"mode\": \"lines\", \"line\": {\"width\": 2, \"color\": \"green\"}}, {\"type\": \"scatter\", \"x\": [1000.0, 1032.0], \"y\": [1400.0, 1588.0], \"mode\": \"lines\", \"line\": {\"width\": 2, \"color\": \"green\"}}, {\"type\": \"scatter\", \"x\": [1000.0, 1154.0], \"y\": [1400.0, 1462.0], \"mode\": \"lines\", \"line\": {\"width\": 2, \"color\": \"green\"}}, {\"type\": \"scatter\", \"x\": [1000.0, 923.0], \"y\": [1000.0, 751.0], \"mode\": \"lines\", \"line\": {\"width\": 2, \"color\": \"green\"}}, {\"type\": \"scatter\", \"x\": [600.0, 746.0], \"y\": [200.0, 79.0], \"mode\": \"lines\", \"line\": {\"width\": 2, \"color\": \"green\"}}, {\"type\": \"scatter\", \"x\": [1000.0, 1194.0], \"y\": [1400.0, 1436.0], \"mode\": \"lines\", \"line\": {\"width\": 2, \"color\": \"green\"}}, {\"type\": \"scatter\", \"x\": [1000.0, 1105.0], \"y\": [1000.0, 1065.0], \"mode\": \"lines\", \"line\": {\"width\": 2, \"color\": \"green\"}}, {\"type\": \"scatter\", \"x\": [600.0, 940.0], \"y\": [1400.0, 1502.0], \"mode\": \"lines\", \"line\": {\"width\": 2, \"color\": \"green\"}}, {\"type\": \"scatter\", \"x\": [600.0, 619.0], \"y\": [1400.0, 1196.0], \"mode\": \"lines\", \"line\": {\"width\": 2, \"color\": \"green\"}}, {\"type\": \"scatter\", \"x\": [600.0, 783], \"y\": [200.0, 154], \"mode\": \"lines\", \"line\": {\"width\": 2, \"color\": \"green\"}}, {\"type\": \"scatter\", \"x\": [600.0, 671.0], \"y\": [1400.0, 1072.0], \"mode\": \"lines\", \"line\": {\"width\": 2, \"color\": \"green\"}}, {\"type\": \"scatter\", \"x\": [200.0, 244], \"y\": [600.0, 332], \"mode\": \"lines\", \"line\": {\"width\": 2, \"color\": \"green\"}}, {\"type\": \"scatter\", \"x\": [600.0, 545.0], \"y\": [1000.0, 857.0], \"mode\": \"lines\", \"line\": {\"width\": 2, \"color\": \"green\"}}, {\"type\": \"scatter\", \"x\": [200.0, 119.0], \"y\": [600.0, 446.0], \"mode\": \"lines\", \"line\": {\"width\": 2, \"color\": \"green\"}}, {\"type\": \"scatter\", \"x\": [1000.0, 897], \"y\": [1000.0, 999], \"mode\": \"lines\", \"line\": {\"width\": 2, \"color\": \"red\"}}, {\"type\": \"scatter\", \"x\": [1400.0, 1487.0], \"y\": [200.0, 13.0], \"mode\": \"lines\", \"line\": {\"width\": 2, \"color\": \"green\"}}, {\"type\": \"scatter\", \"x\": [1000.0, 801.0], \"y\": [1000.0, 1120.0], \"mode\": \"lines\", \"line\": {\"width\": 2, \"color\": \"green\"}}, {\"type\": \"scatter\", \"x\": [1400.0, 1184.0], \"y\": [1000.0, 1058.0], \"mode\": \"lines\", \"line\": {\"width\": 2, \"color\": \"green\"}}, {\"type\": \"scatter\", \"x\": [600.0, 613.0], \"y\": [1000.0, 938.0], \"mode\": \"lines\", \"line\": {\"width\": 2, \"color\": \"green\"}}, {\"type\": \"scatter\", \"x\": [1400.0, 1170.0], \"y\": [1000.0, 942.0], \"mode\": \"lines\", \"line\": {\"width\": 2, \"color\": \"green\"}}, {\"type\": \"scatter\", \"x\": [200.0, 274.0], \"y\": [1000.0, 1063.0], \"mode\": \"lines\", \"line\": {\"width\": 2, \"color\": \"green\"}}, {\"type\": \"scatter\", \"x\": [600.0, 540.0], \"y\": [600.0, 817.0], \"mode\": \"lines\", \"line\": {\"width\": 2, \"color\": \"green\"}}, {\"type\": \"scatter\", \"x\": [1000.0, 816], \"y\": [1000.0, 834], \"mode\": \"lines\", \"line\": {\"width\": 2, \"color\": \"red\"}}, {\"type\": \"scatter\", \"x\": [1400.0, 1377.0], \"y\": [1400.0, 1304.0], \"mode\": \"lines\", \"line\": {\"width\": 2, \"color\": \"green\"}}, {\"type\": \"scatter\", \"x\": [600.0, 625.0], \"y\": [1000.0, 784.0], \"mode\": \"lines\", \"line\": {\"width\": 2, \"color\": \"green\"}}, {\"type\": \"scatter\", \"x\": [1000.0, 836], \"y\": [1000.0, 832], \"mode\": \"lines\", \"line\": {\"width\": 2, \"color\": \"red\"}}, {\"type\": \"scatter\", \"x\": [1000.0, 851], \"y\": [1000.0, 693], \"mode\": \"lines\", \"line\": {\"width\": 2, \"color\": \"red\"}}, {\"type\": \"scatter\", \"x\": [600.0, 608.0], \"y\": [600.0, 684.0], \"mode\": \"lines\", \"line\": {\"width\": 2, \"color\": \"red\"}}, {\"type\": \"scatter\", \"x\": [600.0, 840], \"y\": [600.0, 596], \"mode\": \"lines\", \"line\": {\"width\": 2, \"color\": \"red\"}}, {\"type\": \"scatter\", \"x\": [1000.0, 1091.0], \"y\": [200.0, 358.0], \"mode\": \"lines\", \"line\": {\"width\": 2, \"color\": \"green\"}}, {\"type\": \"scatter\", \"x\": [200.0, 488], \"y\": [200.0, 138], \"mode\": \"lines\", \"line\": {\"width\": 2, \"color\": \"green\"}}, {\"type\": \"scatter\", \"x\": [200.0, 85.0], \"y\": [600.0, 687.0], \"mode\": \"lines\", \"line\": {\"width\": 2, \"color\": \"green\"}}, {\"type\": \"scatter\", \"x\": [600.0, 634], \"y\": [200.0, 277], \"mode\": \"lines\", \"line\": {\"width\": 2, \"color\": \"green\"}}, {\"type\": \"scatter\", \"x\": [200.0, 354.0], \"y\": [600.0, 607.0], \"mode\": \"lines\", \"line\": {\"width\": 2, \"color\": \"green\"}}, {\"type\": \"scatter\", \"x\": [200.0, 350.0], \"y\": [1400.0, 1599.0], \"mode\": \"lines\", \"line\": {\"width\": 2, \"color\": \"green\"}}, {\"type\": \"scatter\", \"x\": [1000.0, 1234], \"y\": [200.0, 117], \"mode\": \"lines\", \"line\": {\"width\": 2, \"color\": \"green\"}}, {\"type\": \"scatter\", \"x\": [200.0, 170.0], \"y\": [600.0, 943.0], \"mode\": \"lines\", \"line\": {\"width\": 2, \"color\": \"green\"}}, {\"type\": \"scatter\", \"x\": [1000.0, 768.0], \"y\": [1000.0, 1029.0], \"mode\": \"lines\", \"line\": {\"width\": 2, \"color\": \"red\"}}, {\"type\": \"scatter\", \"x\": [1400.0, 1405.0], \"y\": [1000.0, 613.0], \"mode\": \"lines\", \"line\": {\"width\": 2, \"color\": \"green\"}}, {\"type\": \"scatter\", \"x\": [1400.0, 1337], \"y\": [200.0, 133], \"mode\": \"lines\", \"line\": {\"width\": 2, \"color\": \"green\"}}, {\"type\": \"scatter\", \"x\": [1000.0, 826], \"y\": [1400.0, 1524.0], \"mode\": \"lines\", \"line\": {\"width\": 2, \"color\": \"green\"}}, {\"type\": \"scatter\", \"x\": [1400.0, 1585.0], \"y\": [1400.0, 1046.0], \"mode\": \"lines\", \"line\": {\"width\": 2, \"color\": \"green\"}}, {\"type\": \"scatter\", \"x\": [1000.0, 1062.0], \"y\": [600.0, 801.0], \"mode\": \"lines\", \"line\": {\"width\": 2, \"color\": \"green\"}}, {\"type\": \"scatter\", \"x\": [600.0, 539.0], \"y\": [1400.0, 1096.0], \"mode\": \"lines\", \"line\": {\"width\": 2, \"color\": \"red\"}}, {\"type\": \"scatter\", \"x\": [200.0, 513.0], \"y\": [600.0, 827.0], \"mode\": \"lines\", \"line\": {\"width\": 2, \"color\": \"green\"}}, {\"type\": \"scatter\", \"x\": [600.0, 589.0], \"y\": [1000.0, 963.0], \"mode\": \"lines\", \"line\": {\"width\": 2, \"color\": \"green\"}}, {\"type\": \"scatter\", \"x\": [600.0, 819], \"y\": [600.0, 640], \"mode\": \"lines\", \"line\": {\"width\": 2, \"color\": \"green\"}}, {\"type\": \"scatter\", \"x\": [200.0, 347.0], \"y\": [1000.0, 972.0], \"mode\": \"lines\", \"line\": {\"width\": 2, \"color\": \"green\"}}, {\"type\": \"scatter\", \"x\": [600.0, 796.0], \"y\": [600.0, 550.0], \"mode\": \"lines\", \"line\": {\"width\": 2, \"color\": \"red\"}}, {\"type\": \"scatter\", \"x\": [200.0, 337.0], \"y\": [600.0, 571.0], \"mode\": \"lines\", \"line\": {\"width\": 2, \"color\": \"green\"}}, {\"type\": \"scatter\", \"x\": [1000.0, 791], \"y\": [200.0, 179], \"mode\": \"lines\", \"line\": {\"width\": 2, \"color\": \"green\"}}, {\"type\": \"scatter\", \"x\": [200.0, 85.0], \"y\": [600.0, 902.0], \"mode\": \"lines\", \"line\": {\"width\": 2, \"color\": \"green\"}}, {\"type\": \"scatter\", \"x\": [200.0, 136.0], \"y\": [1000.0, 1085.0], \"mode\": \"lines\", \"line\": {\"width\": 2, \"color\": \"green\"}}, {\"type\": \"scatter\", \"x\": [200.0, 41.0], \"y\": [600.0, 513.0], \"mode\": \"lines\", \"line\": {\"width\": 2, \"color\": \"green\"}}, {\"type\": \"scatter\", \"x\": [200.0, 204.0], \"y\": [1400.0, 1566.0], \"mode\": \"lines\", \"line\": {\"width\": 2, \"color\": \"green\"}}, {\"type\": \"scatter\", \"x\": [200.0, 258.0], \"y\": [600.0, 473.0], \"mode\": \"lines\", \"line\": {\"width\": 2, \"color\": \"green\"}}, {\"type\": \"scatter\", \"x\": [1400.0, 1551.0], \"y\": [600.0, 703.0], \"mode\": \"lines\", \"line\": {\"width\": 2, \"color\": \"green\"}}, {\"type\": \"scatter\", \"x\": [1000.0, 993.0], \"y\": [1400.0, 1548.0], \"mode\": \"lines\", \"line\": {\"width\": 2, \"color\": \"green\"}}, {\"type\": \"scatter\", \"x\": [1400.0, 1599.0], \"y\": [200.0, 287], \"mode\": \"lines\", \"line\": {\"width\": 2, \"color\": \"green\"}}, {\"type\": \"scatter\", \"x\": [600.0, 909], \"y\": [200.0, 334], \"mode\": \"lines\", \"line\": {\"width\": 2, \"color\": \"green\"}}, {\"type\": \"scatter\", \"x\": [600.0, 409.0], \"y\": [200.0, 33.0], \"mode\": \"lines\", \"line\": {\"width\": 2, \"color\": \"green\"}}, {\"type\": \"scatter\", \"x\": [200.0, 199.0], \"y\": [200.0, 212.0], \"mode\": \"lines\", \"line\": {\"width\": 2, \"color\": \"green\"}}, {\"type\": \"scatter\", \"x\": [1400.0, 1142.0], \"y\": [600.0, 576.0], \"mode\": \"lines\", \"line\": {\"width\": 2, \"color\": \"green\"}}, {\"type\": \"scatter\", \"x\": [600.0, 521.0], \"y\": [1000.0, 949.0], \"mode\": \"lines\", \"line\": {\"width\": 2, \"color\": \"green\"}}, {\"type\": \"scatter\", \"x\": [600.0, 697.0], \"y\": [1400.0, 1242.0], \"mode\": \"lines\", \"line\": {\"width\": 2, \"color\": \"green\"}}, {\"type\": \"scatter\", \"x\": [1400.0, 1384.0], \"y\": [600.0, 599.0], \"mode\": \"lines\", \"line\": {\"width\": 2, \"color\": \"green\"}}, {\"type\": \"scatter\", \"x\": [1400.0, 1236.0], \"y\": [1000.0, 1188.0], \"mode\": \"lines\", \"line\": {\"width\": 2, \"color\": \"green\"}}, {\"type\": \"scatter\", \"x\": [1400.0, 1056.0], \"y\": [1000.0, 991.0], \"mode\": \"lines\", \"line\": {\"width\": 2, \"color\": \"red\"}}, {\"type\": \"scatter\", \"x\": [200.0, 297.0], \"y\": [1400.0, 1506.0], \"mode\": \"lines\", \"line\": {\"width\": 2, \"color\": \"green\"}}, {\"type\": \"scatter\", \"x\": [600.0, 701.0], \"y\": [600.0, 538.0], \"mode\": \"lines\", \"line\": {\"width\": 2, \"color\": \"green\"}}, {\"type\": \"scatter\", \"x\": [600.0, 573.0], \"y\": [1400.0, 1450.0], \"mode\": \"lines\", \"line\": {\"width\": 2, \"color\": \"green\"}}, {\"type\": \"scatter\", \"x\": [1400.0, 1495.0], \"y\": [600.0, 412.0], \"mode\": \"lines\", \"line\": {\"width\": 2, \"color\": \"green\"}}, {\"type\": \"scatter\", \"x\": [200.0, 243.0], \"y\": [600.0, 595.0], \"mode\": \"lines\", \"line\": {\"width\": 2, \"color\": \"green\"}}, {\"type\": \"scatter\", \"x\": [1400.0, 1450.0], \"y\": [600.0, 524.0], \"mode\": \"lines\", \"line\": {\"width\": 2, \"color\": \"green\"}}, {\"type\": \"scatter\", \"x\": [200.0, 172.0], \"y\": [1400.0, 1236.0], \"mode\": \"lines\", \"line\": {\"width\": 2, \"color\": \"green\"}}, {\"type\": \"scatter\", \"x\": [1400.0, 1539.0], \"y\": [1000.0, 960.0], \"mode\": \"lines\", \"line\": {\"width\": 2, \"color\": \"green\"}}, {\"type\": \"scatter\", \"x\": [600.0, 571.0], \"y\": [1000.0, 634.0], \"mode\": \"lines\", \"line\": {\"width\": 2, \"color\": \"green\"}}, {\"type\": \"scatter\", \"x\": [600.0, 683.0], \"y\": [1400.0, 1092.0], \"mode\": \"lines\", \"line\": {\"width\": 2, \"color\": \"red\"}}, {\"type\": \"scatter\", \"x\": [1000.0, 976.0], \"y\": [600.0, 855.0], \"mode\": \"lines\", \"line\": {\"width\": 2, \"color\": \"green\"}}, {\"type\": \"scatter\", \"x\": [1000.0, 948.0], \"y\": [1000.0, 912.0], \"mode\": \"lines\", \"line\": {\"width\": 2, \"color\": \"green\"}}, {\"type\": \"scatter\", \"x\": [200.0, 291.0], \"y\": [1400.0, 1440.0], \"mode\": \"lines\", \"line\": {\"width\": 2, \"color\": \"green\"}}, {\"type\": \"scatter\", \"x\": [600.0, 653.0], \"y\": [1000.0, 723.0], \"mode\": \"lines\", \"line\": {\"width\": 2, \"color\": \"green\"}}, {\"type\": \"scatter\", \"x\": [600.0, 774.0], \"y\": [1000.0, 802.0], \"mode\": \"lines\", \"line\": {\"width\": 2, \"color\": \"green\"}}, {\"type\": \"scatter\", \"x\": [200.0, 134.0], \"y\": [1000.0, 1003.0], \"mode\": \"lines\", \"line\": {\"width\": 2, \"color\": \"green\"}}, {\"type\": \"scatter\", \"x\": [200.0, 156.0], \"y\": [600.0, 743.0], \"mode\": \"lines\", \"line\": {\"width\": 2, \"color\": \"green\"}}, {\"type\": \"scatter\", \"x\": [600.0, 466], \"y\": [200.0, 150], \"mode\": \"lines\", \"line\": {\"width\": 2, \"color\": \"green\"}}, {\"type\": \"scatter\", \"x\": [1000.0, 847], \"y\": [200.0, 22], \"mode\": \"lines\", \"line\": {\"width\": 2, \"color\": \"green\"}}, {\"type\": \"scatter\", \"x\": [1400.0, 1391.0], \"y\": [1000.0, 846.0], \"mode\": \"lines\", \"line\": {\"width\": 2, \"color\": \"green\"}}, {\"type\": \"scatter\", \"x\": [600.0, 525.014224639087], \"y\": [200.0, 224.19366078782156], \"mode\": \"lines\", \"line\": {\"width\": 2, \"color\": \"green\"}}, {\"type\": \"scatter\", \"x\": [200.0, 220.0], \"y\": [600.0, 632.0], \"mode\": \"lines\", \"line\": {\"width\": 2, \"color\": \"green\"}}, {\"type\": \"scatter\", \"x\": [1000.0, 1175.0], \"y\": [200.0, 380.0], \"mode\": \"lines\", \"line\": {\"width\": 2, \"color\": \"green\"}}, {\"type\": \"scatter\", \"x\": [1400.0, 1360.0], \"y\": [1000.0, 848.0], \"mode\": \"lines\", \"line\": {\"width\": 2, \"color\": \"green\"}}, {\"type\": \"scatter\", \"x\": [600.0, 754.0], \"y\": [1400.0, 1246.0], \"mode\": \"lines\", \"line\": {\"width\": 2, \"color\": \"green\"}}, {\"type\": \"scatter\", \"x\": [1000.0, 829], \"y\": [1000.0, 1230], \"mode\": \"lines\", \"line\": {\"width\": 2, \"color\": \"green\"}}, {\"type\": \"scatter\", \"x\": [200.0, 169.0], \"y\": [1400.0, 1467.0], \"mode\": \"lines\", \"line\": {\"width\": 2, \"color\": \"green\"}}, {\"type\": \"scatter\", \"x\": [600.0, 515.0], \"y\": [600.0, 899.0], \"mode\": \"lines\", \"line\": {\"width\": 2, \"color\": \"red\"}}, {\"type\": \"scatter\", \"x\": [1000.0, 1020.0], \"y\": [600.0, 664.0], \"mode\": \"lines\", \"line\": {\"width\": 2, \"color\": \"red\"}}, {\"type\": \"scatter\", \"x\": [600.0, 600.0], \"y\": [600.0, 672.0], \"mode\": \"lines\", \"line\": {\"width\": 2, \"color\": \"green\"}}, {\"type\": \"scatter\", \"x\": [200.0, 186.0], \"y\": [1400.0, 1418.0], \"mode\": \"lines\", \"line\": {\"width\": 2, \"color\": \"green\"}}, {\"type\": \"scatter\", \"x\": [200.0, 336], \"y\": [200.0, 172], \"mode\": \"lines\", \"line\": {\"width\": 2, \"color\": \"green\"}}, {\"type\": \"scatter\", \"x\": [1400.0, 1589.0], \"y\": [1400.0, 1460.0], \"mode\": \"lines\", \"line\": {\"width\": 2, \"color\": \"green\"}}, {\"type\": \"scatter\", \"x\": [1000.0, 927.0], \"y\": [600.0, 544.0], \"mode\": \"lines\", \"line\": {\"width\": 2, \"color\": \"green\"}}, {\"type\": \"scatter\", \"x\": [600.0, 593.0], \"y\": [1400.0, 1068.0], \"mode\": \"lines\", \"line\": {\"width\": 2, \"color\": \"green\"}}, {\"type\": \"scatter\", \"x\": [600.0, 605.0], \"y\": [1400.0, 1343.0], \"mode\": \"lines\", \"line\": {\"width\": 2, \"color\": \"green\"}}, {\"type\": \"scatter\", \"x\": [1400.0, 1453.0], \"y\": [200.0, 70.0], \"mode\": \"lines\", \"line\": {\"width\": 2, \"color\": \"green\"}}, {\"type\": \"scatter\", \"x\": [1000.0, 801.0], \"y\": [600.0, 550.0], \"mode\": \"lines\", \"line\": {\"width\": 2, \"color\": \"red\"}}, {\"type\": \"scatter\", \"x\": [200.0, 337.0], \"y\": [600.0, 689.0], \"mode\": \"lines\", \"line\": {\"width\": 2, \"color\": \"green\"}}, {\"type\": \"scatter\", \"x\": [600.0, 426.0], \"y\": [1400.0, 1331.0], \"mode\": \"lines\", \"line\": {\"width\": 2, \"color\": \"green\"}}, {\"type\": \"scatter\", \"x\": [1400.0, 1296.0], \"y\": [600.0, 578.0], \"mode\": \"lines\", \"line\": {\"width\": 2, \"color\": \"green\"}}, {\"type\": \"scatter\", \"x\": [1400.0, 1251.0], \"y\": [1000.0, 1151.0], \"mode\": \"lines\", \"line\": {\"width\": 2, \"color\": \"green\"}}, {\"type\": \"scatter\", \"x\": [600.0, 906], \"y\": [600.0, 693], \"mode\": \"lines\", \"line\": {\"width\": 2, \"color\": \"red\"}}, {\"type\": \"scatter\", \"x\": [600.0, 637.0], \"y\": [200.0, 533.0], \"mode\": \"lines\", \"line\": {\"width\": 2, \"color\": \"red\"}}, {\"type\": \"scatter\", \"x\": [1400.0, 1239.0], \"y\": [200.0, 217.0], \"mode\": \"lines\", \"line\": {\"width\": 2, \"color\": \"green\"}}, {\"type\": \"scatter\", \"x\": [200.0, 88], \"y\": [200.0, 101], \"mode\": \"lines\", \"line\": {\"width\": 2, \"color\": \"green\"}}, {\"type\": \"scatter\", \"x\": [1000.0, 647.0], \"y\": [1400.0, 1449.0], \"mode\": \"lines\", \"line\": {\"width\": 2, \"color\": \"green\"}}, {\"type\": \"scatter\", \"x\": [200.0, 300.0], \"y\": [1400.0, 1260.0], \"mode\": \"lines\", \"line\": {\"width\": 2, \"color\": \"green\"}}, {\"type\": \"scatter\", \"x\": [1400.0, 1033.0], \"y\": [1000.0, 1086.0], \"mode\": \"lines\", \"line\": {\"width\": 2, \"color\": \"green\"}}, {\"type\": \"scatter\", \"x\": [1000.0, 1062.0], \"y\": [1000.0, 996.0], \"mode\": \"lines\", \"line\": {\"width\": 2, \"color\": \"red\"}}, {\"type\": \"scatter\", \"x\": [1000.0, 818], \"y\": [1000.0, 741], \"mode\": \"lines\", \"line\": {\"width\": 2, \"color\": \"red\"}}, {\"type\": \"scatter\", \"x\": [1000.0, 957.0], \"y\": [1000.0, 677.0], \"mode\": \"lines\", \"line\": {\"width\": 2, \"color\": \"red\"}}, {\"type\": \"scatter\", \"x\": [1000.0, 989.0], \"y\": [1400.0, 1463.0], \"mode\": \"lines\", \"line\": {\"width\": 2, \"color\": \"green\"}}, {\"type\": \"scatter\", \"x\": [1400.0, 1085.0], \"y\": [1000.0, 1161.0], \"mode\": \"lines\", \"line\": {\"width\": 2, \"color\": \"green\"}}, {\"type\": \"scatter\", \"x\": [1000.0, 986.0], \"y\": [1000.0, 798.0], \"mode\": \"lines\", \"line\": {\"width\": 2, \"color\": \"green\"}}, {\"type\": \"scatter\", \"x\": [1000.0, 1139.0], \"y\": [200.0, 435.0], \"mode\": \"lines\", \"line\": {\"width\": 2, \"color\": \"green\"}}, {\"type\": \"scatter\", \"x\": [1000.0, 1091.0], \"y\": [1000.0, 819.0], \"mode\": \"lines\", \"line\": {\"width\": 2, \"color\": \"red\"}}, {\"type\": \"scatter\", \"x\": [1000.0, 971.0], \"y\": [1000.0, 636.0], \"mode\": \"lines\", \"line\": {\"width\": 2, \"color\": \"red\"}}, {\"type\": \"scatter\", \"x\": [1000.0, 1152.0], \"y\": [200.0, 436.0], \"mode\": \"lines\", \"line\": {\"width\": 2, \"color\": \"green\"}}, {\"type\": \"scatter\", \"x\": [1000.0, 1178.0], \"y\": [600.0, 755.0], \"mode\": \"lines\", \"line\": {\"width\": 2, \"color\": \"green\"}}, {\"type\": \"scatter\", \"x\": [600.0, 403], \"y\": [200.0, 268], \"mode\": \"lines\", \"line\": {\"width\": 2, \"color\": \"green\"}}, {\"type\": \"scatter\", \"x\": [1400.0, 1312.0], \"y\": [1000.0, 859.0], \"mode\": \"lines\", \"line\": {\"width\": 2, \"color\": \"green\"}}, {\"type\": \"scatter\", \"x\": [600.0, 629.0], \"y\": [1400.0, 1380.0], \"mode\": \"lines\", \"line\": {\"width\": 2, \"color\": \"green\"}}, {\"type\": \"scatter\", \"x\": [1000.0, 1135.0], \"y\": [1400.0, 1461.0], \"mode\": \"lines\", \"line\": {\"width\": 2, \"color\": \"green\"}}, {\"type\": \"scatter\", \"x\": [600.0, 730.0], \"y\": [600.0, 778.0], \"mode\": \"lines\", \"line\": {\"width\": 2, \"color\": \"green\"}}, {\"type\": \"scatter\", \"x\": [200.0, 202.0], \"y\": [600.0, 739.0], \"mode\": \"lines\", \"line\": {\"width\": 2, \"color\": \"green\"}}, {\"type\": \"scatter\", \"x\": [600.0, 420], \"y\": [200.0, 139], \"mode\": \"lines\", \"line\": {\"width\": 2, \"color\": \"green\"}}, {\"type\": \"scatter\", \"x\": [600.0, 675.0], \"y\": [600.0, 883.0], \"mode\": \"lines\", \"line\": {\"width\": 2, \"color\": \"red\"}}, {\"type\": \"scatter\", \"x\": [200.0, 248.0], \"y\": [1000.0, 943.0], \"mode\": \"lines\", \"line\": {\"width\": 2, \"color\": \"green\"}}, {\"type\": \"scatter\", \"x\": [1400.0, 1531.0], \"y\": [1000.0, 1117.0], \"mode\": \"lines\", \"line\": {\"width\": 2, \"color\": \"green\"}}, {\"type\": \"scatter\", \"x\": [200.0, 194.0], \"y\": [1000.0, 915.0], \"mode\": \"lines\", \"line\": {\"width\": 2, \"color\": \"green\"}}, {\"type\": \"scatter\", \"x\": [1000.0, 1066.0], \"y\": [600.0, 527.0], \"mode\": \"lines\", \"line\": {\"width\": 2, \"color\": \"green\"}}, {\"type\": \"scatter\", \"x\": [1000.0, 968], \"y\": [200.0, 145], \"mode\": \"lines\", \"line\": {\"width\": 2, \"color\": \"green\"}}, {\"type\": \"scatter\", \"x\": [200.0, 210.0], \"y\": [1400.0, 1255.0], \"mode\": \"lines\", \"line\": {\"width\": 2, \"color\": \"green\"}}, {\"type\": \"scatter\", \"x\": [200.0, 232.0], \"y\": [1400.0, 1595.0], \"mode\": \"lines\", \"line\": {\"width\": 2, \"color\": \"green\"}}, {\"type\": \"scatter\", \"x\": [1000.0, 845], \"y\": [1000.0, 1277], \"mode\": \"lines\", \"line\": {\"width\": 2, \"color\": \"green\"}}, {\"type\": \"scatter\", \"x\": [1000.0, 631.0], \"y\": [600.0, 631.0], \"mode\": \"lines\", \"line\": {\"width\": 2, \"color\": \"red\"}}, {\"type\": \"scatter\", \"x\": [1000.0, 1120.0], \"y\": [1000.0, 912.0], \"mode\": \"lines\", \"line\": {\"width\": 2, \"color\": \"green\"}}, {\"type\": \"scatter\", \"x\": [812, 812], \"y\": [0, 1600.0], \"mode\": \"lines\", \"line\": {\"width\": 2, \"color\": \"black\"}}, {\"type\": \"scatter\", \"x\": [812, 912], \"y\": [1600.0, 1600.0], \"mode\": \"lines\", \"line\": {\"width\": 2, \"color\": \"black\"}}, {\"type\": \"scatter\", \"x\": [912, 912], \"y\": [1600.0, 0], \"mode\": \"lines\", \"line\": {\"width\": 2, \"color\": \"black\"}}, {\"type\": \"scatter\", \"x\": [812, 912], \"y\": [0, 0], \"mode\": \"lines\", \"line\": {\"width\": 2, \"color\": \"black\"}}, {\"type\": \"scatter\", \"x\": [0, 0], \"y\": [257, 357], \"mode\": \"lines\", \"line\": {\"width\": 2, \"color\": \"black\"}}, {\"type\": \"scatter\", \"x\": [0, 1600.0], \"y\": [357, 357], \"mode\": \"lines\", \"line\": {\"width\": 2, \"color\": \"black\"}}, {\"type\": \"scatter\", \"x\": [1600.0, 1600.0], \"y\": [357, 257], \"mode\": \"lines\", \"line\": {\"width\": 2, \"color\": \"black\"}}, {\"type\": \"scatter\", \"x\": [0, 1600.0], \"y\": [257, 257], \"mode\": \"lines\", \"line\": {\"width\": 2, \"color\": \"black\"}}, {\"type\": \"scatter\", \"x\": [0, 0], \"y\": [85, 185], \"mode\": \"lines\", \"line\": {\"width\": 2, \"color\": \"black\"}}, {\"type\": \"scatter\", \"x\": [0, 1600.0], \"y\": [185, 185], \"mode\": \"lines\", \"line\": {\"width\": 2, \"color\": \"black\"}}, {\"type\": \"scatter\", \"x\": [1600.0, 1600.0], \"y\": [185, 85], \"mode\": \"lines\", \"line\": {\"width\": 2, \"color\": \"black\"}}, {\"type\": \"scatter\", \"x\": [0, 1600.0], \"y\": [85, 85], \"mode\": \"lines\", \"line\": {\"width\": 2, \"color\": \"black\"}}, {\"type\": \"scatter\", \"x\": [465, 465], \"y\": [80, 260], \"mode\": \"lines\", \"line\": {\"width\": 2, \"color\": \"black\"}}, {\"type\": \"scatter\", \"x\": [465, 556], \"y\": [260, 260], \"mode\": \"lines\", \"line\": {\"width\": 2, \"color\": \"black\"}}, {\"type\": \"scatter\", \"x\": [556, 556], \"y\": [260, 80], \"mode\": \"lines\", \"line\": {\"width\": 2, \"color\": \"black\"}}, {\"type\": \"scatter\", \"x\": [465, 556], \"y\": [80, 80], \"mode\": \"lines\", \"line\": {\"width\": 2, \"color\": \"black\"}}, {\"type\": \"scatter\", \"x\": [200.0, 200.0, 200.0, 200.0, 600.0, 600.0, 600.0, 600.0, 1000.0, 1000.0, 1000.0, 1000.0, 1400.0, 1400.0, 1400.0, 1400.0, 953.0, 1165.0, 1174.0, 1042.0, 1383.0, 317, 16.0, 601.0, 707.0, 1556, 591.0, 1296.0, 526.0, 1444.0, 603.0, 1592, 959.0, 751.0, 695.0, 582, 701.0, 371.0, 923.0, 33.0, 861, 1030.0, 942.0, 1596.0, 669.0, 271.0, 1028.0, 896, 1526.0, 1070.0, 582.0, 238, 1491.0, 1123.0, 586, 1102.0, 698.0, 1503.0, 965.0, 922.0, 591.0, 305, 1198, 48.0, 48.0, 1051.0, 654.0, 682.0, 203.0, 87, 660.0, 1032.0, 1154.0, 923.0, 746.0, 1194.0, 1105.0, 940.0, 619.0, 783, 671.0, 244, 545.0, 119.0, 897, 1487.0, 801.0, 1184.0, 613.0, 1170.0, 274.0, 540.0, 816, 1377.0, 625.0, 836, 851, 608.0, 840, 1091.0, 488, 85.0, 634, 354.0, 350.0, 1234, 170.0, 768.0, 1405.0, 1337, 826, 1585.0, 1062.0, 539.0, 513.0, 589.0, 819, 347.0, 796.0, 337.0, 791, 85.0, 136.0, 41.0, 204.0, 258.0, 1551.0, 993.0, 1599.0, 909, 409.0, 199.0, 1142.0, 521.0, 697.0, 1384.0, 1236.0, 1056.0, 297.0, 701.0, 573.0, 1495.0, 243.0, 1450.0, 172.0, 1539.0, 571.0, 683.0, 976.0, 948.0, 291.0, 653.0, 774.0, 134.0, 156.0, 466, 847, 1391.0, 525.014224639087, 220.0, 1175.0, 1360.0, 754.0, 829, 169.0, 515.0, 1020.0, 600.0, 186.0, 336, 1589.0, 927.0, 593.0, 605.0, 1453.0, 801.0, 337.0, 426.0, 1296.0, 1251.0, 906, 637.0, 1239.0, 88, 647.0, 300.0, 1033.0, 1062.0, 818, 957.0, 989.0, 1085.0, 986.0, 1139.0, 1091.0, 971.0, 1152.0, 1178.0, 403, 1312.0, 629.0, 1135.0, 730.0, 202.0, 420, 675.0, 248.0, 1531.0, 194.0, 1066.0, 968, 210.0, 232.0, 845, 631.0, 1120.0, 812, 812, 912, 912, 0, 0, 1600.0, 1600.0, 0, 0, 1600.0, 1600.0, 465, 465, 556, 556], \"y\": [200.0, 600.0, 1000.0, 1400.0, 200.0, 600.0, 1000.0, 1400.0, 200.0, 600.0, 1000.0, 1400.0, 200.0, 600.0, 1000.0, 1400.0, 534.0, 585.0, 1293.0, 1001.0, 794.0, 293, 760.0, 796.0, 968.0, 298, 1207.0, 421.0, 557.0, 655.0, 505.0, 148, 919.0, 662.0, 1036.0, 276, 961.0, 234.0, 1160.0, 505.0, 685, 376.0, 626.0, 1173.0, 833.0, 873.0, 1577.0, 1171, 1127.0, 854.0, 1098.0, 128, 1296.0, 520.0, 121, 1057.0, 536.0, 808.0, 903.0, 635.0, 512.0, 169, 291, 920.0, 714.0, 655.0, 939.0, 937.0, 558.0, 154, 1204.0, 1588.0, 1462.0, 751.0, 79.0, 1436.0, 1065.0, 1502.0, 1196.0, 154, 1072.0, 332, 857.0, 446.0, 999, 13.0, 1120.0, 1058.0, 938.0, 942.0, 1063.0, 817.0, 834, 1304.0, 784.0, 832, 693, 684.0, 596, 358.0, 138, 687.0, 277, 607.0, 1599.0, 117, 943.0, 1029.0, 613.0, 133, 1524.0, 1046.0, 801.0, 1096.0, 827.0, 963.0, 640, 972.0, 550.0, 571.0, 179, 902.0, 1085.0, 513.0, 1566.0, 473.0, 703.0, 1548.0, 287, 334, 33.0, 212.0, 576.0, 949.0, 1242.0, 599.0, 1188.0, 991.0, 1506.0, 538.0, 1450.0, 412.0, 595.0, 524.0, 1236.0, 960.0, 634.0, 1092.0, 855.0, 912.0, 1440.0, 723.0, 802.0, 1003.0, 743.0, 150, 22, 846.0, 224.19366078782156, 632.0, 380.0, 848.0, 1246.0, 1230, 1467.0, 899.0, 664.0, 672.0, 1418.0, 172, 1460.0, 544.0, 1068.0, 1343.0, 70.0, 550.0, 689.0, 1331.0, 578.0, 1151.0, 693, 533.0, 217.0, 101, 1449.0, 1260.0, 1086.0, 996.0, 741, 677.0, 1463.0, 1161.0, 798.0, 435.0, 819.0, 636.0, 436.0, 755.0, 268, 859.0, 1380.0, 1461.0, 778.0, 739.0, 139, 883.0, 943.0, 1117.0, 915.0, 527.0, 145, 1255.0, 1595.0, 1277, 631.0, 912.0, 0, 1600.0, 1600.0, 0, 257, 357, 357, 257, 85, 185, 185, 85, 80, 260, 260, 80], \"mode\": \"markers\", \"marker\": {\"size\": 8, \"color\": [\"orange\", \"orange\", \"orange\", \"orange\", \"orange\", \"orange\", \"orange\", \"orange\", \"orange\", \"orange\", \"orange\", \"orange\", \"orange\", \"orange\", \"orange\", \"orange\", \"blue\", \"magenta\", \"magenta\", \"blue\", \"magenta\", \"magenta\", \"magenta\", \"blue\", \"magenta\", \"magenta\", \"magenta\", \"magenta\", \"blue\", \"magenta\", \"blue\", \"magenta\", \"blue\", \"blue\", \"blue\", \"magenta\", \"blue\", \"magenta\", \"magenta\", \"magenta\", \"magenta\", \"magenta\", \"blue\", \"magenta\", \"blue\", \"magenta\", \"magenta\", \"magenta\", \"magenta\", \"blue\", \"blue\", \"magenta\", \"magenta\", \"magenta\", \"magenta\", \"magenta\", \"blue\", \"magenta\", \"magenta\", \"blue\", \"blue\", \"magenta\", \"magenta\", \"magenta\", \"magenta\", \"magenta\", \"blue\", \"blue\", \"magenta\", \"magenta\", \"magenta\", \"magenta\", \"magenta\", \"magenta\", \"magenta\", \"magenta\", \"magenta\", \"magenta\", \"magenta\", \"magenta\", \"magenta\", \"magenta\", \"blue\", \"magenta\", \"blue\", \"magenta\", \"magenta\", \"magenta\", \"blue\", \"magenta\", \"magenta\", \"magenta\", \"blue\", \"magenta\", \"magenta\", \"blue\", \"blue\", \"blue\", \"blue\", \"magenta\", \"magenta\", \"magenta\", \"magenta\", \"magenta\", \"magenta\", \"magenta\", \"magenta\", \"blue\", \"magenta\", \"magenta\", \"magenta\", \"magenta\", \"magenta\", \"blue\", \"magenta\", \"blue\", \"magenta\", \"magenta\", \"blue\", \"magenta\", \"magenta\", \"magenta\", \"magenta\", \"magenta\", \"magenta\", \"magenta\", \"magenta\", \"magenta\", \"magenta\", \"magenta\", \"magenta\", \"magenta\", \"magenta\", \"blue\", \"magenta\", \"magenta\", \"magenta\", \"blue\", \"magenta\", \"magenta\", \"magenta\", \"magenta\", \"magenta\", \"magenta\", \"magenta\", \"magenta\", \"blue\", \"blue\", \"magenta\", \"magenta\", \"magenta\", \"blue\", \"magenta\", \"magenta\", \"magenta\", \"magenta\", \"magenta\", \"magenta\", \"magenta\", \"magenta\", \"magenta\", \"magenta\", \"magenta\", \"magenta\", \"magenta\", \"blue\", \"blue\", \"magenta\", \"magenta\", \"magenta\", \"magenta\", \"magenta\", \"magenta\", \"magenta\", \"magenta\", \"blue\", \"magenta\", \"magenta\", \"magenta\", \"magenta\", \"blue\", \"blue\", \"magenta\", \"magenta\", \"magenta\", \"magenta\", \"magenta\", \"blue\", \"blue\", \"blue\", \"magenta\", \"magenta\", \"magenta\", \"magenta\", \"blue\", \"blue\", \"magenta\", \"magenta\", \"magenta\", \"magenta\", \"magenta\", \"magenta\", \"magenta\", \"magenta\", \"magenta\", \"blue\", \"magenta\", \"magenta\", \"magenta\", \"magenta\", \"magenta\", \"magenta\", \"magenta\", \"magenta\", \"blue\", \"magenta\", \"black\", \"black\", \"black\", \"black\", \"black\", \"black\", \"black\", \"black\", \"black\", \"black\", \"black\", \"black\", \"black\", \"black\", \"black\", \"black\"]}}], \"layout\": {\"title\": \"UE and AP Distribution in the grid\"}}]);}).then(function(){Plotly.animate('b535f5df-0537-4d2f-aa43-8cfa99dabc74');})\n",
       "        });</script>"
      ]
     },
     "metadata": {},
     "output_type": "display_data"
    }
   ],
   "source": [
    "figure={\"data\":data_values,\n",
    "        \"layout\": {'xaxis':{'range': [0, 1600], 'title': 'x'},\n",
    "                   'yaxis':{'range': [0, 1600], 'title': 'y'},\n",
    "                   'title':\"UE and AP Distribution in the grid\",\n",
    "                   'height' : 1000,\n",
    "                   'width' :1000,\n",
    "                   'showlegend': False,\n",
    "                   \"shapes\":Rec_dict, \n",
    "                    'updatemenus': [{'type': 'buttons',\n",
    "                                      'buttons': [{'label': 'Play',\n",
    "                                                   'method': 'animate',\n",
    "                                                   'args': [None]}]}]\n",
    "                  },\n",
    "        'frames':Frames_data}\n",
    "  \n",
    "# print(figure)\n",
    "\n",
    "plotly.offline.iplot(figure)"
   ]
  },
  {
   "cell_type": "code",
   "execution_count": 16,
   "metadata": {},
   "outputs": [
    {
     "data": {
      "application/vnd.plotly.v1+json": {
       "data": [
        {
         "name": "Rewards",
         "type": "scatter",
         "x": 5,
         "y": [
          211.75,
          156.25,
          211.5,
          222.5,
          222.75
         ]
        }
       ],
       "layout": {
        "height": 500,
        "showlegend": true,
        "title": "Rewards over time using linear approximation with UE number of 120",
        "width": 800,
        "xaxis": {
         "title": "Episodes"
        },
        "yaxis": {
         "title": "Rewards"
        }
       }
      },
      "text/html": [
       "<div id=\"ca04ffb7-4e3c-4859-92a8-d9fa9f251403\" style=\"height: 500px; width: 800px;\" class=\"plotly-graph-div\"></div><script type=\"text/javascript\">require([\"plotly\"], function(Plotly) { window.PLOTLYENV=window.PLOTLYENV || {};window.PLOTLYENV.BASE_URL=\"https://plot.ly\";Plotly.newPlot(\"ca04ffb7-4e3c-4859-92a8-d9fa9f251403\", [{\"type\": \"scatter\", \"x\": 5, \"y\": [211.75, 156.25, 211.5, 222.5, 222.75], \"name\": \"Rewards\"}], {\"height\": 500, \"width\": 800, \"title\": \"Rewards over time using linear approximation with UE number of 120\", \"xaxis\": {\"title\": \"Episodes\"}, \"yaxis\": {\"title\": \"Rewards\"}, \"showlegend\": true}, {\"showLink\": false, \"linkText\": null})});</script>"
      ],
      "text/vnd.plotly.v1+html": [
       "<div id=\"ca04ffb7-4e3c-4859-92a8-d9fa9f251403\" style=\"height: 500px; width: 800px;\" class=\"plotly-graph-div\"></div><script type=\"text/javascript\">require([\"plotly\"], function(Plotly) { window.PLOTLYENV=window.PLOTLYENV || {};window.PLOTLYENV.BASE_URL=\"https://plot.ly\";Plotly.newPlot(\"ca04ffb7-4e3c-4859-92a8-d9fa9f251403\", [{\"type\": \"scatter\", \"x\": 5, \"y\": [211.75, 156.25, 211.5, 222.5, 222.75], \"name\": \"Rewards\"}], {\"height\": 500, \"width\": 800, \"title\": \"Rewards over time using linear approximation with UE number of 120\", \"xaxis\": {\"title\": \"Episodes\"}, \"yaxis\": {\"title\": \"Rewards\"}, \"showlegend\": true}, {\"showLink\": false, \"linkText\": null})});</script>"
      ]
     },
     "metadata": {},
     "output_type": "display_data"
    }
   ],
   "source": [
    "# Create rewards graph\n",
    "rewards = go.Scatter(\n",
    "    x = len(result_linear.Rewards),\n",
    "    y = result_linear.Rewards,\n",
    "    name='Rewards'\n",
    ")\n",
    "\n",
    "data = [rewards]\n",
    "\n",
    "\n",
    "# Plot and embed in ipython notebook!\n",
    "plotly.offline.iplot(\n",
    "    {\"data\": data,\n",
    "     \"layout\": go.Layout(\n",
    "         height=500,\n",
    "         width=800,\n",
    "         title=\"Rewards over time using linear approximation\",\n",
    "         xaxis=dict(\n",
    "             title='Episodes',\n",
    "         ),\n",
    "         yaxis=dict(\n",
    "             title='Rewards',\n",
    "         ), \n",
    "         showlegend=True)},\n",
    "    show_link=False,\n",
    "    link_text=None)\n",
    "\n",
    "# this plot is for presentation so that each plot is in the same scale\n",
    "# plotly.offline.iplot(\n",
    "#     {\"data\": data,\n",
    "#      \"layout\": {'xaxis':{'range': [0, 301], 'title': 'x'},\n",
    "#                    'yaxis':{'range': [100, 320], 'title': 'y'},\n",
    "#                    'title':\"Rewards over time using Linear approximation\",\n",
    "#                    'height' : 1000,\n",
    "#                    'width' :1000,\n",
    "#                    'showlegend': False,\n",
    "#                   }\n",
    "#     })"
   ]
  },
  {
   "cell_type": "code",
   "execution_count": 17,
   "metadata": {},
   "outputs": [
    {
     "data": {
      "application/vnd.plotly.v1+json": {
       "data": [
        {
         "name": "Handoffs",
         "type": "scatter",
         "x": 5,
         "y": [
          23,
          37,
          6,
          2,
          3
         ]
        }
       ],
       "layout": {
        "height": 500,
        "showlegend": true,
        "title": "Handoffs over time using linear approximation with UE number of 120",
        "width": 800,
        "xaxis": {
         "title": "Episodes"
        },
        "yaxis": {
         "title": "Handoffs"
        }
       }
      },
      "text/html": [
       "<div id=\"9cd35194-572d-4126-b697-9ae5f3b011f8\" style=\"height: 500px; width: 800px;\" class=\"plotly-graph-div\"></div><script type=\"text/javascript\">require([\"plotly\"], function(Plotly) { window.PLOTLYENV=window.PLOTLYENV || {};window.PLOTLYENV.BASE_URL=\"https://plot.ly\";Plotly.newPlot(\"9cd35194-572d-4126-b697-9ae5f3b011f8\", [{\"type\": \"scatter\", \"x\": 5, \"y\": [23.0, 37.0, 6.0, 2.0, 3.0], \"name\": \"Handoffs\"}], {\"height\": 500, \"width\": 800, \"title\": \"Handoffs over time using linear approximation with UE number of 120\", \"xaxis\": {\"title\": \"Episodes\"}, \"yaxis\": {\"title\": \"Handoffs\"}, \"showlegend\": true}, {\"showLink\": false, \"linkText\": null})});</script>"
      ],
      "text/vnd.plotly.v1+html": [
       "<div id=\"9cd35194-572d-4126-b697-9ae5f3b011f8\" style=\"height: 500px; width: 800px;\" class=\"plotly-graph-div\"></div><script type=\"text/javascript\">require([\"plotly\"], function(Plotly) { window.PLOTLYENV=window.PLOTLYENV || {};window.PLOTLYENV.BASE_URL=\"https://plot.ly\";Plotly.newPlot(\"9cd35194-572d-4126-b697-9ae5f3b011f8\", [{\"type\": \"scatter\", \"x\": 5, \"y\": [23.0, 37.0, 6.0, 2.0, 3.0], \"name\": \"Handoffs\"}], {\"height\": 500, \"width\": 800, \"title\": \"Handoffs over time using linear approximation with UE number of 120\", \"xaxis\": {\"title\": \"Episodes\"}, \"yaxis\": {\"title\": \"Handoffs\"}, \"showlegend\": true}, {\"showLink\": false, \"linkText\": null})});</script>"
      ]
     },
     "metadata": {},
     "output_type": "display_data"
    }
   ],
   "source": [
    "# Create handoff graph\n",
    "handoffs = go.Scatter(\n",
    "    x = len(result_linear.Handoffs),\n",
    "    y = result_linear.Handoffs,\n",
    "    name='Handoffs'\n",
    ")\n",
    "\n",
    "data = [handoffs]\n",
    "\n",
    "# Plot and embed in ipython notebook!\n",
    "plotly.offline.iplot(\n",
    "    {\"data\": data,\n",
    "     \"layout\": go.Layout(\n",
    "         height=500,\n",
    "         width=800,\n",
    "         title='Handoffs over time using linear approximation',\n",
    "         xaxis=dict(\n",
    "             title='Episodes',\n",
    "         ),\n",
    "         yaxis=dict(\n",
    "             title='Handoffs'\n",
    "         ), \n",
    "         showlegend=True)},\n",
    "    show_link=False,\n",
    "    link_text=None)"
   ]
  },
  {
   "cell_type": "code",
   "execution_count": 19,
   "metadata": {},
   "outputs": [
    {
     "data": {
      "application/vnd.plotly.v1+json": {
       "data": [
        {
         "name": "UE SLA",
         "type": "scatter",
         "x": 5,
         "y": [
          174,
          159,
          161,
          160,
          160
         ]
        }
       ],
       "layout": {
        "height": 500,
        "showlegend": true,
        "title": "UE's SLA over time using linear approximation with UE number of 120",
        "width": 800,
        "xaxis": {
         "title": "Episodes"
        },
        "yaxis": {
         "title": "UE SLA"
        }
       }
      },
      "text/html": [
       "<div id=\"efaf3f2f-e4ee-411f-874c-30727ebeb8ca\" style=\"height: 500px; width: 800px;\" class=\"plotly-graph-div\"></div><script type=\"text/javascript\">require([\"plotly\"], function(Plotly) { window.PLOTLYENV=window.PLOTLYENV || {};window.PLOTLYENV.BASE_URL=\"https://plot.ly\";Plotly.newPlot(\"efaf3f2f-e4ee-411f-874c-30727ebeb8ca\", [{\"type\": \"scatter\", \"x\": 5, \"y\": [174.0, 159.0, 161.0, 160.0, 160.0], \"name\": \"UE SLA\"}], {\"height\": 500, \"width\": 800, \"title\": \"UE's SLA over time using linear approximation with UE number of 120\", \"xaxis\": {\"title\": \"Episodes\"}, \"yaxis\": {\"title\": \"UE SLA\"}, \"showlegend\": true}, {\"showLink\": false, \"linkText\": null})});</script>"
      ],
      "text/vnd.plotly.v1+html": [
       "<div id=\"efaf3f2f-e4ee-411f-874c-30727ebeb8ca\" style=\"height: 500px; width: 800px;\" class=\"plotly-graph-div\"></div><script type=\"text/javascript\">require([\"plotly\"], function(Plotly) { window.PLOTLYENV=window.PLOTLYENV || {};window.PLOTLYENV.BASE_URL=\"https://plot.ly\";Plotly.newPlot(\"efaf3f2f-e4ee-411f-874c-30727ebeb8ca\", [{\"type\": \"scatter\", \"x\": 5, \"y\": [174.0, 159.0, 161.0, 160.0, 160.0], \"name\": \"UE SLA\"}], {\"height\": 500, \"width\": 800, \"title\": \"UE's SLA over time using linear approximation with UE number of 120\", \"xaxis\": {\"title\": \"Episodes\"}, \"yaxis\": {\"title\": \"UE SLA\"}, \"showlegend\": true}, {\"showLink\": false, \"linkText\": null})});</script>"
      ]
     },
     "metadata": {},
     "output_type": "display_data"
    }
   ],
   "source": [
    "# Create UE graph\n",
    "ue_sla = go.Scatter(\n",
    "    x = len(result_linear.Meets_SLA),\n",
    "    y = result_linear.Meets_SLA,\n",
    "    name='UE SLA'\n",
    ")\n",
    "\n",
    "data = [ue_sla]\n",
    "\n",
    "# Plot and embed in ipython notebook!\n",
    "plotly.offline.iplot(\n",
    "    {\"data\": data,\n",
    "     \"layout\": go.Layout(\n",
    "         height=500,\n",
    "         width=800,\n",
    "         title=\"UE's SLA over time using linear approximation\",\n",
    "         xaxis=dict(\n",
    "             title='Episodes',\n",
    "         ),\n",
    "         yaxis=dict(\n",
    "             title='UE SLA'\n",
    "         ), \n",
    "         showlegend=True)},\n",
    "    show_link=False,\n",
    "    link_text=None)\n",
    "\n",
    "# plotly.offline.iplot(\n",
    "#     {\"data\": data,\n",
    "#      \"layout\": {'xaxis':{'range': [0, 301], 'title': 'x'},\n",
    "#                    'yaxis':{'range': [80, 140], 'title': 'UE SLA'},\n",
    "#                    'title':\"UE's SLA over episodes using Linear approximation\",\n",
    "#                    'height' : 1000,\n",
    "#                    'width' :1000,\n",
    "#                    'showlegend': False,\n",
    "#                   }\n",
    "#     })"
   ]
  },
  {
   "cell_type": "code",
   "execution_count": null,
   "metadata": {},
   "outputs": [],
   "source": []
  },
  {
   "cell_type": "code",
   "execution_count": null,
   "metadata": {},
   "outputs": [],
   "source": []
  }
 ],
 "metadata": {
  "kernelspec": {
   "display_name": "Python 3",
   "language": "python",
   "name": "python3"
  },
  "language_info": {
   "codemirror_mode": {
    "name": "ipython",
    "version": 3
   },
   "file_extension": ".py",
   "mimetype": "text/x-python",
   "name": "python",
   "nbconvert_exporter": "python",
   "pygments_lexer": "ipython3",
   "version": "3.6.5"
  }
 },
 "nbformat": 4,
 "nbformat_minor": 2
}
